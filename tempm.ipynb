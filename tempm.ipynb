{
 "cells": [
  {
   "cell_type": "code",
   "execution_count": 1051,
   "metadata": {},
   "outputs": [],
   "source": [
    "import matplotlib.pyplot as plt\n",
    "import pandas as pd\n",
    "import seaborn as sns\n",
    "import numpy as np\n",
    "import re\n",
    "import json"
   ]
  },
  {
   "cell_type": "code",
   "execution_count": 1052,
   "metadata": {},
   "outputs": [],
   "source": [
    "with open('li2.json','r') as fp:\n",
    "    li2 = json.load(fp)"
   ]
  },
  {
   "cell_type": "code",
   "execution_count": 1053,
   "metadata": {},
   "outputs": [],
   "source": [
    "#li2 is tokenized and cleaned version of words of the sentences"
   ]
  },
  {
   "cell_type": "code",
   "execution_count": 1054,
   "metadata": {},
   "outputs": [
    {
     "data": {
      "text/plain": [
       "['<name>',\n",
       " 'know',\n",
       " 'listenin',\n",
       " 'bad',\n",
       " 'habit',\n",
       " 'earlier',\n",
       " 'start',\n",
       " 'freakin',\n",
       " 'part']"
      ]
     },
     "execution_count": 1054,
     "metadata": {},
     "output_type": "execute_result"
    }
   ],
   "source": [
    "li2[0]"
   ]
  },
  {
   "cell_type": "code",
   "execution_count": 1055,
   "metadata": {},
   "outputs": [
    {
     "data": {
      "text/html": [
       "<div>\n",
       "<style scoped>\n",
       "    .dataframe tbody tr th:only-of-type {\n",
       "        vertical-align: middle;\n",
       "    }\n",
       "\n",
       "    .dataframe tbody tr th {\n",
       "        vertical-align: top;\n",
       "    }\n",
       "\n",
       "    .dataframe thead th {\n",
       "        text-align: right;\n",
       "    }\n",
       "</style>\n",
       "<table border=\"1\" class=\"dataframe\">\n",
       "  <thead>\n",
       "    <tr style=\"text-align: right;\">\n",
       "      <th></th>\n",
       "      <th>0</th>\n",
       "      <th>1</th>\n",
       "      <th>2</th>\n",
       "      <th>3</th>\n",
       "      <th>4</th>\n",
       "      <th>5</th>\n",
       "      <th>6</th>\n",
       "      <th>7</th>\n",
       "      <th>8</th>\n",
       "      <th>9</th>\n",
       "      <th>...</th>\n",
       "      <th>18</th>\n",
       "      <th>19</th>\n",
       "      <th>20</th>\n",
       "      <th>21</th>\n",
       "      <th>22</th>\n",
       "      <th>23</th>\n",
       "      <th>24</th>\n",
       "      <th>25</th>\n",
       "      <th>26</th>\n",
       "      <th>emotion</th>\n",
       "    </tr>\n",
       "  </thead>\n",
       "  <tbody>\n",
       "    <tr>\n",
       "      <th>0</th>\n",
       "      <td>&lt;name&gt;</td>\n",
       "      <td>know</td>\n",
       "      <td>listenin</td>\n",
       "      <td>bad</td>\n",
       "      <td>habit</td>\n",
       "      <td>earlier</td>\n",
       "      <td>start</td>\n",
       "      <td>freakin</td>\n",
       "      <td>part</td>\n",
       "      <td>None</td>\n",
       "      <td>...</td>\n",
       "      <td>None</td>\n",
       "      <td>None</td>\n",
       "      <td>None</td>\n",
       "      <td>None</td>\n",
       "      <td>None</td>\n",
       "      <td>None</td>\n",
       "      <td>None</td>\n",
       "      <td>None</td>\n",
       "      <td>None</td>\n",
       "      <td>empty</td>\n",
       "    </tr>\n",
       "    <tr>\n",
       "      <th>1</th>\n",
       "      <td>layin</td>\n",
       "      <td>n</td>\n",
       "      <td>bed</td>\n",
       "      <td>headache</td>\n",
       "      <td>ugh</td>\n",
       "      <td>waitin</td>\n",
       "      <td>cal</td>\n",
       "      <td>None</td>\n",
       "      <td>None</td>\n",
       "      <td>None</td>\n",
       "      <td>...</td>\n",
       "      <td>None</td>\n",
       "      <td>None</td>\n",
       "      <td>None</td>\n",
       "      <td>None</td>\n",
       "      <td>None</td>\n",
       "      <td>None</td>\n",
       "      <td>None</td>\n",
       "      <td>None</td>\n",
       "      <td>None</td>\n",
       "      <td>sadness</td>\n",
       "    </tr>\n",
       "    <tr>\n",
       "      <th>2</th>\n",
       "      <td>funeral</td>\n",
       "      <td>ceremony</td>\n",
       "      <td>glomy</td>\n",
       "      <td>friday</td>\n",
       "      <td>None</td>\n",
       "      <td>None</td>\n",
       "      <td>None</td>\n",
       "      <td>None</td>\n",
       "      <td>None</td>\n",
       "      <td>None</td>\n",
       "      <td>...</td>\n",
       "      <td>None</td>\n",
       "      <td>None</td>\n",
       "      <td>None</td>\n",
       "      <td>None</td>\n",
       "      <td>None</td>\n",
       "      <td>None</td>\n",
       "      <td>None</td>\n",
       "      <td>None</td>\n",
       "      <td>None</td>\n",
       "      <td>sadness</td>\n",
       "    </tr>\n",
       "    <tr>\n",
       "      <th>3</th>\n",
       "      <td>want</td>\n",
       "      <td>hang</td>\n",
       "      <td>friend</td>\n",
       "      <td>son</td>\n",
       "      <td>None</td>\n",
       "      <td>None</td>\n",
       "      <td>None</td>\n",
       "      <td>None</td>\n",
       "      <td>None</td>\n",
       "      <td>None</td>\n",
       "      <td>...</td>\n",
       "      <td>None</td>\n",
       "      <td>None</td>\n",
       "      <td>None</td>\n",
       "      <td>None</td>\n",
       "      <td>None</td>\n",
       "      <td>None</td>\n",
       "      <td>None</td>\n",
       "      <td>None</td>\n",
       "      <td>None</td>\n",
       "      <td>enthusiasm</td>\n",
       "    </tr>\n",
       "    <tr>\n",
       "      <th>4</th>\n",
       "      <td>&lt;name&gt;</td>\n",
       "      <td>want</td>\n",
       "      <td>trade</td>\n",
       "      <td>someone</td>\n",
       "      <td>houston</td>\n",
       "      <td>ticket</td>\n",
       "      <td>one</td>\n",
       "      <td>wil</td>\n",
       "      <td>None</td>\n",
       "      <td>None</td>\n",
       "      <td>...</td>\n",
       "      <td>None</td>\n",
       "      <td>None</td>\n",
       "      <td>None</td>\n",
       "      <td>None</td>\n",
       "      <td>None</td>\n",
       "      <td>None</td>\n",
       "      <td>None</td>\n",
       "      <td>None</td>\n",
       "      <td>None</td>\n",
       "      <td>neutral</td>\n",
       "    </tr>\n",
       "    <tr>\n",
       "      <th>...</th>\n",
       "      <td>...</td>\n",
       "      <td>...</td>\n",
       "      <td>...</td>\n",
       "      <td>...</td>\n",
       "      <td>...</td>\n",
       "      <td>...</td>\n",
       "      <td>...</td>\n",
       "      <td>...</td>\n",
       "      <td>...</td>\n",
       "      <td>...</td>\n",
       "      <td>...</td>\n",
       "      <td>...</td>\n",
       "      <td>...</td>\n",
       "      <td>...</td>\n",
       "      <td>...</td>\n",
       "      <td>...</td>\n",
       "      <td>...</td>\n",
       "      <td>...</td>\n",
       "      <td>...</td>\n",
       "      <td>...</td>\n",
       "      <td>...</td>\n",
       "    </tr>\n",
       "    <tr>\n",
       "      <th>39995</th>\n",
       "      <td>&lt;name&gt;</td>\n",
       "      <td>None</td>\n",
       "      <td>None</td>\n",
       "      <td>None</td>\n",
       "      <td>None</td>\n",
       "      <td>None</td>\n",
       "      <td>None</td>\n",
       "      <td>None</td>\n",
       "      <td>None</td>\n",
       "      <td>None</td>\n",
       "      <td>...</td>\n",
       "      <td>None</td>\n",
       "      <td>None</td>\n",
       "      <td>None</td>\n",
       "      <td>None</td>\n",
       "      <td>None</td>\n",
       "      <td>None</td>\n",
       "      <td>None</td>\n",
       "      <td>None</td>\n",
       "      <td>None</td>\n",
       "      <td>neutral</td>\n",
       "    </tr>\n",
       "    <tr>\n",
       "      <th>39996</th>\n",
       "      <td>hapy</td>\n",
       "      <td>mother</td>\n",
       "      <td>day</td>\n",
       "      <td>al</td>\n",
       "      <td>love</td>\n",
       "      <td>None</td>\n",
       "      <td>None</td>\n",
       "      <td>None</td>\n",
       "      <td>None</td>\n",
       "      <td>None</td>\n",
       "      <td>...</td>\n",
       "      <td>None</td>\n",
       "      <td>None</td>\n",
       "      <td>None</td>\n",
       "      <td>None</td>\n",
       "      <td>None</td>\n",
       "      <td>None</td>\n",
       "      <td>None</td>\n",
       "      <td>None</td>\n",
       "      <td>None</td>\n",
       "      <td>love</td>\n",
       "    </tr>\n",
       "    <tr>\n",
       "      <th>39997</th>\n",
       "      <td>hapy</td>\n",
       "      <td>mother's</td>\n",
       "      <td>day</td>\n",
       "      <td>al</td>\n",
       "      <td>momies</td>\n",
       "      <td>woman</td>\n",
       "      <td>man</td>\n",
       "      <td>long</td>\n",
       "      <td>moma</td>\n",
       "      <td>someone</td>\n",
       "      <td>...</td>\n",
       "      <td>None</td>\n",
       "      <td>None</td>\n",
       "      <td>None</td>\n",
       "      <td>None</td>\n",
       "      <td>None</td>\n",
       "      <td>None</td>\n",
       "      <td>None</td>\n",
       "      <td>None</td>\n",
       "      <td>None</td>\n",
       "      <td>love</td>\n",
       "    </tr>\n",
       "    <tr>\n",
       "      <th>39998</th>\n",
       "      <td>&lt;name&gt;</td>\n",
       "      <td>wasup</td>\n",
       "      <td>beautiful</td>\n",
       "      <td>folow</td>\n",
       "      <td>pep</td>\n",
       "      <td>new</td>\n",
       "      <td>hit</td>\n",
       "      <td>single</td>\n",
       "      <td>w</td>\n",
       "      <td>myspace</td>\n",
       "      <td>...</td>\n",
       "      <td>None</td>\n",
       "      <td>None</td>\n",
       "      <td>None</td>\n",
       "      <td>None</td>\n",
       "      <td>None</td>\n",
       "      <td>None</td>\n",
       "      <td>None</td>\n",
       "      <td>None</td>\n",
       "      <td>None</td>\n",
       "      <td>happiness</td>\n",
       "    </tr>\n",
       "    <tr>\n",
       "      <th>39999</th>\n",
       "      <td>&lt;name&gt;</td>\n",
       "      <td>bulet</td>\n",
       "      <td>train</td>\n",
       "      <td>tokyo</td>\n",
       "      <td>gf</td>\n",
       "      <td>ben</td>\n",
       "      <td>visit</td>\n",
       "      <td>japan</td>\n",
       "      <td>since</td>\n",
       "      <td>thursday</td>\n",
       "      <td>...</td>\n",
       "      <td>None</td>\n",
       "      <td>None</td>\n",
       "      <td>None</td>\n",
       "      <td>None</td>\n",
       "      <td>None</td>\n",
       "      <td>None</td>\n",
       "      <td>None</td>\n",
       "      <td>None</td>\n",
       "      <td>None</td>\n",
       "      <td>love</td>\n",
       "    </tr>\n",
       "  </tbody>\n",
       "</table>\n",
       "<p>40000 rows × 28 columns</p>\n",
       "</div>"
      ],
      "text/plain": [
       "             0         1          2         3        4        5      6  \\\n",
       "0       <name>      know   listenin       bad    habit  earlier  start   \n",
       "1        layin         n        bed  headache      ugh   waitin    cal   \n",
       "2      funeral  ceremony      glomy    friday     None     None   None   \n",
       "3         want      hang     friend       son     None     None   None   \n",
       "4       <name>      want      trade   someone  houston   ticket    one   \n",
       "...        ...       ...        ...       ...      ...      ...    ...   \n",
       "39995   <name>      None       None      None     None     None   None   \n",
       "39996     hapy    mother        day        al     love     None   None   \n",
       "39997     hapy  mother's        day        al   momies    woman    man   \n",
       "39998   <name>     wasup  beautiful     folow      pep      new    hit   \n",
       "39999   <name>     bulet      train     tokyo       gf      ben  visit   \n",
       "\n",
       "             7      8         9  ...    18    19    20    21    22    23  \\\n",
       "0      freakin   part      None  ...  None  None  None  None  None  None   \n",
       "1         None   None      None  ...  None  None  None  None  None  None   \n",
       "2         None   None      None  ...  None  None  None  None  None  None   \n",
       "3         None   None      None  ...  None  None  None  None  None  None   \n",
       "4          wil   None      None  ...  None  None  None  None  None  None   \n",
       "...        ...    ...       ...  ...   ...   ...   ...   ...   ...   ...   \n",
       "39995     None   None      None  ...  None  None  None  None  None  None   \n",
       "39996     None   None      None  ...  None  None  None  None  None  None   \n",
       "39997     long   moma   someone  ...  None  None  None  None  None  None   \n",
       "39998   single      w   myspace  ...  None  None  None  None  None  None   \n",
       "39999    japan  since  thursday  ...  None  None  None  None  None  None   \n",
       "\n",
       "         24    25    26     emotion  \n",
       "0      None  None  None       empty  \n",
       "1      None  None  None     sadness  \n",
       "2      None  None  None     sadness  \n",
       "3      None  None  None  enthusiasm  \n",
       "4      None  None  None     neutral  \n",
       "...     ...   ...   ...         ...  \n",
       "39995  None  None  None     neutral  \n",
       "39996  None  None  None        love  \n",
       "39997  None  None  None        love  \n",
       "39998  None  None  None   happiness  \n",
       "39999  None  None  None        love  \n",
       "\n",
       "[40000 rows x 28 columns]"
      ]
     },
     "execution_count": 1055,
     "metadata": {},
     "output_type": "execute_result"
    }
   ],
   "source": [
    "oo = pd.DataFrame(li2)\n",
    "df = pd.read_csv('data/tweet_emotions.csv')\n",
    "oo['emotion']=df['sentiment']\n",
    "oo"
   ]
  },
  {
   "cell_type": "code",
   "execution_count": 1056,
   "metadata": {},
   "outputs": [
    {
     "data": {
      "text/html": [
       "<div>\n",
       "<style scoped>\n",
       "    .dataframe tbody tr th:only-of-type {\n",
       "        vertical-align: middle;\n",
       "    }\n",
       "\n",
       "    .dataframe tbody tr th {\n",
       "        vertical-align: top;\n",
       "    }\n",
       "\n",
       "    .dataframe thead th {\n",
       "        text-align: right;\n",
       "    }\n",
       "</style>\n",
       "<table border=\"1\" class=\"dataframe\">\n",
       "  <thead>\n",
       "    <tr style=\"text-align: right;\">\n",
       "      <th></th>\n",
       "      <th>0</th>\n",
       "      <th>1</th>\n",
       "      <th>2</th>\n",
       "      <th>3</th>\n",
       "      <th>4</th>\n",
       "      <th>5</th>\n",
       "      <th>6</th>\n",
       "      <th>7</th>\n",
       "      <th>8</th>\n",
       "      <th>9</th>\n",
       "      <th>...</th>\n",
       "      <th>18</th>\n",
       "      <th>19</th>\n",
       "      <th>20</th>\n",
       "      <th>21</th>\n",
       "      <th>22</th>\n",
       "      <th>23</th>\n",
       "      <th>24</th>\n",
       "      <th>25</th>\n",
       "      <th>26</th>\n",
       "      <th>emotion</th>\n",
       "    </tr>\n",
       "  </thead>\n",
       "  <tbody>\n",
       "    <tr>\n",
       "      <th>0</th>\n",
       "      <td>&lt;name&gt;</td>\n",
       "      <td>know</td>\n",
       "      <td>listenin</td>\n",
       "      <td>bad</td>\n",
       "      <td>habit</td>\n",
       "      <td>earlier</td>\n",
       "      <td>start</td>\n",
       "      <td>freakin</td>\n",
       "      <td>part</td>\n",
       "      <td>None</td>\n",
       "      <td>...</td>\n",
       "      <td>None</td>\n",
       "      <td>None</td>\n",
       "      <td>None</td>\n",
       "      <td>None</td>\n",
       "      <td>None</td>\n",
       "      <td>None</td>\n",
       "      <td>None</td>\n",
       "      <td>None</td>\n",
       "      <td>None</td>\n",
       "      <td>empty</td>\n",
       "    </tr>\n",
       "    <tr>\n",
       "      <th>1</th>\n",
       "      <td>layin</td>\n",
       "      <td>n</td>\n",
       "      <td>bed</td>\n",
       "      <td>headache</td>\n",
       "      <td>ugh</td>\n",
       "      <td>waitin</td>\n",
       "      <td>cal</td>\n",
       "      <td>None</td>\n",
       "      <td>None</td>\n",
       "      <td>None</td>\n",
       "      <td>...</td>\n",
       "      <td>None</td>\n",
       "      <td>None</td>\n",
       "      <td>None</td>\n",
       "      <td>None</td>\n",
       "      <td>None</td>\n",
       "      <td>None</td>\n",
       "      <td>None</td>\n",
       "      <td>None</td>\n",
       "      <td>None</td>\n",
       "      <td>sadness</td>\n",
       "    </tr>\n",
       "    <tr>\n",
       "      <th>2</th>\n",
       "      <td>funeral</td>\n",
       "      <td>ceremony</td>\n",
       "      <td>glomy</td>\n",
       "      <td>friday</td>\n",
       "      <td>None</td>\n",
       "      <td>None</td>\n",
       "      <td>None</td>\n",
       "      <td>None</td>\n",
       "      <td>None</td>\n",
       "      <td>None</td>\n",
       "      <td>...</td>\n",
       "      <td>None</td>\n",
       "      <td>None</td>\n",
       "      <td>None</td>\n",
       "      <td>None</td>\n",
       "      <td>None</td>\n",
       "      <td>None</td>\n",
       "      <td>None</td>\n",
       "      <td>None</td>\n",
       "      <td>None</td>\n",
       "      <td>sadness</td>\n",
       "    </tr>\n",
       "    <tr>\n",
       "      <th>3</th>\n",
       "      <td>want</td>\n",
       "      <td>hang</td>\n",
       "      <td>friend</td>\n",
       "      <td>son</td>\n",
       "      <td>None</td>\n",
       "      <td>None</td>\n",
       "      <td>None</td>\n",
       "      <td>None</td>\n",
       "      <td>None</td>\n",
       "      <td>None</td>\n",
       "      <td>...</td>\n",
       "      <td>None</td>\n",
       "      <td>None</td>\n",
       "      <td>None</td>\n",
       "      <td>None</td>\n",
       "      <td>None</td>\n",
       "      <td>None</td>\n",
       "      <td>None</td>\n",
       "      <td>None</td>\n",
       "      <td>None</td>\n",
       "      <td>enthusiasm</td>\n",
       "    </tr>\n",
       "    <tr>\n",
       "      <th>4</th>\n",
       "      <td>&lt;name&gt;</td>\n",
       "      <td>want</td>\n",
       "      <td>trade</td>\n",
       "      <td>someone</td>\n",
       "      <td>houston</td>\n",
       "      <td>ticket</td>\n",
       "      <td>one</td>\n",
       "      <td>wil</td>\n",
       "      <td>None</td>\n",
       "      <td>None</td>\n",
       "      <td>...</td>\n",
       "      <td>None</td>\n",
       "      <td>None</td>\n",
       "      <td>None</td>\n",
       "      <td>None</td>\n",
       "      <td>None</td>\n",
       "      <td>None</td>\n",
       "      <td>None</td>\n",
       "      <td>None</td>\n",
       "      <td>None</td>\n",
       "      <td>neutral</td>\n",
       "    </tr>\n",
       "    <tr>\n",
       "      <th>...</th>\n",
       "      <td>...</td>\n",
       "      <td>...</td>\n",
       "      <td>...</td>\n",
       "      <td>...</td>\n",
       "      <td>...</td>\n",
       "      <td>...</td>\n",
       "      <td>...</td>\n",
       "      <td>...</td>\n",
       "      <td>...</td>\n",
       "      <td>...</td>\n",
       "      <td>...</td>\n",
       "      <td>...</td>\n",
       "      <td>...</td>\n",
       "      <td>...</td>\n",
       "      <td>...</td>\n",
       "      <td>...</td>\n",
       "      <td>...</td>\n",
       "      <td>...</td>\n",
       "      <td>...</td>\n",
       "      <td>...</td>\n",
       "      <td>...</td>\n",
       "    </tr>\n",
       "    <tr>\n",
       "      <th>39994</th>\n",
       "      <td>sucesfuly</td>\n",
       "      <td>folowing</td>\n",
       "      <td>tayla</td>\n",
       "      <td>None</td>\n",
       "      <td>None</td>\n",
       "      <td>None</td>\n",
       "      <td>None</td>\n",
       "      <td>None</td>\n",
       "      <td>None</td>\n",
       "      <td>None</td>\n",
       "      <td>...</td>\n",
       "      <td>None</td>\n",
       "      <td>None</td>\n",
       "      <td>None</td>\n",
       "      <td>None</td>\n",
       "      <td>None</td>\n",
       "      <td>None</td>\n",
       "      <td>None</td>\n",
       "      <td>None</td>\n",
       "      <td>None</td>\n",
       "      <td>happiness</td>\n",
       "    </tr>\n",
       "    <tr>\n",
       "      <th>39996</th>\n",
       "      <td>hapy</td>\n",
       "      <td>mother</td>\n",
       "      <td>day</td>\n",
       "      <td>al</td>\n",
       "      <td>love</td>\n",
       "      <td>None</td>\n",
       "      <td>None</td>\n",
       "      <td>None</td>\n",
       "      <td>None</td>\n",
       "      <td>None</td>\n",
       "      <td>...</td>\n",
       "      <td>None</td>\n",
       "      <td>None</td>\n",
       "      <td>None</td>\n",
       "      <td>None</td>\n",
       "      <td>None</td>\n",
       "      <td>None</td>\n",
       "      <td>None</td>\n",
       "      <td>None</td>\n",
       "      <td>None</td>\n",
       "      <td>love</td>\n",
       "    </tr>\n",
       "    <tr>\n",
       "      <th>39997</th>\n",
       "      <td>hapy</td>\n",
       "      <td>mother's</td>\n",
       "      <td>day</td>\n",
       "      <td>al</td>\n",
       "      <td>momies</td>\n",
       "      <td>woman</td>\n",
       "      <td>man</td>\n",
       "      <td>long</td>\n",
       "      <td>moma</td>\n",
       "      <td>someone</td>\n",
       "      <td>...</td>\n",
       "      <td>None</td>\n",
       "      <td>None</td>\n",
       "      <td>None</td>\n",
       "      <td>None</td>\n",
       "      <td>None</td>\n",
       "      <td>None</td>\n",
       "      <td>None</td>\n",
       "      <td>None</td>\n",
       "      <td>None</td>\n",
       "      <td>love</td>\n",
       "    </tr>\n",
       "    <tr>\n",
       "      <th>39998</th>\n",
       "      <td>&lt;name&gt;</td>\n",
       "      <td>wasup</td>\n",
       "      <td>beautiful</td>\n",
       "      <td>folow</td>\n",
       "      <td>pep</td>\n",
       "      <td>new</td>\n",
       "      <td>hit</td>\n",
       "      <td>single</td>\n",
       "      <td>w</td>\n",
       "      <td>myspace</td>\n",
       "      <td>...</td>\n",
       "      <td>None</td>\n",
       "      <td>None</td>\n",
       "      <td>None</td>\n",
       "      <td>None</td>\n",
       "      <td>None</td>\n",
       "      <td>None</td>\n",
       "      <td>None</td>\n",
       "      <td>None</td>\n",
       "      <td>None</td>\n",
       "      <td>happiness</td>\n",
       "    </tr>\n",
       "    <tr>\n",
       "      <th>39999</th>\n",
       "      <td>&lt;name&gt;</td>\n",
       "      <td>bulet</td>\n",
       "      <td>train</td>\n",
       "      <td>tokyo</td>\n",
       "      <td>gf</td>\n",
       "      <td>ben</td>\n",
       "      <td>visit</td>\n",
       "      <td>japan</td>\n",
       "      <td>since</td>\n",
       "      <td>thursday</td>\n",
       "      <td>...</td>\n",
       "      <td>None</td>\n",
       "      <td>None</td>\n",
       "      <td>None</td>\n",
       "      <td>None</td>\n",
       "      <td>None</td>\n",
       "      <td>None</td>\n",
       "      <td>None</td>\n",
       "      <td>None</td>\n",
       "      <td>None</td>\n",
       "      <td>love</td>\n",
       "    </tr>\n",
       "  </tbody>\n",
       "</table>\n",
       "<p>39049 rows × 28 columns</p>\n",
       "</div>"
      ],
      "text/plain": [
       "               0         1          2         3        4        5      6  \\\n",
       "0         <name>      know   listenin       bad    habit  earlier  start   \n",
       "1          layin         n        bed  headache      ugh   waitin    cal   \n",
       "2        funeral  ceremony      glomy    friday     None     None   None   \n",
       "3           want      hang     friend       son     None     None   None   \n",
       "4         <name>      want      trade   someone  houston   ticket    one   \n",
       "...          ...       ...        ...       ...      ...      ...    ...   \n",
       "39994  sucesfuly  folowing      tayla      None     None     None   None   \n",
       "39996       hapy    mother        day        al     love     None   None   \n",
       "39997       hapy  mother's        day        al   momies    woman    man   \n",
       "39998     <name>     wasup  beautiful     folow      pep      new    hit   \n",
       "39999     <name>     bulet      train     tokyo       gf      ben  visit   \n",
       "\n",
       "             7      8         9  ...    18    19    20    21    22    23  \\\n",
       "0      freakin   part      None  ...  None  None  None  None  None  None   \n",
       "1         None   None      None  ...  None  None  None  None  None  None   \n",
       "2         None   None      None  ...  None  None  None  None  None  None   \n",
       "3         None   None      None  ...  None  None  None  None  None  None   \n",
       "4          wil   None      None  ...  None  None  None  None  None  None   \n",
       "...        ...    ...       ...  ...   ...   ...   ...   ...   ...   ...   \n",
       "39994     None   None      None  ...  None  None  None  None  None  None   \n",
       "39996     None   None      None  ...  None  None  None  None  None  None   \n",
       "39997     long   moma   someone  ...  None  None  None  None  None  None   \n",
       "39998   single      w   myspace  ...  None  None  None  None  None  None   \n",
       "39999    japan  since  thursday  ...  None  None  None  None  None  None   \n",
       "\n",
       "         24    25    26     emotion  \n",
       "0      None  None  None       empty  \n",
       "1      None  None  None     sadness  \n",
       "2      None  None  None     sadness  \n",
       "3      None  None  None  enthusiasm  \n",
       "4      None  None  None     neutral  \n",
       "...     ...   ...   ...         ...  \n",
       "39994  None  None  None   happiness  \n",
       "39996  None  None  None        love  \n",
       "39997  None  None  None        love  \n",
       "39998  None  None  None   happiness  \n",
       "39999  None  None  None        love  \n",
       "\n",
       "[39049 rows x 28 columns]"
      ]
     },
     "execution_count": 1056,
     "metadata": {},
     "output_type": "execute_result"
    }
   ],
   "source": [
    "# droping the duplicates\n",
    "oon = oo.drop_duplicates()\n",
    "oon"
   ]
  },
  {
   "cell_type": "code",
   "execution_count": 1057,
   "metadata": {},
   "outputs": [
    {
     "data": {
      "text/html": [
       "<div>\n",
       "<style scoped>\n",
       "    .dataframe tbody tr th:only-of-type {\n",
       "        vertical-align: middle;\n",
       "    }\n",
       "\n",
       "    .dataframe tbody tr th {\n",
       "        vertical-align: top;\n",
       "    }\n",
       "\n",
       "    .dataframe thead th {\n",
       "        text-align: right;\n",
       "    }\n",
       "</style>\n",
       "<table border=\"1\" class=\"dataframe\">\n",
       "  <thead>\n",
       "    <tr style=\"text-align: right;\">\n",
       "      <th></th>\n",
       "      <th>0</th>\n",
       "      <th>1</th>\n",
       "      <th>2</th>\n",
       "      <th>3</th>\n",
       "      <th>4</th>\n",
       "      <th>5</th>\n",
       "      <th>6</th>\n",
       "      <th>7</th>\n",
       "      <th>8</th>\n",
       "      <th>9</th>\n",
       "      <th>...</th>\n",
       "      <th>17</th>\n",
       "      <th>18</th>\n",
       "      <th>19</th>\n",
       "      <th>20</th>\n",
       "      <th>21</th>\n",
       "      <th>22</th>\n",
       "      <th>23</th>\n",
       "      <th>24</th>\n",
       "      <th>25</th>\n",
       "      <th>26</th>\n",
       "    </tr>\n",
       "  </thead>\n",
       "  <tbody>\n",
       "    <tr>\n",
       "      <th>0</th>\n",
       "      <td>&lt;name&gt;</td>\n",
       "      <td>know</td>\n",
       "      <td>listenin</td>\n",
       "      <td>bad</td>\n",
       "      <td>habit</td>\n",
       "      <td>earlier</td>\n",
       "      <td>start</td>\n",
       "      <td>freakin</td>\n",
       "      <td>part</td>\n",
       "      <td>None</td>\n",
       "      <td>...</td>\n",
       "      <td>None</td>\n",
       "      <td>None</td>\n",
       "      <td>None</td>\n",
       "      <td>None</td>\n",
       "      <td>None</td>\n",
       "      <td>None</td>\n",
       "      <td>None</td>\n",
       "      <td>None</td>\n",
       "      <td>None</td>\n",
       "      <td>None</td>\n",
       "    </tr>\n",
       "    <tr>\n",
       "      <th>1</th>\n",
       "      <td>layin</td>\n",
       "      <td>n</td>\n",
       "      <td>bed</td>\n",
       "      <td>headache</td>\n",
       "      <td>ugh</td>\n",
       "      <td>waitin</td>\n",
       "      <td>cal</td>\n",
       "      <td>None</td>\n",
       "      <td>None</td>\n",
       "      <td>None</td>\n",
       "      <td>...</td>\n",
       "      <td>None</td>\n",
       "      <td>None</td>\n",
       "      <td>None</td>\n",
       "      <td>None</td>\n",
       "      <td>None</td>\n",
       "      <td>None</td>\n",
       "      <td>None</td>\n",
       "      <td>None</td>\n",
       "      <td>None</td>\n",
       "      <td>None</td>\n",
       "    </tr>\n",
       "    <tr>\n",
       "      <th>2</th>\n",
       "      <td>funeral</td>\n",
       "      <td>ceremony</td>\n",
       "      <td>glomy</td>\n",
       "      <td>friday</td>\n",
       "      <td>None</td>\n",
       "      <td>None</td>\n",
       "      <td>None</td>\n",
       "      <td>None</td>\n",
       "      <td>None</td>\n",
       "      <td>None</td>\n",
       "      <td>...</td>\n",
       "      <td>None</td>\n",
       "      <td>None</td>\n",
       "      <td>None</td>\n",
       "      <td>None</td>\n",
       "      <td>None</td>\n",
       "      <td>None</td>\n",
       "      <td>None</td>\n",
       "      <td>None</td>\n",
       "      <td>None</td>\n",
       "      <td>None</td>\n",
       "    </tr>\n",
       "    <tr>\n",
       "      <th>3</th>\n",
       "      <td>want</td>\n",
       "      <td>hang</td>\n",
       "      <td>friend</td>\n",
       "      <td>son</td>\n",
       "      <td>None</td>\n",
       "      <td>None</td>\n",
       "      <td>None</td>\n",
       "      <td>None</td>\n",
       "      <td>None</td>\n",
       "      <td>None</td>\n",
       "      <td>...</td>\n",
       "      <td>None</td>\n",
       "      <td>None</td>\n",
       "      <td>None</td>\n",
       "      <td>None</td>\n",
       "      <td>None</td>\n",
       "      <td>None</td>\n",
       "      <td>None</td>\n",
       "      <td>None</td>\n",
       "      <td>None</td>\n",
       "      <td>None</td>\n",
       "    </tr>\n",
       "    <tr>\n",
       "      <th>4</th>\n",
       "      <td>&lt;name&gt;</td>\n",
       "      <td>want</td>\n",
       "      <td>trade</td>\n",
       "      <td>someone</td>\n",
       "      <td>houston</td>\n",
       "      <td>ticket</td>\n",
       "      <td>one</td>\n",
       "      <td>wil</td>\n",
       "      <td>None</td>\n",
       "      <td>None</td>\n",
       "      <td>...</td>\n",
       "      <td>None</td>\n",
       "      <td>None</td>\n",
       "      <td>None</td>\n",
       "      <td>None</td>\n",
       "      <td>None</td>\n",
       "      <td>None</td>\n",
       "      <td>None</td>\n",
       "      <td>None</td>\n",
       "      <td>None</td>\n",
       "      <td>None</td>\n",
       "    </tr>\n",
       "    <tr>\n",
       "      <th>...</th>\n",
       "      <td>...</td>\n",
       "      <td>...</td>\n",
       "      <td>...</td>\n",
       "      <td>...</td>\n",
       "      <td>...</td>\n",
       "      <td>...</td>\n",
       "      <td>...</td>\n",
       "      <td>...</td>\n",
       "      <td>...</td>\n",
       "      <td>...</td>\n",
       "      <td>...</td>\n",
       "      <td>...</td>\n",
       "      <td>...</td>\n",
       "      <td>...</td>\n",
       "      <td>...</td>\n",
       "      <td>...</td>\n",
       "      <td>...</td>\n",
       "      <td>...</td>\n",
       "      <td>...</td>\n",
       "      <td>...</td>\n",
       "      <td>...</td>\n",
       "    </tr>\n",
       "    <tr>\n",
       "      <th>39994</th>\n",
       "      <td>sucesfuly</td>\n",
       "      <td>folowing</td>\n",
       "      <td>tayla</td>\n",
       "      <td>None</td>\n",
       "      <td>None</td>\n",
       "      <td>None</td>\n",
       "      <td>None</td>\n",
       "      <td>None</td>\n",
       "      <td>None</td>\n",
       "      <td>None</td>\n",
       "      <td>...</td>\n",
       "      <td>None</td>\n",
       "      <td>None</td>\n",
       "      <td>None</td>\n",
       "      <td>None</td>\n",
       "      <td>None</td>\n",
       "      <td>None</td>\n",
       "      <td>None</td>\n",
       "      <td>None</td>\n",
       "      <td>None</td>\n",
       "      <td>None</td>\n",
       "    </tr>\n",
       "    <tr>\n",
       "      <th>39996</th>\n",
       "      <td>hapy</td>\n",
       "      <td>mother</td>\n",
       "      <td>day</td>\n",
       "      <td>al</td>\n",
       "      <td>love</td>\n",
       "      <td>None</td>\n",
       "      <td>None</td>\n",
       "      <td>None</td>\n",
       "      <td>None</td>\n",
       "      <td>None</td>\n",
       "      <td>...</td>\n",
       "      <td>None</td>\n",
       "      <td>None</td>\n",
       "      <td>None</td>\n",
       "      <td>None</td>\n",
       "      <td>None</td>\n",
       "      <td>None</td>\n",
       "      <td>None</td>\n",
       "      <td>None</td>\n",
       "      <td>None</td>\n",
       "      <td>None</td>\n",
       "    </tr>\n",
       "    <tr>\n",
       "      <th>39997</th>\n",
       "      <td>hapy</td>\n",
       "      <td>mother's</td>\n",
       "      <td>day</td>\n",
       "      <td>al</td>\n",
       "      <td>momies</td>\n",
       "      <td>woman</td>\n",
       "      <td>man</td>\n",
       "      <td>long</td>\n",
       "      <td>moma</td>\n",
       "      <td>someone</td>\n",
       "      <td>...</td>\n",
       "      <td>None</td>\n",
       "      <td>None</td>\n",
       "      <td>None</td>\n",
       "      <td>None</td>\n",
       "      <td>None</td>\n",
       "      <td>None</td>\n",
       "      <td>None</td>\n",
       "      <td>None</td>\n",
       "      <td>None</td>\n",
       "      <td>None</td>\n",
       "    </tr>\n",
       "    <tr>\n",
       "      <th>39998</th>\n",
       "      <td>&lt;name&gt;</td>\n",
       "      <td>wasup</td>\n",
       "      <td>beautiful</td>\n",
       "      <td>folow</td>\n",
       "      <td>pep</td>\n",
       "      <td>new</td>\n",
       "      <td>hit</td>\n",
       "      <td>single</td>\n",
       "      <td>w</td>\n",
       "      <td>myspace</td>\n",
       "      <td>...</td>\n",
       "      <td>None</td>\n",
       "      <td>None</td>\n",
       "      <td>None</td>\n",
       "      <td>None</td>\n",
       "      <td>None</td>\n",
       "      <td>None</td>\n",
       "      <td>None</td>\n",
       "      <td>None</td>\n",
       "      <td>None</td>\n",
       "      <td>None</td>\n",
       "    </tr>\n",
       "    <tr>\n",
       "      <th>39999</th>\n",
       "      <td>&lt;name&gt;</td>\n",
       "      <td>bulet</td>\n",
       "      <td>train</td>\n",
       "      <td>tokyo</td>\n",
       "      <td>gf</td>\n",
       "      <td>ben</td>\n",
       "      <td>visit</td>\n",
       "      <td>japan</td>\n",
       "      <td>since</td>\n",
       "      <td>thursday</td>\n",
       "      <td>...</td>\n",
       "      <td>None</td>\n",
       "      <td>None</td>\n",
       "      <td>None</td>\n",
       "      <td>None</td>\n",
       "      <td>None</td>\n",
       "      <td>None</td>\n",
       "      <td>None</td>\n",
       "      <td>None</td>\n",
       "      <td>None</td>\n",
       "      <td>None</td>\n",
       "    </tr>\n",
       "  </tbody>\n",
       "</table>\n",
       "<p>39049 rows × 27 columns</p>\n",
       "</div>"
      ],
      "text/plain": [
       "              0         1          2         3        4        5      6   \\\n",
       "0         <name>      know   listenin       bad    habit  earlier  start   \n",
       "1          layin         n        bed  headache      ugh   waitin    cal   \n",
       "2        funeral  ceremony      glomy    friday     None     None   None   \n",
       "3           want      hang     friend       son     None     None   None   \n",
       "4         <name>      want      trade   someone  houston   ticket    one   \n",
       "...          ...       ...        ...       ...      ...      ...    ...   \n",
       "39994  sucesfuly  folowing      tayla      None     None     None   None   \n",
       "39996       hapy    mother        day        al     love     None   None   \n",
       "39997       hapy  mother's        day        al   momies    woman    man   \n",
       "39998     <name>     wasup  beautiful     folow      pep      new    hit   \n",
       "39999     <name>     bulet      train     tokyo       gf      ben  visit   \n",
       "\n",
       "            7      8         9   ...    17    18    19    20    21    22  \\\n",
       "0      freakin   part      None  ...  None  None  None  None  None  None   \n",
       "1         None   None      None  ...  None  None  None  None  None  None   \n",
       "2         None   None      None  ...  None  None  None  None  None  None   \n",
       "3         None   None      None  ...  None  None  None  None  None  None   \n",
       "4          wil   None      None  ...  None  None  None  None  None  None   \n",
       "...        ...    ...       ...  ...   ...   ...   ...   ...   ...   ...   \n",
       "39994     None   None      None  ...  None  None  None  None  None  None   \n",
       "39996     None   None      None  ...  None  None  None  None  None  None   \n",
       "39997     long   moma   someone  ...  None  None  None  None  None  None   \n",
       "39998   single      w   myspace  ...  None  None  None  None  None  None   \n",
       "39999    japan  since  thursday  ...  None  None  None  None  None  None   \n",
       "\n",
       "         23    24    25    26  \n",
       "0      None  None  None  None  \n",
       "1      None  None  None  None  \n",
       "2      None  None  None  None  \n",
       "3      None  None  None  None  \n",
       "4      None  None  None  None  \n",
       "...     ...   ...   ...   ...  \n",
       "39994  None  None  None  None  \n",
       "39996  None  None  None  None  \n",
       "39997  None  None  None  None  \n",
       "39998  None  None  None  None  \n",
       "39999  None  None  None  None  \n",
       "\n",
       "[39049 rows x 27 columns]"
      ]
     },
     "execution_count": 1057,
     "metadata": {},
     "output_type": "execute_result"
    }
   ],
   "source": [
    "ool = oon.iloc[:,:-1]\n",
    "ool"
   ]
  },
  {
   "cell_type": "code",
   "execution_count": 1058,
   "metadata": {},
   "outputs": [
    {
     "data": {
      "text/plain": [
       "array([['<name>', 'know', 'listenin', ..., None, None, None],\n",
       "       ['layin', 'n', 'bed', ..., None, None, None],\n",
       "       ['funeral', 'ceremony', 'glomy', ..., None, None, None],\n",
       "       ...,\n",
       "       ['hapy', \"mother's\", 'day', ..., None, None, None],\n",
       "       ['<name>', 'wasup', 'beautiful', ..., None, None, None],\n",
       "       ['<name>', 'bulet', 'train', ..., None, None, None]], dtype=object)"
      ]
     },
     "execution_count": 1058,
     "metadata": {},
     "output_type": "execute_result"
    }
   ],
   "source": [
    "v = ool.values\n",
    "v"
   ]
  },
  {
   "cell_type": "code",
   "execution_count": 1059,
   "metadata": {},
   "outputs": [],
   "source": [
    "vo =[]\n",
    "for i in range(len(v)):\n",
    "    vo.append((v[i][v[i]!=None]).tolist())"
   ]
  },
  {
   "cell_type": "code",
   "execution_count": 1060,
   "metadata": {},
   "outputs": [
    {
     "data": {
      "text/plain": [
       "['<name>',\n",
       " 'know',\n",
       " 'listenin',\n",
       " 'bad',\n",
       " 'habit',\n",
       " 'earlier',\n",
       " 'start',\n",
       " 'freakin',\n",
       " 'part']"
      ]
     },
     "execution_count": 1060,
     "metadata": {},
     "output_type": "execute_result"
    }
   ],
   "source": [
    "vo[0]"
   ]
  },
  {
   "cell_type": "code",
   "execution_count": 1061,
   "metadata": {},
   "outputs": [],
   "source": [
    "seql = pd.Series([len(x) for x in vo])"
   ]
  },
  {
   "cell_type": "code",
   "execution_count": 1062,
   "metadata": {},
   "outputs": [
    {
     "data": {
      "text/plain": [
       "0.25     5.0\n",
       "0.50     7.0\n",
       "0.98    17.0\n",
       "dtype: float64"
      ]
     },
     "execution_count": 1062,
     "metadata": {},
     "output_type": "execute_result"
    }
   ],
   "source": [
    "quant = seql.quantile([0.25,0.50,0.98])\n",
    "quant"
   ]
  },
  {
   "cell_type": "code",
   "execution_count": 1063,
   "metadata": {},
   "outputs": [
    {
     "data": {
      "text/plain": [
       "27"
      ]
     },
     "execution_count": 1063,
     "metadata": {},
     "output_type": "execute_result"
    }
   ],
   "source": [
    "max_size = max(len(x) for x in vo)\n",
    "max_size"
   ]
  },
  {
   "cell_type": "code",
   "execution_count": 1064,
   "metadata": {},
   "outputs": [],
   "source": [
    "# as we can the 98% of sequence lengths falls under 17, but max length is 27\n",
    "# padding all the lengths to 33 will lead to redundancy \n",
    "# but padding only to the 17 lenth and truncating remaining tokens will also lead to loss of data"
   ]
  },
  {
   "cell_type": "code",
   "execution_count": 1065,
   "metadata": {},
   "outputs": [],
   "source": [
    "# so, we will try to padd the sequences to 17-19"
   ]
  },
  {
   "cell_type": "markdown",
   "metadata": {},
   "source": [
    "### padding the sequences"
   ]
  },
  {
   "cell_type": "code",
   "execution_count": 1066,
   "metadata": {},
   "outputs": [],
   "source": [
    "padded_sequences =[]\n",
    "for i in vo:\n",
    "    if(18-len(i)<0):\n",
    "        j = i[:18]\n",
    "        padded_sequences.append(j)\n",
    "    else:\n",
    "        j = i + (['<null>']*(18-len(i)))\n",
    "        padded_sequences.append(j)"
   ]
  },
  {
   "cell_type": "code",
   "execution_count": 1067,
   "metadata": {},
   "outputs": [
    {
     "data": {
      "text/plain": [
       "39049"
      ]
     },
     "execution_count": 1067,
     "metadata": {},
     "output_type": "execute_result"
    }
   ],
   "source": [
    "len(padded_sequences)"
   ]
  },
  {
   "cell_type": "code",
   "execution_count": 1068,
   "metadata": {},
   "outputs": [],
   "source": [
    "x = padded_sequences\n",
    "y = oon['emotion']"
   ]
  },
  {
   "cell_type": "code",
   "execution_count": 1069,
   "metadata": {},
   "outputs": [
    {
     "data": {
      "text/plain": [
       "13"
      ]
     },
     "execution_count": 1069,
     "metadata": {},
     "output_type": "execute_result"
    }
   ],
   "source": [
    "unique_class = y.unique()\n",
    "num_classes=len(unique_class)\n",
    "num_classes"
   ]
  },
  {
   "cell_type": "code",
   "execution_count": 1070,
   "metadata": {},
   "outputs": [
    {
     "data": {
      "text/plain": [
       "array(['empty', 'sadness', 'enthusiasm', 'neutral', 'worry', 'surprise',\n",
       "       'love', 'fun', 'hate', 'happiness', 'boredom', 'relief', 'anger'],\n",
       "      dtype=object)"
      ]
     },
     "execution_count": 1070,
     "metadata": {},
     "output_type": "execute_result"
    }
   ],
   "source": [
    "unique_class"
   ]
  },
  {
   "cell_type": "code",
   "execution_count": 1071,
   "metadata": {},
   "outputs": [],
   "source": [
    "xx = np.array(x)\n",
    "yy = y.values"
   ]
  },
  {
   "cell_type": "code",
   "execution_count": 1072,
   "metadata": {},
   "outputs": [
    {
     "data": {
      "text/plain": [
       "((39049, 18), (39049,))"
      ]
     },
     "execution_count": 1072,
     "metadata": {},
     "output_type": "execute_result"
    }
   ],
   "source": [
    "xx.shape,yy.shape"
   ]
  },
  {
   "cell_type": "code",
   "execution_count": 1073,
   "metadata": {},
   "outputs": [
    {
     "data": {
      "text/plain": [
       "array([ 2, 10, 10, ...,  7,  5,  7])"
      ]
     },
     "execution_count": 1073,
     "metadata": {},
     "output_type": "execute_result"
    }
   ],
   "source": [
    "from sklearn.preprocessing import LabelEncoder\n",
    "le = LabelEncoder()\n",
    "y_int = le.fit_transform(yy)\n",
    "y_int"
   ]
  },
  {
   "cell_type": "code",
   "execution_count": 1074,
   "metadata": {},
   "outputs": [
    {
     "name": "stdout",
     "output_type": "stream",
     "text": [
      "(23429, 18) (23429,)\n",
      "(15620, 18) (15620,)\n"
     ]
    }
   ],
   "source": [
    "from sklearn.model_selection import train_test_split\n",
    "x_train,x_test,y_train,y_test = train_test_split(xx,y_int,test_size=0.4,random_state=42)\n",
    "print(x_train.shape,y_train.shape)\n",
    "print(x_test.shape,y_test.shape)"
   ]
  },
  {
   "cell_type": "code",
   "execution_count": 1075,
   "metadata": {},
   "outputs": [
    {
     "data": {
      "text/plain": [
       "(array(['sometimes', 'forget', 'boy', 'felings', '<null>', '<null>',\n",
       "        '<null>', '<null>', '<null>', '<null>', '<null>', '<null>',\n",
       "        '<null>', '<null>', '<null>', '<null>', '<null>', '<null>'],\n",
       "       dtype='<U39'),\n",
       " 'boredom')"
      ]
     },
     "execution_count": 1075,
     "metadata": {},
     "output_type": "execute_result"
    }
   ],
   "source": [
    "x_train[0],unique_class[y_train[0]]"
   ]
  },
  {
   "cell_type": "code",
   "execution_count": 1076,
   "metadata": {},
   "outputs": [
    {
     "data": {
      "text/plain": [
       "[<matplotlib.lines.Line2D at 0x1ae48ae1910>]"
      ]
     },
     "execution_count": 1076,
     "metadata": {},
     "output_type": "execute_result"
    },
    {
     "data": {
      "image/png": "[encoded data removed]",
      "text/plain": [
       "<Figure size 640x480 with 1 Axes>"
      ]
     },
     "metadata": {},
     "output_type": "display_data"
    }
   ],
   "source": [
    "plt.plot(y_train)"
   ]
  },
  {
   "cell_type": "code",
   "execution_count": 1077,
   "metadata": {},
   "outputs": [
    {
     "name": "stdout",
     "output_type": "stream",
     "text": [
      "(7810, 18) (7810,)\n",
      "(7810, 18) (7810,)\n"
     ]
    }
   ],
   "source": [
    "x_val,x_test,y_val,y_test = train_test_split(x_test,y_test,test_size=0.5,random_state=42)\n",
    "print(x_val.shape,y_val.shape)\n",
    "print(x_test.shape,y_test.shape) "
   ]
  },
  {
   "cell_type": "markdown",
   "metadata": {},
   "source": [
    "### Hybrid sampling"
   ]
  },
  {
   "cell_type": "code",
   "execution_count": 1078,
   "metadata": {},
   "outputs": [
    {
     "data": {
      "image/png": "[encoded data removed]",
      "text/plain": [
       "<Figure size 640x480 with 1 Axes>"
      ]
     },
     "metadata": {},
     "output_type": "display_data"
    }
   ],
   "source": [
    "class_dist = pd.Series(y_train).value_counts()\n",
    "class_dist.plot(kind='bar')\n",
    "plt.title(\"y_train Class distribution before sampling\")\n",
    "plt.show()"
   ]
  },
  {
   "cell_type": "code",
   "execution_count": 1079,
   "metadata": {},
   "outputs": [
    {
     "data": {
      "image/png": "[encoded data removed]",
      "text/plain": [
       "<Figure size 640x480 with 1 Axes>"
      ]
     },
     "metadata": {},
     "output_type": "display_data"
    }
   ],
   "source": [
    "class_y = pd.Series(y_val).value_counts()\n",
    "class_y.plot(kind='bar')\n",
    "plt.title(\"y_val class distribution before sampling\")\n",
    "plt.show()"
   ]
  },
  {
   "cell_type": "code",
   "execution_count": 1080,
   "metadata": {},
   "outputs": [
    {
     "data": {
      "text/plain": [
       "12    5029\n",
       "8     4972\n",
       "5     3075\n",
       "10    2999\n",
       "7     2219\n",
       "11    1308\n",
       "4     1042\n",
       "9      896\n",
       "6      777\n",
       "2      491\n",
       "3      448\n",
       "1      104\n",
       "0       69\n",
       "Name: count, dtype: int64"
      ]
     },
     "execution_count": 1080,
     "metadata": {},
     "output_type": "execute_result"
    }
   ],
   "source": [
    "freq = pd.Series(y_train).value_counts()\n",
    "freq"
   ]
  },
  {
   "cell_type": "code",
   "execution_count": 1081,
   "metadata": {},
   "outputs": [
    {
     "name": "stdout",
     "output_type": "stream",
     "text": [
      "12 5029\n",
      "8 4972\n",
      "5 3075\n",
      "10 2999\n",
      "7 2219\n",
      "11 1308\n",
      "4 1042\n",
      "9 896\n",
      "6 777\n",
      "2 491\n",
      "3 448\n",
      "1 104\n",
      "0 69\n"
     ]
    }
   ],
   "source": [
    "for i,j in enumerate(freq.items()):\n",
    "    print(j[0],j[1])"
   ]
  },
  {
   "cell_type": "code",
   "execution_count": 1082,
   "metadata": {},
   "outputs": [
    {
     "data": {
      "text/plain": [
       "({2: 600, 3: 600, 1: 300, 0: 150}, {12: 3075, 8: 3075})"
      ]
     },
     "execution_count": 1082,
     "metadata": {},
     "output_type": "execute_result"
    }
   ],
   "source": [
    "freq1 = {}\n",
    "freq2 = {}\n",
    "for i,j in enumerate(freq.items()):\n",
    "    if(j[0]==1):\n",
    "        freq1[freq.index[i]]=300\n",
    "    if(j[0]==0):\n",
    "        freq1[freq.index[i]]=150\n",
    "    if(j[0]==2 or j[0]==3):\n",
    "        freq1[freq.index[i]]=600\n",
    "    if(j[1]>3075):\n",
    "        freq2[freq.index[i]]=3075\n",
    "freq1,freq2"
   ]
  },
  {
   "cell_type": "code",
   "execution_count": 1083,
   "metadata": {},
   "outputs": [
    {
     "data": {
      "text/plain": [
       "12    1677\n",
       "8     1618\n",
       "10    1018\n",
       "5     1003\n",
       "7      731\n",
       "11     426\n",
       "4      381\n",
       "9      311\n",
       "6      278\n",
       "3      155\n",
       "2      152\n",
       "1       39\n",
       "0       21\n",
       "Name: count, dtype: int64"
      ]
     },
     "execution_count": 1083,
     "metadata": {},
     "output_type": "execute_result"
    }
   ],
   "source": [
    "freq0 = pd.Series(y_val).value_counts()\n",
    "freq0"
   ]
  },
  {
   "cell_type": "code",
   "execution_count": 1084,
   "metadata": {},
   "outputs": [
    {
     "data": {
      "text/plain": [
       "({3: 200, 2: 200, 1: 150, 0: 70}, {12: 1018, 8: 1018})"
      ]
     },
     "execution_count": 1084,
     "metadata": {},
     "output_type": "execute_result"
    }
   ],
   "source": [
    "freq11 = {}\n",
    "freq22 = {}\n",
    "for i,j in enumerate(freq0.items()):\n",
    "    if(j[0]==0):\n",
    "        freq11[freq0.index[i]]=70\n",
    "    if(j[0]==1):\n",
    "        freq11[freq0.index[i]]=150\n",
    "    if(j[0]==2 or j[0]==3):\n",
    "        freq11[freq0.index[i]]=200\n",
    "    if(j[1]>1018):\n",
    "        freq22[freq0.index[i]]=1018\n",
    "freq11,freq22"
   ]
  },
  {
   "cell_type": "code",
   "execution_count": 1085,
   "metadata": {},
   "outputs": [],
   "source": [
    "# there are many ways to balance the classes, \n",
    "# 1) as there is high imbalance in our data, we will try class_weights and check whether it is yielding good results\n",
    "# 2) oversampling using smote and undersampling using randomsampler"
   ]
  },
  {
   "cell_type": "code",
   "execution_count": 1086,
   "metadata": {},
   "outputs": [
    {
     "data": {
      "text/plain": [
       "\"\\nfrom sklearn.utils.class_weight import compute_class_weight\\nclass_weights = compute_class_weight(class_weight='balanced',classes=np.unique(y_train), y=y_train)\\nclass_weights = dict(enumerate(class_weights))\\n\""
      ]
     },
     "execution_count": 1086,
     "metadata": {},
     "output_type": "execute_result"
    }
   ],
   "source": [
    "\"\"\"\n",
    "from sklearn.utils.class_weight import compute_class_weight\n",
    "class_weights = compute_class_weight(class_weight='balanced',classes=np.unique(y_train), y=y_train)\n",
    "class_weights = dict(enumerate(class_weights))\n",
    "\"\"\""
   ]
  },
  {
   "cell_type": "code",
   "execution_count": 1087,
   "metadata": {},
   "outputs": [],
   "source": [
    "#oversampling using smote or Randomundersampler\n",
    "#from imblearn.over_sampling import SMOTE\n",
    "\n",
    "from imblearn.over_sampling import RandomOverSampler\n",
    "\n",
    "oversample = RandomOverSampler(sampling_strategy=freq1, random_state=42)\n",
    "X_res, y_res = oversample.fit_resample(x_train, y_train)\n",
    "\n",
    "oversample1 = RandomOverSampler(sampling_strategy=freq11, random_state=42)\n",
    "X_val, Y_val = oversample1.fit_resample(x_val,y_val) "
   ]
  },
  {
   "cell_type": "code",
   "execution_count": 1088,
   "metadata": {},
   "outputs": [],
   "source": [
    "# Note: Don't use smote for generating data for sensual data like tokenized words, because generating synthetic data could be non-sensical "
   ]
  },
  {
   "cell_type": "code",
   "execution_count": 1089,
   "metadata": {},
   "outputs": [],
   "source": [
    "from imblearn.under_sampling import RandomUnderSampler\n",
    "\n",
    "undersample = RandomUnderSampler(sampling_strategy=freq2,random_state=42)\n",
    "X_train_resampled, y_train_resampled = undersample.fit_resample(X_res, y_res)\n",
    "\n",
    "undersample1 = RandomUnderSampler(sampling_strategy=freq22,random_state=42)\n",
    "X_val_resampled, y_val_resampled = undersample1.fit_resample(X_val, Y_val) "
   ]
  },
  {
   "cell_type": "code",
   "execution_count": 1090,
   "metadata": {},
   "outputs": [
    {
     "data": {
      "text/plain": [
       "[<matplotlib.lines.Line2D at 0x1aef2fc1910>]"
      ]
     },
     "execution_count": 1090,
     "metadata": {},
     "output_type": "execute_result"
    },
    {
     "data": {
      "image/png": "[encoded data removed]",
      "text/plain": [
       "<Figure size 640x480 with 1 Axes>"
      ]
     },
     "metadata": {},
     "output_type": "display_data"
    }
   ],
   "source": [
    "plt.plot(y_val_resampled)"
   ]
  },
  {
   "cell_type": "code",
   "execution_count": 1093,
   "metadata": {},
   "outputs": [],
   "source": [
    "from sklearn.utils import shuffle\n",
    "X_train_resampled, y_train_resampled = shuffle(X_train_resampled,y_train_resampled,random_state=42)\n",
    "X_val_resampled, y_val_resampled = shuffle(X_val_resampled, y_val_resampled,random_state=42)"
   ]
  },
  {
   "cell_type": "code",
   "execution_count": 1094,
   "metadata": {},
   "outputs": [
    {
     "data": {
      "text/plain": [
       "[<matplotlib.lines.Line2D at 0x1aef2fdb010>]"
      ]
     },
     "execution_count": 1094,
     "metadata": {},
     "output_type": "execute_result"
    },
    {
     "data": {
      "image/png": "[encoded data removed]",
      "text/plain": [
       "<Figure size 640x480 with 1 Axes>"
      ]
     },
     "metadata": {},
     "output_type": "display_data"
    }
   ],
   "source": [
    "plt.plot(y_val_resampled)"
   ]
  },
  {
   "cell_type": "code",
   "execution_count": 1095,
   "metadata": {},
   "outputs": [
    {
     "data": {
      "image/png": "[encoded data removed]",
      "text/plain": [
       "<Figure size 640x480 with 1 Axes>"
      ]
     },
     "metadata": {},
     "output_type": "display_data"
    }
   ],
   "source": [
    "class_dist = pd.Series(y_train_resampled).value_counts()\n",
    "class_dist.plot(kind='bar')\n",
    "plt.title(\"class distribution after resampling(y_train)\")\n",
    "plt.show()"
   ]
  },
  {
   "cell_type": "code",
   "execution_count": 1096,
   "metadata": {},
   "outputs": [
    {
     "data": {
      "image/png": "[encoded data removed]",
      "text/plain": [
       "<Figure size 640x480 with 1 Axes>"
      ]
     },
     "metadata": {},
     "output_type": "display_data"
    }
   ],
   "source": [
    "class_dist = pd.Series(y_val_resampled).value_counts()\n",
    "class_dist.plot(kind='bar')\n",
    "plt.title(\"class distribution after resampling(y_val)\")\n",
    "plt.show()"
   ]
  },
  {
   "cell_type": "code",
   "execution_count": 1097,
   "metadata": {},
   "outputs": [
    {
     "data": {
      "text/plain": [
       "12    3075\n",
       "5     3075\n",
       "8     3075\n",
       "10    2999\n",
       "7     2219\n",
       "11    1308\n",
       "4     1042\n",
       "9      896\n",
       "6      777\n",
       "3      600\n",
       "2      600\n",
       "1      300\n",
       "0      150\n",
       "Name: count, dtype: int64"
      ]
     },
     "execution_count": 1097,
     "metadata": {},
     "output_type": "execute_result"
    }
   ],
   "source": [
    "pd.Series(y_train_resampled).value_counts()"
   ]
  },
  {
   "cell_type": "code",
   "execution_count": 1098,
   "metadata": {},
   "outputs": [
    {
     "data": {
      "text/plain": [
       "10    1018\n",
       "8     1018\n",
       "12    1018\n",
       "5     1003\n",
       "7      731\n",
       "11     426\n",
       "4      381\n",
       "9      311\n",
       "6      278\n",
       "2      200\n",
       "3      200\n",
       "1      150\n",
       "0       70\n",
       "Name: count, dtype: int64"
      ]
     },
     "execution_count": 1098,
     "metadata": {},
     "output_type": "execute_result"
    }
   ],
   "source": [
    "pd.Series(y_val_resampled).value_counts() "
   ]
  },
  {
   "cell_type": "code",
   "execution_count": 1099,
   "metadata": {},
   "outputs": [],
   "source": [
    "# largesample/samplesample = k\n",
    "# if k>5, high imbalance\n",
    "# if k<5, mild imbalance"
   ]
  },
  {
   "cell_type": "code",
   "execution_count": 1100,
   "metadata": {},
   "outputs": [
    {
     "data": {
      "image/png": "[encoded data removed]",
      "text/plain": [
       "<Figure size 640x480 with 1 Axes>"
      ]
     },
     "metadata": {},
     "output_type": "display_data"
    }
   ],
   "source": [
    "class_dist = pd.Series(y_test).value_counts()\n",
    "class_dist.plot(kind='bar')\n",
    "plt.title(\"y_test unchanged class distribution\")\n",
    "plt.show()"
   ]
  },
  {
   "cell_type": "code",
   "execution_count": 1101,
   "metadata": {},
   "outputs": [],
   "source": [
    "#Note: Generating more random samples may lead to overfitting"
   ]
  },
  {
   "cell_type": "code",
   "execution_count": 1102,
   "metadata": {},
   "outputs": [
    {
     "data": {
      "text/plain": [
       "((23429, 18), (20116, 18))"
      ]
     },
     "execution_count": 1102,
     "metadata": {},
     "output_type": "execute_result"
    }
   ],
   "source": [
    "x_train.shape,X_train_resampled.shape # we observe there is an decrease or increase in the sample"
   ]
  },
  {
   "cell_type": "code",
   "execution_count": 1103,
   "metadata": {},
   "outputs": [
    {
     "data": {
      "text/plain": [
       "((7810, 18), (6804, 18))"
      ]
     },
     "execution_count": 1103,
     "metadata": {},
     "output_type": "execute_result"
    }
   ],
   "source": [
    "x_val.shape,X_val_resampled.shape # we observe there is an decrease or increase in the sample"
   ]
  },
  {
   "cell_type": "code",
   "execution_count": 1104,
   "metadata": {},
   "outputs": [],
   "source": [
    "#Note: Oversampling more will lead to redundancy in the data which may leads to overfitting\n",
    "# Be cautious"
   ]
  },
  {
   "cell_type": "code",
   "execution_count": 1105,
   "metadata": {},
   "outputs": [],
   "source": [
    "#len(X_train_resampled)-len(np.unique(X_train_resampled,axis=0)),len(X_val_resampled)-len(np.unique(X_val_resampled,axis=0))\n",
    "# this indicates there are duplicates in the array"
   ]
  },
  {
   "cell_type": "code",
   "execution_count": 1106,
   "metadata": {},
   "outputs": [
    {
     "data": {
      "text/html": [
       "<div>\n",
       "<style scoped>\n",
       "    .dataframe tbody tr th:only-of-type {\n",
       "        vertical-align: middle;\n",
       "    }\n",
       "\n",
       "    .dataframe tbody tr th {\n",
       "        vertical-align: top;\n",
       "    }\n",
       "\n",
       "    .dataframe thead th {\n",
       "        text-align: right;\n",
       "    }\n",
       "</style>\n",
       "<table border=\"1\" class=\"dataframe\">\n",
       "  <thead>\n",
       "    <tr style=\"text-align: right;\">\n",
       "      <th></th>\n",
       "      <th>0</th>\n",
       "      <th>1</th>\n",
       "      <th>2</th>\n",
       "      <th>3</th>\n",
       "      <th>4</th>\n",
       "      <th>5</th>\n",
       "      <th>6</th>\n",
       "      <th>7</th>\n",
       "      <th>8</th>\n",
       "      <th>9</th>\n",
       "      <th>10</th>\n",
       "      <th>11</th>\n",
       "      <th>12</th>\n",
       "      <th>13</th>\n",
       "      <th>14</th>\n",
       "      <th>15</th>\n",
       "      <th>16</th>\n",
       "      <th>17</th>\n",
       "      <th>emotion</th>\n",
       "    </tr>\n",
       "  </thead>\n",
       "  <tbody>\n",
       "    <tr>\n",
       "      <th>0</th>\n",
       "      <td>&lt;name&gt;</td>\n",
       "      <td>make</td>\n",
       "      <td>bring</td>\n",
       "      <td>u</td>\n",
       "      <td>sum</td>\n",
       "      <td>&lt;null&gt;</td>\n",
       "      <td>&lt;null&gt;</td>\n",
       "      <td>&lt;null&gt;</td>\n",
       "      <td>&lt;null&gt;</td>\n",
       "      <td>&lt;null&gt;</td>\n",
       "      <td>&lt;null&gt;</td>\n",
       "      <td>&lt;null&gt;</td>\n",
       "      <td>&lt;null&gt;</td>\n",
       "      <td>&lt;null&gt;</td>\n",
       "      <td>&lt;null&gt;</td>\n",
       "      <td>&lt;null&gt;</td>\n",
       "      <td>&lt;null&gt;</td>\n",
       "      <td>&lt;null&gt;</td>\n",
       "      <td>12</td>\n",
       "    </tr>\n",
       "    <tr>\n",
       "      <th>1</th>\n",
       "      <td>&lt;name&gt;</td>\n",
       "      <td>pange</td>\n",
       "      <td>ahahahahaha</td>\n",
       "      <td>two</td>\n",
       "      <td>could</td>\n",
       "      <td>meet</td>\n",
       "      <td>drink</td>\n",
       "      <td>&lt;null&gt;</td>\n",
       "      <td>&lt;null&gt;</td>\n",
       "      <td>&lt;null&gt;</td>\n",
       "      <td>&lt;null&gt;</td>\n",
       "      <td>&lt;null&gt;</td>\n",
       "      <td>&lt;null&gt;</td>\n",
       "      <td>&lt;null&gt;</td>\n",
       "      <td>&lt;null&gt;</td>\n",
       "      <td>&lt;null&gt;</td>\n",
       "      <td>&lt;null&gt;</td>\n",
       "      <td>&lt;null&gt;</td>\n",
       "      <td>5</td>\n",
       "    </tr>\n",
       "    <tr>\n",
       "      <th>2</th>\n",
       "      <td>love</td>\n",
       "      <td>get</td>\n",
       "      <td>gift</td>\n",
       "      <td>mail</td>\n",
       "      <td>wonderful</td>\n",
       "      <td>friend</td>\n",
       "      <td>back</td>\n",
       "      <td>home</td>\n",
       "      <td>mis</td>\n",
       "      <td>myrtle</td>\n",
       "      <td>beach</td>\n",
       "      <td>much</td>\n",
       "      <td>litle</td>\n",
       "      <td>homesick</td>\n",
       "      <td>today</td>\n",
       "      <td>&lt;null&gt;</td>\n",
       "      <td>&lt;null&gt;</td>\n",
       "      <td>&lt;null&gt;</td>\n",
       "      <td>7</td>\n",
       "    </tr>\n",
       "    <tr>\n",
       "      <th>3</th>\n",
       "      <td>ap</td>\n",
       "      <td>gov</td>\n",
       "      <td>exam</td>\n",
       "      <td>loked</td>\n",
       "      <td>stuf</td>\n",
       "      <td>month</td>\n",
       "      <td>what's</td>\n",
       "      <td>i'm</td>\n",
       "      <td>total</td>\n",
       "      <td>legal</td>\n",
       "      <td>nerd</td>\n",
       "      <td>know</td>\n",
       "      <td>case</td>\n",
       "      <td>like</td>\n",
       "      <td>none</td>\n",
       "      <td>oh</td>\n",
       "      <td>yeah</td>\n",
       "      <td>&lt;null&gt;</td>\n",
       "      <td>8</td>\n",
       "    </tr>\n",
       "    <tr>\n",
       "      <th>4</th>\n",
       "      <td>get</td>\n",
       "      <td>ned</td>\n",
       "      <td>leave</td>\n",
       "      <td>clas</td>\n",
       "      <td>hour</td>\n",
       "      <td>&lt;null&gt;</td>\n",
       "      <td>&lt;null&gt;</td>\n",
       "      <td>&lt;null&gt;</td>\n",
       "      <td>&lt;null&gt;</td>\n",
       "      <td>&lt;null&gt;</td>\n",
       "      <td>&lt;null&gt;</td>\n",
       "      <td>&lt;null&gt;</td>\n",
       "      <td>&lt;null&gt;</td>\n",
       "      <td>&lt;null&gt;</td>\n",
       "      <td>&lt;null&gt;</td>\n",
       "      <td>&lt;null&gt;</td>\n",
       "      <td>&lt;null&gt;</td>\n",
       "      <td>&lt;null&gt;</td>\n",
       "      <td>3</td>\n",
       "    </tr>\n",
       "    <tr>\n",
       "      <th>...</th>\n",
       "      <td>...</td>\n",
       "      <td>...</td>\n",
       "      <td>...</td>\n",
       "      <td>...</td>\n",
       "      <td>...</td>\n",
       "      <td>...</td>\n",
       "      <td>...</td>\n",
       "      <td>...</td>\n",
       "      <td>...</td>\n",
       "      <td>...</td>\n",
       "      <td>...</td>\n",
       "      <td>...</td>\n",
       "      <td>...</td>\n",
       "      <td>...</td>\n",
       "      <td>...</td>\n",
       "      <td>...</td>\n",
       "      <td>...</td>\n",
       "      <td>...</td>\n",
       "      <td>...</td>\n",
       "    </tr>\n",
       "    <tr>\n",
       "      <th>20111</th>\n",
       "      <td>&lt;name&gt;</td>\n",
       "      <td>lokin</td>\n",
       "      <td>god</td>\n",
       "      <td>mate</td>\n",
       "      <td>&lt;null&gt;</td>\n",
       "      <td>&lt;null&gt;</td>\n",
       "      <td>&lt;null&gt;</td>\n",
       "      <td>&lt;null&gt;</td>\n",
       "      <td>&lt;null&gt;</td>\n",
       "      <td>&lt;null&gt;</td>\n",
       "      <td>&lt;null&gt;</td>\n",
       "      <td>&lt;null&gt;</td>\n",
       "      <td>&lt;null&gt;</td>\n",
       "      <td>&lt;null&gt;</td>\n",
       "      <td>&lt;null&gt;</td>\n",
       "      <td>&lt;null&gt;</td>\n",
       "      <td>&lt;null&gt;</td>\n",
       "      <td>&lt;null&gt;</td>\n",
       "      <td>9</td>\n",
       "    </tr>\n",
       "    <tr>\n",
       "      <th>20112</th>\n",
       "      <td>love</td>\n",
       "      <td>music</td>\n",
       "      <td>video</td>\n",
       "      <td>belong</td>\n",
       "      <td>taylor</td>\n",
       "      <td>&lt;null&gt;</td>\n",
       "      <td>&lt;null&gt;</td>\n",
       "      <td>&lt;null&gt;</td>\n",
       "      <td>&lt;null&gt;</td>\n",
       "      <td>&lt;null&gt;</td>\n",
       "      <td>&lt;null&gt;</td>\n",
       "      <td>&lt;null&gt;</td>\n",
       "      <td>&lt;null&gt;</td>\n",
       "      <td>&lt;null&gt;</td>\n",
       "      <td>&lt;null&gt;</td>\n",
       "      <td>&lt;null&gt;</td>\n",
       "      <td>&lt;null&gt;</td>\n",
       "      <td>&lt;null&gt;</td>\n",
       "      <td>7</td>\n",
       "    </tr>\n",
       "    <tr>\n",
       "      <th>20113</th>\n",
       "      <td>i'm</td>\n",
       "      <td>jason</td>\n",
       "      <td>mraz</td>\n",
       "      <td>loking</td>\n",
       "      <td>electric</td>\n",
       "      <td>guitar</td>\n",
       "      <td>yay</td>\n",
       "      <td>1</td>\n",
       "      <td>&lt;null&gt;</td>\n",
       "      <td>&lt;null&gt;</td>\n",
       "      <td>&lt;null&gt;</td>\n",
       "      <td>&lt;null&gt;</td>\n",
       "      <td>&lt;null&gt;</td>\n",
       "      <td>&lt;null&gt;</td>\n",
       "      <td>&lt;null&gt;</td>\n",
       "      <td>&lt;null&gt;</td>\n",
       "      <td>&lt;null&gt;</td>\n",
       "      <td>&lt;null&gt;</td>\n",
       "      <td>5</td>\n",
       "    </tr>\n",
       "    <tr>\n",
       "      <th>20114</th>\n",
       "      <td>barely</td>\n",
       "      <td>awake</td>\n",
       "      <td>eat</td>\n",
       "      <td>breakfast</td>\n",
       "      <td>marathon</td>\n",
       "      <td>morning</td>\n",
       "      <td>god</td>\n",
       "      <td>luck</td>\n",
       "      <td>al</td>\n",
       "      <td>racer</td>\n",
       "      <td>hapy</td>\n",
       "      <td>mother's</td>\n",
       "      <td>day</td>\n",
       "      <td>&lt;null&gt;</td>\n",
       "      <td>&lt;null&gt;</td>\n",
       "      <td>&lt;null&gt;</td>\n",
       "      <td>&lt;null&gt;</td>\n",
       "      <td>&lt;null&gt;</td>\n",
       "      <td>5</td>\n",
       "    </tr>\n",
       "    <tr>\n",
       "      <th>20115</th>\n",
       "      <td>&lt;name&gt;</td>\n",
       "      <td>notice</td>\n",
       "      <td>we're</td>\n",
       "      <td>begining</td>\n",
       "      <td>may</td>\n",
       "      <td>bad</td>\n",
       "      <td>recesion</td>\n",
       "      <td>since</td>\n",
       "      <td>1930</td>\n",
       "      <td>&lt;null&gt;</td>\n",
       "      <td>&lt;null&gt;</td>\n",
       "      <td>&lt;null&gt;</td>\n",
       "      <td>&lt;null&gt;</td>\n",
       "      <td>&lt;null&gt;</td>\n",
       "      <td>&lt;null&gt;</td>\n",
       "      <td>&lt;null&gt;</td>\n",
       "      <td>&lt;null&gt;</td>\n",
       "      <td>&lt;null&gt;</td>\n",
       "      <td>12</td>\n",
       "    </tr>\n",
       "  </tbody>\n",
       "</table>\n",
       "<p>20116 rows × 19 columns</p>\n",
       "</div>"
      ],
      "text/plain": [
       "            0       1            2          3          4        5         6  \\\n",
       "0      <name>    make        bring          u        sum   <null>    <null>   \n",
       "1      <name>   pange  ahahahahaha        two      could     meet     drink   \n",
       "2        love     get         gift       mail  wonderful   friend      back   \n",
       "3          ap     gov         exam      loked       stuf    month    what's   \n",
       "4         get     ned        leave       clas       hour   <null>    <null>   \n",
       "...       ...     ...          ...        ...        ...      ...       ...   \n",
       "20111  <name>   lokin          god       mate     <null>   <null>    <null>   \n",
       "20112    love   music        video     belong     taylor   <null>    <null>   \n",
       "20113     i'm   jason         mraz     loking   electric   guitar       yay   \n",
       "20114  barely   awake          eat  breakfast   marathon  morning       god   \n",
       "20115  <name>  notice        we're   begining        may      bad  recesion   \n",
       "\n",
       "            7       8       9      10        11      12        13      14  \\\n",
       "0      <null>  <null>  <null>  <null>    <null>  <null>    <null>  <null>   \n",
       "1      <null>  <null>  <null>  <null>    <null>  <null>    <null>  <null>   \n",
       "2        home     mis  myrtle   beach      much   litle  homesick   today   \n",
       "3         i'm   total   legal    nerd      know    case      like    none   \n",
       "4      <null>  <null>  <null>  <null>    <null>  <null>    <null>  <null>   \n",
       "...       ...     ...     ...     ...       ...     ...       ...     ...   \n",
       "20111  <null>  <null>  <null>  <null>    <null>  <null>    <null>  <null>   \n",
       "20112  <null>  <null>  <null>  <null>    <null>  <null>    <null>  <null>   \n",
       "20113       1  <null>  <null>  <null>    <null>  <null>    <null>  <null>   \n",
       "20114    luck      al   racer    hapy  mother's     day    <null>  <null>   \n",
       "20115   since    1930  <null>  <null>    <null>  <null>    <null>  <null>   \n",
       "\n",
       "           15      16      17  emotion  \n",
       "0      <null>  <null>  <null>       12  \n",
       "1      <null>  <null>  <null>        5  \n",
       "2      <null>  <null>  <null>        7  \n",
       "3          oh    yeah  <null>        8  \n",
       "4      <null>  <null>  <null>        3  \n",
       "...       ...     ...     ...      ...  \n",
       "20111  <null>  <null>  <null>        9  \n",
       "20112  <null>  <null>  <null>        7  \n",
       "20113  <null>  <null>  <null>        5  \n",
       "20114  <null>  <null>  <null>        5  \n",
       "20115  <null>  <null>  <null>       12  \n",
       "\n",
       "[20116 rows x 19 columns]"
      ]
     },
     "execution_count": 1106,
     "metadata": {},
     "output_type": "execute_result"
    }
   ],
   "source": [
    "df_train = pd.DataFrame(X_train_resampled)\n",
    "df_train['emotion']=y_train_resampled\n",
    "df_train "
   ]
  },
  {
   "cell_type": "code",
   "execution_count": 1107,
   "metadata": {},
   "outputs": [
    {
     "data": {
      "text/html": [
       "<div>\n",
       "<style scoped>\n",
       "    .dataframe tbody tr th:only-of-type {\n",
       "        vertical-align: middle;\n",
       "    }\n",
       "\n",
       "    .dataframe tbody tr th {\n",
       "        vertical-align: top;\n",
       "    }\n",
       "\n",
       "    .dataframe thead th {\n",
       "        text-align: right;\n",
       "    }\n",
       "</style>\n",
       "<table border=\"1\" class=\"dataframe\">\n",
       "  <thead>\n",
       "    <tr style=\"text-align: right;\">\n",
       "      <th></th>\n",
       "      <th>0</th>\n",
       "      <th>1</th>\n",
       "      <th>2</th>\n",
       "      <th>3</th>\n",
       "      <th>4</th>\n",
       "      <th>5</th>\n",
       "      <th>6</th>\n",
       "      <th>7</th>\n",
       "      <th>8</th>\n",
       "      <th>9</th>\n",
       "      <th>10</th>\n",
       "      <th>11</th>\n",
       "      <th>12</th>\n",
       "      <th>13</th>\n",
       "      <th>14</th>\n",
       "      <th>15</th>\n",
       "      <th>16</th>\n",
       "      <th>17</th>\n",
       "      <th>emotion</th>\n",
       "    </tr>\n",
       "  </thead>\n",
       "  <tbody>\n",
       "    <tr>\n",
       "      <th>0</th>\n",
       "      <td>&lt;name&gt;</td>\n",
       "      <td>make</td>\n",
       "      <td>bring</td>\n",
       "      <td>u</td>\n",
       "      <td>sum</td>\n",
       "      <td>&lt;null&gt;</td>\n",
       "      <td>&lt;null&gt;</td>\n",
       "      <td>&lt;null&gt;</td>\n",
       "      <td>&lt;null&gt;</td>\n",
       "      <td>&lt;null&gt;</td>\n",
       "      <td>&lt;null&gt;</td>\n",
       "      <td>&lt;null&gt;</td>\n",
       "      <td>&lt;null&gt;</td>\n",
       "      <td>&lt;null&gt;</td>\n",
       "      <td>&lt;null&gt;</td>\n",
       "      <td>&lt;null&gt;</td>\n",
       "      <td>&lt;null&gt;</td>\n",
       "      <td>&lt;null&gt;</td>\n",
       "      <td>12</td>\n",
       "    </tr>\n",
       "    <tr>\n",
       "      <th>1</th>\n",
       "      <td>&lt;name&gt;</td>\n",
       "      <td>pange</td>\n",
       "      <td>ahahahahaha</td>\n",
       "      <td>two</td>\n",
       "      <td>could</td>\n",
       "      <td>meet</td>\n",
       "      <td>drink</td>\n",
       "      <td>&lt;null&gt;</td>\n",
       "      <td>&lt;null&gt;</td>\n",
       "      <td>&lt;null&gt;</td>\n",
       "      <td>&lt;null&gt;</td>\n",
       "      <td>&lt;null&gt;</td>\n",
       "      <td>&lt;null&gt;</td>\n",
       "      <td>&lt;null&gt;</td>\n",
       "      <td>&lt;null&gt;</td>\n",
       "      <td>&lt;null&gt;</td>\n",
       "      <td>&lt;null&gt;</td>\n",
       "      <td>&lt;null&gt;</td>\n",
       "      <td>5</td>\n",
       "    </tr>\n",
       "    <tr>\n",
       "      <th>2</th>\n",
       "      <td>love</td>\n",
       "      <td>get</td>\n",
       "      <td>gift</td>\n",
       "      <td>mail</td>\n",
       "      <td>wonderful</td>\n",
       "      <td>friend</td>\n",
       "      <td>back</td>\n",
       "      <td>home</td>\n",
       "      <td>mis</td>\n",
       "      <td>myrtle</td>\n",
       "      <td>beach</td>\n",
       "      <td>much</td>\n",
       "      <td>litle</td>\n",
       "      <td>homesick</td>\n",
       "      <td>today</td>\n",
       "      <td>&lt;null&gt;</td>\n",
       "      <td>&lt;null&gt;</td>\n",
       "      <td>&lt;null&gt;</td>\n",
       "      <td>7</td>\n",
       "    </tr>\n",
       "    <tr>\n",
       "      <th>3</th>\n",
       "      <td>ap</td>\n",
       "      <td>gov</td>\n",
       "      <td>exam</td>\n",
       "      <td>loked</td>\n",
       "      <td>stuf</td>\n",
       "      <td>month</td>\n",
       "      <td>what's</td>\n",
       "      <td>i'm</td>\n",
       "      <td>total</td>\n",
       "      <td>legal</td>\n",
       "      <td>nerd</td>\n",
       "      <td>know</td>\n",
       "      <td>case</td>\n",
       "      <td>like</td>\n",
       "      <td>none</td>\n",
       "      <td>oh</td>\n",
       "      <td>yeah</td>\n",
       "      <td>&lt;null&gt;</td>\n",
       "      <td>8</td>\n",
       "    </tr>\n",
       "    <tr>\n",
       "      <th>4</th>\n",
       "      <td>get</td>\n",
       "      <td>ned</td>\n",
       "      <td>leave</td>\n",
       "      <td>clas</td>\n",
       "      <td>hour</td>\n",
       "      <td>&lt;null&gt;</td>\n",
       "      <td>&lt;null&gt;</td>\n",
       "      <td>&lt;null&gt;</td>\n",
       "      <td>&lt;null&gt;</td>\n",
       "      <td>&lt;null&gt;</td>\n",
       "      <td>&lt;null&gt;</td>\n",
       "      <td>&lt;null&gt;</td>\n",
       "      <td>&lt;null&gt;</td>\n",
       "      <td>&lt;null&gt;</td>\n",
       "      <td>&lt;null&gt;</td>\n",
       "      <td>&lt;null&gt;</td>\n",
       "      <td>&lt;null&gt;</td>\n",
       "      <td>&lt;null&gt;</td>\n",
       "      <td>3</td>\n",
       "    </tr>\n",
       "    <tr>\n",
       "      <th>...</th>\n",
       "      <td>...</td>\n",
       "      <td>...</td>\n",
       "      <td>...</td>\n",
       "      <td>...</td>\n",
       "      <td>...</td>\n",
       "      <td>...</td>\n",
       "      <td>...</td>\n",
       "      <td>...</td>\n",
       "      <td>...</td>\n",
       "      <td>...</td>\n",
       "      <td>...</td>\n",
       "      <td>...</td>\n",
       "      <td>...</td>\n",
       "      <td>...</td>\n",
       "      <td>...</td>\n",
       "      <td>...</td>\n",
       "      <td>...</td>\n",
       "      <td>...</td>\n",
       "      <td>...</td>\n",
       "    </tr>\n",
       "    <tr>\n",
       "      <th>20111</th>\n",
       "      <td>&lt;name&gt;</td>\n",
       "      <td>lokin</td>\n",
       "      <td>god</td>\n",
       "      <td>mate</td>\n",
       "      <td>&lt;null&gt;</td>\n",
       "      <td>&lt;null&gt;</td>\n",
       "      <td>&lt;null&gt;</td>\n",
       "      <td>&lt;null&gt;</td>\n",
       "      <td>&lt;null&gt;</td>\n",
       "      <td>&lt;null&gt;</td>\n",
       "      <td>&lt;null&gt;</td>\n",
       "      <td>&lt;null&gt;</td>\n",
       "      <td>&lt;null&gt;</td>\n",
       "      <td>&lt;null&gt;</td>\n",
       "      <td>&lt;null&gt;</td>\n",
       "      <td>&lt;null&gt;</td>\n",
       "      <td>&lt;null&gt;</td>\n",
       "      <td>&lt;null&gt;</td>\n",
       "      <td>9</td>\n",
       "    </tr>\n",
       "    <tr>\n",
       "      <th>20112</th>\n",
       "      <td>love</td>\n",
       "      <td>music</td>\n",
       "      <td>video</td>\n",
       "      <td>belong</td>\n",
       "      <td>taylor</td>\n",
       "      <td>&lt;null&gt;</td>\n",
       "      <td>&lt;null&gt;</td>\n",
       "      <td>&lt;null&gt;</td>\n",
       "      <td>&lt;null&gt;</td>\n",
       "      <td>&lt;null&gt;</td>\n",
       "      <td>&lt;null&gt;</td>\n",
       "      <td>&lt;null&gt;</td>\n",
       "      <td>&lt;null&gt;</td>\n",
       "      <td>&lt;null&gt;</td>\n",
       "      <td>&lt;null&gt;</td>\n",
       "      <td>&lt;null&gt;</td>\n",
       "      <td>&lt;null&gt;</td>\n",
       "      <td>&lt;null&gt;</td>\n",
       "      <td>7</td>\n",
       "    </tr>\n",
       "    <tr>\n",
       "      <th>20113</th>\n",
       "      <td>i'm</td>\n",
       "      <td>jason</td>\n",
       "      <td>mraz</td>\n",
       "      <td>loking</td>\n",
       "      <td>electric</td>\n",
       "      <td>guitar</td>\n",
       "      <td>yay</td>\n",
       "      <td>1</td>\n",
       "      <td>&lt;null&gt;</td>\n",
       "      <td>&lt;null&gt;</td>\n",
       "      <td>&lt;null&gt;</td>\n",
       "      <td>&lt;null&gt;</td>\n",
       "      <td>&lt;null&gt;</td>\n",
       "      <td>&lt;null&gt;</td>\n",
       "      <td>&lt;null&gt;</td>\n",
       "      <td>&lt;null&gt;</td>\n",
       "      <td>&lt;null&gt;</td>\n",
       "      <td>&lt;null&gt;</td>\n",
       "      <td>5</td>\n",
       "    </tr>\n",
       "    <tr>\n",
       "      <th>20114</th>\n",
       "      <td>barely</td>\n",
       "      <td>awake</td>\n",
       "      <td>eat</td>\n",
       "      <td>breakfast</td>\n",
       "      <td>marathon</td>\n",
       "      <td>morning</td>\n",
       "      <td>god</td>\n",
       "      <td>luck</td>\n",
       "      <td>al</td>\n",
       "      <td>racer</td>\n",
       "      <td>hapy</td>\n",
       "      <td>mother's</td>\n",
       "      <td>day</td>\n",
       "      <td>&lt;null&gt;</td>\n",
       "      <td>&lt;null&gt;</td>\n",
       "      <td>&lt;null&gt;</td>\n",
       "      <td>&lt;null&gt;</td>\n",
       "      <td>&lt;null&gt;</td>\n",
       "      <td>5</td>\n",
       "    </tr>\n",
       "    <tr>\n",
       "      <th>20115</th>\n",
       "      <td>&lt;name&gt;</td>\n",
       "      <td>notice</td>\n",
       "      <td>we're</td>\n",
       "      <td>begining</td>\n",
       "      <td>may</td>\n",
       "      <td>bad</td>\n",
       "      <td>recesion</td>\n",
       "      <td>since</td>\n",
       "      <td>1930</td>\n",
       "      <td>&lt;null&gt;</td>\n",
       "      <td>&lt;null&gt;</td>\n",
       "      <td>&lt;null&gt;</td>\n",
       "      <td>&lt;null&gt;</td>\n",
       "      <td>&lt;null&gt;</td>\n",
       "      <td>&lt;null&gt;</td>\n",
       "      <td>&lt;null&gt;</td>\n",
       "      <td>&lt;null&gt;</td>\n",
       "      <td>&lt;null&gt;</td>\n",
       "      <td>12</td>\n",
       "    </tr>\n",
       "  </tbody>\n",
       "</table>\n",
       "<p>19578 rows × 19 columns</p>\n",
       "</div>"
      ],
      "text/plain": [
       "            0       1            2          3          4        5         6  \\\n",
       "0      <name>    make        bring          u        sum   <null>    <null>   \n",
       "1      <name>   pange  ahahahahaha        two      could     meet     drink   \n",
       "2        love     get         gift       mail  wonderful   friend      back   \n",
       "3          ap     gov         exam      loked       stuf    month    what's   \n",
       "4         get     ned        leave       clas       hour   <null>    <null>   \n",
       "...       ...     ...          ...        ...        ...      ...       ...   \n",
       "20111  <name>   lokin          god       mate     <null>   <null>    <null>   \n",
       "20112    love   music        video     belong     taylor   <null>    <null>   \n",
       "20113     i'm   jason         mraz     loking   electric   guitar       yay   \n",
       "20114  barely   awake          eat  breakfast   marathon  morning       god   \n",
       "20115  <name>  notice        we're   begining        may      bad  recesion   \n",
       "\n",
       "            7       8       9      10        11      12        13      14  \\\n",
       "0      <null>  <null>  <null>  <null>    <null>  <null>    <null>  <null>   \n",
       "1      <null>  <null>  <null>  <null>    <null>  <null>    <null>  <null>   \n",
       "2        home     mis  myrtle   beach      much   litle  homesick   today   \n",
       "3         i'm   total   legal    nerd      know    case      like    none   \n",
       "4      <null>  <null>  <null>  <null>    <null>  <null>    <null>  <null>   \n",
       "...       ...     ...     ...     ...       ...     ...       ...     ...   \n",
       "20111  <null>  <null>  <null>  <null>    <null>  <null>    <null>  <null>   \n",
       "20112  <null>  <null>  <null>  <null>    <null>  <null>    <null>  <null>   \n",
       "20113       1  <null>  <null>  <null>    <null>  <null>    <null>  <null>   \n",
       "20114    luck      al   racer    hapy  mother's     day    <null>  <null>   \n",
       "20115   since    1930  <null>  <null>    <null>  <null>    <null>  <null>   \n",
       "\n",
       "           15      16      17  emotion  \n",
       "0      <null>  <null>  <null>       12  \n",
       "1      <null>  <null>  <null>        5  \n",
       "2      <null>  <null>  <null>        7  \n",
       "3          oh    yeah  <null>        8  \n",
       "4      <null>  <null>  <null>        3  \n",
       "...       ...     ...     ...      ...  \n",
       "20111  <null>  <null>  <null>        9  \n",
       "20112  <null>  <null>  <null>        7  \n",
       "20113  <null>  <null>  <null>        5  \n",
       "20114  <null>  <null>  <null>        5  \n",
       "20115  <null>  <null>  <null>       12  \n",
       "\n",
       "[19578 rows x 19 columns]"
      ]
     },
     "execution_count": 1107,
     "metadata": {},
     "output_type": "execute_result"
    }
   ],
   "source": [
    "df_traino = df_train.drop_duplicates()\n",
    "df_traino"
   ]
  },
  {
   "cell_type": "code",
   "execution_count": 1108,
   "metadata": {},
   "outputs": [
    {
     "data": {
      "text/html": [
       "<div>\n",
       "<style scoped>\n",
       "    .dataframe tbody tr th:only-of-type {\n",
       "        vertical-align: middle;\n",
       "    }\n",
       "\n",
       "    .dataframe tbody tr th {\n",
       "        vertical-align: top;\n",
       "    }\n",
       "\n",
       "    .dataframe thead th {\n",
       "        text-align: right;\n",
       "    }\n",
       "</style>\n",
       "<table border=\"1\" class=\"dataframe\">\n",
       "  <thead>\n",
       "    <tr style=\"text-align: right;\">\n",
       "      <th></th>\n",
       "      <th>0</th>\n",
       "      <th>1</th>\n",
       "      <th>2</th>\n",
       "      <th>3</th>\n",
       "      <th>4</th>\n",
       "      <th>5</th>\n",
       "      <th>6</th>\n",
       "      <th>7</th>\n",
       "      <th>8</th>\n",
       "      <th>9</th>\n",
       "      <th>10</th>\n",
       "      <th>11</th>\n",
       "      <th>12</th>\n",
       "      <th>13</th>\n",
       "      <th>14</th>\n",
       "      <th>15</th>\n",
       "      <th>16</th>\n",
       "      <th>17</th>\n",
       "      <th>emotion</th>\n",
       "    </tr>\n",
       "  </thead>\n",
       "  <tbody>\n",
       "    <tr>\n",
       "      <th>0</th>\n",
       "      <td>&lt;name&gt;</td>\n",
       "      <td>what's</td>\n",
       "      <td>deal</td>\n",
       "      <td>&lt;null&gt;</td>\n",
       "      <td>&lt;null&gt;</td>\n",
       "      <td>&lt;null&gt;</td>\n",
       "      <td>&lt;null&gt;</td>\n",
       "      <td>&lt;null&gt;</td>\n",
       "      <td>&lt;null&gt;</td>\n",
       "      <td>&lt;null&gt;</td>\n",
       "      <td>&lt;null&gt;</td>\n",
       "      <td>&lt;null&gt;</td>\n",
       "      <td>&lt;null&gt;</td>\n",
       "      <td>&lt;null&gt;</td>\n",
       "      <td>&lt;null&gt;</td>\n",
       "      <td>&lt;null&gt;</td>\n",
       "      <td>&lt;null&gt;</td>\n",
       "      <td>&lt;null&gt;</td>\n",
       "      <td>11</td>\n",
       "    </tr>\n",
       "    <tr>\n",
       "      <th>1</th>\n",
       "      <td>&lt;name&gt;</td>\n",
       "      <td>god</td>\n",
       "      <td>morning</td>\n",
       "      <td>&lt;null&gt;</td>\n",
       "      <td>&lt;null&gt;</td>\n",
       "      <td>&lt;null&gt;</td>\n",
       "      <td>&lt;null&gt;</td>\n",
       "      <td>&lt;null&gt;</td>\n",
       "      <td>&lt;null&gt;</td>\n",
       "      <td>&lt;null&gt;</td>\n",
       "      <td>&lt;null&gt;</td>\n",
       "      <td>&lt;null&gt;</td>\n",
       "      <td>&lt;null&gt;</td>\n",
       "      <td>&lt;null&gt;</td>\n",
       "      <td>&lt;null&gt;</td>\n",
       "      <td>&lt;null&gt;</td>\n",
       "      <td>&lt;null&gt;</td>\n",
       "      <td>&lt;null&gt;</td>\n",
       "      <td>7</td>\n",
       "    </tr>\n",
       "    <tr>\n",
       "      <th>2</th>\n",
       "      <td>&lt;name&gt;</td>\n",
       "      <td>night</td>\n",
       "      <td>girl</td>\n",
       "      <td>seriously</td>\n",
       "      <td>want</td>\n",
       "      <td>hear</td>\n",
       "      <td>story</td>\n",
       "      <td>&lt;null&gt;</td>\n",
       "      <td>&lt;null&gt;</td>\n",
       "      <td>&lt;null&gt;</td>\n",
       "      <td>&lt;null&gt;</td>\n",
       "      <td>&lt;null&gt;</td>\n",
       "      <td>&lt;null&gt;</td>\n",
       "      <td>&lt;null&gt;</td>\n",
       "      <td>&lt;null&gt;</td>\n",
       "      <td>&lt;null&gt;</td>\n",
       "      <td>&lt;null&gt;</td>\n",
       "      <td>&lt;null&gt;</td>\n",
       "      <td>4</td>\n",
       "    </tr>\n",
       "    <tr>\n",
       "      <th>3</th>\n",
       "      <td>&lt;name&gt;</td>\n",
       "      <td>sound</td>\n",
       "      <td>god</td>\n",
       "      <td>cleaning</td>\n",
       "      <td>cynic</td>\n",
       "      <td>order</td>\n",
       "      <td>haha</td>\n",
       "      <td>god</td>\n",
       "      <td>night</td>\n",
       "      <td>talk</td>\n",
       "      <td>tomorow</td>\n",
       "      <td>&lt;null&gt;</td>\n",
       "      <td>&lt;null&gt;</td>\n",
       "      <td>&lt;null&gt;</td>\n",
       "      <td>&lt;null&gt;</td>\n",
       "      <td>&lt;null&gt;</td>\n",
       "      <td>&lt;null&gt;</td>\n",
       "      <td>&lt;null&gt;</td>\n",
       "      <td>5</td>\n",
       "    </tr>\n",
       "    <tr>\n",
       "      <th>4</th>\n",
       "      <td>&lt;name&gt;</td>\n",
       "      <td>sigh</td>\n",
       "      <td>exam</td>\n",
       "      <td>aint</td>\n",
       "      <td>wer</td>\n",
       "      <td>near</td>\n",
       "      <td>finish</td>\n",
       "      <td>3</td>\n",
       "      <td>next</td>\n",
       "      <td>wek</td>\n",
       "      <td>bin</td>\n",
       "      <td>stresd</td>\n",
       "      <td>aint</td>\n",
       "      <td>guna</td>\n",
       "      <td>b</td>\n",
       "      <td>bak</td>\n",
       "      <td>til</td>\n",
       "      <td>end</td>\n",
       "      <td>6</td>\n",
       "    </tr>\n",
       "    <tr>\n",
       "      <th>...</th>\n",
       "      <td>...</td>\n",
       "      <td>...</td>\n",
       "      <td>...</td>\n",
       "      <td>...</td>\n",
       "      <td>...</td>\n",
       "      <td>...</td>\n",
       "      <td>...</td>\n",
       "      <td>...</td>\n",
       "      <td>...</td>\n",
       "      <td>...</td>\n",
       "      <td>...</td>\n",
       "      <td>...</td>\n",
       "      <td>...</td>\n",
       "      <td>...</td>\n",
       "      <td>...</td>\n",
       "      <td>...</td>\n",
       "      <td>...</td>\n",
       "      <td>...</td>\n",
       "      <td>...</td>\n",
       "    </tr>\n",
       "    <tr>\n",
       "      <th>6799</th>\n",
       "      <td>hapy</td>\n",
       "      <td>mother's</td>\n",
       "      <td>day</td>\n",
       "      <td>like</td>\n",
       "      <td>poem</td>\n",
       "      <td>&lt;null&gt;</td>\n",
       "      <td>&lt;null&gt;</td>\n",
       "      <td>&lt;null&gt;</td>\n",
       "      <td>&lt;null&gt;</td>\n",
       "      <td>&lt;null&gt;</td>\n",
       "      <td>&lt;null&gt;</td>\n",
       "      <td>&lt;null&gt;</td>\n",
       "      <td>&lt;null&gt;</td>\n",
       "      <td>&lt;null&gt;</td>\n",
       "      <td>&lt;null&gt;</td>\n",
       "      <td>&lt;null&gt;</td>\n",
       "      <td>&lt;null&gt;</td>\n",
       "      <td>&lt;null&gt;</td>\n",
       "      <td>7</td>\n",
       "    </tr>\n",
       "    <tr>\n",
       "      <th>6800</th>\n",
       "      <td>&lt;name&gt;</td>\n",
       "      <td>aw</td>\n",
       "      <td>preciate</td>\n",
       "      <td>love</td>\n",
       "      <td>hunie</td>\n",
       "      <td>&lt;null&gt;</td>\n",
       "      <td>&lt;null&gt;</td>\n",
       "      <td>&lt;null&gt;</td>\n",
       "      <td>&lt;null&gt;</td>\n",
       "      <td>&lt;null&gt;</td>\n",
       "      <td>&lt;null&gt;</td>\n",
       "      <td>&lt;null&gt;</td>\n",
       "      <td>&lt;null&gt;</td>\n",
       "      <td>&lt;null&gt;</td>\n",
       "      <td>&lt;null&gt;</td>\n",
       "      <td>&lt;null&gt;</td>\n",
       "      <td>&lt;null&gt;</td>\n",
       "      <td>&lt;null&gt;</td>\n",
       "      <td>5</td>\n",
       "    </tr>\n",
       "    <tr>\n",
       "      <th>6801</th>\n",
       "      <td>leave</td>\n",
       "      <td>atlanta</td>\n",
       "      <td>morning</td>\n",
       "      <td>catch</td>\n",
       "      <td>joco</td>\n",
       "      <td>pa</td>\n",
       "      <td>amp</td>\n",
       "      <td>st</td>\n",
       "      <td>i'm</td>\n",
       "      <td>excite</td>\n",
       "      <td>mised</td>\n",
       "      <td>pamps</td>\n",
       "      <td>anger</td>\n",
       "      <td>last</td>\n",
       "      <td>year</td>\n",
       "      <td>make</td>\n",
       "      <td>sad</td>\n",
       "      <td>owl</td>\n",
       "      <td>10</td>\n",
       "    </tr>\n",
       "    <tr>\n",
       "      <th>6802</th>\n",
       "      <td>phone</td>\n",
       "      <td>die</td>\n",
       "      <td>&lt;null&gt;</td>\n",
       "      <td>&lt;null&gt;</td>\n",
       "      <td>&lt;null&gt;</td>\n",
       "      <td>&lt;null&gt;</td>\n",
       "      <td>&lt;null&gt;</td>\n",
       "      <td>&lt;null&gt;</td>\n",
       "      <td>&lt;null&gt;</td>\n",
       "      <td>&lt;null&gt;</td>\n",
       "      <td>&lt;null&gt;</td>\n",
       "      <td>&lt;null&gt;</td>\n",
       "      <td>&lt;null&gt;</td>\n",
       "      <td>&lt;null&gt;</td>\n",
       "      <td>&lt;null&gt;</td>\n",
       "      <td>&lt;null&gt;</td>\n",
       "      <td>&lt;null&gt;</td>\n",
       "      <td>&lt;null&gt;</td>\n",
       "      <td>12</td>\n",
       "    </tr>\n",
       "    <tr>\n",
       "      <th>6803</th>\n",
       "      <td>&lt;name&gt;</td>\n",
       "      <td>i'm</td>\n",
       "      <td>sory</td>\n",
       "      <td>hear</td>\n",
       "      <td>bad</td>\n",
       "      <td>news</td>\n",
       "      <td>wil</td>\n",
       "      <td>send</td>\n",
       "      <td>hapy</td>\n",
       "      <td>thought</td>\n",
       "      <td>way</td>\n",
       "      <td>find</td>\n",
       "      <td>new</td>\n",
       "      <td>job</td>\n",
       "      <td>son</td>\n",
       "      <td>&lt;null&gt;</td>\n",
       "      <td>&lt;null&gt;</td>\n",
       "      <td>&lt;null&gt;</td>\n",
       "      <td>12</td>\n",
       "    </tr>\n",
       "  </tbody>\n",
       "</table>\n",
       "<p>6804 rows × 19 columns</p>\n",
       "</div>"
      ],
      "text/plain": [
       "           0         1         2          3       4       5       6       7  \\\n",
       "0     <name>    what's      deal     <null>  <null>  <null>  <null>  <null>   \n",
       "1     <name>       god   morning     <null>  <null>  <null>  <null>  <null>   \n",
       "2     <name>     night      girl  seriously    want    hear   story  <null>   \n",
       "3     <name>     sound       god   cleaning   cynic   order    haha     god   \n",
       "4     <name>      sigh      exam       aint     wer    near  finish       3   \n",
       "...      ...       ...       ...        ...     ...     ...     ...     ...   \n",
       "6799    hapy  mother's       day       like    poem  <null>  <null>  <null>   \n",
       "6800  <name>        aw  preciate       love   hunie  <null>  <null>  <null>   \n",
       "6801   leave   atlanta   morning      catch    joco      pa     amp      st   \n",
       "6802   phone       die    <null>     <null>  <null>  <null>  <null>  <null>   \n",
       "6803  <name>       i'm      sory       hear     bad    news     wil    send   \n",
       "\n",
       "           8        9       10      11      12      13      14      15  \\\n",
       "0     <null>   <null>   <null>  <null>  <null>  <null>  <null>  <null>   \n",
       "1     <null>   <null>   <null>  <null>  <null>  <null>  <null>  <null>   \n",
       "2     <null>   <null>   <null>  <null>  <null>  <null>  <null>  <null>   \n",
       "3      night     talk  tomorow  <null>  <null>  <null>  <null>  <null>   \n",
       "4       next      wek      bin  stresd    aint    guna       b     bak   \n",
       "...      ...      ...      ...     ...     ...     ...     ...     ...   \n",
       "6799  <null>   <null>   <null>  <null>  <null>  <null>  <null>  <null>   \n",
       "6800  <null>   <null>   <null>  <null>  <null>  <null>  <null>  <null>   \n",
       "6801     i'm   excite    mised   pamps   anger    last    year    make   \n",
       "6802  <null>   <null>   <null>  <null>  <null>  <null>  <null>  <null>   \n",
       "6803    hapy  thought      way    find     new     job     son  <null>   \n",
       "\n",
       "          16      17  emotion  \n",
       "0     <null>  <null>       11  \n",
       "1     <null>  <null>        7  \n",
       "2     <null>  <null>        4  \n",
       "3     <null>  <null>        5  \n",
       "4        til     end        6  \n",
       "...      ...     ...      ...  \n",
       "6799  <null>  <null>        7  \n",
       "6800  <null>  <null>        5  \n",
       "6801     sad     owl       10  \n",
       "6802  <null>  <null>       12  \n",
       "6803  <null>  <null>       12  \n",
       "\n",
       "[6804 rows x 19 columns]"
      ]
     },
     "execution_count": 1108,
     "metadata": {},
     "output_type": "execute_result"
    }
   ],
   "source": [
    "df_val = pd.DataFrame(X_val_resampled)\n",
    "df_val['emotion']=y_val_resampled\n",
    "df_val"
   ]
  },
  {
   "cell_type": "code",
   "execution_count": 1109,
   "metadata": {},
   "outputs": [
    {
     "data": {
      "text/html": [
       "<div>\n",
       "<style scoped>\n",
       "    .dataframe tbody tr th:only-of-type {\n",
       "        vertical-align: middle;\n",
       "    }\n",
       "\n",
       "    .dataframe tbody tr th {\n",
       "        vertical-align: top;\n",
       "    }\n",
       "\n",
       "    .dataframe thead th {\n",
       "        text-align: right;\n",
       "    }\n",
       "</style>\n",
       "<table border=\"1\" class=\"dataframe\">\n",
       "  <thead>\n",
       "    <tr style=\"text-align: right;\">\n",
       "      <th></th>\n",
       "      <th>0</th>\n",
       "      <th>1</th>\n",
       "      <th>2</th>\n",
       "      <th>3</th>\n",
       "      <th>4</th>\n",
       "      <th>5</th>\n",
       "      <th>6</th>\n",
       "      <th>7</th>\n",
       "      <th>8</th>\n",
       "      <th>9</th>\n",
       "      <th>10</th>\n",
       "      <th>11</th>\n",
       "      <th>12</th>\n",
       "      <th>13</th>\n",
       "      <th>14</th>\n",
       "      <th>15</th>\n",
       "      <th>16</th>\n",
       "      <th>17</th>\n",
       "      <th>emotion</th>\n",
       "    </tr>\n",
       "  </thead>\n",
       "  <tbody>\n",
       "    <tr>\n",
       "      <th>0</th>\n",
       "      <td>&lt;name&gt;</td>\n",
       "      <td>what's</td>\n",
       "      <td>deal</td>\n",
       "      <td>&lt;null&gt;</td>\n",
       "      <td>&lt;null&gt;</td>\n",
       "      <td>&lt;null&gt;</td>\n",
       "      <td>&lt;null&gt;</td>\n",
       "      <td>&lt;null&gt;</td>\n",
       "      <td>&lt;null&gt;</td>\n",
       "      <td>&lt;null&gt;</td>\n",
       "      <td>&lt;null&gt;</td>\n",
       "      <td>&lt;null&gt;</td>\n",
       "      <td>&lt;null&gt;</td>\n",
       "      <td>&lt;null&gt;</td>\n",
       "      <td>&lt;null&gt;</td>\n",
       "      <td>&lt;null&gt;</td>\n",
       "      <td>&lt;null&gt;</td>\n",
       "      <td>&lt;null&gt;</td>\n",
       "      <td>11</td>\n",
       "    </tr>\n",
       "    <tr>\n",
       "      <th>1</th>\n",
       "      <td>&lt;name&gt;</td>\n",
       "      <td>god</td>\n",
       "      <td>morning</td>\n",
       "      <td>&lt;null&gt;</td>\n",
       "      <td>&lt;null&gt;</td>\n",
       "      <td>&lt;null&gt;</td>\n",
       "      <td>&lt;null&gt;</td>\n",
       "      <td>&lt;null&gt;</td>\n",
       "      <td>&lt;null&gt;</td>\n",
       "      <td>&lt;null&gt;</td>\n",
       "      <td>&lt;null&gt;</td>\n",
       "      <td>&lt;null&gt;</td>\n",
       "      <td>&lt;null&gt;</td>\n",
       "      <td>&lt;null&gt;</td>\n",
       "      <td>&lt;null&gt;</td>\n",
       "      <td>&lt;null&gt;</td>\n",
       "      <td>&lt;null&gt;</td>\n",
       "      <td>&lt;null&gt;</td>\n",
       "      <td>7</td>\n",
       "    </tr>\n",
       "    <tr>\n",
       "      <th>2</th>\n",
       "      <td>&lt;name&gt;</td>\n",
       "      <td>night</td>\n",
       "      <td>girl</td>\n",
       "      <td>seriously</td>\n",
       "      <td>want</td>\n",
       "      <td>hear</td>\n",
       "      <td>story</td>\n",
       "      <td>&lt;null&gt;</td>\n",
       "      <td>&lt;null&gt;</td>\n",
       "      <td>&lt;null&gt;</td>\n",
       "      <td>&lt;null&gt;</td>\n",
       "      <td>&lt;null&gt;</td>\n",
       "      <td>&lt;null&gt;</td>\n",
       "      <td>&lt;null&gt;</td>\n",
       "      <td>&lt;null&gt;</td>\n",
       "      <td>&lt;null&gt;</td>\n",
       "      <td>&lt;null&gt;</td>\n",
       "      <td>&lt;null&gt;</td>\n",
       "      <td>4</td>\n",
       "    </tr>\n",
       "    <tr>\n",
       "      <th>3</th>\n",
       "      <td>&lt;name&gt;</td>\n",
       "      <td>sound</td>\n",
       "      <td>god</td>\n",
       "      <td>cleaning</td>\n",
       "      <td>cynic</td>\n",
       "      <td>order</td>\n",
       "      <td>haha</td>\n",
       "      <td>god</td>\n",
       "      <td>night</td>\n",
       "      <td>talk</td>\n",
       "      <td>tomorow</td>\n",
       "      <td>&lt;null&gt;</td>\n",
       "      <td>&lt;null&gt;</td>\n",
       "      <td>&lt;null&gt;</td>\n",
       "      <td>&lt;null&gt;</td>\n",
       "      <td>&lt;null&gt;</td>\n",
       "      <td>&lt;null&gt;</td>\n",
       "      <td>&lt;null&gt;</td>\n",
       "      <td>5</td>\n",
       "    </tr>\n",
       "    <tr>\n",
       "      <th>4</th>\n",
       "      <td>&lt;name&gt;</td>\n",
       "      <td>sigh</td>\n",
       "      <td>exam</td>\n",
       "      <td>aint</td>\n",
       "      <td>wer</td>\n",
       "      <td>near</td>\n",
       "      <td>finish</td>\n",
       "      <td>3</td>\n",
       "      <td>next</td>\n",
       "      <td>wek</td>\n",
       "      <td>bin</td>\n",
       "      <td>stresd</td>\n",
       "      <td>aint</td>\n",
       "      <td>guna</td>\n",
       "      <td>b</td>\n",
       "      <td>bak</td>\n",
       "      <td>til</td>\n",
       "      <td>end</td>\n",
       "      <td>6</td>\n",
       "    </tr>\n",
       "    <tr>\n",
       "      <th>...</th>\n",
       "      <td>...</td>\n",
       "      <td>...</td>\n",
       "      <td>...</td>\n",
       "      <td>...</td>\n",
       "      <td>...</td>\n",
       "      <td>...</td>\n",
       "      <td>...</td>\n",
       "      <td>...</td>\n",
       "      <td>...</td>\n",
       "      <td>...</td>\n",
       "      <td>...</td>\n",
       "      <td>...</td>\n",
       "      <td>...</td>\n",
       "      <td>...</td>\n",
       "      <td>...</td>\n",
       "      <td>...</td>\n",
       "      <td>...</td>\n",
       "      <td>...</td>\n",
       "      <td>...</td>\n",
       "    </tr>\n",
       "    <tr>\n",
       "      <th>6799</th>\n",
       "      <td>hapy</td>\n",
       "      <td>mother's</td>\n",
       "      <td>day</td>\n",
       "      <td>like</td>\n",
       "      <td>poem</td>\n",
       "      <td>&lt;null&gt;</td>\n",
       "      <td>&lt;null&gt;</td>\n",
       "      <td>&lt;null&gt;</td>\n",
       "      <td>&lt;null&gt;</td>\n",
       "      <td>&lt;null&gt;</td>\n",
       "      <td>&lt;null&gt;</td>\n",
       "      <td>&lt;null&gt;</td>\n",
       "      <td>&lt;null&gt;</td>\n",
       "      <td>&lt;null&gt;</td>\n",
       "      <td>&lt;null&gt;</td>\n",
       "      <td>&lt;null&gt;</td>\n",
       "      <td>&lt;null&gt;</td>\n",
       "      <td>&lt;null&gt;</td>\n",
       "      <td>7</td>\n",
       "    </tr>\n",
       "    <tr>\n",
       "      <th>6800</th>\n",
       "      <td>&lt;name&gt;</td>\n",
       "      <td>aw</td>\n",
       "      <td>preciate</td>\n",
       "      <td>love</td>\n",
       "      <td>hunie</td>\n",
       "      <td>&lt;null&gt;</td>\n",
       "      <td>&lt;null&gt;</td>\n",
       "      <td>&lt;null&gt;</td>\n",
       "      <td>&lt;null&gt;</td>\n",
       "      <td>&lt;null&gt;</td>\n",
       "      <td>&lt;null&gt;</td>\n",
       "      <td>&lt;null&gt;</td>\n",
       "      <td>&lt;null&gt;</td>\n",
       "      <td>&lt;null&gt;</td>\n",
       "      <td>&lt;null&gt;</td>\n",
       "      <td>&lt;null&gt;</td>\n",
       "      <td>&lt;null&gt;</td>\n",
       "      <td>&lt;null&gt;</td>\n",
       "      <td>5</td>\n",
       "    </tr>\n",
       "    <tr>\n",
       "      <th>6801</th>\n",
       "      <td>leave</td>\n",
       "      <td>atlanta</td>\n",
       "      <td>morning</td>\n",
       "      <td>catch</td>\n",
       "      <td>joco</td>\n",
       "      <td>pa</td>\n",
       "      <td>amp</td>\n",
       "      <td>st</td>\n",
       "      <td>i'm</td>\n",
       "      <td>excite</td>\n",
       "      <td>mised</td>\n",
       "      <td>pamps</td>\n",
       "      <td>anger</td>\n",
       "      <td>last</td>\n",
       "      <td>year</td>\n",
       "      <td>make</td>\n",
       "      <td>sad</td>\n",
       "      <td>owl</td>\n",
       "      <td>10</td>\n",
       "    </tr>\n",
       "    <tr>\n",
       "      <th>6802</th>\n",
       "      <td>phone</td>\n",
       "      <td>die</td>\n",
       "      <td>&lt;null&gt;</td>\n",
       "      <td>&lt;null&gt;</td>\n",
       "      <td>&lt;null&gt;</td>\n",
       "      <td>&lt;null&gt;</td>\n",
       "      <td>&lt;null&gt;</td>\n",
       "      <td>&lt;null&gt;</td>\n",
       "      <td>&lt;null&gt;</td>\n",
       "      <td>&lt;null&gt;</td>\n",
       "      <td>&lt;null&gt;</td>\n",
       "      <td>&lt;null&gt;</td>\n",
       "      <td>&lt;null&gt;</td>\n",
       "      <td>&lt;null&gt;</td>\n",
       "      <td>&lt;null&gt;</td>\n",
       "      <td>&lt;null&gt;</td>\n",
       "      <td>&lt;null&gt;</td>\n",
       "      <td>&lt;null&gt;</td>\n",
       "      <td>12</td>\n",
       "    </tr>\n",
       "    <tr>\n",
       "      <th>6803</th>\n",
       "      <td>&lt;name&gt;</td>\n",
       "      <td>i'm</td>\n",
       "      <td>sory</td>\n",
       "      <td>hear</td>\n",
       "      <td>bad</td>\n",
       "      <td>news</td>\n",
       "      <td>wil</td>\n",
       "      <td>send</td>\n",
       "      <td>hapy</td>\n",
       "      <td>thought</td>\n",
       "      <td>way</td>\n",
       "      <td>find</td>\n",
       "      <td>new</td>\n",
       "      <td>job</td>\n",
       "      <td>son</td>\n",
       "      <td>&lt;null&gt;</td>\n",
       "      <td>&lt;null&gt;</td>\n",
       "      <td>&lt;null&gt;</td>\n",
       "      <td>12</td>\n",
       "    </tr>\n",
       "  </tbody>\n",
       "</table>\n",
       "<p>6551 rows × 19 columns</p>\n",
       "</div>"
      ],
      "text/plain": [
       "           0         1         2          3       4       5       6       7  \\\n",
       "0     <name>    what's      deal     <null>  <null>  <null>  <null>  <null>   \n",
       "1     <name>       god   morning     <null>  <null>  <null>  <null>  <null>   \n",
       "2     <name>     night      girl  seriously    want    hear   story  <null>   \n",
       "3     <name>     sound       god   cleaning   cynic   order    haha     god   \n",
       "4     <name>      sigh      exam       aint     wer    near  finish       3   \n",
       "...      ...       ...       ...        ...     ...     ...     ...     ...   \n",
       "6799    hapy  mother's       day       like    poem  <null>  <null>  <null>   \n",
       "6800  <name>        aw  preciate       love   hunie  <null>  <null>  <null>   \n",
       "6801   leave   atlanta   morning      catch    joco      pa     amp      st   \n",
       "6802   phone       die    <null>     <null>  <null>  <null>  <null>  <null>   \n",
       "6803  <name>       i'm      sory       hear     bad    news     wil    send   \n",
       "\n",
       "           8        9       10      11      12      13      14      15  \\\n",
       "0     <null>   <null>   <null>  <null>  <null>  <null>  <null>  <null>   \n",
       "1     <null>   <null>   <null>  <null>  <null>  <null>  <null>  <null>   \n",
       "2     <null>   <null>   <null>  <null>  <null>  <null>  <null>  <null>   \n",
       "3      night     talk  tomorow  <null>  <null>  <null>  <null>  <null>   \n",
       "4       next      wek      bin  stresd    aint    guna       b     bak   \n",
       "...      ...      ...      ...     ...     ...     ...     ...     ...   \n",
       "6799  <null>   <null>   <null>  <null>  <null>  <null>  <null>  <null>   \n",
       "6800  <null>   <null>   <null>  <null>  <null>  <null>  <null>  <null>   \n",
       "6801     i'm   excite    mised   pamps   anger    last    year    make   \n",
       "6802  <null>   <null>   <null>  <null>  <null>  <null>  <null>  <null>   \n",
       "6803    hapy  thought      way    find     new     job     son  <null>   \n",
       "\n",
       "          16      17  emotion  \n",
       "0     <null>  <null>       11  \n",
       "1     <null>  <null>        7  \n",
       "2     <null>  <null>        4  \n",
       "3     <null>  <null>        5  \n",
       "4        til     end        6  \n",
       "...      ...     ...      ...  \n",
       "6799  <null>  <null>        7  \n",
       "6800  <null>  <null>        5  \n",
       "6801     sad     owl       10  \n",
       "6802  <null>  <null>       12  \n",
       "6803  <null>  <null>       12  \n",
       "\n",
       "[6551 rows x 19 columns]"
      ]
     },
     "execution_count": 1109,
     "metadata": {},
     "output_type": "execute_result"
    }
   ],
   "source": [
    "df_valo = df_val.drop_duplicates()\n",
    "df_valo"
   ]
  },
  {
   "cell_type": "code",
   "execution_count": 1110,
   "metadata": {},
   "outputs": [],
   "source": [
    "indexo = list(df_traino.index)\n",
    "indexa = list(df_train.index)\n",
    "indexd = []\n",
    "for i in indexa:\n",
    "    if(i not in indexo):\n",
    "        indexd.append(i)\n",
    "\n",
    "indexov = list(df_valo.index)\n",
    "indexav = list(df_val.index)\n",
    "indexdv = []\n",
    "for i in indexav:\n",
    "    if(i not in indexov):\n",
    "        indexdv.append(i)"
   ]
  },
  {
   "cell_type": "code",
   "execution_count": 1111,
   "metadata": {},
   "outputs": [
    {
     "data": {
      "text/plain": [
       "(538, 253)"
      ]
     },
     "execution_count": 1111,
     "metadata": {},
     "output_type": "execute_result"
    }
   ],
   "source": [
    "len(indexd),len(indexdv)"
   ]
  },
  {
   "cell_type": "code",
   "execution_count": 1112,
   "metadata": {},
   "outputs": [
    {
     "data": {
      "text/html": [
       "<div>\n",
       "<style scoped>\n",
       "    .dataframe tbody tr th:only-of-type {\n",
       "        vertical-align: middle;\n",
       "    }\n",
       "\n",
       "    .dataframe tbody tr th {\n",
       "        vertical-align: top;\n",
       "    }\n",
       "\n",
       "    .dataframe thead th {\n",
       "        text-align: right;\n",
       "    }\n",
       "</style>\n",
       "<table border=\"1\" class=\"dataframe\">\n",
       "  <thead>\n",
       "    <tr style=\"text-align: right;\">\n",
       "      <th></th>\n",
       "      <th>0</th>\n",
       "      <th>1</th>\n",
       "      <th>2</th>\n",
       "      <th>3</th>\n",
       "      <th>4</th>\n",
       "      <th>5</th>\n",
       "      <th>6</th>\n",
       "      <th>7</th>\n",
       "      <th>8</th>\n",
       "      <th>9</th>\n",
       "      <th>10</th>\n",
       "      <th>11</th>\n",
       "      <th>12</th>\n",
       "      <th>13</th>\n",
       "      <th>14</th>\n",
       "      <th>15</th>\n",
       "      <th>16</th>\n",
       "      <th>17</th>\n",
       "      <th>emotion</th>\n",
       "    </tr>\n",
       "  </thead>\n",
       "  <tbody>\n",
       "    <tr>\n",
       "      <th>623</th>\n",
       "      <td>wake</td>\n",
       "      <td>day</td>\n",
       "      <td>ned</td>\n",
       "      <td>go</td>\n",
       "      <td>work</td>\n",
       "      <td>suck</td>\n",
       "      <td>also</td>\n",
       "      <td>go</td>\n",
       "      <td>dentist</td>\n",
       "      <td>file</td>\n",
       "      <td>12</td>\n",
       "      <td>st</td>\n",
       "      <td>helen</td>\n",
       "      <td>mri</td>\n",
       "      <td>scan</td>\n",
       "      <td>2</td>\n",
       "      <td>&lt;null&gt;</td>\n",
       "      <td>&lt;null&gt;</td>\n",
       "      <td>1</td>\n",
       "    </tr>\n",
       "    <tr>\n",
       "      <th>719</th>\n",
       "      <td>&lt;name&gt;</td>\n",
       "      <td>welcome</td>\n",
       "      <td>twiter</td>\n",
       "      <td>&lt;null&gt;</td>\n",
       "      <td>&lt;null&gt;</td>\n",
       "      <td>&lt;null&gt;</td>\n",
       "      <td>&lt;null&gt;</td>\n",
       "      <td>&lt;null&gt;</td>\n",
       "      <td>&lt;null&gt;</td>\n",
       "      <td>&lt;null&gt;</td>\n",
       "      <td>&lt;null&gt;</td>\n",
       "      <td>&lt;null&gt;</td>\n",
       "      <td>&lt;null&gt;</td>\n",
       "      <td>&lt;null&gt;</td>\n",
       "      <td>&lt;null&gt;</td>\n",
       "      <td>&lt;null&gt;</td>\n",
       "      <td>&lt;null&gt;</td>\n",
       "      <td>&lt;null&gt;</td>\n",
       "      <td>3</td>\n",
       "    </tr>\n",
       "    <tr>\n",
       "      <th>1269</th>\n",
       "      <td>wake</td>\n",
       "      <td>day</td>\n",
       "      <td>ned</td>\n",
       "      <td>go</td>\n",
       "      <td>work</td>\n",
       "      <td>suck</td>\n",
       "      <td>also</td>\n",
       "      <td>go</td>\n",
       "      <td>dentist</td>\n",
       "      <td>file</td>\n",
       "      <td>12</td>\n",
       "      <td>st</td>\n",
       "      <td>helen</td>\n",
       "      <td>mri</td>\n",
       "      <td>scan</td>\n",
       "      <td>2</td>\n",
       "      <td>&lt;null&gt;</td>\n",
       "      <td>&lt;null&gt;</td>\n",
       "      <td>1</td>\n",
       "    </tr>\n",
       "    <tr>\n",
       "      <th>1302</th>\n",
       "      <td>get</td>\n",
       "      <td>back</td>\n",
       "      <td>work</td>\n",
       "      <td>ot</td>\n",
       "      <td>na</td>\n",
       "      <td>naman</td>\n",
       "      <td>what's</td>\n",
       "      <td>new</td>\n",
       "      <td>&lt;null&gt;</td>\n",
       "      <td>&lt;null&gt;</td>\n",
       "      <td>&lt;null&gt;</td>\n",
       "      <td>&lt;null&gt;</td>\n",
       "      <td>&lt;null&gt;</td>\n",
       "      <td>&lt;null&gt;</td>\n",
       "      <td>&lt;null&gt;</td>\n",
       "      <td>&lt;null&gt;</td>\n",
       "      <td>&lt;null&gt;</td>\n",
       "      <td>&lt;null&gt;</td>\n",
       "      <td>3</td>\n",
       "    </tr>\n",
       "    <tr>\n",
       "      <th>1519</th>\n",
       "      <td>&lt;name&gt;</td>\n",
       "      <td>phone</td>\n",
       "      <td>whatchu</td>\n",
       "      <td>tonight</td>\n",
       "      <td>sucka</td>\n",
       "      <td>dane</td>\n",
       "      <td>cok</td>\n",
       "      <td>sell</td>\n",
       "      <td>ticket</td>\n",
       "      <td>lame</td>\n",
       "      <td>&lt;null&gt;</td>\n",
       "      <td>&lt;null&gt;</td>\n",
       "      <td>&lt;null&gt;</td>\n",
       "      <td>&lt;null&gt;</td>\n",
       "      <td>&lt;null&gt;</td>\n",
       "      <td>&lt;null&gt;</td>\n",
       "      <td>&lt;null&gt;</td>\n",
       "      <td>&lt;null&gt;</td>\n",
       "      <td>1</td>\n",
       "    </tr>\n",
       "    <tr>\n",
       "      <th>...</th>\n",
       "      <td>...</td>\n",
       "      <td>...</td>\n",
       "      <td>...</td>\n",
       "      <td>...</td>\n",
       "      <td>...</td>\n",
       "      <td>...</td>\n",
       "      <td>...</td>\n",
       "      <td>...</td>\n",
       "      <td>...</td>\n",
       "      <td>...</td>\n",
       "      <td>...</td>\n",
       "      <td>...</td>\n",
       "      <td>...</td>\n",
       "      <td>...</td>\n",
       "      <td>...</td>\n",
       "      <td>...</td>\n",
       "      <td>...</td>\n",
       "      <td>...</td>\n",
       "      <td>...</td>\n",
       "    </tr>\n",
       "    <tr>\n",
       "      <th>20042</th>\n",
       "      <td>&lt;name&gt;</td>\n",
       "      <td>bore</td>\n",
       "      <td>&lt;null&gt;</td>\n",
       "      <td>&lt;null&gt;</td>\n",
       "      <td>&lt;null&gt;</td>\n",
       "      <td>&lt;null&gt;</td>\n",
       "      <td>&lt;null&gt;</td>\n",
       "      <td>&lt;null&gt;</td>\n",
       "      <td>&lt;null&gt;</td>\n",
       "      <td>&lt;null&gt;</td>\n",
       "      <td>&lt;null&gt;</td>\n",
       "      <td>&lt;null&gt;</td>\n",
       "      <td>&lt;null&gt;</td>\n",
       "      <td>&lt;null&gt;</td>\n",
       "      <td>&lt;null&gt;</td>\n",
       "      <td>&lt;null&gt;</td>\n",
       "      <td>&lt;null&gt;</td>\n",
       "      <td>&lt;null&gt;</td>\n",
       "      <td>2</td>\n",
       "    </tr>\n",
       "    <tr>\n",
       "      <th>20061</th>\n",
       "      <td>rush</td>\n",
       "      <td>get</td>\n",
       "      <td>ups</td>\n",
       "      <td>close</td>\n",
       "      <td>7</td>\n",
       "      <td>get</td>\n",
       "      <td>705</td>\n",
       "      <td>make</td>\n",
       "      <td>wrong</td>\n",
       "      <td>turn</td>\n",
       "      <td>&lt;null&gt;</td>\n",
       "      <td>&lt;null&gt;</td>\n",
       "      <td>&lt;null&gt;</td>\n",
       "      <td>&lt;null&gt;</td>\n",
       "      <td>&lt;null&gt;</td>\n",
       "      <td>&lt;null&gt;</td>\n",
       "      <td>&lt;null&gt;</td>\n",
       "      <td>&lt;null&gt;</td>\n",
       "      <td>3</td>\n",
       "    </tr>\n",
       "    <tr>\n",
       "      <th>20087</th>\n",
       "      <td>10min</td>\n",
       "      <td>brake</td>\n",
       "      <td>wrk</td>\n",
       "      <td>106</td>\n",
       "      <td>116</td>\n",
       "      <td>&lt;null&gt;</td>\n",
       "      <td>&lt;null&gt;</td>\n",
       "      <td>&lt;null&gt;</td>\n",
       "      <td>&lt;null&gt;</td>\n",
       "      <td>&lt;null&gt;</td>\n",
       "      <td>&lt;null&gt;</td>\n",
       "      <td>&lt;null&gt;</td>\n",
       "      <td>&lt;null&gt;</td>\n",
       "      <td>&lt;null&gt;</td>\n",
       "      <td>&lt;null&gt;</td>\n",
       "      <td>&lt;null&gt;</td>\n",
       "      <td>&lt;null&gt;</td>\n",
       "      <td>&lt;null&gt;</td>\n",
       "      <td>1</td>\n",
       "    </tr>\n",
       "    <tr>\n",
       "      <th>20098</th>\n",
       "      <td>eastenders</td>\n",
       "      <td>always</td>\n",
       "      <td>grim</td>\n",
       "      <td>&lt;null&gt;</td>\n",
       "      <td>&lt;null&gt;</td>\n",
       "      <td>&lt;null&gt;</td>\n",
       "      <td>&lt;null&gt;</td>\n",
       "      <td>&lt;null&gt;</td>\n",
       "      <td>&lt;null&gt;</td>\n",
       "      <td>&lt;null&gt;</td>\n",
       "      <td>&lt;null&gt;</td>\n",
       "      <td>&lt;null&gt;</td>\n",
       "      <td>&lt;null&gt;</td>\n",
       "      <td>&lt;null&gt;</td>\n",
       "      <td>&lt;null&gt;</td>\n",
       "      <td>&lt;null&gt;</td>\n",
       "      <td>&lt;null&gt;</td>\n",
       "      <td>&lt;null&gt;</td>\n",
       "      <td>1</td>\n",
       "    </tr>\n",
       "    <tr>\n",
       "      <th>20109</th>\n",
       "      <td>friday</td>\n",
       "      <td>tube</td>\n",
       "      <td>work</td>\n",
       "      <td>slow</td>\n",
       "      <td>&lt;null&gt;</td>\n",
       "      <td>&lt;null&gt;</td>\n",
       "      <td>&lt;null&gt;</td>\n",
       "      <td>&lt;null&gt;</td>\n",
       "      <td>&lt;null&gt;</td>\n",
       "      <td>&lt;null&gt;</td>\n",
       "      <td>&lt;null&gt;</td>\n",
       "      <td>&lt;null&gt;</td>\n",
       "      <td>&lt;null&gt;</td>\n",
       "      <td>&lt;null&gt;</td>\n",
       "      <td>&lt;null&gt;</td>\n",
       "      <td>&lt;null&gt;</td>\n",
       "      <td>&lt;null&gt;</td>\n",
       "      <td>&lt;null&gt;</td>\n",
       "      <td>1</td>\n",
       "    </tr>\n",
       "  </tbody>\n",
       "</table>\n",
       "<p>538 rows × 19 columns</p>\n",
       "</div>"
      ],
      "text/plain": [
       "                0        1        2        3       4       5       6       7  \\\n",
       "623          wake      day      ned       go    work    suck    also      go   \n",
       "719        <name>  welcome   twiter   <null>  <null>  <null>  <null>  <null>   \n",
       "1269         wake      day      ned       go    work    suck    also      go   \n",
       "1302          get     back     work       ot      na   naman  what's     new   \n",
       "1519       <name>    phone  whatchu  tonight   sucka    dane     cok    sell   \n",
       "...           ...      ...      ...      ...     ...     ...     ...     ...   \n",
       "20042      <name>     bore   <null>   <null>  <null>  <null>  <null>  <null>   \n",
       "20061        rush      get      ups    close       7     get     705    make   \n",
       "20087       10min    brake      wrk      106     116  <null>  <null>  <null>   \n",
       "20098  eastenders   always     grim   <null>  <null>  <null>  <null>  <null>   \n",
       "20109      friday     tube     work     slow  <null>  <null>  <null>  <null>   \n",
       "\n",
       "             8       9      10      11      12      13      14      15  \\\n",
       "623    dentist    file      12      st   helen     mri    scan       2   \n",
       "719     <null>  <null>  <null>  <null>  <null>  <null>  <null>  <null>   \n",
       "1269   dentist    file      12      st   helen     mri    scan       2   \n",
       "1302    <null>  <null>  <null>  <null>  <null>  <null>  <null>  <null>   \n",
       "1519    ticket    lame  <null>  <null>  <null>  <null>  <null>  <null>   \n",
       "...        ...     ...     ...     ...     ...     ...     ...     ...   \n",
       "20042   <null>  <null>  <null>  <null>  <null>  <null>  <null>  <null>   \n",
       "20061    wrong    turn  <null>  <null>  <null>  <null>  <null>  <null>   \n",
       "20087   <null>  <null>  <null>  <null>  <null>  <null>  <null>  <null>   \n",
       "20098   <null>  <null>  <null>  <null>  <null>  <null>  <null>  <null>   \n",
       "20109   <null>  <null>  <null>  <null>  <null>  <null>  <null>  <null>   \n",
       "\n",
       "           16      17  emotion  \n",
       "623    <null>  <null>        1  \n",
       "719    <null>  <null>        3  \n",
       "1269   <null>  <null>        1  \n",
       "1302   <null>  <null>        3  \n",
       "1519   <null>  <null>        1  \n",
       "...       ...     ...      ...  \n",
       "20042  <null>  <null>        2  \n",
       "20061  <null>  <null>        3  \n",
       "20087  <null>  <null>        1  \n",
       "20098  <null>  <null>        1  \n",
       "20109  <null>  <null>        1  \n",
       "\n",
       "[538 rows x 19 columns]"
      ]
     },
     "execution_count": 1112,
     "metadata": {},
     "output_type": "execute_result"
    }
   ],
   "source": [
    "df_traind = df_train.iloc[indexd]\n",
    "df_traind"
   ]
  },
  {
   "cell_type": "code",
   "execution_count": 1113,
   "metadata": {},
   "outputs": [
    {
     "data": {
      "text/plain": [
       "0        1        2           3       4        5        6       7       8        9       10      11      12      13      14      15      16      17      emotion\n",
       "sit      chevy    dealership  utah    wait     van      fix     <null>  <null>   <null>  <null>  <null>  <null>  <null>  <null>  <null>  <null>  <null>  1          7\n",
       "stick    nj       transit     past    twenty   minute   great   way     start    wek     <null>  <null>  <null>  <null>  <null>  <null>  <null>  <null>  1          6\n",
       "wake     day      ned         go      work     suck     also    go      dentist  file    12      st      helen   mri     scan    2       <null>  <null>  1          5\n",
       "<name>   yup      join        nin     ace      fun      <null>  <null>  <null>   <null>  <null>  <null>  <null>  <null>  <null>  <null>  <null>  <null>  0          5\n",
       "friday   tube     work        slow    <null>   <null>   <null>  <null>  <null>   <null>  <null>  <null>  <null>  <null>  <null>  <null>  <null>  <null>  1          5\n",
       "                                                                                                                                                                   ..\n",
       "cower    failure  mean        comply  stand    instead  <null>  <null>  <null>   <null>  <null>  <null>  <null>  <null>  <null>  <null>  <null>  <null>  2          1\n",
       "crapy    weather  <null>      <null>  <null>   <null>   <null>  <null>  <null>   <null>  <null>  <null>  <null>  <null>  <null>  <null>  <null>  <null>  2          1\n",
       "curse    ab's     wardrobe    handle  one      drew     blod    <null>  <null>   <null>  <null>  <null>  <null>  <null>  <null>  <null>  <null>  <null>  2          1\n",
       "day      jus      keps        get     beter    beter    fml     <null>  <null>   <null>  <null>  <null>  <null>  <null>  <null>  <null>  <null>  <null>  3          1\n",
       "youtube  work     want        watch   britain  get      talent  i'm     debate   pity    party   <null>  <null>  <null>  <null>  <null>  <null>  <null>  1          1\n",
       "Name: count, Length: 361, dtype: int64"
      ]
     },
     "execution_count": 1113,
     "metadata": {},
     "output_type": "execute_result"
    }
   ],
   "source": [
    "df_traind.value_counts()"
   ]
  },
  {
   "cell_type": "code",
   "execution_count": 1114,
   "metadata": {},
   "outputs": [
    {
     "data": {
      "text/html": [
       "<div>\n",
       "<style scoped>\n",
       "    .dataframe tbody tr th:only-of-type {\n",
       "        vertical-align: middle;\n",
       "    }\n",
       "\n",
       "    .dataframe tbody tr th {\n",
       "        vertical-align: top;\n",
       "    }\n",
       "\n",
       "    .dataframe thead th {\n",
       "        text-align: right;\n",
       "    }\n",
       "</style>\n",
       "<table border=\"1\" class=\"dataframe\">\n",
       "  <thead>\n",
       "    <tr style=\"text-align: right;\">\n",
       "      <th></th>\n",
       "      <th>0</th>\n",
       "      <th>1</th>\n",
       "      <th>2</th>\n",
       "      <th>3</th>\n",
       "      <th>4</th>\n",
       "      <th>5</th>\n",
       "      <th>6</th>\n",
       "      <th>7</th>\n",
       "      <th>8</th>\n",
       "      <th>9</th>\n",
       "      <th>10</th>\n",
       "      <th>11</th>\n",
       "      <th>12</th>\n",
       "      <th>13</th>\n",
       "      <th>14</th>\n",
       "      <th>15</th>\n",
       "      <th>16</th>\n",
       "      <th>17</th>\n",
       "      <th>emotion</th>\n",
       "    </tr>\n",
       "  </thead>\n",
       "  <tbody>\n",
       "    <tr>\n",
       "      <th>443</th>\n",
       "      <td>&lt;name&gt;</td>\n",
       "      <td>i'm</td>\n",
       "      <td>20</td>\n",
       "      <td>heterochalenged</td>\n",
       "      <td>stil</td>\n",
       "      <td>care</td>\n",
       "      <td>quotmilkquot</td>\n",
       "      <td>think</td>\n",
       "      <td>bore</td>\n",
       "      <td>&lt;null&gt;</td>\n",
       "      <td>&lt;null&gt;</td>\n",
       "      <td>&lt;null&gt;</td>\n",
       "      <td>&lt;null&gt;</td>\n",
       "      <td>&lt;null&gt;</td>\n",
       "      <td>&lt;null&gt;</td>\n",
       "      <td>&lt;null&gt;</td>\n",
       "      <td>&lt;null&gt;</td>\n",
       "      <td>&lt;null&gt;</td>\n",
       "      <td>1</td>\n",
       "    </tr>\n",
       "    <tr>\n",
       "      <th>597</th>\n",
       "      <td>&lt;name&gt;</td>\n",
       "      <td>gues</td>\n",
       "      <td>get</td>\n",
       "      <td>dresed</td>\n",
       "      <td>prety</td>\n",
       "      <td>&lt;null&gt;</td>\n",
       "      <td>&lt;null&gt;</td>\n",
       "      <td>&lt;null&gt;</td>\n",
       "      <td>&lt;null&gt;</td>\n",
       "      <td>&lt;null&gt;</td>\n",
       "      <td>&lt;null&gt;</td>\n",
       "      <td>&lt;null&gt;</td>\n",
       "      <td>&lt;null&gt;</td>\n",
       "      <td>&lt;null&gt;</td>\n",
       "      <td>&lt;null&gt;</td>\n",
       "      <td>&lt;null&gt;</td>\n",
       "      <td>&lt;null&gt;</td>\n",
       "      <td>&lt;null&gt;</td>\n",
       "      <td>2</td>\n",
       "    </tr>\n",
       "    <tr>\n",
       "      <th>614</th>\n",
       "      <td>&lt;name&gt;</td>\n",
       "      <td>ack</td>\n",
       "      <td>read</td>\n",
       "      <td>show</td>\n",
       "      <td>that's</td>\n",
       "      <td>horible</td>\n",
       "      <td>acounting</td>\n",
       "      <td>taste</td>\n",
       "      <td>&lt;null&gt;</td>\n",
       "      <td>&lt;null&gt;</td>\n",
       "      <td>&lt;null&gt;</td>\n",
       "      <td>&lt;null&gt;</td>\n",
       "      <td>&lt;null&gt;</td>\n",
       "      <td>&lt;null&gt;</td>\n",
       "      <td>&lt;null&gt;</td>\n",
       "      <td>&lt;null&gt;</td>\n",
       "      <td>&lt;null&gt;</td>\n",
       "      <td>&lt;null&gt;</td>\n",
       "      <td>0</td>\n",
       "    </tr>\n",
       "    <tr>\n",
       "      <th>668</th>\n",
       "      <td>&lt;name&gt;</td>\n",
       "      <td>1pm</td>\n",
       "      <td>squeak</td>\n",
       "      <td>hel</td>\n",
       "      <td>squeak</td>\n",
       "      <td>&lt;null&gt;</td>\n",
       "      <td>&lt;null&gt;</td>\n",
       "      <td>&lt;null&gt;</td>\n",
       "      <td>&lt;null&gt;</td>\n",
       "      <td>&lt;null&gt;</td>\n",
       "      <td>&lt;null&gt;</td>\n",
       "      <td>&lt;null&gt;</td>\n",
       "      <td>&lt;null&gt;</td>\n",
       "      <td>&lt;null&gt;</td>\n",
       "      <td>&lt;null&gt;</td>\n",
       "      <td>&lt;null&gt;</td>\n",
       "      <td>&lt;null&gt;</td>\n",
       "      <td>&lt;null&gt;</td>\n",
       "      <td>1</td>\n",
       "    </tr>\n",
       "    <tr>\n",
       "      <th>774</th>\n",
       "      <td>&lt;name&gt;</td>\n",
       "      <td>nah</td>\n",
       "      <td>jkin</td>\n",
       "      <td>he's</td>\n",
       "      <td>hot</td>\n",
       "      <td>bored</td>\n",
       "      <td>&lt;null&gt;</td>\n",
       "      <td>&lt;null&gt;</td>\n",
       "      <td>&lt;null&gt;</td>\n",
       "      <td>&lt;null&gt;</td>\n",
       "      <td>&lt;null&gt;</td>\n",
       "      <td>&lt;null&gt;</td>\n",
       "      <td>&lt;null&gt;</td>\n",
       "      <td>&lt;null&gt;</td>\n",
       "      <td>&lt;null&gt;</td>\n",
       "      <td>&lt;null&gt;</td>\n",
       "      <td>&lt;null&gt;</td>\n",
       "      <td>&lt;null&gt;</td>\n",
       "      <td>1</td>\n",
       "    </tr>\n",
       "    <tr>\n",
       "      <th>...</th>\n",
       "      <td>...</td>\n",
       "      <td>...</td>\n",
       "      <td>...</td>\n",
       "      <td>...</td>\n",
       "      <td>...</td>\n",
       "      <td>...</td>\n",
       "      <td>...</td>\n",
       "      <td>...</td>\n",
       "      <td>...</td>\n",
       "      <td>...</td>\n",
       "      <td>...</td>\n",
       "      <td>...</td>\n",
       "      <td>...</td>\n",
       "      <td>...</td>\n",
       "      <td>...</td>\n",
       "      <td>...</td>\n",
       "      <td>...</td>\n",
       "      <td>...</td>\n",
       "      <td>...</td>\n",
       "    </tr>\n",
       "    <tr>\n",
       "      <th>6690</th>\n",
       "      <td>woe</td>\n",
       "      <td>definitely</td>\n",
       "      <td>fun</td>\n",
       "      <td>travel</td>\n",
       "      <td>first</td>\n",
       "      <td>clas</td>\n",
       "      <td>bike</td>\n",
       "      <td>fight</td>\n",
       "      <td>way</td>\n",
       "      <td>7</td>\n",
       "      <td>coach</td>\n",
       "      <td>til</td>\n",
       "      <td>reach</td>\n",
       "      <td>seat</td>\n",
       "      <td>&lt;null&gt;</td>\n",
       "      <td>&lt;null&gt;</td>\n",
       "      <td>&lt;null&gt;</td>\n",
       "      <td>&lt;null&gt;</td>\n",
       "      <td>2</td>\n",
       "    </tr>\n",
       "    <tr>\n",
       "      <th>6696</th>\n",
       "      <td>download</td>\n",
       "      <td>new</td>\n",
       "      <td>font</td>\n",
       "      <td>&lt;null&gt;</td>\n",
       "      <td>&lt;null&gt;</td>\n",
       "      <td>&lt;null&gt;</td>\n",
       "      <td>&lt;null&gt;</td>\n",
       "      <td>&lt;null&gt;</td>\n",
       "      <td>&lt;null&gt;</td>\n",
       "      <td>&lt;null&gt;</td>\n",
       "      <td>&lt;null&gt;</td>\n",
       "      <td>&lt;null&gt;</td>\n",
       "      <td>&lt;null&gt;</td>\n",
       "      <td>&lt;null&gt;</td>\n",
       "      <td>&lt;null&gt;</td>\n",
       "      <td>&lt;null&gt;</td>\n",
       "      <td>&lt;null&gt;</td>\n",
       "      <td>&lt;null&gt;</td>\n",
       "      <td>0</td>\n",
       "    </tr>\n",
       "    <tr>\n",
       "      <th>6723</th>\n",
       "      <td>bgt</td>\n",
       "      <td>wil</td>\n",
       "      <td>gut</td>\n",
       "      <td>finish</td>\n",
       "      <td>tomorow</td>\n",
       "      <td>stavros</td>\n",
       "      <td>flatley</td>\n",
       "      <td>al</td>\n",
       "      <td>way</td>\n",
       "      <td>&lt;null&gt;</td>\n",
       "      <td>&lt;null&gt;</td>\n",
       "      <td>&lt;null&gt;</td>\n",
       "      <td>&lt;null&gt;</td>\n",
       "      <td>&lt;null&gt;</td>\n",
       "      <td>&lt;null&gt;</td>\n",
       "      <td>&lt;null&gt;</td>\n",
       "      <td>&lt;null&gt;</td>\n",
       "      <td>&lt;null&gt;</td>\n",
       "      <td>3</td>\n",
       "    </tr>\n",
       "    <tr>\n",
       "      <th>6741</th>\n",
       "      <td>agre</td>\n",
       "      <td>work</td>\n",
       "      <td>double</td>\n",
       "      <td>shift</td>\n",
       "      <td>&lt;null&gt;</td>\n",
       "      <td>&lt;null&gt;</td>\n",
       "      <td>&lt;null&gt;</td>\n",
       "      <td>&lt;null&gt;</td>\n",
       "      <td>&lt;null&gt;</td>\n",
       "      <td>&lt;null&gt;</td>\n",
       "      <td>&lt;null&gt;</td>\n",
       "      <td>&lt;null&gt;</td>\n",
       "      <td>&lt;null&gt;</td>\n",
       "      <td>&lt;null&gt;</td>\n",
       "      <td>&lt;null&gt;</td>\n",
       "      <td>&lt;null&gt;</td>\n",
       "      <td>&lt;null&gt;</td>\n",
       "      <td>&lt;null&gt;</td>\n",
       "      <td>1</td>\n",
       "    </tr>\n",
       "    <tr>\n",
       "      <th>6761</th>\n",
       "      <td>put</td>\n",
       "      <td>computer</td>\n",
       "      <td>craigslist</td>\n",
       "      <td>i've</td>\n",
       "      <td>case</td>\n",
       "      <td>monitor</td>\n",
       "      <td>speaker</td>\n",
       "      <td>5</td>\n",
       "      <td>year</td>\n",
       "      <td>&lt;null&gt;</td>\n",
       "      <td>&lt;null&gt;</td>\n",
       "      <td>&lt;null&gt;</td>\n",
       "      <td>&lt;null&gt;</td>\n",
       "      <td>&lt;null&gt;</td>\n",
       "      <td>&lt;null&gt;</td>\n",
       "      <td>&lt;null&gt;</td>\n",
       "      <td>&lt;null&gt;</td>\n",
       "      <td>&lt;null&gt;</td>\n",
       "      <td>2</td>\n",
       "    </tr>\n",
       "  </tbody>\n",
       "</table>\n",
       "<p>253 rows × 19 columns</p>\n",
       "</div>"
      ],
      "text/plain": [
       "             0           1           2                3        4        5  \\\n",
       "443     <name>         i'm          20  heterochalenged     stil     care   \n",
       "597     <name>        gues         get           dresed    prety   <null>   \n",
       "614     <name>         ack        read             show   that's  horible   \n",
       "668     <name>         1pm      squeak              hel   squeak   <null>   \n",
       "774     <name>         nah        jkin             he's      hot    bored   \n",
       "...        ...         ...         ...              ...      ...      ...   \n",
       "6690       woe  definitely         fun           travel    first     clas   \n",
       "6696  download         new        font           <null>   <null>   <null>   \n",
       "6723       bgt         wil         gut           finish  tomorow  stavros   \n",
       "6741      agre        work      double            shift   <null>   <null>   \n",
       "6761       put    computer  craigslist             i've     case  monitor   \n",
       "\n",
       "                 6       7       8       9      10      11      12      13  \\\n",
       "443   quotmilkquot   think    bore  <null>  <null>  <null>  <null>  <null>   \n",
       "597         <null>  <null>  <null>  <null>  <null>  <null>  <null>  <null>   \n",
       "614      acounting   taste  <null>  <null>  <null>  <null>  <null>  <null>   \n",
       "668         <null>  <null>  <null>  <null>  <null>  <null>  <null>  <null>   \n",
       "774         <null>  <null>  <null>  <null>  <null>  <null>  <null>  <null>   \n",
       "...            ...     ...     ...     ...     ...     ...     ...     ...   \n",
       "6690          bike   fight     way       7   coach     til   reach    seat   \n",
       "6696        <null>  <null>  <null>  <null>  <null>  <null>  <null>  <null>   \n",
       "6723       flatley      al     way  <null>  <null>  <null>  <null>  <null>   \n",
       "6741        <null>  <null>  <null>  <null>  <null>  <null>  <null>  <null>   \n",
       "6761       speaker       5    year  <null>  <null>  <null>  <null>  <null>   \n",
       "\n",
       "          14      15      16      17  emotion  \n",
       "443   <null>  <null>  <null>  <null>        1  \n",
       "597   <null>  <null>  <null>  <null>        2  \n",
       "614   <null>  <null>  <null>  <null>        0  \n",
       "668   <null>  <null>  <null>  <null>        1  \n",
       "774   <null>  <null>  <null>  <null>        1  \n",
       "...      ...     ...     ...     ...      ...  \n",
       "6690  <null>  <null>  <null>  <null>        2  \n",
       "6696  <null>  <null>  <null>  <null>        0  \n",
       "6723  <null>  <null>  <null>  <null>        3  \n",
       "6741  <null>  <null>  <null>  <null>        1  \n",
       "6761  <null>  <null>  <null>  <null>        2  \n",
       "\n",
       "[253 rows x 19 columns]"
      ]
     },
     "execution_count": 1114,
     "metadata": {},
     "output_type": "execute_result"
    }
   ],
   "source": [
    "df_vald = df_val.iloc[indexdv]\n",
    "df_vald"
   ]
  },
  {
   "cell_type": "code",
   "execution_count": 1115,
   "metadata": {},
   "outputs": [
    {
     "data": {
      "text/plain": [
       "0          1        2         3       4        5        6       7       8       9       10       11      12      13      14      15      16      17      emotion\n",
       "<name>     u        serious   touch   arse     ohmygod  u       bitch   lol     u       tel      <null>  <null>  <null>  <null>  <null>  <null>  <null>  0          6\n",
       "           beast    enough    <null>  <null>   <null>   <null>  <null>  <null>  <null>  <null>   <null>  <null>  <null>  <null>  <null>  <null>  <null>  1          6\n",
       "boil       ofice    air       con     1        <null>   <null>  <null>  <null>  <null>  <null>   <null>  <null>  <null>  <null>  <null>  <null>  <null>  1          6\n",
       "realy      feling   like      man     cherish  wtf      <null>  <null>  <null>  <null>  <null>   <null>  <null>  <null>  <null>  <null>  <null>  <null>  1          6\n",
       "agre       work     double    shift   <null>   <null>   <null>  <null>  <null>  <null>  <null>   <null>  <null>  <null>  <null>  <null>  <null>  <null>  1          5\n",
       "                                                                                                                                                                   ..\n",
       "company    ofering  2nd       round   v        rif      <null>  <null>  <null>  <null>  <null>   <null>  <null>  <null>  <null>  <null>  <null>  <null>  3          1\n",
       "<name>     i'l      kep       mind    get      tonked   40      4       over    <null>  <null>   <null>  <null>  <null>  <null>  <null>  <null>  <null>  3          1\n",
       "btw        song     you'l     always  find     ur       way     back    home    hanah   montana  <null>  <null>  <null>  <null>  <null>  <null>  <null>  2          1\n",
       "<name>     i'l      try       sort    fabric   today    ben     busy    <null>  <null>  <null>   <null>  <null>  <null>  <null>  <null>  <null>  <null>  3          1\n",
       "1pendulum  awesome  2godbyes  suck    3shut    plz      4toy    story   3       5jb     3d       movie   2moro   6i      tire    7aand   i'm     <null>  1          1\n",
       "Name: count, Length: 129, dtype: int64"
      ]
     },
     "execution_count": 1115,
     "metadata": {},
     "output_type": "execute_result"
    }
   ],
   "source": [
    "df_vald.value_counts()"
   ]
  },
  {
   "cell_type": "code",
   "execution_count": 1116,
   "metadata": {},
   "outputs": [],
   "source": [
    "# now we found duplicate data from the resampled data\n",
    "# And we will be applying augumentation techniques to it, to maintain the variability in the data"
   ]
  },
  {
   "cell_type": "code",
   "execution_count": 1117,
   "metadata": {},
   "outputs": [],
   "source": [
    "X_train_resampled_dup = df_traind.iloc[:,:-1].values.tolist()\n",
    "y_train_resampled_dup = df_traind.iloc[:,-1]\n",
    "X_val_resampled_dup = df_vald.iloc[:,:-1].values.tolist()\n",
    "y_val_resampled_dup = df_vald.iloc[:,-1]"
   ]
  },
  {
   "cell_type": "code",
   "execution_count": 1118,
   "metadata": {},
   "outputs": [],
   "source": [
    "# leave them as numpy array\n",
    "X_train_resampled_o = df_traino.iloc[:,:-1]\n",
    "y_train_resampled_o = df_traino.iloc[:,-1]\n",
    "X_val_resampled_o = df_valo.iloc[:,:-1]\n",
    "y_val_resampled_o = df_valo.iloc[:,-1]"
   ]
  },
  {
   "cell_type": "code",
   "execution_count": 1119,
   "metadata": {},
   "outputs": [
    {
     "name": "stdout",
     "output_type": "stream",
     "text": [
      "19578 + 538 20116\n",
      "19578 + 538 20116\n",
      "6551 + 253 6804\n",
      "6551 + 253 6804\n"
     ]
    }
   ],
   "source": [
    "print(len(X_train_resampled_o),\"+\",len(X_train_resampled_dup),len(X_train_resampled))\n",
    "print(len(y_train_resampled_o),\"+\",len(y_train_resampled_dup),len(y_train_resampled))\n",
    "print(len(X_val_resampled_o),\"+\",len(X_val_resampled_dup),len(X_val_resampled))\n",
    "print(len(y_val_resampled_o),\"+\",len(y_val_resampled_dup),len(y_val_resampled))"
   ]
  },
  {
   "cell_type": "code",
   "execution_count": 1120,
   "metadata": {},
   "outputs": [],
   "source": [
    "# Now our data looks kinda balanced\n",
    "\n",
    "# Note: the highest classes frequency shouldn't be more than 5 times more than the lowest class frequency, otherwise it is high imbalance, \n",
    "# >5 high imbalance,<5 moderate imbalance, <3 balance"
   ]
  },
  {
   "cell_type": "code",
   "execution_count": 1121,
   "metadata": {},
   "outputs": [],
   "source": [
    "# As we see there is lot of increase in the sample, as random samples increase the size the duplicating the data\n",
    "# So, to mitigate it, we will do data agumentation like replacing the words with similar meaning word to increase the variablility in the data"
   ]
  },
  {
   "cell_type": "markdown",
   "metadata": {},
   "source": [
    "### Data Agumentation (only for duplicate data)"
   ]
  },
  {
   "cell_type": "code",
   "execution_count": 1122,
   "metadata": {},
   "outputs": [
    {
     "name": "stderr",
     "output_type": "stream",
     "text": [
      "[nltk_data] Downloading package wordnet to\n",
      "[nltk_data]     C:\\Users\\vivek\\AppData\\Roaming\\nltk_data...\n",
      "[nltk_data]   Package wordnet is already up-to-date!\n",
      "[nltk_data] Downloading package omw-1.4 to\n",
      "[nltk_data]     C:\\Users\\vivek\\AppData\\Roaming\\nltk_data...\n",
      "[nltk_data]   Package omw-1.4 is already up-to-date!\n"
     ]
    },
    {
     "data": {
      "text/plain": [
       "True"
      ]
     },
     "execution_count": 1122,
     "metadata": {},
     "output_type": "execute_result"
    }
   ],
   "source": [
    "import nltk\n",
    "nltk.download('wordnet')\n",
    "nltk.download('omw-1.4')"
   ]
  },
  {
   "cell_type": "code",
   "execution_count": 1144,
   "metadata": {},
   "outputs": [
    {
     "data": {
      "text/plain": [
       "[Synset('ampere.n.02'), Synset('adenosine_monophosphate.n.01')]"
      ]
     },
     "execution_count": 1144,
     "metadata": {},
     "output_type": "execute_result"
    }
   ],
   "source": [
    "from nltk.corpus import wordnet\n",
    "import random\n",
    "word = 'amp'\n",
    "synonyms = wordnet.synsets(word)\n",
    "synonyms"
   ]
  },
  {
   "cell_type": "code",
   "execution_count": 1124,
   "metadata": {},
   "outputs": [],
   "source": [
    "# Replacing the words with thier synonyms"
   ]
  },
  {
   "cell_type": "code",
   "execution_count": 1125,
   "metadata": {},
   "outputs": [],
   "source": [
    "from nltk.corpus import wordnet\n",
    "import random\n",
    "\n",
    "\n",
    "# method1 (manually replacing words using nltk)\n",
    "\n",
    "exceptions = ['an','An','be','Be','in','In','am','Am','a','A','it','It','i','I','as','As']\n",
    "def augument(words):\n",
    "    lii = []\n",
    "    for word in words:\n",
    "        li =[]\n",
    "        synonyms = wordnet.synsets(word)\n",
    "        if(len(synonyms)!=0 and word not in exceptions):\n",
    "            for i in range(len(synonyms)):\n",
    "                synonym = synonyms[i].lemmas()[0].name()\n",
    "                if(synonym!=word):\n",
    "                    li.append(synonym)\n",
    "            if(len(li)!=0):\n",
    "                lii.append(random.choice(li)) \n",
    "            else: lii.append(word)\n",
    "        else:\n",
    "            lii.append(word)\n",
    "    return lii\n",
    "\n",
    "\n",
    "\"\"\"\n",
    "# method2 (using nlpaug library)\n",
    "import nlpaug.augmenter.word as naw\n",
    "import nltk\n",
    "nltk.download('averaged_perceptron_tagger_eng')\n",
    "#Initialize the augmenter for synonym replacement\n",
    "stopwords = ['an','An','be','Be','in','In','am','Am','a','A','it','It','i','I','as','As','<null>','[name]']\n",
    "synonym_aug = naw.SynonymAug(aug_src='wordnet',stopwords=stopwords)\n",
    "\n",
    "def augument(words):\n",
    "    str = \" \".join(words)\n",
    "    syn = synonym_aug.augment(str)\n",
    "    return syn[0].split()\n",
    "\"\"\"\n",
    "\n",
    "x_train_augument = []\n",
    "x_val_augument = []\n",
    "for i in range(len(X_train_resampled_dup)):\n",
    "    tempx = augument(X_train_resampled_dup[i])\n",
    "    x_train_augument.append(tempx)\n",
    "    \n",
    "for i in range(len(X_val_resampled_dup)):\n",
    "    tempxv = augument(X_val_resampled_dup[i])\n",
    "    x_val_augument.append(tempxv)"
   ]
  },
  {
   "cell_type": "code",
   "execution_count": 1126,
   "metadata": {},
   "outputs": [
    {
     "data": {
      "text/plain": [
       "(538, 253)"
      ]
     },
     "execution_count": 1126,
     "metadata": {},
     "output_type": "execute_result"
    }
   ],
   "source": [
    "len(x_train_augument),len(x_val_augument)"
   ]
  },
  {
   "cell_type": "code",
   "execution_count": 1127,
   "metadata": {},
   "outputs": [],
   "source": [
    "# Repeating synonymn replacement\n",
    "\n",
    "x_train_augument1 = []\n",
    "x_val_augument1 = []\n",
    "for i in range(len(x_train_augument)):\n",
    "    tempx = augument(x_train_augument[i])\n",
    "    x_train_augument1.append(tempx)\n",
    "    \n",
    "for i in range(len(x_val_augument)):\n",
    "    tempxv = augument(x_val_augument[i])\n",
    "    x_val_augument1.append(tempxv)"
   ]
  },
  {
   "cell_type": "code",
   "execution_count": 1128,
   "metadata": {},
   "outputs": [
    {
     "data": {
      "text/plain": [
       "'\\ninsertion_aug = naw.ContextualWordEmbsAug(action=\"insert\",model_path=\\'bert-base-uncased\\',top_k=5,stopwords=stopwords)\\nsample = insertion_aug.augment(\"i love eating mushrooms and samosas in theb \")\\nsample\\n'"
      ]
     },
     "execution_count": 1128,
     "metadata": {},
     "output_type": "execute_result"
    }
   ],
   "source": [
    "\"\"\"\n",
    "insertion_aug = naw.ContextualWordEmbsAug(action=\"insert\",model_path='bert-base-uncased',top_k=5,stopwords=stopwords)\n",
    "sample = insertion_aug.augment(\"i love eating mushrooms and samosas in theb \")\n",
    "sample\n",
    "\"\"\""
   ]
  },
  {
   "cell_type": "code",
   "execution_count": 1129,
   "metadata": {},
   "outputs": [
    {
     "data": {
      "text/plain": [
       "'\\nimport re\\nimport concurrent.futures\\nimport nlpaug.augmenter.word as naw\\n\\n# Define the augmentation and cleaning function\\ndef augment_and_clean(sentence):\\n    augmented_sentence = insertion_aug.augment(\" \".join(sentence))\\n    return func(augmented_sentence[0])[0].split()\\n\\ndef func(x):\\n    li = []\\n    x = re.sub(r\\'([?!.,])\\x01+\\', r\\'\\x01\\', x)\\n    x = re.sub(r\\'[^a-zA-Z0-9\\\\s\\\\!\\\\?\\\\,\\\\@\\']\\',\\'\\',x)\\n    x = re.sub(r\\'\\\\w*null | tested |\\\\s*test| \\\\s*non\\',\\'\\',x)\\n    x = re.sub(r\\'\\\\s*UNK\\',\\' [name]\\',x)\\n    li.append(x)\\n    return li\\n\\n# List of sentences to augment\\nx_train_augument1 = []\\n\\n# Run in parallel with a thread pool\\nwith concurrent.futures.ThreadPoolExecutor(max_workers=5) as executor:\\n    results = list(executor.map(augment_and_clean, x_train_augument))\\n\\nx_train_augument1.extend(results)\\n'"
      ]
     },
     "execution_count": 1129,
     "metadata": {},
     "output_type": "execute_result"
    }
   ],
   "source": [
    "\"\"\"\n",
    "import re\n",
    "import concurrent.futures\n",
    "import nlpaug.augmenter.word as naw\n",
    "\n",
    "# Define the augmentation and cleaning function\n",
    "def augment_and_clean(sentence):\n",
    "    augmented_sentence = insertion_aug.augment(\" \".join(sentence))\n",
    "    return func(augmented_sentence[0])[0].split()\n",
    "\n",
    "def func(x):\n",
    "    li = []\n",
    "    x = re.sub(r'([?!.,])\\1+', r'\\1', x)\n",
    "    x = re.sub(r'[^a-zA-Z0-9\\s\\!\\?\\,\\@\\']','',x)\n",
    "    x = re.sub(r'\\w*null | tested |\\s*test| \\s*non','',x)\n",
    "    x = re.sub(r'\\s*UNK',' [name]',x)\n",
    "    li.append(x)\n",
    "    return li\n",
    "\n",
    "# List of sentences to augment\n",
    "x_train_augument1 = []\n",
    "\n",
    "# Run in parallel with a thread pool\n",
    "with concurrent.futures.ThreadPoolExecutor(max_workers=5) as executor:\n",
    "    results = list(executor.map(augment_and_clean, x_train_augument))\n",
    "\n",
    "x_train_augument1.extend(results)\n",
    "\"\"\""
   ]
  },
  {
   "cell_type": "code",
   "execution_count": 1130,
   "metadata": {},
   "outputs": [],
   "source": [
    "# swapping the words "
   ]
  },
  {
   "cell_type": "code",
   "execution_count": 1131,
   "metadata": {},
   "outputs": [
    {
     "data": {
      "text/plain": [
       "[\"i [name] love mushrooms eating and samosas beach the in and it's hot very\"]"
      ]
     },
     "execution_count": 1131,
     "metadata": {},
     "output_type": "execute_result"
    }
   ],
   "source": [
    "import nlpaug.augmenter.word as naw\n",
    "\n",
    "def custom_tokenizer(text):\n",
    "    # Merge contractions\n",
    "    text = re.sub(r\"(\\w)'(\\w)\", r\"\\1'\\2\", text)\n",
    "    text = re.sub(r'\\[name]','[name]',text)\n",
    "    tokens = text.split()\n",
    "    return tokens\n",
    "    \n",
    "swap_aug = naw.RandomWordAug(action=\"swap\",tokenizer=custom_tokenizer)\n",
    "swap_aug.augment(\"i [name] love eating mushrooms and samosas in the beach and it's very hot \")"
   ]
  },
  {
   "cell_type": "code",
   "execution_count": 1132,
   "metadata": {},
   "outputs": [],
   "source": [
    "# swapping the words in the sentences for more variability\n",
    "\n",
    "def swap(sentences):\n",
    "    ll =[]\n",
    "    for words in sentences:\n",
    "        str=\"\"\n",
    "        for i,j in enumerate(words):\n",
    "            if(i==0):\n",
    "                str+=j\n",
    "            else:\n",
    "                if(j!='<null>'):\n",
    "                    str+=\" \"+j\n",
    "                else: break \n",
    "        ss=swap_aug.augment(str)\n",
    "        ss = ss[0]\n",
    "        ll.append(ss.split())\n",
    "    return ll\n",
    "\n",
    "x_train_augument1 = swap(x_train_augument1)\n",
    "x_val_augument1 = swap(x_val_augument1)"
   ]
  },
  {
   "cell_type": "code",
   "execution_count": 1133,
   "metadata": {},
   "outputs": [],
   "source": [
    "# swapping agian \n",
    "x_train_augument1 = swap(x_train_augument1)\n",
    "x_val_augument1= swap(x_val_augument1)"
   ]
  },
  {
   "cell_type": "code",
   "execution_count": 1134,
   "metadata": {},
   "outputs": [
    {
     "name": "stdout",
     "output_type": "stream",
     "text": [
      "['<name>', 'sleep_together', 'male_child', 'mised', 'Old_World_chat', 'yesterday', 'firts', 'adenosine_monophosphate', 'matchless', \"i'l\", 'nautical_mile', 'though', 'lt3', 'notch', 'jonas', 'lt3', '<null>', '<null>']\n"
     ]
    }
   ],
   "source": [
    "print(x_train_augument[100])"
   ]
  },
  {
   "cell_type": "code",
   "execution_count": 1135,
   "metadata": {},
   "outputs": [
    {
     "name": "stdout",
     "output_type": "stream",
     "text": [
      "['Male_child', '<name>', 'Old_World_chat', 'sleep_together', 'mised', 'yesterday', 'firts', 'matchless', \"i'l\", 'adenosine_monophosphate', 'though', 'nautical_mile', 'lt3', 'pass', 'lt3', 'jonas']\n"
     ]
    }
   ],
   "source": [
    "print(x_train_augument1[100])"
   ]
  },
  {
   "cell_type": "code",
   "execution_count": 1136,
   "metadata": {},
   "outputs": [
    {
     "name": "stdout",
     "output_type": "stream",
     "text": [
      "['<name>', 'nope', 'estimate', \"i've\", 'cash_register', 'Army_for_the_Liberation_of_Rwanda', 'reply', '<null>', '<null>', '<null>', '<null>', '<null>', '<null>', '<null>', '<null>', '<null>', '<null>', '<null>']\n"
     ]
    }
   ],
   "source": [
    "print(x_val_augument[12])"
   ]
  },
  {
   "cell_type": "code",
   "execution_count": 1145,
   "metadata": {},
   "outputs": [
    {
     "name": "stdout",
     "output_type": "stream",
     "text": [
      "['nope', '<name>', 'calculate', \"i've\", 'answer', 'Army_for_the_Liberation_of_Rwanda', 'cash_register']\n"
     ]
    }
   ],
   "source": [
    "print(x_val_augument1[12])"
   ]
  },
  {
   "cell_type": "code",
   "execution_count": 1146,
   "metadata": {},
   "outputs": [],
   "source": [
    "x_train_augument1 = [i + ['<null>']*(len(x_train_augument[0])-len(i)) for i in x_train_augument1]\n",
    "x_val_augument1 = [i + ['<null>']*(len(x_val_augument[0])-len(i)) for i in x_val_augument1]"
   ]
  },
  {
   "cell_type": "code",
   "execution_count": 1147,
   "metadata": {},
   "outputs": [],
   "source": [
    "# reframing them to dataframe to see the value_counts"
   ]
  },
  {
   "cell_type": "code",
   "execution_count": 1148,
   "metadata": {},
   "outputs": [
    {
     "data": {
      "text/plain": [
       "(538, 538)"
      ]
     },
     "execution_count": 1148,
     "metadata": {},
     "output_type": "execute_result"
    }
   ],
   "source": [
    "len(x_train_augument1),len(y_train_resampled_dup)"
   ]
  },
  {
   "cell_type": "code",
   "execution_count": 1149,
   "metadata": {},
   "outputs": [
    {
     "data": {
      "text/plain": [
       "(253, 253)"
      ]
     },
     "execution_count": 1149,
     "metadata": {},
     "output_type": "execute_result"
    }
   ],
   "source": [
    "len(x_val_augument1),len(y_val_resampled_dup)"
   ]
  },
  {
   "cell_type": "code",
   "execution_count": 1150,
   "metadata": {},
   "outputs": [],
   "source": [
    "df_train_final = pd.DataFrame(x_train_augument1)\n",
    "df_train_final['emotion'] = list(y_train_resampled_dup)\n",
    "df_val_final = pd.DataFrame(x_val_augument1)\n",
    "df_val_final['emotion']=  list(y_val_resampled_dup)"
   ]
  },
  {
   "cell_type": "code",
   "execution_count": 1151,
   "metadata": {},
   "outputs": [
    {
     "data": {
      "text/html": [
       "<div>\n",
       "<style scoped>\n",
       "    .dataframe tbody tr th:only-of-type {\n",
       "        vertical-align: middle;\n",
       "    }\n",
       "\n",
       "    .dataframe tbody tr th {\n",
       "        vertical-align: top;\n",
       "    }\n",
       "\n",
       "    .dataframe thead th {\n",
       "        text-align: right;\n",
       "    }\n",
       "</style>\n",
       "<table border=\"1\" class=\"dataframe\">\n",
       "  <thead>\n",
       "    <tr style=\"text-align: right;\">\n",
       "      <th></th>\n",
       "      <th>0</th>\n",
       "      <th>1</th>\n",
       "      <th>2</th>\n",
       "      <th>3</th>\n",
       "      <th>4</th>\n",
       "      <th>5</th>\n",
       "      <th>6</th>\n",
       "      <th>7</th>\n",
       "      <th>8</th>\n",
       "      <th>9</th>\n",
       "      <th>10</th>\n",
       "      <th>11</th>\n",
       "      <th>12</th>\n",
       "      <th>13</th>\n",
       "      <th>14</th>\n",
       "      <th>15</th>\n",
       "      <th>16</th>\n",
       "      <th>17</th>\n",
       "      <th>emotion</th>\n",
       "    </tr>\n",
       "  </thead>\n",
       "  <tbody>\n",
       "    <tr>\n",
       "      <th>0</th>\n",
       "      <td>Consequence</td>\n",
       "      <td>day</td>\n",
       "      <td>ned</td>\n",
       "      <td>workplace</td>\n",
       "      <td>locomotion</td>\n",
       "      <td>fellate</td>\n",
       "      <td>be_active</td>\n",
       "      <td>besides</td>\n",
       "      <td>dentist</td>\n",
       "      <td>twelve</td>\n",
       "      <td>bang</td>\n",
       "      <td>Helen</td>\n",
       "      <td>st</td>\n",
       "      <td>deuce</td>\n",
       "      <td>magnetic_resonance_imaging</td>\n",
       "      <td>understand</td>\n",
       "      <td>&lt;null&gt;</td>\n",
       "      <td>&lt;null&gt;</td>\n",
       "      <td>1</td>\n",
       "    </tr>\n",
       "    <tr>\n",
       "      <th>1</th>\n",
       "      <td>twiter</td>\n",
       "      <td>&lt;name&gt;</td>\n",
       "      <td>welcome</td>\n",
       "      <td>&lt;null&gt;</td>\n",
       "      <td>&lt;null&gt;</td>\n",
       "      <td>&lt;null&gt;</td>\n",
       "      <td>&lt;null&gt;</td>\n",
       "      <td>&lt;null&gt;</td>\n",
       "      <td>&lt;null&gt;</td>\n",
       "      <td>&lt;null&gt;</td>\n",
       "      <td>&lt;null&gt;</td>\n",
       "      <td>&lt;null&gt;</td>\n",
       "      <td>&lt;null&gt;</td>\n",
       "      <td>&lt;null&gt;</td>\n",
       "      <td>&lt;null&gt;</td>\n",
       "      <td>&lt;null&gt;</td>\n",
       "      <td>&lt;null&gt;</td>\n",
       "      <td>&lt;null&gt;</td>\n",
       "      <td>3</td>\n",
       "    </tr>\n",
       "    <tr>\n",
       "      <th>2</th>\n",
       "      <td>ned</td>\n",
       "      <td>Wake_Island</td>\n",
       "      <td>sidereal_day</td>\n",
       "      <td>act</td>\n",
       "      <td>overwork</td>\n",
       "      <td>besides</td>\n",
       "      <td>voice</td>\n",
       "      <td>suck</td>\n",
       "      <td>twelve</td>\n",
       "      <td>dentist</td>\n",
       "      <td>st</td>\n",
       "      <td>magnetic_resonance_imaging</td>\n",
       "      <td>accusation</td>\n",
       "      <td>understand</td>\n",
       "      <td>Helen</td>\n",
       "      <td>deuce</td>\n",
       "      <td>&lt;null&gt;</td>\n",
       "      <td>&lt;null&gt;</td>\n",
       "      <td>1</td>\n",
       "    </tr>\n",
       "    <tr>\n",
       "      <th>3</th>\n",
       "      <td>capture</td>\n",
       "      <td>bet_on</td>\n",
       "      <td>ot</td>\n",
       "      <td>use</td>\n",
       "      <td>naman</td>\n",
       "      <td>sodium</td>\n",
       "      <td>what's</td>\n",
       "      <td>clean</td>\n",
       "      <td>&lt;null&gt;</td>\n",
       "      <td>&lt;null&gt;</td>\n",
       "      <td>&lt;null&gt;</td>\n",
       "      <td>&lt;null&gt;</td>\n",
       "      <td>&lt;null&gt;</td>\n",
       "      <td>&lt;null&gt;</td>\n",
       "      <td>&lt;null&gt;</td>\n",
       "      <td>&lt;null&gt;</td>\n",
       "      <td>&lt;null&gt;</td>\n",
       "      <td>&lt;null&gt;</td>\n",
       "      <td>3</td>\n",
       "    </tr>\n",
       "    <tr>\n",
       "      <th>4</th>\n",
       "      <td>bid</td>\n",
       "      <td>tonight</td>\n",
       "      <td>&lt;name&gt;</td>\n",
       "      <td>whatchu</td>\n",
       "      <td>sucka</td>\n",
       "      <td>cok</td>\n",
       "      <td>Dane</td>\n",
       "      <td>cheat_on</td>\n",
       "      <td>chase</td>\n",
       "      <td>faint</td>\n",
       "      <td>&lt;null&gt;</td>\n",
       "      <td>&lt;null&gt;</td>\n",
       "      <td>&lt;null&gt;</td>\n",
       "      <td>&lt;null&gt;</td>\n",
       "      <td>&lt;null&gt;</td>\n",
       "      <td>&lt;null&gt;</td>\n",
       "      <td>&lt;null&gt;</td>\n",
       "      <td>&lt;null&gt;</td>\n",
       "      <td>1</td>\n",
       "    </tr>\n",
       "  </tbody>\n",
       "</table>\n",
       "</div>"
      ],
      "text/plain": [
       "             0            1             2          3           4        5  \\\n",
       "0  Consequence          day           ned  workplace  locomotion  fellate   \n",
       "1       twiter       <name>       welcome     <null>      <null>   <null>   \n",
       "2          ned  Wake_Island  sidereal_day        act    overwork  besides   \n",
       "3      capture       bet_on            ot        use       naman   sodium   \n",
       "4          bid      tonight        <name>    whatchu       sucka      cok   \n",
       "\n",
       "           6         7        8        9      10                          11  \\\n",
       "0  be_active   besides  dentist   twelve    bang                       Helen   \n",
       "1     <null>    <null>   <null>   <null>  <null>                      <null>   \n",
       "2      voice      suck   twelve  dentist      st  magnetic_resonance_imaging   \n",
       "3     what's     clean   <null>   <null>  <null>                      <null>   \n",
       "4       Dane  cheat_on    chase    faint  <null>                      <null>   \n",
       "\n",
       "           12          13                          14          15      16  \\\n",
       "0          st       deuce  magnetic_resonance_imaging  understand  <null>   \n",
       "1      <null>      <null>                      <null>      <null>  <null>   \n",
       "2  accusation  understand                       Helen       deuce  <null>   \n",
       "3      <null>      <null>                      <null>      <null>  <null>   \n",
       "4      <null>      <null>                      <null>      <null>  <null>   \n",
       "\n",
       "       17  emotion  \n",
       "0  <null>        1  \n",
       "1  <null>        3  \n",
       "2  <null>        1  \n",
       "3  <null>        3  \n",
       "4  <null>        1  "
      ]
     },
     "execution_count": 1151,
     "metadata": {},
     "output_type": "execute_result"
    }
   ],
   "source": [
    "df_train_final.head()"
   ]
  },
  {
   "cell_type": "code",
   "execution_count": 1152,
   "metadata": {},
   "outputs": [
    {
     "data": {
      "text/plain": [
       "0                       1          2            3               4            5            6                       7                       8         9             10       11      12         13         14      15      16      17      emotion\n",
       "dres                    alike      patricia's   <null>          <null>       <null>       <null>                  <null>                  <null>    <null>        <null>   <null>  <null>     <null>     <null>  <null>  <null>  <null>  3          2\n",
       "130am                   goin       slep         <null>          <null>       <null>       <null>                  <null>                  <null>    <null>        <null>   <null>  <null>     <null>     <null>  <null>  <null>  <null>  2          2\n",
       "<name>                  wot        <null>       <null>          <null>       <null>       <null>                  <null>                  <null>    <null>        <null>   <null>  <null>     <null>     <null>  <null>  <null>  <null>  2          2\n",
       "                        totaly     agre         <null>          <null>       <null>       <null>                  <null>                  <null>    <null>        <null>   <null>  <null>     <null>     <null>  <null>  <null>  <null>  3          2\n",
       "                        helo       <null>       <null>          <null>       <null>       <null>                  <null>                  <null>    <null>        <null>   <null>  <null>     <null>     <null>  <null>  <null>  <null>  2          2\n",
       "                        bo         <null>       <null>          <null>       <null>       <null>                  <null>                  <null>    <null>        <null>   <null>  <null>     <null>     <null>  <null>  <null>  <null>  1          2\n",
       "Motherfuck              qw         <null>       <null>          <null>       <null>       <null>                  <null>                  <null>    <null>        <null>   <null>  <null>     <null>     <null>  <null>  <null>  <null>  0          2\n",
       "handling                gota       pocketwit    apprehension    twikini      execration   <null>                  <null>                  <null>    <null>        <null>   <null>  <null>     <null>     <null>  <null>  <null>  <null>  2          1\n",
       "haha                    <name>     pises        determine       <null>       <null>       <null>                  <null>                  <null>    <null>        <null>   <null>  <null>     <null>     <null>  <null>  <null>  <null>  0          1\n",
       "                                                memorize        <null>       <null>       <null>                  <null>                  <null>    <null>        <null>   <null>  <null>     <null>     <null>  <null>  <null>  <null>  0          1\n",
       "                        cunt       <name>       ltitle          yesterday    ben          ive                     Alabama                 day       commend       dame     ima     hahaha     alnighter  col     <null>  <null>  <null>  0          1\n",
       "harass                  baby-sit   franchise    check           Utah         avant-garde  fixate                  <null>                  <null>    <null>        <null>   <null>  <null>     <null>     <null>  <null>  <null>  <null>  1          1\n",
       "                                   Utah         franchise       avant-garde  compensate   have_a_bun_in_the_oven  <null>                  <null>    <null>        <null>   <null>  <null>     <null>     <null>  <null>  <null>  <null>  1          1\n",
       "gona                    rest       newton       credibly        chil         fail         movie                   deep                    business  sidereal_day  sux      ugh     cloudy     <null>     <null>  <null>  <null>  <null>  2          1\n",
       "hate                    ah         brush        teth            chewing_gum  intemperate  scat                    make                    <null>    <null>        <null>   <null>  <null>     <null>     <null>  <null>  <null>  <null>  2          1\n",
       "                        ugh        <name>       mised           reference    wasnt        brood                   repair                  <null>    <null>        <null>   <null>  <null>     <null>     <null>  <null>  <null>  <null>  0          1\n",
       "hav                     get        crash        ten-spot        line_up      fre          build                   have_a_bun_in_the_oven  lay_down  til           anythin  notice  explicate  <null>     <null>  <null>  <null>  <null>  0          1\n",
       "have_a_bun_in_the_oven  attend     <null>       <null>          <null>       <null>       <null>                  <null>                  <null>    <null>        <null>   <null>  <null>     <null>     <null>  <null>  <null>  <null>  1          1\n",
       "good_morning            deity      aphrodisiac  twiter          how's        i'm          soman                   yal                     alike     Newton        749am    stil    wana       slep       <null>  <null>  <null>  <null>  3          1\n",
       "1030pm                  all_right  close        sleep_together  <name>       perform      skim_over               hope                    can't     reward        Italian  stuf    frost      though     <null>  <null>  <null>  <null>  3          1\n",
       "Name: count, dtype: int64"
      ]
     },
     "execution_count": 1152,
     "metadata": {},
     "output_type": "execute_result"
    }
   ],
   "source": [
    "df_train_final.value_counts().head(20)"
   ]
  },
  {
   "cell_type": "code",
   "execution_count": 1153,
   "metadata": {},
   "outputs": [
    {
     "data": {
      "text/plain": [
       "'\\ntemp1 = np.array(df_train_final[df_train_final[0]==\\'confuzled\\'].head(1))\\ntemp4 = np.array(df_train_final[df_train_final[0]==\\'Sleep_together\\'].head(1))\\ntemp2 = np.array(df_train_final[df_train_final[1]==\"shesh\"].head(1))\\ntemp3 =  np.array(df_train_final[df_train_final[0]==\"Motherfuck\"].head(1))\\ntemp5 =  np.array(df_train_final[df_train_final[1]==\"bo\"].head(1))\\n'"
      ]
     },
     "execution_count": 1153,
     "metadata": {},
     "output_type": "execute_result"
    }
   ],
   "source": [
    "\"\"\"\n",
    "temp1 = np.array(df_train_final[df_train_final[0]=='confuzled'].head(1))\n",
    "temp4 = np.array(df_train_final[df_train_final[0]=='Sleep_together'].head(1))\n",
    "temp2 = np.array(df_train_final[df_train_final[1]==\"shesh\"].head(1))\n",
    "temp3 =  np.array(df_train_final[df_train_final[0]==\"Motherfuck\"].head(1))\n",
    "temp5 =  np.array(df_train_final[df_train_final[1]==\"bo\"].head(1))\n",
    "\"\"\""
   ]
  },
  {
   "cell_type": "code",
   "execution_count": null,
   "metadata": {},
   "outputs": [],
   "source": [
    "\"\"\"\n",
    "df_train_final = df_train_final[df_train_final[0]!='confuzled']\n",
    "df_train_final = df_train_final[df_train_final[0]!=\"Sleep_together\"]\n",
    "df_train_final = df_train_final[df_train_final[1]!=\"shesh\"]\n",
    "df_train_final = df_train_final[df_train_final[1]!=\"bo\"]\n",
    "df_train_final = df_train_final[df_train_final[0]!=\"sleep_together\"]\n",
    "df_train_final = df_train_final[df_train_final[0]!=\"Motherfuck\"]\n",
    "\"\"\""
   ]
  },
  {
   "cell_type": "code",
   "execution_count": 1155,
   "metadata": {},
   "outputs": [
    {
     "data": {
      "text/plain": [
       "0       1       2           3       4       5       6       7       8       9       10      11      12      13      14      15      16      17      emotion\n",
       "dres    alike   patricia's  <null>  <null>  <null>  <null>  <null>  <null>  <null>  <null>  <null>  <null>  <null>  <null>  <null>  <null>  <null>  3          2\n",
       "130am   goin    slep        <null>  <null>  <null>  <null>  <null>  <null>  <null>  <null>  <null>  <null>  <null>  <null>  <null>  <null>  <null>  2          2\n",
       "<name>  wot     <null>      <null>  <null>  <null>  <null>  <null>  <null>  <null>  <null>  <null>  <null>  <null>  <null>  <null>  <null>  <null>  2          2\n",
       "        totaly  agre        <null>  <null>  <null>  <null>  <null>  <null>  <null>  <null>  <null>  <null>  <null>  <null>  <null>  <null>  <null>  3          2\n",
       "        helo    <null>      <null>  <null>  <null>  <null>  <null>  <null>  <null>  <null>  <null>  <null>  <null>  <null>  <null>  <null>  <null>  2          2\n",
       "Name: count, dtype: int64"
      ]
     },
     "execution_count": 1155,
     "metadata": {},
     "output_type": "execute_result"
    }
   ],
   "source": [
    "df_train_final.value_counts().head()"
   ]
  },
  {
   "cell_type": "code",
   "execution_count": 1156,
   "metadata": {},
   "outputs": [],
   "source": [
    "#temp = [temp1,temp2,temp3,temp4,temp5]"
   ]
  },
  {
   "cell_type": "code",
   "execution_count": 1157,
   "metadata": {},
   "outputs": [
    {
     "data": {
      "text/plain": [
       "'\\nfor i in temp:\\n    df_train_final = pd.concat([df_train_final,pd.DataFrame(i,columns=df_train_final.columns)])\\n'"
      ]
     },
     "execution_count": 1157,
     "metadata": {},
     "output_type": "execute_result"
    }
   ],
   "source": [
    "\"\"\"\n",
    "for i in temp:\n",
    "    df_train_final = pd.concat([df_train_final,pd.DataFrame(i,columns=df_train_final.columns)])\n",
    "\"\"\""
   ]
  },
  {
   "cell_type": "code",
   "execution_count": 1164,
   "metadata": {},
   "outputs": [
    {
     "data": {
      "text/plain": [
       "536"
      ]
     },
     "execution_count": 1164,
     "metadata": {},
     "output_type": "execute_result"
    }
   ],
   "source": [
    "len(df_train_final)"
   ]
  },
  {
   "cell_type": "code",
   "execution_count": 1165,
   "metadata": {},
   "outputs": [
    {
     "data": {
      "text/plain": [
       "253"
      ]
     },
     "execution_count": 1165,
     "metadata": {},
     "output_type": "execute_result"
    }
   ],
   "source": [
    "len(df_val_final)"
   ]
  },
  {
   "cell_type": "code",
   "execution_count": 1166,
   "metadata": {},
   "outputs": [
    {
     "data": {
      "text/plain": [
       "0                        1             2               3              4           5                       6        7                8          9             10       11                       12         13      14      15      16      17      emotion\n",
       "<name>                   animal        adequate        <null>         <null>      <null>                  <null>   <null>           <null>     <null>        <null>   <null>                   <null>     <null>  <null>  <null>  <null>  <null>  1          5\n",
       "                         react         <null>          <null>         <null>      <null>                  <null>   <null>           <null>     <null>        <null>   <null>                   <null>     <null>  <null>  <null>  <null>  <null>  0          3\n",
       "rent                     <null>        <null>          <null>         <null>      <null>                  <null>   <null>           <null>     <null>        <null>   <null>                   <null>     <null>  <null>  <null>  <null>  <null>  2          2\n",
       "Software_documentation   sidereal_day  <null>          <null>         <null>      <null>                  <null>   <null>           <null>     <null>        <null>   <null>                   <null>     <null>  <null>  <null>  <null>  <null>  1          2\n",
       "doubly                   agre          false           stagger        <null>      <null>                  <null>   <null>           <null>     <null>        <null>   <null>                   <null>     <null>  <null>  <null>  <null>  <null>  1          1\n",
       "download                 mod           baptismal_font  <null>         <null>      <null>                  <null>   <null>           <null>     <null>        <null>   <null>                   <null>     <null>  <null>  <null>  <null>  <null>  0          1\n",
       "everything               moxy          <name>          blemish        ten-spot    everything              <null>   <null>           <null>     <null>        <null>   <null>                   <null>     <null>  <null>  <null>  <null>  <null>  0          1\n",
       "dominate                 paroxysm      quotshut        focus          submit      downquot                <null>   <null>           <null>     <null>        <null>   <null>                   <null>     <null>  <null>  <null>  <null>  <null>  3          1\n",
       "free-base                puff          ampere          bea            preferably  have_a_bun_in_the_oven  crouch   boastfully       deuce      classify      writer   adenosine_monophosphate  coworkers  <null>  <null>  <null>  <null>  <null>  1          1\n",
       "fail                     sidereal_day  name            arrive         bang-up     atleast                 comin    waho             deuce      <null>        <null>   <null>                   <null>     <null>  <null>  <null>  <null>  <null>  3          1\n",
       "dito                     oops          acquaintance    wear           provoke     fuss                    <null>   <null>           <null>     <null>        <null>   <null>                   <null>     <null>  <null>  <null>  <null>  <null>  1          1\n",
       "fidel                    bals          <null>          <null>         <null>      <null>                  <null>   <null>           <null>     <null>        <null>   <null>                   <null>     <null>  <null>  <null>  <null>  <null>  2          1\n",
       "finaly                   home_plate    colon           wek            <null>      <null>                  <null>   <null>           <null>     <null>        <null>   <null>                   <null>     <null>  <null>  <null>  <null>  <null>  0          1\n",
       "                         wek           class           potentiometer  <null>      <null>                  <null>   <null>           <null>     <null>        <null>   <null>                   <null>     <null>  <null>  <null>  <null>  <null>  0          1\n",
       "fit                      necessitate   audacious       jef            beth        Britisher               ill      anoying          ten-spot   <null>        <null>   <null>                   <null>     <null>  <null>  <null>  <null>  <null>  3          1\n",
       "florist's_chrysanthemum  corrode       ill             post           yea         eldritch                corrode  substance_abuse  day        Alabama       corrode  realy                    <null>     <null>  <null>  <null>  <null>  <null>  0          1\n",
       "                         ill           give_birth      devour         eldritch    yea                     consume  substance_abuse  fertilize  sidereal_day  realy    aluminum                 <null>     <null>  <null>  <null>  <null>  <null>  0          1\n",
       "1pm                      <name>        Hel             whimper        snivel      <null>                  <null>   <null>           <null>     <null>        <null>   <null>                   <null>     <null>  <null>  <null>  <null>  <null>  1          1\n",
       "dito                     acquaintance  oops            behave         disturb     provoke                 <null>   <null>           <null>     <null>        <null>   <null>                   <null>     <null>  <null>  <null>  <null>  <null>  1          1\n",
       "gamboge                  wakey         shakey          deuce          goin        haha                    rain     scholio          gues       ugh           right    California               see        <null>  <null>  <null>  <null>  <null>  0          1\n",
       "Name: count, dtype: int64"
      ]
     },
     "execution_count": 1166,
     "metadata": {},
     "output_type": "execute_result"
    }
   ],
   "source": [
    "df_val_final.value_counts().head(20)"
   ]
  },
  {
   "cell_type": "code",
   "execution_count": 1167,
   "metadata": {},
   "outputs": [],
   "source": [
    "#temp12 = np.array(df_val_final[df_val_final[1]=='react'].head(1))"
   ]
  },
  {
   "cell_type": "code",
   "execution_count": 1169,
   "metadata": {},
   "outputs": [],
   "source": [
    "#df_val_final = df_val_final[df_val_final[1]!=\"suffice\"]"
   ]
  },
  {
   "cell_type": "code",
   "execution_count": 1170,
   "metadata": {},
   "outputs": [
    {
     "data": {
      "text/plain": [
       "0                       1             2         3        4       5       6       7       8       9       10      11      12      13      14      15      16      17      emotion\n",
       "<name>                  animal        adequate  <null>   <null>  <null>  <null>  <null>  <null>  <null>  <null>  <null>  <null>  <null>  <null>  <null>  <null>  <null>  1          5\n",
       "                        react         <null>    <null>   <null>  <null>  <null>  <null>  <null>  <null>  <null>  <null>  <null>  <null>  <null>  <null>  <null>  <null>  0          3\n",
       "rent                    <null>        <null>    <null>   <null>  <null>  <null>  <null>  <null>  <null>  <null>  <null>  <null>  <null>  <null>  <null>  <null>  <null>  2          2\n",
       "Software_documentation  sidereal_day  <null>    <null>   <null>  <null>  <null>  <null>  <null>  <null>  <null>  <null>  <null>  <null>  <null>  <null>  <null>  <null>  1          2\n",
       "doubly                  agre          false     stagger  <null>  <null>  <null>  <null>  <null>  <null>  <null>  <null>  <null>  <null>  <null>  <null>  <null>  <null>  1          1\n",
       "Name: count, dtype: int64"
      ]
     },
     "execution_count": 1170,
     "metadata": {},
     "output_type": "execute_result"
    }
   ],
   "source": [
    "df_val_final.value_counts().head()"
   ]
  },
  {
   "cell_type": "code",
   "execution_count": 1171,
   "metadata": {},
   "outputs": [],
   "source": [
    "#df_val_final = pd.concat([df_val_final,pd.DataFrame(temp12,columns=df_val_final.columns)])"
   ]
  },
  {
   "cell_type": "code",
   "execution_count": 1172,
   "metadata": {},
   "outputs": [
    {
     "data": {
      "text/plain": [
       "253"
      ]
     },
     "execution_count": 1172,
     "metadata": {},
     "output_type": "execute_result"
    }
   ],
   "source": [
    "len(df_val_final)"
   ]
  },
  {
   "cell_type": "code",
   "execution_count": 1173,
   "metadata": {},
   "outputs": [],
   "source": [
    "# Now we can see that there are all unique values, no duplicacy is found in the data"
   ]
  },
  {
   "cell_type": "code",
   "execution_count": 1174,
   "metadata": {},
   "outputs": [],
   "source": [
    "xtarg = df_train_final.iloc[:,:-1].values\n",
    "ytarg = df_train_final.iloc[:,-1].values\n",
    "xvarg = df_val_final.iloc[:,:-1].values\n",
    "yvarg = df_val_final.iloc[:,-1].values"
   ]
  },
  {
   "cell_type": "code",
   "execution_count": 1175,
   "metadata": {},
   "outputs": [
    {
     "name": "stdout",
     "output_type": "stream",
     "text": [
      "(19578, 18) (536, 18)\n",
      "(19578,) (536,)\n",
      "(6551, 18) (253, 18)\n",
      "(6551,) (253,)\n"
     ]
    }
   ],
   "source": [
    "print(X_train_resampled_o.shape,xtarg.shape)\n",
    "print(y_train_resampled_o.shape,ytarg.shape)\n",
    "print(X_val_resampled_o.shape,xvarg.shape)\n",
    "print(y_val_resampled_o.shape,yvarg.shape) "
   ]
  },
  {
   "cell_type": "code",
   "execution_count": 1176,
   "metadata": {},
   "outputs": [],
   "source": [
    "X_train_resampled_m=np.vstack([X_train_resampled_o,xtarg])\n",
    "y_train_resampled_m = np.hstack([y_train_resampled_o,ytarg])\n",
    "X_val_resampled_m = np.vstack([X_val_resampled_o,xvarg])\n",
    "y_val_resampled_m = np.hstack([y_val_resampled_o,yvarg])"
   ]
  },
  {
   "cell_type": "code",
   "execution_count": 1187,
   "metadata": {},
   "outputs": [
    {
     "data": {
      "text/plain": [
       "array([12,  5,  7, ...,  1,  1,  1], dtype=int64)"
      ]
     },
     "execution_count": 1187,
     "metadata": {},
     "output_type": "execute_result"
    }
   ],
   "source": [
    "y_train_resampled_m"
   ]
  },
  {
   "cell_type": "code",
   "execution_count": 1188,
   "metadata": {},
   "outputs": [
    {
     "name": "stdout",
     "output_type": "stream",
     "text": [
      "(23429, 18) (23429,)\n",
      "(7810, 18) (7810,)\n"
     ]
    }
   ],
   "source": [
    "print(x_train.shape,y_train.shape)\n",
    "print(x_val.shape,y_val.shape)"
   ]
  },
  {
   "cell_type": "code",
   "execution_count": 1189,
   "metadata": {},
   "outputs": [
    {
     "name": "stdout",
     "output_type": "stream",
     "text": [
      "(20114, 18) (20114,)\n",
      "(6804, 18) (6804,)\n"
     ]
    }
   ],
   "source": [
    "print(X_train_resampled_m.shape,y_train_resampled_m.shape)\n",
    "print(X_val_resampled_m.shape,y_val_resampled_m.shape)"
   ]
  },
  {
   "cell_type": "code",
   "execution_count": 1190,
   "metadata": {},
   "outputs": [],
   "source": [
    "def arraytolist(arr):\n",
    "    li =[]\n",
    "    for i in arr:\n",
    "        li.append(list(i))\n",
    "    return li\n",
    "\n",
    "Xtl = arraytolist(X_train_resampled_m)\n",
    "xvl = arraytolist(X_val_resampled_m)\n",
    "xl = arraytolist(x_test)"
   ]
  },
  {
   "cell_type": "code",
   "execution_count": 1191,
   "metadata": {},
   "outputs": [
    {
     "data": {
      "text/plain": [
       "34728"
      ]
     },
     "execution_count": 1191,
     "metadata": {},
     "output_type": "execute_result"
    }
   ],
   "source": [
    "z =[]\n",
    "z.extend(Xtl)\n",
    "z.extend(xvl)\n",
    "z.extend(xl)\n",
    "len(z)"
   ]
  },
  {
   "cell_type": "code",
   "execution_count": 1192,
   "metadata": {},
   "outputs": [
    {
     "name": "stdout",
     "output_type": "stream",
     "text": [
      "['<name>', 'make', 'bring', 'u', 'sum', '<null>', '<null>', '<null>', '<null>', '<null>', '<null>', '<null>', '<null>', '<null>', '<null>', '<null>', '<null>', '<null>']\n"
     ]
    }
   ],
   "source": [
    "print(z[0])"
   ]
  },
  {
   "cell_type": "code",
   "execution_count": 1193,
   "metadata": {},
   "outputs": [],
   "source": [
    "from tensorflow.keras.preprocessing.text import Tokenizer\n",
    "tokenizer = Tokenizer()\n",
    "tokenizer.fit_on_texts(z)\n",
    "encoded = tokenizer.texts_to_sequences(z)"
   ]
  },
  {
   "cell_type": "code",
   "execution_count": 1194,
   "metadata": {},
   "outputs": [
    {
     "name": "stdout",
     "output_type": "stream",
     "text": [
      "[2, 19, 366, 13, 1155, 1, 1, 1, 1, 1, 1, 1, 1, 1, 1, 1, 1, 1]\n"
     ]
    }
   ],
   "source": [
    "print(encoded[0])"
   ]
  },
  {
   "cell_type": "code",
   "execution_count": 1195,
   "metadata": {},
   "outputs": [
    {
     "data": {
      "text/plain": [
       "dict_items([('<null>', 1), ('<name>', 2), ('get', 3), ('go', 4), ('day', 5), (\"i'm\", 6), ('god', 7), ('al', 8), ('love', 9), ('work', 10), ('like', 11), ('today', 12), ('u', 13), ('time', 14), ('lol', 15), ('know', 16), ('think', 17), ('one', 18), ('make', 19), ('hapy', 20), ('im', 21), ('want', 22), ('back', 23), ('wil', 24), ('realy', 25), ('se', 26), ('oh', 27), (\"can't\", 28), ('night', 29), ('new', 30), ('home', 31), ('wel', 32), ('come', 33), ('amp', 34), ('2', 35), ('stil', 36), ('thanks', 37), ('much', 38), ('great', 39), ('say', 40), ('watch', 41), ('haha', 42), ('last', 43), ('wish', 44), ('ben', 45), ('ned', 46), ('hope', 47), ('morning', 48), ('fel', 49), ('fun', 50), ('twiter', 51), ('bad', 52), ('sad', 53), ('tomorow', 54), ('wait', 55), ('would', 56), ('try', 57), ('tonight', 58), ('thing', 59), ('nice', 60), ('right', 61), ('sory', 62), (\"i'l\", 63), ('gona', 64), ('mis', 65), ('yeah', 66), ('take', 67), ('though', 68), ('beter', 69), ('slep', 70), ('mother', 71), ('friend', 72), (\"that's\", 73), ('wek', 74), ('way', 75), ('wekend', 76), ('could', 77), ('leave', 78), ('x', 79), ('bed', 80), ('find', 81), ('mom', 82), ('hour', 83), ('show', 84), ('awesome', 85), ('people', 86), ('hate', 87), ('next', 88), ('start', 89), (\"i've\", 90), ('schol', 91), (\"mother's\", 92), ('hey', 93), ('son', 94), ('dont', 95), ('guy', 96), ('thank', 97), ('long', 98), ('movie', 99), ('play', 100), ('even', 101), ('best', 102), ('never', 103), ('aw', 104), ('yes', 105), ('suck', 106), ('litle', 107), ('year', 108), ('girl', 109), ('yay', 110), ('1', 111), ('4', 112), ('cant', 113), ('do', 114), ('ok', 115), ('use', 116), ('give', 117), ('life', 118), ('eat', 119), ('always', 120), ('3', 121), ('lok', 122), ('sure', 123), ('wana', 124), ('head', 125), ('col', 126), ('first', 127), ('already', 128), ('man', 129), ('ur', 130), ('everyone', 131), ('mean', 132), ('live', 133), ('another', 134), ('please', 135), ('feling', 136), ('sick', 137), ('ah', 138), ('talk', 139), ('let', 140), ('lot', 141), ('lt3', 142), ('ever', 143), ('song', 144), ('rain', 145), ('friday', 146), ('may', 147), ('enjoy', 148), ('hear', 149), ('something', 150), ('finaly', 151), ('house', 152), ('loking', 153), ('til', 154), ('old', 155), ('phone', 156), ('prety', 157), ('break', 158), ('yet', 159), ('ugh', 160), ('lose', 161), ('hurt', 162), ('damn', 163), ('ready', 164), ('big', 165), ('monday', 166), ('gues', 167), ('nothing', 168), ('mised', 169), ('loks', 170), ('help', 171), ('wow', 172), ('finish', 173), ('maybe', 174), ('away', 175), ('wake', 176), ('baby', 177), ('buy', 178), ('folow', 179), ('omg', 180), ('listen', 181), ('mi', 182), ('read', 183), ('sound', 184), ('glad', 185), ('also', 186), ('job', 187), ('hot', 188), ('kep', 189), ('car', 190), ('check', 191), ('5', 192), ('someone', 193), ('early', 194), ('actualy', 195), ('star', 196), ('bit', 197), ('run', 198), ('hard', 199), ('bore', 200), ('two', 201), ('ya', 202), ('tel', 203), ('later', 204), ('cal', 205), ('party', 206), ('kid', 207), ('saw', 208), ('end', 209), ('late', 210), ('stuf', 211), ('pic', 212), ('birthday', 213), ('cry', 214), ('put', 215), ('world', 216), ('weather', 217), ('thats', 218), ('stop', 219), ('move', 220), ('twet', 221), ('gota', 222), ('send', 223), ('n', 224), ('10', 225), ('yesterday', 226), ('stay', 227), ('sun', 228), ('family', 229), ('since', 230), ('game', 231), ('tire', 232), ('fuck', 233), ('place', 234), ('around', 235), ('sumer', 236), ('hi', 237), ('forget', 238), ('cute', 239), ('sunday', 240), ('might', 241), ('cause', 242), ('must', 243), ('music', 244), ('hair', 245), ('funy', 246), ('post', 247), ('month', 248), ('por', 249), ('meet', 250), ('change', 251), ('sit', 252), (\"he's\", 253), ('least', 254), ('diner', 255), ('totaly', 256), ('everything', 257), ('almost', 258), ('without', 259), ('mine', 260), ('anything', 261), ('lunch', 262), ('die', 263), ('tho', 264), ('beautiful', 265), ('plan', 266), ('many', 267), ('welcome', 268), ('fod', 269), ('forward', 270), ('drink', 271), ('drive', 272), ('stupid', 273), ('anyone', 274), ('write', 275), ('picture', 276), ('money', 277), ('mising', 278), ('hahaha', 279), ('okay', 280), ('believe', 281), ('every', 282), ('quot', 283), ('turn', 284), ('far', 285), ('boy', 286), ('bo', 287), ('video', 288), ('p', 289), ('close', 290), ('luck', 291), ('shit', 292), ('amazing', 293), ('swet', 294), ('spend', 295), ('r', 296), ('didnt', 297), (\"i'd\", 298), ('fail', 299), ('fre', 300), ('lovely', 301), ('ask', 302), ('il', 303), ('cofe', 304), ('probably', 305), ('hel', 306), ('excite', 307), ('ofice', 308), ('shop', 309), ('fan', 310), ('tired', 311), ('cold', 312), ('minute', 313), ('mum', 314), ('b', 315), ('dream', 316), (\"we're\", 317), ('real', 318), ('name', 319), ('ha', 320), ('outside', 321), ('rom', 322), ('folowers', 323), ('remember', 324), ('enough', 325), ('catch', 326), ('sen', 327), ('whole', 328), ('kinda', 329), ('rock', 330), ('folowing', 331), ('dad', 332), ('dog', 333), ('hm', 334), ('holiday', 335), ('tok', 336), ('headache', 337), ('w', 338), ('idea', 339), ('hang', 340), ('update', 341), ('exam', 342), ('weks', 343), ('photo', 344), ('stick', 345), ('bok', 346), ('win', 347), ('hug', 348), ('clean', 349), ('dude', 350), ('6', 351), ('hit', 352), ('amaze', 353), ('super', 354), (\"there's\", 355), ('hehe', 356), ('godnight', 357), ('tv', 358), ('anymore', 359), ('hopefuly', 360), ('alone', 361), ('quite', 362), ('ago', 363), ('able', 364), ('email', 365), ('bring', 366), ('word', 367), ('ful', 368), ('kind', 369), ('else', 370), ('yea', 371), ('helo', 372), (\"they're\", 373), ('wrong', 374), ('rest', 375), ('clas', 376), ('twets', 377), ('saturday', 378), ('ticket', 379), ('trek', 380), ('walk', 381), ('cuz', 382), ('learn', 383), ('7', 384), ('internet', 385), ('face', 386), ('computer', 387), ('caled', 388), ('btw', 389), ('trip', 390), ('reply', 391), ('wonderful', 392), ('set', 393), ('problem', 394), ('wear', 395), ('busy', 396), ('sems', 397), ('high', 398), ('crazy', 399), ('part', 400), ('8', 401), ('tell', 402), ('lmao', 403), ('half', 404), ('concert', 405), ('blog', 406), ('pay', 407), ('awake', 408), ('online', 409), ('see', 410), ('bank', 411), ('news', 412), ('war', 413), ('beach', 414), ('eye', 415), ('either', 416), ('site', 417), ('iphone', 418), ('cat', 419), ('wonder', 420), ('brother', 421), ('care', 422), ('breakfast', 423), ('vote', 424), ('lucky', 425), ('cut', 426), ('mind', 427), ('wont', 428), ('true', 429), (\"what's\", 430), ('fels', 431), ('person', 432), ('study', 433), ('shower', 434), ('instead', 435), ('hop', 436), ('test', 437), ('link', 438), ('card', 439), ('heart', 440), ('dance', 441), ('pain', 442), ('favorite', 443), ('facebok', 444), ('30', 445), ('perfect', 446), ('xd', 447), ('moment', 448), ('final', 449), ('wo', 450), ('open', 451), ('ice', 452), ('hungry', 453), ('suny', 454), ('lil', 455), ('lady', 456), ('ive', 457), ('present', 458), ('sometimes', 459), ('la', 460), ('evening', 461), ('gt', 462), ('second', 463), ('youtube', 464), ('dead', 465), ('city', 466), ('sigh', 467), ('save', 468), ('nite', 469), ('course', 470), ('laugh', 471), ('seriously', 472), ('anyway', 473), ('fly', 474), ('episode', 475), ('figure', 476), ('reason', 477), ('definitely', 478), ('list', 479), ('chocolate', 480), ('momy', 481), ('visit', 482), ('bday', 483), ('top', 484), ('season', 485), ('thought', 486), ('date', 487), ('smile', 488), ('fine', 489), ('suposed', 490), (\"you'l\", 491), ('ad', 492), ('june', 493), ('meting', 494), ('mad', 495), ('share', 496), ('sister', 497), ('excited', 498), ('page', 499), ('pick', 500), ('jealous', 501), ('text', 502), ('tour', 503), ('neds', 504), ('bout', 505), ('join', 506), ('hand', 507), ('aslep', 508), ('couple', 509), ('mod', 510), ('laptop', 511), ('20', 512), ('point', 513), ('yep', 514), ('cake', 515), ('sign', 516), ('sleping', 517), ('sing', 518), ('le', 519), ('crap', 520), ('special', 521), ('tea', 522), ('em', 523), ('fast', 524), ('slow', 525), ('ipod', 526), ('uk', 527), ('c', 528), ('hapen', 529), ('shot', 530), ('um', 531), ('goin', 532), ('water', 533), ('dear', 534), ('decide', 535), ('piza', 536), ('load', 537), ('hapened', 538), ('warm', 539), ('park', 540), ('film', 541), ('ride', 542), ('finger', 543), ('chat', 544), ('due', 545), (\"we'l\", 546), ('black', 547), ('sore', 548), ('4th', 549), ('cream', 550), ('nap', 551), ('gym', 552), ('story', 553), ('sadly', 554), ('realize', 555), ('club', 556), ('red', 557), ('hold', 558), ('past', 559), ('1st', 560), ('together', 561), ('block', 562), ('short', 563), ('afternon', 564), ('fb', 565), ('become', 566), ('12', 567), ('easy', 568), ('answer', 569), ('town', 570), ('pack', 571), ('sunshine', 572), ('fix', 573), ('jonas', 574), ('mr', 575), ('bye', 576), ('store', 577), ('album', 578), ('agre', 579), ('especialy', 580), ('window', 581), ('sem', 582), ('yum', 583), ('diferent', 584), ('pl', 585), ('order', 586), ('cancel', 587), ('mama', 588), ('lay', 589), ('worth', 590), ('ace', 591), ('garden', 592), ('min', 593), ('download', 594), ('huge', 595), ('chance', 596), ('com', 597), ('da', 598), ('whats', 599), ('congrats', 600), ('london', 601), ('unfortunately', 602), ('weird', 603), ('inside', 604), ('fal', 605), ('side', 606), ('gift', 607), ('band', 608), ('wtf', 609), ('dang', 610), ('project', 611), ('bgt', 612), ('aparently', 613), ('acount', 614), ('hat', 615), ('gogle', 616), ('9', 617), ('f', 618), ('babe', 619), ('kick', 620), ('lame', 621), ('thre', 622), ('idk', 623), ('white', 624), ('bus', 625), ('snl', 626), ('shame', 627), ('understand', 628), ('horible', 629), ('ber', 630), ('nope', 631), ('burn', 632), ('fair', 633), ('upset', 634), ('loked', 635), ('boring', 636), ('thx', 637), ('ima', 638), ('except', 639), ('bike', 640), ('woman', 641), ('shoe', 642), ('english', 643), ('notice', 644), ('yumy', 645), ('doesnt', 646), ('plus', 647), ('bc', 648), ('tweting', 649), ('near', 650), ('guitar', 651), ('parent', 652), ('jus', 653), ('gr', 654), ('train', 655), ('trafic', 656), ('relax', 657), ('0', 658), ('rather', 659), ('upload', 660), ('ap', 661), ('beat', 662), (\"mom's\", 663), ('mesage', 664), ('wed', 665), ('camera', 666), ('bet', 667), ('line', 668), ('leg', 669), ('throat', 670), ('air', 671), ('wory', 672), ('wash', 673), ('matchless', 674), ('none', 675), ('hapens', 676), ('light', 677), ('number', 678), ('lie', 679), (\"let's\", 680), ('slepy', 681), ('prom', 682), ('bar', 683), ('mile', 684), ('paper', 685), ('anoying', 686), ('age', 687), ('fet', 688), ('hr', 689), ('note', 690), ('oficialy', 691), ('canot', 692), ('question', 693), ('lazy', 694), ('act', 695), ('2nd', 696), ('havent', 697), ('fantastic', 698), ('flu', 699), ('pop', 700), ('mon', 701), ('bear', 702), ('invite', 703), ('mention', 704), ('celebrate', 705), ('quick', 706), ('e', 707), ('via', 708), ('everybody', 709), ('fight', 710), ('count', 711), ('absolutely', 712), ('huby', 713), ('keps', 714), ('although', 715), ('l', 716), ('midle', 717), ('blue', 718), ('bq', 719), ('record', 720), ('completely', 721), ('luv', 722), ('company', 723), ('boyfriend', 724), ('busines', 725), ('50', 726), ('child', 727), ('2day', 728), ('sell', 729), ('mac', 730), ('math', 731), ('myspace', 732), ('aint', 733), ('whatever', 734), ('safe', 735), ('shirt', 736), ('crash', 737), ('smal', 738), ('yr', 739), ('behind', 740), ('drop', 741), ('grow', 742), ('gut', 743), ('proud', 744), ('k', 745), ('along', 746), ('hun', 747), ('forever', 748), ('chese', 749), ('airport', 750), ('lonely', 751), ('justin', 752), ('kil', 753), ('sexy', 754), (\"it'l\", 755), ('chilin', 756), ('gren', 757), ('homework', 758), ('dvd', 759), ('eh', 760), ('young', 761), ('apreciate', 762), ('david', 763), ('disapointed', 764), ('expect', 765), ('wife', 766), ('speak', 767), ('pol', 768), ('15', 769), ('cup', 770), ('coment', 771), ('team', 772), ('remind', 773), ('hahah', 774), ('neded', 775), ('yup', 776), ('interesting', 777), ('version', 778), ('deal', 779), ('radio', 780), ('bles', 781), ('touch', 782), ('wine', 783), ('chicken', 784), ('profile', 785), ('power', 786), ('tom', 787), ('bum', 788), ('cover', 789), ('twit', 790), ('rainy', 791), ('bored', 792), ('fact', 793), ('travel', 794), ('v', 795), ('throw', 796), ('bf', 797), ('felt', 798), ('stomach', 799), ('cousin', 800), ('daughter', 801), ('yo', 802), ('usualy', 803), ('graduation', 804), ('waste', 805), ('pep', 806), ('ouch', 807), ('aple', 808), ('mater', 809), ('church', 810), ('state', 811), ('sleep_together', 812), ('case', 813), ('mate', 814), ('argh', 815), ('service', 816), ('thursday', 817), ('gorgeous', 818), ('duno', 819), ('id', 820), ('flight', 821), ('double', 822), ('front', 823), ('bitch', 824), ('drunk', 825), ('body', 826), ('clothes', 827), ('track', 828), ('cok', 829), ('sale', 830), ('website', 831), ('ear', 832), ('ho', 833), ('extra', 834), ('pray', 835), ('bag', 836), ('scar', 837), ('yal', 838), ('blow', 839), ('hospital', 840), ('tear', 841), ('exactly', 842), ('dm', 843), ('sat', 844), ('de', 845), ('surprise', 846), ('key', 847), ('vega', 848), ('single', 849), ('si', 850), ('release', 851), ('holy', 852), ('alright', 853), ('suport', 854), ('web', 855), ('return', 856), ('dres', 857), ('stuck', 858), ('sort', 859), ('huh', 860), ('experience', 861), ('voice', 862), ('teach', 863), ('earlier', 864), ('jon', 865), ('hilarious', 866), ('boks', 867), ('group', 868), ('colege', 869), ('event', 870), ('future', 871), ('bro', 872), ('road', 873), ('complete', 874), ('machine', 875), ('file', 876), ('mesages', 877), ('coke', 878), ('box', 879), ('quiet', 880), ('shut', 881), ('stand', 882), ('shift', 883), ('cd', 884), ('regard', 885), ('review', 886), ('begin', 887), ('copy', 888), ('rip', 889), ('random', 890), ('[person]', 891), ('gig', 892), ('somewhere', 893), ('edit', 894), ('heat', 895), ('freakin', 896), ('treat', 897), ('kiling', 898), ('flower', 899), ('folowfriday', 900), ('joke', 901), ('self', 902), ('arm', 903), ('caling', 904), ('tip', 905), ('pas', 906), ('co', 907), ('itunes', 908), ('hero', 909), ('shes', 910), ('fav', 911), ('low', 912), ('felin', 913), ('alot', 914), ('dark', 915), ('fml', 916), ('round', 917), ('congratulation', 918), ('80', 919), ('tuesday', 920), ('hanah', 921), ('xoxo', 922), ('joy', 923), ('bug', 924), ('freak', 925), ('peace', 926), ('miley', 927), ('deuce', 928), ('curently', 929), ('ton', 930), ('bumer', 931), ('taylor', 932), ('fam', 933), ('interview', 934), ('view', 935), ('design', 936), ('apartment', 937), ('shal', 938), ('memory', 939), ('promise', 940), ('men', 941), ('taste', 942), ('fit', 943), ('trouble', 944), ('type', 945), ('wednesday', 946), ('race', 947), ('40', 948), ('revision', 949), ('gah', 950), ('getin', 951), ('blody', 952), ('row', 953), ('godbye', 954), ('art', 955), ('topic', 956), ('swim', 957), ('french', 958), ('coz', 959), ('gosh', 960), ('chinese', 961), ('tonite', 962), ('mark', 963), ('anger', 964), ('exhaust', 965), ('thinking', 966), ('space', 967), ('deserve', 968), ('quote', 969), ('pink', 970), ('others', 971), ('starbucks', 972), ('code', 973), ('dady', 974), ('darn', 975), ('practice', 976), ('doctor', 977), ('mumy', 978), ('delicious', 979), ('pupy', 980), ('14', 981), ('chicago', 982), ('inded', 983), ('everyday', 984), ('fire', 985), ('anybody', 986), ('betwen', 987), ('ache', 988), ('talent', 989), ('wolverine', 990), ('revise', 991), ('screw', 992), ('bird', 993), ('net', 994), ('favourite', 995), ('longer', 996), ('interest', 997), ('sky', 998), (\"how's\", 999), ('folowed', 1000), ('pc', 1001), ('chers', 1002), ('nobody', 1003), ('include', 1004), ('dor', 1005), ('etc', 1006), ('clases', 1007), ('sleep', 1008), ('jump', 1009), ('scren', 1010), ('serious', 1011), ('afraid', 1012), ('thanx', 1013), ('toe', 1014), ('couldnt', 1015), ('jack', 1016), ('wit', 1017), ('entire', 1018), ('piece', 1019), ('supose', 1020), ('isnt', 1021), ('ny', 1022), ('3d', 1023), ('twilight', 1024), ('rid', 1025), ('expensive', 1026), ('drag', 1027), ('fresh', 1028), (\"y'al\", 1029), ('history', 1030), ('er', 1031), ('blah', 1032), ('nyc', 1033), ('folower', 1034), ('milk', 1035), ('scary', 1036), ('ring', 1037), ('awful', 1038), ('def', 1039), ('lead', 1040), ('acros', 1041), ('mobile', 1042), ('25', 1043), ('usual', 1044), ('normal', 1045), ('doin', 1046), ('vacation', 1047), ('five', 1048), ('dentist', 1049), ('lately', 1050), ('anyways', 1051), ('country', 1052), ('july', 1053), ('vid', 1054), ('blod', 1055), ('contact', 1056), ('tumy', 1057), ('constantly', 1058), ('award', 1059), ('imagine', 1060), ('shoping', 1061), ('ooh', 1062), ('price', 1063), ('b4', 1064), ('mal', 1065), ('nah', 1066), ('alowed', 1067), ('keping', 1068), ('fever', 1069), ('ew', 1070), ('msn', 1071), ('dry', 1072), ('bother', 1073), ('however', 1074), ('click', 1075), ('death', 1076), ('swine', 1077), ('kate', 1078), ('manage', 1079), ('seat', 1080), ('often', 1081), ('chris', 1082), ('fat', 1083), ('ignore', 1084), ('sunburn', 1085), ('earth', 1086), ('teacher', 1087), ('cost', 1088), ('j', 1089), ('wat', 1090), ('kno', 1091), ('important', 1092), ('law', 1093), ('available', 1094), ('realise', 1095), ('germany', 1096), ('tan', 1097), ('woho', 1098), ('public', 1099), ('nick', 1100), ('posible', 1101), ('ruin', 1102), ('grandma', 1103), ('bath', 1104), ('mouth', 1105), ('info', 1106), ('strong', 1107), ('charge', 1108), ('sidereal_day', 1109), ('adenosine_monophosphate', 1110), ('mail', 1111), ('excelent', 1112), ('storm', 1113), ('spring', 1114), ('na', 1115), ('clear', 1116), ('six', 1117), ('surgery', 1118), ('swear', 1119), ('empty', 1120), ('living', 1121), ('energy', 1122), ('teling', 1123), ('cals', 1124), ('hotel', 1125), ('twetdeck', 1126), ('hahahaha', 1127), ('bal', 1128), ('draw', 1129), ('gay', 1130), ('four', 1131), ('sense', 1132), ('wasnt', 1133), ('background', 1134), ('raining', 1135), ('ohio', 1136), ('ugly', 1137), ('fot', 1138), ('jk', 1139), ('board', 1140), ('search', 1141), ('neck', 1142), ('bot', 1143), ('fry', 1144), ('graduate', 1145), ('wot', 1146), ('area', 1147), ('cokies', 1148), ('american', 1149), ('weding', 1150), ('arived', 1151), ('pased', 1152), ('pul', 1153), ('outa', 1154), ('sum', 1155), ('camp', 1156), ('mix', 1157), ('epic', 1158), ('thru', 1159), ('hav', 1160), ('tha', 1161), ('match', 1162), ('spam', 1163), ('nd', 1164), ('host', 1165), ('report', 1166), ('faling', 1167), ('animal', 1168), ('90', 1169), ('scream', 1170), ('article', 1171), ('alabama', 1172), ('terible', 1173), ('left', 1174), ('blast', 1175), ('toy', 1176), ('pa', 1177), ('plz', 1178), ('swetie', 1179), ('gear', 1180), ('mcfly', 1181), ('aford', 1182), ('social', 1183), ('teth', 1184), ('fave', 1185), ('australia', 1186), ('fucking', 1187), ('everywhere', 1188), ('limit', 1189), ('wi', 1190), ('level', 1191), ('style', 1192), ('quit', 1193), ('plant', 1194), ('result', 1195), ('series', 1196), ('quoti', 1197), ('disney', 1198), ('bos', 1199), ('g', 1200), ('los', 1201), (\"who's\", 1202), ('dave', 1203), ('wave', 1204), ('kiled', 1205), ('consider', 1206), ('ten', 1207), ('canada', 1208), ('receive', 1209), ('flat', 1210), ('twitering', 1211), ('lake', 1212), ('24', 1213), ('nearly', 1214), ('properly', 1215), ('san', 1216), ('jam', 1217), ('land', 1218), ('botle', 1219), ('brain', 1220), ('cleaning', 1221), ('bang', 1222), ('sandwich', 1223), ('dr', 1224), ('request', 1225), ('exciting', 1226), ('moma', 1227), ('girlfriend', 1228), ('chick', 1229), ('sily', 1230), ('shout', 1231), ('uh', 1232), ('ahead', 1233), ('relaxing', 1234), ('2nite', 1235), ('rule', 1236), ('jay', 1237), ('dnt', 1238), ('chil', 1239), ('truly', 1240), ('alarm', 1241), ('schedule', 1242), ('toast', 1243), ('step', 1244), ('kne', 1245), ('youre', 1246), ('sesion', 1247), ('greg', 1248), ('cheap', 1249), ('recover', 1250), ('adam', 1251), ('fish', 1252), ('depresing', 1253), ('studio', 1254), ('slept', 1255), ('lt', 1256), ('folk', 1257), ('quiz', 1258), ('bite', 1259), ('prob', 1260), ('nail', 1261), ('geting', 1262), ('onto', 1263), ('chanel', 1264), ('depresed', 1265), ('kises', 1266), ('aluminum', 1267), ('marathon', 1268), ('mises', 1269), ('18', 1270), ('momies', 1271), ('st', 1272), ('perhaps', 1273), ('heard', 1274), ('aded', 1275), ('spot', 1276), ('smel', 1277), ('besides', 1278), ('simple', 1279), ('awe', 1280), ('209', 1281), ('continue', 1282), ('hangover', 1283), ('gros', 1284), ('soup', 1285), ('timberlake', 1286), ('tweps', 1287), ('credit', 1288), ('library', 1289), ('honey', 1290), ('steal', 1291), ('north', 1292), ('grab', 1293), ('delete', 1294), ('create', 1295), ('dep', 1296), ('conversation', 1297), ('ate', 1298), ('driver', 1299), ('crapy', 1300), ('productive', 1301), ('sydney', 1302), ('fabulous', 1303), ('rise', 1304), ('cher', 1305), ('drinking', 1306), ('blesed', 1307), ('somehow', 1308), ('stret', 1309), ('rol', 1310), ('force', 1311), ('student', 1312), ('ac', 1313), ('fancy', 1314), ('blackbery', 1315), ('16', 1316), ('pule', 1317), ('private', 1318), ('shin', 1319), ('pised', 1320), ('third', 1321), ('somebody', 1322), ('paint', 1323), ('ily', 1324), ('smoke', 1325), ('pleasure', 1326), ('situation', 1327), ('choose', 1328), ('philipines', 1329), ('unles', 1330), ('dj', 1331), ('quotthe', 1332), ('major', 1333), ('aha', 1334), ('confuse', 1335), ('evil', 1336), ('tough', 1337), ('impresed', 1338), ('twice', 1339), ('midnight', 1340), ('clock', 1341), ('workin', 1342), ('glases', 1343), ('tix', 1344), ('me', 1345), ('fab', 1346), ('3rd', 1347), ('atm', 1348), ('admit', 1349), ('healthy', 1350), ('tax', 1351), ('sushi', 1352), ('woried', 1353), ('feed', 1354), ('09', 1355), ('usa', 1356), ('print', 1357), ('isues', 1358), ('coast', 1359), ('husband', 1360), ('push', 1361), ('demi', 1362), ('client', 1363), ('dig', 1364), ('station', 1365), ('barely', 1366), ('anytime', 1367), ('acident', 1368), ('tune', 1369), ('action', 1370), ('wind', 1371), ('uncle', 1372), ('pant', 1373), ('wah', 1374), ('adorable', 1375), ('straight', 1376), ('13', 1377), ('pls', 1378), ('broken', 1379), ('mary', 1380), ('apart', 1381), ('hapening', 1382), ('plane', 1383), ('smh', 1384), ('server', 1385), ('idiot', 1386), ('ow', 1387), ('america', 1388), ('sam', 1389), ('secret', 1390), ('sux', 1391), ('dish', 1392), ('alike', 1393), ('esay', 1394), ('complicate', 1395), ('a_lot', 1396), ('uranium', 1397), ('handle', 1398), ('he', 1399), ('instal', 1400), ('nasty', 1401), ('flor', 1402), ('program', 1403), ('badly', 1404), ('guna', 1405), ('britain', 1406), ('lack', 1407), ('grand', 1408), ('comp', 1409), ('cough', 1410), ('havin', 1411), ('senior', 1412), ('direct', 1413), ('island', 1414), ('mat', 1415), ('leson', 1416), ('cloud', 1417), ('damit', 1418), ('apt', 1419), ('grade', 1420), ('base', 1421), ('hide', 1422), ('doubt', 1423), ('mo', 1424), ('sel', 1425), ('loud', 1426), ('training', 1427), ('snap', 1428), ('tgif', 1429), ('delay', 1430), ('sugar', 1431), ('goal', 1432), ('choice', 1433), ('17', 1434), ('size', 1435), ('buton', 1436), ('maried', 1437), ('macbok', 1438), ('goten', 1439), ('oops', 1440), ('south', 1441), ('character', 1442), ('neighbor', 1443), ('montana', 1444), (\"ya'l\", 1445), ('performance', 1446), ('england', 1447), ('migraine', 1448), ('model', 1449), ('local', 1450), ('system', 1451), ('reading', 1452), ('total', 1453), ('fuckin', 1454), ('bunch', 1455), ('juice', 1456), ('sport', 1457), ('stres', 1458), ('heh', 1459), ('daily', 1460), ('yeh', 1461), ('cupcake', 1462), ('cloudy', 1463), ('california', 1464), ('reach', 1465), ('flash', 1466), (\"we've\", 1467), ('desk', 1468), ('mesed', 1469), ('suces', 1470), (\"where's\", 1471), ('nowhere', 1472), ('diet', 1473), ('fourth', 1474), ('non', 1475), ('plenty', 1476), ('eg', 1477), ('ship', 1478), ('excuse', 1479), ('slowly', 1480), ('talkin', 1481), ('crush', 1482), ('ups', 1483), ('strange', 1484), ('mm', 1485), ('magic', 1486), ('research', 1487), ('abt', 1488), ('sims', 1489), ('xbox', 1490), ('pm', 1491), ('trust', 1492), ('watchin', 1493), ('awh', 1494), ('theatre', 1495), ('wide', 1496), ('uni', 1497), ('tie', 1498), ('crave', 1499), ('interested', 1500), ('hah', 1501), ('bake', 1502), ('mtv', 1503), ('twitpic', 1504), ('pig', 1505), ('hela', 1506), ('sry', 1507), ('grey', 1508), ('ampamp', 1509), ('bright', 1510), ('raise', 1511), ('cel', 1512), ('blame', 1513), ('wet', 1514), ('gas', 1515), ('fault', 1516), ('cable', 1517), ('comin', 1518), ('crosed', 1519), ('lab', 1520), ('build', 1521), ('skin', 1522), ('pet', 1523), ('batery', 1524), ('2moro', 1525), ('bone', 1526), ('stresed', 1527), ('sex', 1528), ('nervous', 1529), ('exist', 1530), ('trailer', 1531), ('theme', 1532), ('dumb', 1533), ('ofer', 1534), ('kitchen', 1535), ('deliver', 1536), ('fake', 1537), ('everytime', 1538), ('nose', 1539), (\"here's\", 1540), ('godnes', 1541), ('bil', 1542), ('mini', 1543), ('posibly', 1544), ('prayer', 1545), ('hole', 1546), ('burnt', 1547), ('rice', 1548), ('dresed', 1549), ('degres', 1550), ('neither', 1551), ('boked', 1552), ('toth', 1553), ('enter', 1554), ('alive', 1555), ('prepare', 1556), ('form', 1557), ('rent', 1558), ('presentation', 1559), ('lesons', 1560), ('joe', 1561), ('shake', 1562), ('have_a_bun_in_the_oven', 1563), ('supernatural', 1564), ('table', 1565), ('color', 1566), ('adicted', 1567), ('log', 1568), ('oficial', 1569), ('ghost', 1570), ('bread', 1571), ('xmen', 1572), ('tag', 1573), ('downtown', 1574), ('msg', 1575), (\"she'l\", 1576), ('score', 1577), ('playing', 1578), ('dat', 1579), ('tiny', 1580), ('laundry', 1581), ('briliant', 1582), ('aps', 1583), ('hugh', 1584), ('option', 1585), ('botom', 1586), ('ahaha', 1587), ('king', 1588), ('fuly', 1589), ('wekends', 1590), ('pair', 1591), (\"ain't\", 1592), ('father', 1593), ('lokin', 1594), ('heaven', 1595), ('august', 1596), ('workout', 1597), ('mountain', 1598), ('hd', 1599), ('reality', 1600), ('east', 1601), ('member', 1602), ('regret', 1603), ('drama', 1604), ('doc', 1605), ('hows', 1606), ('horse', 1607), ('cafe', 1608), ('ryan', 1609), ('tre', 1610), ('ampere', 1611), ('deity', 1612), ('tweted', 1613), ('awhile', 1614), ('forgive', 1615), ('mistake', 1616), ('anoyed', 1617), ('roast', 1618), ('master', 1619), ('spech', 1620), ('dificult', 1621), ('rofl', 1622), ('sir', 1623), ('mornin', 1624), ('h', 1625), (\"they've\", 1626), ('ty', 1627), ('atention', 1628), ('budy', 1629), ('ftw', 1630), ('writing', 1631), ('acording', 1632), ('respond', 1633), (\"dad's\", 1634), ('sucesful', 1635), ('refuse', 1636), ('meal', 1637), ('decision', 1638), ('hury', 1639), ('angry', 1640), ('xo', 1641), ('listening', 1642), ('brand', 1643), ('rub', 1644), ('detail', 1645), ('van', 1646), ('keep', 1647), ('45', 1648), ('asap', 1649), ('player', 1650), ('deck', 1651), ('literaly', 1652), ('lord', 1653), ('spanish', 1654), ('haircut', 1655), ('21', 1656), ('positive', 1657), ('wories', 1658), ('ocean', 1659), ('spider', 1660), ('mostly', 1661), ('otherwise', 1662), ('dam', 1663), ('field', 1664), ('texas', 1665), ('babysiting', 1666), ('cali', 1667), ('yah', 1668), ('anywhere', 1669), ('buter', 1670), ('sa', 1671), ('twenty_dollar_bill', 1672), ('nox', 1673), ('giant', 1674), ('outfit', 1675), ('bacon', 1676), ('weight', 1677), ('bay', 1678), ('aswel', 1679), ('pub', 1680), ('fotbal', 1681), ('bah', 1682), ('iron', 1683), ('glomy', 1684), ('wild', 1685), ('hapines', 1686), ('advice', 1687), ('basicaly', 1688), ('involve', 1689), ('tol', 1690), ('dye', 1691), ('suit', 1692), ('mike', 1693), ('coments', 1694), ('survive', 1695), ('te', 1696), ('stage', 1697), ('spending', 1698), ('pro', 1699), ('friendly', 1700), ('prefer', 1701), ('certain', 1702), ('pen', 1703), ('replace', 1704), ('extremely', 1705), ('rob', 1706), ('aunt', 1707), ('golf', 1708), ('bils', 1709), ('soul', 1710), ('rite', 1711), ('bio', 1712), ('angel', 1713), ('10th', 1714), ('sarah', 1715), ('spoil', 1716), ('stream', 1717), ('19', 1718), ('twiters', 1719), ('godmorning', 1720), ('per', 1721), ('york', 1722), ('breathe', 1723), ('focus', 1724), ('obviously', 1725), ('tongue', 1726), ('keyboard', 1727), ('beta', 1728), ('recomend', 1729), ('launch', 1730), ('lock', 1731), ('theater', 1732), ('holyoaks', 1733), ('chip', 1734), ('scratch', 1735), ('within', 1736), ('got', 1737), ('awsome', 1738), ('frezing', 1739), ('wrap', 1740), ('schols', 1741), ('alcohol', 1742), ('thunder', 1743), ('bel', 1744), ('disgust', 1745), ('thankful', 1746), ('usb', 1747), ('europe', 1748), ('prince', 1749), ('sometime', 1750), ('aka', 1751), ('diference', 1752), ('glas', 1753), ('west', 1754), ('cinema', 1755), ('quality', 1756), ('unfair', 1757), ('stock', 1758), ('boston', 1759), ('insane', 1760), ('isue', 1761), ('aim', 1762), ('hater', 1763), ('tweters', 1764), ('yer', 1765), ('ng', 1766), ('couch', 1767), ('frustrate', 1768), ('rate', 1769), ('competition', 1770), ('felow', 1771), ('ki', 1772), ('steak', 1773), ('melt', 1774), ('journey', 1775), ('talented', 1776), ('several', 1777), ('hehehe', 1778), ('network', 1779), ('alergies', 1780), ('clip', 1781), ('bowl', 1782), ('recently', 1783), ('desktop', 1784), ('con', 1785), ('sweat', 1786), ('medium', 1787), ('status', 1788), ('blip', 1789), ('james', 1790), ('christmas', 1791), ('crack', 1792), ('urgh', 1793), ('atl', 1794), ('honestly', 1795), ('famous', 1796), ('slightly', 1797), ('hil', 1798), ('cramp', 1799), ('cavs', 1800), ('bump', 1801), ('oven', 1802), ('title', 1803), ('seatle', 1804), ('jimy', 1805), ('audition', 1806), ('christian', 1807), ('idol', 1808), ('burger', 1809), (\"he'l\", 1810), ('bk', 1811), ('wop', 1812), ('60', 1813), ('ta', 1814), ('truck', 1815), ('atempt', 1816), ('chiling', 1817), ('beyond', 1818), ('ken', 1819), ('texting', 1820), ('popular', 1821), ('ops', 1822), ('michael', 1823), ('lakers', 1824), ('muscle', 1825), ('sea', 1826), ('pie', 1827), ('ti', 1828), ('festival', 1829), ('jb', 1830), ('location', 1831), ('leno', 1832), ('crawl', 1833), ('2morow', 1834), ('walmart', 1835), ('23', 1836), ('pity', 1837), ('gud', 1838), ('regular', 1839), ('conference', 1840), ('perform', 1841), ('climb', 1842), ('ading', 1843), ('makin', 1844), ('proper', 1845), ('alex', 1846), (\"everyone's\", 1847), ('nut', 1848), ('lmfao', 1849), ('bathrom', 1850), ('dc', 1851), ('incredible', 1852), ('user', 1853), ('po', 1854), ('wk', 1855), ('bound', 1856), ('respect', 1857), ('honor', 1858), (\"friend's\", 1859), ('charm', 1860), ('bust', 1861), ('lip', 1862), ('avoid', 1863), ('mcdonalds', 1864), ('contest', 1865), ('fashion', 1866), ('thumb', 1867), ('certainly', 1868), ('hunt', 1869), ('masage', 1870), ('lap', 1871), ('friends', 1872), ('depend', 1873), ('hangin', 1874), ('notebok', 1875), ('salad', 1876), ('adres', 1877), ('colection', 1878), ('cancer', 1879), ('lawn', 1880), ('buny', 1881), ('painful', 1882), ('od', 1883), ('bals', 1884), ('les', 1885), ('stack', 1886), ('scene', 1887), ('masive', 1888), ('tres', 1889), ('theres', 1890), ('heck', 1891), ('winter', 1892), ('cudle', 1893), ('zombie', 1894), ('candy', 1895), ('egs', 1896), ('tease', 1897), ('seling', 1898), ('twp', 1899), ('photograph', 1900), ('science', 1901), ('peanut', 1902), ('despite', 1903), ('inspire', 1904), ('phily', 1905), ('ro', 1906), ('taco', 1907), ('commend', 1908), ('ten-spot', 1909), ('wing', 1910), ('hiya', 1911), ('andy', 1912), ('asignment', 1913), ('wal', 1914), ('market', 1915), ('wouldnt', 1916), ('sitin', 1917), ('incredibly', 1918), ('poter', 1919), ('mexican', 1920), ('chili', 1921), ('bein', 1922), ('partner', 1923), ('someday', 1924), ('restaurant', 1925), ('actual', 1926), ('med', 1927), ('tmrw', 1928), ('xx', 1929), ('horor', 1930), ('q', 1931), ('charger', 1932), ('imposible', 1933), ('grateful', 1934), ('jesus', 1935), ('mouse', 1936), ('whew', 1937), ('florida', 1938), ('normaly', 1939), ('human', 1940), ('avatar', 1941), ('lo', 1942), ('repair', 1943), ('bedtime', 1944), ('demo', 1945), (\"g'night\", 1946), ('disapointing', 1947), ('ground', 1948), ('upgrade', 1949), ('gr8', 1950), ('hardly', 1951), ('rachel', 1952), ('transfer', 1953), ('chapter', 1954), ('9am', 1955), ('discover', 1956), ('forum', 1957), ('sugestions', 1958), ('subway', 1959), ('distract', 1960), ('waitin', 1961), ('twin', 1962), ('response', 1963), ('cyrus', 1964), ('center', 1965), ('fed', 1966), ('remove', 1967), ('mow', 1968), ('working', 1969), ('cruise', 1970), ('france', 1971), ('staf', 1972), ('recognize', 1973), ('degre', 1974), ('italian', 1975), ('grocery', 1976), ('sadnes', 1977), ('txt', 1978), ('standard', 1979), ('large', 1980), ('zo', 1981), ('eating', 1982), ('cokie', 1983), ('aniversary', 1984), (\"mum's\", 1985), ('spel', 1986), ('chuck', 1987), ('clasic', 1988), ('ang', 1989), ('november', 1990), ('makeup', 1991), ('milion', 1992), ('besties', 1993), ('wisdom', 1994), ('mode', 1995), ('boat', 1996), (\"they'l\", 1997), ('th', 1998), ('skype', 1999), ('atleast', 2000), ('whoa', 2001), ('sunburnt', 2002), ('grad', 2003), ('female', 2004), ('miserable', 2005), ('paris', 2006), ('pres', 2007), ('miami', 2008), ('twiterland', 2009), ('comparable', 2010), ('nerd', 2011), ('hils', 2012), ('sm', 2013), ('arive', 2014), ('cos', 2015), ('magazine', 2016), ('flick', 2017), ('nicely', 2018), ('guest', 2019), ('tight', 2020), ('amy', 2021), ('socer', 2022), ('control', 2023), ('lovin', 2024), ('glasgow', 2025), ('personal', 2026), ('chest', 2027), ('gosip', 2028), ('vet', 2029), ('duck', 2030), ('scan', 2031), ('convince', 2032), ('ep', 2033), ('yu', 2034), ('rush', 2035), ('rude', 2036), ('cure', 2037), ('twetie', 2038), ('dread', 2039), ('jason', 2040), ('drug', 2041), ('gez', 2042), ('retwet', 2043), ('thomas', 2044), ('chase', 2045), ('nightmare', 2046), ('grandparent', 2047), ('yipe', 2048), ('photoshop', 2049), ('eror', 2050), ('pour', 2051), ('steve', 2052), ('knock', 2053), ('ashley', 2054), ('customer', 2055), ('funeral', 2056), ('kity', 2057), ('capital', 2058), ('orange', 2059), ('romate', 2060), ('german', 2061), ('apointment', 2062), ('metal', 2063), ('moms', 2064), ('picnic', 2065), ('starwarsday', 2066), ('bomb', 2067), ('surprisingly', 2068), ('escape', 2069), (\"momy's\", 2070), ('vista', 2071), ('complain', 2072), ('esp', 2073), ('leavin', 2074), ('square', 2075), ('jen', 2076), ('original', 2077), ('shity', 2078), ('whore', 2079), ('sf', 2080), ('houston', 2081), ('ps3', 2082), ('sec', 2083), ('bom', 2084), ('thnx', 2085), ('canuck', 2086), ('shoot', 2087), ('suden', 2088), ('fil', 2089), ('sober', 2090), ('heavy', 2091), ('nkotb', 2092), ('comic', 2093), ('explain', 2094), ('glorious', 2095), ('term', 2096), ('smart', 2097), ('golden', 2098), ('wifi', 2099), ('trade', 2100), ('dan', 2101), ('brazil', 2102), ('heap', 2103), ('wasup', 2104), ('swing', 2105), ('thankyou', 2106), ('health', 2107), ('fear', 2108), ('theory', 2109), ('clue', 2110), ('river', 2111), ('role', 2112), ('oo', 2113), ('josh', 2114), ('musical', 2115), (\"could've\", 2116), ('rich', 2117), ('gain', 2118), ('hon', 2119), ('intend', 2120), ('uracil', 2121), ('give_birth', 2122), ('hary', 2123), ('yard', 2124), ('chemistry', 2125), ('language', 2126), ('bea', 2127), ('typical', 2128), ('helpful', 2129), ('208', 2130), ('exercise', 2131), ('trend', 2132), ('wats', 2133), ('kilers', 2134), ('nephew', 2135), ('que', 2136), ('youquot', 2137), ('broke', 2138), ('truth', 2139), ('skils', 2140), ('artist', 2141), ('70', 2142), ('recipe', 2143), ('paranoid', 2144), ('mask', 2145), ('shoutout', 2146), ('bleh', 2147), ('soap', 2148), ('adventure', 2149), ('prove', 2150), ('potato', 2151), ('portfolio', 2152), ('technology', 2153), ('unfolow', 2154), ('basebal', 2155), ('police', 2156), ('bela', 2157), ('there', 2158), ('repeat', 2159), ('duty', 2160), ('useful', 2161), ('gd', 2162), ('switch', 2163), ('feature', 2164), ('reference', 2165), ('5th', 2166), ('icecream', 2167), ('valey', 2168), ('buble', 2169), ('hahahah', 2170), ('singapore', 2171), ('cast', 2172), ('cary', 2173), ('cnt', 2174), ('definately', 2175), ('ca', 2176), ('nt', 2177), ('guilty', 2178), ('rat', 2179), ('gek', 2180), ('yaho', 2181), ('felings', 2182), ('hulu', 2183), ('ray', 2184), ('dick', 2185), (\"tonight's\", 2186), ('smack', 2187), ('amazon', 2188), ('achieve', 2189), ('140', 2190), ('chalenge', 2191), ('humid', 2192), ('vancouver', 2193), ('painting', 2194), ('url', 2195), ('shoting', 2196), ('el', 2197), ('curse', 2198), ('4am', 2199), ('singer', 2200), ('central', 2201), ('freaking', 2202), ('ek', 2203), ('speling', 2204), ('hyper', 2205), ('asignments', 2206), ('nighty', 2207), ('photography', 2208), ('26', 2209), ('semester', 2210), ('tato', 2211), ('pump', 2212), ('george', 2213), ('surely', 2214), ('pilow', 2215), ('beauty', 2216), ('license', 2217), ('elen', 2218), ('tht', 2219), ('creative', 2220), ('december', 2221), ('tweple', 2222), ('loser', 2223), ('building', 2224), ('shiny', 2225), ('lounge', 2226), ('sync', 2227), ('austin', 2228), ('package', 2229), ('meh', 2230), ('rot', 2231), ('pound', 2232), ('mision', 2233), ('motion', 2234), ('diego', 2235), ('wa', 2236), ('honest', 2237), ('content', 2238), ('vegas', 2239), ('compare', 2240), ('voting', 2241), ('voleybal', 2242), ('digest', 2243), (\"today's\", 2244), ('probs', 2245), ('gray', 2246), ('desert', 2247), ('lang', 2248), ('wud', 2249), ('sh', 2250), ('colour', 2251), ('infection', 2252), ('item', 2253), ('swolen', 2254), ('dirty', 2255), ('pancake', 2256), ('leme', 2257), ('skip', 2258), ('likely', 2259), ('gold', 2260), ('yey', 2261), ('kely', 2262), ('mariage', 2263), ('bud', 2264), ('din', 2265), ('map', 2266), ('podcast', 2267), ('national', 2268), ('cash', 2269), ('8am', 2270), ('jes', 2271), ('palm', 2272), ('blend', 2273), ('lover', 2274), ('ot', 2275), ('paul', 2276), ('humor', 2277), ('entry', 2278), ('october', 2279), ('indian', 2280), ('rubish', 2281), ('finale', 2282), ('tony', 2283), ('slice', 2284), ('kiding', 2285), ('5am', 2286), ('cap', 2287), ('tols', 2288), ('dany', 2289), ('wknd', 2290), ('dif', 2291), ('manchester', 2292), ('quickly', 2293), ('phil', 2294), ('panic', 2295), ('weak', 2296), ('salt', 2297), ('katie', 2298), ('calm', 2299), ('snack', 2300), ('ruby', 2301), ('pre', 2302), ('amuse', 2303), ('360', 2304), ('wireles', 2305), ('6th', 2306), ('fyi', 2307), ('stufed', 2308), ('crowd', 2309), ('en', 2310), ('britney', 2311), ('coach', 2312), ('bean', 2313), ('forgot', 2314), ('inspiration', 2315), ('belong', 2316), ('nurse', 2317), ('spread', 2318), ('spirit', 2319), ('deadline', 2320), ('gras', 2321), ('luckily', 2322), ('f1', 2323), ('relate', 2324), ('holie', 2325), ('kis', 2326), ('tels', 2327), ('scare', 2328), ('efort', 2329), ('medicine', 2330), ('acidentaly', 2331), (\"would've\", 2332), ('hay', 2333), ('apreciated', 2334), ('swift', 2335), ('naw', 2336), ('period', 2337), ('grandpa', 2338), ('insurance', 2339), ('curious', 2340), ('gots', 2341), ('ebay', 2342), ('rough', 2343), ('comedy', 2344), ('mothersday', 2345), ('retire', 2346), ('dalas', 2347), ('pure', 2348), ('owe', 2349), ('image', 2350), ('momys', 2351), ('eric', 2352), ('horay', 2353), ('hes', 2354), ('ack', 2355), ('ex', 2356), ('leeward', 2357), ('direction', 2358), ('uber', 2359), ('kils', 2360), ('ko', 2361), ('drum', 2362), ('delivery', 2363), ('shine', 2364), ('denver', 2365), ('ankle', 2366), ('karma', 2367), ('shock', 2368), ('fm', 2369), ('vilage', 2370), ('hoked', 2371), ('twiterverse', 2372), ('confirm', 2373), ('grace', 2374), ('wicked', 2375), ('pi', 2376), ('pils', 2377), ('7am', 2378), ('adore', 2379), ('wifey', 2380), ('dun', 2381), ('nothin', 2382), ('resist', 2383), ('27', 2384), ('chop', 2385), ('snow', 2386), ('yelow', 2387), ('curl', 2388), ('society', 2389), ('username', 2390), ('tend', 2391), ('stink', 2392), ('bob', 2393), ('muah', 2394), ('farm', 2395), ('erands', 2396), ('contract', 2397), ('dia', 2398), ('target', 2399), ('3am', 2400), ('stod', 2401), ('bastard', 2402), ('potential', 2403), ('frigin', 2404), ('lift', 2405), ('bery', 2406), ('bl', 2407), ('cod', 2408), ('microsoft', 2409), ('pix', 2410), ('knight', 2411), ('orlando', 2412), ('arival', 2413), ('bak', 2414), ('purple', 2415), ('sean', 2416), ('tape', 2417), ('plug', 2418), ('china', 2419), ('singing', 2420), ('previous', 2421), ('awesomenes', 2422), ('apear', 2423), ('hmph', 2424), ('phew', 2425), ('crosing', 2426), ('comfy', 2427), ('blanket', 2428), ('core', 2429), ('adult', 2430), ('twiterers', 2431), ('e3', 2432), ('35', 2433), ('obsesed', 2434), ('whenever', 2435), ('m', 2436), ('useles', 2437), ('shortly', 2438), ('skate', 2439), ('bridge', 2440), ('strawberies', 2441), ('predict', 2442), ('mexico', 2443), ('gaga', 2444), (\"that'l\", 2445), ('afterwards', 2446), ('scrub', 2447), ('homie', 2448), ('subject', 2449), ('sugest', 2450), ('cycle', 2451), ('earn', 2452), ('dublin', 2453), ('frm', 2454), ('main', 2455), ('kiten', 2456), ('sayin', 2457), ('tenis', 2458), ('jef', 2459), ('joint', 2460), ('ef', 2461), ('noise', 2462), ('product', 2463), ('burito', 2464), ('garage', 2465), ('exams', 2466), ('adopt', 2467), ('thingy', 2468), ('lop', 2469), ('sting', 2470), ('nature', 2471), ('sock', 2472), ('brian', 2473), ('prof', 2474), ('highly', 2475), ('misin', 2476), (\"someone's\", 2477), ('sara', 2478), ('dump', 2479), ('atack', 2480), ('japanese', 2481), ('agred', 2482), ('pup', 2483), ('oil', 2484), ('un', 2485), ('jerk', 2486), ('opinion', 2487), ('blister', 2488), ('cop', 2489), ('bely', 2490), ('motivation', 2491), ('ba', 2492), ('niece', 2493), ('jean', 2494), ('gf', 2495), ('fudge', 2496), ('parade', 2497), ('spain', 2498), ('tokyo', 2499), ('solo', 2500), ('behave', 2501), ('obama', 2502), ('refer', 2503), ('exit', 2504), ('reunion', 2505), ('dawn', 2506), ('exact', 2507), ('pathetic', 2508), ('whitethorn', 2509), ('tidal_bore', 2510), ('approximately', 2511), ('legal', 2512), ('stoke', 2513), ('ish', 2514), ('spin', 2515), ('faster', 2516), ('neglect', 2517), ('costume', 2518), ('backup', 2519), ('require', 2520), ('bruise', 2521), ('twitervile', 2522), ('brad', 2523), ('fri', 2524), ('gi', 2525), ('hp', 2526), ('pal', 2527), ('audio', 2528), ('skol', 2529), ('dedicate', 2530), ('fetch', 2531), ('trash', 2532), ('rove', 2533), ('knowledge', 2534), ('mia', 2535), ('dis', 2536), ('max', 2537), ('driving', 2538), ('acept', 2539), ('meter', 2540), ('icon', 2541), ('setle', 2542), ('liverpol', 2543), ('grandmother', 2544), ('texted', 2545), ('simply', 2546), ('ol', 2547), ('chesecake', 2548), ('string', 2549), ('gm', 2550), ('deny', 2551), ('fruit', 2552), ('active', 2553), ('ge', 2554), ('constant', 2555), ('function', 2556), ('hockey', 2557), ('corect', 2558), ('condition', 2559), ('tempt', 2560), ('judge', 2561), ('slight', 2562), ('brown', 2563), ('darling', 2564), ('argue', 2565), ('pe', 2566), ('display', 2567), ('bedrom', 2568), ('making', 2569), ('wen', 2570), ('technicaly', 2571), ('rescue', 2572), ('bt', 2573), ('milkshake', 2574), ('emotional', 2575), ('turtle', 2576), ('pole', 2577), ('budies', 2578), ('whether', 2579), ('erm', 2580), ('monster', 2581), ('negative', 2582), ('michigan', 2583), ('decent', 2584), ('dare', 2585), ('hok', 2586), ('produce', 2587), ('replacement', 2588), ('data', 2589), ('boredom', 2590), ('label', 2591), ('pft', 2592), ('economy', 2593), ('jeny', 2594), ('sentence', 2595), ('headline', 2596), ('kiler', 2597), ('sinus', 2598), ('tech', 2599), ('8th', 2600), ('buz', 2601), ('comunity', 2602), ('presure', 2603), ('strawbery', 2604), ('lisa', 2605), ('runing', 2606), ('banana', 2607), ('advance', 2608), ('aye', 2609), ('section', 2610), (\"mama's\", 2611), ('rof', 2612), ('tryin', 2613), ('sauce', 2614), ('trail', 2615), ('closer', 2616), ('preview', 2617), ('venue', 2618), ('updated', 2619), ('smels', 2620), ('guesing', 2621), ('starving', 2622), ('hw', 2623), ('tim', 2624), ('slip', 2625), ('eclipse', 2626), ('di', 2627), ('oz', 2628), ('friendster', 2629), ('hire', 2630), ('tomato', 2631), ('tube', 2632), ('patient', 2633), ('somewhat', 2634), ('piano', 2635), ('acounts', 2636), ('brit', 2637), ('digital', 2638), ('fods', 2639), ('hai', 2640), ('wif', 2641), ('soft', 2642), ('ga', 2643), ('recomended', 2644), ('ant', 2645), ('punch', 2646), ('chem', 2647), ('engine', 2648), ('lolz', 2649), ('dougie', 2650), ('conected', 2651), ('arent', 2652), ('dito', 2653), ('converse', 2654), ('rehearsal', 2655), ('omfg', 2656), ('conection', 2657), ('prison', 2658), ('broklyn', 2659), ('hapier', 2660), ('melbourne', 2661), ('ali', 2662), ('momas', 2663), ('ms', 2664), ('crepy', 2665), ('register', 2666), ('fridge', 2667), ('hack', 2668), ('amber', 2669), ('international', 2670), ('device', 2671), ('930', 2672), ('forgoten', 2673), ('upon', 2674), ('fol', 2675), ('laura', 2676), ('vip', 2677), ('wire', 2678), ('serve', 2679), ('atend', 2680), ('parking', 2681), ('sink', 2682), ('hopeful', 2683), ('strike', 2684), ('utah', 2685), ('quen', 2686), ('stel', 2687), ('devil', 2688), ('lend', 2689), ('korean', 2690), ('speaker', 2691), ('pork', 2692), ('poster', 2693), ('batle', 2694), ('lemon', 2695), ('breath', 2696), ('gun', 2697), ('shoulder', 2698), ('toilet', 2699), ('hahahahaha', 2700), ('convo', 2701), ('stranger', 2702), ('whop', 2703), ('naked', 2704), ('overcast', 2705), ('sowy', 2706), ('refresh', 2707), ('cutie', 2708), ('mango', 2709), ('defo', 2710), ('army', 2711), ('privation', 2712), ('induce', 2713), ('ill', 2714), ('possibly', 2715), ('smaler', 2716), ('pj', 2717), ('charlie', 2718), ('abandon', 2719), ('zealand', 2720), ('relationship', 2721), ('upcoming', 2722), ('sausage', 2723), ('jake', 2724), ('duh', 2725), ('unable', 2726), ('mrs', 2727), ('asian', 2728), ('hip', 2729), ('pedicure', 2730), ('reception', 2731), ('mic', 2732), ('cereal', 2733), ('flag', 2734), ('provide', 2735), ('dislike', 2736), (\"one's\", 2737), ('remote', 2738), ('pot', 2739), ('bahaha', 2740), ('twetup', 2741), ('eu', 2742), ('improve', 2743), ('java', 2744), ('thinkin', 2745), ('guys', 2746), ('packing', 2747), ('panda', 2748), ('empire', 2749), ('christ', 2750), ('curve', 2751), ('vibe', 2752), ('quotmay', 2753), ('agh', 2754), ('nin', 2755), ('ye', 2756), ('lamb', 2757), ('waren', 2758), ('75', 2759), (\"he'd\", 2760), ('nodles', 2761), ('smash', 2762), ('toronto', 2763), ('130', 2764), ('bety', 2765), ('virus', 2766), ('task', 2767), ('promote', 2768), ('crab', 2769), ('logo', 2770), ('management', 2771), ('thriled', 2772), ('impresive', 2773), ('18th', 2774), ('jet', 2775), ('rly', 2776), ('eight', 2777), ('pasword', 2778), ('budget', 2779), ('crew', 2780), ('begining', 2781), ('dolars', 2782), ('sd', 2783), ('failure', 2784), ('warn', 2785), ('efects', 2786), ('furniture', 2787), ('scot', 2788), ('quotno', 2789), ('sour', 2790), ('winer', 2791), ('thingsmumysaid', 2792), ('soner', 2793), ('marketing', 2794), ('ie', 2795), ('patern', 2796), ('tshirt', 2797), ('chery', 2798), ('compliment', 2799), ('centre', 2800), ('italy', 2801), ('increase', 2802), ('geography', 2803), ('firefox', 2804), ('sony', 2805), ('nxt', 2806), ('modern', 2807), ('legs', 2808), ('reminder', 2809), ('perth', 2810), ('listenin', 2811), ('kyle', 2812), ('silence', 2813), ('mega', 2814), ('champion', 2815), ('fighting', 2816), ('korea', 2817), ('flickr', 2818), ('dh', 2819), ('ability', 2820), ('equal', 2821), ('poker', 2822), ('kirk', 2823), ('dol', 2824), ('signing', 2825), ('comon', 2826), ('corner', 2827), ('wekly', 2828), ('atacked', 2829), ('determine', 2830), ('pretend', 2831), ('z', 2832), ('esays', 2833), ('imediately', 2834), ('slave', 2835), ('fedback', 2836), ('develop', 2837), ('tod', 2838), ('terminator', 2839), ('zone', 2840), ('hub', 2841), ('similar', 2842), ('andrew', 2843), ('sofa', 2844), ('31', 2845), ('hola', 2846), ('reward', 2847), ('chai', 2848), ('folows', 2849), ('1am', 2850), ('no', 2851), ('retard', 2852), ('minus', 2853), ('alergic', 2854), ('nine', 2855), ('musicmonday', 2856), ('mitchel', 2857), ('belive', 2858), ('juday', 2859), ('jst', 2860), ('wiling', 2861), ('beloved', 2862), ('category', 2863), ('convert', 2864), ('bush', 2865), ('sudenly', 2866), ('630', 2867), ('trending', 2868), ('slap', 2869), ('lecture', 2870), ('charity', 2871), ('domain', 2872), ('sisy', 2873), ('chiled', 2874), ('estate', 2875), ('mite', 2876), ('29', 2877), ('pising', 2878), ('relative', 2879), ('coat', 2880), ('recent', 2881), ('buger', 2882), ('whops', 2883), ('az', 2884), ('ana', 2885), ('fe', 2886), ('hal', 2887), ('acepted', 2888), ('der', 2889), ('factory', 2890), ('hapiest', 2891), ('nicole', 2892), ('wth', 2893), ('fiften', 2894), ('faty', 2895), ('atempting', 2896), ('randomly', 2897), ('mufins', 2898), ('auto', 2899), ('cab', 2900), ('meant', 2901), ('concern', 2902), ('imo', 2903), ('comfortable', 2904), ('fold', 2905), ('wrk', 2906), ('ginger', 2907), ('yeled', 2908), ('jersey', 2909), ('fox', 2910), ('jordan', 2911), ('faith', 2912), ('sucky', 2913), ('dul', 2914), ('tbh', 2915), ('kewl', 2916), ('entertain', 2917), ('1pm', 2918), ('twist', 2919), ('wid', 2920), ('consequence', 2921), ('gaiety', 2922), ('business', 2923), ('adequate', 2924), ('attentiveness', 2925), ('television_receiver', 2926), ('ashole', 2927), ('desperate', 2928), ('buck', 2929), ('donie', 2930), ('reschedule', 2931), ('kim', 2932), ('drumer', 2933), ('carton', 2934), ('recital', 2935), ('tmobile', 2936), ('advert', 2937), ('downstairs', 2938), ('celebrity', 2939), ('quotupquot', 2940), ('castle', 2941), ('scotland', 2942), ('surprised', 2943), ('acomplished', 2944), ('gna', 2945), ('watching', 2946), ('pit', 2947), ('cupa', 2948), ('miday', 2949), ('heather', 2950), ('boys', 2951), ('blis', 2952), ('[person]y', 2953), ('separate', 2954), ('helen', 2955), (\"britain's\", 2956), ('diamond', 2957), ('heading', 2958), ('spock', 2959), ('doh', 2960), ('meaning', 2961), ('overal', 2962), ('jamie', 2963), ('loved', 2964), ('stuborn', 2965), ('bac', 2966), ('taxi', 2967), ('gon', 2968), ('coupon', 2969), ('lugage', 2970), ('march', 2971), ('frame', 2972), ('infamous', 2973), ('manager', 2974), ('starwars', 2975), ('position', 2976), ('nana', 2977), ('damage', 2978), ('united', 2979), ('junk', 2980), ('sticker', 2981), ('bokstore', 2982), ('select', 2983), ('headin', 2984), ('recomendation', 2985), ('ch', 2986), ('nh', 2987), ('sho', 2988), ('sorta', 2989), ('woah', 2990), ('setings', 2991), ('paramore', 2992), ('tiger', 2993), ('proces', 2994), ('benefit', 2995), ('edge', 2996), ('alice', 2997), ('colest', 2998), ('shud', 2999), ('ala', 3000), ('gril', 3001), ('no1', 3002), ('snugle', 3003), ('cape', 3004), ('frank', 3005), ('cheat', 3006), ('stresful', 3007), ('yearbok', 3008), ('personaly', 3009), ('windy', 3010), ('wu', 3011), ('owner', 3012), ('wrist', 3013), ('robin', 3014), ('fusion', 3015), ('cub', 3016), ('priceles', 3017), ('rols', 3018), ('logic', 3019), ('pamper', 3020), ('conect', 3021), ('olive', 3022), ('virtual', 3023), ('value', 3024), ('twiterific', 3025), ('atics', 3026), ('chin', 3027), ('september', 3028), ('kay', 3029), (\"it'd\", 3030), ('plain', 3031), ('youth', 3032), ('foundation', 3033), ('ausie', 3034), ('quarter', 3035), ('lung', 3036), (\"people's\", 3037), ('dmv', 3038), ('ug', 3039), ('donate', 3040), ('sweden', 3041), ('jo', 3042), ('gurl', 3043), ('sob', 3044), ('president', 3045), ('clothing', 3046), ('thousand', 3047), ('sufering', 3048), ('warning', 3049), ('popcorn', 3050), ('towel', 3051), ('jacket', 3052), ('lily', 3053), ('highlight', 3054), ('teribly', 3055), ('g1', 3056), ('discusion', 3057), ('atending', 3058), ('cope', 3059), ('android', 3060), ('designer', 3061), ('womens', 3062), ('prosper', 3063), ('tesco', 3064), ('whoever', 3065), ('legit', 3066), ('indors', 3067), ('motivate', 3068), ('biz', 3069), ('torture', 3070), ('apology', 3071), ('trick', 3072), ('crown', 3073), ('shade', 3074), ('polish', 3075), ('starve', 3076), ('prop', 3077), ('opera', 3078), ('kol', 3079), ('anounced', 3080), ('strip', 3081), ('placement', 3082), ('holywod', 3083), ('smoking', 3084), ('leter', 3085), ('impresion', 3086), ('daniel', 3087), ('asume', 3088), ('stun', 3089), ('photoshot', 3090), ('coler', 3091), ('temp', 3092), ('whel', 3093), ('hols', 3094), ('chore', 3095), ('comercial', 3096), ('grin', 3097), ('jog', 3098), ('efing', 3099), ('lyric', 3100), ('writen', 3101), ('indie', 3102), ('newcastle', 3103), ('reaction', 3104), ('comfort', 3105), ('renew', 3106), ('rio', 3107), ('ne', 3108), (\"quotit's\", 3109), ('moi', 3110), ('brb', 3111), ('planet', 3112), ('steph', 3113), ('numb', 3114), (\"o'clock\", 3115), ('grape', 3116), ('hod', 3117), ('amount', 3118), ('hawai', 3119), ('marley', 3120), ('minor', 3121), ('shave', 3122), ('risk', 3123), ('neighbour', 3124), ('stone', 3125), ('honour', 3126), ('timing', 3127), ('balance', 3128), ('gmail', 3129), ('dryer', 3130), ('unlimited', 3131), ('edward', 3132), ('flop', 3133), ('boil', 3134), ('rarely', 3135), ('5k', 3136), ('pocket', 3137), ('oi', 3138), ('spent', 3139), ('zero', 3140), ('iv', 3141), ('checkin', 3142), ('del', 3143), ('fl', 3144), ('jonathan', 3145), ('mint', 3146), ('colorado', 3147), ('katy', 3148), ('pasta', 3149), ('tila', 3150), ('hog', 3151), ('6am', 3152), ('dizy', 3153), ('ma', 3154), ('earphone', 3155), ('advantage', 3156), ('frog', 3157), ('wods', 3158), ('damnit', 3159), ('brunch', 3160), ('anime', 3161), (\"they'd\", 3162), ('hint', 3163), ('imac', 3164), ('script', 3165), ('male', 3166), ('gnite', 3167), ('explode', 3168), ('gum', 3169), ('ireland', 3170), ('dolhouse', 3171), ('clever', 3172), ('pat', 3173), ('india', 3174), ('thankfuly', 3175), ('submit', 3176), ('5pm', 3177), ('aside', 3178), ('chily', 3179), ('bestie', 3180), ('distance', 3181), ('acounting', 3182), ('ofline', 3183), ('easily', 3184), ('bare', 3185), ('wordpres', 3186), ('tampa', 3187), ('roling', 3188), ('layout', 3189), ('jt', 3190), ('shanon', 3191), ('panera', 3192), ('bribe', 3193), ('oprah', 3194), ('hum', 3195), ('franchise', 3196), ('workplace', 3197), ('bet_on', 3198), ('stopping_point', 3199), ('substance_abuse', 3200), ('exemplary', 3201), ('miss', 3202), ('credibly', 3203), ('mister', 3204), ('paragon', 3205), ('ohmygod', 3206), ('heal', 3207), ('adiction', 3208), ('guinea', 3209), ('nc', 3210), ('forest', 3211), ('ciara', 3212), ('translation', 3213), ('lobster', 3214), ('ridiculous', 3215), ('sight', 3216), ('anythin', 3217), ('ema', 3218), ('input', 3219), ('particularly', 3220), ('lighter', 3221), ('entirely', 3222), ('havnt', 3223), ('crochet', 3224), ('chef', 3225), ('pero', 3226), ('28', 3227), ('hectic', 3228), ('dane', 3229), ('tonsil', 3230), ('solid', 3231), ('ay', 3232), ('karaoke', 3233), ('strep', 3234), ('signal', 3235), ('dev', 3236), ('likey', 3237), ('bat', 3238), ('eagle', 3239), ('contain', 3240), ('verizon', 3241), ('fone', 3242), ('unfolowed', 3243), ('debate', 3244), ('ed', 3245), ('siting', 3246), ('pile', 3247), ('yoga', 3248), ('chain', 3249), ('shy', 3250), ('poly', 3251), ('programe', 3252), ('drown', 3253), ('michele', 3254), ('homemade', 3255), ('cent', 3256), ('nintendo', 3257), ('speaking', 3258), ('slepover', 3259), ('entertaining', 3260), ('opening', 3261), ('thai', 3262), ('journal', 3263), ('shape', 3264), ('wink', 3265), ('confused', 3266), ('beast', 3267), ('mighty', 3268), ('junior', 3269), ('laker', 3270), ('naman', 3271), ('cinamon', 3272), ('dust', 3273), ('swetest', 3274), ('therapy', 3275), ('unfortunatly', 3276), ('martin', 3277), ('05', 3278), ('porn', 3279), ('dogy', 3280), ('bicycle', 3281), ('thailand', 3282), ('aplication', 3283), ('anthony', 3284), ('dancer', 3285), ('mystery', 3286), ('tedy', 3287), ('pride', 3288), ('umbrela', 3289), ('smiley', 3290), ('traditional', 3291), ('pout', 3292), ('curent', 3293), ('bash', 3294), ('snezing', 3295), ('remix', 3296), ('fairly', 3297), ('aah', 3298), (\"moma's\", 3299), ('proly', 3300), ('rerun', 3301), ('kudos', 3302), ('robie', 3303), ('wiliam', 3304), ('nw', 3305), ('onion', 3306), ('seafod', 3307), ('madre', 3308), ('archuleta', 3309), ('sweaty', 3310), ('recesion', 3311), ('hayley', 3312), ('victory', 3313), ('pad', 3314), ('entertainment', 3315), ('ane', 3316), ('quilt', 3317), ('polar', 3318), ('actor', 3319), ('phase', 3320), ('rap', 3321), ('donut', 3322), ('rc', 3323), ('vinegar', 3324), ('lucas', 3325), ('wack', 3326), ('bulshit', 3327), ('closing', 3328), ('downside', 3329), ('overnight', 3330), ('bufet', 3331), ('tryna', 3332), (\"leno's\", 3333), ('sake', 3334), ('romantic', 3335), ('830', 3336), ('edinburgh', 3337), ('margarita', 3338), ('legend', 3339), ('acent', 3340), ('tablet', 3341), ('sac', 3342), ('league', 3343), ('twenty', 3344), ('dirt', 3345), ('tehe', 3346), ('nedle', 3347), ('vids', 3348), ('comence', 3349), ('lauren', 3350), ('34', 3351), ('anxious', 3352), ('pt', 3353), ('sneak', 3354), ('birmingham', 3355), ('nola', 3356), ('banquet', 3357), ('sufer', 3358), ('chair', 3359), ('sugestion', 3360), ('morn', 3361), ('twiterfon', 3362), ('purse', 3363), ('acoustic', 3364), ('gawd', 3365), ('guide', 3366), ('ironic', 3367), ('handy', 3368), ('mandy', 3369), ('playin', 3370), ('murder', 3371), ('tango', 3372), ('quotyou', 3373), ('biger', 3374), ('pong', 3375), ('peaceful', 3376), ('shufle', 3377), ('tenese', 3378), ('srsly', 3379), ('brush', 3380), ('surounded', 3381), ('monitor', 3382), ('mag', 3383), ('misy', 3384), ('detroit', 3385), ('vanila', 3386), ('ego', 3387), ('playlist', 3388), ('twiterbery', 3389), ('kities', 3390), ('excitement', 3391), ('shelf', 3392), ('pleased', 3393), ('trial', 3394), ('32', 3395), ('engage', 3396), ('10pm', 3397), ('sub', 3398), ('wishing', 3399), ('nevermind', 3400), ('unlike', 3401), ('dew', 3402), ('huray', 3403), ('wale', 3404), (\"doctor's\", 3405), ('12th', 3406), ('efin', 3407), ('kevin', 3408), ('victoria', 3409), ('thunderstorm', 3410), ('pregnant', 3411), ('circus', 3412), ('nursing', 3413), ('biology', 3414), ('daisy', 3415), ('solve', 3416), ('headphone', 3417), ('ban', 3418), ('employe', 3419), ('discount', 3420), ('inspection', 3421), ('pin', 3422), ('contemplate', 3423), ('stephen', 3424), ('financial', 3425), ('font', 3426), ('halo', 3427), ('plastic', 3428), ('disapeared', 3429), ('vent', 3430), ('towards', 3431), ('suspect', 3432), ('taker', 3433), ('jeremy', 3434), ('niga', 3435), ('activity', 3436), ('flavor', 3437), ('asistant', 3438), ('lebron', 3439), ('purchase', 3440), ('hayfever', 3441), ('twas', 3442), ('awaken', 3443), ('hopusday', 3444), ('jr', 3445), ('bowling', 3446), ('magical', 3447), ('nathan', 3448), ('aplied', 3449), ('route', 3450), ('siter', 3451), ('dolar', 3452), ('argument', 3453), ('snore', 3454), ('smoth', 3455), ('rockin', 3456), ('fest', 3457), ('destroy', 3458), ('caught', 3459), ('emo', 3460), ('ringtones', 3461), ('semed', 3462), ('neat', 3463), ('surf', 3464), ('frezer', 3465), ('grove', 3466), ('relief', 3467), ('document', 3468), ('metro', 3469), ('basic', 3470), ('nhl', 3471), ('suply', 3472), ('comute', 3473), ('10,0', 3474), ('167', 3475), ('remain', 3476), ('toaster', 3477), ('papa', 3478), ('plot', 3479), ('pierce', 3480), ('writer', 3481), ('1030', 3482), ('tap', 3483), ('gtlt', 3484), ('academy', 3485), ('nedles', 3486), (\"tomorow's\", 3487), ('exchange', 3488), ('former', 3489), ('efect', 3490), ('95', 3491), ('ofered', 3492), ('2night', 3493), ('poetry', 3494), ('distraction', 3495), ('smothie', 3496), ('eatin', 3497), ('slepin', 3498), ('selena', 3499), ('simon', 3500), ('lb', 3501), ('whip', 3502), ('clearly', 3503), ('concentrate', 3504), ('corn', 3505), ('d', 3506), ('gretings', 3507), ('lost', 3508), ('bambozle', 3509), ('bing', 3510), ('barcelona', 3511), ('limo', 3512), ('fo', 3513), ('cocktail', 3514), ('devon', 3515), ('shatered', 3516), ('snif', 3517), ('solution', 3518), ('split', 3519), ('firts', 3520), (\"c'mon\", 3521), ('pigy', 3522), ('museum', 3523), ('gose', 3524), ('stufs', 3525), ('oc', 3526), ('coleagues', 3527), ('genius', 3528), ('thread', 3529), ('prematurely', 3530), ('source', 3531), ('coursework', 3532), ('security', 3533), ('strets', 3534), ('hype', 3535), ('whilst', 3536), ('perfectly', 3537), ('keny', 3538), ('familiar', 3539), ('external', 3540), ('ridiculously', 3541), ('information', 3542), ('bin', 3543), ('guilt', 3544), ('brace', 3545), ('atracted', 3546), ('audacious', 3547), ('court', 3548), ('material', 3549), ('brownie', 3550), ('dimple', 3551), ('imax', 3552), ('postpone', 3553), ('santa', 3554), ('cig', 3555), ('flip', 3556), ('satisfy', 3557), ('dope', 3558), ('inlaws', 3559), ('galery', 3560), ('wheres', 3561), (\"we'd\", 3562), ('careful', 3563), ('br', 3564), ('swety', 3565), ('falout', 3566), ('soundtrack', 3567), ('kindle', 3568), ('pasing', 3569), ('calculator', 3570), ('fredom', 3571), ('mud', 3572), ('sent', 3573), ('audience', 3574), ('discovery', 3575), ('30pm', 3576), ('dreambears', 3577), ('soulja', 3578), ('starship', 3579), ('beard', 3580), ('disneyland', 3581), ('pr', 3582), ('coworkers', 3583), ('commemorate', 3584), ('manner', 3585), ('buttocks', 3586), ('on-line', 3587), ('call_on_the_carpet', 3588), ('hawaii', 3589), ('necessitate', 3590), ('beget', 3591), ('harass', 3592), ('avant-garde', 3593), ('classify', 3594), ('conclude', 3595), ('home_plate', 3596), ('devour', 3597), ('casie', 3598), ('dragon', 3599), ('ni', 3600), ('haul', 3601), ('cud', 3602), ('development', 3603), ('jez', 3604), ('terminal', 3605), ('plate', 3606), ('whels', 3607), ('index', 3608), ('au', 3609), ('mcmufin', 3610), ('36', 3611), ('kindergarten', 3612), ('nest', 3613), ('dot', 3614), ('den', 3615), ('sunbathe', 3616), ('craving', 3617), ('belated', 3618), ('culture', 3619), ('specify', 3620), ('bros', 3621), ('salary', 3622), ('webcam', 3623), ('neighborhod', 3624), ('gran', 3625), ('japan', 3626), ('startrek', 3627), ('stat', 3628), ('shesh', 3629), ('stretch', 3630), (\"cousin's\", 3631), ('wkend', 3632), ('cunt', 3633), ('laughter', 3634), ('whatchu', 3635), ('madie', 3636), ('agent', 3637), ('skl', 3638), ('freshman', 3639), ('jackman', 3640), ('ab', 3641), ('soda', 3642), ('selection', 3643), ('blonde', 3644), ('sunset', 3645), ('horid', 3646), ('sigjeans', 3647), ('hopeles', 3648), ('ian', 3649), ('dutch', 3650), ('mraz', 3651), ('ar', 3652), ('backyard', 3653), ('cobra', 3654), ('dayquot', 3655), ('itouch', 3656), ('jely', 3657), ('sumthin', 3658), ('planing', 3659), ('brave', 3660), ('bradie', 3661), ('choir', 3662), ('joey', 3663), ('sanctuarysunday', 3664), ('software', 3665), ('kingdom', 3666), ('thirty', 3667), ('dangerous', 3668), ('jaz', 3669), ('colin', 3670), ('jp', 3671), ('lime', 3672), ('shite', 3673), ('vacum', 3674), ('huny', 3675), ('mu', 3676), ('sao', 3677), ('cn', 3678), ('dvr', 3679), ('08', 3680), ('politics', 3681), ('eastenders', 3682), ('puke', 3683), ('champ', 3684), ('basement', 3685), ('burbank', 3686), ('dozen', 3687), ('combo', 3688), ('invitation', 3689), ('wreck', 3690), ('insomnia', 3691), ('beyonce', 3692), (\"i'ma\", 3693), ('prejudice', 3694), ('iowa', 3695), ('industry', 3696), ('rabit', 3697), ('unhapy', 3698), ('wity', 3699), ('thin', 3700), ('desire', 3701), ('soak', 3702), ('presence', 3703), ('bck', 3704), ('tutorial', 3705), ('grumble', 3706), ('espreso', 3707), ('mel', 3708), ('poke', 3709), ('brandon', 3710), ('whisper', 3711), ('natalie', 3712), ('resume', 3713), ('crek', 3714), ('aiden', 3715), ('tenagers', 3716), ('uterly', 3717), (\"wekend's\", 3718), ('bonfire', 3719), ('triple', 3720), ('tis', 3721), ('example', 3722), ('wiliams', 3723), ('printer', 3724), ('claim', 3725), ('eps', 3726), ('boho', 3727), ('jury', 3728), ('reminisce', 3729), ('hicups', 3730), ('gluten', 3731), ('lactose', 3732), ('enjoyable', 3733), ('montreal', 3734), ('xp', 3735), ('operation', 3736), ('automaticaly', 3737), ('pritchard', 3738), ('inch', 3739), ('erin', 3740), ('cu', 3741), ('chu', 3742), ('spit', 3743), ('gotcha', 3744), ('pises', 3745), ('tweties', 3746), ('pine', 3747), ('rant', 3748), ('vegetarian', 3749), ('carpet', 3750), ('progres', 3751), ('aloha', 3752), ('recovery', 3753), ('clark', 3754), ('grader', 3755), ('francisco', 3756), ('zach', 3757), ('rose', 3758), ('vast', 3759), ('calorie', 3760), ('somethin', 3761), ('gret', 3762), ('nz', 3763), ('engagement', 3764), ('nj', 3765), ('elvis', 3766), ('browse', 3767), (\"that'd\", 3768), ('dk', 3769), ('faire', 3770), ('spongebob', 3771), ('nom', 3772), ('alien', 3773), ('7th', 3774), ('clarify', 3775), ('sew', 3776), ('edition', 3777), ('veronica', 3778), ('ceremony', 3779), ('chew', 3780), ('mid', 3781), ('amazingly', 3782), ('bul', 3783), ('ariving', 3784), (\"night's\", 3785), ('acid', 3786), ('stalk', 3787), ('wango', 3788), ('disc', 3789), ('enterprise', 3790), ('bleach', 3791), ('plurk', 3792), (\"joe's\", 3793), ('sacramento', 3794), ('ph', 3795), ('whack', 3796), ('piya', 3797), ('teh', 3798), ('tat', 3799), ('extend', 3800), ('crunch', 3801), ('priority', 3802), ('casino', 3803), ('novel', 3804), ('fals', 3805), ('forth', 3806), ('pupies', 3807), ('outlok', 3808), ('database', 3809), ('tidy', 3810), ('cury', 3811), ('curly', 3812), ('ftsk', 3813), ('whistle', 3814), ('wikipedia', 3815), ('jealousy', 3816), ('bagel', 3817), ('56', 3818), ('routine', 3819), ('mufin', 3820), ('shaun', 3821), ('own', 3822), ('lightning', 3823), ('perez', 3824), ('rt', 3825), ('discus', 3826), ('tomoro', 3827), ('thurs', 3828), ('blink', 3829), ('mental', 3830), ('safely', 3831), ('spamers', 3832), ('sme', 3833), ('swetheart', 3834), ('maui', 3835), ('celphone', 3836), ('aid', 3837), ('graphic', 3838), ('promo', 3839), ('methinks', 3840), ('spray', 3841), ('quothow', 3842), ('nano', 3843), ('walet', 3844), ('thus', 3845), ('carolina', 3846), ('awkward', 3847), ('alison', 3848), ('basketbal', 3849), ('porly', 3850), ('airline', 3851), ('cult', 3852), ('omj', 3853), ('chap', 3854), ('gnight', 3855), ('arvo', 3856), ('forecast', 3857), ('ashamed', 3858), ('brick', 3859), ('16th', 3860), ('alen', 3861), ('union', 3862), ('aproaching', 3863), ('ach', 3864), ('nerve', 3865), ('bolt', 3866), ('bebo', 3867), ('sox', 3868), ('profesional', 3869), ('rel', 3870), ('keith', 3871), ('refund', 3872), ('flush', 3873), ('mcr', 3874), ('xoxox', 3875), ('blesings', 3876), ('tragic', 3877), ('quotwhat', 3878), ('quotmy', 3879), ('hawk', 3880), ('general', 3881), ('ran', 3882), ('ele', 3883), ('relaxin', 3884), ('pjs', 3885), ('lick', 3886), ('2010', 3887), (\"everything's\", 3888), ('mumbai', 3889), ('paulo', 3890), ('snivel', 3891), ('ses', 3892), ('physicaly', 3893), ('sunglases', 3894), ('neva', 3895), ('wax', 3896), ('expert', 3897), ('prize', 3898), ('acepting', 3899), ('mah', 3900), ('sticky', 3901), ('delhi', 3902), ('chrome', 3903), (\"chili's\", 3904), ('dreses', 3905), ('becuz', 3906), ('washington', 3907), ('lyk', 3908), ('4pm', 3909), ('mash', 3910), ('revenge', 3911), ('sp', 3912), ('iz', 3913), ('suspend', 3914), ('factor', 3915), ('hc', 3916), ('iced', 3917), ('hairstyle', 3918), ('wks', 3919), ('coworker', 3920), ('nvm', 3921), ('uncomfortable', 3922), ('leak', 3923), ('heya', 3924), ('patron', 3925), ('concept', 3926), ('format', 3927), ('tc', 3928), ('mc', 3929), ('ct', 3930), ('puter', 3931), ('tmr', 3932), ('retro', 3933), ('griled', 3934), ('portugal', 3935), ('habit', 3936), ('bride', 3937), ('sand', 3938), ('lj', 3939), ('blogtv', 3940), ('patio', 3941), ('bible', 3942), ('bleding', 3943), ('hk', 3944), ('cro', 3945), ('cherish', 3946), ('expire', 3947), ('glory', 3948), ('mushrom', 3949), ('studying', 3950), ('motorcycle', 3951), ('thou', 3952), ('ford', 3953), ('blank', 3954), ('gasp', 3955), ('swedish', 3956), ('ako', 3957), ('steam', 3958), ('twelve', 3959), ('peter', 3960), ('pitch', 3961), ('bury', 3962), ('dip', 3963), ('vegie', 3964), ('ink', 3965), ('lovato', 3966), ('shoulda', 3967), ('irish', 3968), ('stole', 3969), ('dors', 3970), ('inbox', 3971), ('munch', 3972), ('rogers', 3973), ('fur', 3974), ('workshop', 3975), ('linux', 3976), ('demon', 3977), ('british', 3978), ('fund', 3979), ('shouldnt', 3980), ('hairdreser', 3981), ('woulda', 3982), ('down', 3983), ('analyze', 3984), ('pastor', 3985), ('nacho', 3986), ('laurie', 3987), ('publish', 3988), ('skirt', 3989), ('manly', 3990), ('ea', 3991), ('explore', 3992), ('unit', 3993), ('150', 3994), ('logies', 3995), ('comcast', 3996), ('iritated', 3997), ('jamies', 3998), ('generation', 3999), ('homeles', 4000), ('reckon', 4001), ('girly', 4002), ('paycheck', 4003), ('bracelet', 4004), ('defend', 4005), ('drove', 4006), ('anual', 4007), ('glen', 4008), ('ahahaha', 4009), ('average', 4010), ('sketch', 4011), ('iwonder', 4012), ('howd', 4013), ('iget', 4014), ('flyer', 4015), ('transformer', 4016), ('cha', 4017), ('sed', 4018), ('430', 4019), ('emily', 4020), ('misplace', 4021), ('delayed', 4022), ('itch', 4023), ('nat', 4024), ('cruel', 4025), ('pery', 4026), ('yucky', 4027), ('grant', 4028), ('ikr', 4029), ('zac', 4030), ('captain', 4031), ('favor', 4032), ('windows', 4033), ('subscribe', 4034), ('wrinkle', 4035), ('va', 4036), ('mar', 4037), ('metings', 4038), ('lah', 4039), ('takin', 4040), ('robert', 4041), ('ubuntu', 4042), ('dork', 4043), ('draft', 4044), ('newly', 4045), ('davis', 4046), ('10am', 4047), ('transport', 4048), ('mock', 4049), ('chelsea', 4050), ('superman', 4051), ('leters', 4052), ('sprain', 4053), ('weigh', 4054), ('pug', 4055), ('mam', 4056), ('mikey', 4057), ('rocket', 4058), ('apearance', 4059), ('loner', 4060), ('flufy', 4061), ('tierd', 4062), ('yogurt', 4063), ('default', 4064), ('mb', 4065), ('auntie', 4066), ('doubly', 4067), ('premier', 4068), ('backpack', 4069), ('slam', 4070), ('nugets', 4071), ('browser', 4072), ('drinkin', 4073), ('breast', 4074), ('fellate', 4075), ('new_jersey', 4076), ('milliampere', 4077), ('battalion', 4078), ('bang-up', 4079), ('dicker', 4080), ('serviceman', 4081), ('bevel', 4082), ('good_morning', 4083), (\"talk_through_one's_hat\", 4084), ('chat_up', 4085), ('outlive', 4086), ('corrode', 4087), ('final_examination', 4088), ('four-spot', 4089), ('institute', 4090), ('acquaintance', 4091), ('halfasedly', 4092), ('anticipate', 4093), ('heterochalenged', 4094), ('quotmilkquot', 4095), ('wnted', 4096), ('dem', 4097), ('stitch', 4098), ('bloging', 4099), ('acomplish', 4100), ('owl', 4101), ('filthy', 4102), ('cube', 4103), ('preciate', 4104), ('urban', 4105), ('disturb', 4106), ('buttock', 4107), ('patience', 4108), ('myrtle', 4109), ('balcony', 4110), ('colectors', 4111), ('horibly', 4112), ('drain', 4113), ('kris', 4114), ('nonstop', 4115), ('amo', 4116), ('dogie', 4117), ('theyre', 4118), ('thirsty', 4119), ('probly', 4120), ('depresion', 4121), ('bg', 4122), ('moly', 4123), ('georgia', 4124), ('knife', 4125), ('be', 4126), ('eva', 4127), ('fricken', 4128), ('gravity', 4129), ('giveaway', 4130), ('aples', 4131), ('popy', 4132), ('moan', 4133), (\"where'd\", 4134), ('m8', 4135), ('07', 4136), ('scout', 4137), ('est', 4138), ('daft', 4139), (\"grey's\", 4140), ('530', 4141), ('130am', 4142), ('tripin', 4143), ('chile', 4144), ('handsome', 4145), ('overtime', 4146), ('romies', 4147), ('beside', 4148), ('lifetime', 4149), ('mes', 4150), ('aby', 4151), ('shrink', 4152), ('tal', 4153), ('tery', 4154), ('citizen', 4155), ('kit', 4156), ('loby', 4157), ('brekie', 4158), (\"nan's\", 4159), ('hundred', 4160), ('global', 4161), ('twitered', 4162), ('tshirts', 4163), ('quotstar', 4164), ('prevent', 4165), ('vodafone', 4166), ('readin', 4167), ('6pm', 4168), ('wishin', 4169), ('ahah', 4170), ('ly', 4171), ('dubai', 4172), ('arse', 4173), ('enemy', 4174), (\"u'l\", 4175), ('lego', 4176), ('indiana', 4177), ('teri', 4178), ('bow', 4179), ('bestfriend', 4180), ('intro', 4181), ('2b', 4182), ('told', 4183), ('retail', 4184), ('hacker', 4185), ('naughty', 4186), ('nk', 4187), ('cryin', 4188), ('ada', 4189), ('tuck', 4190), ('ski', 4191), ('ai', 4192), ('cleaner', 4193), ('gredy', 4194), ('27th', 4195), ('peper', 4196), ('maria', 4197), ('highway', 4198), ('leopard', 4199), ('tank', 4200), ('obvious', 4201), ('gib', 4202), ('drs', 4203), ('livin', 4204), ('peling', 4205), ('lolol', 4206), ('tasty', 4207), ('iner', 4208), ('casa', 4209), ('thts', 4210), ('fabric', 4211), ('9th', 4212), ('bily', 4213), ('cork', 4214), ('asda', 4215), ('raid', 4216), ('leader', 4217), ('investigate', 4218), ('impatient', 4219), ('camper', 4220), ('aaron', 4221), ('worse', 4222), ('tenage', 4223), ('funiest', 4224), ('nike', 4225), ('photographer', 4226), ('fucker', 4227), ('gland', 4228), ('likewise', 4229), ('vs', 4230), ('boziest', 4231), ('yuck', 4232), ('nauseous', 4233), ('hmv', 4234), ('electricity', 4235), ('port', 4236), ('tnx', 4237), ('las', 4238), ('foreign', 4239), ('hurah', 4240), ('medical', 4241), ('baltimore', 4242), ('sympathy', 4243), ('dive', 4244), ('concrete', 4245), ('101', 4246), ('sundae', 4247), ('wout', 4248), ('sim', 4249), ('sufice', 4250), ('alow', 4251), ('carnival', 4252), ('gh', 4253), ('dod', 4254), ('posibility', 4255), ('visual', 4256), ('zachary', 4257), ('quinto', 4258), ('maintenance', 4259), ('hardcore', 4260), ('imagination', 4261), ('premiere', 4262), ('cba', 4263), ('snifle', 4264), ('vampire', 4265), ('nvr', 4266), ('pf', 4267), ('anatomy', 4268), ('limb', 4269), ('promotion', 4270), ('travis', 4271), ('rb', 4272), ('fifth', 4273), ('strugling', 4274), ('turkey', 4275), ('january', 4276), ('router', 4277), ('organize', 4278), ('spare', 4279), ('ram', 4280), ('borow', 4281), ('zune', 4282), ('charles', 4283), ('seminar', 4284), ('58', 4285), ('represent', 4286), ('harlem', 4287), ('richard', 4288), ('miserably', 4289), ('tatos', 4290), ('calendar', 4291), ('fringe', 4292), ('rad', 4293), ('alnighter', 4294), ('envy', 4295), ('skit', 4296), ('sensation', 4297), ('anxiety', 4298), ('wthe', 4299), ('eve', 4300), ('punk', 4301), ('venus', 4302), ('bobo', 4303), ('tif', 4304), ('firework', 4305), ('moving', 4306), ('matrix', 4307), ('safari', 4308), ('stumble', 4309), ('morisons', 4310), ('silent', 4311), ('pw', 4312), ('recomendations', 4313), ('samberg', 4314), ('alas', 4315), ('dey', 4316), ('godies', 4317), ('tenager', 4318), ('tisdale', 4319), ('blond', 4320), ('stickam', 4321), ('biter', 4322), ('sword', 4323), ('universal', 4324), ('slack', 4325), ('sped', 4326), ('leigh', 4327), ('ding', 4328), ('await', 4329), ('pandora', 4330), ('trader', 4331), ('snicker', 4332), ('director', 4333), ('1230', 4334), ('knes', 4335), ('extreme', 4336), ('chesy', 4337), ('inspirational', 4338), ('atacking', 4339), ('luna', 4340), ('38', 4341), ('marvelous', 4342), ('strap', 4343), ('doug', 4344), ('milionaire', 4345), ('bond', 4346), ('cont', 4347), ('linda', 4348), ('indecicive', 4349), ('nic', 4350), ('popins', 4351), ('pleasant', 4352), ('humidity', 4353), ('bra', 4354), ('pause', 4355), ('directory', 4356), ('nudge', 4357), ('spre', 4358), ('tweter', 4359), ('mequot', 4360), ('reader', 4361), ('jamba', 4362), ('guesed', 4363), ('steady', 4364), ('region', 4365), ('barack', 4366), ('fa', 4367), ('arnold', 4368), ('louis', 4369), ('stair', 4370), ('atached', 4371), ('wily', 4372), ('wherever', 4373), ('fixed', 4374), ('dona', 4375), ('uncol', 4376), ('hence', 4377), ('chipotle', 4378), ('mami', 4379), ('euro', 4380), (\"life's\", 4381), ('harder', 4382), ('shane', 4383), ('runy', 4384), ('skint', 4385), (\"g'morning\", 4386), ('pond', 4387), ('devastate', 4388), ('april', 4389), ('itquot', 4390), ('lapy', 4391), ('todo', 4392), ('border', 4393), ('suporting', 4394), ('tos', 4395), ('botles', 4396), ('hrs', 4397), ('slide', 4398), ('clap', 4399), ('as', 4400), ('newborn', 4401), ('independent', 4402), ('everyones', 4403), ('chek', 4404), ('torn', 4405), ('ref', 4406), ('necesary', 4407), ('ikea', 4408), ('zoe', 4409), ('15th', 4410), ('denmark', 4411), ('meat', 4412), ('tink', 4413), ('cm', 4414), ('thang', 4415), ('insult', 4416), ('oportunity', 4417), ('crepe', 4418), ('grease', 4419), ('sin', 4420), ('mesy', 4421), ('adict', 4422), ('farewel', 4423), ('recording', 4424), ('prep', 4425), ('metalica', 4426), ('juz', 4427), ('lad', 4428), ('chirp', 4429), ('cache', 4430), ('nutela', 4431), ('blackhawks', 4432), ('drew', 4433), ('jail', 4434), ('urself', 4435), ('bail', 4436), ('anounce', 4437), ('virgin', 4438), ('chica', 4439), ('givin', 4440), ('whn', 4441), ('compute', 4442), ('generaly', 4443), ('relay', 4444), ('smut', 4445), ('educate', 4446), ('population', 4447), ('threaten', 4448), ('sample', 4449), ('salon', 4450), ('sb', 4451), ('dial', 4452), ('spicy', 4453), ('bufalo', 4454), ('relaxation', 4455), ('batman', 4456), ('brighter', 4457), ('conflict', 4458), ('stalker', 4459), ('wise', 4460), ('06', 4461), ('trump', 4462), ('campus', 4463), ('bid', 4464), ('batch', 4465), ('spon', 4466), ('anyho', 4467), ('psh', 4468), ('braid', 4469), ('experiment', 4470), ('mesing', 4471), ('330', 4472), ('bonus', 4473), ('production', 4474), ('jim', 4475), ('uploading', 4476), ('niki', 4477), ('wiv', 4478), ('knit', 4479), ('onequot', 4480), ('nba', 4481), ('declare', 4482), ('fishies', 4483), ('vaca', 4484), ('edie', 4485), ('quotyour', 4486), ('sup', 4487), ('scale', 4488), ('combination', 4489), ('baked', 4490), ('reread', 4491), ('jese', 4492), ('ultra', 4493), ('diane', 4494), ('surprising', 4495), ('pinch', 4496), ('buying', 4497), ('grub', 4498), ('feat', 4499), ('fascinate', 4500), ('luke', 4501), ('hindi', 4502), ('char', 4503), ('yuk', 4504), ('vintage', 4505), ('wut', 4506), ('welington', 4507), ('megan', 4508), ('participate', 4509), ('react', 4510), ('icky', 4511), ('ja', 4512), ('psychology', 4513), ('loan', 4514), ('maylene', 4515), ('swamp', 4516), ('tournament', 4517), ('bali', 4518), ('urge', 4519), ('multiple', 4520), ('marc', 4521), ('statement', 4522), ('environment', 4523), ('94', 4524), ('showing', 4525), ('snake', 4526), ('miror', 4527), ('admire', 4528), ('brag', 4529), ('girlie', 4530), ('luf', 4531), ('ru', 4532), ('hehehehe', 4533), ('peak', 4534), ('tues', 4535), ('sek', 4536), ('simpson', 4537), ('electric', 4538), ('belgian', 4539), ('pizas', 4540), ('visitor', 4541), ('horny', 4542), ('login', 4543), ('tumblr', 4544), ('primavera', 4545), ('walking', 4546), ('ofers', 4547), ('vocal', 4548), ('heavenly', 4549), ('heater', 4550), ('practicaly', 4551), ('qld', 4552), (\"quoti'm\", 4553), ('necklace', 4554), ('australian', 4555), ('labor', 4556), ('drawing', 4557), ('cage', 4558), ('crime', 4559), ('circle', 4560), ('rick', 4561), ('yikes', 4562), ('qi', 4563), ('guted', 4564), ('tomy', 4565), ('dylan', 4566), (\"children's\", 4567), ('carer', 4568), ('demand', 4569), ('individual', 4570), ('coverage', 4571), ('expectation', 4572), ('eventualy', 4573), ('syrup', 4574), ('smith', 4575), ('48', 4576), ('ded', 4577), ('cam', 4578), ('morgan', 4579), ('girls', 4580), ('cider', 4581), ('qualify', 4582), ('riot', 4583), ('bakery', 4584), ('hungover', 4585), ('yesir', 4586), ('thas', 4587), ('sweater', 4588), ('jane', 4589), ('county', 4590), ('native', 4591), ('atampt', 4592), ('dayum', 4593), ('avenue', 4594), ('cigaretes', 4595), ('730', 4596), ('bleed', 4597), ('nashvile', 4598), ('troley', 4599), ('bankruptcy', 4600), ('eurovision', 4601), ('swiming', 4602), ('tighten', 4603), ('td', 4604), ('tweples', 4605), ('downloads', 4606), ('agency', 4607), ('milan', 4608), ('washing', 4609), ('kery', 4610), ('bruce', 4611), ('sway', 4612), ('upquot', 4613), ('sparkly', 4614), ('producer', 4615), ('locker', 4616), ('nina', 4617), ('hoe', 4618), ('fitnes', 4619), ('phoenix', 4620), ('payday', 4621), ('reg', 4622), ('liking', 4623), ('asthma', 4624), ('embarased', 4625), ('apologize', 4626), ('venice', 4627), ('fred', 4628), ('reminds', 4629), ('efed', 4630), ('blur', 4631), ('3wordsaftersex', 4632), ('amsterdam', 4633), ('brighten', 4634), ('ofcourse', 4635), ('found', 4636), ('injury', 4637), ('spotify', 4638), ('vehicle', 4639), ('clasy', 4640), ('bueno', 4641), ('kickin', 4642), ('unexpected', 4643), ('menu', 4644), ('unfolowing', 4645), ('gardening', 4646), ('droped', 4647), ('org', 4648), ('muy', 4649), ('atmosphere', 4650), ('stu', 4651), ('poet', 4652), ('cord', 4653), ('learning', 4654), ('3g', 4655), ('exhibition', 4656), (\"sister's\", 4657), ('asks', 4658), ('dashboard', 4659), ('w0t', 4660), ('ka', 4661), ('dub', 4662), ('kidney', 4663), ('convenient', 4664), ('celebration', 4665), ('physic', 4666), ('hiatus', 4667), ('domestic', 4668), ('actres', 4669), ('flow', 4670), ('upstairs', 4671), ('nicky', 4672), ('hotie', 4673), ('pil', 4674), ('monkey', 4675), ('pea', 4676), ('filipino', 4677), ('mucho', 4678), ('flashback', 4679), ('tutor', 4680), (\"twiter's\", 4681), ('tradition', 4682), ('author', 4683), ('pete', 4684), ('waz', 4685), ('coker', 4686), ('out', 4687), ('intern', 4688), ('hughes', 4689), ('8p', 4690), ('polaroid', 4691), ('u2', 4692), ('mathew', 4693), ('worm', 4694), ('neil', 4695), ('slim', 4696), ('brisbane', 4697), ('blade', 4698), ('amen', 4699), ('shep', 4700), ('trouser', 4701), ('tx', 4702), ('tyler', 4703), ('lineup', 4704), ('hostage', 4705), ('2am', 4706), ('metaverse', 4707), ('patch', 4708), ('atlanta', 4709), ('ultimate', 4710), ('render', 4711), ('sucker', 4712), ('trampoline', 4713), ('pow', 4714), ('widget', 4715), ('quotjust', 4716), ('capacity', 4717), (\"brother's\", 4718), ('formula', 4719), ('worst', 4720), ('cros', 4721), ('rocky', 4722), ('reject', 4723), ('brief', 4724), ('celebs', 4725), ('abit', 4726), ('wolf', 4727), ('alternative', 4728), ('bale', 4729), ('dangit', 4730), ('becky', 4731), ('mitch', 4732), ('maid', 4733), ('ci', 4734), ('magnetic_resonance_imaging', 4735), ('drill', 4736), ('hello', 4737), ('here_and_now', 4738), ('settle', 4739), ('breastfeed', 4740), ('arrive', 4741), ('electronic_mail', 4742), ('pulmonary_tuberculosis', 4743), ('infinitesimal', 4744), ('preferably', 4745), ('guffaw', 4746), ('run_low', 4747), ('fixate', 4748), ('compilation', 4749), ('scram', 4750), ('plunder', 4751), ('spill_the_beans', 4752), ('examen', 4753), ('retentive', 4754), ('yield', 4755), ('belong_to', 4756), ('trey', 4757), ('hanker', 4758), ('southeast', 4759), ('sympathize', 4760), ('basketball_team', 4761), ('mathematics', 4762), (\"florist's_chrysanthemum\", 4763), ('britany', 4764), ('mit', 4765), ('ofering', 4766), ('thr', 4767), ('lemonade', 4768), ('birth', 4769), ('wakin', 4770), ('choc', 4771), ('bryan', 4772), (\"u're\", 4773), ('heed', 4774), ('victimize', 4775), ('right_to_vote', 4776), ('furious', 4777), ('seven', 4778), ('x3', 4779), ('zack', 4780), ('garlic', 4781), ('modem', 4782), ('consolation', 4783), ('blind', 4784), ('translate', 4785), ('prague', 4786), ('spotlight', 4787), ('naturaly', 4788), ('quotdo', 4789), ('context', 4790), ('raly', 4791), ('paradise', 4792), ('foty', 4793), ('dandy', 4794), ('calin', 4795), ('praise', 4796), ('petrol', 4797), ('chilen', 4798), ('swets', 4799), ('hol', 4800), ('rely', 4801), ('sque', 4802), ('vegan', 4803), ('lush', 4804), ('wakeup', 4805), ('artwork', 4806), ('lokout', 4807), ('met', 4808), ('tims', 4809), ('sail', 4810), ('heartbroken', 4811), ('buterfly', 4812), ('recap', 4813), ('comited', 4814), ('sucka', 4815), ('wnt', 4816), ('cld', 4817), ('iloveyou', 4818), ('animation', 4819), ('tatoed', 4820), ('vodka', 4821), ('rf', 4822), ('71', 4823), ('transition', 4824), ('nate', 4825), ('duper', 4826), ('96', 4827), ('liver', 4828), ('9pm', 4829), ('firefly', 4830), ('describe', 4831), ('quotwe', 4832), ('bargain', 4833), ('capture', 4834), ('leadership', 4835), (\"men's\", 4836), ('squad', 4837), ('norm', 4838), ('tina', 4839), ('stable', 4840), ('8[', 4841), ('tothpaste', 4842), ('bd', 4843), ('itchy', 4844), ('disk', 4845), ('alpha', 4846), ('puding', 4847), ('parker', 4848), ('fidle', 4849), ('rail', 4850), ('grim', 4851), ('candidate', 4852), ('exhausted', 4853), ('stamp', 4854), ('8d', 4855), ('icarly', 4856), ('polution', 4857), ('mk', 4858), ('frustraded', 4859), ('creativity', 4860), ('standby', 4861), ('quota', 4862), ('exotic', 4863), ('itl', 4864), ('20th', 4865), ('ri', 4866), ('corection', 4867), ('quens', 4868), ('alah', 4869), ('speed', 4870), ('obsesion', 4871), ('broadcast', 4872), ('studyin', 4873), ('quietly', 4874), ('organic', 4875), ('shampo', 4876), ('john', 4877), ('courthouse', 4878), (\"world's\", 4879), ('holand', 4880), ('blech', 4881), ('pickle', 4882), ('sparkle', 4883), ('swap', 4884), ('proudly', 4885), ('ham', 4886), ('bumed', 4887), ('physical', 4888), ('fort', 4889), ('kent', 4890), ('notification', 4891), ('replay', 4892), ('aweful', 4893), ('tarmac', 4894), ('mutual', 4895), ('zelda', 4896), ('trytomergetwotols', 4897), ('tourist', 4898), ('bret', 4899), ('injured', 4900), ('warp', 4901), ('temporary', 4902), ('nov', 4903), ('hung', 4904), ('par', 4905), ('gb', 4906), ('inability', 4907), ('velvet', 4908), ('inform', 4909), ('dint', 4910), ('pasion', 4911), ('folowin', 4912), ('arizona', 4913), ('anywho', 4914), ('chi', 4915), ('hv', 4916), ('homies', 4917), ('overload', 4918), ('thick', 4919), ('justice', 4920), ('jade', 4921), ('micro', 4922), ('hardrive', 4923), ('hoedown', 4924), ('thnks', 4925), ('wals', 4926), ('sunscren', 4927), ('bers', 4928), ('eden', 4929), ('shaky', 4930), ('neding', 4931), ('wand', 4932), ('posh', 4933), ('ranger', 4934), ('wanda', 4935), ('sykes', 4936), ('het', 4937), ('visa', 4938), ('manual', 4939), ('stag', 4940), ('gtgt', 4941), ('kilkeny', 4942), ('carie', 4943), ('ozy', 4944), ('chered', 4945), ('philip', 4946), ('twisted', 4947), ('calipo', 4948), ('meow', 4949), ('relaxed', 4950), ('tail', 4951), ('construction', 4952), ('economics', 4953), ('clasmates', 4954), ('decorate', 4955), ('comet', 4956), ('leonard', 4957), ('liz', 4958), ('filter', 4959), ('absolute', 4960), ('documentary', 4961), ('tmw', 4962), ('gambit', 4963), ('ramen', 4964), ('yt', 4965), ('miler', 4966), ('benadryl', 4967), ('sesions', 4968), ('crazines', 4969), ('flod', 4970), ('laters', 4971), ('sequel', 4972), ('oposed', 4973), ('prix', 4974), ('handbag', 4975), ('oy', 4976), ('aj', 4977), ('outlet', 4978), ('angle', 4979), ('gliter', 4980), ('otalia', 4981), ('shrimp', 4982), ('intense', 4983), ('pearl', 4984), ('cya', 4985), ('whisperer', 4986), ('originaly', 4987), ('hokah', 4988), ('sucesfuly', 4989), ('67', 4990), ('complaint', 4991), ('lean', 4992), ('crystal', 4993), ('upto', 4994), ('boxer', 4995), ('aplications', 4996), ('fiance', 4997), ('marine', 4998), ('dads', 4999), ('costa', 5000), ('quotthere', 5001), ('oficaly', 5002), ('ceiling', 5003), ('pose', 5004), ('frozen', 5005), ('greting', 5006), ('vanesa', 5007), ('tai', 5008), ('roled', 5009), ('grets', 5010), ('southern', 5011), ('slepytime', 5012), ('prada', 5013), ('belgium', 5014), ('skim', 5015), ('method', 5016), ('nany', 5017), ('geof', 5018), ('afternons', 5019), ('asada', 5020), ('hahahahahaha', 5021), ('marco', 5022), ('fridays', 5023), ('showin', 5024), ('quotrealquot', 5025), ('apreciation', 5026), ('gang', 5027), ('protect', 5028), ('structure', 5029), ('mayhem', 5030), ('howie', 5031), ('screning', 5032), ('ping', 5033), ('dong', 5034), ('saly', 5035), ('raw', 5036), ('quothapy', 5037), ('reinstal', 5038), ('bec', 5039), ('witnes', 5040), ('qu', 5041), ('grande', 5042), ('ere', 5043), ('stimulate', 5044), ('oui', 5045), ('ahahah', 5046), ('stevie', 5047), ('septum', 5048), ('mga', 5049), ('pale', 5050), ('atractive', 5051), ('abuse', 5052), ('registration', 5053), ('shet', 5054), ('boze', 5055), ('toward', 5056), ('tely', 5057), ('thanku', 5058), ('hve', 5059), ('keychain', 5060), ('scone', 5061), ('jumping', 5062), ('sarcasm', 5063), ('caried', 5064), ('alcoholic', 5065), ('godbyes', 5066), ('7pm', 5067), ('pan', 5068), ('du', 5069), ('stylish', 5070), ('pineaple', 5071), ('antic', 5072), (\"deny's\", 5073), ('exp', 5074), ('susan', 5075), ('instant', 5076), ('mets', 5077), ('xox', 5078), ('kobe', 5079), ('elephant', 5080), ('ia', 5081), ('coks', 5082), ('yew', 5083), ('expense', 5084), ('falcon', 5085), ('arives', 5086), ('stanley', 5087), (\"a's\", 5088), ('sack', 5089), ('cudling', 5090), ('cudles', 5091), (\"mcdonald's\", 5092), ('comeback', 5093), (\"kid's\", 5094), ('adsense', 5095), ('mt', 5096), ('thrown', 5097), ('reduce', 5098), ('kavya', 5099), ('derek', 5100), ('jayk', 5101), ('boi', 5102), ('sg', 5103), ('counter', 5104), ('updating', 5105), ('pwns', 5106), ('vi', 5107), ('scotish', 5108), ('broadband', 5109), ('storage', 5110), ('disapoint', 5111), ('nascar', 5112), ('loming', 5113), ('cheseburger', 5114), ('twat', 5115), ('ino', 5116), (\"ma'am\", 5117), ('disapointment', 5118), ('scrap', 5119), ('blush', 5120), ('disconected', 5121), ('blackberies', 5122), ('pinky', 5123), ('tu', 5124), ('gaming', 5125), ('ama', 5126), ('endles', 5127), ('swalow', 5128), ('alan', 5129), ('mesenger', 5130), ('goldfish', 5131), ('aprentice', 5132), ('farmer', 5133), ('carol', 5134), ('unite', 5135), ('floded', 5136), ('htown', 5137), ('eventful', 5138), ('knw', 5139), ('fr', 5140), ('ranch', 5141), ('breding', 5142), ('slot', 5143), ('canal', 5144), ('newjabakidz', 5145), ('evidence', 5146), ('specific', 5147), ('lane', 5148), ('somethings', 5149), ('cue', 5150), ('fart', 5151), ('robluketic', 5152), ('patrick', 5153), ('quotwhy', 5154), ('contribute', 5155), ('pune', 5156), ('laze', 5157), ('twiterworld', 5158), ('amanda', 5159), ('propose', 5160), ('bokmarks', 5161), ('selfish', 5162), ('anh', 5163), ('ke', 5164), ('quotgt', 5165), ('symptom', 5166), ('wasted', 5167), ('kelie', 5168), ('overcome', 5169), ('sicknes', 5170), ('depot', 5171), ('galore', 5172), ('martini', 5173), ('arsenal', 5174), ('puerto', 5175), ('rico', 5176), ('comedian', 5177), ('cho', 5178), ('tray', 5179), ('spark', 5180), ('stadium', 5181), ('grown', 5182), ('paw', 5183), ('origin', 5184), ('void', 5185), ('knackered', 5186), ('ee', 5187), ('choke', 5188), ('tut', 5189), ('birdie', 5190), ('mot', 5191), ('kickas', 5192), ('ver', 5193), ('avail', 5194), ('expo', 5195), ('himym', 5196), ('atended', 5197), ('limited', 5198), ('mixed', 5199), ('atempts', 5200), ('lens', 5201), ('romie', 5202), ('owt', 5203), ('grumpy', 5204), ('viva', 5205), ('jar', 5206), ('2moz', 5207), ('fame', 5208), ('consist', 5209), ('grece', 5210), ('vog', 5211), ('jacob', 5212), ('dw', 5213), ('mushy', 5214), ('procesing', 5215), ('cone', 5216), (\"scatergod's\", 5217), ('sanctuary', 5218), ('lash', 5219), ('cuba', 5220), ('ofended', 5221), ('slipers', 5222), ('kraut', 5223), ('brighton', 5224), ('scent', 5225), ('agenda', 5226), ('yeay', 5227), ('equipment', 5228), ('mozart', 5229), ('condolence', 5230), ('seo', 5231), ('kev', 5232), ('africa', 5233), ('victim', 5234), ('romance', 5235), ('canon', 5236), ('twiterquot', 5237), ('ofense', 5238), ('106', 5239), ('aplies', 5240), ('laughing', 5241), ('frankie', 5242), ('lambert', 5243), ('medication', 5244), ('interfere', 5245), ('waiting', 5246), ('unreal', 5247), ('s', 5248), ('semi', 5249), (\"dm's\", 5250), ('outline', 5251), ('alergy', 5252), ('confirmation', 5253), ('cabin', 5254), (\"grandma's\", 5255), ('embarasing', 5256), ('pint', 5257), ('vegies', 5258), ('spil', 5259), ('woe', 5260), ('coraline', 5261), ('aloud', 5262), ('disorder', 5263), ('setup', 5264), ('archie', 5265), ('majorly', 5266), (\"teacher's\", 5267), ('phrase', 5268), ('arg', 5269), ('merlin', 5270), ('dreary', 5271), ('ilove', 5272), ('policy', 5273), ('careles', 5274), ('hometown', 5275), ('rear', 5276), ('dual', 5277), ('beverage', 5278), ('badge', 5279), ('mariah', 5280), ('yeling', 5281), ('lasagna', 5282), ('voegele', 5283), ('atitude', 5284), ('dealership', 5285), ('faint', 5286), ('worldwide', 5287), ('resort', 5288), ('mustang', 5289), ('complex', 5290), ('shining', 5291), ('pb', 5292), ('carnt', 5293), ('fade', 5294), ('sonic', 5295), ('godamn', 5296), ('newport', 5297), ('hiding', 5298), ('bart', 5299), ('procrastination', 5300), ('bilion', 5301), ('neda', 5302), (\"baby's\", 5303), ('herd', 5304), ('walace', 5305), ('op', 5306), ('ilegal', 5307), ('oreo', 5308), ('ashleigh', 5309), ('particular', 5310), ('liam', 5311), ('jamin', 5312), ('muray', 5313), ('maker', 5314), ('fortunately', 5315), ('lc', 5316), ('brody', 5317), ('wander', 5318), ('directly', 5319), ('cubicle', 5320), ('bronchitis', 5321), ('guild', 5322), ('laterz', 5323), ('hapend', 5324), ('tragedy', 5325), ('donation', 5326), ('honeymon', 5327), ('wrestler', 5328), ('karen', 5329), ('andrea', 5330), ('wakey', 5331), ('31st', 5332), ('thigh', 5333), ('boking', 5334), ('african', 5335), ('quotand', 5336), ('fran', 5337), ('borin', 5338), ('housemate', 5339), ('av', 5340), ('dum', 5341), ('combine', 5342), ('saving', 5343), ('masterchef', 5344), ('almond', 5345), ('mp3', 5346), ('heartbreak', 5347), ('diy', 5348), ('lucy', 5349), ('expres', 5350), ('satelite', 5351), ('countdown', 5352), ('flos', 5353), ('elevator', 5354), ('agile', 5355), ('rosie', 5356), ('kayla', 5357), ('xxx', 5358), ('mug', 5359), ('restriction', 5360), ('bunies', 5361), ('iquotm', 5362), ('jackson', 5363), ('temperature', 5364), ('cheks', 5365), ('brazilian', 5366), ('clog', 5367), ('motorway', 5368), ('earings', 5369), ('laf', 5370), ('switzerland', 5371), ('closest', 5372), ('freckle', 5373), ('flame', 5374), ('mop', 5375), ('250', 5376), ('fork', 5377), ('87', 5378), ('dresing', 5379), ('cozy', 5380), ('euruko', 5381), ('iya', 5382), ('njoy', 5383), ('et', 5384), ('gps', 5385), ('cow', 5386), ('government', 5387), ('chamber', 5388), ('romeo', 5389), ('regardles', 5390), ('hotnes', 5391), ('bloger', 5392), ('wipe', 5393), ('hamilton', 5394), ('danger', 5395), ('torent', 5396), ('christine', 5397), ('embrace', 5398), ('trent', 5399), ('tow', 5400), ('unpack', 5401), ('brew', 5402), (\"b'day\", 5403), ('lm', 5404), ('measure', 5405), ('wendy', 5406), (\"son's\", 5407), ('span', 5408), ('g4', 5409), ('nowadays', 5410), ('admin', 5411), ('gino', 5412), ('convention', 5413), ('false', 5414), ('seaworld', 5415), ('eugh', 5416), ('geneva', 5417), ('bounce', 5418), ('colorful', 5419), (\"weather's\", 5420), ('speding', 5421), ('glimpse', 5422), ('asembly', 5423), ('145', 5424), ('uter', 5425), ('iplayer', 5426), ('clara', 5427), ('midwest', 5428), ('runin', 5429), ('aampe', 5430), ('ligament', 5431), ('minesota', 5432), ('portuguese', 5433), ('195', 5434), ('wisconsin', 5435), ('shore', 5436), ('harm', 5437), ('sulk', 5438), ('thier', 5439), ('asylm', 5440), ('hover', 5441), ('spice', 5442), ('rum', 5443), ('suprisingly', 5444), ('funier', 5445), ('distant', 5446), ('tothache', 5447), ('kc', 5448), ('worying', 5449), ('mentaly', 5450), ('gather', 5451), ('jedi', 5452), ('dreadful', 5453), ('craigslist', 5454), ('yao', 5455), ('git', 5456), ('invisible', 5457), ('quotgod', 5458), ('html', 5459), ('education', 5460), ('bef', 5461), ('ofices', 5462), ('internal', 5463), ('burning', 5464), ('xmas', 5465), ('argentina', 5466), ('animated', 5467), ('fieldnotes', 5468), ('bluebery', 5469), ('todler', 5470), ('hasnt', 5471), ('iraq', 5472), ('dancing', 5473), ('rawr', 5474), ('quotone', 5475), ('39', 5476), ('gate', 5477), ('pony', 5478), ('voicemail', 5479), ('pis', 5480), ('galaxy', 5481), (\"mine's\", 5482), ('penis', 5483), ('prank', 5484), ('memorize', 5485), ('techno', 5486), ('deb', 5487), ('nonetheles', 5488), ('cricket', 5489), ('eliot', 5490), ('conan', 5491), ('mocha', 5492), ('alaska', 5493), ('anotha', 5494), ('ina', 5495), ('tumor', 5496), ('dl', 5497), (\"she'd\", 5498), ('otawa', 5499), ('survey', 5500), ('120', 5501), ('cutest', 5502), ('decline', 5503), ('jelo', 5504), ('maine', 5505), ('worthy', 5506), ('conf', 5507), ('phenomenal', 5508), ('eyed', 5509), ('backstage', 5510), ('tester', 5511), ('uhoh', 5512), ('bost', 5513), (\"car's\", 5514), ('requiem', 5515), ('samantha', 5516), ('cupboard', 5517), ('kenel', 5518), ('tuner', 5519), ('starcon', 5520), ('psygnosis', 5521), ('amiga', 5522), ('tcot', 5523), ('arena', 5524), ('scifi', 5525), ('wheat', 5526), ('jd', 5527), ('southend', 5528), ('ron', 5529), ('seing', 5530), ('foam', 5531), ('delight', 5532), ('funky', 5533), ('fones', 5534), ('ist', 5535), ('iregularly', 5536), ('singstar', 5537), ('glom', 5538), ('crisp', 5539), ('pilot', 5540), ('advanced', 5541), ('squirels', 5542), ('dedication', 5543), ('50am', 5544), ('maryland', 5545), ('247', 5546), ('csi', 5547), ('throwback', 5548), ('ethan', 5549), ('10k', 5550), ('crafty', 5551), ('reunite', 5552), ('movin', 5553), ('pcd', 5554), ('horseshoe', 5555), ('alo', 5556), ('glue', 5557), ('personality', 5558), ('christina', 5559), ('circumstance', 5560), ('robot', 5561), ('ltlt', 5562), ('asylum', 5563), ('highschol', 5564), ('beck', 5565), ('wok', 5566), ('thoroughly', 5567), ('monies', 5568), ('04', 5569), ('guines', 5570), ('salvation', 5571), ('philosophy', 5572), ('tit', 5573), ('mein', 5574), ('peg', 5575), ('whe', 5576), ('ubertwiter', 5577), ('welsh', 5578), ('godluck', 5579), ('laid', 5580), ('quotif', 5581), ('spinach', 5582), ('230', 5583), ('nu', 5584), ('sept', 5585), ('evaluate', 5586), ('percent', 5587), ('nto', 5588), ('instrument', 5589), ('advertise', 5590), ('mentor', 5591), ('quotthis', 5592), ('reload', 5593), ('whimper', 5594), ('madrid', 5595), ('agree', 5596), ('chatin', 5597), ('ning', 5598), ('in', 5599), ('ninja', 5600), ('encourage', 5601), (\"monday's\", 5602), ('ausies', 5603), ('harsh', 5604), ('sleps', 5605), ('belt', 5606), ('swimsuit', 5607), ('nita', 5608), ('hopin', 5609), ('rug', 5610), ('vicky', 5611), ('shack', 5612), ('olympic', 5613), ('hala', 5614), ('wer', 5615), (\"anyone's\", 5616), ('champagne', 5617), ('scramble', 5618), ('salute', 5619), ('mend', 5620), ('chester', 5621), ('hodie', 5622), ('conserve', 5623), ('groupie', 5624), ('rogue', 5625), ('oklahoma', 5626), ('swep', 5627), ('shorten', 5628), ('yest', 5629), ('scared', 5630), ('gime', 5631), ('spose', 5632), ('slush', 5633), ('noe', 5634), ('accusation', 5635), ('mustiness', 5636), ('succeed', 5637), ('originate', 5638), ('while', 5639), ('concede', 5640), ('perplex', 5641), ('apprehension', 5642), ('baby-sit', 5643), ('class', 5644), ('suffice', 5645), ('carry', 5646), ('southeasterly', 5647), ('curio', 5648), ('buzzword', 5649), ('south_wind', 5650), ('clock_time', 5651), ('selenium', 5652), ('cable_car', 5653), ('second_base', 5654), ('colonel_blimp', 5655), ('male_child', 5656), ('nautical_mile', 5657), ('quotation', 5658), ('courteous', 5659), ('department_of_state', 5660), ('sign_of_the_zodiac', 5661), ('abridge', 5662), ('conclusion', 5663), ('dining_car', 5664), ('secret_intelligence_service', 5665), ('das_kapital', 5666), ('human_body', 5667), ('poop_out', 5668), ('marry', 5669), ('derision', 5670), ('state_of_matter', 5671), ('wake_up', 5672), ('full', 5673), ('stand_by', 5674), ('seven-spot', 5675), ('valet', 5676), ('privacy', 5677), ('massachusetts', 5678), ('five-spot', 5679), ('politician', 5680), ('domesticate', 5681), ('heheh', 5682), ('pufy', 5683), ('rare', 5684), ('quotshut', 5685), ('2hear', 5686), ('gmtv', 5687), ('yur', 5688), ('macadamia', 5689), ('chilaxing', 5690), ('lacroix', 5691), ('drol', 5692), ('landline', 5693), ('proclaim', 5694), ('nameles', 5695), ('conectivity', 5696), ('arlington', 5697), ('seafods', 5698), ('bald', 5699), ('eviction', 5700), ('adictive', 5701), ('rainbow', 5702), ('ight', 5703), ('panty', 5704), ('tafe', 5705), ('exception', 5706), ('lotion', 5707), ('unpleasant', 5708), ('tile', 5709), ('kfc', 5710), ('newbie', 5711), ('wayne', 5712), ('beth', 5713), ('gymnastics', 5714), ('remeber', 5715), ('strol', 5716), ('aight', 5717), ('honesty', 5718), ('acquire', 5719), ('mor', 5720), ('cryopreserved', 5721), ('rp', 5722), ('political', 5723), ('tropical', 5724), ('eforts', 5725), ('toyota', 5726), ('gripe', 5727), ('cheating', 5728), ('holmium', 5729), ('yellow_journalism', 5730), ('probe', 5731), ('economic', 5732), ('lov', 5733), ('chic', 5734), ('ii', 5735), ('superb', 5736), ('spike', 5737), ('taner', 5738), ('panther', 5739), ('dora', 5740), ('explorer', 5741), ('stufy', 5742), ('bulk', 5743), ('poison', 5744), ('ivy', 5745), ('infest', 5746), ('eventhough', 5747), ('biten', 5748), ('48hours', 5749), ('carbs', 5750), ('godnite', 5751), ('drank', 5752), ('opt', 5753), ('conections', 5754), ('chering', 5755), ('bfast', 5756), ('strain', 5757), ('enginer', 5758), ('craig', 5759), ('bugy', 5760), ('scum', 5761), ('69', 5762), ('stuning', 5763), ('manicure', 5764), ('waitres', 5765), ('wmy', 5766), ('spoke', 5767), ('surface', 5768), ('gosiping', 5769), ('compromise', 5770), ('aber', 5771), ('subtle', 5772), ('yipie', 5773), ('ibm', 5774), ('runers', 5775), ('hosp', 5776), ('tomarow', 5777), ('tr', 5778), ('vodo', 5779), ('natural', 5780), ('rang', 5781), ('listning', 5782), ('cigarete', 5783), ('crushed', 5784), ('hayes', 5785), ('isac', 5786), ('melody', 5787), ('suicide', 5788), ('paste', 5789), ('kindnes', 5790), ('yearboks', 5791), ('derby', 5792), ('grandkids', 5793), ('worthles', 5794), ('potus', 5795), ('mri', 5796), ('anie', 5797), ('8,0', 5798), ('coleague', 5799), ('conheo', 5800), ('noiva', 5801), ('revolution', 5802), ('puma', 5803), ('civic', 5804), ('gigle', 5805), ('disposable', 5806), ('harper', 5807), ('porter', 5808), ('yan', 5809), ('scratching', 5810), ('jep', 5811), ('bu', 5812), ('kilin', 5813), ('coincidence', 5814), ('arested', 5815), ('tin', 5816), ('sothing', 5817), ('clutch', 5818), ('memphis', 5819), ('verge', 5820), ('mere', 5821), ('sorows', 5822), ('boty', 5823), ('priest', 5824), ('colective', 5825), ('norway', 5826), ('marzipan', 5827), ('samsung', 5828), ('omnia', 5829), ('strongly', 5830), ('agres', 5831), ('muck', 5832), ('rig', 5833), ('lying', 5834), ('vegetable', 5835), ('godie', 5836), ('earl', 5837), ('oral', 5838), ('nao', 5839), ('scop', 5840), ('dolphin', 5841), ('humble', 5842), ('firmware', 5843), ('mirors', 5844), ('tuna', 5845), ('colect', 5846), ('woke', 5847), (\"macy's\", 5848), ('fog', 5849), ('titanic', 5850), ('lg', 5851), ('jones', 5852), ('ava', 5853), ('partying', 5854), ('samy', 5855), ('pluck', 5856), ('timeline', 5857), ('halelujah', 5858), ('rez', 5859), ('object', 5860), ('eyebrow', 5861), (\"when's\", 5862), ('cna', 5863), ('kilen', 5864), ('bigie', 5865), ('naptime', 5866), ('profesion', 5867), ('beanie', 5868), ('usd', 5869), ('fabulously', 5870), ('gabe', 5871), ('ooo', 5872), ('explanation', 5873), ('md', 5874), ('disturbed', 5875), ('php', 5876), ('rome', 5877), ('scr', 5878), ('nga', 5879), ('aku', 5880), ('pepsi', 5881), ('charlote', 5882), ('girlquot', 5883), ('racism', 5884), ('kitchenfire', 5885), ('frezes', 5886), ('sophie', 5887), ('shopin', 5888), ('blaze', 5889), ('buti', 5890), ('kayo', 5891), ('forehead', 5892), ('quotactionquot', 5893), ('procrastinate', 5894), ('spa', 5895), ('koi', 5896), ('brezy', 5897), ('mainly', 5898), ('resource', 5899), ('duet', 5900), ('gina', 5901), ('riley', 5902), ('bambi', 5903), (\"sam's\", 5904), ('reli', 5905), ('nun', 5906), ('pd', 5907), ('fate', 5908), ('rejuvinated', 5909), ('keli', 5910), ('joel', 5911), ('fathom', 5912), ('boa', 5913), ('tw', 5914), ('sabrina', 5915), ('witch', 5916), ('sashimi', 5917), ('tao', 5918), ('leds', 5919), ('dreadweave', 5920), ('mario', 5921), ('chiropractor', 5922), ('thm', 5923), ('overdo', 5924), ('pretier', 5925), ('4ward', 5926), ('satisfied', 5927), ('elsewhere', 5928), ('14th', 5929), ('macarons', 5930), ('throwdown', 5931), ('cocoa', 5932), ('crispies', 5933), ('claire', 5934), ('depreses', 5935), ('twikini', 5936), ('floyd', 5937), ('mhm', 5938), ('harbor', 5939), ('madnes', 5940), ('shameles', 5941), ('crunk', 5942), ('misha', 5943), ('henrie', 5944), ('floding', 5945), ('underscore', 5946), ('merch', 5947), ('dns', 5948), ('meagan', 5949), ('uquot', 5950), ('croses', 5951), ('mysterious', 5952), ('jodi', 5953), ('alimony', 5954), ('kidies', 5955), ('straightener', 5956), ('fundraiser', 5957), ('614', 5958), ('sociology', 5959), ('freway', 5960), ('paige', 5961), ('gma', 5962), ('powerful', 5963), ('chronicle', 5964), ('youl', 5965), ('therefore', 5966), ('poridge', 5967), ('dril', 5968), ('donor', 5969), ('tyra', 5970), ('steveo', 5971), ('busineses', 5972), ('handful', 5973), ('foto', 5974), ('celeb', 5975), ('duo', 5976), ('whoho', 5977), ('fiasco', 5978), ('drunken', 5979), ('beatwityparty', 5980), ('oldie', 5981), ('kathy', 5982), (\"laura's\", 5983), ('poem', 5984), ('columbus', 5985), ('bucket', 5986), ('evans', 5987), ('leather', 5988), ('sesame', 5989), ('gauge', 5990), ('discourage', 5991), ('mba', 5992), ('sadface', 5993), ('mgmt', 5994), ('retarded', 5995), ('colnes', 5996), ('temple', 5997), ('sang', 5998), ('leighton', 5999), ('mester', 6000), ('watched', 6001), ('chosing', 6002), ('showcase', 6003), ('orthodontist', 6004), ('rockstar', 6005), ('catchy', 6006), ('deposit', 6007), ('spining', 6008), ('voucher', 6009), ('masacre', 6010), ('hid', 6011), ('quottheyquot', 6012), ('mercy', 6013), ('sleples', 6014), ('64', 6015), ('aproach', 6016), ('erie', 6017), ('mower', 6018), ('41', 6019), (\"patricia's\", 6020), ('vancity', 6021), ('apetite', 6022), ('ltitle', 6023), ('dean', 6024), ('pirate', 6025), ('noone', 6026), ('precious', 6027), ('microwave', 6028), ('ped', 6029), ('shets', 6030), ('coperating', 6031), ('overated', 6032), ('explosion', 6033), ('edits', 6034), ('43', 6035), ('quid', 6036), ('julie', 6037), ('chiodos', 6038), ('insert', 6039), ('beam', 6040), ('quotnot', 6041), ('earache', 6042), ('harley', 6043), ('705', 6044), ('treatment', 6045), ('finishing', 6046), ('npr', 6047), ('racon', 6048), ('tequila', 6049), ('carne', 6050), ('4ever', 6051), ('vacay', 6052), ('redo', 6053), ('esther', 6054), ('54', 6055), ('oak', 6056), ('chunk', 6057), ('grek', 6058), ('eek', 6059), ('packet', 6060), ('nodle', 6061), ('snail', 6062), ('specificaly', 6063), ('forsure', 6064), ('lion', 6065), ('silver', 6066), ('pacman', 6067), ('disco', 6068), ('downpour', 6069), ('fcuk', 6070), ('denial', 6071), ('vietnam', 6072), ('indy', 6073), ('springsten', 6074), ('iwas', 6075), ('witnesing', 6076), ('drivein', 6077), ('rd', 6078), ('bonjour', 6079), ('tokio', 6080), ('1pendulum', 6081), ('2godbyes', 6082), ('3shut', 6083), ('4toy', 6084), ('5jb', 6085), ('6i', 6086), ('7aand', 6087), ('cf', 6088), ('teary', 6089), ('wod', 6090), ('loudly', 6091), ('lotsa', 6092), ('autograph', 6093), ('cane', 6094), ('rugby', 6095), ('coking', 6096), ('hitin', 6097), ('shopaholic', 6098), ('slumdog', 6099), (\"g'mornin\", 6100), ('rhyme', 6101), ('sweney', 6102), ('cart', 6103), ('byebye', 6104), ('riverside', 6105), ('networking', 6106), ('grany', 6107), ('jungle', 6108), ('amazin', 6109), ('perfume', 6110), ('tarot', 6111), ('madison', 6112), ('moris', 6113), (\"schol's\", 6114), ('graveyard', 6115), ('closely', 6116), ('itv', 6117), ('globe', 6118), ('purpose', 6119), ('180', 6120), ('orientation', 6121), ('foster', 6122), ('kitens', 6123), ('52', 6124), ('whine', 6125), ('malaysia', 6126), ('antonio', 6127), ('folder', 6128), ('sans', 6129), ('jackie', 6130), ('spur', 6131), ('fortune', 6132), ('belinda', 6133), ('jensen', 6134), ('lousy', 6135), ('mofo', 6136), ('landlord', 6137), ('fukin', 6138), ('ie6', 6139), ('condom', 6140), ('nm', 6141), ('mosquito', 6142), ('groses', 6143), ('lar', 6144), ('ableton', 6145), ('partied', 6146), ('unfortunate', 6147), ('rejection', 6148), ('hotdog', 6149), ('ick', 6150), ('precisely', 6151), ('dada', 6152), ('fiesta', 6153), ('mohawk', 6154), ('etsy', 6155), ('arange', 6156), ('tp', 6157), ('rox', 6158), ('gal', 6159), ('posting', 6160), ('rebot', 6161), ('suported', 6162), ('stinkin', 6163), ('bathing', 6164), ('decidedly', 6165), ('athens', 6166), ('elizabeth', 6167), ('xoxoxo', 6168), ('tickle', 6169), ('sandwhich', 6170), ('slay', 6171), ('tale', 6172), ('preparation', 6173), ('stroke', 6174), ('sike', 6175), ('bose', 6176), ('alexis', 6177), ('throughout', 6178), ('belfast', 6179), ('blogher', 6180), ('dawson', 6181), ('macarena', 6182), ('retweted', 6183), ('favs', 6184), ('welt', 6185), ('claw', 6186), ('fender', 6187), ('liesboystel', 6188), ('evry', 6189), ('partyin', 6190), ('picking', 6191), ('clique', 6192), ('loving', 6193), ('falon', 6194), ('waranty', 6195), ('gigantic', 6196), ('howard', 6197), ('mh', 6198), ('dols', 6199), ('teleport', 6200), ('oasis', 6201), ('mayb', 6202), ('anti', 6203), ('omgsh', 6204), ('sod', 6205), ('mourn', 6206), ('es', 6207), ('cincinati', 6208), ('oyster', 6209), ('vida', 6210), ('huhuhu', 6211), ('adjust', 6212), ('drizle', 6213), ('pace', 6214), ('io', 6215), ('spoky', 6216), ('cease', 6217), ('splash', 6218), ('equivalent', 6219), ('beatwetup', 6220), ('introduce', 6221), ('sherman', 6222), ('bark', 6223), ('pao', 6224), ('venezuela', 6225), ('enthusiastic', 6226), ('13th', 6227), ('albeit', 6228), ('tay', 6229), ('tf2', 6230), ('noi', 6231), ('carl', 6232), ('relegate', 6233), ('icant', 6234), ('shizle', 6235), ('berlin', 6236), ('sus', 6237), (\"u've\", 6238), ('specialist', 6239), ('hahahahahahaha', 6240), ('glos', 6241), ('hurting', 6242), ('pg', 6243), ('tower', 6244), ('shark', 6245), ('subscription', 6246), ('gram', 6247), ('portsmouth', 6248), ('rebel', 6249), ('redbul', 6250), ('kayleigh', 6251), ('whiny', 6252), ('pod', 6253), ('helmet', 6254), ('stealth', 6255), ('skilz', 6256), ('anouncing', 6257), ('felicia', 6258), ('ponytail', 6259), ('animate', 6260), ('fluid', 6261), ('facial', 6262), ('wsop', 6263), ('employes', 6264), ('psych', 6265), ('nude', 6266), ('nutin', 6267), ('quad', 6268), ('coming', 6269), ('coton', 6270), ('dec', 6271), ('shorty', 6272), ('priscila', 6273), ('68', 6274), ('und', 6275), ('costco', 6276), ('cabinet', 6277), ('uptown', 6278), ('latin', 6279), ('courtesy', 6280), ('disguise', 6281), ('chalet', 6282), ('dota', 6283), ('edmonton', 6284), ('136', 6285), ('flour', 6286), ('h1n1', 6287), ('alhamdulilah', 6288), ('dreaded', 6289), ('uti', 6290), ('iglo', 6291), ('o', 6292), ('dios', 6293), ('h8', 6294), ('pepermint', 6295), ('hrm', 6296), ('lamp', 6297), ('ruber', 6298), ('rainin', 6299), ('wes', 6300), (\"girl's\", 6301), ('aladin', 6302), ('editing', 6303), ('hated', 6304), ('apears', 6305), (\"g's\", 6306), ('achy', 6307), ('impresions', 6308), ('tiesto', 6309), ('749am', 6310), ('fc', 6311), ('30mins', 6312), ('breed', 6313), ('divorce', 6314), ('altho', 6315), ('shld', 6316), ('uf', 6317), ('labour', 6318), ('ami', 6319), ('bailey', 6320), ('leo', 6321), ('subscriber', 6322), ('cg', 6323), ('axe', 6324), ('shipment', 6325), ('diesel', 6326), ('suv', 6327), ('joan', 6328), ('bebe', 6329), (\"head's\", 6330), ('humour', 6331), ('sharon', 6332), ('napy', 6333), ('dreser', 6334), ('calvin', 6335), ('4gb', 6336), ('twiterbugs', 6337), ('cram', 6338), ('domino', 6339), ('unemployment', 6340), ('torta', 6341), ('portable', 6342), ('ole', 6343), ('getaway', 6344), ('exclamation', 6345), ('ducati', 6346), ('gw', 6347), ('sista', 6348), ('benjamin', 6349), (\"timberlake's\", 6350), ('luvs', 6351), ('crib', 6352), ('jewelry', 6353), ('babes', 6354), ('fishy', 6355), ('scoty', 6356), ('bril', 6357), ('mount', 6358), ('meditate', 6359), ('industrial', 6360), ('bm', 6361), ('analog', 6362), ('parvo', 6363), ('brothers', 6364), ('phobia', 6365), ('harold', 6366), ('shirley', 6367), (\"straightener's\", 6368), ('izard', 6369), ('lovey', 6370), ('lincoln', 6371), ('izy', 6372), (\"sun's\", 6373), ('yeha', 6374), ('sfo', 6375), ('misunderstod', 6376), ('fuel', 6377), ('2pm', 6378), ('hoker', 6379), ('protection', 6380), ('harvey', 6381), ('editor', 6382), ('nod', 6383), ('werd', 6384), (\"huby's\", 6385), ('hong', 6386), ('11', 6387), ('straighten', 6388), ('export', 6389), ('initial', 6390), ('3hrs', 6391), ('haz', 6392), ('gody', 6393), ('blushing', 6394), ('patrol', 6395), ('mischevious', 6396), ('ethic', 6397), ('omgodnes', 6398), ('pacquiao', 6399), ('melisa', 6400), ('tucson', 6401), ('confident', 6402), ('xem', 6403), ('visitin', 6404), ('ensure', 6405), ('vocabulary', 6406), ('popin', 6407), ('sn', 6408), ('daw', 6409), ('bits', 6410), ('aunty', 6411), ('hamer', 6412), ('wht', 6413), ('catcher', 6414), ('stif', 6415), ('circuit', 6416), (\"year's\", 6417), ('noes', 6418), ('trading', 6419), ('blair', 6420), ('joyful', 6421), ('dishwasher', 6422), (\"u'r\", 6423), ('bonkers', 6424), ('seth', 6425), ('beware', 6426), ('nigas', 6427), ('broks', 6428), ('unemployed', 6429), ('vivid', 6430), ('streak', 6431), ('invent', 6432), ('brent', 6433), ('adele', 6434), ('snag', 6435), ('verify', 6436), ('mild', 6437), ('dawg', 6438), ('cardif', 6439), ('lax', 6440), ('terific', 6441), ('ce', 6442), ('makati', 6443), ('59', 6444), ('spencer', 6445), ('scenie', 6446), ('daze', 6447), ('copyright', 6448), (\"miley's\", 6449), ('dislocate', 6450), ('morphine', 6451), ('graph', 6452), ('meme', 6453), ('era', 6454), ('nation', 6455), ('unlucky', 6456), ('rocksquot', 6457), ('irony', 6458), ('graham', 6459), ('fantasy', 6460), ('saint', 6461), ('dodger', 6462), ('2maro', 6463), ('tupac', 6464), ('buritos', 6465), ('emergency', 6466), (\"thing's\", 6467), ('soldier', 6468), ('costly', 6469), ('quensland', 6470), ('tothbrush', 6471), ('dsi', 6472), ('gadget', 6473), ('chock', 6474), ('erors', 6475), ('plop', 6476), ('skiny', 6477), ('poty', 6478), ('comentary', 6479), ('206', 6480), ('buterflies', 6481), ('hardware', 6482), ('downer', 6483), ('brewer', 6484), ('knuckle', 6485), ('soz', 6486), ('philosophical', 6487), ('29th', 6488), ('ik', 6489), ('alias', 6490), ('partay', 6491), ('yas', 6492), ('relient', 6493), ('hahahahah', 6494), ('weping', 6495), ('fidler', 6496), ('tick', 6497), ('fury', 6498), ('dock', 6499), ('smalvile', 6500), ('dy', 6501), ('whataburger', 6502), ('falow', 6503), ('heartburn', 6504), (\"daughter's\", 6505), ('kaput', 6506), ('golfing', 6507), ('range', 6508), ('caleb', 6509), ('regie', 6510), ('maners', 6511), ('leicester', 6512), ('conservative', 6513), ('preorder', 6514), ('roflmao', 6515), ('czech', 6516), ('feding', 6517), ('garbage', 6518), ('valiantly', 6519), ('lit', 6520), ('wb', 6521), ('sprout', 6522), ('404', 6523), ('sprite', 6524), ('vmware', 6525), ('gta', 6526), ('pinkpop', 6527), ('sci', 6528), ('jaja', 6529), ('nowt', 6530), ('minimum', 6531), ('ladyhawke', 6532), ('deaf', 6533), ('posesion', 6534), ('lancaster', 6535), ('brake', 6536), ('cardio', 6537), ('serial', 6538), ('flo', 6539), ('childhod', 6540), ('feder', 6541), ('requirement', 6542), ('yawn', 6543), ('sidekick', 6544), ('stockholm', 6545), ('ponder', 6546), ('crop', 6547), ('coldstone', 6548), ('mwah', 6549), ('cock', 6550), ('feb', 6551), ('sublime', 6552), ('burst', 6553), ('elevate', 6554), ('oregon', 6555), ('consume', 6556), ('shed', 6557), (\"god's\", 6558), ('used', 6559), ('chanels', 6560), ('kat', 6561), ('gue', 6562), ('detox', 6563), ('aware', 6564), ('talaga', 6565), ('repinging', 6566), ('plat', 6567), ('fotage', 6568), ('barb', 6569), ('netbal', 6570), ('juliet', 6571), ('victor', 6572), ('config', 6573), ('ecstatic', 6574), ('marshmelows', 6575), ('quotthat', 6576), ('musiq', 6577), ('soulchild', 6578), ('carier', 6579), ('friendship', 6580), ('40mins', 6581), ('gem', 6582), ('backstret', 6583), ('probable', 6584), ('locate', 6585), ('buenas', 6586), ('noches', 6587), ('stale', 6588), ('72', 6589), ('shiver', 6590), ('gcse', 6591), ('lava', 6592), ('glove', 6593), ('worker', 6594), ('barnes', 6595), ('bcoz', 6596), ('aplaud', 6597), ('hunting', 6598), ('abc', 6599), ('tomo', 6600), ('stresing', 6601), ('harased', 6602), ('720', 6603), ('cowboy', 6604), ('predictable', 6605), ('squeak', 6606), ('dazle', 6607), ('companion', 6608), ('plier', 6609), ('amongst', 6610), ('cleveland', 6611), (\"doc's\", 6612), ('doughnut', 6613), (\"wife's\", 6614), ('spell', 6615), ('crane', 6616), ('evryone', 6617), ('gogled', 6618), ('uniform', 6619), ('vt', 6620), ('sweatshirt', 6621), ('buzing', 6622), ('hopelesly', 6623), ('comunication', 6624), ('bfs', 6625), ('dom', 6626), ('bahah', 6627), ('bdate', 6628), ('3oth', 6629), ('julia', 6630), ('rusian', 6631), ('wh', 6632), ('fighter', 6633), ('reflect', 6634), (\"pj's\", 6635), ('ob', 6636), (\"month's\", 6637), ('harbour', 6638), ('felas', 6639), ('haley', 6640), ('rapid', 6641), ('ale', 6642), ('alternate', 6643), ('previously', 6644), ('lenovo', 6645), ('ltltlt', 6646), ('walah', 6647), ('loader', 6648), ('custom', 6649), ('led', 6650), ('pokemon', 6651), ('sheri', 6652), ('lowkey', 6653), ('haiku', 6654), ('strategy', 6655), ('cargo', 6656), (\"bro's\", 6657), ('wateva', 6658), ('tengo', 6659), ('sip', 6660), ('digin', 6661), ('hadnt', 6662), ('trekquot', 6663), ('weapon', 6664), ('powerpoint', 6665), ('overheat', 6666), ('sw', 6667), ('insist', 6668), ('gelato', 6669), ('pilows', 6670), ('ocasionaly', 6671), ('basket', 6672), ('luvin', 6673), ('redhead', 6674), ('thesis', 6675), ('limp', 6676), ('breakin', 6677), ('rex', 6678), ('82', 6679), ('float', 6680), ('planter', 6681), ('pusy', 6682), ('sadened', 6683), ('hike', 6684), ('2hrs', 6685), ('seperate', 6686), ('northern', 6687), ('marina', 6688), ('infact', 6689), ('jizle', 6690), ('mina', 6691), ('migrane', 6692), ('tj', 6693), ('renewal', 6694), ('shefield', 6695), (\"sis's\", 6696), ('03', 6697), ('roten', 6698), ('letin', 6699), ('few', 6700), ('impromptu', 6701), ('bend', 6702), ('gary', 6703), ('grizly', 6704), ('tad', 6705), (\"quotdon't\", 6706), ('moth', 6707), ('vicious', 6708), ('chalenges', 6709), ('housework', 6710), ('wrath', 6711), ('treadmil', 6712), ('janeiro', 6713), ('wore', 6714), ('dosent', 6715), ('wating', 6716), ('okie', 6717), ('freaky', 6718), ('125', 6719), ('twetin', 6720), ('portland', 6721), ('rusty', 6722), ('quotperfect', 6723), ('cacs', 6724), ('leah', 6725), ('splurge', 6726), ('swag', 6727), ('unloved', 6728), (\"else's\", 6729), ('shrug', 6730), ('blom', 6731), ('paso', 6732), ('triste', 6733), ('chant', 6734), ('tweople', 6735), ('abouto', 6736), ('goto', 6737), ('rack', 6738), ('womp', 6739), ('delightful', 6740), ('bary', 6741), ('permanent', 6742), ('corona', 6743), ('nih', 6744), ('hua', 6745), ('tum', 6746), ('rainforest', 6747), ('horific', 6748), ('mickey', 6749), ('baka', 6750), ('chesecakes', 6751), ('whata', 6752), ('pens', 6753), ('superstar', 6754), ('logical', 6755), ('mn', 6756), ('sayang', 6757), ('import', 6758), ('wld', 6759), ('gilmore', 6760), ('anyhow', 6761), ('201', 6762), ('brewing', 6763), ('tiring', 6764), ('university', 6765), ('ui', 6766), ('ment', 6767), ('halway', 6768), ('headshot', 6769), ('har', 6770), ('olivia', 6771), ('surfin', 6772), ('worn', 6773), ('goat', 6774), ('warcraft', 6775), ('sumit', 6776), ('pipe', 6777), ('diploma', 6778), ('presale', 6779), ('letuce', 6780), ('lili', 6781), ('cola', 6782), ('awesomely', 6783), ('property', 6784), ('ahem', 6785), ('tot', 6786), ('plaster', 6787), ('babysit', 6788), ('delish', 6789), ('cindy', 6790), ('junkie', 6791), ('pavement', 6792), ('arkham', 6793), ('okc', 6794), ('fery', 6795), ('cabage', 6796), ('awesomnes', 6797), ('bead', 6798), ('bhai', 6799), ('seking', 6800), ('tn', 6801), ('overdue', 6802), ('richie', 6803), ('tosed', 6804), ('laser', 6805), ('cricinfo', 6806), ('heartles', 6807), ('twitch', 6808), ('jena', 6809), ('lara', 6810), ('oneself', 6811), ('burp', 6812), ('thames', 6813), ('chedar', 6814), ('absolutly', 6815), ('vol', 6816), ('universe', 6817), ('twities', 6818), ('claude', 6819), ('bj', 6820), ('magie', 6821), ('tt', 6822), ('liby', 6823), ('mai', 6824), ('interupting', 6825), ('imaginary', 6826), ('ave', 6827), ('coulda', 6828), ('10min', 6829), ('116', 6830), ('falen', 6831), ('21st', 6832), ('cucumber', 6833), ('amor', 6834), ('frown', 6835), ('indonesia', 6836), ('quotstraight', 6837), ('hiden', 6838), ('slideshow', 6839), ('davey', 6840), ('fuzbal', 6841), ('horde', 6842), ('girafe', 6843), ('mums', 6844), ('trio', 6845), ('lance', 6846), ('sketchy', 6847), ('wardrobe', 6848), ('rape', 6849), ('guten', 6850), ('morgen', 6851), ('viena', 6852), ('forte', 6853), ('bhb', 6854), ('vacines', 6855), ('mtn', 6856), ('42', 6857), ('upside', 6858), ('closet', 6859), ('somatic', 6860), ('hangout', 6861), ('109', 6862), ('flirt', 6863), ('technical', 6864), ('sein', 6865), ('nightlife', 6866), ('downfal', 6867), ('ft', 6868), ('knox', 6869), ('jeje', 6870), ('stud', 6871), (\"quoti'l\", 6872), ('ingredient', 6873), ('wiki', 6874), ('realistic', 6875), ('4get', 6876), ('tera', 6877), ('todays', 6878), ('impale', 6879), ('fletwod', 6880), ('greatly', 6881), ('3rs', 6882), ('humer', 6883), ('ctrl', 6884), ('cleanup', 6885), ('biterswet', 6886), ('ihave', 6887), ('raft', 6888), ('advertising', 6889), ('hoby', 6890), ('unintentionaly', 6891), ('huricane', 6892), ('reservation', 6893), ('shelter', 6894), ('147', 6895), ('boyz', 6896), ('unique', 6897), ('fairy', 6898), ('loraine', 6899), ('auction', 6900), ('lizie', 6901), ('shatner', 6902), ('recal', 6903), ('confusion', 6904), ('debut', 6905), ('grandad', 6906), ('canvas', 6907), ('oficer', 6908), ('weirdo', 6909), ('flipin', 6910), ('matres', 6911), ('joker', 6912), ('dash', 6913), ('clone', 6914), ('absurd', 6915), ('milions', 6916), ('squeze', 6917), ('rethink', 6918), ('sudoku', 6919), ('30am', 6920), ('viewing', 6921), ('drawer', 6922), ('pases', 6923), ('grief', 6924), ('noice', 6925), ('frickin', 6926), ('volume', 6927), ('angelina', 6928), ('brat', 6929), ('temptation', 6930), ('whose', 6931), ('bandwagon', 6932), ('closure', 6933), ('tipsy', 6934), ('winers', 6935), ('pakistan', 6936), ('prescription', 6937), ('christopher', 6938), ('omgosh', 6939), ('withdrawl', 6940), ('geky', 6941), ('understod', 6942), ('physio', 6943), ('pel', 6944), ('dense', 6945), ('duvet', 6946), ('nova', 6947), ('clasics', 6948), ('motorbike', 6949), ('hawt', 6950), ('fina', 6951), ('sytycd', 6952), ('woh', 6953), ('suncream', 6954), ('bouquet', 6955), ('sdk', 6956), ('remedy', 6957), ('eachother', 6958), ('1th', 6959), ('automatic', 6960), ('alysa', 6961), ('bh', 6962), (\"wek's\", 6963), ('randoms', 6964), ('hail', 6965), ('swineflu', 6966), ('excursion', 6967), ('nemo', 6968), ('strategic', 6969), ('ordain', 6970), ('staple', 6971), ('grenvile', 6972), ('insomniac', 6973), ('asholes', 6974), ('postal', 6975), ('tyl', 6976), ('crutch', 6977), ('who', 6978), ('shuld', 6979), ('chihuahua', 6980), ('cubies', 6981), ('candle', 6982), ('barn', 6983), ('lovequot', 6984), ('compensate', 6985), ('afteral', 6986), ('ouchies', 6987), ('fortunate', 6988), ('oj', 6989), ('noble', 6990), ('malaysian', 6991), ('cred', 6992), ('trumpet', 6993), ('retain', 6994), ('hut', 6995), ('shriek', 6996), ('squirel', 6997), ('nuts', 6998), ('elbow', 6999), ('permit', 7000), ('siya', 7001), (\"jery's\", 7002), ('letdown', 7003), ('cleanse', 7004), ('wierd', 7005), ('apologies', 7006), ('teaser', 7007), ('mebo', 7008), ('anticipation', 7009), ('fiona', 7010), ('balon', 7011), ('beg', 7012), ('atic', 7013), ('apropriate', 7014), ('hinder', 7015), ('betle', 7016), ('yday', 7017), ('mumies', 7018), ('horah', 7019), ('query', 7020), ('underbely', 7021), ('thankies', 7022), ('jesie', 7023), ('ash', 7024), ('hugles', 7025), ('lng', 7026), ('desperately', 7027), ('reasonable', 7028), ('startle', 7029), ('midterm', 7030), ('pervert', 7031), ('lalala', 7032), ('shel', 7033), ('tri', 7034), ('lvl', 7035), ('dunk', 7036), ('static', 7037), ('netherlands', 7038), ('sociable', 7039), ('plugin', 7040), ('knoxvile', 7041), ('wme', 7042), ('underneath', 7043), ('kernel', 7044), ('eliminate', 7045), ('glow', 7046), ('ungodly', 7047), ('liberty', 7048), ('parcs', 7049), ('endure', 7050), ('diagnosis', 7051), ('geo', 7052), ('throb', 7053), ('stayin', 7054), ('recognition', 7055), ('fare', 7056), ('rafle', 7057), ('12am', 7058), ('1015', 7059), ('traveler', 7060), ('runer', 7061), ('kardashians', 7062), ('bias', 7063), ('lastnight', 7064), ('forbiden', 7065), ('travelin', 7066), ('vitamin', 7067), ('avid', 7068), ('softbal', 7069), ('160', 7070), ('resign', 7071), ('instaled', 7072), ('qot', 7073), ('description', 7074), ('starflet', 7075), ('cafeine', 7076), ('broadway', 7077), ('valid', 7078), (\"there'l\", 7079), ('roman', 7080), ('locomotion', 7081), ('wake_island', 7082), ('overwork', 7083), ('lacuna', 7084), ('semen', 7085), ('lay_down', 7086), ('seal', 7087), ('fracture', 7088), ('united_kingdom', 7089), ('persist', 7090), ('world_power', 7091), ('lupus_erythematosus', 7092), ('cling', 7093), ('theodolite', 7094), ('enactment', 7095), ('situate', 7096), ('security_service', 7097), ('cheeseparing', 7098), ('miniskirt', 7099), ('promptly', 7100), ('last_out', 7101), ('officiate', 7102), ('switch_off', 7103), ('gull', 7104), ('allied_command_europe', 7105), ('citizenry', 7106), ('pronounce', 7107), ('worldly_concern', 7108), ('old_world_chat', 7109), ('pass', 7110), ('metallic', 7111), ('trip_up', 7112), ('nosh', 7113), ('concluding', 7114), ('uninfected', 7115), ('surface-to-air_missile', 7116), ('glutton', 7117), ('honest-to-god', 7118), ('idaho', 7119), ('fifty_dollar_bill', 7120), ('houseclean', 7121), ('aphrodisiac', 7122), ('overtake', 7123), ('chew_the_fat', 7124), ('seduce', 7125), ('align', 7126), ('coarse', 7127), ('get_down', 7128), ('guidance', 7129), ('stigmatize', 7130), (\"hair's-breadth\", 7131), ('new_york', 7132), ('turning', 7133), ('visualize', 7134), ('baby_buggy', 7135), ('dress', 7136), ('write_down', 7137), ('brood', 7138), ('change_of_location', 7139), ('playing_period', 7140), ('dissemble', 7141), ('kyd', 7142), ('banal', 7143), ('regretful', 7144), ('dampen', 7145), ('ally', 7146), ('sealed', 7147), ('call', 7148), ('allege', 7149), ('decree', 7150), ('bequeath', 7151), ('lookout', 7152), ('cripple', 7153), ('dwell', 7154), ('six-spot', 7155), ('oeuvre', 7156), ('astir', 7157), ('suffer', 7158), ('bide', 7159), ('slate', 7160), ('stake', 7161), ('baseball_club', 7162), ('drumhead', 7163), ('bind', 7164), ('emetic', 7165), ('repel', 7166), ('early_on', 7167), ('attack', 7168), ('tint', 7169), ('by_rights', 7170), ('arrant', 7171), ('nightly', 7172), ('dearly', 7173), ('raleigh', 7174), ('tabloid', 7175), ('hgtv', 7176), ('carpenter', 7177), ('kan', 7178), ('belshil', 7179), ('bothwel', 7180), ('tunocks', 7181), ('bnp', 7182), (\"g'nite\", 7183), ('hul', 7184), ('recruit', 7185), ('gramar', 7186), ('jkin', 7187), ('sugested', 7188), (\"cd's\", 7189), ('comercials', 7190), ('tym', 7191), ('lata', 7192), ('withdraw', 7193), ('downquot', 7194), ('moxy', 7195), ('lite', 7196), ('giutar', 7197), ('bracket', 7198), ('dfb', 7199), ('werder', 7200), ('shakey', 7201), ('scholio', 7202), ('listquot', 7203), ('paparazi', 7204), ('suckits', 7205), ('answear', 7206), ('oxford', 7207), ('rental', 7208), ('2092010', 7209), ('exited', 7210), ('arduous', 7211), ('20mins', 7212), ('netbok', 7213), ('beatles', 7214), (\"blog's\", 7215), ('extension', 7216), ('lag', 7217), ('quotgrenquot', 7218), ('upgraded', 7219), ('playof', 7220), ('ultimatum', 7221), ('strength', 7222), ('pam', 7223), ('everbody', 7224), ('irvine', 7225), ('shalow', 7226), ('fishing', 7227), ('crisis', 7228), (\"jack's\", 7229), ('multi', 7230), ('enthu', 7231), ('feast', 7232), ('clare', 7233), ('louise', 7234), ('lulu', 7235), ('caramel', 7236), ('triger', 7237), ('cleanin', 7238), ('bun', 7239), ('nominate', 7240), ('judy', 7241), ('bam', 7242), ('hive', 7243), ('rash', 7244), ('sings', 7245), ('nikon', 7246), ('waho', 7247), ('hash', 7248), ('spear', 7249), ('criminal', 7250), ('shiz', 7251), ('darknes', 7252), ('blockbuster', 7253), ('gumy', 7254), ('saynow', 7255), ('vh1', 7256), ('105', 7257), ('yaya', 7258), ('tackle', 7259), ('inevitable', 7260), ('ps', 7261), ('geks', 7262), ('landscape', 7263), ('pisy', 7264), ('payment', 7265), ('65', 7266), ('cracker', 7267), ('army_for_the_liberation_of_rwanda', 7268), ('ailment', 7269), ('soft-shell_clam', 7270), ('wireless_local_area_network', 7271), ('software_documentation', 7272), ('patchwork', 7273), ('field-effect_transistor', 7274), ('district_attorney', 7275), ('eight-spot', 7276), ('telescope', 7277), ('ady', 7278), (\"aple's\", 7279), ('comenting', 7280), ('atlantic', 7281), ('comand', 7282), ('define', 7283), ('cr', 7284), ('buts', 7285), ('twiterer', 7286), ('piercings', 7287), (\"jared's\", 7288), ('progresive', 7289), ('baha', 7290), ('waterfront', 7291), ('ra', 7292), (\"ben's\", 7293), ('1hr', 7294), ('132', 7295), ('rabits', 7296), ('35mins', 7297), ('enought', 7298), ('telecom', 7299), ('homesick', 7300), ('gov', 7301), ('5km', 7302), ('glowing', 7303), ('caption', 7304), ('fulest', 7305), ('siren', 7306), ('ease', 7307), ('clunky', 7308), ('bris', 7309), ('sab', 7310), ('estas', 7311), ('premium', 7312), ('bien', 7313), ('esa', 7314), ('ec', 7315), ('lapit', 7316), ('12yr', 7317), ('boystown', 7318), ('amf', 7319), ('vomit', 7320), (\"captain's\", 7321), ('firmly', 7322), ('embed', 7323), ('girlies', 7324), (\"nina's\", 7325), ('nada', 7326), ('para', 7327), ('lump', 7328), ('buenos', 7329), ('mundo', 7330), ('medicate', 7331), ('doubtful', 7332), ('budhist', 7333), ('walpapers', 7334), ('sy', 7335), ('teny', 7336), ('jayden', 7337), ('415', 7338), ('bsg', 7339), ('thu', 7340), ('wekday', 7341), ('bia', 7342), ('oliver', 7343), ('decrease', 7344), ('meredith', 7345), ('stripey', 7346), ('marked', 7347), ('proposal', 7348), ('inventor', 7349), ('dez', 7350), ('speled', 7351), ('ln', 7352), ('kh', 7353), ('rediculous', 7354), ('coop', 7355), ('drift', 7356), ('creature', 7357), ('showtime', 7358), ('osaka', 7359), ('herquot', 7360), ('calgary', 7361), ('cement', 7362), ('pixel', 7363), ('humbug', 7364), ('branch', 7365), ('stelar', 7366), (\"ma's\", 7367), ('shaft', 7368), ('southpark', 7369), ('flap', 7370), ('carson', 7371), ('tuh', 7372), ('wher', 7373), ('journalism', 7374), ('bask', 7375), ('539', 7376), ('invest', 7377), ('cheses', 7378), ('gentleman', 7379), ('honda', 7380), ('honoured', 7381), ('chk', 7382), ('qod', 7383), ('juga', 7384), ('pleaseyour', 7385), ('aagh', 7386), ('aircon', 7387), ('snoze', 7388), ('stomache', 7389), ('cia', 7390), ('mccoy', 7391), ('quottwet', 7392), ('ova', 7393), (\"dosen't\", 7394), ('nervousnes', 7395), ('sch', 7396), ('bioshock', 7397), ('imy', 7398), ('finding', 7399), ('apeal', 7400), ('importantly', 7401), ('amazinglt', 7402), ('bcause', 7403), ('born', 7404), ('twiterfails', 7405), ('damper', 7406), ('calen', 7407), ('hamburger', 7408), ('laminate', 7409), ('bifocals', 7410), ('4a', 7411), ('marijuana', 7412), ('rodney', 7413), ('kidin', 7414), ('maters', 7415), ('6quot', 7416), ('quotcome', 7417), ('sories', 7418), ('intent', 7419), ('freze', 7420), ('tightly', 7421), ('smoker', 7422), ('oatmeal', 7423), ('namaskar', 7424), ('namaste', 7425), ('marathi', 7426), ('oakland', 7427), ('trademe', 7428), ('jonaswebcast', 7429), ('restore', 7430), ('confidence', 7431), (\"cadbury's\", 7432), ('comedyquen', 7433), ('zu', 7434), ('sucha', 7435), ('cherleading', 7436), ('babygirl', 7437), ('jalan', 7438), ('rolerblading', 7439), ('novusnovendo', 7440), ('kde', 7441), ('cs', 7442), ('layin', 7443), ('txtin', 7444), ('maryjane', 7445), ('disown', 7446), ('obnoxious', 7447), ('hax', 7448), ('0r', 7449), ('pharmacy', 7450), ('heating', 7451), ('mead', 7452), ('jana', 7453), (\"lam's\", 7454), ('espesh', 7455), ('haf', 7456), ('kwod', 7457), ('breakie', 7458), ('threquarters', 7459), ('ipa', 7460), ('nekid', 7461), ('gown', 7462), ('madres', 7463), ('vacumed', 7464), ('interactive', 7465), ('hem', 7466), ('1230am', 7467), (\"brain's\", 7468), ('implement', 7469), ('obamas', 7470), ('viable', 7471), ('tsc', 7472), ('carers', 7473), ('cardboard', 7474), ('blake', 7475), ('cordova', 7476), ('safeway', 7477), ('gently', 7478), ('gretel', 7479), ('fic', 7480), (\"david's\", 7481), ('programing', 7482), ('luis', 7483), (\"jax's\", 7484), ('waikiki', 7485), ('paypal', 7486), ('untuk', 7487), ('quer', 7488), ('gabriel', 7489), ('baton', 7490), ('rouge', 7491), ('mogwai', 7492), ('545', 7493), ('slope', 7494), ('cariers', 7495), ('banda', 7496), ('bem', 7497), ('mare', 7498), ('gpu', 7499), ('exposure', 7500), ('satan', 7501), ('audi', 7502), ('uo', 7503), (\"want's\", 7504), ('whover', 7505), ('bandwidth', 7506), ('blankie', 7507), ('unload', 7508), ('som', 7509), ('unc', 7510), ('instalation', 7511), ('ribena', 7512), ('buf', 7513), (\"dany's\", 7514), ('wuv', 7515), ('profesionals', 7516), ('holdin', 7517), ('klutz', 7518), ('ahg', 7519), ('ouchie', 7520), ('landon', 7521), ('cranky', 7522), ('mineapolis', 7523), ('grils', 7524), ('arthur', 7525), ('gidy', 7526), ('smiten', 7527), ('nancy', 7528), ('barbeque', 7529), ('isle', 7530), ('mediteranean', 7531), ('pounce', 7532), ('liked', 7533), ('photobok', 7534), ('maxed', 7535), ('chunky', 7536), ('hysterical', 7537), ('jenifer', 7538), ('gtg', 7539), ('playah', 7540), ('shawty', 7541), ('musicbox', 7542), ('hurtin', 7543), ('quotbecause', 7544), ('soquot', 7545), ('ich', 7546), ('auch', 7547), ('wosy', 7548), ('minish', 7549), ('nomater', 7550), ('philadelphia', 7551), ('philies', 7552), ('myers', 7553), ('newark', 7554), ('embasy', 7555), ('quotshateredquot', 7556), ('liar', 7557), ('ignorant', 7558), ('fiz', 7559), ('whyareyoustilhere', 7560), ('fashioned', 7561), ('rickbaker', 7562), ('absence', 7563), ('lender', 7564), ('pasty', 7565), ('lafy', 7566), ('journalist', 7567), ('twetstats', 7568), ('suspected', 7569), ('tiz', 7570), ('aparantly', 7571), ('beagle', 7572), (\"quotwhere's\", 7573), (\"steve's\", 7574), ('sorcha', 7575), ('conchords', 7576), ('heheheheh', 7577), ('hals', 7578), ('2mz', 7579), ('whos', 7580), ('aroundquot', 7581), (\"what'd\", 7582), ('arays', 7583), ('durian', 7584), ('pufs', 7585), ('familia', 7586), ('nostalgic', 7587), ('sweling', 7588), ('lovelines', 7589), ('impact', 7590), ('korn', 7591), ('whys', 7592), (\"t'internet\", 7593), ('checking', 7594), ('ques', 7595), ('pocketwit', 7596), ('erase', 7597), ('petey', 7598), ('rolerskate', 7599), ('cowgirl', 7600), ('blockhead', 7601), ('stability', 7602), ('grom', 7603), ('itsucks', 7604), ('mayer', 7605), ('ventana', 7606), ('cielos', 7607), (\"havn't\", 7608), ('skater', 7609), ('underwod', 7610), ('nickname', 7611), ('maseuse', 7612), ('tenant', 7613), ('tweaking', 7614), (\"corespondent's\", 7615), ('perspective', 7616), ('mish', 7617), ('lewis', 7618), (\"how'd\", 7619), ('iva', 7620), ('dough', 7621), ('died', 7622), ('reinstaled', 7623), ('rank', 7624), ('mccain', 7625), ('corupted', 7626), ('godawful', 7627), ('serenade', 7628), ('sesh', 7629), ('jackas', 7630), ('refrigerator', 7631), ('preschol', 7632), ('dunkin', 7633), ('miracle', 7634), ('lacey', 7635), ('gash', 7636), ('centro', 7637), ('amorsote', 7638), ('socal', 7639), ('southland', 7640), ('daylight', 7641), ('uve', 7642), ('hada', 7643), ('wbu', 7644), ('nimoy', 7645), ('arangement', 7646), ('snob', 7647), ('twhirl', 7648), ('valkyria', 7649), ('heartbreaking', 7650), ('obu', 7651), ('mana', 7652), ('octo', 7653), ('quotmom', 7654), ('sentiment', 7655), ('mampg', 7656), ('phils', 7657), ('roland', 7658), ('baty', 7659), ('obligation', 7660), ('slouchy', 7661), ('sc', 7662), ('prac', 7663), ('spedy', 7664), ('hampton', 7665), ('econ', 7666), ('corey', 7667), ('fountain', 7668), ('nero', 7669), ('grandaughter', 7670), ('recipient', 7671), ('oki', 7672), ('folowfridays', 7673), ('lik', 7674), ('aly', 7675), ('coughing', 7676), ('mazda', 7677), ('rx8', 7678), ('gumbo', 7679), ('compose', 7680), ('meadowhal', 7681), ('jansen', 7682), ('typicaly', 7683), ('chachi', 7684), ('blase', 7685), ('bridget', 7686), (\"husband's\", 7687), ('sacrifice', 7688), ('taunt', 7689), ('presie', 7690), ('gameboy', 7691), ('nokia', 7692), ('abs', 7693), ('fisher', 7694), ('cuban', 7695), (\"shit's\", 7696), ('kiana', 7697), (\"masha'alah\", 7698), ('sleves', 7699), ('3x3', 7700), ('energize', 7701), ('heartwarming', 7702), ('tout', 7703), ('popsicle', 7704), ('nuget', 7705), ('hamster', 7706), ('prima', 7707), ('transit', 7708), ('scarf', 7709), ('hijack', 7710), ('picky', 7711), ('subside', 7712), ('boise', 7713), ('frapucino', 7714), ('polite', 7715), ('lols', 7716), ('napa', 7717), ('nan', 7718), ('klein', 7719), ('sensible', 7720), ('horendous', 7721), ('isabel', 7722), ('dorm', 7723), ('asure', 7724), ('dice', 7725), ('timthumb', 7726), ('cmt', 7727), ('90210', 7728), ('colbert', 7729), ('breze', 7730), ('roundtable', 7731), ('0f', 7732), ('aba', 7733), ('receipt', 7734), ('hq', 7735), ('filming', 7736), ('maxwel', 7737), ('alrighty', 7738), ('daynight', 7739), ('umulan', 7740), ('heathrow', 7741), ('frustration', 7742), ('rolo', 7743), ('0o', 7744), ('sleper', 7745), ('spoty', 7746), ('douchebag', 7747), ('neglected', 7748), ('noding', 7749), ('shoper', 7750), ('archetype', 7751), ('fkn', 7752), ('fragrance', 7753), ('hitch', 7754), ('spay', 7755), ('moto', 7756), ('lafayete', 7757), ('alki', 7758), ('pruning', 7759), ('sep', 7760), ('discrimination', 7761), ('roadtrip', 7762), ('gode', 7763), ('mediocre', 7764), ('splinter', 7765), ('soy', 7766), ('among', 7767), ('chez', 7768), ('adrenaline', 7769), ('wna', 7770), ('rejoice', 7771), ('marshal', 7772), ('projector', 7773), ('windoze', 7774), ('arch', 7775), ('reflux', 7776), ('jc', 7777), ('awfuly', 7778), ('2d', 7779), ('cory', 7780), ('loaner', 7781), ('cgi', 7782), ('fus', 7783), ('1030pm', 7784), ('overseas', 7785), ('alumnus', 7786), ('fixreplies', 7787), ('positivity', 7788), ('romanticaly', 7789), ('789', 7790), ('abey', 7791), ('courage', 7792), ('loly', 7793), ('netflix', 7794), ('trace', 7795), ('wong', 7796), ('scholing', 7797), ('fuk', 7798), ('hopfuly', 7799), ('tagalog', 7800), ('vocab', 7801), ('fruity', 7802), ('pebles', 7803), ('outdors', 7804), ('slut', 7805), ('boiling', 7806), ('governor', 7807), ('usc', 7808), ('withstand', 7809), ('jewelery', 7810), ('wih', 7811), (\"t's\", 7812), ('metup', 7813), ('decently', 7814), ('historical', 7815), ('ir', 7816), ('disaster', 7817), ('liek', 7818), ('flylady', 7819), ('warhamer', 7820), ('operational', 7821), ('dreamwidth', 7822), ('picolo', 7823), ('ciroc', 7824), ('hotelreden', 7825), ('diversity', 7826), ('relatively', 7827), ('twety', 7828), ('whit', 7829), ('diviated', 7830), ('cole', 7831), ('sumary', 7832), ('ganda', 7833), ('beating', 7834), ('alrightquot', 7835), ('shirtles', 7836), ('pap', 7837), ('undergarment', 7838), ('sososo', 7839), (\"se's\", 7840), ('dreadfuly', 7841), ('adobe', 7842), ('sql', 7843), ('asuming', 7844), ('xmsirius', 7845), ('clay', 7846), ('colide', 7847), ('asus', 7848), ('empathy', 7849), ('berkeley', 7850), ('quoteasy', 7851), ('carequot', 7852), ('bod', 7853), ('bolywod', 7854), ('headaches', 7855), ('languish', 7856), ('mayo', 7857), ('thres', 7858), ('snoring', 7859), ('silverlight', 7860), ('pyjama', 7861), ('wesley', 7862), ('dsds', 7863), ('highnes', 7864), ('pusher', 7865), ('quothide', 7866), ('tutu', 7867), ('ciao', 7868), ('steroid', 7869), ('tia', 7870), ('spiritual', 7871), ('suitcase', 7872), ('tenerife', 7873), ('optimistic', 7874), ('muna', 7875), ('ds', 7876), ('polyester', 7877), ('jour', 7878), ('amt', 7879), ('curler', 7880), ('infect', 7881), ('balet', 7882), ('sicken', 7883), (\"dre's\", 7884), ('shamefuly', 7885), ('pcfopc', 7886), ('voley', 7887), ('wholeday', 7888), ('48hoursnz', 7889), ('3pm', 7890), ('sowie', 7891), ('mechanic', 7892), ('hihi', 7893), ('trans', 7894), ('suspicious', 7895), ('winston', 7896), ('li', 7897), ('nurburgring', 7898), ('cringe', 7899), ('reinstaling', 7900), ('riding', 7901), ('safety', 7902), ('beca', 7903), ('jiberish', 7904), ('fk', 7905), ('mv', 7906), ('ebok', 7907), ('judith', 7908), ('quarantine', 7909), ('baner', 7910), ('balons', 7911), ('shitload', 7912), ('wedings', 7913), ('shish', 7914), ('tracy', 7915), ('spendin', 7916), ('cautious', 7917), ('sue', 7918), ('inotia', 7919), ('mentality', 7920), ('outstanding', 7921), ('quotreturn', 7922), ('publicly', 7923), ('mtfbwy', 7924), ('jols', 7925), ('alianz', 7926), ('beverly', 7927), ('stoked', 7928), ('25c', 7929), ('odysey', 7930), ('bacteria', 7931), ('falin', 7932), ('poisoning', 7933), ('godfather', 7934), ('mang', 7935), ('bonie', 7936), ('cum', 7937), ('jumbo', 7938), ('kix', 7939), ('mustard', 7940), ('182', 7941), ('reserve', 7942), ('paperwork', 7943), ('apstore', 7944), ('puzle', 7945), ('grandfather', 7946), ('newt', 7947), ('raider', 7948), ('dilema', 7949), ('sanfran', 7950), ('fogy', 7951), (\"c's\", 7952), ('acadentaly', 7953), ('hibernate', 7954), ('botcamp', 7955), ('angie', 7956), ('boiler', 7957), ('sneze', 7958), ('4d', 7959), ('misery', 7960), ('plague', 7961), ('getcha', 7962), ('lindsay', 7963), ('fansite', 7964), ('quotnow', 7965), (\"britney's\", 7966), ('welity', 7967), ('sensibility', 7968), ('gigling', 7969), ('hitman', 7970), ('thinker', 7971), ('sumery', 7972), ('vcr', 7973), ('cincy', 7974), ('puzles', 7975), ('wizard', 7976), ('waverly', 7977), ('wacom', 7978), ('crowdsourcing', 7979), ('sic', 7980), ('quotgodquot', 7981), ('faux', 7982), ('camden', 7983), ('nurofen', 7984), ('favrd', 7985), ('nadia', 7986), ('gheto', 7987), ('ahahahaha', 7988), ('bipolar', 7989), ('bloming', 7990), ('telin', 7991), ('cob', 7992), ('alexi', 7993), ('diagram', 7994), ('adoption', 7995), ('quoteveryone', 7996), ('isquot', 7997), ('dmc', 7998), ('magners', 7999), ('ilylt', 8000), ('nightlt', 8001), ('painfuly', 8002), ('quotgirlsquot', 8003), ('grit', 8004), ('consult', 8005), ('resteraunt', 8006), ('regulate', 8007), ('eighty', 8008), ('fifty', 8009), ('speakeasy', 8010), ('deh', 8011), ('102', 8012), ('wiz', 8013), ('roftop', 8014), ('tmorow', 8015), ('zz', 8016), ('misus', 8017), ('wahahaha', 8018), ('lifestyle', 8019), ('dining', 8020), ('walpaper', 8021), ('1,0', 8022), (\"you's\", 8023), ('overkil', 8024), ('checkout', 8025), ('snugles', 8026), ('ano', 8027), ('kaya', 8028), ('preach', 8029), ('yous', 8030), ('chilaxin', 8031), ('anyday', 8032), ('deodorant', 8033), ('funk', 8034), ('pouting', 8035), ('newlywed', 8036), ('origins', 8037), (\"fever's\", 8038), ('frebies', 8039), (\"keny's\", 8040), ('covergirl', 8041), ('wodman', 8042), ('aaw', 8043), (\"b'lore\", 8044), ('ofspring', 8045), ('gofy', 8046), ('racist', 8047), ('photovia', 8048), ('spels', 8049), ('60th', 8050), ('don', 8051), ('chiu', 8052), ('tifa', 8053), ('roi', 8054), ('danh', 8055), ('seize', 8056), ('flors', 8057), ('expansion', 8058), ('huf', 8059), ('startup', 8060), (\"urban's\", 8061), ('questionable', 8062), ('dodgy', 8063), ('westlife', 8064), ('terified', 8065), ('outsider', 8066), ('truely', 8067), ('anxiously', 8068), ('aboard', 8069), ('noshow', 8070), ('pilate', 8071), ('gorila', 8072), ('scroly', 8073), (\"work's\", 8074), ('ayo', 8075), ('spaz', 8076), ('eastern', 8077), ('110', 8078), ('bubled', 8079), ('behalf', 8080), ('85', 8081), ('candis', 8082), ('whopi', 8083), ('chetos', 8084), ('darlin', 8085), ('gruby', 8086), ('db', 8087), ('sly', 8088), ('pulp', 8089), ('mulch', 8090), ('fidling', 8091), ('amused', 8092), ('troy', 8093), ('dixon', 8094), ('wimpy', 8095), ('ims', 8096), ('halucination', 8097), ('epi', 8098), (\"quotyou're\", 8099), ('leon', 8100), ('inapropriate', 8101), ('sufers', 8102), ('developer', 8103), ('aqui', 8104), ('destroytwiter', 8105), ('quotabsence', 8106), ('silverstein', 8107), ('qdoba', 8108), ('iris', 8109), ('drivin', 8110), ('acumulating', 8111), ('swis', 8112), ('knockout', 8113), ('raj', 8114), ('otha', 8115), ('malta', 8116), ('adresing', 8117), ('envolopes', 8118), ('folish', 8119), ('123', 8120), ('yeg', 8121), ('pointy', 8122), ('chapel', 8123), ('tortila', 8124), ('publicist', 8125), ('apearances', 8126), (\"dawson's\", 8127), ('pheasant', 8128), ('spew', 8129), ('newish', 8130), ('tsk', 8131), ('altime', 8132), ('perfection', 8133), ('hereby', 8134), ('employ', 8135), ('whin', 8136), ('twitersphere', 8137), ('rasberies', 8138), ('craptastic', 8139), ('mio', 8140), ('informative', 8141), ('turnout', 8142), ('oxymoron', 8143), ('hobo', 8144), ('hmpf', 8145), ('ninetenth', 8146), ('impatiently', 8147), ('jager', 8148), ('momie', 8149), ('javascript', 8150), ('quake', 8151), ('racer', 8152), ('choco', 8153), ('gogledocs', 8154), ('quotse', 8155), ('mondayquot', 8156), ('chandler', 8157), ('stefan', 8158), ('ging', 8159), ('nicholas', 8160), ('zemote', 8161), ('notorious', 8162), ('sumthn', 8163), ('eternal', 8164), ('autumn', 8165), ('cudve', 8166), ('kdg', 8167), ('lint', 8168), ('thriling', 8169), ('das', 8170), ('unbelievable', 8171), ('violence', 8172), ('quotin', 8173), ('craft', 8174), ('blu', 8175), ('mnth', 8176), ('anchor', 8177), ('lyne', 8178), ('aa', 8179), ('lolipop', 8180), ('mampms', 8181), ('pantry', 8182), ('gfs', 8183), ('casidy', 8184), ('ovum', 8185), ('scoby', 8186), (\"trudy's\", 8187), ('burnet', 8188), ('deflated', 8189), ('permision', 8190), ('jilian', 8191), ('architect', 8192), ('durin', 8193), ('rehab', 8194), ('ledge', 8195), ('geocache', 8196), ('elton', 8197), ('hostel', 8198), ('gloomy', 8199), ('mono', 8200), ('urbana', 8201), ('freo', 8202), ('fgs', 8203), ('adriana', 8204), ('bristol', 8205), ('chit', 8206), ('vibration', 8207), ('edwin', 8208), ('insonmia', 8209), ('r2', 8210), ('unleashed', 8211), ('cannot', 8212), (\"author's\", 8213), ('kityboys', 8214), ('nightynight', 8215), ('chevy', 8216), ('autofolow', 8217), ('lavender', 8218), ('estimate', 8219), ('colab', 8220), ('repeatedly', 8221), ('lovingly', 8222), ('rayne', 8223), ('paperback', 8224), ('aceptance', 8225), ('crosfit', 8226), ('agitate', 8227), ('in2', 8228), ('edgefest', 8229), ('lahiran', 8230), ('kayaknya', 8231), ('sih', 8232), ('ini', 8233), ('alexander', 8234), ('leap', 8235), ('various', 8236), ('quotunfolowedquot', 8237), ('whitsun', 8238), ('desearted', 8239), ('bugers', 8240), ('hokey', 8241), ('nearby', 8242), ('pacific', 8243), ('strict', 8244), ('muster', 8245), ('transform', 8246), ('nufin', 8247), ('louisiana', 8248), ('pixy', 8249), ('sogy', 8250), ('wales', 8251), ('halowen', 8252), ('hte', 8253), ('quothe', 8254), ('taking', 8255), ('botling', 8256), ('poetic', 8257), ('revelation', 8258), ('tonigh', 8259), ('chaufeur', 8260), ('bon', 8261), ('bates', 8262), ('up', 8263), ('notingham', 8264), ('princeton', 8265), ('worthwhile', 8266), ('thay', 8267), ('khi', 8268), ('aja', 8269), ('3,0', 8270), ('unread', 8271), ('consultant', 8272), ('poch', 8273), ('loveamp', 8274), ('1thing', 8275), ('anotheramp', 8276), (\"dan's\", 8277), ('tunel', 8278), ('magento', 8279), ('output', 8280), ('spec', 8281), ('instantly', 8282), ('roscoe', 8283), ('grene', 8284), ('flea', 8285), ('confes', 8286), ('grouch', 8287), ('quotnew', 8288), ('vat', 8289), ('claudia', 8290), ('isi', 8291), ('tapeworm', 8292), ('parental', 8293), ('kong', 8294), ('incorporate', 8295), ('crumble', 8296), ('prodigy', 8297), ('cologne', 8298), ('scandalous', 8299), ('layer', 8300), ('scenario', 8301), ('lifequot', 8302), ('impersonal', 8303), ('comply', 8304), ('terence', 8305), ('ritas', 8306), ('akon', 8307), ('magnet', 8308), ('nese', 8309), ('pinwhel', 8310), ('foreal', 8311), ('blogers', 8312), ('panel', 8313), ('pugsly', 8314), ('losthegame', 8315), ('dachshund', 8316), ('dependent', 8317), ('inquot', 8318), ('nth', 8319), ('2gether', 8320), ('adie', 8321), ('suportive', 8322), ('againquot', 8323), ('fondue', 8324), ('relaxant', 8325), ('custard', 8326), ('atmos', 8327), ('mj', 8328), ('trang', 8329), ('cameron', 8330), ('ustream', 8331), ('greatnes', 8332), ('muhahaha', 8333), ('fourten', 8334), ('teletubies', 8335), ('ladies', 8336), ('herb', 8337), ('quotgive', 8338), ('earthquake', 8339), ('nicoles', 8340), ('giro', 8341), ('roger', 8342), ('pitcher', 8343), ('wieters', 8344), ('545am', 8345), ('cynical', 8346), ('prayin', 8347), ('wely', 8348), ('brocoli', 8349), ('derbyshire', 8350), ('twn', 8351), ('barie', 8352), ('terabyte', 8353), ('emotionaly', 8354), ('hobit', 8355), ('nyquil', 8356), ('ahn', 8357), ('lumberjack', 8358), ('forensic', 8359), ('blcok', 8360), ('haox', 8361), ('udon', 8362), ('pekabo', 8363), ('smoches', 8364), ('integrity', 8365), ('briliantly', 8366), ('felows', 8367), ('shen', 8368), ('aro', 8369), ('flesh', 8370), ('whatcha', 8371), ('madrigal', 8372), ('chils', 8373), ('cafeteria', 8374), ('croning', 8375), ('isp', 8376), ('fanta', 8377), ('helsinki', 8378), ('arty', 8379), ('matey', 8380), ('purty', 8381), ('ulcer', 8382), ('membership', 8383), ('debit', 8384), ('vin', 8385), ('touching', 8386), ('ulet', 8387), ('tayo', 8388), ('mil', 8389), ('dixie', 8390), ('peach', 8391), ('fried', 8392), ('pigeon', 8393), ('bulgaria', 8394), ('dipin', 8395), ('camcorder', 8396), ('cowel', 8397), ('holder', 8398), ('repierced', 8399), ('pesky', 8400), ('baron', 8401), ('trufles', 8402), ('stanky', 8403), ('crust', 8404), ('realization', 8405), ('enrol', 8406), ('kingston', 8407), ('ted', 8408), ('resemble', 8409), ('rabies', 8410), ('airplane', 8411), ('higins', 8412), ('nocturnals', 8413), ('mosh', 8414), ('disgrace', 8415), ('wraped', 8416), ('amadeus', 8417), ('vai', 8418), ('voc', 8419), ('stash', 8420), ('gavin', 8421), ('skylit', 8422), ('jojo', 8423), ('yaynes', 8424), ('equation', 8425), ('smothly', 8426), ('chevre', 8427), ('lyin', 8428), ('crumb', 8429), ('twirl', 8430), ('wraper', 8431), ('mercury', 8432), ('yel', 8433), ('emotion', 8434), ('quotlolquot', 8435), ('ontario', 8436), ('isabele', 8437), ('roxy', 8438), ('quotdonie', 8439), ('seatbelt', 8440), ('dent', 8441), ('api', 8442), ('josiah', 8443), ('bangin', 8444), ('w8', 8445), ('skil', 8446), ('optional', 8447), ('egh', 8448), ('tosh', 8449), ('lifesaver', 8450), ('superbad', 8451), ('critical', 8452), ('hatch', 8453), ('snuglin', 8454), ('okai', 8455), ('homebirth', 8456), ('fist', 8457), ('wound', 8458), ('frasier', 8459), ('pmsl', 8460), ('wol', 8461), ('canibal', 8462), ('rochester', 8463), ('fibe', 8464), ('compatible', 8465), ('techie', 8466), ('73', 8467), ('variety', 8468), ('swon', 8469), ('nogin', 8470), ('atract', 8471), ('serena', 8472), ('darian', 8473), ('osbourne', 8474), ('drinker', 8475), ('mort', 8476), ('gda', 8477), ('sk', 8478), ('cv', 8479), ('genetic', 8480), ('leopold', 8481), ('60gb', 8482), ('playstation', 8483), ('advise', 8484), ('riden', 8485), ('hecks', 8486), ('jandy', 8487), ('timsamlake', 8488), ('rawesome', 8489), ('drake', 8490), ('retwets', 8491), ('can', 8492), ('twiterfox', 8493), ('queue', 8494), ('income', 8495), ('muji', 8496), (\"saturday's\", 8497), ('yogurtland', 8498), ('ruth', 8499), ('lorenzo', 8500), ('jarvis', 8501), ('recieve', 8502), ('banking', 8503), ('yrs', 8504), ('nightshift', 8505), ('norwich', 8506), ('milky', 8507), ('yvone', 8508), ('caro', 8509), ('aproximately', 8510), ('edy', 8511), ('demolish', 8512), ('notion', 8513), ('startin', 8514), ('songd', 8515), ('yogulicious', 8516), ('influence', 8517), ('clasical', 8518), ('playofs', 8519), ('lala', 8520), (\"who've\", 8521), ('seting', 8522), ('scrol', 8523), ('clash', 8524), ('4got', 8525), ('everybodys', 8526), ('momo', 8527), ('fi', 8528), ('jurasic', 8529), ('chalenging', 8530), ('sana', 8531), ('vince', 8532), ('clown', 8533), ('minivan', 8534), ('nuty', 8535), ('openhacklondon', 8536), ('keyword', 8537), ('boyle', 8538), ('omq', 8539), ('momz', 8540), ('doable', 8541), ('monfri', 8542), ('itag', 8543), ('youngster', 8544), ('una', 8545), ('walker', 8546), ('jasper', 8547), ('comisions', 8548), ('portal', 8549), ('ixigo', 8550), ('joplin', 8551), ('wich', 8552), ('aoki', 8553), ('tele', 8554), ('vinyl', 8555), ('tmz', 8556), ('bulet', 8557), ('republic', 8558), ('tayla', 8559), ('ocured', 8560), ('kubuntu', 8561), ('restrict', 8562), ('104', 8563), ('asbestos', 8564), (\"friday's\", 8565), ('ble', 8566), ('huntsvile', 8567), ('workshet', 8568), ('howeva', 8569), ('boyfran', 8570), ('945', 8571), ('erased', 8572), ('screamin', 8573), ('sundays', 8574), ('mayne', 8575), ('quotthank', 8576), ('pratical', 8577), ('becos', 8578), ('skola', 8579), ('impt', 8580), ('stormy', 8581), (\"com'on\", 8582), ('courtney', 8583), ('pardon', 8584), ('rotation', 8585), ('posted', 8586), (\"me's\", 8587), ('uploaded', 8588), ('impose', 8589), ('twilightguy', 8590), ('ltnever', 8591), ('pajama', 8592), ('skye', 8593), ('filing', 8594), ('aiyo', 8595), ('nevrmine', 8596), ('fob', 8597), ('leaf', 8598), ('ard', 8599), ('fukn', 8600), ('blew', 8601), ('provider', 8602), ('injure', 8603), ('acronym', 8604), ('shotgun', 8605), ('newsleter', 8606), ('dental', 8607), (\"mcfly's\", 8608), ('traumatize', 8609), ('christianity', 8610), ('lawyer', 8611), ('charleston', 8612), ('botled', 8613), ('nasal', 8614), ('drip', 8615), ('threw', 8616), ('horors', 8617), ('skank', 8618), ('toasty', 8619), ('paula', 8620), ('valuation', 8621), ('thistle', 8622), ('pensylvania', 8623), ('unlock', 8624), ('oscar', 8625), ('sprinkle', 8626), ('mahal', 8627), ('nash', 8628), ('cuties', 8629), ('prism', 8630), ('squat', 8631), ('5mins', 8632), ('suprised', 8633), ('starting', 8634), ('dorky', 8635), ('superpower', 8636), ('sched', 8637), ('livingrom', 8638), ('gmt', 8639), ('whiskey', 8640), ('stile', 8641), ('biking', 8642), ('snifles', 8643), ('lary', 8644), ('yourz', 8645), ('domed', 8646), ('humanity', 8647), ('chaya', 8648), ('providence', 8649), ('ht', 8650), ('socialscope', 8651), ('luxury', 8652), ('oportunities', 8653), ('shiter', 8654), ('lmk', 8655), ('composition', 8656), ('aperently', 8657), ('enuf', 8658), ('quotlong', 8659), ('acesible', 8660), ('cloth', 8661), ('smackdown', 8662), ('quotkind', 8663), ('sud', 8664), ('bastos', 8665), ('heidi', 8666), ('n96', 8667), ('sesmic', 8668), ('spiling', 8669), (\"jackson's\", 8670), (\"gn'r\", 8671), ('lsat', 8672), ('frantic', 8673), ('frenzy', 8674), ('traveling', 8675), ('chancequot', 8676), ('ambien', 8677), ('2,0', 8678), ('niley', 8679), ('leonardo', 8680), ('buzy', 8681), ('dumy', 8682), ('quotarghquot', 8683), ('decribe', 8684), ('prior', 8685), ('guyz', 8686), ('awaits', 8687), ('xml', 8688), ('sxsw', 8689), ('chuckle', 8690), ('wecloming', 8691), ('canadamigos', 8692), ('trainer', 8693), ('paracetamol', 8694), (\"del's\", 8695), ('sidebar', 8696), ('chopers', 8697), ('aron', 8698), ('sumptuous', 8699), ('raty', 8700), ('saga', 8701), ('guerila', 8702), ('nomore', 8703), ('darnit', 8704), ('chinatown', 8705), ('minimal', 8706), ('reznor', 8707), ('dakota', 8708), ('buzed', 8709), ('lotery', 8710), ('retweting', 8711), ('liep', 8712), ('zojuist', 8713), ('caf', 8714), ('sugarfre', 8715), ('elaine', 8716), ('quotal', 8717), ('carla', 8718), ('episodes', 8719), ('investment', 8720), ('nfg', 8721), ('chemo', 8722), ('spoilt', 8723), ('nico', 8724), ('pouring', 8725), ('burgen', 8726), ('over', 8727), ('dustbin', 8728), ('monk', 8729), ('ruf', 8730), ('shuck', 8731), ('foreigner', 8732), ('conrad', 8733), ('taning', 8734), ('transportation', 8735), ('dairy', 8736), ('satisfying', 8737), ('krispy', 8738), ('kreme', 8739), ('730pm', 8740), ('librefm', 8741), ('10x', 8742), ('kickof', 8743), ('selfridges', 8744), ('telemarketers', 8745), ('fuji', 8746), ('adorei', 8747), ('kiwi', 8748), ('wretched', 8749), ('vhs', 8750), (\"forum's\", 8751), ('yg', 8752), ('zeb', 8753), ('borowed', 8754), ('sp2', 8755), ('350', 8756), ('cydia', 8757), ('colosal', 8758), ('yacht', 8759), ('snezed', 8760), ('hily', 8761), ('108', 8762), ('smeling', 8763), ('sogni', 8764), (\"d'oro\", 8765), ('regae', 8766), ('smothnes', 8767), ('nuthin', 8768), ('cruiser', 8769), ('antique', 8770), ('emerge', 8771), ('quiero', 8772), ('quotso', 8773), ('confuzled', 8774), ('timberfake', 8775), ('roulete', 8776), ('vw', 8777), ('catwalk', 8778), ('thatquot', 8779), ('hoky', 8780), ('pci', 8781), ('striped', 8782), ('kart', 8783), ('colapses', 8784), ('anouncement', 8785), ('relapse', 8786), ('sta', 8787), ('quotback', 8788), ('masages', 8789), ('sunrise', 8790), ('deper', 8791), ('wops', 8792), ('clasmate', 8793), ('weve', 8794), ('eminem', 8795), ('stufier', 8796), ('chico', 8797), ('malay', 8798), ('winwod', 8799), ('clapton', 8800), ('inocent', 8801), ('wiser', 8802), ('spoiler', 8803), ('soco', 8804), ('bokbag', 8805), ('crate', 8806), ('richmond', 8807), ('330am', 8808), ('moleskine', 8809), ('noteboks', 8810), ('shield', 8811), ('shortie', 8812), ('haunt', 8813), ('blackjack', 8814), ('lifes', 8815), ('phuket', 8816), ('precise', 8817), ('cebu', 8818), ('doe', 8819), ('coin', 8820), ('diagnose', 8821), ('acute', 8822), ('circa', 8823), ('pedro', 8824), ('avocado', 8825), ('retriever', 8826), ('320gb', 8827), ('liquor', 8828), ('ernie', 8829), ('reyes', 8830), ('shove', 8831), ('mos', 8832), ('unoficialy', 8833), ('bqs', 8834), ('belmont', 8835), ('lube', 8836), ('dart', 8837), ('twitertakeover', 8838), ('tone', 8839), ('lonley', 8840), ('cadbury', 8841), ('gene', 8842), ('charlies', 8843), ('quotdrag', 8844), ('helquot', 8845), ('gaskarth', 8846), ('relieve', 8847), ('peacock', 8848), ('patiently', 8849), ('strangely', 8850), ('luncheon', 8851), (\"tori's\", 8852), ('remains', 8853), ('sermon', 8854), ('icurve', 8855), (\"prom's\", 8856), ('alejandra', 8857), ('thy', 8858), ('cranbery', 8859), ('kristin', 8860), ('tourney', 8861), ('procesor', 8862), ('redyed', 8863), ('[person]son', 8864), ('iam', 8865), ('sol', 8866), ('sling', 8867), ('0quot', 8868), ('stupidly', 8869), ('fiction', 8870), ('outro', 8871), ('grensboro', 8872), ('ihop', 8873), ('optimism', 8874), ('flake', 8875), ('abusive', 8876), ('unholy', 8877), ('visible', 8878), ('rese', 8879), ('lemsip', 8880), ('rewrite', 8881), ('feliz', 8882), ('folowup', 8883), ('signature', 8884), (\"day's\", 8885), ('tru', 8886), ('discontinue', 8887), ('tofu', 8888), ('joes', 8889), ('sakura', 8890), ('testimonial', 8891), ('kansas', 8892), ('youve', 8893), ('whatnot', 8894), ('asemble', 8895), ('cokout', 8896), ('junejuly', 8897), ('murphy', 8898), ('internetz', 8899), ('efron', 8900), ('disabled', 8901), ('madina', 8902), ('jil', 8903), ('volunter', 8904), ('620', 8905), ('romates', 8906), ('munchin', 8907), ('frequent', 8908), ('munchkins', 8909), ('insect', 8910), ('afterparty', 8911), ('pasengers', 8912), ('consumption', 8913), ('construct', 8914), ('nerdy', 8915), ('twigas', 8916), ('halmark', 8917), ('iphones', 8918), ('1215', 8919), ('adjustment', 8920), ('conoiseur', 8921), ('bz', 8922), ('catherine', 8923), ('textboks', 8924), ('dismised', 8925), ('apologise', 8926), ('coal', 8927), ('poia', 8928), ('stinky', 8929), ('twain', 8930), ('wdc', 8931), ('feliza', 8932), ('patchouli', 8933), ('stats', 8934), ('erniehalter', 8935), ('peny', 8936), ('anop', 8937), ('taint', 8938), ('redirects', 8939), ('chaof', 8940), ('gia', 8941), ('javaone', 8942), ('misty', 8943), ('mondays', 8944), ('tomoz', 8945), ('bcit', 8946), ('bench', 8947), ('quotcolquot', 8948), ('integrate', 8949), ('reflection', 8950), ('blowin', 8951), ('fwiends', 8952), ('secondsquot', 8953), ('imis', 8954), ('joshy', 8955), ('linkin', 8956), ('spy', 8957), ('jackshit', 8958), ('indedy', 8959), ('bearing', 8960), ('wowzer', 8961), ('wining', 8962), ('worship', 8963), ('military', 8964), ('cofeclub', 8965), ('abuz', 8966), ('endometriosis', 8967), ('warwick', 8968), ('gamer', 8969), ('liter', 8970), ('evernoteeyefi', 8971), ('jai', 8972), ('cotage', 8973), ('cie', 8974), ('sri', 8975), ('bode', 8976), ('groveshark', 8977), ('hudson', 8978), ('destiny', 8979), ('unavailable', 8980), ('buba', 8981), ('bsb', 8982), ('lexus', 8983), ('01', 8984), ('dome', 8985), ('monson', 8986), (\"lauren's\", 8987), ('owie', 8988), ('molar', 8989), ('ohwel', 8990), ('kurang', 8991), ('gila', 8992), ('hamock', 8993), ('authority', 8994), ('tivo', 8995), ('joking', 8996), ('quotfolowingquot', 8997), ('creator', 8998), ('jajaja', 8999), ('detention', 9000), ('dynasty', 9001), ('lololol', 9002), ('thnk', 9003), ('croked', 9004), ('hunk', 9005), ('bacardi', 9006), ('cp', 9007), (\"father's\", 9008), ('bulb', 9009), ('elem', 9010), ('yougt', 9011), ('quotfriendsquot', 9012), ('wingstop', 9013), ('yip', 9014), ('yopu', 9015), ('nazi', 9016), ('cody', 9017), ('tinytwiter', 9018), ('benedryl', 9019), ('enthusiasm', 9020), ('frend', 9021), ('wernt', 9022), ('churn', 9023), ('chenai', 9024), ('mcast', 9025), ('sarcastic', 9026), ('chaos', 9027), ('taught', 9028), ('sized', 9029), ('quothey', 9030), (\"youtube's\", 9031), ('za', 9032), ('3k', 9033), ('2m', 9034), (\"z's\", 9035), ('palin', 9036), ('bub', 9037), ('miranda', 9038), ('calback', 9039), ('comitstyleryo', 9040), ('aley', 9041), ('hehehehehe', 9042), ('confesional', 9043), ('twitpics', 9044), ('graceful', 9045), ('madaya', 9046), ('pala', 9047), ('seventh', 9048), ('brenan', 9049), ('inspired', 9050), ('wider', 9051), ('131', 9052), ('transmiter', 9053), ('closed', 9054), ('bloke', 9055), ('stopid', 9056), ('reconect', 9057), ('sads', 9058), ('tweten', 9059), (\"quotwe'l\", 9060), ('lunchquot', 9061), ('vile', 9062), ('inlove', 9063), ('snot', 9064), ('aubrey', 9065), ('tesla', 9066), ('jesica', 9067), ('movement', 9068), ('1milion', 9069), ('fyah', 9070), ('arkansas', 9071), ('scholers', 9072), ('morow', 9073), ('milestone', 9074), ('echoo', 9075), ('eldhose', 9076), (\"hindu's\", 9077), ('barcamp', 9078), ('biny', 9079), ('statue', 9080), ('gangster', 9081), ('chainsaw', 9082), ('sunbeam', 9083), ('tactic', 9084), ('peru', 9085), ('tara', 9086), ('furlough', 9087), ('pembroke', 9088), ('1040', 9089), ('adition', 9090), ('metalic', 9091), ('flatbread', 9092), ('smothies', 9093), ('biotch', 9094), ('jew', 9095), ('jordie', 9096), ('perk', 9097), ('drat', 9098), ('oomg', 9099), ('lautner', 9100), ('chickfila', 9101), ('bung', 9102), ('realtime', 9103), ('ambience', 9104), ('quest', 9105), ('grave', 9106), ('gromit', 9107), ('jazy', 9108), ('prioritize', 9109), ('wrangler', 9110), ('sheit', 9111), ('marie', 9112), ('hairdo', 9113), ('conquer', 9114), ('pho', 9115), ('mailbox', 9116), ('mvp', 9117), ('clinton', 9118), ('jockey', 9119), ('wonderfuly', 9120), ('recharge', 9121), ('usage', 9122), ('folio', 9123), ('worked', 9124), ('samuel', 9125), ('ilnes', 9126), ('endorsement', 9127), ('helicopter', 9128), ('shadez', 9129), ('rope', 9130), ('teaching', 9131), ('tething', 9132), ('percentage', 9133), ('zyrtec', 9134), ('ahh', 9135), ('unopened', 9136), ('lotr', 9137), ('trilogy', 9138), ('barbecue', 9139), ('youquotl', 9140), ('exclusive', 9141), ('mus', 9142), ('remer', 9143), ('afaik', 9144), ('detour', 9145), (\"movie's\", 9146), ('geometry', 9147), ('845', 9148), ('2mrw', 9149), ('jefre', 9150), ('barnsley', 9151), ('striker', 9152), ('breaker', 9153), ('cof', 9154), ('ito', 9155), ('pianist', 9156), ('gin', 9157), ('tonic', 9158), ('imune', 9159), ('apealing', 9160), ('zoids', 9161), ('asia', 9162), ('corporate', 9163), ('backlog', 9164), ('om', 9165), ('guysquot', 9166), ('bop', 9167), ('aidan', 9168), ('drom', 9169), ('asumes', 9170), ('91', 9171), ('spectacular', 9172), ('relish', 9173), ('plato', 9174), ('grabe', 9175), ('kaloka', 9176), ('atempted', 9177), ('frenz', 9178), ('probobly', 9179), ('mya', 9180), ('sophomore', 9181), ('p9', 9182), ('danica', 9183), ('lawl', 9184), ('bwahah', 9185), ('tminus', 9186), ('restart', 9187), ('controversial', 9188), (\"ab's\", 9189), ('candace', 9190), ('snowbal', 9191), ('sodium', 9192), ('standing', 9193), ('audiobo', 9194), ('wodstock', 9195), ('anapolis', 9196), ('frustrating', 9197), ('gracious', 9198), ('memorial', 9199), ('fatigue', 9200), ('setling', 9201), ('alpine', 9202), ('mcm', 9203), ('ku', 9204), ('migrate', 9205), ('solaris', 9206), ('kimy', 9207), ('us', 9208), ('ignorance', 9209), ('bliping', 9210), ('liner', 9211), ('207', 9212), ('implode', 9213), ('badluck', 9214), ('brawl', 9215), ('arnt', 9216), ('unbreakable', 9217), ('douche', 9218), ('topshop', 9219), ('8quot', 9220), ('misions', 9221), ('jan', 9222), ('dana', 9223), ('hilton', 9224), ('krogers', 9225), ('brochure', 9226), ('patinson', 9227), ('recycle', 9228), ('bluetoth', 9229), ('buyin', 9230), ('solange', 9231), ('yoghurt', 9232), ('carots', 9233), ('wilie', 9234), ('celtic', 9235), ('bingo', 9236), ('shadow', 9237), ('vogue', 9238), ('aply', 9239), ('shuder', 9240), ('chiro', 9241), ('wd', 9242), ('63', 9243), ('trinity', 9244), ('chart', 9245), (\"score's\", 9246), ('jbs', 9247), ('degeneres', 9248), ('klem', 9249), ('midget', 9250), ('smfh', 9251), ('fightin', 9252), ('itd', 9253), ('newspaper', 9254), ('pbampj', 9255), ('pointles', 9256), ('kse', 9257), ('genre', 9258), ('lower', 9259), ('decode', 9260), ('sgt', 9261), ('meningitis', 9262), ('disinfect', 9263), ('trap', 9264), ('m10pm', 9265), ('smushed', 9266), ('hairdresers', 9267), ('procedure', 9268), ('e71', 9269), ('ky', 9270), (\"nick's\", 9271), ('sharing', 9272), ('shaw', 9273), ('keley', 9274), ('violently', 9275), ('faceles', 9276), ('dg', 9277), ('taiwanese', 9278), ('hudgens', 9279), ('3oh', 9280), ('blerg', 9281), ('orilia', 9282), ('swarm', 9283), ('imediate', 9284), ('played', 9285), ('hur', 9286), ('930pm', 9287), ('wendys', 9288), ('origami', 9289), ('andre', 9290), ('travesty', 9291), ('inadequate', 9292), ('noisy', 9293), ('hobart', 9294), ('adium', 9295), ('dodge', 9296), ('meatbals', 9297), (\"fresat's\", 9298), ('kg', 9299), ('mimis', 9300), ('retreat', 9301), ('asumptions', 9302), ('tornado', 9303), ('fangirl', 9304), ('godsquot', 9305), ('aguilera', 9306), ('tasmania', 9307), ('0h', 9308), ('maven', 9309), (\"so's\", 9310), ('fisch', 9311), ('misconstrue', 9312), ('musician', 9313), ('royal', 9314), ('trough', 9315), ('giver', 9316), ('miself', 9317), ('lulaby', 9318), ('tania', 9319), ('gocincinati', 9320), ('contribution', 9321), ('reynolds', 9322), ('neuro', 9323), (\"pim's\", 9324), ('jas', 9325), ('tak', 9326), ('hasle', 9327), ('40th', 9328), ('barca', 9329), ('cristal', 9330), ('planer', 9331), ('wthem', 9332), ('wolverhampton', 9333), ('migranes', 9334), ('suzi', 9335), ('borowing', 9336), ('dreamin', 9337), ('chief', 9338), ('contributor', 9339), ('hurdle', 9340), ('stain', 9341), ('element', 9342), ('knew', 9343), ('hairspray', 9344), ('fela', 9345), ('childrens', 9346), ('geli', 9347), ('recorder', 9348), ('topgear', 9349), ('apathetic', 9350), ('dmed', 9351), ('kentucky', 9352), ('botcon', 9353), ('perin', 9354), ('luh', 9355), ('bsc', 9356), ('unparaleled', 9357), ('oposite', 9358), ('melow', 9359), ('atrocious', 9360), ('sharp', 9361), ('pencil', 9362), ('bulky', 9363), ('skateboard', 9364), ('76', 9365), ('platform', 9366), ('padang', 9367), ('joininghe', 9368), ('tb', 9369), ('heineken', 9370), ('striper', 9371), ('mei', 9372), ('matine', 9373), ('paralel', 9374), ('naping', 9375), ('withdrawal', 9376), ('syndrome', 9377), ('chelsey', 9378), ('rumage', 9379), ('adapt', 9380), ('tote', 9381), ('t', 9382), ('severe', 9383), ('modest', 9384), ('kathlen', 9385), ('hulk', 9386), ('buls', 9387), ('fingernail', 9388), ('darius', 9389), ('anoy', 9390), ('estonia', 9391), ('khng', 9392), ('yorker', 9393), ('bldg', 9394), ('badminton', 9395), ('secondary', 9396), ('sia', 9397), ('quottwiterquot', 9398), ('prawn', 9399), ('stomp', 9400), ('aus', 9401), ('antisocial', 9402), ('egyptian', 9403), ('reinforce', 9404), ('flare', 9405), ('housewife', 9406), ('twiterena', 9407), ('obv', 9408), ('hesitate', 9409), ('crispy', 9410), ('continualy', 9411), ('mane', 9412), ('beijing', 9413), ('mart', 9414), ('karmaquot', 9415), ('technician', 9416), ('yankes', 9417), ('portrait', 9418), ('handmade', 9419), ('inherent', 9420), ('vo', 9421), ('aranged', 9422), ('wonderland', 9423), ('prick', 9424), (\"mami's\", 9425), ('jose', 9426), ('posit', 9427), ('strand', 9428), ('decaf', 9429), ('fir', 9430), ('muso', 9431), ('sicke', 9432), ('healthcare', 9433), ('jaw', 9434), ('gamequot', 9435), ('xtra', 9436), ('frio', 9437), ('heir', 9438), ('raspbery', 9439), ('athletic', 9440), ('touchin', 9441), ('orchestra', 9442), ('spank', 9443), ('24quot', 9444), ('chitown', 9445), ('ivory', 9446), ('fcking', 9447), ('590', 9448), ('redesigned', 9449), ('shanxi', 9450), ('newtown', 9451), ('ira', 9452), ('chaser', 9453), ('bronco', 9454), ('drumers', 9455), ('abide', 9456), ('kristen', 9457), ('omgz', 9458), ('serendipity', 9459), ('fierce', 9460), ('alisa', 9461), ('analysis', 9462), ('pita', 9463), ('euphoria', 9464), ('therapyquot', 9465), ('suite', 9466), ('leica', 9467), ('quotnever', 9468), ('prototype', 9469), ('depeche', 9470), ('ame', 9471), ('skyping', 9472), ('katies', 9473), ('adon', 9474), ('quotreal', 9475), ('orleans', 9476), ('hilsong', 9477), ('utd', 9478), ('makerfaire', 9479), (\"dady's\", 9480), ('onstage', 9481), ('midjune', 9482), ('productivity', 9483), ('seus', 9484), ('carlton', 9485), ('wafles', 9486), ('trojan', 9487), ('invention', 9488), ('television', 9489), ('unknown', 9490), ('sank', 9491), ('younge', 9492), ('cauz', 9493), ('infected', 9494), ('trivia', 9495), ('fairnes', 9496), ('gardener', 9497), ('algebra', 9498), ('skunk', 9499), ('evict', 9500), ('insanity', 9501), ('century', 9502), ('judgement', 9503), ('tucker', 9504), ('ntn', 9505), ('wacky', 9506), ('emy', 9507), ('atomic', 9508), ('meltdown', 9509), ('briana', 9510), ('purposely', 9511), ('menace', 9512), ('cutenes', 9513), ('licensing', 9514), ('timetable', 9515), (\"ily's\", 9516), ('ayt', 9517), ('mak', 9518), ('operate', 9519), ('photos', 9520), ('directv', 9521), ('ondemand', 9522), ('sophia', 9523), ('thelma', 9524), ('fernanda', 9525), ('pei', 9526), ('castiel', 9527), ('motor', 9528), ('coherent', 9529), ('separately', 9530), ('coupla', 9531), ('leslie', 9532), ('stresin', 9533), ('deflate', 9534), ('tab', 9535), ('wody', 9536), ('psy', 9537), ('maden', 9538), ('tunage', 9539), ('psp', 9540), ('frosty', 9541), ('nitey', 9542), ('paisley', 9543), ('arthritis', 9544), ('navy', 9545), ('cultural', 9546), ('defeat', 9547), ('polo', 9548), ('snatch', 9549), ('hilquot', 9550), ('frost', 9551), ('workload', 9552), ('thot', 9553), ('echo', 9554), ('elses', 9555), ('bulied', 9556), ('shels', 9557), ('toughie', 9558), ('leny', 9559), ('godquot', 9560), ('reborn', 9561), (\"how're\", 9562), ('lena', 9563), ('consecutive', 9564), ('strugle', 9565), ('mach', 9566), ('rye', 9567), ('reno', 9568), ('boner', 9569), ('unreliable', 9570), ('presten', 9571), ('epicentre', 9572), ('whelock', 9573), ('shutup', 9574), ('cowbel', 9575), ('disconecting', 9576), ('longboard', 9577), ('rec', 9578), (\"sasha's\", 9579), ('vital', 9580), ('quotdquot', 9581), ('630am', 9582), ('loic', 9583), ('ringtone', 9584), ('varsity', 9585), ('fanclub', 9586), ('wegmans', 9587), ('lenses', 9588), ('quotlive', 9589), ('hanson', 9590), ('drumstick', 9591), ('chino', 9592), ('boulder', 9593), ('tew', 9594), ('chow', 9595), ('x64', 9596), ('cs4', 9597), ('niamh', 9598), ('quotstop', 9599), ('leftover', 9600), ('marky', 9601), ('encouragement', 9602), (\"this'l\", 9603), ('tribute', 9604), ('parody', 9605), ('jakarta', 9606), ('whens', 9607), ('colecting', 9608), ('dindin', 9609), ('scrable', 9610), ('sipin', 9611), (\"lady's\", 9612), ('mamals', 9613), ('genial', 9614), (\"july's\", 9615), ('chickened', 9616), ('615', 9617), ('bre', 9618), ('han', 9619), ('todayquot', 9620), ('streamline', 9621), ('trunk', 9622), ('halfway', 9623), ('dudes', 9624), ('sudafed', 9625), ('spreadshets', 9626), ('wgn', 9627), ('diary', 9628), ('tribe', 9629), ('warmth', 9630), ('brightly', 9631), ('indor', 9632), ('nou', 9633), ('twep', 9634), ('butercup', 9635), ('wos', 9636), ('funtime', 9637), ('iq', 9638), ('ins', 9639), ('netles', 9640), ('gio', 9641), ('vcenter', 9642), ('sher', 9643), ('interface', 9644), ('malibu', 9645), ('fiscaly', 9646), ('89', 9647), ('rosemary', 9648), ('canbera', 9649), ('mojito', 9650), ('eloise', 9651), ('gomez', 9652), ('washer', 9653), ('aparent', 9654), ('warehouse', 9655), ('clair', 9656), ('faceboking', 9657), ('lurve', 9658), ('jelous', 9659), ('jip', 9660), ('divine', 9661), ('festivity', 9662), ('zomg', 9663), ('valuable', 9664), ('specialy', 9665), ('sidewalk', 9666), ('harvard', 9667), ('mas', 9668), ('searching', 9669), ('evolution', 9670), ('programer', 9671), ('pave', 9672), ('inteligent', 9673), ('watson', 9674), ('tramp', 9675), ('687', 9676), ('ericson', 9677), ('cisco', 9678), ('seventen', 9679), ('cambridge', 9680), ('fails', 9681), ('umn', 9682), ('sleve', 9683), ('brainbone', 9684), ('deprive', 9685), ('fence', 9686), ('denis', 9687), ('kasi', 9688), ('mahirap', 9689), ('haiz', 9690), ('bibi', 9691), ('cy', 9692), ('sprinkler', 9693), ('rearanging', 9694), ('streaming', 9695), ('xfiles', 9696), ('broth', 9697), ('ani', 9698), ('loft', 9699), ('roughly', 9700), ('sabeth', 9701), ('cashier', 9702), ('textin', 9703), ('israel', 9704), ('eternaly', 9705), ('fiat', 9706), ('nadine', 9707), ('alter', 9708), ('stewart', 9709), ('marisa', 9710), ('convinced', 9711), ('smiling', 9712), ('solitaire', 9713), ('minuet', 9714), ('daywek', 9715), ('windshield', 9716), ('wiper', 9717), ('sonish', 9718), ('motherstobe', 9719), ('tisues', 9720), ('huhu', 9721), ('quotbad', 9722), ('adt', 9723), ('counting', 9724), ('whah', 9725), ('crazier', 9726), ('finequot', 9727), ('apeared', 9728), ('brendon', 9729), ('postcard', 9730), (\"bq's\", 9731), ('keper', 9732), ('apointments', 9733), ('kardashian', 9734), ('arcade', 9735), ('cheky', 9736), ('aplying', 9737), ('vice', 9738), ('quotlocked', 9739), ('abroadquot', 9740), ('watermelon', 9741), ('shocked', 9742), ('crazi', 9743), ('btches', 9744), ('sickly', 9745), ('suks', 9746), ('wno', 9747), ('gag', 9748), ('mf', 9749), ('quotlok', 9750), ('lub', 9751), ('magnificent', 9752), ('stapler', 9753), ('pek', 9754), ('pester', 9755), ('outdor', 9756), ('blunt', 9757), ('wholeheartedly', 9758), ('aproved', 9759), ('pdx', 9760), ('poland', 9761), ('soso', 9762), ('campaign', 9763), ('downloaded', 9764), ('merci', 9765), ('reclaim', 9766), ('resistance', 9767), ('guter', 9768), ('reagan', 9769), ('stamen', 9770), ('spork', 9771), ('wealth', 9772), ('spielburg', 9773), ('tends', 9774), ('spiled', 9775), (\"email's\", 9776), ('bri', 9777), ('kuya', 9778), ('squash', 9779), ('be_active', 9780), ('breeze_through', 9781), ('haircloth', 9782), ('savage', 9783), ('cook', 9784), ('affect', 9785), ('organ_pipe', 9786), ('finality', 9787), ('trim', 9788), ('conscientious_objector', 9789), ('contingent', 9790), ('forty', 9791), ('built-in', 9792), ('syndicate', 9793), ('all_right', 9794), ('exemplar', 9795), ('crevice', 9796), ('showery', 9797), ('decelerate', 9798), ('consortium', 9799), ('jacklight', 9800), ('paroxysm', 9801), ('tarmacadam', 9802), ('newton', 9803), ('deep', 9804), ('move_over', 9805), ('interrogation', 9806), ('acerb', 9807), ('commission', 9808), ('crouch', 9809), ('change_state', 9810), ('once', 9811), ('entrust', 9812), ('old_age', 9813), ('lake_michigan', 9814), ('blasted', 9815), ('one-half', 9816), ('tuberosity', 9817), ('alveolar_consonant', 9818), ('nine-spot', 9819), ('cup_of_tea', 9820), ('bracing', 9821), ('substitute', 9822), ('angiotensin_converting_enzyme', 9823), ('defy', 9824), ('dearly-won', 9825), ('east_southeast', 9826), ('europium', 9827), ('intemperate', 9828), ('incision', 9829), ('undimmed', 9830), ('espouse', 9831), ('dame', 9832), ('attend', 9833), ('passenger_car', 9834), ('extremist', 9835), ('beak', 9836), ('inwardly', 9837), ('baptismal_font', 9838), ('goodly', 9839), ('feel', 9840), ('ramp', 9841), ('newfangled', 9842), ('scat', 9843), ('leash', 9844), ('reform', 9845), ('penny', 9846), ('township', 9847), ('parcel', 9848), ('issue_forth', 9849), ('localization_of_function', 9850), ('prison_term', 9851), ('fourth_dimension', 9852), ('base_on_balls', 9853), ('run_down', 9854), ('coulomb', 9855), ('calendar_month', 9856), ('hearty', 9857), ('lanthanum', 9858), ('arrange', 9859), ('populace', 9860), ('myocardial_infarction', 9861), ('athirst', 9862), ('department_of_energy', 9863), ('immediate', 9864), ('bull', 9865), ('lento', 9866), ('television_camera', 9867), ('citation', 9868), ('alert', 9869), ('wholly', 9870), ('mannequin', 9871), ('delaware', 9872), ('arrest', 9873), ('help_oneself', 9874), ('salvage', 9875), ('awareness', 9876), ('compass', 9877), ('bracken', 9878), ('basis', 9879), ('immerse', 9880), ('rationality', 9881), ('rehearse', 9882), ('express', 9883), ('remote_control', 9884), ('intensify', 9885), ('absorb', 9886), ('defective', 9887), ('senior_high_school', 9888), ('reconstruct', 9889), ('lavish', 9890), ('appoint', 9891), ('shimmer', 9892), ('mistreat', 9893), ('illinois', 9894), ('owen', 9895), ('tauten', 9896), ('joule', 9897), ('pennywhistle', 9898), ('crusade', 9899), ('hurry', 9900), ('buddy', 9901), ('master_of_arts', 9902), ('starting_signal', 9903), ('fall_upon', 9904), ('coquette', 9905), ('rightly', 9906), ('hectometer', 9907), ('birdcall', 9908), ('adjunct', 9909), ('return_key', 9910), ('dim', 9911), ('transformation', 9912), ('reasoned', 9913), ('chain_mail', 9914), ('joining', 9915), ('web_site', 9916), ('curtly', 9917), ('farewell', 9918), ('disadvantage', 9919), ('windowpane', 9920), ('discharge', 9921), ('equip', 9922), ('blemish', 9923), ('wyrd', 9924), ('accept', 9925), ('historic_period', 9926), ('calculate', 9927), ('pinko', 9928), ('dominate', 9929), ('gamble', 9930), ('shoud', 9931), ('whatsoever', 9932), ('heavily', 9933), ('ode', 9934), ('lonq', 9935), ('coperate', 9936), ('islands', 9937), ('curtain', 9938), ('elsinore', 9939), ('path', 9940), ('waraku', 9941), ('concur', 9942), ('rifle', 9943), ('24hrs', 9944), ('quotarguingquot', 9945), ('chingo', 9946), ('hafta', 9947), ('investigation', 9948), ('flew', 9949), ('environmental', 9950), ('fag', 9951), ('deplurk', 9952), ('permanently', 9953), ('alt', 9954), ('sau', 9955), ('hari', 9956), ('vp', 9957), ('knighty', 9958), ('incase', 9959), ('aditional', 9960), ('midway', 9961), ('pouch', 9962), ('gl', 9963), ('cliquot', 9964), ('marilyn', 9965), ('colourful', 9966), ('everone', 9967), ('robinson', 9968), ('hunie', 9969), ('uhm', 9970), ('alysabrunolt', 9971), ('sweny', 9972), (\"greg's\", 9973), ('captive', 9974), ('shinta', 9975), ('overlap', 9976), ('karate', 9977), ('someplace', 9978), ('spanking', 9979), ('ak', 9980), ('hordies', 9981), ('viewable', 9982), ('weary', 9983), ('ire', 9984), ('loveyou', 9985), ('squeaky', 9986), ('triumph', 9987), ('stele', 9988), ('spamer', 9989), ('twitfam', 9990), ('quotto', 9991), ('jao', 9992), ('cusing', 9993), ('shea', 9994), ('17quot', 9995), ('toshiba', 9996), ('3gig', 9997), ('feris', 9998), ('47', 9999), ('060', 10000), ('aprove', 10001), ('kane', 10002), ('treasure', 10003), ('tricky', 10004), ('incident', 10005), ('endanger', 10006), ('lokbok', 10007), ('muse', 10008), ('gratitude', 10009), ('smores', 10010), ('ghibli', 10011), ('ponyo', 10012), ('marcus', 10013), ('upstate', 10014), ('angela', 10015), ('northwest', 10016), ('liein', 10017), ('2nyt', 10018), ('evo', 10019), ('gibson', 10020), ('enigma', 10021), ('understandable', 10022), ('shanghai', 10023), ('jimbo', 10024), ('sponsor', 10025), ('splendid', 10026), ('unplug', 10027), ('ladiez', 10028), ('drizling', 10029), ('sacred', 10030), ('quotauthenticatingquot', 10031), ('quotshort', 10032), ('deply', 10033), ('cameo', 10034), ('congratulatory', 10035), ('regime', 10036), ('doctoral', 10037), ('funding', 10038), ('diaper', 10039), ('wowza', 10040), ('decemberists', 10041), ('shortcut', 10042), ('discusions', 10043), ('borat', 10044), ('overwhelm', 10045), ('papaya', 10046), ('mixing', 10047), ('skul', 10048), (\"mayer's\", 10049), ('miz', 10050), ('heartache', 10051), ('turbine', 10052), ('organ', 10053), ('cried', 10054), ('kido', 10055), ('viewer', 10056), ('maxim', 10057), ('audit', 10058), ('sideways', 10059), ('fidel', 10060), ('lenon', 10061), ('janis', 10062), ('primary', 10063), ('gigles', 10064), ('shw', 10065), ('hotspot', 10066), ('coco', 10067), ('10mins', 10068), ('speds', 10069), ('eta', 10070), ('botleg', 10071), ('blonding', 10072), ('mayday', 10073), ('quotwequot', 10074), ('snod', 10075), ('overjoy', 10076), ('injection', 10077), ('moustache', 10078), ('quotgumed', 10079), ('torment', 10080), ('ud', 10081), ('mercedes', 10082), ('ib', 10083), ('julian', 10084), ('ruler', 10085), ('tacoma', 10086), ('republish', 10087), ('realtor', 10088), ('ionbased', 10089), ('clarkson', 10090), ('mcflys', 10091), ('naruto', 10092), ('fultime', 10093), ('enjoyed', 10094), ('jobros', 10095), (\"i's\", 10096), ('nab', 10097), ('gap', 10098), ('investor', 10099), ('nowamp', 10100), ('retquestin', 10101), ('manta', 10102), ('kraken', 10103), (\"lulu's\", 10104), ('jailbreak', 10105), ('earpiece', 10106), ('prohibit', 10107), ('geas', 10108), ('bulmers', 10109), ('pear', 10110), ('dampd', 10111), ('unfortunatley', 10112), ('copenhagen', 10113), ('laptops', 10114), ('insight', 10115), ('aweomse', 10116), ('pendant', 10117), ('scarlet', 10118), ('chaning', 10119), ('tatum', 10120), ('lt3lt3', 10121), ('kawawa', 10122), ('definition', 10123), ('rep', 10124), ('dancin', 10125), ('anthem', 10126), ('whale', 10127), ('anthropomorphic', 10128), ('wuz', 10129), ('compability', 10130), ('elegance', 10131), ('preprom', 10132), ('bruno', 10133), ('updates', 10134), ('esential', 10135), ('batles', 10136), ('chowder', 10137), ('arabic', 10138), ('compre', 10139), ('suporters', 10140), ('decade', 10141), ('lou', 10142), ('clicking', 10143), ('nickleback', 10144), ('discretion', 10145), ('outfiters', 10146), ('plumber', 10147), ('adaptation', 10148), ('gonight', 10149), ('traumatic', 10150), ('andor', 10151), ('powerblog', 10152), ('fantabulous', 10153), ('batlestar', 10154), ('galactica', 10155), ('wan', 10156), ('ovaj', 10157), ('quotvideo', 10158), ('twetia', 10159), ('radi', 10160), ('microcastinga', 10161), ('onesies', 10162), ('gent', 10163), ('sarmy', 10164), ('quem', 10165), ('kepin', 10166), ('graduatingampits', 10167), ('heartbut', 10168), ('sas', 10169), ('yani', 10170), ('alyson', 10171), ('penguin', 10172), ('bling', 10173), ('pdf', 10174), ('5d', 10175), ('cbebies', 10176), ('marta', 10177), ('aerobics', 10178), ('determination', 10179), ('maltese', 10180), ('curency', 10181), ('nymph', 10182), ('violate', 10183), ('crow', 10184), ('fresno', 10185), ('tonked', 10186), (\"mozart's\", 10187), ('orphan', 10188), ('bringin', 10189), ('203', 10190), ('boky', 10191), ('cabaret', 10192), ('socialmediatv', 10193), ('february', 10194), ('fu', 10195), ('canterbury', 10196), ('handquot', 10197), (\"company's\", 10198), ('oct', 10199), ('meanie', 10200), ('sharapova', 10201), ('61', 10202), ('audrey', 10203), ('erg', 10204), ('htc', 10205), ('playdate', 10206), ('rember', 10207), ('redem', 10208), (\"dvd's\", 10209), ('bodyshop', 10210), ('academic', 10211), ('tifany', 10212), ('aug', 10213), ('ofensive', 10214), ('oic', 10215), ('yi', 10216), ('chloe', 10217), ('lunching', 10218), ('grouchy', 10219), ('felix', 10220), ('blvd', 10221), ('greasy', 10222), ('bleah', 10223), (\"mathew's\", 10224), ('sumone', 10225), ('bur', 10226), ('pitiful', 10227), ('marbela', 10228), ('pasport', 10229), (\"f'n\", 10230), ('fuse', 10231), ('increasingly', 10232), ('3lbs', 10233), ('blury', 10234), ('chesey', 10235), ('omelete', 10236), ('habo', 10237), ('nowquot', 10238), ('sane', 10239), ('mari', 10240), ('vfc', 10241), ('sugarland', 10242), ('baguio', 10243), (\"quotwhat's\", 10244), ('disease', 10245), ('23rd', 10246), ('hokups', 10247), ('quotla', 10248), ('wagon', 10249), ('mornig', 10250), ('distribution', 10251), ('carmen', 10252), ('golfer', 10253), ('buhbye', 10254), ('naty', 10255), ('canadian', 10256), (\"kiyosaki's\", 10257), ('nam', 10258), ('retainer', 10259), ('rag', 10260), ('55', 10261), ('dal', 10262), ('meu', 10263), ('camping', 10264), ('eyesquot', 10265), ('momotlv', 10266), ('sbs', 10267), ('pimp', 10268), ('balerina', 10269), ('election', 10270), (\"guy's\", 10271), ('oracle', 10272), ('underwear', 10273), ('apsquot', 10274), ('ulan', 10275), ('foxy', 10276), ('tati', 10277), ('thermometer', 10278), ('hoping', 10279), ('250gb', 10280), ('thoughtful', 10281), ('nerdprom', 10282), ('xi', 10283), ('ericka', 10284), ('stavros', 10285), ('flatley', 10286), ('hick', 10287), ('moldovan', 10288), ('apearing', 10289), ('intentionaly', 10290), ('num', 10291), ('milwauke', 10292), ('weps', 10293), ('cady', 10294), ('v2', 10295), (\"wat's\", 10296), ('friendsquot', 10297), ('rhubarb', 10298), ('insanely', 10299), ('rawk', 10300), ('ticketmaster', 10301), ('fakin', 10302), (\"hair's\", 10303), ('unbearable', 10304), ('nutreal', 10305), ('cigs', 10306), ('rif', 10307), ('13quot', 10308), ('bokmark', 10309), ('ltgt', 10310), ('helotxt', 10311), ('prego', 10312), ('cynthia', 10313), ('council', 10314), ('patel', 10315), ('textmate', 10316), ('cougar', 10317), ('cosplay', 10318), ('coding', 10319), ('rocio', 10320), ('atendance', 10321), ('gq', 10322), ('difernt', 10323), ('whot', 10324), ('workaholic', 10325), ('asociation', 10326), (\"victoria's\", 10327), ('cambodian', 10328), ('blocker', 10329), ('dahling', 10330), ('brutal', 10331), ('faro', 10332), ('bhi', 10333), ('telephone', 10334), ('wtg', 10335), ('daniele', 10336), ('haris', 10337), ('myst', 10338), ('24th', 10339), ('carter', 10340), ('laodicean', 10341), ('retake', 10342), ('piere', 10343), ('sado', 10344), ('expose', 10345), ('clang', 10346), ('fill', 10347), ('appearance', 10348), ('predilection', 10349), ('provoke', 10350), ('backbite', 10351), ('confess', 10352), ('eldritch', 10353), ('overseer', 10354), ('gladden', 10355), ('fertilize', 10356), ('close_call', 10357), ('tilt', 10358), ('orderliness', 10359), ('populate', 10360), ('evolve', 10361), ('proto-indo_european', 10362), ('timbre', 10363), ('gamboge', 10364), ('insofar', 10365), (\"ship's_company\", 10366), ('undertake', 10367), ('united_states_government', 10368), ('labor_movement', 10369), ('bachelor_of_medicine', 10370), ('bivalent', 10371), ('invigilate', 10372), ('closenes', 10373), ('midnite', 10374), ('inventory', 10375), (\"what're\", 10376), ('dsl', 10377), ('kendra', 10378), ('advertisement', 10379), ('govt', 10380), ('publisher', 10381), ('dove', 10382), ('masculinity', 10383), (\"u'd\", 10384), ('wain', 10385), ('length', 10386), ('wekquot', 10387), ('gelong', 10388), ('testing', 10389), ('recovering', 10390), ('rustle', 10391), ('thingie', 10392), ('drowsy', 10393), ('unpacking', 10394), ('spontaneously', 10395), ('slowdown', 10396), ('stl', 10397), ('checkup', 10398), ('racquet', 10399), ('lars', 10400), ('516', 10401), ('reopen', 10402), ('brandy', 10403), ('conscience', 10404), ('grind', 10405), ('turquoise', 10406), ('florist', 10407), ('favour', 10408), (\"idea's\", 10409), ('liquid', 10410), ('pst', 10411), ('typing', 10412), ('nvidia', 10413), ('everythings', 10414), ('mwahaha', 10415), ('surge', 10416), ('genuinely', 10417), ('quotpurple', 10418), ('bandaid', 10419), ('cholesterol', 10420), ('neice', 10421), ('psn', 10422), ('justwatched', 10423), ('pau', 10424), ('uu', 10425), ('lighten', 10426), ('wade', 10427), ('slo', 10428), ('sil', 10429), ('tidur', 10430), ('adem', 10431), ('uit', 10432), ('hen', 10433), ('sweter', 10434), ('snugie', 10435), ('rod', 10436), ('specie', 10437), ('monthly', 10438), ('chaper', 10439), ('cave', 10440), ('unecesary', 10441), ('cornel', 10442), ('shortage', 10443), ('delirious', 10444), ('bawls', 10445), ('dina', 10446), ('brady', 10447), ('chal', 10448), (\"tv's\", 10449), ('bandit', 10450), ('oberhausen', 10451), ('generator', 10452), ('mae', 10453), ('np', 10454), ('tfn', 10455), ('maniac', 10456), ('babysiter', 10457), ('porto', 10458), ('evermore', 10459), ('40,0', 10460), ('sandal', 10461), ('shouldve', 10462), ('nae', 10463), ('bugle', 10464), ('bog', 10465), ('jester', 10466), ('vim', 10467), ('mushroms', 10468), ('4days', 10469), ('virtue', 10470), ('adicting', 10471), ('boba', 10472), ('encore', 10473), ('bahamas', 10474), ('mindful', 10475), ('caviar', 10476), ('comands', 10477), ('incline', 10478), ('catalog', 10479), ('mkay', 10480), ('plce', 10481), ('jomla', 10482), ('nedy', 10483), ('rename', 10484), ('tisue', 10485), ('98', 10486), ('chad', 10487), ('ketle', 10488), ('quotdamn', 10489), ('k12', 10490), ('negativity', 10491), ('monica', 10492), (\"eminem's\", 10493), ('fasho', 10494), ('snezes', 10495), ('kidos', 10496), ('casete', 10497), ('corespondent', 10498), ('debie', 10499), ('jinxed', 10500), ('witcha', 10501), ('cor', 10502), ('deli', 10503), ('gail', 10504), ('slater', 10505), ('marble', 10506), ('512', 10507), (\"senior's\", 10508), ('vpn', 10509), ('fedex', 10510), ('mpix', 10511), ('jiz', 10512), ('linkedin', 10513), ('fixd', 10514), ('pervs', 10515), ('considerably', 10516), ('o2', 10517), ('oin', 10518), ('problemo', 10519), ('more', 10520), ('niple', 10521), ('debusy', 10522), ('chalenger', 10523), ('rsmv', 10524), ('sailor', 10525), ('payrol', 10526), ('ovi', 10527), ('anas', 10528), ('keri', 10529), ('supermarket', 10530), ('eleven', 10531), ('fatboy', 10532), ('worky', 10533), ('onwards', 10534), ('bc1', 10535), ('pinot', 10536), ('didgerido', 10537), ('springtime', 10538), ('anderson', 10539), ('kirby', 10540), ('tenor', 10541), ('nuh', 10542), ('deploy', 10543), ('centigrade', 10544), ('faves', 10545), ('delegate', 10546), ('nigh', 10547), ('breaky', 10548), ('sureal', 10549), ('balmain', 10550), ('poh', 10551), ('chan', 10552), ('dp', 10553), ('pku', 10554), ('python', 10555), ('mudhut', 10556), ('moring', 10557), ('30th', 10558), ('bai', 10559), ('kt', 10560), ('getn', 10561), ('outdated', 10562), ('drupal', 10563), ('omlete', 10564), ('aero', 10565), ('sicky', 10566), ('imobiliser', 10567), ('porer', 10568), ('fearles', 10569), ('pange', 10570), ('ahahahahaha', 10571), ('justjust', 10572), ('areareare', 10573), ('loverboy', 10574), (\"mumborg's\", 10575), ('chufed', 10576), ('actreses', 10577), ('dos', 10578), ('snugling', 10579), ('syncs', 10580), ('witunes', 10581), ('eyeapealing', 10582), ('glaser', 10583), ('cala', 10584), ('quotweinfestquot', 10585), ('yayz', 10586), ('comented', 10587), ('fliter', 10588), ('coincidently', 10589), ('afriad', 10590), ('nav', 10591), ('liquour', 10592), ('reactionary', 10593), ('roping', 10594), ('betaread', 10595), ('creping', 10596), ('calyx', 10597), ('pues', 10598), ('chiquita', 10599), ('palawan', 10600), ('superreflective', 10601), ('arik', 10602), ('orbitsgravitymonspace', 10603), ('explorationgalaxyexoplanetsuniverselife', 10604), ('earthidea', 10605), ('godsreligionsphilosophymorality', 10606), ('magout', 10607), ('skiped', 10608), ('pinkish', 10609), ('experimental', 10610), ('airsoft', 10611), ('bonding', 10612), ('knot', 10613), ('potuguese', 10614), ('wowzers', 10615), ('retired', 10616), ('absent', 10617), ('spat', 10618), ('fractured', 10619), ('growth', 10620), ('jag', 10621), ('alternator', 10622), ('eastwod', 10623), ('3hours', 10624), ('sumtimes', 10625), ('postcrash', 10626), ('indexquot', 10627), ('filin', 10628), ('macas', 10629), ('petition', 10630), ('childish', 10631), ('howser', 10632), ('hampstead', 10633), ('constituency', 10634), ('quotgrape', 10635), ('kontaktquot', 10636), ('ninah', 10637), ('arsed', 10638), ('understanding', 10639), ('paragraph', 10640), ('ilost', 10641), ('iapreciate', 10642), ('faq', 10643), ('pius', 10644), ('dias', 10645), ('quotsex', 10646), ('firequot', 10647), ('spongebobs', 10648), ('distraught', 10649), ('dale', 10650), ('privilege', 10651), (\"josie's\", 10652), ('procreate', 10653), ('swat', 10654), ('proverbs', 10655), ('62023', 10656), ('colinson', 10657), ('lenys', 10658), ('decsions', 10659), ('lapytop', 10660), ('matew', 10661), ('mcconaughey', 10662), ('smexy', 10663), ('marlito', 10664), ('novaliches', 10665), ('2dai', 10666), ('dai', 10667), ('uktv', 10668), ('tomro', 10669), ('groty', 10670), ('hoylake', 10671), (\"o'charleys\", 10672), ('wfaith', 10673), ('birfday', 10674), ('pixabt', 10675), ('ubut', 10676), ('buzers', 10677), ('aproves', 10678), ('kakabalik', 10679), ('tarlac', 10680), ('aftie', 10681), ('racker', 10682), ('drinkingantibiotics', 10683), ('whinetwet', 10684), ('yeunglings', 10685), (\"travolta's\", 10686), ('quotgrease', 10687), ('lightningquot', 10688), ('basline', 10689), ('floral', 10690), ('eaten', 10691), ('kyra', 10692), ('sugarlot', 10693), ('nesquik', 10694), ('unsure', 10695), ('faz', 10696), ('deland', 10697), ('18,0', 10698), ('moines', 10699), ('tdwp', 10700), ('galstones', 10701), ('unitedogs', 10702), ('quotadorablequot', 10703), ('deforestation', 10704), ('hi5', 10705), ('sester', 10706), ('momaz', 10707), ('theo', 10708), ('omega', 10709), ('movein', 10710), ('relise', 10711), ('quotarest', 10712), ('quoth', 10713), ('1n1quot', 10714), ('interstate', 10715), ('ridiculousnes', 10716), ('benicks', 10717), ('holga', 10718), ('signups', 10719), ('charmer', 10720), ('chiangmai', 10721), ('loy', 10722), ('krathong', 10723), ('quotdamnquot', 10724), ('gusying', 10725), ('bourbon', 10726), ('zeitgeist', 10727), ('clen', 10728), ('smashing', 10729), ('midsong', 10730), ('mimiron', 10731), ('hardmode', 10732), (\"max's\", 10733), ('kila', 10734), ('lavadora', 10735), ('dao', 10736), ('inlawing', 10737), ('sumshin', 10738), ('quottru', 10739), ('calingquot', 10740), ('sympathise', 10741), ('sunshinelots', 10742), ('vit', 10743), ('jacqueline', 10744), ('wilson', 10745), ('cbc', 10746), ('bwm', 10747), ('quotfavesquot', 10748), ('electroclasical', 10749), ('nikmis', 10750), ('toser', 10751), ('firday', 10752), (\"lot's\", 10753), ('pending', 10754), ('harleton', 10755), ('ronaldo', 10756), ('103', 10757), ('930a730p', 10758), ('geranium', 10759), ('nvrmind', 10760), ('710', 10761), ('steviej', 10762), ('microsize', 10763), ('breakdown', 10764), ('120am', 10765), ('slepcrazines', 10766), ('proven', 10767), ('quotwanting', 10768), ('panvel', 10769), ('ese', 10770), ('sinhalenfos', 10771), ('ep2', 10772), (\"crew's\", 10773), ('discusing', 10774), ('payingitforward', 10775), ('twinz', 10776), ('goda', 10777), ('salman', 10778), ('munir', 10779), ('grasp', 10780), ('redi', 10781), ('exterminator', 10782), ('ghostwhisperer', 10783), ('morninq', 10784), ('stint', 10785), ('pelericious', 10786), ('tempat', 10787), ('apa', 10788), ('yang', 10789), ('cocok', 10790), ('jupiter', 10791), ('seru', 10792), ('quotsuicidesquot', 10793), ('siky', 10794), ('vernae', 10795), ('l8rs', 10796), ('sonetime', 10797), ('invitw', 10798), ('hercules', 10799), ('elvira', 10800), ('weiters', 10801), ('sarahmarie', 10802), ('beb', 10803), ('opsgtlt', 10804), ('playmate', 10805), ('pelangi', 10806), ('hotcold', 10807), ('dumby', 10808), ('martina', 10809), ('mcbride', 10810), ('workies', 10811), ('slepines', 10812), ('hunger', 10813), ('comunifuckingcation', 10814), ('carseats', 10815), ('maron', 10816), ('quotsongs', 10817), ('janequot', 10818), ('atachment', 10819), ('kiny', 10820), ('riplt', 10821), ('kobold', 10822), ('quarterly', 10823), ('helpfuly', 10824), ('instore', 10825), ('rockaway', 10826), ('roc', 10827), (\"wit'chu\", 10828), ('relocate', 10829), ('anywayz', 10830), ('critic', 10831), ('taltal', 10832), ('aol', 10833), ('alredy', 10834), ('interact', 10835), ('bustin', 10836), ('consti', 10837), ('practicum', 10838), ('fotoschol', 10839), ('handwrite', 10840), ('myseld', 10841), ('lrc', 10842), ('ena', 10843), ('kodumai', 10844), ('idhu', 10845), ('akisforjersey', 10846), ('450', 10847), ('laying', 10848), ('melisaleah', 10849), ('sigma', 10850), ('bathgate', 10851), ('groundwork', 10852), ('lusting', 10853), ('kirin', 10854), ('metamorph', 10855), (\"rick's\", 10856), ('bew', 10857), ('muglespace', 10858), ('cl', 10859), ('dilate', 10860), ('2ft', 10861), ('laud', 10862), ('wedin', 10863), ('spikecar', 10864), ('canabis', 10865), (\"drew's\", 10866), ('ffs', 10867), ('s0ulja', 10868), ('b0y', 10869), ('quotsoulja', 10870), ('emquot', 10871), ('recipes', 10872), ('johno', 10873), ('synopsis', 10874), ('hubgay', 10875), ('listenening', 10876), ('aspirin', 10877), ('waft', 10878), ('papaw', 10879), ('similarity', 10880), (\"by'al\", 10881), ('grimestoper', 10882), ('kunguma', 10883), ('povum', 10884), ('konjuma', 10885), ('puravum', 10886), ('cinematography', 10887), ('readtenboksduringthesumer', 10888), ('wowp', 10889), ('scala', 10890), ('quotresponsibilityquot', 10891), ('centraleastern', 10892), ('caspian', 10893), ('mathews', 10894), ('quotstay', 10895), ('leavequot', 10896), ('quotcrushquot', 10897), ('celebrated', 10898), ('8k', 10899), ('btwen', 10900), ('freu', 10901), ('frh', 10902), ('typo', 10903), ('re5', 10904), ('overboard', 10905), ('pumpkin', 10906), ('hapeh', 10907), ('faulty', 10908), ('existent', 10909), ('zenjar', 10910), ('sucks', 10911), ('eyecandy', 10912), ('stripclub', 10913), ('whers', 10914), ('nevar', 10915), ('rosary', 10916), ('quotgeting', 10917), ('knowquot', 10918), ('georgetown', 10919), ('invoice', 10920), ('famz', 10921), ('controler', 10922), ('lakoda', 10923), ('mrijuana', 10924), ('latinlt', 10925), ('sowey', 10926), ('unmaried', 10927), ('8521589', 10928), ('richele', 10929), ('sucubus', 10930), ('bluesfabulous', 10931), ('mailinglist', 10932), ('carparks', 10933), ('muay', 10934), ('dentists', 10935), ('quotmumquot', 10936), ('atkins', 10937), ('pretie', 10938), ('espensive', 10939), ('bearfot', 10940), ('quotobservationaly', 10941), ('insightfulquot', 10942), (\"cream's\", 10943), ('celina', 10944), ('uhp', 10945), ('husb', 10946), ('cert', 10947), ('redit', 10948), ('zombiemaking', 10949), ('twepsland', 10950), ('ranga', 10951), ('preachery', 10952), ('blackpol', 10953), ('wolfram', 10954), ('cuil', 10955), ('lilestrm', 10956), ('winksy', 10957), ('poisonous', 10958), ('pelets', 10959), ('yums', 10960), ('tes', 10961), ('sodmg', 10962), ('bosh', 10963), ('freshly', 10964), ('journo', 10965), ('tart', 10966), ('lovatoback', 10967), ('lovatobehind', 10968), ('grandady', 10969), (\"pc's\", 10970), ('ungrateful', 10971), ('aquestionwhy', 10972), ('6k', 10973), ('cactus', 10974), ('dmb', 10975), (\"presidente's\", 10976), ('ancient', 10977), ('kc910', 10978), ('touchscren', 10979), (\"bride's\", 10980), ('quotclothes', 10981), ('apartquot', 10982), ('scholcolege', 10983), ('felz', 10984), ('entertained', 10985), ('gameresearching', 10986), (\"aracheologist's\", 10987), ('pixiebob', 10988), ('smoky', 10989), ('kmart', 10990), ('gpgmail', 10991), ('modle', 10992), ('bokings', 10993), ('2twiter', 10994), ('depres', 10995), ('motherinlaw', 10996), ('ltalmost', 10997), ('spokane', 10998), ('thui', 10999), ('tomorw', 11000), ('electrik', 11001), ('yeahs', 11002), ('softshock', 11003), ('scriptgirl', 11004), ('tana', 11005), ('wilpaginate', 11006), ('steigy', 11007), ('postponed', 11008), ('afganistan', 11009), ('finished', 11010), ('4lakers', 11011), ('grid', 11012), ('iqbal', 11013), ('beato', 11014), ('quotemergencyquot', 11015), ('bmx', 11016), ('burgas', 11017), ('careoke', 11018), ('bwahahahahahahaha', 11019), ('sandbox', 11020), ('autoreturn', 11021), ('beastie', 11022), ('pew', 11023), ('phasers', 11024), ('808', 11025), ('leaky', 11026), ('faucet', 11027), ('jailbroke', 11028), ('tabz', 11029), (\"jos'd\", 11030), (\"prof's\", 11031), ('monte', 11032), ('cristo', 11033), ('yardhouse', 11034), ('sape', 11035), ('dijual', 11036), ('365days', 11037), ('rpers', 11038), ('boak', 11039), ('blader', 11040), (\"y'know\", 11041), ('dax', 11042), ('quotravenclawquot', 11043), ('milerz', 11044), ('bokmarked', 11045), ('ouvindo', 11046), ('dreamsquot', 11047), ('melhor', 11048), ('nunca', 11049), ('existiu', 11050), ('pra', 11051), ('comear', 11052), ('lcd', 11053), ('inix', 11054), ('thermal', 11055), ('75c', 11056), ('238', 11057), ('iphoneipod', 11058), ('trekyquot', 11059), ('criado', 11060), ('spb', 11061), ('quotmust', 11062), ('havequot', 11063), ('procrastinator', 11064), ('ceasar', 11065), ('condre', 11066), ('munich', 11067), ('postrock', 11068), ('kalo', 11069), ('uda', 11070), ('nyerah', 11071), ('awal', 11072), ('fatfingered', 11073), ('babylove', 11074), ('homenagem', 11075), ('ao', 11076), ('spons', 11077), ('hafiz', 11078), ('uhmygawd', 11079), ('snops', 11080), ('gtgs', 11081), ('quotgamer', 11082), ('ida', 11083), ('euhm', 11084), ('musicans', 11085), ('legion', 11086), (\"t'day\", 11087), ('tmro', 11088), ('excitin', 11089), ('simplify', 11090), ('enquiry', 11091), ('xslimer', 11092), ('probaly', 11093), ('klenex', 11094), ('ughcold', 11095), ('dank', 11096), ('icebox', 11097), ('amcalie', 11098), ('situps', 11099), ('peckish', 11100), ('recolouring', 11101), ('antitwitering', 11102), ('quotlolol', 11103), ('originalohshitquot', 11104), ('701', 11105), ('quotunecesary', 11106), ('anxietyquot', 11107), ('gibs', 11108), ('fma', 11109), ('celebritytwet', 11110), ('4more', 11111), ('tags', 11112), ('phonograph', 11113), ('apm', 11114), ('wlan', 11115), ('gu', 11116), ('formaly', 11117), ('gus', 11118), ('bekah', 11119), ('wodburn', 11120), ('loses', 11121), ('motivateddeterminedwanabe', 11122), ('bni', 11123), ('uy', 11124), ('kale', 11125), ('mcphe', 11126), ('sxyhrlygrl', 11127), ('excedrine', 11128), (\"lipton's\", 11129), ('wayland', 11130), ('depite', 11131), ('iznt', 11132), ('swirly', 11133), ('mckena', 11134), ('quotdietsquot', 11135), ('intentando', 11136), ('intentarlo', 11137), ('tails', 11138), ('youself', 11139), ('carnivalsofparis', 11140), ('mcmanus', 11141), ('dalden', 11142), ('oficials', 11143), ('avihawt', 11144), ('blockparty', 11145), ('woth', 11146), ('colins', 11147), ('fatal', 11148), ('cyclist', 11149), ('boatingsongwriting', 11150), ('quotreply', 11151), ('acents', 11152), ('oversleping', 11153), ('gracie', 11154), ('drunkbowling', 11155), ('adulthod', 11156), ('ringin', 11157), ('adieu', 11158), ('bham', 11159), ('motorola', 11160), ('garner', 11161), ('creditcardsized', 11162), ('unravel', 11163), ('ibprofen', 11164), ('paracetemol', 11165), ('codeine', 11166), ('quotbles', 11167), ('stonehenge', 11168), ('nataliaflewel', 11169), ('screwd', 11170), ('buh', 11171), ('believin', 11172), ('eficiently', 11173), ('begar', 11174), ('bute', 11175), ('colerbone', 11176), ('drils', 11177), ('walkman', 11178), ('wap', 11179), ('zur', 11180), ('aftershowparty', 11181), ('pandi', 11182), ('iamp', 11183), ('domina', 11184), ('ofend', 11185), ('rockstars', 11186), ('turnaround', 11187), ('frameworks', 11188), ('framework', 11189), (\"raferty's\", 11190), ('cand', 11191), ('twtad', 11192), ('paws', 11193), ('quottigerquot', 11194), ('indefinitely', 11195), ('tynisha', 11196), ('mchale', 11197), ('puyalup', 11198), ('snugled', 11199), ('trackbal', 11200), ('rsi', 11201), ('sunys', 11202), ('canyon', 11203), ('gogol', 11204), ('bordelo', 11205), ('civilization', 11206), ('lovliest', 11207), ('2quot', 11208), ('corset', 11209), ('matalatine', 11210), ('cyberspace', 11211), ('promoing', 11212), (\"whitney's\", 11213), ('spedo', 11214), ('paranoif', 11215), ('criple', 11216), ('twizler', 11217), ('rolyn', 11218), ('719', 11219), ('fodmoney', 11220), ('salmon', 11221), ('farking', 11222), ('mypowerbokg', 11223), ('4rip', 11224), ('noy', 11225), ('hips', 11226), ('imensely', 11227), ('romatic', 11228), ('gagles', 11229), ('comuters', 11230), ('squish', 11231), ('frequently', 11232), ('706', 11233), (\"tafy's\", 11234), ('whur', 11235), ('redwod', 11236), ('dayan', 11237), ('wadge', 11238), ('gor', 11239), ('oripei', 11240), ('waldoquot', 11241), ('ckcquot', 11242), ('naini', 11243), ('2my', 11244), ('snt', 11245), ('multimedia', 11246), ('weigly', 11247), ('wekendquot', 11248), ('gutah', 11249), ('minstrel', 11250), ('dupe', 11251), ('throte', 11252), ('2dayweatherwise', 11253), ('quotmonicaquot', 11254), (\"anto's\", 11255), ('granyquotthe', 11256), ('suburbia', 11257), ('fisnihsed', 11258), ('yesertday', 11259), ('minging', 11260), ('quotsuprisedquot', 11261), ('resits', 11262), ('totem', 11263), ('pwety', 11264), ('traceycakes', 11265), ('yeahnes', 11266), ('numpy', 11267), ('manipulate', 11268), ('uncertainty', 11269), ('complaining', 11270), ('swined', 11271), ('macabes', 11272), ('burlesque', 11273), ('propelerheads', 11274), ('repo', 11275), ('joburg', 11276), ('lanky', 11277), ('wopity', 11278), ('slurpe', 11279), ('rolercoasters', 11280), ('multistorey', 11281), ('arizard', 11282), ('sumy', 11283), ('electronics', 11284), ('frist', 11285), ('lader', 11286), ('colapse', 11287), ('backbum', 11288), ('foked', 11289), ('lates', 11290), ('bufy', 11291), ('s1', 11292), ('1,2', 11293), ('6,7', 11294), ('rhinitis', 11295), ('bh2', 11296), ('oficialshew', 11297), ('mispronounce', 11298), ('kto', 11299), ('houstatlantavegas', 11300), ('2837', 11301), ('trainstubes', 11302), ('bkuz', 11303), ('jokein', 11304), ('bwt', 11305), ('somethn', 11306), ('unforunately', 11307), ('godmorningnight', 11308), ('folowyourdreamsandtheywilcometrue', 11309), ('drea', 11310), ('boubous', 11311), ('healingslep', 11312), ('ticon', 11313), ('curtis', 11314), ('frehugs', 11315), ('charmingly', 11316), ('urs', 11317), ('bwahaha', 11318), ('keyla', 11319), ('janice', 11320), ('acountsand', 11321), ('breathing', 11322), ('believing', 11323), ('lostampfound', 11324), ('expedite', 11325), ('geksonaplane', 11326), ('nonmothers', 11327), ('thoes', 11328), ('bridezila', 11329), ('mathematica', 11330), ('friendorfolow', 11331), ('noctwetup', 11332), ('hugin', 11333), ('bhs', 11334), ('lovelovelove', 11335), ('overture', 11336), ('forgets', 11337), ('epsom', 11338), ('macedonia', 11339), (\"grandmother's\", 11340), ('locket', 11341), ('polarash', 11342), ('butocks', 11343), ('atenition', 11344), ('afection', 11345), ('aspect', 11346), ('eyestight', 11347), ('visite', 11348), ('scuba', 11349), ('gab', 11350), ('rian', 11351), ('staden', 11352), ('bobi', 11353), ('ilse', 11354), ('rochele', 11355), ('nedquot', 11356), ('quotcater', 11357), (\"christa's\", 11358), ('househunt', 11359), ('richardson', 11360), ('blighty', 11361), ('brightnes', 11362), ('insanedefaults', 11363), ('rymed', 11364), ('bouta', 11365), ('vacuming', 11366), ('meghan', 11367), ('quotfquot', 11368), (\"macbok's\", 11369), ('recharger', 11370), ('pratchet', 11371), ('blackberymesenger', 11372), (\"tmobile's\", 11373), ('fraser', 11374), ('superawesome', 11375), ('yeaup', 11376), ('indulge', 11377), ('thicke', 11378), ('tantra', 11379), ('kirki', 11380), ('coty', 11381), ('athletics', 11382), ('cramps', 11383), (\"kil't\", 11384), ('spineli', 11385), ('beatiful', 11386), ('copycat', 11387), ('knockin', 11388), ('ahahay', 11389), ('kanoa', 11390), ('wutz', 11391), ('emai', 11392), ('638', 11393), ('025', 11394), ('evenin', 11395), ('quotat', 11396), ('nitequot', 11397), ('quotsomewherequot', 11398), ('naivety', 11399), ('ltone', 11400), ('befin', 11401), ('cait', 11402), ('mody', 11403), ('interwebz', 11404), ('imtetsting', 11405), ('peyton', 11406), ('geking', 11407), ('samie', 11408), ('anpyimg', 11409), ('omw', 11410), ('lifechanging', 11411), ('unveiling', 11412), ('lr', 11413), ('twetmemes', 11414), ('blesing', 11415), ('influential', 11416), ('lawrence', 11417), ('buckhead', 11418), ('sha', 11419), ('fcpmacbok', 11420), ('1986', 11421), ('miscariage', 11422), ('reteling', 11423), ('saskaton', 11424), ('revel', 11425), ('brety', 11426), ('pms', 11427), ('maverick', 11428), ('suckas', 11429), ('funily', 11430), ('voiceover', 11431), ('druidry', 11432), ('dele', 11433), ('woeiwoeiwoei', 11434), ('structr', 11435), ('lwr', 11436), ('mimi', 11437), ('southwest', 11438), ('preboard', 11439), ('bohoho', 11440), ('janesa', 11441), ('13gigs', 11442), ('ihavent', 11443), ('finagle', 11444), ('thepet', 11445), ('15pm', 11446), ('monthslt', 11447), ('anberlin', 11448), ('chiping', 11449), ('notch', 11450), ('cyalater', 11451), ('gahd', 11452), ('imem', 11453), ('starfire', 11454), ('pui', 11455), ('ascultat', 11456), ('topul', 11457), ('bogdan', 11458), ('quotbutoanequot', 11459), ('este', 11460), ('neckshoulderback', 11461), ('supastition', 11462), ('openbox', 11463), ('casio', 11464), ('parkcafe', 11465), ('hasbro', 11466), ('shunt', 11467), ('28deg', 11468), (\"grandpa's\", 11469), ('gasx', 11470), ('quotnudgequot', 11471), ('shelving', 11472), ('frc', 11473), ('pcola', 11474), ('mariner', 11475), ('twitskies', 11476), ('proflowers', 11477), ('brotherinlaw', 11478), ('weirdly', 11479), ('frenchies', 11480), ('precedent', 11481), ('doki', 11482), ('phl', 11483), ('stupor', 11484), ('2ce', 11485), ('sl', 11486), ('zombiepix', 11487), ('eraser', 11488), ('againmiley', 11489), ('idiotatmilanq', 11490), ('frankwhyte', 11491), ('guarante', 11492), ('quotpurplequot', 11493), ('writin', 11494), ('quotstrange', 11495), ('blatantly', 11496), ('rememberquot', 11497), ('shortbread', 11498), ('yir', 11499), ('nicley', 11500), ('apraising', 11501), ('enhance', 11502), ('jackes', 11503), ('movieing', 11504), ('anew', 11505), ('telstra', 11506), ('teleco', 11507), ('redskin', 11508), ('kk', 11509), ('oje', 11510), ('stairs', 11511), ('pbp', 11512), ('bpd', 11513), ('joykil', 11514), ('agregate', 11515), ('davedays', 11516), (\"phd's\", 11517), ('ahahahahahahahaha', 11518), ('statuses', 11519), ('standstil', 11520), ('twtrg', 11521), ('quotgren', 11522), ('reces', 11523), ('bigtime', 11524), ('unf', 11525), ('n97', 11526), ('quotcanot', 11527), ('extends', 11528), ('hyderabad', 11529), ('mimic', 11530), (\"r's\", 11531), ('notify', 11532), ('4rom', 11533), ('breathes', 11534), ('nicecoperating', 11535), ('ec2', 11536), ('bwarg', 11537), ('terase', 11538), ('mtl', 11539), ('artery', 11540), ('hagen', 11541), ('daz', 11542), ('lmbo', 11543), (\"cody's\", 11544), ('realale', 11545), ('discern', 11546), ('quotyeah', 11547), ('blowjobsquot', 11548), ('barkley', 11549), ('lawnmower', 11550), ('ahs', 11551), ('wonly', 11552), ('cockroach', 11553), ('harlow', 11554), ('peney', 11555), ('francais', 11556), ('nuance', 11557), ('fundamental', 11558), ('steping', 11559), ('soapbox', 11560), ('chroma', 11561), ('cumulus', 11562), ('omigodnes', 11563), ('bep', 11564), (\"marx's\", 11565), ('nauseatingly', 11566), ('spcn', 11567), ('horoscope', 11568), ('r20', 11569), ('2l', 11570), ('warsquot', 11571), ('padster', 11572), ('livenation', 11573), ('flatworld', 11574), ('fiftythousand', 11575), (\"laurie's\", 11576), ('haystack', 11577), ('twedles', 11578), ('weknd', 11579), ('stereotypical', 11580), ('legitimate', 11581), ('counterfolow', 11582), ('welnes', 11583), ('untwit', 11584), ('ashland', 11585), ('scholarship', 11586), ('rygegrej', 11587), ('dieu', 11588), ('chapman', 11589), ('amandas', 11590), ('1245pm', 11591), ('cervical', 11592), ('tinfoil', 11593), ('beachbal', 11594), ('atx', 11595), ('twiterbgt', 11596), ('norfolk', 11597), ('div', 11598), ('gog', 11599), ('ceo', 11600), ('thinksm', 11601), ('quothis', 11602), ('viewquot', 11603), ('greatful', 11604), ('keane', 11605), ('hwy', 11606), ('cwack', 11607), ('firm', 11608), ('burfday', 11609), ('explicitly', 11610), ('fraktastic', 11611), ('zoidberg', 11612), ('asist', 11613), ('swam', 11614), ('idiotic', 11615), ('bufon', 11616), ('arbit', 11617), ('inerchild', 11618), ('cloning', 11619), ('corps', 11620), ('gangstar', 11621), ('exgirl', 11622), ('67pm', 11623), ('1386am', 11624), ('puertorican', 11625), ('lightquot', 11626), ('darl', 11627), ('formalstretalternate', 11628), ('wakeboarding', 11629), ('underpants', 11630), ('cano', 11631), ('slepnow', 11632), ('aime', 11633), ('lave', 11634), ('865', 11635), (\"shriya's\", 11636), ('zomed', 11637), ('miling', 11638), ('tigerheat', 11639), ('quotuser', 11640), ('hamburg', 11641), ('detlev', 11642), ('fischer', 11643), ('acesibility', 11644), ('bitv', 11645), ('testquot', 11646), ('changos', 11647), ('sirve', 11648), ('mta', 11649), ('marque', 11650), ('123,243', 11651), ('342', 11652), ('weatherman', 11653), ('6p7p', 11654), ('815p', 11655), ('weathermenrneveright', 11656), ('remis', 11657), ('protofuries', 11658), ('acen', 11659), ('scoundrels', 11660), (\"sparty's\", 11661), ('mcdonel', 11662), ('jfpl', 11663), ('apush', 11664), ('automate', 11665), ('porndownloader', 11666), ('youporn', 11667), ('nyayhahahah', 11668), ('cj', 11669), (\"store's\", 11670), ('mercenary', 11671), ('strek', 11672), ('spahkly', 11673), ('nako', 11674), (\"quotsombody's\", 11675), ('38th', 11676), ('mwaha', 11677), ('sacrilege', 11678), ('pythonkings', 11679), ('nl', 11680), ('iwish', 11681), ('slurpes', 11682), ('lastminute', 11683), ('weirton', 11684), ('tipy', 11685), ('wv', 11686), ('4day', 11687), ('stakc', 11688), ('lnd', 11689), ('valerie', 11690), ('aporkalype', 11691), ('cockney', 11692), ('wodland', 11693), ('tolbar', 11694), ('garnier', 11695), ('drugstore', 11696), ('girlfriendquot', 11697), ('quotinquot', 11698), ('balrom', 11699), ('al4web', 11700), ('tada', 11701), ('godgiven', 11702), ('terorists', 11703), ('ritualistic', 11704), ('regional', 11705), ('chesebread', 11706), ('bater', 11707), ('bagle', 11708), ('halfpony', 11709), ('halfmonkey', 11710), ('bitercrek', 11711), ('hopnoxious', 11712), ('swetgras', 11713), ('mnet', 11714), ('frensfrm', 11715), ('2gather', 11716), ('soar', 11717), ('involved', 11718), ('deathfic', 11719), ('bryantampamphaile', 11720), ('julyish', 11721), ('nachos', 11722), ('quotguys', 11723), ('suitsquot', 11724), ('comiccon', 11725), ('yups', 11726), ('unfolowers', 11727), ('psprint', 11728), ('120now', 11729), ('fodshoping', 11730), ('gng', 11731), ('fortuna', 11732), ('heroic', 11733), ('mortify', 11734), ('bahahaha', 11735), ('weirdnes', 11736), ('acomplishments', 11737), (\"cyrus's\", 11738), ('friendie', 11739), ('anoyedyet', 11740), ('instrumentalist', 11741), (\"vocalist's\", 11742), ('heshe', 11743), ('walkathon', 11744), ('favoriteicecream', 11745), ('hakuna', 11746), ('matana', 11747), ('t9r8am', 11748), ('medan', 11749), ('15hours', 11750), ('askin', 11751), (\"msg's\", 11752), ('tanghaling', 11753), ('tapat', 11754), ('alogmo', 11755), ('predeparture', 11756), ('rabid', 11757), ('uny', 11758), ('quotfacetiousquot', 11759), ('quotsarcastic', 11760), ('chatrom', 11761), (\"cok's\", 11762), ('inflame', 11763), ('isafailure', 11764), ('comunicated', 11765), (\"mvc's\", 11766), ('cad', 11767), ('sanjaya', 11768), ('aspirate', 11769), ('ocuring', 11770), ('radianborge', 11771), ('padre', 11772), ('pamilya', 11773), ('borgie', 11774), ('blogrol', 11775), ('moreton', 11776), ('stropy', 11777), ('procuts', 11778), ('grer', 11779), ('actorres', 11780), ('1720', 11781), ('hundreth', 11782), ('fwends', 11783), ('rdy', 11784), ('wiloughby', 11785), ('nele', 11786), ('glie', 11787), ('lolding', 11788), ('vilains', 11789), ('clayton', 11790), ('resturant', 11791), ('huckabe', 11792), ('takout', 11793), ('kiokudb', 11794), ('catalyst', 11795), ('hurts', 11796), ('caltrain', 11797), (\"ist's\", 11798), ('isolate', 11799), ('canadians', 11800), ('rhel', 11801), ('bnx', 11802), ('50k', 11803), ('loz', 11804), ('gandhi', 11805), ('surously', 11806), ('hamered', 11807), ('unhok', 11808), ('crony', 11809), ('macs', 11810), ('sadle', 11811), ('herniated', 11812), ('sixten', 11813), ('ingrid', 11814), ('fraking', 11815), ('evp', 11816), ('plese', 11817), ('thriler', 11818), ('pelham', 11819), (\"scot's\", 11820), ('pari', 11821), ('neb', 11822), ('quotdarling', 11823), ('herequotquot', 11824), ('twiterererers', 11825), (\"barakat's\", 11826), ('snapy', 11827), ('contradiction', 11828), ('byshower', 11829), (\"rn's\", 11830), ('kaul', 11831), ('clit', 11832), ('geze', 11833), ('chantelie', 11834), ('rdj', 11835), ('baking', 11836), ('ching', 11837), ('chong', 11838), ('resultsquot', 11839), (\"proctor's\", 11840), ('spazed', 11841), ('fascination', 11842), (\"quothe'dquot\", 11843), ('peks', 11844), ('progresing', 11845), ('landing', 11846), ('howdy', 11847), ('ayoko', 11848), ('ska', 11849), ('everyond', 11850), ('quotsushiquot', 11851), ('hobosluttramp', 11852), ('tpt', 11853), ('fragment', 11854), ('reabsorb', 11855), ('noite', 11856), ('englands', 11857), ('uncones', 11858), (\"rickrol'd\", 11859), ('inlaw', 11860), ('kenedy', 11861), ('reinjured', 11862), ('evelyn', 11863), ('comunications', 11864), ('amtarot', 11865), ('prodigiy', 11866), ('sumar', 11867), ('acenes', 11868), ('quotfind', 11869), ('tenesequot', 11870), ('skimchamp', 11871), (\"anthony's\", 11872), ('leaking', 11873), ('pronoun', 11874), ('trentles', 11875), ('squarespace', 11876), ('fray', 11877), ('vlogs', 11878), ('jljf', 11879), ('anit', 11880), ('arabele', 11881), ('quotedquot', 11882), ('gymampamptaning', 11883), ('posibe', 11884), ('gathering', 11885), ('deary', 11886), ('40k', 11887), ('gamers', 11888), ('journaling', 11889), ('niecesnephews', 11890), ('sandy', 11891), ('bekz', 11892), ('derian', 11893), ('suniest', 11894), (\"gigolo's\", 11895), ('dino', 11896), ('stumpy', 11897), ('vmail', 11898), ('whywhywhy', 11899), ('ucsd', 11900), ('twiterblackbery', 11901), ('roaster', 11902), (\"desktop's\", 11903), ('ketboard', 11904), ('purge', 11905), ('suposedly', 11906), ('gulardi', 11907), ('blt', 11908), ('regarde', 11909), ('tant', 11910), ('atendues', 11911), ('roadtrips', 11912), ('cuzs', 11913), ('kilo', 11914), ('slimy', 11915), ('74', 11916), ('quotquite', 11917), ('cinamin', 11918), ('fotbalers', 11919), ('mahjong', 11920), ('weisheng', 11921), ('donutscomfort', 11922), ('hangz', 11923), ('blare', 11924), ('misadventure', 11925), ('flashcamp', 11926), ('boxing', 11927), ('regularly', 11928), ('masa', 11929), ('waitreses', 11930), ('frebaling', 11931), ('1c', 11932), ('blogrelated', 11933), ('raspberylaced', 11934), ('transmit', 11935), ('aiken', 11936), ('withb', 11937), ('alrer', 11938), ('cheifs', 11939), ('168', 11940), ('serani', 11941), ('putet', 11942), ('boulevard', 11943), ('hind', 11944), ('boardgame', 11945), ('bokchase', 11946), ('lapie', 11947), ('apathy', 11948), ('whasqod', 11949), ('tranlsators', 11950), (\"causin's\", 11951), ('headacheal', 11952), ('inflict', 11953), ('fern', 11954), ('quotpelzer', 11955), ('presentquot', 11956), ('difers', 11957), ('librarykeychainssystem', 11958), ('501', 11959), ('cherios', 11960), ('wahahahaha', 11961), ('hapit', 11962), ('narn', 11963), ('motherdaughters', 11964), ('confusin', 11965), ('twitdroid', 11966), ('understant', 11967), ('extremaly', 11968), ('epson', 11969), (\"twet'n\", 11970), ('quotjonesingquot', 11971), ('pepers', 11972), ('cooperate', 11973), ('clipsepisodes', 11974), ('c4', 11975), ('spelt', 11976), ('gx', 11977), ('giesal', 11978), ('everyhere', 11979), ('cinco', 11980), ('dolores', 11981), ('astop', 11982), ('problematic', 11983), ('finley', 11984), ('alives', 11985), ('exhusband', 11986), ('jamesquot', 11987), ('udnerstand', 11988), ('spontaneouz', 11989), ('pspplurk', 11990), ('swelter', 11991), ('heatish', 11992), ('hefer', 11993), ('youbrokeback', 11994), ('virtua', 11995), ('cleche', 11996), ('bcreative', 11997), ('rafis', 11998), ('rach', 11999), ('molie', 12000), ('biatches', 12001), ('todaythis', 12002), ('afternonnow', 12003), ('ludite', 12004), ('uglyone', 12005), ('otherinbox', 12006), ('earthlink', 12007), ('eventho', 12008), (\"mary's\", 12009), ('wasabi', 12010), ('carlie', 12011), ('quotmagnetism', 12012), ('equilibrium', 12013), ('doberman', 12014), ('pofy', 12015), ('beardburk', 12016), ('keone', 12017), (\"chonie's\", 12018), ('egwhites', 12019), (\"gogle's\", 12020), ('pruney', 12021), ('ampthil', 12022), ('roms', 12023), ('wanabe', 12024), ('protester', 12025), ('quester', 12026), ('sequester', 12027), ('atltwet', 12028), ('justify', 12029), ('curdling', 12030), ('joshstore', 12031), ('joshmobile', 12032), ('godes', 12033), ('cosmetic', 12034), ('lin', 12035), ('comish', 12036), (\"de's\", 12037), ('contemporary', 12038), ('hilariousnes', 12039), ('dreadzone', 12040), ('liferuin', 12041), ('musictrauma', 12042), ('parela', 12043), ('marcia', 12044), ('munchies', 12045), (\"cic's\", 12046), ('acsvxdcbgfn', 12047), ('phoebe', 12048), ('nvd', 12049), ('watchmovieslink', 12050), ('hirigana', 12051), ('uncomfortably', 12052), ('anerexic', 12053), ('twimulations', 12054), ('ignorent', 12055), ('aholes', 12056), ('overturn', 12057), ('egan', 12058), ('misoricesushimochi', 12059), ('esme', 12060), ('selos', 12061), ('tsokay', 12062), ('diba', 12063), ('faithful', 12064), ('loyal', 12065), ('rots', 12066), ('gratification', 12067), ('chuba', 12068), ('livechat', 12069), ('wekdays', 12070), ('msla', 12071), ('395', 12072), ('hungary', 12073), ('qt', 12074), ('bankrol', 12075), ('imaging', 12076), ('wusup', 12077), (\"wut's\", 12078), ('weo', 12079), (\"jay's\", 12080), ('bundy', 12081), ('asimilated', 12082), ('pamphlet', 12083), ('havta', 12084), ('flwing', 12085), ('dismal', 12086), ('girafes', 12087), ('corpus', 12088), ('nagy', 12089), ('mfk', 12090), ('pothole', 12091), ('forese', 12092), ('paswords', 12093), ('grungy', 12094), ('bedali', 12095), ('stemer', 12096), ('6457', 12097), ('bilionth', 12098), ('humous', 12099), (\"dorito's\", 12100), ('biligual', 12101), ('sweatshop', 12102), ('r6', 12103), ('campy', 12104), ('troma', 12105), ('whwha', 12106), ('hacky', 12107), ('awkard', 12108), (\"swift's\", 12109), ('conversating', 12110), ('gd2', 12111), ('gd1', 12112), ('serving', 12113), ('3yo', 12114), ('grogily', 12115), ('mccafe', 12116), ('mcsmothies', 12117), ('arbiter', 12118), ('lof', 12119), ('cagebal', 12120), ('thundering', 12121), ('pinkeye', 12122), ('budgeting', 12123), ('beginings', 12124), ('destination', 12125), ('penies', 12126), ('pengen', 12127), ('nonton', 12128), ('friens', 12129), ('prost', 12130), ('kemang', 12131), ('besok', 12132), ('tapi', 12133), ('bisa', 12134), ('harney', 12135), ('bartender', 12136), ('gesh', 12137), ('boynside', 12138), ('fawxing', 12139), ('crayon', 12140), ('ltcodygt', 12141), ('stoping', 12142), ('twethampton', 12143), ('sug', 12144), ('penance', 12145), ('mackquot', 12146), (\"laptop's\", 12147), ('pady', 12148), ('bouncing', 12149), (\"wav's\", 12150), (\"artist's\", 12151), ('elitecamp', 12152), ('motherfuck', 12153), ('qw', 12154), ('tinker', 12155), ('opensource', 12156), ('virtualbox', 12157), ('ampwin', 12158), ('sade', 12159), ('proby', 12160), ('atrak', 12161), ('defiance', 12162), ('zacie', 12163), ('macboks', 12164), ('shivashankar', 12165), ('spelin', 12166), ('10c', 12167), ('tradewinds', 12168), ('thornberys', 12169), ('suxs', 12170), ('linuxoutlaws', 12171), ('thaw', 12172), ('guardian', 12173), ('playerstation', 12174), ('antcam', 12175), ('humphires', 12176), ('wzup', 12177), ('skylar', 12178), ('quotgrinsquot', 12179), ('marlon', 12180), ('brando', 12181), ('yezir', 12182), ('porch', 12183), ('smudging', 12184), ('mals', 12185), ('craigie', 12186), ('oster', 12187), ('altel', 12188), ('showe', 12189), ('microbe', 12190), ('moral', 12191), ('zapa', 12192), ('dilhole', 12193), ('shawna', 12194), ('damon', 12195), ('phogs', 12196), ('yogaing', 12197), ('gpt', 12198), ('finsih', 12199), ('[person]back', 12200), ('ilinois', 12201), ('modesty', 12202), ('lightening', 12203), ('tsi', 12204), ('160hp', 12205), ('ibod', 12206), (\"popeye's\", 12207), ('freshi', 12208), ('xrays', 12209), ('unstable', 12210), ('esplained', 12211), (\"odo's\", 12212), ('gtgtwhy', 12213), ('testgtgtgtgtgteverytime', 12214), ('alaround', 12215), ('redneck', 12216), ('culed', 12217), ('nsfw', 12218), ('wac', 12219), ('joemo', 12220), ('cple', 12221), ('86', 12222), ('degr', 12223), ('homescholing', 12224), ('lipsynching', 12225), ('dctr', 12226), ('martwo', 12227), ('osx', 12228), ('quotwait', 12229), ('acidente', 12230), ('morningish', 12231), ('designate', 12232), (\"nephew's\", 12233), ('congratuations', 12234), ('quotwithin', 12235), ('milesquot', 12236), ('godaughters', 12237), ('carys', 12238), ('hugely', 12239), ('soaked', 12240), ('sx', 12241), ('introduction', 12242), (\"mimi's\", 12243), ('twitercopytopify', 12244), ('rotfl', 12245), ('ilocos', 12246), ('nueva', 12247), ('ecija', 12248), ('neverquot', 12249), ('decal', 12250), ('rideslt', 12251), ('hyht', 12252), ('fey', 12253), ('30rock', 12254), ('inbruges', 12255), ('relized', 12256), ('reachable', 12257), ('fmfl', 12258), ('troub', 12259), ('i94', 12260), ('cheseburglar', 12261), ('generous', 12262), ('bev', 12263), ('jelz', 12264), ('voltera', 12265), ('mangy', 12266), ('quotdonequot', 12267), ('kyoto', 12268), ('promised', 12269), (\"shater'd\", 12270), ('15am', 12271), ('alphabet', 12272), ('asistantcoknanychaufer', 12273), ('fung', 12274), ('dumpling', 12275), ('boast', 12276), ('puls', 12277), ('anorexic', 12278), ('divshite', 12279), ('arses', 12280), ('familyampfriends', 12281), ('dedicated', 12282), ('friters', 12283), ('unpaid', 12284), ('omgod', 12285), ('tshwane', 12286), ('subliminal', 12287), ('gerald', 12288), ('ofhand', 12289), ('cheaper', 12290), ('caries', 12291), ('instantmesaging', 12292), ('cigar', 12293), ('lampions', 12294), (\"berie's\", 12295), ('orbicule', 12296), ('norwegian', 12297), ('prompt', 12298), ('gothy', 12299), ('poppunk', 12300), ('unblocked', 12301), ('thers', 12302), ('peole', 12303), ('hydes', 12304), ('pasiveagresive', 12305), ('resistant', 12306), ('ltcriesgt', 12307), ('kwijt', 12308), ('pinging', 12309), ('gong', 12310), ('wekebd', 12311), ('tuf', 12312), (\"loraine's\", 12313), ('viendo', 12314), ('ariyan', 12315), ('hamish', 12316), ('reminderthx', 12317), ('lockin', 12318), ('clematis', 12319), ('carina', 12320), ('aplesquot', 12321), ('bravo', 12322), ('impostor', 12323), ('butler', 12324), ('hispanic', 12325), ('hendrix', 12326), ('cosmos', 12327), ('myoh', 12328), ('tarsier', 12329), ('kandi', 12330), ('quotsomethings', 12331), ('bishop', 12332), ('fotc', 12333), ('incapacitating', 12334), ('noch', 12335), ('woche', 12336), ('warten', 12337), ('ucl', 12338), (\"quotcan't\", 12339), ('slepypants', 12340), ('gaby', 12341), ('gotfried', 12342), ('clownin', 12343), ('mainstream', 12344), ('transcription', 12345), ('overheating', 12346), ('kelyn', 12347), ('quotirisquot', 12348), ('savy', 12349), ('92', 12350), ('anonymous', 12351), ('joemar', 12352), ('batan', 12353), ('camiguin', 12354), ('ofcmatesamp', 12355), ('luwas', 12356), ('rereads', 12357), ('spender', 12358), ('bayern', 12359), ('stau', 12360), ('interaction', 12361), ('goers', 12362), ('quotfunquot', 12363), ('nogard', 12364), ('amar', 12365), ('nia', 12366), ('dayton', 12367), ('quotoportinistsquot', 12368), ('kickbut', 12369), ('storyviva', 12370), ('jewel', 12371), ('bozin', 12372), ('lp', 12373), ('quark', 12374), ('yogurting', 12375), (\"mona's\", 12376), ('yoplait', 12377), ('vinylclad', 12378), ('playset', 12379), ('mfr', 12380), ('amish', 12381), ('built', 12382), ('clancy', 12383), ('claments', 12384), ('grandrapids', 12385), ('tasie', 12386), ('trasfusion', 12387), ('seshion', 12388), ('arands', 12389), ('photomedia', 12390), (\"mate's\", 12391), ('hapymothersday', 12392), ('elora', 12393), ('danan', 12394), ('nsw', 12395), ('melbs', 12396), ('yals', 12397), ('ohed', 12398), ('twetversation', 12399), ('plangi', 12400), ('interval', 12401), ('listfind', 12402), ('whitby', 12403), ('gphone', 12404), ('belgrade', 12405), ('gutwrenching', 12406), ('quotup', 12407), ('undernourished', 12408), ('tiday', 12409), ('garageband', 12410), ('r18', 12411), ('getcho', 12412), ('polster', 12413), ('identification', 12414), ('democratic', 12415), ('republican', 12416), ('conviction', 12417), ('charla', 12418), ('grax', 12419), ('gonies', 12420), ('minimize', 12421), ('faketemporary', 12422), ('chantal', 12423), ('becasue', 12424), ('uset', 12425), ('novacaine', 12426), ('fcb', 12427), ('tunapuna', 12428), ('telers', 12429), ('hunchback', 12430), ('defrag', 12431), ('reasembled', 12432), ('spedbumps', 12433), ('quotbuteflies', 12434), ('stomachquot', 12435), ('yun', 12436), ('ohyeah', 12437), ('choregoraphy', 12438), ('melatonin', 12439), ('a12', 12440), ('scameras', 12441), ('catchup', 12442), ('quotduhquot', 12443), ('gad', 12444), ('elmaleh', 12445), ('restaurantone', 12446), ('dukbolgi', 12447), ('reprezentzent', 12448), ('armpit', 12449), ('familias', 12450), ('bahama', 12451), ('tino', 12452), ('jud', 12453), ('vibrator', 12454), ('testrun', 12455), ('invitaiton', 12456), ('survivor', 12457), ('destruction', 12458), ('explains', 12459), ('oframp', 12460), ('diablo', 12461), ('efy', 12462), ('genetics', 12463), ('slug', 12464), (\"w'out\", 12465), ('likewith', 12466), ('forgiveme', 12467), ('homewatching', 12468), ('quothealthifiedquot', 12469), ('streusel', 12470), ('24hours', 12471), ('posiabaly', 12472), ('carefuly', 12473), ('twapy', 12474), ('didja', 12475), ('secondstar', 12476), ('dreamt', 12477), ('gt8d', 12478), ('suprise', 12479), ('johnathan', 12480), ('muchdeserved', 12481), ('horton', 12482), ('urk', 12483), ('10yr', 12484), ('tener', 12485), ('iht', 12486), ('ahar', 12487), ('quothapines', 12488), ('polinatorquot', 12489), ('cominging', 12490), ('unstopable', 12491), ('k4ge', 12492), ('14mph', 12493), ('chelse', 12494), ('amiera', 12495), ('ltufcgt', 12496), ('bushing', 12497), ('signin', 12498), ('amercia', 12499), (\"ane's\", 12500), ('unexpectedly', 12501), ('mason', 12502), ('counsel', 12503), ('hardwod', 12504), ('sarms', 12505), (\"buyer's\", 12506), ('remorse', 12507), ('jordyn', 12508), ('excercise', 12509), ('shemar', 12510), ('arosh', 12511), ('thisk', 12512), ('jayce', 12513), ('oneleterer', 12514), ('comlementary', 12515), ('cybercriminaloverlords', 12516), ('wrestlefest', 12517), ('quothealthy', 12518), ('lifestylequot', 12519), ('soc', 12520), (\"fot's\", 12521), ('quotorganization', 12522), ('itil', 12523), ('failquot', 12524), ('bogah', 12525), ('alton', 12526), ('chalanges', 12527), ('movingcariphone', 12528), ('hypervenilating', 12529), ('chrisete', 12530), (\"michele's\", 12531), ('epiphany', 12532), ('stace', 12533), ('9412tr', 12534), ('cofo', 12535), ('buyer', 12536), ('eau', 12537), ('bacontaco', 12538), ('mushygushy', 12539), ('gushy', 12540), ('neighbourhod', 12541), ('shreveport', 12542), ('bawkmarked', 12543), ('pensioner', 12544), ('smely', 12545), ('cafine', 12546), ('quash', 12547), ('nicola', 12548), ('clubers', 12549), ('mshs', 12550), ('mariel', 12551), ('coatandkay', 12552), ('ecaytrade', 12553), ('unused', 12554), ('840', 12555), ('chosen', 12556), ('facebek', 12557), (\"milow's\", 12558), ('sunstroke', 12559), ('9h', 12560), ('nighter', 12561), ('quotvacationquot', 12562), ('representative', 12563), ('margaret', 12564), ('dunham', 12565), ('buds', 12566), ('wbreakfast', 12567), ('joper', 12568), ('wtheir', 12569), (\"tito's\", 12570), ('prose', 12571), ('awayquot', 12572), ('scratchy', 12573), ('rtwestcoastgal', 12574), ('tagaytay', 12575), ('canasta', 12576), ('airbrushed', 12577), ('buda', 12578), ('hawndog', 12579), ('unbroken', 12580), ('wach', 12581), ('zi', 12582), ('pitsburgh', 12583), ('eater', 12584), ('augh', 12585), ('waled', 12586), (\"woul'd\", 12587), ('aicn', 12588), ('bobie', 12589), ('tiptop', 12590), ('asking', 12591), (\"f'kin\", 12592), (\"beyonce's\", 12593), ('quotsmash', 12594), ('opus', 12595), ('cfi', 12596), ('201th', 12597), ('ilogical', 12598), ('ofiacial', 12599), ('durango', 12600), ('chaperon', 12601), ('surfing', 12602), ('wodchuck', 12603), ('quottbagquot', 12604), ('0430', 12605), ('dt', 12606), ('vlog', 12607), ('boksmags', 12608), ('lifting', 12609), ('pazik', 12610), ('interminable', 12611), ('enormous', 12612), ('chiclit', 12613), ('1246am', 12614), ('sal', 12615), ('chauncey', 12616), ('quotjustquot', 12617), ('linkit', 12618), (\"both's\", 12619), ('mindquot', 12620), ('tec', 12621), ('videomy', 12622), (\"quotcouldn't\", 12623), ('matcuts', 12624), ('umzug', 12625), ('neues', 12626), ('n3d', 12627), ('t0g0', 12628), ('adapter', 12629), ('oftopic', 12630), ('germination', 12631), ('quotfruit', 12632), ('pickingquot', 12633), ('wealthy', 12634), ('ditch', 12635), ('binstruct', 12636), ('mib', 12637), ('bcg', 12638), ('estou', 12639), ('tkd', 12640), ('instructor', 12641), ('opeth', 12642), ('hypocrite', 12643), ('rrated', 12644), ('quotdaft', 12645), ('prickquot', 12646), (\"te's\", 12647), ('croisantmangomeloncofe', 12648), ('frighten', 12649), ('inthe', 12650), ('14yr', 12651), ('whih', 12652), ('misd', 12653), ('warant', 12654), ('ag', 12655), ('2lmao', 12656), ('scholfield', 12657), ('homeskoler', 12658), ('midst', 12659), ('7020m', 12660), ('redsea', 12661), (\"tadpole'no\", 12662), ('sixth', 12663), ('sners', 12664), ('kameisensei', 12665), ('kuso', 12666), ('sponsorship', 12667), ('mixin', 12668), ('thea', 12669), ('baws', 12670), ('bucharest', 12671), ('2010201', 12672), ('venom', 12673), ('edplant', 12674), ('episodesquotes', 12675), ('oficeus', 12676), ('evacuate', 12677), ('payat', 12678), ('midlesbrough', 12679), ('holdem', 12680), ('socket', 12681), ('windsor', 12682), ('comodores', 12683), ('chocolateland', 12684), ('wstocktwits', 12685), ('cluter', 12686), ('jubey', 12687), ('musiciansartists', 12688), ('slured', 12689), ('wrigley', 12690), ('economist', 12691), ('costsavings', 12692), ('imperial', 12693), ('lastnite', 12694), ('vuelven', 12695), ('vv', 12696), ('quesadila', 12697), ('quesadias', 12698), ('unasuming', 12699), ('unpretentious', 12700), ('endearingbecause', 12701), ('coldplay', 12702), ('gel', 12703), ('reorganize', 12704), (\"youre's\", 12705), ('mep', 12706), ('soly', 12707), ('kaze', 12708), ('sdsm', 12709), ('nethack', 12710), ('loservile', 12711), ('yeye', 12712), ('duber', 12713), ('klondike', 12714), ('housequot', 12715), ('mastermind', 12716), ('statesboro', 12717), ('pigies', 12718), ('omegle', 12719), ('cuase', 12720), ('obsesing', 12721), ('soprano', 12722), ('ple', 12723), ('howmany', 12724), ('chocoslam', 12725), (\"dr's\", 12726), ('phaket', 12727), ('aneliese', 12728), ('rommate', 12729), ('docker', 12730), ('fxmylife', 12731), ('cnaterbury', 12732), ('funel', 12733), ('ravish', 12734), ('adwancrd', 12735), ('janey', 12736), ('ape', 12737), ('serverside', 12738), ('motols', 12739), ('exs', 12740), ('3min', 12741), ('achvs', 12742), ('470', 12743), ('cupycake', 12744), ('xxoo', 12745), ('quotfoundquot', 12746), ('muriel', 12747), ('vorderman', 12748), ('interivew', 12749), ('nonbeliever', 12750), ('hving', 12751), ('mamy', 12752), ('singleour', 12753), ('baset', 12754), ('hound', 12755), ('refreshed', 12756), ('parasite', 12757), ('expand', 12758), ('molyneux', 12759), ('widewale', 12760), (\"courduroy'l\", 12761), ('kean', 12762), ('cipriano', 12763), (\"your'e\", 12764), ('sexualmaternal', 12765), ('resco', 12766), ('mobileforms', 12767), ('tolkit', 12768), ('kaki', 12769), ('havelunch', 12770), ('warden', 12771), (\"kirsty's\", 12772), ('quotvampire', 12773), ('nightquot', 12774), ('scarabeo', 12775), ('butbutbut', 12776), ('thatsmee', 12777), ('hairstylist', 12778), ('comiseration', 12779), ('bent', 12780), ('untalented', 12781), ('koda', 12782), ('joyride', 12783), ('pai', 12784), ('whinequot', 12785), ('touque', 12786), ('horified', 12787), ('quotkeithquot', 12788), ('jmccartney', 12789), ('smwhere', 12790), ('quotwhere', 12791), ('garyquot', 12792), ('ticker', 12793), ('manicurist', 12794), ('absoute', 12795), ('frankfurt', 12796), ('mwan', 12797), ('pigment', 12798), ('rewatch', 12799), ('239k', 12800), ('englishquot', 12801), ('britishquot', 12802), ('ilona', 12803), ('charter', 12804), ('sonics', 12805), ('quotleave', 12806), ('piecesquot', 12807), ('wrecker', 12808), ('vnecks', 12809), ('tisha', 12810), ('muahahahahaha', 12811), ('automobile', 12812), ('juan', 12813), ('pelota', 12814), ('envious', 12815), ('longdistance', 12816), ('lifelock', 12817), ('experian', 12818), ('theft', 12819), ('underpriveledged', 12820), ('grounded', 12821), ('ashminov', 12822), ('chrisy', 12823), ('winshit', 12824), ('rachmaninof', 12825), ('esploder', 12826), ('yumay', 12827), ('rachelampi', 12828), ('yezsire', 12829), ('ilok', 12830), ('butcking', 12831), ('gdnight', 12832), ('otay', 12833), ('rocketslakers', 12834), ('dionusia', 12835), ('cuong', 12836), ('docent', 12837), ('hvng', 12838), ('aftrn', 12839), ('caks', 12840), ('tude', 12841), ('dudetes', 12842), ('pers', 12843), ('onward', 12844), ('upwards', 12845), ('twetbeaks', 12846), ('kates', 12847), ('afty', 12848), ('nomintated', 12849), ('mesaj', 12850), ('eroare', 12851), ('forbidenyou', 12852), ('3180758', 12853), ('jpg', 12854), ('ghicit', 12855), ('voil', 12856), ('melon', 12857), ('schade', 12858), ('tvadict', 12859), ('baker', 12860), ('ilycecily', 12861), ('tarblack', 12862), ('promenade', 12863), ('blumenthal', 12864), ('minty', 12865), ('rcw', 12866), ('foa', 12867), ('hodies', 12868), ('elk', 12869), ('ltjxgt', 12870), ('whataday', 12871), ('watcing', 12872), ('courto', 12873), ('isa', 12874), ('981', 12875), ('venky', 12876), ('pachad', 12877), ('tribles', 12878), ('emailin', 12879), ('2listen', 12880), ('fests', 12881), ('townsvile', 12882), ('crapier', 12883), ('bwahahaha', 12884), ('feria', 12885), ('lasercut', 12886), (\"it'sakey\", 12887), ('tirednes', 12888), ('coudl', 12889), ('starbuks', 12890), ('lolylt', 12891), ('dyededed', 12892), (\"shakti's\", 12893), ('unwel', 12894), ('twekdeck', 12895), ('pigys', 12896), ('banging', 12897), ('academicaly', 12898), ('realx', 12899), ('thatd', 12900), ('cov', 12901), ('vedanta', 12902), ('quotchit', 12903), ('hapensquot', 12904), ('martabak', 12905), ('tempting', 12906), ('fatening', 12907), ('tucking', 12908), ('omgah', 12909), ('crepering', 12910), ('rivoli', 12911), ('adlounge', 12912), ('bej', 12913), ('semangi', 12914), ('chrysler', 12915), ('comunist', 12916), ('agfest', 12917), ('286', 12918), ('compaq', 12919), ('todle', 12920), ('pip', 12921), ('chamomilethe', 12922), ('2met', 12923), ('rhyder', 12924), ('timeframe', 12925), ('ahahahah', 12926), ('aprecifuckinate', 12927), (\"somebody's\", 12928), ('softly', 12929), ('potrait', 12930), ('profound', 12931), ('blinky', 12932), ('stela', 12933), ('venti', 12934), ('trekie', 12935), ('rulz', 12936), ('mir', 12937), ('leid', 12938), ('ltr', 12939), ('dundas', 12940), ('duchovny', 12941), ('youo', 12942), ('pik', 12943), ('becuase', 12944), ('halibut', 12945), ('jalepenos', 12946), ('nunguin', 12947), ('asih', 12948), ('ovechkin', 12949), ('pety', 12950), ('heartbreaker', 12951), ('aston', 12952), ('quantum', 12953), ('quotutrecht', 12954), ('runquot', 12955), ('recourse', 12956), ('aty', 12957), ('flovers', 12958), ('mucky', 12959), ('003', 12960), ('matching', 12961), ('mea', 12962), ('cbd', 12963), ('mtub', 12964), ('cmon', 12965), ('meaner', 12966), ('tlking', 12967), ('cokey', 12968), ('manalapan', 12969), ('marlboro', 12970), ('lococrime', 12971), ('cmdq', 12972), ('quotpackingquot', 12973), ('semingly', 12974), ('tanapolis', 12975), ('ecpm', 12976), ('whatsup', 12977), ('monroe', 12978), ('frekin', 12979), ('loudquietloud', 12980), ('santiago', 12981), ('lovering', 12982), ('swede', 12983), ('thedailyshow', 12984), ('athough', 12985), ('maternal', 12986), ('euphamism', 12987), ('val', 12988), ('amanzimtoti', 12989), ('gafigan', 12990), ('wordsday', 12991), ('wordshour', 12992), ('wordsminute', 12993), ('junt', 12994), ('401', 12995), ('bagage', 12996), ('twiterlandz', 12997), ('grl', 12998), ('betie', 12999), ('lifts', 13000), ('crazierquot', 13001), ('horti', 13002), ('ankile', 13003), ('fucked', 13004), ('skating', 13005), ('saini', 13006), ('dunhams', 13007), ('keging', 13008), ('jetsons', 13009), ('finltstones', 13010), ('canad', 13011), ('thaz', 13012), ('quotbitesquot', 13013), ('antiitch', 13014), ('helyeah', 13015), ('103ffevered', 13016), ('prescholer', 13017), ('quotsome', 13018), ('wonderfulquot', 13019), ('grovin', 13020), ('malo', 13021), (\"workwek's\", 13022), ('bravotv', 13023), ('voyage', 13024), ('mcaran', 13025), ('cyah', 13026), ('jarid', 13027), ('colected', 13028), ('hectiv', 13029), ('gof', 13030), ('noarchive', 13031), ('apeals', 13032), ('kalies', 13033), ('usael', 13034), ('notmuch', 13035), ('stainage', 13036), ('ebtg', 13037), ('quoteach', 13038), ('disrespectful', 13039), ('slouch', 13040), ('acomodation', 13041), ('undervalued', 13042), ('lul', 13043), ('macies', 13044), ('lovelovelovelt', 13045), ('kik', 13046), ('cherleader', 13047), ('ohrwurm', 13048), ('quotcolorblindquot', 13049), ('facepanda', 13050), ('doi', 13051), ('chung', 13052), ('thoi', 13053), ('rink', 13054), ('bordum', 13055), ('squigy', 13056), ('laverne', 13057), ('snd', 13058), ('pricey', 13059), ('outright', 13060), ('acusations', 13061), ('cuma', 13062), ('gini', 13063), ('heheheh', 13064), ('terus', 13065), ('statusmu', 13066), ('casterbridge', 13067), ('mpumalanga', 13068), ('profitable', 13069), ('charley', 13070), ('bigs', 13071), ('753am', 13072), ('cpt', 13073), ('feminist', 13074), ('pider', 13075), ('pade', 13076), ('twetiful', 13077), ('krystles', 13078), ('i90d', 13079), ('fisheye', 13080), ('engadget', 13081), ('roach', 13082), ('patricia', 13083), ('himamp', 13084), ('inbound', 13085), ('waraw', 13086), ('taipei', 13087), ('nemah', 13088), ('suhwet', 13089), ('easel', 13090), ('tita', 13091), ('lke', 13092), ('breasticles', 13093), ('thunderstorms', 13094), ('fastquot', 13095), ('heaos', 13096), ('petit', 13097), ('financier', 13098), ('guise', 13099), ('carleigh', 13100), ('barley', 13101), ('sits', 13102), ('sumat', 13103), ('marko', 13104), ('roseland', 13105), ('funkey', 13106), ('xmlrpc', 13107), ('codeignite', 13108), ('zend', 13109), ('wee', 13110), ('arr', 13111), ('sowbur', 13112), ('promiss', 13113), ('styoopid', 13114), ('hazzunt', 13115), ('kum', 13116), ('agane', 13117), ('itt', 13118), ('hyding', 13119), ('sumware', 13120), ('larffing', 13121), ('att', 13122), ('shipwreck', 13123), ('compliance', 13124), ('stretlight', 13125), ('ketchup', 13126), ('waili', 13127), ('3alaik', 13128), ('pogue', 13129), ('mccartney', 13130), ('laina', 13131), ('natalya', 13132), ('filum', 13133), ('gratz', 13134), ('sailin', 13135), ('quotstuningly', 13136), ('beautifulquot', 13137), ('piecequot', 13138), ('twetvile', 13139), ('togs', 13140), ('twtvite', 13141), ('aptw', 13142), ('reverse', 13143), ('overdraft', 13144), ('squeal', 13145), ('quotenglish', 13146), ('namesquot', 13147), ('quotmis', 13148), ('chewbaca', 13149), ('leungquot', 13150), ('laidback', 13151), ('fitzcaraldo', 13152), ('warner', 13153), ('oceans', 13154), (\"noriega's\", 13155), ('kaylt', 13156), ('deordant', 13157), ('remake', 13158), ('holywodjust', 13159), ('preside', 13160), ('ashleycat', 13161), ('saucer', 13162), ('mintues', 13163), ('hairs', 13164), (\"northland's\", 13165), ('newscenter', 13166), ('northland', 13167), ('aircirculation', 13168), ('bulhorn', 13169), ('agus', 13170), ('entrance', 13171), ('2cal', 13172), ('zipcode', 13173), ('selfishnes', 13174), ('stickler', 13175), ('dpi', 13176), ('quotslice', 13177), ('formulate', 13178), ('frustrated', 13179), ('lifehouse', 13180), ('wc', 13181), ('t20', 13182), ('grovy', 13183), ('cower', 13184), ('mbp', 13185), ('instock', 13186), ('rapevile', 13187), ('aza', 13188), (\"g'nitey\", 13189), ('cao', 13190), ('overdose', 13191), ('fainting', 13192), ('carnisada', 13193), ('shiv', 13194), ('fp', 13195), ('fuz', 13196), ('infelizmente', 13197), ('alcol', 13198), ('fds', 13199), ('pee', 13200), ('1e15', 13201), ('bunuelos', 13202), ('dworlds', 13203), ('dagnamit', 13204), ('clickable', 13205), ('genuine', 13206), ('quottour', 13207), ('francequot', 13208), ('quotlet', 13209), (\"wendy's\", 13210), ('freways', 13211), ('sadpanda', 13212), ('fang', 13213), ('s3', 13214), ('quotdont', 13215), ('wildwod', 13216), ('seating', 13217), ('quotgold', 13218), ('digersquot', 13219), ('quottrophies', 13220), ('patriarchy', 13221), ('shesha', 13222), ('minami', 13223), ('sewin', 13224), ('narcotic', 13225), ('moist', 13226), ('eclectricity', 13227), ('desapointed', 13228), ('jamy', 13229), ('gaytimes', 13230), ('infront', 13231), ('ciege', 13232), (\"cagalawan's\", 13233), ('chichi', 13234), ('braun', 13235), ('dramatic', 13236), ('spawning', 13237), ('60,0', 13238), (\"toys'r'us\", 13239), ('pointsana', 13240), ('jurong', 13241), ('1ofmy', 13242), ('holaback', 13243), ('geogektv', 13244), ('flareup', 13245), ('cox', 13246), (\"j'adore\", 13247), ('cockatos', 13248), ('fucken', 13249), ('mogul', 13250), ('hltermand', 13251), ('kare', 13252), ('component', 13253), ('ps2', 13254), ('p3fes', 13255), ('oot', 13256), ('bananas', 13257), ('clasfinal', 13258), ('sorority', 13259), (\"d'awh\", 13260), ('quotsubject', 13261), ('linequot', 13262), ('halfswet', 13263), (\"suma's\", 13264), ('pixies', 13265), ('smo', 13266), ('underworld', 13267), ('sitar', 13268), (\"s'pose\", 13269), ('2u2', 13270), ('selfmedicate', 13271), ('frehleyfriday', 13272), ('subdivision', 13273), ('conor', 13274), ('phoneles', 13275), ('chemist', 13276), ('pocketampkep', 13277), ('quotcasouletquot', 13278), ('ampwhoever', 13279), (\"s'acaba\", 13280), ('setmana', 13281), ('amb', 13282), ('milor', 13283), (\"alexandre's\", 13284), ('banter', 13285), ('abies', 13286), ('cenare', 13287), ('mismo', 13288), ('qe', 13289), ('rosher', 13290), ('jetseter', 13291), ('quothometown', 13292), ('heroesquot', 13293), ('roseane', 13294), ('quotwrite', 13295), ('sluted', 13296), ('jealz', 13297), ('ovation', 13298), ('jae', 13299), ('sophmore', 13300), ('tbone', 13301), ('percy', 13302), ('thrower', 13303), ('gardnerinresidence', 13304), ('trusty', 13305), ('awl', 13306), ('suma', 13307), ('tingle', 13308), ('sarcy', 13309), ('wov', 13310), ('dv20', 13311), ('indianapolis', 13312), ('maygray', 13313), ('juneglom', 13314), ('iratated', 13315), ('netflicks', 13316), ('fulterm', 13317), ('threleged', 13318), ('petigrew', 13319), ('flute', 13320), ('quartet', 13321), ('malamute', 13322), ('6ft', 13323), ('73kg', 13324), ('hardisk', 13325), ('cucko', 13326), ('smushing', 13327), ('newman', 13328), ('elmwod', 13329), ('ishas', 13330), ('luking', 13331), ('scarey', 13332), ('flanel', 13333), ('quotpoisequot', 13334), ('dow', 13335), ('torino', 13336), ('longhaul', 13337), ('ohshnaps', 13338), ('cambie', 13339), ('encoraging', 13340), ('behavior', 13341), ('mojokins', 13342), ('quotiquot', 13343), ('frostnixon', 13344), ('wekender', 13345), ('electro', 13346), ('raphael', 13347), ('sadiq', 13348), ('shecky', 13349), ('friz', 13350), ('fuckingtastic', 13351), ('midsomer', 13352), ('pursue', 13353), ('quotcompletely', 13354), ('viz', 13355), ('retrorewind', 13356), ('unagi', 13357), ('adicts', 13358), ('heated', 13359), ('alowing', 13360), ('tinkerbel', 13361), ('nights', 13362), ('hahahahahahahaha', 13363), ('unconditional', 13364), ('chavs', 13365), ('powerdvd', 13366), ('screnies', 13367), ('unsalvageable', 13368), ('butnada', 13369), ('calc', 13370), ('comps', 13371), ('mediterenean', 13372), ('learner', 13373), (\"archie's\", 13374), ('triangle', 13375), ('quotsickoquot', 13376), ('digusted', 13377), ('micheal', 13378), ('volturi', 13379), ('hapies', 13380), ('newb', 13381), ('jeni', 13382), ('bvag', 13383), ('waletpop', 13384), ('unbroke', 13385), ('funsies', 13386), ('cordoning', 13387), ('quotswine', 13388), ('fluquot', 13389), ('supremists', 13390), ('abhor', 13391), ('divider', 13392), ('745', 13393), ('3,14', 13394), ('heires', 13395), ('kirkland', 13396), ('launchyerboat', 13397), ('chalah', 13398), ('82k', 13399), ('swindon', 13400), ('jlo', 13401), ('entrepreneur', 13402), ('miso', 13403), ('discrepencies', 13404), ('tried', 13405), ('lincolnshire', 13406), ('macarenaing', 13407), ('ulcerrific', 13408), ('ulstacular', 13409), ('satish', 13410), ('snaping', 13411), ('hmm', 13412), ('11am', 13413), ('blogin', 13414), ('nutz', 13415), ('yvr', 13416), ('spout', 13417), (\"icecream's\", 13418), ('frezor', 13419), ('balancing', 13420), ('ezlo', 13421), ('domsday', 13422), ('jbum', 13423), ('quotyumyquot', 13424), ('kapag', 13425), ('magkakasama', 13426), ('nila', 13427), ('mapet', 13428), ('videos', 13429), ('lefty', 13430), (\"quotnapy'squot\", 13431), ('quotnquot', 13432), ('quotnapyquot', 13433), ('igot', 13434), ('quothangtimequot', 13435), (\"charle's\", 13436), ('savemart', 13437), ('insuran', 13438), ('meanw', 13439), ('kisa', 13440), ('enchiladas', 13441), (\"kitchen's\", 13442), ('jacketsuncomfortable', 13443), ('esf', 13444), ('interestign', 13445), ('whic', 13446), ('presures', 13447), ('gvnmt', 13448), ('leftampright', 13449), (\"morgan's\", 13450), ('shocking', 13451), ('feather', 13452), ('thimk', 13453), ('omar', 13454), ('khayam', 13455), ('wakil', 13456), ('fckeditor', 13457), ('spechles', 13458), ('endlesly', 13459), ('sustainability', 13460), ('gen', 13461), ('godly', 13462), ('muslim', 13463), ('briyani', 13464), ('tahoe', 13465), ('sistah', 13466), ('flicitations', 13467), ('reporter', 13468), ('daydream', 13469), ('pakistani', 13470), ('wowo', 13471), ('gt3', 13472), ('charcoal', 13473), ('belevue', 13474), ('firepro', 13475), ('2jobs', 13476), ('ampa', 13477), ('0530', 13478), ('edgy', 13479), ('fpu', 13480), ('canceled', 13481), ('quotrelay', 13482), ('topman', 13483), ('eather', 13484), ('wable', 13485), ('clifs', 13486), ('headlight', 13487), ('geordanos', 13488), ('peperoni', 13489), ('5m', 13490), (\"adi's\", 13491), ('smother', 13492), ('stiches', 13493), ('healing', 13494), ('nicho', 13495), ('kikaynes', 13496), ('eto', 13497), ('erasure', 13498), ('nighters', 13499), ('boh', 13500), ('jamlegend', 13501), ('twiterles', 13502), ('exemption', 13503), ('pineforest', 13504), ('confeti', 13505), ('perfectionist', 13506), ('chorus', 13507), ('envelope', 13508), ('hoje', 13509), ('89fm', 13510), ('quero', 13511), ('vlo', 13512), ('atravs', 13513), ('912', 13514), ('kurumi', 13515), ('complexion', 13516), (\"papi's\", 13517), ('swizy', 13518), ('luch', 13519), ('coathanger', 13520), ('danceatack', 13521), ('atacka', 13522), ('webpage', 13523), ('definatelyi', 13524), ('badpainful', 13525), ('burton', 13526), ('keynote', 13527), ('screncastsonline', 13528), ('tbs', 13529), ('enquire', 13530), ('chutzpah', 13531), (\"tbone's\", 13532), ('aud', 13533), ('unconference', 13534), ('unreason', 13535), ('wowyou', 13536), ('matilda', 13537), ('zamo', 13538), ('rembrandt', 13539), ('basin', 13540), ('crimegosip', 13541), ('manda', 13542), ('blatant', 13543), ('hyeri', 13544), ('ayshea', 13545), ('yack', 13546), ('2amp', 13547), ('2year', 13548), ('quin', 13549), ('cstm', 13550), ('bua', 13551), ('recogns', 13552), ('dumbface', 13553), ('brom', 13554), ('swifer', 13555), ('eqpmnts', 13556), ('eitha', 13557), ('selfdenial', 13558), ('harmful', 13559), ('azeroth', 13560), ('omelet', 13561), ('napkin', 13562), ('pedal', 13563), (\"pery's\", 13564), (\"clarkson's\", 13565), ('culen', 13566), ('bashunter', 13567), ('wanted', 13568), ('virtualy', 13569), ('sibling', 13570), ('whitled', 13571), ('bigest', 13572), ('0ut', 13573), ('gamemothers', 13574), ('ewl', 13575), ('pablo', 13576), (\"mothers's\", 13577), ('pulease', 13578), ('twitpicwe', 13579), ('piranha', 13580), ('wha', 13581), ('jitery', 13582), ('gby', 13583), ('moneyjob', 13584), ('limeade', 13585), ('excruciate', 13586), ('lockdown', 13587), ('molah', 13588), ('enchilado', 13589), ('carly', 13590), ('phast', 13591), ('skyway', 13592), ('miniapolis', 13593), ('mime', 13594), ('nerdiest', 13595), ('sixty', 13596), ('shatranjanpoli', 13597), ('2649845', 13598), ('andheri', 13599), ('2673', 13600), ('portableaps', 13601), ('datalounge', 13602), ('zeropoint', 13603), (\"jes's\", 13604), ('s20e19', 13605), ('quotfirst', 13606), ('kimberle', 13607), ('rwady', 13608), ('asumption', 13609), ('disconects', 13610), ('2050', 13611), (\"california's\", 13612), ('deficit', 13613), ('weblogamo', 13614), ('kardam', 13615), ('moteasefane', 13616), ('baz', 13617), ('postesh', 13618), ('kotah', 13619), ('shod', 13620), ('albate', 13621), ('khob', 13622), ('chizi', 13623), ('nadashtam', 13624), ('begam', 13625), ('feckin', 13626), ('pov', 13627), ('cryed', 13628), ('aust', 13629), ('twiterology', 13630), ('toadtastic', 13631), ('flods', 13632), ('blackberys', 13633), ('dilybar', 13634), ('dq', 13635), ('joyologist', 13636), ('sholders', 13637), ('ltwhinegt', 13638), ('soper', 13639), ('doper', 13640), ('bharia', 13641), ('dhumchik', 13642), ('gil', 13643), ('bluf', 13644), ('snoker', 13645), ('0k', 13646), ('twigies', 13647), ('gramatical', 13648), ('capitan', 13649), ('phaolo', 13650), ('cantera', 13651), ('urbanoutfiters', 13652), ('joshua', 13653), ('comunal', 13654), ('masiveawful', 13655), ('rumbo', 13656), ('bachileres', 13657), (\"g'nights\", 13658), ('slepyhead', 13659), ('metreon', 13660), ('matchmaker', 13661), ('damnation', 13662), ('swons', 13663), ('squege', 13664), ('2yr', 13665), ('posture', 13666), ('beautifyl', 13667), ('pantsquot', 13668), ('tmo', 13669), ('ni9as', 13670), ('trening', 13671), ('bersal', 13672), ('cofin', 13673), ('subite', 13674), ('artslam', 13675), ('independently', 13676), ('mlb', 13677), ('mlbn', 13678), ('televise', 13679), ('detbal', 13680), ('nathanfilion', 13681), ('quotinvalid', 13682), ('paswordquot', 13683), (\"han's\", 13684), ('tonsilitis', 13685), ('writeon', 13686), ('cahnge', 13687), ('quotcause', 13688), (\"bs'd\", 13689), ('daywekend', 13690), ('aarg', 13691), ('518', 13692), ('chescake', 13693), ('stfu', 13694), ('powershel', 13695), ('sancha', 13696), ('chini', 13697), ('twiteringup', 13698), (\"dor's\", 13699), ('migawd', 13700), ('precursor', 13701), ('msft', 13702), (\"iphone's\", 13703), ('disintegrate', 13704), ('monlightflight', 13705), ('dloading', 13706), ('distinct', 13707), ('sensitive', 13708), ('scofed', 13709), ('sumo', 13710), ('t1i', 13711), ('roy', 13712), ('disects', 13713), ('liloven', 13714), ('txting', 13715), ('resurect', 13716), (\"jt's\", 13717), ('quotstil', 13718), ('dgroup', 13719), ('tsu', 13720), ('vacinations', 13721), ('ohtays', 13722), ('smelt', 13723), ('trackal', 13724), ('19femaleatl', 13725), ('incredily', 13726), ('traitor', 13727), ('shoulve', 13728), ('rm', 13729), ('zebra', 13730), ('sherieshepherd', 13731), ('donuts', 13732), ('siyal', 13733), ('8r', 13734), ('stayn', 13735), ('ake', 13736), ('escapoume', 13737), ('pisay', 13738), ('welz', 13739), ('seaside', 13740), ('trailhead', 13741), ('rival', 13742), (\"spider's\", 13743), ('silk', 13744), ('snowflake', 13745), (\"emo's\", 13746), ('2say', 13747), ('frecomend', 13748), ('546', 13749), ('quotcameronquot', 13750), ('yano', 13751), ('vicodin', 13752), ('bjaday', 13753), ('minister', 13754), ('webcaming', 13755), ('pageslt', 13756), ('layof', 13757), ('17th', 13758), ('spelingis', 13759), ('margie', 13760), ('instinct', 13761), ('birdsrabits', 13762), ('folowilfriday', 13763), ('droling', 13764), ('devy', 13765), ('uugh', 13766), ('slr', 13767), ('quotget', 13768), ('helboy', 13769), ('delicacy', 13770), (\"monsterpaloza's\", 13771), ('contestant', 13772), ('x0', 13773), ('mimcy', 13774), ('mikesh', 13775), ('competitor', 13776), ('bcz', 13777), ('silvera', 13778), (\"yao's\", 13779), ('wcf', 13780), ('pisedquot', 13781), ('knack', 13782), ('melted', 13783), ('folowerz', 13784), ('diving', 13785), ('ze', 13786), ('emayal', 13787), ('lops', 13788), ('mcarthur', 13789), ('stering', 13790), ('lvamptbt', 13791), ('cancelation', 13792), ('topol', 13793), ('backupbluray', 13794), ('phd', 13795), ('formfilingin', 13796), ('morningstar', 13797), ('streudal', 13798), ('shakin', 13799), ('quotcongrats', 13800), ('hugsampgropesquot', 13801), ('academyish', 13802), ('ipodiphone', 13803), ('selinittothehighestbider', 13804), ('dbag', 13805), ('dte', 13806), ('customized', 13807), ('ecology', 13808), ('pcw', 13809), ('qo', 13810), ('veoh', 13811), ('singersongwriter', 13812), ('glenelg', 13813), ('mudweight', 13814), ('pril', 13815), ('mushkila', 13816), (\"ma'a\", 13817), ('frd', 13818), ('lovehunting', 13819), ('quotyu', 13820), ('yungquot', 13821), ('swalowed', 13822), (\"lodo's\", 13823), ('lifespan', 13824), ('linoleum', 13825), ('carve', 13826), ('matangap', 13827), ('tna', 13828), ('jakeowen', 13829), ('propa', 13830), ('tomorah', 13831), ('quotphilipines', 13832), ('csh', 13833), ('utered', 13834), ('dre', 13835), ('chwet', 13836), ('muax', 13837), ('sti', 13838), ('pasadena', 13839), ('sergi', 13840), ('newsire', 13841), ('twiterfed', 13842), ('quotwakey', 13843), ('bakey', 13844), ('thie', 13845), ('delta', 13846), (\"murphy's\", 13847), ('waldi', 13848), ('colourlovers', 13849), ('josie', 13850), ('uqh', 13851), ('streamyx', 13852), ('screwmyx', 13853), ('incestuous', 13854), ('prerequisite', 13855), ('bikebuswalk', 13856), (\"rabit's\", 13857), ('backache', 13858), ('thght', 13859), ('workd', 13860), ('ilt', 13861), ('hice', 13862), ('maruchan', 13863), ('roadshow', 13864), ('acquired', 13865), ('cheseamponions', 13866), ('tubey', 13867), ('thugh', 13868), ('metalia', 13869), ('hawaian', 13870), ('reuse', 13871), ('pewe', 13872), ('bosted', 13873), ('bonty', 13874), ('eurodjangocon', 13875), ('quotah', 13876), ('haquot', 13877), ('showsboks', 13878), ('metaphor', 13879), ('cocoliciousnes', 13880), ('lewd', 13881), ('janes', 13882), ('munsay', 13883), ('tangerang', 13884), ('bold', 13885), ('smr', 13886), ('uce', 13887), ('pgce', 13888), ('heath', 13889), ('laught', 13890), ('carilo', 13891), ('whatev', 13892), ('iluminated', 13893), ('dreaminglt', 13894), ('farn', 13895), ('lai', 13896), ('hardgoing', 13897), ('reisue', 13898), ('113', 13899), ('levin', 13900), ('vacationsightseing', 13901), ('gaijin', 13902), ('godzila', 13903), ('honza', 13904), ('incasequot', 13905), ('buly', 13906), ('argr', 13907), ('smer', 13908), ('misispi', 13909), ('cleaned', 13910), ('emas', 13911), ('comisary', 13912), ('moded', 13913), ('hik', 13914), ('kha', 13915), (\"sfo's\", 13916), ('nested', 13917), ('invert', 13918), ('quotgraverober', 13919), ('graverober', 13920), ('semiflaky', 13921), ('vrbo', 13922), ('reminise', 13923), ('ptour', 13924), ('ripstick', 13925), ('backrom', 13926), ('unabashedly', 13927), ('byw', 13928), ('profesionaly', 13929), ('trist', 13930), ('lese', 13931), ('siste', 13932), ('twetsen', 13933), ('margrete', 13934), ('burping', 13935), ('2ndary', 13936), ('nothebest', 13937), ('livelovesing', 13938), ('suwet', 13939), ('fondont', 13940), ('dayold', 13941), ('1243', 13942), ('expat', 13943), ('seaso', 13944), ('greatings', 13945), ('shanan', 13946), ('lade', 13947), ('lanet', 13948), ('haia', 13949), ('chang', 13950), ('4k', 13951), ('mesaged', 13952), ('ridin', 13953), ('cb', 13954), ('cupcakey', 13955), ('paralels', 13956), ('quotunityquotmode', 13957), ('supertramp', 13958), ('thabks', 13959), ('fotlong', 13960), ('halal', 13961), ('raiser', 13962), ('topnotch', 13963), ('joseph', 13964), ('ashton', 13965), ('foe', 13966), ('swen', 13967), ('givingcaring', 13968), ('okiebud', 13969), ('casablanca', 13970), ('midaugust', 13971), ('wope', 13972), (\"play's\", 13973), ('rudy', 13974), ('manageres', 13975), ('wrox', 13976), ('pansy', 13977), ('codeh', 13978), ('mmmmm', 13979), ('outamyleague', 13980), ('twithar', 13981), ('1520', 13982), ('nofakery', 13983), ('pampering', 13984), ('binks', 13985), ('herhis', 13986), (\"alysa's\", 13987), ('tysm', 13988), ('repetative', 13989), ('0930', 13990), ('powerbal', 13991), ('jackpot', 13992), ('formidable', 13993), ('whoishonorsociety', 13994), ('rny', 13995), ('sugary', 13996), ('vending', 13997), ('bleck', 13998), ('upfronts', 13999), ('snitin', 14000), ('ein', 14001), ('shakas', 14002), ('sufocate', 14003), ('gweg', 14004), ('rhonda', 14005), ('antioch', 14006), ('amtrak', 14007), ('15min', 14008), ('norton', 14009), (\"fjgkfld'sdh\", 14010), ('congrat', 14011), ('cycling', 14012), ('frineds', 14013), ('pitwas', 14014), ('hitrecord', 14015), ('tritip', 14016), ('d7', 14017), ('ds9', 14018), ('disapear', 14019), ('buldyke', 14020), ('eyein', 14021), ('quotfine', 14022), ('rhumatologist', 14023), ('beamer', 14024), ('prn', 14025), ('fortify', 14026), (\"monin's\", 14027), ('asaran', 14028), ('peoplebrowsr', 14029), ('motar', 14030), ('inferno', 14031), ('p4', 14032), ('brantley', 14033), ('cashouts', 14034), ('toz', 14035), ('fernandez', 14036), ('ranking', 14037), (\"sara's\", 14038), ('quotdibsquot', 14039), ('p1', 14040), ('heston', 14041), ('bleumenthal', 14042), ('sav', 14043), ('churchil', 14044), (\"writer's\", 14045), ('shoreline', 14046), ('natale', 14047), ('brights', 14048), ('impecible', 14049), ('mcnuget', 14050), ('12p', 14051), ('ela', 14052), ('japa', 14053), ('bilyidol', 14054), ('rake', 14055), ('devs', 14056), ('cnet', 14057), ('beging', 14058), ('blomington', 14059), ('sortie', 14060), ('quotsexuality', 14061), ('religionquot', 14062), ('sled', 14063), ('walkin', 14064), (\"bok'smovie\", 14065), ('preform', 14066), ('packed', 14067), ('sardine', 14068), ('overexcited', 14069), ('marigold', 14070), ('crangrape', 14071), ('3to7', 14072), ('godmornin', 14073), ('embaresing', 14074), ('oliveramppeter', 14075), ('hotshot', 14076), ('loveyoujonesy', 14077), ('photowalkingutah', 14078), ('photowalks', 14079), ('singz', 14080), ('hermit', 14081), ('punkin', 14082), ('duke', 14083), ('fraudster', 14084), ('obesion', 14085), (\"kenyata's\", 14086), ('evolvin', 14087), (\"fey's\", 14088), ('183', 14089), ('mychem', 14090), ('udd', 14091), ('anchovy', 14092), ('somwhere', 14093), ('pneumonia', 14094), ('rida', 14095), ('lofnotc', 14096), ('sheza', 14097), ('manderin', 14098), ('gfriend', 14099), ('insults', 14100), ('bokstil', 14101), ('masacred', 14102), ('slamin', 14103), ('vive', 14104), ('hanahs', 14105), ('tci', 14106), (\"pa'lante\", 14107), ('lore', 14108), ('oriole', 14109), ('suet', 14110), ('fuzypupy', 14111), ('autoheloscripts', 14112), ('watchign', 14113), ('dorian', 14114), ('grayquot', 14115), ('wilde', 14116), ('orale', 14117), ('ghd', 14118), ('shiping', 14119), ('lichfield', 14120), ('regarding', 14121), ('yeasterday', 14122), ('wiew', 14123), ('aliyah', 14124), ('nefesh', 14125), ('bnefesh', 14126), ('wiliamsburg', 14127), ('infinite', 14128), ('boutique', 14129), ('wbad', 14130), ('situational', 14131), ('intezonefotbalcompetition', 14132), ('moderator', 14133), ('niandra', 14134), ('unsetled', 14135), ('paranthas', 14136), ('gandang', 14137), ('sya', 14138), ('hmbeing', 14139), ('olawd', 14140), ('smite', 14141), ('webtop', 14142), ('mozila', 14143), ('vserver', 14144), ('chocolatey', 14145), ('vail', 14146), ('odly', 14147), ('thar', 14148), ('3asa', 14149), (\"shane's\", 14150), ('consideration', 14151), ('chng', 14152), ('sumiu', 14153), ('idiots', 14154), ('anounces', 14155), ('quotbig', 14156), ('violation', 14157), ('trademark', 14158), ('mardy', 14159), ('unfinished', 14160), ('yuotube', 14161), ('kelsenator', 14162), ('photoblog', 14163), ('whalen', 14164), ('strudlesp', 14165), ('ddub', 14166), ('icehockey', 14167), ('tedies', 14168), ('retrina', 14169), ('daugter', 14170), ('g2g', 14171), ('outoffocus', 14172), ('projection', 14173), (\"prize's\", 14174), ('356pm', 14175), ('805', 14176), ('lurk', 14177), ('persepolis', 14178), ('boker', 14179), ('unapealing', 14180), ('underapreciated', 14181), ('pilowtalk', 14182), ('618', 14183), ('16yo', 14184), ('slutin', 14185), ('iont', 14186), ('quottime', 14187), ('streamkeys', 14188), ('migration', 14189), ('jfk', 14190), ('bonies', 14191), ('arogant', 14192), ('montepulciano', 14193), ('suivez', 14194), ('honet', 14195), ('quotthehanabeth', 14196), ('guava', 14197), ('handi', 14198), ('nemecek', 14199), ('ked', 14200), ('silverstone', 14201), ('sandown', 14202), ('engrosing', 14203), (\"justin's\", 14204), ('csla', 14205), ('scanlon', 14206), ('hoarse', 14207), ('eathomeworktvi', 14208), ('lainey', 14209), ('haselblad', 14210), ('capoeira', 14211), ('cathylofran', 14212), ('gurante', 14213), ('crchan', 14214), ('debuging', 14215), ('makino', 14216), (\"lupo's\", 14217), ('agustin', 14218), ('nothinbg', 14219), ('pundit', 14220), ('mcafe', 14221), ('chewin', 14222), ('halfdead', 14223), ('wandelwekend', 14224), ('clot', 14225), ('quotlydiaquot', 14226), ('easygoing', 14227), ('melancholyyetchery', 14228), ('emopunk', 14229), ('getng', 14230), ('lvoe', 14231), ('nyokap', 14232), ('pernah', 14233), ('berkata', 14234), ('demikian', 14235), ('masachusets', 14236), ('lager', 14237), ('lifestory', 14238), ('spicey', 14239), ('242', 14240), ('momnot', 14241), ('adoptive', 14242), ('quotknowquot', 14243), ('scribkin', 14244), ('noisyquot', 14245), ('hemp', 14246), ('goingto', 14247), ('patetic', 14248), ('macaron', 14249), ('generousquot', 14250), ('12hr', 14251), ('alryt', 14252), ('tmoro', 14253), ('sumin', 14254), ('aen', 14255), ('chux', 14256), ('reminising', 14257), ('aundy', 14258), ('snapshot', 14259), ('conti', 14260), ('headahce', 14261), ('dumerils', 14262), ('hognose', 14263), ('licnse', 14264), ('ians', 14265), (\"jese's\", 14266), ('fedicon', 14267), ('jaki', 14268), ('awoke', 14269), ('thespian', 14270), ('troupe', 14271), ('6492', 14272), ('cheroke', 14273), ('clinic', 14274), ('rainhumidity', 14275), ('krista', 14276), ('thurstag', 14277), ('80x', 14278), ('69th', 14279), ('suspension', 14280), ('antigravity', 14281), ('vow', 14282), ('klonopin', 14283), ('p2v', 14284), ('migrates', 14285), ('vsp', 14286), ('quotconectedquot', 14287), ('mashup', 14288), ('hysteria', 14289), (\"amanda's\", 14290), ('sleptime', 14291), ('demisterling', 14292), ('jemi', 14293), ('roam', 14294), ('legolas', 14295), ('felowship', 14296), ('quotdiseasequot', 14297), ('teniece', 14298), ('extplorer', 14299), ('muthafuckin', 14300), ('personify', 14301), ('tsar', 14302), ('doinq', 14303), ('eligable', 14304), ('haywire', 14305), ('uproted', 14306), ('quotmamaquot', 14307), ('citibank', 14308), ('granys', 14309), ('musem', 14310), ('doquot', 14311), ('trelined', 14312), ('lumpia', 14313), ('pancit', 14314), (\"you'be\", 14315), ('quotstupid', 14316), ('clickinquot', 14317), ('cumbersome', 14318), ('frecyclers', 14319), ('ontem', 14320), ('shire', 14321), ('lastdresed', 14322), ('feminely', 14323), ('lambo', 14324), ('pitsvile', 14325), ('royle', 14326), ('sexieluv', 14327), ('scaner', 14328), ('spgridview', 14329), ('riter', 14330), ('170', 14331), ('ltlthave', 14332), ('readerquot', 14333), ('bleargh', 14334), ('warenty', 14335), ('me8', 14336), ('skipton', 14337), ('hawthorne', 14338), ('cqc', 14339), ('motorsport', 14340), ('gladsad', 14341), ('memy', 14342), ('badoptus', 14343), ('intelectualy', 14344), ('sever', 14345), ('disagrement', 14346), ('helmuts', 14347), ('scotertechno', 14348), ('crimson', 14349), ('dicking', 14350), ('nds', 14351), ('ghmetalica', 14352), ('excesive', 14353), ('eficient', 14354), ('reupload', 14355), ('championship', 14356), ('snitchsneker', 14357), ('otu', 14358), ('mara', 14359), ('ecxcited', 14360), ('anabel', 14361), (\"ciaran's\", 14362), ('psyching', 14363), ('marcos', 14364), ('sj', 14365), ('945pm', 14366), ('cinelux', 14367), ('almaden', 14368), ('cancuks', 14369), ('jiah', 14370), (\"c'est\", 14371), ('demain', 14372), ('lancement', 14373), ('mercredi', 14374), (\"heating's\", 14375), ('nanay', 14376), ('huged', 14377), ('lidle', 14378), ('beotch', 14379), ('bologna', 14380), ('radar', 14381), ('quotdream', 14382), ('comingquot', 14383), ('hearin', 14384), ('convos', 14385), ('pier', 14386), ('613', 14387), ('instalment', 14388), ('vesak', 14389), ('rena', 14390), ('afterwork', 14391), ('risns', 14392), ('welfare', 14393), ('inthebatle', 14394), ('atlpics', 14395), ('archive', 14396), ('tya', 14397), ('vioce', 14398), ('mg', 14399), ('ofset', 14400), ('tomtom', 14401), ('jurybased', 14402), ('superior', 14403), (\"stepmom's\", 14404), ('amazinq', 14405), ('qirlsniqhtout', 14406), ('qreat', 14407), ('scrapbok', 14408), ('wathing', 14409), ('taquito', 14410), (\"q'doba\", 14411), ('terance', 14412), ('trait', 14413), ('malamang', 14414), ('shifting', 14415), ('elude', 14416), ('114', 14417), ('macpro', 14418), ('recoup', 14419), ('businesy', 14420), ('quotshiping', 14421), ('handleingquot', 14422), ('glamorous', 14423), ('238pm', 14424), ('mex', 14425), (\"defunk'd\", 14426), ('pirated', 14427), ('goy', 14428), ('oging', 14429), ('twiterbf', 14430), ('14m', 14431), ('excitedsad', 14432), ('dani', 14433), ('vespa', 14434), ('beforehand', 14435), ('snugeling', 14436), ('cokof', 14437), (\"ton's\", 14438), ('plis', 14439), ('insider', 14440), ('aloe', 14441), ('mocow', 14442), ('pasture', 14443), (\"lutheran's\", 14444), ('jah', 14445), ('stepin', 14446), ('westerns', 14447), ('carlin', 14448), ('flywithmeobsesive', 14449), ('gqmf', 14450), ('woefuly', 14451), ('ontdstartrek', 14452), ('supermodel', 14453), ('brings', 14454), ('plav', 14455), ('quotaaiequot', 14456), ('andswere', 14457), ('razle', 14458), ('amazement', 14459), ('butons', 14460), ('tryout', 14461), ('minutos', 14462), ('splitup', 14463), ('colaboration', 14464), ('dadysize', 14465), ('brenden', 14466), ('phpmyadmin', 14467), ('hostphpmyadmin', 14468), ('xamp', 14469), ('senility', 14470), ('quotmigratequot', 14471), ('sbaro', 14472), ('creation', 14473), ('banknorth', 14474), ('recos', 14475), ('backgroud', 14476), ('lohang', 14477), ('mojitos', 14478), ('mels', 14479), ('mcdicks', 14480), ('337', 14481), ('slepies', 14482), ('porlies', 14483), ('aparantley', 14484), ('swimin', 14485), ('ecomonday', 14486), ('bobies', 14487), ('hom', 14488), ('tda', 14489), ('halarious', 14490), ('10p', 14491), ('meself', 14492), (\"quotthat's\", 14493), ('picturequot', 14494), ('shontele', 14495), ('layne', 14496), ('mockinbird', 14497), ('basment', 14498), ('quotraindropsquot', 14499), ('gofin', 14500), ('marnier', 14501), ('soufle', 14502), ('niguhs', 14503), ('ilh', 14504), ('diabetic', 14505), ('thankgod', 14506), ('suked', 14507), ('quotefortquot', 14508), ('quotteamquot', 14509), ('shwasty', 14510), ('shloshed', 14511), (\"romate's\", 14512), ('kela', 14513), ('cajun', 14514), ('novemeber', 14515), ('tenho', 14516), ('curso', 14517), ('drc', 14518), ('forgo', 14519), ('gar', 14520), ('relight', 14521), ('vlogcandy', 14522), ('veo', 14523), ('ahasta', 14524), ('lunes', 14525), ('figurine', 14526), ('retel', 14527), ('acara', 14528), ('menarik', 14529), ('lain', 14530), ('ttg', 14531), ('dikasih', 14532), ('defensive', 14533), ('humpthestump', 14534), ('ambyr', 14535), ('railing', 14536), ('blowout', 14537), ('lovesick', 14538), ('940', 14539), ('parked', 14540), ('quotthoughtquot', 14541), ('brasilia', 14542), ('jia', 14543), ('quickpwn', 14544), ('0b5', 14545), ('rx', 14546), ('twiterwar', 14547), ('porpor', 14548), ('kaufman', 14549), ('yrbok', 14550), ('evrything', 14551), ('goldmine', 14552), ('socialize', 14553), ('gimeh', 14554), ('telmetwice', 14555), ('dolarosa', 14556), ('weatler', 14557), ('lo0l', 14558), (\"don'tquot\", 14559), ('sumervac', 14560), ('trendy', 14561), ('eistedfod', 14562), ('snuf', 14563), ('hermione', 14564), ('interlock', 14565), ('moveout', 14566), ('tenile', 14567), ('hahas', 14568), ('pri', 14569), ('5plus', 14570), ('truce', 14571), ('sucesion', 14572), ('crawlies', 14573), (\"mp's\", 14574), ('insensitive', 14575), ('bfoyf', 14576), ('raymond', 14577), ('subhana', 14578), ('quotphlegmily', 14579), ('claping', 14580), ('repelant', 14581), ('mtb', 14582), ('predictive', 14583), ('neverending', 14584), (\"hal's\", 14585), ('120m', 14586), ('kwento', 14587), ('empanada', 14588), ('tequeos', 14589), ('venezuelan', 14590), ('yus', 14591), ('copier', 14592), ('tempe', 14593), ('marketplace', 14594), ('culver', 14595), ('phped', 14596), ('einstein', 14597), ('shipwrecked', 14598), ('godtimes', 14599), ('kindred', 14600), ('nefuew', 14601), ('gether', 14602), ('nerding', 14603), ('travolta', 14604), ('jesi', 14605), ('carlos', 14606), ('uv', 14607), ('tisk', 14608), ('quotmustachequot', 14609), ('screnings', 14610), ('shakedown', 14611), ('felinq', 14612), ('huqe', 14613), ('pimple', 14614), ('riqht', 14615), ('parmesean', 14616), ('culinary', 14617), ('abomination', 14618), (\"rod'ed\", 14619), ('quotshinequot', 14620), ('newsboy', 14621), ('surender', 14622), ('ure', 14623), ('galveston', 14624), ('sfot', 14625), ('lthas', 14626), ('firstlok', 14627), ('anand', 14628), ('tamy', 14629), ('dolton', 14630), ('sanath', 14631), ('jayaho', 14632), ('raul', 14633), ('kidnation', 14634), ('chesesteak', 14635), ('ilustrate', 14636), ('quotbe', 14637), ('productivequot', 14638), ('vimeo', 14639), ('quoteat', 14640), ('magots', 14641), ('km', 14642), ('clearing', 14643), ('shiyet', 14644), ('fitzsimons', 14645), ('ining', 14646), ('polvoron', 14647), (\"idon'tknowhatdamnbrandcofethisis\", 14648), ('ltigtwaiting', 14649), ('natie', 14650), ('quotshould', 14651), ('quotnah', 14652), ('bklyn', 14653), ('whever', 14654), (\"sarah's\", 14655), ('malce', 14656), ('preve', 14657), ('vivela', 14658), ('erajnji', 14659), ('koncert', 14660), ('takem', 14661), ('lineupu', 14662), ('tofurky', 14663), ('nici', 14664), ('wp', 14665), ('lesley', 14666), ('pulaski', 14667), (\"break's\", 14668), ('thrilsekers', 14669), ('chapele', 14670), ('makeover', 14671), ('fotback', 14672), ('ronin', 14673), ('121', 14674), ('leyton', 14675), ('ramon', 14676), ('powderhorn', 14677), ('similarly', 14678), ('mesmerize', 14679), ('whimsical', 14680), ('fairynes', 14681), ('acesories', 14682), ('livescribe', 14683), ('smartpen', 14684), ('kirst', 14685), ('acountquot', 14686), ('yucaipa', 14687), ('bomstone', 14688), ('noncivilisation', 14689), ('southridge', 14690), ('calcutadelhilucknow', 14691), (\"sugar's\", 14692), ('ladmag', 14693), ('torential', 14694), ('quotbacon', 14695), ('maryquot', 14696), ('quotblody', 14697), ('unatended', 14698), ('nontrustworthy', 14699), ('valentino', 14700), ('rosi', 14701), ('otherside', 14702), (\"izard's\", 14703), ('reali', 14704), ('gprs', 14705), ('yaymen', 14706), ('mwahs', 14707), ('ashat', 14708), ('shortchanged', 14709), ('pricing', 14710), ('quotcomp', 14711), ('fixesquot', 14712), ('guapisimo', 14713), ('confiscate', 14714), ('evn', 14715), ('unsanitary', 14716), ('630pm', 14717), ('penywise', 14718), ('regionals', 14719), ('preheatin', 14720), ('stephane', 14721), ('omeletes', 14722), ('chapathis', 14723), ('blosom', 14724), ('lucien', 14725), ('kerk', 14726), ('vocalist', 14727), ('sigo', 14728), ('ubok', 14729), ('t40', 14730), ('crumy', 14731), ('niterz', 14732), ('quotcrazy', 14733), ('cobrasquot', 14734), ('wantewd', 14735), ('ta3aly', 14736), ('ma3aha', 14737), ('e83idy', 14738), ('sa5neha', 14739), ('6ol', 14740), ('6ire8', 14741), ('astahil', 14742), ('wla', 14743), ('kf', 14744), ('colosus', 14745), ('insured', 14746), ('hilary', 14747), ('dolce', 14748), (\"wha'dya\", 14749), ('12pm', 14750), ('ykyat', 14751), ('debt', 14752), ('atlas', 14753), ('moroco', 14754), ('strait', 14755), ('gibraltar', 14756), ('europa', 14757), ('jery', 14758), ('embarasment', 14759), ('isabela', 14760), ('uribe', 14761), ('earnest', 14762), ('lilmarshmelows', 14763), ('energetic', 14764), ('zavaroni', 14765), ('barymore', 14766), ('flece', 14767), ('ahold', 14768), ('formating', 14769), ('40min', 14770), ('stina', 14771), ('tata', 14772), ('terestrial', 14773), ('analogue', 14774), ('grangemouth', 14775), ('hilarity', 14776), ('competitive', 14777), ('g5', 14778), ('evaporate', 14779), ('alri', 14780), ('4eva', 14781), ('str', 14782), ('quotlights', 14783), ('soundsquot', 14784), ('yelowcard', 14785), ('conditioning', 14786), ('friter', 14787), ('jdpery', 14788), ('thesepictures', 14789), ('ialways', 14790), ('aroundsaying', 14791), ('poynter', 14792), ('tought', 14793), ('doze', 14794), ('nonintrusive', 14795), ('keygens', 14796), ('aquino', 14797), ('639', 14798), ('niguh', 14799), ('ratarsed', 14800), ('midge', 14801), (\"punk'd\", 14802), ('fightstar', 14803), ('imogen', 14804), (\"heap's\", 14805), ('sekquot', 14806), ('budapesthungary', 14807), ('ought', 14808), ('moives', 14809), ('lonesometown', 14810), ('scam', 14811), ('teignmouth', 14812), ('dawlish', 14813), ('kareoke', 14814), ('homegirl', 14815), ('univ', 14816), ('manila', 14817), ('bitin', 14818), ('dealin', 14819), ('rocstar', 14820), ('hairlos', 14821), ('moho', 14822), ('backline', 14823), ('dpresed', 14824), ('spartacus', 14825), ('mikee', 14826), ('sunbathin', 14827), ('ocd', 14828), ('jasmin', 14829), ('niqhty', 14830), ('niqht', 14831), ('toqether', 14832), ('629', 14833), ('bowman', 14834), ('strategicclock', 14835), ('quotspock', 14836), ('ayaw', 14837), ('bumukas', 14838), ('macabre', 14839), ('nuclear', 14840), ('warisfucked', 14841), ('qtip', 14842), ('ichat', 14843), ('critique', 14844), ('tudyk', 14845), ('oday', 14846), ('percocet', 14847), ('stepchild', 14848), ('enablers', 14849), ('untile', 14850), ('decoration', 14851), ('mochi', 14852), (\"special's\", 14853), ('refirmware', 14854), ('woot', 14855), ('quotold', 14856), ('chapquot', 14857), ('championing', 14858), ('activex', 14859), ('scofiled', 14860), ('lleyton', 14861), ('gizmo', 14862), ('h8s', 14863), ('growls', 14864), ('pruple', 14865), ('fingie', 14866), ('sedaris', 14867), ('380', 14868), ('benchmarked', 14869), ('34mbs', 14870), ('quotyouquots', 14871), ('30day', 14872), ('findin', 14873), ('maya', 14874), ('kibel', 14875), ('bpm', 14876), ('qualifyin', 14877), ('boxquot', 14878), ('foad', 14879), ('avatarcamp', 14880), ('constructivist', 14881), ('coral', 14882), ('chels', 14883), ('spuratic', 14884), ('gtgtparamoreltlt', 14885), ('lodge', 14886), ('stephs', 14887), ('watchd', 14888), (\"brad's\", 14889), ('shey', 14890), ('brandwkshop', 14891), ('bedbury', 14892), ('sorors', 14893), ('60mile', 14894), ('howz', 14895), ('thunk', 14896), ('shotings', 14897), ('grapevine', 14898), ('savesumer', 14899), ('amazones', 14900), ('suitescretegrece', 14901), ('robarts', 14902), ('homskis', 14903), ('jefs', 14904), ('nikz', 14905), ('dung', 14906), (\"grice's\", 14907), ('twitwo', 14908), ('twetz', 14909), ('deathbyhistory', 14910), ('folkestone', 14911), ('mahalo', 14912), ('kauai', 14913), ('ore', 14914), ('actorscharacters', 14915), ('anoys', 14916), ('meteor', 14917), ('aviv', 14918), ('therefly', 14919), ('ridle', 14920), ('poper', 14921), ('joyce', 14922), ('walmans', 14923), ('sabor', 14924), ('cubano', 14925), ('samiches', 14926), ('hydro', 14927), ('godam', 14928), ('expresed', 14929), ('lindos', 14930), ('afirmation', 14931), ('hunrgy', 14932), ('krn', 14933), ('mitzy', 14934), ('baru', 14935), ('bertweter', 14936), ('jg', 14937), ('nit', 14938), ('ticked', 14939), ('dicks', 14940), ('25ft', 14941), ('speches', 14942), (\"oceanographer's\", 14943), ('sorehead', 14944), ('slepdeprived', 14945), ('0pm', 14946), ('basil', 14947), ('telegraph', 14948), ('pickup', 14949), ('dayspeaking', 14950), ('oda', 14951), ('feret', 14952), ('racing', 14953), ('smokin', 14954), ('quotlast', 14955), ('samuriquot', 14956), ('inhale', 14957), (\"momah's\", 14958), ('hindinot', 14959), ('languagebut', 14960), ('manged', 14961), ('ect', 14962), ('downright', 14963), ('masochistic', 14964), ('masera', 14965), ('beinale', 14966), ('archies', 14967), ('airmatras', 14968), ('claus', 14969), ('quotboniesquot', 14970), ('lumiere', 14971), ('wench', 14972), ('subtly', 14973), ('teme', 14974), ('firangs', 14975), ('bqing', 14976), ('mabye', 14977), (\"dony's\", 14978), ('enzian', 14979), ('18hrs', 14980), ('casue', 14981), ('eldorado', 14982), ('aliante', 14983), (\"susan's\", 14984), ('counteract', 14985), ('salm', 14986), ('okasan', 14987), ('elementquot', 14988), ('quotsuper', 14989), ('grenquot', 14990), ('ohnoes', 14991), ('clonecloud', 14992), ('provision', 14993), ('upkep', 14994), ('manageable', 14995), ('brownred', 14996), ('recaled', 14997), ('picksha', 14998), ('gosforth', 14999), ('antony', 15000), ('woring', 15001), ('boksquot', 15002), ('bhaha', 15003), ('nightclub', 15004), ('brolights', 15005), ('maty', 15006), ('intrigue', 15007), ('meany', 15008), ('penut', 15009), ('tosted', 15010), ('huwts', 15011), ('283', 15012), ('ari', 15013), ('romp', 15014), ('ilusiones', 15015), ('thrasher', 15016), (\"raimi's\", 15017), ('amcmain', 15018), ('wildly', 15019), ('ciber', 15020), ('sabip', 15021), ('forseable', 15022), ('rince', 15023), ('hmtm', 15024), ('euh', 15025), ('ldap', 15026), ('schema', 15027), ('bdays', 15028), ('tgthr', 15029), ('quotcat', 15030), ('resortquot', 15031), ('jonesy', 15032), ('dadinlaw', 15033), ('durham', 15034), ('cokouts', 15035), ('picked', 15036), ('salivary', 15037), ('alisondrama', 15038), ('bach', 15039), ('rcb', 15040), ('angrily', 15041), ('extemely', 15042), ('aoh', 15043), ('frosh', 15044), ('sanx', 15045), ('rirakuma', 15046), ('midshow', 15047), ('southside', 15048), ('spymaster', 15049), ('nem', 15050), ('intraday', 15051), ('dumies', 15052), ('observation', 15053), ('riverwalk', 15054), ('unpacked', 15055), ('creditcard', 15056), ('reset', 15057), ('apaently', 15058), ('songs', 15059), ('delas', 15060), ('mankini', 15061), ('twopiece', 15062), ('squabling', 15063), ('tumblarity', 15064), ('245am', 15065), ('zipz', 15066), ('quasisequel', 15067), ('tirith', 15068), ('810', 15069), ('gosebery', 15070), ('cockatiel', 15071), ('kelvin', 15072), ('webo', 15073), ('gedan', 15074), ('begad', 15075), ('aot', 15076), ('lec', 15077), ('wyck', 15078), ('brecky', 15079), ('sadening', 15080), ('dulful', 15081), ('upseting', 15082), ('therefor', 15083), ('whatbouts', 15084), ('ocracoke', 15085), ('40something', 15086), ('leche', 15087), ('notsoscenic', 15088), ('sachie', 15089), ('yna', 15090), ('devin', 15091), (\"woman's\", 15092), ('wthr', 15093), ('gid', 15094), ('gni', 15095), ('nosignal', 15096), ('basquash', 15097), ('kon', 15098), ('07ghost', 15099), ('sengoku', 15100), ('basara', 15101), ('requiemforthephantom', 15102), ('edenoftheeast', 15103), ('asemblies', 15104), ('fnh', 15105), ('caliburn', 15106), ('dynamicproxy', 15107), ('nonfunctionalproductive', 15108), ('cheshire', 15109), ('ukrainian', 15110), ('pdg', 15111), ('hehaheaha', 15112), (\"vc's\", 15113), ('giford', 15114), ('gc1qr2r', 15115), ('northview', 15116), ('quotbatle', 15117), ('bcquot', 15118), ('boc', 15119), ('smartier', 15120), (\"gem's\", 15121), ('earnt', 15122), ('oncal', 15123), ('cosito', 15124), (\"sa's\", 15125), ('blergh', 15126), ('extensive', 15127), ('hearing', 15128), ('2dy', 15129), ('soufl', 15130), (\"jr's\", 15131), ('rodeo', 15132), ('spirituality', 15133), (\"awthat's\", 15134), ('rooop', 15135), ('preclark', 15136), ('regina', 15137), ('deux', 15138), ('shouldhave', 15139), ('jerseyz', 15140), ('trn', 15141), ('xu', 15142), ('tra', 15143), ('lindt', 15144), ('quoteldons', 15145), ('quotthestrat', 15146), ('quotschweigi', 15147), ('damp', 15148), ('fandango', 15149), ('xblapsn', 15150), ('plana', 15151), ('somervile', 15152), ('hatin', 15153), ('savequot', 15154), ('grain', 15155), ('morgie', 15156), ('xloser', 15157), ('quottwaterquot', 15158), ('donkey', 15159), ('showrel', 15160), ('kandivali', 15161), (\"clean'n\", 15162), (\"lay'n\", 15163), ('twita', 15164), ('webc', 15165), (\"wagner's\", 15166), ('konami', 15167), ('numan', 15168), ('remixes', 15169), ('0531', 15170), ('empanadas', 15171), ('jtv', 15172), ('rught', 15173), ('shininglt', 15174), ('facking', 15175), ('bluelt', 15176), ('engulf', 15177), ('quotamazingquot', 15178), ('egrowth', 15179), ('awogah', 15180), ('corpsed', 15181), ('bacor', 15182), ('wahaha', 15183), ('toinks', 15184), ('thumping', 15185), ('wasp', 15186), ('mush', 15187), ('prereunion', 15188), ('gt140', 15189), ('superexcited', 15190), ('sapy', 15191), ('juicystar', 15192), (\"brody's\", 15193), ('4u', 15194), ('reskined', 15195), ('twetsuite', 15196), ('ofence', 15197), ('vienozimigi', 15198), ('polen', 15199), ('launder', 15200), ('d1', 15201), ('doind', 15202), ('invented', 15203), ('hyped', 15204), ('flatened', 15205), ('ocasion', 15206), ('ezine', 15207), ('iptv', 15208), ('garth', 15209), ('calmer', 15210), ('retract', 15211), ('idiom', 15212), (\"y'are\", 15213), ('idiotattux', 15214), ('techyupie', 15215), ('macedonian', 15216), ('serbia', 15217), ('rolemodel', 15218), ('97', 15219), ('ureo', 15220), ('valentine', 15221), ('sardonic', 15222), ('kaden', 15223), ('515', 15224), ('crud', 15225), ('7days', 15226), ('tron', 15227), ('michi', 15228), ('godamit', 15229), ('guh', 15230), ('apostro', 15231), ('creatur', 15232), ('dne', 15233), ('quotrogue', 15234), ('malwarequot', 15235), ('macmaze', 15236), ('sole', 15237), ('trini', 15238), ('esata', 15239), ('bendito', 15240), ('banbury', 15241), ('holykins', 15242), ('soproudofyou', 15243), ('noah', 15244), (\"tyson's\", 15245), ('speach', 15246), ('ducky', 15247), ('thingys', 15248), ('whey', 15249), ('stinkered', 15250), ('miamiadc', 15251), ('veronique', 15252), ('branquinho', 15253), ('picies', 15254), (\"hairdo'ing\", 15255), ('decy', 15256), ('breton', 15257), ('foking', 15258), ('woking', 15259), ('vhits', 15260), ('lunchfast', 15261), ('chiper', 15262), ('wofers', 15263), ('caladesi', 15264), ('freshner', 15265), ('horiblel', 15266), ('grosed', 15267), ('dependable', 15268), ('geny', 15269), ('ishi', 15270), ('gays', 15271), ('baixa', 15272), ('incense', 15273), ('smoki', 15274), ('iloveyoumore', 15275), ('stomachace', 15276), ('storyquot', 15277), ('complement', 15278), ('blve', 15279), ('fanbase', 15280), ('quotsanctityquot', 15281), ('mi5', 15282), ('pulish', 15283), ('quotfaling', 15284), ('slowlyquot', 15285), (\"p'kia\", 15286), ('mystic', 15287), ('bientt', 15288), ('lire', 15289), ('quincy', 15290), ('hush', 15291), ('teasing', 15292), ('ogbery', 15293), ('fishfingers', 15294), ('2learn', 15295), ('1hour', 15296), ('chij', 15297), ('mowj', 15298), ('thims', 15299), ('hoj', 15300), ('hangf', 15301), ('thik', 15302), ('ganf', 15303), ('xa', 15304), ('thong', 15305), ('cuois', 15306), ('bledin', 15307), ('tedx', 15308), ('landmark', 15309), ('quotoohoh', 15310), ('shinyquot', 15311), ('dmore', 15312), ('awetastic', 15313), (\"ripley's\", 15314), ('eatingbad', 15315), ('bludge', 15316), ('playground', 15317), ('yd', 15318), ('psychiatric', 15319), ('kinokuniya', 15320), ('overwhelmed', 15321), ('hfw', 15322), ('fixin', 15323), ('springfield', 15324), ('kasa', 15325), ('mpa', 15326), ('videorecord', 15327), ('quotrestoration', 15328), ('proposalsquot', 15329), ('avocet', 15330), ('40ish', 15331), ('keshia', 15332), ('beshia', 15333), ('bulying', 15334), ('shortcoming', 15335), ('subtract', 15336), ('mcfonalds', 15337), ('mygriled', 15338), ('jerys', 15339), ('reco', 15340), ('beathrom', 15341), ('reachfind', 15342), ('outsie', 15343), ('ciwaf', 15344), ('ether', 15345), ('wailt', 15346), ('twitastic', 15347), ('lasting', 15348), ('2015', 15349), ('btf', 15350), ('ampnot', 15351), (\"meowmie's\", 15352), ('melai', 15353), ('badete', 15354), ('suhana', 15355), ('sorowquot', 15356), ('thelovelybones', 15357), ('premire', 15358), ('heah', 15359), ('donminican', 15360), ('magnolia', 15361), ('shay', 15362), ('shlda', 15363), ('knwn', 15364), ('ws', 15365), ('crd', 15366), ('trance', 15367), (\"drum'n'bas\", 15368), ('mufler', 15369), ('alstars', 15370), ('lapbok', 15371), (\"rofl'd\", 15372), ('asprin', 15373), ('nielsenpowermoms', 15374), ('wahts', 15375), ('ilu', 15376), ('edinburghac', 15377), ('zwarte', 15378), ('mailot', 15379), (\"knight's\", 15380), ('quotconfirmedquot', 15381), ('quotxquot', 15382), ('jebus', 15383), ('fiercemichi', 15384), ('tulip', 15385), ('disprove', 15386), ('jbobsesed', 15387), ('bokface', 15388), ('risngs', 15389), ('40mb', 15390), ('onpeak', 15391), ('cardigan', 15392), ('sharpied', 15393), ('canalway', 15394), ('cavalcade', 15395), ('shotdrinksaturday', 15396), ('uncontrolable', 15397), ('avon', 15398), ('bitbeter', 15399), ('luvd', 15400), ('extent', 15401), ('azalea', 15402), ('ofquotthe', 15403), ('climbquotits', 15404), ('sngs', 15405), ('quothomequot', 15406), ('brusels', 15407), ('3ah', 15408), ('3aref', 15409), ('speakerphone', 15410), ('andrews', 15411), ('poetize', 15412), ('50p', 15413), ('tweak', 15414), ('frely', 15415), ('hereditary', 15416), ('amoxxx', 15417), ('reboting', 15418), ('stereo', 15419), ('skyline', 15420), ('howya', 15421), ('cnp', 15422), ('thanksgiving', 15423), ('esex', 15424), ('brunt', 15425), ('airforce', 15426), ('shtich', 15427), ('paperweight', 15428), ('notified', 15429), ('panwa', 15430), ('quotserious', 15431), ('eats', 15432), ('nyquot', 15433), ('gastronomical', 15434), ('swa', 15435), ('snezy', 15436), ('domination', 15437), ('pantera', 15438), ('decleration', 15439), ('shery', 15440), ('melanie', 15441), ('olina', 15442), ('jover', 15443), ('prehistoric', 15444), ('lyke', 15445), ('sami', 15446), ('baybe', 15447), ('smugle', 15448), ('eternity', 15449), ('gaha', 15450), ('perkinz', 15451), ('hahahahahahahahahahahahaha', 15452), ('tlc', 15453), ('hopw', 15454), ('bareiles', 15455), ('resignation', 15456), ('mayjah', 15457), ('612', 15458), ('overthetop', 15459), ('cokoutofthecentury', 15460), ('8a', 15461), ('rishloves', 15462), ('sugesting', 15463), ('deferment', 15464), ('awakeningquot', 15465), ('indivibe', 15466), ('pastry', 15467), ('ohman', 15468), ('lapitytopity', 15469), ('awayz', 15470), ('quotquotub', 15471), ('40quotbring', 15472), ('cupquotquotquot', 15473), ('bwahahahahahaha', 15474), ('neways', 15475), ('piper', 15476), ('bof', 15477), ('0128', 15478), ('somethng', 15479), ('bitching', 15480), ('kyles', 15481), ('medley', 15482), ('phantom', 15483), ('tetep', 15484), ('3bt', 15485), ('buat', 15486), ('kamis', 15487), ('syapa', 15488), ('clubhouse', 15489), ('wl', 15490), ('suckiest', 15491), ('tiasha', 15492), ('weksquot', 15493), ('havaianas', 15494), ('mold', 15495), ('medhurst', 15496), ('vod', 15497), (\"n'pop\", 15498), ('lum', 15499), ('somtum', 15500), ('homenot', 15501), ('oldy', 15502), ('kneling', 15503), ('comptition', 15504), ('montral', 15505), ('205', 15506), ('695', 15507), ('trina', 15508), ('cheated', 15509), ('outage', 15510), ('proped', 15511), ('slipy', 15512), ('mer', 15513), ('fer', 15514), (\"sn's\", 15515), ('ngh', 15516), ('ampmore', 15517), ('gaulers', 15518), ('krystle', 15519), ('catfights', 15520), ('kenan', 15521), ('kel', 15522), ('btr', 15523), ('pmark', 15524), (\"elmer's\", 15525), ('hihihi', 15526), ('corny', 15527), ('alam', 15528), ('buldogs', 15529), (\"lily's\", 15530), ('quotstabalisequot', 15531), ('viritual', 15532), ('pinkwind', 15533), (\"vanesa's\", 15534), ('sumtime', 15535), ('knowng', 15536), ('sung', 15537), ('erbdy', 15538), ('samsam', 15539), ('aberden', 15540), ('ovie', 15541), ('exspecialy', 15542), ('finito', 15543), ('blurynes', 15544), ('coukd', 15545), ('flair', 15546), ('eithah', 15547), ('balistic', 15548), ('airco', 15549), ('flicker', 15550), ('jks', 15551), ('cpl', 15552), ('flashy', 15553), ('cheto', 15554), ('acepts', 15555), ('bx', 15556), ('printingshiping', 15557), ('cnews', 15558), ('afterschol', 15559), ('likin', 15560), ('quotswetsquot', 15561), ('englisch', 15562), ('eish', 15563), ('boet', 15564), ('basten', 15565), ('spite', 15566), ('oregan', 15567), ('105al', 15568), ('smb', 15569), ('jls', 15570), ('leakycon', 15571), ('afrin', 15572), ('teacup', 15573), (\"washer's\", 15574), ('underpaid', 15575), ('wilen', 15576), ('sprungquot', 15577), ('gadgetopia', 15578), ('yoyo', 15579), ('121908inlove', 15580), ('chuti', 15581), ('wilingly', 15582), ('churnet', 15583), ('ucla', 15584), ('bry', 15585), ('hospitol', 15586), ('tourny', 15587), ('reriped', 15588), ('trailor', 15589), ('ontherun', 15590), ('tmh', 15591), ('bouncy', 15592), ('tonyt', 15593), ('l8', 15594), ('ther', 15595), ('beneath', 15596), ('cornerstone', 15597), ('goign', 15598), ('blindly', 15599), ('ocupational', 15600), ('hazard', 15601), ('biknightual', 15602), ('twedeck', 15603), ('varit', 15604), ('kurt', 15605), ('shakalohana', 15606), ('wavez', 15607), ('postexams', 15608), ('rover', 15609), ('phn', 15610), ('tmail', 15611), ('grensborough', 15612), ('prev', 15613), ('bundora', 15614), ('inane', 15615), ('cocktails', 15616), ('bangbros', 15617), ('onionboty', 15618), ('jameson', 15619), ('quotwhyquot', 15620), ('disrespect', 15621), ('yhere', 15622), ('godsmack', 15623), ('enlargement', 15624), ('producedirectfilmedit', 15625), ('cordinate', 15626), ('feti', 15627), ('puzled', 15628), ('pinpoint', 15629), ('ladyquot', 15630), ('simpler', 15631), ('felted', 15632), (\"chaseton's\", 15633), ('nsure', 15634), ('dising', 15635), ('wereoctopus', 15636), ('redems', 15637), ('werespider', 15638), ('maxium', 15639), ('experiement', 15640), ('3pg', 15641), ('turbo', 15642), ('maint', 15643), ('julius', 15644), ('caesar', 15645), ('loadsa', 15646), ('shize', 15647), ('quotselfishquot', 15648), ('levi', 15649), ('privileged', 15650), ('frnd', 15651), ('43416', 15652), ('guesting', 15653), ('tgi', 15654), ('bogus', 15655), ('ahahahahahaha', 15656), ('borgelaj', 15657), ('expensv', 15658), ('btl', 15659), ('twidling', 15660), ('milsy', 15661), ('groundhog', 15662), ('sinai', 15663), ('lousier', 15664), ('overdid', 15665), ('dseldorf', 15666), ('maders', 15667), ('valdez', 15668), ('quotbus', 15669), ('stalkingquot', 15670), ('simpleologymark', 15671), ('joyner', 15672), ('wembley', 15673), ('mamabear', 15674), ('disastrous', 15675), ('crazyb', 15676), (\"wldn't\", 15677), ('befriending', 15678), ('wepy', 15679), ('takn', 15680), ('lasie', 15681), ('streamin', 15682), ('faf', 15683), ('ecologicaly', 15684), ('eco', 15685), ('thirst', 15686), ('chanwok', 15687), (\"person's\", 15688), ('vine', 15689), ('adhd', 15690), ('kanye', 15691), ('inspite', 15692), ('twitergadget', 15693), ('wimbledon', 15694), ('bn', 15695), ('naku', 15696), (\"mustv'e\", 15697), ('thunderstorming', 15698), ('nonsense', 15699), ('sham', 15700), ('bating', 15701), ('adv', 15702), ('corp', 15703), ('prospect', 15704), ('elope', 15705), ('donta', 15706), ('honeyquot', 15707), ('scrubs', 15708), ('ecas', 15709), ('quotlame', 15710), ('foter', 15711), ('nare', 15712), ('nightal', 15713), ('nowtht', 15714), ('heltershelter', 15715), ('110pm', 15716), ('graduated', 15717), ('sakatas', 15718), ('tide', 15719), ('twethearts', 15720), ('302', 15721), ('faires', 15722), ('nevertheles', 15723), ('magnificence', 15724), ('enw', 15725), ('sneakerz', 15726), (\"ray's\", 15727), ('danceflor', 15728), ('wartermelon', 15729), ('tensthanks', 15730), ('societe', 15731), ('generale', 15732), ('partytime', 15733), ('moneymaker', 15734), ('iight', 15735), ('derny', 15736), ('sofie', 15737), ('carpol', 15738), ('pickler', 15739), ('farther', 15740), (\"bed's\", 15741), ('readheads', 15742), ('quotseductivelyquot', 15743), ('sprawl', 15744), ('bonet', 15745), ('shocker', 15746), ('filet', 15747), ('interent', 15748), ('quotrecoveringquot', 15749), ('betos', 15750), ('marly', 15751), ('chronic', 15752), ('fentanyl', 15753), ('morphin', 15754), ('678', 15755), ('98212', 15756), ('spagheti', 15757), ('quotfriedquot', 15758), ('foreword', 15759), ('frustratingly', 15760), ('choreograph', 15761), ('ahd', 15762), ('dadt', 15763), ('padawan', 15764), (\"doe't\", 15765), ('loveyoufletch', 15766), ('aslyum', 15767), ('teus', 15768), ('tifys', 15769), ('neurosurgeon', 15770), ('itwhich', 15771), ('verse', 15772), ('alba', 15773), ('35,138', 15774), ('5,468', 15775), ('welwod', 15776), ('507am', 15777), ('2k9', 15778), ('gratis', 15779), ('abp', 15780), ('reimer', 15781), ('nbc', 15782), ('theoficenbc', 15783), ('gervais', 15784), ('airshow', 15785), ('howto', 15786), ('guideles', 15787), ('folkz', 15788), ('masturbate', 15789), ('closin', 15790), ('workwise', 15791), ('dnb', 15792), ('bejewled', 15793), ('higherscore', 15794), ('etonline', 15795), ('heckity', 15796), ('daysof', 15797), ('cokboks', 15798), ('jimithy', 15799), ('msbjlt', 15800), ('quotend', 15801), ('septemberquot', 15802), ('multitask', 15803), (\"you'r\", 15804), (\"matine's\", 15805), ('sepin', 15806), ('eran', 15807), ('imho', 15808), ('yeahya', 15809), ('seizure', 15810), ('nigling', 15811), ('poltergeist', 15812), ('beastypops', 15813), ('broughty', 15814), ('toris', 15815), ('tei', 15816), ('sency', 15817), ('ghina', 15818), ('famine', 15819), ('hiphiphoray', 15820), ('devastated', 15821), ('molagotal', 15822), ('reheadaches', 15823), ('navigation', 15824), ('imux', 15825), ('graduating', 15826), ('lbd', 15827), ('pmg', 15828), ('relasie', 15829), ('cutback', 15830), ('manhatan', 15831), ('droping', 15832), ('trafalger', 15833), ('sainthod', 15834), ('winwin', 15835), ('lyndi', 15836), ('291km', 15837), ('vaneta', 15838), ('overstufed', 15839), ('farewels', 15840), ('firepit', 15841), ('nites', 15842), (\"haribo's\", 15843), ('reluctantly', 15844), ('35th', 15845), ('2getha', 15846), ('lantz', 15847), ('hearn', 15848), ('involuntary', 15849), ('emanate', 15850), ('quotoh', 15851), ('jovani', 15852), ('quotdid', 15853), ('dinghy', 15854), ('fotie', 15855), ('papi', 15856), ('salvador', 15857), ('everlt', 15858), ('unfortunetly', 15859), ('ealing', 15860), (\"silverstone's\", 15861), ('iracing', 15862), ('norskart', 15863), ('resigned', 15864), ('burnedfried', 15865), ('algonquin', 15866), ('ey', 15867), ('besos', 15868), ('grandes', 15869), ('guapo', 15870), ('pangaea', 15871), ('quotf', 15872), ('kilah', 15873), ('farming', 15874), (\"churo's\", 15875), ('0909', 15876), ('truelt', 15877), ('hyperactive', 15878), ('8weks', 15879), ('flufbalthegodzila', 15880), ('beaten', 15881), ('suced', 15882), (\"quotwe're\", 15883), (\"elaine's\", 15884), ('likelike', 15885), ('smugly', 15886), ('wolftrap', 15887), ('krisnan', 15888), ('inu', 15889), ('nastines', 15890), ('sharkboy', 15891), ('bcuz', 15892), ('meanwhile', 15893), ('bigwekend', 15894), ('nim', 15895), (\"o'donel\", 15896), (\"edna's\", 15897), ('northpark', 15898), ('morisey', 15899), ('thugs', 15900), ('ext', 15901), ('filesystem', 15902), ('operability', 15903), ('revolutionize', 15904), ('bachus', 15905), ('corected', 15906), ('950', 15907), ('sader', 15908), ('plurking', 15909), ('quotmisery', 15910), ('businesquot', 15911), ('buisneses', 15912), ('fowers', 15913), ('cabo', 15914), ('twiteradict', 15915), ('liu', 15916), ('ambush', 15917), (\"who'd\", 15918), ('disastrously', 15919), ('blatently', 15920), ('tricked', 15921), (\"vma's\", 15922), (\"we'r\", 15923), ('lazyrealy', 15924), ('romo', 15925), ('boardies', 15926), ('mountainjam', 15927), ('nitenite', 15928), ('anima', 15929), ('antoinete', 15930), ('befor', 15931), ('godnightlt', 15932), ('quotengagement', 15933), ('ringsquot', 15934), ('priviledges', 15935), ('croisant', 15936), ('drinks', 15937), ('maul', 15938), ('triplet', 15939), ('fdms', 15940), ('frefest', 15941), ('kut', 15942), ('motorcade', 15943), ('jaming', 15944), ('meyrueis', 15945), ('replenish', 15946), ('quotnakuh', 15947), ('grabeh', 15948), ('litrel', 15949), ('rigth', 15950), ('loev', 15951), ('hanahmovie', 15952), ('withmom', 15953), ('lindy', 15954), ('200', 15955), ('olympiou', 15956), ('diamanti', 15957), ('thesaloniki', 15958), ('clydesdale', 15959), ('iknow', 15960), ('obtain', 15961), ('elita', 15962), ('realz', 15963), ('flypside', 15964), ('creat', 15965), ('425', 15966), ('dayne', 15967), ('1km', 15968), ('decoupling', 15969), (\"jordie's\", 15970), (\"donie's\", 15971), ('momamp', 15972), ('ing', 15973), ('fusy', 15974), ('suzy', 15975), ('chiang', 15976), ('studyexam', 15977), ('samanthaampdenise', 15978), ('robs', 15979), ('bugin', 15980), ('disaterous', 15981), ('ferari', 15982), (\"yorkshire's\", 15983), ('resturants', 15984), ('talker', 15985), ('gsn', 15986), ('endorsed', 15987), ('twindex', 15988), ('calder', 15989), ('plaza', 15990), ('nafa', 15991), ('understands', 15992), ('fusterated', 15993), ('smirker', 15994), ('jak', 15995), ('pinhole', 15996), ('witdrawal', 15997), ('overhere', 15998), ('bringtaraback', 15999), ('stalkerishly', 16000), ('brokie', 16001), ('moraca', 16002), (\"delerium's\", 16003), ('leb', 16004), (\"music's\", 16005), ('ax', 16006), ('ombra', 16007), ('largo', 16008), ('hndel', 16009), ('auditor', 16010), ('letuces', 16011), ('opticon', 16012), ('veneck', 16013), ('quotsl', 16014), ('sequot', 16015), ('vicente', 16016), ('belagio', 16017), ('sizling', 16018), ('brliant', 16019), ('gordon', 16020), ('svetlana', 16021), ('cardinal', 16022), ('atw', 16023), ('3440', 16024), ('discotech', 16025), ('lolzor', 16026), ('speler', 16027), ('hairband', 16028), ('e1', 16029), (\"palomino's\", 16030), ('embarasd', 16031), ('margs', 16032), ('samanthas', 16033), ('supervise', 16034), (\"gus's\", 16035), ('fracked', 16036), ('diskhapines', 16037), (\"s'just\", 16038), ('analytics', 16039), ('comanal', 16040), (\"safari's\", 16041), ('autofil', 16042), ('plural', 16043), ('nescaf', 16044), ('arangements', 16045), ('hairbal', 16046), ('masita', 16047), ('easties', 16048), ('livebox', 16049), ('sk8', 16050), ('skateprk', 16051), ('spek', 16052), ('curb', 16053), ('scientist', 16054), ('watership', 16055), ('folwin', 16056), ('conviced', 16057), ('dvbs', 16058), ('valium', 16059), ('lunchbreak', 16060), ('cambs', 16061), ('os', 16062), ('imacs', 16063), (\"coco's\", 16064), ('dargah', 16065), ('quotchangequot', 16066), ('dvdquot', 16067), ('divxquot', 16068), ('internetquot', 16069), ('shoutz', 16070), ('nanaimo', 16071), ('basicalyheadache', 16072), ('cudlez', 16073), ('qantas', 16074), ('flyertalk', 16075), ('mondog', 16076), ('horten', 16077), ('tyson', 16078), ('buthole', 16079), ('tchquot', 16080), ('rawks', 16081), ('fiel', 16082), ('proably', 16083), ('ghey', 16084), ('830pm', 16085), ('milton', 16086), ('keynes', 16087), ('experienced', 16088), ('vidjagame', 16089), ('vgtribune', 16090), ('reasoning', 16091), ('4give', 16092), ('790', 16093), ('pismo', 16094), ('powershot', 16095), ('snowy', 16096), ('everest', 16097), ('shoutin', 16098), ('saginaki', 16099), ('fanatic', 16100), ('watir', 16101), ('5,0', 16102), ('ep1', 16103), (\"i'am\", 16104), ('legacy', 16105), ('polon', 16106), ('telonly', 16107), ('recoverednot', 16108), ('changi', 16109), ('penang', 16110), (\"maiko's\", 16111), (\"socksy's\", 16112), ('plucky', 16113), (\"caspar's\", 16114), ('bandartist', 16115), ('scandic', 16116), (\"cy's\", 16117), ('employer', 16118), ('disband', 16119), ('quotkeping', 16120), ('itemsquot', 16121), ('fanboy', 16122), ('morison', 16123), ('tangible', 16124), ('omnomnom', 16125), ('luat', 16126), ('examenul', 16127), ('sps', 16128), ('alochol', 16129), ('godbey', 16130), ('brusters', 16131), ('shani', 16132), ('compile', 16133), ('tae', 16134), ('kidz', 16135), ('alternatively', 16136), ('quotpride', 16137), ('zombiesquot', 16138), ('negotiation', 16139), ('sympahty', 16140), ('848am', 16141), ('cliche', 16142), ('popularity', 16143), ('910', 16144), ('tabo', 16145), ('quotrofl', 16146), ('pwn', 16147), ('stepson', 16148), ('frosted', 16149), ('bikeshed', 16150), ('blancmange', 16151), ('twetboard', 16152), ('smug', 16153), ('whistleblower', 16154), ('lopez', 16155), ('sexay', 16156), ('friendquot', 16157), ('curied', 16158), ('musels', 16159), ('octopus', 16160), ('pretifide', 16161), ('boagsie', 16162), ('caga', 16163), ('quotfriends', 16164), ('xdxdxd', 16165), (\"women's\", 16166), (\"right's\", 16167), ('dami', 16168), ('flamenco', 16169), ('subforms', 16170), ('solea', 16171), ('12beat', 16172), ('lonovala', 16173), ('arngmnts', 16174), ('wrkg', 16175), ('chloes', 16176), ('trike', 16177), ('thingo', 16178), ('scion', 16179), ('goblet', 16180), ('hac', 16181), ('40cm', 16182), ('8703', 16183), ('grenblack', 16184), ('wilyum', 16185), ('mday', 16186), ('altzheimers', 16187), ('phne', 16188), ('mamas', 16189), ('kiskas', 16190), ('katey', 16191), ('giniejean', 16192), ('mojo', 16193), ('wlda', 16194), ('dumyhead', 16195), ('alkaline', 16196), ('cwpm', 16197), ('givein', 16198), ('arun', 16199), ('tagers', 16200), ('sctest', 16201), ('1630', 16202), ('quotful', 16203), ('schedulequot', 16204), ('quottraveling', 16205), ('daughterquot', 16206), ('cought', 16207), ('giardia', 16208), ('alitle', 16209), ('duster', 16210), ('grenhils', 16211), ('balikbayans', 16212), ('twirp', 16213), ('highers', 16214), ('45xy', 16215), ('54pqa', 16216), ('ml', 16217), ('batshit', 16218), ('orwel', 16219), ('cheryflavored', 16220), ('shant', 16221), ('lyx', 16222), ('oeiras', 16223), (\"wil's\", 16224), ('wentz', 16225), ('hez', 16226), ('akc', 16227), ('overuled', 16228), ('highland', 16229), ('unpopular', 16230), ('algae', 16231), ('medici', 16232), ('irelevant', 16233), ('superwomans', 16234), ('pizahut', 16235), ('tourdeus', 16236), ('austria', 16237), ('hiamplow', 16238), ('flygroups', 16239), ('sundayshoutout', 16240), ('funty', 16241), ('blonder', 16242), ('migraining', 16243), ('todaythe', 16244), ('naproxen', 16245), ('a48', 16246), ('cowbridge', 16247), ('quotrulesquot', 16248), ('deprivation', 16249), ('gregshowing', 16250), ('headzup', 16251), ('uhg', 16252), ('lmfa', 16253), ('showering', 16254), ('frined', 16255), ('lapa', 16256), ('samba', 16257), ('extenders', 16258), ('twitertaleover', 16259), ('froyo', 16260), (\"craig's\", 16261), (\"disco's\", 16262), (\"murder's\", 16263), ('ruleaz', 16264), ('zic', 16265), ('hurtig', 16266), ('loveya', 16267), ('nai', 16268), ('prevents', 16269), ('mabaho', 16270), ('doubleclick', 16271), ('minifridge', 16272), ('spamedtroled', 16273), ('howardforums', 16274), ('sjez', 16275), ('slecht', 16276), ('hrlich', 16277), ('bara', 16278), ('muak', 16279), ('sudah', 16280), ('sybase', 16281), ('ase', 16282), ('sparc', 16283), ('x86', 16284), ('britainsgotalent', 16285), ('waw', 16286), ('bgn', 16287), ('postr', 16288), ('tyring', 16289), ('aruba', 16290), ('instalers', 16291), ('shapeshifter', 16292), ('dwel', 16293), ('waubonsie', 16294), ('wacha', 16295), ('despair', 16296), ('visualy', 16297), ('impaired', 16298), ('loging', 16299), ('preserve', 16300), ('aquired', 16301), ('opertunity', 16302), ('rfided', 16303), ('armani', 16304), ('pantone', 16305), ('lustig', 16306), ('armer', 16307), ('garantiefal', 16308), ('complication', 16309), ('pints', 16310), ('quoticant', 16311), ('reily', 16312), ('socergame', 16313), ('feln', 16314), ('belofsouthie', 16315), ('sikaflex', 16316), ('caulk', 16317), ('comercialy', 16318), (\"quen's\", 16319), ('belongs', 16320), ('blackberyles', 16321), ('heavyweight', 16322), ('dbsk', 16323), (\"opa's\", 16324), ('mirotic', 16325), ('savechuck', 16326), ('satisfaction', 16327), ('randomnes', 16328), ('somthing', 16329), ('jihon', 16330), ('inovation', 16331), ('py3', 16332), ('clubs', 16333), ('godown', 16334), ('fungus', 16335), ('kona', 16336), ('triathlon', 16337), ('litleren', 16338), ('inocents', 16339), ('camara', 16340), ('casting', 16341), ('danvan', 16342), ('marykay', 16343), ('sendai', 16344), ('glre', 16345), ('thorough', 16346), ('degrease', 16347), ('babi', 16348), ('pangang', 16349), ('cheak', 16350), ('galethoo', 16351), ('adopter', 16352), ('refreshingly', 16353), ('dire', 16354), ('scenic', 16355), ('bagin', 16356), ('mythic', 16357), ('screnshot', 16358), ('bymyself', 16359), ('fireflight', 16360), ('proverb', 16361), (\"posiblei'm\", 16362), ('weatherquot', 16363), (\"badie's\", 16364), (\"camera's\", 16365), ('twestival', 16366), ('comite', 16367), ('yupunfortunately', 16368), ('delicate', 16369), ('shaby', 16370), ('growling', 16371), ('nandos', 16372), ('quotm', 16373), ('letersemails', 16374), ('fome', 16375), ('waitresing', 16376), ('discriminate', 16377), ('luton', 16378), ('orgasmic', 16379), ('jerms', 16380), ('treck', 16381), ('batonrouge', 16382), ('yinz', 16383), ('yself', 16384), (\"doneit's\", 16385), ('cara', 16386), ('muahahaha', 16387), ('hustle', 16388), (\"england's\", 16389), ('flavorus', 16390), ('paperbound', 16391), ('zit', 16392), ('herpes', 16393), ('quotquirky', 16394), ('qquot', 16395), ('concerto', 16396), ('goverment', 16397), ('downsizinghe', 16398), ('quotsave', 16399), ('buletin', 16400), ('shockable', 16401), ('spineles', 16402), ('copilot', 16403), ('burnin', 16404), ('oir', 16405), ('ahmazing', 16406), ('unify', 16407), ('drasticaly', 16408), ('flashcads', 16409), ('vn', 16410), ('ababa', 16411), ('printed', 16412), ('bwrc', 16413), ('beshie', 16414), ('waht', 16415), ('jazfest', 16416), ('folowstats', 16417), ('quotfodstatsquot', 16418), ('17lb', 16419), ('banerbomb', 16420), ('homebrew', 16421), ('albany', 16422), (\"ao's\", 16423), ('arh', 16424), ('wirting', 16425), ('almos', 16426), ('listenint', 16427), ('afh', 16428), ('bumbed', 16429), ('paprika', 16430), ('interupt', 16431), ('wombat', 16432), ('tamara', 16433), ('squirelist', 16434), ('sliver', 16435), ('sahal', 16436), ('quotstunerbumquot', 16437), ('restaraunt', 16438), ('quotgarfieldsquot', 16439), ('htb', 16440), ('homepagequot', 16441), ('somtimes', 16442), (\"blackbery's\", 16443), ('requoting', 16444), ('gyan', 16445), ('muthu', 16446), ('wfamily', 16447), ('tmemegt', 16448), (\"g'day\", 16449), ('carbon', 16450), ('fotprint', 16451), ('spashed', 16452), ('humiliate', 16453), ('agnes', 16454), ('smirky', 16455), ('mascot', 16456), ('virl', 16457), ('longband', 16458), (\"jason's\", 16459), ('strachino', 16460), (\"bristol's\", 16461), ('emulate', 16462), ('activeresource', 16463), ('merh', 16464), ('underground', 16465), ('congrads', 16466), ('engagementbridal', 16467), ('quotjump', 16468), ('audiencequot', 16469), ('warz', 16470), ('americana', 16471), ('comisioners', 16472), ('sherifs', 16473), ('acdent', 16474), ('46', 16475), ('backing', 16476), ('comix', 16477), ('putz', 16478), ('adoro', 16479), ('2hours', 16480), ('mispeled', 16481), ('notgiving', 16482), ('oposites', 16483), ('motherland', 16484), ('heav', 16485), ('vitles', 16486), ('bw', 16487), ('danget', 16488), ('wlw', 16489), ('nononline', 16490), ('prescholers', 16491), ('3540', 16492), (\"snapy's\", 16493), ('texts', 16494), ('gatlinburg', 16495), ('smarmy', 16496), ('fibromyalgia', 16497), ('compoundin', 16498), ('photobucket', 16499), ('momthe', 16500), ('lulz', 16501), ('chity', 16502), ('oes', 16503), ('turbul', 16504), ('bunt', 16505), ('tonighttomorow', 16506), ('02', 16507), ('kanina', 16508), ('babieshow', 16509), ('thng', 16510), ('acustomed', 16511), ('kodiak', 16512), ('perants', 16513), ('yonkers', 16514), ('updatd', 16515), ('mantanence', 16516), ('vagas', 16517), ('lenos', 16518), ('hubytobe', 16519), ('shawn', 16520), ('empitome', 16521), ('scotishtryingtobeirish', 16522), ('ewan', 16523), ('mcgregor', 16524), ('blouse', 16525), ('novi', 16526), ('beignet', 16527), ('dasit', 16528), ('renounce', 16529), ('corney', 16530), ('ariela', 16531), ('gonzalez', 16532), ('gdgd', 16533), ('hughesy', 16534), ('raferty', 16535), ('welch', 16536), ('bakit', 16537), ('nilagnat', 16538), ('aq', 16539), ('khpon', 16540), ('headbangersbal', 16541), ('quotgothquot', 16542), ('rieger', 16543), ('begonia', 16544), ('tame', 16545), ('voyagerstyle', 16546), ('quotmedicalquot', 16547), ('ww', 16548), ('comuserthebomtube', 16549), ('milfs', 16550), ('lath', 16551), ('unyay', 16552), ('muzik', 16553), ('chesca', 16554), ('ayana', 16555), ('nebal', 16556), ('plc', 16557), ('483', 16558), ('hernia', 16559), ('shil', 16560), ('it6', 16561), ('twens', 16562), ('comunityfirstandtrust', 16563), ('gmas', 16564), ('achurley', 16565), ('6172622', 16566), ('pleasantly', 16567), ('siser', 16568), ('mornineverybody', 16569), ('butfuck', 16570), ('forgetful', 16571), (\"newsdon't\", 16572), ('mkting', 16573), ('kiya', 16574), ('ampi', 16575), ('chalenged', 16576), ('moisturiser', 16577), ('glosary', 16578), ('latrine', 16579), ('redskins', 16580), ('partridge', 16581), ('setled', 16582), (\"pln's\", 16583), ('earthday', 16584), ('conducive', 16585), ('jobaplying', 16586), ('lavly', 16587), ('presenting', 16588), ('owens', 16589), ('nontouch', 16590), ('20km', 16591), ('quothelpedquot', 16592), (\"unit's\", 16593), ('iweb', 16594), ('optimize', 16595), ('compasion', 16596), ('ets', 16597), ('endoscopic', 16598), ('thoracic', 16599), ('sympathectomy', 16600), ('invaluable', 16601), ('surgical', 16602), ('rutger', 16603), ('hauer', 16604), ('respite', 16605), ('recontinue', 16606), ('quotbreathlesquot', 16607), ('wthat', 16608), ('carto', 16609), ('mick', 16610), ('hindu', 16611), ('ragas', 16612), ('sfs', 16613), ('freud', 16614), ('implication', 16615), ('palmpre', 16616), (\"we's\", 16617), ('rusel', 16618), (\"brand's\", 16619), ('ponderland', 16620), ('carera', 16621), ('sinse', 16622), ('medieval', 16623), ('pavilion', 16624), ('poverty', 16625), ('cypher', 16626), ('lazying', 16627), ('laminator', 16628), ('older', 16629), ('girlz', 16630), ('minivacation', 16631), ('clemson', 16632), ('inevitably', 16633), ('orangepineaplebanana', 16634), ('lget', 16635), ('chun', 16636), ('visialize', 16637), ('environent', 16638), ('moronmonday', 16639), ('logicaly', 16640), ('ciera', 16641), ('whatevah', 16642), ('gamestop', 16643), ('clyde', 16644), ('jayz', 16645), ('viral', 16646), ('quotp', 16647), ('maita', 16648), ('belevile', 16649), ('snub', 16650), ('ineptnesshynes', 16651), (\"fly's\", 16652), ('veranda', 16653), ('midday', 16654), ('runaway', 16655), ('cruz', 16656), ('bios', 16657), ('angerp', 16658), ('angerk', 16659), ('grogy', 16660), ('driven', 16661), ('justsayin', 16662), ('playingforchange', 16663), ('monumental', 16664), ('20ish', 16665), ('rainbots', 16666), ('ysj', 16667), ('tehre', 16668), ('flatie', 16669), ('kitsch', 16670), ('oopsie', 16671), ('troling', 16672), ('rupert', 16673), ('grint', 16674), ('elearning', 16675), ('mhmhmh', 16676), ('pastel', 16677), ('superin', 16678), ('hor', 16679), ('shikari', 16680), ('jos', 16681), ('whedon', 16682), ('prydz', 16683), ('remastering', 16684), ('skyped', 16685), ('chairman', 16686), ('evangelize', 16687), ('cubiclefredomnes', 16688), ('enzyte', 16689), ('paintbaling', 16690), ('sking', 16691), ('treble', 16692), ('41,0', 16693), (\"carey's\", 16694), ('groupchat', 16695), ('irc', 16696), ('ymous', 16697), ('contrast', 16698), ('awekay', 16699), ('brokun', 16700), ('humuns', 16701), ('agin', 16702), ('wun', 16703), ('conaway', 16704), ('kenickie', 16705), ('dolidh', 16706), ('filipno', 16707), (\"nany's\", 16708), ('iater', 16709), ('grenlake', 16710), ('reparat', 16711), ('macul', 16712), ('iei', 16713), ('saturat', 16714), ('multe', 16715), ('dupa', 16716), ('mania', 16717), ('1245', 16718), ('fanish', 16719), ('inquisition', 16720), ('arbie', 16721), ('winipeg', 16722), ('socialquot', 16723), ('gush', 16724), ('chickade', 16725), ('alumni', 16726), ('wormie', 16727), (\"gaiman's\", 16728), ('quotamerican', 16729), (\"murakami's\", 16730), ('quotwindup', 16731), ('chroniclesquot', 16732), ('surlytwen', 16733), ('treky', 16734), (\"gomez's\", 16735), ('tortilas', 16736), ('ilovemymomy', 16737), ('intrusive', 16738), ('shmolan', 16739), ('chinerys', 16740), ('chabibi', 16741), ('stubhub', 16742), ('lacie', 16743), ('mcguire', 16744), ('quotblowin', 16745), ('jointquot', 16746), ('blaqh', 16747), ('busty', 16748), ('peac', 16749), ('patsy', 16750), ('jenah', 16751), ('earlybird', 16752), ('inflate', 16753), ('49', 16754), ('granada', 16755), ('ado', 16756), ('yot', 16757), (\"nely's\", 16758), ('frat', 16759), ('painter', 16760), ('stokowski', 16761), ('cramcrackers', 16762), ('redford', 16763), ('sufjan', 16764), ('stevens', 16765), ('sluger', 16766), ('kerbear', 16767), ('grtsat', 16768), ('bgeting', 16769), ('grining', 16770), ('crusty', 16771), ('whants', 16772), ('corections', 16773), ('wantned', 16774), ('musicares', 16775), ('mamba', 16776), ('sumfink', 16777), (\"stephanie's\", 16778), ('mhcsmoch', 16779), ('64bit', 16780), ('vtx', 16781), ('brotherhod', 16782), ('magician', 16783), ('sxswi', 16784), ('soupysoup', 16785), ('heinz', 16786), ('dowe', 16787), ('loven', 16788), ('pvp', 16789), ('240', 16790), ('utv', 16791), ('whistler', 16792), ('promsing', 16793), ('miricle', 16794), ('paisleyalison', 16795), ('kraus', 16796), ('chatanoga', 16797), ('dlovato', 16798), ('aztex', 16799), ('aproval', 16800), ('pomchi', 16801), ('freakyfriday', 16802), ('concusions', 16803), ('bobage', 16804), (\"bf's\", 16805), ('staford', 16806), (\"sumer's\", 16807), ('omgogmgo', 16808), (\"dj's\", 16809), ('partypeople', 16810), ('ibs', 16811), ('4,0', 16812), ('mpre', 16813), ('moped', 16814), ('beautful', 16815), ('kaust', 16816), ('405', 16817), (\"they's\", 16818), ('tabu', 16819), ('esense', 16820), ('pricy', 16821), ('quottalkedquot', 16822), ('pav', 16823), ('bhaji', 16824), ('finely', 16825), ('cofeshop', 16826), ('quiting', 16827), ('deadpol', 16828), ('myweaknes', 16829), ('kayaking', 16830), ('subwayyum', 16831), ('neuroanatomy', 16832), ('takehome', 16833), ('dayem', 16834), ('lina', 16835), ('birthdaypresent', 16836), ('ticking', 16837), ('revisin', 16838), ('chiptune', 16839), ('carbonate', 16840), ('erotica', 16841), ('snufing', 16842), ('liv', 16843), ('eanyway', 16844), ('exeter', 16845), ('ceviche', 16846), ('belinis', 16847), ('undeveloped', 16848), ('janele', 16849), ('430am', 16850), ('h1', 16851), ('drawning', 16852), ('twethug', 16853), ('morph', 16854), ('tontown', 16855), ('sosad', 16856), ('studlife', 16857), ('fost', 16858), ('tiberiu', 16859), ('aflat', 16860), ('sunt', 16861), ('imbecili', 16862), ('peste', 16863), ('chergo', 16864), (\"broke's\", 16865), ('mustache', 16866), ('mustaches', 16867), ('trus', 16868), ('loco', 16869), ('scabs', 16870), ('recaling', 16871), ('shopingampdiner', 16872), ('ethnicity', 16873), ('dueces', 16874), ('ideal', 16875), ('ohi', 16876), ('pastrana', 16877), ('510am', 16878), ('aplemouse', 16879), ('quottrying', 16880), ('trackpad', 16881), ('areply', 16882), ('restuarant', 16883), ('sensex', 16884), ('actorquot', 16885), ('3breakupwords', 16886), ('throwin', 16887), (\"rah's\", 16888), ('ili', 16889), (\"shalonda's\", 16890), ('dbl', 16891), ('dbar', 16892), ('timez', 16893), ('slepz', 16894), ('qc', 16895), ('downwards', 16896), (\"denver's\", 16897), ('soready', 16898), ('supercute', 16899), ('worksquot', 16900), ('intrigued', 16901), ('madict', 16902), ('swetpea', 16903), ('goingaway', 16904), ('dangnes', 16905), ('cogars', 16906), ('sherbert', 16907), ('nutritious', 16908), ('flowin', 16909), ('fancys', 16910), ('lighterampbong', 16911), ('diplomat', 16912), ('monsterinlaw', 16913), ('jiayou', 16914), ('bestselers', 16915), ('watup', 16916), ('jv', 16917), ('stairsgravity', 16918), ('crep', 16919), ('asasinate', 16920), ('reaper', 16921), ('acidents', 16922), ('hahahahahahahahahah', 16923), ('replying', 16924), ('tonights', 16925), ('hignfy', 16926), ('minic', 16927), ('burgh', 16928), ('be4', 16929), ('palace', 16930), ('helacious', 16931), (\"chelsea's\", 16932), ('wamu', 16933), ('lambs', 16934), ('kaila', 16935), ('ocampo', 16936), ('rainbowholic', 16937), ('meampamperiesilence', 16938), ('890', 16939), ('michou', 16940), ('gula', 16941), ('melaka', 16942), ('santan', 16943), ('devestated', 16944), ('meagevs', 16945), ('embosers', 16946), ('papersource', 16947), ('thehandsomebluebeast', 16948), ('hihihuahau', 16949), ('unsurprised', 16950), ('analisa', 16951), ('brotherskristi', 16952), (\"neighbour's\", 16953), ('benevolent', 16954), ('ria', 16955), ('bomin', 16956), ('fuc', 16957), ('bucz', 16958), ('starbucz', 16959), ('dati', 16960), ('lian', 16961), ('eina', 16962), ('francis', 16963), ('nar', 16964), ('yupie', 16965), ('cda', 16966), ('blokey', 16967), ('pencilsquot', 16968), ('sharpen', 16969), ('posada', 16970), ('chilito', 16971), ('shifty', 16972), ('middetox', 16973), ('beaut', 16974), ('raze', 16975), ('charli', 16976), ('frward', 16977), ('lao', 16978), ('spanikopita', 16979), ('delcious', 16980), ('hopefly', 16981), ('christa', 16982), ('ast', 16983), ('quotmoney', 16984), ('botox', 16985), ('jolie', 16986), ('inerne', 16987), ('bord', 16988), ('quotcoding', 16989), ('wizardquot', 16990), ('nasi', 16991), ('pisang', 16992), ('cokelat', 16993), ('t4', 16994), ('blurgh', 16995), ('calaveras', 16996), ('injustice', 16997), ('wolery', 16998), (\"lexi's\", 16999), ('1h3mn', 17000), ('153bpm', 17001), ('3ware', 17002), ('9650se', 17003), ('3x', 17004), ('x25m', 17005), ('80mhz', 17006), ('iop', 17007), ('hpt', 17008), ('adaptec', 17009), ('5405', 17010), ('omaha', 17011), ('pawn', 17012), ('playable', 17013), ('exclusivity', 17014), ('chord', 17015), ('orc', 17016), ('ucler', 17017), ('hehesory', 17018), ('t9', 17019), ('architecture', 17020), ('twister', 17021), ('realnot', 17022), ('asociated', 17023), ('axkit', 17024), ('tortelini', 17025), (\"corespondant's\", 17026), ('plugs', 17027), ('patent', 17028), ('earplug', 17029), ('niene', 17030), ('whts', 17031), ('gurlie', 17032), ('ohai', 17033), ('wilkes', 17034), ('barescranton', 17035), ('sewing', 17036), ('rhcp', 17037), ('ferdinand', 17038), ('ampno', 17039), ('golfbals', 17040), (\"ibm's\", 17041), ('w4m', 17042), ('29yr', 17043), ('yata', 17044), ('migrains', 17045), ('oyay', 17046), ('adreses', 17047), ('suckquot', 17048), ('tja', 17049), (\"jen's\", 17050), ('benihana', 17051), (\"downloadfestival's\", 17052), ('viny', 17053), ('bathe', 17054), ('icecold', 17055), ('sunkist', 17056), ('synology', 17057), ('diskstations', 17058), ('barton', 17059), ('quotofquot', 17060), ('waltzer', 17061), ('magicmoment', 17062), ('jagk', 17063), ('ofstret', 17064), ('330p', 17065), ('wkds', 17066), ('recepies', 17067), ('symptons', 17068), ('syamptoms', 17069), ('shalownes', 17070), ('romania', 17071), ('knig', 17072), (\"todayit's\", 17073), ('sender', 17074), ('voyager', 17075), ('pleb', 17076), ('ehehe', 17077), ('everythin', 17078), ('yoult', 17079), ('jolt', 17080), ('emilie', 17081), ('twetilicious', 17082), ('whope', 17083), ('twiterin', 17084), ('rowing', 17085), ('quotsounds', 17086), ('butermilk', 17087), ('symantec', 17088), ('coruption', 17089), ('donbt', 17090), ('cps', 17091), ('continuation', 17092), ('interpreter', 17093), ('sicp', 17094), ('reviens', 17095), ('15h30', 17096), ('strangle', 17097), ('salesman', 17098), ('shamwow', 17099), ('colestbest', 17100), ('1971', 17101), ('fany', 17102), ('pseudo', 17103), ('stepmoms', 17104), ('merchant', 17105), ('surname', 17106), ('tostitos', 17107), ('piknik', 17108), ('sampr', 17109), ('blackout', 17110), ('ilusin', 17111), ('fucksake', 17112), ('monthsso', 17113), ('preped', 17114), ('quotfredomquot', 17115), ('stokednot', 17116), (\"noboby's\", 17117), ('14,8', 17118), ('sentimental', 17119), ('cashis', 17120), ('jenkins', 17121), ('broham', 17122), ('naise', 17123), ('arond', 17124), ('tasi', 17125), ('fuges', 17126), ('2face', 17127), ('palisade', 17128), ('quotkep', 17129), ('clearquot', 17130), ('gamier', 17131), ('metaverseu', 17132), ('devel', 17133), ('casandra', 17134), ('wilcox', 17135), ('blos', 17136), ('botay', 17137), ('censoring', 17138), ('stufted', 17139), ('resonate', 17140), ('resto', 17141), ('quotquadratic', 17142), ('congruencesquot', 17143), ('elementary', 17144), ('myweawknes', 17145), ('sprint', 17146), (\"now's\", 17147), ('slipons', 17148), ('checkered', 17149), ('quotchevrolet', 17150), ('domquot', 17151), ('works', 17152), ('paintbal', 17153), ('13410151', 17154), ('w4', 17155), ('kandy', 17156), ('koated', 17157), ('df', 17158), ('37,4', 17159), ('fuze', 17160), (\"komen's\", 17161), ('zagrebe', 17162), ('iloveitwhen', 17163), ('touring', 17164), ('roundtrip', 17165), ('hustlabal', 17166), ('citizens', 17167), ('prowler', 17168), ('antm', 17169), ('nicotine', 17170), ('twitchy', 17171), ('ange', 17172), ('godmoring', 17173), ('yat', 17174), ('myspaces', 17175), ('payed', 17176), ('jaydiohead', 17177), ('darcy', 17178), ('kaylen', 17179), ('urg', 17180), ('photoshots', 17181), ('hashtag', 17182), ('jman', 17183), ('khichadi', 17184), ('mosque', 17185), ('minigolf', 17186), ('fifa', 17187), ('zade', 17188), ('princesi', 17189), ('butinedhelp', 17190), ('chgehcfncshvd', 17191), ('poughkepsie', 17192), ('ridic', 17193), ('honeypot', 17194), ('bitchy', 17195), ('quotim', 17196), ('excitedquot', 17197), ('menudo', 17198), ('bravi', 17199), ('quotknowingquot', 17200), ('operated', 17201), ('humility', 17202), ('extendable', 17203), ('interwebnet', 17204), (\"cat's\", 17205), (\"d'oh\", 17206), (\"benjery's\", 17207), ('sundres', 17208), ('redundancy', 17209), ('eli', 17210), ('siping', 17211), ('lexi', 17212), ('worthing', 17213), ('oiks', 17214), ('furby', 17215), ('luau', 17216), ('weightles', 17217), ('remembrd', 17218), ('vair', 17219), ('yeslt', 17220), ('softes', 17221), ('kaching', 17222), ('magicaly', 17223), ('clumsy', 17224), ('rampb', 17225), ('textedcaled', 17226), ('zelenka', 17227), (\"twit's\", 17228), ('zeke', 17229), ('fantasticaly', 17230), (\"retweting's\", 17231), ('smthng', 17232), ('threadles', 17233), ('bowsquot', 17234), ('biafra', 17235), ('kingdomquot', 17236), ('heyheyheyheyehyey', 17237), ('friad', 17238), ('b0ut2get', 17239), ('2start', 17240), ('reintroduce', 17241), ('420', 17242), ('braxton', 17243), ('quotdramaquot', 17244), ('quotlove', 17245), ('15hrs', 17246), ('tonoght', 17247), ('wolvarine', 17248), ('veges', 17249), ('shard', 17250), ('pokey', 17251), ('corazonsito', 17252), ('tiene', 17253), ('adelaidemarie', 17254), ('canadatoronto', 17255), ('237', 17256), ('repetitive', 17257), ('newbrunswick', 17258), ('sunehre', 17259), ('courier', 17260), ('hanger', 17261), ('wlaughter', 17262), ('sameperson', 17263), ('finde', 17264), ('chicas', 17265), ('dslr', 17266), ('surealism', 17267), ('voton', 17268), ('quotsuperflat', 17269), ('monogramquot', 17270), ('takashi', 17271), ('murakami', 17272), ('adison', 17273), (\"grace's\", 17274), ('funzen', 17275), ('quotrocknrolaquot', 17276), ('boted', 17277), ('thumbs', 17278), ('extinction', 17279), ('quotsony', 17280), ('uga', 17281), ('arelano', 17282), ('mika', 17283), ('riple', 17284), (\"ra'anana\", 17285), ('endeavor', 17286), ('trs', 17287), (\"tuesday's\", 17288), ('scrape', 17289), ('subcribed', 17290), ('festivus', 17291), ('wrestling', 17292), ('glamy', 17293), ('crocker', 17294), ('iflowers', 17295), ('lacking', 17296), ('implementation', 17297), ('unitest', 17298), ('sigur', 17299), (\"milan's\", 17300), ('carthage', 17301), ('bambo', 17302), ('ples', 17303), ('volt', 17304), ('embroidery', 17305), ('significant', 17306), ('reasasing', 17307), ('boundry', 17308), ('merier', 17309), ('unbox', 17310), ('clubing', 17311), (\"ltemogtlife's\", 17312), ('unfairltemogt', 17313), (\"jackman's\", 17314), ('potbely', 17315), ('quihote', 17316), ('greatscores', 17317), ('yeaps', 17318), ('notary', 17319), ('retrograde', 17320), ('tinkle', 17321), ('twitfriends', 17322), ('quotname', 17323), ('twunequot', 17324), ('restructure', 17325), ('rsvping', 17326), ('a2', 17327), ('sackiroth', 17328), ('dhcp', 17329), ('overtwet', 17330), ('sufolk', 17331), ('newsfire', 17332), ('calcs', 17333), ('shred', 17334), ('khsa', 17335), ('quotshortquot', 17336), ('quotcrawlquot', 17337), ('excoleagues', 17338), ('boasting', 17339), ('plez', 17340), ('bamf', 17341), ('icvb', 17342), ('monwed', 17343), ('breadtalk', 17344), ('preseason', 17345), ('drawl', 17346), ('tmnt', 17347), ('mpr', 17348), ('binoculars', 17349), ('lubock', 17350), ('scenery', 17351), ('genghis', 17352), ('natalies', 17353), ('cater', 17354), ('emulsioning', 17355), ('lanka', 17356), ('duc', 17357), ('audiobok', 17358), ('climbquot', 17359), ('cheque', 17360), ('50d', 17361), ('southkorean', 17362), ('dietquot', 17363), ('wn', 17364), ('abundantbles', 17365), ('pfp', 17366), ('quotsay', 17367), ('anythingquot', 17368), ('cusack', 17369), ('shorti', 17370), ('35am', 17371), ('armada', 17372), ('guci', 17373), ('undeleted', 17374), ('grime', 17375), ('interupted', 17376), ('jackhamers', 17377), ('intil', 17378), ('thougth', 17379), ('anoyingly', 17380), ('nipising', 17381), ('reword', 17382), ('quotgroup', 17383), (\"instead'a\", 17384), ('quotgang', 17385), ('bangingquot', 17386), ('protols', 17387), ('persia', 17388), ('zap', 17389), (\"alarm's\", 17390), ('doa', 17391), ('vm', 17392), ('misalign', 17393), ('kindof', 17394), ('sheraton', 17395), ('brodi', 17396), ('bqd', 17397), ('wep', 17398), ('monwolfquot', 17399), ('hedache', 17400), ('zsg', 17401), ('presly', 17402), ('ufc', 17403), ('kbal', 17404), ('subbasement', 17405), ('moned', 17406), ('benot', 17407), ('thocaught', 17408), ('amadou', 17409), ('miriam', 17410), ('tue', 17411), ('kelantan', 17412), (\"pi'm\", 17413), ('stricken', 17414), ('asthetics', 17415), ('agequot', 17416), (\"montday's\", 17417), ('wilmy', 17418), ('eastgardens', 17419), ('facesized', 17420), (\"insha'alah\", 17421), ('anivarsary', 17422), (\"hanson's\", 17423), ('buckle', 17424), ('inanity', 17425), ('foward', 17426), ('wisely', 17427), ('skyrocket', 17428), ('clergy', 17429), ('1945', 17430), ('spageti', 17431), ('milenia', 17432), ('afected', 17433), ('fluh', 17434), ('1n1', 17435), ('atonement', 17436), ('no0o0o0o', 17437), ('orbitron', 17438), (\"man's\", 17439), ('butlins', 17440), ('191', 17441), ('suzaku', 17442), ('hoepfner', 17443), ('burgfest', 17444), ('karlsruhe', 17445), ('fucktards', 17446), ('bahahah', 17447), ('idylic', 17448), ('geordiebird', 17449), ('bikini', 17450), ('oramarecords', 17451), ('incl', 17452), ('lautnerdaily', 17453), ('degenerate', 17454), ('ocupants', 17455), ('reprehensibles', 17456), ('minethatbird', 17457), ('fodland', 17458), (\"jb's\", 17459), ('wyour', 17460), ('kiau', 17461), ('prezie', 17462), ('breakfastservice', 17463), ('marjoleine', 17464), ('guido', 17465), ('dirk', 17466), ('taskbased', 17467), ('ux', 17468), ('criticism', 17469), ('benz', 17470), ('serviced', 17471), ('clearer', 17472), ('calendarmaking', 17473), ('improperly', 17474), ('alsort', 17475), ('exces', 17476), ('congest', 17477), ('rambly', 17478), (\"toronto's\", 17479), ('ipt', 17480), ('wereld', 17481), ('potong', 17482), ('rambut', 17483), ('oxoxoteambrezy', 17484), (\"ikea's\", 17485), ('hyperventilate', 17486), ('bobobyebye', 17487), ('scrufy', 17488), ('nerfherders', 17489), (\"ami's\", 17490), (\"sunlounger's\", 17491), ('watkins', 17492), ('playtime', 17493), ('campos', 17494), ('misendon', 17495), ('overgrown', 17496), ('37', 17497), ('bc4', 17498), ('redbuble', 17499), ('outie', 17500), ('mikado', 17501), ('1245am', 17502), ('mysefl', 17503), ('nx01', 17504), ('1701no', 17505), ('thatwouldmake', 17506), ('1of', 17507), ('wikihow', 17508), ('kons', 17509), ('gaiman', 17510), ('quotnazi', 17511), ('frnds', 17512), ('quotmanaselam', 17513), ('kulir', 17514), ('nanbargale', 17515), ('gema', 17516), ('mwahahah', 17517), ('conectese', 17518), ('xetito', 17519), ('charade', 17520), ('lml', 17521), ('tatered', 17522), ('couisn', 17523), ('radioactive', 17524), ('timequot', 17525), ('quaterfinals', 17526), ('penalty', 17527), ('gunter', 17528), ('jeska', 17529), ('plantin', 17530), ('soil', 17531), ('preaplication', 17532), ('reckles', 17533), ('evenlyn', 17534), ('tomora', 17535), (\"ya's\", 17536), ('timely', 17537), ('productnamingrulez', 17538), ('jimys', 17539), ('kitsilano', 17540), ('utiful', 17541), ('fretds', 17542), ('utf', 17543), ('workquot', 17544), ('bridal', 17545), ('eilish', 17546), ('competiton', 17547), ('pineaples', 17548), ('cruisey', 17549), ('beautifuly', 17550), ('disposition', 17551), ('50th', 17552), ('60k', 17553), ('renta', 17554), ('sweldo', 17555), ('eyeshadows', 17556), ('tantrum', 17557), ('apologetic', 17558), ('devos', 17559), ('starin', 17560), ('cancertown', 17561), ('1b', 17562), ('valk', 17563), ('skankin', 17564), ('bprohibiting', 17565), ('stamford', 17566), ('diferently', 17567), ('tset', 17568), ('plead', 17569), ('metric', 17570), ('milage', 17571), ('760', 17572), ('atat', 17573), ('stormtropers', 17574), (\"bucher's\", 17575), ('thash', 17576), ('akhrnya', 17577), ('ngi', 17578), ('90210nya', 17579), ('macet', 17580), ('pdhl', 17581), ('nyari', 17582), ('3nya', 17583), ('rolf', 17584), ('lokquot', 17585), ('t8', 17586), ('emalon', 17587), ('vouches', 17588), ('laughlin', 17589), ('rih', 17590), ('advisory', 17591), ('epy', 17592), ('timer', 17593), ('pantech', 17594), ('stayathome', 17595), ('planed', 17596), ('akh', 17597), ('sayed', 17598), (\"hasan's\", 17599), ('leafs', 17600), ('badie', 17601), ('imismonkeh', 17602), ('coward', 17603), ('polka', 17604), ('glam', 17605), ('genious', 17606), ('sukanya', 17607), ('jun', 17608), ('pyo', 17609), ('sunybank', 17610), ('quotfriendquot', 17611), ('robe', 17612), ('cryhardcore', 17613), ('kam', 17614), ('lalo', 17615), ('keltin', 17616), ('badboks', 17617), ('quotvision', 17618), ('vision', 17619), ('aoouoouoou', 17620), ('toooquot', 17621), ('2,697', 17622), ('seagul', 17623), ('mylan', 17624), ('herts', 17625), ('acustic', 17626), ('saelina', 17627), (\"eachother's\", 17628), ('cakin', 17629), ('tutle', 17630), ('botlegs', 17631), ('drycleaners', 17632), ('coda', 17633), ('9usd', 17634), ('ramble', 17635), ('guard', 17636), ('pauly', 17637), ('waly', 17638), ('quotsentimental', 17639), ('watajokeentalquot', 17640), ('fren', 17641), ('romancescomedies', 17642), (\"julia's\", 17643), ('kidsiting', 17644), (\"bruv's\", 17645), ('quotfrom', 17646), ('ekin', 17647), ('freako', 17648), ('roidz', 17649), ('friending', 17650), ('zozo', 17651), (\"voda's\", 17652), ('ilike', 17653), ('grabyhands', 17654), ('fledged', 17655), ('nv', 17656), ('alies', 17657), ('bufer', 17658), ('weknend', 17659), ('organiser', 17660), ('artistdjs', 17661), ('fewf', 17662), ('blodtests', 17663), ('luckquot', 17664), ('minibus', 17665), ('destrey', 17666), ('ihate', 17667), ('intensity', 17668), ('hex', 17669), ('quotew', 17670), ('blodquot', 17671), ('fasting', 17672), ('cera', 17673), ('g4tv', 17674), ('gotdamn', 17675), ('fruitcake', 17676), ('showertraficfactory', 17677), ('afterthought', 17678), ('rebeca', 17679), ('symonds', 17680), ('i73', 17681), ('lahore', 17682), ('barg', 17683), ('gmod', 17684), ('2345', 17685), ('fanciful', 17686), ('24hr', 17687), ('bridgefront', 17688), ('shiney', 17689), ('sawy', 17690), ('tuger', 17691), ('misto', 17692), ('135', 17693), ('sounder', 17694), ('lova', 17695), ('coldplaylt', 17696), ('laundromat', 17697), ('sameway', 17698), ('krystal', 17699), (\"valencia's\", 17700), ('apicture', 17701), ('dmp', 17702), ('yrsampstring', 17703), ('naratives', 17704), ('prologue', 17705), ('liberalism', 17706), ('quotchrist', 17707), ('crucifictionquot', 17708), ('abstraction', 17709), ('bereft', 17710), ('violin', 17711), ('lesonlt', 17712), ('springhil', 17713), ('magix', 17714), ('rhythm', 17715), ('hin', 17716), ('pleasanton', 17717), ('turkish', 17718), ('froma', 17719), ('quotdavid', 17720), ('archuletaquot', 17721), ('t4p', 17722), ('turf', 17723), ('aikido', 17724), ('ribons', 17725), ('externaly', 17726), ('budapest', 17727), ('islip', 17728), ('kilme', 17729), ('doly', 17730), ('loling', 17731), (\"something's\", 17732), ('quotboys', 17733), ('girlsquot', 17734), ('hagis', 17735), (\"wolfram's\", 17736), ('bangalorean', 17737), ('amajanese', 17738), ('takeover', 17739), ('chivalry', 17740), ('gwt', 17741), ('awesomeupdater', 17742), ('finshed', 17743), ('64am', 17744), ('aawh', 17745), ('facepalm', 17746), ('forced', 17747), ('strum', 17748), ('quotwhats', 17749), ('namequot', 17750), (\"t'other\", 17751), ('roban', 17752), ('roampco', 17753), ('undaunted', 17754), ('justified', 17755), ('lamy', 17756), ('grench', 17757), ('damali', 17758), ('unleash', 17759), ('sheli', 17760), ('amazecore', 17761), (\"ad's\", 17762), ('aroud', 17763), ('4him', 17764), ('quotgears', 17765), ('warquot', 17766), ('writersquotthey', 17767), ('foist', 17768), ('pumpin', 17769), ('publicity', 17770), ('vertigo', 17771), ('suferers', 17772), ('obscure', 17773), ('maloryweis', 17774), ('gastritis', 17775), ('scope', 17776), ('humingbird', 17777), ('drumset', 17778), ('clasify', 17779), ('quotanoyingquot', 17780), ('twitermoms', 17781), ('auntiegail', 17782), ('hivis', 17783), ('vest', 17784), ('gails', 17785), ('childminding', 17786), ('alignment', 17787), ('meaningful', 17788), ('userid', 17789), ('vishnupsp', 17790), ('quotfavoritequot', 17791), ('admision', 17792), ('troyela', 17793), ('gmow', 17794), ('rebliping', 17795), ('exsplain', 17796), ('projectm', 17797), ('conk', 17798), ('2035', 17799), ('idont', 17800), ('soberana', 17801), ('colio', 17802), ('mendelsohn', 17803), ('symphony', 17804), ('sheridan', 17805), ('afterno', 17806), ('quotthenquot', 17807), ('morningmiday', 17808), ('anisalovesu', 17809), ('jared', 17810), ('kitie', 17811), ('dtn', 17812), ('napervile', 17813), ('remembered', 17814), ('hehei', 17815), ('penji', 17816), ('mcbaby', 17817), ('shudnt', 17818), ('mowgli', 17819), ('nailpolish', 17820), ('quotwriterquot', 17821), ('corectly', 17822), ('colabs', 17823), ('jetway', 17824), ('quotworkquot', 17825), ('themself', 17826), ('friendfail', 17827), ('finearts', 17828), ('ashy', 17829), ('buden', 17830), ('hazin', 17831), ('thumbnail', 17832), (\"loiusa's\", 17833), ('kangaro', 17834), ('sightsee', 17835), ('cemetary', 17836), ('derekbel', 17837), ('shush', 17838), ('absolves', 17839), ('godmaking', 17840), ('diping', 17841), ('vidlink', 17842), ('verona', 17843), ('enjoyitverymuch', 17844), ('phothos', 17845), ('camel', 17846), ('planktonquot', 17847), ('nno', 17848), ('tolerate', 17849), ('unusuals', 17850), ('uninteresting', 17851), ('fadle', 17852), ('shanepunjab', 17853), ('squirt', 17854), ('silicone', 17855), ('s05e04', 17856), ('sigy', 17857), ('cesna', 17858), ('groundup', 17859), ('intervention', 17860), ('madam', 17861), ('antibacterial', 17862), ('feders', 17863), ('10dola', 17864), ('puled', 17865), (\"cobra's\", 17866), ('santi', 17867), ('practitionerampspent', 17868), ('devote', 17869), ('yeyah', 17870), ('fink', 17871), ('popeye', 17872), ('grifin', 17873), ('nosebleds', 17874), ('gahif', 17875), ('rockpols', 17876), ('octopi', 17877), ('ngayon', 17878), ('nagrerehab', 17879), ('imor', 17880), ('alzheimers', 17881), ('skewl', 17882), ('glena', 17883), ('macy', 17884), ('ludi', 17885), ('bledel', 17886), ('colidge', 17887), ('mediation', 17888), ('blanky', 17889), ('gourmetcok', 17890), ('elmo', 17891), ('falkland', 17892), ('mtbcut', 17893), ('115', 17894), ('fx', 17895), (\"everythin's\", 17896), ('quotpacmanquot', 17897), ('casualty', 17898), ('discography', 17899), ('longest', 17900), ('leatherman', 17901), ('sadifying', 17902), ('heartparts', 17903), ('coca', 17904), ('fructose', 17905), ('goeswent', 17906), ('ayah', 17907), ('vocie', 17908), ('exhilerating', 17909), ('jsut', 17910), ('carowinds', 17911), ('upsidedown', 17912), ('deg', 17913), (\"winter's\", 17914), ('spedway', 17915), ('ncis', 17916), ('zak', 17917), ('wuld', 17918), ('comquot', 17919), ('shoplifting', 17920), ('twistory', 17921), ('quotmost', 17922), ('donald', 17923), ('faison', 17924), ('cace', 17925), ('unfourtantly', 17926), ('abang', 17927), (\"congratulation's\", 17928), ('packer', 17929), ('306,0', 17930), ('theview', 17931), (\"time's\", 17932), ('absoulutely', 17933), ('faintly', 17934), ('unsaid', 17935), ('tourists', 17936), ('pohaku', 17937), ('12st', 17938), ('pitchfork', 17939), ('waking', 17940), ('interuption', 17941), ('ck', 17942), ('fright', 17943), ('mikeywayday', 17944), ('conie', 17945), ('slovakian', 17946), ('xtravision', 17947), ('marsethey', 17948), ('frisby', 17949), ('athlete', 17950), ('joana', 17951), ('bown', 17952), ('1313', 17953), ('quotremember', 17954), ('carmike', 17955), ('referencememe', 17956), ('deranged', 17957), (\"corona's\", 17958), ('trw', 17959), ('masala', 17960), ('chas', 17961), (\"schindler's\", 17962), ('volcano', 17963), ('shardup', 17964), ('admet', 17965), ('maintain', 17966), ('surplus', 17967), ('scoter', 17968), ('547days', 17969), ('cherful', 17970), ('testfest', 17971), ('grot', 17972), ('mins', 17973), ('throwing', 17974), ('civilisation', 17975), ('hoeish', 17976), ('downgrade', 17977), ('scheduler', 17978), ('geogers', 17979), ('scheduled', 17980), ('qampa', 17981), ('247quot', 17982), ('dha', 17983), ('cece', 17984), ('chanqes', 17985), ('photboth', 17986), ('visialvoicemail', 17987), ('wondrous', 17988), ('beltaine', 17989), ('shi', 17990), ('wai', 17991), ('guo', 17992), ('ren', 17993), ('unhealthy', 17994), ('jm', 17995), ('jonasnewsongs', 17996), ('557am', 17997), ('luketic', 17998), ('heathfox', 17999), ('covina', 18000), ('carying', 18001), ('congratses', 18002), ('gramer', 18003), ('eitherquot', 18004), ('grunt', 18005), (\"sister're\", 18006), ('crazily', 18007), ('walkies', 18008), ('vaguely', 18009), ('administrator', 18010), ('firew', 18011), ('daya', 18012), ('walang', 18013), ('ginagawa', 18014), ('gareths', 18015), ('abroad', 18016), ('gareth', 18017), ('baseship', 18018), ('twiteringquot', 18019), ('nome', 18020), ('civilizati', 18021), ('profing', 18022), ('twiterings', 18023), ('fond', 18024), ('ticklish', 18025), ('managaed', 18026), ('asault', 18027), ('ftl', 18028), ('diga', 18029), ('peasy', 18030), ('augusten', 18031), (\"burough's\", 18032), ('sampler', 18033), ('quotmother', 18034), ('earthquot', 18035), ('nurture', 18036), ('3r', 18037), ('3v3ry', 18038), ('th3', 18039), ('unerve', 18040), ('spoters', 18041), ('unknownquot', 18042), ('dreaming', 18043), ('ficklenes', 18044), ('lest', 18045), ('hmp', 18046), ('rovin', 18047), ('ome', 18048), ('jconsole', 18049), ('volkswagen', 18050), ('morse', 18051), ('gaze', 18052), ('astroturf', 18053), ('ewrt', 18054), ('platypus', 18055), ('muchachomalo', 18056), ('teflon', 18057), ('whisky', 18058), ('10jafa', 18059), ('orch', 18060), ('oxoxo', 18061), ('mysore', 18062), ('pigsswines', 18063), ('lula', 18064), ('thnkn', 18065), ('virtu', 18066), ('treviso', 18067), ('futurshow', 18068), ('forza', 18069), ('huah', 18070), ('jupa', 18071), ('resa', 18072), ('awas', 18073), ('kalian', 18074), ('exstudent', 18075), ('sudying', 18076), ('stopit', 18077), ('rendition', 18078), ('comitments', 18079), (\"sergeant's\", 18080), ('betches', 18081), ('15c', 18082), ('30c', 18083), ('overheard', 18084), ('yrold', 18085), ('festive', 18086), ('headachealmost', 18087), ('msned', 18088), ('atcha', 18089), ('lanen', 18090), ('vengaboys', 18091), ('zane', 18092), ('lowe', 18093), ('gladiator', 18094), ('woa', 18095), ('termenator', 18096), ('sugarchocolatecafeine', 18097), ('weow', 18098), ('scholmates', 18099), ('wyou', 18100), ('marying', 18101), ('lovable', 18102), ('hideampsek', 18103), ('poked', 18104), ('5ghz', 18105), ('inhabit', 18106), ('novos', 18107), ('timo', 18108), ('wrongly', 18109), ('muh', 18110), ('glib', 18111), ('crank', 18112), ('soderling', 18113), ('ferer', 18114), ('giles', 18115), ('ebter', 18116), ('adn', 18117), ('shortstack', 18118), ('lovecraftian', 18119), ('culprit', 18120), ('airing', 18121), ('soundbite', 18122), ('tish', 18123), ('crv', 18124), ('duckie', 18125), ('copty', 18126), ('quotpep', 18127), ('eilens', 18128), (\"family's\", 18129), ('buena', 18130), ('boskie', 18131), ('reasurance', 18132), ('cote', 18133), ('jig', 18134), (\"huni'm\", 18135), ('fginished', 18136), ('drinknig', 18137), ('wokieman', 18138), ('shredies', 18139), ('wright', 18140), ('wetabix', 18141), ('lori', 18142), ('munching', 18143), ('withdraws', 18144), ('zum', 18145), ('spohort', 18146), ('respondquot', 18147), ('quotbusyquot', 18148), ('wanthavent', 18149), ('extinct', 18150), ('donalds', 18151), ('depth', 18152), ('dover', 18153), ('deluxe', 18154), ('kitin', 18155), ('pendulum', 18156), ('chaseampstatus', 18157), ('betrots', 18158), ('tortoiseshel', 18159), ('pag', 18160), ('basta', 18161), ('gradualy', 18162), ('ptfe', 18163), ('selfconfidence', 18164), ('requisite', 18165), ('undertakingssems', 18166), ('trackkep', 18167), ('practicing', 18168), ('colectibles', 18169), ('n0w', 18170), ('egotastic', 18171), ('r0cks', 18172), (\"n's\", 18173), ('moe', 18174), ('stome', 18175), ('bankencrisis', 18176), ('romy', 18177), ('welp', 18178), ('kickable', 18179), ('onther', 18180), ('marketer', 18181), ('deby', 18182), ('visio', 18183), ('continuously', 18184), ('pht', 18185), ('ventolin', 18186), (\"round'n'round\", 18187), ('yosemite', 18188), ('boting', 18189), ('dnd', 18190), ('tibet', 18191), ('lakeman', 18192), ('decker', 18193), ('danwtmon', 18194), ('quotwelcomequot', 18195), ('quotwhore', 18196), ('lurequot', 18197), ('harding', 18198), ('embark', 18199), ('tyla', 18200), ('padtron', 18201), ('sheila', 18202), ('dex', 18203), ('wongo', 18204), ('poncho', 18205), ('luluamptherest', 18206), ('nigasz', 18207), ('churchsunday', 18208), ('msql', 18209), ('conects', 18210), ('quotgoquot', 18211), ('mybrute', 18212), ('135am', 18213), ('drinky', 18214), ('bowie', 18215), ('alyana', 18216), ('bondoc', 18217), ('cesar', 18218), ('dlt', 18219), ('sosa', 18220), ('worthed', 18221), ('burnouts', 18222), ('symphonic', 18223), ('selout', 18224), ('fluke', 18225), ('responsible', 18226), ('descanse', 18227), ('paz', 18228), ('luto', 18229), ('feck', 18230), ('uwian', 18231), ('phplurk', 18232), ('5figuretweter', 18233), ('cloging', 18234), ('boiled', 18235), ('mice', 18236), ('expecto', 18237), ('patronum', 18238), (\"camerabag's\", 18239), ('quotloloquot', 18240), ('seos', 18241), ('musli', 18242), ('anoher', 18243), ('mwean', 18244), ('breakout', 18245), ('acordion', 18246), ('thief', 18247), ('bufs', 18248), ('haiti', 18249), ('fols', 18250), ('buxton', 18251), ('grinder', 18252), ('198', 18253), ('nevah', 18254), ('entourage', 18255), (\"e's\", 18256), ('radest', 18257), ('outz', 18258), ('astronomy', 18259), ('quotnothingquot', 18260), ('chol', 18261), ('irma', 18262), ('vep', 18263), ('mrskutcher', 18264), ('aplusk', 18265), ('stepsister', 18266), ('freude', 18267), ('afrikah', 18268), ('itzel', 18269), ('coperated', 18270), ('gorjuz', 18271), ('storyteler', 18272), ('crawfish', 18273), ('trak', 18274), ('charbotgren', 18275), ('quotunusual', 18276), ('sportsmens', 18277), ('arows', 18278), ('10ty', 18279), ('tragidy', 18280), ('catacomb', 18281), ('theyh', 18282), ('yale', 18283), ('mainframe', 18284), ('unban', 18285), ('folkies', 18286), ('landwork', 18287), ('morninughewy', 18288), ('mebut', 18289), (\"ya'lgt\", 18290), ('moni', 18291), ('radioboxer', 18292), ('santos', 18293), ('715', 18294), ('positivly', 18295), ('shwetjayz', 18296), ('noms', 18297), ('himamphe', 18298), ('epfangirl', 18299), ('vpl', 18300), ('aiyaiyah', 18301), ('erikah', 18302), ('16lbs', 18303), ('achievement', 18304), ('kojikun', 18305), ('seastar', 18306), ('siouxsiner', 18307), ('bags', 18308), ('eyelid', 18309), ('dinerbufalo', 18310), ('provolone', 18311), ('befsteak', 18312), ('pastime', 18313), ('gdaughter', 18314), ('hefa', 18315), ('312', 18316), ('godnights', 18317), ('hardcoded', 18318), ('650mb', 18319), ('loaded', 18320), ('1820pm', 18321), ('venture', 18322), ('pentecost', 18323), ('uselesly', 18324), ('jor', 18325), ('pinkbery', 18326), ('panini', 18327), ('lizlove', 18328), ('feminine', 18329), ('backstagepaz', 18330), ('flashlight', 18331), ('promising', 18332), ('1024', 18333), ('height', 18334), ('bumbpy', 18335), ('coblestones', 18336), ('uverse', 18337), ('25mbps', 18338), ('endulging', 18339), ('weabo', 18340), ('kiosk', 18341), ('howlin', 18342), ('musta', 18343), ('8m', 18344), ('maximum', 18345), (\"onit's\", 18346), ('widow', 18347), ('baptize', 18348), ('hungryampi', 18349), ('acomplishment', 18350), ('waterfal', 18351), ('arnie', 18352), ('birdsed', 18353), ('moniez', 18354), ('disbelief', 18355), ('composite', 18356), ('tmwr', 18357), ('motelrom', 18358), ('leuwarden', 18359), ('ip', 18360), ('badumtish', 18361), ('sgb', 18362), ('mamam', 18363), ('babelfish', 18364), ('rehearsing', 18365), ('akl', 18366), ('pledge', 18367), ('236', 18368), ('veritas', 18369), ('whyd', 18370), ('tuto', 18371), ('cuore', 18372), ('rachael', 18373), ('burnside', 18374), ('evernote', 18375), ('flwng', 18376), ('uscan', 18377), ('finland', 18378), (\"alen's\", 18379), (\"bery'd\", 18380), ('staunton', 18381), ('[person]athan', 18382), ('oft', 18383), ('chorleywod', 18384), ('praline', 18385), ('an', 18386), ('supervilians', 18387), ('warfield', 18388), ('pringles', 18389), ('gerbino', 18390), ('mockups', 18391), ('kicking', 18392), ('shiduch', 18393), ('tlk', 18394), ('whatevs', 18395), ('groan', 18396), ('rl', 18397), ('jazercise', 18398), ('chaperone', 18399), ('leary', 18400), ('anal', 18401), ('headway', 18402), ('rz', 18403), ('jumper', 18404), ('creme', 18405), ('brule', 18406), ('tiramisu', 18407), ('saran', 18408), ('husker', 18409), ('bathroms', 18410), ('manotice', 18411), ('kasexyhan', 18412), ('bumabawi', 18413), ('mediatemple', 18414), ('ftp', 18415), ('galagher', 18416), ('intertwet', 18417), ('songbird', 18418), ('exists', 18419), ('workday', 18420), ('ade', 18421), ('mamo', 18422), ('deathstar', 18423), ('enterprice', 18424), ('illegal', 18425), ('inocence', 18426), ('nauseas', 18427), ('ruthie', 18428), ('dion', 18429), ('deadly', 18430), ('shigity', 18431), ('shwa', 18432), ('grate', 18433), ('matresing', 18434), ('physics', 18435), ('hickups', 18436), ('b2g1', 18437), ('dlp', 18438), ('inland', 18439), ('brandnew', 18440), ('kidoe', 18441), ('ftpbrowser', 18442), ('sneakernet', 18443), ('zip', 18444), ('kinkos', 18445), ('flopy', 18446), ('tritonlink', 18447), ('proclamation', 18448), ('rebelioustwitwhoknowsacolcatcok', 18449), ('xs', 18450), ('nitin', 18451), ('sweating', 18452), ('crampin', 18453), ('reiki', 18454), ('rhodes', 18455), ('seley', 18456), ('pretymes', 18457), ('ohbabay', 18458), ('bandwith', 18459), ('exced', 18460), ('filaty', 18461), ('doesntfelwel', 18462), ('elp', 18463), ('sasha', 18464), ('aligators', 18465), ('mupets', 18466), ('mickeyds', 18467), ('egmcmufin', 18468), ('mcyum', 18469), ('rave', 18470), ('beautifulnes', 18471), ('mornins', 18472), ('norwod', 18473), ('nobitchasnesfriday', 18474), ('mgr', 18475), ('alma', 18476), ('purs', 18477), ('mumps', 18478), ('ov', 18479), ('masively', 18480), ('fuckyoumonday', 18481), ('reconecting', 18482), ('chaty', 18483), ('acela', 18484), ('refs', 18485), (\"bo's\", 18486), ('loyalty', 18487), ('tng', 18488), ('jefery', 18489), (\"walkthey're\", 18490), ('agresive', 18491), ('behaviour', 18492), ('smackdownecw', 18493), ('baq', 18494), ('headach', 18495), ('bournvile', 18496), ('funiset', 18497), ('intel', 18498), ('gfx', 18499), ('30rc4', 18500), ('mem', 18501), ('346', 18502), ('lotrrotk', 18503), ('hounslow', 18504), ('gutered', 18505), ('nzntm', 18506), ('hosana', 18507), ('concentrated', 18508), ('brawn', 18509), ('mclaren', 18510), ('genoese', 18511), ('atraction', 18512), ('guysjust', 18513), ('nemm', 18514), ('zdrojky', 18515), ('mozily', 18516), ('perl', 18517), ('stanu', 18518), ('sv', 18519), ('vry', 18520), ('schopnosti', 18521), ('ohlohu', 18522), ('jeves', 18523), ('kimosave', 18524), ('4the', 18525), ('bedy', 18526), ('70,0', 18527), ('guilted', 18528), ('mancrush', 18529), ('belay', 18530), ('tub', 18531), ('moro', 18532), ('pistol', 18533), ('pablos', 18534), ('187', 18535), ('buhahaha', 18536), ('binary', 18537), ('zirconcode', 18538), ('hardearned', 18539), ('oli', 18540), ('grt', 18541), ('catlaughs', 18542), ('gj', 18543), ('schuhmacher', 18544), ('bip', 18545), ('sms', 18546), ('7ag', 18547), ('ye6le3ni', 18548), ('taqa', 18549), ('3od', 18550), ('1710', 18551), ('chipmunk', 18552), ('ashotn', 18553), ('banish', 18554), ('misanthrope', 18555), ('ealy', 18556), ('snapier', 18557), ('responsive', 18558), ('refusn', 18559), ('shripriya', 18560), ('shri', 18561), ('ehehehe', 18562), ('certian', 18563), ('afireinside', 18564), ('cereales', 18565), ('blg', 18566), ('karazy', 18567), ('crocos', 18568), ('salsa', 18569), ('ienjoyed', 18570), (\"nbc's\", 18571), ('nicer', 18572), ('norf', 18573), ('xxrebelrebelx', 18574), ('4secs', 18575), ('absolutley', 18576), ('trianing', 18577), ('calfornia', 18578), ('metamp', 18579), ('related', 18580), ('plansem', 18581), ('bjs', 18582), ('werent', 18583), ('denton', 18584), ('profit', 18585), ('frankies', 18586), ('memoir', 18587), ('gump', 18588), ('madly', 18589), (\"kity's\", 18590), ('siberia', 18591), ('livejournal', 18592), ('beeyetesehedge', 18593), ('mauro', 18594), ('dildo', 18595), ('arsehole', 18596), ('lolclasic', 18597), ('twitix', 18598), ('v1', 18599), ('taura', 18600), ('hanafiah', 18601), ('girlish', 18602), ('aerosmith', 18603), ('tavares', 18604), ('yoko', 18605), ('ono', 18606), ('ebm', 18607), ('wekened', 18608), ('nervewracking', 18609), ('digiqom', 18610), ('skipin', 18611), ('dyer', 18612), ('holcomb', 18613), ('fnb', 18614), ('functional', 18615), ('dificulty', 18616), ('idmfinal', 18617), ('ymas', 18618), ('coms', 18619), ('twefight', 18620), ('explored', 18621), ('jamaicah', 18622), ('overplay', 18623), (\"mofo'ing\", 18624), ('mortal', 18625), ('combat', 18626), ('jodies', 18627), ('itybitykities', 18628), ('adoarble', 18629), ('quenrania', 18630), ('flirting', 18631), ('pretamanger', 18632), ('mccafetastes', 18633), ('mcskilet', 18634), ('morming', 18635), (\"lexington's\", 18636), ('crest', 18637), ('zq', 18638), ('boxset', 18639), ('zimbabwe', 18640), ('twible', 18641), ('naplan', 18642), ('comerce', 18643), ('califur', 18644), (\"honesty's\", 18645), ('junction', 18646), ('olies', 18647), ('tang', 18648), ('workdone', 18649), ('redtape', 18650), ('530am', 18651), ('tenderloin', 18652), ('grens', 18653), ('tremendously', 18654), ('quotpartnerquot', 18655), ('relationships', 18656), ('grenade', 18657), ('c1c2', 18658), ('kapsel', 18659), ('nulis', 18660), ('spertinya', 18661), ('ditag', 18662), ('notificationya', 18663), ('nofair', 18664), ('uhura', 18665), ('likequot', 18666), ('retirment', 18667), ('answerd', 18668), ('flatmate', 18669), ('outproces', 18670), ('peircings', 18671), ('despise', 18672), (\"t'was\", 18673), ('samson', 18674), ('delilah', 18675), ('brickman', 18676), ('unheard', 18677), (\"princelple's\", 18678), ('mie', 18679), ('helden', 18680), ('curlymamaw', 18681), ('pinic', 18682), ('twitmama', 18683), ('motivated', 18684), (\"m'of\", 18685), ('satde', 18686), ('nonalcoholic', 18687), ('mp', 18688), ('tetotaler', 18689), ('waupos', 18690), ('denomination', 18691), ('143', 18692), ('bhabhi', 18693), ('ohay', 18694), ('ilife', 18695), ('handset', 18696), ('bayle', 18697), ('6amalmost', 18698), ('pregers', 18699), ('minibar', 18700), ('starups', 18701), ('mjb', 18702), ('brunos', 18703), ('57', 18704), ('girsl', 18705), ('shag', 18706), ('leyrock', 18707), ('8hrs', 18708), ('coloursfest', 18709), ('ahoy', 18710), ('kidie', 18711), ('getup', 18712), ('nelie', 18713), ('quottwilight', 18714), ('phenomenonquot', 18715), ('quotvampirequot', 18716), ('tethed', 18717), ('morningbrunchish', 18718), ('sebastian', 18719), ('orphanage', 18720), ('loreta', 18721), ('gson', 18722), ('easton', 18723), ('hahs', 18724), ('copeland', 18725), ('butles', 18726), ('retrievable', 18727), ('archived', 18728), ('ltbored', 18729), ('goana', 18730), (\"tot's\", 18731), (\"misy's\", 18732), ('pulin', 18733), ('hardcoremetalcore', 18734), ('bmth', 18735), ('gdnite', 18736), ('aswered', 18737), ('4rm', 18738), ('myslef', 18739), ('bofa', 18740), ('southampton', 18741), ('mumers', 18742), ('oficejet', 18743), ('j450', 18744), ('fax', 18745), ('moses', 18746), ('ikno', 18747), ('bmi', 18748), ('obesed', 18749), ('maudio', 18750), ('ie30s', 18751), ('earbud', 18752), (\"shure's\", 18753), ('savour', 18754), ('4leged', 18755), ('quotkidsquot', 18756), ('gqfhm', 18757), ('keg', 18758), ('philipa', 18759), ('waited', 18760), ('whelchair', 18761), ('quothomeboundquot', 18762), ('boredbots', 18763), ('bognish', 18764), ('clemie', 18765), ('chotachota', 18766), ('reflexie', 18767), (\"boyfriend's\", 18768), ('bunk', 18769), ('grahmcracker', 18770), ('diwali', 18771), ('sadi', 18772), ('dili', 18773), ('lovehate', 18774), ('jokingquot', 18775), ('hayfevery', 18776), ('suferin', 18777), ('luvly', 18778), ('koh', 18779), ('disclaimer', 18780), ('tomos', 18781), ('versa', 18782), ('exsausted', 18783), ('chalky', 18784), ('savior', 18785), ('oxteach', 18786), ('micah', 18787), ('colton', 18788), ('redesign', 18789), ('mandarin', 18790), ('pronunciation', 18791), ('quotfreshquot', 18792), ('honorary', 18793), ('ravit', 18794), ('panahra', 18795), ('cholocate', 18796), ('polside', 18797), ('toniht', 18798), ('lightweight', 18799), ('toesha', 18800), ('geology', 18801), ('magnonotes', 18802), ('kailangang', 18803), ('imemorize', 18804), ('vibrate', 18805), ('4km', 18806), ('ems', 18807), ('stasher', 18808), ('tribal', 18809), ('ashleyquots', 18810), ('preservative', 18811), ('quotjustbakedquot', 18812), ('instrumentals', 18813), ('igbaras', 18814), ('carcasone', 18815), ('tomb', 18816), ('fareweling', 18817), ('eft', 18818), ('ribon', 18819), ('areo', 18820), ('lumpy', 18821), ('chatering', 18822), ('screned', 18823), ('psa', 18824), ('usuing', 18825), ('twidict', 18826), ('boingo', 18827), (\"slower'n\", 18828), ('mdw', 18829), ('concourses', 18830), ('lots', 18831), ('quottouchquot', 18832), ('unfit', 18833), ('aots', 18834), ('hmz', 18835), ('governmental', 18836), ('yw', 18837), ('variable', 18838), ('margin', 18839), ('nutrition', 18840), ('unladylike', 18841), ('satz', 18842), ('curvey', 18843), ('outfield', 18844), ('quotmagie', 18845), ('cadet', 18846), ('a20k', 18847), ('sayquotbitch', 18848), ('moyer', 18849), ('whered', 18850), ('theyve', 18851), ('importexport', 18852), ('localy', 18853), ('wcandice', 18854), ('ishra', 18855), ('ventura', 18856), ('fucktard', 18857), ('artistic', 18858), ('uhum', 18859), ('earlyish', 18860), ('manang', 18861), ('busog', 18862), ('yen', 18863), ('trainwreck', 18864), ('taly', 18865), ('colegas', 18866), ('meus', 18867), ('incompetent', 18868), ('dogsiting', 18869), ('elbowarm', 18870), ('mely', 18871), ('ukpubs', 18872), ('secure', 18873), ('otw', 18874), ('dilah', 18875), (\"kevin's\", 18876), ('sheboygan', 18877), ('tekay', 18878), ('angus', 18879), ('flowy', 18880), ('oystsers', 18881), ('plater', 18882), ('constraint', 18883), ('meadow', 18884), ('hadouken', 18885), ('abreviate', 18886), ('roastbef', 18887), ('mostaza', 18888), ('manejamos', 18889), ('foled', 18890), ('utison', 18891), ('starquot', 18892), ('mizmind', 18893), ('overprice', 18894), ('serco', 18895), ('excitednervous', 18896), ('bangalore', 18897), ('restos', 18898), ('favourtie', 18899), ('whar', 18900), (\"grifin's\", 18901), ('nepal', 18902), ('resigning', 18903), ('digipack', 18904), ('personel', 18905), ('halucinating', 18906), ('bampq', 18907), ('kaneohe', 18908), ('wodvine', 18909), ('thorne', 18910), ('oldschol', 18911), ('onl', 18912), ('weldeserved', 18913), ('olympics', 18914), ('fid', 18915), ('tort', 18916), ('paionks', 18917), ('quotobsesedquot', 18918), ('gtlol', 18919), ('rbi', 18920), ('scholed', 18921), ('tactik', 18922), ('warsaw', 18923), ('custodian', 18924), ('heaps', 18925), (\"drive's\", 18926), ('koxpers', 18927), ('reyt', 18928), ('valentinos', 18929), (\"facebok's\", 18930), ('quotlikequot', 18931), ('cuidalo', 18932), ('americans', 18933), ('difusing', 18934), ('iritation', 18935), ('futile', 18936), ('preties', 18937), ('brum', 18938), ('authentic', 18939), ('2o', 18940), ('godniqht', 18941), ('30p', 18942), ('lingerie', 18943), ('ngobrolin', 18944), ('kesian', 18945), ('kamu', 18946), ('speakernya', 18947), ('rusak', 18948), ('benerin', 18949), ('anita', 18950), ('vague', 18951), ('frenchie', 18952), ('peasant', 18953), ('portmeirion', 18954), ('undertanding', 18955), ('evaluation', 18956), ('tutes', 18957), ('alof', 18958), ('condescend', 18959), ('zulu', 18960), ('meth', 18961), ('datetime', 18962), ('simpatia', 18963), ('votem', 18964), ('mim', 18965), ('midol', 18966), ('thankus', 18967), ('packes', 18968), ('cheryl', 18969), ('handshake', 18970), ('quitsmokingdiary', 18971), ('intrested', 18972), ('schmo', 18973), ('biling', 18974), ('sidy', 18975), ('romulin', 18976), ('wmc', 18977), ('fanmail', 18978), ('fkc', 18979), ('prov', 18980), ('eveyone', 18981), ('kashi', 18982), ('diservice', 18983), ('filas', 18984), ('definently', 18985), ('batling', 18986), ('sexquot', 18987), ('pikachu', 18988), ('biglots', 18989), ('quotits', 18990), ('calander', 18991), ('quotcalendar', 18992), ('colander', 18993), ('spoiled', 18994), ('roton', 18995), (\"act's\", 18996), ('quotnightquot', 18997), ('prorogue', 18998), ('journeying', 18999), ('euch', 19000), ('hape', 19001), ('troubleshoting', 19002), ('cluster', 19003), ('availability', 19004), ('grandas', 19005), ('315', 19006), ('texy', 19007), (\"stacey's\", 19008), ('1,16', 19009), ('arab', 19010), ('ts', 19011), ('iraheta', 19012), ('onscren', 19013), ('shope', 19014), (\"jordan's\", 19015), (\"o's\", 19016), ('lq', 19017), ('bogie', 19018), ('twiternut', 19019), ('quotearlyquot', 19020), ('lightly', 19021), ('mist', 19022), ('orderd', 19023), ('digit', 19024), ('1930', 19025), ('cheat_on', 19026), ('marriage', 19027), ('obstreperously', 19028), ('corrupt', 19029), ('glider', 19030), ('word_picture', 19031), ('shamble', 19032), ('inaugural_address', 19033), ('diachronic', 19034), ('steep', 19035), ('endowment', 19036), ('feel_for', 19037), ('break_dance', 19038), ('magic_trick', 19039), ('carbon_paper', 19040), ('wilderness', 19041), ('boastful', 19042), ('gradient', 19043), ('termination', 19044), ('akin', 19045), ('fecal_matter', 19046), ('tent-fly', 19047), ('annoy', 19048), ('down_payment', 19049), ('unmanageable', 19050), ('read-only_memory', 19051), ('skim_over', 19052), ('have', 19053), ('filmdom', 19054), ('line_up', 19055), ('explicate', 19056), ('at_heart', 19057), ('converge', 19058), ('befit', 19059), ('baloney', 19060), ('phellem', 19061), ('laced', 19062), ('try_on', 19063), ('fall', 19064), ('commit', 19065), ('typify', 19066), ('mental_picture', 19067), ('obstruction', 19068), ('twenty-five', 19069), ('erectile_dysfunction', 19070), ('emergency_room', 19071), ('faineant', 19072), ('phosphorus', 19073), ('debase', 19074), ('unmarried', 19075), ('strive', 19076), ('aloof', 19077), ('squelch', 19078), ('pack_of_cards', 19079), ('circuit_board', 19080), ('originator', 19081), ('farcical', 19082), ('effective', 19083), ('pigeonhole', 19084), ('goner', 19085), ('laminitis', 19086), ('turkey_cock', 19087), ('handling', 19088), ('execration', 19089), ('doctor_of_osteopathy', 19090), ('church_service', 19091), ('apparent_motion', 19092), ('liaison', 19093), ('allude', 19094), ('buffer', 19095), ('approve', 19096), ('bon_mot', 19097), ('decimal_point', 19098), ('causal_agent', 19099), ('drawstring', 19100), ('fast-flying', 19101), ('discipline', 19102), ('dateless', 19103), ('brilliantly', 19104), ('senesce', 19105), ('soman', 19106), ('circular', 19107), ('flat_coat', 19108), ('pulsate', 19109), ('snap_up', 19110), ('morsel', 19111), ('transcript', 19112), ('disorderliness', 19113), ('think_of', 19114), ('admonisher', 19115), ('spill', 19116), ('ritual', 19117), ('european_union', 19118), ('accommodate', 19119), ('auricle', 19120), ('department_of_commerce', 19121), ('operating_room', 19122), ('busbar', 19123), ('pivot', 19124), ('supplier', 19125), ('tiptoe', 19126), ('womanhood', 19127), ('filling', 19128), ('chewing_gum', 19129), ('supplant', 19130), ('seventy-five', 19131), ('criterion', 19132), ('collocate', 19133), ('front_man', 19134), ('warhead', 19135), ('descend', 19136), ('thorium', 19137), ('commiseration', 19138), ('hang_glide', 19139), ('huddle', 19140), ('al-qaeda', 19141), ('think_up', 19142), ('unseasoned', 19143), ('dredge', 19144), ('thirty-one', 19145), ('subtitle', 19146), ('opportunity', 19147), ('playfulness', 19148), ('tarawa', 19149), ('identical', 19150), ('twerp', 19151), ('pay_back', 19152), ('time_period', 19153), ('interrogate', 19154), ('pillow', 19155), ('bombastic', 19156), ('dash_off', 19157), ('logarithm', 19158), ('affair', 19159), ('fitting', 19160), ('stallion', 19161), ('fasten', 19162), ('geld', 19163), ('fancy_dress', 19164), ('machine_politician', 19165), ('einsteinium', 19166), ('resolve', 19167), ('about', 19168), ('malefic', 19169), ('good', 19170), ('happen', 19171), ('canonize', 19172), ('screen', 19173), ('unwrap', 19174), ('gadolinium', 19175), ('underpass', 19176), ('inactive', 19177), ('degree', 19178), ('persevere', 19179), ('dally', 19180), ('check_mark', 19181), ('sojourn', 19182), ('footing', 19183), ('chubby', 19184), ('fulani', 19185), ('fifteen', 19186), ('retool', 19187), ('military_post', 19188), ('peer', 19189), ('absolved', 19190), ('plummet', 19191), ('missouri', 19192), ('incontestable', 19193), ('eagle-eyed', 19194), ('lashkar-e-taiba', 19195), ('tittup', 19196), ('place_setting', 19197), ('make_noise', 19198), ('set_up', 19199), ('forty-nine', 19200), ('enlistment', 19201), ('acclaim', 19202), ('bleak', 19203), ('entice', 19204), ('association', 19205), ('affectionate', 19206), ('farad', 19207), ('coloring_material', 19208), ('plug_in', 19209), ('vitamin_c', 19210), ('coca_cola', 19211), ('flank', 19212), ('monetary_value', 19213), ('acquittance', 19214), ('fathead', 19215), ('adipose_tissue', 19216), ('improving', 19217), ('ladder', 19218), (\"cat-o'-nine-tails\", 19219), ('disclose', 19220), ('salt_lick', 19221), ('resound', 19222), ('crop_up', 19223), ('jest', 19224), ('harassment', 19225), ('annex', 19226), ('centripetal', 19227), ('calibrate', 19228), ('blue_sky', 19229), ('cash_machine', 19230), ('dramaturgy', 19231), ('abruptly', 19232), ('cogitation', 19233), ('complaisance', 19234), ('gummed_label', 19235), ('udder', 19236), ('gestural', 19237), ('consecrate', 19238), ('gust', 19239), ('hook', 19240), ('controversy', 19241), ('sound_recording', 19242), ('investment_company', 19243), ('agriculturist', 19244), ('spinal_column', 19245), ('put_up', 19246), ('decrepit', 19247), ('adjacent', 19248), ('find_oneself', 19249), ('first-rate', 19250), ('plow', 19251), ('liveliness', 19252), ('attract', 19253), ('star_topology', 19254), ('michigander', 19255), ('prevail', 19256), ('rock_candy', 19257), ('libra', 19258), ('unharmed', 19259), ('holy_place', 19260), ('bass', 19261), ('recess', 19262), ('rapier', 19263), ('loss', 19264), ('calcium', 19265), ('fatness', 19266), ('assistant', 19267), ('bespeak', 19268), ('kilobyte', 19269), ('discussion', 19270), ('mission', 19271), ('diarrhea', 19272), ('establish', 19273), ('substitution', 19274), ('cadmium', 19275), ('campaigning', 19276), ('global_positioning_system', 19277), ('unhorse', 19278), ('go_to_bed', 19279), ('forty-one', 19280), ('theatrical_performance', 19281), ('estrange', 19282), ('fishing_gear', 19283), ('napoleon', 19284), ('pagination', 19285), ('debutante', 19286), ('perturb', 19287), ('reviewer', 19288), ('bargain_rate', 19289), ('distinctly', 19290), ('spark_advance', 19291), ('real_number', 19292), ('accrue', 19293), ('sea_mile', 19294), ('secondary_school', 19295), ('subsequently', 19296), ('gesture', 19297), ('lymph_node', 19298), ('protective_covering', 19299), ('one_hundred_twenty-five', 19300), ('headliner', 19301), ('crack_up', 19302), ('vigil', 19303), ('web_log', 19304), ('overhaul', 19305), ('affected_role', 19306), ('acme', 19307), ('denounce', 19308), ('constipate', 19309), ('diabetes_mellitus', 19310), ('boron', 19311), ('picket', 19312), ('get_in_touch', 19313), ('open_fire', 19314), ('speed_of_light', 19315), ('semitrailer', 19316), ('esteem', 19317), ('matter_to', 19318), ('public_opinion', 19319), ('enchant', 19320), ('inquiry', 19321), ('stool', 19322), ('depress', 19323), ('prey', 19324), ('exhibitor', 19325), ('bewitchery', 19326), ('envelop', 19327), ('drink_in', 19328), ('discouragement', 19329), ('alarm_clock', 19330), ('abhorrence', 19331), ('shroud', 19332), ('pay_up', 19333), ('hindrance', 19334), ('contiguous', 19335), ('topographic_point', 19336), ('depository_financial_institution', 19337), ('morning_star', 19338), ('commiserate', 19339), ('horizon', 19340), ('supply', 19341), ('erstwhile', 19342), ('cartoon', 19343), ('capitulation', 19344), ('inhalant', 19345), ('outdistance', 19346), ('homo', 19347), ('alight', 19348), ('one-sixth', 19349), ('embrown', 19350), ('third_gear', 19351), ('drawing_card', 19352), ('ashen', 19353), ('passim', 19354), ('cursorily', 19355), ('compress', 19356), ('ill-timed', 19357), ('pall', 19358), ('cynic', 19359), ('stresd', 19360), ('rblpnqte', 19361), ('quotshesh', 19362), ('lolquot', 19363), ('delux', 19364), ('kaitlyn', 19365), ('enable', 19366), ('growl', 19367), ('duped', 19368), ('superglued', 19369), ('peicing', 19370), ('pcso', 19371), ('tcu', 19372), ('stretcred', 19373), ('bafles', 19374), ('warmfuzies', 19375), ('ladie', 19376), ('quotfinal', 19377), ('breakquot', 19378), ('xcept', 19379), (\"dol's\", 19380), ('stretcar', 19381), ('dexter', 19382), ('parachute', 19383), ('regluing', 19384), ('sanjev', 19385), ('mindnumbing', 19386), (\"chivalry's\", 19387), ('quotoutofnowherequot', 19388), ('manic', 19389), ('rj', 19390), ('douchie', 19391), ('sandpit', 19392), ('floloping', 19393), ('emarosa', 19394), ('liberation', 19395), ('realizewhen', 19396), ('comprehendthat', 19397), ('drace', 19398), ('tasteles', 19399), ('portion', 19400), ('perfectquot', 19401), ('northbound', 19402), ('austira', 19403), ('agen', 19404), ('pomona', 19405), ('lisbon', 19406), ('veteran', 19407), ('porsche', 19408), ('gmorning', 19409), ('hermana', 19410), ('upbeat', 19411), ('locked', 19412), ('cupy', 19413), ('empowering', 19414), ('quotoperation', 19415), ('anchoragequot', 19416), ('lotwise', 19417), ('gaus', 19418), ('laseti', 19419), ('invisalign', 19420), ('refit', 19421), ('mesa', 19422), ('20andsome60', 19423), ('chelmsford', 19424), ('demad', 19425), ('lucia', 19426), ('benington', 19427), ('4real', 19428), ('deadas', 19429), ('squid', 19430), ('nb', 19431), ('scalper', 19432), ('moron', 19433), ('withdrawls', 19434), ('werid', 19435), ('facespacing', 19436), ('gearbox', 19437), ('botherin', 19438), ('bevy', 19439), ('youstinkatrespondingtotexts', 19440), ('sixer', 19441), ('hayde', 19442), ('cdcaves', 19443), ('hilariously', 19444), ('apko', 19445), ('sehat', 19446), ('creper', 19447), ('cyberstalking', 19448), ('listing', 19449), ('quotgrace', 19450), ('dist', 19451), ('ghwt', 19452), ('quotgotquot', 19453), ('kp', 19454), ('eq2', 19455), ('aproveche', 19456), ('cancion', 19457), ('esta', 19458), (\"logan's\", 19459), ('pridelines', 19460), ('osn', 19461), ('coutchcouch', 19462), ('teleconference', 19463), ('comunitychanel', 19464), ('linger', 19465), ('kebab', 19466), ('unity', 19467), (\"v's\", 19468), ('mnh', 19469), ('coi', 19470), ('tinh', 19471), ('quiche', 19472), ('webconcepting', 19473), ('recite', 19474), ('roxie', 19475), ('flavored', 19476), ('definitley', 19477), ('sunray', 19478), ('flipflops', 19479), ('usf', 19480), ('koret', 19481), ('r2imt', 19482), (\"james's\", 19483), ('replete', 19484), ('qlad', 19485), ('liers', 19486), ('requotyour', 19487), ('trax', 19488), ('49er', 19489), ('aniston', 19490), ('misisipi', 19491), ('tgiflt', 19492), ('joeman', 19493), ('strighters', 19494), ('jap', 19495), ('3647', 19496), ('darth', 19497), ('vaders', 19498), ('pirating', 19499), ('suplies', 19500), ('eleg', 19501), ('avea', 19502), ('emisiune', 19503), ('ceva', 19504), ('quotwipe', 19505), ('cleanquot', 19506), ('akankah', 19507), ('suatu', 19508), ('mendapatkanya', 19509), ('japsicans', 19510), ('bred', 19511), (\"tim's\", 19512), ('bytheway', 19513), ('savvy', 19514), ('guyslt', 19515), ('cedy', 19516), ('blahgt', 19517), ('religious', 19518), ('ultrasound', 19519), ('precaution', 19520), ('wilblok', 19521), (\"bump's\", 19522), (\"mei'm\", 19523), ('agentmngr', 19524), ('westin', 19525), ('nextday', 19526), ('dilemas', 19527), ('glitching', 19528), ('frap', 19529), ('thowing', 19530), ('lopatcong', 19531), ('misconected', 19532), ('445', 19533), ('undies', 19534), ('bisquick', 19535), ('oreos', 19536), ('carelesnes', 19537), ('eunice', 19538), ('kyna', 19539), ('declan', 19540), ('capone', 19541), ('grisham', 19542), ('congradts', 19543), ('cytheria', 19544), ('botega', 19545), ('alkie', 19546), ('fodtour', 19547), (\"ampi'l\", 19548), ('improvement', 19549), ('quotdezignquot', 19550), ('textn', 19551), ('landan', 19552), ('d30', 19553), ('50m', 19554), ('punking', 19555), ('efng', 19556), (\"bulet's\", 19557), ('awesomerer', 19558), ('odour', 19559), ('tegan', 19560), ('alfie', 19561), (\"ubc's\", 19562), ('slacking', 19563), ('neaby', 19564), ('manson', 19565), ('7day', 19566), ('todat', 19567), ('saigon', 19568), ('hanoi', 19569), ('aquatic', 19570), ('fantastical', 19571), ('tense', 19572), ('bigfanfriday', 19573), ('shure', 19574), ('daylt', 19575), (\"multiply's\", 19576), ('reichele', 19577), ('transcribe', 19578), ('tenth', 19579), ('freams', 19580), ('documentation', 19581), ('aquarius', 19582), (\"andrew's\", 19583), ('jmichele', 19584), ('asfuck', 19585), ('soryquot', 19586), ('handbal', 19587), ('wfm', 19588), ('lexlt', 19589), ('okey', 19590), ('wavin', 19591), ('soninlaws', 19592), ('incentive', 19593), ('oze', 19594), ('cofie', 19595), ('everday', 19596), ('50kb', 19597), ('kostet', 19598), ('mathsteacher', 19599), (\"mel's\", 19600), (\"atlanta's\", 19601), ('asigned', 19602), ('brotha', 19603), ('listeninq', 19604), ('lynz', 19605), ('timeles', 19606), ('showrom', 19607), (\"grany's\", 19608), ('deadset', 19609), ('quotany', 19610), ('lifeline', 19611), ('214', 19612), ('320', 19613), ('betray', 19614), ('skydiver', 19615), ('whara', 19616), ('stresfre', 19617), ('whinge', 19618), ('1973', 19619), (\"indy's\", 19620), ('20x', 19621), ('bushidokan', 19622), ('baptist', 19623), ('misionaries', 19624), ('siento', 19625), ('kels', 19626), ('spaming', 19627), ('matmcoy', 19628), ('majorspoilers', 19629), ('1017', 19630), ('zombezi', 19631), ('intriguing', 19632), ('onof', 19633), ('larin', 19634), ('quotmodelquot', 19635), ('seker', 19636), ('noneuropers', 19637), (\"haji's\", 19638), ('timeout', 19639), ('10word', 19640), ('newsbites', 19641), ('rsvped', 19642), (\"qiuqiu's\", 19643), ('shanie', 19644), ('lotchecktester', 19645), ('hofentlich', 19646), ('wirds', 19647), ('snoty', 19648), ('nok', 19649), ('quotcupquot', 19650), ('heylo', 19651), ('wofies', 19652), ('bron', 19653), ('comrcials', 19654), ('savines', 19655), ('geograhy', 19656), ('idp', 19657), ('idprelief', 19658), ('53', 19659), ('quotbird', 19660), ('milkquot', 19661), ('gtnotlt', 19662), ('reactin', 19663), ('otara', 19664), ('gehts', 19665), ('abi', 19666), ('ophelia', 19667), ('buren', 19668), ('rygby', 19669), ('parentals', 19670), ('amost', 19671), ('timid', 19672), ('osocute', 19673), ('bashfulnes', 19674), ('hag', 19675), ('pogs', 19676), ('anies', 19677), ('codnt', 19678), (\"buhler's\", 19679), ('sotaboys', 19680), ('malasadas', 19681), ('ofspringprety', 19682), ('dehydrate', 19683), ('inr', 19684), ('bufie', 19685), ('parece', 19686), ('persona', 19687), ('estan', 19688), ('acuerdo', 19689), ('caltext', 19690), ('uninvited', 19691), ('deid', 19692), ('enio', 19693), ('lonelines', 19694), ('creps', 19695), ('stalwart', 19696), ('retirement', 19697), ('being', 19698), ('backhip', 19699), ('gri', 19700), ('sparkler', 19701), ('punching', 19702), ('ths', 19703), ('putain', 19704), ('babysiters', 19705), ('elusive', 19706), ('raincheck', 19707), ('lasertag', 19708), (\"s'en\", 19709), ('fou', 19710), ('airconditioner', 19711), ('kaotic', 19712), ('quottalk', 19713), ('canadianquot', 19714), ('hjaia', 19715), ('covington', 19716), ('nkorea', 19717), ('hapileter', 19718), ('lopjaz', 19719), ('ez', 19720), ('bejn', 19721), ('lalaland', 19722), ('noticed', 19723), ('jowki', 19724), ('pigls', 19725), ('censor', 19726), ('speculate', 19727), ('disagre', 19728), ('jaiho', 19729), ('tet', 19730), ('marwel', 19731), ('campfire', 19732), ('hauntingxealot', 19733), ('goulburn', 19734), ('puncture', 19735), ('espresos', 19736), ('poutine', 19737), ('hedburg', 19738), (\"al's\", 19739), ('brandi', 19740), ('carlile', 19741), ('seyuh', 19742), ('610', 19743), ('roundabout', 19744), ('proximately', 19745), ('cuteset', 19746), ('yvw', 19747), ('vengeance', 19748), ('selin', 19749), ('lt3c', 19750), ('fletcher', 19751), ('cathay', 19752), ('panhandle', 19753), ('bulseye', 19754), ('acedent', 19755), ('mandriva', 19756), ('heyah', 19757), (\"wern't\", 19758), ('cumin', 19759), ('kadi', 19760), ('florboards', 19761), ('45am', 19762), ('lathargic', 19763), ('sandman', 19764), ('bc2', 19765), ('buthurt', 19766), ('shaven', 19767), ('242am', 19768), ('kl', 19769), ('stunk', 19770), ('yultron', 19771), ('barbara', 19772), ('caty', 19773), ('beaumont', 19774), ('duners', 19775), ('renae', 19776), ('abduct', 19777), ('rusians', 19778), (\"flo's\", 19779), ('microphone', 19780), ('quotagainquot', 19781), ('overslept', 19782), ('havoc', 19783), ('yalmy', 19784), ('jbi', 19785), ('nigel', 19786), ('inexplicably', 19787), ('lokie', 19788), (\"china's\", 19789), ('copycars', 19790), ('familiarloking', 19791), ('cornish', 19792), ('countryside', 19793), ('slarm', 19794), ('bowls', 19795), ('deduct', 19796), ('selenagomezlast', 19797), ('forcast', 19798), ('partly', 19799), ('4hrs', 19800), ('omedetou', 19801), ('shwasted', 19802), ('intake', 19803), ('bowlful', 19804), ('remodel', 19805), ('anouther', 19806), (\"pitman's\", 19807), ('aceptable', 19808), ('lighting', 19809), ('ent', 19810), ('quotpune', 19811), ('technologyquot', 19812), ('netgear', 19813), ('802', 19814), ('1n', 19815), ('throughput', 19816), ('gtfo', 19817), ('crikey', 19818), ('brita', 19819), ('gh5', 19820), ('fatas', 19821), ('wither', 19822), ('belion', 19823), ('gmu', 19824), ('sys', 19825), ('eng', 19826), ('joly', 19827), ('cogan', 19828), ('moran', 19829), ('sig', 19830), ('quotthanksquot', 19831), ('twitip', 19832), (\"quothe's\", 19833), ('murk', 19834), ('ohoh', 19835), ('demonata', 19836), ('eftelingfun', 19837), ('pythonrolercoasterride', 19838), ('rightreal', 19839), ('spedracher', 19840), ('sadfaced', 19841), ('nitentdo', 19842), ('pwned', 19843), ('shotie', 19844), ('osc', 19845), ('0630', 19846), ('gilty', 19847), ('yank', 19848), ('n64', 19849), (\"master's\", 19850), ('sln', 19851), ('scholwork', 19852), ('banjo', 19853), ('toie', 19854), ('kimbeomie', 19855), ('eugenia', 19856), ('carvile', 19857), ('teluride', 19858), ('suner', 19859), (\"yo's\", 19860), ('numero', 19861), ('salty', 19862), ('pretzel', 19863), ('knocking', 19864), ('legaly', 19865), (\"l'd\", 19866), ('rugrats', 19867), ('jelybeanies', 19868), ('campin', 19869), ('christie', 19870), ('urgent', 19871), ('ohquot', 19872), ('grumpies', 19873), ('havnet', 19874), ('cajon', 19875), ('quottoday', 19876), ('quottodo', 19877), ('mobiles', 19878), ('dlukasrosi', 19879), ('lukas', 19880), ('protected', 19881), ('bolshoi', 19882), ('dere', 19883), ('soeur', 19884), ('eink', 19885), ('stutgart', 19886), ('befahconference', 19887), ('germ', 19888), ('quotable', 19889), ('jacksonvile', 19890), (\"lt''gt\", 19891), ('outagecold', 19892), ('camol', 19893), ('physique', 19894), ('concurency', 19895), ('trnds', 19896), ('3trs', 19897), ('thomasvanvliet', 19898), ('inherit', 19899), ('candidnes', 19900), ('lobyists', 19901), ('mangosten', 19902), ('cybersecurity', 19903), ('brownout', 19904), ('fridayfirehazard', 19905), ('improvisation', 19906), ('quotfuck', 19907), ('talkedabout', 19908), ('incomplete', 19909), ('caring', 19910), ('bib', 19911), ('ketemu', 19912), ('lagi', 19913), ('kita', 19914), ('pipeline', 19915), ('460', 19916), ('bopbopbop', 19917), ('smeled', 19918), ('threday', 19919), ('wowsa', 19920), ('bidor', 19921), ('wantan', 19922), ('cham', 19923), ('minits', 19924), ('lef', 19925), ('tephlt', 19926), ('compaired', 19927), ('sampd', 19928), ('bnl', 19929), ('250k', 19930), ('jord', 19931), ('kiera', 19932), ('leterman', 19933), (\"c'me\", 19934), ('shia', 19935), ('alexa', 19936), ('mischief', 19937), ('bresaholic', 19938), ('budi', 19939), ('nesa', 19940), (\"magazine's\", 19941), ('livinghandy', 19942), ('awestruck', 19943), ('katherine', 19944), ('snazed', 19945), ('quotthick', 19946), ('oxfordquot', 19947), (\"helena's\", 19948), ('cantab', 19949), ('recory', 19950), ('commonicafrancesca', 19951), ('hsbc', 19952), ('apy', 19953), ('vondt', 19954), ('rygen', 19955), ('hiphop', 19956), ('nursery', 19957), ('mixture', 19958), ('chrisie', 19959), ('hynde', 19960), ('apropriately', 19961), ('shadup', 19962), ('quotbitchquot', 19963), ('psycology', 19964), ('nonw', 19965), ('julio', 19966), ('preordered', 19967), ('2morows', 19968), ('catnap', 19969), ('eo', 19970), ('belo', 19971), ('lelo', 19972), ('novy', 19973), ('0405', 19974), ('lt3hanah', 19975), ('dignation', 19976), ('eks', 19977), ('1984', 19978), ('pharos', 19979), ('orthadontist', 19980), ('suprises', 19981), ('fluidity', 19982), ('hospice', 19983), ('gpa', 19984), ('otherway', 19985), ('verdict', 19986), ('manana', 19987), ('4g', 19988), ('dono', 19989), ('amj', 19990), (\"jobo's\", 19991), ('boldly', 19992), ('westgate', 19993), ('safer', 19994), ('sphere', 19995), ('xong', 19996), ('topical', 19997), ('meses', 19998), ('quotpromiscuous', 19999), (\"who'l\", 20000), ('inject', 20001), ('vacine', 20002), ('250e', 20003), ('tempermental', 20004), ('oxox', 20005), ('omginorite', 20006), ('tophated', 20007), ('handlebar', 20008), ('mtvawards', 20009), ('quotjake', 20010), ('colognequot', 20011), ('holister', 20012), ('stare', 20013), ('rn', 20014), (\"photo's\", 20015), (\"valeria's\", 20016), ('araving', 20017), ('babtizm', 20018), ('octupi', 20019), ('thatz', 20020), ('elegant', 20021), (\"l'm\", 20022), ('mymaths', 20023), ('soarin', 20024), ('shortcake', 20025), ('shortcakefail', 20026), ('strut', 20027), ('reutiman', 20028), ('lamo', 20029), ('oneshot', 20030), ('thurther', 20031), ('mirage', 20032), ('thewockez', 20033), ('supercr', 20034), ('3w', 20035), ('atlantiscoldnes', 20036), ('gatwick', 20037), ('tethmouth', 20038), ('galbladia', 20039), ('gosipy', 20040), ('ould', 20041), ('mye', 20042), ('aaronovitch', 20043), ('venting', 20044), ('alayelow', 20045), ('dvt', 20046), ('lonix', 20047), ('biscoti', 20048), ('yayscholisout', 20049), ('wmina', 20050), ('mademoisele', 20051), ('lfctv', 20052), ('quotmorequot', 20053), ('shanen', 20054), ('1mo', 20055), ('microb', 20056), ('ascari', 20057), ('yearquot', 20058), ('dumbo', 20059), ('swipe', 20060), ('jdub', 20061), ('bublewrap', 20062), ('finalizer', 20063), ('schwarzeneger', 20064), ('aplescript', 20065), ('kgw', 20066), ('quotquestioning', 20067), ('agilequot', 20068), (\"yr's\", 20069), ('alegra', 20070), ('17again', 20071), ('railsbridge', 20072), ('torey', 20073), ('hemorhoids', 20074), ('wilber', 20075), ('integral', 20076), ('bradbury', 20077), ('stresiest', 20078), ('friendshahamy', 20079), ('mebfalone', 20080), ('sufication', 20081), ('jinx', 20082), ('rumor', 20083), ('cyndi', 20084), ('soulmate', 20085), ('grh', 20086), ('multiplayer', 20087), ('oversleep', 20088), ('abouts', 20089), ('dingle', 20090), (\"quotisn't\", 20091), ('steviewonder', 20092), ('miniitx', 20093), ('spitin', 20094), ('bran', 20095), ('forevs', 20096), ('dhoni', 20097), ('parthiv', 20098), ('bfa', 20099), ('cecilia', 20100), ('carlingford', 20101), ('lough', 20102), ('0w', 20103), ('f0llowers', 20104), ('lt8', 20105), ('dhelohanah', 20106), ('zilch', 20107), ('gyming', 20108), ('quotbawas', 20109), ('kaninquot', 20110), ('celibate', 20111), ('pancakes', 20112), ('juvely', 20113), ('anway', 20114), ('neghead', 20115), ('bojan', 20116), ('licence', 20117), (\"did't\", 20118), ('embaras', 20119), ('quotscholquot', 20120), ('credential', 20121), ('bs', 20122), ('mince', 20123), ('nusdorfer', 20124), ('herenberg', 20125), ('melo', 20126), ('textd', 20127), ('momsen', 20128), ('overwhelming', 20129), ('062709', 20130), ('garbo', 20131), ('lmaoz', 20132), ('counselor', 20133), ('calbacks', 20134), ('charlene', 20135), ('rwiters', 20136), (\"ac's\", 20137), ('airbrush', 20138), ('mugy', 20139), ('flawles', 20140), ('refolowed', 20141), ('moley', 20142), ('snazified', 20143), ('wishlist', 20144), ('organise', 20145), ('indulgence', 20146), ('cse', 20147), ('rfid', 20148), ('bitchin', 20149), ('wimp', 20150), ('helio', 20151), ('ermintrude', 20152), ('twitbacks', 20153), ('securely', 20154), ('impersonator', 20155), ('perfchoreo', 20156), ('cuteampchesey', 20157), ('glowy', 20158), ('ravey', 20159), ('smokey', 20160), ('pizary', 20161), ('kudai', 20162), ('harump', 20163), ('cuningham', 20164), ('idestroy', 20165), ('bindz', 20166), ('bulies', 20167), (\"daughtry's\", 20168), ('degens', 20169), ('dolphins', 20170), ('lentil', 20171), ('mifune', 20172), ('disgruntled', 20173), ('quothoequot', 20174), ('gwetin', 20175), ('flued', 20176), ('provence', 20177), ('pdates', 20178), ('colector', 20179), ('speakin', 20180), ('violent', 20181), ('fightclub', 20182), (\"heart's\", 20183), ('lexy', 20184), ('gilf', 20185), ('yumylicious', 20186), ('mmmm', 20187), ('carafe', 20188), ('cafiene', 20189), ('v0', 20190), ('9pb5', 20191), ('aproving', 20192), ('twa', 20193), ('jayne', 20194), ('laineygosip', 20195), ('taylena', 20196), ('becomin', 20197), ('haus', 20198), ('frulein', 20199), ('kelz', 20200), ('militant', 20201), ('modeam', 20202), ('competitonso', 20203), ('thirdchapter', 20204), ('falconer', 20205), ('sisch', 20206), ('irlanda', 20207), ('vaiko', 20208), ('nedumaran', 20209), ('lte', 20210), ('numerous', 20211), ('provoking', 20212), ('utility', 20213), ('quotgrabquot', 20214), ('xams', 20215), ('undrstand', 20216), ('busays', 20217), ('waray', 20218), ('extended', 20219), ('outbid', 20220), ('hedberg', 20221), ('quotpurposequot', 20222), ('wowthanks', 20223), ('gloriously', 20224), ('huryup', 20225), ('omgimpatient', 20226), ('clif', 20227), ('ipswitchbest', 20228), ('unto', 20229), ('aerlingus', 20230), ('ryanair', 20231), ('bilund', 20232), ('souvlaki', 20233), ('dimitris', 20234), ('quotawayquot', 20235), ('crease', 20236), ('gdit', 20237), ('melika', 20238), ('nacklacematching', 20239), ('earing', 20240), ('horsies', 20241), ('2people', 20242), ('abounds', 20243), ('conjunctivitis', 20244), ('331', 20245), ('acorn', 20246), ('clorox', 20247), (\"ranchero's\", 20248), ('rendezvous', 20249), ('yow', 20250), ('atal', 20251), ('alrite', 20252), ('elijah', 20253), ('anticipated', 20254), ('tapan', 20255), ('parikh', 20256), ('nairobi', 20257), ('mombasa', 20258), ('dolarama', 20259), ('americas', 20260), ('oky', 20261), ('grandperents', 20262), ('granda', 20263), ('hostipal', 20264), ('sperm', 20265), ('majorca', 20266), (\"kawawa's\", 20267), (\"liverpol's\", 20268), ('phat', 20269), ('aplebotoms', 20270), ('fubu', 20271), ('posesed', 20272), ('certainty', 20273), ('stufquot', 20274), ('nevile', 20275), ('enuh', 20276), ('avin', 20277), ('nigth', 20278), (\"musashi's\", 20279), ('kitaro', 20280), ('balsamic', 20281), ('jont', 20282), ('fintster', 20283), ('propel', 20284), ('controlers', 20285), ('daleks', 20286), ('practical', 20287), ('momstobe', 20288), ('funlike', 20289), ('languageampi', 20290), ('kpoped', 20291), ('unfixable', 20292), ('moustachio', 20293), ('dadio', 20294), ('hobastank', 20295), ('jovi', 20296), ('zy', 20297), ('tove', 20298), ('jayel', 20299), ('maricar', 20300), ('hyperbirdies', 20301), ('terorizing', 20302), ('birdy', 20303), (\"min's\", 20304), ('haw', 20305), ('1050', 20306), ('iyla', 20307), ('todaybulgaria', 20308), ('ofensively', 20309), ('subponea', 20310), ('tedtalks', 20311), ('escentuals', 20312), ('domsai', 20313), ('mateo', 20314), ('cibic', 20315), ('smothstreaming', 20316), (\"client's\", 20317), ('fanfrickingtastic', 20318), ('oowe', 20319), ('lipstic', 20320), ('bangbang', 20321), ('quotlayersquot', 20322), ('divs', 20323), ('smtimes', 20324), (\"thr's\", 20325), ('solitude', 20326), ('lk', 20327), ('privately', 20328), ('fininsh', 20329), ('luc', 20330), ('bourdon', 20331), ('int', 20332), ('leav', 20333), ('seinors', 20334), ('knowledgable', 20335), ('ashlie', 20336), ('flordia', 20337), ('shrits', 20338), ('nasa', 20339), (\"hobo's\", 20340), (\"taco's\", 20341), (\"o'brian\", 20342), ('comision', 20343), ('meadowbank', 20344), ('ruineddeath', 20345), ('panicaway', 20346), ('menlo', 20347), ('quotexperiencequot', 20348), ('bugered', 20349), ('quotexpectingquot', 20350), ('kroq', 20351), ('frenchfrycorndog', 20352), ('wanty', 20353), ('loseinthetwetisphere', 20354), ('milisecond', 20355), ('leyendo', 20356), ('ladybug', 20357), ('602', 20358), ('microplaza', 20359), ('statistic', 20360), ('ruined', 20361), (\"shok'n\", 20362), ('relisting', 20363), ('funfiled', 20364), ('easywriter', 20365), ('overpower', 20366), ('sunfay', 20367), ('avert', 20368), ('administrative', 20369), ('quotyourbigestfanquot', 20370), ('temptingly', 20371), ('1620h', 20372), ('famousquot', 20373), ('hazel', 20374), ('cafeineshot', 20375), ('held', 20376), ('psps', 20377), ('quef', 20378), ('burneded', 20379), ('aoe', 20380), ('clam', 20381), ('pusycat', 20382), ('cubs', 20383), ('dumbas', 20384), ('multitasking', 20385), ('skateparks', 20386), ('wiat', 20387), ('adios', 20388), ('wlcome', 20389), ('202', 20390), ('tsx', 20391), ('tl', 20392), ('jayem', 20393), ('b2b', 20394), ('inings', 20395), ('ripin', 20396), ('altona', 20397), ('wog', 20398), ('shabu', 20399), ('virge', 20400), ('wowie', 20401), ('woie', 20402), ('rathbone', 20403), ('181', 20404), ('cameraphone', 20405), ('alfred', 20406), ('aloted', 20407), ('tankdps', 20408), ('salvem', 20409), ('eleay', 20410), ('primatech', 20411), (\"handle's\", 20412), ('quotstel', 20413), ('magnoliasquot', 20414), ('hourstrying', 20415), ('fricking', 20416), (\"elisha's\", 20417), ('chuweny', 20418), ('zigy', 20419), ('rae', 20420), ('herew', 20421), ('compiment', 20422), ('dreading', 20423), ('acaban', 20424), ('tocar', 20425), ('hardy', 20426), ('hyperlink', 20427), ('indentation', 20428), ('probando', 20429), ('quotgracequot', 20430), (\"godbye'z\", 20431), (\"li'l\", 20432), ('hubie', 20433), ('quil', 20434), ('tg', 20435), ('whenwhen', 20436), ('rampr', 20437), ('kacie', 20438), ('hairdye', 20439), ('smear', 20440), ('10hour', 20441), ('swetnothings', 20442), ('handwraps', 20443), ('afiliate', 20444), ('driveby', 20445), ('raper', 20446), ('spiros', 20447), (\"sa'we\", 20448), ('nfty', 20449), ('calgon', 20450), ('oher', 20451), ('josete', 20452), ('twipics', 20453), ('emirate', 20454), ('richter', 20455), ('mankind', 20456), ('poser', 20457), ('shingle', 20458), ('figured', 20459), ('manga', 20460), ('gout', 20461), ('burden', 20462), ('soybean', 20463), ('unsucesful', 20464), ('sickwhat', 20465), ('shar', 20466), (\"lt'ltvegagt'gt\", 20467), ('moneyz', 20468), ('division', 20469), (\"jiuliani's\", 20470), ('digestive', 20471), ('farolito', 20472), ('4817', 20473), ('eagerly', 20474), ('ryland', 20475), ('suarez', 20476), ('gazing', 20477), ('quotnothing', 20478), ('matersquot', 20479), ('ulead', 20480), ('dangero', 20481), (\"cryer's\", 20482), ('exwife', 20483), ('ichiban', 20484), ('thks', 20485), (\"mariachi'nin\", 20486), ('yeni', 20487), ('kampanyasi', 20488), ('beraber', 20489), ('gelistirdigimiz', 20490), ('uygulamasi', 20491), (\"huriyet'e\", 20492), ('haber', 20493), ('olmus', 20494), ('yourock', 20495), ('adams', 20496), ('brewery', 20497), ('dilingen', 20498), ('lym', 20499), ('mute', 20500), ('2448', 20501), ('revive', 20502), ('smilelife', 20503), ('mindblowing', 20504), ('cabie', 20505), (\"amwasn't\", 20506), ('whr', 20507), ('nyt', 20508), ('colegiate', 20509), ('scholar', 20510), ('videoke', 20511), ('nyahahaha', 20512), ('colections', 20513), ('partyo', 20514), ('stratus', 20515), ('swearing', 20516), ('raunchy', 20517), ('macrina', 20518), (\"bailey's\", 20519), ('neomonia', 20520), ('rebuild', 20521), ('orgasm', 20522), ('quotnanaquot', 20523), ('quotnana', 20524), ('rhinestone', 20525), ('bachelor', 20526), ('fhlt', 20527), ('sich', 20528), ('ganz', 20529), ('montezuma', 20530), ('kalebnation', 20531), ('comkalebnation', 20532), ('rebonded', 20533), (\"f'in\", 20534), ('5quot', 20535), ('recognisable', 20536), ('quotsumertimequot', 20537), ('gmn', 20538), ('punya', 20539), ('lauraa', 20540), ('2is', 20541), ('jpeg', 20542), ('terminology', 20543), ('zdf', 20544), ('fernsehgarten', 20545), ('twinster', 20546), ('misinmydgbigtyme', 20547), ('raping', 20548), ('wking', 20549), ('bearer', 20550), ('bublies', 20551), ('belvoir', 20552), ('pentagon', 20553), ('yelowishorangeishbrownish', 20554), ('crosby', 20555), ('walcers', 20556), ('frolic', 20557), ('consumate', 20558), ('clive', 20559), ('availble', 20560), ('detect', 20561), (\"must've\", 20562), ('playboy', 20563), ('nakam', 20564), ('wakati', 20565), ('unaenda', 20566), ('ampaha', 20567), ('lnger', 20568), ('urlm', 20569), ('incnmt', 20570), (\"aunty's\", 20571), ('revit', 20572), ('autocad', 20573), ('cobles', 20574), ('bgezy', 20575), ('dezy', 20576), ('jokes', 20577), ('dlab', 20578), ('courseware', 20579), ('printing', 20580), ('stdin', 20581), ('quotshe', 20582), ('patronize', 20583), (\"had've\", 20584), ('krystyn', 20585), ('quotpeople', 20586), ('usquotwhat', 20587), ('megaman', 20588), ('capcom', 20589), ('squareenix', 20590), ('desist', 20591), ('redmangolol', 20592), ('anesthetic', 20593), ('serie', 20594), ('psyched', 20595), ('gkr', 20596), ('partyand', 20597), ('ox', 20598), ('jailbroken', 20599), ('bricked', 20600), ('soulful', 20601), ('thos', 20602), ('dans', 20603), ('jumy', 20604), ('afterward', 20605), ('uno', 20606), ('renowned', 20607), ('alms', 20608), ('gatau', 20609), ('mau', 20610), ('pindah', 20611), ('binus', 20612), ('apliances', 20613), ('ironclad', 20614), ('kozies', 20615), ('unclaimed', 20616), ('wakeful', 20617), ('momdukes', 20618), ('mornining', 20619), ('munchkin', 20620), ('etown', 20621), ('worldlt', 20622), ('kthanks', 20623), ('testicle', 20624), ('dispointed', 20625), (\"lifehacker's\", 20626), ('colegue', 20627), ('afterlife', 20628), ('bezy', 20629), ('sko', 20630), ('talcre', 20631), ('fizy', 20632), ('ti89', 20633), ('vermilion', 20634), ('cinemas', 20635), ('zoey', 20636), ('hershey', 20637), ('walmonds', 20638), ('alahpundit', 20639), ('jtim', 20640), ('jola', 20641), ('whasup', 20642), ('fraught', 20643), ('lecturer', 20644), ('gob', 20645), ('kyile', 20646), ('becausei', 20647), ('iowe', 20648), ('noncompete', 20649), ('unconditonaly', 20650), ('materialistic', 20651), ('memeber', 20652), ('browsin', 20653), ('multiply', 20654), ('goderich', 20655), ('peps', 20656), ('stocktwits', 20657), ('demilynmusic', 20658), ('cashflow', 20659), ('quotnative', 20660), ('bestquot', 20661), ('elipital', 20662), ('shul', 20663), ('grengo', 20664), ('foreman', 20665), ('smartcar', 20666), ('sherif', 20667), ('pasionate', 20668), ('wigles', 20669), ('whitier', 20670), (\"tesco's\", 20671), ('videoblog', 20672), ('tentside', 20673), ('sesionmosh', 20674), ('medal', 20675), ('bloat', 20676), ('eine', 20677), ('kleine', 20678), ('nashtmusik', 20679), ('iknowquot', 20680), ('sitcom', 20681), ('tokens', 20682), ('braclets', 20683), ('defiantly', 20684), ('observatory', 20685), ('conecticut', 20686), ('warbler', 20687), ('metzger', 20688), ('mage', 20689), ('skinamarinkydinkydink', 20690), ('alongs', 20691), ('ointment', 20692), ('brin', 20693), ('sasd', 20694), ('levy', 20695), ('roar', 20696), ('dido', 20697), ('quotus', 20698), ('filquot', 20699), ('gerardo', 20700), ('dicaprio', 20701), ('davison', 20702), ('kiloran', 20703), ('puquot', 20704), ('chemics', 20705), (\"king's\", 20706), ('bounty', 20707), ('vampyre', 20708), ('comixes', 20709), ('donloaded', 20710), ('idgaf', 20711), ('performace', 20712), ('filmtv', 20713), ('wmids', 20714), ('107', 20715), ('seats', 20716), ('jered', 20717), ('nightfri', 20718), ('phoenixfm', 20719), ('10yearold', 20720), ('nonjudgmental', 20721), ('picturisation', 20722), ('therapuetic', 20723), ('betering', 20724), ('financing', 20725), ('5sec', 20726), ('stray', 20727), ('hyde', 20728), ('hmn', 20729), ('concealer', 20730), ('puged', 20731), ('bombard', 20732), ('daphne', 20733), ('sez', 20734), ('quadriceps', 20735), (\"leica's\", 20736), ('keve', 20737), ('celstorms', 20738), ('broiler', 20739), ('karl', 20740), ('quotbonesquot', 20741), ('opsie', 20742), ('alabang', 20743), ('gp', 20744), ('laterhopefuly', 20745), ('trevor', 20746), ('interior', 20747), ('1939', 20748), ('videogtblah', 20749), ('registeration', 20750), ('vase', 20751), ('26th', 20752), ('wahey', 20753), ('hose', 20754), ('floating', 20755), ('acompany', 20756), ('qaampv', 20757), ('quotextra', 20758), ('restful', 20759), ('daps', 20760), ('hidenfile', 20761), (\"rosie's\", 20762), ('chiefs', 20763), ('194', 20764), ('elway', 20765), ('nfl', 20766), ('1414', 20767), ('lyny', 20768), ('clogin', 20769), ('hoisin', 20770), ('edmund', 20771), ('bazilionz', 20772), ('suprtin', 20773), ('ovr', 20774), ('ruilen', 20775), ('jaron', 20776), ('mesgae', 20777), ('saver', 20778), ('warped', 20779), ('scouser', 20780), ('sefton', 20781), ('20m', 20782), ('ariana', 20783), ('yesum', 20784), ('canalugh', 20785), ('ginormous', 20786), ('hawthorn', 20787), ('heartstrings', 20788), ('shipuden', 20789), ('witnesed', 20790), ('mangaanime', 20791), ('puf', 20792), ('oceanup', 20793), ('quotmiley', 20794), ('gaston', 20795), ('sheltered', 20796), ('upbringing', 20797), ('dinerbirthday', 20798), ('dinersurprise', 20799), ('lanham', 20800), ('virtualkis', 20801), ('exctied', 20802), ('ohmigod', 20803), ('lux', 20804), ('4piece', 20805), ('howl', 20806), ('gba', 20807), ('xanax', 20808), ('boyzone', 20809), ('yuh', 20810), ('cupie', 20811), ('pokernews', 20812), ('horseforth', 20813), ('godmorningamp', 20814), ('hapymothers', 20815), ('tent', 20816), ('whitewater', 20817), ('tripics', 20818), ('carolyn', 20819), ('mcds', 20820), ('hader', 20821), ('feud', 20822), ('holby', 20823), ('lewington', 20824), ('cliford', 20825), ('klinkt', 20826), ('enthousiast', 20827), ('scholboks', 20828), ('hampa', 20829), ('ulise', 20830), ('stretview', 20831), ('exmouth', 20832), ('plaid', 20833), ('believer', 20834), ('comercialsized', 20835), ('milkskake', 20836), ('soundwave', 20837), (\"van's\", 20838), ('transmision', 20839), ('tvfilmtheatre', 20840), ('tenenen', 20841), ('tenen', 20842), ('hapydance', 20843), ('slant', 20844), (\"farmer's\", 20845), ('quotchescake', 20846), ('exahausted', 20847), ('epc', 20848), ('zongzi', 20849), ('wodies', 20850), ('hove', 20851), ('serio', 20852), ('baroca', 20853), ('parabens', 20854), ('bhr', 20855), ('justine', 20856), ('westcon', 20857), ('quotbobfedquot', 20858), ('410', 20859), ('deceitful', 20860), ('apending', 20861), ('verticalchinese', 20862), ('bosy', 20863), ('somewherequot', 20864), ('crystalmariedontluvspiteanymore', 20865), ('cenario', 20866), (\"palahniuk's\", 20867), ('quotpygmyquot', 20868), ('mothrs', 20869), ('erocka', 20870), ('grentea', 20871), ('tys', 20872), ('uncontrolably', 20873), ('ethernet', 20874), ('lea', 20875), ('seamles', 20876), ('gracias', 20877), ('mumify', 20878), ('dtown', 20879), ('brokt', 20880), ('celebxvidsyh', 20881), ('aybygw', 20882), ('badu', 20883), ('adviser', 20884), ('tyga', 20885), ('deleon', 20886), ('blews', 20887), (\"alex's\", 20888), ('notloking', 20889), ('shufles', 20890), ('admiration', 20891), ('freakish', 20892), ('spiderweb', 20893), ('isu', 20894), ('anythgin', 20895), ('esquire', 20896), ('fantasize', 20897), ('fragile', 20898), ('chays', 20899), ('hulkquot', 20900), ('calicut', 20901), ('hangup', 20902), ('dreamweaver', 20903), ('ryke', 20904), ('overthought', 20905), ('shantel', 20906), ('quotparadise', 20907), ('honourary', 20908), ('flufete', 20909), (\"wmewe'l\", 20910), ('pudles', 20911), (\"disc's\", 20912), ('slopy', 20913), ('adoring', 20914), ('qfc', 20915), ('broad', 20916), ('eastcoast', 20917), ('wutang', 20918), ('jesiebear', 20919), ('scoreles', 20920), ('claritin', 20921), ('sturday', 20922), ('hiten', 20923), ('quotmine', 20924), ('birdquot', 20925), ('underdog', 20926), ('headlining', 20927), ('ando', 20928), ('pelon', 20929), ('boeing', 20930), ('huntington', 20931), ('quotmight', 20932), ('interestedquot', 20933), ('wince', 20934), ('flatland', 20935), ('jailbreaking', 20936), ('stacie', 20937), ('rebroadcast', 20938), ('pacquiaohaton', 20939), ('izay', 20940), ('mcglaclan', 20941), ('jpnbak', 20942), ('quotdinero', 20943), ('bilquot', 20944), ('cyk', 20945), ('cymk', 20946), (\"rolando's\", 20947), ('marg', 20948), ('ypu', 20949), ('kyneton', 20950), ('melb', 20951), ('daylesford', 20952), ('quotofice', 20953), ('spacequot', 20954), ('rels', 20955), ('cuzin', 20956), ('yeahthose', 20957), ('yeahmy', 20958), ('dreamland', 20959), ('fixing', 20960), ('exagerated', 20961), ('hapienes', 20962), ('amigui', 20963), ('stir', 20964), ('hatred', 20965), ('mgm', 20966), ('opener', 20967), ('gerais', 20968), ('pupil', 20969), ('twitername', 20970), ('twiterfridge', 20971), ('madies', 20972), ('cosmic', 20973), ('regal', 20974), ('quotslabquot', 20975), ('indo', 20976), ('dormir', 20977), ('garley', 20978), ('amigo', 20979), ('estk', 20980), ('nemonemesis', 20981), ('cheri', 20982), ('tarte', 20983), ('2for1', 20984), ('1206am', 20985), ('quothimquot', 20986), ('favie', 20987), ('hapily', 20988), (\"ochoa's\", 20989), ('compelte', 20990), ('youregreat', 20991), ('drunkfda', 20992), ('lone', 20993), ('hobieslt', 20994), ('barcampbk', 20995), ('mp3s', 20996), ('lyricalyme', 20997), ('botoms', 20998), (\"dh's\", 20999), ('bsod', 21000), ('5drawer', 21001), ('horizontal', 21002), ('nondigital', 21003), ('finra', 21004), ('drinkies', 21005), ('dario', 21006), ('tk', 21007), ('lt3penie', 21008), ('centos', 21009), ('frelance', 21010), ('landice', 21011), ('quotuhmazing', 21012), ('uhterly', 21013), ('uhmazing', 21014), ('helenuh', 21015), ('yn', 21016), ('screamer', 21017), ('havs', 21018), ('smdh', 21019), ('murderous', 21020), ('rampage', 21021), ('opse', 21022), ('amendment', 21023), ('pimpin', 21024), ('thrd', 21025), ('discusants', 21026), ('epg', 21027), ('pinkyponk', 21028), ('artsci', 21029), ('blogtalkradio', 21030), ('kb', 21031), ('agrement', 21032), ('whut', 21033), (\"alesha's\", 21034), (\"geno's\", 21035), ('neon', 21036), ('anouncements', 21037), ('kle', 21038), ('ideia', 21039), ('jefco', 21040), ('britneys', 21041), ('asahan', 21042), ('iyo', 21043), ('vacums', 21044), ('oder', 21045), ('uduhn', 21046), ('lun', 21047), ('quottune', 21048), ('farels', 21049), ('parlor', 21050), ('viejo', 21051), ('recked', 21052), ('julz', 21053), ('orb', 21054), ('buongiorno', 21055), ('wbc', 21056), ('counterprotests', 21057), ('waterfire', 21058), ('halu', 21059), ('1direction', 21060), ('beblesed', 21061), ('avoidance', 21062), ('continuous', 21063), ('minstrick', 21064), ('losen', 21065), ('gremlins', 21066), ('imigrant', 21067), ('twetles', 21068), ('quotbotsquot', 21069), ('karla', 21070), ('whoping', 21071), ('blokeslib', 21072), ('niko', 21073), ('vermont', 21074), ('parnoid', 21075), ('sezi', 21076), ('kodomo', 21077), ('rainsnow', 21078), ('moderately', 21079), ('lactoseintolerant', 21080), ('quotsack', 21081), ('whoresquot', 21082), ('pushin', 21083), ('warmup', 21084), ('stranthorpe', 21085), ('comrisound', 21086), ('quotpot', 21087), ('ketlequot', 21088), ('imature', 21089), ('suckd', 21090), ('pockeded', 21091), ('elin', 21092), ('saya', 21093), ('avg', 21094), ('rtheatre', 21095), ('takeaway', 21096), ('ditzy', 21097), ('hahahahahah', 21098), ('muskoka', 21099), ('imense', 21100), ('agreable', 21101), ('easactive', 21102), ('comparing', 21103), ('runles', 21104), ('howre', 21105), ('sightednes', 21106), ('acompanies', 21107), ('pesimist', 21108), ('bylaurenluke', 21109), ('neckache', 21110), ('paiseh', 21111), ('youz', 21112), ('employment', 21113), ('swel', 21114), ('thisquot', 21115), ('orignal', 21116), ('sourish', 21117), ('deposited', 21118), ('brians', 21119), ('81', 21120), ('beries', 21121), ('zbrush', 21122), ('invalid', 21123), ('boya', 21124), (\"draven's\", 21125), ('aflicted', 21126), ('chewy', 21127), ('ecomerce', 21128), ('quotbuy', 21129), ('chiln', 21130), ('babez', 21131), ('paginate', 21132), ('asp', 21133), ('listview', 21134), ('hysteric', 21135), ('peoplequoti', 21136), ('quotgodes', 21137), ('webcom', 21138), ('yul', 21139), ('twinge', 21140), ('1x', 21141), ('defunctlesi', 21142), ('kuantan', 21143), ('frugal', 21144), ('thaty', 21145), (\"ciara's\", 21146), ('logan', 21147), ('sonq', 21148), ('rumour', 21149), ('twil', 21150), ('paperboy', 21151), ('console', 21152), ('mintbublegumcokieflakenerds', 21153), ('czerina', 21154), ('izone', 21155), ('9yr', 21156), ('cafein', 21157), ('afair', 21158), ('hypergodnes', 21159), ('okayokay', 21160), ('lupita', 21161), ('tga', 21162), ('wbw', 21163), ('wikid', 21164), ('myne', 21165), ('afects', 21166), ('jvm', 21167), ('duncan', 21168), (\"s'okay\", 21169), ('weis', 21170), ('dynastyquot', 21171), ('candamir', 21172), ('wingman', 21173), ('quotwizards', 21174), ('placequot', 21175), ('quotcan', 21176), ('quotokquot', 21177), ('quotdigestif', 21178), (\"j's\", 21179), ('moveable', 21180), ('hale', 21181), ('grieco', 21182), ('thngs', 21183), (\"pl's\", 21184), ('sloanster', 21185), ('renison', 21186), ('contagious', 21187), ('loveu', 21188), ('15minutes', 21189), ('yarn', 21190), ('rotate', 21191), ('motherfucker', 21192), ('volcom', 21193), ('unicorn', 21194), ('frankly', 21195), ('roney', 21196), ('mtml', 21197), ('largely', 21198), ('ambivalent', 21199), ('soo', 21200), ('tourture', 21201), ('itonlinelol', 21202), ('eprocurement', 21203), ('blacklist', 21204), ('whitelist', 21205), ('jfc', 21206), ('rosa', 21207), ('guadalupequot', 21208), ('identify', 21209), ('tweet', 21210), (\"mely's\", 21211), ('pampered', 21212), ('whatz', 21213), ('aplause', 21214), ('blk', 21215), ('fangtasia', 21216), ('quotroads', 21217), ('stationary', 21218), ('itms', 21219), ('placebo', 21220), ('torus', 21221), ('amos', 21222), ('brokings', 21223), ('freagentap', 21224), (\"resume's\", 21225), ('bryant', 21226), ('walinwod', 21227), ('montagues', 21228), ('capulets', 21229), ('moes', 21230), ('saltampvinegar', 21231), ('naglilihi', 21232), ('garet', 21233), ('rsvp', 21234), ('t1', 21235), ('revamp', 21236), ('outboard', 21237), ('enyone', 21238), ('frisbe', 21239), ('quotacidentalyquot', 21240), ('arbitrarily', 21241), ('severely', 21242), ('nonstandardized', 21243), ('buwieser', 21244), ('dose', 21245), ('runway', 21246), ('gt90mph', 21247), ('lt1', 21248), ('mph', 21249), ('absoulutley', 21250), ('minebron', 21251), ('notoriously', 21252), ('stub', 21253), ('yakuza', 21254), ('dorfman', 21255), ('quotinternet', 21256), ('thingquot', 21257), ('unoportunte', 21258), ('responsabilities', 21259), ('kniterati', 21260), ('ravelry', 21261), ('mauren', 21262), ('pradas', 21263), ('danstorce', 21264), ('karine', 21265), ('quotformer', 21266), ('snowboard', 21267), ('reflectively', 21268), ('injoy', 21269), ('darline', 21270), ('260', 21271), ('jamaica', 21272), ('lve', 21273), ('asociate', 21274), ('glau', 21275), ('jewish', 21276), ('reenact', 21277), ('overspend', 21278), ('lovebank', 21279), (\"kayle's\", 21280), ('twubing', 21281), (\"lena's\", 21282), ('g1freaks', 21283), ('togetha', 21284), ('kacy', 21285), ('nonlong', 21286), ('boyfriendgirlfriend', 21287), ('houseofrock', 21288), ('quothi', 21289), ('lauraquot', 21290), ('arcadia', 21291), ('biatch', 21292), ('edea', 21293), ('beasted', 21294), ('snozing', 21295), ('envision', 21296), ('chimp', 21297), ('yehey', 21298), ('balme', 21299), ('aaalcohol', 21300), ('nishiki', 21301), ('radiator', 21302), ('quotpopup', 21303), ('showersquot', 21304), ('imply', 21305), ('dustin', 21306), ('travy', 21307), ('gils', 21308), ('dificulties', 21309), ('encode', 21310), ('thud', 21311), ('viet', 21312), ('xbl', 21313), ('eject', 21314), ('discs', 21315), ('cdr', 21316), ('aplecare', 21317), ('everywhereyou', 21318), ('anais', 21319), ('softsynthsdaw', 21320), ('jorx', 21321), ('redemption', 21322), ('2k6', 21323), ('tozer', 21324), ('fiery', 21325), ('surounding', 21326), ('aerobars', 21327), ('alkek', 21328), ('melting', 21329), ('answerer', 21330), ('timefrench', 21331), ('goitn', 21332), ('buckled', 21333), ('gasoline', 21334), ('favorito', 21335), ('asistiu', 21336), ('wantquot', 21337), ('bigi', 21338), ('carey', 21339), ('helpline', 21340), ('quotground', 21341), ('stopquot', 21342), ('franklin', 21343), ('richards', 21344), ('7846', 21345), ('joing', 21346), ('chug', 21347), ('ipoding', 21348), ('mutitasking', 21349), ('todles', 21350), ('tiki', 21351), ('blackquot', 21352), ('mugt', 21353), ('meca', 21354), ('milonzi', 21355), ('truetrue', 21356), ('leaver', 21357), ('batered', 21358), ('gokarting', 21359), ('fk09', 21360), ('department', 21361), ('starwarswithadedpants', 21362), ('stacey', 21363), ('quothelp', 21364), ('thrust', 21365), ('pnut', 21366), ('colar', 21367), ('beaver', 21368), ('pelt', 21369), ('anwhere', 21370), ('quotbete', 21371), ('inspirative', 21372), (\"fixin's\", 21373), ('rearanged', 21374), ('macaramber', 21375), ('reluctant', 21376), (\"joey's\", 21377), ('lizard', 21378), ('gch', 21379), ('twetbud', 21380), ('flwrs', 21381), ('quotmonarchyquot', 21382), ('bled', 21383), ('reconize', 21384), ('melancholy', 21385), ('emblem', 21386), ('wormy', 21387), ('labyrinth', 21388), ('cantazaro', 21389), ('calabria', 21390), ('525,60', 21391), ('recycled', 21392), ('labtop', 21393), ('menquot', 21394), ('monkquot', 21395), ('bayou', 21396), ('judgemental', 21397), ('tities', 21398), ('ragons', 21399), ('yumb', 21400), ('brera', 21401), ('tjeferson', 21402), ('trosevelt', 21403), ('barbie', 21404), ('28c', 21405), ('packin', 21406), ('8track', 21407), ('adaptor', 21408), ('ine', 21409), ('unixodbc', 21410), ('jiped', 21411), ('hedge', 21412), ('erugh', 21413), ('xloveyouto', 21414), (\"beto's\", 21415), ('pizeria', 21416), ('banksvile', 21417), ('beachview', 21418), (\"co's\", 21419), ('floatiez', 21420), ('beting', 21421), ('venesa', 21422), ('20lbs', 21423), ('tuba', 21424), ('corse', 21425), ('theator', 21426), ('ryder', 21427), ('playgroup', 21428), ('chores', 21429), ('isint', 21430), ('twater', 21431), ('quotalternate', 21432), ('acquisitionquot', 21433), ('reprobate', 21434), ('quince', 21435), ('deathmatch', 21436), ('peril', 21437), ('aw0910', 21438), ('unwind', 21439), (\"ef'ed\", 21440), ('slows', 21441), ('le2', 21442), ('crackup', 21443), ('quotcute', 21444), ('sundresquot', 21445), ('lure', 21446), ('shivshankar', 21447), ('hernandez', 21448), ('caitlin', 21449), ('ramona', 21450), ('12306', 21451), ('atmben', 21452), ('hru', 21453), ('firewal', 21454), ('beckons', 21455), ('malakas', 21456), ('abster', 21457), ('sidenote', 21458), ('comuting', 21459), ('picker', 21460), ('synday', 21461), ('bulwinkle', 21462), ('babysite', 21463), ('filout', 21464), ('odesey', 21465), ('folishnes', 21466), ('dominick', 21467), ('toeat', 21468), ('kahuna', 21469), ('trixter', 21470), ('roler', 21471), ('emal', 21472), ('godamnit', 21473), ('iming', 21474), ('diferents', 21475), (\"daisy's\", 21476), ('4719', 21477), ('cancled', 21478), ('ctc', 21479), ('atlast', 21480), ('ambitious', 21481), ('alreadi', 21482), ('coraperates', 21483), ('gable', 21484), ('bait', 21485), ('persistent', 21486), ('sumaries', 21487), ('maxin', 21488), ('compton', 21489), ('medisoft', 21490), (\"doesn''t\", 21491), ('tweat', 21492), ('azongo', 21493), ('smokefest', 21494), ('olman', 21495), (\"quother's\", 21496), ('minequot', 21497), ('leaving', 21498), ('germn', 21499), (\"rodrguez's\", 21500), ('pushit', 21501), ('sorce', 21502), ('sincerely', 21503), (\"naruto's\", 21504), ('janete', 21505), ('71528th', 21506), (\"band's\", 21507), ('semiswet', 21508), ('helovegies', 21509), ('incapable', 21510), ('frolick', 21511), ('biscuit', 21512), ('urgently', 21513), ('ragy', 21514), ('yawnn', 21515), ('razr', 21516), ('bps', 21517), ('homepage', 21518), ('rainging', 21519), ('eutour', 21520), ('rebound', 21521), ('unhoking', 21522), (\"pt's\", 21523), ('maybes', 21524), ('chelk', 21525), ('adelaide', 21526), ('calum', 21527), ('2live', 21528), ('2cut', 21529), ('chocy', 21530), ('montel', 21531), ('denise', 21532), ('anychance', 21533), ('quotghosts', 21534), ('inspiron', 21535), ('2duo', 21536), ('0ghz', 21537), ('dr2', 21538), ('frehley', 21539), ('mightmight', 21540), ('lold', 21541), ('omge', 21542), (\"bitit's\", 21543), ('sohcahtoa', 21544), ('dayscuz', 21545), ('roxieravenclaw', 21546), ('btwn', 21547), ('lv', 21548), ('presh', 21549), ('zd', 21550), ('bp', 21551), ('glare', 21552), ('sundown', 21553), ('quary', 21554), ('shipley', 21555), ('baildon', 21556), ('aztec', 21557), ('tavern', 21558), ('panasonic', 21559), ('stringer', 21560), ('webcast', 21561), ('yon', 21562), ('walgrens', 21563), ('barets', 21564), ('malware', 21565), ('dept', 21566), ('worthacrap', 21567), ('armhole', 21568), ('alens', 21569), ('dolies', 21570), ('talkingwithtami', 21571), ('tamie', 21572), ('climbing', 21573), (\"saying'pleasant\", 21574), (\"pleasure'own\", 21575), ('barcalona', 21576), ('backspace', 21577), ('trilion', 21578), ('chucking', 21579), ('fedings', 21580), ('podunktown', 21581), ('limey', 21582), ('trudat', 21583), ('lele', 21584), ('kuala', 21585), ('lumpur', 21586), ('vanish', 21587), ('poped', 21588), ('moncton', 21589), ('acountgt', 21590), ('stubornly', 21591), ('shoks', 21592), ('overprotective', 21593), ('cybercheatin', 21594), ('gilmour', 21595), ('ember', 21596), ('dante', 21597), ('stafers', 21598), ('rutledge', 21599), ('castelvania', 21600), ('darkward', 21601), ('weiner', 21602), ('slober', 21603), ('noida', 21604), ('cruet', 21605), ('wakenbake', 21606), ('shitest', 21607), ('ksn', 21608), ('playbyplay', 21609), ('pretty', 21610), ('mayor', 21611), ('brainard', 21612), ('wotk', 21613), ('3907', 21614), ('c25k', 21615), ('blockage', 21616), ('prepre', 21617), ('geographie', 21618), ('bryn', 21619), ('landquot', 21620), ('timothy', 21621), ('twiterfriends', 21622), ('anton', 21623), ('chekov', 21624), ('quotpul', 21625), (\"tom's\", 21626), ('230pm', 21627), ('limitation', 21628), ('shakespeare', 21629), ('garulous', 21630), ('fourthgrade', 21631), ('scribe', 21632), ('nau', 21633), ('ordeal', 21634), ('christen', 21635), ('gulb', 21636), ('eveningmorningday', 21637), ('workman', 21638), ('745am', 21639), ('racket', 21640), ('190', 21641), ('barowmanquot', 21642), ('piglet', 21643), ('frosties', 21644), ('knackers', 21645), ('claratyne', 21646), ('whufaoke', 21647), ('gilete', 21648), ('whatat', 21649), ('siera', 21650), ('ampampthe', 21651), ('mazie', 21652), ('kristina', 21653), ('aimiloveshawniedur', 21654), ('wazup', 21655), ('blender', 21656), ('baiters', 21657), ('kulps', 21658), ('manyes', 21659), ('sponge', 21660), ('bobs', 21661), ('farah', 21662), ('funhouse', 21663), ('cousins', 21664), ('babyfather', 21665), ('gemstar', 21666), ('comandments', 21667), ('intolerant', 21668), ('examination', 21669), ('sqeaky', 21670), ('twitascope', 21671), ('ethnic', 21672), ('awsum', 21673), ('sacto', 21674), ('mature', 21675), ('lifebal', 21676), ('alexandra', 21677), ('somalions', 21678), ('mcmcbudy', 21679), ('grilz', 21680), ('plaque', 21681), ('5409', 21682), (\"holy's\", 21683), ('novelty', 21684), ('vas', 21685), ('comodity', 21686), ('quotcroscloudquot', 21687), ('afgan', 21688), ('beatboxing', 21689), ('shibuya', 21690), ('shinjuku', 21691), ('semigod', 21692), ('intolence', 21693), ('herlen', 21694), ('ysc', 21695), ('runthrough', 21696), ('dming', 21697), ('macym', 21698), ('kiran', 21699), (\"land'g\", 21700), ('dadgum', 21701), ('freight', 21702), ('furbaby', 21703), ('scheuring', 21704), ('90th', 21705), ('prized', 21706), ('magsbokanuals', 21707), ('thorpe', 21708), ('flashpoint', 21709), ('segment', 21710), ('chevron', 21711), ('gha', 21712), ('nige', 21713), ('goth', 21714), ('gprof', 21715), ('antidisestablishmentarianism', 21716), ('proceses', 21717), ('sharsies', 21718), ('screngrab', 21719), ('solder', 21720), ('n2', 21721), ('skyfire', 21722), ('tytn', 21723), ('wthose', 21724), ('cauzinho', 21725), ('ohnoyoudidnt', 21726), ('asd', 21727), ('autism', 21728), ('intervene', 21729), ('quotelo', 21730), ('gahaha', 21731), ('inav', 21732), ('iblue', 21733), ('subed', 21734), ('pika', 21735), ('nichi', 21736), ('sirs', 21737), ('vector', 21738), ('1987', 21739), ('ia209', 21740), ('outvote', 21741), ('bfls', 21742), ('ohsosexy', 21743), ('rahul', 21744), ('ryanseacrest', 21745), ('perv', 21746), ('michels', 21747), ('wtaching', 21748), ('surey', 21749), ('nipy', 21750), (\"meme's\", 21751), (\"b's\", 21752), ('programers', 21753), ('outcome', 21754), ('mbs', 21755), ('netsexor', 21756), (\"can'wait\", 21757), ('xoxoxoxo', 21758), ('springleaf', 21759), ('reentered', 21760), ('orbit', 21761), ('lancey', 21762), ('prime', 21763), ('desribe', 21764), ('justa', 21765), ('reliable', 21766), ('itsnikitime', 21767), (\"o'brien\", 21768), ('kohls', 21769), ('kirsten', 21770), ('10days', 21771), ('contrary', 21772), ('trekies', 21773), ('lethargic', 21774), ('decongestant', 21775), ('alough', 21776), ('rawknrol', 21777), ('elaborate', 21778), ('frenchiebday', 21779), ('gabers', 21780), ('bax', 21781), ('thasa', 21782), ('amel', 21783), ('larieux', 21784), ('erybody', 21785), ('timy', 21786), ('lauryn', 21787), ('glyders', 21788), (\"piper's\", 21789), ('piston', 21790), ('bakersfield', 21791), ('teriyaki', 21792), ('poptarts', 21793), ('vl', 21794), ('florence', 21795), ('rane', 21796), ('hust', 21797), ('kniting', 21798), ('bangus', 21799), ('moy', 21800), ('stresors', 21801), ('entonces', 21802), ('perdonada', 21803), ('porque', 21804), ('sigues', 21805), ('obscenely', 21806), ('lateearly', 21807), ('kline', 21808), ('thorw', 21809), ('melol', 21810), ('liana', 21811), ('corber', 21812), ('moreover', 21813), ('wiaih', 21814), ('humbling', 21815), ('nemore', 21816), ('duckraces', 21817), ('multitaskin', 21818), ('nightmornin', 21819), ('asing', 21820), ('biznes', 21821), ('fromy', 21822), ('cavite', 21823), ('larenz', 21824), ('fineas', 21825), ('tate', 21826), ('twheaded', 21827), ('amd', 21828), ('torchwod', 21829), ('carot', 21830), ('fightmosh', 21831), ('janitor', 21832), (\"body's\", 21833), ('francebelgium', 21834), ('flourescents', 21835), ('facepely', 21836), ('hideous', 21837), ('lipstick', 21838), ('alphonso', 21839), ('lasi', 21840), ('nimbupani', 21841), ('quadcore', 21842), ('25quot', 21843), ('dualcore', 21844), ('spade', 21845), ('bmore', 21846), ('ilze', 21847), ('sadsvile', 21848), ('likable', 21849), ('gday', 21850), ('nhibernate', 21851), ('interop', 21852), ('vb6', 21853), ('netnhibernate', 21854), ('blob', 21855), ('tentacle', 21856), ('rusia', 21857), ('retaking', 21858), ('cravin', 21859), ('chanclas', 21860), ('gebus', 21861), ('prd', 21862), ('adm', 21863), ('orderingno', 21864), ('etcamp', 21865), (\"likequotit's\", 21866), ('quotinsert', 21867), ('winkto', 21868), ('yesh', 21869), ('mckiney', 21870), ('actialy', 21871), ('swanage', 21872), ('bourton', 21873), ('thursfri', 21874), ('qoincidencia', 21875), ('serioo', 21876), ('fotwear', 21877), ('hypnosis', 21878), ('photofiltre', 21879), ('photoscape', 21880), ('gimp', 21881), ('chackin', 21882), ('friendbrother', 21883), ('quotbalistic', 21884), ('autisticsquot', 21885), ('mindy', 21886), ('4me', 21887), ('walnut', 21888), ('engulfed', 21889), ('terel', 21890), ('district', 21891), ('holowbabeshere', 21892), ('lti', 21893), ('mayfield', 21894), ('kashoek', 21895), ('unisys', 21896), ('doculabs', 21897), ('sampson', 21898), ('asasination', 21899), ('shawne', 21900), ('lovies', 21901), ('samich', 21902), ('bongie', 21903), ('werecounting', 21904), ('5050', 21905), ('heartbeat', 21906), ('kawai', 21907), ('greley', 21908), ('scarepoint', 21909), ('diger', 21910), ('sap', 21911), ('grecia', 21912), ('fershure', 21913), (\"folower's\", 21914), ('padle', 21915), ('carlsbad', 21916), ('ohlala', 21917), ('quotsh', 21918), ('viper', 21919), ('s5', 21920), ('dearie', 21921), ('singerguitarist', 21922), ('okami', 21923), ('bfe', 21924), ('msning', 21925), ('christening', 21926), ('gknight', 21927), ('exceded', 21928), ('threshold', 21929), ('htmljava', 21930), ('dabling', 21931), ('bibisita', 21932), ('kina', 21933), ('bukas', 21934), ('sasama', 21935), ('rusher', 21936), ('eb', 21937), ('jumpstart', 21938), ('bridesmaid', 21939), ('sayid', 21940), ('nop', 21941), ('uso', 21942), ('informal', 21943), ('parde', 21944), ('picturs', 21945), ('pusrse', 21946), ('holmes', 21947), ('watchingn', 21948), ('uhuru', 21949), ('etsyseler', 21950), ('heartz', 21951), (\"redgie's\", 21952), ('splashtown', 21953), ('bmfing', 21954), ('spesh', 21955), ('roadwarior', 21956), ('header', 21957), ('anabele', 21958), ('rachyl', 21959), ('rewind', 21960), ('sharpie', 21961), ('dangerously', 21962), ('corpes', 21963), ('roseburg', 21964), ('todayh', 21965), ('mariana', 21966), (\"casone's\", 21967), ('tinys', 21968), ('024', 21969), ('thorn', 21970), ('mouthy', 21971), ('celticslakers', 21972), ('rematch', 21973), ('bonaro', 21974), ('tm', 21975), ('spawn', 21976), ('weaknes', 21977), ('dominic', 21978), ('monaghan', 21979), ('burbs', 21980), ('horayayayay', 21981), ('friendfolower', 21982), ('ratio', 21983), (\"chrome's\", 21984), ('popup', 21985), ('swepstakes', 21986), ('gbw', 21987), ('bruh', 21988), ('erection', 21989), ('irked', 21990), ('phylis', 21991), ('hyman', 21992), ('unsung', 21993), ('extremly', 21994), ('mashed', 21995), ('learnin', 21996), ('ahora', 21997), ('garland', 21998), ('twitmoms', 21999), ('calanques', 22000), ('milys', 22001), ('powersquid', 22002), ('beasties', 22003), ('thievery', 22004), ('volta', 22005), ('4lashes', 22006), ('bandofhorses', 22007), (\"tasha's\", 22008), ('sendin', 22009), ('ontd', 22010), ('fening', 22011), ('cagayan', 22012), ('oro', 22013), ('skeptical', 22014), ('ofgthayley', 22015), ('radishes', 22016), ('bloms', 22017), ('invisibleshield', 22018), ('trop', 22019), ('restrom', 22020), ('louse', 22021), ('ghunghte', 22022), ('chanda', 22023), ('phir', 22024), ('phela', 22025), ('charon', 22026), ('aur', 22027), ('ujala', 22028), ('armin', 22029), ('whb', 22030), ('209205', 22031), ('cinder', 22032), ('dantas', 22033), ('porky', 22034), ('beavs', 22035), ('kuwait', 22036), ('crisy', 22037), ('morongo', 22038), ('reuters', 22039), ('commobilemanyarticlep', 22040), ('rdt', 22041), ('turk', 22042), ('gameplay', 22043), ('g0d', 22044), ('kidys', 22045), ('sumthing', 22046), ('manuels', 22047), ('mrsal', 22048), ('moldy', 22049), ('squishy', 22050), (\"amy's\", 22051), ('quotever', 22052), ('shante', 22053), ('kazim', 22054), ('pwnd', 22055), ('reprieve', 22056), ('40pm', 22057), ('flipside', 22058), ('mobiledang', 22059), ('bahrain', 22060), ('wilkomen', 22061), ('britains', 22062), ('kmf', 22063), ('electronic', 22064), ('keyhole', 22065), ('aplyn', 22066), ('delivrd', 22067), ('cordinating', 22068), ('3point', 22069), ('sexin', 22070), ('habitat', 22071), ('twiteractive', 22072), ('detz', 22073), ('84', 22074), ('whining', 22075), ('mywireles', 22076), ('maze', 22077), ('arc', 22078), ('tauren', 22079), ('shaman', 22080), ('icewater', 22081), ('childline', 22082), ('covershots', 22083), ('kelana', 22084), ('jaya', 22085), (\"nicole's\", 22086), ('afecting', 22087), ('l8ter', 22088), ('mampm', 22089), ('gracin', 22090), ('mozer', 22091), ('brazilians', 22092), ('metsies', 22093), ('simplicity', 22094), ('quotthen', 22095), ('hapenedquot', 22096), ('horatio', 22097), ('caine', 22098), ('haveto', 22099), ('saucepan', 22100), ('scrabled', 22101), ('greatgrandmother', 22102), ('yaeh', 22103), ('suekd', 22104), ('alevel', 22105), ('parot', 22106), ('reptile', 22107), (\"singer's\", 22108), ('bouvierbday', 22109), ('bouvier', 22110), ('warens', 22111), ('kidshow', 22112), ('encouragementit', 22113), ('divo', 22114), ('joco', 22115), ('pamps', 22116), ('promontory', 22117), ('cash_register', 22118), ('avaricious', 22119), ('hot_flash', 22120), ('distribute', 22121), ('swot', 22122), ('brake_shoe', 22123), ('zymosis', 22124), ('solicit', 22125), ('in_concert', 22126), ('defect', 22127), ('err', 22128), ('evasion', 22129), ('feign', 22130), ('give_voice', 22131), ('covenant', 22132), ('brainsick', 22133), ('beggarly', 22134), ('give_way', 22135), ('anoint', 22136), ('exuberate', 22137), ('scantily', 22138), ('fuss', 22139), ('loiter', 22140), ('unplayful', 22141), ('partake', 22142), ('terribly', 22143), ('air_travel', 22144), ('massage', 22145), ('well', 22146), ('decant', 22147), ('potentiometer', 22148), ('boiling_point', 22149), ('bastardly', 22150), ('overt', 22151), ('interrupt', 22152), ('beneficial', 22153), ('beckon', 22154), ('nebraska', 22155), ('oculus_dexter', 22156), ('circumspection', 22157), ('biography', 22158), ('tip_off', 22159), ('draftsman', 22160), ('lawsuit', 22161), ('indigence', 22162), ('studio_apartment', 22163), ('pull_the_leg_of', 22164), ('british_labour_party', 22165), ('cinch', 22166), ('whiten', 22167), ('playing_field', 22168), ('sample_distribution', 22169), ('agitation', 22170), ('cull_out', 22171), ('penitential', 22172), ('affection', 22173), ('beginning', 22174), ('passing', 22175), ('wag', 22176), ('ashcan_school', 22177), ('frightful', 22178), ('spillway', 22179), ('tangent', 22180), ('colon', 22181), ('sourness', 22182), ('megabit', 22183), ('rejoinder', 22184), ('charnel', 22185), ('vivification', 22186), ('minibike', 22187), ('free-base', 22188), ('puff', 22189), ('boastfully', 22190), ('dominion', 22191), ('approximate_range', 22192), ('chew_over', 22193), ('condemnable', 22194), ('switch_over', 22195), ('inauguration', 22196), ('homosexual', 22197), ('ascribable', 22198), ('narrative', 22199), ('three-dimensional', 22200), ('testify', 22201), ('bunch_together', 22202), ('vanguard', 22203), ('stagger', 22204), ('spectator', 22205), ('coupling', 22206), ('rally', 22207), ('aesculapian', 22208), ('apparent', 22209), ('roll_of_tobacco', 22210), ('watt', 22211), ('basal', 22212), ('halt', 22213), ('brake_drum', 22214), ('chemise', 22215), ('veracious', 22216), ('public_house', 22217), ('pursuit', 22218), ('garter', 22219), ('loudspeaker', 22220), ('imprint', 22221), ('curiously', 22222), ('fledge', 22223), ('fatten', 22224), ('revert', 22225), ('associate', 22226), ('dumbbell', 22227), ('rotter', 22228), ('sports_fan', 22229), ('playpen', 22230), ('britisher', 22231), ('normality', 22232), ('war_cry', 22233), ('elder', 22234), ('loot', 22235), ('imprison', 22236), ('distress', 22237), ('initiate', 22238), ('catgut', 22239), ('endow', 22240), ('cocktail_dress', 22241), ('quotasos', 22242), ('couponsquot', 22243), ('inconvenience', 22244), ('earlyer', 22245), ('andim', 22246), ('asi', 22247), ('inedhelp', 22248), ('fabian', 22249), (\"dave's\", 22250), ('dndn', 22251), ('dwelers', 22252), ('brewcast', 22253), ('huma', 22254), ('smokefre', 22255), ('holyweird', 22256), ('altered', 22257), ('heritage', 22258), ('hiyah', 22259), ('listnin', 22260), ('bestest', 22261), ('sothes', 22262), ('clingy', 22263), ('submarine', 22264), ('fiber', 22265), ('optic', 22266), ('alotment', 22267), (\"suply's\", 22268), ('greastest', 22269), ('webdu', 22270), ('arow', 22271), ('pukey', 22272), ('bourns', 22273), ('grandbaby', 22274), ('bsnl', 22275), ('rotf', 22276), (\"isn'tis\", 22277), ('pixar', 22278), ('doled', 22279), ('humira', 22280), ('enbrel', 22281), ('rheumy', 22282), ('longterm', 22283), ('twiterquotersquot', 22284), ('wham', 22285), ('manyquot', 22286), ('cruisetour', 22287), ('spofcards', 22288), (\"compo's\", 22289), ('dumpster', 22290), ('371', 22291), ('mercure', 22292), ('hadthebestdayever', 22293), ('whathefuck', 22294), ('depends', 22295), ('swears', 22296), ('syn', 22297), ('quottogetherquot', 22298), ('quothisquot', 22299), ('sanitize', 22300), ('compete', 22301), ('750', 22302), ('wold', 22303), ('tantalizingly', 22304), ('comunism', 22305), ('comunistquot', 22306), ('giftcert', 22307), ('hipfabric', 22308), ('internship', 22309), ('mediteranian', 22310), ('backe', 22311), ('ldn', 22312), ('problemfre', 22313), ('4amp5', 22314), ('metaprograming', 22315), ('screncasts', 22316), ('vobys', 22317), ('hyd', 22318), (\"theka's\", 22319), ('facebokdetox', 22320), ('fryend', 22321), ('sensor', 22322), ('narnia', 22323), ('blurb', 22324), ('aslan', 22325), ('skandar', 22326), ('homely', 22327), ('fredie', 22328), ('funpacked', 22329), ('wath', 22330), ('gloves', 22331), ('tacky', 22332), ('interwebs', 22333), ('quebec', 22334), ('lagon', 22335), ('donel', 22336), ('autoreset', 22337), ('plinker', 22338), ('lovah', 22339), ('soby', 22340), ('tailights', 22341), ('dubstep', 22342), ('iat', 22343), ('rivercenter', 22344), ('doingn', 22345), ('40404', 22346), ('3265', 22347), ('ravel', 22348), ('partial', 22349), (\"pink's\", 22350), ('sobre', 22351), ('conecting', 22352), ('a1', 22353), ('grenday', 22354), ('shwet', 22355), ('stove', 22356), ('tailgating', 22357), ('garit', 22358), ('b2k', 22359), (\"fo'sho\", 22360), (\"rem's\", 22361), (\"avi's\", 22362), ('smashspace', 22363), ('shutdown', 22364), ('livestream', 22365), ('jobles', 22366), ('transsiberian', 22367), ('ghia', 22368), ('rung', 22369), ('vacant', 22370), ('dynamic', 22371), ('tremor', 22372), (\"imac's\", 22373), ('fm97', 22374), ('tafy', 22375), ('zenrelated', 22376), ('quotgo', 22377), ('senioritis', 22378), ('calculus', 22379), ('slackin', 22380), ('aprox', 22381), ('10msgsecond', 22382), ('6msgsec', 22383), ('fontstruct', 22384), ('dafont', 22385), ('16k', 22386), ('ankit', 22387), ('parlour', 22388), ('hokeypokeybandra', 22389), ('claires', 22390), ('mags', 22391), ('ahte', 22392), ('yehah', 22393), ('husky', 22394), ('atendances', 22395), ('3040', 22396), ('oval', 22397), ('clubin', 22398), ('spar', 22399), ('slider', 22400), ('barjohnys', 22401), ('variation', 22402), ('oof', 22403), ('apetizing', 22404), ('wrkd', 22405), ('graf', 22406), ('quotbigquot', 22407), ('catulus', 22408), ('ovid', 22409), ('extract', 22410), ('aeneid', 22411), ('gosling', 22412), ('yuky', 22413), ('abueltia', 22414), (\"chaz's\", 22415), ('hapenings', 22416), ('231', 22417), (\"g'nimorning\", 22418), ('louisa', 22419), ('rerecordings', 22420), ('scured', 22421), ('slefish', 22422), ('twetioi', 22423), ('schaumburg', 22424), ('discused', 22425), ('lugosi', 22426), ('quotbestquot', 22427), ('tablejukebox', 22428), ('quiter', 22429), ('7265', 22430), ('traficking', 22431), ('daly', 22432), ('chaplaintherapist', 22433), ('648am', 22434), ('cluters', 22435), ('pane', 22436), ('meditation', 22437), ('kbom', 22438), ('precede', 22439), ('ltsighgt', 22440), ('tomrow', 22441), ('dtrain', 22442), ('bestbuy', 22443), ('quotcatch', 22444), ('canquot', 22445), ('everton', 22446), ('favorit', 22447), ('wfd', 22448), ('droids', 22449), ('abnormal', 22450), ('wildflower', 22451), ('backordered', 22452), ('bionomial', 22453), ('quesadilas', 22454), ('masekela', 22455), ('contern', 22456), ('t71', 22457), ('usnlbest', 22458), ('mabrok', 22459), ('inta', 22460), ('3indi', 22461), ('funon', 22462), ('extranauseous', 22463), ('peristalsis', 22464), ('webkinz', 22465), ('colabro', 22466), ('wjphlip', 22467), ('quotcaliforniaquot', 22468), ('glitch', 22469), ('mixup', 22470), (\"piz's\", 22471), ('bdub', 22472), ('freeze', 22473), ('mayn', 22474), ('styl', 22475), ('ybwm', 22476), ('quotcrap', 22477), ('paysite', 22478), ('nephews', 22479), ('lizi', 22480), ('foh', 22481), ('dealt', 22482), ('chale', 22483), ('quotoutquot', 22484), ('colder', 22485), ('paraguay', 22486), ('adin', 22487), ('ngl', 22488), ('wokiepedia', 22489), ('pistake', 22490), ('vigorous', 22491), ('removal', 22492), ('aptitude', 22493), ('trish', 22494), ('enthuse', 22495), ('manics', 22496), ('foxford', 22497), ('ponton', 22498), (\"yes'ma\", 22499), ('gale', 22500), ('toasties', 22501), ('vstudio', 22502), ('boyfriends', 22503), ('sears', 22504), ('minh', 22505), ('saunaampspa', 22506), ('alread', 22507), ('shenanigan', 22508), ('ruxbury', 22509), ('quoturlautoexpandquot', 22510), ('cinerama', 22511), ('carlys', 22512), ('shelton', 22513), ('mancandy', 22514), ('kahit', 22515), ('peso', 22516), ('combonations', 22517), ('sufka', 22518), ('marjorie', 22519), ('jemimah', 22520), ('mths', 22521), ('kegan', 22522), ('iswas', 22523), ('krys', 22524), ('screnshots', 22525), ('casual', 22526), ('coked', 22527), ('fem', 22528), ('bork', 22529), ('calshet', 22530), ('bgtalent', 22531), ('sumerbal', 22532), ('coveri', 22533), ('alist', 22534), ('o0angerwho', 22535), ('raimi', 22536), ('sanz', 22537), ('theraflu', 22538), ('fend', 22539), ('itin', 22540), ('expired', 22541), ('combust', 22542), ('hao', 22543), ('ji', 22544), ('kinduh', 22545), ('bampbws', 22546), ('pizatime', 22547), ('vickyt', 22548), ('19th', 22549), ('thxs', 22550), ('potentialy', 22551), ('leuke', 22552), ('dus', 22553), ('standup', 22554), ('webkit', 22555), ('hamlet', 22556), ('inkheart', 22557), ('sexify', 22558), ('bmw', 22559), ('twoheaded', 22560), ('aural', 22561), ('42nd', 22562), ('uncover', 22563), ('persauded', 22564), ('earful', 22565), ('psychopath', 22566), ('homer', 22567), ('simspon', 22568), ('yesi', 22569), ('michelemybele', 22570), ('heyho', 22571), ('heyhey', 22572), ('felit', 22573), ('amazning', 22574), ('slovenia', 22575), (\"cheri's\", 22576), ('thwart', 22577), ('lexington', 22578), ('hackday', 22579), ('wealthed', 22580), ('whem', 22581), ('swepy', 22582), ('paradice', 22583), ('ecxept', 22584), ('sharfenberger', 22585), ('ohmygosh', 22586), ('vicki', 22587), ('roush', 22588), ('courgete', 22589), ('finals', 22590), ('badquot', 22591), ('greshamblake', 22592), ('ba15', 22593), ('enlist', 22594), ('labo', 22595), (\"cushing's\", 22596), ('keanu', 22597), ('lovelytrinkets', 22598), ('awk', 22599), ('morcom', 22600), ('aniya', 22601), ('yars', 22602), ('sunlight', 22603), ('fkin', 22604), ('twi', 22605), ('funday', 22606), ('togling', 22607), ('quotganesh', 22608), ('jajuquot', 22609), ('prowse', 22610), ('balearic', 22611), ('ampampamp', 22612), ('mutering', 22613), ('jkuk', 22614), ('rivet', 22615), ('shepherd', 22616), ('50x', 22617), ('twetcanon', 22618), ('fika', 22619), ('thes', 22620), ('divorcing', 22621), ('pariswhere', 22622), ('traficjam', 22623), ('phuture', 22624), ('src', 22625), (\"youngest's\", 22626), ('17yearold', 22627), ('obnoxiously', 22628), ('mpls', 22629), ('runsexcursions', 22630), ('sondaughter', 22631), ('naia', 22632), ('tetens', 22633), ('motorscoter', 22634), ('confesed', 22635), ('despertando', 22636), ('megadespistado', 22637), ('luego', 22638), ('fin', 22639), ('semana', 22640), ('saldr', 22641), ('dayofservice', 22642), ('celebrates', 22643), ('mumzys', 22644), ('swob', 22645), ('swas', 22646), ('motivates', 22647), ('formerly', 22648), ('quotit', 22649), ('twoquot', 22650), ('akins', 22651), ('mamacita', 22652), ('kisha', 22653), ('flightwas', 22654), ('147pm', 22655), ('jenson', 22656), ('weighting', 22657), ('kristine', 22658), ('quotking', 22659), (\"fastsmalbalbuster'y\", 22660), ('weirdherout', 22661), ('visionboard', 22662), ('floridia', 22663), ('margeritas', 22664), ('hayle', 22665), ('milkshakeshakeshakeshake', 22666), ('punlk', 22667), ('torcon', 22668), (\"amwhat's\", 22669), ('outsidewowwas', 22670), ('sfelt', 22671), ('lokd', 22672), ('loc', 22673), ('g4c09', 22674), ('bluegras', 22675), ('casade', 22676), ('bragin', 22677), ('peolple', 22678), (\"mom'l\", 22679), (\"doesnt't\", 22680), (\"boy's\", 22681), (\"ear's\", 22682), ('twiterchalenged', 22683), ('16c', 22684), ('todayampcold', 22685), ('reap', 22686), ('quotbquot', 22687), ('frak', 22688), ('disection', 22689), ('frogy', 22690), ('quinland', 22691), (\"building's\", 22692), ('whitegloved', 22693), ('operator', 22694), ('yumcha', 22695), ('arcel', 22696), ('egpants', 22697), ('empres', 22698), ('hva', 22699), ('rotr', 22700), ('adelitas', 22701), ('invincible', 22702), ('edelcries', 22703), (\"didn'tgot\", 22704), ('triping', 22705), ('unrelated', 22706), ('storywise', 22707), ('butershots', 22708), ('locie', 22709), ('stimulus', 22710), ('256', 22711), ('253', 22712), ('rage', 22713), ('virtualpc', 22714), ('clueefect', 22715), ('tedychucking', 22716), (\"s'ok\", 22717), ('straighening', 22718), ('l4d', 22719), ('blackets', 22720), ('jaiden', 22721), ('defunct', 22722), ('pufyn', 22723), ('completley', 22724), ('dampier', 22725), ('jdoramas', 22726), (\"se'n\", 22727), ('financialy', 22728), (\"her's\", 22729), ('amaize', 22730), ('tbqh', 22731), ('estimation', 22732), ('teve', 22733), ('guarantes', 22734), ('cade', 22735), (\"herhsey's\", 22736), ('heartquot', 22737), ('pricines', 22738), ('panhandler', 22739), ('papadeux', 22740), ('ltbaby', 22741), ('boygt', 22742), ('wolsery', 22743), ('molton', 22744), ('u16', 22745), ('clinch', 22746), ('blimey', 22747), ('acused', 22748), ('sidedquot', 22749), ('sastch', 22750), ('garos', 22751), ('tehehe', 22752), ('debra', 22753), ('budweiser', 22754), ('wof', 22755), ('westend', 22756), ('contd', 22757), ('vibrant', 22758), ('cpeven', 22759), ('squosh', 22760), ('jodie', 22761), ('quotmarley', 22762), ('seam', 22763), ('scholmate', 22764), ('baly', 22765), ('deze', 22766), ('interesanter', 22767), ('utmost', 22768), ('bankrupt', 22769), ('fotoreportage', 22770), ('surveilance', 22771), ('lalalala', 22772), ('dble', 22773), (\"sdp's\", 22774), ('kashtam', 22775), ('similey', 22776), ('csk', 22777), ('profesors', 22778), ('carwash', 22779), ('snf', 22780), ('rainstorm', 22781), ('shering', 22782), ('relaxful', 22783), ('suficient', 22784), ('tweterz', 22785), ('quottel', 22786), ('squeky', 22787), (\"houston's\", 22788), ('diped', 22789), ('shitshow', 22790), ('optimist', 22791), ('cingular', 22792), ('mangle', 22793), ('seja', 22794), ('vindo', 22795), ('anjo', 22796), ('wseven', 22797), ('realitycheck', 22798), (\"rachael's\", 22799), ('quotrole', 22800), ('modelsquot', 22801), ('251', 22802), ('maxi', 22803), ('4quot', 22804), ('04182012154', 22805), ('txtd', 22806), ('musicboth', 22807), ('aesthetic', 22808), ('frestyling', 22809), ('mixtape', 22810), ('sw0p', 22811), ('418', 22812), ('gosebumps', 22813), ('tic', 22814), ('tacs', 22815), ('feastfriday', 22816), ('exato', 22817), ('momento', 22818), ('wokei', 22819), ('sulking', 22820), ('gru', 22821), ('3some', 22822), ('quotfolow', 22823), ('fridayquot', 22824), ('triming', 22825), ('draging', 22826), ('eurgh', 22827), (\"au'au\", 22828), ('blaisdel', 22829), ('chehe', 22830), ('awrite', 22831), ('filion', 22832), ('quotjobquot', 22833), ('cleavage', 22834), ('confesions', 22835), ('shopoholic', 22836), (\"dancy's\", 22837), ('sandiego', 22838), ('magsupervise', 22839), ('gala', 22840), ('glastonbury', 22841), ('itlog', 22842), ('epenis', 22843), ('2nit', 22844), (\"daon't\", 22845), ('friendlyand', 22846), ('icof', 22847), ('umtil', 22848), ('whateverworks', 22849), ('clamber', 22850), ('crashed', 22851), ('softy', 22852), ('quoturbanquot', 22853), ('ittomorow', 22854), ('wei', 22855), ('abalone', 22856), ('fatherinlaw', 22857), ('donot', 22858), ('disorganized', 22859), ('manbobs', 22860), ('retsi', 22861), ('caus', 22862), ('eit', 22863), ('yayay', 22864), ('leisure', 22865), ('blunstone', 22866), ('smudger', 22867), ('chace', 22868), ('birder', 22869), ('carnage', 22870), ('kaelah', 22871), ('deathcab', 22872), ('crept', 22873), ('nob', 22874), ('owi', 22875), ('credo', 22876), ('brighi', 22877), ('fieldwork', 22878), ('databok', 22879), ('awkwardly', 22880), ('dranks', 22881), ('lewish', 22882), ('almothers', 22883), ('celine', 22884), (\"dion's\", 22885), ('tks', 22886), ('oink', 22887), ('adresed', 22888), ('cokiewise', 22889), ('503', 22890), ('idiotatgameszombie', 22891), ('stonedbuz', 22892), ('nonsuny', 22893), ('hasa', 22894), ('caserole', 22895), (\"ol'soak\", 22896), ('cayogial', 22897), ('preserver', 22898), ('icetv', 22899), ('quotpickyquot', 22900), ('sumahkay', 22901), ('tangle', 22902), ('dislocation', 22903), (\"lif's\", 22904), ('luk', 22905), ('obvs', 22906), ('hanahisdead', 22907), ('fuckyeah', 22908), ('2daytrip', 22909), ('prescribe', 22910), ('antibiotic', 22911), ('inhaler', 22912), ('afairs', 22913), ('southwestern', 22914), (\"mok's\", 22915), ('pinga', 22916), ('grouling', 22917), ('deficiency', 22918), ('socialise', 22919), ('416', 22920), ('roux', 22921), ('electropop', 22922), ('synth', 22923), ('grsvile', 22924), ('acesing', 22925), ('istore', 22926), ('duong', 22927), ('430845', 22928), ('coldplaying', 22929), ('sftw', 22930), ('invasion', 22931), ('subconscious', 22932), ('remarkably', 22933), ('kanji', 22934), ('2niteampi', 22935), ('crumpin', 22936), ('titbob', 22937), ('quotcrumpin', 22938), ('dubquot', 22939), ('kindergarden', 22940), ('heals', 22941), ('reqs', 22942), ('thundershower', 22943), ('ym', 22944), ('ebudy', 22945), ('fabs', 22946), ('salaried', 22947), ('teritory', 22948), ('jesandnicolemusic', 22949), ('aqo', 22950), ('ashower', 22951), ('tremendous', 22952), ('winterboard', 22953), ('hbu', 22954), ('ragh', 22955), ('henpecking', 22956), ('inboxes', 22957), ('leapord', 22958), ('abundantly', 22959), ('uds', 22960), ('definetly', 22961), ('bananabrain', 22962), ('oepn', 22963), ('lobying', 22964), ('garcia', 22965), ('miniherb', 22966), ('iye', 22967), ('neh', 22968), ('pulang', 22969), ('pagian', 22970), ('langsung', 22971), ('touche', 22972), ('sharn', 22973), ('cushion', 22974), ('barstols', 22975), ('mela', 22976), ('cept', 22977), ('caribean', 22978), ('instaler', 22979), ('diging', 22980), ('folo', 22981), ('nomination', 22982), ('80th', 22983), ('falower', 22984), ('mesi', 22985), ('felers', 22986), ('midleclick', 22987), ('statk', 22988), ('spyed', 22989), ('listented', 22990), ('zindex', 22991), ('kidquot', 22992), ('ruston', 22993), ('fanie', 22994), ('darwin', 22995), (\"stewart's\", 22996), (\"fix'd\", 22997), ('cofies', 22998), ('pleaz', 22999), (\"character's\", 23000), ('spiderwoman', 23001), ('climbs', 23002), ('s4', 23003), ('nightie', 23004), ('quottwitingquot', 23005), ('quottwetingquot', 23006), ('tripod', 23007), ('viewfinder', 23008), ('unfocusing', 23009), ('incarnate', 23010), ('mutant', 23011), ('ghalib', 23012), ('unanswered', 23013), ('practise', 23014), (\"jeny's\", 23015), ('chesynes', 23016), ('ltj', 23017), ('yoke', 23018), ('wirequot', 23019), ('quotpantienquot', 23020), ('weirder', 23021), ('23b', 23022), ('rsa', 23023), ('cherfulnes', 23024), ('kilometre', 23025), ('craigslistquebec', 23026), ('anomaly', 23027), ('hawksmor', 23028), ('beover', 23029), ('como', 23030), ('mols', 23031), (\"stub's\", 23032), ('bludgers', 23033), ('beater', 23034), ('quiditch', 23035), ('valejo', 23036), ('macys', 23037), ('wour', 23038), ('mortgage', 23039), ('broker', 23040), ('amara', 23041), ('clasrom', 23042), ('embry', 23043), ('lease', 23044), ('quotsubetha', 23045), ('sensomaticquot', 23046), ('ivealwayswantedtosay', 23047), ('monying', 23048), ('talktalk', 23049), ('dramafest', 23050), ('ch13', 23051), ('virginia', 23052), ('icq', 23053), ('palmdale', 23054), ('fulsized', 23055), ('oters', 23056), ('dogtown', 23057), (\"shepherd's\", 23058), ('d60', 23059), ('errr', 23060), ('huhuh', 23061), ('whahahah', 23062), ('tnite', 23063), ('khaled', 23064), ('dramathon', 23065), ('devistated', 23066), ('wast', 23067), ('6720', 23068), ('qet', 23069), ('drankin', 23070), ('yestarday', 23071), ('artesia', 23072), ('ceritos', 23073), ('haryron', 23074), ('harysnape', 23075), ('otp', 23076), ('siriusremus', 23077), ('semy', 23078), ('guyfreind', 23079), ('misleading', 23080), ('x9', 23081), ('4thquot', 23082), ('ewok', 23083), ('hailthunder', 23084), ('juicy', 23085), ('scots', 23086), ('upgradedone', 23087), ('disable', 23088), ('adons', 23089), (\"sophie's\", 23090), ('padington', 23091), (\"cali's\", 23092), ('unair', 23093), ('horseradish', 23094), ('hbd', 23095), ('quotgrovy', 23096), ('photofolows', 23097), ('fredies', 23098), ('cotch', 23099), ('bajan', 23100), ('sorted', 23101), ('legalisation', 23102), ('dilematic', 23103), ('brainy', 23104), ('visitng', 23105), ('boyet', 23106), ('roughnight', 23107), ('ampdont', 23108), ('overeaction', 23109), ('preweding', 23110), ('sauna', 23111), ('wodchiper', 23112), ('numver', 23113), ('cafene', 23114), ('ldbf', 23115), ('muminlaw', 23116), ('managingonlineforums', 23117), ('amzn', 23118), ('thebeat', 23119), ('mashups', 23120), ('avh', 23121), ('hoks', 23122), ('transgres', 23123), (\"computer's\", 23124), ('chesapeake', 23125), ('jubile', 23126), ('wearin', 23127), ('watchn', 23128), ('madagascar', 23129), ('rihana', 23130), ('opose', 23131), ('makeawish', 23132), ('florin', 23133), ('caucasian', 23134), ('amplearning', 23135), ('toefl', 23136), ('funfunfun', 23137), (\"american's\", 23138), ('backz', 23139), ('kristie', 23140), ('weil', 23141), ('thunderlightning', 23142), ('mast', 23143), ('ladki', 23144), ('patata', 23145), ('jiske', 23146), ('sath', 23147), ('jaye', 23148), ('khush', 23149), ('rehna', 23150), ('sevrl', 23151), ('indies', 23152), ('armour', 23153), ('plywod', 23154), (\"chel's\", 23155), ('whisk', 23156), ('swin', 23157), ('anyonewithbike', 23158), ('homeroasted', 23159), ('enrapture', 23160), ('waityeah', 23161), (\"patrick's\", 23162), ('acknowledge', 23163), ('arto', 23164), ('opf', 23165), ('bl8r', 23166), ('deadliestcatch', 23167), ('tpgquotlove', 23168), ('suspensequot', 23169), ('secretly', 23170), ('spine', 23171), (\"dino's\", 23172), ('wastrat', 23173), ('626', 23174), (\"uou're\", 23175), ('singtel', 23176), ('gogling', 23177), ('comandap', 23178), ('telekinesis', 23179), ('damjust', 23180), ('streching', 23181), ('10m', 23182), ('bombtastic', 23183), ('rained', 23184), ('cus', 23185), ('deinem', 23186), ('admirer', 23187), ('deangeloredman', 23188), ('imna', 23189), (\"coworker's\", 23190), ('spontaneity', 23191), ('corby', 23192), ('gle', 23193), ('wilampgrace', 23194), ('scrambled', 23195), ('fartingloud', 23196), ('hungray', 23197), ('kiteh', 23198), ('eczema', 23199), ('simonidol', 23200), ('21life', 23201), ('metabolism', 23202), ('yolonda', 23203), ('quotwolverinequot', 23204), ('25man', 23205), ('ulduar', 23206), ('yesyesyes', 23207), ('unfort', 23208), ('zipys', 23209), ('bluedart', 23210), ('deliverquot', 23211), ('databases', 23212), ('carnivore', 23213), ('dbuc', 23214), ('piercing', 23215), ('polyvore', 23216), ('dirtines', 23217), ('why', 23218), ('embarisong', 23219), ('picturesnof', 23220), ('nira', 23221), ('quotyayquot', 23222), ('homebuilder', 23223), ('mcstain', 23224), ('louisvile', 23225), ('flue', 23226), ('dreamy', 23227), ('harymcflytosing', 23228), ('inorite', 23229), ('redirect', 23230), ('hiking', 23231), ('utorent', 23232), (\"mikey's\", 23233), ('skrg', 23234), ('sempit', 23235), ('coldflu', 23236), ('transaction', 23237), ('365', 23238), ('prefinal', 23239), ('kbangun', 23240), ('gara', 23241), ('mimpi', 23242), (\"mcd's\", 23243), ('benji', 23244), ('gyah', 23245), ('babyclient', 23246), ('hurtle', 23247), ('headlong', 23248), ('fres', 23249), ('yeaterday', 23250), ('itleson', 23251), ('exhausting', 23252), ('peruvian', 23253), ('init', 23254), ('hugers', 23255), ('forexforums', 23256), ('partnership', 23257), ('lsats', 23258), ('quotsomebody', 23259), ('kaleidoscope', 23260), ('knowing', 23261), ('alegre', 23262), ('rey', 23263), ('mysterio', 23264), ('pleaser', 23265), ('gente', 23266), ('trivun', 23267), ('drems', 23268), ('lokse', 23269), ('wearther', 23270), ('normail', 23271), ('whisker', 23272), ('chuby', 23273), ('riah', 23274), ('aprendi', 23275), ('usar', 23276), ('acho', 23277), ('bjus', 23278), ('robikinesque', 23279), ('afence', 23280), ('nandito', 23281), ('playdoh', 23282), ('tastykake', 23283), ('gabie', 23284), ('dobro', 23285), ('81st', 23286), ('preshowquot', 23287), ('trois', 23288), ('saythink', 23289), ('quotracism', 23290), ('anymorequot', 23291), ('voe', 23292), ('brah', 23293), ('krautrock', 23294), ('berto', 23295), ('hue', 23296), ('boredtried', 23297), ('nub', 23298), ('mood', 23299), ('tixs', 23300), ('josey', 23301), ('gerard', 23302), ('pirouete', 23303), ('bruder', 23304), ('pwg', 23305), ('botch', 23306), ('hybrid', 23307), ('xl', 23308), ('reboted', 23309), ('sankq', 23310), ('rib', 23311), ('canae', 23312), ('livi', 23313), ('bender', 23314), ('boming', 23315), ('dubo', 23316), ('rsl', 23317), ('suporter', 23318), ('arou', 23319), ('m0ther', 23320), ('rhix', 23321), ('vend', 23322), ('maching', 23323), ('barels', 23324), ('barel', 23325), ('digestion', 23326), ('giveitonuptojustinvile', 23327), ('heler', 23328), ('tricina', 23329), ('bombed', 23330), ('trackflashback', 23331), ('inconvenient', 23332), ('iloked', 23333), ('titi', 23334), ('sankar', 23335), ('biker', 23336), ('mob', 23337), ('showstoping', 23338), ('dodie', 23339), ('sylvester', 23340), ('requester', 23341), ('nagios', 23342), ('configuration', 23343), ('tongits', 23344), ('competetion', 23345), ('iemoticons', 23346), ('0,79', 23347), ('nup', 23348), ('twoloers', 23349), ('candlelight', 23350), ('peaceout', 23351), ('greycold', 23352), ('ofc', 23353), ('aficionado', 23354), ('macvim', 23355), ('babysiterdirectory', 23356), ('reveal', 23357), ('bandung', 23358), ('baltimoredc', 23359), ('suburbs', 23360), ('greta', 23361), (\"jehovah's\", 23362), ('aldi', 23363), ('fwd', 23364), ('rubys', 23365), ('alzheimer', 23366), ('pu', 23367), ('0n', 23368), ('m3', 23369), ('dgre', 23370), ('ensconce', 23371), ('juhs', 23372), ('kwl', 23373), ('hana', 23374), ('quotsmal', 23375), ('fefe', 23376), ('colister', 23377), ('sculpt', 23378), ('dongle', 23379), ('techy', 23380), (\"network's\", 23381), ('cockermouth', 23382), ('qik', 23383), ('newsrom', 23384), (\"bele's\", 23385), ('tanya', 23386), (\"mike's\", 23387), ('95sx', 23388), ('comipsohot', 23389), ('kthxbai', 23390), ('blackstone', 23391), ('sauted', 23392), ('cystic', 23393), ('fibrosis', 23394), ('twang', 23395), ('photopas', 23396), ('ppl', 23397), ('insulin', 23398), ('helpin', 23399), ('postin', 23400), ('wmiad', 23401), ('intention', 23402), ('fau', 23403), ('stet', 23404), ('slowmotion', 23405), ('ugo', 23406), ('quotinstal', 23407), ('windowsquot', 23408), ('theyu', 23409), ('motherfucking', 23410), ('technolust', 23411), ('tdl', 23412), ('spliting', 23413), ('kitkat', 23414), ('surpisingly', 23415), ('puledrot', 23416), ('wasam', 23417), ('twidget', 23418), ('suitable', 23419), ('continuo', 23420), ('tentando', 23421), ('trocar', 23422), ('zoita', 23423), ('holeintheheart', 23424), ('oprahs', 23425), ('unfried', 23426), ('pope', 23427), ('murdere', 23428), ('acidently', 23429), ('fuckn', 23430), ('painkilers', 23431), ('readysetgo', 23432), ('7827', 23433), ('clearwater', 23434), (\"twetie's\", 23435), ('calibre', 23436), ('phi', 23437), ('formal', 23438), ('springwatch', 23439), ('mended', 23440), ('discog', 23441), ('disbanding', 23442), ('quothelpquot', 23443), ('itz', 23444), ('typhon', 23445), ('okinawa', 23446), ('bawling', 23447), ('pearcy', 23448), ('dunde', 23449), ('refulx', 23450), ('upprobably', 23451), ('rebelion', 23452), ('gaeta', 23453), ('merm', 23454), ('hami', 23455), ('delayscancelations', 23456), ('scanton', 23457), ('cartilage', 23458), ('cracking', 23459), ('nightz', 23460), ('pns', 23461), ('quotpeter', 23462), ('breakfst', 23463), ('fjdskal', 23464), ('catvampes', 23465), ('pes', 23466), ('mandya', 23467), ('opengl', 23468), ('macro', 23469), (\"tila's\", 23470), ('vidoe', 23471), ('recieved', 23472), ('ens', 23473), ('rar', 23474), ('gelopen', 23475), ('horiterible', 23476), ('thatv', 23477), ('mealtime', 23478), ('sheba', 23479), ('friench', 23480), ('mqm', 23481), ('altaf', 23482), ('unveil', 23483), ('karachi', 23484), ('facebokov', 23485), ('aplikace', 23486), ('hovno', 23487), ('overloked', 23488), ('loldog', 23489), ('germane', 23490), ('unsalted', 23491), ('spaceship', 23492), ('peirced', 23493), ('peircing', 23494), ('hej', 23495), ('malena', 23496), ('lycka', 23497), ('petite', 23498), ('puce', 23499), ('adica', 23500), ('puricel', 23501), ('franceza', 23502), ('maitu', 23503), ('sabido', 23504), ('i95', 23505), ('sr', 23506), ('234', 23507), ('abiding', 23508), ('asisting', 23509), ('figuratively', 23510), ('rhianon', 23511), ('myspacing', 23512), ('bulshiting', 23513), ('rah', 23514), ('skyscraper', 23515), ('rehealy', 23516), ('shorter', 23517), ('buckonelen', 23518), ('textile', 23519), ('epoxy', 23520), ('donathan', 23521), ('danathan', 23522), ('carwarmed', 23523), ('spaceports', 23524), ('taby', 23525), ('diabetes', 23526), ('upland', 23527), ('thorny', 23528), ('dur', 23529), ('prends', 23530), ('cokeu', 23531), ('ridance', 23532), ('quotthanks', 23533), ('emailquot', 23534), ('7pmalmost', 23535), ('delted', 23536), ('atach', 23537), ('mamary', 23538), ('nirvana', 23539), ('munderday', 23540), ('lan', 23541), ('raha', 23542), ('abhi', 23543), ('unfuzy', 23544), ('fuzy', 23545), ('tv21', 23546), ('beroca', 23547), ('nonmomies', 23548), ('juneoct', 23549), ('halve', 23550), ('peaky', 23551), ('grip', 23552), ('quotshowstopersquot', 23553), ('sash', 23554), (\"theory's\", 23555), ('brokey', 23556), ('stastics', 23557), ('padestrian', 23558), ('skanking', 23559), ('sharkez', 23560), ('wachting', 23561), ('aerolas', 23562), ('tryst', 23563), ('beatrice', 23564), (\"nom's\", 23565), ('altanta', 23566), ('geta', 23567), ('nosebled', 23568), ('lyn', 23569), ('viehl', 23570), ('tripoly', 23571), ('shoescirca', 23572), ('20min', 23573), ('eleminis', 23574), ('forreal', 23575), ('hugsbut', 23576), ('hawain', 23577), ('unix', 23578), (\"dev's\", 23579), ('spamspamspam', 23580), ('keiths', 23581), ('chrystina', 23582), ('wr0te', 23583), ('njoying', 23584), ('palmade', 23585), (\"adit'l\", 23586), ('2x', 23587), ('lester', 23588), ('outs', 23589), ('godwil', 23590), ('sisa', 23591), ('waitn', 23592), ('giv', 23593), ('rapn', 23594), ('wokie', 23595), ('household', 23596), ('nemesis', 23597), ('dusk', 23598), ('iono', 23599), ('l8r', 23600), ('packaging', 23601), ('sushine', 23602), ('cask', 23603), ('thanxs', 23604), ('stereos', 23605), ('bestfriends', 23606), ('mitchels', 23607), ('platium', 23608), ('religion', 23609), ('peoplewithgodtasteinmusic', 23610), ('slepfail', 23611), ('78', 23612), ('dampdfail', 23613), ('gourmet', 23614), ('barbacoa', 23615), ('torch', 23616), ('myth', 23617), ('mspacers', 23618), ('236am', 23619), ('decor', 23620), ('mandarinmonday', 23621), ('rmbr', 23622), ('torned', 23623), ('sentosa', 23624), ('factsquot', 23625), ('rapidshare', 23626), ('10gb', 23627), ('quotturning', 23628), ('albuquerquequot', 23629), ('hilcats', 23630), ('detector', 23631), ('brickmans', 23632), ('icing', 23633), ('bandage', 23634), ('cotys', 23635), ('cici', 23636), ('iphonedev', 23637), ('halp', 23638), ('inconsiderate', 23639), ('macdonalds', 23640), ('downhil', 23641), ('mildura', 23642), ('quotwrongquot', 23643), ('blahing', 23644), ('alexia', 23645), ('miri', 23646), ('porno', 23647), ('jitsu', 23648), ('brokenquot', 23649), ('persian', 23650), ('fenway', 23651), ('gitwar', 23652), ('fritz', 23653), ('roderick', 23654), ('von', 23655), ('intersting', 23656), ('dx', 23657), ('quotstoping', 23658), ('luved', 23659), ('leaked', 23660), ('housesound', 23661), (\"ralphie's\", 23662), ('kiskis', 23663), ('moching', 23664), ('endodontist', 23665), ('ceramic', 23666), ('shater', 23667), ('fixquot', 23668), ('lisete', 23669), ('dvdr', 23670), ('iso', 23671), ('lightscribe', 23672), ('dicsc', 23673), (\"alix's\", 23674), ('dug', 23675), ('scamer', 23676), ('cosmo', 23677), ('kamikaze', 23678), (\"vivian's\", 23679), ('robertson', 23680), (\"mercedez's\", 23681), (\"zul'jin\", 23682), ('guadeloupe', 23683), ('lionel', 23684), ('ul', 23685), ('taekwando', 23686), ('staring', 23687), ('neika', 23688), ('laceykevin', 23689), ('devinegrace', 23690), ('omds', 23691), ('025manualblink182', 23692), ('quotbeautifulquot', 23693), ('harasment', 23694), ('vidphoto', 23695), ('tryouts', 23696), ('coworkerfriend', 23697), ('jimay', 23698), ('trib', 23699), ('portia', 23700), ('germaphobenes', 23701), ('significantly', 23702), ('mhs', 23703), ('nesquick', 23704), ('irate', 23705), ('calers', 23706), ('mifed', 23707), (\"soul's\", 23708), ('quotstakes', 23709), ('highquot', 23710), ('itunesamazon', 23711), ('concerned', 23712), (\"obama's\", 23713), ('norra', 23714), ('soichi', 23715), (\"negishi's\", 23716), ('amai', 23717), ('koibito', 23718), (\"ladie's\", 23719), ('starsailor', 23720), ('buch', 23721), ('workdetails', 23722), (\"demi's\", 23723), ('mcdo', 23724), ('bue', 23725), ('againlt', 23726), ('brumie', 23727), ('maths', 23728), ('tampc', 23729), ('tahong', 23730), ('listenersltlt', 23731), ('glacier', 23732), ('undervote', 23733), ('overaled', 23734), ('227', 23735), ('metin', 23736), ('twishers', 23737), ('namerebeca', 23738), ('vincent', 23739), ('enfest', 23740), ('sph', 23741), ('1k', 23742), ('gastos', 23743), ('namen', 23744), ('eweryone', 23745), ('podcasting', 23746), ('bittech', 23747), ('jonathon', 23748), ('alyn', 23749), ('deplyod', 23750), ('falougairaq', 23751), ('nwek', 23752), ('remark', 23753), ('nzquot', 23754), ('ovber', 23755), (\"hungoverdon't\", 23756), ('dontlike', 23757), ('scholday', 23758), ('tuition', 23759), ('newsreader', 23760), (\"pm'ing\", 23761), ('p2', 23762), ('p3', 23763), ('exile', 23764), ('alttabing', 23765), ('clamp', 23766), ('keiron', 23767), ('techmeme', 23768), ('erbody', 23769), ('batled', 23770), ('cs3', 23771), ('nambu', 23772), ('unintuitive', 23773), ('xhausted', 23774), ('dinwhata', 23775), ('finden', 23776), ('hea', 23777), ('vom', 23778), ('tailquot', 23779), ('helish', 23780), ('raven', 23781), ('rioamp', 23782), ('thor', 23783), ('wonderfur', 23784), ('kitykises', 23785), ('2w2v', 23786), ('adidas', 23787), ('denyer', 23788), ('xoxoxoxoxoxo', 23789), ('acelerated', 23790), ('atom', 23791), ('fulscren', 23792), ('plex', 23793), ('sapin', 23794), ('sentry', 23795), (\"selena's\", 23796), ('ideapad', 23797), ('s12', 23798), ('fn', 23799), ('nonstarter', 23800), ('westcot', 23801), ('apolo', 23802), ('unseded', 23803), ('qualifier', 23804), ('revlon', 23805), ('lond', 23806), (\"fhnixon's\", 23807), ('versioning', 23808), ('railsgit', 23809), ('guniea', 23810), ('jeuno', 23811), ('himalayan', 23812), ('introductory', 23813), ('9p', 23814), ('quotbrides', 23815), ('modequot', 23816), ('peopleagencies', 23817), ('maternalhealth', 23818), ('1424', 23819), ('7020', 23820), ('20f2', 23821), ('5085', 23822), ('tweding', 23823), ('underthesink', 23824), ('monetize', 23825), ('diferentiated', 23826), ('paynopay', 23827), ('robina', 23828), ('armyprovided', 23829), ('paloma', 23830), ('blanca', 23831), ('shina', 23832), ('gigi', 23833), ('moviez', 23834), ('sais', 23835), ('excist', 23836), ('sadens', 23837), (\"k's\", 23838), ('aptism', 23839), ('holydays', 23840), ('asembling', 23841), ('unsociable', 23842), ('distort', 23843), ('bagy', 23844), ('wedgie', 23845), ('siargao', 23846), ('nlng', 23847), ('pla', 23848), ('webdesign', 23849), ('yasemin', 23850), ('sehr', 23851), ('kapowski', 23852), ('caveat', 23853), ('diferences', 23854), ('b3', 23855), ('718', 23856), ('4879', 23857), ('eurjpy', 23858), ('execute', 23859), (\"kg's\", 23860), ('pung', 23861), ('rafles', 23862), ('dulce', 23863), ('pocketsquare', 23864), ('malorca', 23865), ('kairos', 23866), ('vegi', 23867), (\"hut's\", 23868), ('crunchy', 23869), ('206amp207', 23870), ('2stop', 23871), ('headles', 23872), ('2field', 23873), ('simcity', 23874), (\"hawk's\", 23875), ('colage', 23876), ('feminism', 23877), ('hardknock', 23878), ('shotout', 23879), ('weken', 23880), ('aki', 23881), ('webmail', 23882), ('otrip', 23883), ('timezone', 23884), ('thereby', 23885), ('sunthings', 23886), ('sicktomystomach', 23887), ('regretin', 23888), ('grayish', 23889), ('sistas', 23890), ('khaki', 23891), ('tedious', 23892), ('hedro', 23893), ('gimi', 23894), ('wehey', 23895), ('midi', 23896), ('recyle', 23897), ('baju', 23898), ('sklh', 23899), ('thn', 23900), ('schl', 23901), ('amusing', 23902), ('tension', 23903), ('groundbreaking', 23904), ('uft', 23905), ('eighth', 23906), ('overrate', 23907), ('fcs', 23908), ('skyguard', 23909), ('tabard', 23910), ('sist', 23911), ('webshots', 23912), ('mannes', 23913), ('weho', 23914), ('2020', 23915), ('hiting', 23916), ('pilage', 23917), ('lifecam', 23918), ('vx30', 23919), ('imovies', 23920), ('dvds', 23921), ('deana', 23922), ('emailing', 23923), ('delcia', 23924), ('ju', 23925), ('harmles', 23926), ('celo', 23927), ('yl', 23928), ('stocking', 23929), ('bankholiday', 23930), ('cracked', 23931), ('mushies', 23932), ('dinero', 23933), ('stef', 23934), ('mazembe', 23935), ('relaxer', 23936), ('60mins', 23937), ('nobigdeal', 23938), ('280lbs', 23939), ('newo', 23940), ('workouts', 23941), ('yog', 23942), ('inflamed', 23943), ('thanksstil', 23944), ('rolups', 23945), ('4yearold', 23946), ('hahahahahahah', 23947), ('efective', 23948), ('hb', 23949), ('snsd', 23950), ('cornynes', 23951), ('madeleines', 23952), ('quotviewers', 23953), ('profiel', 23954), ('jole', 23955), ('erwin', 23956), ('itching', 23957), ('exhibit', 23958), ('grueling', 23959), (\"gordo's\", 23960), ('comunicating', 23961), ('bif', 23962), ('buliding', 23963), ('lh', 23964), ('fop', 23965), ('wbae', 23966), ('myka', 23967), ('stepbystep', 23968), ('depechemode', 23969), ('gahan', 23970), ('afect', 23971), ('bario', 23972), ('cmyk', 23973), ('abreviation', 23974), ('wacko', 23975), ('cdn', 23976), ('geoip', 23977), ('medle', 23978), ('fulon', 23979), ('cankle', 23980), ('lilash', 23981), ('dealz', 23982), ('malfunction', 23983), ('breky', 23984), ('shepard', 23985), ('quotpaintingquot', 23986), (\"evan's\", 23987), ('tosing', 23988), (\"eye's\", 23989), ('harajuku', 23990), ('delonge', 23991), ('atlanits', 23992), ('wnat', 23993), ('2026', 23994), ('2164', 23995), ('6790', 23996), ('9128', 23997), ('persuade', 23998), ('dwts', 23999), ('whre', 24000), ('tipers', 24001), ('mule', 24002), ('holmbury', 24003), ('warmer', 24004), ('chilines', 24005), ('vu', 24006), ('analogy', 24007), ('creche', 24008), ('nikie', 24009), ('payne', 24010), ('tens', 24011), ('finishin', 24012), ('recuperate', 24013), ('grats', 24014), ('trashy', 24015), ('sensationalist', 24016), ('toter', 24017), ('tlet', 24018), ('neighting', 24019), ('backround', 24020), ('whuahahaha', 24021), ('bram', 24022), ('ladagesaplejackspancakes', 24023), ('jacuzi', 24024), ('cpk', 24025), ('honeycomb', 24026), ('knockof', 24027), ('128', 24028), ('jalapeno', 24029), ('chaparos', 24030), ('umped', 24031), (\"club's\", 24032), ('owm', 24033), ('tryinh', 24034), ('siew', 24035), ('nonexistent', 24036), ('sosososo', 24037), ('eastbay', 24038), ('quible', 24039), ('stoped', 24040), ('briane', 24041), ('hurtful', 24042), ('cherio', 24043), ('drasda', 24044), ('bordom', 24045), ('desperation', 24046), ('kristi', 24047), ('stabilo', 24048), ('remould', 24049), ('instals', 24050), ('gc', 24051), ('screaming', 24052), ('quotwho', 24053), ('infomercial', 24054), ('kenduri', 24055), ('twitpeps', 24056), (\"gaga's\", 24057), ('quotpaparaziquot', 24058), ('whatshapening', 24059), ('murderin', 24060), ('ntah', 24061), ('strugled', 24062), (\"krypton's\", 24063), ('chalk', 24064), ('dokay', 24065), ('superstition', 24066), ('servicesquot', 24067), ('nerdfriends', 24068), ('calpol', 24069), ('oaf', 24070), ('sctrahc', 24071), ('4hour', 24072), ('thinkhope', 24073), ('lovebug', 24074), ('biding', 24075), ('nicklaus', 24076), ('discret', 24077), ('castro', 24078), ('unatractive', 24079), ('cabana', 24080), ('rele', 24081), ('lfpa', 24082), ('uninhabital', 24083), ('swept', 24084), ('128,60', 24085), ('toples', 24086), ('charice', 24087), ('forbid', 24088), ('blogspot', 24089), ('geocaching', 24090), ('harmon', 24091), ('ucky', 24092), ('defense', 24093), ('cohen', 24094), ('xfactor', 24095), ('keswick', 24096), ('myonlysanction', 24097), ('197', 24098), ('3,50', 24099), ('jba', 24100), ('sequence', 24101), ('outgo', 24102), ('adsl', 24103), ('yit', 24104), ('angsty', 24105), ('pegel', 24106), ('keliling', 24107), ('kuil', 24108), ('neighboures', 24109), ('bureaucracy', 24110), ('ahwel', 24111), ('sels', 24112), ('usher', 24113), ('khy', 24114), ('yearling', 24115), ('hypertrophy', 24116), ('vineri', 24117), ('nimic', 24118), ('probabil', 24119), ('pierdut', 24120), ('carbonara', 24121), ('2923848932', 24122), ('paramorequot', 24123), ('wickedquot', 24124), ('flyleaf', 24125), ('recorded', 24126), ('dofus', 24127), ('fack', 24128), ('seriouse', 24129), ('opendns', 24130), (\"comcast's\", 24131), ('12k', 24132), ('pyr', 24133), ('dorknobs', 24134), ('slamer', 24135), ('badas', 24136), (\"mil's\", 24137), ('voracious', 24138), ('stuble', 24139), ('quotcasualquot', 24140), ('reckoner', 24141), ('rumored', 24142), ('hydra', 24143), ('inertial', 24144), ('inocently', 24145), ('deleted', 24146), ('tariq', 24147), ('relevent', 24148), ('preocupied', 24149), ('batcave', 24150), (\"pearlyn's\", 24151), (\"gran's\", 24152), ('svc', 24153), ('loch', 24154), ('lomond', 24155), ('readmit', 24156), ('threnight', 24157), ('forsake', 24158), ('uzbekistan', 24159), ('underated', 24160), ('glopy', 24161), ('omgnes', 24162), ('118', 24163), ('beup', 24164), ('hindustan', 24165), ('dunia', 24166), ('asay', 24167), ('nehi', 24168), ('milegi', 24169), ('disturbance', 24170), ('grener', 24171), ('sidequot', 24172), ('alongside', 24173), ('overconfident', 24174), ('catholic', 24175), ('quotsame', 24176), ('herequot', 24177), ('ambiguous', 24178), ('tgc', 24179), ('quotmystery', 24180), ('30quot', 24181), ('confit', 24182), ('laryonation', 24183), ('memo', 24184), ('quotfightstar', 24185), ('sumerquot', 24186), ('fremusic', 24187), ('wrestle', 24188), ('lieu', 24189), ('lockbox', 24190), ('snowbear', 24191), ('che', 24192), ('easports', 24193), ('morimoto', 24194), ('optician', 24195), ('jagex', 24196), ('amarula', 24197), ('ahugs', 24198), ('neti', 24199), ('skid', 24200), ('mixer', 24201), ('glasez', 24202), ('pokemons', 24203), ('rorschach', 24204), ('agoraphobics', 24205), ('asesment', 24206), ('mostley', 24207), ('tance', 24208), (\"vapid's\", 24209), ('releasd', 24210), ('244', 24211), ('prbly', 24212), ('pickin', 24213), ('cranberies', 24214), ('itexa', 24215), ('escapism', 24216), ('nonfiction', 24217), ('tesy', 24218), ('chocolateflavoured', 24219), ('aplicator', 24220), ('tps', 24221), ('quotboyquot', 24222), ('dragonbal', 24223), ('tty', 24224), ('3mb', 24225), ('quothabitquot', 24226), ('cz', 24227), ('repops', 24228), ('skeleton', 24229), ('ike', 24230), ('outy', 24231), ('rescuer', 24232), ('dru', 24233), (\"d's\", 24234), ('lunchtime', 24235), ('adled', 24236), ('western', 24237), ('1tb', 24238), ('sata', 24239), ('ncq', 24240), ('32mb', 24241), (\"up's\", 24242), ('canondale', 24243), ('specialize', 24244), ('cervelo', 24245), ('jaged', 24246), ('andi', 24247), ('yh', 24248), (\"know'haha'x\", 24249), ('unshaven', 24250), (\"richard's\", 24251), ('youwe', 24252), ('exploit', 24253), ('ickle', 24254), ('validation', 24255), ('acountant', 24256), ('midleschol', 24257), ('25kyr', 24258), ('amateur', 24259), ('ark', 24260), ('builder', 24261), ('afiliation', 24262), (\"it'sm\", 24263), ('keiligirl', 24264), ('254', 24265), ('sunrash', 24266), ('geje', 24267), ('ie8', 24268), ('amazes', 24269), ('xmenwolverine', 24270), ('4ish', 24271), ('cruches', 24272), (\"casey's\", 24273), ('pidled', 24274), ('parsley', 24275), ('nutmeg', 24276), ('kickit', 24277), ('wrng', 24278), ('ocla', 24279), ('yogawork', 24280), ('7bels', 24281), ('eoi', 24282), ('twiterparty', 24283), ('stephanie', 24284), ('montmel', 24285), ('iloveyoutwo', 24286), ('admiting', 24287), (\"dog's\", 24288), ('lonie', 24289), ('jglam', 24290), ('afterjune', 24291), ('arghguish', 24292), ('asignement', 24293), ('burma', 24294), ('frapachinos', 24295), ('pcvs', 24296), (\"vado's\", 24297), ('hilson', 24298), ('droper', 24299), ('mcfox', 24300), ('rolin', 24301), ('fume', 24302), ('x10', 24303), ('afraidiowe', 24304), ('nesie', 24305), (\"heder's\", 24306), ('flasher', 24307), ('gazilion', 24308), ('cyber', 24309), ('funest', 24310), ('righ', 24311), ('moab', 24312), ('cokers', 24313), ('streams', 24314), ('vita', 24315), ('coaster', 24316), ('1975', 24317), ('14,950', 24318), ('evrytime', 24319), ('mojojojo', 24320), (\"dexter's\", 24321), ('inc', 24322), ('skomer', 24323), (\"fuckin'm\", 24324), ('transtelecom', 24325), ('shah', 24326), ('rukh', 24327), ('khan', 24328), ('imposter', 24329), ('lilime', 24330), ('finsh', 24331), ('alowd', 24332), ('computerguest', 24333), (\"rom's\", 24334), ('iusedtobescaredof', 24335), ('ger', 24336), ('shindig', 24337), ('twiterloves', 24338), (\"lover's\", 24339), ('toke', 24340), ('kinf', 24341), ('wayit', 24342), ('laydown', 24343), ('hep', 24344), ('stirfry', 24345), ('aiah', 24346), ('princecharming', 24347), ('musichabits', 24348), ('repect', 24349), ('wampg', 24350), ('linky', 24351), ('destres', 24352), ('avian', 24353), ('sorbet', 24354), ('trapeze', 24355), ('2orw', 24356), ('dc101', 24357), ('individualy', 24358), ('loafing', 24359), ('dentention', 24360), ('jude', 24361), ('jer', 24362), ('strudel', 24363), ('runt', 24364), ('doby', 24365), ('jukebox', 24366), ('concretize', 24367), ('tropers', 24368), ('ststas', 24369), ('recieving', 24370), ('17709', 24371), ('questionsamprevision', 24372), ('litlest', 24373), ('tsutsu', 24374), ('pancras', 24375), ('panicky', 24376), ('jeopardy', 24377), ('lama', 24378), ('chidlom', 24379), ('siam', 24380), ('rene', 24381), ('psycho', 24382), ('2nte', 24383), ('quothairsprayquot', 24384), ('tecas', 24385), ('hoter', 24386), ('scarededededed', 24387), ('recoverable', 24388), ('roidwek', 24389), ('mandingo', 24390), ('backorder', 24391), ('priecing', 24392), ('roflmfao', 24393), (\"swimer's\", 24394), ('upwads', 24395), (\"mariquen's\", 24396), (\"bob's\", 24397), ('jain', 24398), ('symbolism', 24399), ('jumprightintothe', 24400), ('pigtail', 24401), ('vibes', 24402), ('undeniable', 24403), ('srtarting', 24404), ('adiel', 24405), ('saby', 24406), ('firth', 24407), ('quotwholey', 24408), ('evolutionquot', 24409), ('quotwholely', 24410), ('materquot', 24411), ('wendyhouse', 24412), ('mascara', 24413), ('xuxu', 24414), ('anurag', 24415), ('somerset', 24416), ('kimba', 24417), ('diaries', 24418), ('sars', 24419), ('jarita', 24420), ('noo', 24421), ('wary', 24422), ('marshmalows', 24423), ('sumbody', 24424), ('grama', 24425), ('junky', 24426), ('whcd', 24427), ('yogsaron', 24428), ('bensons', 24429), (\"death's\", 24430), ('croquetes', 24431), ('haciendo', 24432), ('primer', 24433), ('safesex', 24434), ('aargh', 24435), ('gauze', 24436), ('cheaptwet', 24437), ('aserej', 24438), ('deje', 24439), ('dejebe', 24440), ('tudejebe', 24441), ('sebiunouva', 24442), ('majabi', 24443), ('bugui', 24444), ('buididip', 24445), ('comedown', 24446), ('spasy', 24447), ('lovage', 24448), ('wilshire', 24449), ('leavn', 24450), ('uniten', 24451), ('aeropuerto', 24452), ('diva', 24453), ('lightsabers', 24454), ('byron', 24455), ('aeroplane', 24456), ('wkp', 24457), ('togethers', 24458), ('converter', 24459), ('wintour', 24460), ('raning', 24461), ('terminate', 24462), ('hayesharlington', 24463), ('lamentablemente', 24464), ('jrztwiterlunch', 24465), ('ejaming', 24466), ('fmla', 24467), ('tbal', 24468), ('handheld', 24469), ('bwahahahaha', 24470), (\"noone's\", 24471), ('obly', 24472), ('aumf', 24473), ('datin', 24474), ('blinkwezer', 24475), ('carls', 24476), ('iloveyouto', 24477), ('silynes', 24478), ('hotdoging', 24479), ('waterguns', 24480), ('recolecting', 24481), ('unkown', 24482), ('bbal', 24483), ('shoter', 24484), ('existes', 24485), ('blanco', 24486), ('rican', 24487), ('ferber', 24488), ('rohan', 24489), ('godbad', 24490), ('loungey', 24491), ('braunig', 24492), ('cleanout', 24493), ('bokshelf', 24494), ('tetotal', 24495), ('4n', 24496), ('rog', 24497), ('esti', 24498), ('acum', 24499), ('mimiz', 24500), ('ferns', 24501), ('petal', 24502), ('fnp', 24503), ('dcd', 24504), ('belief', 24505), ('sederhana', 24506), ('oat', 24507), ('grigio', 24508), (\"austen's\", 24509), ('northanger', 24510), ('angeles', 24511), ('rafi', 24512), ('shami', 24513), ('kapor', 24514), ('jerm', 24515), ('psyilium', 24516), ('husk', 24517), ('gogow', 24518), ('mozconcept', 24519), ('stalin', 24520), ('plagiarism', 24521), ('thegtgt', 24522), ('momasltlt', 24523), ('unzela', 24524), ('hashim', 24525), ('dosnt', 24526), ('citebusines', 24527), ('defited', 24528), ('cornwal', 24529), (\"auntie's\", 24530), ('jb3d', 24531), ('jleno', 24532), ('res', 24533), ('screamo', 24534), (\"kids'l\", 24535), ('edged', 24536), (\"audun's\", 24537), ('twiterize', 24538), ('rim', 24539), ('mkt', 24540), ('teshirt', 24541), ('leacing', 24542), ('decompresion', 24543), ('rigid', 24544), (\"muthath's\", 24545), ('gento', 24546), ('reinstalation', 24547), ('keycard', 24548), ('takeout', 24549), ('dah', 24550), ('potluck', 24551), ('sountrack', 24552), ('juno', 24553), ('deixa', 24554), ('selfvalidation', 24555), ('theological', 24556), ('psychological', 24557), ('sociological', 24558), ('lpi', 24559), ('hahahahahahahahahahahaha', 24560), ('heyheyhey', 24561), ('watcha', 24562), ('gery', 24563), ('contails', 24564), ('mack', 24565), ('visteon', 24566), ('synthetic', 24567), ('sustitute', 24568), ('penguins', 24569), ('dil', 24570), ('lt3linman', 24571), (\"walkeron'er\", 24572), ('sixflags', 24573), ('autoresolve', 24574), ('gektech', 24575), ('realign', 24576), ('sensitivity', 24577), ('cors', 24578), ('easier', 24579), ('didy', 24580), ('wiflebal', 24581), ('16hour', 24582), ('reboks', 24583), ('parenthod', 24584), ('bubletwet', 24585), ('pretending', 24586), ('evr', 24587), ('brngs', 24588), ('starbux', 24589), ('corieography', 24590), ('limbo', 24591), ('upssucks', 24592), ('quottwilightquot', 24593), ('modcloth', 24594), ('betch', 24595), ('alyso', 24596), ('stoner', 24597), ('benton', 24598), ('mesae', 24599), ('dba', 24600), ('nag', 24601), ('1824', 24602), ('musicboat', 24603), ('residential', 24604), ('comitment', 24605), ('meka', 24606), ('quotdude', 24607), ('pq', 24608), ('vc', 24609), ('pediu', 24610), ('6hrs', 24611), ('strung', 24612), ('15gb', 24613), ('avaialble', 24614), ('gory', 24615), ('ahw', 24616), ('quoturgentquot', 24617), (\"im's\", 24618), ('heartedly', 24619), ('departure', 24620), ('pretender', 24621), ('smarter', 24622), ('clasier', 24623), ('sthlm', 24624), ('oks', 24625), ('n0b', 24626), ('garde', 24627), ('vimto', 24628), ('droplet', 24629), ('gilian', 24630), ('sc2', 24631), ('d3', 24632), ('dhq', 24633), ('jobe', 24634), ('switchfot', 24635), ('hsg', 24636), ('flapataco', 24637), ('dueter', 24638), ('ahahahahahahahahah', 24639), (\"b'ham\", 24640), ('warmly', 24641), ('fij', 24642), ('aobut', 24643), ('firstquot', 24644), ('conoly', 24645), ('kari', 24646), ('cayman', 24647), ('iloveyoult', 24648), ('dodles', 24649), ('scholquot', 24650), ('quotupdating', 24651), ('dependenciesquot', 24652), ('quotlegalyquot', 24653), ('litelist', 24654), ('depart', 24655), ('altos', 24656), ('masculine', 24657), ('snowdon', 24658), ('rstats', 24659), ('thematic', 24660), ('enthusiam', 24661), (\"stephani's\", 24662), ('vacavile', 24663), ('yaris', 24664), ('70mpg', 24665), (\"macri's\", 24666), ('vahedh', 24667), ('iloveyopu', 24668), ('lymz', 24669), ('tablespoting', 24670), ('gryfindor', 24671), (\"ryan's\", 24672), ('prek', 24673), ('sahm', 24674), ('ic', 24675), ('hup', 24676), ('dragonforce', 24677), ('fulfiling', 24678), ('cordial', 24679), ('apetizers', 24680), ('vivocity', 24681), ('yupz', 24682), ('airconditioned', 24683), ('blazin', 24684), ('revival', 24685), ('epitomise', 24686), ('keks', 24687), ('151', 24688), ('optimized', 24689), ('jscs', 24690), ('elena', 24691), ('eeyeatho', 24692), ('enrolment', 24693), ('sasabihin', 24694), ('siguro', 24695), ('sayo', 24696), ('andun', 24697), ('64,371', 24698), ('networkingquot', 24699), ('headeache', 24700), ('songoeswrongs', 24701), ('purdy', 24702), ('trauma', 24703), ('kya', 24704), ('goshy', 24705), ('nkairplay', 24706), ('nku', 24707), ('breakthrough', 24708), ('stuvk', 24709), ('stpid', 24710), ('cherylolita', 24711), ('stuart', 24712), ('tonorow', 24713), ('mycs', 24714), ('hacienda', 24715), ('l8a', 24716), ('arlando', 24717), (\"havn'e\", 24718), ('diver', 24719), ('3550', 24720), ('deucie', 24721), ('aasman', 24722), ('shayad', 24723), ('twete', 24724), ('kirsty', 24725), ('libray', 24726), ('existance', 24727), ('renegade', 24728), ('grenock', 24729), ('kilmacolm', 24730), ('irwin', 24731), ('slapton', 24732), ('chf', 24733), ('670', 24734), ('colombia', 24735), ('discing', 24736), ('kozie', 24737), ('conspiracy', 24738), ('ugbots', 24739), ('borgata', 24740), ('strugles', 24741), ('setles', 24742), ('quotlostquot', 24743), ('pedling', 24744), ('dunker', 24745), ('longshot', 24746), ('39th', 24747), ('pate', 24748), (\"yesterday's\", 24749), ('legarmfot', 24750), ('swist', 24751), ('suspicion', 24752), ('hackney', 24753), ('anoyin', 24754), ('dangle', 24755), ('midyr', 24756), ('dubiln', 24757), ('selfportrait', 24758), ('bumper', 24759), ('trops', 24760), ('themquot', 24761), ('wityrude', 24762), ('hrlike', 24763), ('saying', 24764), ('slepytown', 24765), ('nanosecond', 24766), ('quotpopingquot', 24767), ('pedometer', 24768), ('campjiterbug', 24769), ('shem', 24770), (\"abie's\", 24771), ('peple', 24772), ('steadily', 24773), ('biglitle', 24774), ('gonequot', 24775), ('bfgurelgbsr', 24776), ('newsz', 24777), ('editeditedit', 24778), ('trimet', 24779), ('630645ish', 24780), ('homey', 24781), ('3days', 24782), ('placesquot', 24783), ('stance', 24784), ('meltingaway', 24785), ('jobfield', 24786), ('bampa', 24787), ('disdrict', 24788), ('beping', 24789), ('spen', 24790), ('funchal', 24791), ('kayle', 24792), ('alenka', 24793), ('chicky', 24794), ('itsurely', 24795), ('felton', 24796), ('gilbert', 24797), ('louie', 24798), ('purate', 24799), ('flufodile', 24800), ('teg', 24801), ('frey', 24802), ('gender', 24803), ('bateries', 24804), ('shoutbox', 24805), ('quotshaking', 24806), ('headquot', 24807), ('homeworkquot', 24808), ('dictionary', 24809), ('quotimput', 24810), ('imput', 24811), ('sooo', 24812), ('dlc', 24813), ('maiden', 24814), ('spok', 24815), ('hamletgasm', 24816), ('sisterhod', 24817), ('thatmakes', 24818), ('trudge', 24819), ('anathem', 24820), ('pg340', 24821), ('mady', 24822), ('250g', 24823), ('rotin', 24824), ('castlttgt', 24825), ('symbol', 24826), ('topshopalso', 24827), ('burial', 24828), ('shuters', 24829), ('pah', 24830), ('powerpoints', 24831), ('saget', 24832), ('surfer', 24833), ('evidently', 24834), ('wowowe', 24835), ('peruse', 24836), ('dilfs', 24837), ('thaied', 24838), ('hearsay', 24839), ('asugar', 24840), ('btaste', 24841), (\"boti'slive\", 24842), ('hairstype', 24843), ('mishu', 24844), ('hena', 24845), ('justcause', 24846), ('profy', 24847), ('quotmedia', 24848), ('deadquot', 24849), ('layen', 24850), ('dunt', 24851), ('cluedo', 24852), ('mozy', 24853), ('laughtner', 24854), ('edaust', 24855), ('12seconds', 24856), ('fshionwk', 24857), ('zimerman', 24858), ('ilionare', 24859), ('dhini', 24860), ('soronda', 24861), ('societyloved', 24862), ('ispired', 24863), ('wors', 24864), ('wekenda', 24865), ('artomatic', 24866), ('spidey', 24867), ('toncilitus', 24868), ('jealousmuch', 24869), ('xt', 24870), ('sadie', 24871), ('wyat', 24872), ('yiha', 24873), ('1830', 24874), ('webgraphic', 24875), ('ugs', 24876), ('lemongras', 24877), ('lysol', 24878), ('misfit', 24879), ('tylenol', 24880), ('wdw', 24881), ('tuprwre', 24882), ('lid', 24883), ('ensues', 24884), ('prays', 24885), ('conector', 24886), ('rating', 24887), ('horifying', 24888), ('beachwod', 24889), ('chato', 24890), ('vicia', 24891), ('certificate', 24892), ('rakem', 24893), ('outsiden', 24894), ('sounda', 24895), ('kmrn', 24896), ('bawa', 24897), ('kosong', 24898), ('celgroup', 24899), (\"leader's\", 24900), ('trilin', 24901), ('hobnob', 24902), ('nesbit', 24903), ('oist', 24904), ('sakit', 24905), ('goingquot', 24906), ('somethign', 24907), ('stomatch', 24908), ('mineapolisst', 24909), ('pathra', 24910), ('khandvi', 24911), ('kamane', 24912), ('wate', 24913), ('mrng', 24914), ('orchid', 24915), ('sharonp', 24916), ('quotjonas', 24917), ('brotherquot', 24918), ('lokalike', 24919), ('trenchcoat', 24920), ('mufasa', 24921), ('wariors', 24922), ('musicaly', 24923), ('ybc', 24924), ('presume', 24925), ('fryefect', 24926), ('lonesome', 24927), ('comando', 24928), ('inxs', 24929), ('nep', 24930), ('naptake', 24931), ('songwriter', 24932), ('realyrealy', 24933), ('alreadt', 24934), ('650', 24935), ('idc', 24936), ('imbored', 24937), ('fuckit', 24938), ('smudge', 24939), ('malicious', 24940), ('pulse', 24941), ('verey', 24942), ('madry', 24943), ('chasawy', 24944), ('9j', 24945), ('409', 24946), ('soln', 24947), ('165', 24948), ('demonic', 24949), ('nontwetingirlfriend', 24950), ('zotz', 24951), ('frecycle', 24952), ('refolow', 24953), ('tswift', 24954), ('snopy', 24955), ('cousinbf', 24956), ('rogrio', 24957), ('minotouro', 24958), ('abduzedo', 24959), ('preep', 24960), (\"luigi's\", 24961), ('performanceparty', 24962), ('wlcm', 24963), ('sae', 24964), ('mindset', 24965), ('maitreya', 24966), (\"boby's\", 24967), ('knockofs', 24968), ('cheapy', 24969), ('seperation', 24970), ('confsuing', 24971), ('nathanson', 24972), ('alret', 24973), ('quotsometime', 24974), ('midnightquot', 24975), ('airborne', 24976), ('toxic', 24977), ('bwah', 24978), ('2x2924', 24979), ('1x2610', 24980), ('3x250', 24981), ('1841', 24982), ('prisnor', 24983), ('310', 24984), ('neyo', 24985), ('melrose', 24986), ('registrar', 24987), ('unfun', 24988), ('iritating', 24989), ('sixtenth', 24990), ('aspitar', 24991), ('doha', 24992), ('bonzo', 24993), ('bazilions', 24994), ('sutzkever', 24995), ('hayward', 24996), ('nikeplus', 24997), ('quotcamera', 24998), ('misog', 24999), ('gravol', 25000), ('528', 25001), ('ltor', 25002), ('quottryquot', 25003), ('bublin', 25004), ('wilow', 25005), ('tonematrix', 25006), ('diana', 25007), ('spaniel', 25008), ('waler', 25009), ('walers', 25010), ('13,527', 25011), ('burguer', 25012), ('650km', 25013), ('fonz', 25014), ('clwn', 25015), ('pkuers', 25016), ('leukemia', 25017), ('bacn', 25018), ('shortener', 25019), ('refried', 25020), ('ipswitch', 25021), ('precofe', 25022), ('sleveles', 25023), ('bsame', 25024), ('lon', 25025), ('cleand', 25026), ('sambradley', 25027), ('buties', 25028), ('protein', 25029), ('beautey', 25030), ('bastardized', 25031), ('elise', 25032), ('barakiten', 25033), ('kunal', 25034), ('khemu', 25035), ('starer', 25036), ('probability', 25037), ('niche', 25038), ('zensify', 25039), ('twelo', 25040), ('fodie', 25041), ('tyranosaurus', 25042), ('displease', 25043), ('unproductive', 25044), ('daren', 25045), ('51009', 25046), (\"suhana's\", 25047), ('ocu', 25048), ('altnoy', 25049), ('headsup', 25050), ('5o', 25051), ('santino', 25052), ('thirten', 25053), ('technique', 25054), ('ketauan', 25055), ('cabut', 25056), ('sama', 25057), ('pamela', 25058), ('esque', 25059), ('amusingly', 25060), ('amisha', 25061), ('quotafterquot', 25062), ('lory', 25063), ('kosme', 25064), ('gpx', 25065), ('gmapspedometer', 25066), ('ie7', 25067), ('rica', 25068), ('ryt', 25069), ('rubiks', 25070), ('efteling', 25071), ('anwb', 25072), ('linz', 25073), ('1012', 25074), ('virginity', 25075), ('twity', 25076), ('bubletea', 25077), ('stealthy', 25078), ('retch', 25079), ('spurt', 25080), ('jfufnfwucnbqjic', 25081), ('chocies', 25082), (\"at'm\", 25083), ('rblpn', 25084), ('laughin', 25085), ('enlighten', 25086), ('bofy', 25087), ('plum', 25088), ('jaampg', 25089), ('toshers', 25090), ('wondering', 25091), ('quotfuelquot', 25092), ('ministrya', 25093), ('therm', 25094), ('pry', 25095), ('donovan', 25096), ('wolfenstein', 25097), ('stem', 25098), ('cels', 25099), ('evar', 25100), ('awnser', 25101), ('quotluv', 25102), ('yaquot', 25103), ('zuluxhosa', 25104), ('translated', 25105), ('edumedia', 25106), ('macaroni', 25107), ('shitier', 25108), ('boxy', 25109), ('quotpublic', 25110), ('menacequot', 25111), ('arnd', 25112), ('bwaha', 25113), ('oversized', 25114), ('someplease', 25115), ('warier', 25116), ('ausieland', 25117), ('bumf', 25118), ('hifi', 25119), ('cch', 25120), ('banh', 25121), ('vng', 25122), ('trong', 25123), ('3685868', 25124), ('becoz', 25125), ('nta', 25126), ('wrkouts', 25127), ('satrted', 25128), ('yardsale', 25129), ('1095', 25130), ('swensens', 25131), ('totoro', 25132), ('yaw', 25133), ('5296345', 25134), ('chandelier', 25135), ('untweps', 25136), ('ide', 25137), ('ngayun', 25138), ('flashing', 25139), ('disgusting', 25140), ('alaskaso', 25141), ('hoilday', 25142), ('selfimposed', 25143), ('hws', 25144), ('stripe', 25145), ('dindins', 25146), ('wingnuts', 25147), ('zapatos', 25148), ('trashcan', 25149), ('160th', 25150), ('640', 25151), ('yesty', 25152), ('tataindicom', 25153), ('tatasky', 25154), ('airtel', 25155), ('wefolow', 25156), ('maternity', 25157), ('ocasional', 25158), ('fotos', 25159), ('showr', 25160), ('hse', 25161), ('spsongs', 25162), ('curlupinabalandread', 25163), ('exbaristas', 25164), ('comonalities', 25165), ('naz', 25166), ('volvichalenge', 25167), ('selalu', 25168), ('ruang', 25169), ('sahabat', 25170), ('forebode', 25171), ('antiboyle', 25172), ('bitchface', 25173), ('pokes', 25174), ('homesan', 25175), ('halom', 25176), ('rationale', 25177), ('eyaser', 25178), ('inshalah', 25179), ('haih', 25180), ('tam', 25181), ('bo0o0o0o0oring', 25182), ('thristy', 25183), ('shreding', 25184), ('mozert', 25185), ('mononoke', 25186), ('fubumvc', 25187), ('reisling', 25188), ('superfly', 25189), ('handedly', 25190), ('hairbrush', 25191), ('countryquot', 25192), ('vic', 25193), ('spamvirus', 25194), ('threat', 25195), ('busier', 25196), ('personalize', 25197), (\"courtney's\", 25198), ('hoking', 25199), ('retort', 25200), (\"ana's\", 25201), (\"carlos's\", 25202), ('udah', 25203), ('hew', 25204), ('breastfeding', 25205), ('exhausing', 25206), ('clint', 25207), ('lambast', 25208), ('banker', 25209), ('insurer', 25210), ('gred', 25211), ('stupidity', 25212), (\"slepover's\", 25213), ('thalia', 25214), ('joewtf', 25215), ('funies', 25216), ('worldnow', 25217), ('bingley', 25218), ('practisetheproposal', 25219), ('endear', 25220), ('stupidstupid', 25221), ('relive', 25222), ('precariously', 25223), ('ricota', 25224), ('186', 25225), ('comunicate', 25226), ('cornbread', 25227), ('dodle', 25228), ('quotkidie', 25229), ('churchquot', 25230), ('topaz', 25231), ('universaly', 25232), ('quotmatquot', 25233), ('intersubjectively', 25234), ('quotgroundquot', 25235), ('quotyo', 25236), ('gaba', 25237), ('gabaquot', 25238), ('abrams', 25239), ('imnot', 25240), ('awesomeily', 25241), (\"megan's\", 25242), ('aright', 25243), ('outies', 25244), (\"famo's\", 25245), ('pughugs', 25246), ('phenomenon', 25247), ('tekenen', 25248), ('fanfic', 25249), ('emailsvoicemailsfacebok', 25250), ('yj', 25251), ('slime', 25252), ('overflow', 25253), ('photobothingisfunforbuny', 25254), ('volumen', 25255), ('eins', 25256), ('crucial', 25257), ('geodefense', 25258), ('exploration', 25259), ('vfactory', 25260), ('quotjackas', 25261), ('3quot', 25262), ('rubz', 25263), ('bigoted', 25264), ('patronise', 25265), ('imperialist', 25266), ('monoculturalist', 25267), ('selfrighteous', 25268), ('ratatat', 25269), ('katrina', 25270), ('downjust', 25271), ('chav', 25272), ('gremlin', 25273), ('gatorade', 25274), ('yumyum', 25275), ('arise', 25276), ('ladyfriend', 25277), ('swansea', 25278), ('iresponsible', 25279), ('ultimately', 25280), ('wondefl', 25281), ('michaelblesings', 25282), ('frazled', 25283), ('girlslt', 25284), ('lighthouse', 25285), ('severly', 25286), ('muchos', 25287), ('shopers', 25288), ('imigrating', 25289), ('ftr', 25290), ('quotjudicial', 25291), ('supervision', 25292), ('executive', 25293), ('comonwealth', 25294), ('caribeanquot', 25295), ('daves', 25296), ('balboa', 25297), ('awhk', 25298), ('keren', 25299), ('botanical', 25300), ('flock', 25301), ('padling', 25302), ('quoton', 25303), ('locationquot', 25304), ('citeh', 25305), ('citipointe', 25306), ('shifter', 25307), ('88', 25308), ('homeboy', 25309), ('studyhal', 25310), ('pun', 25311), ('dogone', 25312), ('ponderosa', 25313), ('talebudgera', 25314), (\"anita's\", 25315), ('profesor', 25316), ('trickery', 25317), ('exasperation', 25318), ('overactive', 25319), ('headbut', 25320), (\"tilie's\", 25321), ('txs', 25322), ('funtastic', 25323), ('umpire', 25324), ('trainging', 25325), ('tory', 25326), ('waty', 25327), ('berwick', 25328), ('halways', 25329), ('advil', 25330), ('9412', 25331), ('meg', 25332), ('ovah', 25333), ('curling', 25334), ('seria', 25335), ('leandro', 25336), ('wotwo', 25337), ('nakakahyper', 25338), ('wx', 25339), ('bwi', 25340), ('cancerfre', 25341), ('quotcrikeyquot', 25342), ('cutlet', 25343), ('150ft', 25344), (\"emc's\", 25345), ('sexiest', 25346), ('ros', 25347), (\"beman's\", 25348), (\"ya'l's\", 25349), ('comentaries', 25350), ('waterley', 25351), ('mistresing', 25352), ('chexquest', 25353), ('aide', 25354), ('cong', 25355), ('karnataka', 25356), ('cauvery', 25357), ('bilie', 25358), ('chm', 25359), ('bla', 25360), ('nifty', 25361), (\"mitchel's\", 25362), ('75th', 25363), ('lolsz', 25364), ('pasy', 25365), ('28mo', 25366), ('decisive', 25367), ('lsu', 25368), ('7spot', 25369), ('b7', 25370), ('comber', 25371), ('bashful', 25372), (\"kick's\", 25373), ('sonia', 25374), ('sheat', 25375), ('alreay', 25376), ('prez', 25377), ('kalahari', 25378), ('tesa', 25379), ('mccravy', 25380), ('weties', 25381), ('haiszt', 25382), ('philosopher', 25383), (\"ali's\", 25384), (\"devon's\", 25385), ('pram', 25386), ('wnlaws', 25387), (\"pun'k\", 25388), ('ronald', 25389), ('fandom', 25390), ('dian', 25391), ('deng', 25392), ('naina', 25393), ('amazingjust', 25394), ('shania', 25395), ('bithday', 25396), ('roni', 25397), ('ar15', 25398), ('skus', 25399), ('jaisey', 25400), ('1minute', 25401), ('ozbargain', 25402), ('optimise', 25403), ('myquothorible', 25404), ('chola', 25405), (\"quotchola's\", 25406), ('trickpieces', 25407), ('snugied', 25408), ('getonu', 25409), ('slaughter', 25410), ('teler', 25411), ('omnomlete', 25412), ('spector', 25413), (\"coulnd't\", 25414), ('landcruiser', 25415), ('196', 25416), ('clicky', 25417), ('papermate', 25418), ('toblerone', 25419), ('rita', 25420), ('chichester', 25421), ('corky', 25422), ('hcore', 25423), ('pom', 25424), ('exicted', 25425), ('onigiri', 25426), ('ofleash', 25427), ('pudle', 25428), ('nsty', 25429), ('cairn', 25430), ('clan', 25431), ('regresion', 25432), (\"purusha's\", 25433), ('androgyne', 25434), ('m12am', 25435), ('ichigo', 25436), ('pingamppoping', 25437), ('yfrog', 25438), ('inclient', 25439), ('widescren', 25440), ('balarat', 25441), ('eos', 25442), ('2k', 25443), ('f3', 25444), ('louder', 25445), ('wsmokey', 25446), ('okok', 25447), ('maxie', 25448), ('anwar', 25449), ('failblog', 25450), ('exercisebudy', 25451), ('longwekend', 25452), ('judo', 25453), ('quotretail', 25454), ('hink', 25455), ('elgin', 25456), ('withn', 25457), ('coney', 25458), ('lovley', 25459), ('kink', 25460), (\"niece's\", 25461), ('pspds', 25462), ('p250', 25463), ('woso', 25464), ('gant', 25465), ('apericiate', 25466), ('suports', 25467), ('selfawarenes', 25468), ('principle', 25469), ('mourner', 25470), ('sanity', 25471), ('partypicnic', 25472), ('canazaro', 25473), ('constitution', 25474), ('sulumits', 25475), ('retsambew', 25476), ('comb', 25477), ('whitehal', 25478), ('frethinking', 25479), ('moisturize', 25480), ('rephael', 25481), ('friendfed', 25482), ('facia', 25483), ('clarendon', 25484), ('blogtalk', 25485), ('99', 25486), ('freind', 25487), ('feisty', 25488), ('blagh', 25489), ('somehting', 25490), ('suk', 25491), ('bugiestrailers', 25492), ('evan', 25493), ('longoria', 25494), ('dreamgirls', 25495), ('imisu', 25496), ('lydia', 25497), ('rector', 25498), ('trix', 25499), ('acel', 25500), ('twilighters', 25501), ('psalm', 25502), ('826', 25503), ('quotpuke', 25504), ('mouthquot', 25505), ('swetdreams', 25506), ('alicia', 25507), ('catnip', 25508), ('springboard', 25509), ('tdukes', 25510), ('flwd', 25511), ('dhmptn', 25512), ('1fav', 25513), ('quaver', 25514), ('pasionquot', 25515), ('opi', 25516), ('muhaha', 25517), ('martha', 25518), ('yayayayayay', 25519), ('brendan', 25520), (\"other's\", 25521), ('e4', 25522), ('smithamherst', 25523), ('minireunion', 25524), ('charese', 25525), ('mothersmotherfigure', 25526), ('fightn', 25527), ('giveup', 25528), ('freleson', 25529), ('freistunde', 25530), ('krush', 25531), ('hubies', 25532), ('quotniteoutquot', 25533), ('topify', 25534), ('washed', 25535), ('achan', 25536), ('wroclawpoland', 25537), ('kosmo', 25538), ('airy', 25539), ('keypad', 25540), ('ipl', 25541), ('530p', 25542), ('129', 25543), ('dayswk', 25544), ('pubulation', 25545), ('difering', 25546), ('nagustuhan', 25547), ('nyo', 25548), ('isang', 25549), ('enclose', 25550), ('matutunaw', 25551), ('uli', 25552), ('youamphoping', 25553), ('tadi', 25554), ('failed', 25555), ('wooven', 25556), ('woantitip', 25557), ('woven', 25558), ('knotie', 25559), ('kandice', 25560), ('casey', 25561), ('screwed', 25562), ('yujm', 25563), ('vwl', 25564), ('vwlers', 25565), ('edc', 25566), ('meijer', 25567), ('walmarts', 25568), ('bishopstorford', 25569), (\"aunt's\", 25570), ('cis', 25571), ('aiza', 25572), ('swinishone', 25573), ('gana', 25574), ('bidy', 25575), ('ticketek', 25576), ('rowdy', 25577), ('cms', 25578), ('cuming', 25579), ('mktg', 25580), ('oth', 25581), ('6gb', 25582), ('5tb', 25583), ('handmake', 25584), ('replicants', 25585), ('facility', 25586), ('breakrom', 25587), ('snailmail', 25588), ('unsuspecting', 25589), ('crotch', 25590), ('spatered', 25591), ('colete', 25592), ('kidnap', 25593), ('heartwhoeva', 25594), ('q13', 25595), ('skwl', 25596), ('wcm', 25597), ('beleive', 25598), (\"rese's\", 25599), ('ean', 25600), ('inteligence', 25601), ('refactor', 25602), ('worshiper', 25603), ('4h', 25604), ('nib', 25605), ('bedford', 25606), ('chirstina', 25607), ('hurtembaras', 25608), ('hmd', 25609), ('ok2', 25610), (\"g'nyt\", 25611), (\"page's\", 25612), ('nocturnal', 25613), ('kashmir', 25614), ('shelby', 25615), ('bermuda', 25616), ('cwazy', 25617), ('platinum', 25618), ('atg', 25619), ('quotjoe', 25620), ('stripquot', 25621), ('zucini', 25622), ('quotfuckerquot', 25623), ('gparents', 25624), (\"phil's\", 25625), ('samesex', 25626), ('rafa', 25627), ('statequot', 25628), ('policeman', 25629), ('rosales', 25630), ('quotbandwidth', 25631), ('excededquot', 25632), ('glutony', 25633), ('mtaby', 25634), ('uniqname', 25635), ('cisbury', 25636), ('ulu', 25637), ('skitles', 25638), (\"yal's\", 25639), ('sweties', 25640), ('itel', 25641), ('earlymid', 25642), ('fuschia', 25643), ('sheath', 25644), ('unsubscribe', 25645), ('scorecard', 25646), ('mentalphysical', 25647), ('scategories', 25648), ('finance', 25649), ('zumba', 25650), ('friken', 25651), ('s2', 25652), ('twiterheads', 25653), ('sizlerquot', 25654), ('benson', 25655), ('scher', 25656), ('krol', 25657), ('frosting', 25658), ('fishys', 25659), ('timestamp', 25660), ('10574', 25661), ('cest', 25662), ('definitly', 25663), (\"chip's\", 25664), (\"shady's\", 25665), ('foundquot', 25666), ('quotbreakfastquot', 25667), ('altop', 25668), (\"mont's\", 25669), ('pairung', 25670), ('corsen', 25671), ('monet', 25672), ('casualy', 25673), ('556', 25674), ('sotomayor', 25675), ('myhouse', 25676), ('beav', 25677), ('transpire', 25678), ('carlesnes', 25679), ('mx', 25680), ('netplayer', 25681), ('publishing', 25682), ('enlgish', 25683), ('7kilos', 25684), ('cimarongirl', 25685), ('51', 25686), ('profoundly', 25687), ('free', 25688), ('flaxandfiberfriday', 25689), ('paedofile', 25690), ('babydol', 25691), ('spaghetistrap', 25692), ('transparency', 25693), ('selective', 25694), ('opacity', 25695), ('prepresale', 25696), ('castingrelated', 25697), ('wank', 25698), ('kelylt', 25699), ('quotstudent', 25700), ('roundup', 25701), ('eventquot', 25702), ('darfur', 25703), ('inspiring', 25704), (\"jackie's\", 25705), ('tare', 25706), ('castile', 25707), ('urechi', 25708), ('drumu', 25709), ('muzichi', 25710), ('asa', 25711), ('vopseaua', 25712), ('afectat', 25713), ('ashington', 25714), ('northumberland', 25715), ('punkrockchick', 25716), ('lmoo', 25717), ('lakas', 25718), ('nalang', 25719), ('bandana', 25720), ('vishal', 25721), ('gtalk', 25722), ('tenaya', 25723), ('hubys', 25724), ('6moredays', 25725), ('tanking', 25726), ('ofspecs', 25727), ('3hour', 25728), ('bosman', 25729), ('lamesauce', 25730), ('6789821', 25731), ('caminker', 25732), ('runday', 25733), ('hxc', 25734), ('peder', 25735), ('feragamo', 25736), ('downturn', 25737), ('groningen', 25738), ('deborah', 25739), ('stepdad', 25740)])"
      ]
     },
     "execution_count": 1195,
     "metadata": {},
     "output_type": "execute_result"
    }
   ],
   "source": [
    "tokenizer.word_index.items()"
   ]
  },
  {
   "cell_type": "code",
   "execution_count": 1196,
   "metadata": {},
   "outputs": [
    {
     "data": {
      "text/plain": [
       "25741"
      ]
     },
     "execution_count": 1196,
     "metadata": {},
     "output_type": "execute_result"
    }
   ],
   "source": [
    "vocab_size = len(tokenizer.word_index)+1\n",
    "vocab_size # so, we have vocab_size unique words in our all combined sequence"
   ]
  },
  {
   "cell_type": "code",
   "execution_count": 1197,
   "metadata": {},
   "outputs": [],
   "source": [
    "# after NER and augumentation, the number of unique words reduced from to 25913 , which significantly reduces overfitting of the model\n",
    "# and good scope for generalization"
   ]
  },
  {
   "cell_type": "markdown",
   "metadata": {},
   "source": [
    "### word vectors"
   ]
  },
  {
   "cell_type": "code",
   "execution_count": 1198,
   "metadata": {},
   "outputs": [],
   "source": [
    "# we will be using pretrained Glove to create word vectors for our sequences\n",
    "# the file is downloaded locally, and we will find the corressponding word vector by mapping our words with it"
   ]
  },
  {
   "cell_type": "code",
   "execution_count": 1199,
   "metadata": {},
   "outputs": [
    {
     "data": {
      "text/plain": [
       "'\\nimport numpy as np\\nembedding_index = {}\\nembedding_dim = 100  # Dimension of the GloVe embeddings, adjust based on the complexity of the task and no.of words,sentences\\n\\nwith open(\\'D:/ds/dl/rnn/archive/glove.6B.100d.txt\\', encoding=\"utf8\") as f:\\n    for line in f:\\n        values = line.split()\\n        word = values[0]\\n        coefs = np.asarray(values[1:], dtype=\\'float32\\')\\n        embedding_index[word] = coefs\\n\\n# Create the embedding matrix\\nembedding_matrix = np.zeros((vocab_size, embedding_dim))\\nfor word, i in tokenizer.word_index.items():\\n    embedding_vector = embedding_index.get(word)\\n    if embedding_vector is not None:\\n        embedding_matrix[i] = embedding_vector\\n\\nprint(\"Embedding matrix shape:\", embedding_matrix.shape) \\n'"
      ]
     },
     "execution_count": 1199,
     "metadata": {},
     "output_type": "execute_result"
    }
   ],
   "source": [
    "# Load the GloVe embeddings\n",
    "\"\"\"\n",
    "import numpy as np\n",
    "embedding_index = {}\n",
    "embedding_dim = 100  # Dimension of the GloVe embeddings, adjust based on the complexity of the task and no.of words,sentences\n",
    "\n",
    "with open('D:/ds/dl/rnn/archive/glove.6B.100d.txt', encoding=\"utf8\") as f:\n",
    "    for line in f:\n",
    "        values = line.split()\n",
    "        word = values[0]\n",
    "        coefs = np.asarray(values[1:], dtype='float32')\n",
    "        embedding_index[word] = coefs\n",
    "\n",
    "# Create the embedding matrix\n",
    "embedding_matrix = np.zeros((vocab_size, embedding_dim))\n",
    "for word, i in tokenizer.word_index.items():\n",
    "    embedding_vector = embedding_index.get(word)\n",
    "    if embedding_vector is not None:\n",
    "        embedding_matrix[i] = embedding_vector\n",
    "\n",
    "print(\"Embedding matrix shape:\", embedding_matrix.shape) \n",
    "\"\"\""
   ]
  },
  {
   "cell_type": "code",
   "execution_count": 1200,
   "metadata": {},
   "outputs": [],
   "source": [
    "# we will be using word2vec to train on our custom words and generate word vectors\n",
    "# because glove may not containa all the word vectors, where the words will be unique to our data "
   ]
  },
  {
   "cell_type": "code",
   "execution_count": 1201,
   "metadata": {},
   "outputs": [
    {
     "name": "stdout",
     "output_type": "stream",
     "text": [
      "['get', 'ned', 'leave', 'clas', 'hour', '<null>', '<null>', '<null>', '<null>', '<null>', '<null>', '<null>', '<null>', '<null>', '<null>', '<null>', '<null>', '<null>']\n"
     ]
    }
   ],
   "source": [
    "print(z[4])"
   ]
  },
  {
   "cell_type": "code",
   "execution_count": 1202,
   "metadata": {},
   "outputs": [],
   "source": [
    "from gensim.models import Word2Vec\n",
    "\n",
    "# Initialize and train the Word2Vec model\n",
    "# Here, `size` is the embedding dimension, and `window` is the context window size\n",
    "model = Word2Vec(sentences=z, vector_size=200, window=5, min_count=1, workers=4)\n",
    "\n",
    "# Save the model for later use\n",
    "model.save(\"word2vec.model\")"
   ]
  },
  {
   "cell_type": "code",
   "execution_count": 1203,
   "metadata": {},
   "outputs": [
    {
     "data": {
      "text/plain": [
       "array([ 0.6053521 , -0.22701827, -0.35230097,  0.23044749,  1.1519327 ,\n",
       "       -0.08567597, -0.33992353,  0.8323222 ,  0.11436658,  0.5212206 ,\n",
       "       -0.5994451 , -0.25294518,  0.23707813,  0.37768167,  0.12538831,\n",
       "       -0.16229156, -0.46739897,  0.36832875,  0.3747527 , -0.731212  ,\n",
       "        0.04586066, -0.72201777, -0.21416724,  0.4631716 , -0.57373834,\n",
       "        0.08122209,  0.29881725, -0.4571554 ,  0.07314499,  0.29459348,\n",
       "        1.0593117 ,  0.01843834,  0.15884553, -0.07243757, -0.12989324,\n",
       "       -0.04554213,  0.28263873, -0.01171986, -0.3833931 , -0.20304516,\n",
       "        0.1393902 , -0.64942896,  0.77095604, -0.09672844,  0.48312625,\n",
       "       -0.4201287 ,  0.2547757 , -0.70908976,  0.07244352,  0.7692798 ,\n",
       "        0.1674604 , -0.40454397,  0.20528841, -0.21164997, -0.15675761,\n",
       "       -0.05772382, -0.09237014, -0.39941788, -0.45007914, -0.24263313,\n",
       "       -0.06799623, -0.10542226,  0.38876995,  0.15855125, -0.6718316 ,\n",
       "        0.06408227, -0.04156401,  0.7977505 , -0.4875606 ,  0.2901639 ,\n",
       "        0.05455444, -0.19226712,  0.9937305 ,  0.40408024,  0.46846005,\n",
       "       -0.12089927,  0.06337973, -0.2734885 , -0.60092527,  0.08397077,\n",
       "       -0.20312831, -0.39291364, -0.86417127,  0.17556925, -0.42674994,\n",
       "       -0.303857  , -0.06850211,  0.57355195,  0.26552033,  0.14438808,\n",
       "       -0.09368113,  0.39291883,  0.20807144,  0.46477985,  0.31183064,\n",
       "        0.42977557,  0.8899378 ,  0.4954828 , -0.07591853, -0.03414013,\n",
       "        0.01651736,  0.48742425,  0.46749878, -0.9391135 , -0.58946145,\n",
       "       -0.61795926,  0.26031426,  0.7440882 , -0.53070897, -0.20263103,\n",
       "       -0.23978557,  0.34544662,  0.33601466, -0.59017867,  0.16407691,\n",
       "       -0.57199055, -0.17013341, -1.0742099 , -0.05581497, -0.5872334 ,\n",
       "       -0.35611877,  1.2765749 ,  0.1385728 , -0.46476242, -0.41294464,\n",
       "        0.5003673 ,  0.04421848, -0.63191086, -0.38477954, -0.5880422 ,\n",
       "       -0.18990377,  0.46866596, -0.09228962, -0.47768036, -0.43019465,\n",
       "        0.50975627, -1.0002018 , -0.82465076, -0.7943487 , -1.7450577 ,\n",
       "        0.11589976, -0.37937787,  0.24237797, -0.8488653 , -0.01732257,\n",
       "       -0.6554596 , -1.1221813 ,  0.21916735, -0.53832364, -0.31228164,\n",
       "       -0.45005804,  0.7320078 , -0.18881851,  0.28480244, -0.95176023,\n",
       "        0.49969816, -0.12549219,  0.12655863, -0.4958313 , -0.523218  ,\n",
       "        0.9939619 ,  0.44331795, -0.4676835 ,  0.27092457, -0.22930507,\n",
       "       -0.16759637, -0.22249933,  0.01095732, -0.57935417,  0.0959005 ,\n",
       "       -0.3073988 ,  0.7249852 , -0.61970407, -0.55605054,  0.91275394,\n",
       "        0.7277343 ,  0.28003323,  0.6707331 ,  0.06024092,  0.8055682 ,\n",
       "        0.8299461 ,  0.2142021 , -0.24826224,  0.42412165,  0.17449974,\n",
       "        0.57076865,  0.16327532,  1.2608043 ,  0.50333136,  0.23823915,\n",
       "        1.1713346 , -0.15989453, -0.7746708 ,  0.354146  ,  0.20123267,\n",
       "        0.25054136, -0.3412815 , -0.02309092,  0.75623083, -0.5433755 ],\n",
       "      dtype=float32)"
      ]
     },
     "execution_count": 1203,
     "metadata": {},
     "output_type": "execute_result"
    }
   ],
   "source": [
    "#sample\n",
    "model = Word2Vec.load(\"word2vec.model\")\n",
    "word_vector = model.wv[\"sad\"]\n",
    "word_vector"
   ]
  },
  {
   "cell_type": "code",
   "execution_count": 1204,
   "metadata": {},
   "outputs": [
    {
     "data": {
      "text/plain": [
       "200"
      ]
     },
     "execution_count": 1204,
     "metadata": {},
     "output_type": "execute_result"
    }
   ],
   "source": [
    "len(word_vector)"
   ]
  },
  {
   "cell_type": "code",
   "execution_count": 1205,
   "metadata": {},
   "outputs": [
    {
     "data": {
      "text/plain": [
       "array([[ 0.00000000e+00,  0.00000000e+00,  0.00000000e+00, ...,\n",
       "         0.00000000e+00,  0.00000000e+00,  0.00000000e+00],\n",
       "       [ 6.25239849e-01,  4.48619649e-02, -8.64922330e-02, ...,\n",
       "        -5.76719403e-01,  3.74788374e-01, -3.05911630e-01],\n",
       "       [ 8.65966499e-01, -2.43957445e-01, -8.56075108e-01, ...,\n",
       "        -2.01135173e-01,  8.76973152e-01, -1.02334177e+00],\n",
       "       ...,\n",
       "       [ 1.04447939e-02,  3.66804795e-03, -8.56553670e-03, ...,\n",
       "         2.06224737e-03,  1.81234591e-02, -5.81691042e-03],\n",
       "       [-3.27534298e-03, -2.32724845e-03, -2.17146892e-03, ...,\n",
       "         4.76556551e-03,  1.03090731e-02, -1.48597604e-03],\n",
       "       [-8.59713007e-04,  2.41578068e-03, -4.79682442e-03, ...,\n",
       "         1.67052615e-02,  2.74209548e-02, -3.29683069e-03]])"
      ]
     },
     "execution_count": 1205,
     "metadata": {},
     "output_type": "execute_result"
    }
   ],
   "source": [
    "import random\n",
    "embedding_matrix = np.zeros((vocab_size, 200))\n",
    "model = Word2Vec.load(\"word2vec.model\")\n",
    "for i,ind in tokenizer.word_index.items():\n",
    "    try:\n",
    "        embedding_matrix[ind]=model.wv[i] \n",
    "    except:\n",
    "        random_floats = [random.uniform(-3, 3) for i in range(200)]\n",
    "        embedding_matrix[ind]=random_floats\n",
    "embedding_matrix "
   ]
  },
  {
   "cell_type": "code",
   "execution_count": 1206,
   "metadata": {},
   "outputs": [
    {
     "data": {
      "text/plain": [
       "(25741, 200)"
      ]
     },
     "execution_count": 1206,
     "metadata": {},
     "output_type": "execute_result"
    }
   ],
   "source": [
    "embedding_matrix.shape"
   ]
  },
  {
   "cell_type": "code",
   "execution_count": 1207,
   "metadata": {},
   "outputs": [],
   "source": [
    "# the word vectors in embedded matrix are also stored in the same order as word_index "
   ]
  },
  {
   "cell_type": "code",
   "execution_count": 1208,
   "metadata": {},
   "outputs": [
    {
     "data": {
      "text/plain": [
       "34728"
      ]
     },
     "execution_count": 1208,
     "metadata": {},
     "output_type": "execute_result"
    }
   ],
   "source": [
    "len(encoded)"
   ]
  },
  {
   "cell_type": "code",
   "execution_count": 1209,
   "metadata": {},
   "outputs": [
    {
     "data": {
      "text/plain": [
       "(20114, 6804)"
      ]
     },
     "execution_count": 1209,
     "metadata": {},
     "output_type": "execute_result"
    }
   ],
   "source": [
    "l1= len(Xtl)\n",
    "l2 = len(xvl)\n",
    "l1,l2"
   ]
  },
  {
   "cell_type": "code",
   "execution_count": 1210,
   "metadata": {},
   "outputs": [
    {
     "data": {
      "text/plain": [
       "26918"
      ]
     },
     "execution_count": 1210,
     "metadata": {},
     "output_type": "execute_result"
    }
   ],
   "source": [
    "ll = l1+l2\n",
    "ll"
   ]
  },
  {
   "cell_type": "code",
   "execution_count": 1211,
   "metadata": {},
   "outputs": [
    {
     "data": {
      "text/plain": [
       "20114"
      ]
     },
     "execution_count": 1211,
     "metadata": {},
     "output_type": "execute_result"
    }
   ],
   "source": [
    "ll-l2 "
   ]
  },
  {
   "cell_type": "code",
   "execution_count": 1212,
   "metadata": {},
   "outputs": [
    {
     "data": {
      "text/plain": [
       "7810"
      ]
     },
     "execution_count": 1212,
     "metadata": {},
     "output_type": "execute_result"
    }
   ],
   "source": [
    "len(encoded)-ll # y_test length"
   ]
  },
  {
   "cell_type": "code",
   "execution_count": 1213,
   "metadata": {},
   "outputs": [],
   "source": [
    "x_train_final = encoded[:l1]\n",
    "x_val_final = encoded[l1:ll]"
   ]
  },
  {
   "cell_type": "code",
   "execution_count": 1214,
   "metadata": {},
   "outputs": [],
   "source": [
    "x_train_final = np.array(x_train_final)\n",
    "x_val_final = np.array(x_val_final)"
   ]
  },
  {
   "cell_type": "code",
   "execution_count": 1215,
   "metadata": {},
   "outputs": [
    {
     "data": {
      "text/plain": [
       "((20114, 13), (6804, 13), (7810, 13))"
      ]
     },
     "execution_count": 1215,
     "metadata": {},
     "output_type": "execute_result"
    }
   ],
   "source": [
    "from tensorflow.keras.utils import to_categorical\n",
    "y_train_hot = to_categorical(y_train_resampled_m,num_classes=13)\n",
    "y_test_hot = to_categorical(y_test,num_classes=13)\n",
    "y_val_hot = to_categorical(y_val_resampled_m,num_classes=13)\n",
    "y_train_hot.shape,y_val_hot.shape ,y_test_hot.shape"
   ]
  },
  {
   "cell_type": "code",
   "execution_count": 1216,
   "metadata": {},
   "outputs": [
    {
     "name": "stdout",
     "output_type": "stream",
     "text": [
      "(20114, 18) (20114, 13)\n",
      "(6804, 18) (6804, 13)\n",
      "(7810, 18) (7810, 13)\n"
     ]
    }
   ],
   "source": [
    "print(x_train_final.shape,y_train_hot.shape)\n",
    "print(x_val_final.shape,y_val_hot.shape)\n",
    "print(x_test.shape,y_test_hot.shape)"
   ]
  },
  {
   "cell_type": "code",
   "execution_count": 1217,
   "metadata": {},
   "outputs": [
    {
     "data": {
      "text/plain": [
       "array([[    2,    19,   366, ...,     1,     1,     1],\n",
       "       [    2, 10570, 10571, ...,     1,     1,     1],\n",
       "       [    9,     3,   607, ...,     1,     1,     1],\n",
       "       ...,\n",
       "       [ 6829,  2906,  9878, ...,     1,     1,     1],\n",
       "       [ 3682,  1058,  8199, ...,     1,     1,     1],\n",
       "       [19358,   146,  2689, ...,     1,     1,     1]])"
      ]
     },
     "execution_count": 1217,
     "metadata": {},
     "output_type": "execute_result"
    }
   ],
   "source": [
    "x_train_final"
   ]
  },
  {
   "cell_type": "code",
   "execution_count": 1218,
   "metadata": {},
   "outputs": [],
   "source": [
    "# shuffle the data\n",
    "from sklearn.utils import shuffle\n",
    "x_train_final,y_train_hot = shuffle(x_train_final,y_train_hot,random_state=42)\n",
    "x_val_final,y_val_hot = shuffle(x_val_final,y_val_hot,random_state=42)"
   ]
  },
  {
   "cell_type": "code",
   "execution_count": 1219,
   "metadata": {},
   "outputs": [
    {
     "data": {
      "text/plain": [
       "array([[    9,    82,     1, ...,     1,     1,     1],\n",
       "       [    2,   627,    95, ..., 12921,     1,     1],\n",
       "       [   54,    24,    43, ...,     1,     1,     1],\n",
       "       ...,\n",
       "       [    7,    14,   330, ...,  6323,  1235,     1],\n",
       "       [  690,    21,     4, ...,     1,     1,     1],\n",
       "       [ 5491,   246,     1, ...,     1,     1,     1]])"
      ]
     },
     "execution_count": 1219,
     "metadata": {},
     "output_type": "execute_result"
    }
   ],
   "source": [
    "x_train_final"
   ]
  },
  {
   "cell_type": "code",
   "execution_count": 1220,
   "metadata": {},
   "outputs": [],
   "source": [
    "# Now all our data is ready and as well as the embedded matrix which is created by word2vec"
   ]
  },
  {
   "cell_type": "code",
   "execution_count": 1221,
   "metadata": {},
   "outputs": [
    {
     "data": {
      "text/plain": [
       "\"\\nfrom sklearn.utils.class_weight import compute_class_weight\\nclass_weights = compute_class_weight('balanced',classes= np.unique(y_train_resampled_m), y=y_train_resampled_m) \\nclass_weight_dict = dict(enumerate(class_weights))\\nclass_weight_dict\\n\""
      ]
     },
     "execution_count": 1221,
     "metadata": {},
     "output_type": "execute_result"
    }
   ],
   "source": [
    "\"\"\"\n",
    "from sklearn.utils.class_weight import compute_class_weight\n",
    "class_weights = compute_class_weight('balanced',classes= np.unique(y_train_resampled_m), y=y_train_resampled_m) \n",
    "class_weight_dict = dict(enumerate(class_weights))\n",
    "class_weight_dict\n",
    "\"\"\""
   ]
  },
  {
   "cell_type": "markdown",
   "metadata": {},
   "source": [
    "### DL model"
   ]
  },
  {
   "cell_type": "code",
   "execution_count": 1222,
   "metadata": {},
   "outputs": [],
   "source": [
    "from tensorflow.keras.models import Sequential\n",
    "from tensorflow.keras.layers import Embedding,Dropout,Bidirectional,Dense,LeakyReLU,GRU,GlobalAveragePooling1D,LayerNormalization,LSTM,Flatten, MultiHeadAttention\n",
    "from tensorflow.keras.regularizers import l1,l2\n",
    "\n",
    "model = Sequential()\n",
    "model.add(Embedding(input_dim=vocab_size,output_dim=200, weights=[embedding_matrix],trainable=False))\n",
    "\n",
    "model.add(Bidirectional(GRU(64,return_sequences=True)))\n",
    "model.add(Bidirectional(GRU(32,return_sequences=True)))\n",
    "model.add(Dropout(0.2))\n",
    "\n",
    "model.add(Flatten()) \n",
    "\n",
    "model.add(Dense(128,kernel_regularizer=l2(0.004))) \n",
    "model.add(LeakyReLU(0.3)) # to avoid dead neurons\n",
    "model.add(LayerNormalization()) \n",
    "model.add(Dropout(0.3))\n",
    "model.add(Dense(64,kernel_regularizer=l2(0.004))) \n",
    "model.add(LeakyReLU(0.2)) \n",
    "model.add(LayerNormalization()) \n",
    "model.add(Dropout(0.3))\n",
    "\n",
    "\n",
    "model.add(Dense(num_classes,activation='softmax')) "
   ]
  },
  {
   "cell_type": "code",
   "execution_count": 1225,
   "metadata": {},
   "outputs": [],
   "source": [
    "from tensorflow.keras.optimizers import Adam,SGD\n",
    "model.compile(optimizer=Adam(learning_rate=0.001),loss='categorical_crossentropy',metrics=['precision']) # categorical_crossentropy for one-hot encoded lables"
   ]
  },
  {
   "cell_type": "code",
   "execution_count": null,
   "metadata": {},
   "outputs": [
    {
     "name": "stdout",
     "output_type": "stream",
     "text": [
      "Epoch 1/20\n",
      "\u001b[1m629/629\u001b[0m \u001b[32m━━━━━━━━━━━━━━━━━━━━\u001b[0m\u001b[37m\u001b[0m \u001b[1m26s\u001b[0m 25ms/step - loss: 2.1109 - precision: 0.5943 - val_loss: 2.1387 - val_precision: 0.6812\n",
      "Epoch 2/20\n",
      "\u001b[1m629/629\u001b[0m \u001b[32m━━━━━━━━━━━━━━━━━━━━\u001b[0m\u001b[37m\u001b[0m \u001b[1m16s\u001b[0m 25ms/step - loss: 2.0998 - precision: 0.5848 - val_loss: 2.1469 - val_precision: 0.5809\n",
      "Epoch 3/20\n",
      "\u001b[1m629/629\u001b[0m \u001b[32m━━━━━━━━━━━━━━━━━━━━\u001b[0m\u001b[37m\u001b[0m \u001b[1m15s\u001b[0m 25ms/step - loss: 2.0856 - precision: 0.5888 - val_loss: 2.1427 - val_precision: 0.6526\n",
      "Epoch 4/20\n",
      "\u001b[1m629/629\u001b[0m \u001b[32m━━━━━━━━━━━━━━━━━━━━\u001b[0m\u001b[37m\u001b[0m \u001b[1m0s\u001b[0m 22ms/step - loss: 2.0864 - precision: 0.5831"
     ]
    }
   ],
   "source": [
    "history = model.fit(x_train_final,y_train_hot,epochs=20,batch_size=32,validation_data=(x_val_final,y_val_hot)) "
   ]
  },
  {
   "cell_type": "code",
   "execution_count": 623,
   "metadata": {},
   "outputs": [],
   "source": [
    "# Layernormalization - Feautre wise normalization instead of batch wise \n",
    "# Keep values in standard range which increases the speed of computation "
   ]
  },
  {
   "cell_type": "code",
   "execution_count": 624,
   "metadata": {},
   "outputs": [
    {
     "data": {
      "text/plain": [
       "keras.src.callbacks.history.History"
      ]
     },
     "execution_count": 624,
     "metadata": {},
     "output_type": "execute_result"
    }
   ],
   "source": [
    "type(history)"
   ]
  },
  {
   "cell_type": "code",
   "execution_count": 1033,
   "metadata": {},
   "outputs": [
    {
     "data": {
      "image/png": "[encoded data removed]",
      "text/plain": [
       "<Figure size 640x480 with 1 Axes>"
      ]
     },
     "metadata": {},
     "output_type": "display_data"
    }
   ],
   "source": [
    "plt.plot([i for i in range(1,21)],history.history['precision'])\n",
    "plt.plot([i for i in range(1,21)],history.history['val_precision'])\n",
    "plt.show()"
   ]
  },
  {
   "cell_type": "code",
   "execution_count": 1042,
   "metadata": {},
   "outputs": [
    {
     "data": {
      "text/html": [
       "<pre style=\"white-space:pre;overflow-x:auto;line-height:normal;font-family:Menlo,'DejaVu Sans Mono',consolas,'Courier New',monospace\"><span style=\"font-weight: bold\">Model: \"sequential_26\"</span>\n",
       "</pre>\n"
      ],
      "text/plain": [
       "\u001b[1mModel: \"sequential_26\"\u001b[0m\n"
      ]
     },
     "metadata": {},
     "output_type": "display_data"
    },
    {
     "data": {
      "text/html": [
       "<pre style=\"white-space:pre;overflow-x:auto;line-height:normal;font-family:Menlo,'DejaVu Sans Mono',consolas,'Courier New',monospace\">┏━━━━━━━━━━━━━━━━━━━━━━━━━━━━━━━━━┳━━━━━━━━━━━━━━━━━━━━━━━━┳━━━━━━━━━━━━━━━┓\n",
       "┃<span style=\"font-weight: bold\"> Layer (type)                    </span>┃<span style=\"font-weight: bold\"> Output Shape           </span>┃<span style=\"font-weight: bold\">       Param # </span>┃\n",
       "┡━━━━━━━━━━━━━━━━━━━━━━━━━━━━━━━━━╇━━━━━━━━━━━━━━━━━━━━━━━━╇━━━━━━━━━━━━━━━┩\n",
       "│ embedding_26 (<span style=\"color: #0087ff; text-decoration-color: #0087ff\">Embedding</span>)        │ (<span style=\"color: #00d7ff; text-decoration-color: #00d7ff\">None</span>, <span style=\"color: #00af00; text-decoration-color: #00af00\">18</span>, <span style=\"color: #00af00; text-decoration-color: #00af00\">200</span>)        │     <span style=\"color: #00af00; text-decoration-color: #00af00\">5,182,600</span> │\n",
       "├─────────────────────────────────┼────────────────────────┼───────────────┤\n",
       "│ bidirectional_44                │ (<span style=\"color: #00d7ff; text-decoration-color: #00d7ff\">None</span>, <span style=\"color: #00af00; text-decoration-color: #00af00\">18</span>, <span style=\"color: #00af00; text-decoration-color: #00af00\">256</span>)        │       <span style=\"color: #00af00; text-decoration-color: #00af00\">253,440</span> │\n",
       "│ (<span style=\"color: #0087ff; text-decoration-color: #0087ff\">Bidirectional</span>)                 │                        │               │\n",
       "├─────────────────────────────────┼────────────────────────┼───────────────┤\n",
       "│ bidirectional_45                │ (<span style=\"color: #00d7ff; text-decoration-color: #00d7ff\">None</span>, <span style=\"color: #00af00; text-decoration-color: #00af00\">18</span>, <span style=\"color: #00af00; text-decoration-color: #00af00\">128</span>)        │       <span style=\"color: #00af00; text-decoration-color: #00af00\">123,648</span> │\n",
       "│ (<span style=\"color: #0087ff; text-decoration-color: #0087ff\">Bidirectional</span>)                 │                        │               │\n",
       "├─────────────────────────────────┼────────────────────────┼───────────────┤\n",
       "│ dropout_52 (<span style=\"color: #0087ff; text-decoration-color: #0087ff\">Dropout</span>)            │ (<span style=\"color: #00d7ff; text-decoration-color: #00d7ff\">None</span>, <span style=\"color: #00af00; text-decoration-color: #00af00\">18</span>, <span style=\"color: #00af00; text-decoration-color: #00af00\">128</span>)        │             <span style=\"color: #00af00; text-decoration-color: #00af00\">0</span> │\n",
       "├─────────────────────────────────┼────────────────────────┼───────────────┤\n",
       "│ flatten_25 (<span style=\"color: #0087ff; text-decoration-color: #0087ff\">Flatten</span>)            │ (<span style=\"color: #00d7ff; text-decoration-color: #00d7ff\">None</span>, <span style=\"color: #00af00; text-decoration-color: #00af00\">2304</span>)           │             <span style=\"color: #00af00; text-decoration-color: #00af00\">0</span> │\n",
       "├─────────────────────────────────┼────────────────────────┼───────────────┤\n",
       "│ dense_67 (<span style=\"color: #0087ff; text-decoration-color: #0087ff\">Dense</span>)                │ (<span style=\"color: #00d7ff; text-decoration-color: #00d7ff\">None</span>, <span style=\"color: #00af00; text-decoration-color: #00af00\">128</span>)            │       <span style=\"color: #00af00; text-decoration-color: #00af00\">295,040</span> │\n",
       "├─────────────────────────────────┼────────────────────────┼───────────────┤\n",
       "│ leaky_re_lu_36 (<span style=\"color: #0087ff; text-decoration-color: #0087ff\">LeakyReLU</span>)      │ (<span style=\"color: #00d7ff; text-decoration-color: #00d7ff\">None</span>, <span style=\"color: #00af00; text-decoration-color: #00af00\">128</span>)            │             <span style=\"color: #00af00; text-decoration-color: #00af00\">0</span> │\n",
       "├─────────────────────────────────┼────────────────────────┼───────────────┤\n",
       "│ layer_normalization_54          │ (<span style=\"color: #00d7ff; text-decoration-color: #00d7ff\">None</span>, <span style=\"color: #00af00; text-decoration-color: #00af00\">128</span>)            │           <span style=\"color: #00af00; text-decoration-color: #00af00\">256</span> │\n",
       "│ (<span style=\"color: #0087ff; text-decoration-color: #0087ff\">LayerNormalization</span>)            │                        │               │\n",
       "├─────────────────────────────────┼────────────────────────┼───────────────┤\n",
       "│ dropout_53 (<span style=\"color: #0087ff; text-decoration-color: #0087ff\">Dropout</span>)            │ (<span style=\"color: #00d7ff; text-decoration-color: #00d7ff\">None</span>, <span style=\"color: #00af00; text-decoration-color: #00af00\">128</span>)            │             <span style=\"color: #00af00; text-decoration-color: #00af00\">0</span> │\n",
       "├─────────────────────────────────┼────────────────────────┼───────────────┤\n",
       "│ dense_68 (<span style=\"color: #0087ff; text-decoration-color: #0087ff\">Dense</span>)                │ (<span style=\"color: #00d7ff; text-decoration-color: #00d7ff\">None</span>, <span style=\"color: #00af00; text-decoration-color: #00af00\">64</span>)             │         <span style=\"color: #00af00; text-decoration-color: #00af00\">8,256</span> │\n",
       "├─────────────────────────────────┼────────────────────────┼───────────────┤\n",
       "│ leaky_re_lu_37 (<span style=\"color: #0087ff; text-decoration-color: #0087ff\">LeakyReLU</span>)      │ (<span style=\"color: #00d7ff; text-decoration-color: #00d7ff\">None</span>, <span style=\"color: #00af00; text-decoration-color: #00af00\">64</span>)             │             <span style=\"color: #00af00; text-decoration-color: #00af00\">0</span> │\n",
       "├─────────────────────────────────┼────────────────────────┼───────────────┤\n",
       "│ layer_normalization_55          │ (<span style=\"color: #00d7ff; text-decoration-color: #00d7ff\">None</span>, <span style=\"color: #00af00; text-decoration-color: #00af00\">64</span>)             │           <span style=\"color: #00af00; text-decoration-color: #00af00\">128</span> │\n",
       "│ (<span style=\"color: #0087ff; text-decoration-color: #0087ff\">LayerNormalization</span>)            │                        │               │\n",
       "├─────────────────────────────────┼────────────────────────┼───────────────┤\n",
       "│ dropout_54 (<span style=\"color: #0087ff; text-decoration-color: #0087ff\">Dropout</span>)            │ (<span style=\"color: #00d7ff; text-decoration-color: #00d7ff\">None</span>, <span style=\"color: #00af00; text-decoration-color: #00af00\">64</span>)             │             <span style=\"color: #00af00; text-decoration-color: #00af00\">0</span> │\n",
       "├─────────────────────────────────┼────────────────────────┼───────────────┤\n",
       "│ dense_69 (<span style=\"color: #0087ff; text-decoration-color: #0087ff\">Dense</span>)                │ (<span style=\"color: #00d7ff; text-decoration-color: #00d7ff\">None</span>, <span style=\"color: #00af00; text-decoration-color: #00af00\">13</span>)             │           <span style=\"color: #00af00; text-decoration-color: #00af00\">845</span> │\n",
       "└─────────────────────────────────┴────────────────────────┴───────────────┘\n",
       "</pre>\n"
      ],
      "text/plain": [
       "┏━━━━━━━━━━━━━━━━━━━━━━━━━━━━━━━━━┳━━━━━━━━━━━━━━━━━━━━━━━━┳━━━━━━━━━━━━━━━┓\n",
       "┃\u001b[1m \u001b[0m\u001b[1mLayer (type)                   \u001b[0m\u001b[1m \u001b[0m┃\u001b[1m \u001b[0m\u001b[1mOutput Shape          \u001b[0m\u001b[1m \u001b[0m┃\u001b[1m \u001b[0m\u001b[1m      Param #\u001b[0m\u001b[1m \u001b[0m┃\n",
       "┡━━━━━━━━━━━━━━━━━━━━━━━━━━━━━━━━━╇━━━━━━━━━━━━━━━━━━━━━━━━╇━━━━━━━━━━━━━━━┩\n",
       "│ embedding_26 (\u001b[38;5;33mEmbedding\u001b[0m)        │ (\u001b[38;5;45mNone\u001b[0m, \u001b[38;5;34m18\u001b[0m, \u001b[38;5;34m200\u001b[0m)        │     \u001b[38;5;34m5,182,600\u001b[0m │\n",
       "├─────────────────────────────────┼────────────────────────┼───────────────┤\n",
       "│ bidirectional_44                │ (\u001b[38;5;45mNone\u001b[0m, \u001b[38;5;34m18\u001b[0m, \u001b[38;5;34m256\u001b[0m)        │       \u001b[38;5;34m253,440\u001b[0m │\n",
       "│ (\u001b[38;5;33mBidirectional\u001b[0m)                 │                        │               │\n",
       "├─────────────────────────────────┼────────────────────────┼───────────────┤\n",
       "│ bidirectional_45                │ (\u001b[38;5;45mNone\u001b[0m, \u001b[38;5;34m18\u001b[0m, \u001b[38;5;34m128\u001b[0m)        │       \u001b[38;5;34m123,648\u001b[0m │\n",
       "│ (\u001b[38;5;33mBidirectional\u001b[0m)                 │                        │               │\n",
       "├─────────────────────────────────┼────────────────────────┼───────────────┤\n",
       "│ dropout_52 (\u001b[38;5;33mDropout\u001b[0m)            │ (\u001b[38;5;45mNone\u001b[0m, \u001b[38;5;34m18\u001b[0m, \u001b[38;5;34m128\u001b[0m)        │             \u001b[38;5;34m0\u001b[0m │\n",
       "├─────────────────────────────────┼────────────────────────┼───────────────┤\n",
       "│ flatten_25 (\u001b[38;5;33mFlatten\u001b[0m)            │ (\u001b[38;5;45mNone\u001b[0m, \u001b[38;5;34m2304\u001b[0m)           │             \u001b[38;5;34m0\u001b[0m │\n",
       "├─────────────────────────────────┼────────────────────────┼───────────────┤\n",
       "│ dense_67 (\u001b[38;5;33mDense\u001b[0m)                │ (\u001b[38;5;45mNone\u001b[0m, \u001b[38;5;34m128\u001b[0m)            │       \u001b[38;5;34m295,040\u001b[0m │\n",
       "├─────────────────────────────────┼────────────────────────┼───────────────┤\n",
       "│ leaky_re_lu_36 (\u001b[38;5;33mLeakyReLU\u001b[0m)      │ (\u001b[38;5;45mNone\u001b[0m, \u001b[38;5;34m128\u001b[0m)            │             \u001b[38;5;34m0\u001b[0m │\n",
       "├─────────────────────────────────┼────────────────────────┼───────────────┤\n",
       "│ layer_normalization_54          │ (\u001b[38;5;45mNone\u001b[0m, \u001b[38;5;34m128\u001b[0m)            │           \u001b[38;5;34m256\u001b[0m │\n",
       "│ (\u001b[38;5;33mLayerNormalization\u001b[0m)            │                        │               │\n",
       "├─────────────────────────────────┼────────────────────────┼───────────────┤\n",
       "│ dropout_53 (\u001b[38;5;33mDropout\u001b[0m)            │ (\u001b[38;5;45mNone\u001b[0m, \u001b[38;5;34m128\u001b[0m)            │             \u001b[38;5;34m0\u001b[0m │\n",
       "├─────────────────────────────────┼────────────────────────┼───────────────┤\n",
       "│ dense_68 (\u001b[38;5;33mDense\u001b[0m)                │ (\u001b[38;5;45mNone\u001b[0m, \u001b[38;5;34m64\u001b[0m)             │         \u001b[38;5;34m8,256\u001b[0m │\n",
       "├─────────────────────────────────┼────────────────────────┼───────────────┤\n",
       "│ leaky_re_lu_37 (\u001b[38;5;33mLeakyReLU\u001b[0m)      │ (\u001b[38;5;45mNone\u001b[0m, \u001b[38;5;34m64\u001b[0m)             │             \u001b[38;5;34m0\u001b[0m │\n",
       "├─────────────────────────────────┼────────────────────────┼───────────────┤\n",
       "│ layer_normalization_55          │ (\u001b[38;5;45mNone\u001b[0m, \u001b[38;5;34m64\u001b[0m)             │           \u001b[38;5;34m128\u001b[0m │\n",
       "│ (\u001b[38;5;33mLayerNormalization\u001b[0m)            │                        │               │\n",
       "├─────────────────────────────────┼────────────────────────┼───────────────┤\n",
       "│ dropout_54 (\u001b[38;5;33mDropout\u001b[0m)            │ (\u001b[38;5;45mNone\u001b[0m, \u001b[38;5;34m64\u001b[0m)             │             \u001b[38;5;34m0\u001b[0m │\n",
       "├─────────────────────────────────┼────────────────────────┼───────────────┤\n",
       "│ dense_69 (\u001b[38;5;33mDense\u001b[0m)                │ (\u001b[38;5;45mNone\u001b[0m, \u001b[38;5;34m13\u001b[0m)             │           \u001b[38;5;34m845\u001b[0m │\n",
       "└─────────────────────────────────┴────────────────────────┴───────────────┘\n"
      ]
     },
     "metadata": {},
     "output_type": "display_data"
    },
    {
     "data": {
      "text/html": [
       "<pre style=\"white-space:pre;overflow-x:auto;line-height:normal;font-family:Menlo,'DejaVu Sans Mono',consolas,'Courier New',monospace\"><span style=\"font-weight: bold\"> Total params: </span><span style=\"color: #00af00; text-decoration-color: #00af00\">7,227,441</span> (27.57 MB)\n",
       "</pre>\n"
      ],
      "text/plain": [
       "\u001b[1m Total params: \u001b[0m\u001b[38;5;34m7,227,441\u001b[0m (27.57 MB)\n"
      ]
     },
     "metadata": {},
     "output_type": "display_data"
    },
    {
     "data": {
      "text/html": [
       "<pre style=\"white-space:pre;overflow-x:auto;line-height:normal;font-family:Menlo,'DejaVu Sans Mono',consolas,'Courier New',monospace\"><span style=\"font-weight: bold\"> Trainable params: </span><span style=\"color: #00af00; text-decoration-color: #00af00\">681,613</span> (2.60 MB)\n",
       "</pre>\n"
      ],
      "text/plain": [
       "\u001b[1m Trainable params: \u001b[0m\u001b[38;5;34m681,613\u001b[0m (2.60 MB)\n"
      ]
     },
     "metadata": {},
     "output_type": "display_data"
    },
    {
     "data": {
      "text/html": [
       "<pre style=\"white-space:pre;overflow-x:auto;line-height:normal;font-family:Menlo,'DejaVu Sans Mono',consolas,'Courier New',monospace\"><span style=\"font-weight: bold\"> Non-trainable params: </span><span style=\"color: #00af00; text-decoration-color: #00af00\">5,182,600</span> (19.77 MB)\n",
       "</pre>\n"
      ],
      "text/plain": [
       "\u001b[1m Non-trainable params: \u001b[0m\u001b[38;5;34m5,182,600\u001b[0m (19.77 MB)\n"
      ]
     },
     "metadata": {},
     "output_type": "display_data"
    },
    {
     "data": {
      "text/html": [
       "<pre style=\"white-space:pre;overflow-x:auto;line-height:normal;font-family:Menlo,'DejaVu Sans Mono',consolas,'Courier New',monospace\"><span style=\"font-weight: bold\"> Optimizer params: </span><span style=\"color: #00af00; text-decoration-color: #00af00\">1,363,228</span> (5.20 MB)\n",
       "</pre>\n"
      ],
      "text/plain": [
       "\u001b[1m Optimizer params: \u001b[0m\u001b[38;5;34m1,363,228\u001b[0m (5.20 MB)\n"
      ]
     },
     "metadata": {},
     "output_type": "display_data"
    }
   ],
   "source": [
    "model.summary()"
   ]
  },
  {
   "cell_type": "code",
   "execution_count": 1036,
   "metadata": {},
   "outputs": [],
   "source": [
    "x_testt = tokenizer.texts_to_sequences(x_test.tolist())\n",
    "x_testt = np.array(x_testt)"
   ]
  },
  {
   "cell_type": "code",
   "execution_count": 1037,
   "metadata": {},
   "outputs": [
    {
     "name": "stdout",
     "output_type": "stream",
     "text": [
      "\u001b[1m245/245\u001b[0m \u001b[32m━━━━━━━━━━━━━━━━━━━━\u001b[0m\u001b[37m\u001b[0m \u001b[1m9s\u001b[0m 25ms/step\n"
     ]
    }
   ],
   "source": [
    "# now evaluate on y_test (unseen data) (metrics: accuracy,precision,recall,f1-score)\n",
    "from sklearn.metrics import accuracy_score,precision_score,recall_score,f1_score\n",
    "\n",
    "y_pred = model.predict(x_testt)"
   ]
  },
  {
   "cell_type": "code",
   "execution_count": 1038,
   "metadata": {},
   "outputs": [],
   "source": [
    "y_pred = np.argmax(y_pred,axis=1)\n",
    "y_test = np.argmax(y_test_hot,axis=1)"
   ]
  },
  {
   "cell_type": "code",
   "execution_count": 1039,
   "metadata": {},
   "outputs": [
    {
     "name": "stderr",
     "output_type": "stream",
     "text": [
      "c:\\Users\\vivek\\AppData\\Local\\Programs\\Python\\Python311\\Lib\\site-packages\\sklearn\\metrics\\_classification.py:1531: UndefinedMetricWarning: Recall is ill-defined and being set to 0.0 in labels with no true samples. Use `zero_division` parameter to control this behavior.\n",
      "  _warn_prf(average, modifier, f\"{metric.capitalize()} is\", len(result))\n"
     ]
    }
   ],
   "source": [
    "acc = accuracy_score(y_pred,y_test)\n",
    "precision = precision_score(y_pred,y_test, average='macro')\n",
    "recall = recall_score(y_pred,y_test, average='macro')\n",
    "f1 = f1_score(y_pred,y_test,average='macro')"
   ]
  },
  {
   "cell_type": "code",
   "execution_count": 1041,
   "metadata": {},
   "outputs": [
    {
     "data": {
      "text/plain": [
       "(0.282202304737516,\n",
       " 0.13480743271326362,\n",
       " 0.1301121519070985,\n",
       " 0.1227379520763602)"
      ]
     },
     "execution_count": 1041,
     "metadata": {},
     "output_type": "execute_result"
    }
   ],
   "source": [
    "acc,precision,recall,f1"
   ]
  },
  {
   "cell_type": "code",
   "execution_count": null,
   "metadata": {},
   "outputs": [],
   "source": []
  }
 ],
 "metadata": {
  "kernelspec": {
   "display_name": "Python 3",
   "language": "python",
   "name": "python3"
  },
  "language_info": {
   "codemirror_mode": {
    "name": "ipython",
    "version": 3
   },
   "file_extension": ".py",
   "mimetype": "text/x-python",
   "name": "python",
   "nbconvert_exporter": "python",
   "pygments_lexer": "ipython3",
   "version": "3.11.9"
  }
 },
 "nbformat": 4,
 "nbformat_minor": 2
}
