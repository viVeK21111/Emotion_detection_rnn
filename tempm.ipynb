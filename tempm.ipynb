{
 "cells": [
  {
   "cell_type": "code",
   "execution_count": 385,
   "metadata": {},
   "outputs": [],
   "source": [
    "import matplotlib.pyplot as plt\n",
    "import pandas as pd\n",
    "import seaborn as sns\n",
    "import numpy as np\n",
    "import re\n",
    "import json"
   ]
  },
  {
   "cell_type": "code",
   "execution_count": 386,
   "metadata": {},
   "outputs": [],
   "source": [
    "with open('li2.json','r') as fp:\n",
    "    li2 = json.load(fp)"
   ]
  },
  {
   "cell_type": "code",
   "execution_count": 387,
   "metadata": {},
   "outputs": [],
   "source": [
    "#li2 is tokenized and cleaned version of words of the sentences"
   ]
  },
  {
   "cell_type": "code",
   "execution_count": 388,
   "metadata": {},
   "outputs": [
    {
     "data": {
      "text/plain": [
       "['<name>',\n",
       " 'know',\n",
       " 'listenin',\n",
       " 'bad',\n",
       " 'habit',\n",
       " 'earlier',\n",
       " 'start',\n",
       " 'freakin',\n",
       " 'part']"
      ]
     },
     "execution_count": 388,
     "metadata": {},
     "output_type": "execute_result"
    }
   ],
   "source": [
    "li2[0]"
   ]
  },
  {
   "cell_type": "code",
   "execution_count": 389,
   "metadata": {},
   "outputs": [
    {
     "data": {
      "text/html": [
       "<div>\n",
       "<style scoped>\n",
       "    .dataframe tbody tr th:only-of-type {\n",
       "        vertical-align: middle;\n",
       "    }\n",
       "\n",
       "    .dataframe tbody tr th {\n",
       "        vertical-align: top;\n",
       "    }\n",
       "\n",
       "    .dataframe thead th {\n",
       "        text-align: right;\n",
       "    }\n",
       "</style>\n",
       "<table border=\"1\" class=\"dataframe\">\n",
       "  <thead>\n",
       "    <tr style=\"text-align: right;\">\n",
       "      <th></th>\n",
       "      <th>0</th>\n",
       "      <th>1</th>\n",
       "      <th>2</th>\n",
       "      <th>3</th>\n",
       "      <th>4</th>\n",
       "      <th>5</th>\n",
       "      <th>6</th>\n",
       "      <th>7</th>\n",
       "      <th>8</th>\n",
       "      <th>9</th>\n",
       "      <th>...</th>\n",
       "      <th>18</th>\n",
       "      <th>19</th>\n",
       "      <th>20</th>\n",
       "      <th>21</th>\n",
       "      <th>22</th>\n",
       "      <th>23</th>\n",
       "      <th>24</th>\n",
       "      <th>25</th>\n",
       "      <th>26</th>\n",
       "      <th>emotion</th>\n",
       "    </tr>\n",
       "  </thead>\n",
       "  <tbody>\n",
       "    <tr>\n",
       "      <th>0</th>\n",
       "      <td>&lt;name&gt;</td>\n",
       "      <td>know</td>\n",
       "      <td>listenin</td>\n",
       "      <td>bad</td>\n",
       "      <td>habit</td>\n",
       "      <td>earlier</td>\n",
       "      <td>start</td>\n",
       "      <td>freakin</td>\n",
       "      <td>part</td>\n",
       "      <td>None</td>\n",
       "      <td>...</td>\n",
       "      <td>None</td>\n",
       "      <td>None</td>\n",
       "      <td>None</td>\n",
       "      <td>None</td>\n",
       "      <td>None</td>\n",
       "      <td>None</td>\n",
       "      <td>None</td>\n",
       "      <td>None</td>\n",
       "      <td>None</td>\n",
       "      <td>empty</td>\n",
       "    </tr>\n",
       "    <tr>\n",
       "      <th>1</th>\n",
       "      <td>layin</td>\n",
       "      <td>n</td>\n",
       "      <td>bed</td>\n",
       "      <td>headache</td>\n",
       "      <td>ugh</td>\n",
       "      <td>waitin</td>\n",
       "      <td>cal</td>\n",
       "      <td>None</td>\n",
       "      <td>None</td>\n",
       "      <td>None</td>\n",
       "      <td>...</td>\n",
       "      <td>None</td>\n",
       "      <td>None</td>\n",
       "      <td>None</td>\n",
       "      <td>None</td>\n",
       "      <td>None</td>\n",
       "      <td>None</td>\n",
       "      <td>None</td>\n",
       "      <td>None</td>\n",
       "      <td>None</td>\n",
       "      <td>sadness</td>\n",
       "    </tr>\n",
       "    <tr>\n",
       "      <th>2</th>\n",
       "      <td>funeral</td>\n",
       "      <td>ceremony</td>\n",
       "      <td>glomy</td>\n",
       "      <td>friday</td>\n",
       "      <td>None</td>\n",
       "      <td>None</td>\n",
       "      <td>None</td>\n",
       "      <td>None</td>\n",
       "      <td>None</td>\n",
       "      <td>None</td>\n",
       "      <td>...</td>\n",
       "      <td>None</td>\n",
       "      <td>None</td>\n",
       "      <td>None</td>\n",
       "      <td>None</td>\n",
       "      <td>None</td>\n",
       "      <td>None</td>\n",
       "      <td>None</td>\n",
       "      <td>None</td>\n",
       "      <td>None</td>\n",
       "      <td>sadness</td>\n",
       "    </tr>\n",
       "    <tr>\n",
       "      <th>3</th>\n",
       "      <td>want</td>\n",
       "      <td>hang</td>\n",
       "      <td>friend</td>\n",
       "      <td>son</td>\n",
       "      <td>None</td>\n",
       "      <td>None</td>\n",
       "      <td>None</td>\n",
       "      <td>None</td>\n",
       "      <td>None</td>\n",
       "      <td>None</td>\n",
       "      <td>...</td>\n",
       "      <td>None</td>\n",
       "      <td>None</td>\n",
       "      <td>None</td>\n",
       "      <td>None</td>\n",
       "      <td>None</td>\n",
       "      <td>None</td>\n",
       "      <td>None</td>\n",
       "      <td>None</td>\n",
       "      <td>None</td>\n",
       "      <td>enthusiasm</td>\n",
       "    </tr>\n",
       "    <tr>\n",
       "      <th>4</th>\n",
       "      <td>&lt;name&gt;</td>\n",
       "      <td>want</td>\n",
       "      <td>trade</td>\n",
       "      <td>someone</td>\n",
       "      <td>houston</td>\n",
       "      <td>ticket</td>\n",
       "      <td>one</td>\n",
       "      <td>wil</td>\n",
       "      <td>None</td>\n",
       "      <td>None</td>\n",
       "      <td>...</td>\n",
       "      <td>None</td>\n",
       "      <td>None</td>\n",
       "      <td>None</td>\n",
       "      <td>None</td>\n",
       "      <td>None</td>\n",
       "      <td>None</td>\n",
       "      <td>None</td>\n",
       "      <td>None</td>\n",
       "      <td>None</td>\n",
       "      <td>neutral</td>\n",
       "    </tr>\n",
       "    <tr>\n",
       "      <th>...</th>\n",
       "      <td>...</td>\n",
       "      <td>...</td>\n",
       "      <td>...</td>\n",
       "      <td>...</td>\n",
       "      <td>...</td>\n",
       "      <td>...</td>\n",
       "      <td>...</td>\n",
       "      <td>...</td>\n",
       "      <td>...</td>\n",
       "      <td>...</td>\n",
       "      <td>...</td>\n",
       "      <td>...</td>\n",
       "      <td>...</td>\n",
       "      <td>...</td>\n",
       "      <td>...</td>\n",
       "      <td>...</td>\n",
       "      <td>...</td>\n",
       "      <td>...</td>\n",
       "      <td>...</td>\n",
       "      <td>...</td>\n",
       "      <td>...</td>\n",
       "    </tr>\n",
       "    <tr>\n",
       "      <th>39995</th>\n",
       "      <td>&lt;name&gt;</td>\n",
       "      <td>None</td>\n",
       "      <td>None</td>\n",
       "      <td>None</td>\n",
       "      <td>None</td>\n",
       "      <td>None</td>\n",
       "      <td>None</td>\n",
       "      <td>None</td>\n",
       "      <td>None</td>\n",
       "      <td>None</td>\n",
       "      <td>...</td>\n",
       "      <td>None</td>\n",
       "      <td>None</td>\n",
       "      <td>None</td>\n",
       "      <td>None</td>\n",
       "      <td>None</td>\n",
       "      <td>None</td>\n",
       "      <td>None</td>\n",
       "      <td>None</td>\n",
       "      <td>None</td>\n",
       "      <td>neutral</td>\n",
       "    </tr>\n",
       "    <tr>\n",
       "      <th>39996</th>\n",
       "      <td>hapy</td>\n",
       "      <td>mother</td>\n",
       "      <td>day</td>\n",
       "      <td>al</td>\n",
       "      <td>love</td>\n",
       "      <td>None</td>\n",
       "      <td>None</td>\n",
       "      <td>None</td>\n",
       "      <td>None</td>\n",
       "      <td>None</td>\n",
       "      <td>...</td>\n",
       "      <td>None</td>\n",
       "      <td>None</td>\n",
       "      <td>None</td>\n",
       "      <td>None</td>\n",
       "      <td>None</td>\n",
       "      <td>None</td>\n",
       "      <td>None</td>\n",
       "      <td>None</td>\n",
       "      <td>None</td>\n",
       "      <td>love</td>\n",
       "    </tr>\n",
       "    <tr>\n",
       "      <th>39997</th>\n",
       "      <td>hapy</td>\n",
       "      <td>mother's</td>\n",
       "      <td>day</td>\n",
       "      <td>al</td>\n",
       "      <td>momies</td>\n",
       "      <td>woman</td>\n",
       "      <td>man</td>\n",
       "      <td>long</td>\n",
       "      <td>moma</td>\n",
       "      <td>someone</td>\n",
       "      <td>...</td>\n",
       "      <td>None</td>\n",
       "      <td>None</td>\n",
       "      <td>None</td>\n",
       "      <td>None</td>\n",
       "      <td>None</td>\n",
       "      <td>None</td>\n",
       "      <td>None</td>\n",
       "      <td>None</td>\n",
       "      <td>None</td>\n",
       "      <td>love</td>\n",
       "    </tr>\n",
       "    <tr>\n",
       "      <th>39998</th>\n",
       "      <td>&lt;name&gt;</td>\n",
       "      <td>wasup</td>\n",
       "      <td>beautiful</td>\n",
       "      <td>folow</td>\n",
       "      <td>pep</td>\n",
       "      <td>new</td>\n",
       "      <td>hit</td>\n",
       "      <td>single</td>\n",
       "      <td>w</td>\n",
       "      <td>myspace</td>\n",
       "      <td>...</td>\n",
       "      <td>None</td>\n",
       "      <td>None</td>\n",
       "      <td>None</td>\n",
       "      <td>None</td>\n",
       "      <td>None</td>\n",
       "      <td>None</td>\n",
       "      <td>None</td>\n",
       "      <td>None</td>\n",
       "      <td>None</td>\n",
       "      <td>happiness</td>\n",
       "    </tr>\n",
       "    <tr>\n",
       "      <th>39999</th>\n",
       "      <td>&lt;name&gt;</td>\n",
       "      <td>bulet</td>\n",
       "      <td>train</td>\n",
       "      <td>tokyo</td>\n",
       "      <td>gf</td>\n",
       "      <td>ben</td>\n",
       "      <td>visit</td>\n",
       "      <td>japan</td>\n",
       "      <td>since</td>\n",
       "      <td>thursday</td>\n",
       "      <td>...</td>\n",
       "      <td>None</td>\n",
       "      <td>None</td>\n",
       "      <td>None</td>\n",
       "      <td>None</td>\n",
       "      <td>None</td>\n",
       "      <td>None</td>\n",
       "      <td>None</td>\n",
       "      <td>None</td>\n",
       "      <td>None</td>\n",
       "      <td>love</td>\n",
       "    </tr>\n",
       "  </tbody>\n",
       "</table>\n",
       "<p>40000 rows × 28 columns</p>\n",
       "</div>"
      ],
      "text/plain": [
       "             0         1          2         3        4        5      6  \\\n",
       "0       <name>      know   listenin       bad    habit  earlier  start   \n",
       "1        layin         n        bed  headache      ugh   waitin    cal   \n",
       "2      funeral  ceremony      glomy    friday     None     None   None   \n",
       "3         want      hang     friend       son     None     None   None   \n",
       "4       <name>      want      trade   someone  houston   ticket    one   \n",
       "...        ...       ...        ...       ...      ...      ...    ...   \n",
       "39995   <name>      None       None      None     None     None   None   \n",
       "39996     hapy    mother        day        al     love     None   None   \n",
       "39997     hapy  mother's        day        al   momies    woman    man   \n",
       "39998   <name>     wasup  beautiful     folow      pep      new    hit   \n",
       "39999   <name>     bulet      train     tokyo       gf      ben  visit   \n",
       "\n",
       "             7      8         9  ...    18    19    20    21    22    23  \\\n",
       "0      freakin   part      None  ...  None  None  None  None  None  None   \n",
       "1         None   None      None  ...  None  None  None  None  None  None   \n",
       "2         None   None      None  ...  None  None  None  None  None  None   \n",
       "3         None   None      None  ...  None  None  None  None  None  None   \n",
       "4          wil   None      None  ...  None  None  None  None  None  None   \n",
       "...        ...    ...       ...  ...   ...   ...   ...   ...   ...   ...   \n",
       "39995     None   None      None  ...  None  None  None  None  None  None   \n",
       "39996     None   None      None  ...  None  None  None  None  None  None   \n",
       "39997     long   moma   someone  ...  None  None  None  None  None  None   \n",
       "39998   single      w   myspace  ...  None  None  None  None  None  None   \n",
       "39999    japan  since  thursday  ...  None  None  None  None  None  None   \n",
       "\n",
       "         24    25    26     emotion  \n",
       "0      None  None  None       empty  \n",
       "1      None  None  None     sadness  \n",
       "2      None  None  None     sadness  \n",
       "3      None  None  None  enthusiasm  \n",
       "4      None  None  None     neutral  \n",
       "...     ...   ...   ...         ...  \n",
       "39995  None  None  None     neutral  \n",
       "39996  None  None  None        love  \n",
       "39997  None  None  None        love  \n",
       "39998  None  None  None   happiness  \n",
       "39999  None  None  None        love  \n",
       "\n",
       "[40000 rows x 28 columns]"
      ]
     },
     "execution_count": 389,
     "metadata": {},
     "output_type": "execute_result"
    }
   ],
   "source": [
    "oo = pd.DataFrame(li2)\n",
    "df = pd.read_csv('data/tweet_emotions.csv')\n",
    "oo['emotion']=df['sentiment']\n",
    "oo"
   ]
  },
  {
   "cell_type": "code",
   "execution_count": 390,
   "metadata": {},
   "outputs": [
    {
     "data": {
      "text/html": [
       "<div>\n",
       "<style scoped>\n",
       "    .dataframe tbody tr th:only-of-type {\n",
       "        vertical-align: middle;\n",
       "    }\n",
       "\n",
       "    .dataframe tbody tr th {\n",
       "        vertical-align: top;\n",
       "    }\n",
       "\n",
       "    .dataframe thead th {\n",
       "        text-align: right;\n",
       "    }\n",
       "</style>\n",
       "<table border=\"1\" class=\"dataframe\">\n",
       "  <thead>\n",
       "    <tr style=\"text-align: right;\">\n",
       "      <th></th>\n",
       "      <th>0</th>\n",
       "      <th>1</th>\n",
       "      <th>2</th>\n",
       "      <th>3</th>\n",
       "      <th>4</th>\n",
       "      <th>5</th>\n",
       "      <th>6</th>\n",
       "      <th>7</th>\n",
       "      <th>8</th>\n",
       "      <th>9</th>\n",
       "      <th>...</th>\n",
       "      <th>18</th>\n",
       "      <th>19</th>\n",
       "      <th>20</th>\n",
       "      <th>21</th>\n",
       "      <th>22</th>\n",
       "      <th>23</th>\n",
       "      <th>24</th>\n",
       "      <th>25</th>\n",
       "      <th>26</th>\n",
       "      <th>emotion</th>\n",
       "    </tr>\n",
       "  </thead>\n",
       "  <tbody>\n",
       "    <tr>\n",
       "      <th>0</th>\n",
       "      <td>&lt;name&gt;</td>\n",
       "      <td>know</td>\n",
       "      <td>listenin</td>\n",
       "      <td>bad</td>\n",
       "      <td>habit</td>\n",
       "      <td>earlier</td>\n",
       "      <td>start</td>\n",
       "      <td>freakin</td>\n",
       "      <td>part</td>\n",
       "      <td>None</td>\n",
       "      <td>...</td>\n",
       "      <td>None</td>\n",
       "      <td>None</td>\n",
       "      <td>None</td>\n",
       "      <td>None</td>\n",
       "      <td>None</td>\n",
       "      <td>None</td>\n",
       "      <td>None</td>\n",
       "      <td>None</td>\n",
       "      <td>None</td>\n",
       "      <td>empty</td>\n",
       "    </tr>\n",
       "    <tr>\n",
       "      <th>1</th>\n",
       "      <td>layin</td>\n",
       "      <td>n</td>\n",
       "      <td>bed</td>\n",
       "      <td>headache</td>\n",
       "      <td>ugh</td>\n",
       "      <td>waitin</td>\n",
       "      <td>cal</td>\n",
       "      <td>None</td>\n",
       "      <td>None</td>\n",
       "      <td>None</td>\n",
       "      <td>...</td>\n",
       "      <td>None</td>\n",
       "      <td>None</td>\n",
       "      <td>None</td>\n",
       "      <td>None</td>\n",
       "      <td>None</td>\n",
       "      <td>None</td>\n",
       "      <td>None</td>\n",
       "      <td>None</td>\n",
       "      <td>None</td>\n",
       "      <td>sadness</td>\n",
       "    </tr>\n",
       "    <tr>\n",
       "      <th>2</th>\n",
       "      <td>funeral</td>\n",
       "      <td>ceremony</td>\n",
       "      <td>glomy</td>\n",
       "      <td>friday</td>\n",
       "      <td>None</td>\n",
       "      <td>None</td>\n",
       "      <td>None</td>\n",
       "      <td>None</td>\n",
       "      <td>None</td>\n",
       "      <td>None</td>\n",
       "      <td>...</td>\n",
       "      <td>None</td>\n",
       "      <td>None</td>\n",
       "      <td>None</td>\n",
       "      <td>None</td>\n",
       "      <td>None</td>\n",
       "      <td>None</td>\n",
       "      <td>None</td>\n",
       "      <td>None</td>\n",
       "      <td>None</td>\n",
       "      <td>sadness</td>\n",
       "    </tr>\n",
       "    <tr>\n",
       "      <th>3</th>\n",
       "      <td>want</td>\n",
       "      <td>hang</td>\n",
       "      <td>friend</td>\n",
       "      <td>son</td>\n",
       "      <td>None</td>\n",
       "      <td>None</td>\n",
       "      <td>None</td>\n",
       "      <td>None</td>\n",
       "      <td>None</td>\n",
       "      <td>None</td>\n",
       "      <td>...</td>\n",
       "      <td>None</td>\n",
       "      <td>None</td>\n",
       "      <td>None</td>\n",
       "      <td>None</td>\n",
       "      <td>None</td>\n",
       "      <td>None</td>\n",
       "      <td>None</td>\n",
       "      <td>None</td>\n",
       "      <td>None</td>\n",
       "      <td>enthusiasm</td>\n",
       "    </tr>\n",
       "    <tr>\n",
       "      <th>4</th>\n",
       "      <td>&lt;name&gt;</td>\n",
       "      <td>want</td>\n",
       "      <td>trade</td>\n",
       "      <td>someone</td>\n",
       "      <td>houston</td>\n",
       "      <td>ticket</td>\n",
       "      <td>one</td>\n",
       "      <td>wil</td>\n",
       "      <td>None</td>\n",
       "      <td>None</td>\n",
       "      <td>...</td>\n",
       "      <td>None</td>\n",
       "      <td>None</td>\n",
       "      <td>None</td>\n",
       "      <td>None</td>\n",
       "      <td>None</td>\n",
       "      <td>None</td>\n",
       "      <td>None</td>\n",
       "      <td>None</td>\n",
       "      <td>None</td>\n",
       "      <td>neutral</td>\n",
       "    </tr>\n",
       "    <tr>\n",
       "      <th>...</th>\n",
       "      <td>...</td>\n",
       "      <td>...</td>\n",
       "      <td>...</td>\n",
       "      <td>...</td>\n",
       "      <td>...</td>\n",
       "      <td>...</td>\n",
       "      <td>...</td>\n",
       "      <td>...</td>\n",
       "      <td>...</td>\n",
       "      <td>...</td>\n",
       "      <td>...</td>\n",
       "      <td>...</td>\n",
       "      <td>...</td>\n",
       "      <td>...</td>\n",
       "      <td>...</td>\n",
       "      <td>...</td>\n",
       "      <td>...</td>\n",
       "      <td>...</td>\n",
       "      <td>...</td>\n",
       "      <td>...</td>\n",
       "      <td>...</td>\n",
       "    </tr>\n",
       "    <tr>\n",
       "      <th>39994</th>\n",
       "      <td>sucesfuly</td>\n",
       "      <td>folowing</td>\n",
       "      <td>tayla</td>\n",
       "      <td>None</td>\n",
       "      <td>None</td>\n",
       "      <td>None</td>\n",
       "      <td>None</td>\n",
       "      <td>None</td>\n",
       "      <td>None</td>\n",
       "      <td>None</td>\n",
       "      <td>...</td>\n",
       "      <td>None</td>\n",
       "      <td>None</td>\n",
       "      <td>None</td>\n",
       "      <td>None</td>\n",
       "      <td>None</td>\n",
       "      <td>None</td>\n",
       "      <td>None</td>\n",
       "      <td>None</td>\n",
       "      <td>None</td>\n",
       "      <td>happiness</td>\n",
       "    </tr>\n",
       "    <tr>\n",
       "      <th>39996</th>\n",
       "      <td>hapy</td>\n",
       "      <td>mother</td>\n",
       "      <td>day</td>\n",
       "      <td>al</td>\n",
       "      <td>love</td>\n",
       "      <td>None</td>\n",
       "      <td>None</td>\n",
       "      <td>None</td>\n",
       "      <td>None</td>\n",
       "      <td>None</td>\n",
       "      <td>...</td>\n",
       "      <td>None</td>\n",
       "      <td>None</td>\n",
       "      <td>None</td>\n",
       "      <td>None</td>\n",
       "      <td>None</td>\n",
       "      <td>None</td>\n",
       "      <td>None</td>\n",
       "      <td>None</td>\n",
       "      <td>None</td>\n",
       "      <td>love</td>\n",
       "    </tr>\n",
       "    <tr>\n",
       "      <th>39997</th>\n",
       "      <td>hapy</td>\n",
       "      <td>mother's</td>\n",
       "      <td>day</td>\n",
       "      <td>al</td>\n",
       "      <td>momies</td>\n",
       "      <td>woman</td>\n",
       "      <td>man</td>\n",
       "      <td>long</td>\n",
       "      <td>moma</td>\n",
       "      <td>someone</td>\n",
       "      <td>...</td>\n",
       "      <td>None</td>\n",
       "      <td>None</td>\n",
       "      <td>None</td>\n",
       "      <td>None</td>\n",
       "      <td>None</td>\n",
       "      <td>None</td>\n",
       "      <td>None</td>\n",
       "      <td>None</td>\n",
       "      <td>None</td>\n",
       "      <td>love</td>\n",
       "    </tr>\n",
       "    <tr>\n",
       "      <th>39998</th>\n",
       "      <td>&lt;name&gt;</td>\n",
       "      <td>wasup</td>\n",
       "      <td>beautiful</td>\n",
       "      <td>folow</td>\n",
       "      <td>pep</td>\n",
       "      <td>new</td>\n",
       "      <td>hit</td>\n",
       "      <td>single</td>\n",
       "      <td>w</td>\n",
       "      <td>myspace</td>\n",
       "      <td>...</td>\n",
       "      <td>None</td>\n",
       "      <td>None</td>\n",
       "      <td>None</td>\n",
       "      <td>None</td>\n",
       "      <td>None</td>\n",
       "      <td>None</td>\n",
       "      <td>None</td>\n",
       "      <td>None</td>\n",
       "      <td>None</td>\n",
       "      <td>happiness</td>\n",
       "    </tr>\n",
       "    <tr>\n",
       "      <th>39999</th>\n",
       "      <td>&lt;name&gt;</td>\n",
       "      <td>bulet</td>\n",
       "      <td>train</td>\n",
       "      <td>tokyo</td>\n",
       "      <td>gf</td>\n",
       "      <td>ben</td>\n",
       "      <td>visit</td>\n",
       "      <td>japan</td>\n",
       "      <td>since</td>\n",
       "      <td>thursday</td>\n",
       "      <td>...</td>\n",
       "      <td>None</td>\n",
       "      <td>None</td>\n",
       "      <td>None</td>\n",
       "      <td>None</td>\n",
       "      <td>None</td>\n",
       "      <td>None</td>\n",
       "      <td>None</td>\n",
       "      <td>None</td>\n",
       "      <td>None</td>\n",
       "      <td>love</td>\n",
       "    </tr>\n",
       "  </tbody>\n",
       "</table>\n",
       "<p>39049 rows × 28 columns</p>\n",
       "</div>"
      ],
      "text/plain": [
       "               0         1          2         3        4        5      6  \\\n",
       "0         <name>      know   listenin       bad    habit  earlier  start   \n",
       "1          layin         n        bed  headache      ugh   waitin    cal   \n",
       "2        funeral  ceremony      glomy    friday     None     None   None   \n",
       "3           want      hang     friend       son     None     None   None   \n",
       "4         <name>      want      trade   someone  houston   ticket    one   \n",
       "...          ...       ...        ...       ...      ...      ...    ...   \n",
       "39994  sucesfuly  folowing      tayla      None     None     None   None   \n",
       "39996       hapy    mother        day        al     love     None   None   \n",
       "39997       hapy  mother's        day        al   momies    woman    man   \n",
       "39998     <name>     wasup  beautiful     folow      pep      new    hit   \n",
       "39999     <name>     bulet      train     tokyo       gf      ben  visit   \n",
       "\n",
       "             7      8         9  ...    18    19    20    21    22    23  \\\n",
       "0      freakin   part      None  ...  None  None  None  None  None  None   \n",
       "1         None   None      None  ...  None  None  None  None  None  None   \n",
       "2         None   None      None  ...  None  None  None  None  None  None   \n",
       "3         None   None      None  ...  None  None  None  None  None  None   \n",
       "4          wil   None      None  ...  None  None  None  None  None  None   \n",
       "...        ...    ...       ...  ...   ...   ...   ...   ...   ...   ...   \n",
       "39994     None   None      None  ...  None  None  None  None  None  None   \n",
       "39996     None   None      None  ...  None  None  None  None  None  None   \n",
       "39997     long   moma   someone  ...  None  None  None  None  None  None   \n",
       "39998   single      w   myspace  ...  None  None  None  None  None  None   \n",
       "39999    japan  since  thursday  ...  None  None  None  None  None  None   \n",
       "\n",
       "         24    25    26     emotion  \n",
       "0      None  None  None       empty  \n",
       "1      None  None  None     sadness  \n",
       "2      None  None  None     sadness  \n",
       "3      None  None  None  enthusiasm  \n",
       "4      None  None  None     neutral  \n",
       "...     ...   ...   ...         ...  \n",
       "39994  None  None  None   happiness  \n",
       "39996  None  None  None        love  \n",
       "39997  None  None  None        love  \n",
       "39998  None  None  None   happiness  \n",
       "39999  None  None  None        love  \n",
       "\n",
       "[39049 rows x 28 columns]"
      ]
     },
     "execution_count": 390,
     "metadata": {},
     "output_type": "execute_result"
    }
   ],
   "source": [
    "# droping the duplicates\n",
    "oon = oo.drop_duplicates()\n",
    "oon"
   ]
  },
  {
   "cell_type": "code",
   "execution_count": 391,
   "metadata": {},
   "outputs": [
    {
     "data": {
      "text/html": [
       "<div>\n",
       "<style scoped>\n",
       "    .dataframe tbody tr th:only-of-type {\n",
       "        vertical-align: middle;\n",
       "    }\n",
       "\n",
       "    .dataframe tbody tr th {\n",
       "        vertical-align: top;\n",
       "    }\n",
       "\n",
       "    .dataframe thead th {\n",
       "        text-align: right;\n",
       "    }\n",
       "</style>\n",
       "<table border=\"1\" class=\"dataframe\">\n",
       "  <thead>\n",
       "    <tr style=\"text-align: right;\">\n",
       "      <th></th>\n",
       "      <th>0</th>\n",
       "      <th>1</th>\n",
       "      <th>2</th>\n",
       "      <th>3</th>\n",
       "      <th>4</th>\n",
       "      <th>5</th>\n",
       "      <th>6</th>\n",
       "      <th>7</th>\n",
       "      <th>8</th>\n",
       "      <th>9</th>\n",
       "      <th>...</th>\n",
       "      <th>17</th>\n",
       "      <th>18</th>\n",
       "      <th>19</th>\n",
       "      <th>20</th>\n",
       "      <th>21</th>\n",
       "      <th>22</th>\n",
       "      <th>23</th>\n",
       "      <th>24</th>\n",
       "      <th>25</th>\n",
       "      <th>26</th>\n",
       "    </tr>\n",
       "  </thead>\n",
       "  <tbody>\n",
       "    <tr>\n",
       "      <th>0</th>\n",
       "      <td>&lt;name&gt;</td>\n",
       "      <td>know</td>\n",
       "      <td>listenin</td>\n",
       "      <td>bad</td>\n",
       "      <td>habit</td>\n",
       "      <td>earlier</td>\n",
       "      <td>start</td>\n",
       "      <td>freakin</td>\n",
       "      <td>part</td>\n",
       "      <td>None</td>\n",
       "      <td>...</td>\n",
       "      <td>None</td>\n",
       "      <td>None</td>\n",
       "      <td>None</td>\n",
       "      <td>None</td>\n",
       "      <td>None</td>\n",
       "      <td>None</td>\n",
       "      <td>None</td>\n",
       "      <td>None</td>\n",
       "      <td>None</td>\n",
       "      <td>None</td>\n",
       "    </tr>\n",
       "    <tr>\n",
       "      <th>1</th>\n",
       "      <td>layin</td>\n",
       "      <td>n</td>\n",
       "      <td>bed</td>\n",
       "      <td>headache</td>\n",
       "      <td>ugh</td>\n",
       "      <td>waitin</td>\n",
       "      <td>cal</td>\n",
       "      <td>None</td>\n",
       "      <td>None</td>\n",
       "      <td>None</td>\n",
       "      <td>...</td>\n",
       "      <td>None</td>\n",
       "      <td>None</td>\n",
       "      <td>None</td>\n",
       "      <td>None</td>\n",
       "      <td>None</td>\n",
       "      <td>None</td>\n",
       "      <td>None</td>\n",
       "      <td>None</td>\n",
       "      <td>None</td>\n",
       "      <td>None</td>\n",
       "    </tr>\n",
       "    <tr>\n",
       "      <th>2</th>\n",
       "      <td>funeral</td>\n",
       "      <td>ceremony</td>\n",
       "      <td>glomy</td>\n",
       "      <td>friday</td>\n",
       "      <td>None</td>\n",
       "      <td>None</td>\n",
       "      <td>None</td>\n",
       "      <td>None</td>\n",
       "      <td>None</td>\n",
       "      <td>None</td>\n",
       "      <td>...</td>\n",
       "      <td>None</td>\n",
       "      <td>None</td>\n",
       "      <td>None</td>\n",
       "      <td>None</td>\n",
       "      <td>None</td>\n",
       "      <td>None</td>\n",
       "      <td>None</td>\n",
       "      <td>None</td>\n",
       "      <td>None</td>\n",
       "      <td>None</td>\n",
       "    </tr>\n",
       "    <tr>\n",
       "      <th>3</th>\n",
       "      <td>want</td>\n",
       "      <td>hang</td>\n",
       "      <td>friend</td>\n",
       "      <td>son</td>\n",
       "      <td>None</td>\n",
       "      <td>None</td>\n",
       "      <td>None</td>\n",
       "      <td>None</td>\n",
       "      <td>None</td>\n",
       "      <td>None</td>\n",
       "      <td>...</td>\n",
       "      <td>None</td>\n",
       "      <td>None</td>\n",
       "      <td>None</td>\n",
       "      <td>None</td>\n",
       "      <td>None</td>\n",
       "      <td>None</td>\n",
       "      <td>None</td>\n",
       "      <td>None</td>\n",
       "      <td>None</td>\n",
       "      <td>None</td>\n",
       "    </tr>\n",
       "    <tr>\n",
       "      <th>4</th>\n",
       "      <td>&lt;name&gt;</td>\n",
       "      <td>want</td>\n",
       "      <td>trade</td>\n",
       "      <td>someone</td>\n",
       "      <td>houston</td>\n",
       "      <td>ticket</td>\n",
       "      <td>one</td>\n",
       "      <td>wil</td>\n",
       "      <td>None</td>\n",
       "      <td>None</td>\n",
       "      <td>...</td>\n",
       "      <td>None</td>\n",
       "      <td>None</td>\n",
       "      <td>None</td>\n",
       "      <td>None</td>\n",
       "      <td>None</td>\n",
       "      <td>None</td>\n",
       "      <td>None</td>\n",
       "      <td>None</td>\n",
       "      <td>None</td>\n",
       "      <td>None</td>\n",
       "    </tr>\n",
       "    <tr>\n",
       "      <th>...</th>\n",
       "      <td>...</td>\n",
       "      <td>...</td>\n",
       "      <td>...</td>\n",
       "      <td>...</td>\n",
       "      <td>...</td>\n",
       "      <td>...</td>\n",
       "      <td>...</td>\n",
       "      <td>...</td>\n",
       "      <td>...</td>\n",
       "      <td>...</td>\n",
       "      <td>...</td>\n",
       "      <td>...</td>\n",
       "      <td>...</td>\n",
       "      <td>...</td>\n",
       "      <td>...</td>\n",
       "      <td>...</td>\n",
       "      <td>...</td>\n",
       "      <td>...</td>\n",
       "      <td>...</td>\n",
       "      <td>...</td>\n",
       "      <td>...</td>\n",
       "    </tr>\n",
       "    <tr>\n",
       "      <th>39994</th>\n",
       "      <td>sucesfuly</td>\n",
       "      <td>folowing</td>\n",
       "      <td>tayla</td>\n",
       "      <td>None</td>\n",
       "      <td>None</td>\n",
       "      <td>None</td>\n",
       "      <td>None</td>\n",
       "      <td>None</td>\n",
       "      <td>None</td>\n",
       "      <td>None</td>\n",
       "      <td>...</td>\n",
       "      <td>None</td>\n",
       "      <td>None</td>\n",
       "      <td>None</td>\n",
       "      <td>None</td>\n",
       "      <td>None</td>\n",
       "      <td>None</td>\n",
       "      <td>None</td>\n",
       "      <td>None</td>\n",
       "      <td>None</td>\n",
       "      <td>None</td>\n",
       "    </tr>\n",
       "    <tr>\n",
       "      <th>39996</th>\n",
       "      <td>hapy</td>\n",
       "      <td>mother</td>\n",
       "      <td>day</td>\n",
       "      <td>al</td>\n",
       "      <td>love</td>\n",
       "      <td>None</td>\n",
       "      <td>None</td>\n",
       "      <td>None</td>\n",
       "      <td>None</td>\n",
       "      <td>None</td>\n",
       "      <td>...</td>\n",
       "      <td>None</td>\n",
       "      <td>None</td>\n",
       "      <td>None</td>\n",
       "      <td>None</td>\n",
       "      <td>None</td>\n",
       "      <td>None</td>\n",
       "      <td>None</td>\n",
       "      <td>None</td>\n",
       "      <td>None</td>\n",
       "      <td>None</td>\n",
       "    </tr>\n",
       "    <tr>\n",
       "      <th>39997</th>\n",
       "      <td>hapy</td>\n",
       "      <td>mother's</td>\n",
       "      <td>day</td>\n",
       "      <td>al</td>\n",
       "      <td>momies</td>\n",
       "      <td>woman</td>\n",
       "      <td>man</td>\n",
       "      <td>long</td>\n",
       "      <td>moma</td>\n",
       "      <td>someone</td>\n",
       "      <td>...</td>\n",
       "      <td>None</td>\n",
       "      <td>None</td>\n",
       "      <td>None</td>\n",
       "      <td>None</td>\n",
       "      <td>None</td>\n",
       "      <td>None</td>\n",
       "      <td>None</td>\n",
       "      <td>None</td>\n",
       "      <td>None</td>\n",
       "      <td>None</td>\n",
       "    </tr>\n",
       "    <tr>\n",
       "      <th>39998</th>\n",
       "      <td>&lt;name&gt;</td>\n",
       "      <td>wasup</td>\n",
       "      <td>beautiful</td>\n",
       "      <td>folow</td>\n",
       "      <td>pep</td>\n",
       "      <td>new</td>\n",
       "      <td>hit</td>\n",
       "      <td>single</td>\n",
       "      <td>w</td>\n",
       "      <td>myspace</td>\n",
       "      <td>...</td>\n",
       "      <td>None</td>\n",
       "      <td>None</td>\n",
       "      <td>None</td>\n",
       "      <td>None</td>\n",
       "      <td>None</td>\n",
       "      <td>None</td>\n",
       "      <td>None</td>\n",
       "      <td>None</td>\n",
       "      <td>None</td>\n",
       "      <td>None</td>\n",
       "    </tr>\n",
       "    <tr>\n",
       "      <th>39999</th>\n",
       "      <td>&lt;name&gt;</td>\n",
       "      <td>bulet</td>\n",
       "      <td>train</td>\n",
       "      <td>tokyo</td>\n",
       "      <td>gf</td>\n",
       "      <td>ben</td>\n",
       "      <td>visit</td>\n",
       "      <td>japan</td>\n",
       "      <td>since</td>\n",
       "      <td>thursday</td>\n",
       "      <td>...</td>\n",
       "      <td>None</td>\n",
       "      <td>None</td>\n",
       "      <td>None</td>\n",
       "      <td>None</td>\n",
       "      <td>None</td>\n",
       "      <td>None</td>\n",
       "      <td>None</td>\n",
       "      <td>None</td>\n",
       "      <td>None</td>\n",
       "      <td>None</td>\n",
       "    </tr>\n",
       "  </tbody>\n",
       "</table>\n",
       "<p>39049 rows × 27 columns</p>\n",
       "</div>"
      ],
      "text/plain": [
       "              0         1          2         3        4        5      6   \\\n",
       "0         <name>      know   listenin       bad    habit  earlier  start   \n",
       "1          layin         n        bed  headache      ugh   waitin    cal   \n",
       "2        funeral  ceremony      glomy    friday     None     None   None   \n",
       "3           want      hang     friend       son     None     None   None   \n",
       "4         <name>      want      trade   someone  houston   ticket    one   \n",
       "...          ...       ...        ...       ...      ...      ...    ...   \n",
       "39994  sucesfuly  folowing      tayla      None     None     None   None   \n",
       "39996       hapy    mother        day        al     love     None   None   \n",
       "39997       hapy  mother's        day        al   momies    woman    man   \n",
       "39998     <name>     wasup  beautiful     folow      pep      new    hit   \n",
       "39999     <name>     bulet      train     tokyo       gf      ben  visit   \n",
       "\n",
       "            7      8         9   ...    17    18    19    20    21    22  \\\n",
       "0      freakin   part      None  ...  None  None  None  None  None  None   \n",
       "1         None   None      None  ...  None  None  None  None  None  None   \n",
       "2         None   None      None  ...  None  None  None  None  None  None   \n",
       "3         None   None      None  ...  None  None  None  None  None  None   \n",
       "4          wil   None      None  ...  None  None  None  None  None  None   \n",
       "...        ...    ...       ...  ...   ...   ...   ...   ...   ...   ...   \n",
       "39994     None   None      None  ...  None  None  None  None  None  None   \n",
       "39996     None   None      None  ...  None  None  None  None  None  None   \n",
       "39997     long   moma   someone  ...  None  None  None  None  None  None   \n",
       "39998   single      w   myspace  ...  None  None  None  None  None  None   \n",
       "39999    japan  since  thursday  ...  None  None  None  None  None  None   \n",
       "\n",
       "         23    24    25    26  \n",
       "0      None  None  None  None  \n",
       "1      None  None  None  None  \n",
       "2      None  None  None  None  \n",
       "3      None  None  None  None  \n",
       "4      None  None  None  None  \n",
       "...     ...   ...   ...   ...  \n",
       "39994  None  None  None  None  \n",
       "39996  None  None  None  None  \n",
       "39997  None  None  None  None  \n",
       "39998  None  None  None  None  \n",
       "39999  None  None  None  None  \n",
       "\n",
       "[39049 rows x 27 columns]"
      ]
     },
     "execution_count": 391,
     "metadata": {},
     "output_type": "execute_result"
    }
   ],
   "source": [
    "ool = oon.iloc[:,:-1]\n",
    "ool"
   ]
  },
  {
   "cell_type": "code",
   "execution_count": 392,
   "metadata": {},
   "outputs": [
    {
     "data": {
      "text/plain": [
       "array([['<name>', 'know', 'listenin', ..., None, None, None],\n",
       "       ['layin', 'n', 'bed', ..., None, None, None],\n",
       "       ['funeral', 'ceremony', 'glomy', ..., None, None, None],\n",
       "       ...,\n",
       "       ['hapy', \"mother's\", 'day', ..., None, None, None],\n",
       "       ['<name>', 'wasup', 'beautiful', ..., None, None, None],\n",
       "       ['<name>', 'bulet', 'train', ..., None, None, None]], dtype=object)"
      ]
     },
     "execution_count": 392,
     "metadata": {},
     "output_type": "execute_result"
    }
   ],
   "source": [
    "v = ool.values\n",
    "v"
   ]
  },
  {
   "cell_type": "code",
   "execution_count": 393,
   "metadata": {},
   "outputs": [],
   "source": [
    "vo =[]\n",
    "for i in range(len(v)):\n",
    "    vo.append((v[i][v[i]!=None]).tolist())"
   ]
  },
  {
   "cell_type": "code",
   "execution_count": 394,
   "metadata": {},
   "outputs": [
    {
     "data": {
      "text/plain": [
       "['<name>',\n",
       " 'know',\n",
       " 'listenin',\n",
       " 'bad',\n",
       " 'habit',\n",
       " 'earlier',\n",
       " 'start',\n",
       " 'freakin',\n",
       " 'part']"
      ]
     },
     "execution_count": 394,
     "metadata": {},
     "output_type": "execute_result"
    }
   ],
   "source": [
    "vo[0]"
   ]
  },
  {
   "cell_type": "code",
   "execution_count": 395,
   "metadata": {},
   "outputs": [],
   "source": [
    "seql = pd.Series([len(x) for x in vo])"
   ]
  },
  {
   "cell_type": "code",
   "execution_count": 409,
   "metadata": {},
   "outputs": [
    {
     "data": {
      "text/plain": [
       "0.25     5.0\n",
       "0.50     7.0\n",
       "0.98    17.0\n",
       "dtype: float64"
      ]
     },
     "execution_count": 409,
     "metadata": {},
     "output_type": "execute_result"
    }
   ],
   "source": [
    "quant = seql.quantile([0.25,0.50,0.98])\n",
    "quant"
   ]
  },
  {
   "cell_type": "code",
   "execution_count": 406,
   "metadata": {},
   "outputs": [
    {
     "data": {
      "text/plain": [
       "27"
      ]
     },
     "execution_count": 406,
     "metadata": {},
     "output_type": "execute_result"
    }
   ],
   "source": [
    "max_size = max(len(x) for x in vo)\n",
    "max_size"
   ]
  },
  {
   "cell_type": "code",
   "execution_count": null,
   "metadata": {},
   "outputs": [],
   "source": [
    "# as we can the 98% of sequence lengths falls under 17, but max length is 27\n",
    "# padding all the lengths to 33 will lead to redundancy \n",
    "# but padding only to the 17 lenth and truncating remaining tokens will also lead to loss of data"
   ]
  },
  {
   "cell_type": "code",
   "execution_count": null,
   "metadata": {},
   "outputs": [],
   "source": [
    "# so, we will try to padd the sequences to 17-19"
   ]
  },
  {
   "cell_type": "markdown",
   "metadata": {},
   "source": [
    "### padding the sequences"
   ]
  },
  {
   "cell_type": "code",
   "execution_count": 417,
   "metadata": {},
   "outputs": [],
   "source": [
    "padded_sequences =[]\n",
    "for i in vo:\n",
    "    if(18-len(i)<0):\n",
    "        j = i[:18]\n",
    "        padded_sequences.append(j)\n",
    "    else:\n",
    "        j = i + (['<null>']*(18-len(i)))\n",
    "        padded_sequences.append(j)"
   ]
  },
  {
   "cell_type": "code",
   "execution_count": 418,
   "metadata": {},
   "outputs": [
    {
     "data": {
      "text/plain": [
       "39049"
      ]
     },
     "execution_count": 418,
     "metadata": {},
     "output_type": "execute_result"
    }
   ],
   "source": [
    "len(padded_sequences)"
   ]
  },
  {
   "cell_type": "code",
   "execution_count": 419,
   "metadata": {},
   "outputs": [],
   "source": [
    "x = padded_sequences\n",
    "y = oon['emotion']"
   ]
  },
  {
   "cell_type": "code",
   "execution_count": 420,
   "metadata": {},
   "outputs": [
    {
     "data": {
      "text/plain": [
       "13"
      ]
     },
     "execution_count": 420,
     "metadata": {},
     "output_type": "execute_result"
    }
   ],
   "source": [
    "unique_class = y.unique()\n",
    "num_classes=len(unique_class)\n",
    "num_classes"
   ]
  },
  {
   "cell_type": "code",
   "execution_count": 421,
   "metadata": {},
   "outputs": [
    {
     "data": {
      "text/plain": [
       "array(['empty', 'sadness', 'enthusiasm', 'neutral', 'worry', 'surprise',\n",
       "       'love', 'fun', 'hate', 'happiness', 'boredom', 'relief', 'anger'],\n",
       "      dtype=object)"
      ]
     },
     "execution_count": 421,
     "metadata": {},
     "output_type": "execute_result"
    }
   ],
   "source": [
    "unique_class"
   ]
  },
  {
   "cell_type": "code",
   "execution_count": 422,
   "metadata": {},
   "outputs": [],
   "source": [
    "xx = np.array(x)\n",
    "yy = y.values"
   ]
  },
  {
   "cell_type": "code",
   "execution_count": 423,
   "metadata": {},
   "outputs": [
    {
     "data": {
      "text/plain": [
       "((39049, 18), (39049,))"
      ]
     },
     "execution_count": 423,
     "metadata": {},
     "output_type": "execute_result"
    }
   ],
   "source": [
    "xx.shape,yy.shape"
   ]
  },
  {
   "cell_type": "code",
   "execution_count": 424,
   "metadata": {},
   "outputs": [
    {
     "data": {
      "text/plain": [
       "array([ 2, 10, 10, ...,  7,  5,  7])"
      ]
     },
     "execution_count": 424,
     "metadata": {},
     "output_type": "execute_result"
    }
   ],
   "source": [
    "from sklearn.preprocessing import LabelEncoder\n",
    "le = LabelEncoder()\n",
    "y_int = le.fit_transform(yy)\n",
    "y_int"
   ]
  },
  {
   "cell_type": "code",
   "execution_count": 425,
   "metadata": {},
   "outputs": [
    {
     "name": "stdout",
     "output_type": "stream",
     "text": [
      "(23429, 18) (23429,)\n",
      "(15620, 18) (15620,)\n"
     ]
    }
   ],
   "source": [
    "from sklearn.model_selection import train_test_split\n",
    "x_train,x_test,y_train,y_test = train_test_split(xx,y_int,test_size=0.4,random_state=42)\n",
    "print(x_train.shape,y_train.shape)\n",
    "print(x_test.shape,y_test.shape)"
   ]
  },
  {
   "cell_type": "code",
   "execution_count": 426,
   "metadata": {},
   "outputs": [
    {
     "data": {
      "text/plain": [
       "(array(['sometimes', 'forget', 'boy', 'felings', '<null>', '<null>',\n",
       "        '<null>', '<null>', '<null>', '<null>', '<null>', '<null>',\n",
       "        '<null>', '<null>', '<null>', '<null>', '<null>', '<null>'],\n",
       "       dtype='<U39'),\n",
       " 'boredom')"
      ]
     },
     "execution_count": 426,
     "metadata": {},
     "output_type": "execute_result"
    }
   ],
   "source": [
    "x_train[0],unique_class[y_train[0]]"
   ]
  },
  {
   "cell_type": "code",
   "execution_count": 427,
   "metadata": {},
   "outputs": [
    {
     "data": {
      "text/plain": [
       "[<matplotlib.lines.Line2D at 0x1ae41aa98d0>]"
      ]
     },
     "execution_count": 427,
     "metadata": {},
     "output_type": "execute_result"
    },
    {
     "data": {
      "image/png": "[encoded data removed]",
      "text/plain": [
       "<Figure size 640x480 with 1 Axes>"
      ]
     },
     "metadata": {},
     "output_type": "display_data"
    }
   ],
   "source": [
    "plt.plot(y_train)"
   ]
  },
  {
   "cell_type": "code",
   "execution_count": 428,
   "metadata": {},
   "outputs": [
    {
     "name": "stdout",
     "output_type": "stream",
     "text": [
      "(7810, 18) (7810,)\n",
      "(7810, 18) (7810,)\n"
     ]
    }
   ],
   "source": [
    "x_val,x_test,y_val,y_test = train_test_split(x_test,y_test,test_size=0.5,random_state=42)\n",
    "print(x_val.shape,y_val.shape)\n",
    "print(x_test.shape,y_test.shape) "
   ]
  },
  {
   "cell_type": "markdown",
   "metadata": {},
   "source": [
    "### Hybrid sampling"
   ]
  },
  {
   "cell_type": "code",
   "execution_count": 429,
   "metadata": {},
   "outputs": [
    {
     "data": {
      "image/png": "[encoded data removed]",
      "text/plain": [
       "<Figure size 640x480 with 1 Axes>"
      ]
     },
     "metadata": {},
     "output_type": "display_data"
    }
   ],
   "source": [
    "class_dist = pd.Series(y_train).value_counts()\n",
    "class_dist.plot(kind='bar')\n",
    "plt.title(\"y_train Class distribution before sampling\")\n",
    "plt.show()"
   ]
  },
  {
   "cell_type": "code",
   "execution_count": 430,
   "metadata": {},
   "outputs": [
    {
     "data": {
      "image/png": "[encoded data removed]",
      "text/plain": [
       "<Figure size 640x480 with 1 Axes>"
      ]
     },
     "metadata": {},
     "output_type": "display_data"
    }
   ],
   "source": [
    "class_y = pd.Series(y_val).value_counts()\n",
    "class_y.plot(kind='bar')\n",
    "plt.title(\"y_val class distribution before sampling\")\n",
    "plt.show()"
   ]
  },
  {
   "cell_type": "code",
   "execution_count": 431,
   "metadata": {},
   "outputs": [
    {
     "data": {
      "text/plain": [
       "12    5029\n",
       "8     4972\n",
       "5     3075\n",
       "10    2999\n",
       "7     2219\n",
       "11    1308\n",
       "4     1042\n",
       "9      896\n",
       "6      777\n",
       "2      491\n",
       "3      448\n",
       "1      104\n",
       "0       69\n",
       "Name: count, dtype: int64"
      ]
     },
     "execution_count": 431,
     "metadata": {},
     "output_type": "execute_result"
    }
   ],
   "source": [
    "freq = pd.Series(y_train).value_counts()\n",
    "freq"
   ]
  },
  {
   "cell_type": "code",
   "execution_count": 432,
   "metadata": {},
   "outputs": [
    {
     "data": {
      "text/plain": [
       "({2: 800, 3: 800, 1: 800, 0: 800}, {12: 3075, 8: 3075})"
      ]
     },
     "execution_count": 432,
     "metadata": {},
     "output_type": "execute_result"
    }
   ],
   "source": [
    "freq1 = {}\n",
    "freq2 = {}\n",
    "for i,j in enumerate(freq):\n",
    "    if(j<777):\n",
    "        freq1[freq.index[i]]=800\n",
    "    elif(j>3075):\n",
    "        freq2[freq.index[i]]=3075\n",
    "freq1,freq2"
   ]
  },
  {
   "cell_type": "code",
   "execution_count": 433,
   "metadata": {},
   "outputs": [
    {
     "data": {
      "text/plain": [
       "12    1677\n",
       "8     1618\n",
       "10    1018\n",
       "5     1003\n",
       "7      731\n",
       "11     426\n",
       "4      381\n",
       "9      311\n",
       "6      278\n",
       "3      155\n",
       "2      152\n",
       "1       39\n",
       "0       21\n",
       "Name: count, dtype: int64"
      ]
     },
     "execution_count": 433,
     "metadata": {},
     "output_type": "execute_result"
    }
   ],
   "source": [
    "freq0 = pd.Series(y_val).value_counts()\n",
    "freq0"
   ]
  },
  {
   "cell_type": "code",
   "execution_count": 435,
   "metadata": {},
   "outputs": [
    {
     "data": {
      "text/plain": [
       "({3: 278, 2: 278, 1: 278, 0: 278}, {12: 1018, 8: 1018})"
      ]
     },
     "execution_count": 435,
     "metadata": {},
     "output_type": "execute_result"
    }
   ],
   "source": [
    "freq11 = {}\n",
    "freq22 = {}\n",
    "for i,j in enumerate(freq0):\n",
    "    if(j<278):\n",
    "        freq11[freq0.index[i]]=278\n",
    "    elif(j>1018):\n",
    "        freq22[freq0.index[i]]=1018\n",
    "freq11,freq22"
   ]
  },
  {
   "cell_type": "code",
   "execution_count": 436,
   "metadata": {},
   "outputs": [],
   "source": [
    "# there are many ways to balance the classes, \n",
    "# 1) as there is high imbalance in our data, we will try class_weights and check whether it is yielding good results\n",
    "# 2) oversampling using smote and undersampling using randomsampler"
   ]
  },
  {
   "cell_type": "code",
   "execution_count": 437,
   "metadata": {},
   "outputs": [
    {
     "data": {
      "text/plain": [
       "\"\\nfrom sklearn.utils.class_weight import compute_class_weight\\nclass_weights = compute_class_weight(class_weight='balanced',classes=np.unique(y_train), y=y_train)\\nclass_weights = dict(enumerate(class_weights))\\n\""
      ]
     },
     "execution_count": 437,
     "metadata": {},
     "output_type": "execute_result"
    }
   ],
   "source": [
    "\"\"\"\n",
    "from sklearn.utils.class_weight import compute_class_weight\n",
    "class_weights = compute_class_weight(class_weight='balanced',classes=np.unique(y_train), y=y_train)\n",
    "class_weights = dict(enumerate(class_weights))\n",
    "\"\"\""
   ]
  },
  {
   "cell_type": "code",
   "execution_count": 438,
   "metadata": {},
   "outputs": [],
   "source": [
    "#oversampling using smote or Randomundersampler\n",
    "#from imblearn.over_sampling import SMOTE\n",
    "\n",
    "from imblearn.over_sampling import RandomOverSampler\n",
    "\n",
    "oversample = RandomOverSampler(sampling_strategy=freq1, random_state=42)\n",
    "X_res, y_res = oversample.fit_resample(x_train, y_train)\n",
    "\n",
    "oversample1 = RandomOverSampler(sampling_strategy=freq11, random_state=42)\n",
    "X_val, Y_val = oversample1.fit_resample(x_val,y_val) "
   ]
  },
  {
   "cell_type": "code",
   "execution_count": 439,
   "metadata": {},
   "outputs": [],
   "source": [
    "# Note: Don't use smote for generating data for sensual data like tokenized words, because generating synthetic data could be non-sensical "
   ]
  },
  {
   "cell_type": "code",
   "execution_count": 440,
   "metadata": {},
   "outputs": [],
   "source": [
    "from imblearn.under_sampling import RandomUnderSampler\n",
    "\n",
    "undersample = RandomUnderSampler(sampling_strategy=freq2,random_state=42)\n",
    "X_train_resampled, y_train_resampled = undersample.fit_resample(X_res, y_res)\n",
    "\n",
    "undersample1 = RandomUnderSampler(sampling_strategy=freq22,random_state=42)\n",
    "X_val_resampled, y_val_resampled = undersample1.fit_resample(X_val, Y_val) "
   ]
  },
  {
   "cell_type": "code",
   "execution_count": 441,
   "metadata": {},
   "outputs": [
    {
     "data": {
      "text/plain": [
       "[<matplotlib.lines.Line2D at 0x1ad955398d0>]"
      ]
     },
     "execution_count": 441,
     "metadata": {},
     "output_type": "execute_result"
    },
    {
     "data": {
      "image/png": "[encoded data removed]",
      "text/plain": [
       "<Figure size 640x480 with 1 Axes>"
      ]
     },
     "metadata": {},
     "output_type": "display_data"
    }
   ],
   "source": [
    "plt.plot(y_val_resampled)"
   ]
  },
  {
   "cell_type": "code",
   "execution_count": 442,
   "metadata": {},
   "outputs": [],
   "source": [
    "from sklearn.utils import shuffle\n",
    "X_train_resampled, y_train_resampled = shuffle(X_train_resampled,y_train_resampled,random_state=42)\n",
    "X_val_resampled, y_val_resampled = shuffle(X_val_resampled, y_val_resampled,random_state=42)"
   ]
  },
  {
   "cell_type": "code",
   "execution_count": 443,
   "metadata": {},
   "outputs": [
    {
     "data": {
      "text/plain": [
       "[<matplotlib.lines.Line2D at 0x1ad95593c10>]"
      ]
     },
     "execution_count": 443,
     "metadata": {},
     "output_type": "execute_result"
    },
    {
     "data": {
      "image/png": "[encoded data removed]",
      "text/plain": [
       "<Figure size 640x480 with 1 Axes>"
      ]
     },
     "metadata": {},
     "output_type": "display_data"
    }
   ],
   "source": [
    "plt.plot(y_val_resampled)"
   ]
  },
  {
   "cell_type": "code",
   "execution_count": 444,
   "metadata": {},
   "outputs": [
    {
     "data": {
      "image/png": "[encoded data removed]",
      "text/plain": [
       "<Figure size 640x480 with 1 Axes>"
      ]
     },
     "metadata": {},
     "output_type": "display_data"
    }
   ],
   "source": [
    "class_dist = pd.Series(y_train_resampled).value_counts()\n",
    "class_dist.plot(kind='bar')\n",
    "plt.title(\"class distribution after resampling(y_train)\")\n",
    "plt.show()"
   ]
  },
  {
   "cell_type": "code",
   "execution_count": 445,
   "metadata": {},
   "outputs": [
    {
     "data": {
      "image/png": "[encoded data removed]",
      "text/plain": [
       "<Figure size 640x480 with 1 Axes>"
      ]
     },
     "metadata": {},
     "output_type": "display_data"
    }
   ],
   "source": [
    "class_dist = pd.Series(y_val_resampled).value_counts()\n",
    "class_dist.plot(kind='bar')\n",
    "plt.title(\"class distribution after resampling(y_val)\")\n",
    "plt.show()"
   ]
  },
  {
   "cell_type": "code",
   "execution_count": 446,
   "metadata": {},
   "outputs": [
    {
     "data": {
      "text/plain": [
       "8     3075\n",
       "5     3075\n",
       "12    3075\n",
       "10    2999\n",
       "7     2219\n",
       "11    1308\n",
       "4     1042\n",
       "9      896\n",
       "3      800\n",
       "2      800\n",
       "0      800\n",
       "1      800\n",
       "6      777\n",
       "Name: count, dtype: int64"
      ]
     },
     "execution_count": 446,
     "metadata": {},
     "output_type": "execute_result"
    }
   ],
   "source": [
    "pd.Series(y_train_resampled).value_counts()"
   ]
  },
  {
   "cell_type": "code",
   "execution_count": 447,
   "metadata": {},
   "outputs": [
    {
     "data": {
      "text/plain": [
       "8     1018\n",
       "12    1018\n",
       "10    1018\n",
       "5     1003\n",
       "7      731\n",
       "11     426\n",
       "4      381\n",
       "9      311\n",
       "3      278\n",
       "2      278\n",
       "6      278\n",
       "1      278\n",
       "0      278\n",
       "Name: count, dtype: int64"
      ]
     },
     "execution_count": 447,
     "metadata": {},
     "output_type": "execute_result"
    }
   ],
   "source": [
    "pd.Series(y_val_resampled).value_counts() "
   ]
  },
  {
   "cell_type": "code",
   "execution_count": 448,
   "metadata": {},
   "outputs": [],
   "source": [
    "# largesample/samplesample = k\n",
    "# if k>5, high imbalance\n",
    "# if k<5, mild imbalance"
   ]
  },
  {
   "cell_type": "code",
   "execution_count": 449,
   "metadata": {},
   "outputs": [
    {
     "data": {
      "image/png": "[encoded data removed]",
      "text/plain": [
       "<Figure size 640x480 with 1 Axes>"
      ]
     },
     "metadata": {},
     "output_type": "display_data"
    }
   ],
   "source": [
    "class_dist = pd.Series(y_test).value_counts()\n",
    "class_dist.plot(kind='bar')\n",
    "plt.title(\"y_test unchanged class distribution\")\n",
    "plt.show()"
   ]
  },
  {
   "cell_type": "code",
   "execution_count": 450,
   "metadata": {},
   "outputs": [],
   "source": [
    "#Note: Generating more random samples may lead to overfitting"
   ]
  },
  {
   "cell_type": "code",
   "execution_count": 451,
   "metadata": {},
   "outputs": [
    {
     "data": {
      "text/plain": [
       "((23429, 18), (21666, 18))"
      ]
     },
     "execution_count": 451,
     "metadata": {},
     "output_type": "execute_result"
    }
   ],
   "source": [
    "x_train.shape,X_train_resampled.shape # we observe there is an decrease or increase in the sample"
   ]
  },
  {
   "cell_type": "code",
   "execution_count": 452,
   "metadata": {},
   "outputs": [
    {
     "data": {
      "text/plain": [
       "((7810, 18), (7296, 18))"
      ]
     },
     "execution_count": 452,
     "metadata": {},
     "output_type": "execute_result"
    }
   ],
   "source": [
    "x_val.shape,X_val_resampled.shape # we observe there is an decrease or increase in the sample"
   ]
  },
  {
   "cell_type": "code",
   "execution_count": 453,
   "metadata": {},
   "outputs": [],
   "source": [
    "#Note: Oversampling more will lead to redundancy in the data which may leads to overfitting\n",
    "# Becautious"
   ]
  },
  {
   "cell_type": "code",
   "execution_count": 454,
   "metadata": {},
   "outputs": [],
   "source": [
    "#len(X_train_resampled)-len(np.unique(X_train_resampled,axis=0)),len(X_val_resampled)-len(np.unique(X_val_resampled,axis=0))\n",
    "# this indicates there are duplicates in the array"
   ]
  },
  {
   "cell_type": "code",
   "execution_count": 455,
   "metadata": {},
   "outputs": [
    {
     "data": {
      "text/html": [
       "<div>\n",
       "<style scoped>\n",
       "    .dataframe tbody tr th:only-of-type {\n",
       "        vertical-align: middle;\n",
       "    }\n",
       "\n",
       "    .dataframe tbody tr th {\n",
       "        vertical-align: top;\n",
       "    }\n",
       "\n",
       "    .dataframe thead th {\n",
       "        text-align: right;\n",
       "    }\n",
       "</style>\n",
       "<table border=\"1\" class=\"dataframe\">\n",
       "  <thead>\n",
       "    <tr style=\"text-align: right;\">\n",
       "      <th></th>\n",
       "      <th>0</th>\n",
       "      <th>1</th>\n",
       "      <th>2</th>\n",
       "      <th>3</th>\n",
       "      <th>4</th>\n",
       "      <th>5</th>\n",
       "      <th>6</th>\n",
       "      <th>7</th>\n",
       "      <th>8</th>\n",
       "      <th>9</th>\n",
       "      <th>10</th>\n",
       "      <th>11</th>\n",
       "      <th>12</th>\n",
       "      <th>13</th>\n",
       "      <th>14</th>\n",
       "      <th>15</th>\n",
       "      <th>16</th>\n",
       "      <th>17</th>\n",
       "      <th>emotion</th>\n",
       "    </tr>\n",
       "  </thead>\n",
       "  <tbody>\n",
       "    <tr>\n",
       "      <th>0</th>\n",
       "      <td>&lt;name&gt;</td>\n",
       "      <td>ops</td>\n",
       "      <td>eldhose</td>\n",
       "      <td>bhai</td>\n",
       "      <td>upload</td>\n",
       "      <td>read</td>\n",
       "      <td>hindu's</td>\n",
       "      <td>article</td>\n",
       "      <td>barcamp</td>\n",
       "      <td>biny</td>\n",
       "      <td>rock</td>\n",
       "      <td>man</td>\n",
       "      <td>&lt;null&gt;</td>\n",
       "      <td>&lt;null&gt;</td>\n",
       "      <td>&lt;null&gt;</td>\n",
       "      <td>&lt;null&gt;</td>\n",
       "      <td>&lt;null&gt;</td>\n",
       "      <td>&lt;null&gt;</td>\n",
       "      <td>3</td>\n",
       "    </tr>\n",
       "    <tr>\n",
       "      <th>1</th>\n",
       "      <td>sit</td>\n",
       "      <td>wait</td>\n",
       "      <td>go</td>\n",
       "      <td>gym</td>\n",
       "      <td>almost</td>\n",
       "      <td>leave</td>\n",
       "      <td>realize</td>\n",
       "      <td>never</td>\n",
       "      <td>charge</td>\n",
       "      <td>ipod</td>\n",
       "      <td>trip</td>\n",
       "      <td>wisconsin</td>\n",
       "      <td>dead</td>\n",
       "      <td>&lt;null&gt;</td>\n",
       "      <td>&lt;null&gt;</td>\n",
       "      <td>&lt;null&gt;</td>\n",
       "      <td>&lt;null&gt;</td>\n",
       "      <td>&lt;null&gt;</td>\n",
       "      <td>8</td>\n",
       "    </tr>\n",
       "    <tr>\n",
       "      <th>2</th>\n",
       "      <td>write</td>\n",
       "      <td>mild</td>\n",
       "      <td>wild</td>\n",
       "      <td>article</td>\n",
       "      <td>&lt;null&gt;</td>\n",
       "      <td>&lt;null&gt;</td>\n",
       "      <td>&lt;null&gt;</td>\n",
       "      <td>&lt;null&gt;</td>\n",
       "      <td>&lt;null&gt;</td>\n",
       "      <td>&lt;null&gt;</td>\n",
       "      <td>&lt;null&gt;</td>\n",
       "      <td>&lt;null&gt;</td>\n",
       "      <td>&lt;null&gt;</td>\n",
       "      <td>&lt;null&gt;</td>\n",
       "      <td>&lt;null&gt;</td>\n",
       "      <td>&lt;null&gt;</td>\n",
       "      <td>&lt;null&gt;</td>\n",
       "      <td>&lt;null&gt;</td>\n",
       "      <td>8</td>\n",
       "    </tr>\n",
       "    <tr>\n",
       "      <th>3</th>\n",
       "      <td>orangepineaplebanana</td>\n",
       "      <td>smothie</td>\n",
       "      <td>long</td>\n",
       "      <td>hard</td>\n",
       "      <td>day</td>\n",
       "      <td>heaven</td>\n",
       "      <td>&lt;null&gt;</td>\n",
       "      <td>&lt;null&gt;</td>\n",
       "      <td>&lt;null&gt;</td>\n",
       "      <td>&lt;null&gt;</td>\n",
       "      <td>&lt;null&gt;</td>\n",
       "      <td>&lt;null&gt;</td>\n",
       "      <td>&lt;null&gt;</td>\n",
       "      <td>&lt;null&gt;</td>\n",
       "      <td>&lt;null&gt;</td>\n",
       "      <td>&lt;null&gt;</td>\n",
       "      <td>&lt;null&gt;</td>\n",
       "      <td>&lt;null&gt;</td>\n",
       "      <td>5</td>\n",
       "    </tr>\n",
       "    <tr>\n",
       "      <th>4</th>\n",
       "      <td>&lt;name&gt;</td>\n",
       "      <td>must</td>\n",
       "      <td>kid</td>\n",
       "      <td>boy</td>\n",
       "      <td>definatelyi</td>\n",
       "      <td>hope</td>\n",
       "      <td>anyway</td>\n",
       "      <td>oo</td>\n",
       "      <td>girl</td>\n",
       "      <td>probably</td>\n",
       "      <td>honest</td>\n",
       "      <td>must</td>\n",
       "      <td>proper</td>\n",
       "      <td>ugly</td>\n",
       "      <td>noone</td>\n",
       "      <td>like</td>\n",
       "      <td>&lt;null&gt;</td>\n",
       "      <td>&lt;null&gt;</td>\n",
       "      <td>10</td>\n",
       "    </tr>\n",
       "    <tr>\n",
       "      <th>...</th>\n",
       "      <td>...</td>\n",
       "      <td>...</td>\n",
       "      <td>...</td>\n",
       "      <td>...</td>\n",
       "      <td>...</td>\n",
       "      <td>...</td>\n",
       "      <td>...</td>\n",
       "      <td>...</td>\n",
       "      <td>...</td>\n",
       "      <td>...</td>\n",
       "      <td>...</td>\n",
       "      <td>...</td>\n",
       "      <td>...</td>\n",
       "      <td>...</td>\n",
       "      <td>...</td>\n",
       "      <td>...</td>\n",
       "      <td>...</td>\n",
       "      <td>...</td>\n",
       "      <td>...</td>\n",
       "    </tr>\n",
       "    <tr>\n",
       "      <th>21661</th>\n",
       "      <td>&lt;name&gt;</td>\n",
       "      <td>nope</td>\n",
       "      <td>come</td>\n",
       "      <td>back</td>\n",
       "      <td>ct</td>\n",
       "      <td>&lt;null&gt;</td>\n",
       "      <td>&lt;null&gt;</td>\n",
       "      <td>&lt;null&gt;</td>\n",
       "      <td>&lt;null&gt;</td>\n",
       "      <td>&lt;null&gt;</td>\n",
       "      <td>&lt;null&gt;</td>\n",
       "      <td>&lt;null&gt;</td>\n",
       "      <td>&lt;null&gt;</td>\n",
       "      <td>&lt;null&gt;</td>\n",
       "      <td>&lt;null&gt;</td>\n",
       "      <td>&lt;null&gt;</td>\n",
       "      <td>&lt;null&gt;</td>\n",
       "      <td>&lt;null&gt;</td>\n",
       "      <td>8</td>\n",
       "    </tr>\n",
       "    <tr>\n",
       "      <th>21662</th>\n",
       "      <td>&lt;name&gt;</td>\n",
       "      <td>lol</td>\n",
       "      <td>pr</td>\n",
       "      <td>america</td>\n",
       "      <td>lmao</td>\n",
       "      <td>dont</td>\n",
       "      <td>like</td>\n",
       "      <td>theres</td>\n",
       "      <td>nothing</td>\n",
       "      <td>&lt;null&gt;</td>\n",
       "      <td>&lt;null&gt;</td>\n",
       "      <td>&lt;null&gt;</td>\n",
       "      <td>&lt;null&gt;</td>\n",
       "      <td>&lt;null&gt;</td>\n",
       "      <td>&lt;null&gt;</td>\n",
       "      <td>&lt;null&gt;</td>\n",
       "      <td>&lt;null&gt;</td>\n",
       "      <td>&lt;null&gt;</td>\n",
       "      <td>12</td>\n",
       "    </tr>\n",
       "    <tr>\n",
       "      <th>21663</th>\n",
       "      <td>friday</td>\n",
       "      <td>gota</td>\n",
       "      <td>work</td>\n",
       "      <td>tomorow</td>\n",
       "      <td>tho</td>\n",
       "      <td>&lt;null&gt;</td>\n",
       "      <td>&lt;null&gt;</td>\n",
       "      <td>&lt;null&gt;</td>\n",
       "      <td>&lt;null&gt;</td>\n",
       "      <td>&lt;null&gt;</td>\n",
       "      <td>&lt;null&gt;</td>\n",
       "      <td>&lt;null&gt;</td>\n",
       "      <td>&lt;null&gt;</td>\n",
       "      <td>&lt;null&gt;</td>\n",
       "      <td>&lt;null&gt;</td>\n",
       "      <td>&lt;null&gt;</td>\n",
       "      <td>&lt;null&gt;</td>\n",
       "      <td>&lt;null&gt;</td>\n",
       "      <td>5</td>\n",
       "    </tr>\n",
       "    <tr>\n",
       "      <th>21664</th>\n",
       "      <td>god</td>\n",
       "      <td>morning</td>\n",
       "      <td>twiters</td>\n",
       "      <td>tired</td>\n",
       "      <td>realy</td>\n",
       "      <td>ned</td>\n",
       "      <td>2</td>\n",
       "      <td>stay</td>\n",
       "      <td>twiter</td>\n",
       "      <td>lol</td>\n",
       "      <td>shit</td>\n",
       "      <td>take</td>\n",
       "      <td>life</td>\n",
       "      <td>lol</td>\n",
       "      <td>&lt;null&gt;</td>\n",
       "      <td>&lt;null&gt;</td>\n",
       "      <td>&lt;null&gt;</td>\n",
       "      <td>&lt;null&gt;</td>\n",
       "      <td>1</td>\n",
       "    </tr>\n",
       "    <tr>\n",
       "      <th>21665</th>\n",
       "      <td>strain</td>\n",
       "      <td>muscle</td>\n",
       "      <td>low</td>\n",
       "      <td>back</td>\n",
       "      <td>today</td>\n",
       "      <td>ampamp</td>\n",
       "      <td>hurt</td>\n",
       "      <td>hurt</td>\n",
       "      <td>run</td>\n",
       "      <td>wekend</td>\n",
       "      <td>&lt;null&gt;</td>\n",
       "      <td>&lt;null&gt;</td>\n",
       "      <td>&lt;null&gt;</td>\n",
       "      <td>&lt;null&gt;</td>\n",
       "      <td>&lt;null&gt;</td>\n",
       "      <td>&lt;null&gt;</td>\n",
       "      <td>&lt;null&gt;</td>\n",
       "      <td>&lt;null&gt;</td>\n",
       "      <td>10</td>\n",
       "    </tr>\n",
       "  </tbody>\n",
       "</table>\n",
       "<p>21666 rows × 19 columns</p>\n",
       "</div>"
      ],
      "text/plain": [
       "                          0        1        2        3            4       5  \\\n",
       "0                    <name>      ops  eldhose     bhai       upload    read   \n",
       "1                       sit     wait       go      gym       almost   leave   \n",
       "2                     write     mild     wild  article       <null>  <null>   \n",
       "3      orangepineaplebanana  smothie     long     hard          day  heaven   \n",
       "4                    <name>     must      kid      boy  definatelyi    hope   \n",
       "...                     ...      ...      ...      ...          ...     ...   \n",
       "21661                <name>     nope     come     back           ct  <null>   \n",
       "21662                <name>      lol       pr  america         lmao    dont   \n",
       "21663                friday     gota     work  tomorow          tho  <null>   \n",
       "21664                   god  morning  twiters    tired        realy     ned   \n",
       "21665                strain   muscle      low     back        today  ampamp   \n",
       "\n",
       "             6        7        8         9      10         11      12      13  \\\n",
       "0      hindu's  article  barcamp      biny    rock        man  <null>  <null>   \n",
       "1      realize    never   charge      ipod    trip  wisconsin    dead  <null>   \n",
       "2       <null>   <null>   <null>    <null>  <null>     <null>  <null>  <null>   \n",
       "3       <null>   <null>   <null>    <null>  <null>     <null>  <null>  <null>   \n",
       "4       anyway       oo     girl  probably  honest       must  proper    ugly   \n",
       "...        ...      ...      ...       ...     ...        ...     ...     ...   \n",
       "21661   <null>   <null>   <null>    <null>  <null>     <null>  <null>  <null>   \n",
       "21662     like   theres  nothing    <null>  <null>     <null>  <null>  <null>   \n",
       "21663   <null>   <null>   <null>    <null>  <null>     <null>  <null>  <null>   \n",
       "21664        2     stay   twiter       lol    shit       take    life     lol   \n",
       "21665     hurt     hurt      run    wekend  <null>     <null>  <null>  <null>   \n",
       "\n",
       "           14      15      16      17  emotion  \n",
       "0      <null>  <null>  <null>  <null>        3  \n",
       "1      <null>  <null>  <null>  <null>        8  \n",
       "2      <null>  <null>  <null>  <null>        8  \n",
       "3      <null>  <null>  <null>  <null>        5  \n",
       "4       noone    like  <null>  <null>       10  \n",
       "...       ...     ...     ...     ...      ...  \n",
       "21661  <null>  <null>  <null>  <null>        8  \n",
       "21662  <null>  <null>  <null>  <null>       12  \n",
       "21663  <null>  <null>  <null>  <null>        5  \n",
       "21664  <null>  <null>  <null>  <null>        1  \n",
       "21665  <null>  <null>  <null>  <null>       10  \n",
       "\n",
       "[21666 rows x 19 columns]"
      ]
     },
     "execution_count": 455,
     "metadata": {},
     "output_type": "execute_result"
    }
   ],
   "source": [
    "df_train = pd.DataFrame(X_train_resampled)\n",
    "df_train['emotion']=y_train_resampled\n",
    "df_train "
   ]
  },
  {
   "cell_type": "code",
   "execution_count": 456,
   "metadata": {},
   "outputs": [
    {
     "data": {
      "text/html": [
       "<div>\n",
       "<style scoped>\n",
       "    .dataframe tbody tr th:only-of-type {\n",
       "        vertical-align: middle;\n",
       "    }\n",
       "\n",
       "    .dataframe tbody tr th {\n",
       "        vertical-align: top;\n",
       "    }\n",
       "\n",
       "    .dataframe thead th {\n",
       "        text-align: right;\n",
       "    }\n",
       "</style>\n",
       "<table border=\"1\" class=\"dataframe\">\n",
       "  <thead>\n",
       "    <tr style=\"text-align: right;\">\n",
       "      <th></th>\n",
       "      <th>0</th>\n",
       "      <th>1</th>\n",
       "      <th>2</th>\n",
       "      <th>3</th>\n",
       "      <th>4</th>\n",
       "      <th>5</th>\n",
       "      <th>6</th>\n",
       "      <th>7</th>\n",
       "      <th>8</th>\n",
       "      <th>9</th>\n",
       "      <th>10</th>\n",
       "      <th>11</th>\n",
       "      <th>12</th>\n",
       "      <th>13</th>\n",
       "      <th>14</th>\n",
       "      <th>15</th>\n",
       "      <th>16</th>\n",
       "      <th>17</th>\n",
       "      <th>emotion</th>\n",
       "    </tr>\n",
       "  </thead>\n",
       "  <tbody>\n",
       "    <tr>\n",
       "      <th>0</th>\n",
       "      <td>&lt;name&gt;</td>\n",
       "      <td>ops</td>\n",
       "      <td>eldhose</td>\n",
       "      <td>bhai</td>\n",
       "      <td>upload</td>\n",
       "      <td>read</td>\n",
       "      <td>hindu's</td>\n",
       "      <td>article</td>\n",
       "      <td>barcamp</td>\n",
       "      <td>biny</td>\n",
       "      <td>rock</td>\n",
       "      <td>man</td>\n",
       "      <td>&lt;null&gt;</td>\n",
       "      <td>&lt;null&gt;</td>\n",
       "      <td>&lt;null&gt;</td>\n",
       "      <td>&lt;null&gt;</td>\n",
       "      <td>&lt;null&gt;</td>\n",
       "      <td>&lt;null&gt;</td>\n",
       "      <td>3</td>\n",
       "    </tr>\n",
       "    <tr>\n",
       "      <th>1</th>\n",
       "      <td>sit</td>\n",
       "      <td>wait</td>\n",
       "      <td>go</td>\n",
       "      <td>gym</td>\n",
       "      <td>almost</td>\n",
       "      <td>leave</td>\n",
       "      <td>realize</td>\n",
       "      <td>never</td>\n",
       "      <td>charge</td>\n",
       "      <td>ipod</td>\n",
       "      <td>trip</td>\n",
       "      <td>wisconsin</td>\n",
       "      <td>dead</td>\n",
       "      <td>&lt;null&gt;</td>\n",
       "      <td>&lt;null&gt;</td>\n",
       "      <td>&lt;null&gt;</td>\n",
       "      <td>&lt;null&gt;</td>\n",
       "      <td>&lt;null&gt;</td>\n",
       "      <td>8</td>\n",
       "    </tr>\n",
       "    <tr>\n",
       "      <th>2</th>\n",
       "      <td>write</td>\n",
       "      <td>mild</td>\n",
       "      <td>wild</td>\n",
       "      <td>article</td>\n",
       "      <td>&lt;null&gt;</td>\n",
       "      <td>&lt;null&gt;</td>\n",
       "      <td>&lt;null&gt;</td>\n",
       "      <td>&lt;null&gt;</td>\n",
       "      <td>&lt;null&gt;</td>\n",
       "      <td>&lt;null&gt;</td>\n",
       "      <td>&lt;null&gt;</td>\n",
       "      <td>&lt;null&gt;</td>\n",
       "      <td>&lt;null&gt;</td>\n",
       "      <td>&lt;null&gt;</td>\n",
       "      <td>&lt;null&gt;</td>\n",
       "      <td>&lt;null&gt;</td>\n",
       "      <td>&lt;null&gt;</td>\n",
       "      <td>&lt;null&gt;</td>\n",
       "      <td>8</td>\n",
       "    </tr>\n",
       "    <tr>\n",
       "      <th>3</th>\n",
       "      <td>orangepineaplebanana</td>\n",
       "      <td>smothie</td>\n",
       "      <td>long</td>\n",
       "      <td>hard</td>\n",
       "      <td>day</td>\n",
       "      <td>heaven</td>\n",
       "      <td>&lt;null&gt;</td>\n",
       "      <td>&lt;null&gt;</td>\n",
       "      <td>&lt;null&gt;</td>\n",
       "      <td>&lt;null&gt;</td>\n",
       "      <td>&lt;null&gt;</td>\n",
       "      <td>&lt;null&gt;</td>\n",
       "      <td>&lt;null&gt;</td>\n",
       "      <td>&lt;null&gt;</td>\n",
       "      <td>&lt;null&gt;</td>\n",
       "      <td>&lt;null&gt;</td>\n",
       "      <td>&lt;null&gt;</td>\n",
       "      <td>&lt;null&gt;</td>\n",
       "      <td>5</td>\n",
       "    </tr>\n",
       "    <tr>\n",
       "      <th>4</th>\n",
       "      <td>&lt;name&gt;</td>\n",
       "      <td>must</td>\n",
       "      <td>kid</td>\n",
       "      <td>boy</td>\n",
       "      <td>definatelyi</td>\n",
       "      <td>hope</td>\n",
       "      <td>anyway</td>\n",
       "      <td>oo</td>\n",
       "      <td>girl</td>\n",
       "      <td>probably</td>\n",
       "      <td>honest</td>\n",
       "      <td>must</td>\n",
       "      <td>proper</td>\n",
       "      <td>ugly</td>\n",
       "      <td>noone</td>\n",
       "      <td>like</td>\n",
       "      <td>&lt;null&gt;</td>\n",
       "      <td>&lt;null&gt;</td>\n",
       "      <td>10</td>\n",
       "    </tr>\n",
       "    <tr>\n",
       "      <th>...</th>\n",
       "      <td>...</td>\n",
       "      <td>...</td>\n",
       "      <td>...</td>\n",
       "      <td>...</td>\n",
       "      <td>...</td>\n",
       "      <td>...</td>\n",
       "      <td>...</td>\n",
       "      <td>...</td>\n",
       "      <td>...</td>\n",
       "      <td>...</td>\n",
       "      <td>...</td>\n",
       "      <td>...</td>\n",
       "      <td>...</td>\n",
       "      <td>...</td>\n",
       "      <td>...</td>\n",
       "      <td>...</td>\n",
       "      <td>...</td>\n",
       "      <td>...</td>\n",
       "      <td>...</td>\n",
       "    </tr>\n",
       "    <tr>\n",
       "      <th>21660</th>\n",
       "      <td>wonder</td>\n",
       "      <td>actualy</td>\n",
       "      <td>wek</td>\n",
       "      <td>fuk</td>\n",
       "      <td>al</td>\n",
       "      <td>bar</td>\n",
       "      <td>pack</td>\n",
       "      <td>pep</td>\n",
       "      <td>r</td>\n",
       "      <td>leavin</td>\n",
       "      <td>&lt;null&gt;</td>\n",
       "      <td>&lt;null&gt;</td>\n",
       "      <td>&lt;null&gt;</td>\n",
       "      <td>&lt;null&gt;</td>\n",
       "      <td>&lt;null&gt;</td>\n",
       "      <td>&lt;null&gt;</td>\n",
       "      <td>&lt;null&gt;</td>\n",
       "      <td>&lt;null&gt;</td>\n",
       "      <td>8</td>\n",
       "    </tr>\n",
       "    <tr>\n",
       "      <th>21661</th>\n",
       "      <td>&lt;name&gt;</td>\n",
       "      <td>nope</td>\n",
       "      <td>come</td>\n",
       "      <td>back</td>\n",
       "      <td>ct</td>\n",
       "      <td>&lt;null&gt;</td>\n",
       "      <td>&lt;null&gt;</td>\n",
       "      <td>&lt;null&gt;</td>\n",
       "      <td>&lt;null&gt;</td>\n",
       "      <td>&lt;null&gt;</td>\n",
       "      <td>&lt;null&gt;</td>\n",
       "      <td>&lt;null&gt;</td>\n",
       "      <td>&lt;null&gt;</td>\n",
       "      <td>&lt;null&gt;</td>\n",
       "      <td>&lt;null&gt;</td>\n",
       "      <td>&lt;null&gt;</td>\n",
       "      <td>&lt;null&gt;</td>\n",
       "      <td>&lt;null&gt;</td>\n",
       "      <td>8</td>\n",
       "    </tr>\n",
       "    <tr>\n",
       "      <th>21662</th>\n",
       "      <td>&lt;name&gt;</td>\n",
       "      <td>lol</td>\n",
       "      <td>pr</td>\n",
       "      <td>america</td>\n",
       "      <td>lmao</td>\n",
       "      <td>dont</td>\n",
       "      <td>like</td>\n",
       "      <td>theres</td>\n",
       "      <td>nothing</td>\n",
       "      <td>&lt;null&gt;</td>\n",
       "      <td>&lt;null&gt;</td>\n",
       "      <td>&lt;null&gt;</td>\n",
       "      <td>&lt;null&gt;</td>\n",
       "      <td>&lt;null&gt;</td>\n",
       "      <td>&lt;null&gt;</td>\n",
       "      <td>&lt;null&gt;</td>\n",
       "      <td>&lt;null&gt;</td>\n",
       "      <td>&lt;null&gt;</td>\n",
       "      <td>12</td>\n",
       "    </tr>\n",
       "    <tr>\n",
       "      <th>21663</th>\n",
       "      <td>friday</td>\n",
       "      <td>gota</td>\n",
       "      <td>work</td>\n",
       "      <td>tomorow</td>\n",
       "      <td>tho</td>\n",
       "      <td>&lt;null&gt;</td>\n",
       "      <td>&lt;null&gt;</td>\n",
       "      <td>&lt;null&gt;</td>\n",
       "      <td>&lt;null&gt;</td>\n",
       "      <td>&lt;null&gt;</td>\n",
       "      <td>&lt;null&gt;</td>\n",
       "      <td>&lt;null&gt;</td>\n",
       "      <td>&lt;null&gt;</td>\n",
       "      <td>&lt;null&gt;</td>\n",
       "      <td>&lt;null&gt;</td>\n",
       "      <td>&lt;null&gt;</td>\n",
       "      <td>&lt;null&gt;</td>\n",
       "      <td>&lt;null&gt;</td>\n",
       "      <td>5</td>\n",
       "    </tr>\n",
       "    <tr>\n",
       "      <th>21665</th>\n",
       "      <td>strain</td>\n",
       "      <td>muscle</td>\n",
       "      <td>low</td>\n",
       "      <td>back</td>\n",
       "      <td>today</td>\n",
       "      <td>ampamp</td>\n",
       "      <td>hurt</td>\n",
       "      <td>hurt</td>\n",
       "      <td>run</td>\n",
       "      <td>wekend</td>\n",
       "      <td>&lt;null&gt;</td>\n",
       "      <td>&lt;null&gt;</td>\n",
       "      <td>&lt;null&gt;</td>\n",
       "      <td>&lt;null&gt;</td>\n",
       "      <td>&lt;null&gt;</td>\n",
       "      <td>&lt;null&gt;</td>\n",
       "      <td>&lt;null&gt;</td>\n",
       "      <td>&lt;null&gt;</td>\n",
       "      <td>10</td>\n",
       "    </tr>\n",
       "  </tbody>\n",
       "</table>\n",
       "<p>19578 rows × 19 columns</p>\n",
       "</div>"
      ],
      "text/plain": [
       "                          0        1        2        3            4       5  \\\n",
       "0                    <name>      ops  eldhose     bhai       upload    read   \n",
       "1                       sit     wait       go      gym       almost   leave   \n",
       "2                     write     mild     wild  article       <null>  <null>   \n",
       "3      orangepineaplebanana  smothie     long     hard          day  heaven   \n",
       "4                    <name>     must      kid      boy  definatelyi    hope   \n",
       "...                     ...      ...      ...      ...          ...     ...   \n",
       "21660                wonder  actualy      wek      fuk           al     bar   \n",
       "21661                <name>     nope     come     back           ct  <null>   \n",
       "21662                <name>      lol       pr  america         lmao    dont   \n",
       "21663                friday     gota     work  tomorow          tho  <null>   \n",
       "21665                strain   muscle      low     back        today  ampamp   \n",
       "\n",
       "             6        7        8         9      10         11      12      13  \\\n",
       "0      hindu's  article  barcamp      biny    rock        man  <null>  <null>   \n",
       "1      realize    never   charge      ipod    trip  wisconsin    dead  <null>   \n",
       "2       <null>   <null>   <null>    <null>  <null>     <null>  <null>  <null>   \n",
       "3       <null>   <null>   <null>    <null>  <null>     <null>  <null>  <null>   \n",
       "4       anyway       oo     girl  probably  honest       must  proper    ugly   \n",
       "...        ...      ...      ...       ...     ...        ...     ...     ...   \n",
       "21660     pack      pep        r    leavin  <null>     <null>  <null>  <null>   \n",
       "21661   <null>   <null>   <null>    <null>  <null>     <null>  <null>  <null>   \n",
       "21662     like   theres  nothing    <null>  <null>     <null>  <null>  <null>   \n",
       "21663   <null>   <null>   <null>    <null>  <null>     <null>  <null>  <null>   \n",
       "21665     hurt     hurt      run    wekend  <null>     <null>  <null>  <null>   \n",
       "\n",
       "           14      15      16      17  emotion  \n",
       "0      <null>  <null>  <null>  <null>        3  \n",
       "1      <null>  <null>  <null>  <null>        8  \n",
       "2      <null>  <null>  <null>  <null>        8  \n",
       "3      <null>  <null>  <null>  <null>        5  \n",
       "4       noone    like  <null>  <null>       10  \n",
       "...       ...     ...     ...     ...      ...  \n",
       "21660  <null>  <null>  <null>  <null>        8  \n",
       "21661  <null>  <null>  <null>  <null>        8  \n",
       "21662  <null>  <null>  <null>  <null>       12  \n",
       "21663  <null>  <null>  <null>  <null>        5  \n",
       "21665  <null>  <null>  <null>  <null>       10  \n",
       "\n",
       "[19578 rows x 19 columns]"
      ]
     },
     "execution_count": 456,
     "metadata": {},
     "output_type": "execute_result"
    }
   ],
   "source": [
    "df_traino = df_train.drop_duplicates()\n",
    "df_traino"
   ]
  },
  {
   "cell_type": "code",
   "execution_count": 457,
   "metadata": {},
   "outputs": [
    {
     "data": {
      "text/html": [
       "<div>\n",
       "<style scoped>\n",
       "    .dataframe tbody tr th:only-of-type {\n",
       "        vertical-align: middle;\n",
       "    }\n",
       "\n",
       "    .dataframe tbody tr th {\n",
       "        vertical-align: top;\n",
       "    }\n",
       "\n",
       "    .dataframe thead th {\n",
       "        text-align: right;\n",
       "    }\n",
       "</style>\n",
       "<table border=\"1\" class=\"dataframe\">\n",
       "  <thead>\n",
       "    <tr style=\"text-align: right;\">\n",
       "      <th></th>\n",
       "      <th>0</th>\n",
       "      <th>1</th>\n",
       "      <th>2</th>\n",
       "      <th>3</th>\n",
       "      <th>4</th>\n",
       "      <th>5</th>\n",
       "      <th>6</th>\n",
       "      <th>7</th>\n",
       "      <th>8</th>\n",
       "      <th>9</th>\n",
       "      <th>10</th>\n",
       "      <th>11</th>\n",
       "      <th>12</th>\n",
       "      <th>13</th>\n",
       "      <th>14</th>\n",
       "      <th>15</th>\n",
       "      <th>16</th>\n",
       "      <th>17</th>\n",
       "      <th>emotion</th>\n",
       "    </tr>\n",
       "  </thead>\n",
       "  <tbody>\n",
       "    <tr>\n",
       "      <th>0</th>\n",
       "      <td>grad</td>\n",
       "      <td>present</td>\n",
       "      <td>photo</td>\n",
       "      <td>facebok</td>\n",
       "      <td>&lt;null&gt;</td>\n",
       "      <td>&lt;null&gt;</td>\n",
       "      <td>&lt;null&gt;</td>\n",
       "      <td>&lt;null&gt;</td>\n",
       "      <td>&lt;null&gt;</td>\n",
       "      <td>&lt;null&gt;</td>\n",
       "      <td>&lt;null&gt;</td>\n",
       "      <td>&lt;null&gt;</td>\n",
       "      <td>&lt;null&gt;</td>\n",
       "      <td>&lt;null&gt;</td>\n",
       "      <td>&lt;null&gt;</td>\n",
       "      <td>&lt;null&gt;</td>\n",
       "      <td>&lt;null&gt;</td>\n",
       "      <td>&lt;null&gt;</td>\n",
       "      <td>8</td>\n",
       "    </tr>\n",
       "    <tr>\n",
       "      <th>1</th>\n",
       "      <td>bil</td>\n",
       "      <td>compton</td>\n",
       "      <td>wi</td>\n",
       "      <td>can't</td>\n",
       "      <td>twiter</td>\n",
       "      <td>&lt;null&gt;</td>\n",
       "      <td>&lt;null&gt;</td>\n",
       "      <td>&lt;null&gt;</td>\n",
       "      <td>&lt;null&gt;</td>\n",
       "      <td>&lt;null&gt;</td>\n",
       "      <td>&lt;null&gt;</td>\n",
       "      <td>&lt;null&gt;</td>\n",
       "      <td>&lt;null&gt;</td>\n",
       "      <td>&lt;null&gt;</td>\n",
       "      <td>&lt;null&gt;</td>\n",
       "      <td>&lt;null&gt;</td>\n",
       "      <td>&lt;null&gt;</td>\n",
       "      <td>&lt;null&gt;</td>\n",
       "      <td>11</td>\n",
       "    </tr>\n",
       "    <tr>\n",
       "      <th>2</th>\n",
       "      <td>&lt;name&gt;</td>\n",
       "      <td>make</td>\n",
       "      <td>friend</td>\n",
       "      <td>real</td>\n",
       "      <td>life</td>\n",
       "      <td>internet</td>\n",
       "      <td>ever</td>\n",
       "      <td>level</td>\n",
       "      <td>people</td>\n",
       "      <td>comfortable</td>\n",
       "      <td>&lt;null&gt;</td>\n",
       "      <td>&lt;null&gt;</td>\n",
       "      <td>&lt;null&gt;</td>\n",
       "      <td>&lt;null&gt;</td>\n",
       "      <td>&lt;null&gt;</td>\n",
       "      <td>&lt;null&gt;</td>\n",
       "      <td>&lt;null&gt;</td>\n",
       "      <td>&lt;null&gt;</td>\n",
       "      <td>5</td>\n",
       "    </tr>\n",
       "    <tr>\n",
       "      <th>3</th>\n",
       "      <td>&lt;name&gt;</td>\n",
       "      <td>love</td>\n",
       "      <td>sausage</td>\n",
       "      <td>kitchenfire</td>\n",
       "      <td>&lt;null&gt;</td>\n",
       "      <td>&lt;null&gt;</td>\n",
       "      <td>&lt;null&gt;</td>\n",
       "      <td>&lt;null&gt;</td>\n",
       "      <td>&lt;null&gt;</td>\n",
       "      <td>&lt;null&gt;</td>\n",
       "      <td>&lt;null&gt;</td>\n",
       "      <td>&lt;null&gt;</td>\n",
       "      <td>&lt;null&gt;</td>\n",
       "      <td>&lt;null&gt;</td>\n",
       "      <td>&lt;null&gt;</td>\n",
       "      <td>&lt;null&gt;</td>\n",
       "      <td>&lt;null&gt;</td>\n",
       "      <td>&lt;null&gt;</td>\n",
       "      <td>7</td>\n",
       "    </tr>\n",
       "    <tr>\n",
       "      <th>4</th>\n",
       "      <td>&lt;name&gt;</td>\n",
       "      <td>washing</td>\n",
       "      <td>comp</td>\n",
       "      <td>great</td>\n",
       "      <td>people</td>\n",
       "      <td>fab</td>\n",
       "      <td>atmosphere</td>\n",
       "      <td>1st</td>\n",
       "      <td>dist</td>\n",
       "      <td>2nd</td>\n",
       "      <td>exp</td>\n",
       "      <td>s</td>\n",
       "      <td>&lt;null&gt;</td>\n",
       "      <td>&lt;null&gt;</td>\n",
       "      <td>&lt;null&gt;</td>\n",
       "      <td>&lt;null&gt;</td>\n",
       "      <td>&lt;null&gt;</td>\n",
       "      <td>&lt;null&gt;</td>\n",
       "      <td>9</td>\n",
       "    </tr>\n",
       "    <tr>\n",
       "      <th>...</th>\n",
       "      <td>...</td>\n",
       "      <td>...</td>\n",
       "      <td>...</td>\n",
       "      <td>...</td>\n",
       "      <td>...</td>\n",
       "      <td>...</td>\n",
       "      <td>...</td>\n",
       "      <td>...</td>\n",
       "      <td>...</td>\n",
       "      <td>...</td>\n",
       "      <td>...</td>\n",
       "      <td>...</td>\n",
       "      <td>...</td>\n",
       "      <td>...</td>\n",
       "      <td>...</td>\n",
       "      <td>...</td>\n",
       "      <td>...</td>\n",
       "      <td>...</td>\n",
       "      <td>...</td>\n",
       "    </tr>\n",
       "    <tr>\n",
       "      <th>7291</th>\n",
       "      <td>wat</td>\n",
       "      <td>stresful</td>\n",
       "      <td>wek</td>\n",
       "      <td>jus</td>\n",
       "      <td>hope</td>\n",
       "      <td>everything</td>\n",
       "      <td>fals</td>\n",
       "      <td>place</td>\n",
       "      <td>4me</td>\n",
       "      <td>&lt;null&gt;</td>\n",
       "      <td>&lt;null&gt;</td>\n",
       "      <td>&lt;null&gt;</td>\n",
       "      <td>&lt;null&gt;</td>\n",
       "      <td>&lt;null&gt;</td>\n",
       "      <td>&lt;null&gt;</td>\n",
       "      <td>&lt;null&gt;</td>\n",
       "      <td>&lt;null&gt;</td>\n",
       "      <td>&lt;null&gt;</td>\n",
       "      <td>10</td>\n",
       "    </tr>\n",
       "    <tr>\n",
       "      <th>7292</th>\n",
       "      <td>&lt;name&gt;</td>\n",
       "      <td>yea</td>\n",
       "      <td>fun</td>\n",
       "      <td>dive</td>\n",
       "      <td>bit</td>\n",
       "      <td>scary</td>\n",
       "      <td>sometimes</td>\n",
       "      <td>fun</td>\n",
       "      <td>u</td>\n",
       "      <td>like</td>\n",
       "      <td>dive</td>\n",
       "      <td>&lt;null&gt;</td>\n",
       "      <td>&lt;null&gt;</td>\n",
       "      <td>&lt;null&gt;</td>\n",
       "      <td>&lt;null&gt;</td>\n",
       "      <td>&lt;null&gt;</td>\n",
       "      <td>&lt;null&gt;</td>\n",
       "      <td>&lt;null&gt;</td>\n",
       "      <td>10</td>\n",
       "    </tr>\n",
       "    <tr>\n",
       "      <th>7293</th>\n",
       "      <td>lot</td>\n",
       "      <td>catch</td>\n",
       "      <td>wekend</td>\n",
       "      <td>bhr</td>\n",
       "      <td>host</td>\n",
       "      <td>ben</td>\n",
       "      <td>busy</td>\n",
       "      <td>&lt;null&gt;</td>\n",
       "      <td>&lt;null&gt;</td>\n",
       "      <td>&lt;null&gt;</td>\n",
       "      <td>&lt;null&gt;</td>\n",
       "      <td>&lt;null&gt;</td>\n",
       "      <td>&lt;null&gt;</td>\n",
       "      <td>&lt;null&gt;</td>\n",
       "      <td>&lt;null&gt;</td>\n",
       "      <td>&lt;null&gt;</td>\n",
       "      <td>&lt;null&gt;</td>\n",
       "      <td>&lt;null&gt;</td>\n",
       "      <td>10</td>\n",
       "    </tr>\n",
       "    <tr>\n",
       "      <th>7294</th>\n",
       "      <td>&lt;name&gt;</td>\n",
       "      <td>oh</td>\n",
       "      <td>yay</td>\n",
       "      <td>ben</td>\n",
       "      <td>forevs</td>\n",
       "      <td>since</td>\n",
       "      <td>last</td>\n",
       "      <td>tv</td>\n",
       "      <td>bake</td>\n",
       "      <td>diner</td>\n",
       "      <td>god</td>\n",
       "      <td>yumy</td>\n",
       "      <td>prawn</td>\n",
       "      <td>x</td>\n",
       "      <td>&lt;null&gt;</td>\n",
       "      <td>&lt;null&gt;</td>\n",
       "      <td>&lt;null&gt;</td>\n",
       "      <td>&lt;null&gt;</td>\n",
       "      <td>3</td>\n",
       "    </tr>\n",
       "    <tr>\n",
       "      <th>7295</th>\n",
       "      <td>3</td>\n",
       "      <td>people</td>\n",
       "      <td>stop</td>\n",
       "      <td>folowing</td>\n",
       "      <td>something</td>\n",
       "      <td>say</td>\n",
       "      <td>&lt;null&gt;</td>\n",
       "      <td>&lt;null&gt;</td>\n",
       "      <td>&lt;null&gt;</td>\n",
       "      <td>&lt;null&gt;</td>\n",
       "      <td>&lt;null&gt;</td>\n",
       "      <td>&lt;null&gt;</td>\n",
       "      <td>&lt;null&gt;</td>\n",
       "      <td>&lt;null&gt;</td>\n",
       "      <td>&lt;null&gt;</td>\n",
       "      <td>&lt;null&gt;</td>\n",
       "      <td>&lt;null&gt;</td>\n",
       "      <td>&lt;null&gt;</td>\n",
       "      <td>12</td>\n",
       "    </tr>\n",
       "  </tbody>\n",
       "</table>\n",
       "<p>7296 rows × 19 columns</p>\n",
       "</div>"
      ],
      "text/plain": [
       "           0         1        2            3          4           5  \\\n",
       "0       grad   present    photo      facebok     <null>      <null>   \n",
       "1        bil   compton       wi        can't     twiter      <null>   \n",
       "2     <name>      make   friend         real       life    internet   \n",
       "3     <name>      love  sausage  kitchenfire     <null>      <null>   \n",
       "4     <name>   washing     comp        great     people         fab   \n",
       "...      ...       ...      ...          ...        ...         ...   \n",
       "7291     wat  stresful      wek          jus       hope  everything   \n",
       "7292  <name>       yea      fun         dive        bit       scary   \n",
       "7293     lot     catch   wekend          bhr       host         ben   \n",
       "7294  <name>        oh      yay          ben     forevs       since   \n",
       "7295       3    people     stop     folowing  something         say   \n",
       "\n",
       "               6       7       8            9      10      11      12      13  \\\n",
       "0         <null>  <null>  <null>       <null>  <null>  <null>  <null>  <null>   \n",
       "1         <null>  <null>  <null>       <null>  <null>  <null>  <null>  <null>   \n",
       "2           ever   level  people  comfortable  <null>  <null>  <null>  <null>   \n",
       "3         <null>  <null>  <null>       <null>  <null>  <null>  <null>  <null>   \n",
       "4     atmosphere     1st    dist          2nd     exp       s  <null>  <null>   \n",
       "...          ...     ...     ...          ...     ...     ...     ...     ...   \n",
       "7291        fals   place     4me       <null>  <null>  <null>  <null>  <null>   \n",
       "7292   sometimes     fun       u         like    dive  <null>  <null>  <null>   \n",
       "7293        busy  <null>  <null>       <null>  <null>  <null>  <null>  <null>   \n",
       "7294        last      tv    bake        diner     god    yumy   prawn       x   \n",
       "7295      <null>  <null>  <null>       <null>  <null>  <null>  <null>  <null>   \n",
       "\n",
       "          14      15      16      17  emotion  \n",
       "0     <null>  <null>  <null>  <null>        8  \n",
       "1     <null>  <null>  <null>  <null>       11  \n",
       "2     <null>  <null>  <null>  <null>        5  \n",
       "3     <null>  <null>  <null>  <null>        7  \n",
       "4     <null>  <null>  <null>  <null>        9  \n",
       "...      ...     ...     ...     ...      ...  \n",
       "7291  <null>  <null>  <null>  <null>       10  \n",
       "7292  <null>  <null>  <null>  <null>       10  \n",
       "7293  <null>  <null>  <null>  <null>       10  \n",
       "7294  <null>  <null>  <null>  <null>        3  \n",
       "7295  <null>  <null>  <null>  <null>       12  \n",
       "\n",
       "[7296 rows x 19 columns]"
      ]
     },
     "execution_count": 457,
     "metadata": {},
     "output_type": "execute_result"
    }
   ],
   "source": [
    "df_val = pd.DataFrame(X_val_resampled)\n",
    "df_val['emotion']=y_val_resampled\n",
    "df_val"
   ]
  },
  {
   "cell_type": "code",
   "execution_count": 458,
   "metadata": {},
   "outputs": [
    {
     "data": {
      "text/html": [
       "<div>\n",
       "<style scoped>\n",
       "    .dataframe tbody tr th:only-of-type {\n",
       "        vertical-align: middle;\n",
       "    }\n",
       "\n",
       "    .dataframe tbody tr th {\n",
       "        vertical-align: top;\n",
       "    }\n",
       "\n",
       "    .dataframe thead th {\n",
       "        text-align: right;\n",
       "    }\n",
       "</style>\n",
       "<table border=\"1\" class=\"dataframe\">\n",
       "  <thead>\n",
       "    <tr style=\"text-align: right;\">\n",
       "      <th></th>\n",
       "      <th>0</th>\n",
       "      <th>1</th>\n",
       "      <th>2</th>\n",
       "      <th>3</th>\n",
       "      <th>4</th>\n",
       "      <th>5</th>\n",
       "      <th>6</th>\n",
       "      <th>7</th>\n",
       "      <th>8</th>\n",
       "      <th>9</th>\n",
       "      <th>10</th>\n",
       "      <th>11</th>\n",
       "      <th>12</th>\n",
       "      <th>13</th>\n",
       "      <th>14</th>\n",
       "      <th>15</th>\n",
       "      <th>16</th>\n",
       "      <th>17</th>\n",
       "      <th>emotion</th>\n",
       "    </tr>\n",
       "  </thead>\n",
       "  <tbody>\n",
       "    <tr>\n",
       "      <th>0</th>\n",
       "      <td>grad</td>\n",
       "      <td>present</td>\n",
       "      <td>photo</td>\n",
       "      <td>facebok</td>\n",
       "      <td>&lt;null&gt;</td>\n",
       "      <td>&lt;null&gt;</td>\n",
       "      <td>&lt;null&gt;</td>\n",
       "      <td>&lt;null&gt;</td>\n",
       "      <td>&lt;null&gt;</td>\n",
       "      <td>&lt;null&gt;</td>\n",
       "      <td>&lt;null&gt;</td>\n",
       "      <td>&lt;null&gt;</td>\n",
       "      <td>&lt;null&gt;</td>\n",
       "      <td>&lt;null&gt;</td>\n",
       "      <td>&lt;null&gt;</td>\n",
       "      <td>&lt;null&gt;</td>\n",
       "      <td>&lt;null&gt;</td>\n",
       "      <td>&lt;null&gt;</td>\n",
       "      <td>8</td>\n",
       "    </tr>\n",
       "    <tr>\n",
       "      <th>1</th>\n",
       "      <td>bil</td>\n",
       "      <td>compton</td>\n",
       "      <td>wi</td>\n",
       "      <td>can't</td>\n",
       "      <td>twiter</td>\n",
       "      <td>&lt;null&gt;</td>\n",
       "      <td>&lt;null&gt;</td>\n",
       "      <td>&lt;null&gt;</td>\n",
       "      <td>&lt;null&gt;</td>\n",
       "      <td>&lt;null&gt;</td>\n",
       "      <td>&lt;null&gt;</td>\n",
       "      <td>&lt;null&gt;</td>\n",
       "      <td>&lt;null&gt;</td>\n",
       "      <td>&lt;null&gt;</td>\n",
       "      <td>&lt;null&gt;</td>\n",
       "      <td>&lt;null&gt;</td>\n",
       "      <td>&lt;null&gt;</td>\n",
       "      <td>&lt;null&gt;</td>\n",
       "      <td>11</td>\n",
       "    </tr>\n",
       "    <tr>\n",
       "      <th>2</th>\n",
       "      <td>&lt;name&gt;</td>\n",
       "      <td>make</td>\n",
       "      <td>friend</td>\n",
       "      <td>real</td>\n",
       "      <td>life</td>\n",
       "      <td>internet</td>\n",
       "      <td>ever</td>\n",
       "      <td>level</td>\n",
       "      <td>people</td>\n",
       "      <td>comfortable</td>\n",
       "      <td>&lt;null&gt;</td>\n",
       "      <td>&lt;null&gt;</td>\n",
       "      <td>&lt;null&gt;</td>\n",
       "      <td>&lt;null&gt;</td>\n",
       "      <td>&lt;null&gt;</td>\n",
       "      <td>&lt;null&gt;</td>\n",
       "      <td>&lt;null&gt;</td>\n",
       "      <td>&lt;null&gt;</td>\n",
       "      <td>5</td>\n",
       "    </tr>\n",
       "    <tr>\n",
       "      <th>3</th>\n",
       "      <td>&lt;name&gt;</td>\n",
       "      <td>love</td>\n",
       "      <td>sausage</td>\n",
       "      <td>kitchenfire</td>\n",
       "      <td>&lt;null&gt;</td>\n",
       "      <td>&lt;null&gt;</td>\n",
       "      <td>&lt;null&gt;</td>\n",
       "      <td>&lt;null&gt;</td>\n",
       "      <td>&lt;null&gt;</td>\n",
       "      <td>&lt;null&gt;</td>\n",
       "      <td>&lt;null&gt;</td>\n",
       "      <td>&lt;null&gt;</td>\n",
       "      <td>&lt;null&gt;</td>\n",
       "      <td>&lt;null&gt;</td>\n",
       "      <td>&lt;null&gt;</td>\n",
       "      <td>&lt;null&gt;</td>\n",
       "      <td>&lt;null&gt;</td>\n",
       "      <td>&lt;null&gt;</td>\n",
       "      <td>7</td>\n",
       "    </tr>\n",
       "    <tr>\n",
       "      <th>4</th>\n",
       "      <td>&lt;name&gt;</td>\n",
       "      <td>washing</td>\n",
       "      <td>comp</td>\n",
       "      <td>great</td>\n",
       "      <td>people</td>\n",
       "      <td>fab</td>\n",
       "      <td>atmosphere</td>\n",
       "      <td>1st</td>\n",
       "      <td>dist</td>\n",
       "      <td>2nd</td>\n",
       "      <td>exp</td>\n",
       "      <td>s</td>\n",
       "      <td>&lt;null&gt;</td>\n",
       "      <td>&lt;null&gt;</td>\n",
       "      <td>&lt;null&gt;</td>\n",
       "      <td>&lt;null&gt;</td>\n",
       "      <td>&lt;null&gt;</td>\n",
       "      <td>&lt;null&gt;</td>\n",
       "      <td>9</td>\n",
       "    </tr>\n",
       "    <tr>\n",
       "      <th>...</th>\n",
       "      <td>...</td>\n",
       "      <td>...</td>\n",
       "      <td>...</td>\n",
       "      <td>...</td>\n",
       "      <td>...</td>\n",
       "      <td>...</td>\n",
       "      <td>...</td>\n",
       "      <td>...</td>\n",
       "      <td>...</td>\n",
       "      <td>...</td>\n",
       "      <td>...</td>\n",
       "      <td>...</td>\n",
       "      <td>...</td>\n",
       "      <td>...</td>\n",
       "      <td>...</td>\n",
       "      <td>...</td>\n",
       "      <td>...</td>\n",
       "      <td>...</td>\n",
       "      <td>...</td>\n",
       "    </tr>\n",
       "    <tr>\n",
       "      <th>7290</th>\n",
       "      <td>watch</td>\n",
       "      <td>et</td>\n",
       "      <td>today</td>\n",
       "      <td>lt3</td>\n",
       "      <td>suposed</td>\n",
       "      <td>clip</td>\n",
       "      <td>new</td>\n",
       "      <td>mon</td>\n",
       "      <td>hat</td>\n",
       "      <td>drag</td>\n",
       "      <td>hel</td>\n",
       "      <td>&lt;null&gt;</td>\n",
       "      <td>&lt;null&gt;</td>\n",
       "      <td>&lt;null&gt;</td>\n",
       "      <td>&lt;null&gt;</td>\n",
       "      <td>&lt;null&gt;</td>\n",
       "      <td>&lt;null&gt;</td>\n",
       "      <td>&lt;null&gt;</td>\n",
       "      <td>8</td>\n",
       "    </tr>\n",
       "    <tr>\n",
       "      <th>7291</th>\n",
       "      <td>wat</td>\n",
       "      <td>stresful</td>\n",
       "      <td>wek</td>\n",
       "      <td>jus</td>\n",
       "      <td>hope</td>\n",
       "      <td>everything</td>\n",
       "      <td>fals</td>\n",
       "      <td>place</td>\n",
       "      <td>4me</td>\n",
       "      <td>&lt;null&gt;</td>\n",
       "      <td>&lt;null&gt;</td>\n",
       "      <td>&lt;null&gt;</td>\n",
       "      <td>&lt;null&gt;</td>\n",
       "      <td>&lt;null&gt;</td>\n",
       "      <td>&lt;null&gt;</td>\n",
       "      <td>&lt;null&gt;</td>\n",
       "      <td>&lt;null&gt;</td>\n",
       "      <td>&lt;null&gt;</td>\n",
       "      <td>10</td>\n",
       "    </tr>\n",
       "    <tr>\n",
       "      <th>7292</th>\n",
       "      <td>&lt;name&gt;</td>\n",
       "      <td>yea</td>\n",
       "      <td>fun</td>\n",
       "      <td>dive</td>\n",
       "      <td>bit</td>\n",
       "      <td>scary</td>\n",
       "      <td>sometimes</td>\n",
       "      <td>fun</td>\n",
       "      <td>u</td>\n",
       "      <td>like</td>\n",
       "      <td>dive</td>\n",
       "      <td>&lt;null&gt;</td>\n",
       "      <td>&lt;null&gt;</td>\n",
       "      <td>&lt;null&gt;</td>\n",
       "      <td>&lt;null&gt;</td>\n",
       "      <td>&lt;null&gt;</td>\n",
       "      <td>&lt;null&gt;</td>\n",
       "      <td>&lt;null&gt;</td>\n",
       "      <td>10</td>\n",
       "    </tr>\n",
       "    <tr>\n",
       "      <th>7293</th>\n",
       "      <td>lot</td>\n",
       "      <td>catch</td>\n",
       "      <td>wekend</td>\n",
       "      <td>bhr</td>\n",
       "      <td>host</td>\n",
       "      <td>ben</td>\n",
       "      <td>busy</td>\n",
       "      <td>&lt;null&gt;</td>\n",
       "      <td>&lt;null&gt;</td>\n",
       "      <td>&lt;null&gt;</td>\n",
       "      <td>&lt;null&gt;</td>\n",
       "      <td>&lt;null&gt;</td>\n",
       "      <td>&lt;null&gt;</td>\n",
       "      <td>&lt;null&gt;</td>\n",
       "      <td>&lt;null&gt;</td>\n",
       "      <td>&lt;null&gt;</td>\n",
       "      <td>&lt;null&gt;</td>\n",
       "      <td>&lt;null&gt;</td>\n",
       "      <td>10</td>\n",
       "    </tr>\n",
       "    <tr>\n",
       "      <th>7295</th>\n",
       "      <td>3</td>\n",
       "      <td>people</td>\n",
       "      <td>stop</td>\n",
       "      <td>folowing</td>\n",
       "      <td>something</td>\n",
       "      <td>say</td>\n",
       "      <td>&lt;null&gt;</td>\n",
       "      <td>&lt;null&gt;</td>\n",
       "      <td>&lt;null&gt;</td>\n",
       "      <td>&lt;null&gt;</td>\n",
       "      <td>&lt;null&gt;</td>\n",
       "      <td>&lt;null&gt;</td>\n",
       "      <td>&lt;null&gt;</td>\n",
       "      <td>&lt;null&gt;</td>\n",
       "      <td>&lt;null&gt;</td>\n",
       "      <td>&lt;null&gt;</td>\n",
       "      <td>&lt;null&gt;</td>\n",
       "      <td>&lt;null&gt;</td>\n",
       "      <td>12</td>\n",
       "    </tr>\n",
       "  </tbody>\n",
       "</table>\n",
       "<p>6551 rows × 19 columns</p>\n",
       "</div>"
      ],
      "text/plain": [
       "           0         1        2            3          4           5  \\\n",
       "0       grad   present    photo      facebok     <null>      <null>   \n",
       "1        bil   compton       wi        can't     twiter      <null>   \n",
       "2     <name>      make   friend         real       life    internet   \n",
       "3     <name>      love  sausage  kitchenfire     <null>      <null>   \n",
       "4     <name>   washing     comp        great     people         fab   \n",
       "...      ...       ...      ...          ...        ...         ...   \n",
       "7290   watch        et    today          lt3    suposed        clip   \n",
       "7291     wat  stresful      wek          jus       hope  everything   \n",
       "7292  <name>       yea      fun         dive        bit       scary   \n",
       "7293     lot     catch   wekend          bhr       host         ben   \n",
       "7295       3    people     stop     folowing  something         say   \n",
       "\n",
       "               6       7       8            9      10      11      12      13  \\\n",
       "0         <null>  <null>  <null>       <null>  <null>  <null>  <null>  <null>   \n",
       "1         <null>  <null>  <null>       <null>  <null>  <null>  <null>  <null>   \n",
       "2           ever   level  people  comfortable  <null>  <null>  <null>  <null>   \n",
       "3         <null>  <null>  <null>       <null>  <null>  <null>  <null>  <null>   \n",
       "4     atmosphere     1st    dist          2nd     exp       s  <null>  <null>   \n",
       "...          ...     ...     ...          ...     ...     ...     ...     ...   \n",
       "7290         new     mon     hat         drag     hel  <null>  <null>  <null>   \n",
       "7291        fals   place     4me       <null>  <null>  <null>  <null>  <null>   \n",
       "7292   sometimes     fun       u         like    dive  <null>  <null>  <null>   \n",
       "7293        busy  <null>  <null>       <null>  <null>  <null>  <null>  <null>   \n",
       "7295      <null>  <null>  <null>       <null>  <null>  <null>  <null>  <null>   \n",
       "\n",
       "          14      15      16      17  emotion  \n",
       "0     <null>  <null>  <null>  <null>        8  \n",
       "1     <null>  <null>  <null>  <null>       11  \n",
       "2     <null>  <null>  <null>  <null>        5  \n",
       "3     <null>  <null>  <null>  <null>        7  \n",
       "4     <null>  <null>  <null>  <null>        9  \n",
       "...      ...     ...     ...     ...      ...  \n",
       "7290  <null>  <null>  <null>  <null>        8  \n",
       "7291  <null>  <null>  <null>  <null>       10  \n",
       "7292  <null>  <null>  <null>  <null>       10  \n",
       "7293  <null>  <null>  <null>  <null>       10  \n",
       "7295  <null>  <null>  <null>  <null>       12  \n",
       "\n",
       "[6551 rows x 19 columns]"
      ]
     },
     "execution_count": 458,
     "metadata": {},
     "output_type": "execute_result"
    }
   ],
   "source": [
    "df_valo = df_val.drop_duplicates()\n",
    "df_valo"
   ]
  },
  {
   "cell_type": "code",
   "execution_count": 459,
   "metadata": {},
   "outputs": [],
   "source": [
    "indexo = list(df_traino.index)\n",
    "indexa = list(df_train.index)\n",
    "indexd = []\n",
    "for i in indexa:\n",
    "    if(i not in indexo):\n",
    "        indexd.append(i)\n",
    "\n",
    "indexov = list(df_valo.index)\n",
    "indexav = list(df_val.index)\n",
    "indexdv = []\n",
    "for i in indexav:\n",
    "    if(i not in indexov):\n",
    "        indexdv.append(i)"
   ]
  },
  {
   "cell_type": "code",
   "execution_count": 460,
   "metadata": {},
   "outputs": [
    {
     "data": {
      "text/plain": [
       "(2088, 745)"
      ]
     },
     "execution_count": 460,
     "metadata": {},
     "output_type": "execute_result"
    }
   ],
   "source": [
    "len(indexd),len(indexdv)"
   ]
  },
  {
   "cell_type": "code",
   "execution_count": 461,
   "metadata": {},
   "outputs": [
    {
     "data": {
      "text/html": [
       "<div>\n",
       "<style scoped>\n",
       "    .dataframe tbody tr th:only-of-type {\n",
       "        vertical-align: middle;\n",
       "    }\n",
       "\n",
       "    .dataframe tbody tr th {\n",
       "        vertical-align: top;\n",
       "    }\n",
       "\n",
       "    .dataframe thead th {\n",
       "        text-align: right;\n",
       "    }\n",
       "</style>\n",
       "<table border=\"1\" class=\"dataframe\">\n",
       "  <thead>\n",
       "    <tr style=\"text-align: right;\">\n",
       "      <th></th>\n",
       "      <th>0</th>\n",
       "      <th>1</th>\n",
       "      <th>2</th>\n",
       "      <th>3</th>\n",
       "      <th>4</th>\n",
       "      <th>5</th>\n",
       "      <th>6</th>\n",
       "      <th>7</th>\n",
       "      <th>8</th>\n",
       "      <th>9</th>\n",
       "      <th>10</th>\n",
       "      <th>11</th>\n",
       "      <th>12</th>\n",
       "      <th>13</th>\n",
       "      <th>14</th>\n",
       "      <th>15</th>\n",
       "      <th>16</th>\n",
       "      <th>17</th>\n",
       "      <th>emotion</th>\n",
       "    </tr>\n",
       "  </thead>\n",
       "  <tbody>\n",
       "    <tr>\n",
       "      <th>100</th>\n",
       "      <td>im</td>\n",
       "      <td>pain</td>\n",
       "      <td>ben</td>\n",
       "      <td>stod</td>\n",
       "      <td>fet</td>\n",
       "      <td>15hrs</td>\n",
       "      <td>nursing</td>\n",
       "      <td>hard</td>\n",
       "      <td>love</td>\n",
       "      <td>gorgeous</td>\n",
       "      <td>evening</td>\n",
       "      <td>xxx</td>\n",
       "      <td>&lt;null&gt;</td>\n",
       "      <td>&lt;null&gt;</td>\n",
       "      <td>&lt;null&gt;</td>\n",
       "      <td>&lt;null&gt;</td>\n",
       "      <td>&lt;null&gt;</td>\n",
       "      <td>&lt;null&gt;</td>\n",
       "      <td>3</td>\n",
       "    </tr>\n",
       "    <tr>\n",
       "      <th>291</th>\n",
       "      <td>&lt;name&gt;</td>\n",
       "      <td>always</td>\n",
       "      <td>fel</td>\n",
       "      <td>guilty</td>\n",
       "      <td>&lt;null&gt;</td>\n",
       "      <td>&lt;null&gt;</td>\n",
       "      <td>&lt;null&gt;</td>\n",
       "      <td>&lt;null&gt;</td>\n",
       "      <td>&lt;null&gt;</td>\n",
       "      <td>&lt;null&gt;</td>\n",
       "      <td>&lt;null&gt;</td>\n",
       "      <td>&lt;null&gt;</td>\n",
       "      <td>&lt;null&gt;</td>\n",
       "      <td>&lt;null&gt;</td>\n",
       "      <td>&lt;null&gt;</td>\n",
       "      <td>&lt;null&gt;</td>\n",
       "      <td>&lt;null&gt;</td>\n",
       "      <td>&lt;null&gt;</td>\n",
       "      <td>0</td>\n",
       "    </tr>\n",
       "    <tr>\n",
       "      <th>353</th>\n",
       "      <td>&lt;name&gt;</td>\n",
       "      <td>always</td>\n",
       "      <td>fel</td>\n",
       "      <td>guilty</td>\n",
       "      <td>&lt;null&gt;</td>\n",
       "      <td>&lt;null&gt;</td>\n",
       "      <td>&lt;null&gt;</td>\n",
       "      <td>&lt;null&gt;</td>\n",
       "      <td>&lt;null&gt;</td>\n",
       "      <td>&lt;null&gt;</td>\n",
       "      <td>&lt;null&gt;</td>\n",
       "      <td>&lt;null&gt;</td>\n",
       "      <td>&lt;null&gt;</td>\n",
       "      <td>&lt;null&gt;</td>\n",
       "      <td>&lt;null&gt;</td>\n",
       "      <td>&lt;null&gt;</td>\n",
       "      <td>&lt;null&gt;</td>\n",
       "      <td>&lt;null&gt;</td>\n",
       "      <td>0</td>\n",
       "    </tr>\n",
       "    <tr>\n",
       "      <th>459</th>\n",
       "      <td>&lt;name&gt;</td>\n",
       "      <td>hopefuly</td>\n",
       "      <td>go</td>\n",
       "      <td>far</td>\n",
       "      <td>sometimes</td>\n",
       "      <td>fel</td>\n",
       "      <td>like</td>\n",
       "      <td>renounce</td>\n",
       "      <td>rot</td>\n",
       "      <td>&lt;null&gt;</td>\n",
       "      <td>&lt;null&gt;</td>\n",
       "      <td>&lt;null&gt;</td>\n",
       "      <td>&lt;null&gt;</td>\n",
       "      <td>&lt;null&gt;</td>\n",
       "      <td>&lt;null&gt;</td>\n",
       "      <td>&lt;null&gt;</td>\n",
       "      <td>&lt;null&gt;</td>\n",
       "      <td>&lt;null&gt;</td>\n",
       "      <td>0</td>\n",
       "    </tr>\n",
       "    <tr>\n",
       "      <th>541</th>\n",
       "      <td>&lt;name&gt;</td>\n",
       "      <td>always</td>\n",
       "      <td>fel</td>\n",
       "      <td>guilty</td>\n",
       "      <td>&lt;null&gt;</td>\n",
       "      <td>&lt;null&gt;</td>\n",
       "      <td>&lt;null&gt;</td>\n",
       "      <td>&lt;null&gt;</td>\n",
       "      <td>&lt;null&gt;</td>\n",
       "      <td>&lt;null&gt;</td>\n",
       "      <td>&lt;null&gt;</td>\n",
       "      <td>&lt;null&gt;</td>\n",
       "      <td>&lt;null&gt;</td>\n",
       "      <td>&lt;null&gt;</td>\n",
       "      <td>&lt;null&gt;</td>\n",
       "      <td>&lt;null&gt;</td>\n",
       "      <td>&lt;null&gt;</td>\n",
       "      <td>&lt;null&gt;</td>\n",
       "      <td>0</td>\n",
       "    </tr>\n",
       "    <tr>\n",
       "      <th>...</th>\n",
       "      <td>...</td>\n",
       "      <td>...</td>\n",
       "      <td>...</td>\n",
       "      <td>...</td>\n",
       "      <td>...</td>\n",
       "      <td>...</td>\n",
       "      <td>...</td>\n",
       "      <td>...</td>\n",
       "      <td>...</td>\n",
       "      <td>...</td>\n",
       "      <td>...</td>\n",
       "      <td>...</td>\n",
       "      <td>...</td>\n",
       "      <td>...</td>\n",
       "      <td>...</td>\n",
       "      <td>...</td>\n",
       "      <td>...</td>\n",
       "      <td>...</td>\n",
       "      <td>...</td>\n",
       "    </tr>\n",
       "    <tr>\n",
       "      <th>21636</th>\n",
       "      <td>&lt;name&gt;</td>\n",
       "      <td>voc</td>\n",
       "      <td>que</td>\n",
       "      <td>sumiu</td>\n",
       "      <td>forever</td>\n",
       "      <td>msn</td>\n",
       "      <td>&lt;null&gt;</td>\n",
       "      <td>&lt;null&gt;</td>\n",
       "      <td>&lt;null&gt;</td>\n",
       "      <td>&lt;null&gt;</td>\n",
       "      <td>&lt;null&gt;</td>\n",
       "      <td>&lt;null&gt;</td>\n",
       "      <td>&lt;null&gt;</td>\n",
       "      <td>&lt;null&gt;</td>\n",
       "      <td>&lt;null&gt;</td>\n",
       "      <td>&lt;null&gt;</td>\n",
       "      <td>&lt;null&gt;</td>\n",
       "      <td>&lt;null&gt;</td>\n",
       "      <td>3</td>\n",
       "    </tr>\n",
       "    <tr>\n",
       "      <th>21638</th>\n",
       "      <td>confuzled</td>\n",
       "      <td>&lt;null&gt;</td>\n",
       "      <td>&lt;null&gt;</td>\n",
       "      <td>&lt;null&gt;</td>\n",
       "      <td>&lt;null&gt;</td>\n",
       "      <td>&lt;null&gt;</td>\n",
       "      <td>&lt;null&gt;</td>\n",
       "      <td>&lt;null&gt;</td>\n",
       "      <td>&lt;null&gt;</td>\n",
       "      <td>&lt;null&gt;</td>\n",
       "      <td>&lt;null&gt;</td>\n",
       "      <td>&lt;null&gt;</td>\n",
       "      <td>&lt;null&gt;</td>\n",
       "      <td>&lt;null&gt;</td>\n",
       "      <td>&lt;null&gt;</td>\n",
       "      <td>&lt;null&gt;</td>\n",
       "      <td>&lt;null&gt;</td>\n",
       "      <td>&lt;null&gt;</td>\n",
       "      <td>0</td>\n",
       "    </tr>\n",
       "    <tr>\n",
       "      <th>21639</th>\n",
       "      <td>headache</td>\n",
       "      <td>&lt;null&gt;</td>\n",
       "      <td>&lt;null&gt;</td>\n",
       "      <td>&lt;null&gt;</td>\n",
       "      <td>&lt;null&gt;</td>\n",
       "      <td>&lt;null&gt;</td>\n",
       "      <td>&lt;null&gt;</td>\n",
       "      <td>&lt;null&gt;</td>\n",
       "      <td>&lt;null&gt;</td>\n",
       "      <td>&lt;null&gt;</td>\n",
       "      <td>&lt;null&gt;</td>\n",
       "      <td>&lt;null&gt;</td>\n",
       "      <td>&lt;null&gt;</td>\n",
       "      <td>&lt;null&gt;</td>\n",
       "      <td>&lt;null&gt;</td>\n",
       "      <td>&lt;null&gt;</td>\n",
       "      <td>&lt;null&gt;</td>\n",
       "      <td>&lt;null&gt;</td>\n",
       "      <td>3</td>\n",
       "    </tr>\n",
       "    <tr>\n",
       "      <th>21651</th>\n",
       "      <td>stomach</td>\n",
       "      <td>al</td>\n",
       "      <td>explode</td>\n",
       "      <td>wendys</td>\n",
       "      <td>everything</td>\n",
       "      <td>taste</td>\n",
       "      <td>god</td>\n",
       "      <td>bad</td>\n",
       "      <td>&lt;null&gt;</td>\n",
       "      <td>&lt;null&gt;</td>\n",
       "      <td>&lt;null&gt;</td>\n",
       "      <td>&lt;null&gt;</td>\n",
       "      <td>&lt;null&gt;</td>\n",
       "      <td>&lt;null&gt;</td>\n",
       "      <td>&lt;null&gt;</td>\n",
       "      <td>&lt;null&gt;</td>\n",
       "      <td>&lt;null&gt;</td>\n",
       "      <td>&lt;null&gt;</td>\n",
       "      <td>0</td>\n",
       "    </tr>\n",
       "    <tr>\n",
       "      <th>21664</th>\n",
       "      <td>god</td>\n",
       "      <td>morning</td>\n",
       "      <td>twiters</td>\n",
       "      <td>tired</td>\n",
       "      <td>realy</td>\n",
       "      <td>ned</td>\n",
       "      <td>2</td>\n",
       "      <td>stay</td>\n",
       "      <td>twiter</td>\n",
       "      <td>lol</td>\n",
       "      <td>shit</td>\n",
       "      <td>take</td>\n",
       "      <td>life</td>\n",
       "      <td>lol</td>\n",
       "      <td>&lt;null&gt;</td>\n",
       "      <td>&lt;null&gt;</td>\n",
       "      <td>&lt;null&gt;</td>\n",
       "      <td>&lt;null&gt;</td>\n",
       "      <td>1</td>\n",
       "    </tr>\n",
       "  </tbody>\n",
       "</table>\n",
       "<p>2088 rows × 19 columns</p>\n",
       "</div>"
      ],
      "text/plain": [
       "               0         1        2       3           4       5        6  \\\n",
       "100           im      pain      ben    stod         fet   15hrs  nursing   \n",
       "291       <name>    always      fel  guilty      <null>  <null>   <null>   \n",
       "353       <name>    always      fel  guilty      <null>  <null>   <null>   \n",
       "459       <name>  hopefuly       go     far   sometimes     fel     like   \n",
       "541       <name>    always      fel  guilty      <null>  <null>   <null>   \n",
       "...          ...       ...      ...     ...         ...     ...      ...   \n",
       "21636     <name>       voc      que   sumiu     forever     msn   <null>   \n",
       "21638  confuzled    <null>   <null>  <null>      <null>  <null>   <null>   \n",
       "21639   headache    <null>   <null>  <null>      <null>  <null>   <null>   \n",
       "21651    stomach        al  explode  wendys  everything   taste      god   \n",
       "21664        god   morning  twiters   tired       realy     ned        2   \n",
       "\n",
       "              7       8         9       10      11      12      13      14  \\\n",
       "100        hard    love  gorgeous  evening     xxx  <null>  <null>  <null>   \n",
       "291      <null>  <null>    <null>   <null>  <null>  <null>  <null>  <null>   \n",
       "353      <null>  <null>    <null>   <null>  <null>  <null>  <null>  <null>   \n",
       "459    renounce     rot    <null>   <null>  <null>  <null>  <null>  <null>   \n",
       "541      <null>  <null>    <null>   <null>  <null>  <null>  <null>  <null>   \n",
       "...         ...     ...       ...      ...     ...     ...     ...     ...   \n",
       "21636    <null>  <null>    <null>   <null>  <null>  <null>  <null>  <null>   \n",
       "21638    <null>  <null>    <null>   <null>  <null>  <null>  <null>  <null>   \n",
       "21639    <null>  <null>    <null>   <null>  <null>  <null>  <null>  <null>   \n",
       "21651       bad  <null>    <null>   <null>  <null>  <null>  <null>  <null>   \n",
       "21664      stay  twiter       lol     shit    take    life     lol  <null>   \n",
       "\n",
       "           15      16      17  emotion  \n",
       "100    <null>  <null>  <null>        3  \n",
       "291    <null>  <null>  <null>        0  \n",
       "353    <null>  <null>  <null>        0  \n",
       "459    <null>  <null>  <null>        0  \n",
       "541    <null>  <null>  <null>        0  \n",
       "...       ...     ...     ...      ...  \n",
       "21636  <null>  <null>  <null>        3  \n",
       "21638  <null>  <null>  <null>        0  \n",
       "21639  <null>  <null>  <null>        3  \n",
       "21651  <null>  <null>  <null>        0  \n",
       "21664  <null>  <null>  <null>        1  \n",
       "\n",
       "[2088 rows x 19 columns]"
      ]
     },
     "execution_count": 461,
     "metadata": {},
     "output_type": "execute_result"
    }
   ],
   "source": [
    "df_traind = df_train.iloc[indexd]\n",
    "df_traind"
   ]
  },
  {
   "cell_type": "code",
   "execution_count": 462,
   "metadata": {},
   "outputs": [
    {
     "data": {
      "text/plain": [
       "0       1       2       3           4        5       6         7       8        9        10      11      12      13      14      15      16      17      emotion\n",
       "gah     leave   glases  work        reading  give    headache  can't   believe  much     ned     day     old     age     <null>  <null>  <null>  <null>  0          21\n",
       "<name>  get     gona    go          upto     bed     sec       drink   i'm      disgust  haha    <null>  <null>  <null>  <null>  <null>  <null>  <null>  0          19\n",
       "        dude    hax     0r          1        put     final     cut     pro      tel      stable  <null>  <null>  <null>  <null>  <null>  <null>  <null>  0          16\n",
       "        awh     thats   god         get      beter   son       <null>  <null>   <null>   <null>  <null>  <null>  <null>  <null>  <null>  <null>  <null>  0          16\n",
       "big     laptop  big     time        switch   ee      bye       big     guy      <null>   <null>  <null>  <null>  <null>  <null>  <null>  <null>  <null>  0          15\n",
       "                                                                                                                                                                    ..\n",
       "come    hawk    mighty  blackhawks  <null>   <null>  <null>    <null>  <null>   <null>   <null>  <null>  <null>  <null>  <null>  <null>  <null>  <null>  3           1\n",
       "        back    schol   pack        dad's    house   <null>    <null>  <null>   <null>   <null>  <null>  <null>  <null>  <null>  <null>  <null>  <null>  2           1\n",
       "clean   rom     <null>  <null>      <null>   <null>  <null>    <null>  <null>   <null>   <null>  <null>  <null>  <null>  <null>  <null>  <null>  <null>  2           1\n",
       "<name>  hehe    know    talk        <null>   <null>  <null>    <null>  <null>   <null>   <null>  <null>  <null>  <null>  <null>  <null>  <null>  <null>  2           1\n",
       "browse  thru    adopt   agency      i'm      gona    get       exotic  kid      <null>   <null>  <null>  <null>  <null>  <null>  <null>  <null>  <null>  3           1\n",
       "Name: count, Length: 653, dtype: int64"
      ]
     },
     "execution_count": 462,
     "metadata": {},
     "output_type": "execute_result"
    }
   ],
   "source": [
    "df_traind.value_counts()"
   ]
  },
  {
   "cell_type": "code",
   "execution_count": 463,
   "metadata": {},
   "outputs": [
    {
     "data": {
      "text/html": [
       "<div>\n",
       "<style scoped>\n",
       "    .dataframe tbody tr th:only-of-type {\n",
       "        vertical-align: middle;\n",
       "    }\n",
       "\n",
       "    .dataframe tbody tr th {\n",
       "        vertical-align: top;\n",
       "    }\n",
       "\n",
       "    .dataframe thead th {\n",
       "        text-align: right;\n",
       "    }\n",
       "</style>\n",
       "<table border=\"1\" class=\"dataframe\">\n",
       "  <thead>\n",
       "    <tr style=\"text-align: right;\">\n",
       "      <th></th>\n",
       "      <th>0</th>\n",
       "      <th>1</th>\n",
       "      <th>2</th>\n",
       "      <th>3</th>\n",
       "      <th>4</th>\n",
       "      <th>5</th>\n",
       "      <th>6</th>\n",
       "      <th>7</th>\n",
       "      <th>8</th>\n",
       "      <th>9</th>\n",
       "      <th>10</th>\n",
       "      <th>11</th>\n",
       "      <th>12</th>\n",
       "      <th>13</th>\n",
       "      <th>14</th>\n",
       "      <th>15</th>\n",
       "      <th>16</th>\n",
       "      <th>17</th>\n",
       "      <th>emotion</th>\n",
       "    </tr>\n",
       "  </thead>\n",
       "  <tbody>\n",
       "    <tr>\n",
       "      <th>93</th>\n",
       "      <td>&lt;name&gt;</td>\n",
       "      <td>thats</td>\n",
       "      <td>another</td>\n",
       "      <td>sponsor</td>\n",
       "      <td>&lt;null&gt;</td>\n",
       "      <td>&lt;null&gt;</td>\n",
       "      <td>&lt;null&gt;</td>\n",
       "      <td>&lt;null&gt;</td>\n",
       "      <td>&lt;null&gt;</td>\n",
       "      <td>&lt;null&gt;</td>\n",
       "      <td>&lt;null&gt;</td>\n",
       "      <td>&lt;null&gt;</td>\n",
       "      <td>&lt;null&gt;</td>\n",
       "      <td>&lt;null&gt;</td>\n",
       "      <td>&lt;null&gt;</td>\n",
       "      <td>&lt;null&gt;</td>\n",
       "      <td>&lt;null&gt;</td>\n",
       "      <td>&lt;null&gt;</td>\n",
       "      <td>1</td>\n",
       "    </tr>\n",
       "    <tr>\n",
       "      <th>127</th>\n",
       "      <td>&lt;name&gt;</td>\n",
       "      <td>everything</td>\n",
       "      <td>fault</td>\n",
       "      <td>moxy</td>\n",
       "      <td>everything</td>\n",
       "      <td>x</td>\n",
       "      <td>&lt;null&gt;</td>\n",
       "      <td>&lt;null&gt;</td>\n",
       "      <td>&lt;null&gt;</td>\n",
       "      <td>&lt;null&gt;</td>\n",
       "      <td>&lt;null&gt;</td>\n",
       "      <td>&lt;null&gt;</td>\n",
       "      <td>&lt;null&gt;</td>\n",
       "      <td>&lt;null&gt;</td>\n",
       "      <td>&lt;null&gt;</td>\n",
       "      <td>&lt;null&gt;</td>\n",
       "      <td>&lt;null&gt;</td>\n",
       "      <td>&lt;null&gt;</td>\n",
       "      <td>0</td>\n",
       "    </tr>\n",
       "    <tr>\n",
       "      <th>237</th>\n",
       "      <td>&lt;name&gt;</td>\n",
       "      <td>oh</td>\n",
       "      <td>let</td>\n",
       "      <td>clarify</td>\n",
       "      <td>know</td>\n",
       "      <td>lot</td>\n",
       "      <td>nice</td>\n",
       "      <td>people</td>\n",
       "      <td>live</td>\n",
       "      <td>think</td>\n",
       "      <td>always</td>\n",
       "      <td>breding</td>\n",
       "      <td>ground</td>\n",
       "      <td>4</td>\n",
       "      <td>bnp</td>\n",
       "      <td>&lt;null&gt;</td>\n",
       "      <td>&lt;null&gt;</td>\n",
       "      <td>&lt;null&gt;</td>\n",
       "      <td>0</td>\n",
       "    </tr>\n",
       "    <tr>\n",
       "      <th>243</th>\n",
       "      <td>thingsmumysaid</td>\n",
       "      <td>mumy</td>\n",
       "      <td>tell</td>\n",
       "      <td>never</td>\n",
       "      <td>wnted</td>\n",
       "      <td>mumy</td>\n",
       "      <td>ever</td>\n",
       "      <td>live</td>\n",
       "      <td>wid</td>\n",
       "      <td>dad</td>\n",
       "      <td>think</td>\n",
       "      <td>al</td>\n",
       "      <td>confuse</td>\n",
       "      <td>&lt;null&gt;</td>\n",
       "      <td>&lt;null&gt;</td>\n",
       "      <td>&lt;null&gt;</td>\n",
       "      <td>&lt;null&gt;</td>\n",
       "      <td>&lt;null&gt;</td>\n",
       "      <td>0</td>\n",
       "    </tr>\n",
       "    <tr>\n",
       "      <th>260</th>\n",
       "      <td>finaly</td>\n",
       "      <td>home</td>\n",
       "      <td>dope</td>\n",
       "      <td>wek</td>\n",
       "      <td>&lt;null&gt;</td>\n",
       "      <td>&lt;null&gt;</td>\n",
       "      <td>&lt;null&gt;</td>\n",
       "      <td>&lt;null&gt;</td>\n",
       "      <td>&lt;null&gt;</td>\n",
       "      <td>&lt;null&gt;</td>\n",
       "      <td>&lt;null&gt;</td>\n",
       "      <td>&lt;null&gt;</td>\n",
       "      <td>&lt;null&gt;</td>\n",
       "      <td>&lt;null&gt;</td>\n",
       "      <td>&lt;null&gt;</td>\n",
       "      <td>&lt;null&gt;</td>\n",
       "      <td>&lt;null&gt;</td>\n",
       "      <td>&lt;null&gt;</td>\n",
       "      <td>0</td>\n",
       "    </tr>\n",
       "    <tr>\n",
       "      <th>...</th>\n",
       "      <td>...</td>\n",
       "      <td>...</td>\n",
       "      <td>...</td>\n",
       "      <td>...</td>\n",
       "      <td>...</td>\n",
       "      <td>...</td>\n",
       "      <td>...</td>\n",
       "      <td>...</td>\n",
       "      <td>...</td>\n",
       "      <td>...</td>\n",
       "      <td>...</td>\n",
       "      <td>...</td>\n",
       "      <td>...</td>\n",
       "      <td>...</td>\n",
       "      <td>...</td>\n",
       "      <td>...</td>\n",
       "      <td>...</td>\n",
       "      <td>...</td>\n",
       "      <td>...</td>\n",
       "    </tr>\n",
       "    <tr>\n",
       "      <th>7261</th>\n",
       "      <td>&lt;name&gt;</td>\n",
       "      <td>mb</td>\n",
       "      <td>ben</td>\n",
       "      <td>cryopreserved</td>\n",
       "      <td>may</td>\n",
       "      <td>return</td>\n",
       "      <td>future</td>\n",
       "      <td>&lt;null&gt;</td>\n",
       "      <td>&lt;null&gt;</td>\n",
       "      <td>&lt;null&gt;</td>\n",
       "      <td>&lt;null&gt;</td>\n",
       "      <td>&lt;null&gt;</td>\n",
       "      <td>&lt;null&gt;</td>\n",
       "      <td>&lt;null&gt;</td>\n",
       "      <td>&lt;null&gt;</td>\n",
       "      <td>&lt;null&gt;</td>\n",
       "      <td>&lt;null&gt;</td>\n",
       "      <td>&lt;null&gt;</td>\n",
       "      <td>1</td>\n",
       "    </tr>\n",
       "    <tr>\n",
       "      <th>7276</th>\n",
       "      <td>&lt;name&gt;</td>\n",
       "      <td>&lt;name&gt;</td>\n",
       "      <td>&lt;null&gt;</td>\n",
       "      <td>&lt;null&gt;</td>\n",
       "      <td>&lt;null&gt;</td>\n",
       "      <td>&lt;null&gt;</td>\n",
       "      <td>&lt;null&gt;</td>\n",
       "      <td>&lt;null&gt;</td>\n",
       "      <td>&lt;null&gt;</td>\n",
       "      <td>&lt;null&gt;</td>\n",
       "      <td>&lt;null&gt;</td>\n",
       "      <td>&lt;null&gt;</td>\n",
       "      <td>&lt;null&gt;</td>\n",
       "      <td>&lt;null&gt;</td>\n",
       "      <td>&lt;null&gt;</td>\n",
       "      <td>&lt;null&gt;</td>\n",
       "      <td>&lt;null&gt;</td>\n",
       "      <td>&lt;null&gt;</td>\n",
       "      <td>2</td>\n",
       "    </tr>\n",
       "    <tr>\n",
       "      <th>7278</th>\n",
       "      <td>thingsmumysaid</td>\n",
       "      <td>mumy</td>\n",
       "      <td>tell</td>\n",
       "      <td>never</td>\n",
       "      <td>wnted</td>\n",
       "      <td>mumy</td>\n",
       "      <td>ever</td>\n",
       "      <td>live</td>\n",
       "      <td>wid</td>\n",
       "      <td>dad</td>\n",
       "      <td>think</td>\n",
       "      <td>al</td>\n",
       "      <td>confuse</td>\n",
       "      <td>&lt;null&gt;</td>\n",
       "      <td>&lt;null&gt;</td>\n",
       "      <td>&lt;null&gt;</td>\n",
       "      <td>&lt;null&gt;</td>\n",
       "      <td>&lt;null&gt;</td>\n",
       "      <td>0</td>\n",
       "    </tr>\n",
       "    <tr>\n",
       "      <th>7286</th>\n",
       "      <td>&lt;name&gt;</td>\n",
       "      <td>beast</td>\n",
       "      <td>enough</td>\n",
       "      <td>&lt;null&gt;</td>\n",
       "      <td>&lt;null&gt;</td>\n",
       "      <td>&lt;null&gt;</td>\n",
       "      <td>&lt;null&gt;</td>\n",
       "      <td>&lt;null&gt;</td>\n",
       "      <td>&lt;null&gt;</td>\n",
       "      <td>&lt;null&gt;</td>\n",
       "      <td>&lt;null&gt;</td>\n",
       "      <td>&lt;null&gt;</td>\n",
       "      <td>&lt;null&gt;</td>\n",
       "      <td>&lt;null&gt;</td>\n",
       "      <td>&lt;null&gt;</td>\n",
       "      <td>&lt;null&gt;</td>\n",
       "      <td>&lt;null&gt;</td>\n",
       "      <td>&lt;null&gt;</td>\n",
       "      <td>1</td>\n",
       "    </tr>\n",
       "    <tr>\n",
       "      <th>7294</th>\n",
       "      <td>&lt;name&gt;</td>\n",
       "      <td>oh</td>\n",
       "      <td>yay</td>\n",
       "      <td>ben</td>\n",
       "      <td>forevs</td>\n",
       "      <td>since</td>\n",
       "      <td>last</td>\n",
       "      <td>tv</td>\n",
       "      <td>bake</td>\n",
       "      <td>diner</td>\n",
       "      <td>god</td>\n",
       "      <td>yumy</td>\n",
       "      <td>prawn</td>\n",
       "      <td>x</td>\n",
       "      <td>&lt;null&gt;</td>\n",
       "      <td>&lt;null&gt;</td>\n",
       "      <td>&lt;null&gt;</td>\n",
       "      <td>&lt;null&gt;</td>\n",
       "      <td>3</td>\n",
       "    </tr>\n",
       "  </tbody>\n",
       "</table>\n",
       "<p>745 rows × 19 columns</p>\n",
       "</div>"
      ],
      "text/plain": [
       "                   0           1        2              3           4       5  \\\n",
       "93            <name>       thats  another        sponsor      <null>  <null>   \n",
       "127           <name>  everything    fault           moxy  everything       x   \n",
       "237           <name>          oh      let        clarify        know     lot   \n",
       "243   thingsmumysaid        mumy     tell          never       wnted    mumy   \n",
       "260           finaly        home     dope            wek      <null>  <null>   \n",
       "...              ...         ...      ...            ...         ...     ...   \n",
       "7261          <name>          mb      ben  cryopreserved         may  return   \n",
       "7276          <name>      <name>   <null>         <null>      <null>  <null>   \n",
       "7278  thingsmumysaid        mumy     tell          never       wnted    mumy   \n",
       "7286          <name>       beast   enough         <null>      <null>  <null>   \n",
       "7294          <name>          oh      yay            ben      forevs   since   \n",
       "\n",
       "           6       7       8       9      10       11       12      13  \\\n",
       "93    <null>  <null>  <null>  <null>  <null>   <null>   <null>  <null>   \n",
       "127   <null>  <null>  <null>  <null>  <null>   <null>   <null>  <null>   \n",
       "237     nice  people    live   think  always  breding   ground       4   \n",
       "243     ever    live     wid     dad   think       al  confuse  <null>   \n",
       "260   <null>  <null>  <null>  <null>  <null>   <null>   <null>  <null>   \n",
       "...      ...     ...     ...     ...     ...      ...      ...     ...   \n",
       "7261  future  <null>  <null>  <null>  <null>   <null>   <null>  <null>   \n",
       "7276  <null>  <null>  <null>  <null>  <null>   <null>   <null>  <null>   \n",
       "7278    ever    live     wid     dad   think       al  confuse  <null>   \n",
       "7286  <null>  <null>  <null>  <null>  <null>   <null>   <null>  <null>   \n",
       "7294    last      tv    bake   diner     god     yumy    prawn       x   \n",
       "\n",
       "          14      15      16      17  emotion  \n",
       "93    <null>  <null>  <null>  <null>        1  \n",
       "127   <null>  <null>  <null>  <null>        0  \n",
       "237      bnp  <null>  <null>  <null>        0  \n",
       "243   <null>  <null>  <null>  <null>        0  \n",
       "260   <null>  <null>  <null>  <null>        0  \n",
       "...      ...     ...     ...     ...      ...  \n",
       "7261  <null>  <null>  <null>  <null>        1  \n",
       "7276  <null>  <null>  <null>  <null>        2  \n",
       "7278  <null>  <null>  <null>  <null>        0  \n",
       "7286  <null>  <null>  <null>  <null>        1  \n",
       "7294  <null>  <null>  <null>  <null>        3  \n",
       "\n",
       "[745 rows x 19 columns]"
      ]
     },
     "execution_count": 463,
     "metadata": {},
     "output_type": "execute_result"
    }
   ],
   "source": [
    "df_vald = df_val.iloc[indexdv]\n",
    "df_vald"
   ]
  },
  {
   "cell_type": "code",
   "execution_count": 464,
   "metadata": {},
   "outputs": [
    {
     "data": {
      "text/plain": [
       "0        1           2          3        4           5          6          7       8        9        10      11      12       13      14      15      16      17      emotion\n",
       "<name>   ack         read       show     that's      horible    acounting  taste   <null>   <null>   <null>  <null>  <null>   <null>  <null>  <null>  <null>  <null>  0          18\n",
       "         everything  fault      moxy     everything  x          <null>     <null>  <null>   <null>   <null>  <null>  <null>   <null>  <null>  <null>  <null>  <null>  0          18\n",
       "i'm      way         slepy      il       watch       show       lata       god     nite     twitfam  god     bles    xoxo     <null>  <null>  <null>  <null>  <null>  0          17\n",
       "finaly   home        dope       wek      <null>      <null>     <null>     <null>  <null>   <null>   <null>  <null>  <null>   <null>  <null>  <null>  <null>  <null>  0          16\n",
       "arduous  task        acomplish  work     stuf        already    ben        do      amp      usual    either  <null>  <null>   <null>  <null>  <null>  <null>  <null>  0          15\n",
       "                                                                                                                                                                                 ..\n",
       "<name>   wo          ho         recipe   <null>      <null>     <null>     <null>  <null>   <null>   <null>  <null>  <null>   <null>  <null>  <null>  <null>  <null>  2           1\n",
       "         would       ben        fun      tired       yesterday  long       day     ofice    diner    crash   <null>  <null>   <null>  <null>  <null>  <null>  <null>  3           1\n",
       "         wow         ben        tweting  al          night      loks       like    totaly   make     day     <null>  <null>   <null>  <null>  <null>  <null>  <null>  3           1\n",
       "         yeah        i'm        get      ready       go         get        piza    nothing  maybe    <name>  wil     want     play    xbox    <null>  <null>  <null>  3           1\n",
       "yeah     i'm         bore       xd       pic         photo      stil       guitar  today    mum      steam   mis     nameles  <null>  <null>  <null>  <null>  <null>  2           1\n",
       "Name: count, Length: 238, dtype: int64"
      ]
     },
     "execution_count": 464,
     "metadata": {},
     "output_type": "execute_result"
    }
   ],
   "source": [
    "df_vald.value_counts()"
   ]
  },
  {
   "cell_type": "code",
   "execution_count": 465,
   "metadata": {},
   "outputs": [],
   "source": [
    "# now we found duplicate data from the resampled data\n",
    "# And we will be applying augumentation techniques to it, to maintain the variability in the data"
   ]
  },
  {
   "cell_type": "code",
   "execution_count": 466,
   "metadata": {},
   "outputs": [],
   "source": [
    "X_train_resampled_dup = df_traind.iloc[:,:-1].values.tolist()\n",
    "y_train_resampled_dup = df_traind.iloc[:,-1]\n",
    "X_val_resampled_dup = df_vald.iloc[:,:-1].values.tolist()\n",
    "y_val_resampled_dup = df_vald.iloc[:,-1]"
   ]
  },
  {
   "cell_type": "code",
   "execution_count": 467,
   "metadata": {},
   "outputs": [],
   "source": [
    "# leave them as numpy array\n",
    "X_train_resampled_o = df_traino.iloc[:,:-1]\n",
    "y_train_resampled_o = df_traino.iloc[:,-1]\n",
    "X_val_resampled_o = df_valo.iloc[:,:-1]\n",
    "y_val_resampled_o = df_valo.iloc[:,-1]"
   ]
  },
  {
   "cell_type": "code",
   "execution_count": 468,
   "metadata": {},
   "outputs": [
    {
     "name": "stdout",
     "output_type": "stream",
     "text": [
      "19578 + 2088 21666\n",
      "19578 + 2088 21666\n",
      "6551 + 745 7296\n",
      "6551 + 745 7296\n"
     ]
    }
   ],
   "source": [
    "print(len(X_train_resampled_o),\"+\",len(X_train_resampled_dup),len(X_train_resampled))\n",
    "print(len(y_train_resampled_o),\"+\",len(y_train_resampled_dup),len(y_train_resampled))\n",
    "print(len(X_val_resampled_o),\"+\",len(X_val_resampled_dup),len(X_val_resampled))\n",
    "print(len(y_val_resampled_o),\"+\",len(y_val_resampled_dup),len(y_val_resampled))"
   ]
  },
  {
   "cell_type": "code",
   "execution_count": 469,
   "metadata": {},
   "outputs": [],
   "source": [
    "# Now our data looks kinda balanced\n",
    "\n",
    "# Note: the highest classes frequency shouldn't be more than 5 times more than the lowest class frequency, otherwise it is high imbalance, \n",
    "# >5 high imbalance,<5 moderate imbalance, <3 balance"
   ]
  },
  {
   "cell_type": "code",
   "execution_count": 470,
   "metadata": {},
   "outputs": [],
   "source": [
    "# As we see there is lot of increase in the sample, as random samples increase the size the duplicating the data\n",
    "# So, to mitigate it, we will do data agumentation like replacing the words with similar meaning word to increase the variablility in the data"
   ]
  },
  {
   "cell_type": "markdown",
   "metadata": {},
   "source": [
    "### Data Agumentation (only for duplicate data)"
   ]
  },
  {
   "cell_type": "code",
   "execution_count": 471,
   "metadata": {},
   "outputs": [
    {
     "name": "stderr",
     "output_type": "stream",
     "text": [
      "[nltk_data] Downloading package wordnet to\n",
      "[nltk_data]     C:\\Users\\vivek\\AppData\\Roaming\\nltk_data...\n",
      "[nltk_data]   Package wordnet is already up-to-date!\n",
      "[nltk_data] Downloading package omw-1.4 to\n",
      "[nltk_data]     C:\\Users\\vivek\\AppData\\Roaming\\nltk_data...\n",
      "[nltk_data]   Package omw-1.4 is already up-to-date!\n"
     ]
    },
    {
     "data": {
      "text/plain": [
       "True"
      ]
     },
     "execution_count": 471,
     "metadata": {},
     "output_type": "execute_result"
    }
   ],
   "source": [
    "import nltk\n",
    "nltk.download('wordnet')\n",
    "nltk.download('omw-1.4')"
   ]
  },
  {
   "cell_type": "code",
   "execution_count": 472,
   "metadata": {},
   "outputs": [
    {
     "data": {
      "text/plain": [
       "[Synset('happy.a.01'),\n",
       " Synset('felicitous.s.02'),\n",
       " Synset('glad.s.02'),\n",
       " Synset('happy.s.04')]"
      ]
     },
     "execution_count": 472,
     "metadata": {},
     "output_type": "execute_result"
    }
   ],
   "source": [
    "from nltk.corpus import wordnet\n",
    "import random\n",
    "word = 'happy'\n",
    "synonyms = wordnet.synsets(word)\n",
    "synonyms"
   ]
  },
  {
   "cell_type": "code",
   "execution_count": 473,
   "metadata": {},
   "outputs": [],
   "source": [
    "# Replacing the words with thier synonyms"
   ]
  },
  {
   "cell_type": "code",
   "execution_count": 474,
   "metadata": {},
   "outputs": [],
   "source": [
    "from nltk.corpus import wordnet\n",
    "import random\n",
    "\n",
    "\n",
    "# method1 (manually replacing words using nltk)\n",
    "\n",
    "exceptions = ['an','An','be','Be','in','In','am','Am','a','A','it','It','i','I','as','As']\n",
    "def augument(words):\n",
    "    lii = []\n",
    "    for word in words:\n",
    "        li =[]\n",
    "        synonyms = wordnet.synsets(word)\n",
    "        if(len(synonyms)!=0 and word not in exceptions):\n",
    "            for i in range(len(synonyms)):\n",
    "                synonym = synonyms[i].lemmas()[0].name()\n",
    "                if(synonym!=word):\n",
    "                    li.append(synonym)\n",
    "            if(len(li)!=0):\n",
    "                lii.append(random.choice(li)) \n",
    "            else: lii.append(word)\n",
    "        else:\n",
    "            lii.append(word)\n",
    "    return lii\n",
    "\n",
    "\n",
    "\"\"\"\n",
    "# method2 (using nlpaug library)\n",
    "import nlpaug.augmenter.word as naw\n",
    "import nltk\n",
    "nltk.download('averaged_perceptron_tagger_eng')\n",
    "#Initialize the augmenter for synonym replacement\n",
    "stopwords = ['an','An','be','Be','in','In','am','Am','a','A','it','It','i','I','as','As','<null>','[name]']\n",
    "synonym_aug = naw.SynonymAug(aug_src='wordnet',stopwords=stopwords)\n",
    "\n",
    "def augument(words):\n",
    "    str = \" \".join(words)\n",
    "    syn = synonym_aug.augment(str)\n",
    "    return syn[0].split()\n",
    "\"\"\"\n",
    "\n",
    "x_train_augument = []\n",
    "x_val_augument = []\n",
    "for i in range(len(X_train_resampled_dup)):\n",
    "    tempx = augument(X_train_resampled_dup[i])\n",
    "    x_train_augument.append(tempx)\n",
    "    \n",
    "for i in range(len(X_val_resampled_dup)):\n",
    "    tempxv = augument(X_val_resampled_dup[i])\n",
    "    x_val_augument.append(tempxv)"
   ]
  },
  {
   "cell_type": "code",
   "execution_count": 475,
   "metadata": {},
   "outputs": [
    {
     "data": {
      "text/plain": [
       "(2088, 745)"
      ]
     },
     "execution_count": 475,
     "metadata": {},
     "output_type": "execute_result"
    }
   ],
   "source": [
    "len(x_train_augument),len(x_val_augument)"
   ]
  },
  {
   "cell_type": "code",
   "execution_count": 477,
   "metadata": {},
   "outputs": [],
   "source": [
    "# Repeating synonymn replacement\n",
    "\n",
    "x_train_augument1 = []\n",
    "x_val_augument1 = []\n",
    "for i in range(len(x_train_augument)):\n",
    "    tempx = augument(x_train_augument[i])\n",
    "    x_train_augument1.append(tempx)\n",
    "    \n",
    "for i in range(len(x_val_augument)):\n",
    "    tempxv = augument(x_val_augument[i])\n",
    "    x_val_augument1.append(tempxv)"
   ]
  },
  {
   "cell_type": "code",
   "execution_count": 478,
   "metadata": {},
   "outputs": [
    {
     "data": {
      "text/plain": [
       "'\\ninsertion_aug = naw.ContextualWordEmbsAug(action=\"insert\",model_path=\\'bert-base-uncased\\',top_k=5,stopwords=stopwords)\\nsample = insertion_aug.augment(\"i love eating mushrooms and samosas in theb \")\\nsample\\n'"
      ]
     },
     "execution_count": 478,
     "metadata": {},
     "output_type": "execute_result"
    }
   ],
   "source": [
    "\"\"\"\n",
    "insertion_aug = naw.ContextualWordEmbsAug(action=\"insert\",model_path='bert-base-uncased',top_k=5,stopwords=stopwords)\n",
    "sample = insertion_aug.augment(\"i love eating mushrooms and samosas in theb \")\n",
    "sample\n",
    "\"\"\""
   ]
  },
  {
   "cell_type": "code",
   "execution_count": 479,
   "metadata": {},
   "outputs": [
    {
     "data": {
      "text/plain": [
       "'\\nimport re\\nimport concurrent.futures\\nimport nlpaug.augmenter.word as naw\\n\\n# Define the augmentation and cleaning function\\ndef augment_and_clean(sentence):\\n    augmented_sentence = insertion_aug.augment(\" \".join(sentence))\\n    return func(augmented_sentence[0])[0].split()\\n\\ndef func(x):\\n    li = []\\n    x = re.sub(r\\'([?!.,])\\x01+\\', r\\'\\x01\\', x)\\n    x = re.sub(r\\'[^a-zA-Z0-9\\\\s\\\\!\\\\?\\\\,\\\\@\\']\\',\\'\\',x)\\n    x = re.sub(r\\'\\\\w*null | tested |\\\\s*test| \\\\s*non\\',\\'\\',x)\\n    x = re.sub(r\\'\\\\s*UNK\\',\\' [name]\\',x)\\n    li.append(x)\\n    return li\\n\\n# List of sentences to augment\\nx_train_augument1 = []\\n\\n# Run in parallel with a thread pool\\nwith concurrent.futures.ThreadPoolExecutor(max_workers=5) as executor:\\n    results = list(executor.map(augment_and_clean, x_train_augument))\\n\\nx_train_augument1.extend(results)\\n'"
      ]
     },
     "execution_count": 479,
     "metadata": {},
     "output_type": "execute_result"
    }
   ],
   "source": [
    "\"\"\"\n",
    "import re\n",
    "import concurrent.futures\n",
    "import nlpaug.augmenter.word as naw\n",
    "\n",
    "# Define the augmentation and cleaning function\n",
    "def augment_and_clean(sentence):\n",
    "    augmented_sentence = insertion_aug.augment(\" \".join(sentence))\n",
    "    return func(augmented_sentence[0])[0].split()\n",
    "\n",
    "def func(x):\n",
    "    li = []\n",
    "    x = re.sub(r'([?!.,])\\1+', r'\\1', x)\n",
    "    x = re.sub(r'[^a-zA-Z0-9\\s\\!\\?\\,\\@\\']','',x)\n",
    "    x = re.sub(r'\\w*null | tested |\\s*test| \\s*non','',x)\n",
    "    x = re.sub(r'\\s*UNK',' [name]',x)\n",
    "    li.append(x)\n",
    "    return li\n",
    "\n",
    "# List of sentences to augment\n",
    "x_train_augument1 = []\n",
    "\n",
    "# Run in parallel with a thread pool\n",
    "with concurrent.futures.ThreadPoolExecutor(max_workers=5) as executor:\n",
    "    results = list(executor.map(augment_and_clean, x_train_augument))\n",
    "\n",
    "x_train_augument1.extend(results)\n",
    "\"\"\""
   ]
  },
  {
   "cell_type": "code",
   "execution_count": 480,
   "metadata": {},
   "outputs": [],
   "source": [
    "# swapping the words "
   ]
  },
  {
   "cell_type": "code",
   "execution_count": 481,
   "metadata": {},
   "outputs": [
    {
     "data": {
      "text/plain": [
       "[\"I [name] love mushrooms eating and samosas in the beach and very hot it's\"]"
      ]
     },
     "execution_count": 481,
     "metadata": {},
     "output_type": "execute_result"
    }
   ],
   "source": [
    "import nlpaug.augmenter.word as naw\n",
    "\n",
    "def custom_tokenizer(text):\n",
    "    # Merge contractions\n",
    "    text = re.sub(r\"(\\w)'(\\w)\", r\"\\1'\\2\", text)\n",
    "    text = re.sub(r'\\[name]','[name]',text)\n",
    "    tokens = text.split()\n",
    "    return tokens\n",
    "    \n",
    "swap_aug = naw.RandomWordAug(action=\"swap\",tokenizer=custom_tokenizer)\n",
    "swap_aug.augment(\"i [name] love eating mushrooms and samosas in the beach and it's very hot \")"
   ]
  },
  {
   "cell_type": "code",
   "execution_count": 482,
   "metadata": {},
   "outputs": [],
   "source": [
    "# swapping the words in the sentences for more variability\n",
    "\n",
    "def swap(sentences):\n",
    "    ll =[]\n",
    "    for words in sentences:\n",
    "        str=\"\"\n",
    "        for i,j in enumerate(words):\n",
    "            if(i==0):\n",
    "                str+=j\n",
    "            else:\n",
    "                if(j!='<null>'):\n",
    "                    str+=\" \"+j\n",
    "                else: break \n",
    "        ss=swap_aug.augment(str)\n",
    "        ss = ss[0]\n",
    "        ll.append(ss.split())\n",
    "    return ll\n",
    "\n",
    "x_train_augument1 = swap(x_train_augument1)\n",
    "x_val_augument1 = swap(x_val_augument1)"
   ]
  },
  {
   "cell_type": "code",
   "execution_count": 483,
   "metadata": {},
   "outputs": [],
   "source": [
    "# swapping agian \n",
    "x_train_augument1 = swap(x_train_augument1)\n",
    "x_val_augument1= swap(x_val_augument1)"
   ]
  },
  {
   "cell_type": "code",
   "execution_count": 484,
   "metadata": {},
   "outputs": [
    {
     "name": "stdout",
     "output_type": "stream",
     "text": [
      "['<name>', 'kh', 'matter', \"i'l\", 'weabo', 'stil', 'choose', 'English', \"i'm\", 'impatient', 'haha', '<null>', '<null>', '<null>', '<null>', '<null>', '<null>', '<null>']\n"
     ]
    }
   ],
   "source": [
    "print(x_train_augument[100])"
   ]
  },
  {
   "cell_type": "code",
   "execution_count": 485,
   "metadata": {},
   "outputs": [
    {
     "name": "stdout",
     "output_type": "stream",
     "text": [
      "['<name>', 'kh', \"i'l\", 'topic', 'stil', 'weabo', \"i'm\", 'choose', 'impatient', 'haha', 'English']\n"
     ]
    }
   ],
   "source": [
    "print(x_train_augument1[100])"
   ]
  },
  {
   "cell_type": "code",
   "execution_count": 486,
   "metadata": {},
   "outputs": [
    {
     "name": "stdout",
     "output_type": "stream",
     "text": [
      "['<name>', 'May', 'stil', 'wish', 'learn', 'diagnose', 'a_lot', 'blackhawks', 'Canuck', '<null>', '<null>', '<null>', '<null>', '<null>', '<null>', '<null>', '<null>', '<null>']\n"
     ]
    }
   ],
   "source": [
    "print(x_val_augument[12])"
   ]
  },
  {
   "cell_type": "code",
   "execution_count": 487,
   "metadata": {},
   "outputs": [
    {
     "name": "stdout",
     "output_type": "stream",
     "text": [
      "['Whitethorn', '<name>', 'stil', 'regard', 'diagnose', 'blackhawks', 'memorize', 'a_lot', 'Canuck']\n"
     ]
    }
   ],
   "source": [
    "print(x_val_augument1[12])"
   ]
  },
  {
   "cell_type": "code",
   "execution_count": 488,
   "metadata": {},
   "outputs": [],
   "source": [
    "x_train_augument1 = [i + ['<null>']*(len(x_train_augument[0])-len(i)) for i in x_train_augument1]\n",
    "x_val_augument1 = [i + ['<null>']*(len(x_val_augument[0])-len(i)) for i in x_val_augument1]"
   ]
  },
  {
   "cell_type": "code",
   "execution_count": 489,
   "metadata": {},
   "outputs": [],
   "source": [
    "# reframing them to dataframe to see the value_counts"
   ]
  },
  {
   "cell_type": "code",
   "execution_count": 490,
   "metadata": {},
   "outputs": [
    {
     "data": {
      "text/plain": [
       "(2088, 2088)"
      ]
     },
     "execution_count": 490,
     "metadata": {},
     "output_type": "execute_result"
    }
   ],
   "source": [
    "len(x_train_augument1),len(y_train_resampled_dup)"
   ]
  },
  {
   "cell_type": "code",
   "execution_count": 491,
   "metadata": {},
   "outputs": [
    {
     "data": {
      "text/plain": [
       "(745, 745)"
      ]
     },
     "execution_count": 491,
     "metadata": {},
     "output_type": "execute_result"
    }
   ],
   "source": [
    "len(x_val_augument1),len(y_val_resampled_dup)"
   ]
  },
  {
   "cell_type": "code",
   "execution_count": 505,
   "metadata": {},
   "outputs": [],
   "source": [
    "df_train_final = pd.DataFrame(x_train_augument1)\n",
    "df_train_final['emotion'] = list(y_train_resampled_dup)\n",
    "df_val_final = pd.DataFrame(x_val_augument1)\n",
    "df_val_final['emotion']=  list(y_val_resampled_dup)"
   ]
  },
  {
   "cell_type": "code",
   "execution_count": 506,
   "metadata": {},
   "outputs": [
    {
     "data": {
      "text/html": [
       "<div>\n",
       "<style scoped>\n",
       "    .dataframe tbody tr th:only-of-type {\n",
       "        vertical-align: middle;\n",
       "    }\n",
       "\n",
       "    .dataframe tbody tr th {\n",
       "        vertical-align: top;\n",
       "    }\n",
       "\n",
       "    .dataframe thead th {\n",
       "        text-align: right;\n",
       "    }\n",
       "</style>\n",
       "<table border=\"1\" class=\"dataframe\">\n",
       "  <thead>\n",
       "    <tr style=\"text-align: right;\">\n",
       "      <th></th>\n",
       "      <th>0</th>\n",
       "      <th>1</th>\n",
       "      <th>2</th>\n",
       "      <th>3</th>\n",
       "      <th>4</th>\n",
       "      <th>5</th>\n",
       "      <th>6</th>\n",
       "      <th>7</th>\n",
       "      <th>8</th>\n",
       "      <th>9</th>\n",
       "      <th>10</th>\n",
       "      <th>11</th>\n",
       "      <th>12</th>\n",
       "      <th>13</th>\n",
       "      <th>14</th>\n",
       "      <th>15</th>\n",
       "      <th>16</th>\n",
       "      <th>17</th>\n",
       "      <th>emotion</th>\n",
       "    </tr>\n",
       "  </thead>\n",
       "  <tbody>\n",
       "    <tr>\n",
       "      <th>0</th>\n",
       "      <td>ben</td>\n",
       "      <td>perturb</td>\n",
       "      <td>im</td>\n",
       "      <td>stod</td>\n",
       "      <td>15hrs</td>\n",
       "      <td>field-effect_transistor</td>\n",
       "      <td>seaport</td>\n",
       "      <td>unmanageable</td>\n",
       "      <td>beloved</td>\n",
       "      <td>gorgeous</td>\n",
       "      <td>tied</td>\n",
       "      <td>thirty</td>\n",
       "      <td>&lt;null&gt;</td>\n",
       "      <td>&lt;null&gt;</td>\n",
       "      <td>&lt;null&gt;</td>\n",
       "      <td>&lt;null&gt;</td>\n",
       "      <td>&lt;null&gt;</td>\n",
       "      <td>&lt;null&gt;</td>\n",
       "      <td>3</td>\n",
       "    </tr>\n",
       "    <tr>\n",
       "      <th>1</th>\n",
       "      <td>Constantly</td>\n",
       "      <td>&lt;name&gt;</td>\n",
       "      <td>guilty</td>\n",
       "      <td>fel</td>\n",
       "      <td>&lt;null&gt;</td>\n",
       "      <td>&lt;null&gt;</td>\n",
       "      <td>&lt;null&gt;</td>\n",
       "      <td>&lt;null&gt;</td>\n",
       "      <td>&lt;null&gt;</td>\n",
       "      <td>&lt;null&gt;</td>\n",
       "      <td>&lt;null&gt;</td>\n",
       "      <td>&lt;null&gt;</td>\n",
       "      <td>&lt;null&gt;</td>\n",
       "      <td>&lt;null&gt;</td>\n",
       "      <td>&lt;null&gt;</td>\n",
       "      <td>&lt;null&gt;</td>\n",
       "      <td>&lt;null&gt;</td>\n",
       "      <td>&lt;null&gt;</td>\n",
       "      <td>0</td>\n",
       "    </tr>\n",
       "    <tr>\n",
       "      <th>2</th>\n",
       "      <td>constantly</td>\n",
       "      <td>&lt;name&gt;</td>\n",
       "      <td>guilty</td>\n",
       "      <td>fel</td>\n",
       "      <td>&lt;null&gt;</td>\n",
       "      <td>&lt;null&gt;</td>\n",
       "      <td>&lt;null&gt;</td>\n",
       "      <td>&lt;null&gt;</td>\n",
       "      <td>&lt;null&gt;</td>\n",
       "      <td>&lt;null&gt;</td>\n",
       "      <td>&lt;null&gt;</td>\n",
       "      <td>&lt;null&gt;</td>\n",
       "      <td>&lt;null&gt;</td>\n",
       "      <td>&lt;null&gt;</td>\n",
       "      <td>&lt;null&gt;</td>\n",
       "      <td>&lt;null&gt;</td>\n",
       "      <td>&lt;null&gt;</td>\n",
       "      <td>&lt;null&gt;</td>\n",
       "      <td>0</td>\n",
       "    </tr>\n",
       "    <tr>\n",
       "      <th>3</th>\n",
       "      <td>hopefuly</td>\n",
       "      <td>fail</td>\n",
       "      <td>&lt;name&gt;</td>\n",
       "      <td>fel</td>\n",
       "      <td>Army_for_the_Liberation_of_Rwanda</td>\n",
       "      <td>sometimes</td>\n",
       "      <td>abdicate</td>\n",
       "      <td>corruption</td>\n",
       "      <td>regard</td>\n",
       "      <td>&lt;null&gt;</td>\n",
       "      <td>&lt;null&gt;</td>\n",
       "      <td>&lt;null&gt;</td>\n",
       "      <td>&lt;null&gt;</td>\n",
       "      <td>&lt;null&gt;</td>\n",
       "      <td>&lt;null&gt;</td>\n",
       "      <td>&lt;null&gt;</td>\n",
       "      <td>&lt;null&gt;</td>\n",
       "      <td>&lt;null&gt;</td>\n",
       "      <td>0</td>\n",
       "    </tr>\n",
       "    <tr>\n",
       "      <th>4</th>\n",
       "      <td>Guilty</td>\n",
       "      <td>constantly</td>\n",
       "      <td>&lt;name&gt;</td>\n",
       "      <td>fel</td>\n",
       "      <td>&lt;null&gt;</td>\n",
       "      <td>&lt;null&gt;</td>\n",
       "      <td>&lt;null&gt;</td>\n",
       "      <td>&lt;null&gt;</td>\n",
       "      <td>&lt;null&gt;</td>\n",
       "      <td>&lt;null&gt;</td>\n",
       "      <td>&lt;null&gt;</td>\n",
       "      <td>&lt;null&gt;</td>\n",
       "      <td>&lt;null&gt;</td>\n",
       "      <td>&lt;null&gt;</td>\n",
       "      <td>&lt;null&gt;</td>\n",
       "      <td>&lt;null&gt;</td>\n",
       "      <td>&lt;null&gt;</td>\n",
       "      <td>&lt;null&gt;</td>\n",
       "      <td>0</td>\n",
       "    </tr>\n",
       "  </tbody>\n",
       "</table>\n",
       "</div>"
      ],
      "text/plain": [
       "            0           1       2     3                                  4  \\\n",
       "0         ben     perturb      im  stod                              15hrs   \n",
       "1  Constantly      <name>  guilty   fel                             <null>   \n",
       "2  constantly      <name>  guilty   fel                             <null>   \n",
       "3    hopefuly        fail  <name>   fel  Army_for_the_Liberation_of_Rwanda   \n",
       "4      Guilty  constantly  <name>   fel                             <null>   \n",
       "\n",
       "                         5         6             7        8         9      10  \\\n",
       "0  field-effect_transistor   seaport  unmanageable  beloved  gorgeous    tied   \n",
       "1                   <null>    <null>        <null>   <null>    <null>  <null>   \n",
       "2                   <null>    <null>        <null>   <null>    <null>  <null>   \n",
       "3                sometimes  abdicate    corruption   regard    <null>  <null>   \n",
       "4                   <null>    <null>        <null>   <null>    <null>  <null>   \n",
       "\n",
       "       11      12      13      14      15      16      17  emotion  \n",
       "0  thirty  <null>  <null>  <null>  <null>  <null>  <null>        3  \n",
       "1  <null>  <null>  <null>  <null>  <null>  <null>  <null>        0  \n",
       "2  <null>  <null>  <null>  <null>  <null>  <null>  <null>        0  \n",
       "3  <null>  <null>  <null>  <null>  <null>  <null>  <null>        0  \n",
       "4  <null>  <null>  <null>  <null>  <null>  <null>  <null>        0  "
      ]
     },
     "execution_count": 506,
     "metadata": {},
     "output_type": "execute_result"
    }
   ],
   "source": [
    "df_train_final.head()"
   ]
  },
  {
   "cell_type": "code",
   "execution_count": 507,
   "metadata": {},
   "outputs": [
    {
     "data": {
      "text/plain": [
       "0               1        2       3       4       5       6       7       8       9       10      11      12      13      14      15      16      17      emotion\n",
       "<name>          shesh    <null>  <null>  <null>  <null>  <null>  <null>  <null>  <null>  <null>  <null>  <null>  <null>  <null>  <null>  <null>  <null>  0          11\n",
       "confuzled       <null>   <null>  <null>  <null>  <null>  <null>  <null>  <null>  <null>  <null>  <null>  <null>  <null>  <null>  <null>  <null>  <null>  0          10\n",
       "<name>          bo       <null>  <null>  <null>  <null>  <null>  <null>  <null>  <null>  <null>  <null>  <null>  <null>  <null>  <null>  <null>  <null>  1           9\n",
       "Motherfuck      qw       <null>  <null>  <null>  <null>  <null>  <null>  <null>  <null>  <null>  <null>  <null>  <null>  <null>  <null>  <null>  <null>  0           8\n",
       "Sleep_together  rest     <null>  <null>  <null>  <null>  <null>  <null>  <null>  <null>  <null>  <null>  <null>  <null>  <null>  <null>  <null>  <null>  0           6\n",
       "Im              sleping  <null>  <null>  <null>  <null>  <null>  <null>  <null>  <null>  <null>  <null>  <null>  <null>  <null>  <null>  <null>  <null>  1           5\n",
       "mcfly           <null>   <null>  <null>  <null>  <null>  <null>  <null>  <null>  <null>  <null>  <null>  <null>  <null>  <null>  <null>  <null>  <null>  0           5\n",
       "sleep_together  rest     <null>  <null>  <null>  <null>  <null>  <null>  <null>  <null>  <null>  <null>  <null>  <null>  <null>  <null>  <null>  <null>  0           4\n",
       "I'm             bore     <null>  <null>  <null>  <null>  <null>  <null>  <null>  <null>  <null>  <null>  <null>  <null>  <null>  <null>  <null>  <null>  1           4\n",
       "Stand_by        trafic   <null>  <null>  <null>  <null>  <null>  <null>  <null>  <null>  <null>  <null>  <null>  <null>  <null>  <null>  <null>  <null>  1           4\n",
       "Name: count, dtype: int64"
      ]
     },
     "execution_count": 507,
     "metadata": {},
     "output_type": "execute_result"
    }
   ],
   "source": [
    "df_train_final.value_counts().head(10)"
   ]
  },
  {
   "cell_type": "code",
   "execution_count": 508,
   "metadata": {},
   "outputs": [],
   "source": [
    "temp1 = np.array(df_train_final[df_train_final[0]=='confuzled'].head(1))\n",
    "temp4 = np.array(df_train_final[df_train_final[0]=='Sleep_together'].head(1))\n",
    "temp2 = np.array(df_train_final[df_train_final[1]==\"shesh\"].head(1))\n",
    "temp3 =  np.array(df_train_final[df_train_final[0]==\"Motherfuck\"].head(1))\n",
    "temp5 =  np.array(df_train_final[df_train_final[1]==\"bo\"].head(1))"
   ]
  },
  {
   "cell_type": "code",
   "execution_count": 509,
   "metadata": {},
   "outputs": [],
   "source": [
    "df_train_final = df_train_final[df_train_final[0]!='confuzled']\n",
    "df_train_final = df_train_final[df_train_final[0]!=\"Sleep_together\"]\n",
    "df_train_final = df_train_final[df_train_final[1]!=\"shesh\"]\n",
    "df_train_final = df_train_final[df_train_final[0]!=\"Motherfuck\"]\n",
    "df_train_final = df_train_final[df_train_final[1]!=\"bo\"]"
   ]
  },
  {
   "cell_type": "code",
   "execution_count": 510,
   "metadata": {},
   "outputs": [
    {
     "data": {
      "text/plain": [
       "0               1        2        3       4       5       6       7       8       9       10      11      12      13      14      15      16      17      emotion\n",
       "mcfly           <null>   <null>   <null>  <null>  <null>  <null>  <null>  <null>  <null>  <null>  <null>  <null>  <null>  <null>  <null>  <null>  <null>  0          5\n",
       "Im              sleping  <null>   <null>  <null>  <null>  <null>  <null>  <null>  <null>  <null>  <null>  <null>  <null>  <null>  <null>  <null>  <null>  1          5\n",
       "I'm             bore     <null>   <null>  <null>  <null>  <null>  <null>  <null>  <null>  <null>  <null>  <null>  <null>  <null>  <null>  <null>  <null>  1          4\n",
       "sleep_together  rest     <null>   <null>  <null>  <null>  <null>  <null>  <null>  <null>  <null>  <null>  <null>  <null>  <null>  <null>  <null>  <null>  0          4\n",
       "<name>          thats    terible  <null>  <null>  <null>  <null>  <null>  <null>  <null>  <null>  <null>  <null>  <null>  <null>  <null>  <null>  <null>  1          4\n",
       "Name: count, dtype: int64"
      ]
     },
     "execution_count": 510,
     "metadata": {},
     "output_type": "execute_result"
    }
   ],
   "source": [
    "df_train_final.value_counts().head()"
   ]
  },
  {
   "cell_type": "code",
   "execution_count": 511,
   "metadata": {},
   "outputs": [],
   "source": [
    "temp = [temp1,temp2,temp3,temp4,temp5]"
   ]
  },
  {
   "cell_type": "code",
   "execution_count": 512,
   "metadata": {},
   "outputs": [],
   "source": [
    "for i in temp:\n",
    "    df_train_final = pd.concat([df_train_final,pd.DataFrame(i,columns=df_train_final.columns)])"
   ]
  },
  {
   "cell_type": "code",
   "execution_count": 515,
   "metadata": {},
   "outputs": [
    {
     "data": {
      "text/plain": [
       "2042"
      ]
     },
     "execution_count": 515,
     "metadata": {},
     "output_type": "execute_result"
    }
   ],
   "source": [
    "len(df_train_final)"
   ]
  },
  {
   "cell_type": "code",
   "execution_count": 516,
   "metadata": {},
   "outputs": [
    {
     "data": {
      "text/plain": [
       "745"
      ]
     },
     "execution_count": 516,
     "metadata": {},
     "output_type": "execute_result"
    }
   ],
   "source": [
    "len(df_val_final)"
   ]
  },
  {
   "cell_type": "code",
   "execution_count": 517,
   "metadata": {},
   "outputs": [
    {
     "data": {
      "text/plain": [
       "0                       1             2               3       4       5       6       7       8       9       10      11      12      13      14      15      16      17      emotion\n",
       "<name>                  react         <null>          <null>  <null>  <null>  <null>  <null>  <null>  <null>  <null>  <null>  <null>  <null>  <null>  <null>  <null>  <null>  0          6\n",
       "Software_documentation  sidereal_day  <null>          <null>  <null>  <null>  <null>  <null>  <null>  <null>  <null>  <null>  <null>  <null>  <null>  <null>  <null>  <null>  1          5\n",
       "<name>                  solution      <null>          <null>  <null>  <null>  <null>  <null>  <null>  <null>  <null>  <null>  <null>  <null>  <null>  <null>  <null>  <null>  0          5\n",
       "                        bally         hordies         <null>  <null>  <null>  <null>  <null>  <null>  <null>  <null>  <null>  <null>  <null>  <null>  <null>  <null>  <null>  0          4\n",
       "download                newfangled    baptismal_font  <null>  <null>  <null>  <null>  <null>  <null>  <null>  <null>  <null>  <null>  <null>  <null>  <null>  <null>  <null>  0          2\n",
       "Name: count, dtype: int64"
      ]
     },
     "execution_count": 517,
     "metadata": {},
     "output_type": "execute_result"
    }
   ],
   "source": [
    "df_val_final.value_counts().head()"
   ]
  },
  {
   "cell_type": "code",
   "execution_count": 519,
   "metadata": {},
   "outputs": [],
   "source": [
    "temp12 = np.array(df_val_final[df_val_final[1]=='react'].head(1))"
   ]
  },
  {
   "cell_type": "code",
   "execution_count": 520,
   "metadata": {},
   "outputs": [],
   "source": [
    "df_val_final = df_val_final[df_val_final[1]!=\"react\"]"
   ]
  },
  {
   "cell_type": "code",
   "execution_count": 521,
   "metadata": {},
   "outputs": [
    {
     "data": {
      "text/plain": [
       "0                       1             2               3       4       5       6       7       8       9       10      11      12      13      14      15      16      17      emotion\n",
       "<name>                  solution      <null>          <null>  <null>  <null>  <null>  <null>  <null>  <null>  <null>  <null>  <null>  <null>  <null>  <null>  <null>  <null>  0          5\n",
       "Software_documentation  sidereal_day  <null>          <null>  <null>  <null>  <null>  <null>  <null>  <null>  <null>  <null>  <null>  <null>  <null>  <null>  <null>  <null>  1          5\n",
       "<name>                  bally         hordies         <null>  <null>  <null>  <null>  <null>  <null>  <null>  <null>  <null>  <null>  <null>  <null>  <null>  <null>  <null>  0          4\n",
       "download                newfangled    baptismal_font  <null>  <null>  <null>  <null>  <null>  <null>  <null>  <null>  <null>  <null>  <null>  <null>  <null>  <null>  <null>  0          2\n",
       "False                   friday        <null>          <null>  <null>  <null>  <null>  <null>  <null>  <null>  <null>  <null>  <null>  <null>  <null>  <null>  <null>  <null>  0          2\n",
       "Name: count, dtype: int64"
      ]
     },
     "execution_count": 521,
     "metadata": {},
     "output_type": "execute_result"
    }
   ],
   "source": [
    "df_val_final.value_counts().head()"
   ]
  },
  {
   "cell_type": "code",
   "execution_count": 522,
   "metadata": {},
   "outputs": [],
   "source": [
    "df_val_final = pd.concat([df_val_final,pd.DataFrame(temp12,columns=df_val_final.columns)])"
   ]
  },
  {
   "cell_type": "code",
   "execution_count": 523,
   "metadata": {},
   "outputs": [
    {
     "data": {
      "text/plain": [
       "740"
      ]
     },
     "execution_count": 523,
     "metadata": {},
     "output_type": "execute_result"
    }
   ],
   "source": [
    "len(df_val_final)"
   ]
  },
  {
   "cell_type": "code",
   "execution_count": 524,
   "metadata": {},
   "outputs": [],
   "source": [
    "# Now we can see that there are all unique values, no duplicacy is found in the data"
   ]
  },
  {
   "cell_type": "code",
   "execution_count": 525,
   "metadata": {},
   "outputs": [],
   "source": [
    "xtarg = df_train_final.iloc[:,:-1].values\n",
    "ytarg = df_train_final.iloc[:,-1].values\n",
    "xvarg = df_val_final.iloc[:,:-1].values\n",
    "yvarg = df_val_final.iloc[:,-1].values"
   ]
  },
  {
   "cell_type": "code",
   "execution_count": 526,
   "metadata": {},
   "outputs": [
    {
     "name": "stdout",
     "output_type": "stream",
     "text": [
      "(19578, 18) (2042, 18)\n",
      "(19578,) (2042,)\n",
      "(6551, 18) (740, 18)\n",
      "(6551,) (740,)\n"
     ]
    }
   ],
   "source": [
    "print(X_train_resampled_o.shape,xtarg.shape)\n",
    "print(y_train_resampled_o.shape,ytarg.shape)\n",
    "print(X_val_resampled_o.shape,xvarg.shape)\n",
    "print(y_val_resampled_o.shape,yvarg.shape) "
   ]
  },
  {
   "cell_type": "code",
   "execution_count": 527,
   "metadata": {},
   "outputs": [],
   "source": [
    "X_train_resampled_m=np.vstack([X_train_resampled_o,xtarg])\n",
    "y_train_resampled_m = np.hstack([y_train_resampled_o,ytarg])\n",
    "X_val_resampled_m = np.vstack([X_val_resampled_o,xvarg])\n",
    "y_val_resampled_m = np.hstack([y_val_resampled_o,yvarg])"
   ]
  },
  {
   "cell_type": "code",
   "execution_count": 528,
   "metadata": {},
   "outputs": [
    {
     "data": {
      "text/plain": [
       "array([3, 8, 8, ..., 0, 0, 1], dtype=object)"
      ]
     },
     "execution_count": 528,
     "metadata": {},
     "output_type": "execute_result"
    }
   ],
   "source": [
    "y_train_resampled_m"
   ]
  },
  {
   "cell_type": "code",
   "execution_count": 529,
   "metadata": {},
   "outputs": [
    {
     "name": "stdout",
     "output_type": "stream",
     "text": [
      "(23429, 18) (23429,)\n",
      "(7810, 18) (7810,)\n"
     ]
    }
   ],
   "source": [
    "print(x_train.shape,y_train.shape)\n",
    "print(x_val.shape,y_val.shape)"
   ]
  },
  {
   "cell_type": "code",
   "execution_count": 530,
   "metadata": {},
   "outputs": [
    {
     "name": "stdout",
     "output_type": "stream",
     "text": [
      "(21620, 18) (21620,)\n",
      "(7291, 18) (7291,)\n"
     ]
    }
   ],
   "source": [
    "print(X_train_resampled_m.shape,y_train_resampled_m.shape)\n",
    "print(X_val_resampled_m.shape,y_val_resampled_m.shape)"
   ]
  },
  {
   "cell_type": "code",
   "execution_count": 531,
   "metadata": {},
   "outputs": [],
   "source": [
    "def arraytolist(arr):\n",
    "    li =[]\n",
    "    for i in arr:\n",
    "        li.append(list(i))\n",
    "    return li\n",
    "\n",
    "Xtl = arraytolist(X_train_resampled_m)\n",
    "xvl = arraytolist(X_val_resampled_m)\n",
    "xl = arraytolist(x_test)"
   ]
  },
  {
   "cell_type": "code",
   "execution_count": 532,
   "metadata": {},
   "outputs": [
    {
     "data": {
      "text/plain": [
       "36721"
      ]
     },
     "execution_count": 532,
     "metadata": {},
     "output_type": "execute_result"
    }
   ],
   "source": [
    "z =[]\n",
    "z.extend(Xtl)\n",
    "z.extend(xvl)\n",
    "z.extend(xl)\n",
    "len(z)"
   ]
  },
  {
   "cell_type": "code",
   "execution_count": 533,
   "metadata": {},
   "outputs": [
    {
     "name": "stdout",
     "output_type": "stream",
     "text": [
      "['<name>', 'ops', 'eldhose', 'bhai', 'upload', 'read', \"hindu's\", 'article', 'barcamp', 'biny', 'rock', 'man', '<null>', '<null>', '<null>', '<null>', '<null>', '<null>']\n"
     ]
    }
   ],
   "source": [
    "print(z[0])"
   ]
  },
  {
   "cell_type": "code",
   "execution_count": 534,
   "metadata": {},
   "outputs": [],
   "source": [
    "from tensorflow.keras.preprocessing.text import Tokenizer\n",
    "tokenizer = Tokenizer()\n",
    "tokenizer.fit_on_texts(z)\n",
    "encoded = tokenizer.texts_to_sequences(z)"
   ]
  },
  {
   "cell_type": "code",
   "execution_count": 535,
   "metadata": {},
   "outputs": [
    {
     "name": "stdout",
     "output_type": "stream",
     "text": [
      "[2, 2107, 11309, 7998, 686, 186, 11310, 1273, 11311, 11312, 337, 135, 1, 1, 1, 1, 1, 1]\n"
     ]
    }
   ],
   "source": [
    "print(encoded[0])"
   ]
  },
  {
   "cell_type": "code",
   "execution_count": 536,
   "metadata": {},
   "outputs": [
    {
     "data": {
      "text/plain": [
       "dict_items([('<null>', 1), ('<name>', 2), ('get', 3), ('go', 4), ('day', 5), (\"i'm\", 6), ('god', 7), ('al', 8), ('love', 9), ('work', 10), ('like', 11), ('u', 12), ('today', 13), ('time', 14), ('lol', 15), ('im', 16), ('know', 17), ('think', 18), ('one', 19), ('hapy', 20), ('make', 21), ('realy', 22), ('want', 23), ('back', 24), ('wil', 25), ('se', 26), ('oh', 27), (\"can't\", 28), ('night', 29), ('new', 30), ('wel', 31), ('home', 32), ('come', 33), ('stil', 34), ('amp', 35), ('2', 36), ('thanks', 37), ('much', 38), ('great', 39), ('watch', 40), ('haha', 41), ('say', 42), ('ben', 43), ('ned', 44), ('fel', 45), ('last', 46), ('hope', 47), ('wish', 48), ('fun', 49), ('morning', 50), ('twiter', 51), ('bad', 52), ('tomorow', 53), ('sad', 54), ('would', 55), ('tonight', 56), ('wait', 57), ('sory', 58), ('try', 59), ('gona', 60), ('nice', 61), ('thing', 62), (\"i'l\", 63), ('right', 64), ('though', 65), ('beter', 66), ('slep', 67), ('take', 68), ('mis', 69), ('yeah', 70), (\"that's\", 71), ('wek', 72), ('mother', 73), ('friend', 74), ('wekend', 75), ('could', 76), ('way', 77), ('hour', 78), ('leave', 79), ('schol', 80), ('x', 81), ('bed', 82), ('find', 83), ('mom', 84), ('hate', 85), ('show', 86), ('son', 87), ('awesome', 88), ('hey', 89), ('dont', 90), ('people', 91), ('next', 92), ('movie', 93), (\"mother's\", 94), (\"i've\", 95), ('start', 96), ('guy', 97), ('thank', 98), ('never', 99), ('long', 100), ('aw', 101), ('even', 102), ('play', 103), ('yes', 104), ('best', 105), ('litle', 106), ('suck', 107), ('mean', 108), ('wana', 109), ('yay', 110), ('year', 111), ('already', 112), ('use', 113), ('girl', 114), ('1', 115), ('lok', 116), ('do', 117), ('4', 118), ('col', 119), ('cant', 120), ('ok', 121), ('give', 122), ('please', 123), ('life', 124), ('eat', 125), ('always', 126), ('everyone', 127), ('3', 128), ('sure', 129), ('feling', 130), ('another', 131), ('head', 132), ('first', 133), ('rain', 134), ('man', 135), ('ur', 136), ('live', 137), ('something', 138), ('friday', 139), ('lt3', 140), ('ugh', 141), ('sick', 142), ('talk', 143), ('lot', 144), ('ah', 145), ('let', 146), ('til', 147), ('finaly', 148), ('ever', 149), ('song', 150), ('loking', 151), ('may', 152), ('enjoy', 153), ('prety', 154), ('old', 155), ('hear', 156), ('gues', 157), ('house', 158), ('break', 159), ('phone', 160), ('hurt', 161), ('monday', 162), ('yet', 163), ('nothing', 164), ('mised', 165), ('big', 166), ('lose', 167), ('damn', 168), ('ready', 169), ('away', 170), ('loks', 171), ('help', 172), ('kep', 173), ('omg', 174), ('finish', 175), ('wow', 176), ('maybe', 177), ('folow', 178), ('wake', 179), ('baby', 180), ('tel', 181), ('listen', 182), ('buy', 183), ('actualy', 184), ('two', 185), ('read', 186), ('check', 187), ('sound', 188), ('mi', 189), ('glad', 190), ('job', 191), ('run', 192), ('also', 193), ('ya', 194), ('hot', 195), ('bore', 196), ('thats', 197), ('cal', 198), ('car', 199), ('someone', 200), ('5', 201), ('early', 202), ('party', 203), ('stuf', 204), ('hard', 205), ('birthday', 206), ('star', 207), ('bit', 208), ('end', 209), ('later', 210), ('stay', 211), ('kid', 212), ('everything', 213), ('saw', 214), ('late', 215), ('put', 216), ('cry', 217), ('pic', 218), ('yesterday', 219), ('gota', 220), ('world', 221), ('since', 222), ('sunday', 223), ('twet', 224), ('weather', 225), ('move', 226), ('stop', 227), ('n', 228), ('send', 229), ('10', 230), ('sun', 231), ('forget', 232), ('family', 233), ('lunch', 234), ('tire', 235), ('might', 236), ('place', 237), ('music', 238), ('sumer', 239), ('game', 240), ('fuck', 241), ('fail', 242), ('around', 243), ('hi', 244), ('por', 245), ('cute', 246), ('anything', 247), ('least', 248), ('cause', 249), ('welcome', 250), ('post', 251), ('must', 252), (\"he's\", 253), ('hair', 254), ('without', 255), ('funy', 256), ('totaly', 257), ('meet', 258), ('every', 259), ('sit', 260), ('hahaha', 261), ('change', 262), ('fod', 263), ('month', 264), ('quot', 265), ('mine', 266), ('bo', 267), ('diner', 268), ('die', 269), ('almost', 270), ('beautiful', 271), ('many', 272), ('tho', 273), ('drive', 274), ('mising', 275), ('money', 276), ('ask', 277), ('luck', 278), ('plan', 279), ('write', 280), ('turn', 281), ('present', 282), ('forward', 283), ('hel', 284), ('drink', 285), ('anyone', 286), ('stupid', 287), ('fre', 288), ('cofe', 289), ('okay', 290), ('matchless', 291), ('sleep_together', 292), ('believe', 293), ('picture', 294), ('far', 295), ('video', 296), ('boy', 297), ('didnt', 298), ('spend', 299), ('p', 300), ('swet', 301), ('shit', 302), ('close', 303), ('amazing', 304), ('r', 305), ('ofice', 306), (\"i'd\", 307), ('yea', 308), ('dad', 309), ('lovely', 310), ('il', 311), ('probably', 312), ('excite', 313), ('tired', 314), ('fan', 315), ('shop', 316), ('cold', 317), ('minute', 318), ('mum', 319), ('name', 320), (\"we're\", 321), ('b', 322), ('dream', 323), ('internet', 324), ('real', 325), ('outside', 326), ('folowing', 327), ('remember', 328), ('sen', 329), ('folowers', 330), ('ha', 331), ('catch', 332), ('hopefuly', 333), ('rom', 334), ('bok', 335), ('enough', 336), ('rock', 337), ('whole', 338), ('quite', 339), ('kinda', 340), ('godnight', 341), ('saturday', 342), ('holiday', 343), ('hm', 344), ('dog', 345), ('tok', 346), ('stick', 347), ('ago', 348), ('hehe', 349), ('able', 350), ('headache', 351), ('w', 352), ('idea', 353), ('update', 354), ('else', 355), ('hang', 356), ('clean', 357), ('exam', 358), ('photo', 359), ('hit', 360), ('hug', 361), ('dude', 362), ('win', 363), ('learn', 364), ('clas', 365), ('6', 366), ('weks', 367), ('amaze', 368), ('anymore', 369), ('super', 370), (\"there's\", 371), ('tv', 372), ('caled', 373), (\"what's\", 374), ('bring', 375), (\"they're\", 376), ('btw', 377), ('wear', 378), ('email', 379), ('sems', 380), ('rest', 381), ('helo', 382), ('word', 383), ('alone', 384), ('twets', 385), ('iphone', 386), ('ful', 387), ('person', 388), ('either', 389), ('kind', 390), ('trek', 391), ('wrong', 392), ('ticket', 393), ('see', 394), ('cuz', 395), ('7', 396), ('walk', 397), ('concert', 398), ('face', 399), ('computer', 400), ('set', 401), ('constantly', 402), ('trip', 403), ('reply', 404), ('beach', 405), ('fels', 406), ('alabama', 407), ('tell', 408), ('wonderful', 409), ('busy', 410), ('high', 411), ('breakfast', 412), ('problem', 413), ('crazy', 414), ('part', 415), ('8', 416), ('lmao', 417), ('half', 418), ('pay', 419), ('war', 420), ('care', 421), ('blog', 422), ('awake', 423), ('news', 424), ('test', 425), ('online', 426), ('bank', 427), ('nite', 428), ('brother', 429), ('cat', 430), ('wonder', 431), ('eye', 432), ('site', 433), ('cut', 434), ('sometimes', 435), ('course', 436), ('lucky', 437), ('vote', 438), ('wont', 439), ('mind', 440), ('sidereal_day', 441), ('true', 442), ('lil', 443), ('gt', 444), ('ive', 445), ('study', 446), ('facebok', 447), ('hop', 448), ('dance', 449), ('hold', 450), ('instead', 451), ('shower', 452), ('youtube', 453), ('xd', 454), ('link', 455), ('card', 456), ('moment', 457), ('final', 458), ('heart', 459), ('favorite', 460), ('suny', 461), ('pain', 462), ('30', 463), ('laptop', 464), ('perfect', 465), ('wo', 466), ('ice', 467), ('open', 468), ('hungry', 469), ('lady', 470), ('goin', 471), ('evening', 472), ('dead', 473), ('decide', 474), ('second', 475), ('la', 476), ('reason', 477), ('meting', 478), ('city', 479), ('ipod', 480), ('sigh', 481), ('aluminum', 482), ('anyway', 483), ('sister', 484), ('save', 485), ('notice', 486), ('fly', 487), ('laugh', 488), ('seriously', 489), ('regard', 490), ('become', 491), ('figure', 492), ('episode', 493), ('list', 494), ('chocolate', 495), ('june', 496), ('definitely', 497), ('anoying', 498), ('bday', 499), (\"you'l\", 500), ('momy', 501), ('suposed', 502), ('deuce', 503), ('top', 504), ('season', 505), ('sleping', 506), ('visit', 507), ('ohio', 508), ('date', 509), ('couple', 510), ('smile', 511), ('share', 512), ('fast', 513), ('thought', 514), ('fine', 515), ('aslep', 516), ('neds', 517), ('ad', 518), ('mad', 519), ('sign', 520), ('excited', 521), ('sing', 522), ('text', 523), ('hand', 524), ('bout', 525), ('tour', 526), ('pick', 527), ('mod', 528), ('join', 529), ('yep', 530), ('jealous', 531), ('em', 532), ('cake', 533), ('hapened', 534), ('wtf', 535), ('page', 536), ('point', 537), ('20', 538), ('tea', 539), ('park', 540), ('red', 541), ('le', 542), ('club', 543), ('crap', 544), ('piza', 545), ('shot', 546), ('special', 547), ('deity', 548), ('slow', 549), ('c', 550), ('trafic', 551), ('um', 552), ('uk', 553), ('dear', 554), ('load', 555), ('tweting', 556), ('hapen', 557), ('warm', 558), ('dang', 559), ('water', 560), ('film', 561), ('finger', 562), ('black', 563), ('jonas', 564), ('ride', 565), ('ten-spot', 566), ('4th', 567), ('due', 568), ('sore', 569), ('cream', 570), ('chat', 571), ('afternon', 572), ('horible', 573), ('fal', 574), ('download', 575), ('gym', 576), ('realize', 577), ('story', 578), ('pl', 579), ('short', 580), ('nap', 581), ('sadly', 582), (\"we'l\", 583), ('together', 584), ('worth', 585), ('past', 586), ('town', 587), ('com', 588), ('whats', 589), ('block', 590), ('1st', 591), ('bear', 592), ('jus', 593), ('fix', 594), ('easy', 595), ('english', 596), ('sem', 597), ('pack', 598), ('12', 599), ('doesnt', 600), ('fb', 601), ('slepy', 602), ('especialy', 603), ('garden', 604), ('throat', 605), ('answer', 606), ('child', 607), ('sunshine', 608), ('bye', 609), ('mr', 610), ('aparently', 611), ('lay', 612), ('white', 613), ('diferent', 614), ('window', 615), ('store', 616), ('album', 617), ('yum', 618), ('act', 619), ('order', 620), ('ima', 621), ('min', 622), ('gogle', 623), ('cancel', 624), ('mama', 625), ('unfortunately', 626), ('chance', 627), ('da', 628), ('ace', 629), ('side', 630), ('acount', 631), ('london', 632), ('inside', 633), ('congrats', 634), ('weird', 635), ('huge', 636), ('understand', 637), ('agre', 638), ('keps', 639), ('hat', 640), ('airport', 641), ('band', 642), ('gift', 643), ('project', 644), ('bles', 645), ('a_lot', 646), ('bus', 647), ('none', 648), (\"mom's\", 649), ('9', 650), ('kil', 651), ('age', 652), ('lie', 653), ('lame', 654), ('upset', 655), ('thx', 656), ('thre', 657), ('f', 658), ('babe', 659), ('kick', 660), ('burn', 661), ('idk', 662), ('fair', 663), ('ber', 664), ('train', 665), ('shame', 666), ('snl', 667), ('bgt', 668), ('begin', 669), ('except', 670), ('boring', 671), ('yumy', 672), ('woman', 673), ('bc', 674), ('loked', 675), ('huby', 676), ('bike', 677), (\"let's\", 678), ('shoe', 679), ('nope', 680), ('plus', 681), ('beat', 682), ('parent', 683), ('near', 684), ('relax', 685), ('upload', 686), ('count', 687), ('mumy', 688), ('rather', 689), ('mesage', 690), ('cok', 691), ('ap', 692), ('midle', 693), ('0', 694), ('gr', 695), ('duno', 696), ('wory', 697), ('air', 698), ('guitar', 699), ('grow', 700), ('blue', 701), ('wed', 702), ('camera', 703), ('line', 704), ('yup', 705), ('wash', 706), ('absolutely', 707), ('leg', 708), ('bet', 709), ('fet', 710), ('prom', 711), ('note', 712), ('bar', 713), ('number', 714), ('mile', 715), ('self', 716), ('hapens', 717), ('paper', 718), ('light', 719), ('oficialy', 720), ('busines', 721), ('xoxo', 722), ('lazy', 723), ('2nd', 724), ('flu', 725), ('question', 726), ('pep', 727), ('sale', 728), ('homework', 729), ('pop', 730), ('although', 731), ('hr', 732), ('mon', 733), ('fantastic', 734), ('nox', 735), ('havent', 736), ('fight', 737), ('future', 738), ('mention', 739), ('gah', 740), ('bf', 741), ('quick', 742), ('experience', 743), ('canot', 744), ('celebrate', 745), ('everybody', 746), ('teach', 747), ('via', 748), ('e', 749), ('adam', 750), ('adenosine_monophosphate', 751), ('invite', 752), ('shirt', 753), ('company', 754), ('david', 755), ('l', 756), ('bq', 757), ('boks', 758), ('completely', 759), ('record', 760), ('click', 761), ('boyfriend', 762), ('myspace', 763), ('luv', 764), ('have_a_bun_in_the_oven', 765), ('drop', 766), ('whatever', 767), ('2day', 768), ('[person]', 769), ('gren', 770), ('mac', 771), ('along', 772), ('safe', 773), ('math', 774), ('sell', 775), ('50', 776), ('neded', 777), ('k', 778), ('crash', 779), ('yr', 780), ('apreciate', 781), ('fact', 782), ('hun', 783), ('coment', 784), ('apartment', 785), ('behind', 786), ('wine', 787), ('code', 788), ('forever', 789), ('eh', 790), ('argh', 791), ('aint', 792), ('smal', 793), ('touch', 794), ('proud', 795), ('chese', 796), ('wife', 797), ('gut', 798), ('paragon', 799), ('comparable', 800), ('dvd', 801), ('expect', 802), ('young', 803), ('disapointed', 804), ('service', 805), ('chilin', 806), ('sexy', 807), ('lonely', 808), (\"it'l\", 809), ('deal', 810), ('admit', 811), ('speak', 812), ('team', 813), ('interesting', 814), ('chicken', 815), ('15', 816), ('throw', 817), ('remind', 818), ('pol', 819), ('justin', 820), ('cup', 821), ('radio', 822), ('deserve', 823), ('version', 824), ('hahah', 825), ('power', 826), ('cover', 827), ('twit', 828), ('v', 829), ('rainy', 830), ('state', 831), ('tear', 832), ('tom', 833), ('daughter', 834), ('vega', 835), ('felt', 836), ('profile', 837), ('bum', 838), ('bored', 839), ('stomach', 840), ('travel', 841), ('thursday', 842), ('attentiveness', 843), ('gorgeous', 844), ('ear', 845), ('yo', 846), ('graduation', 847), ('waste', 848), ('hospital', 849), ('topic', 850), ('id', 851), ('church', 852), ('aple', 853), ('cousin', 854), ('ouch', 855), ('usualy', 856), ('double', 857), ('mater', 858), ('uracil', 859), ('group', 860), ('blow', 861), ('tip', 862), ('suport', 863), ('flight', 864), ('mate', 865), ('treat', 866), ('case', 867), ('extra', 868), ('alike', 869), ('key', 870), ('front', 871), ('body', 872), ('yal', 873), ('pray', 874), ('drunk', 875), ('jon', 876), ('bro', 877), ('bitch', 878), ('website', 879), ('bag', 880), ('clothes', 881), ('betwen', 882), ('ho', 883), ('track', 884), ('scar', 885), ('flower', 886), ('plant', 887), ('library', 888), ('uranium', 889), ('stuck', 890), ('dm', 891), ('si', 892), ('holy', 893), ('sat', 894), ('alright', 895), ('single', 896), ('disgust', 897), ('web', 898), ('level', 899), ('return', 900), ('exactly', 901), ('de', 902), ('surprise', 903), ('idol', 904), ('quiz', 905), ('road', 906), ('sort', 907), ('coke', 908), ('practice', 909), ('release', 910), ('blody', 911), ('voice', 912), ('folowfriday', 913), ('somewhere', 914), ('hilarious', 915), ('california', 916), ('event', 917), ('colege', 918), ('earlier', 919), ('huh', 920), ('dres', 921), ('ill', 922), ('ampere', 923), ('file', 924), ('review', 925), ('promise', 926), ('stand', 927), ('quiet', 928), ('machine', 929), ('random', 930), ('toe', 931), ('box', 932), ('dark', 933), ('kiling', 934), ('hero', 935), ('caling', 936), ('complete', 937), ('shift', 938), ('cd', 939), ('clock', 940), ('law', 941), ('shut', 942), ('pas', 943), ('glases', 944), ('co', 945), ('heat', 946), ('shes', 947), ('rip', 948), ('gosh', 949), ('anybody', 950), ('view', 951), ('row', 952), ('joke', 953), ('shal', 954), ('gig', 955), ('freakin', 956), ('mesages', 957), ('hanah', 958), ('arm', 959), ('copy', 960), ('terible', 961), ('edit', 962), ('continue', 963), ('gear', 964), ('miss', 965), ('idiot', 966), ('alowed', 967), ('plz', 968), ('memory', 969), ('peace', 970), ('french', 971), ('joy', 972), ('space', 973), ('freak', 974), ('design', 975), ('80', 976), ('exhaust', 977), ('felin', 978), ('low', 979), ('miley', 980), ('however', 981), ('fav', 982), ('round', 983), (\"where's\", 984), ('rid', 985), ('alot', 986), ('tuesday', 987), ('bug', 988), ('blend', 989), ('itunes', 990), ('congratulation', 991), ('dor', 992), ('men', 993), ('hav', 994), ('trouble', 995), ('taste', 996), ('interview', 997), ('wasnt', 998), ('ton', 999), ('swim', 1000), ('wednesday', 1001), ('fam', 1002), ('taylor', 1003), ('type', 1004), ('etc', 1005), ('mark', 1006), ('bumer', 1007), ('curently', 1008), ('mal', 1009), ('vacation', 1010), ('race', 1011), ('fml', 1012), ('folower', 1013), ('thinking', 1014), ('others', 1015), ('dentist', 1016), ('net', 1017), ('faling', 1018), ('lake', 1019), ('anger', 1020), ('complicate', 1021), ('starbucks', 1022), ('godbye', 1023), ('master', 1024), ('blod', 1025), ('pised', 1026), ('art', 1027), ('tonite', 1028), ('revision', 1029), ('40', 1030), ('coz', 1031), ('ten', 1032), ('getin', 1033), ('chinese', 1034), ('commemorate', 1035), ('pink', 1036), ('history', 1037), ('fresh', 1038), ('pupy', 1039), ('darn', 1040), ('earth', 1041), ('nah', 1042), (\"how's\", 1043), ('awh', 1044), ('14', 1045), ('teling', 1046), ('cokies', 1047), ('delicious', 1048), ('nyc', 1049), ('choose', 1050), ('quote', 1051), ('vid', 1052), ('tune', 1053), ('dady', 1054), ('doctor', 1055), ('wolverine', 1056), ('fit', 1057), ('drag', 1058), ('favourite', 1059), ('board', 1060), ('chers', 1061), ('interest', 1062), ('screw', 1063), ('everyday', 1064), ('talent', 1065), ('lead', 1066), ('inded', 1067), ('fire', 1068), ('sandwich', 1069), ('bird', 1070), ('longer', 1071), ('mcfly', 1072), ('nobody', 1073), ('doin', 1074), ('twilight', 1075), ('chicago', 1076), (\"y'al\", 1077), ('ache', 1078), ('folowed', 1079), ('beloved', 1080), ('sky', 1081), ('pc', 1082), ('revise', 1083), ('b4', 1084), ('include', 1085), ('dr', 1086), ('clases', 1087), ('ring', 1088), ('charge', 1089), ('jack', 1090), ('blah', 1091), ('pul', 1092), ('serious', 1093), ('piece', 1094), ('3d', 1095), ('er', 1096), ('milk', 1097), ('exist', 1098), ('goal', 1099), ('entire', 1100), ('supose', 1101), ('scren', 1102), ('ny', 1103), ('fever', 1104), ('thanx', 1105), ('everywhere', 1106), ('rent', 1107), ('isnt', 1108), ('wit', 1109), ('afraid', 1110), ('aford', 1111), ('migraine', 1112), ('scary', 1113), ('awful', 1114), ('jump', 1115), ('blast', 1116), ('match', 1117), ('sleep', 1118), ('besides', 1119), ('shoping', 1120), ('kises', 1121), ('force', 1122), ('lately', 1123), ('spam', 1124), ('july', 1125), ('imagine', 1126), ('25', 1127), ('price', 1128), ('print', 1129), ('acros', 1130), ('country', 1131), ('draw', 1132), ('chanel', 1133), ('anyways', 1134), ('msn', 1135), ('lt', 1136), ('expensive', 1137), ('usual', 1138), ('mobile', 1139), ('death', 1140), ('normal', 1141), ('report', 1142), ('hapening', 1143), ('contact', 1144), ('five', 1145), ('ew', 1146), ('pased', 1147), ('bos', 1148), ('posible', 1149), ('award', 1150), ('bother', 1151), ('swine', 1152), ('manage', 1153), ('leson', 1154), ('sum', 1155), ('tan', 1156), ('keping', 1157), ('couldnt', 1158), ('spring', 1159), ('ooh', 1160), ('neck', 1161), ('hotel', 1162), ('tumy', 1163), ('def', 1164), ('dry', 1165), ('give_birth', 1166), ('privation', 1167), ('commend', 1168), ('prison_term', 1169), ('woho', 1170), ('mouth', 1171), ('mail', 1172), ('clear', 1173), ('ignore', 1174), ('delete', 1175), ('realise', 1176), ('fry', 1177), ('important', 1178), ('cost', 1179), ('tgif', 1180), ('kno', 1181), ('alarm', 1182), ('available', 1183), ('public', 1184), ('bath', 1185), ('nick', 1186), ('bot', 1187), ('info', 1188), ('teacher', 1189), ('chris', 1190), ('wat', 1191), ('grandma', 1192), ('often', 1193), ('four', 1194), ('2nite', 1195), ('sunburn', 1196), ('seat', 1197), ('strong', 1198), ('lab', 1199), ('ruin', 1200), ('germany', 1201), ('area', 1202), ('j', 1203), ('search', 1204), ('fat', 1205), ('induce', 1206), ('whitethorn', 1207), ('ugly', 1208), ('raining', 1209), ('outa', 1210), ('dnt', 1211), ('energy', 1212), ('living', 1213), ('bal', 1214), ('storm', 1215), ('american', 1216), ('weding', 1217), ('hows', 1218), ('jk', 1219), ('twetdeck', 1220), ('cals', 1221), ('six', 1222), ('steve', 1223), ('surgery', 1224), ('gay', 1225), ('land', 1226), ('swear', 1227), ('jam', 1228), ('arived', 1229), ('badly', 1230), ('na', 1231), ('tax', 1232), ('fot', 1233), ('graduate', 1234), ('empty', 1235), ('sense', 1236), ('sims', 1237), ('excelent', 1238), ('hahahaha', 1239), ('request', 1240), ('background', 1241), ('digest', 1242), ('cable_car', 1243), ('left', 1244), ('thru', 1245), ('social', 1246), ('girlfriend', 1247), ('dificult', 1248), ('host', 1249), ('pa', 1250), ('limit', 1251), ('camp', 1252), ('shout', 1253), ('fucking', 1254), ('involve', 1255), (\"who's\", 1256), ('swetie', 1257), ('90', 1258), ('fave', 1259), ('rule', 1260), ('toy', 1261), ('tha', 1262), ('scream', 1263), ('impresed', 1264), ('epic', 1265), ('australia', 1266), ('nd', 1267), ('chemistry', 1268), ('mix', 1269), ('respect', 1270), ('fourth_dimension', 1271), ('four-spot', 1272), ('article', 1273), ('model', 1274), ('kate', 1275), ('oven', 1276), ('g', 1277), ('quoti', 1278), ('ahead', 1279), ('fabulous', 1280), ('animal', 1281), ('spot', 1282), ('24', 1283), ('teth', 1284), ('canada', 1285), ('disney', 1286), ('series', 1287), ('paint', 1288), ('dep', 1289), ('dave', 1290), ('botle', 1291), ('receive', 1292), ('twitering', 1293), ('san', 1294), ('quit', 1295), ('result', 1296), ('tol', 1297), ('flat', 1298), ('cleaning', 1299), ('style', 1300), ('unles', 1301), ('consider', 1302), ('kne', 1303), ('wot', 1304), ('nearly', 1305), ('bang', 1306), ('talkin', 1307), ('brain', 1308), ('wi', 1309), ('prob', 1310), ('lend', 1311), ('united_kingdom', 1312), ('twenty_dollar_bill', 1313), ('toast', 1314), ('sesion', 1315), ('marathon', 1316), ('apart', 1317), ('nail', 1318), ('yer', 1319), ('wave', 1320), ('geting', 1321), ('studio', 1322), ('step', 1323), ('moma', 1324), ('guilty', 1325), ('chick', 1326), ('youre', 1327), ('truly', 1328), ('depresing', 1329), ('xmen', 1330), ('recover', 1331), ('schedule', 1332), ('cheap', 1333), ('slept', 1334), ('folk', 1335), ('relaxing', 1336), ('onto', 1337), ('rise', 1338), ('bite', 1339), ('sushi', 1340), ('esay', 1341), ('los', 1342), ('exciting', 1343), ('st', 1344), ('fuly', 1345), ('sily', 1346), ('uh', 1347), ('serve', 1348), ('kiled', 1349), ('depresed', 1350), ('fish', 1351), ('greg', 1352), ('steal', 1353), ('pant', 1354), ('209', 1355), ('intend', 1356), ('compilation', 1357), ('leeward', 1358), ('curio', 1359), ('trey', 1360), ('productive', 1361), ('driver', 1362), ('raise', 1363), ('gros', 1364), ('credit', 1365), ('properly', 1366), ('smel', 1367), ('perhaps', 1368), ('18', 1369), ('north', 1370), ('09', 1371), ('tie', 1372), ('awe', 1373), ('sydney', 1374), ('workin', 1375), ('jay', 1376), ('aded', 1377), ('conversation', 1378), ('hangover', 1379), ('uni', 1380), ('size', 1381), ('chil', 1382), ('timberlake', 1383), ('simple', 1384), ('wah', 1385), ('tweps', 1386), ('grab', 1387), ('honey', 1388), ('diet', 1389), ('soup', 1390), ('mises', 1391), ('bein', 1392), ('crapy', 1393), ('momies', 1394), ('ate', 1395), ('heard', 1396), ('bang-up', 1397), ('television_receiver', 1398), ('dye', 1399), ('major', 1400), ('16', 1401), ('3rd', 1402), ('me', 1403), ('create', 1404), ('yeh', 1405), ('hah', 1406), ('smoke', 1407), ('quotthe', 1408), ('fab', 1409), ('somebody', 1410), ('stret', 1411), ('laundry', 1412), ('tix', 1413), ('private', 1414), ('cher', 1415), ('ac', 1416), ('evil', 1417), ('sel', 1418), ('confuse', 1419), ('pleasure', 1420), ('rol', 1421), ('student', 1422), ('somehow', 1423), ('friendly', 1424), ('philipines', 1425), ('ily', 1426), ('third', 1427), ('dj', 1428), ('wind', 1429), ('research', 1430), ('blesed', 1431), ('fiften', 1432), ('cough', 1433), ('twice', 1434), ('server', 1435), ('frezing', 1436), ('shin', 1437), ('nasty', 1438), ('charm', 1439), ('atm', 1440), ('blackbery', 1441), ('fancy', 1442), ('drinking', 1443), ('aha', 1444), ('tough', 1445), ('determine', 1446), ('situation', 1447), ('pule', 1448), ('build', 1449), ('macbok', 1450), ('ack', 1451), ('consequence', 1452), ('tidal_bore', 1453), ('battalion', 1454), ('client', 1455), ('broken', 1456), ('2moro', 1457), ('smh', 1458), ('flor', 1459), ('coast', 1460), ('usa', 1461), ('action', 1462), ('maried', 1463), ('reach', 1464), ('adorable', 1465), ('isues', 1466), ('dish', 1467), ('healthy', 1468), ('delay', 1469), ('stufed', 1470), ('doubt', 1471), ('husband', 1472), ('wekends', 1473), ('uncle', 1474), ('plane', 1475), ('sam', 1476), ('secret', 1477), ('dig', 1478), ('woried', 1479), ('eg', 1480), ('push', 1481), ('demi', 1482), ('ow', 1483), ('handle', 1484), ('montana', 1485), ('watchin', 1486), ('twiters', 1487), ('anytime', 1488), ('america', 1489), ('13', 1490), ('pls', 1491), ('feed', 1492), ('barely', 1493), ('straight', 1494), ('station', 1495), ('mary', 1496), ('voleybal', 1497), ('acident', 1498), ('army_for_the_liberation_of_rwanda', 1499), ('six-spot', 1500), ('massage', 1501), ('selenium', 1502), ('arduous', 1503), ('performance', 1504), ('training', 1505), ('father', 1506), ('trust', 1507), ('south', 1508), ('guna', 1509), ('crush', 1510), ('reading', 1511), ('lack', 1512), ('xbox', 1513), ('england', 1514), ('apt', 1515), ('britain', 1516), ('oops', 1517), ('cloud', 1518), ('character', 1519), ('mo', 1520), ('grand', 1521), ('mat', 1522), ('choice', 1523), (\"ya'l\", 1524), ('hiya', 1525), ('grade', 1526), ('local', 1527), ('sugar', 1528), (\"we've\", 1529), ('goten', 1530), ('senior', 1531), ('scan', 1532), ('17', 1533), ('bunch', 1534), ('loud', 1535), ('german', 1536), ('instal', 1537), ('sux', 1538), ('program', 1539), ('buton', 1540), ('he', 1541), ('degres', 1542), ('system', 1543), ('havin', 1544), ('damit', 1545), ('island', 1546), ('form', 1547), ('direct', 1548), ('comp', 1549), ('neighbor', 1550), ('hide', 1551), ('midnight', 1552), ('citizenry', 1553), ('mathematics', 1554), ('derision', 1555), ('beget', 1556), ('fault', 1557), ('ship', 1558), ('excuse', 1559), ('bake', 1560), ('suces', 1561), ('neither', 1562), ('snap', 1563), ('theatre', 1564), ('august', 1565), ('flash', 1566), ('crosed', 1567), ('crave', 1568), ('fuckin', 1569), ('abt', 1570), ('interested', 1571), ('heh', 1572), ('total', 1573), ('base', 1574), ('daily', 1575), ('magic', 1576), ('ups', 1577), ('pm', 1578), ('upto', 1579), ('desk', 1580), ('plenty', 1581), ('wide', 1582), ('non', 1583), ('mesed', 1584), ('mm', 1585), ('juice', 1586), ('stres', 1587), ('devil', 1588), ('strange', 1589), ('fourth', 1590), ('sport', 1591), ('slowly', 1592), ('cupcake', 1593), ('nowhere', 1594), ('awaken', 1595), ('heavy', 1596), ('blame', 1597), ('meter', 1598), ('guffaw', 1599), ('lookout', 1600), ('belong_to', 1601), ('mustiness', 1602), ('toth', 1603), ('dumb', 1604), ('bone', 1605), ('batery', 1606), ('pet', 1607), ('prepare', 1608), ('van', 1609), ('prayer', 1610), ('photograph', 1611), ('mtv', 1612), ('lokin', 1613), ('fake', 1614), ('ampamp', 1615), ('hole', 1616), ('color', 1617), ('boked', 1618), ('bil', 1619), (\"ain't\", 1620), ('cable', 1621), ('kitchen', 1622), ('reward', 1623), ('nose', 1624), ('sry', 1625), ('everytime', 1626), ('repair', 1627), ('rice', 1628), ('joint', 1629), ('twitpic', 1630), ('ofer', 1631), ('burnt', 1632), ('waitin', 1633), ('keep', 1634), ('option', 1635), ('hela', 1636), ('deliver', 1637), ('lesons', 1638), ('wet', 1639), ('mini', 1640), ('enter', 1641), ('theme', 1642), ('godnes', 1643), ('alive', 1644), ('grey', 1645), ('posibly', 1646), ('trailer', 1647), ('pig', 1648), ('sex', 1649), ('joe', 1650), ('presentation', 1651), ('aps', 1652), ('cel', 1653), ('reference', 1654), ('hugh', 1655), ('nervous', 1656), ('gas', 1657), ('buter', 1658), ('field', 1659), ('cloudy', 1660), ('skin', 1661), (\"here's\", 1662), ('stresed', 1663), ('chapter', 1664), ('refer', 1665), ('acounting', 1666), ('mister', 1667), ('classify', 1668), ('yield', 1669), ('approximately', 1670), ('heaven', 1671), ('hury', 1672), ('awhile', 1673), ('member', 1674), ('tiny', 1675), ('hunt', 1676), ('ghost', 1677), ('comin', 1678), ('blister', 1679), ('ahaha', 1680), ('deck', 1681), ('tag', 1682), ('score', 1683), ('playing', 1684), ('ftw', 1685), ('bread', 1686), ('reality', 1687), ('drama', 1688), ('bright', 1689), (\"dad's\", 1690), ('former', 1691), ('spider', 1692), ('dresed', 1693), ('horse', 1694), ('recomend', 1695), ('briliant', 1696), ('helpful', 1697), ('sean', 1698), ('oficial', 1699), (\"she'l\", 1700), ('asignment', 1701), ('dat', 1702), ('buny', 1703), ('mistake', 1704), ('tre', 1705), ('ryan', 1706), ('supernatural', 1707), ('downtown', 1708), ('workout', 1709), ('shake', 1710), ('anoyed', 1711), ('doc', 1712), ('hd', 1713), ('detail', 1714), ('angry', 1715), ('regret', 1716), ('cafe', 1717), ('rate', 1718), ('table', 1719), ('mountain', 1720), ('msg', 1721), ('adicted', 1722), ('botom', 1723), ('pair', 1724), ('one-half', 1725), ('possibly', 1726), ('sample_distribution', 1727), ('sealed', 1728), ('breastfeed', 1729), ('positive', 1730), ('antic', 1731), ('h', 1732), ('literaly', 1733), ('blip', 1734), ('wories', 1735), ('golf', 1736), ('haircut', 1737), ('cavs', 1738), ('west', 1739), ('crack', 1740), ('roast', 1741), ('writing', 1742), ('budy', 1743), ('stage', 1744), ('respond', 1745), ('babysiting', 1746), ('21', 1747), ('clarify', 1748), ('forgive', 1749), ('sucesful', 1750), ('aim', 1751), ('brand', 1752), ('ty', 1753), ('urgh', 1754), ('tweted', 1755), ('otherwise', 1756), ('spech', 1757), ('bulshit', 1758), ('log', 1759), ('sour', 1760), ('large', 1761), ('dam', 1762), ('angel', 1763), ('meal', 1764), ('atention', 1765), ('refuse', 1766), ('sir', 1767), ('spanish', 1768), (\"they've\", 1769), ('txt', 1770), ('rofl', 1771), ('mornin', 1772), ('suit', 1773), ('xo', 1774), ('acomplished', 1775), ('sa', 1776), ('randomly', 1777), ('cali', 1778), ('texas', 1779), ('asap', 1780), ('calculator', 1781), ('solution', 1782), ('stream', 1783), ('quothow', 1784), ('ocean', 1785), ('rub', 1786), ('capital', 1787), ('player', 1788), ('lord', 1789), ('anywhere', 1790), ('tres', 1791), ('decision', 1792), ('east', 1793), ('sitin', 1794), ('focus', 1795), ('acording', 1796), ('45', 1797), ('7am', 1798), ('bleh', 1799), ('mostly', 1800), ('wid', 1801), ('thingsmumysaid', 1802), ('boastful', 1803), ('substance_abuse', 1804), ('business', 1805), ('discipline', 1806), ('moxy', 1807), ('acomplish', 1808), ('lata', 1809), ('wild', 1810), ('19', 1811), ('pen', 1812), ('outfit', 1813), ('listening', 1814), ('toaster', 1815), ('certain', 1816), ('prefer', 1817), ('predict', 1818), ('q', 1819), ('godmorning', 1820), ('aunt', 1821), ('advice', 1822), ('fotbal', 1823), ('within', 1824), ('tongue', 1825), ('bacon', 1826), ('chip', 1827), ('theater', 1828), ('fil', 1829), ('10th', 1830), ('pro', 1831), ('spoil', 1832), ('bay', 1833), ('salad', 1834), ('coments', 1835), ('flick', 1836), ('breathe', 1837), ('pub', 1838), ('hapines', 1839), ('boston', 1840), ('holyoaks', 1841), ('nxt', 1842), ('survive', 1843), ('te', 1844), ('sarah', 1845), ('weight', 1846), ('awsome', 1847), ('got', 1848), ('yah', 1849), ('sake', 1850), ('lock', 1851), ('keyboard', 1852), ('status', 1853), ('clip', 1854), ('mike', 1855), ('basicaly', 1856), ('replace', 1857), ('aswel', 1858), ('giant', 1859), ('wrap', 1860), ('explode', 1861), ('glomy', 1862), ('launch', 1863), ('rite', 1864), ('brb', 1865), ('iron', 1866), ('extremely', 1867), ('bel', 1868), ('king', 1869), ('spending', 1870), ('rob', 1871), ('stack', 1872), ('talented', 1873), ('chiling', 1874), ('per', 1875), ('soul', 1876), ('recently', 1877), ('notebok', 1878), ('scratch', 1879), ('obviously', 1880), ('rabit', 1881), ('phil', 1882), ('bio', 1883), ('bils', 1884), ('york', 1885), ('beta', 1886), ('adieu', 1887), ('perform', 1888), ('conclude', 1889), ('arrive', 1890), ('manner', 1891), ('electrical_engineering', 1892), ('regretful', 1893), ('adequate', 1894), ('devour', 1895), ('corrode', 1896), ('twitfam', 1897), ('cheating', 1898), ('proper', 1899), ('prince', 1900), ('medium', 1901), ('glas', 1902), ('isue', 1903), ('wrist', 1904), ('ki', 1905), ('schols', 1906), ('ta', 1907), ('sweat', 1908), ('control', 1909), ('bea', 1910), ('journey', 1911), ('network', 1912), ('pises', 1913), ('florida', 1914), ('ground', 1915), ('steak', 1916), ('audition', 1917), ('lakers', 1918), ('honestly', 1919), ('truck', 1920), ('several', 1921), ('hax', 1922), ('0r', 1923), ('seatle', 1924), ('sometime', 1925), ('stock', 1926), ('felow', 1927), ('surely', 1928), ('competition', 1929), ('usb', 1930), ('bah', 1931), ('hil', 1932), ('atl', 1933), ('jimy', 1934), ('burger', 1935), ('thankful', 1936), ('atempt', 1937), ('insane', 1938), ('alcohol', 1939), ('famous', 1940), ('james', 1941), ('bk', 1942), ('quality', 1943), ('thunder', 1944), ('walmart', 1945), ('diference', 1946), (\"he'l\", 1947), ('cinema', 1948), ('bump', 1949), ('obsesion', 1950), ('desktop', 1951), ('cramp', 1952), ('europe', 1953), ('kindle', 1954), ('frustrate', 1955), ('miami', 1956), ('aka', 1957), ('alergies', 1958), ('couch', 1959), ('legal', 1960), ('christian', 1961), ('melt', 1962), ('con', 1963), ('slightly', 1964), ('christmas', 1965), ('bowl', 1966), ('unfolow', 1967), ('unfair', 1968), ('hangin', 1969), (\"they'l\", 1970), ('tweters', 1971), ('wop', 1972), ('dis', 1973), ('ng', 1974), ('60', 1975), ('develop', 1976), ('wrinkle', 1977), ('call_on_the_carpet', 1978), ('necessitate', 1979), ('spill_the_beans', 1980), ('affair', 1981), ('suffice', 1982), ('stand_by', 1983), ('southeasterly', 1984), ('workplace', 1985), ('home_plate', 1986), ('coarse', 1987), ('italian', 1988), ('lip', 1989), ('gud', 1990), ('cancer', 1991), ('alex', 1992), ('muscle', 1993), ('winter', 1994), ('mcdonalds', 1995), ('pie', 1996), ('climb', 1997), ('wk', 1998), ('egs', 1999), ('certainly', 2000), ('fashion', 2001), ('avoid', 2002), ('po', 2003), ('beyond', 2004), ('legit', 2005), ('shizle', 2006), ('bound', 2007), ('lap', 2008), ('ken', 2009), ('popular', 2010), ('skol', 2011), ('adres', 2012), ('ading', 2013), ('motivate', 2014), ('dublin', 2015), (\"everyone's\", 2016), ('makin', 2017), ('female', 2018), ('bust', 2019), ('seling', 2020), ('soap', 2021), ('skype', 2022), ('texting', 2023), ('pres', 2024), ('wok', 2025), ('tease', 2026), ('houston', 2027), ('venue', 2028), ('thumb', 2029), ('painful', 2030), ('contest', 2031), ('crawl', 2032), ('leno', 2033), ('location', 2034), ('heck', 2035), ('science', 2036), ('user', 2037), ('gawd', 2038), ('coperating', 2039), ('nut', 2040), ('scene', 2041), ('lmfao', 2042), ('listenin', 2043), ('ro', 2044), ('twp', 2045), ('anythin', 2046), ('dc', 2047), ('sea', 2048), ('zombie', 2049), ('grad', 2050), ('peanut', 2051), ('candy', 2052), ('jb', 2053), ('hehehe', 2054), ('masive', 2055), ('twin', 2056), ('hostage', 2057), ('tokyo', 2058), ('ti', 2059), ('festival', 2060), ('depend', 2061), ('friends', 2062), ('hater', 2063), ('recognize', 2064), ('michael', 2065), ('les', 2066), ('jez', 2067), ('license', 2068), ('pity', 2069), ('incredible', 2070), ('phily', 2071), ('honor', 2072), ('arive', 2073), ('cudle', 2074), ('despite', 2075), ('od', 2076), ('23', 2077), ('misplace', 2078), ('conference', 2079), ('sock', 2080), ('taco', 2081), ('troley', 2082), ('theres', 2083), ('bathrom', 2084), ('title', 2085), ('motion', 2086), ('masage', 2087), (\"friend's\", 2088), ('regular', 2089), ('930', 2090), ('canuck', 2091), ('inspire', 2092), ('decidedly', 2093), ('breding', 2094), ('prematurely', 2095), ('iritated', 2096), ('cling', 2097), ('stopping_point', 2098), ('clock_time', 2099), ('drawing_card', 2100), ('outlive', 2101), ('oeuvre', 2102), ('gamble', 2103), ('good_morning', 2104), ('credibly', 2105), ('wnted', 2106), ('ops', 2107), ('grocery', 2108), ('paris', 2109), ('tols', 2110), ('rush', 2111), ('discover', 2112), ('utah', 2113), ('2morow', 2114), ('mow', 2115), ('exercise', 2116), ('avatar', 2117), ('curse', 2118), ('market', 2119), ('9am', 2120), ('whoa', 2121), ('cruise', 2122), ('chili', 2123), ('bals', 2124), ('horor', 2125), ('xx', 2126), ('sadnes', 2127), ('working', 2128), (\"g'night\", 2129), ('besties', 2130), ('partner', 2131), ('th', 2132), ('transfer', 2133), ('eating', 2134), ('incredibly', 2135), ('asian', 2136), ('ashley', 2137), ('spel', 2138), ('distract', 2139), ('mouse', 2140), ('demo', 2141), ('personal', 2142), ('staf', 2143), ('center', 2144), ('wing', 2145), ('ilegal', 2146), ('miserable', 2147), ('jen', 2148), ('argument', 2149), ('cyrus', 2150), ('knock', 2151), ('bicycle', 2152), ('jamies', 2153), ('imposible', 2154), ('mcmufin', 2155), ('mode', 2156), ('human', 2157), ('grateful', 2158), ('fed', 2159), ('cokie', 2160), ('educate', 2161), ('gr8', 2162), ('boat', 2163), ('remove', 2164), ('recipe', 2165), ('nin', 2166), ('response', 2167), ('shoting', 2168), ('whew', 2169), ('actual', 2170), ('milion', 2171), ('subway', 2172), ('scotland', 2173), ('zo', 2174), ('disapointing', 2175), ('hyper', 2176), ('wal', 2177), ('hardly', 2178), ('normaly', 2179), ('chase', 2180), ('amazon', 2181), ('colection', 2182), ('complain', 2183), ('naw', 2184), ('makeup', 2185), ('andy', 2186), ('pamper', 2187), (\"mum's\", 2188), ('fetch', 2189), ('jesus', 2190), ('france', 2191), ('rachel', 2192), ('twiterland', 2193), ('chuck', 2194), ('ang', 2195), ('med', 2196), ('november', 2197), ('polish', 2198), ('wouldnt', 2199), ('someday', 2200), ('charger', 2201), ('wisdom', 2202), ('lo', 2203), ('trade', 2204), ('aniversary', 2205), ('restaurant', 2206), ('clasic', 2207), ('mexican', 2208), ('standard', 2209), ('degre', 2210), ('ug', 2211), ('lawn', 2212), ('bedtime', 2213), ('poter', 2214), ('upgrade', 2215), ('fudge', 2216), ('forum', 2217), ('modern', 2218), ('sunburnt', 2219), ('routine', 2220), ('sugestions', 2221), ('argue', 2222), ('perturb', 2223), ('das_kapital', 2224), ('go_to_bed', 2225), ('fulani', 2226), ('run_low', 2227), ('haircloth', 2228), (\"hair's-breadth\", 2229), ('plunder', 2230), ('retentive', 2231), ('fellate', 2232), ('giutar', 2233), ('bnp', 2234), ('preciate', 2235), ('oo', 2236), ('retwet', 2237), ('ps3', 2238), ('amy', 2239), ('shoot', 2240), ('clue', 2241), ('hary', 2242), ('there', 2243), ('vet', 2244), ('term', 2245), ('drug', 2246), ('chest', 2247), ('river', 2248), ('atleast', 2249), ('suden', 2250), ('dan', 2251), ('escape', 2252), ('surprisingly', 2253), ('tmrw', 2254), ('creative', 2255), ('gosip', 2256), ('original', 2257), ('orange', 2258), ('theory', 2259), ('nerd', 2260), ('pisay', 2261), ('welz', 2262), ('esp', 2263), ('dread', 2264), ('romate', 2265), ('yipe', 2266), ('diego', 2267), ('explain', 2268), ('econ', 2269), ('socer', 2270), ('tight', 2271), ('picnic', 2272), ('yu', 2273), ('shity', 2274), ('metal', 2275), ('musical', 2276), ('whore', 2277), ('vista', 2278), ('wifi', 2279), ('health', 2280), ('yaho', 2281), ('magazine', 2282), ('cure', 2283), ('nephew', 2284), ('leavin', 2285), ('sec', 2286), ('heap', 2287), ('nicely', 2288), ('thnx', 2289), ('photoshop', 2290), ('swing', 2291), ('wateva', 2292), ('jes', 2293), ('pour', 2294), ('cos', 2295), ('hols', 2296), ('deadline', 2297), (\"momy's\", 2298), (\"murphy's\", 2299), ('thomas', 2300), ('chalenge', 2301), ('painfuly', 2302), ('nkotb', 2303), ('apointment', 2304), ('golden', 2305), ('chesecake', 2306), ('hon', 2307), ('comic', 2308), ('glorious', 2309), ('mision', 2310), ('bomb', 2311), ('role', 2312), ('fear', 2313), ('square', 2314), ('smart', 2315), ('mgmt', 2316), ('travelin', 2317), ('podcast', 2318), ('customer', 2319), ('capture', 2320), ('josh', 2321), ('bom', 2322), ('duck', 2323), ('starwarsday', 2324), ('ea', 2325), ('eror', 2326), ('nightmare', 2327), ('paranoid', 2328), ('gez', 2329), ('jason', 2330), ('worksquot', 2331), ('guest', 2332), ('brazil', 2333), ('moms', 2334), ('ep', 2335), ('tht', 2336), ('grandparent', 2337), ('lovin', 2338), (\"could've\", 2339), ('sm', 2340), ('funeral', 2341), ('sober', 2342), ('kity', 2343), ('twetie', 2344), ('convince', 2345), ('rude', 2346), ('sf', 2347), ('prove', 2348), ('motivation', 2349), ('wasup', 2350), ('resist', 2351), ('hils', 2352), ('thankyou', 2353), ('rich', 2354), ('batch', 2355), ('honest-to-god', 2356), ('chat_up', 2357), ('on-line', 2358), ('scram', 2359), ('passing', 2360), ('baby_buggy', 2361), ('newfangled', 2362), ('boky', 2363), ('wakin', 2364), ('honest', 2365), ('ability', 2366), ('freaking', 2367), ('broke', 2368), ('george', 2369), ('photography', 2370), ('sync', 2371), ('building', 2372), ('rot', 2373), ('thingy', 2374), ('bela', 2375), ('content', 2376), ('ca', 2377), ('pound', 2378), ('pancake', 2379), ('potato', 2380), ('icecream', 2381), ('semester', 2382), ('cary', 2383), ('highly', 2384), ('definately', 2385), ('wifey', 2386), ('suced', 2387), (\"quotwe're\", 2388), ('dane', 2389), ('lounge', 2390), ('wats', 2391), ('package', 2392), ('meh', 2393), ('nighty', 2394), ('mighty', 2395), ('austin', 2396), ('gd', 2397), ('previous', 2398), ('5th', 2399), ('speling', 2400), ('damnit', 2401), ('el', 2402), ('technology', 2403), ('napy', 2404), ('alnighter', 2405), ('portfolio', 2406), ('hulu', 2407), ('url', 2408), ('username', 2409), ('rat', 2410), ('asignments', 2411), ('26', 2412), ('gain', 2413), ('police', 2414), ('switch', 2415), ('smack', 2416), ('mask', 2417), ('vegas', 2418), ('ek', 2419), ('twitervile', 2420), ('tato', 2421), ('typical', 2422), ('ina', 2423), ('darling', 2424), ('70', 2425), ('4am', 2426), ('yard', 2427), ('dick', 2428), ('uber', 2429), ('kilers', 2430), ('tweple', 2431), ('december', 2432), ('voting', 2433), ('adventure', 2434), ('spirit', 2435), ('coat', 2436), ('felings', 2437), ('singapore', 2438), ('quotlocked', 2439), ('abroadquot', 2440), (\"tonight's\", 2441), ('sting', 2442), ('loser', 2443), ('vancouver', 2444), ('pilow', 2445), ('compare', 2446), ('proly', 2447), ('contract', 2448), ('ebay', 2449), ('nt', 2450), ('central', 2451), ('pump', 2452), ('useful', 2453), ('gek', 2454), ('painting', 2455), ('produce', 2456), ('beauty', 2457), ('trend', 2458), ('truth', 2459), ('buble', 2460), ('budies', 2461), ('elen', 2462), ('skils', 2463), (\"someone's\", 2464), ('artist', 2465), ('clothing', 2466), ('womens', 2467), ('thousand', 2468), ('hahahah', 2469), ('140', 2470), ('youquot', 2471), ('208', 2472), ('shiny', 2473), ('crowd', 2474), ('wakey', 2475), ('wa', 2476), ('repeat', 2477), ('feature', 2478), ('comon', 2479), ('cast', 2480), ('patron', 2481), ('shoutout', 2482), ('basebal', 2483), ('cnt', 2484), ('singer', 2485), ('valey', 2486), ('ray', 2487), ('duty', 2488), ('language', 2489), ('metro', 2490), ('bribe', 2491), ('cleanse', 2492), ('franchise', 2493), ('memorize', 2494), ('change_of_location', 2495), ('field-grade_officer', 2496), ('colonel_blimp', 2497), ('drill', 2498), ('heed', 2499), ('try_on', 2500), ('uninfected', 2501), ('baby-sit', 2502), ('pronounce', 2503), ('calendar_month', 2504), ('fifty_dollar_bill', 2505), ('institute', 2506), ('personal_computer', 2507), ('final_examination', 2508), ('populate', 2509), ('entrust', 2510), ('illinois', 2511), ('cleanin', 2512), ('desert', 2513), ('5am', 2514), ('weak', 2515), ('stod', 2516), ('lang', 2517), ('agile', 2518), ('october', 2519), ('wireles', 2520), ('apreciated', 2521), ('paul', 2522), ('360', 2523), ('redyed', 2524), ('gras', 2525), ('musiciansartists', 2526), ('coach', 2527), ('gray', 2528), ('dun', 2529), ('buz', 2530), ('efort', 2531), ('finale', 2532), ('8am', 2533), ('bean', 2534), ('image', 2535), ('denver', 2536), ('decent', 2537), ('relate', 2538), ('wif', 2539), ('owe', 2540), ('comunity', 2541), ('insurance', 2542), ('rescue', 2543), ('leme', 2544), ('cap', 2545), ('skip', 2546), ('function', 2547), ('ruby', 2548), ('likely', 2549), ('slepover', 2550), (\"would've\", 2551), ('blond', 2552), ('wrk', 2553), ('yey', 2554), ('map', 2555), ('belong', 2556), ('helen', 2557), ('nurse', 2558), ('6th', 2559), ('firts', 2560), ('dirty', 2561), ('colour', 2562), ('lover', 2563), ('whether', 2564), ('hoked', 2565), ('swolen', 2566), ('cab', 2567), ('entry', 2568), ('cowel', 2569), ('infection', 2570), ('momys', 2571), ('kely', 2572), ('headshot', 2573), ('slap', 2574), ('chop', 2575), ('erm', 2576), ('empire', 2577), ('holie', 2578), ('katie', 2579), ('punch', 2580), ('bak', 2581), ('snack', 2582), (\"chili's\", 2583), ('item', 2584), ('rubish', 2585), ('tels', 2586), ('kils', 2587), ('humid', 2588), ('hay', 2589), ('toilet', 2590), ('behave', 2591), ('period', 2592), ('tony', 2593), ('jerk', 2594), ('forgot', 2595), ('calm', 2596), ('liverpol', 2597), ('confirm', 2598), ('que', 2599), ('brown', 2600), ('national', 2601), ('inspiration', 2602), ('indian', 2603), ('adult', 2604), ('rough', 2605), ('pre', 2606), ('mothersday', 2607), ('pure', 2608), ('comedy', 2609), (\"today's\", 2610), ('din', 2611), ('horay', 2612), ('luckily', 2613), ('probs', 2614), ('orlando', 2615), ('scare', 2616), ('mariage', 2617), ('eastenders', 2618), ('britney', 2619), ('dany', 2620), ('hes', 2621), ('fyi', 2622), ('wud', 2623), ('amuse', 2624), ('medicine', 2625), ('kiding', 2626), ('bud', 2627), ('f1', 2628), ('slice', 2629), ('tend', 2630), (\"everything's\", 2631), ('deny', 2632), ('sofa', 2633), ('curious', 2634), ('eric', 2635), ('quickly', 2636), ('dreadweave', 2637), ('sh', 2638), ('wendys', 2639), ('dalas', 2640), ('condition', 2641), ('feat', 2642), ('en', 2643), ('sowy', 2644), ('humor', 2645), ('swift', 2646), ('parade', 2647), ('naked', 2648), ('poster', 2649), ('acidentaly', 2650), ('e3', 2651), ('salt', 2652), ('retire', 2653), ('dif', 2654), ('grandpa', 2655), ('neglect', 2656), ('menu', 2657), ('manchester', 2658), ('comfortable', 2659), ('boredom', 2660), ('palm', 2661), ('dangerous', 2662), ('kis', 2663), ('audio', 2664), ('gots', 2665), ('ex', 2666), ('panic', 2667), ('target', 2668), ('campaign', 2669), ('induct', 2670), ('harass', 2671), ('avant-garde', 2672), ('dame', 2673), ('coca_cola', 2674), ('surface-to-air_missile', 2675), ('gaiety', 2676), ('clean_and_jerk', 2677), ('here_and_now', 2678), ('ally', 2679), ('forty-nine', 2680), ('massachusetts', 2681), ('shakey', 2682), ('scholio', 2683), ('ohmygod', 2684), ('halfasedly', 2685), ('blanket', 2686), ('brian', 2687), ('exit', 2688), ('laura', 2689), ('direction', 2690), ('skate', 2691), ('opera', 2692), ('tenis', 2693), ('upkep', 2694), ('brownred', 2695), ('esays', 2696), ('shine', 2697), ('wekly', 2698), ('muah', 2699), ('todo', 2700), ('panera', 2701), ('karma', 2702), ('nothin', 2703), ('comfy', 2704), ('kickas', 2705), ('seaworld', 2706), ('coworkers', 2707), ('lift', 2708), ('farm', 2709), ('apear', 2710), ('bridge', 2711), ('garage', 2712), ('obsesed', 2713), ('reunion', 2714), ('whatchu', 2715), ('frm', 2716), ('product', 2717), ('burito', 2718), ('obama', 2719), (\"straightener's\", 2720), ('awesomenes', 2721), ('jean', 2722), ('recomended', 2723), ('drum', 2724), ('twiterers', 2725), ('lop', 2726), ('plug', 2727), ('ko', 2728), ('snow', 2729), ('solo', 2730), ('china', 2731), ('exams', 2732), ('sox', 2733), ('agred', 2734), ('pi', 2735), ('noise', 2736), ('homie', 2737), ('m', 2738), ('main', 2739), ('ltitle', 2740), ('aoki', 2741), ('gold', 2742), ('nature', 2743), ('bastard', 2744), ('frigin', 2745), ('hola', 2746), ('afterwards', 2747), ('headachealmost', 2748), ('twiterverse', 2749), ('earn', 2750), ('cash', 2751), ('potential', 2752), ('gaga', 2753), ('fyah', 2754), ('aampe', 2755), ('fones', 2756), ('japanese', 2757), ('readin', 2758), ('atack', 2759), ('wknd', 2760), ('sara', 2761), ('vilage', 2762), ('rught', 2763), ('aye', 2764), ('whenever', 2765), ('misin', 2766), ('ankle', 2767), ('screned', 2768), ('ot', 2769), ('scrub', 2770), ('purple', 2771), ('shock', 2772), ('niece', 2773), ('sugest', 2774), ('35', 2775), ('adresing', 2776), ('envolopes', 2777), ('dia', 2778), ('gf', 2779), ('pathetic', 2780), ('kiten', 2781), ('arival', 2782), ('phew', 2783), ('ba', 2784), ('core', 2785), ('fm', 2786), ('useles', 2787), ('hmph', 2788), ('cofeclub', 2789), ('advance', 2790), ('microsoft', 2791), ('un', 2792), ('3am', 2793), ('pft', 2794), ('ef', 2795), ('mexico', 2796), ('stink', 2797), ('oil', 2798), ('dump', 2799), ('pils', 2800), ('curl', 2801), ('bob', 2802), ('singing', 2803), ('27', 2804), ('prof', 2805), ('tape', 2806), ('conserve', 2807), ('strawberies', 2808), ('exact', 2809), ('knight', 2810), ('sayin', 2811), ('society', 2812), ('cod', 2813), ('dawn', 2814), ('adopt', 2815), ('opinion', 2816), ('yelow', 2817), ('jef', 2818), ('spain', 2819), (\"that'l\", 2820), ('crosing', 2821), ('cop', 2822), ('bery', 2823), ('quen', 2824), ('adore', 2825), ('hw', 2826), ('pup', 2827), ('bely', 2828), ('hok', 2829), ('michigan', 2830), ('rof', 2831), ('stranger', 2832), ('flop', 2833), ('delivery', 2834), ('shortly', 2835), ('glasgow', 2836), ('blcok', 2837), ('haox', 2838), ('bl', 2839), ('cunt', 2840), ('subject', 2841), ('wicked', 2842), ('spread', 2843), ('cycle', 2844), ('dense', 2845), ('pix', 2846), ('1230', 2847), ('blase', 2848), ('overtake', 2849), ('infinitesimal', 2850), ('flex', 2851), ('pass', 2852), ('examen', 2853), ('cogitation', 2854), ('bally', 2855), ('cripple', 2856), ('basketball_team', 2857), ('locomotion', 2858), ('winning', 2859), ('dearly-won', 2860), ('poop_out', 2861), ('pungency', 2862), ('testify', 2863), ('nautical_mile', 2864), ('gull', 2865), ('approve', 2866), ('spinal_column', 2867), ('interrogation', 2868), ('buttocks', 2869), ('buzzword', 2870), ('sympathize', 2871), ('milliampere', 2872), ('conclusion', 2873), ('gamboge', 2874), ('overcast', 2875), ('guesing', 2876), ('faster', 2877), ('fridge', 2878), ('hopeful', 2879), ('whop', 2880), ('sentence', 2881), ('dougie', 2882), ('sink', 2883), ('corect', 2884), ('refresh', 2885), ('downstairs', 2886), ('fol', 2887), ('string', 2888), ('korean', 2889), ('max', 2890), ('smels', 2891), ('fri', 2892), ('lisa', 2893), ('somewhat', 2894), ('trail', 2895), ('bruise', 2896), ('defo', 2897), ('engine', 2898), ('dmv', 2899), ('slight', 2900), ('8th', 2901), ('strike', 2902), ('agenda', 2903), ('upon', 2904), ('judge', 2905), ('hahahahaha', 2906), ('shoulder', 2907), ('omfg', 2908), ('hp', 2909), ('grandmother', 2910), ('pork', 2911), ('sauce', 2912), ('negative', 2913), ('forgoten', 2914), ('friendster', 2915), ('rove', 2916), ('backup', 2917), ('spin', 2918), ('technicaly', 2919), ('jodi', 2920), ('rejuvinated', 2921), ('grace', 2922), ('keith', 2923), ('gi', 2924), ('hapier', 2925), ('quotyou', 2926), ('gm', 2927), ('starving', 2928), ('conected', 2929), ('rehearsal', 2930), ('tech', 2931), ('constant', 2932), ('monster', 2933), ('ol', 2934), ('converse', 2935), ('mitchel', 2936), ('brad', 2937), ('digital', 2938), ('label', 2939), ('patient', 2940), ('bt', 2941), ('provide', 2942), ('breath', 2943), ('hack', 2944), ('sinus', 2945), ('piano', 2946), ('cutie', 2947), ('arent', 2948), ('pe', 2949), ('lolz', 2950), ('bety', 2951), ('earphone', 2952), ('data', 2953), ('crepy', 2954), ('register', 2955), ('preview', 2956), ('eclipse', 2957), ('presure', 2958), ('slip', 2959), ('dito', 2960), ('simply', 2961), ('broklyn', 2962), ('fruit', 2963), ('agh', 2964), ('lecture', 2965), ('runing', 2966), ('ish', 2967), ('banana', 2968), ('soft', 2969), ('kiler', 2970), ('require', 2971), ('prison', 2972), ('position', 2973), ('texted', 2974), ('jeny', 2975), ('juday', 2976), ('parking', 2977), ('wahts', 2978), ('milkshake', 2979), ('ga', 2980), ('di', 2981), ('numb', 2982), ('convo', 2983), ('turtle', 2984), ('economy', 2985), ('aperently', 2986), ('fods', 2987), ('smash', 2988), ('jamie', 2989), ('sme', 2990), ('zealand', 2991), ('trash', 2992), ('atend', 2993), ('tempt', 2994), ('management', 2995), ('arse', 2996), ('concern', 2997), ('international', 2998), ('tweople', 2999), ('emotional', 3000), ('tryin', 3001), ('ms', 3002), ('tim', 3003), ('section', 3004), ('closer', 3005), ('driving', 3006), ('costume', 3007), ('wen', 3008), ('consume', 3009), ('wire', 3010), ('lemon', 3011), ('equal', 3012), ('melbourne', 3013), ('pising', 3014), ('stoke', 3015), ('ge', 3016), ('oz', 3017), ('conection', 3018), ('stel', 3019), ('posibility', 3020), ('erands', 3021), ('tomato', 3022), ('lamb', 3023), ('ali', 3024), ('edward', 3025), ('momas', 3026), ('atempting', 3027), ('amber', 3028), (\"mama's\", 3029), ('acounts', 3030), ('icon', 3031), ('twelve', 3032), ('ant', 3033), ('hire', 3034), ('murder', 3035), ('making', 3036), ('brit', 3037), ('guide', 3038), ('pal', 3039), ('dare', 3040), ('knowledge', 3041), ('hockey', 3042), ('dedicate', 3043), ('mia', 3044), ('replacement', 3045), ('tube', 3046), ('android', 3047), ('faith', 3048), ('pole', 3049), ('bearing', 3050), ('acept', 3051), ('bedrom', 3052), ('gun', 3053), ('mango', 3054), ('strawbery', 3055), ('achieve', 3056), ('favor', 3057), ('chiled', 3058), ('hai', 3059), ('army', 3060), ('updated', 3061), ('vip', 3062), ('twist', 3063), ('maine', 3064), ('avail', 3065), ('accept', 3066), ('blasted', 3067), ('slate', 3068), ('originate', 3069), ('biography', 3070), ('apprehension', 3071), ('conscientious_objector', 3072), ('populace', 3073), ('bevel', 3074), ('hanker', 3075), ('chain_mail', 3076), ('drink_in', 3077), ('settle', 3078), ('syndicate', 3079), ('worldly_concern', 3080), ('first-rate', 3081), ('good', 3082), ('accomplishable', 3083), (\"talk_through_one's_hat\", 3084), ('manufacturer', 3085), ('have', 3086), ('stigmatize', 3087), ('life_sentence', 3088), ('sunlight', 3089), ('allege', 3090), ('overseer', 3091), ('macadamia', 3092), ('baptismal_font', 3093), ('buttock', 3094), ('italy', 3095), ('pasword', 3096), ('ginger', 3097), ('reminder', 3098), ('basic', 3099), ('imac', 3100), ('130', 3101), ('cub', 3102), ('perth', 3103), ('fairly', 3104), ('entertain', 3105), ('budget', 3106), ('submit', 3107), ('mikey', 3108), ('trending', 3109), ('thinkin', 3110), ('yeled', 3111), ('jst', 3112), ('retard', 3113), ('panda', 3114), ('31', 3115), ('dislike', 3116), ('furniture', 3117), ('poker', 3118), ('centre', 3119), ('18th', 3120), ('champion', 3121), ('sucka', 3122), ('remote', 3123), ('no', 3124), (\"he'd\", 3125), ('atacked', 3126), ('meant', 3127), ('begining', 3128), ('zone', 3129), ('charity', 3130), ('task', 3131), ('lender', 3132), ('scot', 3133), ('engage', 3134), ('specify', 3135), ('mrs', 3136), ('crew', 3137), ('bend', 3138), ('imediately', 3139), ('z', 3140), ('guys', 3141), ('jake', 3142), ('jet', 3143), (\"one's\", 3144), ('belive', 3145), ('fold', 3146), ('unable', 3147), ('display', 3148), ('nola', 3149), ('hawai', 3150), ('geography', 3151), ('impresive', 3152), ('java', 3153), ('solid', 3154), ('speaker', 3155), ('sausage', 3156), ('twiterfails', 3157), ('silence', 3158), ('maylene', 3159), ('dol', 3160), ('aplication', 3161), ('crab', 3162), ('packing', 3163), ('pedicure', 3164), ('corner', 3165), ('efects', 3166), ('kyle', 3167), ('75', 3168), ('duh', 3169), ('dh', 3170), ('failure', 3171), ('september', 3172), ('factory', 3173), ('der', 3174), ('fighting', 3175), ('wiling', 3176), ('christ', 3177), ('category', 3178), ('male', 3179), ('faty', 3180), ('630', 3181), ('andrew', 3182), ('smaler', 3183), ('marketing', 3184), ('sd', 3185), ('rc', 3186), ('katy', 3187), ('sudenly', 3188), ('active', 3189), ('bahaha', 3190), ('quotno', 3191), ('az', 3192), ('compliment', 3193), ('eight', 3194), ('legs', 3195), ('pretend', 3196), ('dul', 3197), ('oklahoma', 3198), ('pj', 3199), ('relative', 3200), ('toronto', 3201), ('sony', 3202), ('estate', 3203), ('flag', 3204), ('batle', 3205), ('relationship', 3206), ('bush', 3207), ('imo', 3208), ('improve', 3209), ('kewl', 3210), ('auto', 3211), ('sisy', 3212), ('jersey', 3213), ('mufins', 3214), ('signing', 3215), ('reception', 3216), ('tbh', 3217), ('fedback', 3218), ('acepted', 3219), ('whops', 3220), ('domain', 3221), ('kirk', 3222), ('1am', 3223), ('shape', 3224), ('vibe', 3225), ('musicmonday', 3226), ('chery', 3227), ('setle', 3228), ('curve', 3229), ('puter', 3230), ('convert', 3231), ('eu', 3232), ('cocoa', 3233), ('folows', 3234), ('warn', 3235), ('thriled', 3236), ('tod', 3237), ('plain', 3238), ('hal', 3239), ('device', 3240), ('sucky', 3241), ('flickr', 3242), ('mite', 3243), ('placement', 3244), ('similar', 3245), ('recent', 3246), ('soner', 3247), ('hub', 3248), ('logo', 3249), ('pot', 3250), ('nicole', 3251), ('virus', 3252), ('firefox', 3253), ('ie', 3254), ('tmobile', 3255), ('jordan', 3256), ('hundred', 3257), ('hapiest', 3258), ('genius', 3259), ('taxi', 3260), ('29', 3261), ('mega', 3262), ('nodles', 3263), ('korea', 3264), ('quotmay', 3265), ('nine', 3266), ('rly', 3267), ('fox', 3268), ('cereal', 3269), ('terminator', 3270), ('ana', 3271), ('winer', 3272), ('hip', 3273), ('tshirt', 3274), ('distance', 3275), ('twetup', 3276), ('newly', 3277), ('slave', 3278), ('upcoming', 3279), ('increase', 3280), ('chem', 3281), ('fe', 3282), ('mic', 3283), ('wth', 3284), ('buger', 3285), ('march', 3286), ('abandon', 3287), ('apology', 3288), ('charlie', 3289), ('chai', 3290), ('union', 3291), ('minus', 3292), ('alergic', 3293), ('own', 3294), ('trouser', 3295), ('ye', 3296), ('steep', 3297), ('inactive', 3298), ('tauten', 3299), ('fifteen', 3300), ('seduce', 3301), ('ridicule', 3302), ('bet_on', 3303), ('semen', 3304), ('magnetic_resonance_imaging', 3305), ('charnel', 3306), ('banal', 3307), ('swallow', 3308), ('promptly', 3309), ('eldritch', 3310), ('breeze_through', 3311), ('hawaii', 3312), ('spillway', 3313), ('officiate', 3314), ('blemish', 3315), ('hello', 3316), ('wake_island', 3317), ('debutante', 3318), ('preferably', 3319), ('trip_up', 3320), ('dicker', 3321), ('valet', 3322), ('perplex', 3323), ('liveliness', 3324), ('master_of_arts', 3325), ('brake_shoe', 3326), ('ramp', 3327), ('elsinore', 3328), ('cryopreserved', 3329), ('amble', 3330), ('software_documentation', 3331), ('sob', 3332), ('india', 3333), ('anounced', 3334), ('separate', 3335), ('relaxin', 3336), ('exchange', 3337), ('boys', 3338), ('spent', 3339), ('gmail', 3340), ('chin', 3341), ('clearly', 3342), ('biz', 3343), ('minor', 3344), ('stone', 3345), ('heading', 3346), ('chore', 3347), ('sorta', 3348), ('sweden', 3349), ('zero', 3350), ('honour', 3351), ('gril', 3352), ('moi', 3353), ('jo', 3354), ('damage', 3355), ('5k', 3356), ('virtual', 3357), (\"o'clock\", 3358), ('value', 3359), ('paramore', 3360), ('planet', 3361), (\"they'd\", 3362), ('ofline', 3363), ('tesco', 3364), ('xoxox', 3365), ('reschedule', 3366), ('mufin', 3367), ('taker', 3368), ('headin', 3369), ('buck', 3370), ('writen', 3371), ('oi', 3372), ('pocket', 3373), ('kingdom', 3374), ('5pm', 3375), ('coupon', 3376), ('manager', 3377), ('aiden', 3378), ('bare', 3379), (\"it'd\", 3380), ('logic', 3381), ('blackhawks', 3382), ('gurl', 3383), ('rogers', 3384), ('drumer', 3385), ('quarter', 3386), ('nh', 3387), ('spashed', 3388), ('diamond', 3389), ('onequot', 3390), ('watching', 3391), ('fusion', 3392), ('iz', 3393), ('rio', 3394), ('kim', 3395), ('waren', 3396), ('setings', 3397), ('lung', 3398), ('thankfuly', 3399), ('claim', 3400), ('pasta', 3401), ('dolhouse', 3402), ('desperate', 3403), ('discusion', 3404), ('kol', 3405), ('risk', 3406), ('carton', 3407), ('shanon', 3408), ('smoking', 3409), ('snugle', 3410), ('loming', 3411), ('holywod', 3412), ('cheat', 3413), ('grin', 3414), ('designer', 3415), ('tila', 3416), ('comercial', 3417), ('phase', 3418), ('surprised', 3419), ('lugage', 3420), (\"u'l\", 3421), ('united', 3422), ('ala', 3423), ('promote', 3424), ('indie', 3425), ('benefit', 3426), ('comfort', 3427), ('junk', 3428), ('photoshot', 3429), ('donie', 3430), ('daniel', 3431), ('olive', 3432), ('mint', 3433), ('jonathan', 3434), ('jacket', 3435), ('priceles', 3436), ('timing', 3437), ('tampa', 3438), ('asume', 3439), ('windy', 3440), ('thunderstorm', 3441), ('indors', 3442), ('roling', 3443), ('hint', 3444), ('slepin', 3445), ('boil', 3446), ('ashole', 3447), ('notification', 3448), ('rols', 3449), ('lily', 3450), ('srsly', 3451), ('recomendation', 3452), ('wods', 3453), ('anime', 3454), ('frog', 3455), ('easily', 3456), ('meaning', 3457), ('vinegar', 3458), ('ne', 3459), ('bac', 3460), ('ma', 3461), ('owner', 3462), ('donate', 3463), ('136', 3464), ('sho', 3465), ('advantage', 3466), ('shave', 3467), ('rarely', 3468), ('personaly', 3469), ('script', 3470), ('deposit', 3471), ('grape', 3472), ('youth', 3473), ('prosper', 3474), ('blis', 3475), ('proces', 3476), ('quotupquot', 3477), ('[person]y', 3478), ('conect', 3479), ('steph', 3480), (\"people's\", 3481), ('impresion', 3482), ('stuborn', 3483), ('highlight', 3484), ('cope', 3485), ('doh', 3486), ('jog', 3487), ('gna', 3488), ('tiger', 3489), ('discovery', 3490), ('layout', 3491), ('pout', 3492), ('heather', 3493), ('balance', 3494), ('burst', 3495), ('robin', 3496), ('sufering', 3497), ('infamous', 3498), ('spock', 3499), ('declare', 3500), ('renew', 3501), ('apologize', 3502), ('bow', 3503), ('no1', 3504), ('quilt', 3505), ('enterprise', 3506), ('brunch', 3507), ('popcorn', 3508), ('twitered', 3509), ('crochet', 3510), ('castle', 3511), (\"quotit's\", 3512), ('crown', 3513), ('warning', 3514), ('woah', 3515), ('fl', 3516), ('jt', 3517), ('hod', 3518), ('alice', 3519), ('select', 3520), ('rymed', 3521), ('shud', 3522), ('gum', 3523), ('starve', 3524), ('starwars', 3525), ('temp', 3526), ('advert', 3527), ('dolars', 3528), ('excitement', 3529), ('reaction', 3530), ('prop', 3531), ('piya', 3532), ('earache', 3533), ('shamefuly', 3534), ('loved', 3535), ('bestie', 3536), ('belated', 3537), ('unlimited', 3538), ('contain', 3539), ('6am', 3540), ('celebrity', 3541), ('towel', 3542), ('yearbok', 3543), ('musicbox', 3544), ('patrol', 3545), ('colest', 3546), ('grumble', 3547), ('efing', 3548), ('uncomfortable', 3549), ('brace', 3550), ('trial', 3551), ('chain', 3552), ('del', 3553), ('flush', 3554), ('rap', 3555), ('kay', 3556), ('checkin', 3557), ('ch', 3558), ('coler', 3559), ('atending', 3560), ('amount', 3561), ('wordpres', 3562), ('stresful', 3563), ('twiterific', 3564), ('cape', 3565), ('marley', 3566), ('neighbour', 3567), ('whoever', 3568), ('iv', 3569), ('material', 3570), ('soundtrack', 3571), ('wu', 3572), (\"c'mon\", 3573), ('recital', 3574), ('trick', 3575), ('dryer', 3576), ('leter', 3577), ('lyric', 3578), ('edge', 3579), (\"britain's\", 3580), ('sticker', 3581), ('pledge', 3582), ('teribly', 3583), ('chily', 3584), ('gnite', 3585), ('pat', 3586), ('ireland', 3587), ('oprah', 3588), ('pit', 3589), ('wheres', 3590), ('doubly', 3591), ('ausie', 3592), ('clever', 3593), ('hog', 3594), ('frame', 3595), ('dizy', 3596), ('foundation', 3597), ('g1', 3598), ('torture', 3599), ('nana', 3600), ('gon', 3601), ('coleagues', 3602), ('atics', 3603), ('scramble', 3604), ('president', 3605), ('stun', 3606), ('overal', 3607), ('whel', 3608), ('barn', 3609), ('beverage', 3610), ('wake_up', 3611), ('senesce', 3612), ('securities_and_exchange_commission', 3613), ('phosphorus', 3614), ('coquette', 3615), ('deduce', 3616), ('pornographic', 3617), ('boastfully', 3618), ('substitution', 3619), ('tarmacadam', 3620), ('jest', 3621), ('south_wind', 3622), ('eminent', 3623), ('fluorine', 3624), ('depress', 3625), ('faineant', 3626), ('fatten', 3627), ('indigence', 3628), ('embrown', 3629), ('kin', 3630), ('acquaintance', 3631), ('predilection', 3632), ('espouse', 3633), ('degree_fahrenheit', 3634), ('bull', 3635), ('equip', 3636), ('bequeath', 3637), ('endowment', 3638), ('controversy', 3639), ('contingent', 3640), ('lupus_erythematosus', 3641), ('zymosis', 3642), ('five-spot', 3643), ('ussher', 3644), ('overwork', 3645), ('carry', 3646), ('new_york', 3647), ('unwrap', 3648), ('extremist', 3649), ('tangent', 3650), ('dining_car', 3651), ('courteous', 3652), ('birdcall', 3653), ('imprison', 3654), ('dissemble', 3655), ('jkin', 3656), (\"kiyosaki's\", 3657), ('cruddy', 3658), ('smothie', 3659), ('sketch', 3660), ('homemade', 3661), ('entertainment', 3662), ('nursing', 3663), ('mandy', 3664), ('margarita', 3665), ('heal', 3666), ('forest', 3667), ('impatient', 3668), ('bin', 3669), ('strep', 3670), ('down', 3671), ('imax', 3672), ('bambozle', 3673), ('semed', 3674), ('speaking', 3675), ('papa', 3676), ('yoga', 3677), ('onion', 3678), ('1pendulum', 3679), ('2godbyes', 3680), ('3shut', 3681), ('4toy', 3682), ('5jb', 3683), ('6i', 3684), ('7aand', 3685), ('oc', 3686), ('2night', 3687), ('whip', 3688), ('solve', 3689), ('vanila', 3690), ('ay', 3691), ('traditional', 3692), ('security', 3693), ('frezer', 3694), ('likey', 3695), ('selena', 3696), ('headline', 3697), ('metaverse', 3698), ('familiar', 3699), ('satisfy', 3700), ('corn', 3701), ('lighter', 3702), ('remain', 3703), ('siting', 3704), ('dust', 3705), ('pile', 3706), ('ridiculously', 3707), ('translation', 3708), ('birmingham', 3709), ('fo', 3710), ('chap', 3711), ('nw', 3712), ('miday', 3713), ('bash', 3714), ('disapeared', 3715), ('wink', 3716), ('downside', 3717), ('league', 3718), ('kudos', 3719), ('twiterbery', 3720), ('nathan', 3721), ('havnt', 3722), ('swetest', 3723), ('split', 3724), ('destroy', 3725), ('pregnant', 3726), ('dancer', 3727), ('drove', 3728), ('mud', 3729), ('wiliam', 3730), ('shy', 3731), ('galery', 3732), ('limo', 3733), ('ema', 3734), ('entertaining', 3735), ('106', 3736), ('owt', 3737), ('neat', 3738), ('edinburgh', 3739), ('concentrate', 3740), ('wishing', 3741), ('hampton', 3742), ('acoustic', 3743), ('fone', 3744), ('anxious', 3745), ('kevin', 3746), ('spit', 3747), ('siter', 3748), ('snezing', 3749), ('grove', 3750), ('perfectly', 3751), ('lucas', 3752), ('recesion', 3753), ('robie', 3754), ('nedles', 3755), ('ofered', 3756), ('laker', 3757), ('sub', 3758), ('sufer', 3759), ('morisons', 3760), ('tonsil', 3761), ('strets', 3762), ('unfolowed', 3763), ('precisely', 3764), ('34', 3765), ('dreambears', 3766), ('niga', 3767), ('cork', 3768), ('thailand', 3769), ('pride', 3770), ('nintendo', 3771), ('efect', 3772), ('shesh', 3773), ('relief', 3774), ('politics', 3775), (\"tomorow's\", 3776), ('lick', 3777), ('purchase', 3778), ('donut', 3779), ('external', 3780), ('junior', 3781), ('abouto', 3782), ('dolar', 3783), ('newcastle', 3784), ('thirty', 3785), ('cent', 3786), ('polar', 3787), ('chair', 3788), ('sight', 3789), (\"doctor's\", 3790), ('archuleta', 3791), ('financial', 3792), ('bokstil', 3793), ('aside', 3794), ('stephen', 3795), ('magical', 3796), ('handy', 3797), ('167', 3798), ('biology', 3799), ('coursework', 3800), ('surounded', 3801), ('chef', 3802), ('gluten', 3803), ('lactose', 3804), ('remix', 3805), ('12th', 3806), ('pt', 3807), ('actor', 3808), ('whistle', 3809), ('guinea', 3810), ('hopusday', 3811), (\"leno's\", 3812), ('nevermind', 3813), ('ed', 3814), ('pery', 3815), ('hayley', 3816), ('guilt', 3817), ('snore', 3818), ('nedle', 3819), ('95', 3820), ('snif', 3821), ('10pm', 3822), ('anthony', 3823), ('sweaty', 3824), ('curent', 3825), ('whilst', 3826), ('tryna', 3827), ('28', 3828), ('gogol', 3829), ('bordelo', 3830), ('tenese', 3831), ('ego', 3832), ('emo', 3833), ('information', 3834), ('acent', 3835), ('colorado', 3836), ('ane', 3837), ('aah', 3838), ('dip', 3839), ('tehe', 3840), ('poetry', 3841), ('romantic', 3842), ('jr', 3843), ('ban', 3844), ('smiley', 3845), ('hayfever', 3846), ('verizon', 3847), ('martin', 3848), ('frank', 3849), ('postpone', 3850), ('surf', 3851), ('pin', 3852), ('monitor', 3853), ('05', 3854), ('opening', 3855), ('linux', 3856), ('unfortunatly', 3857), ('efin', 3858), ('british', 3859), ('huray', 3860), ('investigate', 3861), ('nomater', 3862), ('830', 3863), ('wale', 3864), ('dope', 3865), ('iregularly', 3866), ('sneak', 3867), ('peaceful', 3868), ('twenty', 3869), ('source', 3870), ('caught', 3871), ('banquet', 3872), ('legend', 3873), ('cocktail', 3874), ('lost', 3875), ('madre', 3876), ('gose', 3877), ('ironic', 3878), ('beard', 3879), ('vids', 3880), ('rerun', 3881), ('patern', 3882), ('thread', 3883), ('10,0', 3884), ('thai', 3885), (\"we'd\", 3886), ('confused', 3887), ('purse', 3888), ('bing', 3889), ('flavor', 3890), ('mam', 3891), ('pierce', 3892), ('hectic', 3893), ('diagram', 3894), ('tango', 3895), ('eagle', 3896), ('cig', 3897), ('porn', 3898), ('contemplate', 3899), ('qi', 3900), ('activity', 3901), ('therapy', 3902), ('depresion', 3903), ('trytomergetwotols', 3904), ('calorie', 3905), ('shelf', 3906), ('tedy', 3907), ('mag', 3908), ('1030', 3909), ('adiction', 3910), ('karaoke', 3911), ('plot', 3912), ('ian', 3913), ('bat', 3914), ('daisy', 3915), ('tap', 3916), ('discount', 3917), ('ridiculous', 3918), ('cinamon', 3919), ('bokstore', 3920), ('twas', 3921), ('lauren', 3922), ('pong', 3923), ('starship', 3924), ('linda', 3925), ('hype', 3926), ('sugestion', 3927), ('umbrela', 3928), ('nc', 3929), ('journal', 3930), ('strip', 3931), ('towards', 3932), ('debate', 3933), ('d', 3934), ('gretings', 3935), ('pasing', 3936), ('dew', 3937), ('dimple', 3938), ('headphone', 3939), ('fest', 3940), ('aplied', 3941), ('playlist', 3942), ('ringtones', 3943), ('hairdreser', 3944), ('michele', 3945), ('sac', 3946), ('shufle', 3947), ('mystery', 3948), ('pad', 3949), ('simon', 3950), ('asistant', 3951), ('twiterfon', 3952), ('comute', 3953), ('shatered', 3954), ('gaze', 3955), ('br', 3956), ('careful', 3957), ('suply', 3958), ('unlike', 3959), ('devon', 3960), ('font', 3961), ('biger', 3962), ('writer', 3963), ('drown', 3964), ('barcelona', 3965), ('lb', 3966), ('loner', 3967), ('inspection', 3968), ('stufs', 3969), ('sent', 3970), ('victory', 3971), ('bufet', 3972), ('flip', 3973), ('defend', 3974), ('tablet', 3975), ('seafod', 3976), ('shrink', 3977), ('employe', 3978), ('santa', 3979), ('wack', 3980), ('swety', 3981), ('route', 3982), ('hotelreden', 3983), ('victoria', 3984), ('shade', 3985), ('distraction', 3986), ('lebron', 3987), ('dev', 3988), ('eatin', 3989), ('bowling', 3990), ('movement', 3991), (\"moma's\", 3992), ('be', 3993), ('sew', 3994), ('brownie', 3995), ('lobster', 3996), ('kit', 3997), ('fredom', 3998), ('pleased', 3999), ('format', 4000), ('jeremy', 4001), ('programe', 4002), ('court', 4003), ('plastic', 4004), ('morn', 4005), ('audience', 4006), ('academy', 4007), ('dogy', 4008), ('pero', 4009), ('smoth', 4010), ('inlaws', 4011), ('document', 4012), ('input', 4013), ('closing', 4014), ('rape', 4015), ('disneyland', 4016), ('pigy', 4017), ('vegie', 4018), ('overnight', 4019), ('beast', 4020), ('signal', 4021), ('suspect', 4022), ('cupa', 4023), ('playin', 4024), ('soulja', 4025), ('concept', 4026), ('32', 4027), ('kities', 4028), ('backpack', 4029), ('startle', 4030), ('rockin', 4031), ('halo', 4032), ('30pm', 4033), ('gtlt', 4034), ('condolence', 4035), ('pr', 4036), ('dateless', 4037), ('decelerate', 4038), ('feel', 4039), ('ailment', 4040), ('waive', 4041), ('affect', 4042), ('help_oneself', 4043), ('run_down', 4044), ('pull_the_leg_of', 4045), ('fertilize', 4046), ('electronic_mail', 4047), ('basis', 4048), ('bullshit', 4049), ('lag', 4050), ('bunch_together', 4051), ('ambition', 4052), ('install', 4053), ('driveway', 4054), ('unintelligent', 4055), ('ice-cream_sundae', 4056), ('concluding', 4057), ('electrostatic', 4058), ('houseclean', 4059), ('mature', 4060), ('township', 4061), ('male_child', 4062), ('handling', 4063), ('senior_high_school', 4064), ('third_base', 4065), ('dainty', 4066), ('get_down', 4067), ('dwell', 4068), ('goodly', 4069), ('wholly', 4070), ('high_gear', 4071), ('veracious', 4072), ('brood', 4073), ('old_age', 4074), ('stool', 4075), ('unplayful', 4076), ('proclaim', 4077), ('suckits', 4078), ('answear', 4079), ('hordies', 4080), ('heterochalenged', 4081), ('quotmilkquot', 4082), ('dumbbell', 4083), ('cinch', 4084), ('generator', 4085), ('sticky', 4086), ('reckon', 4087), ('ct', 4088), ('baron', 4089), ('insomnia', 4090), ('sand', 4091), ('aloha', 4092), ('casie', 4093), ('mah', 4094), ('prize', 4095), ('animate', 4096), ('crek', 4097), ('atmosphere', 4098), ('logies', 4099), ('thin', 4100), ('nugets', 4101), ('soda', 4102), ('extend', 4103), ('gasp', 4104), ('pizas', 4105), ('hicups', 4106), ('printer', 4107), ('16th', 4108), ('thus', 4109), ('windows', 4110), ('delayed', 4111), ('mash', 4112), ('alison', 4113), ('planing', 4114), ('vacum', 4115), ('terminal', 4116), ('swedish', 4117), ('330', 4118), ('joey', 4119), ('sanctuarysunday', 4120), ('yuck', 4121), ('chelsea', 4122), ('loby', 4123), ('mar', 4124), ('erin', 4125), ('thou', 4126), ('tis', 4127), ('paulo', 4128), ('habit', 4129), ('uterly', 4130), ('tragic', 4131), ('hk', 4132), ('washington', 4133), ('recovery', 4134), ('neva', 4135), ('graphic', 4136), ('0430', 4137), ('unit', 4138), ('hawk', 4139), ('confirmation', 4140), ('resume', 4141), ('basement', 4142), ('ftsk', 4143), ('software', 4144), ('mb', 4145), ('promo', 4146), ('thang', 4147), ('plurk', 4148), ('craving', 4149), ('haul', 4150), ('10min', 4151), ('116', 4152), ('pupies', 4153), ('delhi', 4154), ('explore', 4155), ('ikr', 4156), ('irish', 4157), ('development', 4158), ('gnight', 4159), ('flyer', 4160), ('dragon', 4161), ('7th', 4162), ('au', 4163), ('mc', 4164), ('celphone', 4165), ('sunglases', 4166), ('kindergarten', 4167), ('sunset', 4168), ('eps', 4169), ('mel', 4170), ('choir', 4171), ('spamers', 4172), ('francisco', 4173), ('homeles', 4174), ('ceremony', 4175), ('reduce', 4176), (\"that'd\", 4177), ('prejudice', 4178), ('casino', 4179), ('wks', 4180), ('plate', 4181), ('safely', 4182), ('average', 4183), ('salary', 4184), ('nacho', 4185), ('awkward', 4186), ('bros', 4187), ('nom', 4188), (\"cousin's\", 4189), ('swetheart', 4190), ('girly', 4191), (\"wekend's\", 4192), ('operation', 4193), ('blogtv', 4194), ('gran', 4195), ('dirt', 4196), ('lovato', 4197), ('draft', 4198), ('fund', 4199), ('ele', 4200), ('disintegrate', 4201), ('brush', 4202), ('democratic', 4203), ('36', 4204), ('bracelet', 4205), ('wardrobe', 4206), ('forecast', 4207), ('becuz', 4208), ('davis', 4209), ('woulda', 4210), ('mushrom', 4211), ('backyard', 4212), ('circus', 4213), ('tierd', 4214), ('naturaly', 4215), ('nat', 4216), ('blank', 4217), ('den', 4218), ('sunbathe', 4219), ('perez', 4220), ('ach', 4221), ('sprain', 4222), ('ink', 4223), ('bolt', 4224), ('bride', 4225), ('edition', 4226), ('feliza', 4227), ('sacramento', 4228), ('desire', 4229), ('horseshoe', 4230), ('burbank', 4231), ('envy', 4232), ('soak', 4233), ('septum', 4234), ('zach', 4235), ('comence', 4236), ('basketbal', 4237), ('comcast', 4238), (\"nan's\", 4239), (\"i'ma\", 4240), ('peak', 4241), ('bleding', 4242), ('pug', 4243), ('japan', 4244), ('mumbai', 4245), ('paycheck', 4246), ('wreck', 4247), ('dors', 4248), ('index', 4249), ('jp', 4250), ('tweties', 4251), ('veronica', 4252), ('peter', 4253), ('pastor', 4254), ('colectors', 4255), ('neighborhod', 4256), ('sp', 4257), ('strugling', 4258), ('misy', 4259), ('vegetarian', 4260), ('coworker', 4261), ('carolina', 4262), ('vast', 4263), ('pine', 4264), ('airline', 4265), ('particularly', 4266), ('stalk', 4267), ('huny', 4268), ('heya', 4269), ('jaz', 4270), ('novel', 4271), ('bagel', 4272), ('combo', 4273), ('omj', 4274), ('ubuntu', 4275), ('rose', 4276), ('dork', 4277), ('csi', 4278), ('hc', 4279), ('fur', 4280), ('invitation', 4281), ('forth', 4282), ('gotcha', 4283), ('yogurt', 4284), ('08', 4285), ('ran', 4286), ('quotmy', 4287), ('pritchard', 4288), ('puke', 4289), ('iced', 4290), ('blonde', 4291), ('laughter', 4292), ('boho', 4293), ('shouldnt', 4294), ('jealousy', 4295), ('cult', 4296), ('robert', 4297), ('inbox', 4298), ('brick', 4299), ('iwonder', 4300), ('howd', 4301), ('iget', 4302), ('priority', 4303), ('mraz', 4304), ('somethin', 4305), ('tmr', 4306), ('subscribe', 4307), ('nj', 4308), ('automaticaly', 4309), ('spray', 4310), ('aproaching', 4311), ('acepting', 4312), ('tc', 4313), ('motorcycle', 4314), ('56', 4315), ('conflict', 4316), ('bradie', 4317), ('policy', 4318), ('expire', 4319), ('nvm', 4320), ('dvr', 4321), ('tat', 4322), ('transport', 4323), ('bul', 4324), ('natalie', 4325), ('byebye', 4326), ('beyonce', 4327), ('premier', 4328), ('lj', 4329), ('bebo', 4330), ('crunch', 4331), ('lambert', 4332), ('revenge', 4333), ('visitor', 4334), ('chew', 4335), ('ford', 4336), ('leak', 4337), ('poly', 4338), ('metings', 4339), ('quotwhat', 4340), ('circumstance', 4341), ('selection', 4342), ('curly', 4343), ('wkend', 4344), ('wango', 4345), ('keny', 4346), ('detroit', 4347), ('ses', 4348), ('lah', 4349), ('nerve', 4350), ('browse', 4351), ('dozen', 4352), ('whack', 4353), ('unhapy', 4354), ('xp', 4355), ('bury', 4356), ('physicaly', 4357), ('walet', 4358), ('brave', 4359), ('expert', 4360), ('ciara', 4361), ('leters', 4362), ('wiliams', 4363), ('lightning', 4364), ('profesional', 4365), ('kris', 4366), ('blink', 4367), ('hitch', 4368), ('tidy', 4369), ('430', 4370), ('cu', 4371), ('ab', 4372), ('cobra', 4373), ('ariving', 4374), ('itouch', 4375), ('grant', 4376), ('stole', 4377), ('portugal', 4378), ('shaun', 4379), ('general', 4380), ('dreses', 4381), ('captain', 4382), ('mid', 4383), ('farewel', 4384), ('pitch', 4385), ('industry', 4386), ('cro', 4387), ('survey', 4388), ('aid', 4389), ('ni', 4390), ('gret', 4391), ('entirely', 4392), ('glen', 4393), ('amazingly', 4394), ('madie', 4395), ('directory', 4396), ('ako', 4397), ('porly', 4398), ('hairstyle', 4399), ('squirels', 4400), ('lime', 4401), ('outlok', 4402), ('faire', 4403), ('presence', 4404), ('stretch', 4405), ('itch', 4406), ('bonfire', 4407), ('tmw', 4408), ('anual', 4409), ('auntie', 4410), ('yucky', 4411), ('anyho', 4412), ('alen', 4413), ('rocket', 4414), ('glory', 4415), ('blush', 4416), ('poke', 4417), ('methinks', 4418), ('maui', 4419), ('manly', 4420), ('nz', 4421), ('champ', 4422), ('hopeles', 4423), ('alien', 4424), ('suspend', 4425), ('fortune', 4426), (\"night's\", 4427), ('freshman', 4428), ('database', 4429), ('wity', 4430), ('tutorial', 4431), ('fals', 4432), ('1pm', 4433), ('generation', 4434), ('shoulda', 4435), ('atampt', 4436), ('jury', 4437), ('zac', 4438), ('emily', 4439), ('flufy', 4440), ('mental', 4441), ('colin', 4442), ('mu', 4443), ('carpet', 4444), ('spongebob', 4445), ('ahahaha', 4446), ('sed', 4447), ('150', 4448), ('engagement', 4449), ('shite', 4450), ('va', 4451), ('mock', 4452), ('asembly', 4453), ('sumthin', 4454), ('takin', 4455), ('example', 4456), ('refund', 4457), ('teh', 4458), ('dayquot', 4459), ('inch', 4460), ('dot', 4461), ('bret', 4462), ('whels', 4463), ('acid', 4464), ('2010', 4465), ('laurie', 4466), ('rant', 4467), ('brandon', 4468), ('cha', 4469), ('enjoyable', 4470), ('4pm', 4471), ('whisper', 4472), ('wikipedia', 4473), ('steam', 4474), ('montreal', 4475), ('demon', 4476), ('blesings', 4477), ('tenagers', 4478), ('skirt', 4479), ('10am', 4480), ('adjust', 4481), ('naman', 4482), (\"joe's\", 4483), ('startrek', 4484), ('agent', 4485), ('disc', 4486), ('espreso', 4487), ('default', 4488), ('triple', 4489), ('bankruptcy', 4490), ('reminisce', 4491), ('horid', 4492), ('blind', 4493), ('cruel', 4494), ('dk', 4495), ('publish', 4496), ('sigjeans', 4497), ('ar', 4498), ('sao', 4499), ('mcr', 4500), ('retro', 4501), ('rt', 4502), ('scout', 4503), ('nest', 4504), ('cn', 4505), ('interfere', 4506), ('matrix', 4507), ('stat', 4508), ('compensate', 4509), ('ashamed', 4510), ('breast', 4511), ('patio', 4512), ('lyk', 4513), ('museum', 4514), ('vent', 4515), ('elvis', 4516), ('factor', 4517), ('describe', 4518), ('thurs', 4519), ('chrome', 4520), ('stumble', 4521), ('jackman', 4522), ('wax', 4523), ('culture', 4524), ('progres', 4525), ('cherish', 4526), ('pea', 4527), ('relegate', 4528), ('ph', 4529), ('population', 4530), ('pjs', 4531), ('discus', 4532), ('griled', 4533), ('superman', 4534), ('dutch', 4535), ('sword', 4536), ('apearance', 4537), ('studying', 4538), ('grader', 4539), ('knox', 4540), ('webcam', 4541), ('munch', 4542), ('slam', 4543), ('cud', 4544), ('twiterquot', 4545), ('rel', 4546), ('false', 4547), ('browser', 4548), ('bleach', 4549), ('sociable', 4550), ('jely', 4551), ('nano', 4552), ('drinkin', 4553), ('transformer', 4554), ('nita', 4555), ('unmanageable', 4556), ('homosexual', 4557), ('by_rights', 4558), ('visualize', 4559), ('once', 4560), ('goner', 4561), ('sign_of_the_zodiac', 4562), ('excommunicate', 4563), ('equality', 4564), ('one-sixth', 4565), ('happen', 4566), ('very_well', 4567), ('blasphemous', 4568), ('female_child', 4569), ('serviceman', 4570), ('paroxysm', 4571), ('mistreat', 4572), ('word_picture', 4573), ('lie_down', 4574), ('issue_forth', 4575), ('class', 4576), ('crispen', 4577), ('commit', 4578), ('undimmed', 4579), ('phellem', 4580), ('doctor_of_osteopathy', 4581), ('abridge', 4582), ('inwardly', 4583), ('chew_the_fat', 4584), ('irregular', 4585), ('overlap', 4586), ('nosh', 4587), ('secant', 4588), ('call', 4589), ('undertake', 4590), ('while', 4591), ('shamble', 4592), ('farewell', 4593), ('well', 4594), ('sponsor', 4595), ('causal_agent', 4596), ('appellation', 4597), ('acclaim', 4598), ('caller', 4599), ('right_field', 4600), ('lake_michigan', 4601), ('al-qaeda', 4602), ('expose', 4603), ('three-dimensional', 4604), ('megabyte', 4605), ('beth', 4606), ('unpleasant', 4607), ('anticipate', 4608), ('cube', 4609), ('urban', 4610), ('conectivity', 4611), ('arlington', 4612), ('seafods', 4613), ('owl', 4614), ('bloging', 4615), ('filthy', 4616), ('stitch', 4617), ('enthu', 4618), ('tropical', 4619), ('gramar', 4620), ('dem', 4621), ('hertz', 4622), ('patchwork', 4623), (\"florist's_chrysanthemum\", 4624), ('patience', 4625), ('sulk', 4626), ('luf', 4627), ('w0t', 4628), ('atached', 4629), ('jail', 4630), ('kh', 4631), ('lifetime', 4632), ('exhibition', 4633), ('raw', 4634), ('slide', 4635), ('mami', 4636), (\"grey's\", 4637), ('peling', 4638), ('nonstop', 4639), ('jese', 4640), ('sparkly', 4641), ('widget', 4642), ('embarased', 4643), ('3g', 4644), ('alow', 4645), ('region', 4646), ('tradition', 4647), ('hehehehe', 4648), ('indiana', 4649), ('strap', 4650), ('urself', 4651), ('dresing', 4652), ('dashboard', 4653), ('drs', 4654), ('relay', 4655), ('nauseous', 4656), ('38', 4657), ('probly', 4658), ('australian', 4659), ('citizen', 4660), ('recording', 4661), ('wout', 4662), ('native', 4663), ('imagination', 4664), ('yesir', 4665), ('balcony', 4666), ('translate', 4667), ('bakery', 4668), ('meat', 4669), ('apreciation', 4670), ('eve', 4671), ('spon', 4672), ('ultra', 4673), ('overload', 4674), ('firework', 4675), ('necesary', 4676), ('stair', 4677), ('tyler', 4678), ('statement', 4679), ('baltimore', 4680), ('intro', 4681), ('aby', 4682), ('tos', 4683), ('las', 4684), ('spare', 4685), ('global', 4686), ('eventualy', 4687), ('county', 4688), ('threaten', 4689), ('brighter', 4690), ('suporting', 4691), ('est', 4692), ('clark', 4693), ('neil', 4694), ('bestfriend', 4695), ('recomendations', 4696), ('cm', 4697), ('anh', 4698), ('ke', 4699), ('quotgt', 4700), ('beside', 4701), ('handsome', 4702), ('fringe', 4703), ('quotjust', 4704), ('braid', 4705), ('daft', 4706), ('uncol', 4707), ('niki', 4708), ('casa', 4709), ('venus', 4710), ('vampire', 4711), ('leopard', 4712), ('tank', 4713), ('sucker', 4714), ('hrs', 4715), ('livebox', 4716), ('sim', 4717), ('runy', 4718), ('dod', 4719), ('48', 4720), ('cache', 4721), ('found', 4722), ('venice', 4723), ('530', 4724), ('ja', 4725), ('27th', 4726), ('shane', 4727), ('vintage', 4728), ('ly', 4729), ('port', 4730), ('bruce', 4731), ('slack', 4732), ('stu', 4733), ('sped', 4734), ('safari', 4735), ('devastate', 4736), ('horny', 4737), ('lad', 4738), ('vs', 4739), ('icky', 4740), ('trump', 4741), ('nike', 4742), ('producer', 4743), ('steady', 4744), ('prevent', 4745), ('gib', 4746), ('electricity', 4747), ('photographer', 4748), ('chica', 4749), ('fascinate', 4750), ('smith', 4751), ('tx', 4752), ('atlanta', 4753), ('marvelous', 4754), ('knit', 4755), ('sway', 4756), ('switzerland', 4757), ('insult', 4758), ('gland', 4759), ('chirp', 4760), ('amo', 4761), ('cucumber', 4762), ('poet', 4763), ('morgan', 4764), ('jamba', 4765), ('independent', 4766), ('drew', 4767), ('2am', 4768), ('pil', 4769), ('jim', 4770), ('ref', 4771), ('tif', 4772), ('enemy', 4773), ('tal', 4774), ('capacity', 4775), ('samberg', 4776), ('represent', 4777), ('fabric', 4778), ('knife', 4779), ('detention', 4780), ('rad', 4781), ('skl', 4782), ('weigh', 4783), ('garbage', 4784), ('corey', 4785), ('ple', 4786), ('eva', 4787), ('border', 4788), ('06', 4789), ('leigh', 4790), ('slim', 4791), ('luna', 4792), ('ikea', 4793), ('zune', 4794), ('luke', 4795), ('wherever', 4796), ('maintenance', 4797), ('iner', 4798), ('indecicive', 4799), ('moving', 4800), ('bufalo', 4801), ('likewise', 4802), ('metalica', 4803), ('newborn', 4804), ('labor', 4805), ('bond', 4806), ('quotstar', 4807), ('camper', 4808), ('told', 4809), ('hardcore', 4810), ('unexpected', 4811), ('chu', 4812), ('organize', 4813), ('juz', 4814), ('nic', 4815), ('nicky', 4816), ('mesing', 4817), ('8p', 4818), ('filipino', 4819), ('limb', 4820), ('pw', 4821), ('ofcourse', 4822), ('mequot', 4823), ('3wordsaftersex', 4824), ('nina', 4825), ('moan', 4826), ('miror', 4827), ('chipotle', 4828), ('asthma', 4829), ('wily', 4830), ('zachary', 4831), ('quinto', 4832), ('axe', 4833), ('skit', 4834), ('swiming', 4835), ('necklace', 4836), ('nashvile', 4837), ('giveaway', 4838), ('givin', 4839), ('alah', 4840), ('forbiden', 4841), ('tomy', 4842), ('stalker', 4843), ('learning', 4844), ('101', 4845), ('celebration', 4846), ('3rs', 4847), ('visual', 4848), ('batman', 4849), ('blade', 4850), ('nhl', 4851), ('turkey', 4852), ('nvr', 4853), ('tripin', 4854), ('lokout', 4855), ('anxiety', 4856), ('oportunity', 4857), ('coraline', 4858), ('leader', 4859), ('crepe', 4860), ('universal', 4861), ('miserably', 4862), ('cont', 4863), ('asda', 4864), ('lapy', 4865), ('inspirational', 4866), ('9th', 4867), ('mozart', 4868), ('bleed', 4869), ('tery', 4870), ('730', 4871), ('moly', 4872), ('guesed', 4873), ('doug', 4874), ('hmv', 4875), ('torn', 4876), ('chek', 4877), ('login', 4878), ('pleasant', 4879), ('hungover', 4880), ('bueno', 4881), ('knes', 4882), ('washing', 4883), ('bobo', 4884), ('aples', 4885), ('hacker', 4886), ('nutela', 4887), ('fa', 4888), ('reminds', 4889), ('vodafone', 4890), ('cam', 4891), ('vaca', 4892), ('gredy', 4893), ('atacking', 4894), ('chile', 4895), ('baked', 4896), ('diane', 4897), ('salon', 4898), ('stadium', 4899), ('hotie', 4900), ('arizona', 4901), ('alas', 4902), ('muy', 4903), ('bra', 4904), ('fishies', 4905), ('compute', 4906), ('marc', 4907), ('peper', 4908), ('virgin', 4909), ('silent', 4910), ('hiatus', 4911), ('dayum', 4912), ('hughes', 4913), ('reread', 4914), ('grease', 4915), ('snicker', 4916), ('tues', 4917), ('laid', 4918), ('april', 4919), ('barack', 4920), ('itquot', 4921), ('popins', 4922), ('tink', 4923), ('naughty', 4924), ('nk', 4925), ('reader', 4926), ('guted', 4927), ('livin', 4928), ('popy', 4929), ('droped', 4930), ('pinch', 4931), ('retail', 4932), ('iowa', 4933), ('edie', 4934), ('drawing', 4935), ('psh', 4936), ('dogie', 4937), ('electric', 4938), ('generaly', 4939), ('injury', 4940), ('ultimate', 4941), ('girlie', 4942), ('milionaire', 4943), ('heater', 4944), ('asks', 4945), ('tyra', 4946), (\"quoti'm\", 4947), ('dub', 4948), ('mitch', 4949), ('welington', 4950), ('94', 4951), ('brisbane', 4952), ('anatomy', 4953), ('thirsty', 4954), ('workshop', 4955), ('sample', 4956), ('lens', 4957), ('ram', 4958), ('amen', 4959), ('maria', 4960), ('spre', 4961), ('dylan', 4962), ('sundae', 4963), ('tumblr', 4964), ('pond', 4965), ('worse', 4966), ('ding', 4967), ('saly', 4968), ('wishin', 4969), ('composition', 4970), ('pete', 4971), ('polaroid', 4972), ('bck', 4973), ('thts', 4974), ('delish', 4975), ('6pm', 4976), ('td', 4977), ('gravity', 4978), ('clap', 4979), ('anounce', 4980), ('downloads', 4981), ('riot', 4982), ('wolf', 4983), ('bily', 4984), ('extreme', 4985), ('chesy', 4986), ('rendition', 4987), ('lineup', 4988), ('cleaner', 4989), ('tenage', 4990), ('formula', 4991), ('sykes', 4992), (\"g'morning\", 4993), ('tnx', 4994), ('funiest', 4995), ('january', 4996), ('everyones', 4997), ('circle', 4998), ('efed', 4999), (\"brother's\", 5000), ('grub', 5001), ('uploading', 5002), ('dona', 5003), ('admire', 5004), ('richard', 5005), ('liking', 5006), ('horibly', 5007), ('clasy', 5008), ('denmark', 5009), ('multiple', 5010), ('rb', 5011), ('worst', 5012), ('realization', 5013), ('myrtle', 5014), ('teri', 5015), ('obvious', 5016), ('gardening', 5017), ('brighten', 5018), ('carer', 5019), ('cider', 5020), ('mesy', 5021), ('u2', 5022), ('scale', 5023), ('phoenix', 5024), ('fifth', 5025), ('avenue', 5026), ('kickin', 5027), ('director', 5028), ('await', 5029), ('primavera', 5030), ('walking', 5031), ('asus', 5032), ('hurah', 5033), ('lolol', 5034), ('huricane', 5035), ('prep', 5036), ('ahah', 5037), ('celebs', 5038), ('tshirts', 5039), ('pandora', 5040), ('overtime', 5041), ('tutor', 5042), ('tweter', 5043), ('org', 5044), ('waz', 5045), ('ru', 5046), ('crime', 5047), ('simpson', 5048), (\"where'd\", 5049), ('ded', 5050), ('sek', 5051), ('posesion', 5052), ('euro', 5053), ('premiere', 5054), ('diagnosis', 5055), ('author', 5056), ('harbor', 5057), ('mathew', 5058), ('58', 5059), ('cury', 5060), ('carnival', 5061), ('arvo', 5062), ('dial', 5063), ('mes', 5064), ('cba', 5065), ('memphis', 5066), ('georgia', 5067), ('vocal', 5068), ('maid', 5069), ('alternative', 5070), ('convenient', 5071), ('ka', 5072), ('theyre', 5073), ('spicy', 5074), ('sympathy', 5075), ('production', 5076), ('yuk', 5077), ('hence', 5078), ('fixed', 5079), ('loan', 5080), ('medical', 5081), ('char', 5082), ('calendar', 5083), ('anyhow', 5084), ('tweples', 5085), ('thas', 5086), ('tomoro', 5087), ('harlem', 5088), ('fred', 5089), ('wut', 5090), ('coker', 5091), ('biter', 5092), ('borow', 5093), ('demand', 5094), ('tasty', 5095), ('megan', 5096), ('harder', 5097), ('agitate', 5098), ('15th', 5099), ('spotify', 5100), ('campus', 5101), ('sweater', 5102), ('cryin', 5103), ('skint', 5104), ('ai', 5105), ('urge', 5106), ('nudge', 5107), ('tisdale', 5108), ('coverage', 5109), ('louis', 5110), ('practicaly', 5111), ('2b', 5112), ('pf', 5113), ('yikes', 5114), ('raid', 5115), ('bail', 5116), ('brag', 5117), ('jane', 5118), ('charles', 5119), ('out', 5120), ('qld', 5121), ('upquot', 5122), ('snifle', 5123), ('zoe', 5124), ('promotion', 5125), ('07', 5126), ('sb', 5127), ('sensation', 5128), ('router', 5129), ('physic', 5130), ('bali', 5131), ('bible', 5132), ('gh', 5133), ('surprising', 5134), ('nba', 5135), ('cigaretes', 5136), ('hoe', 5137), ('swamp', 5138), ('tournament', 5139), ('romies', 5140), ('trader', 5141), ('cage', 5142), ('whn', 5143), ('domestic', 5144), ('quotyour', 5145), ('wise', 5146), ('becky', 5147), ('pow', 5148), ('relaxation', 5149), ('fisch', 5150), ('botles', 5151), ('bonus', 5152), ('dangit', 5153), ('milan', 5154), ('showing', 5155), ('mucho', 5156), ('participate', 5157), ('kidney', 5158), ('concrete', 5159), ('sin', 5160), ('rick', 5161), ('lego', 5162), ('brekie', 5163), ('fitnes', 5164), ('ada', 5165), ('individual', 5166), (\"sister's\", 5167), ('experiment', 5168), ('fricken', 5169), ('hindi', 5170), ('heavenly', 5171), (\"twiter's\", 5172), ('m8', 5173), ('range', 5174), ('highway', 5175), ('snake', 5176), ('shep', 5177), ('amsterdam', 5178), ('cord', 5179), ('ofers', 5180), ('patch', 5181), ('actres', 5182), ('abit', 5183), ('analyze', 5184), ('agree', 5185), ('sup', 5186), ('syrup', 5187), ('wthe', 5188), ('payday', 5189), ('as', 5190), ('girls', 5191), ('buying', 5192), ('godies', 5193), ('aaron', 5194), ('ci', 5195), ('brief', 5196), ('bale', 5197), ('bg', 5198), ('monkey', 5199), ('foreign', 5200), ('locker', 5201), ('smut', 5202), ('drain', 5203), ('reject', 5204), (\"life's\", 5205), ('cros', 5206), ('worm', 5207), ('eurovision', 5208), ('tenager', 5209), ('tatos', 5210), ('seminar', 5211), ('trampoline', 5212), ('combination', 5213), ('punk', 5214), ('humidity', 5215), ('dive', 5216), ('ski', 5217), ('intern', 5218), ('psychology', 5219), ('churn', 5220), ('reg', 5221), ('adict', 5222), ('unfolowing', 5223), ('natural', 5224), ('belgian', 5225), ('welsh', 5226), ('vehicle', 5227), ('wiv', 5228), ('rocky', 5229), ('oui', 5230), ('animated', 5231), ('advanced', 5232), ('flow', 5233), ('farmer', 5234), ('badge', 5235), ('tuck', 5236), ('cook', 5237), ('new_world_chat', 5238), ('security_service', 5239), ('resolve', 5240), ('chubby', 5241), ('elder', 5242), ('battlefront', 5243), ('wag', 5244), ('front_man', 5245), ('accredit', 5246), ('lay_down', 5247), ('salvage', 5248), ('generative', 5249), ('crack_up', 5250), ('be_active', 5251), ('situate', 5252), ('prevail', 5253), ('second_gear', 5254), ('front-runner', 5255), ('allied_command_europe', 5256), ('alarm_clock', 5257), ('mannequin', 5258), ('farad', 5259), ('synchronize', 5260), ('demerit', 5261), ('yaw', 5262), ('auricle', 5263), ('new_jersey', 5264), ('exceptionable', 5265), ('harebrained', 5266), ('abdominal_cavity', 5267), ('nine-spot', 5268), ('department_of_state', 5269), ('quadriceps', 5270), ('bind', 5271), ('rightly', 5272), ('identify', 5273), ('secret_intelligence_service', 5274), ('tug', 5275), ('disadvantage', 5276), ('avaricious', 5277), ('lento', 5278), ('mental_picture', 5279), ('long_time', 5280), ('last_out', 5281), ('one_hundred_twenty-five', 5282), ('historic_period', 5283), ('decimeter', 5284), ('partake', 5285), ('concede', 5286), ('immediate', 5287), ('bracken', 5288), ('macadamize', 5289), ('astir', 5290), ('early_on', 5291), ('establish', 5292), ('pagination', 5293), ('at_heart', 5294), ('idaho', 5295), ('citation', 5296), ('gripe', 5297), ('adjacent', 5298), ('examination', 5299), ('appearance', 5300), ('exemplar', 5301), ('base_on_balls', 5302), ('britany', 5303), ('choc', 5304), ('bryan', 5305), ('nowamp', 5306), ('retquestin', 5307), ('num', 5308), ('mit', 5309), ('lemonade', 5310), (\"u're\", 5311), ('birth', 5312), ('wireless_local_area_network', 5313), ('vegetable_oil', 5314), ('gladden', 5315), ('wisconsin', 5316), ('paradise', 5317), ('bd', 5318), ('grece', 5319), ('torent', 5320), ('christine', 5321), ('xxx', 5322), ('quotthere', 5323), ('philosophy', 5324), ('dreser', 5325), ('liver', 5326), ('scotish', 5327), ('twisted', 5328), ('jelo', 5329), ('arkansas', 5330), ('ale', 5331), ('ceiling', 5332), (\"car's\", 5333), ('shore', 5334), ('herb', 5335), ('dealership', 5336), ('geneva', 5337), (\"mine's\", 5338), ('quietly', 5339), ('disorder', 5340), ('rico', 5341), ('phenomenal', 5342), ('frozen', 5343), ('tray', 5344), ('pace', 5345), ('canon', 5346), ('exp', 5347), ('salute', 5348), ('bec', 5349), ('calin', 5350), ('government', 5351), ('colective', 5352), ('grande', 5353), ('origin', 5354), ('john', 5355), ('motherfuck', 5356), ('qw', 5357), ('miler', 5358), ('ligament', 5359), ('spinach', 5360), ('tai', 5361), ('hometown', 5362), ('delight', 5363), ('vegies', 5364), (\"children's\", 5365), ('paw', 5366), (\"baby's\", 5367), ('hapend', 5368), ('rug', 5369), ('glimpse', 5370), ('closest', 5371), ('cheks', 5372), ('disconected', 5373), ('void', 5374), ('nto', 5375), ('scone', 5376), ('volunter', 5377), ('textin', 5378), ('fairnes', 5379), ('arsenal', 5380), ('iraq', 5381), ('estimate', 5382), ('muray', 5383), ('disapoint', 5384), ('verge', 5385), ('ahahah', 5386), ('71', 5387), ('decline', 5388), ('sparkle', 5389), ('blur', 5390), ('fortunately', 5391), ('mixed', 5392), ('twat', 5393), ('ia', 5394), ('raly', 5395), ('jackson', 5396), ('slipers', 5397), ('romie', 5398), ('regardles', 5399), ('merlin', 5400), ('hokah', 5401), ('tail', 5402), ('sicknes', 5403), ('falout', 5404), (\"quotwhere's\", 5405), ('diy', 5406), ('rear', 5407), ('x3', 5408), ('ocured', 5409), ('ozy', 5410), ('thigh', 5411), ('grim', 5412), ('flame', 5413), ('environment', 5414), ('in', 5415), ('rig', 5416), ('mets', 5417), ('prank', 5418), ('manual', 5419), ('noi', 5420), ('quad', 5421), ('quotwe', 5422), ('grets', 5423), ('stable', 5424), ('earings', 5425), ('motorway', 5426), ('beck', 5427), ('rail', 5428), ('corection', 5429), ('hve', 5430), ('bumed', 5431), ('directly', 5432), ('visa', 5433), ('deb', 5434), ('marco', 5435), ('quotone', 5436), ('countdown', 5437), ('mot', 5438), ('donor', 5439), (\"monday's\", 5440), ('euruko', 5441), ('economics', 5442), ('clasmates', 5443), ('iloveyou', 5444), ('speed', 5445), ('wand', 5446), ('quotal', 5447), ('atitude', 5448), ('nascar', 5449), ('39', 5450), ('swalow', 5451), ('marine', 5452), ('martini', 5453), ('arena', 5454), ('justice', 5455), ('sanctuary', 5456), ('dads', 5457), ('mp3', 5458), ('shaky', 5459), ('reserve', 5460), ('tely', 5461), ('quota', 5462), ('ee', 5463), ('tarmac', 5464), ('sufice', 5465), ('companion', 5466), ('homies', 5467), ('gliter', 5468), ('boze', 5469), ('fabulously', 5470), ('0quot', 5471), ('expense', 5472), ('nu', 5473), ('evaluate', 5474), ('fuel', 5475), ('hotnes', 5476), ('bronchitis', 5477), ('cuba', 5478), ('xmas', 5479), ('belt', 5480), ('southern', 5481), ('quotif', 5482), ('philip', 5483), ('belgium', 5484), ('tragedy', 5485), ('internal', 5486), ('flod', 5487), ('whisperer', 5488), ('squad', 5489), (\"she'd\", 5490), ('sesions', 5491), ('roled', 5492), ('arg', 5493), ('arives', 5494), ('pony', 5495), ('combine', 5496), ('saving', 5497), ('tow', 5498), (\"ab's\", 5499), ('hover', 5500), ('lean', 5501), ('godbyes', 5502), ('gps', 5503), ('carnt', 5504), ('blackberies', 5505), ('particular', 5506), ('ubertwiter', 5507), ('overcome', 5508), ('spil', 5509), ('fr', 5510), ('alpha', 5511), ('yew', 5512), ('bargain', 5513), ('seo', 5514), ('brew', 5515), ('howie', 5516), ('boi', 5517), ('musicans', 5518), ('oposed', 5519), ('unreal', 5520), ('lash', 5521), ('outlet', 5522), ('qu', 5523), ('ere', 5524), ('9pm', 5525), ('swets', 5526), ('knw', 5527), ('knackered', 5528), ('laterz', 5529), ('diviated', 5530), ('slepytime', 5531), ('dum', 5532), ('imune', 5533), ('nod', 5534), ('neding', 5535), ('slot', 5536), ('fucker', 5537), ('unpack', 5538), ('ofquotthe', 5539), ('climbquotits', 5540), ('sngs', 5541), ('aj', 5542), ('ofended', 5543), ('patrick', 5544), ('shorten', 5545), ('tina', 5546), ('heartbreak', 5547), ('oreo', 5548), ('herd', 5549), ('runin', 5550), ('bunies', 5551), ('majorly', 5552), ('archie', 5553), ('propose', 5554), ('relaxed', 5555), ('donation', 5556), ('hum', 5557), ('puding', 5558), ('html', 5559), ('hitin', 5560), ('foam', 5561), ('par', 5562), ('gb', 5563), ('8d', 5564), ('tourist', 5565), ('yest', 5566), ('yao', 5567), ('eventful', 5568), ('leonard', 5569), ('worldwide', 5570), ('ron', 5571), ('ilove', 5572), ('alaska', 5573), ('kayla', 5574), ('120', 5575), ('keychain', 5576), ('drivein', 5577), ('rd', 5578), ('mutual', 5579), ('exhausted', 5580), ('fathom', 5581), ('parker', 5582), ('conan', 5583), ('7pm', 5584), ('sucesfuly', 5585), ('tcot', 5586), ('evans', 5587), ('duper', 5588), ('shack', 5589), ('alo', 5590), ('rawr', 5591), ('yeay', 5592), ('04', 5593), ('paige', 5594), ('victim', 5595), ('godluck', 5596), ('8[', 5597), ('endles', 5598), ('tester', 5599), ('coks', 5600), ('ninja', 5601), ('witnes', 5602), ('comited', 5603), ('filter', 5604), ('jd', 5605), ('gtgt', 5606), ('met', 5607), ('dha', 5608), ('cece', 5609), ('chanqes', 5610), ('handful', 5611), ('alergy', 5612), ('laze', 5613), ('bost', 5614), ('10k', 5615), ('context', 5616), ('wals', 5617), ('garlic', 5618), ('broadcast', 5619), ('vanesa', 5620), ('abuse', 5621), ('gather', 5622), ('ri', 5623), ('nate', 5624), ('animation', 5625), ('creativity', 5626), (\"deny's\", 5627), ('funky', 5628), ('requiem', 5629), ('alan', 5630), ('jedi', 5631), ('foty', 5632), ('chered', 5633), ('waiting', 5634), ('dandy', 5635), ('holand', 5636), ('stanley', 5637), ('chilen', 5638), ('elevator', 5639), ('230', 5640), ('outline', 5641), ('asylm', 5642), ('salvation', 5643), ('susan', 5644), ('storage', 5645), ('furious', 5646), ('himym', 5647), ('scared', 5648), ('careles', 5649), ('thoroughly', 5650), ('prague', 5651), ('absolute', 5652), ('cabin', 5653), ('faulty', 5654), ('lm', 5655), ('anywho', 5656), ('exotic', 5657), ('evidence', 5658), ('maker', 5659), ('atended', 5660), ('gang', 5661), ('aber', 5662), ('vicky', 5663), ('pspplurk', 5664), ('edmonton', 5665), ('satelite', 5666), ('romeo', 5667), ('cld', 5668), (\"grandma's\", 5669), ('tit', 5670), ('benadryl', 5671), (\"world's\", 5672), ('cheseburger', 5673), ('heartbroken', 5674), ('kc', 5675), ('proudly', 5676), ('transition', 5677), ('jacob', 5678), ('spark', 5679), ('disk', 5680), ('nov', 5681), ('pickle', 5682), ('ama', 5683), ('kilkeny', 5684), ('dw', 5685), ('pcd', 5686), ('tims', 5687), ('brighton', 5688), ('impale', 5689), ('lax', 5690), ('champagne', 5691), ('quotand', 5692), ('8,0', 5693), ('highschol', 5694), ('conf', 5695), ('reunite', 5696), ('cue', 5697), ('petrol', 5698), ('wrestler', 5699), ('uter', 5700), ('folowin', 5701), ('herquot', 5702), ('complex', 5703), ('agency', 5704), ('warp', 5705), ('otawa', 5706), ('cone', 5707), ('nany', 5708), ('lotsa', 5709), (\"son's\", 5710), ('jar', 5711), ('bluebery', 5712), ('crazines', 5713), ('floded', 5714), ('pint', 5715), ('mesenger', 5716), ('bart', 5717), ('screning', 5718), ('embasy', 5719), ('christina', 5720), ('ino', 5721), ('bloger', 5722), ('yt', 5723), ('fieldnotes', 5724), ('masterchef', 5725), ('spice', 5726), ('admin', 5727), ('stylish', 5728), ('godamn', 5729), ('atracted', 5730), ('romance', 5731), ('burning', 5732), ('tr', 5733), ('liz', 5734), ('bers', 5735), ('ver', 5736), ('velvet', 5737), ('newport', 5738), ('thanku', 5739), ('dual', 5740), ('itchy', 5741), ('jamin', 5742), ('elephant', 5743), ('rogue', 5744), ('247', 5745), ('jumping', 5746), ('comet', 5747), ('modem', 5748), ('mayhem', 5749), ('250', 5750), ('gino', 5751), ('african', 5752), ('boxer', 5753), ('ping', 5754), ('dong', 5755), ('laters', 5756), ('op', 5757), ('cya', 5758), ('quens', 5759), ('wendy', 5760), ('crop', 5761), ('madrid', 5762), ('carie', 5763), ('wer', 5764), ('distant', 5765), ('shortie', 5766), ('vi', 5767), ('brazilian', 5768), ('serendipity', 5769), ('regulate', 5770), ('norm', 5771), ('sonic', 5772), ('icarly', 5773), ('viva', 5774), ('singstar', 5775), ('frustraded', 5776), ('cozy', 5777), ('upstairs', 5778), ('carol', 5779), ('dedication', 5780), ('sleps', 5781), ('newjabakidz', 5782), ('relatively', 5783), ('g4', 5784), ('nowadays', 5785), ('decorate', 5786), ('laf', 5787), ('eliot', 5788), ('ltlt', 5789), ('mt', 5790), ('convention', 5791), ('temptation', 5792), ('et', 5793), ('alcoholic', 5794), ('wanda', 5795), ('mug', 5796), (\"a's\", 5797), ('pasion', 5798), ('mga', 5799), ('micro', 5800), ('nonetheles', 5801), ('protect', 5802), ('hol', 5803), ('asada', 5804), ('s', 5805), ('wakeup', 5806), ('temporary', 5807), ('physical', 5808), ('selfish', 5809), ('quotwhy', 5810), ('registration', 5811), ('falcon', 5812), ('195', 5813), ('cubicle', 5814), ('galaxy', 5815), ('guines', 5816), ('ofices', 5817), ('iquotm', 5818), ('gocincinati', 5819), ('restriction', 5820), ('stresing', 5821), ('somethings', 5822), ('kobe', 5823), ('throwback', 5824), ('lucy', 5825), ('speding', 5826), ('leadership', 5827), ('kent', 5828), ('phrase', 5829), ('pose', 5830), ('htown', 5831), ('originaly', 5832), ('pineaple', 5833), ('crystal', 5834), ('method', 5835), ('candidate', 5836), ('angle', 5837), ('procesing', 5838), (\"anyone's\", 5839), ('bokmarks', 5840), ('education', 5841), ('iplayer', 5842), ('disapointment', 5843), ('mop', 5844), ('sept', 5845), ('thnks', 5846), ('beatwetup', 5847), ('reinstal', 5848), ('sunscren', 5849), ('grown', 5850), ('lane', 5851), ('minesota', 5852), ('danger', 5853), ('chatin', 5854), ('sail', 5855), ('comeback', 5856), ('tut', 5857), ('scent', 5858), ('resource', 5859), ('clog', 5860), ('crafty', 5861), ('ctrl', 5862), ('underscore', 5863), ('hecks', 5864), ('jandy', 5865), ('timsamlake', 5866), ('rawesome', 5867), ('girlies', 5868), ('tu', 5869), ('aloud', 5870), ('vmware', 5871), ('atempts', 5872), ('specific', 5873), ('mentor', 5874), ('guild', 5875), ('broadband', 5876), ('fork', 5877), ('vodka', 5878), ('pan', 5879), ('praise', 5880), ('pearl', 5881), ('tatoed', 5882), ('shrimp', 5883), ('ranch', 5884), ('chi', 5885), ('kenel', 5886), ('xox', 5887), ('96', 5888), ('choke', 5889), ('andrea', 5890), ('2moz', 5891), ('setup', 5892), ('ashleigh', 5893), ('aplications', 5894), ('woe', 5895), ('sque', 5896), ('geof', 5897), ('prada', 5898), ('robot', 5899), ('monies', 5900), ('pale', 5901), ('argentina', 5902), ('costa', 5903), ('av', 5904), ('bid', 5905), ('replay', 5906), ('fidle', 5907), ('glue', 5908), ('ramen', 5909), ('het', 5910), ('pinky', 5911), ('africa', 5912), ('fridays', 5913), ('jade', 5914), ('harm', 5915), ('31st', 5916), ('sequel', 5917), ('aprentice', 5918), ('hv', 5919), ('350', 5920), ('samantha', 5921), ('laughing', 5922), ('greting', 5923), ('travis', 5924), ('dint', 5925), ('20th', 5926), ('instrument', 5927), ('equipment', 5928), ('wipe', 5929), ('fortunate', 5930), ('injured', 5931), ('updating', 5932), ('zack', 5933), ('expo', 5934), ('dreary', 5935), ('maryland', 5936), ('swap', 5937), ('comedian', 5938), ('cho', 5939), ('dubai', 5940), ('kelie', 5941), ('intense', 5942), ('harsh', 5943), ('145', 5944), ('construction', 5945), ('tumor', 5946), ('oficaly', 5947), ('aweful', 5948), ('itl', 5949), ('liam', 5950), ('fort', 5951), ('depot', 5952), ('gate', 5953), ('atractive', 5954), ('sack', 5955), ('cudling', 5956), ('cudles', 5957), ('mariah', 5958), ('frankie', 5959), (\"weather's\", 5960), ('documentary', 5961), ('walace', 5962), ('hardrive', 5963), ('crisp', 5964), ('personality', 5965), ('caried', 5966), ('mentaly', 5967), ('stevie', 5968), ('embarasing', 5969), ('fade', 5970), ('complaint', 5971), ('handbag', 5972), ('seven', 5973), ('dreadful', 5974), ('birdie', 5975), ('cow', 5976), ('medication', 5977), ('olympic', 5978), ('asylum', 5979), ('pune', 5980), ('compromise', 5981), ('pilot', 5982), ('bode', 5983), ('recap', 5984), (\"teacher's\", 5985), ('bounce', 5986), ('lc', 5987), ('brody', 5988), ('trace', 5989), ('quothapy', 5990), ('hiding', 5991), ('procrastination', 5992), ('sg', 5993), ('inform', 5994), ('courthouse', 5995), ('structure', 5996), ('reload', 5997), ('gambit', 5998), ('midwest', 5999), ('movin', 6000), ('diagnose', 6001), ('robluketic', 6002), ('meow', 6003), ('clara', 6004), ('portuguese', 6005), ('instant', 6006), ('posh', 6007), ('expres', 6008), ('fiance', 6009), ('delightful', 6010), ('alpine', 6011), ('expectation', 6012), ('lush', 6013), ('freckle', 6014), ('polution', 6015), ('lamp', 6016), ('lower', 6017), ('afternons', 6018), (\"dm's\", 6019), ('mocha', 6020), ('consolation', 6021), ('hopin', 6022), ('67', 6023), ('stickam', 6024), ('vegan', 6025), ('counter', 6026), ('chester', 6027), (\"men's\", 6028), ('iya', 6029), ('rf', 6030), ('ranger', 6031), ('techno', 6032), ('thrown', 6033), ('bouncing', 6034), ('worthy', 6035), ('ham', 6036), ('aplies', 6037), ('lasagna', 6038), ('canal', 6039), ('invisible', 6040), ('embrace', 6041), ('wander', 6042), ('fink', 6043), ('yeling', 6044), ('prix', 6045), ('worying', 6046), ('mushy', 6047), ('buterfly', 6048), ('noe', 6049), ('hala', 6050), ('craft', 6051), ('housemate', 6052), ('dancing', 6053), ('suprisingly', 6054), ('contribute', 6055), ('cricket', 6056), ('percent', 6057), ('87', 6058), ('pause', 6059), ('almond', 6060), ('vog', 6061), ('frown', 6062), ('tuner', 6063), ('mk', 6064), ('swimsuit', 6065), ('quotthis', 6066), ('bilion', 6067), ('eugh', 6068), ('studyin', 6069), ('bef', 6070), ('tothpaste', 6071), ('wnt', 6072), ('alternate', 6073), ('cupboard', 6074), ('dey', 6075), ('courtesy', 6076), ('hoedown', 6077), ('hodie', 6078), ('shet', 6079), ('eden', 6080), ('derek', 6081), ('puerto', 6082), ('karen', 6083), ('dock', 6084), ('hung', 6085), ('wasted', 6086), ('funier', 6087), ('ist', 6088), ('du', 6089), ('ausies', 6090), ('spotlight', 6091), ('adsense', 6092), ('rely', 6093), ('amanda', 6094), ('todler', 6095), ('measure', 6096), ('sarcasm', 6097), ('stag', 6098), ('eyed', 6099), ('backstage', 6100), ('quotdo', 6101), ('50am', 6102), ('semi', 6103), ('nation', 6104), ('voicemail', 6105), ('showin', 6106), ('colorful', 6107), ('jayk', 6108), ('gaming', 6109), ('pwns', 6110), ('toward', 6111), ('scrap', 6112), ('span', 6113), ('temperature', 6114), ('spose', 6115), ('grumpy', 6116), ('kavya', 6117), ('firefly', 6118), ('gram', 6119), ('fart', 6120), (\"mcdonald's\", 6121), ('ethan', 6122), ('trent', 6123), ('honeymon', 6124), ('rum', 6125), ('quotgod', 6126), ('arch', 6127), ('stamp', 6128), ('dl', 6129), ('purpose', 6130), ('pervert', 6131), ('consist', 6132), ('tothache', 6133), ('cutest', 6134), ('slope', 6135), ('gime', 6136), ('git', 6137), ('twiterworld', 6138), ('unite', 6139), ('resort', 6140), ('swep', 6141), ('galore', 6142), ('goldfish', 6143), ('ofense', 6144), ('njoy', 6145), ('thier', 6146), ('hasnt', 6147), ('arnold', 6148), ('blech', 6149), ('ning', 6150), ('mend', 6151), ('seing', 6152), ('limited', 6153), ('thick', 6154), ('shampo', 6155), ('mccain', 6156), ('artwork', 6157), ('scifi', 6158), ('inability', 6159), ('organic', 6160), ('standby', 6161), ('shining', 6162), ('pb', 6163), ('pis', 6164), ('groupie', 6165), ('chamber', 6166), ('contribution', 6167), ('slush', 6168), (\"ma'am\", 6169), ('glom', 6170), ('faint', 6171), ('breakin', 6172), ('boking', 6173), ('mein', 6174), ('neda', 6175), ('wheat', 6176), ('uhoh', 6177), ('kernel', 6178), ('grouch', 6179), ('mustang', 6180), ('rosie', 6181), ('fran', 6182), ('encourage', 6183), ('otalia', 6184), ('roman', 6185), (\"kid's\", 6186), ('hamilton', 6187), ('quotrealquot', 6188), ('audacious', 6189), ('hahahahahaha', 6190), ('qualify', 6191), (\"b'day\", 6192), ('zelda', 6193), ('field-effect_transistor', 6194), ('abdicate', 6195), ('airless', 6196), ('intensify', 6197), ('web_log', 6198), ('fixate', 6199), ('yawl', 6200), ('political_campaign', 6201), ('circuit_board', 6202), ('worry', 6203), ('disinherit', 6204), ('decay', 6205), ('associate', 6206), ('exemplary', 6207), ('opportunity', 6208), ('call_on', 6209), ('beak', 6210), ('angiotensin_converting_enzyme', 6211), ('arrant', 6212), ('entice', 6213), ('emetic', 6214), ('vanish', 6215), ('arrest', 6216), ('domesticate', 6217), ('frisson', 6218), ('department_of_energy', 6219), ('advocate', 6220), ('obstruct', 6221), ('decree', 6222), ('videodisk', 6223), ('cobalt', 6224), ('revoke', 6225), ('accusation', 6226), ('demote', 6227), ('apparent_motion', 6228), ('southeast', 6229), ('morning_star', 6230), ('lanthanum', 6231), ('degree_centigrade', 6232), ('pulmonary_tuberculosis', 6233), ('carbon_monoxide', 6234), ('reasonably', 6235), ('starting_signal', 6236), ('dazzle', 6237), ('baseball_club', 6238), ('aphrodisiac', 6239), ('newton', 6240), ('glider', 6241), ('incrimination', 6242), ('depend_on', 6243), ('buddy', 6244), ('pick_up', 6245), ('error', 6246), ('lawsuit', 6247), ('irritation', 6248), ('cheeseparing', 6249), ('absorb', 6250), ('strive', 6251), ('deep', 6252), ('calcium', 6253), ('crude', 6254), ('wiretap', 6255), ('lacuna', 6256), ('off', 6257), ('predominate', 6258), ('tittup', 6259), ('falsely', 6260), ('sterilize', 6261), ('athirst', 6262), ('metallic', 6263), ('incontestable', 6264), ('improper', 6265), ('switch_over', 6266), ('fathead', 6267), ('diabetes_mellitus', 6268), ('narrow', 6269), ('cheat_on', 6270), ('rivulet', 6271), ('coulomb', 6272), ('condense', 6273), ('rejoinder', 6274), ('bastardly', 6275), ('adjunct', 6276), ('detect', 6277), ('hour_angle', 6278), ('einsteinium', 6279), ('prey', 6280), ('read-only_memory', 6281), ('tremor', 6282), ('suffer', 6283), ('built-in', 6284), ('improving', 6285), ('converge', 6286), ('immerse', 6287), ('retool', 6288), ('gap', 6289), ('rag', 6290), ('affluent', 6291), ('move_over', 6292), ('correctly', 6293), ('express', 6294), ('chime_in', 6295), ('pisces', 6296), ('incision', 6297), ('video_recording', 6298), ('hearty', 6299), ('transcript', 6300), ('joining', 6301), ('brilliantly', 6302), ('matter_to', 6303), ('public_house', 6304), ('persist', 6305), ('battlefield', 6306), ('topographic_point', 6307), ('withdraw', 6308), ('clutter', 6309), ('allude', 6310), ('wyrd', 6311), ('speculate', 6312), ('tile', 6313), ('strol', 6314), ('aight', 6315), ('yur', 6316), ('ovaj', 6317), ('quotvideo', 6318), ('twetia', 6319), ('radi', 6320), ('microcastinga', 6321), ('newbie', 6322), ('toyota', 6323), ('rember', 6324), ('honesty', 6325), ('landline', 6326), ('heheh', 6327), ('eviction', 6328), ('wayne', 6329), ('chilaxing', 6330), ('thr', 6331), ('sharsies', 6332), ('ofering', 6333), ('exception', 6334), ('remeber', 6335), ('rare', 6336), ('kostet', 6337), ('mathsteacher', 6338), ('lotion', 6339), ('eforts', 6340), ('acquire', 6341), ('ight', 6342), ('panty', 6343), ('tafe', 6344), ('kfc', 6345), ('political', 6346), ('pufy', 6347), ('mor', 6348), ('lacroix', 6349), ('rainbow', 6350), ('sugested', 6351), ('adictive', 6352), ('gymnastics', 6353), ('rp', 6354), ('bald', 6355), ('drol', 6356), ('slowdown', 6357), ('war_cry', 6358), ('calling_card', 6359), ('anoint', 6360), ('circumspection', 6361), ('lashkar-e-taiba', 6362), ('backbite', 6363), ('curiously', 6364), ('informer', 6365), ('coal-black', 6366), ('scantily', 6367), ('economic', 6368), ('lov', 6369), ('chic', 6370), ('mild', 6371), ('noone', 6372), ('spencer', 6373), ('flour', 6374), ('fiesta', 6375), ('lizie', 6376), ('glos', 6377), ('vegetable', 6378), (\"else's\", 6379), ('teleport', 6380), ('weabo', 6381), ('relish', 6382), ('halway', 6383), ('selfmedicate', 6384), ('shirley', 6385), ('quotthat', 6386), ('powerpoint', 6387), ('flirt', 6388), ('sicken', 6389), ('vocabulary', 6390), ('penis', 6391), ('predictable', 6392), ('disco', 6393), ('endure', 6394), ('winers', 6395), (\"huby's\", 6396), ('rewrite', 6397), ('forehead', 6398), ('achy', 6399), ('joan', 6400), ('buti', 6401), ('kayo', 6402), ('kitchenfire', 6403), ('anotha', 6404), ('unemployment', 6405), ('160', 6406), ('kilin', 6407), ('unique', 6408), ('southend', 6409), ('worn', 6410), ('41', 6411), ('gta', 6412), ('permanent', 6413), ('tera', 6414), ('nova', 6415), ('tn', 6416), ('clubhouse', 6417), ('letuce', 6418), ('colect', 6419), ('splash', 6420), ('used', 6421), ('elbow', 6422), ('thames', 6423), ('leds', 6424), ('girafe', 6425), ('13th', 6426), ('biterswet', 6427), ('godie', 6428), ('404', 6429), ('arange', 6430), ('woh', 6431), ('matres', 6432), ('grt', 6433), ('thankus', 6434), ('lalala', 6435), ('poison', 6436), ('candle', 6437), ('rang', 6438), ('walah', 6439), ('pipe', 6440), ('nutin', 6441), ('whine', 6442), ('barb', 6443), ('twetin', 6444), ('perfume', 6445), ('ingredient', 6446), ('kentucky', 6447), ('moris', 6448), ('revolution', 6449), ('hoby', 6450), ('abc', 6451), ('42', 6452), ('madison', 6453), ('uti', 6454), ('leo', 6455), ('anie', 6456), ('skiny', 6457), ('wecloming', 6458), ('canadamigos', 6459), ('networking', 6460), ('pekabo', 6461), ('xem', 6462), ('impresions', 6463), ('horah', 6464), ('eliminate', 6465), ('dril', 6466), ('tucson', 6467), ('cafeine', 6468), ('smalvile', 6469), ('elizabeth', 6470), ('spoke', 6471), ('io', 6472), ('chiu', 6473), ('tifa', 6474), ('danh', 6475), ('125', 6476), ('jeje', 6477), ('talaga', 6478), (\"u'r\", 6479), ('grandad', 6480), ('confident', 6481), ('48hours', 6482), ('ln', 6483), ('sod', 6484), (\"g's\", 6485), ('depreses', 6486), ('humer', 6487), ('mourn', 6488), ('chunk', 6489), ('brake', 6490), ('ducati', 6491), ('puma', 6492), ('soz', 6493), ('homebirth', 6494), ('aladin', 6495), ('strategic', 6496), ('kardashians', 6497), ('madnes', 6498), ('retweting', 6499), ('slay', 6500), ('omgosh', 6501), ('straightener', 6502), ('sacrifice', 6503), ('comentary', 6504), ('sip', 6505), ('mri', 6506), ('medicate', 6507), ('biten', 6508), ('dislocate', 6509), ('tickle', 6510), ('sandwhich', 6511), ('stockholm', 6512), ('object', 6513), ('whiny', 6514), ('md', 6515), ('clone', 6516), ('orthodontist', 6517), ('cna', 6518), ('stufy', 6519), ('howard', 6520), ('ethic', 6521), ('eyebrow', 6522), ('calipo', 6523), ('transportation', 6524), ('athens', 6525), ('tomarow', 6526), ('riverside', 6527), ('gauge', 6528), ('ecstatic', 6529), ('pepermint', 6530), ('cock', 6531), ('cricinfo', 6532), ('hopelesly', 6533), ('haley', 6534), ('dean', 6535), ('bouquet', 6536), ('spoky', 6537), ('falon', 6538), ('rockstar', 6539), ('technical', 6540), ('skilz', 6541), ('imaginary', 6542), ('luvs', 6543), ('fotage', 6544), ('fundraiser', 6545), ('minimum', 6546), (\"g'mornin\", 6547), ('mainly', 6548), ('quotperfect', 6549), ('ocasionaly', 6550), ('kayleigh', 6551), ('kilen', 6552), ('barnes', 6553), ('beware', 6554), ('pakistan', 6555), ('chering', 6556), ('precious', 6557), ('raj', 6558), ('wme', 6559), ('comunication', 6560), ('knuckle', 6561), ('limp', 6562), ('rox', 6563), ('gal', 6564), ('porter', 6565), ('analog', 6566), ('squeze', 6567), ('nude', 6568), ('ruber', 6569), (\"sam's\", 6570), ('comply', 6571), ('shopin', 6572), ('dns', 6573), ('dios', 6574), ('burp', 6575), ('asaran', 6576), ('geo', 6577), ('titanic', 6578), ('sein', 6579), ('janeiro', 6580), ('ii', 6581), ('haiku', 6582), ('bambi', 6583), ('mosquito', 6584), ('cart', 6585), ('throughout', 6586), ('milions', 6587), ('sociology', 6588), ('knoxvile', 6589), ('mirors', 6590), ('react', 6591), ('ce', 6592), (\"quoti'l\", 6593), ('52', 6594), ('manicure', 6595), ('sheri', 6596), ('bh', 6597), ('croses', 6598), ('nomore', 6599), ('optimism', 6600), ('wiki', 6601), ('misunderstod', 6602), ('aiyo', 6603), ('nevrmine', 6604), ('bary', 6605), ('portable', 6606), ('borin', 6607), ('shld', 6608), ('weping', 6609), ('isac', 6610), ('bebe', 6611), ('helmet', 6612), ('grizly', 6613), ('pod', 6614), ('springsten', 6615), ('pacman', 6616), ('gosiping', 6617), ('tw', 6618), ('duet', 6619), ('ladyhawke', 6620), ('few', 6621), ('php', 6622), ('thankies', 6623), ('tuna', 6624), ('sashimi', 6625), ('telonly', 6626), ('recoverednot', 6627), ('tay', 6628), ('disturbed', 6629), ('downfal', 6630), ('fletwod', 6631), ('spike', 6632), ('ivy', 6633), ('infest', 6634), ('makati', 6635), ('waranty', 6636), ('yas', 6637), ('mwah', 6638), ('reli', 6639), ('macarena', 6640), ('hike', 6641), ('indy', 6642), ('bucket', 6643), ('potus', 6644), ('stif', 6645), ('quensland', 6646), ('flipin', 6647), ('liquor', 6648), ('staple', 6649), ('yday', 6650), ('closely', 6651), ('letin', 6652), ('feder', 6653), ('shield', 6654), ('hardware', 6655), ('downer', 6656), ('duo', 6657), ('bonkers', 6658), ('clasics', 6659), ('automatic', 6660), ('verify', 6661), ('shopaholic', 6662), ('gody', 6663), ('hahahahah', 6664), ('fishy', 6665), ('carbs', 6666), ('glove', 6667), ('visitin', 6668), ('divorce', 6669), ('mayb', 6670), ('laser', 6671), ('etsy', 6672), ('sci', 6673), ('unemployed', 6674), ('julia', 6675), ('fate', 6676), ('alias', 6677), ('upside', 6678), ('backstret', 6679), ('spy', 6680), ('loraine', 6681), ('apetite', 6682), ('twikini', 6683), ('unloved', 6684), ('shefield', 6685), ('exclamation', 6686), ('timeline', 6687), ('cholocate', 6688), ('spining', 6689), ('universe', 6690), ('uptown', 6691), ('latin', 6692), ('sista', 6693), ('sprout', 6694), ('calvin', 6695), ('wes', 6696), ('catchy', 6697), ('facial', 6698), ('tao', 6699), ('treadmil', 6700), ('brezy', 6701), ('nm', 6702), ('oasis', 6703), ('partying', 6704), ('belfast', 6705), ('nun', 6706), ('broadway', 6707), ('suicide', 6708), ('frezes', 6709), ('shriek', 6710), ('ick', 6711), ('guerila', 6712), ('wsop', 6713), ('employes', 6714), ('meagan', 6715), ('uquot', 6716), ('opt', 6717), ('derby', 6718), ('kindnes', 6719), ('drizle', 6720), ('kalo', 6721), ('nga', 6722), ('aku', 6723), ('nyerah', 6724), ('awal', 6725), ('oyster', 6726), ('sayang', 6727), ('partyin', 6728), ('floding', 6729), ('whoho', 6730), ('celeb', 6731), ('mina', 6732), ('craig', 6733), ('bugy', 6734), ('oral', 6735), (\"thing's\", 6736), ('claude', 6737), ('priscila', 6738), ('daw', 6739), ('sytycd', 6740), ('darlin', 6741), ('emergency', 6742), ('mh', 6743), ('fare', 6744), ('snail', 6745), ('impromptu', 6746), ('ooo', 6747), ('goto', 6748), ('loader', 6749), ('siya', 6750), ('hugles', 6751), ('iglo', 6752), ('tot', 6753), ('lara', 6754), ('yeg', 6755), ('coleague', 6756), ('worthles', 6757), ('masacre', 6758), ('reservation', 6759), ('pacquiao', 6760), ('juliet', 6761), ('fukin', 6762), (\"when's\", 6763), ('partay', 6764), ('dishwasher', 6765), ('humour', 6766), ('ponytail', 6767), ('dom', 6768), ('blair', 6769), ('henrie', 6770), (\"pim's\", 6771), ('cigarete', 6772), ('benjamin', 6773), ('whe', 6774), ('cease', 6775), ('initial', 6776), ('dota', 6777), ('chedar', 6778), ('pel', 6779), ('prawn', 6780), ('malaysia', 6781), ('pinkpop', 6782), ('rainin', 6783), ('coking', 6784), ('phobia', 6785), ('therefore', 6786), ('yipie', 6787), ('itv', 6788), ('huhuhu', 6789), ('boyz', 6790), ('woke', 6791), ('pepsi', 6792), ('temple', 6793), (\"scatergod's\", 6794), ('amongst', 6795), ('bark', 6796), ('jana', 6797), ('subscriber', 6798), ('h1n1', 6799), ('feb', 6800), ('okie', 6801), ('avid', 6802), ('69', 6803), ('jungle', 6804), ('roten', 6805), ('mebo', 6806), ('sadened', 6807), ('withdrawl', 6808), ('symptom', 6809), ('static', 6810), ('doughnut', 6811), ('scratching', 6812), ('tarot', 6813), ('swag', 6814), ('clown', 6815), ('cram', 6816), ('oy', 6817), ('quotarest', 6818), ('h8', 6819), ('59', 6820), ('nodle', 6821), ('29th', 6822), ('yawn', 6823), ('brothers', 6824), ('elsewhere', 6825), ('cardio', 6826), ('reasonable', 6827), ('ave', 6828), ('rapid', 6829), ('eachother', 6830), ('izard', 6831), ('bu', 6832), ('weirdo', 6833), ('ui', 6834), ('mysterious', 6835), ('swineflu', 6836), ('excercise', 6837), ('shemar', 6838), ('tf2', 6839), ('stealth', 6840), ('partied', 6841), ('sic', 6842), ('beatwityparty', 6843), ('conservative', 6844), ('harold', 6845), ('randoms', 6846), ('equivalent', 6847), ('pg', 6848), (\"wife's\", 6849), ('evryone', 6850), ('noice', 6851), ('tupac', 6852), ('bigie', 6853), ('joshy', 6854), ('renewal', 6855), ('protection', 6856), ('54', 6857), ('folder', 6858), ('viewing', 6859), ('crispies', 6860), ('blogher', 6861), ('underbely', 6862), ('leather', 6863), ('saint', 6864), ('triste', 6865), ('wh', 6866), ('scoty', 6867), ('boa', 6868), ('40mins', 6869), ('seking', 6870), ('felas', 6871), ('sophie', 6872), ('specialist', 6873), ('ibm', 6874), ('morphine', 6875), ('cabage', 6876), ('resign', 6877), ('lvl', 6878), ('era', 6879), ('pases', 6880), ('sweney', 6881), ('copyright', 6882), ('ensure', 6883), ('scr', 6884), ('64', 6885), ('bdate', 6886), ('3oth', 6887), ('dada', 6888), (\"macy's\", 6889), ('leighton', 6890), ('mester', 6891), ('yogulicious', 6892), ('mums', 6893), ('fina', 6894), ('overheat', 6895), ('geky', 6896), ('understod', 6897), ('cincinati', 6898), ('sabrina', 6899), ('chiodos', 6900), ('yan', 6901), ('squeak', 6902), ('industrial', 6903), ('hotdog', 6904), ('sumthn', 6905), ('agres', 6906), ('costco', 6907), ('ungodly', 6908), ('heartburn', 6909), ('ame', 6910), ('liesboystel', 6911), ('redhead', 6912), ('humble', 6913), ('fc', 6914), ('cane', 6915), ('rugby', 6916), ('explosion', 6917), ('hamer', 6918), ('hong', 6919), ('lng', 6920), ('awesomnes', 6921), ('superb', 6922), ('dsi', 6923), ('gadget', 6924), ('2pm', 6925), ('lates', 6926), ('cowboy', 6927), ('lousy', 6928), ('cred', 6929), ('viena', 6930), ('aproach', 6931), ('chihuahua', 6932), ('vt', 6933), ('racism', 6934), ('poem', 6935), ('broks', 6936), (\"bro's\", 6937), ('girlquot', 6938), (\"year's\", 6939), ('groses', 6940), ('feding', 6941), ('sike', 6942), ('bose', 6943), ('grandkids', 6944), ('tiring', 6945), ('tomo', 6946), ('sudoku', 6947), ('mhm', 6948), ('cola', 6949), ('lion', 6950), (\"timberlake's\", 6951), ('engadget', 6952), ('reinstaling', 6953), ('uniform', 6954), ('richie', 6955), ('heartles', 6956), ('201', 6957), ('enthusiastic', 6958), ('posting', 6959), ('splurge', 6960), ('hated', 6961), ('rebot', 6962), ('suported', 6963), ('antonio', 6964), ('rusian', 6965), ('freway', 6966), ('closet', 6967), ('tequila', 6968), ('carne', 6969), ('lit', 6970), ('finishing', 6971), ('drunken', 6972), ('housework', 6973), ('claire', 6974), ('closure', 6975), ('twities', 6976), ('carl', 6977), ('womp', 6978), ('30mins', 6979), ('magie', 6980), (\"god's\", 6981), ('motorbike', 6982), ('haz', 6983), ('tt', 6984), ('muck', 6985), ('yearboks', 6986), ('720', 6987), ('mount', 6988), ('adele', 6989), ('snag', 6990), ('parvo', 6991), ('11', 6992), ('blushing', 6993), ('und', 6994), ('tiesto', 6995), ('fighter', 6996), ('clutch', 6997), ('digin', 6998), ('serial', 6999), ('babes', 7000), (\"there'l\", 7001), ('quotnot', 7002), ('gcse', 7003), ('gina', 7004), ('riley', 7005), ('microwave', 7006), ('earl', 7007), ('amadeus', 7008), ('goat', 7009), ('grany', 7010), ('import', 7011), ('scop', 7012), ('tin', 7013), ('aunty', 7014), ('wld', 7015), ('amazin', 7016), ('netbal', 7017), ('dosent', 7018), ('skim', 7019), ('bahah', 7020), ('jena', 7021), ('dora', 7022), ('dy', 7023), ('tp', 7024), ('tum', 7025), ('sans', 7026), ('coming', 7027), ('sorows', 7028), ('planter', 7029), ('foster', 7030), ('kitens', 7031), ('eventhough', 7032), ('hesitate', 7033), ('busineses', 7034), ('pretier', 7035), ('falen', 7036), ('christopher', 7037), ('atic', 7038), ('fairy', 7039), ('terific', 7040), ('e71', 7041), ('greatly', 7042), ('blaze', 7043), ('drank', 7044), ('quotgrape', 7045), ('kontaktquot', 7046), ('plat', 7047), ('lovequot', 7048), ('4get', 7049), ('hail', 7050), ('stuning', 7051), ('noble', 7052), ('moth', 7053), ('apropriate', 7054), ('jep', 7055), ('pilows', 7056), ('liby', 7057), ('sdk', 7058), ('trading', 7059), ('4ever', 7060), ('plaster', 7061), ('teaser', 7062), ('ouchies', 7063), ('boxset', 7064), ('zimbabwe', 7065), ('voc', 7066), ('chosing', 7067), ('showcase', 7068), ('43', 7069), ('quid', 7070), ('clash', 7071), ('disguise', 7072), ('warcraft', 7073), ('strategy', 7074), ('traveler', 7075), ('mower', 7076), ('mario', 7077), ('university', 7078), ('206', 7079), ('14th', 7080), ('coincidence', 7081), ('procrastinate', 7082), ('4gb', 7083), ('sprite', 7084), ('export', 7085), ('unlucky', 7086), ('czech', 7087), ('soldier', 7088), ('portland', 7089), ('kaput', 7090), ('sidekick', 7091), ('tengo', 7092), ('cabinet', 7093), ('esther', 7094), ('thm', 7095), ('uf', 7096), ('redo', 7097), ('nao', 7098), ('melisa', 7099), ('breed', 7100), ('koi', 7101), ('parcs', 7102), ('tokio', 7103), ('ik', 7104), ('bfast', 7105), ('catcher', 7106), ('bj', 7107), ('maul', 7108), ('getaway', 7109), ('atraction', 7110), ('stinkin', 7111), ('wht', 7112), ('cg', 7113), ('realistic', 7114), ('mofo', 7115), ('specificaly', 7116), ('youl', 7117), ('tothbrush', 7118), (\"month's\", 7119), ('naptime', 7120), (\"u've\", 7121), ('daze', 7122), ('rethink', 7123), ('frickin', 7124), ('todays', 7125), ('marina', 7126), ('misha', 7127), ('satisfied', 7128), ('corona', 7129), ('beanie', 7130), ('seth', 7131), ('whataburger', 7132), ('infact', 7133), ('lincoln', 7134), ('tosed', 7135), ('chiropractor', 7136), ('stud', 7137), ('columbus', 7138), ('freaky', 7139), ('crutch', 7140), ('ment', 7141), ('sublime', 7142), ('bm', 7143), ('ideal', 7144), ('2hrs', 7145), ('loudly', 7146), ('redbul', 7147), ('oficer', 7148), ('jaja', 7149), ('bcoz', 7150), ('output', 7151), ('fog', 7152), ('trap', 7153), ('spell', 7154), ('evry', 7155), ('fuzbal', 7156), ('rome', 7157), ('gelato', 7158), ('macarons', 7159), ('baka', 7160), ('ordain', 7161), ('cf', 7162), ('teary', 7163), ('racon', 7164), ('gilmore', 7165), ('flatbread', 7166), ('felicia', 7167), ('mba', 7168), ('pirate', 7169), ('gma', 7170), ('powerful', 7171), ('stroke', 7172), ('orientation', 7173), ('harvey', 7174), ('retweted', 7175), ('harbour', 7176), ('hadnt', 7177), ('alhamdulilah', 7178), ('tipsy', 7179), ('lying', 7180), ('izy', 7181), ('1015', 7182), ('hurting', 7183), ('scenie', 7184), ('alexis', 7185), (\"wek's\", 7186), ('lance', 7187), ('horific', 7188), ('hunting', 7189), ('4ward', 7190), ('2mz', 7191), ('shets', 7192), ('sesame', 7193), ('indonesia', 7194), ('vacay', 7195), ('o', 7196), (\"jery's\", 7197), ('marzipan', 7198), ('letdown', 7199), ('jizle', 7200), ('bfs', 7201), ('carier', 7202), ('preparation', 7203), ('buzing', 7204), ('dec', 7205), ('logical', 7206), ('mn', 7207), ('landlord', 7208), ('lowkey', 7209), ('pluck', 7210), ('rejection', 7211), ('denial', 7212), ('nowt', 7213), ('labour', 7214), ('kathy', 7215), ('liberty', 7216), ('cargo', 7217), ('lg', 7218), ('bits', 7219), ('oak', 7220), ('okc', 7221), ('pavement', 7222), ('previously', 7223), (\"daughter's\", 7224), ('childhod', 7225), ('fcuk', 7226), ('vitamin', 7227), ('learner', 7228), ('marshmelows', 7229), ('gabe', 7230), ('wb', 7231), ('melody', 7232), ('dawg', 7233), ('rack', 7234), ('angelina', 7235), ('shed', 7236), ('21st', 7237), ('handwrite', 7238), ('arkham', 7239), ('joker', 7240), ('priest', 7241), ('scum', 7242), ('cardif', 7243), ('surfin', 7244), ('firmware', 7245), ('oneself', 7246), ('led', 7247), ('ahem', 7248), ('portsmouth', 7249), ('eek', 7250), ('bead', 7251), ('chalenging', 7252), ('quottheyquot', 7253), ('gue', 7254), ('rafle', 7255), ('kidies', 7256), ('lili', 7257), ('wmy', 7258), ('gary', 7259), ('insomniac', 7260), ('fery', 7261), ('wating', 7262), ('costly', 7263), ('domino', 7264), ('silver', 7265), ('cleanup', 7266), ('chock', 7267), ('bathing', 7268), (\"miley's\", 7269), ('relapse', 7270), ('friendship', 7271), ('circuit', 7272), ('discontinue', 7273), ('ole', 7274), ('watched', 7275), ('180', 7276), ('brewer', 7277), ('editing', 7278), ('vicious', 7279), ('alysa', 7280), ('hid', 7281), ('jesie', 7282), ('nemo', 7283), ('dawson', 7284), ('discourage', 7285), ('gigle', 7286), ('614', 7287), ('brewing', 7288), ('packet', 7289), ('keli', 7290), ('thinker', 7291), ('rcw', 7292), ('npr', 7293), (\"head's\", 7294), ('insist', 7295), ('hangout', 7296), ('alimony', 7297), ('arested', 7298), ('qot', 7299), ('julie', 7300), ('fender', 7301), ('dreaded', 7302), ('slumdog', 7303), ('amor', 7304), ('autograph', 7305), ('guten', 7306), ('morgen', 7307), ('twiterbugs', 7308), ('shameles', 7309), ('hoker', 7310), ('benedryl', 7311), ('witch', 7312), ('harper', 7313), ('mere', 7314), ('basket', 7315), ('unfortunate', 7316), ('shipment', 7317), ('ie6', 7318), ('omgod', 7319), ('cubies', 7320), ('foto', 7321), ('ableton', 7322), ('advertising', 7323), ('retarded', 7324), ('vodo', 7325), ('sleples', 7326), ('chanels', 7327), ('gw', 7328), ('rex', 7329), ('pd', 7330), ('82', 7331), ('gogled', 7332), ('cleveland', 7333), ('torta', 7334), ('godnite', 7335), ('boty', 7336), ('anticipation', 7337), ('shorty', 7338), ('overdo', 7339), ('philosophical', 7340), ('edits', 7341), ('migrane', 7342), ('nightlife', 7343), ('spur', 7344), (\"doc's\", 7345), ('poridge', 7346), ('pinhole', 7347), ('treatment', 7348), ('oj', 7349), ('sus', 7350), ('explanation', 7351), ('moral', 7352), (\"laura's\", 7353), ('hut', 7354), ('merch', 7355), (\"girl's\", 7356), ('omgsh', 7357), ('overdue', 7358), ('ava', 7359), ('enginer', 7360), ('chronicle', 7361), ('graph', 7362), ('crushed', 7363), ('dunk', 7364), ('wierd', 7365), ('disposable', 7366), (\"sis's\", 7367), ('norway', 7368), ('tri', 7369), ('tale', 7370), ('incorporate', 7371), ('fury', 7372), ('insert', 7373), ('berlin', 7374), ('gem', 7375), ('saga', 7376), ('repeatedly', 7377), ('davey', 7378), ('sherman', 7379), ('crunk', 7380), ('query', 7381), ('joyful', 7382), ('flo', 7383), ('werd', 7384), ('tick', 7385), ('louisiana', 7386), (\"susan's\", 7387), ('halelujah', 7388), ('strain', 7389), ('drawer', 7390), ('presale', 7391), ('colnes', 7392), ('voucher', 7393), ('sadface', 7394), ('babysit', 7395), (\"sun's\", 7396), ('grenvile', 7397), ('hayes', 7398), ('harley', 7399), ('beg', 7400), ('3hrs', 7401), ('explorer', 7402), ('dolphin', 7403), ('trekquot', 7404), ('anouncing', 7405), ('plier', 7406), ('welt', 7407), ('ft', 7408), ('civic', 7409), ('throwdown', 7410), ('sothing', 7411), ('lastnight', 7412), ('runers', 7413), ('editor', 7414), ('wore', 7415), ('nih', 7416), ('hua', 7417), ('147', 7418), ('requirement', 7419), ('pokemon', 7420), ('30am', 7421), ('junkie', 7422), ('config', 7423), ('apologies', 7424), ('twitch', 7425), ('claw', 7426), ('dazle', 7427), ('rhyme', 7428), ('sketchy', 7429), ('chalet', 7430), ('hrm', 7431), ('floyd', 7432), ('awesomely', 7433), ('prescription', 7434), ('anti', 7435), ('microbe', 7436), (\"quotdon't\", 7437), ('lovey', 7438), ('seperate', 7439), ('tj', 7440), ('lancaster', 7441), ('poty', 7442), ('cindy', 7443), ('charlote', 7444), ('crane', 7445), ('regie', 7446), ('asholes', 7447), ('balon', 7448), ('quothide', 7449), ('deaf', 7450), ('picking', 7451), ('vida', 7452), ('lar', 7453), ('joel', 7454), ('aware', 7455), ('nuance', 7456), ('falow', 7457), ('vancity', 7458), ('sharon', 7459), ('quartet', 7460), ('graveyard', 7461), ('shuld', 7462), ('caleb', 7463), ('hinder', 7464), ('suncream', 7465), ('bias', 7466), ('albeit', 7467), ('favs', 7468), ('rusty', 7469), ('72', 7470), ('worker', 7471), ('coton', 7472), ('fiona', 7473), ('repinging', 7474), ('lava', 7475), ('bhb', 7476), ('retain', 7477), ('mercy', 7478), ('interupting', 7479), ('chant', 7480), ('apears', 7481), ('instaled', 7482), ('muso', 7483), ('mai', 7484), ('property', 7485), ('slideshow', 7486), ('preorder', 7487), ('buterflies', 7488), ('hiden', 7489), ('overated', 7490), ('sfo', 7491), ('usd', 7492), ('inadequate', 7493), ('popin', 7494), ('leicester', 7495), ('grek', 7496), ('volume', 7497), ('chalenges', 7498), ('gomez', 7499), ('lenovo', 7500), ('raft', 7501), ('109', 7502), ('tyl', 7503), ('condom', 7504), ('hosp', 7505), ('hawt', 7506), ('forsure', 7507), ('strongly', 7508), ('es', 7509), ('ped', 7510), ('sn', 7511), ('canvas', 7512), ('ob', 7513), ('listning', 7514), ('desperately', 7515), ('scholers', 7516), ('fiasco', 7517), ('fame', 7518), ('crib', 7519), ('jewelry', 7520), ('oldie', 7521), ('description', 7522), ('altho', 7523), ('wod', 7524), ('clique', 7525), ('excursion', 7526), ('ltltlt', 7527), ('ihave', 7528), ('blunt', 7529), ('operate', 7530), ('shark', 7531), ('buenas', 7532), ('noches', 7533), ('grief', 7534), ('iwas', 7535), ('invent', 7536), ('pusy', 7537), ('betle', 7538), ('sang', 7539), ('vivid', 7540), ('samy', 7541), ('coulda', 7542), ('noes', 7543), ('waitres', 7544), ('introduce', 7545), ('pulp', 7546), ('mickey', 7547), ('venezuela', 7548), ('netherlands', 7549), ('profesion', 7550), ('olivia', 7551), ('squirel', 7552), ('meditate', 7553), ('har', 7554), ('reflect', 7555), ('debut', 7556), ('trio', 7557), ('unintentionaly', 7558), ('fluid', 7559), ('decrease', 7560), ('chesecakes', 7561), ('whata', 7562), ('yeha', 7563), ('stale', 7564), (\"pj's\", 7565), ('vietnam', 7566), ('coldstone', 7567), ('pao', 7568), ('whose', 7569), ('brat', 7570), ('kev', 7571), ('steveo', 7572), ('ami', 7573), ('bailey', 7574), ('bonjour', 7575), ('grate', 7576), ('plugin', 7577), ('luvin', 7578), ('valid', 7579), ('victor', 7580), ('softbal', 7581), ('fidler', 7582), (\"schol's\", 7583), ('erors', 7584), ('bulk', 7585), ('itag', 7586), ('conections', 7587), ('hahahahahahaha', 7588), ('bent', 7589), ('subscription', 7590), ('shel', 7591), ('locate', 7592), ('sw', 7593), ('dash', 7594), ('superstar', 7595), ('bril', 7596), ('omgodnes', 7597), ('mohawk', 7598), ('plop', 7599), ('horde', 7600), ('invest', 7601), ('voegele', 7602), ('rocksquot', 7603), ('duvet', 7604), ('tad', 7605), ('blom', 7606), ('paso', 7607), ('dodger', 7608), ('2maro', 7609), ('ponder', 7610), ('remedy', 7611), ('paste', 7612), ('nuts', 7613), ('brent', 7614), ('quotstraight', 7615), ('starflet', 7616), ('belinda', 7617), ('jensen', 7618), ('auction', 7619), ('who', 7620), ('shatner', 7621), ('weapon', 7622), ('taner', 7623), ('panther', 7624), ('diesel', 7625), ('suv', 7626), ('pens', 7627), ('tower', 7628), ('permit', 7629), ('surface', 7630), ('leah', 7631), ('detox', 7632), ('chk', 7633), ('stayin', 7634), ('nigas', 7635), ('elevate', 7636), ('globe', 7637), ('icant', 7638), ('recognition', 7639), ('thesis', 7640), ('meme', 7641), ('graham', 7642), ('diploma', 7643), ('irony', 7644), ('gigantic', 7645), ('float', 7646), ('afteral', 7647), ('spa', 7648), ('golfing', 7649), ('somatic', 7650), ('xoxoxo', 7651), ('vacines', 7652), ('physio', 7653), ('shelter', 7654), ('kery', 7655), ('03', 7656), ('malaysian', 7657), ('northern', 7658), ('downpour', 7659), ('psych', 7660), ('buritos', 7661), ('mtn', 7662), ('ash', 7663), ('custom', 7664), ('straighten', 7665), ('subtle', 7666), ('1th', 7667), ('fantasy', 7668), ('kat', 7669), ('erie', 7670), ('throb', 7671), ('confusion', 7672), ('tactic', 7673), ('loving', 7674), ('maners', 7675), ('jackie', 7676), ('oregon', 7677), ('hostel', 7678), ('musiq', 7679), ('soulchild', 7680), ('sweatshirt', 7681), ('runer', 7682), ('rez', 7683), ('dols', 7684), ('sumit', 7685), ('mumies', 7686), ('absolutly', 7687), ('vol', 7688), ('aplaud', 7689), ('render', 7690), ('cacs', 7691), ('underneath', 7692), ('recal', 7693), ('jones', 7694), ('rainforest', 7695), ('advertise', 7696), ('68', 7697), ('trumpet', 7698), ('postal', 7699), ('snivel', 7700), ('midterm', 7701), ('12am', 7702), ('roflmao', 7703), ('corruption', 7704), ('enchantment', 7705), ('approximate_range', 7706), ('real_number', 7707), ('entangle', 7708), ('rotter', 7709), ('annex', 7710), ('credit_rating', 7711), ('apparel', 7712), ('infrastructure', 7713), ('picket', 7714), ('victimize', 7715), ('defy', 7716), ('regale', 7717), ('press_out', 7718), ('fooling', 7719), ('shimmer', 7720), ('plank', 7721), ('erstwhile', 7722), ('secondary_school', 7723), ('brainsick', 7724), ('keep_open', 7725), ('get_in_touch', 7726), ('metallic_element', 7727), ('change_by_reversal', 7728), ('flying', 7729), ('alert', 7730), ('baseball_swing', 7731), ('childlike', 7732), ('articulation', 7733), ('contiguous', 7734), ('cubic_yard', 7735), ('scandal', 7736), ('commission', 7737), ('radio_link', 7738), ('collocate', 7739), ('one-third', 7740), ('whiten', 7741), ('dampen', 7742), ('parking_lot', 7743), ('identical', 7744), ('slop', 7745), ('holy_place', 7746), ('password', 7747), ('snap_up', 7748), ('morsel', 7749), ('agitation', 7750), ('eminence', 7751), ('grimace', 7752), ('crackpot', 7753), ('stopcock', 7754), ('path', 7755), ('reputation', 7756), ('fall', 7757), ('feel_for', 7758), ('presuppose', 7759), ('magic_trick', 7760), ('tent-fly', 7761), ('termination', 7762), ('root', 7763), ('egg_white', 7764), ('bewilder', 7765), ('slipstream', 7766), ('crevice', 7767), ('distributor_point', 7768), ('military_post', 7769), ('endow', 7770), ('nominate', 7771), ('ladder', 7772), ('nitrogen', 7773), ('methamphetamine', 7774), ('spectator', 7775), ('filmdom', 7776), ('consign', 7777), ('across-the-board', 7778), ('give_voice', 7779), ('boron', 7780), ('interrogate', 7781), ('consortium', 7782), ('aristocratic', 7783), ('marry', 7784), ('put_option', 7785), ('bus_topology', 7786), ('myocardial_infarction', 7787), ('esteem', 7788), ('television_camera', 7789), ('harp', 7790), ('bankrupt', 7791), ('malleus', 7792), ('annoy', 7793), ('outback', 7794), ('digression', 7795), ('bolshevik', 7796), ('flannel', 7797), ('colleague', 7798), ('bivalent', 7799), ('skeletal_system', 7800), ('vitamin_e', 7801), ('decameter', 7802), ('appoint', 7803), ('simulate', 7804), ('northwest', 7805), ('tuberosity', 7806), ('chastise', 7807), ('loiter', 7808), ('occupy', 7809), ('supporter', 7810), ('calculate', 7811), ('localization_of_function', 7812), ('change_state', 7813), ('eagle-eyed', 7814), ('pinko', 7815), ('unhorse', 7816), ('circulate', 7817), ('stele', 7818), ('dramaturgy', 7819), ('reconstruct', 7820), ('repel', 7821), ('hang-up', 7822), ('arrange', 7823), ('dredge', 7824), ('telephone', 7825), ('feign', 7826), ('thorax', 7827), ('web_site', 7828), ('flank', 7829), ('beginning', 7830), ('sea_mile', 7831), ('third_gear', 7832), ('naturally', 7833), ('ball-shaped', 7834), ('hang_glide', 7835), ('reliable', 7836), ('flee', 7837), ('pennywhistle', 7838), ('reap', 7839), ('succeed', 7840), ('appreciation', 7841), ('europium', 7842), ('substitute', 7843), ('plow', 7844), ('address', 7845), ('insofar', 7846), ('forfeit', 7847), ('busbar', 7848), ('dispatch', 7849), ('imposter', 7850), ('laced', 7851), ('remote_control', 7852), ('beggarly', 7853), ('footrace', 7854), ('assortment', 7855), ('lavish', 7856), ('chasten', 7857), ('chest_of_drawers', 7858), ('blueprint', 7859), ('reprieve', 7860), ('stake', 7861), ('safety_valve', 7862), ('lease', 7863), ('fledge', 7864), ('seven-spot', 7865), ('tati', 7866), ('etown', 7867), ('listquot', 7868), ('tym', 7869), ('maxim', 7870), ('bracket', 7871), ('shalow', 7872), ('inevitable', 7873), ('rental', 7874), ('lite', 7875), (\"sa'we\", 7876), ('castelvania', 7877), ('105', 7878), ('louise', 7879), ('comercials', 7880), ('raleigh', 7881), ('upgraded', 7882), ('wilber', 7883), ('ps', 7884), ('dearly', 7885), (\"blog's\", 7886), ('ermintrude', 7887), ('netbok', 7888), ('shiz', 7889), ('hgtv', 7890), ('carpenter', 7891), ('graduatingampits', 7892), ('heartbut', 7893), ('exited', 7894), (\"cd's\", 7895), ('spear', 7896), ('maxin', 7897), ('beatles', 7898), (\"jack's\", 7899), ('lulu', 7900), ('orphan', 7901), ('cracker', 7902), ('pisy', 7903), (\"g'nite\", 7904), ('feast', 7905), ('pam', 7906), ('recruit', 7907), ('geks', 7908), ('caramel', 7909), ('guidance', 7910), ('quotgrenquot', 7911), ('proximately', 7912), ('adaptation', 7913), ('quotshut', 7914), ('bam', 7915), ('multi', 7916), ('paparazi', 7917), ('tabloid', 7918), ('rash', 7919), ('payment', 7920), ('disturb', 7921), ('fishing', 7922), ('gumy', 7923), ('hive', 7924), ('nikon', 7925), ('blockbuster', 7926), ('strength', 7927), ('oxford', 7928), ('20mins', 7929), ('february', 7930), ('crisis', 7931), ('hul', 7932), ('nightly', 7933), ('playof', 7934), ('ultimatum', 7935), ('vh1', 7936), ('criminal', 7937), ('saynow', 7938), ('triger', 7939), ('mrsal', 7940), ('65', 7941), ('irvine', 7942), ('landscape', 7943), ('judy', 7944), ('sings', 7945), ('hash', 7946), ('yaya', 7947), ('extension', 7948), ('tackle', 7949), ('bun', 7950), ('everbody', 7951), ('kan', 7952), ('darknes', 7953), ('privacy', 7954), ('guarantee', 7955), ('grind', 7956), ('frightful', 7957), ('decant', 7958), ('peer', 7959), (\"ship's_company\", 7960), ('exclaim', 7961), ('petroleum', 7962), ('colon', 7963), ('redirect', 7964), ('field_day', 7965), ('euchre', 7966), ('holmium', 7967), ('gladiolus', 7968), ('timbre', 7969), ('mangle', 7970), ('cull_out', 7971), ('wallow', 7972), ('right_to_vote', 7973), ('acknowledge', 7974), ('district_attorney', 7975), ('ady', 7976), (\"aple's\", 7977), ('comenting', 7978), ('atlantic', 7979), ('comand', 7980), ('define', 7981), ('cr', 7982), ('buts', 7983), ('twiterer', 7984), ('piercings', 7985), (\"jared's\", 7986), ('progresive', 7987), ('baha', 7988), ('waterfront', 7989), ('ra', 7990), (\"ben's\", 7991), ('1hr', 7992), ('132', 7993), ('rabits', 7994), ('35mins', 7995), ('enought', 7996), ('telecom', 7997), ('bhai', 7998), ('rabies', 7999), ('catwalk', 8000), ('tortila', 8001), ('berkeley', 8002), ('cum', 8003), ('15hrs', 8004), ('0h', 8005), ('sharp', 8006), ('sharpen', 8007), ('pencil', 8008), ('momo', 8009), ('lala', 8010), ('minimal', 8011), ('quotbecause', 8012), ('soquot', 8013), ('threw', 8014), ('hairspray', 8015), ('pilate', 8016), ('infect', 8017), ('godquot', 8018), ('sermon', 8019), ('helsinki', 8020), ('chevy', 8021), ('adapt', 8022), ('derbyshire', 8023), ('prodigy', 8024), ('decently', 8025), (\"so's\", 8026), ('pasty', 8027), ('muhahaha', 8028), ('aron', 8029), ('courtney', 8030), ('marshal', 8031), ('jaw', 8032), ('traveling', 8033), ('castiel', 8034), ('fela', 8035), ('defeat', 8036), ('polo', 8037), ('bcit', 8038), ('oakland', 8039), ('jansen', 8040), ('confesional', 8041), ('soy', 8042), ('stomache', 8043), ('craptastic', 8044), ('yip', 8045), ('dodgy', 8046), ('usage', 8047), ('wieters', 8048), ('aboard', 8049), ('mamals', 8050), ('checkout', 8051), ('silverlight', 8052), ('wesley', 8053), ('blew', 8054), ('eastern', 8055), ('meredith', 8056), ('gruby', 8057), ('rotation', 8058), ('posted', 8059), ('travesty', 8060), ('nav', 8061), ('5mins', 8062), ('inherent', 8063), ('probobly', 8064), ('hatch', 8065), ('vacumed', 8066), ('shoper', 8067), ('internetz', 8068), ('quotgirlsquot', 8069), ('grit', 8070), (\"day's\", 8071), ('sensitive', 8072), ('empathy', 8073), ('tomoz', 8074), ('wosy', 8075), ('controversial', 8076), ('airplane', 8077), ('flors', 8078), ('giver', 8079), ('yopu', 8080), ('crazi', 8081), ('colab', 8082), ('nitey', 8083), ('buba', 8084), ('amorsote', 8085), ('eighty', 8086), ('3k', 8087), ('tonigh', 8088), ('revelation', 8089), (\"who've\", 8090), ('ciroc', 8091), ('unholy', 8092), ('minish', 8093), ('chapel', 8094), ('bask', 8095), ('spedy', 8096), ('som', 8097), ('spielburg', 8098), ('lary', 8099), ('ovum', 8100), ('crowdsourcing', 8101), ('lacey', 8102), ('gash', 8103), ('huntsvile', 8104), ('waldoquot', 8105), ('ckcquot', 8106), ('raider', 8107), ('quothe', 8108), ('publicly', 8109), ('sophia', 8110), ('demolish', 8111), ('749am', 8112), ('whatcha', 8113), ('trang', 8114), ('gov', 8115), ('615', 8116), ('fondue', 8117), ('domed', 8118), ('humanity', 8119), ('emotionaly', 8120), ('asuming', 8121), ('lotr', 8122), ('plague', 8123), ('getcha', 8124), ('unbreakable', 8125), ('cs', 8126), ('cowbel', 8127), ('ambien', 8128), (\"urban's\", 8129), ('roi', 8130), ('zwarte', 8131), ('mailot', 8132), ('photobok', 8133), ('backlog', 8134), ('bastos', 8135), ('hobit', 8136), ('xml', 8137), ('liner', 8138), ('dmb', 8139), ('antony', 8140), ('[person]son', 8141), ('midget', 8142), ('smfh', 8143), ('fightin', 8144), ('finequot', 8145), ('banking', 8146), ('urbana', 8147), ('2m', 8148), ('watson', 8149), ('mead', 8150), ('folio', 8151), ('poland', 8152), ('mj', 8153), ('uve', 8154), ('itsucks', 8155), ('obligation', 8156), ('unload', 8157), ('secondary', 8158), ('anop', 8159), ('kardashian', 8160), ('tmorow', 8161), ('erase', 8162), ('craigslist', 8163), ('uo', 8164), ('flicitations', 8165), ('halmark', 8166), ('toughie', 8167), ('posit', 8168), ('strand', 8169), ('spec', 8170), (\"kity's\", 8171), ('parental', 8172), ('yous', 8173), ('scrol', 8174), ('asemble', 8175), ('jarid', 8176), ('fk', 8177), ('gigling', 8178), ('tasmania', 8179), ('pardon', 8180), ('confuzled', 8181), ('jbs', 8182), ('huf', 8183), ('earthquake', 8184), ('pita', 8185), ('euphoria', 8186), ('barie', 8187), ('smothies', 8188), ('cebu', 8189), ('timthumb', 8190), ('topgear', 8191), ('recorder', 8192), ('kingston', 8193), ('ulet', 8194), ('thatquot', 8195), ('amused', 8196), ('akon', 8197), ('bien', 8198), ('ques', 8199), (\"lauren's\", 8200), ('sudafed', 8201), ('questionable', 8202), ('sleve', 8203), ('licensing', 8204), ('jackshit', 8205), ('ruf', 8206), ('detour', 8207), ('gameboy', 8208), ('whiskey', 8209), ('adt', 8210), ('liar', 8211), ('ignorant', 8212), ('whah', 8213), ('rope', 8214), ('teaching', 8215), ('naping', 8216), ('lonley', 8217), ('mono', 8218), ('aranged', 8219), ('southland', 8220), ('carla', 8221), ('tminus', 8222), ('om', 8223), ('arnt', 8224), ('paypal', 8225), (\"lady's\", 8226), ('fingernail', 8227), ('smushed', 8228), ('gretel', 8229), ('nuty', 8230), ('godawful', 8231), ('episodes', 8232), ('630am', 8233), ('colapses', 8234), ('ira', 8235), ('lindsay', 8236), ('fansite', 8237), ('peru', 8238), ('bcause', 8239), ('born', 8240), ('shiver', 8241), ('brochure', 8242), ('mojito', 8243), ('isi', 8244), ('tapeworm', 8245), ('kix', 8246), ('buzed', 8247), ('klein', 8248), ('luh', 8249), ('heir', 8250), ('enuf', 8251), ('quotlong', 8252), ('shocked', 8253), ('damper', 8254), ('spoiler', 8255), ('mulch', 8256), ('maxwel', 8257), ('mio', 8258), ('63', 8259), ('tosh', 8260), ('wingstop', 8261), ('resteraunt', 8262), ('niley', 8263), ('aidan', 8264), ('genre', 8265), ('dixon', 8266), ('safeway', 8267), ('crust', 8268), ('dustbin', 8269), ('whatnot', 8270), ('striper', 8271), ('tunel', 8272), ('casidy', 8273), (\"britney's\", 8274), ('pusher', 8275), ('authority', 8276), ('tivo', 8277), ('skyping', 8278), ('katies', 8279), ('lik', 8280), ('twirl', 8281), ('rickbaker', 8282), ('otha', 8283), ('princeton', 8284), ('jols', 8285), ('wining', 8286), ('comedyquen', 8287), ('teny', 8288), ('outstanding', 8289), ('sories', 8290), ('whys', 8291), ('705', 8292), ('finde', 8293), ('chicas', 8294), ('odysey', 8295), ('rolerblading', 8296), ('consultant', 8297), (\"quotwe'l\", 8298), ('lunchquot', 8299), ('mang', 8300), ('dodge', 8301), ('meatbals', 8302), ('bulky', 8303), ('sud', 8304), (\"jackson's\", 8305), ('shuck', 8306), ('pmsl', 8307), ('wol', 8308), ('stash', 8309), ('newtown', 8310), ('spaz', 8311), ('789', 8312), ('taking', 8313), ('boiler', 8314), ('bia', 8315), ('poetic', 8316), ('aots', 8317), ('isle', 8318), ('mediteranean', 8319), ('sabeth', 8320), ('puzles', 8321), ('hysterical', 8322), ('suitcase', 8323), ('budhist', 8324), ('frapucino', 8325), ('ims', 8326), ('mischevious', 8327), ('jazy', 8328), ('mimis', 8329), ('marisa', 8330), ('filing', 8331), ('apointments', 8332), ('migranes', 8333), ('paperback', 8334), ('mach', 8335), ('grandaughter', 8336), ('trufles', 8337), ('neuro', 8338), ('technician', 8339), ('helicopter', 8340), ('smoches', 8341), ('itd', 8342), ('sia', 8343), ('ulcer', 8344), ('weve', 8345), ('scholing', 8346), ('twetstats', 8347), ('suspected', 8348), ('ht', 8349), ('banda', 8350), ('mundo', 8351), ('bem', 8352), ('magnet', 8353), ('pointy', 8354), ('relient', 8355), ('bulet', 8356), ('cp', 8357), ('trivia', 8358), ('bri', 8359), ('choco', 8360), ('various', 8361), ('yankes', 8362), ('rearanging', 8363), ('postcard', 8364), ('ouchie', 8365), ('touching', 8366), ('foreal', 8367), ('heidi', 8368), ('cincy', 8369), ('liter', 8370), ('2d', 8371), ('productivity', 8372), ('bris', 8373), ('omq', 8374), ('4got', 8375), ('seventen', 8376), ('cambridge', 8377), ('sri', 8378), (\"c's\", 8379), ('tething', 8380), ('disgrace', 8381), ('quer', 8382), ('dez', 8383), ('bod', 8384), ('fashioned', 8385), ('pigeon', 8386), ('scroly', 8387), ('dice', 8388), ('sogy', 8389), ('howeva', 8390), ('fatigue', 8391), ('setling', 8392), ('nero', 8393), ('liep', 8394), ('zojuist', 8395), ('estonia', 8396), ('doubtful', 8397), ('snoring', 8398), ('southpark', 8399), ('nimoy', 8400), ('atract', 8401), ('durin', 8402), ('cardboard', 8403), ('faceboking', 8404), ('probable', 8405), ('tenant', 8406), ('taning', 8407), ('adition', 8408), ('pratical', 8409), ('becos', 8410), ('skola', 8411), ('impt', 8412), ('operational', 8413), ('iq', 8414), ('aproximately', 8415), ('touchin', 8416), ('hte', 8417), ('stomp', 8418), ('balet', 8419), ('flap', 8420), ('waikiki', 8421), ('kansas', 8422), ('impose', 8423), ('motherstobe', 8424), ('ernie', 8425), ('reyes', 8426), ('marky', 8427), ('scarf', 8428), ('hijack', 8429), ('adriana', 8430), ('01', 8431), ('precise', 8432), ('hafiz', 8433), ('arays', 8434), ('obnoxious', 8435), ('wedings', 8436), ('eternaly', 8437), ('hada', 8438), ('botcon', 8439), ('lahiran', 8440), ('kayaknya', 8441), ('sih', 8442), ('ini', 8443), ('swon', 8444), ('leslie', 8445), ('sxsw', 8446), ('0f', 8447), ('holder', 8448), ('adon', 8449), (\"forum's\", 8450), ('nico', 8451), ('alexander', 8452), ('nitin', 8453), ('boyle', 8454), ('festivity', 8455), ('meadowhal', 8456), ('socal', 8457), ('bwahah', 8458), ('jackas', 8459), ('vogue', 8460), ('folowup', 8461), ('don', 8462), ('quotthank', 8463), ('scandalous', 8464), (\"husband's\", 8465), ('pheasant', 8466), ('stamen', 8467), ('quotcasouletquot', 8468), ('kubuntu', 8469), ('culed', 8470), ('nsfw', 8471), ('alrighty', 8472), ('bubled', 8473), ('blankie', 8474), ('rasberies', 8475), ('understanding', 8476), ('para', 8477), ('serena', 8478), ('darian', 8479), ('confes', 8480), ('bandwidth', 8481), ('poisoning', 8482), ('945', 8483), ('pap', 8484), ('tightly', 8485), ('gavin', 8486), ('ganda', 8487), ('misus', 8488), ('fuk', 8489), ('btches', 8490), ('sugarfre', 8491), ('falin', 8492), ('mak', 8493), ('peacock', 8494), ('conchords', 8495), ('carson', 8496), ('mariner', 8497), ('corupted', 8498), ('daylight', 8499), ('okai', 8500), ('notorious', 8501), ('suite', 8502), ('deodorant', 8503), ('interactive', 8504), ('quotkind', 8505), ('guysquot', 8506), (\"corespondent's\", 8507), ('implode', 8508), ('esa', 8509), (\"how're\", 8510), ('sheit', 8511), ('ahn', 8512), ('cie', 8513), ('chemo', 8514), ('tribute', 8515), ('parody', 8516), ('kse', 8517), ('transit', 8518), ('nasal', 8519), ('tab', 8520), ('dmed', 8521), ('superpower', 8522), ('76', 8523), ('geometry', 8524), ('apstore', 8525), ('puzle', 8526), ('underwod', 8527), ('greatnes', 8528), ('glowing', 8529), ('ihop', 8530), ('shrug', 8531), ('cob', 8532), ('alexi', 8533), ('pyjama', 8534), ('teletubies', 8535), ('celtic', 8536), ('alisa', 8537), ('pruning', 8538), ('quotgodquot', 8539), ('krispy', 8540), ('kreme', 8541), ('geli', 8542), ('ninetenth', 8543), ('impatiently', 8544), ('chinatown', 8545), ('startin', 8546), ('samsung', 8547), ('omnia', 8548), ('slut', 8549), ('klutz', 8550), ('fus', 8551), ('thres', 8552), ('frenz', 8553), ('sipin', 8554), ('kuya', 8555), ('chancequot', 8556), ('taught', 8557), ('cologne', 8558), ('badluck', 8559), ('wowzer', 8560), ('gangster', 8561), ('optimistic', 8562), ('fiction', 8563), ('murphy', 8564), (\"you's\", 8565), ('930pm', 8566), ('alrightquot', 8567), ('divshite', 8568), ('arses', 8569), ('vice', 8570), ('quake', 8571), ('bulied', 8572), ('grave', 8573), ('hobo', 8574), ('bolywod', 8575), ('egyptian', 8576), ('jonaswebcast', 8577), ('ltnever', 8578), ('pajama', 8579), ('neglected', 8580), ('christianity', 8581), ('eternal', 8582), ('bandwagon', 8583), ('scrable', 8584), ('jew', 8585), ('2,0', 8586), ('squat', 8587), ('tunage', 8588), ('telemarketers', 8589), ('zemote', 8590), ('dismised', 8591), ('caro', 8592), ('ich', 8593), ('auch', 8594), ('zu', 8595), ('scoby', 8596), ('haf', 8597), ('maryjane', 8598), ('stupidly', 8599), ('barbecue', 8600), ('proposal', 8601), ('junejuly', 8602), ('caf', 8603), ('ahg', 8604), ('behalf', 8605), ('duber', 8606), ('klondike', 8607), ('twn', 8608), ('trilogy', 8609), ('aroundquot', 8610), ('wops', 8611), ('can', 8612), ('asumes', 8613), ('quotlolquot', 8614), ('intent', 8615), ('crate', 8616), ('richmond', 8617), ('gmt', 8618), ('kg', 8619), ('oposite', 8620), ('peg', 8621), ('mondayquot', 8622), ('signature', 8623), ('adoption', 8624), ('quoteveryone', 8625), ('croning', 8626), ('enrol', 8627), ('cory', 8628), (\"want's\", 8629), ('unread', 8630), ('reagan', 8631), ('brawl', 8632), ('perfection', 8633), ('winwod', 8634), ('clapton', 8635), ('roulete', 8636), ('cgi', 8637), ('twetbeaks', 8638), ('hopfuly', 8639), ('disconecting', 8640), ('ebok', 8641), ('clay', 8642), ('darius', 8643), ('boyfran', 8644), ('bsc', 8645), ('arcade', 8646), ('coupla', 8647), ('autumn', 8648), ('vince', 8649), ('nicholas', 8650), ('cameron', 8651), ('tornado', 8652), (\"bed's\", 8653), ('coop', 8654), ('akc', 8655), ('overuled', 8656), ('sprinkler', 8657), ('terence', 8658), ('mondays', 8659), ('ruth', 8660), ('bung', 8661), ('687', 8662), ('milky', 8663), ('plaza', 8664), ('expansion', 8665), ('tracy', 8666), ('imy', 8667), ('tinytwiter', 8668), ('portrait', 8669), ('lyne', 8670), (\"how'd\", 8671), ('fibe', 8672), ('fist', 8673), ('abide', 8674), ('loly', 8675), ('aguilera', 8676), ('reinforce', 8677), ('108', 8678), ('nurofen', 8679), ('us', 8680), ('fierce', 8681), ('blake', 8682), ('shotgun', 8683), ('avocado', 8684), ('hairdresers', 8685), ('luncheon', 8686), ('cheses', 8687), (\"quotyou're\", 8688), ('mart', 8689), ('gamequot', 8690), ('minuet', 8691), ('receipt', 8692), ('smoker', 8693), ('nerdy', 8694), ('quotnow', 8695), ('mya', 8696), ('gfriend', 8697), ('snot', 8698), ('cranky', 8699), ('qod', 8700), ('60th', 8701), ('rebel', 8702), ('valuable', 8703), ('5km', 8704), ('qdoba', 8705), ('qtip', 8706), ('ichat', 8707), ('lube', 8708), ('patchouli', 8709), ('thay', 8710), ('membership', 8711), ('jumbo', 8712), (\"what'd\", 8713), ('angie', 8714), ('presten', 8715), ('abuz', 8716), ('prayin', 8717), ('wely', 8718), ('fiscaly', 8719), ('truely', 8720), ('silverstein', 8721), ('romanticaly', 8722), ('quotgive', 8723), ('bugers', 8724), ('aqui', 8725), ('paralel', 8726), ('nuthin', 8727), ('repierced', 8728), ('boiling', 8729), ('mahal', 8730), ('injure', 8731), ('warhamer', 8732), ('skateboard', 8733), ('shish', 8734), ('shen', 8735), ('lumberjack', 8736), ('73', 8737), ('sunbeam', 8738), ('dorm', 8739), ('asure', 8740), ('sophomore', 8741), ('mayo', 8742), ('prioritize', 8743), ('orleans', 8744), ('claudia', 8745), ('vin', 8746), ('r2', 8747), ('unleashed', 8748), ('apealing', 8749), (\"david's\", 8750), ('programing', 8751), ('epicentre', 8752), ('whelock', 8753), ('charleston', 8754), ('wonderfuly', 8755), ('foled', 8756), ('suks', 8757), ('wong', 8758), ('vat', 8759), ('layin', 8760), ('txtin', 8761), ('tsk', 8762), ('gidy', 8763), ('padang', 8764), ('quotshateredquot', 8765), ('grils', 8766), ('vocab', 8767), ('chaya', 8768), ('violently', 8769), ('leftover', 8770), ('folish', 8771), ('ano', 8772), ('kaya', 8773), ('procesor', 8774), ('ignorance', 8775), ('1230am', 8776), (\"brain's\", 8777), ('x64', 8778), ('cs4', 8779), ('suprised', 8780), ('cloth', 8781), ('maven', 8782), ('embed', 8783), ('rumage', 8784), ('wahahaha', 8785), ('gio', 8786), ('discrimination', 8787), ('munchin', 8788), ('oliver', 8789), ('peny', 8790), ('kong', 8791), ('slamin', 8792), ('satan', 8793), ('instalation', 8794), ('endometriosis', 8795), ('visible', 8796), ('nekid', 8797), ('douchebag', 8798), ('miranda', 8799), ('wgn', 8800), ('stresin', 8801), ('xfiles', 8802), ('fanta', 8803), ('ribena', 8804), ('charlies', 8805), ('canibal', 8806), ('sue', 8807), ('unparaleled', 8808), ('polite', 8809), ('madina', 8810), ('tucker', 8811), ('hurtin', 8812), ('caption', 8813), ('inlove', 8814), ('compose', 8815), ('madrigal', 8816), ('chils', 8817), ('alumnus', 8818), ('borowed', 8819), ('quotstop', 8820), ('overturn', 8821), ('conheo', 8822), ('noiva', 8823), ('loic', 8824), ('sab', 8825), ('estas', 8826), ('malta', 8827), ('cruiser', 8828), ('antique', 8829), ('pocketwit', 8830), ('fwiends', 8831), ('witnesing', 8832), ('historical', 8833), ('picolo', 8834), ('roundtable', 8835), ('calen', 8836), ('gofy', 8837), ('aly', 8838), ('elaine', 8839), ('yacht', 8840), ('quarantine', 8841), ('cadbury', 8842), ('adobe', 8843), ('spiritual', 8844), ('dart', 8845), ('shiter', 8846), ('dining', 8847), ('monson', 8848), ('620', 8849), ('whyareyoustilhere', 8850), ('ec', 8851), ('jajaja', 8852), ('quoteasy', 8853), ('carequot', 8854), ('planer', 8855), ('asimilated', 8856), ('telin', 8857), ('matine', 8858), ('rejoice', 8859), ('quotse', 8860), ('2gether', 8861), ('stile', 8862), ('hibernate', 8863), ('botcamp', 8864), ('misions', 8865), ('ntn', 8866), ('fails', 8867), ('oatmeal', 8868), ('snugles', 8869), ('withstand', 8870), ('rediculous', 8871), ('shuder', 8872), ('feliz', 8873), ('madres', 8874), ('element', 8875), ('wacom', 8876), ('producedirectfilmedit', 8877), ('cordinate', 8878), ('feti', 8879), ('military', 8880), ('badminton', 8881), ('makerfaire', 8882), ('recharge', 8883), ('lololol', 8884), ('evict', 8885), ('dependent', 8886), ('isquot', 8887), ('dmc', 8888), ('anxiously', 8889), ('quotbad', 8890), ('elton', 8891), ('tofu', 8892), (\"jax's\", 8893), ('fuji', 8894), ('dreadfuly', 8895), ('lenses', 8896), ('prac', 8897), ('mos', 8898), ('hin', 8899), ('pleasanton', 8900), ('stain', 8901), ('1,0', 8902), ('indor', 8903), ('lovingly', 8904), ('harased', 8905), ('skank', 8906), ('tinkerbel', 8907), ('solange', 8908), (\"father's\", 8909), ('grom', 8910), ('seting', 8911), ('stimulate', 8912), ('aro', 8913), ('slouchy', 8914), (\"z's\", 8915), ('wider', 8916), ('rehab', 8917), ('namaste', 8918), ('nancy', 8919), ('theo', 8920), ('bop', 8921), ('yaynes', 8922), ('gaskarth', 8923), ('vital', 8924), ('quotdquot', 8925), ('wretched', 8926), ('pci', 8927), ('openhacklondon', 8928), ('profesionals', 8929), ('journalism', 8930), ('windshield', 8931), ('wiper', 8932), ('coin', 8933), ('ir', 8934), ('destiny', 8935), ('jenifer', 8936), ('phils', 8937), ('squash', 8938), ('ohwel', 8939), ('pasengers', 8940), ('usc', 8941), ('terabyte', 8942), ('enhance', 8943), ('api', 8944), ('gown', 8945), ('unlock', 8946), ('wos', 8947), ('metup', 8948), ('candis', 8949), ('foreigner', 8950), ('xmsirius', 8951), ('horendous', 8952), ('kwod', 8953), ('positivity', 8954), ('biking', 8955), ('fruity', 8956), ('pebles', 8957), ('cherleading', 8958), ('104', 8959), ('stripey', 8960), ('tutu', 8961), ('tighten', 8962), ('1215', 8963), ('fcking', 8964), ('nogin', 8965), ('andre', 8966), ('viable', 8967), ('ted', 8968), ('romates', 8969), ('absence', 8970), (\"del's\", 8971), ('blogers', 8972), ('panel', 8973), ('unavailable', 8974), ('judith', 8975), ('governor', 8976), ('gently', 8977), ('raty', 8978), ('snifles', 8979), ('lmk', 8980), ('ilnes', 8981), ('lorenzo', 8982), ('jarvis', 8983), ('jas', 8984), ('kraut', 8985), ('winston', 8986), ('oxymoron', 8987), ('startup', 8988), ('felows', 8989), ('seventh', 8990), (\"friday's\", 8991), ('indedy', 8992), ('siren', 8993), ('covergirl', 8994), ('hilquot', 8995), ('javascript', 8996), ('korn', 8997), ('plato', 8998), ('sesmic', 8999), ('keper', 9000), ('misconstrue', 9001), ('briliantly', 9002), ('frasier', 9003), ('groveshark', 9004), ('ky', 9005), ('influence', 9006), ('clasical', 9007), ('knockout', 9008), ('mechanic', 9009), ('khng', 9010), ('sesh', 9011), ('walpapers', 9012), ('degeneres', 9013), ('unbelievable', 9014), ('conquer', 9015), ('custard', 9016), ('regae', 9017), ('smothnes', 9018), ('quotwait', 9019), ('stoked', 9020), ('cudve', 9021), ('kdg', 9022), ('ito', 9023), ('exposure', 9024), ('anchor', 9025), ('efron', 9026), ('paralels', 9027), ('quotunityquotmode', 9028), (\"dosen't\", 9029), ('yvone', 9030), ('stufier', 9031), ('stability', 9032), ('quotso', 9033), ('whit', 9034), ('whos', 9035), ('algebra', 9036), ('playofs', 9037), ('beating', 9038), ('up', 9039), ('jurasic', 9040), ('shitload', 9041), ('fangirl', 9042), ('fgs', 9043), ('statue', 9044), ('menace', 9045), ('funtime', 9046), ('sundays', 9047), ('pesky', 9048), ('vai', 9049), ('asumptions', 9050), ('heathrow', 9051), ('smeling', 9052), ('acumulating', 9053), ('superbad', 9054), ('pounce', 9055), ('tania', 9056), ('haunt', 9057), ('85', 9058), ('mustard', 9059), ('bsg', 9060), ('dependable', 9061), ('gracious', 9062), ('lafayete', 9063), ('osbourne', 9064), ('nervousnes', 9065), ('absurd', 9066), ('specialy', 9067), ('60gb', 9068), ('playstation', 9069), ('strugle', 9070), ('quotreturn', 9071), ('bonie', 9072), ('diary', 9073), ('p9', 9074), ('danica', 9075), ('elses', 9076), ('glena', 9077), ('macy', 9078), ('played', 9079), ('clasmate', 9080), ('namaskar', 9081), ('marathi', 9082), ('motor', 9083), ('navy', 9084), ('asia', 9085), ('eloise', 9086), ('64bit', 9087), ('vtx', 9088), ('chelsey', 9089), ('diversity', 9090), ('ciao', 9091), ('republic', 9092), ('flesh', 9093), ('evolution', 9094), ('chez', 9095), ('halucination', 9096), ('epi', 9097), ('munchkins', 9098), ('madaya', 9099), ('pala', 9100), ('varsity', 9101), ('fanclub', 9102), ('chaufeur', 9103), ('aubrey', 9104), ('quotabsence', 9105), ('dumy', 9106), ('evernoteeyefi', 9107), (\"nina's\", 9108), ('nada', 9109), ('quotdrag', 9110), ('helquot', 9111), ('fourten', 9112), ('ble', 9113), ('starting', 9114), ('blu', 9115), ('snob', 9116), ('wd', 9117), ('snuglin', 9118), ('blowin', 9119), ('ustream', 9120), ('photovia', 9121), ('spels', 9122), ('guyz', 9123), ('workload', 9124), ('za', 9125), ('li', 9126), ('pitcher', 9127), ('sowie', 9128), ('worked', 9129), ('aagh', 9130), ('aircon', 9131), ('adium', 9132), ('holdin', 9133), (\"ma's\", 9134), ('chico', 9135), ('shadow', 9136), ('notingham', 9137), ('niamh', 9138), ('ard', 9139), ('quotlive', 9140), ('fifty', 9141), ('brightly', 9142), ('poch', 9143), ('sana', 9144), (\"nick's\", 9145), ('anouncement', 9146), ('skye', 9147), ('knew', 9148), ('lifesaver', 9149), ('nokia', 9150), ('buyin', 9151), ('familia', 9152), ('deper', 9153), ('aley', 9154), ('prima', 9155), ('bifocals', 9156), ('over', 9157), ('539', 9158), ('shaw', 9159), ('dome', 9160), ('tayo', 9161), ('firmly', 9162), ('chino', 9163), ('dental', 9164), ('flos', 9165), ('ledge', 9166), ('napa', 9167), ('violence', 9168), ('monfri', 9169), ('nan', 9170), ('daywek', 9171), ('youve', 9172), ('bipolar', 9173), ('rank', 9174), (\"dady's\", 9175), ('lifes', 9176), ('tb', 9177), ('cydia', 9178), ('beijing', 9179), ('dough', 9180), ('ambience', 9181), (\"se's\", 9182), ('tesla', 9183), ('erniehalter', 9184), ('adjustment', 9185), ('ladies', 9186), ('chart', 9187), ('fountain', 9188), ('spoilt', 9189), ('una', 9190), ('twiterfox', 9191), ('breze', 9192), ('quotcome', 9193), ('lifequot', 9194), ('liek', 9195), ('jesica', 9196), ('screamin', 9197), ('shanxi', 9198), ('skylit', 9199), ('projector', 9200), ('windoze', 9201), ('frio', 9202), ('mampms', 9203), ('pantry', 9204), ('twitertakeover', 9205), ('crosfit', 9206), ('ericson', 9207), ('frend', 9208), ('wernt', 9209), ('vw', 9210), ('taint', 9211), ('refrigerator', 9212), ('baty', 9213), ('drumers', 9214), ('strangely', 9215), ('klem', 9216), ('dixie', 9217), ('centro', 9218), ('whitsun', 9219), ('desearted', 9220), ('twep', 9221), ('lewis', 9222), ('washer', 9223), ('energize', 9224), ('orilia', 9225), ('scrape', 9226), ('blerg', 9227), ('wih', 9228), ('rese', 9229), ('lulaby', 9230), ('magento', 9231), ('amf', 9232), ('importantly', 9233), ('timetable', 9234), ('philadelphia', 9235), ('philies', 9236), ('myers', 9237), ('racist', 9238), ('fi', 9239), ('hq', 9240), ('worship', 9241), ('creator', 9242), ('developer', 9243), ('colosal', 9244), ('lovelines', 9245), ('suspension', 9246), ('40th', 9247), ('karmaquot', 9248), ('reflux', 9249), ('fulest', 9250), ('splinter', 9251), ('daynight', 9252), ('heartbreaking', 9253), ('migrate', 9254), ('solaris', 9255), ('wdc', 9256), ('marie', 9257), ('hairdo', 9258), ('youquotl', 9259), ('aus', 9260), (\"bq's\", 9261), ('sharing', 9262), ('gpu', 9263), ('adrenaline', 9264), (\"tori's\", 9265), ('remains', 9266), ('acadentaly', 9267), ('fob', 9268), ('obu', 9269), ('lanen', 9270), ('dudes', 9271), ('matey', 9272), ('suzi', 9273), ('tmz', 9274), ('masages', 9275), ('leap', 9276), ('hereby', 9277), ('employ', 9278), ('frequently', 9279), ('minivan', 9280), ('valuation', 9281), ('memorial', 9282), ('nyquil', 9283), ('wonderland', 9284), ('arangement', 9285), ('nadine', 9286), ('echo', 9287), ('jewelery', 9288), ('jil', 9289), ('unopened', 9290), ('forte', 9291), ('uploaded', 9292), ('livingrom', 9293), ('frebies', 9294), (\"sasha's\", 9295), ('wodstock', 9296), ('sc', 9297), ('beam', 9298), ('spoty', 9299), ('yrs', 9300), ('10x', 9301), ('reborn', 9302), ('luis', 9303), ('arthritis', 9304), ('moleskine', 9305), ('noteboks', 9306), ('apeal', 9307), ('nathanfilion', 9308), ('joking', 9309), ('cutenes', 9310), ('grene', 9311), ('flea', 9312), ('quotin', 9313), ('mane', 9314), ('heating', 9315), ('bulb', 9316), ('hmpf', 9317), ('shirtles', 9318), ('mosh', 9319), ('snezed', 9320), ('wbu', 9321), ('hamburger', 9322), ('malay', 9323), ('drom', 9324), ('frustration', 9325), ('quotback', 9326), ('warehouse', 9327), ('recieve', 9328), ('pdx', 9329), ('hobart', 9330), ('polyester', 9331), ('nightshift', 9332), ('jasper', 9333), ('pharmacy', 9334), ('juga', 9335), ('nostalgic', 9336), ('standing', 9337), ('childrens', 9338), ('sumary', 9339), ('courage', 9340), ('relieve', 9341), ('dreamin', 9342), ('altime', 9343), ('traumatize', 9344), ('nese', 9345), ('mampg', 9346), ('cmt', 9347), ('icurve', 9348), ('shadez', 9349), ('tagalog', 9350), ('leon', 9351), ('130am', 9352), ('steroid', 9353), ('bre', 9354), ('krystles', 9355), ('noisy', 9356), ('abusive', 9357), ('josiah', 9358), ('ahh', 9359), ('fence', 9360), ('workshet', 9361), ('separately', 9362), ('adorei', 9363), ('bacardi', 9364), ('aaw', 9365), ('cynical', 9366), ('iva', 9367), ('pixy', 9368), ('closed', 9369), ('audiobo', 9370), ('lint', 9371), ('biotch', 9372), ('sneze', 9373), ('sorcha', 9374), ('shove', 9375), ('wiser', 9376), ('exclusive', 9377), ('yogurtland', 9378), ('jiberish', 9379), ('utd', 9380), (\"b'lore\", 9381), ('dsds', 9382), ('lawyer', 9383), ('afterparty', 9384), ('4d', 9385), ('convinced', 9386), ('miself', 9387), ('oportunities', 9388), ('terified', 9389), ('bioshock', 9390), ('4a', 9391), ('israel', 9392), ('lemsip', 9393), ('tew', 9394), ('chilaxin', 9395), ('shawty', 9396), ('zz', 9397), ('hihi', 9398), ('kickof', 9399), ('selfridges', 9400), ('brendon', 9401), ('snoze', 9402), ('pointles', 9403), ('newspaper', 9404), ('furlough', 9405), ('origins', 9406), ('mei', 9407), ('jayden', 9408), ('chevre', 9409), ('playah', 9410), ('grandfather', 9411), ('patinson', 9412), ('dana', 9413), ('downloaded', 9414), ('riding', 9415), ('joshstore', 9416), ('joshmobile', 9417), ('kart', 9418), ('ringtone', 9419), ('730pm', 9420), ('bz', 9421), ('bsb', 9422), ('retreat', 9423), ('hals', 9424), ('clair', 9425), ('luxury', 9426), ('rodney', 9427), ('loft', 9428), ('skil', 9429), ('tweaking', 9430), ('wno', 9431), ('paula', 9432), ('stapler', 9433), ('tenerife', 9434), ('walpaper', 9435), ('frequent', 9436), ('hudson', 9437), ('marked', 9438), ('whin', 9439), ('tote', 9440), ('breaker', 9441), ('alejandra', 9442), ('tia', 9443), ('sleper', 9444), ('circa', 9445), ('joes', 9446), ('inquot', 9447), ('tara', 9448), ('twitersphere', 9449), ('crimegosip', 9450), ('manda', 9451), ('obamas', 9452), ('netflix', 9453), (\"captain's\", 9454), ('sweling', 9455), ('chuckle', 9456), ('jeska', 9457), ('journalist', 9458), ('westlife', 9459), ('trademe', 9460), ('redesigned', 9461), ('3,0', 9462), ('loaner', 9463), ('apearances', 9464), ('prowler', 9465), ('mentality', 9466), ('drip', 9467), ('bulgaria', 9468), ('psp', 9469), ('branch', 9470), ('nickname', 9471), ('wuv', 9472), ('outsider', 9473), ('among', 9474), ('realtime', 9475), ('gheto', 9476), ('lump', 9477), ('bingo', 9478), ('fome', 9479), ('chainsaw', 9480), ('textboks', 9481), ('coal', 9482), ('chief', 9483), ('contributor', 9484), ('omgz', 9485), (\"work's\", 9486), ('apologise', 9487), ('redirects', 9488), ('permision', 9489), (\"ily's\", 9490), ('roftop', 9491), ('overseas', 9492), ('buzy', 9493), ('outdors', 9494), ('roger', 9495), ('investment', 9496), ('sucha', 9497), ('twety', 9498), ('novusnovendo', 9499), (\"this'l\", 9500), ('chachi', 9501), ('autofolow', 9502), ('maseuse', 9503), ('mil', 9504), ('geocache', 9505), ('kimy', 9506), ('spew', 9507), ('colbert', 9508), ('rolerskate', 9509), ('petey', 9510), ('yoghurt', 9511), ('carots', 9512), ('resemble', 9513), ('tourney', 9514), ('asbestos', 9515), ('tele', 9516), ('quotmom', 9517), ('todayquot', 9518), ('umulan', 9519), ('paracetamol', 9520), ('quiero', 9521), ('platform', 9522), ('db', 9523), ('mish', 9524), ('320gb', 9525), ('outro', 9526), ('ins', 9527), ('shaft', 9528), ('spiling', 9529), (\"t'internet\", 9530), ('vile', 9531), ('fidling', 9532), ('critical', 9533), ('enthusiasm', 9534), ('flylady', 9535), ('showtime', 9536), ('osaka', 9537), ('wrangler', 9538), ('maters', 9539), ('isabele', 9540), ('roxy', 9541), ('whover', 9542), ('noshow', 9543), ('thnk', 9544), ('mineapolis', 9545), ('jockey', 9546), ('darnit', 9547), ('fic', 9548), (\"email's\", 9549), ('relaxant', 9550), (\"t's\", 9551), ('belmont', 9552), ('gardener', 9553), ('cisco', 9554), ('freze', 9555), ('abey', 9556), ('morow', 9557), ('speled', 9558), ('mtfbwy', 9559), ('dg', 9560), ('disabled', 9561), ('imediate', 9562), ('jelous', 9563), ('octo', 9564), ('died', 9565), ('reinstaled', 9566), ('huhu', 9567), ('atmos', 9568), ('reflection', 9569), ('smiling', 9570), ('emotion', 9571), ('sy', 9572), ('cashier', 9573), ('102', 9574), ('wiz', 9575), ('pek', 9576), ('botay', 9577), ('sarcastic', 9578), ('durian', 9579), ('pufs', 9580), ('instantly', 9581), ('queue', 9582), ('restrict', 9583), ('aja', 9584), ('muji', 9585), ('muster', 9586), ('barbeque', 9587), ('inventor', 9588), ('jilian', 9589), ('javaone', 9590), ('trojan', 9591), ('spreadshets', 9592), ('mysefl', 9593), ('crispy', 9594), ('wafles', 9595), ('modest', 9596), ('adie', 9597), ('suportive', 9598), ('againquot', 9599), ('han', 9600), ('twiterena', 9601), ('kasi', 9602), ('mahirap', 9603), ('impact', 9604), ('mercury', 9605), ('cuban', 9606), ('ayt', 9607), ('chickened', 9608), ('monk', 9609), ('curler', 9610), ('douche', 9611), (\"cadbury's\", 9612), ('frustrating', 9613), ('mare', 9614), ('sling', 9615), ('hilsong', 9616), ('oscar', 9617), ('tayla', 9618), ('fukn', 9619), ('longboard', 9620), ('pedro', 9621), ('hasle', 9622), ('picky', 9623), ('erased', 9624), ('frantic', 9625), ('apeared', 9626), ('kathlen', 9627), ('wody', 9628), ('jai', 9629), ('whens', 9630), ('chetos', 9631), ('cotage', 9632), ('owie', 9633), ('amazinglt', 9634), ('perk', 9635), ('hoky', 9636), ('audi', 9637), ('hem', 9638), ('canbera', 9639), ('valkyria', 9640), ('equation', 9641), ('faux', 9642), ('remer', 9643), ('bqs', 9644), ('wraped', 9645), ('cokout', 9646), ('cringe', 9647), ('hitman', 9648), ('seus', 9649), ('miracle', 9650), ('rolo', 9651), ('0o', 9652), ('coughing', 9653), ('dicking', 9654), ('barnsley', 9655), ('striker', 9656), ('soco', 9657), ('hanson', 9658), ('drumstick', 9659), ('lsat', 9660), ('headacheal', 9661), ('inflict', 9662), ('chiro', 9663), ('udon', 9664), ('divine', 9665), ('krogers', 9666), ('compatible', 9667), ('techie', 9668), ('purposely', 9669), ('cowgirl', 9670), ('sidewalk', 9671), ('harvard', 9672), ('ofspring', 9673), ('marykay', 9674), ('sendai', 9675), ('obv', 9676), ('89', 9677), ('awaits', 9678), ('wimpy', 9679), ('calgary', 9680), ('nufin', 9681), ('ivory', 9682), ('sumery', 9683), ('carers', 9684), ('dent', 9685), ('dlovato', 9686), ('buenos', 9687), ('182', 9688), ('languish', 9689), ('filming', 9690), ('crumb', 9691), ('wraper', 9692), ('prism', 9693), ('peach', 9694), ('pave', 9695), ('inteligent', 9696), ('giro', 9697), ('carlton', 9698), ('emerge', 9699), ('phuket', 9700), ('musician', 9701), ('profit', 9702), ('ease', 9703), ('sumptuous', 9704), (\"havn't\", 9705), ('twain', 9706), ('smiten', 9707), ('lifestyle', 9708), ('implement', 9709), ('leny', 9710), ('chunky', 9711), ('nfg', 9712), ('jordie', 9713), ('espesh', 9714), ('soso', 9715), ('samuel', 9716), ('fiz', 9717), ('headaches', 9718), ('bangin', 9719), ('depeche', 9720), ('ixigo', 9721), ('fogy', 9722), ('withdrawal', 9723), ('syndrome', 9724), ('paisley', 9725), ('tru', 9726), ('wodman', 9727), ('birdsrabits', 9728), ('integrity', 9729), ('spay', 9730), ('moto', 9731), ('insanity', 9732), ('century', 9733), ('fiat', 9734), ('pacific', 9735), ('ipa', 9736), ('halowen', 9737), ('aparent', 9738), ('iris', 9739), ('1milion', 9740), ('retwets', 9741), ('hur', 9742), ('wacky', 9743), (\"trudy's\", 9744), ('burnet', 9745), ('fragrance', 9746), ('lavender', 9747), ('sch', 9748), ('rochester', 9749), ('aba', 9750), ('m10pm', 9751), ('quottwet', 9752), ('ova', 9753), ('botling', 9754), ('croked', 9755), ('paperwork', 9756), ('kurang', 9757), ('gila', 9758), ('stopid', 9759), ('reconect', 9760), ('sads', 9761), ('acronym', 9762), ('impersonal', 9763), ('wthem', 9764), ('orchestra', 9765), ('edgefest', 9766), ('aceptance', 9767), ('baner', 9768), ('balons', 9769), ('tends', 9770), ('midjune', 9771), ('khi', 9772), ('stelar', 9773), ('wizard', 9774), ('waverly', 9775), ('ilylt', 9776), ('nightlt', 9777), ('mv', 9778), ('hamock', 9779), ('insonmia', 9780), ('leopold', 9781), ('prior', 9782), ('gogledocs', 9783), ('ging', 9784), ('onstage', 9785), ('lotery', 9786), ('acesible', 9787), ('growth', 9788), ('12yr', 9789), ('das', 9790), ('twigas', 9791), ('afaik', 9792), (\"fresat's\", 9793), ('lawl', 9794), ('patiently', 9795), ('590', 9796), ('seatbelt', 9797), ('cariers', 9798), ('wna', 9799), (\"dre's\", 9800), ('wales', 9801), ('stanky', 9802), ('recycle', 9803), ('suspicious', 9804), ('swis', 9805), ('chaos', 9806), ('healthcare', 9807), ('pbampj', 9808), ('hudgens', 9809), ('trough', 9810), ('quotlok', 9811), ('lub', 9812), ('deflated', 9813), ('stormy', 9814), ('roscoe', 9815), ('muna', 9816), ('royal', 9817), ('transmiter', 9818), ('strict', 9819), ('pouting', 9820), ('bacteria', 9821), ('thaw', 9822), ('boise', 9823), ('severe', 9824), ('breakie', 9825), ('kristen', 9826), ('tak', 9827), ('solitaire', 9828), ('leaf', 9829), ('gromit', 9830), ('loveamp', 9831), ('1thing', 9832), ('anotheramp', 9833), ('mvp', 9834), ('joplin', 9835), ('wich', 9836), ('bokbag', 9837), ('kelvin', 9838), ('bliping', 9839), ('w8', 9840), ('misery', 9841), ('maxed', 9842), (\"dany's\", 9843), ('sakura', 9844), ('jose', 9845), ('sensible', 9846), ('rayne', 9847), ('acute', 9848), ('lena', 9849), ('palin', 9850), ('linkin', 9851), ('crazier', 9852), ('satisfying', 9853), ('mailbox', 9854), ('gtg', 9855), ('gode', 9856), ('mediocre', 9857), ('mayer', 9858), ('typicaly', 9859), ('mayne', 9860), ('tiz', 9861), ('highnes', 9862), ('fightstar', 9863), ('imogen', 9864), (\"heap's\", 9865), ('sekquot', 9866), (\"dawson's\", 9867), ('yel', 9868), ('hehehehehe', 9869), ('searching', 9870), ('nth', 9871), ('decaf', 9872), (\"saturday's\", 9873), ('quothey', 9874), ('bates', 9875), ('norwich', 9876), ('awfuly', 9877), ('smackdown', 9878), ('honoured', 9879), ('tout', 9880), ('newark', 9881), ('scenario', 9882), ('swarm', 9883), ('tone', 9884), ('welity', 9885), ('sensibility', 9886), ('cia', 9887), ('arty', 9888), ('colecting', 9889), ('architect', 9890), ('raspbery', 9891), ('gorila', 9892), ('whopi', 9893), ('sickly', 9894), ('blackjack', 9895), ('lexus', 9896), ('stefan', 9897), ('calback', 9898), ('grensboro', 9899), ('hunk', 9900), ('endorsement', 9901), ('pugsly', 9902), ('keley', 9903), (\"mami's\", 9904), ('deh', 9905), ('jefre', 9906), ('dindin', 9907), ('speakeasy', 9908), ('vcr', 9909), ('mazda', 9910), ('rx8', 9911), ('fkn', 9912), ('racer', 9913), ('quotfolowingquot', 9914), ('outdor', 9915), ('checking', 9916), ('aparantly', 9917), ('seize', 9918), ('48hoursnz', 9919), ('melow', 9920), ('110', 9921), ('mcm', 9922), ('ku', 9923), ('frosty', 9924), ('clinton', 9925), ('thistle', 9926), ('restart', 9927), ('amt', 9928), ('vhs', 9929), (\"steve's\", 9930), ('newlywed', 9931), ('encouragement', 9932), ('t', 9933), ('jc', 9934), ('drivin', 9935), ('cristal', 9936), ('quotreal', 9937), ('therapyquot', 9938), ('molar', 9939), ('brocoli', 9940), ('scope', 9941), ('zeb', 9942), ('momie', 9943), ('wilie', 9944), ('beagle', 9945), ('gumbo', 9946), ('stats', 9947), ('roadtrip', 9948), ('cultural', 9949), ('haiz', 9950), ('bibi', 9951), ('cy', 9952), ('doable', 9953), ('perin', 9954), ('yourz', 9955), ('humbug', 9956), ('wolverhampton', 9957), ('untuk', 9958), ('330am', 9959), ('jia', 9960), ('flashback', 9961), ('reznor', 9962), ('arthur', 9963), ('reynolds', 9964), ('123', 9965), ('dilema', 9966), ('91', 9967), ('spectacular', 9968), ('boulder', 9969), ('debit', 9970), ('archetype', 9971), ('zoids', 9972), ('mcast', 9973), ('wegmans', 9974), ('cranbery', 9975), ('folowfridays', 9976), ('cv', 9977), ('genetic', 9978), ('sly', 9979), ('dynasty', 9980), ('maden', 9981), ('godsquot', 9982), ('drake', 9983), ('everybodys', 9984), ('cof', 9985), ('brenan', 9986), ('hulk', 9987), ('younge', 9988), ('24quot', 9989), ('hokey', 9990), (\"youtube's\", 9991), ('origami', 9992), ('edwin', 9993), ('sanfran', 9994), ('genial', 9995), ('revolutionize', 9996), ('skunk', 9997), ('quotunfolowedquot', 9998), ('serenade', 9999), (\"fever's\", 10000), ('trinity', 10001), ('sta', 10002), ('1040', 10003), ('anapolis', 10004), ('dakota', 10005), ('camden', 10006), ('nuget', 10007), ('hamster', 10008), ('pantech', 10009), ('kiwi', 10010), ('variety', 10011), ('laminate', 10012), ('207', 10013), ('alki', 10014), ('quotnever', 10015), ('notion', 10016), ('chow', 10017), ('cole', 10018), ('infected', 10019), ('informative', 10020), ('malibu', 10021), ('ahahahaha', 10022), ('chickfila', 10023), ('discriminate', 10024), ('heineken', 10025), ('ayo', 10026), ('nash', 10027), ('comisions', 10028), ('preschol', 10029), ('dunkin', 10030), ('disaster', 10031), ('gene', 10032), ('borowing', 10033), ('dipin', 10034), ('ani', 10035), ('barca', 10036), ('aa', 10037), ('stinky', 10038), ('provider', 10039), ('lolipop', 10040), ('destroytwiter', 10041), ('perspective', 10042), ('trainer', 10043), ('spiled', 10044), ('25c', 10045), ('losthegame', 10046), ('545am', 10047), ('inspired', 10048), ('quotfriendsquot', 10049), (\"keny's\", 10050), ('pei', 10051), ('sunrise', 10052), ('sol', 10053), ('crumble', 10054), ('secondsquot', 10055), ('beverly', 10056), ('boystown', 10057), ('apathetic', 10058), ('wekday', 10059), ('cement', 10060), ('pixel', 10061), ('tsc', 10062), ('landon', 10063), ('bub', 10064), ('gamer', 10065), ('babygirl', 10066), ('advise', 10067), ('riden', 10068), ('chandler', 10069), ('guter', 10070), ('coherent', 10071), ('mana', 10072), ('unoficialy', 10073), ('vomit', 10074), ('bloke', 10075), ('inocent', 10076), ('yg', 10077), ('sp2', 10078), ('purty', 10079), ('deflate', 10080), ('snatch', 10081), ('isp', 10082), ('skater', 10083), ('sicke', 10084), ('pester', 10085), ('ritas', 10086), ('turnout', 10087), ('liked', 10088), ('chopers', 10089), ('deprive', 10090), ('abs', 10091), ('warwick', 10092), ('fixreplies', 10093), ('sank', 10094), ('whimper', 10095), ('godfather', 10096), ('directv', 10097), ('ondemand', 10098), ('imis', 10099), ('fisher', 10100), ('90210', 10101), ('lave', 10102), ('noding', 10103), ('ds', 10104), ('butercup', 10105), ('flare', 10106), ('chit', 10107), ('vibration', 10108), ('umn', 10109), ('antisocial', 10110), ('conrad', 10111), ('rosemary', 10112), ('iphones', 10113), ('integrate', 10114), ('jojo', 10115), ('striped', 10116), ('sep', 10117), ('gabriel', 10118), ('baton', 10119), ('rouge', 10120), ('cuties', 10121), ('alter', 10122), (\"com'on\", 10123), ('jager', 10124), ('beca', 10125), ('nadia', 10126), ('freo', 10127), ('lautner', 10128), ('popsicle', 10129), ('cauz', 10130), ('nicoles', 10131), ('colide', 10132), ('forensic', 10133), ('analysis', 10134), ('xtra', 10135), ('chenai', 10136), ('undergarment', 10137), ('merci', 10138), ('leonardo', 10139), ('newt', 10140), ('psy', 10141), ('jour', 10142), ('retriever', 10143), ('pianist', 10144), ('gin', 10145), ('tonic', 10146), ('drinker', 10147), ('cautious', 10148), ('kidin', 10149), ('graceful', 10150), ('thy', 10151), ('thelma', 10152), ('fernanda', 10153), ('cordova', 10154), ('415', 10155), ('percentage', 10156), ('zomg', 10157), ('homesick', 10158), ('boner', 10159), ('catherine', 10160), ('3pm', 10161), ('emy', 10162), ('atomic', 10163), ('meltdown', 10164), ('walker', 10165), ('mas', 10166), ('twhirl', 10167), ('nearby', 10168), ('horors', 10169), ('broth', 10170), ('sonish', 10171), ('cody', 10172), (\"me's\", 10173), ('safety', 10174), ('roland', 10175), (\"july's\", 10176), ('testimonial', 10177), ('continualy', 10178), ('trans', 10179), ('recipient', 10180), ('mort', 10181), ('oomg', 10182), ('preach', 10183), ('quotdonie', 10184), ('shutup', 10185), ('spendin', 10186), ('housewife', 10187), ('tisues', 10188), ('sprinkle', 10189), ('chaser', 10190), ('bon', 10191), ('netles', 10192), ('counting', 10193), ('stewart', 10194), ('watermelon', 10195), ('aply', 10196), ('heartwarming', 10197), ('oki', 10198), ('unc', 10199), (\"score's\", 10200), ('insect', 10201), ('consult', 10202), ('in2', 10203), ('faceles', 10204), ('edy', 10205), ('iam', 10206), ('mnth', 10207), ('lodge', 10208), ('tweten', 10209), ('thriling', 10210), ('finding', 10211), ('disown', 10212), ('bench', 10213), ('quotcolquot', 10214), (\"movie's\", 10215), ('fried', 10216), ('transform', 10217), ('jip', 10218), ('sososo', 10219), ('candace', 10220), ('snowbal', 10221), (\"dan's\", 10222), ('youngster', 10223), ('toasty', 10224), ('sumiu', 10225), ('confidence', 10226), ('131', 10227), ('buls', 10228), ('thot', 10229), ('creature', 10230), ('wealth', 10231), ('sentiment', 10232), ('fir', 10233), ('income', 10234), ('lyin', 10235), ('nou', 10236), ('545', 10237), ('newsleter', 10238), ('newish', 10239), ('mccoy', 10240), ('shels', 10241), ('portal', 10242), ('interface', 10243), (\"shit's\", 10244), ('briana', 10245), ('rec', 10246), ('vcenter', 10247), ('thu', 10248), ('buf', 10249), ('hex', 10250), ('subside', 10251), ('sized', 10252), ('jakarta', 10253), ('sidebar', 10254), ('doe', 10255), ('denis', 10256), ('sgt', 10257), ('meningitis', 10258), ('disinfect', 10259), ('sogni', 10260), (\"d'oro\", 10261), ('lurve', 10262), ('egh', 10263), ('reno', 10264), ('cardinal', 10265), ('wrath', 10266), ('consumption', 10267), ('pho', 10268), ('spork', 10269), ('lapit', 10270), ('taunt', 10271), ('bronco', 10272), ('lafy', 10273), (\"prom's\", 10274), ('dachshund', 10275), ('troy', 10276), ('dairy', 10277), ('hily', 10278), ('atrocious', 10279), ('metalic', 10280), ('athletic', 10281), ('blockhead', 10282), ('sql', 10283), ('kristin', 10284), ('jalan', 10285), ('funk', 10286), ('grabe', 10287), ('kaloka', 10288), ('atempted', 10289), ('prototype', 10290), ('aplying', 10291), ('twilightguy', 10292), ('flake', 10293), ('favrd', 10294), (\"lam's\", 10295), ('handmade', 10296), ('corporate', 10297), ('roughly', 10298), ('magnificent', 10299), ('zyrtec', 10300), ('programer', 10301), ('presie', 10302), ('wholeheartedly', 10303), ('aproved', 10304), ('momz', 10305), ('ontario', 10306), ('botled', 10307), ('6quot', 10308), ('pitsburgh', 10309), ('dreamwidth', 10310), ('honda', 10311), ('layer', 10312), ('3oh', 10313), ('streak', 10314), ('hurdle', 10315), ('resistance', 10316), ('judgement', 10317), ('clunky', 10318), ('jan', 10319), ('2mrw', 10320), ('sufers', 10321), ('streaming', 10322), ('procedure', 10323), ('lols', 10324), ('topshop', 10325), ('8quot', 10326), ('sher', 10327), ('warmth', 10328), ('inapropriate', 10329), ('pembroke', 10330), ('brainbone', 10331), ('leica', 10332), ('drat', 10333), ('gag', 10334), ('mf', 10335), ('845', 10336), ('gfs', 10337), ('magners', 10338), ('nurburgring', 10339), ('alianz', 10340), ('pensylvania', 10341), ('bloming', 10342), ('yougt', 10343), ('mogwai', 10344), ('anyday', 10345), ('rye', 10346), ('overkil', 10347), ('unknown', 10348), ('dorky', 10349), ('sched', 10350), ('vo', 10351), ('cafeteria', 10352), ('quottwiterquot', 10353), ('gentleman', 10354), ('decode', 10355), ('eminem', 10356), ('nazi', 10357), ('anoy', 10358), ('milestone', 10359), ('wound', 10360), ('heheheheh', 10361), ('optional', 10362), ('tuh', 10363), ('wher', 10364), ('quotnew', 10365), ('conoiseur', 10366), ('keyword', 10367), ('yorker', 10368), ('bldg', 10369), ('librefm', 10370), ('chaof', 10371), ('gia', 10372), ('hilton', 10373), ('pouring', 10374), ('camcorder', 10375), ('providence', 10376), ('chitown', 10377), ('tribe', 10378), ('marijuana', 10379), ('streamline', 10380), ('trunk', 10381), ('halfway', 10382), ('bridget', 10383), ('kde', 10384), ('quest', 10385), ('mus', 10386), ('frenzy', 10387), ('misty', 10388), ('unreliable', 10389), ('twitpics', 10390), ('premium', 10391), ('restore', 10392), (\"mcfly's\", 10393), ('invention', 10394), ('photos', 10395), ('drift', 10396), ('spank', 10397), ('vinyl', 10398), ('bristol', 10399), ('smothly', 10400), ('cheky', 10401), ('poia', 10402), ('tied', 10403), ('aloof', 10404), ('napoleon', 10405), ('rebuff', 10406), ('all_in', 10407), ('headliner', 10408), ('natural_process', 10409), ('fiscal', 10410), ('draco', 10411), ('potent', 10412), ('linage', 10413), ('inhalant', 10414), ('trailer_truck', 10415), ('distribute', 10416), ('riddle', 10417), ('go_steady', 10418), ('tugboat', 10419), ('delaware', 10420), ('disembowel', 10421), ('swelling', 10422), ('batting_order', 10423), ('plug_in', 10424), ('vertex', 10425), ('bobsled', 10426), ('bridle', 10427), ('restrain', 10428), ('rich_person', 10429), ('bunco', 10430), ('precede', 10431), ('revert', 10432), ('oblige', 10433), ('studio_apartment', 10434), ('anneal', 10435), ('adept', 10436), ('imitate', 10437), ('execration', 10438), ('appropriate', 10439), ('stop_consonant', 10440), ('retroflex', 10441), ('extremity', 10442), ('conglomerate', 10443), ('ardent', 10444), ('subsequently', 10445), ('dress', 10446), ('forty', 10447), ('cypriot_pound', 10448), ('trim', 10449), ('full', 10450), ('quotation', 10451), ('insignificant', 10452), ('byssus', 10453), ('consistency', 10454), ('drizzle', 10455), ('worsen', 10456), ('corrupt', 10457), ('accommodate', 10458), ('puff', 10459), ('rationality', 10460), ('church_father', 10461), ('bootleg', 10462), ('mutilate', 10463), ('get_through', 10464), ('softwood', 10465), ('quell', 10466), ('open_fire', 10467), ('amobarbital_sodium', 10468), ('mathematical_process', 10469), ('placard', 10470), ('hurl', 10471), ('gilbert', 10472), ('dismiss', 10473), ('neonate', 10474), ('not', 10475), ('tungsten', 10476), ('roentgen', 10477), ('pay_up', 10478), ('centripetal', 10479), ('bon_mot', 10480), ('watt', 10481), ('big_h', 10482), ('twenty-five', 10483), ('divide', 10484), ('henry', 10485), ('compassion', 10486), ('attack', 10487), ('trouble_oneself', 10488), ('in_concert', 10489), ('miniskirt', 10490), ('bowling_ball', 10491), ('carbohydrate', 10492), ('omission', 10493), ('world_power', 10494), ('mooch', 10495), ('indent', 10496), ('supply', 10497), ('write_down', 10498), ('consort', 10499), ('theodolite', 10500), ('overindulgence', 10501), ('debug', 10502), ('adviser', 10503), ('quarrel', 10504), ('throng', 10505), ('wash_up', 10506), ('recuperate', 10507), ('halt', 10508), ('any', 10509), ('salt_lick', 10510), ('waiter', 10511), ('mule', 10512), ('cytosine', 10513), ('underpass', 10514), ('aesculapian', 10515), ('hateful', 10516), ('ply', 10517), ('wrench', 10518), ('time_period', 10519), ('ashcan_school', 10520), ('discussion', 10521), ('asynchronous_transfer_mode', 10522), ('exhibitor', 10523), ('unsalted', 10524), ('distinctly', 10525), ('frame_of_reference', 10526), ('switch_off', 10527), ('fishing_gear', 10528), ('machine_politician', 10529), ('adhere', 10530), ('stipulate', 10531), ('hazardous', 10532), ('skeleton', 10533), ('lebanese_pound', 10534), ('evaluator', 10535), ('recurrence', 10536), ('obstruction', 10537), ('deem', 10538), ('thwart', 10539), ('rhode_island', 10540), ('pack_of_cards', 10541), ('national_geospatial-intelligence_agency', 10542), ('yoruba', 10543), ('ulster_defence_association', 10544), ('scat', 10545), ('crusade', 10546), ('heartily', 10547), ('draw_a_bead_on', 10548), ('bombastic', 10549), ('cartoon', 10550), ('mackintosh', 10551), ('g.i.', 10552), ('promontory', 10553), ('golf_club', 10554), ('cup_of_tea', 10555), ('gigabyte', 10556), ('fourthly', 10557), ('blue_sky', 10558), ('finality', 10559), ('bloom', 10560), ('break_down', 10561), ('all_right', 10562), ('rebuild', 10563), ('zigzag', 10564), ('unexpressed', 10565), ('sediment', 10566), ('numerous', 10567), ('align', 10568), ('pull', 10569), ('extradite', 10570), ('brown_university', 10571), ('seemliness', 10572), ('bane', 10573), ('free-base', 10574), ('squelch', 10575), ('bacillus', 10576), ('consecrate', 10577), ('sports_fan', 10578), ('diarrhea', 10579), ('veridical', 10580), ('guess', 10581), ('rehearse', 10582), ('shop_class', 10583), ('crop_up', 10584), ('probability', 10585), ('constitution', 10586), ('discharge', 10587), ('eastern_time', 10588), ('vivification', 10589), ('human_body', 10590), ('by_and_by', 10591), ('depart', 10592), ('intemperate', 10593), ('jacklight', 10594), ('assume', 10595), ('screen', 10596), ('spokesperson', 10597), ('penny', 10598), ('approach', 10599), ('impart', 10600), ('gestural', 10601), ('bomber', 10602), ('bide', 10603), ('pipe_dream', 10604), ('joule', 10605), ('bespeak', 10606), ('sourness', 10607), ('attend', 10608), ('bracing', 10609), ('intervene', 10610), ('asset', 10611), ('transformation', 10612), ('moisten', 10613), ('concisely', 10614), ('fraught', 10615), ('religion', 10616), ('variety_show', 10617), ('forty-one', 10618), ('owen', 10619), ('uncover', 10620), ('swot', 10621), ('hark_back', 10622), ('hep', 10623), ('abruptly', 10624), ('browning_automatic_rifle', 10625), ('old_world_chat', 10626), ('modal', 10627), ('military_position', 10628), ('succumb', 10629), ('steering', 10630), ('kidnap', 10631), ('coating', 10632), ('mutant', 10633), ('post_horse', 10634), ('ending', 10635), ('bantam', 10636), ('detriment', 10637), ('one-fourth', 10638), ('overrule', 10639), ('diverseness', 10640), ('ill-timed', 10641), ('samarium', 10642), ('allow', 10643), ('everlastingly', 10644), ('easywriter', 10645), ('2hear', 10646), ('gmtv', 10647), ('mari', 10648), ('vfc', 10649), (\"lulu's\", 10650), ('smores', 10651), ('distribution', 10652), ('cosplay', 10653), ('mixing', 10654), ('realtor', 10655), ('balerina', 10656), ('gibson', 10657), ('sphere', 10658), ('fag', 10659), ('discretion', 10660), ('primary', 10661), ('feris', 10662), ('rawk', 10663), ('lokbok', 10664), ('julio', 10665), ('chowder', 10666), ('whatsoever', 10667), ('nesa', 10668), (\"magazine's\", 10669), ('quotarguingquot', 10670), ('canterbury', 10671), ('blocker', 10672), ('yani', 10673), ('coperate', 10674), ('outfiters', 10675), ('bringin', 10676), ('heartache', 10677), ('whale', 10678), ('decemberists', 10679), ('asociation', 10680), ('v2', 10681), ('spamer', 10682), ('momotlv', 10683), ('viewable', 10684), ('hunie', 10685), ('bokmark', 10686), ('ode', 10687), ('lonq', 10688), ('omelete', 10689), ('pdf', 10690), ('powerblog', 10691), ('24th', 10692), (\"guy's\", 10693), ('sarmy', 10694), (\"min's\", 10695), ('faro', 10696), ('fultime', 10697), ('republish', 10698), ('dampd', 10699), ('ib', 10700), ('blvd', 10701), ('nab', 10702), ('lenon', 10703), ('janis', 10704), ('deplurk', 10705), ('coco', 10706), ('mornig', 10707), ('everone', 10708), ('horatio', 10709), ('caine', 10710), ('wtg', 10711), ('fracture', 10712), ('evo', 10713), ('unplug', 10714), ('politician', 10715), ('dfb', 10716), ('werder', 10717), ('tricky', 10718), ('onesies', 10719), ('erg', 10720), ('gonight', 10721), ('pasport', 10722), ('esential', 10723), ('midway', 10724), ('jao', 10725), ('sumone', 10726), (\"victoria's\", 10727), ('drizling', 10728), ('dahling', 10729), ('hotspot', 10730), ('chaning', 10731), ('tatum', 10732), ('pouch', 10733), ('3lbs', 10734), ('crow', 10735), ('fresno', 10736), (\"mozart's\", 10737), ('plumber', 10738), ('wowsa', 10739), ('xi', 10740), ('soeur', 10741), ('47', 10742), ('manta', 10743), ('kraken', 10744), ('patel', 10745), ('hafta', 10746), ('tedtalks', 10747), ('sacred', 10748), ('compability', 10749), ('ericka', 10750), ('textmate', 10751), ('knighty', 10752), ('htc', 10753), (\"greg's\", 10754), ('cliquot', 10755), ('moustache', 10756), ('insight', 10757), ('aweomse', 10758), ('203', 10759), ('congratulatory', 10760), ('determination', 10761), ('naruto', 10762), ('enigma', 10763), ('apearing', 10764), ('bisquick', 10765), ('quotgumed', 10766), ('torment', 10767), ('oze', 10768), ('waho', 10769), ('jobros', 10770), ('pimp', 10771), ('blonding', 10772), ('coding', 10773), ('ruler', 10774), ('mercedes', 10775), ('quem', 10776), ('quotla', 10777), ('nymph', 10778), ('fantabulous', 10779), ('turning', 10780), ('rhubarb', 10781), ('flew', 10782), ('2092010', 10783), ('enjoyed', 10784), ('atendance', 10785), ('naty', 10786), ('calbacks', 10787), ('kane', 10788), ('regime', 10789), ('election', 10790), ('cady', 10791), ('redem', 10792), ('ladiez', 10793), ('updates', 10794), ('someplace', 10795), ('eveningmorningday', 10796), ('environmental', 10797), ('daniele', 10798), ('haris', 10799), ('traumatic', 10800), ('2nyt', 10801), ('clarkson', 10802), ('cynthia', 10803), ('ak', 10804), ('council', 10805), ('shw', 10806), ('chesey', 10807), ('55', 10808), ('difernt', 10809), ('nameles', 10810), ('dal', 10811), ('bruno', 10812), ('showrom', 10813), ('ofensive', 10814), ('understandable', 10815), ('turbine', 10816), ('cigs', 10817), (\"mathew's\", 10818), ('scarlet', 10819), ('fu', 10820), ('squeaky', 10821), ('marcus', 10822), ('5sec', 10823), ('audrey', 10824), ('incident', 10825), ('afgan', 10826), ('captive', 10827), ('insanely', 10828), ('seal', 10829), ('penguin', 10830), ('disease', 10831), ('wagon', 10832), ('vp', 10833), ('downquot', 10834), ('sas', 10835), ('apsquot', 10836), ('brutal', 10837), ('speds', 10838), ('eta', 10839), ('borat', 10840), ('greasy', 10841), ('unbearable', 10842), ('investigation', 10843), ('whot', 10844), ('bodyshop', 10845), ('blury', 10846), ('shanghai', 10847), ('viewer', 10848), ('thermometer', 10849), ('andor', 10850), ('clare', 10851), ('wan', 10852), ('batlestar', 10853), ('galactica', 10854), ('23rd', 10855), ('hokups', 10856), ('definition', 10857), ('5d', 10858), ('lt3lt3', 10859), ('skul', 10860), ('upstate', 10861), ('decade', 10862), ('aprove', 10863), ('exctied', 10864), (\"f'n\", 10865), ('retainer', 10866), ('kepin', 10867), ('chloe', 10868), ('sweny', 10869), ('rocio', 10870), ('alysabrunolt', 10871), ('bur', 10872), ('golfer', 10873), ('gl', 10874), (\"mayer's\", 10875), ('gent', 10876), ('karate', 10877), ('clicking', 10878), ('doctoral', 10879), ('funding', 10880), ('cried', 10881), ('13quot', 10882), ('handquot', 10883), ('pendant', 10884), ('weary', 10885), ('sharapova', 10886), ('61', 10887), ('ionbased', 10888), ('oic', 10889), ('jailbreak', 10890), ('earpiece', 10891), ('marta', 10892), ('gratitude', 10893), ('preordered', 10894), ('maltese', 10895), ('fuse', 10896), ('spanking', 10897), ('nowquot', 10898), ('felix', 10899), ('shortcut', 10900), ('audit', 10901), ('ire', 10902), ('incase', 10903), ('nam', 10904), ('splendid', 10905), ('meu', 10906), ('childline', 10907), ('camping', 10908), ('underwear', 10909), ('ud', 10910), ('buhbye', 10911), ('jimbo', 10912), ('weps', 10913), ('mayday', 10914), ('ulan', 10915), ('250gb', 10916), ('heavily', 10917), ('foxy', 10918), ('seyuh', 10919), ('quotany', 10920), ('prego', 10921), ('overjoy', 10922), ('papaya', 10923), ('anthropomorphic', 10924), ('laptops', 10925), ('sideways', 10926), ('nickleback', 10927), ('diaper', 10928), ('gigles', 10929), ('friendsquot', 10930), ('quotto', 10931), ('alyson', 10932), ('wuz', 10933), ('angela', 10934), ('marbela', 10935), ('batles', 10936), ('liein', 10937), ('kido', 10938), ('isint', 10939), ('rep', 10940), ('canadian', 10941), ('marilyn', 10942), ('colourful', 10943), ('elegance', 10944), ('waraku', 10945), ('preprom', 10946), ('milwauke', 10947), ('compre', 10948), ('24hrs', 10949), ('quotwequot', 10950), ('unfortunatley', 10951), ('copenhagen', 10952), ('uhm', 10953), ('ticketmaster', 10954), ('miz', 10955), ('socialmediatv', 10956), ('tifany', 10957), ('habo', 10958), ('thoughtful', 10959), ('aditional', 10960), ('sado', 10961), (\"hair's\", 10962), ('anthem', 10963), ('robinson', 10964), ('sbs', 10965), ('loveyou', 10966), ('workaholic', 10967), ('tacoma', 10968), ('gable', 10969), ('hoping', 10970), ('intentionaly', 10971), ('prohibit', 10972), (\"quotwhat's\", 10973), ('sugarland', 10974), ('fakin', 10975), ('cusing', 10976), ('mcflys', 10977), ('amendment', 10978), ('pimpin', 10979), ('thrd', 10980), ('nerdprom', 10981), ('060', 10982), ('yi', 10983), ('concur', 10984), ('laodicean', 10985), ('pitiful', 10986), ('investor', 10987), ('ltgt', 10988), ('myst', 10989), ('bhi', 10990), ('eyesquot', 10991), ('curtain', 10992), ('cameo', 10993), ('endanger', 10994), (\"wat's\", 10995), ('injection', 10996), ('bleah', 10997), (\"dvd's\", 10998), ('forevs', 10999), ('cbebies', 11000), ('chingo', 11001), ('gq', 11002), ('deply', 11003), ('treasure', 11004), ('nutreal', 11005), ('meanie', 11006), ('snod', 11007), ('oracle', 11008), ('botleg', 11009), ('baguio', 11010), ('increasingly', 11011), ('aerobics', 11012), ('bulmers', 11013), ('pear', 11014), ('organ', 11015), ('shea', 11016), ('bling', 11017), ('permanently', 11018), ('dancin', 11019), ('sane', 11020), ('rifle', 11021), ('academic', 11022), ('lunching', 11023), ('islands', 11024), ('arabic', 11025), ('alt', 11026), ('sau', 11027), ('curency', 11028), ('hick', 11029), ('violate', 11030), ('bran', 11031), ('discusions', 11032), ('playdate', 11033), (\"i's\", 11034), ('neon', 11035), ('cougar', 11036), ('suporters', 11037), ('17quot', 11038), ('toshiba', 11039), ('3gig', 11040), ('overwhelm', 11041), ('grouchy', 11042), ('wowza', 11043), ('quotshort', 11044), ('muse', 11045), ('carter', 11046), ('10mins', 11047), ('cambodian', 11048), ('lou', 11049), ('piere', 11050), ('carmen', 11051), ('tint', 11052), ('triumph', 11053), ('oct', 11054), ('hari', 11055), ('aug', 11056), ('julian', 11057), ('helotxt', 11058), ('hedge', 11059), (\"company's\", 11060), ('moldovan', 11061), ('shoud', 11062), ('kawawa', 11063), ('retake', 11064), ('err', 11065), ('potentiometer', 11066), ('imprint', 11067), ('playfulness', 11068), ('windsock', 11069), ('fuss', 11070), ('diffident', 11071), ('supreme_headquarters_allied_powers_europe', 11072), ('breakage', 11073), ('signalize', 11074), ('doctor_of_optometry', 11075), ('torso', 11076), ('interpret', 11077), ('tangle', 11078), ('athletic_supporter', 11079), ('first_gear', 11080), ('stove', 11081), ('blistering', 11082), ('megabit', 11083), ('affection', 11084), ('one-twelfth', 11085), ('occupation', 11086), ('tamp_down', 11087), ('ordering', 11088), ('depository_financial_institution', 11089), ('headroom', 11090), ('subcontract', 11091), ('naturalistic', 11092), ('wisdom_of_solomon', 11093), ('double_over', 11094), ('soon', 11095), ('negligence', 11096), ('playing_field', 11097), ('very_important_person', 11098), ('clamber', 11099), ('bachelor_of_medicine', 11100), ('reelect', 11101), ('distinguish', 11102), ('britisher', 11103), ('compress', 11104), ('pulse', 11105), ('awed', 11106), ('sixty-five', 11107), ('convict', 11108), ('effective', 11109), ('concenter', 11110), ('think_of', 11111), ('clang', 11112), ('second_base', 11113), ('closenes', 11114), ('midnite', 11115), ('inventory', 11116), (\"what're\", 11117), ('dsl', 11118), ('kendra', 11119), ('advertisement', 11120), ('govt', 11121), ('publisher', 11122), ('dove', 11123), ('masculinity', 11124), (\"u'd\", 11125), ('wain', 11126), ('length', 11127), ('wekquot', 11128), ('gelong', 11129), ('testing', 11130), ('recovering', 11131), ('rustle', 11132), ('thingie', 11133), ('drowsy', 11134), ('unpacking', 11135), ('spontaneously', 11136), ('stl', 11137), ('checkup', 11138), ('racquet', 11139), ('lars', 11140), ('516', 11141), ('reopen', 11142), ('brandy', 11143), ('conscience', 11144), ('turquoise', 11145), ('florist', 11146), ('favour', 11147), (\"idea's\", 11148), ('liquid', 11149), ('pst', 11150), ('typing', 11151), ('nvidia', 11152), ('everythings', 11153), ('mwahaha', 11154), ('surge', 11155), ('genuinely', 11156), ('quotpurple', 11157), ('bandaid', 11158), ('cholesterol', 11159), ('neice', 11160), ('psn', 11161), ('justwatched', 11162), ('pau', 11163), ('uu', 11164), ('lighten', 11165), ('wade', 11166), ('slo', 11167), ('sil', 11168), ('tidur', 11169), ('adem', 11170), ('uit', 11171), ('hen', 11172), ('sweter', 11173), ('snugie', 11174), ('rod', 11175), ('specie', 11176), ('monthly', 11177), ('chaper', 11178), ('cave', 11179), ('unecesary', 11180), ('cornel', 11181), ('shortage', 11182), ('delirious', 11183), ('bawls', 11184), ('dina', 11185), ('brady', 11186), ('chal', 11187), (\"tv's\", 11188), ('bandit', 11189), ('oberhausen', 11190), ('mae', 11191), ('np', 11192), ('tfn', 11193), ('maniac', 11194), ('babysiter', 11195), ('porto', 11196), ('evermore', 11197), ('40,0', 11198), ('sandal', 11199), ('shouldve', 11200), ('nae', 11201), ('bugle', 11202), ('bog', 11203), ('jester', 11204), ('vim', 11205), ('mushroms', 11206), ('4days', 11207), ('virtue', 11208), ('adicting', 11209), ('boba', 11210), ('encore', 11211), ('bahamas', 11212), ('mindful', 11213), ('caviar', 11214), ('comands', 11215), ('incline', 11216), ('catalog', 11217), ('mkay', 11218), ('plce', 11219), ('jomla', 11220), ('nedy', 11221), ('rename', 11222), ('tisue', 11223), ('98', 11224), ('chad', 11225), ('ketle', 11226), ('quotdamn', 11227), ('k12', 11228), ('negativity', 11229), ('monica', 11230), (\"eminem's\", 11231), ('fasho', 11232), ('snezes', 11233), ('kidos', 11234), ('casete', 11235), ('corespondent', 11236), ('debie', 11237), ('jinxed', 11238), ('witcha', 11239), ('cor', 11240), ('deli', 11241), ('gail', 11242), ('slater', 11243), ('marble', 11244), ('512', 11245), (\"senior's\", 11246), ('vpn', 11247), ('fedex', 11248), ('mpix', 11249), ('jiz', 11250), ('linkedin', 11251), ('fixd', 11252), ('pervs', 11253), ('considerably', 11254), ('o2', 11255), ('oin', 11256), ('problemo', 11257), ('more', 11258), ('niple', 11259), ('debusy', 11260), ('chalenger', 11261), ('rsmv', 11262), ('sailor', 11263), ('payrol', 11264), ('ovi', 11265), ('anas', 11266), ('keri', 11267), ('supermarket', 11268), ('eleven', 11269), ('fatboy', 11270), ('worky', 11271), ('onwards', 11272), ('bc1', 11273), ('pinot', 11274), ('didgerido', 11275), ('springtime', 11276), ('anderson', 11277), ('kirby', 11278), ('tenor', 11279), ('nuh', 11280), ('deploy', 11281), ('centigrade', 11282), ('faves', 11283), ('delegate', 11284), ('nigh', 11285), ('breaky', 11286), ('sureal', 11287), ('balmain', 11288), ('poh', 11289), ('chan', 11290), ('dp', 11291), ('pku', 11292), ('python', 11293), ('mudhut', 11294), ('moring', 11295), ('30th', 11296), ('telescope', 11297), ('bai', 11298), ('kt', 11299), ('getn', 11300), ('outdated', 11301), ('drupal', 11302), ('omlete', 11303), ('aero', 11304), ('sicky', 11305), ('imobiliser', 11306), ('porer', 11307), ('fearles', 11308), ('eldhose', 11309), (\"hindu's\", 11310), ('barcamp', 11311), ('biny', 11312), ('orangepineaplebanana', 11313), ('definatelyi', 11314), ('dale', 11315), ('filet', 11316), ('myweawknes', 11317), ('utv', 11318), ('whasqod', 11319), ('nds', 11320), ('ghmetalica', 11321), ('howmany', 11322), ('parela', 11323), ('marcia', 11324), ('mcguire', 11325), ('pencilsquot', 11326), ('domina', 11327), ('dedicated', 11328), ('readheads', 11329), ('nerding', 11330), ('fragment', 11331), ('reabsorb', 11332), ('operated', 11333), ('arangements', 11334), ('jagk', 11335), ('sweldo', 11336), ('rake', 11337), ('devs', 11338), ('cnet', 11339), ('arbie', 11340), ('teflon', 11341), ('whisky', 11342), ('ravit', 11343), ('biafra', 11344), ('digit', 11345), ('fpu', 11346), ('generous', 11347), ('cano', 11348), ('slepnow', 11349), ('kojikun', 11350), ('seastar', 11351), ('hospitol', 11352), ('tourny', 11353), ('reriped', 11354), ('apicture', 11355), ('quotiquot', 11356), ('posture', 11357), ('lighterampbong', 11358), ('pastime', 11359), ('gdaughter', 11360), ('eft', 11361), ('kenedy', 11362), ('reinjured', 11363), ('digiqom', 11364), ('squigy', 11365), ('laverne', 11366), ('snd', 11367), ('maverick', 11368), ('unused', 11369), ('tlking', 11370), ('shag', 11371), ('undertanding', 11372), (\"family's\", 11373), ('enlargement', 11374), ('sk8', 11375), ('skateprk', 11376), ('buxton', 11377), ('slr', 11378), ('surender', 11379), ('thirst', 11380), ('chanwok', 11381), ('nar', 11382), ('yupie', 11383), ('manageable', 11384), ('growling', 11385), ('deland', 11386), ('awogah', 11387), ('lincolnshire', 11388), ('resonate', 11389), ('e1', 11390), (\"palomino's\", 11391), ('whywhywhy', 11392), ('grtsat', 11393), ('bgeting', 11394), (\"by'al\", 11395), ('crapier', 11396), ('120am', 11397), ('congest', 11398), ('scam', 11399), ('uy', 11400), ('cliche', 11401), ('closin', 11402), ('woking', 11403), ('partytime', 11404), ('mckena', 11405), ('quotdietsquot', 11406), ('jelz', 11407), ('kelsenator', 11408), ('outage', 11409), ('proped', 11410), ('slipy', 11411), ('mer', 11412), ('fer', 11413), ('reintroduce', 11414), ('relocate', 11415), ('interminable', 11416), ('garnier', 11417), ('drugstore', 11418), ('gson', 11419), ('reluctantly', 11420), ('winipeg', 11421), ('socialquot', 11422), ('dolores', 11423), ('i90d', 11424), ('fisheye', 11425), ('peks', 11426), ('choreograph', 11427), ('feminine', 11428), ('hearin', 11429), ('convos', 11430), ('redundancy', 11431), ('yd', 11432), ('batshit', 11433), ('orwel', 11434), ('chinerys', 11435), ('redskin', 11436), ('pansy', 11437), ('codeh', 11438), ('halfswet', 11439), (\"suma's\", 11440), (\"t'other\", 11441), ('renounce', 11442), ('buzers', 11443), ('blighty', 11444), ('embroidery', 11445), ('anberlin', 11446), ('eish', 11447), ('boet', 11448), ('nebal', 11449), ('plc', 11450), ('483', 11451), ('gamier', 11452), ('metaverseu', 11453), ('mlb', 11454), ('mlbn', 11455), ('televise', 11456), ('detbal', 11457), ('wl', 11458), ('stepin', 11459), ('platypus', 11460), ('agfest', 11461), (\"clean'n\", 11462), (\"lay'n\", 11463), ('twita', 11464), ('miamiadc', 11465), ('dele', 11466), ('vine', 11467), ('haselblad', 11468), ('ashy', 11469), ('unify', 11470), ('drasticaly', 11471), ('werent', 11472), (\"newsdon't\", 11473), ('elbowarm', 11474), ('ruthie', 11475), ('dion', 11476), ('bravotv', 11477), ('greatings', 11478), ('shanan', 11479), ('lade', 11480), ('lanet', 11481), ('haia', 11482), ('hardearned', 11483), ('jos', 11484), ('whedon', 11485), ('weigly', 11486), ('stainage', 11487), ('hrlich', 11488), ('quotleave', 11489), ('piecesquot', 11490), ('wrecker', 11491), ('humility', 11492), ('715', 11493), ('loadsa', 11494), ('shize', 11495), ('chloes', 11496), ('trike', 11497), ('thingo', 11498), ('kimberle', 11499), ('charmer', 11500), ('ludi', 11501), ('eran', 11502), ('grining', 11503), ('iraheta', 11504), ('thatsmee', 11505), ('smoky', 11506), ('kmart', 11507), ('ealy', 11508), ('explored', 11509), ('clasfinal', 11510), ('sorority', 11511), ('southampton', 11512), ('mumers', 11513), ('loaded', 11514), ('2k9', 11515), ('rereads', 11516), ('spat', 11517), ('omgah', 11518), ('crepering', 11519), ('wiliamsburg', 11520), ('infinite', 11521), ('boutique', 11522), ('wbad', 11523), ('bludge', 11524), ('brum', 11525), ('niguhs', 11526), ('ilh', 11527), ('hardwod', 11528), ('mccartney', 11529), ('dowe', 11530), ('macedonia', 11531), ('paintbaling', 11532), ('threadles', 11533), ('timeframe', 11534), ('kidie', 11535), ('getup', 11536), ('amoxxx', 11537), ('bqing', 11538), ('mabye', 11539), ('mashup', 11540), ('hysteria', 11541), ('chavs', 11542), ('adapter', 11543), ('sandy', 11544), ('bekz', 11545), ('derian', 11546), ('twetboard', 11547), ('retrorewind', 11548), ('campy', 11549), ('troma', 11550), ('jls', 11551), ('120now', 11552), ('delcious', 11553), ('sarahmarie', 11554), ('spagheti', 11555), ('brasilia', 11556), ('awesomeupdater', 11557), ('flirting', 11558), ('tenderloin', 11559), ('grens', 11560), ('kareoke', 11561), (\"popeye's\", 11562), ('freshi', 11563), ('comquot', 11564), ('420', 11565), ('answerd', 11566), ('ecology', 11567), ('blumenthal', 11568), ('nonsense', 11569), ('creditcard', 11570), ('pigys', 11571), ('ezlo', 11572), ('modle', 11573), ('bokings', 11574), ('lococrime', 11575), ('meself', 11576), ('uhg', 11577), ('shifty', 11578), ('situps', 11579), ('airforce', 11580), ('shtich', 11581), ('prov', 11582), ('tude', 11583), ('romatic', 11584), ('pricey', 11585), ('ofhand', 11586), ('tmemegt', 11587), ('delta', 11588), ('lucien', 11589), ('kerk', 11590), ('vocalist', 11591), ('persepolis', 11592), ('brunt', 11593), ('unabashedly', 11594), ('byw', 11595), ('cater', 11596), ('atx', 11597), ('lifts', 11598), ('crazierquot', 11599), ('mg', 11600), ('acsvxdcbgfn', 11601), ('phoebe', 11602), ('carilo', 11603), ('inevitably', 11604), ('sexualmaternal', 11605), ('gutered', 11606), ('nzntm', 11607), ('hosana', 11608), (\"sergeant's\", 11609), ('betches', 11610), ('seating', 11611), ('jonasnewsongs', 11612), ('polen', 11613), ('cervical', 11614), ('underworld', 11615), ('blogrelated', 11616), ('retired', 11617), ('nachos', 11618), ('oes', 11619), ('restaurantone', 11620), ('dukbolgi', 11621), ('thumbnail', 11622), ('savior', 11623), ('fireflight', 11624), ('desapointed', 11625), ('wimbledon', 11626), ('sufolk', 11627), ('orbicule', 11628), ('norwegian', 11629), ('wrigley', 11630), ('klonopin', 11631), ('loging', 11632), ('preserve', 11633), ('pruney', 11634), ('ampthil', 11635), ('gphone', 11636), ('blogin', 11637), ('240', 11638), ('oda', 11639), ('2u2', 11640), ('churchil', 11641), ('oft', 11642), ('breathing', 11643), ('believing', 11644), ('whinetwet', 11645), ('imperial', 11646), ('chux', 11647), ('logicaly', 11648), ('hmz', 11649), ('governmental', 11650), ('981', 11651), ('revisin', 11652), ('emulate', 11653), ('activeresource', 11654), ('uktv', 11655), ('tomro', 11656), ('gosforth', 11657), ('yot', 11658), (\"s'just\", 11659), ('sewin', 11660), ('coudl', 11661), ('starbuks', 11662), ('turbul', 11663), ('bunt', 11664), ('mjb', 11665), ('introduction', 11666), ('burton', 11667), ('feria', 11668), ('lasercut', 11669), ('muriel', 11670), ('expedite', 11671), ('geksonaplane', 11672), ('quotmigratequot', 11673), ('frely', 11674), ('southridge', 11675), ('3pg', 11676), (\"mimi's\", 11677), ('richele', 11678), ('sucubus', 11679), ('bluesfabulous', 11680), (\"wagner's\", 11681), ('tactik', 11682), ('warsaw', 11683), ('exstudent', 11684), ('sudying', 11685), ('wee', 11686), ('arr', 11687), ('sowbur', 11688), ('promiss', 11689), ('styoopid', 11690), ('hazzunt', 11691), ('kum', 11692), ('agane', 11693), ('itt', 11694), ('hyding', 11695), ('sumware', 11696), ('larffing', 11697), ('att', 11698), ('grer', 11699), ('actorres', 11700), ('weksquot', 11701), ('p1', 11702), ('quotwhere', 11703), ('garyquot', 11704), ('ticker', 11705), ('grounded', 11706), ('tpt', 11707), ('pulaski', 11708), ('pageslt', 11709), ('teignmouth', 11710), ('dawlish', 11711), ('haiti', 11712), ('ahd', 11713), ('conti', 11714), ('badboks', 11715), ('rhodes', 11716), ('resignation', 11717), ('quotshiping', 11718), ('handleingquot', 11719), ('troyela', 11720), ('gmow', 11721), ('fanbase', 11722), ('waterfal', 11723), ('randomnes', 11724), ('sadifying', 11725), ('heartparts', 11726), ('k4ge', 11727), ('yogurting', 11728), (\"mona's\", 11729), ('yoplait', 11730), ('quotefortquot', 11731), ('quotteamquot', 11732), ('shwasty', 11733), ('shloshed', 11734), ('notary', 11735), ('retrograde', 11736), ('tragidy', 11737), ('inocents', 11738), ('camara', 11739), (\"we's\", 11740), ('invented', 11741), ('val', 11742), ('comitments', 11743), ('forgiveme', 11744), ('burnouts', 11745), ('softes', 11746), ('kaching', 11747), ('ilse', 11748), ('terorists', 11749), ('havaianas', 11750), ('mold', 11751), ('quottalkedquot', 11752), ('devin', 11753), ('gqfhm', 11754), ('colerbone', 11755), (\"josie's\", 11756), ('procreate', 11757), ('huwts', 11758), ('wadge', 11759), ('hunger', 11760), ('maron', 11761), ('quotsongs', 11762), ('janequot', 11763), ('boast', 11764), ('puls', 11765), ('keyla', 11766), ('janice', 11767), ('sancha', 11768), ('chini', 11769), ('canceled', 11770), ('filum', 11771), ('outamyleague', 11772), ('michou', 11773), ('gofin', 11774), ('pange', 11775), ('ahahahahaha', 11776), ('streamyx', 11777), ('screwmyx', 11778), ('befin', 11779), ('overdid', 11780), ('recourse', 11781), ('aty', 11782), (\"broke's\", 11783), ('wathing', 11784), ('taquito', 11785), ('beinale', 11786), ('nvrmind', 11787), ('manicurist', 11788), ('asprin', 11789), ('nipising', 11790), ('referencememe', 11791), ('wekender', 11792), ('bufy', 11793), ('s1', 11794), ('1,2', 11795), ('6,7', 11796), ('bikeshed', 11797), ('ilusin', 11798), ('deadly', 11799), ('spechles', 11800), ('manila', 11801), ('bitin', 11802), ('midol', 11803), ('fasting', 11804), ('whitby', 11805), ('famz', 11806), ('vserver', 11807), ('103', 11808), ('shontele', 11809), ('layne', 11810), ('huah', 11811), ('jupa', 11812), ('resa', 11813), ('awas', 11814), ('kalian', 11815), ('copycat', 11816), ('whants', 11817), ('saginaki', 11818), ('quoteat', 11819), ('magots', 11820), ('savechuck', 11821), ('trini', 11822), ('esata', 11823), ('bendito', 11824), ('wartermelon', 11825), ('chairman', 11826), ('kurt', 11827), (\"lexington's\", 11828), ('bkuz', 11829), ('jokein', 11830), ('bwt', 11831), ('somethn', 11832), ('recogns', 11833), ('preclark', 11834), ('vibrate', 11835), ('fuckyoumonday', 11836), (\"q'doba\", 11837), ('lantz', 11838), ('hearn', 11839), ('scofed', 11840), ('sumo', 11841), ('macboks', 11842), ('playground', 11843), ('bogus', 11844), ('cockney', 11845), ('cmdq', 11846), ('easton', 11847), ('uncomfortably', 11848), ('roping', 11849), ('conor', 11850), ('bunuelos', 11851), ('stereotypical', 11852), ('avon', 11853), ('foreword', 11854), ('waitreses', 11855), ('ohnoes', 11856), ('lurk', 11857), ('compasion', 11858), ('gel', 11859), (\"princelple's\", 11860), ('myslef', 11861), ('milsy', 11862), ('keynote', 11863), ('screncastsonline', 11864), ('resigned', 11865), (\"p'kia\", 11866), ('witdrawal', 11867), ('quitsmokingdiary', 11868), ('americana', 11869), ('blockparty', 11870), (\"mp's\", 11871), ('insensitive', 11872), ('ilustrate', 11873), ('buda', 11874), ('hawndog', 11875), ('blosom', 11876), ('salman', 11877), ('munir', 11878), ('1024', 11879), ('twestival', 11880), ('comite', 11881), ('sorehead', 11882), ('buckle', 11883), ('inanity', 11884), ('overboard', 11885), (\"doneit's\", 11886), ('mixin', 11887), (\"mary's\", 11888), ('dworlds', 11889), ('bry', 11890), (\"ad's\", 11891), ('aroud', 11892), ('brusters', 11893), ('clinic', 11894), ('cashouts', 11895), (\"twet'n\", 11896), ('quotjonesingquot', 11897), ('inane', 11898), ('123,243', 11899), ('342', 11900), ('weatherman', 11901), ('6p7p', 11902), ('815p', 11903), ('weathermenrneveright', 11904), ('wasabi', 11905), ('buletin', 11906), ('fernandez', 11907), (\"twit's\", 11908), ('ticklish', 11909), ('outz', 11910), ('quottru', 11911), ('calingquot', 11912), ('empanada', 11913), ('tequeos', 11914), ('venezuelan', 11915), ('apeals', 11916), ('serving', 11917), ('timequot', 11918), ('spb', 11919), ('quotmust', 11920), ('havequot', 11921), ('banbury', 11922), ('trainstubes', 11923), ('backgroud', 11924), ('proverbs', 11925), ('62023', 11926), ('rink', 11927), ('114', 11928), (\"eachother's\", 11929), ('cordoning', 11930), ('quotswine', 11931), ('fluquot', 11932), ('heated', 11933), ('pius', 11934), ('usael', 11935), ('notmuch', 11936), ('amcalie', 11937), ('whur', 11938), ('lightquot', 11939), ('quotbe', 11940), ('productivequot', 11941), ('erikah', 11942), ('oxteach', 11943), ('pleasantly', 11944), ('funsies', 11945), ('bathgate', 11946), ('veo', 11947), ('ahasta', 11948), ('lunes', 11949), ('fodshoping', 11950), ('quotpurplequot', 11951), ('afirmation', 11952), ('pretifide', 11953), ('quotedquot', 11954), (\"walkthey're\", 11955), ('printed', 11956), ('bwrc', 11957), ('oposites', 11958), ('caltrain', 11959), ('scheduled', 11960), ('modesty', 11961), ('timer', 11962), (\"chelsea's\", 11963), ('19femaleatl', 11964), ('noisyquot', 11965), ('poetize', 11966), ('refreshingly', 11967), ('pelham', 11968), (\"iphone's\", 11969), ('tec', 11970), ('tirednes', 11971), ('quotgeting', 11972), ('knowquot', 11973), ('georgetown', 11974), ('invoice', 11975), ('noah', 11976), ('kickbut', 11977), ('ukpubs', 11978), ('polster', 11979), ('identification', 11980), ('republican', 11981), ('blatantly', 11982), ('instore', 11983), ('rockaway', 11984), ('foking', 11985), (\"f'kin\", 11986), ('rowing', 11987), ('cower', 11988), ('waltzer', 11989), (\"macbok's\", 11990), ('recharger', 11991), ('pratchet', 11992), ('okasan', 11993), ('46', 11994), ('fanciful', 11995), ('24hr', 11996), ('breathes', 11997), ('tolerate', 11998), ('inland', 11999), ('siouxsiner', 12000), ('sympahty', 12001), ('1,16', 12002), (\"o'donel\", 12003), ('debt', 12004), ('naplan', 12005), ('comerce', 12006), ('chescake', 12007), ('lovatoback', 12008), ('lovatobehind', 12009), ('headbangersbal', 12010), ('quotgothquot', 12011), ('snowy', 12012), ('untwit', 12013), ('babelfish', 12014), ('levi', 12015), ('ishas', 12016), ('observation', 12017), ('riverwalk', 12018), ('artslam', 12019), ('independently', 12020), ('malamute', 12021), ('6ft', 12022), ('73kg', 12023), ('geordanos', 12024), ('peperoni', 12025), ('civilisation', 12026), ('custodian', 12027), ('colaboration', 12028), ('formating', 12029), ('milenia', 12030), ('knot', 12031), ('unravel', 12032), ('riter', 12033), ('vod', 12034), ('congrat', 12035), ('moned', 12036), ('hakuna', 12037), ('matana', 12038), ('boziest', 12039), ('supercute', 12040), ('hectiv', 12041), ('gof', 12042), ('casualty', 12043), ('discography', 12044), ('veoh', 12045), ('misd', 12046), ('kisa', 12047), ('enchiladas', 12048), ('cyberspace', 12049), ('quotnudgequot', 12050), ('beautifyl', 12051), ('chalanges', 12052), ('movingcariphone', 12053), ('snezy', 12054), ('arabele', 12055), ('datetime', 12056), ('aparantley', 12057), ('bucharest', 12058), ('trusty', 12059), ('wep', 12060), ('roach', 12061), ('patricia', 12062), ('abang', 12063), ('waled', 12064), ('twens', 12065), ('friz', 12066), ('sheridan', 12067), (\"ane's\", 12068), ('unexpectedly', 12069), ('dayem', 12070), ('quotsave', 12071), ('joemar', 12072), ('batan', 12073), ('camiguin', 12074), ('ofcmatesamp', 12075), ('luwas', 12076), ('matresing', 12077), (\"brad's\", 12078), ('funiset', 12079), ('docker', 12080), ('whever', 12081), (\"sarah's\", 12082), ('frward', 12083), ('runaway', 12084), ('alstars', 12085), ('quotpoisequot', 12086), ('suhwet', 12087), ('robs', 12088), ('8k', 12089), ('btwen', 12090), ('enormous', 12091), ('quottrying', 12092), ('2dai', 12093), ('dai', 12094), ('recipes', 12095), ('ltigtwaiting', 12096), ('natie', 12097), ('pastel', 12098), ('nested', 12099), ('invert', 12100), ('difusing', 12101), ('iritation', 12102), ('ramon', 12103), ('cruisey', 12104), ('tradewinds', 12105), ('shoreline', 12106), (\"barakat's\", 12107), ('noy', 12108), ('quotcameronquot', 12109), ('homepagequot', 12110), ('somtimes', 12111), ('smo', 12112), ('prehistoric', 12113), ('286', 12114), ('compaq', 12115), ('todle', 12116), ('pip', 12117), ('torino', 12118), ('longhaul', 12119), ('docent', 12120), ('hvng', 12121), ('aftrn', 12122), ('olina', 12123), ('kaneohe', 12124), ('sacrilege', 12125), ('frd', 12126), ('lovehunting', 12127), ('quotyu', 12128), ('yungquot', 12129), ('yezir', 12130), ('surplus', 12131), ('explicitly', 12132), ('legion', 12133), ('maya', 12134), ('kibel', 12135), ('1971', 12136), ('fany', 12137), ('alryt', 12138), ('tmoro', 12139), ('sumin', 12140), ('aen', 12141), ('citibank', 12142), ('granys', 12143), (\"jes's\", 12144), (\"rick's\", 12145), ('onl', 12146), ('sami', 12147), ('balancing', 12148), ('campos', 12149), ('misendon', 12150), ('calcs', 12151), ('yoko', 12152), ('ono', 12153), ('underpaid', 12154), ('esplained', 12155), (\"nbc's\", 12156), ('outfield', 12157), ('duke', 12158), ('swede', 12159), ('ena', 12160), ('kodumai', 12161), ('idhu', 12162), ('aikido', 12163), ('omeletes', 12164), ('chapathis', 12165), ('exterminator', 12166), ('buhahaha', 12167), ('janesa', 12168), ('pik', 12169), ('rutger', 12170), ('hauer', 12171), ('unsalvageable', 12172), ('magix', 12173), ('rhythm', 12174), ('extensive', 12175), ('swat', 12176), ('1245pm', 12177), ('spicey', 12178), ('illegal', 12179), ('pers', 12180), ('notify', 12181), ('pinwhel', 12182), ('cfi', 12183), ('livejournal', 12184), ('beeyetesehedge', 12185), ('quotofquot', 12186), ('salmon', 12187), ('aporkalype', 12188), ('songs', 12189), ('springfield', 12190), ('quottouchquot', 12191), ('readtenboksduringthesumer', 12192), ('polvoron', 12193), ('mauro', 12194), ('dildo', 12195), ('arsehole', 12196), ('ankile', 12197), ('fucked', 12198), ('faintly', 12199), ('daugter', 12200), ('g2g', 12201), ('warsquot', 12202), ('hasbro', 12203), ('shunt', 12204), ('airsoft', 12205), ('bonding', 12206), ('guardian', 12207), ('neuroanatomy', 12208), ('takehome', 12209), ('eveyone', 12210), ('comish', 12211), ('thash', 12212), ('nanaimo', 12213), ('instantmesaging', 12214), ('nonmothers', 12215), ('plese', 12216), ('thriler', 12217), ('celina', 12218), ('uhp', 12219), ('cramps', 12220), ('115', 12221), ('ec2', 12222), ('ulcerrific', 12223), ('ulstacular', 12224), ('quotmother', 12225), ('earthquot', 12226), ('nurture', 12227), ('vinylclad', 12228), ('playset', 12229), ('mfr', 12230), ('amish', 12231), ('built', 12232), ('buh', 12233), ('ouvindo', 12234), ('dreamsquot', 12235), ('melhor', 12236), ('nunca', 12237), ('existiu', 12238), ('pra', 12239), ('comear', 12240), ('waubonsie', 12241), ('flypside', 12242), ('creat', 12243), ('listenening', 12244), ('downright', 12245), ('masochistic', 12246), ('songd', 12247), ('vacationsightseing', 12248), ('gaijin', 12249), ('godzila', 12250), ('13gigs', 12251), ('eithah', 12252), ('shecky', 12253), ('wikihow', 12254), ('thie', 12255), ('climbquot', 12256), ('mosque', 12257), ('minigolf', 12258), ('fifa', 12259), ('zade', 12260), ('tulip', 12261), ('casandra', 12262), ('wilcox', 12263), ('blos', 12264), ('cuase', 12265), ('zagrebe', 12266), ('butles', 12267), ('retrievable', 12268), ('archived', 12269), ('stiches', 12270), ('honorary', 12271), ('longest', 12272), ('consecutive', 12273), ('grasp', 12274), ('entrepreneur', 12275), ('colidge', 12276), ('aundy', 12277), ('flods', 12278), ('tei', 12279), ('sency', 12280), ('ghina', 12281), ('bgn', 12282), ('baq', 12283), ('headach', 12284), ('dbl', 12285), ('al4web', 12286), ('quotbus', 12287), ('stalkingquot', 12288), ('evenin', 12289), ('azalea', 12290), ('charcoal', 12291), ('shanepunjab', 12292), ('fucktards', 12293), ('marnier', 12294), ('soufle', 12295), ('lvoe', 12296), ('lastnite', 12297), (\"archie's\", 12298), ('triangle', 12299), ('farn', 12300), ('lai', 12301), ('degenerate', 12302), ('ocupants', 12303), ('reprehensibles', 12304), ('minethatbird', 12305), ('quotinvalid', 12306), ('paswordquot', 12307), ('somethng', 12308), ('uqh', 12309), ('chorleywod', 12310), ('panwa', 12311), ('gpgmail', 12312), ('humingbird', 12313), ('pixies', 12314), ('strum', 12315), ('stereo', 12316), ('skyline', 12317), ('30p', 12318), (\"nany's\", 12319), ('iater', 12320), ('hustle', 12321), (\"travolta's\", 12322), ('quotgrease', 12323), ('lightningquot', 12324), ('basline', 12325), ('zavaroni', 12326), ('barymore', 12327), ('perfectionist', 12328), ('fulterm', 12329), ('38th', 12330), ('mwaha', 12331), ('rince', 12332), ('deforestation', 12333), ('slipons', 12334), ('checkered', 12335), ('boagsie', 12336), ('ngh', 12337), ('madam', 12338), (\"person's\", 12339), ('18,0', 12340), ('moines', 12341), ('tdwp', 12342), ('cought', 12343), ('giardia', 12344), ('oldy', 12345), ('quotreply', 12346), ('acents', 12347), ('skiped', 12348), ('pinkish', 12349), ('civilization', 12350), ('feather', 12351), ('quotfind', 12352), ('tenesequot', 12353), ('squabling', 12354), ('tumblarity', 12355), ('sorors', 12356), ('dung', 12357), ('silvera', 12358), ('marcos', 12359), ('cutback', 12360), ('67pm', 12361), ('1386am', 12362), ('chemist', 12363), ('4secs', 12364), ('absolutley', 12365), ('trianing', 12366), ('suwet', 12367), ('fondont', 12368), ('casio', 12369), ('parkcafe', 12370), ('feret', 12371), ('racing', 12372), ('risns', 12373), ('poynter', 12374), ('jud', 12375), ('yeaup', 12376), ('242', 12377), ('astop', 12378), (\"lipton's\", 12379), (\"denver's\", 12380), ('tabz', 12381), (\"jos'd\", 12382), ('sherieshepherd', 12383), ('thabks', 12384), (\"tito's\", 12385), ('heires', 12386), ('geking', 12387), ('pantsquot', 12388), ('ohed', 12389), (\"shriya's\", 12390), ('hungryampi', 12391), (\"cat's\", 12392), (\"silverstone's\", 12393), ('iracing', 12394), ('thatwouldmake', 12395), ('1of', 12396), ('topnotch', 12397), ('sheli', 12398), ('aawh', 12399), ('areo', 12400), ('lumpy', 12401), ('chatering', 12402), ('cote', 12403), ('difers', 12404), ('librarykeychainssystem', 12405), ('501', 12406), ('ep1', 12407), ('pretamanger', 12408), ('archies', 12409), ('raul', 12410), ('chapele', 12411), ('monthslt', 12412), ('sakatas', 12413), ('tide', 12414), ('famine', 12415), ('iknow', 12416), ('17th', 12417), ('unconditional', 12418), ('butermilk', 12419), ('thelovelybones', 12420), ('premire', 12421), ('thingys', 12422), ('zak', 12423), ('wuld', 12424), ('gahd', 12425), ('contemporary', 12426), ('hilariousnes', 12427), ('hehesory', 12428), ('misadventure', 12429), ('benihana', 12430), ('powerbal', 12431), ('jackpot', 12432), ('formidable', 12433), ('badumtish', 12434), (\"causin's\", 12435), ('keone', 12436), (\"chonie's\", 12437), ('sham', 12438), ('adhd', 12439), ('tehre', 12440), ('acountsand', 12441), ('saran', 12442), ('flovers', 12443), ('mucky', 12444), ('cnews', 12445), ('corp', 12446), ('prospect', 12447), ('anima', 12448), ('supermodel', 12449), ('miso', 12450), ('numpy', 12451), ('manipulate', 12452), ('uncertainty', 12453), ('fracked', 12454), ('diskhapines', 12455), ('uninteresting', 12456), ('pohaku', 12457), ('12st', 12458), ('creditcardsized', 12459), ('belongs', 12460), ('airco', 12461), ('gatlinburg', 12462), ('interupted', 12463), ('jackhamers', 12464), ('intil', 12465), ('thougth', 12466), ('405', 12467), ('nunguin', 12468), ('asih', 12469), ('trekyquot', 12470), ('arik', 12471), ('brusels', 12472), ('txting', 12473), ('resurect', 12474), ('swons', 12475), ('motelrom', 12476), ('axkit', 12477), ('househunt', 12478), ('richardson', 12479), ('lthas', 12480), ('quotrestoration', 12481), ('proposalsquot', 12482), ('avocet', 12483), ('tingle', 12484), ('tremendously', 12485), ('asthetics', 12486), ('misanthrope', 12487), ('debuging', 12488), ('risngs', 12489), ('preheatin', 12490), ('rtwestcoastgal', 12491), (\"schindler's\", 12492), ('reactionary', 12493), ('butfuck', 12494), ('forgetful', 12495), ('marko', 12496), ('roseland', 12497), ('ovechkin', 12498), ('luvly', 12499), ('koh', 12500), ('afterno', 12501), ('sizling', 12502), ('mimiron', 12503), ('hardmode', 12504), ('venture', 12505), ('lindos', 12506), ('frensfrm', 12507), ('2gather', 12508), ('figurine', 12509), ('boxquot', 12510), ('synology', 12511), ('diskstations', 12512), ('ahahay', 12513), ('jimithy', 12514), ('msbjlt', 12515), ('variable', 12516), ('margin', 12517), ('merh', 12518), ('excedrine', 12519), ('0128', 12520), ('barton', 12521), ('givingcaring', 12522), ('traitor', 12523), (\"desktop's\", 12524), ('ketboard', 12525), ('zacie', 12526), ('pineforest', 12527), ('tubey', 12528), ('thugh', 12529), ('quotobservationaly', 12530), ('insightfulquot', 12531), (\"cream's\", 12532), ('tci', 12533), ('stairs', 12534), ('baws', 12535), (\"act's\", 12536), ('quotfavesquot', 12537), ('minibus', 12538), ('birdsed', 12539), ('sibling', 12540), ('subhana', 12541), ('yeahs', 12542), ('softshock', 12543), ('friendquot', 12544), ('rafis', 12545), ('whers', 12546), ('palmpre', 12547), ('lbd', 12548), (\"valencia's\", 12549), ('ditch', 12550), ('punkin', 12551), ('telmetwice', 12552), ('dolarosa', 12553), ('aust', 12554), ('chng', 12555), ('quotremember', 12556), ('shorti', 12557), ('35am', 12558), ('lumpia', 12559), ('pancit', 12560), ('003', 12561), ('fraser', 12562), ('laidback', 12563), ('evaluation', 12564), ('tutes', 12565), ('alof', 12566), ('condescend', 12567), ('fretds', 12568), ('utf', 12569), ('workquot', 12570), ('rochele', 12571), ('nedquot', 12572), ('quotcater', 12573), ('icebox', 12574), ('ampi', 12575), ('kaylt', 12576), ('paragraph', 12577), ('grid', 12578), ('iqbal', 12579), ('lovehate', 12580), ('homescholing', 12581), ('rl', 12582), (\"shater'd\", 12583), ('ronaldo', 12584), ('lolclasic', 12585), ('embark', 12586), ('gtgtwhy', 12587), ('testgtgtgtgtgteverytime', 12588), ('violin', 12589), ('lesonlt', 12590), ('wusup', 12591), (\"wut's\", 12592), ('aspirin', 12593), ('managaed', 12594), ('neighbourhod', 12595), ('sprint', 12596), ('rachmaninof', 12597), ('tmnt', 12598), ('mpr', 12599), ('uda', 12600), ('skankin', 12601), ('gtgs', 12602), ('jig', 12603), ('buden', 12604), ('conectese', 12605), ('xetito', 12606), ('ekin', 12607), (\"oceanographer's\", 12608), ('transcription', 12609), ('overheating', 12610), ('bc4', 12611), ('morgie', 12612), ('quotphilipines', 12613), ('spawning', 12614), (\"tmobile's\", 12615), ('quotat', 12616), ('nitequot', 12617), ('quotsomewherequot', 12618), ('smokin', 12619), ('resultsquot', 12620), (\"proctor's\", 12621), ('ibprofen', 12622), ('paracetemol', 12623), ('codeine', 12624), ('sheraton', 12625), ('brodi', 12626), ('bqd', 12627), ('tino', 12628), ('gdnite', 12629), ('redi', 12630), ('a20k', 12631), ('protols', 12632), ('persia', 12633), ('inhale', 12634), ('partridge', 12635), ('terestrial', 12636), ('analogue', 12637), ('joyologist', 12638), ('tirith', 12639), ('radar', 12640), ('elmwod', 12641), ('jaki', 12642), (\"cody's\", 12643), ('gerald', 12644), ('alaround', 12645), ('redneck', 12646), ('putet', 12647), ('aquestionwhy', 12648), ('putz', 12649), ('adoro', 12650), (\"everythin's\", 12651), ('sader', 12652), ('raphael', 12653), ('sadiq', 12654), ('unforunately', 12655), ('str', 12656), ('potong', 12657), ('rambut', 12658), ('goy', 12659), ('dyer', 12660), ('mikesh', 12661), ('impecible', 12662), ('ado', 12663), ('overprice', 12664), ('tuto', 12665), ('cuore', 12666), ('braxton', 12667), ('endeavor', 12668), ('bakit', 12669), ('nilagnat', 12670), ('aq', 12671), ('khpon', 12672), ('hunchback', 12673), ('iratated', 12674), ('mathematica', 12675), ('ewrt', 12676), ('lampions', 12677), ('folkestone', 12678), ('macmaze', 12679), ('alumni', 12680), ('wac', 12681), ('imaging', 12682), ('handshake', 12683), ('quotchevrolet', 12684), ('domquot', 12685), ('novacaine', 12686), ('afrin', 12687), ('teacup', 12688), ('quotboys', 12689), ('girlsquot', 12690), ('egan', 12691), ('problematic', 12692), ('whalen', 12693), ('revel', 12694), ('radianborge', 12695), ('padre', 12696), ('pamilya', 12697), ('borgie', 12698), ('beshie', 12699), ('tiptop', 12700), ('uwian', 12701), ('phplurk', 12702), ('bcz', 12703), ('jazercise', 12704), ('chaperone', 12705), ('dayan', 12706), ('boredbots', 12707), ('grungy', 12708), ('basil', 12709), ('telegraph', 12710), ('insuran', 12711), ('meanw', 12712), ('turkish', 12713), ('lolzor', 12714), ('geology', 12715), ('bananas', 12716), ('nonfunctionalproductive', 12717), ('colton', 12718), ('redesign', 12719), ('chocolatey', 12720), ('ofend', 12721), ('rockstars', 12722), ('yups', 12723), ('unfolowers', 12724), ('hotshot', 12725), ('cigar', 12726), ('sbaro', 12727), ('wcandice', 12728), ('portmeirion', 12729), ('macedonian', 12730), ('serbia', 12731), ('df', 12732), ('37,4', 12733), ('pringles', 12734), ('wmc', 12735), ('frnd', 12736), ('existent', 12737), ('beatiful', 12738), ('antm', 12739), ('hermit', 12740), ('woring', 12741), ('tgi', 12742), ('boingo', 12743), (\"slower'n\", 12744), ('mdw', 12745), ('concourses', 12746), ('bokmarked', 12747), ('howto', 12748), ('guideles', 12749), ('relise', 12750), ('lonovala', 12751), ('arngmnts', 12752), ('wrkg', 12753), ('polside', 12754), ('toniht', 12755), ('tolbar', 12756), ('implementation', 12757), ('unitest', 12758), ('ngayon', 12759), ('nagrerehab', 12760), ('bomin', 12761), ('fuc', 12762), ('bucz', 12763), ('starbucz', 12764), ('carbon', 12765), ('fotprint', 12766), ('gays', 12767), ('chocolateland', 12768), ('r20', 12769), ('2l', 12770), (\"grace's\", 12771), ('funzen', 12772), ('135', 12773), ('ebm', 12774), ('hypocrite', 12775), ('rrated', 12776), ('befor', 12777), ('godnightlt', 12778), ('sadle', 12779), ('hardgoing', 12780), ('holdem', 12781), (\"jordan's\", 12782), (\"o's\", 12783), ('nothebest', 12784), ('quotsony', 12785), ('bpm', 12786), ('jameson', 12787), ('quotwhyquot', 12788), ('motherdaughters', 12789), ('jenah', 12790), ('beforehand', 12791), ('twedles', 12792), ('weknd', 12793), ('gda', 12794), ('sk', 12795), ('quotwhore', 12796), ('lurequot', 12797), ('harding', 12798), ('godown', 12799), ('fungus', 12800), ('celebritytwet', 12801), ('goingaway', 12802), ('spokane', 12803), ('kbal', 12804), ('wildly', 12805), ('ciber', 12806), ('sabip', 12807), ('quotbatle', 12808), ('bcquot', 12809), ('nim', 12810), ('savesumer', 12811), ('amazones', 12812), ('suitescretegrece', 12813), ('cambie', 12814), ('20ish', 12815), ('csla', 12816), ('sherbert', 12817), ('nutritious', 12818), ('damnation', 12819), ('burnside', 12820), ('jetsons', 12821), ('finltstones', 12822), ('vow', 12823), ('74', 12824), ('quotquite', 12825), ('cinamin', 12826), ('edgy', 12827), ('twitertaleover', 12828), ('scientist', 12829), ('watership', 12830), ('quotcompletely', 12831), ('viz', 12832), (\"icecream's\", 12833), ('frezor', 12834), ('versa', 12835), ('3min', 12836), ('dbsk', 12837), (\"opa's\", 12838), ('mirotic', 12839), ('nikz', 12840), ('alma', 12841), ('feders', 12842), ('twefight', 12843), ('quotlast', 12844), ('samuriquot', 12845), ('felinq', 12846), ('huqe', 12847), ('pimple', 12848), ('riqht', 12849), ('quotim', 12850), ('excitedquot', 12851), (\"prize's\", 12852), ('whoishonorsociety', 12853), ('blaqh', 12854), ('embarasd', 12855), ('quotsexuality', 12856), ('religionquot', 12857), ('sled', 12858), ('pety', 12859), ('heartbreaker', 12860), ('shawn', 12861), ('joininghe', 12862), ('atlas', 12863), ('moroco', 12864), ('strait', 12865), ('gibraltar', 12866), ('europa', 12867), ('ether', 12868), ('wailt', 12869), ('amercia', 12870), ('uglyone', 12871), ('copeland', 12872), ('hairbal', 12873), ('heah', 12874), ('ocuring', 12875), ('awekay', 12876), ('donbt', 12877), ('hardcoremetalcore', 12878), ('bmth', 12879), ('taura', 12880), ('hanafiah', 12881), (\"alysa's\", 12882), ('mintues', 12883), ('motherland', 12884), ('kiosk', 12885), ('suked', 12886), ('administrator', 12887), ('firew', 12888), ('nutrition', 12889), ('unladylike', 12890), ('quotboniesquot', 12891), ('strangle', 12892), ('salesman', 12893), ('shamwow', 12894), ('sahal', 12895), ('quotstunerbumquot', 12896), ('lakoda', 12897), ('mrijuana', 12898), ('latinlt', 12899), ('biknightual', 12900), ('twedeck', 12901), (\"t'day\", 12902), ('tmro', 12903), ('excitin', 12904), ('simplify', 12905), ('feck', 12906), ('mpa', 12907), ('videorecord', 12908), ('dolton', 12909), ('ucsd', 12910), ('twiterblackbery', 12911), ('wbreakfast', 12912), ('joper', 12913), ('wtheir', 12914), ('quark', 12915), ('couisn', 12916), ('lindt', 12917), ('tya', 12918), ('vioce', 12919), ('3yo', 12920), ('grogily', 12921), ('yoult', 12922), ('facepanda', 12923), ('academyish', 12924), ('fatfingered', 12925), ('quotvacationquot', 12926), ('thespian', 12927), ('troupe', 12928), ('6492', 12929), ('sxyhrlygrl', 12930), ('burfday', 12931), ('imtetsting', 12932), ('uhmygawd', 12933), ('icvb', 12934), ('monwed', 12935), ('denomination', 12936), ('forgets', 12937), ('lotrrotk', 12938), ('sentimental', 12939), ('diablo', 12940), ('boting', 12941), ('resto', 12942), ('gurante', 12943), ('weirdnes', 12944), ('wyour', 12945), ('hughesy', 12946), ('raferty', 12947), (\"anto's\", 12948), ('granyquotthe', 12949), ('iloveitwhen', 12950), ('bomstone', 12951), ('precursor', 12952), ('msft', 12953), ('webc', 12954), ('turbo', 12955), ('maint', 12956), ('practitionerampspent', 12957), ('devote', 12958), ('tabo', 12959), ('quotrofl', 12960), ('pwn', 12961), ('simpler', 12962), ('thorough', 12963), ('degrease', 12964), ('dolce', 12965), ('chatrom', 12966), ('356pm', 12967), ('805', 12968), ('moneymaker', 12969), ('milage', 12970), ('withdraws', 12971), ('reparat', 12972), ('macul', 12973), ('iei', 12974), ('saturat', 12975), ('multe', 12976), ('dupa', 12977), ('lml', 12978), ('viny', 12979), ('scotishtryingtobeirish', 12980), ('ewan', 12981), ('mcgregor', 12982), ('tmh', 12983), ('bouncy', 12984), ('quotlights', 12985), ('soundsquot', 12986), ('yelowcard', 12987), ('wov', 12988), ('sistah', 12989), ('quotmoney', 12990), ('shininglt', 12991), ('facking', 12992), ('bluelt', 12993), ('mankini', 12994), ('twopiece', 12995), ('comlementary', 12996), ('zeke', 12997), ('rupert', 12998), ('grint', 12999), ('mainstream', 13000), ('vitles', 13001), ('bw', 13002), ('cockatos', 13003), ('kikaynes', 13004), ('eto', 13005), ('spymaster', 13006), ('procuts', 13007), ('xslimer', 13008), (\"boyfriend's\", 13009), ('crep', 13010), ('coincidently', 13011), ('ababa', 13012), ('omnomnom', 13013), ('incasequot', 13014), ('mythic', 13015), ('screnshot', 13016), ('zombiemaking', 13017), ('everyond', 13018), ('mcfonalds', 13019), ('mygriled', 13020), ('shawna', 13021), ('damon', 13022), ('quotgrinsquot', 13023), ('finley', 13024), ('bev', 13025), ('symptons', 13026), ('syamptoms', 13027), ('scholmates', 13028), ('n0w', 13029), ('egotastic', 13030), ('r0cks', 13031), ('bestselers', 13032), ('weightles', 13033), ('twiterles', 13034), ('tethed', 13035), ('ip', 13036), ('chotachota', 13037), ('reflexie', 13038), ('bundy', 13039), (\"chaseton's\", 13040), ('cpl', 13041), ('quottour', 13042), ('francequot', 13043), ('unitedogs', 13044), ('froma', 13045), ('quotvampire', 13046), ('nightquot', 13047), ('scarabeo', 13048), ('tna', 13049), ('brunos', 13050), ('braun', 13051), ('grangemouth', 13052), ('hilarity', 13053), ('fandango', 13054), ('xblapsn', 13055), ('plana', 13056), ('writin', 13057), ('quotstrange', 13058), ('40something', 13059), ('dargah', 13060), ('quotchangequot', 13061), ('kilo', 13062), ('mornins', 13063), ('twiteradict', 13064), ('slepz', 13065), ('drumset', 13066), ('artery', 13067), ('hagen', 13068), ('daz', 13069), ('crampin', 13070), ('clen', 13071), ('ritualistic', 13072), ('yeasterday', 13073), ('wiew', 13074), ('shoutz', 13075), (\"rod'ed\", 13076), ('bmx', 13077), ('burgas', 13078), ('careoke', 13079), ('frameworks', 13080), ('framework', 13081), ('aswered', 13082), (\"bristol's\", 13083), ('visialize', 13084), ('environent', 13085), ('shortbread', 13086), ('frostnixon', 13087), ('quottwaterquot', 13088), ('grapevine', 13089), ('afireinside', 13090), ('mabaho', 13091), ('profesionaly', 13092), ('picksha', 13093), ('momaz', 13094), ('calder', 13095), ('quotutrecht', 13096), ('runquot', 13097), ('porpor', 13098), ('stoping', 13099), ('blergh', 13100), ('sking', 13101), ('treble', 13102), ('counsel', 13103), ('roc', 13104), (\"wit'chu\", 13105), ('erotica', 13106), ('snufing', 13107), ('sitar', 13108), (\"s'pose\", 13109), ('kwijt', 13110), ('pinging', 13111), ('salm', 13112), ('sayquotbitch', 13113), ('thaz', 13114), ('goana', 13115), (\"tot's\", 13116), (\"misy's\", 13117), ('pulin', 13118), ('ilovemymomy', 13119), (\"quotnapy'squot\", 13120), ('quotnquot', 13121), ('quotnapyquot', 13122), ('igot', 13123), ('quothangtimequot', 13124), ('sx', 13125), ('belofsouthie', 13126), ('lots', 13127), ('sweating', 13128), ('firstlok', 13129), ('lunchbreak', 13130), ('quotbles', 13131), ('carlin', 13132), ('snitchsneker', 13133), ('flatened', 13134), (\"brody's\", 13135), ('4u', 13136), ('guilted', 13137), ('0ut', 13138), ('homeskoler', 13139), ('tenho', 13140), ('curso', 13141), ('drc', 13142), ('puzled', 13143), ('pinpoint', 13144), ('yrbok', 13145), ('evrything', 13146), ('gula', 13147), ('melaka', 13148), ('santan', 13149), ('engrosing', 13150), ('diwali', 13151), ('sadi', 13152), ('dili', 13153), ('quotdramaquot', 13154), ('quotlove', 13155), ('kaki', 13156), ('thundering', 13157), ('metreon', 13158), ('matchmaker', 13159), ('waft', 13160), ('papaw', 13161), ('neverquot', 13162), ('creation', 13163), ('fdms', 13164), ('elearning', 13165), ('morninq', 13166), ('feminist', 13167), ('refusn', 13168), ('113', 13169), ('baking', 13170), ('kitie', 13171), ('suprise', 13172), ('sumy', 13173), ('quotguys', 13174), ('suitsquot', 13175), ('zulu', 13176), ('meth', 13177), ('lori', 13178), ('evolvin', 13179), ('unyay', 13180), ('gunter', 13181), ('critique', 13182), ('anal', 13183), ('incense', 13184), ('chang', 13185), ('maders', 13186), ('quotkeping', 13187), ('itemsquot', 13188), ('boardies', 13189), ('yogaing', 13190), ('jacketsuncomfortable', 13191), ('dicks', 13192), ('designate', 13193), ('curied', 13194), ('musels', 13195), ('octopus', 13196), ('myweaknes', 13197), ('nielsenpowermoms', 13198), ('radioboxer', 13199), ('santos', 13200), (\"knight's\", 13201), ('quotconfirmedquot', 13202), ('vimeo', 13203), ('responsible', 13204), ('rusel', 13205), (\"brand's\", 13206), ('ponderland', 13207), ('intervention', 13208), ('esex', 13209), ('siky', 13210), ('volt', 13211), ('grabyhands', 13212), ('cbd', 13213), ('mtub', 13214), ('cmon', 13215), ('selfdenial', 13216), ('harmful', 13217), ('cyalater', 13218), ('estou', 13219), ('2quot', 13220), ('corset', 13221), ('hashtag', 13222), ('hayfevery', 13223), ('suferin', 13224), (\"socksy's\", 13225), ('plucky', 13226), (\"caspar's\", 13227), ('burnedfried', 13228), (\"gem's\", 13229), ('ontherun', 13230), ('unpacked', 13231), ('acordion', 13232), ('thief', 13233), ('bufs', 13234), (\"stacey's\", 13235), ('welwod', 13236), ('phne', 13237), ('reckles', 13238), ('cupcakey', 13239), ('7020m', 13240), ('redsea', 13241), ('5ghz', 13242), ('ohman', 13243), (\"sara's\", 13244), ('stepchild', 13245), ('enablers', 13246), ('cancelation', 13247), ('ethnicity', 13248), ('dueces', 13249), ('beaut', 13250), ('raze', 13251), ('charli', 13252), ('aircirculation', 13253), ('vague', 13254), ('girafes', 13255), ('roms', 13256), ('penies', 13257), ('pag', 13258), ('basta', 13259), ('tanapolis', 13260), ('badpainful', 13261), ('utered', 13262), ('quotdream', 13263), ('comingquot', 13264), ('molagotal', 13265), ('nepal', 13266), ('resigning', 13267), ('jor', 13268), ('tigerheat', 13269), ('0531', 13270), ('empanadas', 13271), ('comunifuckingcation', 13272), ('coward', 13273), (\"pa'lante\", 13274), ('lore', 13275), ('mwan', 13276), ('fixin', 13277), ('everyhere', 13278), ('cinco', 13279), ('fckeditor', 13280), ('zipz', 13281), ('mesaged', 13282), ('lazyrealy', 13283), ('cera', 13284), ('quotshould', 13285), ('quotnah', 13286), ('quotwrite', 13287), ('earthlink', 13288), ('bitchy', 13289), ('fuckingtastic', 13290), ('twithar', 13291), ('wrongly', 13292), ('exemption', 13293), ('niecesnephews', 13294), ('ferdinand', 13295), ('twetvile', 13296), ('jiayou', 13297), ('isabel', 13298), ('bandartist', 13299), ('aoh', 13300), ('frosh', 13301), ('midst', 13302), (\"insha'alah\", 13303), ('jailbroke', 13304), ('1243', 13305), ('easel', 13306), ('rx', 13307), ('twiterwar', 13308), ('milfs', 13309), ('adoarble', 13310), ('folowerz', 13311), ('carseats', 13312), ('swam', 13313), ('realx', 13314), ('projectm', 13315), ('survivor', 13316), ('superexcited', 13317), ('ching', 13318), ('chong', 13319), ('shelving', 13320), ('gdnight', 13321), ('otay', 13322), ('insider', 13323), ('chantal', 13324), ('competitor', 13325), ('traceycakes', 13326), ('badie', 13327), ('imismonkeh', 13328), ('chivalry', 13329), ('socialscope', 13330), ('tavares', 13331), ('nasi', 13332), ('pisang', 13333), ('cokelat', 13334), ('dpresed', 13335), ('t9r8am', 13336), ('medan', 13337), ('15hours', 13338), ('ltwhinegt', 13339), (\"g'nitey\", 13340), ('teniece', 13341), ('mday', 13342), ('altzheimers', 13343), ('kaylen', 13344), ('urg', 13345), ('nx01', 13346), ('1701no', 13347), ('blowout', 13348), ('makino', 13349), ('voley', 13350), ('wholeday', 13351), ('103ffevered', 13352), ('prescholer', 13353), ('hving', 13354), ('adicts', 13355), ('shaby', 13356), ('adreses', 13357), ('bord', 13358), ('blinky', 13359), ('curdling', 13360), ('quotbuteflies', 13361), ('stomachquot', 13362), ('yun', 13363), ('broham', 13364), ('testfest', 13365), ('grot', 13366), ('quotaaiequot', 13367), ('clonecloud', 13368), ('provision', 13369), ('glre', 13370), ('rcb', 13371), ('20km', 13372), ('leyton', 13373), ('oficejet', 13374), ('j450', 13375), ('fax', 13376), ('anoys', 13377), ('dbag', 13378), ('crazily', 13379), ('adwancrd', 13380), ('ontem', 13381), ('minty', 13382), ('gramer', 13383), ('eitherquot', 13384), ('grunt', 13385), ('hemp', 13386), ('grifin', 13387), ('nosebleds', 13388), ('busty', 13389), ('peac', 13390), ('woa', 13391), ('termenator', 13392), ('maita', 13393), ('barg', 13394), ('gmod', 13395), ('englands', 13396), ('works', 13397), ('paintbal', 13398), ('musicares', 13399), ('quotduhquot', 13400), ('amazinq', 13401), ('qirlsniqhtout', 13402), ('qreat', 13403), ('quotquotub', 13404), ('40quotbring', 13405), ('cupquotquotquot', 13406), ('cheifs', 13407), ('168', 13408), ('kelantan', 13409), (\"pi'm\", 13410), ('stricken', 13411), ('absoulutely', 13412), (\"store's\", 13413), ('mercenary', 13414), ('storyquot', 13415), ('quotenglish', 13416), ('namesquot', 13417), ('quotmis', 13418), ('chewbaca', 13419), ('leungquot', 13420), ('chufed', 13421), ('blackberys', 13422), ('mcafe', 13423), ('chewin', 13424), ('railing', 13425), ('absolves', 13426), ('telstra', 13427), ('teleco', 13428), ('1km', 13429), ('decoupling', 13430), ('6k', 13431), ('cactus', 13432), ('mikado', 13433), ('squirt', 13434), ('940', 13435), ('airing', 13436), ('soundbite', 13437), ('spahkly', 13438), ('bedali', 13439), ('sholders', 13440), ('clancy', 13441), ('claments', 13442), ('phonograph', 13443), ('apm', 13444), ('iight', 13445), ('kindred', 13446), ('univ', 13447), ('crawfish', 13448), ('khayam', 13449), ('wakil', 13450), ('austria', 13451), (\"doe't\", 13452), ('grax', 13453), ('intrigue', 13454), ('incapacitating', 13455), ('lambs', 13456), ('bej', 13457), ('semangi', 13458), ('vengaboys', 13459), ('zane', 13460), ('lowe', 13461), ('gladiator', 13462), ('bilyidol', 13463), ('jag', 13464), ('alternator', 13465), ('forgo', 13466), ('ilost', 13467), ('iapreciate', 13468), ('finshed', 13469), ('64am', 13470), ('acenes', 13471), ('quasisequel', 13472), ('92', 13473), ('roban', 13474), ('3,14', 13475), ('asociated', 13476), (\"whitney's\", 13477), ('bologna', 13478), ('pleb', 13479), ('tortelini', 13480), ('quotshortquot', 13481), ('moveout', 13482), ('weatler', 13483), ('lo0l', 13484), ('apraising', 13485), ('710', 13486), ('satz', 13487), ('atenition', 13488), ('afection', 13489), ('euh', 13490), ('ldap', 13491), ('schema', 13492), ('stopit', 13493), ('aspect', 13494), ('ignorent', 13495), ('aholes', 13496), ('opus', 13497), ('sester', 13498), ('scala', 13499), ('moded', 13500), ('thunderstorms', 13501), ('disrespectful', 13502), ('ese', 13503), ('scheduler', 13504), ('leyrock', 13505), ('8hrs', 13506), ('coloursfest', 13507), ('ahoy', 13508), ('widow', 13509), ('cucko', 13510), ('magicmoment', 13511), ('iznt', 13512), ('joemo', 13513), ('lcd', 13514), ('inix', 13515), ('midshow', 13516), ('cheak', 13517), ('galethoo', 13518), ('culver', 13519), ('bikebuswalk', 13520), ('twitastic', 13521), ('sucks', 13522), ('kashi', 13523), ('diservice', 13524), ('mamabear', 13525), ('slepcrazines', 13526), ('proven', 13527), ('atonement', 13528), ('mudweight', 13529), ('2ce', 13530), ('shery', 13531), ('melanie', 13532), (\"gigolo's\", 13533), ('quotuser', 13534), ('hamburg', 13535), ('detlev', 13536), ('fischer', 13537), ('acesibility', 13538), ('bitv', 13539), ('testquot', 13540), ('quotdamnquot', 13541), ('cupycake', 13542), ('xxoo', 13543), ('quotstil', 13544), ('24hours', 13545), ('posiabaly', 13546), ('irelevant', 13547), ('keshia', 13548), ('beshia', 13549), ('scrapbok', 13550), ('hefa', 13551), ('pinkeye', 13552), ('bournvile', 13553), ('geranium', 13554), ('183', 13555), ('cox', 13556), ('chuti', 13557), ('destination', 13558), ('moderator', 13559), ('niandra', 13560), ('quotmagnetism', 13561), ('equilibrium', 13562), ('acustic', 13563), (\"sugar's\", 13564), ('ladmag', 13565), ('gmas', 13566), ('twetz', 13567), ('soar', 13568), ('symantec', 13569), ('coruption', 13570), ('unwel', 13571), ('lacie', 13572), ('knig', 13573), ('plangi', 13574), ('suniest', 13575), ('reily', 13576), ('vlogcandy', 13577), ('ikno', 13578), ('thisk', 13579), ('kanye', 13580), ('americans', 13581), ('fern', 13582), ('netflicks', 13583), ('ratarsed', 13584), ('lexi', 13585), ('eistedfod', 13586), ('magnonotes', 13587), ('kailangang', 13588), ('imemorize', 13589), ('hodies', 13590), ('quotsomethings', 13591), ('bishop', 13592), ('clit', 13593), ('tuf', 13594), ('4the', 13595), ('leakycon', 13596), ('lizlove', 13597), ('comptition', 13598), ('montral', 13599), ('fawxing', 13600), ('crayon', 13601), ('cryhardcore', 13602), ('birfday', 13603), ('mush', 13604), ('nogard', 13605), ('sixten', 13606), ('ingrid', 13607), ('fraking', 13608), ('likewith', 13609), ('osx', 13610), ('quotactionquot', 13611), ('resits', 13612), ('waitresing', 13613), (\"you'r\", 13614), ('worthed', 13615), ('omw', 13616), ('ramble', 13617), ('regarde', 13618), ('tant', 13619), ('atendues', 13620), ('nicer', 13621), ('norf', 13622), ('gimeh', 13623), ('lath', 13624), ('tontown', 13625), ('humiliate', 13626), ('supervilians', 13627), ('warfield', 13628), ('groty', 13629), ('hoylake', 13630), ('gordon', 13631), ('friendorfolow', 13632), ('bhaha', 13633), ('nightclub', 13634), ('instinct', 13635), ('angerp', 13636), ('angerk', 13637), ('rishloves', 13638), ('stayathome', 13639), ('kunguma', 13640), ('povum', 13641), ('konjuma', 13642), ('puravum', 13643), ('cinematography', 13644), ('ciege', 13645), (\"cagalawan's\", 13646), ('cabo', 13647), ('junt', 13648), ('401', 13649), ('bagage', 13650), ('sfot', 13651), ('samanthaampdenise', 13652), ('reclaim', 13653), ('dealin', 13654), ('delas', 13655), ('365days', 13656), ('rpers', 13657), ('squirelist', 13658), ('sliver', 13659), ('dangnes', 13660), ('lasting', 13661), ('related', 13662), ('plansem', 13663), ('societe', 13664), ('generale', 13665), ('importexport', 13666), ('localy', 13667), ('reasasing', 13668), ('boundry', 13669), ('exeter', 13670), ('omegle', 13671), (\"bs'd\", 13672), ('cleaned', 13673), ('emas', 13674), ('comisary', 13675), ('pepers', 13676), ('trackbal', 13677), ('rsi', 13678), ('soderling', 13679), ('ferer', 13680), ('giles', 13681), ('ehehe', 13682), ('postexams', 13683), ('kenan', 13684), ('kel', 13685), ('eau', 13686), ('calaveras', 13687), ('genuine', 13688), ('jokingquot', 13689), ('quotsuprisedquot', 13690), ('carys', 13691), ('hugely', 13692), ('yeahya', 13693), ('4,0', 13694), ('shoplifting', 13695), ('familyampfriends', 13696), ('143', 13697), ('townsvile', 13698), ('sharpied', 13699), ('conversating', 13700), ('ahahahah', 13701), ('swindon', 13702), ('elem', 13703), ('28deg', 13704), ('pizahut', 13705), ('clearer', 13706), ('volcano', 13707), ('skyway', 13708), ('basment', 13709), ('quotraindropsquot', 13710), ('fraktastic', 13711), ('zoidberg', 13712), ('heath', 13713), ('watchign', 13714), ('gutah', 13715), ('slepyhead', 13716), ('bohoho', 13717), ('fodmoney', 13718), ('structr', 13719), ('lwr', 13720), ('dilhole', 13721), ('whataday', 13722), ('tortoiseshel', 13723), ('vidjagame', 13724), ('vgtribune', 13725), ('touring', 13726), ('roundtrip', 13727), ('mex', 13728), ('propa', 13729), ('ples', 13730), ('morse', 13731), ('burgen', 13732), ('luton', 13733), ('cogars', 13734), ('quotsickoquot', 13735), ('digusted', 13736), ('balistic', 13737), ('thoes', 13738), ('bridezila', 13739), ('ipodiphone', 13740), ('raymond', 13741), ('micheal', 13742), ('volturi', 13743), ('hapies', 13744), ('quotgraverober', 13745), ('graverober', 13746), ('twiterlandz', 13747), ('grl', 13748), ('betie', 13749), ('psyching', 13750), ('stela', 13751), ('paswords', 13752), ('foter', 13753), ('iwish', 13754), ('sinai', 13755), ('mamba', 13756), ('omgogmgo', 13757), (\"lexi's\", 13758), ('nevertheles', 13759), ('magnificence', 13760), ('vicente', 13761), ('conaway', 13762), ('kenickie', 13763), ('texts', 13764), ('alignment', 13765), ('junction', 13766), ('olies', 13767), ('undaunted', 13768), ('justified', 13769), ('planed', 13770), ('whatsup', 13771), ('tenile', 13772), ('scholfield', 13773), ('tyring', 13774), ('aruba', 13775), ('gweg', 13776), ('torential', 13777), ('favoriteicecream', 13778), ('karazy', 13779), ('2010201', 13780), ('helden', 13781), ('swined', 13782), ('kidz', 13783), ('matcuts', 13784), ('umzug', 13785), ('neues', 13786), (\"delerium's\", 13787), ('leb', 13788), (\"music's\", 13789), ('scandic', 13790), ('showering', 13791), ('loven', 13792), ('pvp', 13793), ('mins', 13794), ('zebra', 13795), ('flece', 13796), ('quenrania', 13797), ('bhs', 13798), ('trafalger', 13799), ('spartacus', 13800), ('mikee', 13801), (\"something's\", 13802), ('auditor', 13803), ('endlesly', 13804), ('sustainability', 13805), ('gen', 13806), ('quotwakey', 13807), ('bakey', 13808), ('motivateddeterminedwanabe', 13809), ('bni', 13810), ('fraudster', 13811), ('airbrushed', 13812), ('matching', 13813), ('quotarghquot', 13814), ('decribe', 13815), ('alternatively', 13816), ('quotpride', 13817), ('zombiesquot', 13818), (\"huni'm\", 13819), ('despise', 13820), ('girlfriendquot', 13821), ('medhurst', 13822), ('imem', 13823), ('starfire', 13824), ('xrays', 13825), ('composite', 13826), ('ahs', 13827), ('garner', 13828), ('fuz', 13829), ('clownin', 13830), ('acesories', 13831), ('livescribe', 13832), ('smartpen', 13833), ('takn', 13834), ('drycleaners', 13835), ('twiternut', 13836), ('skipin', 13837), ('healing', 13838), ('bitching', 13839), ('lautnerdaily', 13840), ('twitfriends', 13841), ('smackdownecw', 13842), ('kk', 13843), ('ahmazing', 13844), ('40k', 13845), ('gamers', 13846), ('ari', 13847), ('pleaseyour', 13848), ('shil', 13849), ('gratis', 13850), ('prodigiy', 13851), ('ciera', 13852), ('whatevah', 13853), ('chorus', 13854), ('thedailyshow', 13855), ('payingitforward', 13856), ('taskbased', 13857), ('ux', 13858), ('criticism', 13859), ('midday', 13860), ('hardisk', 13861), ('jayce', 13862), ('oneleterer', 13863), (\"pery's\", 13864), (\"clarkson's\", 13865), (\"monsterpaloza's\", 13866), ('contestant', 13867), ('x0', 13868), ('quotnakuh', 13869), ('grabeh', 13870), ('rebliping', 13871), (\"bride's\", 13872), ('lifelock', 13873), ('experian', 13874), ('theft', 13875), ('visialvoicemail', 13876), ('autoheloscripts', 13877), ('psa', 13878), ('usuing', 13879), ('twidict', 13880), ('cashis', 13881), ('jenkins', 13882), ('backing', 13883), ('statuses', 13884), ('midaugust', 13885), ('manang', 13886), ('busog', 13887), ('gad', 13888), ('elmaleh', 13889), ('lapbok', 13890), ('disaterous', 13891), ('ferari', 13892), ('mocow', 13893), ('pasture', 13894), (\"lutheran's\", 13895), ('standstil', 13896), ('twtrg', 13897), ('transmit', 13898), ('flashy', 13899), ('cheto', 13900), ('abp', 13901), ('oday', 13902), ('hearing', 13903), ('crazyb', 13904), ('rhinitis', 13905), ('chalenged', 13906), ('moisturiser', 13907), ('glosary', 13908), (\"g'nights\", 13909), (\"vc's\", 13910), ('anpyimg', 13911), ('doubleclick', 13912), ('becuase', 13913), ('symphonic', 13914), ('amtarot', 13915), ('tryout', 13916), ('kaden', 13917), ('515', 13918), ('dati', 13919), ('lian', 13920), ('eina', 13921), ('francis', 13922), ('bach', 13923), ('nonalcoholic', 13924), ('mp', 13925), ('tetotaler', 13926), ('waupos', 13927), ('unapealing', 13928), ('eater', 13929), ('buldyke', 13930), ('eyein', 13931), ('spamedtroled', 13932), ('howardforums', 13933), ('312', 13934), ('godnights', 13935), ('lacking', 13936), ('idiotic', 13937), ('bufon', 13938), ('reces', 13939), ('bigtime', 13940), ('packed', 13941), ('sardine', 13942), ('consti', 13943), ('squege', 13944), ('2yr', 13945), ('reprezentzent', 13946), ('carlie', 13947), ('carthage', 13948), ('minging', 13949), ('interwebnet', 13950), ('quotclothes', 13951), ('apartquot', 13952), ('jefs', 13953), ('prompt', 13954), ('againmiley', 13955), ('bobie', 13956), ('quotnothingquot', 13957), ('ftl', 13958), ('yself', 13959), ('wyou', 13960), ('novos', 13961), ('timo', 13962), ('promoing', 13963), ('warenty', 13964), ('championship', 13965), ('scenic', 13966), ('banish', 13967), ('1e15', 13968), ('dumerils', 13969), ('hognose', 13970), ('devel', 13971), ('photboth', 13972), ('pixiebob', 13973), (\"n'pop\", 13974), ('lum', 13975), ('somtum', 13976), ('homenot', 13977), ('arbiter', 13978), ('41,0', 13979), (\"carey's\", 13980), (\"corona's\", 13981), ('onscren', 13982), ('2twiter', 13983), ('binoculars', 13984), ('jodies', 13985), ('urk', 13986), ('yano', 13987), ('helmuts', 13988), ('scotertechno', 13989), ('kirin', 13990), ('metamorph', 13991), ('bn', 13992), ('retel', 13993), ('cagebal', 13994), ('rocstar', 13995), ('momnot', 13996), ('adoptive', 13997), ('tantra', 13998), ('kirki', 13999), ('shush', 14000), ('spelt', 14001), ('gx', 14002), ('hahahahahahahahahah', 14003), ('lapie', 14004), ('pickup', 14005), ('dayspeaking', 14006), ('prescholers', 14007), ('3540', 14008), ('9h', 14009), ('unsaid', 14010), ('prevents', 14011), ('fedicon', 14012), ('cannot', 14013), (\"author's\", 14014), ('tucking', 14015), ('kityboys', 14016), ('nightynight', 14017), ('chuba', 14018), ('absent', 14019), ('conviced', 14020), ('khsa', 14021), ('quothomequot', 14022), ('oficialshew', 14023), ('liquour', 14024), ('bledin', 14025), ('censoring', 14026), ('freshner', 14027), ('horiblel', 14028), ('grosed', 14029), ('hypervenilating', 14030), ('rach', 14031), ('wach', 14032), ('zi', 14033), ('camel', 14034), ('planktonquot', 14035), ('restuarant', 14036), ('sachie', 14037), ('yna', 14038), ('cara', 14039), ('suckquot', 14040), ('tja', 14041), ('rommate', 14042), ('quotfriends', 14043), ('snapshot', 14044), ('mice', 14045), ('jdpery', 14046), ('thesepictures', 14047), ('ialways', 14048), ('aroundsaying', 14049), ('joykil', 14050), ('decal', 14051), ('laminator', 14052), ('brings', 14053), ('slouch', 14054), ('hoeish', 14055), ('domination', 14056), ('pantera', 14057), ('dilybar', 14058), ('dq', 14059), ('unhok', 14060), ('crony', 14061), ('maternal', 14062), ('goverment', 14063), ('downsizinghe', 14064), ('macs', 14065), ('wope', 14066), ('changos', 14067), ('sirve', 14068), ('mta', 14069), ('momamp', 14070), ('ing', 14071), ('inthe', 14072), ('14yr', 14073), ('kalies', 14074), ('mamy', 14075), ('niene', 14076), ('whts', 14077), ('gurlie', 14078), ('licnse', 14079), ('schuhmacher', 14080), ('vn', 14081), ('johno', 14082), ('wereld', 14083), ('spout', 14084), ('mickeyds', 14085), ('egmcmufin', 14086), ('mcyum', 14087), ('awakeningquot', 14088), ('indivibe', 14089), ('ska', 14090), ('910', 14091), ('glib', 14092), ('mychem', 14093), ('novi', 14094), ('mahjong', 14095), ('weisheng', 14096), ('oir', 14097), ('downwards', 14098), ('croisant', 14099), ('3r', 14100), ('3v3ry', 14101), ('th3', 14102), ('earlyish', 14103), ('c1c2', 14104), ('roam', 14105), ('2345', 14106), (\"gogle's\", 14107), ('edinburghac', 14108), ('mimcy', 14109), ('jerys', 14110), ('qc', 14111), ('brotherhod', 14112), ('magician', 14113), ('sxswi', 14114), (\"sunlounger's\", 14115), ('wekened', 14116), ('frisby', 14117), ('colabs', 14118), ('smirker', 14119), ('jak', 14120), ('450', 14121), ('laying', 14122), ('quihote', 14123), ('giesal', 14124), ('ashminov', 14125), ('threleged', 14126), ('petigrew', 14127), ('linuxoutlaws', 14128), ('ficklenes', 14129), ('finearts', 14130), ('riplt', 14131), ('jae', 14132), (\"momah's\", 14133), ('smelt', 14134), ('watchmovieslink', 14135), ('fusy', 14136), ('cokboks', 14137), ('abreviate', 14138), ('surously', 14139), ('4k', 14140), ('quotgren', 14141), ('unstable', 14142), ('suhana', 14143), ('petit', 14144), ('financier', 14145), ('guise', 14146), ('themself', 14147), ('friendfail', 14148), ('pocketampkep', 14149), ('aproval', 14150), ('bhabhi', 14151), ('launder', 14152), ('construct', 14153), ('medieval', 14154), ('pavilion', 14155), ('isafailure', 14156), ('comunicated', 14157), ('1245am', 14158), ('madly', 14159), (\"yao's\", 14160), ('wcf', 14161), ('homskis', 14162), ('iphoneipod', 14163), ('imor', 14164), ('kiskas', 14165), ('katey', 14166), ('grensborough', 14167), ('prev', 14168), ('bundora', 14169), ('quotyouquots', 14170), ('bham', 14171), ('brickman', 14172), ('secure', 14173), ('reminising', 14174), ('629', 14175), ('bowman', 14176), ('strategicclock', 14177), ('twiterbf', 14178), ('carmike', 14179), ('slepines', 14180), ('icehockey', 14181), ('earnest', 14182), ('ripstick', 14183), ('jbobsesed', 14184), ('bokface', 14185), (\"alexandre's\", 14186), (\"grandpa's\", 14187), ('gasx', 14188), ('trw', 14189), ('belagio', 14190), ('135am', 14191), ('momthe', 14192), ('yosemite', 14193), ('youbrokeback', 14194), ('gush', 14195), ('twekdeck', 14196), ('sainthod', 14197), ('winwin', 14198), ('iloveyoumore', 14199), ('frankfurt', 14200), ('spcn', 14201), ('ltjxgt', 14202), ('jumper', 14203), ('hoje', 14204), ('89fm', 14205), ('quero', 14206), ('vlo', 14207), ('atravs', 14208), ('pewe', 14209), ('evacuate', 14210), ('twistory', 14211), ('stina', 14212), ('elvira', 14213), ('krisnan', 14214), ('inu', 14215), ('lastminute', 14216), ('repelant', 14217), ('undervalued', 14218), ('lul', 14219), ('rainhumidity', 14220), ('calyx', 14221), ('quotget', 14222), ('ayaw', 14223), ('bumukas', 14224), ('athletics', 14225), ('poltergeist', 14226), ('unstopable', 14227), (\"jay's\", 14228), ('journo', 14229), ('twitskies', 14230), ('competitive', 14231), ('headway', 14232), ('veges', 14233), ('quotend', 14234), ('septemberquot', 14235), ('multitask', 14236), ('disastrous', 14237), ('dover', 14238), ('minstrel', 14239), ('treck', 14240), ('batonrouge', 14241), ('cloging', 14242), ('quotfriedquot', 14243), ('wolfram', 14244), ('cuil', 14245), ('authentic', 14246), ('walkman', 14247), ('wap', 14248), ('minivacation', 14249), ('clemson', 14250), ('blve', 14251), ('sackiroth', 14252), ('ucla', 14253), ('ilocos', 14254), ('nueva', 14255), ('ecija', 14256), ('fundamental', 14257), ('1520', 14258), ('nofakery', 14259), ('scrubs', 14260), ('goblet', 14261), ('skimchamp', 14262), ('height', 14263), ('bumbpy', 14264), ('moses', 14265), ('quotpackingquot', 14266), ('cloning', 14267), ('taltal', 14268), ('aol', 14269), ('mispeled', 14270), ('notgiving', 14271), ('mackquot', 14272), ('loyalty', 14273), ('tng', 14274), ('oster', 14275), ('altel', 14276), ('omelet', 14277), ('napkin', 14278), ('akl', 14279), ('fareweling', 14280), ('physics', 14281), ('ciwaf', 14282), ('holykins', 14283), ('soproudofyou', 14284), ('setled', 14285), ('nervewracking', 14286), ('dising', 14287), ('wereoctopus', 14288), ('redems', 14289), ('werespider', 14290), ('bathe', 14291), ('icecold', 14292), ('sunkist', 14293), ('blouse', 14294), ('jeves', 14295), (\"it'sakey\", 14296), ('t4', 14297), ('quotconectedquot', 14298), ('stickler', 14299), ('dpi', 14300), ('incl', 14301), ('squarespace', 14302), ('updatd', 14303), ('laundromat', 14304), ('gradualy', 14305), ('ptfe', 14306), ('nailpolish', 14307), ('esf', 14308), ('interestign', 14309), ('whic', 14310), ('presures', 14311), ('gvnmt', 14312), ('leftampright', 14313), ('cruz', 14314), (\"rickrol'd\", 14315), ('diabetic', 14316), ('munchies', 14317), ('trackal', 14318), ('fuze', 14319), (\"komen's\", 14320), ('bwahahahahahaha', 14321), ('grimestoper', 14322), ('constraint', 14323), ('meadow', 14324), ('suivez', 14325), ('grenlake', 14326), ('jeni', 14327), ('whyd', 14328), ('disbelief', 14329), ('alogmo', 14330), ('predeparture', 14331), (\"both's\", 14332), ('mindquot', 14333), ('quotnightquot', 14334), ('prorogue', 14335), ('journeying', 14336), ('comisioners', 14337), ('sherifs', 14338), ('resco', 14339), ('mobileforms', 14340), ('tolkit', 14341), ('youo', 14342), ('superawesome', 14343), ('quotrecoveringquot', 14344), ('bowie', 14345), ('alyana', 14346), ('bondoc', 14347), ('cesar', 14348), ('dlt', 14349), ('sosa', 14350), ('whatevs', 14351), ('ohshnaps', 14352), ('naku', 14353), ('quotsome', 14354), ('wonderfulquot', 14355), ('excitedsad', 14356), ('dani', 14357), ('donta', 14358), ('honeyquot', 14359), ('quotshinequot', 14360), ('newsboy', 14361), (\"patricia's\", 14362), ('rdy', 14363), ('evernote', 14364), ('flwng', 14365), ('uscan', 14366), (\"woman's\", 14367), ('complexion', 14368), ('insured', 14369), ('ninah', 14370), ('irma', 14371), ('vep', 14372), ('plurking', 14373), ('blesing', 14374), ('macpro', 14375), ('chiptune', 14376), ('ticked', 14377), ('quotrogue', 14378), ('malwarequot', 14379), ('munching', 14380), ('flareup', 14381), ('trist', 14382), ('lese', 14383), ('siste', 14384), ('twetsen', 14385), ('mardy', 14386), ('bulying', 14387), ('eqpmnts', 14388), ('eitha', 14389), ('sonics', 14390), ('phaolo', 14391), ('frustratingly', 14392), ('reco', 14393), ('kandi', 14394), ('ranking', 14395), ('secondstar', 14396), ('dreamt', 14397), ('doinq', 14398), ('eligable', 14399), ('fadle', 14400), ('freakyfriday', 14401), ('concusions', 14402), ('quotrocknrolaquot', 14403), ('sluted', 14404), ('jealz', 14405), ('twiteringup', 14406), ('danceflor', 14407), ('ealing', 14408), ('adelaidemarie', 14409), ('canadatoronto', 14410), ('diping', 14411), ('becasue', 14412), ('uset', 14413), ('farewels', 14414), ('newbrunswick', 14415), ('oramarecords', 14416), (\"gomez's\", 14417), ('eilish', 14418), ('competiton', 14419), ('pineaples', 14420), ('inlawing', 14421), ('proverb', 14422), (\"posiblei'm\", 14423), ('macas', 14424), ('petition', 14425), ('lulz', 14426), ('groupchat', 14427), ('irc', 14428), ('ymous', 14429), ('contrast', 14430), ('hac', 14431), ('40cm', 14432), ('wilen', 14433), ('sprungquot', 14434), ('iont', 14435), ('snuf', 14436), ('hermione', 14437), ('intelectualy', 14438), ('sever', 14439), ('disagrement', 14440), ('sixty', 14441), ('bedy', 14442), ('otherinbox', 14443), ('guapisimo', 14444), ('mascot', 14445), ('virl', 14446), ('quotswetsquot', 14447), ('cqc', 14448), ('sjez', 14449), ('slecht', 14450), ('ibod', 14451), ('lovelovelovelt', 14452), ('windsor', 14453), ('comodores', 14454), ('promised', 14455), ('pirated', 14456), ('colectibles', 14457), ('bangbros', 14458), ('onionboty', 14459), ('tutle', 14460), ('8weks', 14461), ('auntiegail', 14462), ('hivis', 14463), ('vest', 14464), ('gails', 14465), ('childminding', 14466), ('prereunion', 14467), ('gt140', 14468), ('twigies', 14469), ('gareths', 14470), ('abroad', 14471), ('gareth', 14472), ('automate', 14473), ('porndownloader', 14474), ('youporn', 14475), ('disapear', 14476), ('qampa', 14477), ('247quot', 14478), ('spite', 14479), ('lifestory', 14480), ('descanse', 14481), ('paz', 14482), ('luto', 14483), ('venky', 14484), ('pachad', 14485), ('leaky', 14486), ('faucet', 14487), ('decker', 14488), ('tedx', 14489), ('carcasone', 14490), ('tomb', 14491), (\"buyer's\", 14492), ('remorse', 14493), ('brights', 14494), ('grandas', 14495), ('quotcoding', 14496), ('wizardquot', 14497), ('grinder', 14498), ('198', 14499), ('lyndi', 14500), ('leche', 14501), ('thrilsekers', 14502), ('sympathise', 14503), ('shesha', 14504), ('quotew', 14505), ('blodquot', 14506), ('fisnihsed', 14507), ('yesertday', 14508), ('quotcongrats', 14509), ('hugsampgropesquot', 14510), ('quotsay', 14511), ('anythingquot', 14512), ('cusack', 14513), ('quotcrawlquot', 14514), ('n97', 14515), ('quotcanot', 14516), ('an', 14517), ('gid', 14518), ('gni', 14519), (\"woul'd\", 14520), ('lenos', 14521), ('acountquot', 14522), ('picked', 14523), ('gt8d', 14524), ('akh', 14525), ('sayed', 14526), (\"hasan's\", 14527), ('dilate', 14528), ('fanmail', 14529), ('glamy', 14530), ('crocker', 14531), ('pwety', 14532), (\"ton's\", 14533), ('hatin', 14534), ('pastry', 14535), ('hanger', 14536), ('oversleping', 14537), ('gracie', 14538), ('freud', 14539), ('implication', 14540), ('gahif', 14541), ('antioch', 14542), ('amtrak', 14543), ('selfconfidence', 14544), ('requisite', 14545), ('undertakingssems', 14546), ('trackkep', 14547), ('claus', 14548), ('bogah', 14549), ('devy', 14550), ('mayjah', 14551), ('stemer', 14552), ('iptv', 14553), ('hampstead', 14554), ('constituency', 14555), ('touque', 14556), ('ipt', 14557), ('covina', 14558), ('watcing', 14559), ('courto', 14560), ('isa', 14561), ('warden', 14562), ('complement', 14563), ('horified', 14564), ('hom', 14565), ('tda', 14566), ('plez', 14567), ('bamf', 14568), ('trak', 14569), ('recaling', 14570), ('shopingampdiner', 14571), (\"workwek's\", 14572), ('fotie', 14573), ('s0ulja', 14574), ('b0y', 14575), ('quotsoulja', 14576), ('emquot', 14577), ('speakerphone', 14578), (\"loraine's\", 14579), ('fliter', 14580), ('naini', 14581), ('2my', 14582), ('snt', 14583), ('multimedia', 14584), ('socket', 14585), ('shredies', 14586), ('wright', 14587), ('achurley', 14588), (\"wha'dya\", 14589), (\"man's\", 14590), ('payed', 14591), ('639', 14592), ('lovesick', 14593), ('amandas', 14594), ('proclamation', 14595), ('rebelioustwitwhoknowsacolcatcok', 14596), ('kyra', 14597), ('sugarlot', 14598), ('quickpwn', 14599), ('0b5', 14600), ('jitery', 14601), (\"snapy's\", 14602), ('13410151', 14603), ('w4', 14604), ('mortal', 14605), ('combat', 14606), ('110pm', 14607), ('humous', 14608), (\"dorito's\", 14609), ('ghey', 14610), ('whitled', 14611), ('bachus', 14612), ('2dy', 14613), ('muzik', 14614), ('fibromyalgia', 14615), ('compoundin', 14616), ('waraw', 14617), ('taipei', 14618), ('mara', 14619), ('ecxcited', 14620), ('anabel', 14621), ('asault', 14622), ('biatches', 14623), ('tron', 14624), ('soupysoup', 14625), ('heinz', 14626), ('supastition', 14627), ('beastypops', 14628), ('14m', 14629), ('alitle', 14630), ('mcphe', 14631), ('hice', 14632), ('maruchan', 14633), ('hmbeing', 14634), (\"sparty's\", 14635), ('mcdonel', 14636), ('sumtime', 14637), ('knowng', 14638), ('sung', 14639), ('erbdy', 14640), ('legacy', 14641), ('dumbface', 14642), ('sleptime', 14643), ('jamaicah', 14644), ('fkc', 14645), ('quotslice', 14646), (\"craig's\", 14647), ('alba', 14648), ('35,138', 14649), ('5,468', 14650), ('nefuew', 14651), ('similarity', 14652), ('15c', 14653), ('30c', 14654), ('automobile', 14655), ('juan', 14656), ('pelota', 14657), ('excoleagues', 14658), ('boasting', 14659), ('healingslep', 14660), ('aviv', 14661), (\"drive's\", 14662), ('notch', 14663), ('corazonsito', 14664), ('tiene', 14665), ('ore', 14666), ('dtn', 14667), ('napervile', 14668), (\"bery'd\", 14669), ('stephane', 14670), ('arnie', 14671), ('uproted', 14672), ('tonyt', 14673), ('l8', 14674), ('ther', 14675), ('wofers', 14676), ('quotsanctityquot', 14677), ('mamam', 14678), ('530am', 14679), ('mime', 14680), ('viral', 14681), ('fginished', 14682), ('drinknig', 14683), ('cokof', 14684), ('phn', 14685), ('tmail', 14686), (\"youre's\", 14687), ('moni', 14688), ('adison', 14689), ('openbox', 14690), ('laina', 14691), ('crud', 14692), ('tart', 14693), ('grandrapids', 14694), ('vmail', 14695), (\"n's\", 14696), ('chauncey', 14697), ('quotravenclawquot', 14698), ('gu', 14699), ('formaly', 14700), ('gus', 14701), ('18hrs', 14702), ('chergo', 14703), ('corections', 14704), ('valk', 14705), (\"kil't\", 14706), ('lightening', 14707), ('toadtastic', 14708), ('enzian', 14709), ('lostampfound', 14710), ('havta', 14711), ('flwing', 14712), ('verona', 14713), ('enjoyitverymuch', 14714), ('phothos', 14715), ('baixa', 14716), ('woot', 14717), ('bobi', 14718), ('chantelie', 14719), ('perants', 14720), ('1710', 14721), ('thatd', 14722), ('cov', 14723), ('wonly', 14724), ('walkies', 14725), ('vaguely', 14726), ('belevile', 14727), ('ampnot', 14728), ('horton', 14729), ('salivary', 14730), ('alisondrama', 14731), ('ncis', 14732), ('scofiled', 14733), ('blonder', 14734), ('swa', 14735), ('paisleyalison', 14736), ('kraus', 14737), ('8703', 14738), ('workdone', 14739), ('redtape', 14740), ('funkey', 14741), ('xmlrpc', 14742), ('codeignite', 14743), ('zend', 14744), ('kons', 14745), ('bof', 14746), ('weknend', 14747), (\"bruv's\", 14748), ('indefinitely', 14749), ('quotfaling', 14750), ('slowlyquot', 14751), (\"sister're\", 14752), ('engulf', 14753), ('scoundrels', 14754), ('photobucket', 14755), ('worthing', 14756), ('oiks', 14757), ('vicodin', 14758), ('bjaday', 14759), ('doze', 14760), ('honeypot', 14761), ('ape', 14762), ('serverside', 14763), ('motols', 14764), ('uga', 14765), ('thers', 14766), ('peole', 14767), ('jerseyz', 14768), ('sexieluv', 14769), ('69th', 14770), ('wamu', 14771), ('staford', 14772), ('jaydiohead', 14773), (\"sa's\", 14774), ('aspirate', 14775), ('buly', 14776), ('argr', 14777), ('fitzcaraldo', 14778), ('rih', 14779), ('ought', 14780), ('moives', 14781), ('cand', 14782), ('twtad', 14783), ('jaming', 14784), ('meyrueis', 14785), ('replenish', 14786), ('yeslt', 14787), ('thnkn', 14788), ('virtu', 14789), ('treviso', 14790), ('futurshow', 14791), ('forza', 14792), ('heroic', 14793), ('dreaming', 14794), ('chilito', 14795), ('ceasar', 14796), ('bognish', 14797), ('clemie', 14798), ('sybase', 14799), ('ase', 14800), ('sparc', 14801), ('x86', 14802), ('afterwork', 14803), ('quotsuicidesquot', 14804), ('litrel', 14805), ('rigth', 14806), ('loev', 14807), ('basicalyheadache', 14808), ('antoinete', 14809), (\"elmer's\", 14810), ('hihihi', 14811), ('corny', 14812), ('alam', 14813), ('silicone', 14814), ('s05e04', 14815), ('clergy', 14816), ('pmg', 14817), ('relasie', 14818), ('fung', 14819), ('dumpling', 14820), ('gulardi', 14821), (\"don'tquot\", 14822), ('thermal', 14823), ('75c', 14824), ('ringin', 14825), ('rabid', 14826), ('folwin', 14827), ('quotold', 14828), ('chapquot', 14829), ('girlz', 14830), ('chwet', 14831), ('muax', 14832), ('copty', 14833), ('quotpep', 14834), ('eilens', 14835), (\"hairdo'ing\", 14836), ('heav', 14837), ('margaret', 14838), ('dunham', 14839), ('547days', 14840), ('pampering', 14841), ('expecto', 14842), ('patronum', 14843), ('terase', 14844), ('mtl', 14845), ('isolate', 14846), ('12hr', 14847), ('influential', 14848), ('pickler', 14849), ('lusting', 14850), ('phoneles', 14851), ('507am', 14852), ('taly', 14853), ('godgiven', 14854), ('changi', 14855), ('penang', 14856), ('quotwithin', 14857), ('milesquot', 14858), ('subtly', 14859), ('teme', 14860), ('firangs', 14861), ('beato', 14862), ('mufler', 14863), ('ancient', 14864), ('ni9as', 14865), ('serco', 14866), ('excitednervous', 14867), ('cycling', 14868), ('scabs', 14869), ('twiterin', 14870), ('levin', 14871), ('gaytimes', 14872), ('maudio', 14873), ('ie30s', 14874), ('earbud', 14875), (\"shure's\", 14876), ('replying', 14877), ('makeover', 14878), ('fotback', 14879), ('masala', 14880), ('chas', 14881), ('myoh', 14882), ('tarsier', 14883), ('enquire', 14884), ('ecpm', 14885), ('spontaneouz', 14886), ('skyped', 14887), ('strek', 14888), ('jazfest', 14889), ('folowstats', 14890), ('quotfodstatsquot', 14891), ('17lb', 14892), ('twister', 14893), ('banter', 14894), ('nemah', 14895), ('ayana', 14896), ('sav', 14897), ('thehandsomebluebeast', 14898), ('hihihuahau', 14899), ('blackberyles', 14900), ('qantas', 14901), ('flyertalk', 14902), (\"fot's\", 14903), ('sarcy', 14904), ('musem', 14905), ('spineles', 14906), ('unveiling', 14907), ('lr', 14908), ('afrikah', 14909), ('itzel', 14910), ('jefery', 14911), ('agus', 14912), ('playerstation', 14913), ('babieshow', 14914), ('thng', 14915), ('bledel', 14916), ('scrufy', 14917), ('nerfherders', 14918), (\"ami's\", 14919), ('capoeira', 14920), ('oncal', 14921), ('surlytwen', 14922), ('trs', 14923), (\"tuesday's\", 14924), ('starin', 14925), ('funty', 14926), ('unpaid', 14927), ('tysm', 14928), ('sasha', 14929), ('aligators', 14930), ('daydream', 14931), ('galagher', 14932), ('vibrator', 14933), ('testrun', 14934), ('invitaiton', 14935), ('bahahah', 14936), ('cardigan', 14937), ('shifting', 14938), ('electroclasical', 14939), ('nikmis', 14940), ('jiah', 14941), (\"beyonce's\", 14942), ('quotsmash', 14943), ('woeiwoeiwoei', 14944), ('euhm', 14945), (\"matine's\", 14946), ('danvan', 14947), ('unerve', 14948), ('quotlolol', 14949), ('originalohshitquot', 14950), ('agustin', 14951), ('ariela', 14952), ('gonzalez', 14953), ('slured', 14954), ('yus', 14955), ('fx', 14956), ('sepin', 14957), ('2dayweatherwise', 14958), ('otu', 14959), ('otherside', 14960), ('etonline', 14961), ('cheryl', 14962), (\"round'n'round\", 14963), ('beamer', 14964), ('prn', 14965), ('be4', 14966), ('donkey', 14967), ('chesca', 14968), ('aime', 14969), ('onward', 14970), ('upwards', 14971), ('sponsorship', 14972), ('quotp', 14973), ('stepson', 14974), ('graduating', 14975), ('englishquot', 14976), ('britishquot', 14977), ('wordsday', 14978), ('wordshour', 14979), ('wordsminute', 14980), ('lambo', 14981), ('pitsvile', 14982), (\"cic's\", 14983), ('sensex', 14984), ('fuzypupy', 14985), ('constructivist', 14986), ('whelchair', 14987), ('quothomeboundquot', 14988), ('12pm', 14989), ('ts', 14990), ('flicker', 14991), ('reboting', 14992), ('anoyedyet', 14993), ('ticking', 14994), ('rumbo', 14995), ('bachileres', 14996), ('spoters', 14997), ('pigies', 14998), ('fotbalers', 14999), ('helpfuly', 15000), ('0530', 15001), ('557am', 15002), (\"tbone's\", 15003), ('confeti', 15004), ('sucesion', 15005), ('muglespace', 15006), ('energetic', 15007), ('15am', 15008), ('merier', 15009), ('yinz', 15010), ('peckish', 15011), ('dumby', 15012), ('wp', 15013), ('notified', 15014), ('sportsmens', 15015), ('arows', 15016), ('masita', 15017), ('bwahaha', 15018), (\"play's\", 15019), ('banerbomb', 15020), ('homebrew', 15021), ('yeahnes', 15022), ('t1i', 15023), ('neverending', 15024), ('sunehre', 15025), ('luking', 15026), (\"cy's\", 15027), ('samson', 15028), ('delilah', 15029), ('5m', 15030), (\"adi's\", 15031), ('smother', 15032), ('powerdvd', 15033), ('screnies', 15034), ('seos', 15035), (\"dj's\", 15036), ('partypeople', 15037), ('loverboy', 15038), ('heaos', 15039), ('protester', 15040), ('quester', 15041), ('sequester', 15042), ('82k', 15043), ('older', 15044), ('cheaper', 15045), ('caries', 15046), ('peasant', 15047), ('6457', 15048), ('bilionth', 15049), ('burgh', 15050), ('quotfavoritequot', 15051), ('afected', 15052), ('fluh', 15053), ('1n1', 15054), ('g5', 15055), ('unsure', 15056), ('voyager', 15057), ('quotvision', 15058), ('vision', 15059), ('aoouoouoou', 15060), ('toooquot', 15061), ('tempat', 15062), ('apa', 15063), ('yang', 15064), ('cocok', 15065), ('jupiter', 15066), ('seru', 15067), ('grovy', 15068), ('disrespect', 15069), ('wiloughby', 15070), ('nele', 15071), ('glie', 15072), ('boatingsongwriting', 15073), ('wodvine', 15074), ('thorne', 15075), ('sumshin', 15076), ('neurosurgeon', 15077), ('itwhich', 15078), ('ihavent', 15079), ('finagle', 15080), ('plural', 15081), (\"sumer's\", 15082), ('pigment', 15083), ('chaty', 15084), ('bobobyebye', 15085), ('uncones', 15086), ('supremists', 15087), ('abhor', 15088), ('cambs', 15089), ('clearing', 15090), ('grenade', 15091), (\"your'e\", 15092), ('invitw', 15093), ('mantanence', 15094), ('mhcsmoch', 15095), ('opticon', 15096), ('veneck', 15097), ('josie', 15098), ('vuelven', 15099), ('juicystar', 15100), ('speches', 15101), ('carpol', 15102), ('chesesteak', 15103), ('doberman', 15104), ('masacred', 15105), ('infelizmente', 15106), ('alcol', 15107), ('fds', 15108), ('quotsl', 15109), ('sequot', 15110), ('reteling', 15111), ('saskaton', 15112), ('diferently', 15113), ('ayoko', 15114), (\"scot's\", 15115), ('283', 15116), ('pcfopc', 15117), ('nowtht', 15118), ('heltershelter', 15119), ('cuong', 15120), ('agregate', 15121), ('bwarg', 15122), ('fols', 15123), ('l8rs', 15124), ('kurumi', 15125), ('lula', 15126), ('hahahahahahahaha', 15127), ('sounder', 15128), ('kitsch', 15129), ('snapy', 15130), ('os', 15131), ('imacs', 15132), ('congrads', 15133), ('engagementbridal', 15134), ('quotjump', 15135), ('audiencequot', 15136), ('dayne', 15137), ('medley', 15138), ('whey', 15139), ('stinkered', 15140), ('talker', 15141), ('239k', 15142), ('acela', 15143), ('adopter', 15144), (\"england's\", 15145), ('flavorus', 15146), ('evaporate', 15147), ('alri', 15148), ('bridal', 15149), ('angrily', 15150), ('extemely', 15151), (\"quotcan't\", 15152), ('slepypants', 15153), ('gaby', 15154), ('unfortunetly', 15155), ('incompetent', 15156), ('heaps', 15157), ('nitenite', 15158), ('perkinz', 15159), ('takout', 15160), ('elude', 15161), ('smarmy', 15162), ('saucer', 15163), ('outoffocus', 15164), ('projection', 15165), ('cnp', 15166), ('leuwarden', 15167), ('suzaku', 15168), ('loudquietloud', 15169), ('santiago', 15170), ('lovering', 15171), ('romy', 15172), ('welp', 15173), ('gregshowing', 15174), ('headzup', 15175), (\"justin's\", 15176), ('bowsquot', 15177), ('sadening', 15178), ('dulful', 15179), ('upseting', 15180), ('myseld', 15181), ('lrc', 15182), ('ashton', 15183), ('viritual', 15184), ('injustice', 15185), ('advisory', 15186), ('endulging', 15187), ('lumiere', 15188), ('blatently', 15189), ('tricked', 15190), ('lina', 15191), ('birthdaypresent', 15192), ('tbone', 15193), ('envelope', 15194), ('mie', 15195), ('staunton', 15196), ('finished', 15197), ('4lakers', 15198), ('kaila', 15199), ('ocampo', 15200), ('rainbowholic', 15201), ('meampamperiesilence', 15202), ('scribkin', 15203), ('meteor', 15204), ('scaner', 15205), ('quotunecesary', 15206), ('anxietyquot', 15207), ('exsausted', 15208), ('chalky', 15209), ('askin', 15210), (\"msg's\", 15211), ('recaled', 15212), ('scion', 15213), ('kirst', 15214), ('playtime', 15215), (\"yorkshire's\", 15216), ('writersquotthey', 15217), ('foist', 15218), ('prydz', 15219), ('emopunk', 15220), ('3to7', 15221), ('batling', 15222), ('sexquot', 15223), ('underpriveledged', 15224), ('bartender', 15225), ('scholcolege', 15226), ('1b', 15227), ('backache', 15228), ('a48', 15229), ('cowbridge', 15230), ('guard', 15231), ('shakalohana', 15232), ('wavez', 15233), ('blancmange', 15234), ('twitix', 15235), ('v1', 15236), ('padtron', 15237), ('sheila', 15238), ('dex', 15239), ('wongo', 15240), ('poncho', 15241), ('luluamptherest', 15242), ('nigasz', 15243), ('soprano', 15244), ('litleren', 15245), ('bravi', 15246), ('arsed', 15247), ('preachery', 15248), ('smugly', 15249), ('webcaming', 15250), ('promsing', 15251), ('miricle', 15252), (\"jackman's\", 15253), ('kaul', 15254), (\"wldn't\", 15255), ('pensioner', 15256), ('quotserious', 15257), ('eats', 15258), ('nyquot', 15259), ('gastronomical', 15260), ('ange', 15261), ('tostitos', 15262), ('piknik', 15263), ('sampr', 15264), ('aiyaiyah', 15265), ('2ft', 15266), ('laud', 15267), ('wedin', 15268), ('spikecar', 15269), ('southside', 15270), ('catlaughs', 15271), ('girlish', 15272), ('hitrecord', 15273), ('kneling', 15274), ('ezine', 15275), ('congratses', 15276), (\"mate's\", 15277), ('reiki', 15278), ('holga', 15279), ('cereales', 15280), ('blg', 15281), ('sukanya', 15282), ('jun', 15283), ('pyo', 15284), ('conditioning', 15285), ('bangalore', 15286), ('rdj', 15287), ('10p', 15288), ('datalounge', 15289), ('biling', 15290), ('yupunfortunately', 15291), ('rehearsing', 15292), ('loreta', 15293), ('readerquot', 15294), ('lke', 15295), ('breasticles', 15296), ('despair', 15297), ('visualy', 15298), ('impaired', 15299), ('fp', 15300), ('luch', 15301), ('mody', 15302), ('undeleted', 15303), ('ahold', 15304), ('yonkers', 15305), (\"onit's\", 15306), ('generousquot', 15307), ('overgrown', 15308), ('37', 15309), ('escapoume', 15310), ('breadtalk', 15311), ('webpage', 15312), ('limeade', 15313), ('blanky', 15314), ('chgehcfncshvd', 15315), (\"tadpole'no\", 15316), (\"montday's\", 15317), ('justjust', 15318), ('areareare', 15319), (\"bf's\", 15320), ('dagnamit', 15321), ('clickable', 15322), ('wfaith', 15323), ('excesive', 15324), ('eficient', 15325), ('listfind', 15326), (\"odo's\", 15327), ('wthat', 15328), ('numan', 15329), ('remixes', 15330), ('gtlol', 15331), ('powershel', 15332), ('arh', 15333), ('6amalmost', 15334), (\"d'oh\", 15335), ('kidoe', 15336), ('asumption', 15337), ('coathanger', 15338), ('deathstar', 15339), ('enterprice', 15340), ('snugeling', 15341), (\"special's\", 15342), ('tiday', 15343), ('bcg', 15344), ('blt', 15345), ('simpleologymark', 15346), ('joyner', 15347), ('melatonin', 15348), ('electro', 15349), ('dismal', 15350), ('farking', 15351), ('mypowerbokg', 15352), ('4rip', 15353), ('425', 15354), ('hfw', 15355), (\"spider's\", 15356), ('silk', 15357), ('snowflake', 15358), ('unbroken', 15359), ('quotemergencyquot', 15360), ('tags', 15361), ('pistol', 15362), ('comented', 15363), ('ayah', 15364), ('enquiry', 15365), ('banknorth', 15366), ('mailinglist', 15367), ('tedies', 15368), (\"crew's\", 15369), ('quotrelay', 15370), ('nicecoperating', 15371), ('quotkeithquot', 15372), ('jmccartney', 15373), ('2015', 15374), ('btf', 15375), ('quotweinfestquot', 15376), ('1245', 15377), ('mnet', 15378), ('marque', 15379), ('thght', 15380), ('workd', 15381), ('ilt', 15382), ('mely', 15383), ('northpark', 15384), ('rave', 15385), ('beautifulnes', 15386), ('throte', 15387), ('upsidedown', 15388), ('ww', 15389), ('comuserthebomtube', 15390), ('ocupational', 15391), ('hazard', 15392), ('entertained', 15393), ('atkins', 15394), ('kimosave', 15395), ('freu', 15396), ('frh', 15397), ('9412tr', 15398), ('herniated', 15399), (\"charle's\", 15400), ('savemart', 15401), ('eficiently', 15402), ('gerbino', 15403), ('mockups', 15404), ('surealism', 15405), ('voton', 15406), ('quotsuperflat', 15407), ('monogramquot', 15408), ('takashi', 15409), ('murakami', 15410), (\"marx's\", 15411), ('nauseatingly', 15412), ('tritonlink', 15413), ('cherleader', 15414), ('ohrwurm', 15415), ('quotcolorblindquot', 15416), ('svetlana', 15417), ('cofo', 15418), ('buyer', 15419), ('kyles', 15420), ('kerbear', 15421), ('quotkep', 15422), ('clearquot', 15423), ('ucler', 15424), ('stretlight', 15425), ('sheza', 15426), (\"kenyata's\", 15427), ('sikaflex', 15428), ('caulk', 15429), ('twitercopytopify', 15430), ('lazying', 15431), ('frighten', 15432), ('whar', 15433), ('trelined', 15434), ('doesntfelwel', 15435), ('frankies', 15436), ('interval', 15437), ('achvs', 15438), ('470', 15439), ('1930', 15440), ('cait', 15441), ('jah', 15442), ('12p', 15443), (\"bo's\", 15444), ('lnd', 15445), ('gagles', 15446), ('comuters', 15447), ('squish', 15448), ('brokun', 15449), ('humuns', 15450), ('agin', 15451), ('wun', 15452), ('unpopular', 15453), ('me8', 15454), ('twiterology', 15455), ('848am', 15456), ('lmbo', 15457), ('wirting', 15458), ('almos', 15459), ('listenint', 15460), ('afh', 15461), ('valerie', 15462), ('quotdonequot', 15463), ('showsboks', 15464), ('bating', 15465), ('adv', 15466), ('quotlet', 15467), ('benot', 15468), ('thocaught', 15469), ('gqmf', 15470), ('woefuly', 15471), ('ontdstartrek', 15472), ('glenelg', 15473), ('wstocktwits', 15474), ('cluter', 15475), ('chocoslam', 15476), ('bejewled', 15477), ('higherscore', 15478), ('steigy', 15479), ('aztex', 15480), ('chiper', 15481), ('lleyton', 15482), ('2met', 15483), ('rhyder', 15484), (\"dor's\", 15485), ('feckin', 15486), ('gotfried', 15487), ('ohi', 15488), ('pastrana', 15489), ('kiya', 15490), ('howser', 15491), ('twetmemes', 15492), ('faf', 15493), ('d7', 15494), ('ds9', 15495), ('samie', 15496), ('shire', 15497), ('lastdresed', 15498), ('feminely', 15499), ('gng', 15500), (\"bok'smovie\", 15501), (\"badie's\", 15502), ('gonies', 15503), ('sewing', 15504), ('mahalo', 15505), ('kauai', 15506), ('phast', 15507), ('ocasion', 15508), ('fucktard', 15509), ('eyelid', 15510), ('xxrebelrebelx', 15511), ('arbit', 15512), ('phd', 15513), ('formfilingin', 15514), ('wahahahaha', 15515), ('hapit', 15516), ('narn', 15517), ('legolas', 15518), ('felowship', 15519), ('quotdiseasequot', 15520), (\"ikea's\", 15521), ('laught', 15522), ('bereft', 15523), ('howlin', 15524), ('musta', 15525), ('devestated', 15526), ('remis', 15527), ('nomintated', 15528), ('throwing', 15529), ('expresed', 15530), ('hobosluttramp', 15531), ('involuntary', 15532), ('emanate', 15533), ('quotfine', 15534), ('rhumatologist', 15535), ('nastines', 15536), ('zombiepix', 15537), ('fucksake', 15538), ('catacomb', 15539), ('theyh', 15540), ('fascination', 15541), ('ambush', 15542), ('1720', 15543), ('hustlabal', 15544), ('citizens', 15545), ('entrance', 15546), ('2cal', 15547), ('zipcode', 15548), ('arab', 15549), ('konami', 15550), ('fastquot', 15551), ('arelano', 15552), ('mika', 15553), ('weldeserved', 15554), ('regionals', 15555), ('ofset', 15556), ('havelunch', 15557), ('geogers', 15558), ('metaphor', 15559), ('userid', 15560), ('vishnupsp', 15561), ('malo', 15562), ('gether', 15563), ('farming', 15564), ('actreses', 15565), ('mpre', 15566), ('gusying', 15567), ('bourbon', 15568), ('zeitgeist', 15569), ('quotrulesquot', 15570), ('deprivation', 15571), ('polarash', 15572), ('kandy', 15573), ('koated', 15574), ('nelie', 15575), ('i94', 15576), ('einstein', 15577), ('amadou', 15578), ('miriam', 15579), ('tue', 15580), ('holcomb', 15581), ('wowzers', 15582), ('garth', 15583), ('emailin', 15584), ('2listen', 15585), ('spedo', 15586), ('tagers', 15587), ('anoher', 15588), ('bekah', 15589), ('ohyeah', 15590), ('smely', 15591), ('filipno', 15592), (\"defunk'd\", 15593), ('clasify', 15594), ('quotanoyingquot', 15595), ('morningish', 15596), ('grovin', 15597), ('aquired', 15598), ('opertunity', 15599), ('fodland', 15600), (\"jb's\", 15601), ('exces', 15602), ('wfamily', 15603), ('gorjuz', 15604), ('sal', 15605), ('reset', 15606), ('sade', 15607), ('roadtrips', 15608), ('deathbyhistory', 15609), ('bh2', 15610), ('ymas', 15611), ('coms', 15612), ('kanoa', 15613), ('lavadora', 15614), ('dao', 15615), ('dietquot', 15616), ('personify', 15617), ('inbound', 15618), ('pier', 15619), ('welch', 15620), ('sole', 15621), ('breton', 15622), ('patsy', 15623), ('twinz', 15624), ('goda', 15625), ('rampb', 15626), ('quotphlegmily', 15627), ('claping', 15628), ('lightly', 15629), ('mist', 15630), ('granada', 15631), ('uv', 15632), ('840', 15633), ('decy', 15634), ('groundhog', 15635), ('ridic', 15636), ('py3', 15637), ('wutz', 15638), ('emai', 15639), ('638', 15640), ('025', 15641), ('shakin', 15642), ('unusuals', 15643), (\"mothers's\", 15644), ('orc', 15645), ('stairsgravity', 15646), ('rhel', 15647), ('bnx', 15648), ('50k', 15649), ('pulish', 15650), ('kaze', 15651), ('sdsm', 15652), ('nethack', 15653), ('kinokuniya', 15654), ('overwhelmed', 15655), ('mesaj', 15656), ('eroare', 15657), ('forbidenyou', 15658), ('3180758', 15659), ('jpg', 15660), ('ghicit', 15661), ('tynisha', 15662), ('earlybird', 15663), ('butbutbut', 15664), ('peney', 15665), ('groundup', 15666), ('it6', 15667), ('quotfrom', 15668), ('jewel', 15669), ('bozin', 15670), ('pricing', 15671), ('quotcomp', 15672), ('fixesquot', 15673), ('mylan', 15674), ('canadians', 15675), ('120m', 15676), ('kwento', 15677), ('studyexam', 15678), ('discern', 15679), ('tought', 15680), ('pisedquot', 15681), ('conducive', 15682), ('jobaplying', 15683), ('recepies', 15684), ('jakeowen', 15685), ('cahnge', 15686), ('cenare', 15687), ('mismo', 15688), ('qe', 15689), ('rosher', 15690), ('recoup', 15691), ('kodiak', 15692), ('ofiacial', 15693), ('eyecandy', 15694), ('stripclub', 15695), ('b2g1', 15696), ('twiterings', 15697), ('sameperson', 15698), ('nbc', 15699), ('theoficenbc', 15700), ('gervais', 15701), ('preseason', 15702), ('drawl', 15703), ('mimi', 15704), ('defrag', 15705), ('reasembled', 15706), ('tagaytay', 15707), ('holaback', 15708), ('potuguese', 15709), ('egwhites', 15710), ('tangerang', 15711), ('hmm', 15712), ('godmoring', 15713), ('yat', 15714), ('godly', 15715), ('videos', 15716), ('lefty', 15717), ('imensely', 15718), (\"emo's\", 15719), ('bmi', 15720), ('obesed', 15721), ('atrak', 15722), ('venom', 15723), ('fortuna', 15724), ('devastated', 15725), ('criado', 15726), ('johnathan', 15727), ('tantrum', 15728), ('apologetic', 15729), ('2o', 15730), ('godniqht', 15731), ('midge', 15732), (\"punk'd\", 15733), ('deordant', 15734), ('zur', 15735), ('aftershowparty', 15736), ('weirton', 15737), ('tipy', 15738), ('wv', 15739), ('clubers', 15740), ('backrom', 15741), ('chiping', 15742), ('deluxe', 15743), ('midlesbrough', 15744), ('halarious', 15745), ('yhere', 15746), ('overheard', 15747), ('yrold', 15748), ('shiyet', 15749), ('suckiest', 15750), ('tiasha', 15751), ('casting', 15752), ('thar', 15753), ('waited', 15754), ('comitstyleryo', 15755), ('margrete', 15756), ('burping', 15757), ('gab', 15758), ('neckshoulderback', 15759), ('380', 15760), ('benchmarked', 15761), ('34mbs', 15762), ('hairstylist', 15763), ('tset', 15764), ('trus', 15765), ('25ft', 15766), ('frehleyfriday', 15767), ('aplemouse', 15768), (\"w'out\", 15769), ('sha', 15770), ('fcpmacbok', 15771), ('westerns', 15772), ('poughkepsie', 15773), ('ems', 15774), ('stasher', 15775), ('shoutin', 15776), ('reyt', 15777), ('valentinos', 15778), ('zeropoint', 15779), ('muahahahahaha', 15780), (\"todayit's\", 15781), ('imux', 15782), ('deary', 15783), ('thanksgiving', 15784), ('reorganize', 15785), ('incestuous', 15786), ('mountainjam', 15787), ('ftpbrowser', 15788), ('sneakernet', 15789), ('zip', 15790), ('kinkos', 15791), ('flopy', 15792), ('chol', 15793), ('hyeri', 15794), ('ayshea', 15795), ('quotthehanabeth', 15796), ('herts', 15797), ('ela', 15798), ('ecaytrade', 15799), ('rieger', 15800), ('begonia', 15801), (\"alen's\", 15802), ('weo', 15803), ('wyck', 15804), ('bymyself', 15805), ('danwtmon', 15806), ('quotwelcomequot', 15807), ('ambyr', 15808), ('timely', 15809), ('productnamingrulez', 15810), ('visio', 15811), ('continuously', 15812), ('kyoto', 15813), ('halfpony', 15814), ('halfmonkey', 15815), ('colio', 15816), ('carefuly', 15817), ('ampwhoever', 15818), ('migraining', 15819), ('todaythe', 15820), ('naproxen', 15821), ('sodium', 15822), ('agnes', 15823), ('thunk', 15824), ('shotings', 15825), ('krn', 15826), ('mitzy', 15827), ('baru', 15828), ('bertweter', 15829), ('jg', 15830), ('nit', 15831), ('fiftythousand', 15832), (\"laurie's\", 15833), ('haystack', 15834), ('337', 15835), ('venti', 15836), ('vhits', 15837), ('yeunglings', 15838), ('weiters', 15839), ('cosito', 15840), ('pinkbery', 15841), ('dax', 15842), ('positivly', 15843), ('hmtm', 15844), ('leafs', 15845), ('danget', 15846), ('wlw', 15847), ('ofence', 15848), ('ake', 15849), ('cheroke', 15850), ('dre', 15851), ('fewf', 15852), ('blodtests', 15853), ('aprecifuckinate', 15854), ('refreshed', 15855), ('salvador', 15856), ('valentino', 15857), ('rosi', 15858), ('aud', 15859), ('[person]athan', 15860), ('greatful', 15861), ('ventana', 15862), ('cielos', 15863), ('extremaly', 15864), ('hubgay', 15865), ('yums', 15866), ('tes', 15867), ('sodmg', 15868), (\"laptop's\", 15869), ('pady', 15870), (\"wav's\", 15871), ('bosh', 15872), ('sug', 15873), ('penance', 15874), ('plav', 15875), ('lget', 15876), ('cockroach', 15877), ('bawkmarked', 15878), ('monumental', 15879), ('rolemodel', 15880), ('10yr', 15881), ('experiement', 15882), ('brightnes', 15883), ('insanedefaults', 15884), ('noarchive', 15885), ('kapsel', 15886), ('nulis', 15887), ('spertinya', 15888), ('ditag', 15889), ('notificationya', 15890), ('selout', 15891), ('fluke', 15892), ('orale', 15893), ('nevah', 15894), ('presly', 15895), ('popularity', 15896), ('letersemails', 15897), ('ilu', 15898), ('inferno', 15899), ('southwest', 15900), ('preboard', 15901), ('phogs', 15902), ('mania', 15903), ('evn', 15904), ('unhealthy', 15905), ('northview', 15906), ('nia', 15907), ('dayton', 15908), ('schmo', 15909), ('purge', 15910), ('suposedly', 15911), ('twiterbgt', 15912), ('gutwrenching', 15913), ('quotengagement', 15914), ('ringsquot', 15915), ('695', 15916), ('bleargh', 15917), ('churchsunday', 15918), ('heavyweight', 15919), ('colinson', 15920), ('706', 15921), ('seley', 15922), ('complaining', 15923), ('maintain', 15924), ('hawaian', 15925), ('reuse', 15926), ('charla', 15927), ('pengen', 15928), ('nonton', 15929), ('friens', 15930), ('prost', 15931), ('kemang', 15932), ('besok', 15933), ('tapi', 15934), ('bisa', 15935), ('seshion', 15936), ('arands', 15937), ('pelericious', 15938), ('payat', 15939), ('deranged', 15940), ('tmwr', 15941), ('priviledges', 15942), ('cuma', 15943), ('gini', 15944), ('heheheh', 15945), ('terus', 15946), ('statusmu', 15947), ('mels', 15948), ('mcdicks', 15949), ('ungrateful', 15950), (\"break's\", 15951), ('ilogical', 15952), (\"jt's\", 15953), ('snitin', 15954), ('ein', 15955), ('spazed', 15956), ('olympics', 15957), ('zenjar', 15958), ('humphires', 15959), ('jfpl', 15960), ('lonesometown', 15961), ('trailor', 15962), ('acepts', 15963), ('friending', 15964), ('zozo', 15965), (\"voda's\", 15966), ('ilike', 15967), ('smer', 15968), ('banging', 15969), ('shard', 15970), ('pokey', 15971), ('quotcrazy', 15972), ('cobrasquot', 15973), ('wantewd', 15974), ('stace', 15975), ('caks', 15976), ('bklyn', 15977), ('luketic', 15978), ('heathfox', 15979), ('quotearlyquot', 15980), ('showertraficfactory', 15981), ('astronomy', 15982), ('yeyah', 15983), ('popeye', 15984), ('blare', 15985), ('gaha', 15986), ('crank', 15987), ('ecologicaly', 15988), ('eco', 15989), ('2050', 15990), ('videomy', 15991), (\"quotcouldn't\", 15992), (\"quotsombody's\", 15993), ('yumay', 15994), ('rachelampi', 15995), ('yezsire', 15996), ('oyay', 15997), ('wombat', 15998), ('tamara', 15999), ('s3', 16000), ('quotdont', 16001), ('weatherquot', 16002), ('diplomat', 16003), ('quoteldons', 16004), ('quotthestrat', 16005), ('quotschweigi', 16006), ('dire', 16007), ('airmatras', 16008), ('dnb', 16009), ('crangrape', 16010), ('manotice', 16011), ('kasexyhan', 16012), ('bumabawi', 16013), ('shey', 16014), ('tgthr', 16015), ('quotcat', 16016), ('resortquot', 16017), ('jonesy', 16018), ('dadinlaw', 16019), ('matalatine', 16020), ('dseldorf', 16021), ('kela', 16022), ('mockinbird', 16023), ('liv', 16024), ('eanyway', 16025), ('rembrandt', 16026), ('basin', 16027), ('knack', 16028), ('melted', 16029), ('squeal', 16030), ('girsl', 16031), ('comunal', 16032), ('masiveawful', 16033), ('nafa', 16034), ('sabor', 16035), ('cubano', 16036), ('samiches', 16037), ('swelter', 16038), ('heatish', 16039), ('carnivalsofparis', 16040), ('re5', 16041), ('woth', 16042), ('timberfake', 16043), ('cocktails', 16044), ('rian', 16045), ('staden', 16046), ('stonehenge', 16047), (\"blackbery's\", 16048), ('imho', 16049), (\"camera's\", 16050), ('quotlydiaquot', 16051), ('easygoing', 16052), ('melancholyyetchery', 16053), (\"jr's\", 16054), ('celebrated', 16055), ('shiduch', 16056), ('chutzpah', 16057), ('sarms', 16058), ('tyla', 16059), ('postponed', 16060), ('afganistan', 16061), ('drinks', 16062), ('highland', 16063), ('wn', 16064), ('eastgardens', 16065), ('msned', 16066), ('brawn', 16067), ('mclaren', 16068), ('dorian', 16069), ('grayquot', 16070), ('wilde', 16071), ('qualifyin', 16072), ('voiceover', 16073), ('druidry', 16074), ('centraleastern', 16075), ('caspian', 16076), ('shani', 16077), ('forseable', 16078), ('recolouring', 16079), ('antitwitering', 16080), ('mikeywayday', 16081), ('merchant', 16082), ('surname', 16083), ('lahore', 16084), ('christa', 16085), ('ast', 16086), ('legitimate', 16087), ('counterfolow', 16088), ('crumy', 16089), ('niterz', 16090), ('cooperate', 16091), ('playingforchange', 16092), ('uhum', 16093), ('thumbs', 16094), ('n96', 16095), ('quotstabalisequot', 16096), ('loz', 16097), ('gandhi', 16098), ('thepet', 16099), ('15pm', 16100), ('rhonda', 16101), ('mushkila', 16102), (\"ma'a\", 16103), ('fucken', 16104), ('udd', 16105), ('tonoght', 16106), ('showrel', 16107), ('treky', 16108), ('shwetjayz', 16109), ('bew', 16110), ('zsg', 16111), ('cheque', 16112), ('50d', 16113), ('no0o0o0o', 16114), ('lapitytopity', 16115), ('awayz', 16116), ('tuger', 16117), ('misto', 16118), ('inhabit', 16119), ('eather', 16120), ('wable', 16121), ('h1', 16122), ('troling', 16123), ('dbar', 16124), ('timez', 16125), ('uugh', 16126), ('regarding', 16127), ('blurgh', 16128), ('gtgtparamoreltlt', 16129), (\"d'awh\", 16130), ('quotfredomquot', 16131), ('stokednot', 16132), ('ehehehe', 16133), ('346', 16134), ('ining', 16135), ('0930', 16136), ('fitzsimons', 16137), ('5figuretweter', 16138), ('asistantcoknanychaufer', 16139), (\"women's\", 16140), (\"right's\", 16141), ('akhrnya', 16142), ('ngi', 16143), ('90210nya', 16144), ('macet', 16145), ('pdhl', 16146), ('nyari', 16147), ('3nya', 16148), ('cosmetic', 16149), ('workies', 16150), ('ovation', 16151), ('thui', 16152), ('swalowed', 16153), (\"now's\", 16154), ('colourlovers', 16155), ('humpthestump', 16156), ('2035', 16157), (\"we'r\", 16158), ('btr', 16159), ('quotname', 16160), ('twunequot', 16161), ('radest', 16162), ('genoese', 16163), ('speler', 16164), ('probaly', 16165), ('klenex', 16166), ('sumtimes', 16167), ('destruction', 16168), ('mwahs', 16169), ('melisaleah', 16170), ('areply', 16171), ('beb', 16172), ('opsgtlt', 16173), ('overtwet', 16174), ('sortie', 16175), ('lovecraftian', 16176), ('pointsana', 16177), ('jurong', 16178), ('brecky', 16179), ('sleves', 16180), ('3x3', 16181), ('pms', 16182), ('nosignal', 16183), ('acomplishment', 16184), ('miling', 16185), ('fey', 16186), ('30rock', 16187), ('inbruges', 16188), ('mojokins', 16189), ('hltermand', 16190), ('kare', 16191), ('kiau', 16192), (\"mumborg's\", 16193), ('snops', 16194), ('carnisada', 16195), ('easties', 16196), ('mmmmm', 16197), ('powderhorn', 16198), ('similarly', 16199), ('mesmerize', 16200), ('whimsical', 16201), ('fairynes', 16202), ('quotgold', 16203), ('digersquot', 16204), ('quottrophies', 16205), ('patriarchy', 16206), ('norskart', 16207), ('blatant', 16208), ('twitpicwe', 16209), ('piranha', 16210), ('quotfacetiousquot', 16211), ('quotsarcastic', 16212), ('plantin', 16213), ('soil', 16214), ('yw', 16215), ('spedbumps', 16216), ('cps', 16217), ('continuation', 16218), ('interpreter', 16219), ('sicp', 16220), ('crimson', 16221), ('jfk', 16222), ('reviens', 16223), ('15h30', 16224), ('loveyoufletch', 16225), ('hindinot', 16226), ('languagebut', 16227), ('manged', 16228), ('orderd', 16229), ('nontouch', 16230), ('hyperventilate', 16231), ('steviej', 16232), ('meaner', 16233), ('vienozimigi', 16234), ('experienced', 16235), (\"noriega's\", 16236), (\"amanda's\", 16237), ('sctest', 16238), ('jm', 16239), ('gprs', 16240), ('yaymen', 16241), ('fid', 16242), ('tort', 16243), ('dvbs', 16244), ('unagi', 16245), ('regularly', 16246), ('masa', 16247), ('dinerbufalo', 16248), ('provolone', 16249), ('befsteak', 16250), ('melon', 16251), ('cwpm', 16252), ('ranga', 16253), ('lamy', 16254), ('archive', 16255), ('drea', 16256), ('boubous', 16257), ('fmfl', 16258), ('troub', 16259), ('fray', 16260), ('vlogs', 16261), ('quothis', 16262), ('viewquot', 16263), ('coblestones', 16264), ('frehugs', 16265), ('lyx', 16266), ('ecomonday', 16267), ('stint', 16268), ('kut', 16269), ('245am', 16270), ('sidy', 16271), ('genetics', 16272), ('stfu', 16273), ('sgb', 16274), ('rida', 16275), (\"gn'r\", 16276), ('masively', 16277), (\"they's\", 16278), ('waw', 16279), ('knockin', 16280), (\"ist's\", 16281), ('verse', 16282), ('flufbalthegodzila', 16283), ('beaten', 16284), ('comps', 16285), ('flowy', 16286), ('oystsers', 16287), ('plater', 16288), ('hounslow', 16289), ('unatended', 16290), ('nontrustworthy', 16291), ('yardhouse', 16292), ('blogrol', 16293), ('kirkland', 16294), ('launchyerboat', 16295), ('twible', 16296), ('morningstar', 16297), ('streudal', 16298), ('singersongwriter', 16299), ('novemeber', 16300), ('afterthought', 16301), ('monroe', 16302), ('printingshiping', 16303), ('supervise', 16304), ('apathy', 16305), ('60,0', 16306), (\"toys'r'us\", 16307), ('pronunciation', 16308), ('quotfreshquot', 16309), ('lifehouse', 16310), ('cherios', 16311), ('tinkle', 16312), ('idiots', 16313), ('shakedown', 16314), ('gdgd', 16315), ('outproces', 16316), ('edplant', 16317), ('lvamptbt', 16318), ('raiser', 16319), ('vagas', 16320), ('pedal', 16321), ('howya', 16322), ('krista', 16323), ('wanthavent', 16324), ('pikachu', 16325), (\"grandmother's\", 16326), ('locket', 16327), ('wildwod', 16328), ('wilingly', 16329), ('churnet', 16330), ('cathylofran', 16331), ('nicho', 16332), ('minimize', 16333), ('donuts', 16334), ('siyal', 16335), ('8r', 16336), ('iluminated', 16337), ('dreaminglt', 16338), ('intrigued', 16339), ('madict', 16340), ('canyon', 16341), ('admision', 16342), ('photowalkingutah', 16343), ('photowalks', 16344), ('doind', 16345), ('nagy', 16346), ('curvey', 16347), ('jsut', 16348), ('carowinds', 16349), ('civilizati', 16350), ('tamy', 16351), ('lipsynching', 16352), ('dctr', 16353), ('doly', 16354), ('loling', 16355), ('quottwilight', 16356), ('phenomenonquot', 16357), ('quotvampirequot', 16358), ('anivarsary', 16359), (\"hanson's\", 16360), ('zamo', 16361), ('suburbia', 16362), (\"cyrus's\", 16363), ('friendie', 16364), (\"wendy's\", 16365), ('noch', 16366), ('woche', 16367), ('warten', 16368), ('buds', 16369), ('noms', 16370), ('nare', 16371), ('nightal', 16372), ('ria', 16373), ('creme', 16374), ('brule', 16375), ('tiramisu', 16376), ('pangaea', 16377), ('quotf', 16378), ('kilah', 16379), ('cl', 16380), ('norfolk', 16381), (\"fey's\", 16382), (\"california's\", 16383), ('deficit', 16384), ('bufer', 16385), ('crawlies', 16386), ('760', 16387), ('kitin', 16388), ('pendulum', 16389), ('chaseampstatus', 16390), ('betrots', 16391), ('memoir', 16392), ('frefest', 16393), ('2face', 16394), ('palisade', 16395), ('friter', 16396), ('benz', 16397), ('serviced', 16398), ('facepalm', 16399), ('forced', 16400), ('niguh', 16401), ('denton', 16402), ('wopity', 16403), ('slurpe', 16404), ('dasit', 16405), ('gadgetopia', 16406), ('haywire', 16407), ('wondrous', 16408), ('beltaine', 16409), (\"northland's\", 16410), ('newscenter', 16411), ('northland', 16412), ('paperweight', 16413), ('kila', 16414), ('bayle', 16415), ('tibet', 16416), ('extplorer', 16417), ('lovelovelove', 16418), ('overture', 16419), ('237', 16420), ('sadpanda', 16421), ('dhcp', 16422), ('630pm', 16423), ('avihawt', 16424), ('furby', 16425), ('ltalmost', 16426), ('devos', 16427), ('wilpaginate', 16428), ('restos', 16429), (\"nely's\", 16430), ('quotoh', 16431), ('jovani', 16432), ('quotdid', 16433), ('moniez', 16434), ('clyde', 16435), ('jayz', 16436), ('wilyum', 16437), ('sj', 16438), ('945pm', 16439), ('cinelux', 16440), ('almaden', 16441), ('romp', 16442), ('ilusiones', 16443), ('thrasher', 16444), ('mediatemple', 16445), ('ftp', 16446), ('orch', 16447), ('reskined', 16448), ('twetsuite', 16449), ('nicotine', 16450), ('twitchy', 16451), ('abies', 16452), (\"jen's\", 16453), ('letuces', 16454), ('nem', 16455), ('intraday', 16456), ('dumies', 16457), ('kingdomquot', 16458), ('0k', 16459), (\"cok's\", 16460), ('marigold', 16461), ('2,697', 16462), ('disprove', 16463), ('dentists', 16464), ('epson', 16465), ('1030pm', 16466), ('housequot', 16467), ('uncontrolable', 16468), ('filin', 16469), ('magicaly', 16470), ('hyderabad', 16471), ('mimic', 16472), (\"r's\", 16473), ('broughty', 16474), ('twiteringquot', 16475), ('noctwetup', 16476), ('meany', 16477), ('socialize', 16478), ('defensive', 16479), ('mep', 16480), ('sugarchocolatecafeine', 16481), ('husb', 16482), ('cert', 16483), ('discotech', 16484), ('masturbate', 16485), ('aloe', 16486), ('overstufed', 16487), ('quotspock', 16488), ('tame', 16489), ('voyagerstyle', 16490), ('quotmedicalquot', 16491), ('rachael', 16492), ('familias', 16493), ('seaside', 16494), ('tensthanks', 16495), ('everlt', 16496), ('significant', 16497), ('nights', 16498), ('unmaried', 16499), ('8521589', 16500), ('purs', 16501), ('shmolan', 16502), ('quotgoquot', 16503), ('eaten', 16504), ('realnot', 16505), ('janele', 16506), ('tasi', 16507), ('trainwreck', 16508), ('comiseration', 16509), ('bvag', 16510), ('gump', 16511), ('scenery', 16512), ('quotthenquot', 16513), ('sigma', 16514), ('trening', 16515), ('siberia', 16516), ('ashland', 16517), ('scholarship', 16518), ('aot', 16519), ('lec', 16520), ('evangelize', 16521), ('cubiclefredomnes', 16522), ('amajanese', 16523), ('takeover', 16524), ('bosted', 16525), ('explains', 16526), ('oframp', 16527), ('anita', 16528), ('quotselfishquot', 16529), ('involved', 16530), ('academicaly', 16531), ('acomplishments', 16532), ('plead', 16533), ('metric', 16534), ('egrowth', 16535), ('oeiras', 16536), ('trance', 16537), (\"drum'n'bas\", 16538), ('hadouken', 16539), ('shripriya', 16540), ('shri', 16541), ('vorderman', 16542), ('interivew', 16543), ('nonbeliever', 16544), ('bobage', 16545), ('eldorado', 16546), ('aliante', 16547), ('freshly', 16548), ('helyeah', 16549), ('trina', 16550), ('mshs', 16551), ('breakout', 16552), ('quotsushiquot', 16553), ('gourmetcok', 16554), ('exspecialy', 16555), ('ilona', 16556), ('kidnation', 16557), ('fortify', 16558), (\"monin's\", 16559), ('lof', 16560), ('gwt', 16561), ('corps', 16562), ('praline', 16563), ('mastermind', 16564), ('statesboro', 16565), ('unheard', 16566), ('aerosmith', 16567), ('croisantmangomeloncofe', 16568), ('hagis', 16569), ('97', 16570), ('mizmind', 16571), ('pelangi', 16572), ('hotcold', 16573), ('dnd', 16574), ('hi5', 16575), ('fnb', 16576), ('sosad', 16577), ('mcnuget', 16578), ('gloomy', 16579), ('handset', 16580), ('yuotube', 16581), ('component', 16582), ('ps2', 16583), ('p3fes', 16584), ('oot', 16585), ('playmate', 16586), ('corney', 16587), ('embarasment', 16588), ('newman', 16589), ('manderin', 16590), ('akisforjersey', 16591), ('mornineverybody', 16592), (\"vma's\", 16593), ('chamomilethe', 16594), ('hamered', 16595), ('[person]back', 16596), ('ilinois', 16597), ('hahas', 16598), ('pri', 16599), ('5plus', 16600), ('minibar', 16601), ('starups', 16602), ('tlk', 16603), ('fiercemichi', 16604), ('harlow', 16605), ('idiotattux', 16606), ('techyupie', 16607), ('metalia', 16608), ('aicn', 16609), ('201th', 16610), ('r18', 16611), ('getcho', 16612), ('xdxdxd', 16613), ('walkin', 16614), ('ocracoke', 16615), ('compliance', 16616), ('gj', 16617), ('35th', 16618), ('2getha', 16619), ('charade', 16620), (\"rofl'd\", 16621), ('zq', 16622), ('musli', 16623), ('burlesque', 16624), ('somwhere', 16625), ('saini', 16626), ('presenting', 16627), ('owens', 16628), ('calfornia', 16629), ('metamp', 16630), ('benicks', 16631), ('keging', 16632), ('helboy', 16633), (\"somebody's\", 16634), (\"nephew's\", 16635), ('skewl', 16636), ('samsam', 16637), ('justsayin', 16638), ('tetep', 16639), ('3bt', 16640), ('buat', 16641), ('kamis', 16642), ('syapa', 16643), ('interent', 16644), ('nesquik', 16645), ('muh', 16646), ('quotdibsquot', 16647), ('clydesdale', 16648), ('hips', 16649), ('ltbored', 16650), ('budgeting', 16651), ('ducky', 16652), ('episodesquotes', 16653), ('oficeus', 16654), ('analytics', 16655), ('comanal', 16656), (\"safari's\", 16657), ('autofil', 16658), ('dionusia', 16659), ('boc', 16660), ('wlan', 16661), ('princesi', 16662), ('butinedhelp', 16663), ('sigur', 16664), ('gratz', 16665), ('mamas', 16666), ('godbey', 16667), ('minami', 16668), ('duc', 16669), ('sunys', 16670), ('kayaking', 16671), ('hercules', 16672), ('comiccon', 16673), ('derekbel', 16674), ('culen', 16675), ('ceviche', 16676), ('belinis', 16677), ('doi', 16678), ('chung', 16679), ('thoi', 16680), ('didja', 16681), ('shred', 16682), ('nerdiest', 16683), ('cnaterbury', 16684), ('twetversation', 16685), (\"swift's\", 16686), ('pauly', 16687), ('waly', 16688), ('magnolia', 16689), ('godmornin', 16690), ('embaresing', 16691), ('oliveramppeter', 16692), ('fang', 16693), ('horti', 16694), ('galveston', 16695), ('euphamism', 16696), ('kasa', 16697), ('bfoyf', 16698), ('neways', 16699), ('scoter', 16700), ('folowyourdreamsandtheywilcometrue', 16701), ('moyer', 16702), ('interwebz', 16703), ('moro', 16704), ('cypher', 16705), ('aston', 16706), ('kobold', 16707), ('quarterly', 16708), ('dadt', 16709), ('whered', 16710), ('theyve', 16711), ('falkland', 16712), ('mtbcut', 16713), ('bulhorn', 16714), ('omar', 16715), ('lubock', 16716), ('tsar', 16717), ('orbitsgravitymonspace', 16718), ('explorationgalaxyexoplanetsuniverselife', 16719), ('earthidea', 16720), ('godsreligionsphilosophymorality', 16721), ('4him', 16722), ('ysj', 16723), ('beging', 16724), ('blomington', 16725), ('p2v', 16726), ('migrates', 16727), ('vsp', 16728), ('daywekend', 16729), ('decoration', 16730), ('rudy', 16731), ('manageres', 16732), ('4more', 16733), ('quotmost', 16734), ('butlins', 16735), ('191', 16736), ('613', 16737), ('instalment', 16738), ('evenlyn', 16739), ('tomora', 16740), (\"ya's\", 16741), ('breakfastservice', 16742), ('marjoleine', 16743), ('guido', 16744), ('dirk', 16745), ('chrisy', 16746), ('frustrated', 16747), ('fractured', 16748), ('lustig', 16749), ('armer', 16750), ('garantiefal', 16751), ('gd2', 16752), ('gd1', 16753), ('pdg', 16754), ('hehaheaha', 16755), ('layof', 16756), ('nutz', 16757), ('razle', 16758), ('amazement', 16759), ('hor', 16760), (\"neighbour's\", 16761), ('benevolent', 16762), ('charbotgren', 16763), ('quotunusual', 16764), ('crocos', 16765), ('salsa', 16766), ('ienjoyed', 16767), ('procrastinator', 16768), ('mogul', 16769), ('widewale', 16770), (\"courduroy'l\", 16771), ('bankrol', 16772), ('lifechanging', 16773), (\"ra'anana\", 16774), ('alies', 16775), ('albany', 16776), (\"ao's\", 16777), ('jamy', 16778), (\"berie's\", 16779), ('delicate', 16780), ('a2', 16781), ('ngobrolin', 16782), ('kesian', 16783), ('kamu', 16784), ('speakernya', 16785), ('rusak', 16786), ('benerin', 16787), ('brom', 16788), ('swifer', 16789), ('uny', 16790), ('ridin', 16791), ('cb', 16792), ('idont', 16793), ('frekin', 16794), ('athough', 16795), ('clifs', 16796), ('headlight', 16797), ('superwomans', 16798), (\"jordie's\", 16799), (\"donie's\", 16800), ('cherful', 16801), ('quotyeah', 16802), ('blowjobsquot', 16803), ('barkley', 16804), ('betos', 16805), ('elitecamp', 16806), ('noncivilisation', 16807), ('hedache', 16808), ('redskins', 16809), ('interlock', 16810), ('sunshinelots', 16811), ('vit', 16812), ('agresive', 16813), ('behaviour', 16814), ('6172622', 16815), ('eli', 16816), ('prick', 16817), ('swirly', 16818), ('interuption', 16819), ('ck', 16820), ('smashing', 16821), ('midsong', 16822), ('spuratic', 16823), ('quotah', 16824), ('haquot', 16825), ('jihon', 16826), ('iflowers', 16827), ('sinhalenfos', 16828), ('ep2', 16829), ('starquot', 16830), ('coca', 16831), ('fructose', 16832), ('sailin', 16833), ('isabela', 16834), ('uribe', 16835), ('zomed', 16836), ('ghostwhisperer', 16837), ('expensv', 16838), ('btl', 16839), ('bofa', 16840), ('bute', 16841), ('waletpop', 16842), ('unbroke', 16843), ('rover', 16844), ('bahama', 16845), ('charmingly', 16846), ('quin', 16847), ('cstm', 16848), ('bua', 16849), ('tisk', 16850), ('quotmustachequot', 16851), ('unasuming', 16852), ('unpretentious', 16853), ('endearingbecause', 16854), (\"t'was\", 16855), ('ebtg', 16856), ('quoteach', 16857), ('lolylt', 16858), ('alowing', 16859), ('bustin', 16860), ('quotgamer', 16861), ('migrains', 16862), ('aslyum', 16863), ('blackpol', 16864), (\"gus's\", 16865), ('highers', 16866), ('45xy', 16867), ('54pqa', 16868), ('ml', 16869), ('twidling', 16870), ('bwm', 16871), ('510am', 16872), ('eventho', 16873), ('recontinue', 16874), ('quotbreathlesquot', 16875), ('rocketslakers', 16876), ('weblogamo', 16877), ('kardam', 16878), ('moteasefane', 16879), ('baz', 16880), ('postesh', 16881), ('kotah', 16882), ('shod', 16883), ('albate', 16884), ('khob', 16885), ('chizi', 16886), ('nadashtam', 16887), ('begam', 16888), ('horten', 16889), ('mancrush', 16890), ('decleration', 16891), ('chabibi', 16892), ('bx', 16893), ('misispi', 16894), ('pasadena', 16895), ('sergi', 16896), ('corpsed', 16897), ('nites', 16898), (\"haribo's\", 16899), (\"dony's\", 16900), ('navigation', 16901), ('4rm', 16902), ('pitwas', 16903), ('racker', 16904), ('drinkingantibiotics', 16905), ('counteract', 16906), ('nighter', 16907), ('jerms', 16908), (\"who'd\", 16909), ('disastrously', 16910), ('anit', 16911), ('carly', 16912), ('himamphe', 16913), ('kicking', 16914), ('inthebatle', 16915), ('signups', 16916), ('twtvite', 16917), ('aptw', 16918), ('janes', 16919), ('munsay', 16920), ('preside', 16921), ('bigest', 16922), ('ey', 16923), ('besos', 16924), ('grandes', 16925), ('guapo', 16926), ('quotadorablequot', 16927), ('cleche', 16928), ('bcreative', 16929), ('casue', 16930), ('238pm', 16931), ('lavly', 16932), ('cantera', 16933), ('urbanoutfiters', 16934), ('twitermoms', 16935), ('externaly', 16936), ('rz', 16937), ('therefor', 16938), ('lockin', 16939), ('heston', 16940), ('bleumenthal', 16941), ('kelyn', 16942), ('extenders', 16943), ('givein', 16944), ('arun', 16945), ('elmo', 16946), ('untalented', 16947), ('feln', 16948), (\"dr's\", 16949), ('pamphlet', 16950), ('tranlsators', 16951), ('caladesi', 16952), ('weow', 16953), ('natalya', 16954), (\"maiko's\", 16955), ('packes', 16956), ('pneumonia', 16957), ('quothometown', 16958), ('heroesquot', 16959), ('brenden', 16960), ('curtis', 16961), ('newb', 16962), ('kanina', 16963), ('tweak', 16964), ('softly', 16965), ('potrait', 16966), ('profound', 16967), ('derny', 16968), ('sofie', 16969), ('quotoportinistsquot', 16970), ('mumps', 16971), ('ov', 16972), (\"jese's\", 16973), ('nicley', 16974), ('spons', 16975), ('carparks', 16976), (\"romate's\", 16977), ('sorowquot', 16978), ('troubleshoting', 16979), ('cluster', 16980), ('availability', 16981), ('sapy', 16982), ('yayz', 16983), ('downgrade', 16984), ('indianapolis', 16985), ('zap', 16986), ('expat', 16987), ('seaso', 16988), ('semingly', 16989), ('kaufman', 16990), (\"alarm's\", 16991), ('peoplebrowsr', 16992), ('creatur', 16993), ('dne', 16994), ('sonetime', 16995), (\"kevin's\", 16996), ('faq', 16997), ('butocks', 16998), ('deg', 16999), (\"winter's\", 17000), ('fanboy', 17001), ('morison', 17002), ('tangible', 17003), ('gema', 17004), ('mwahahah', 17005), ('aarg', 17006), (\"tyson's\", 17007), ('stupor', 17008), ('s20e19', 17009), ('quotfirst', 17010), ('nici', 17011), ('tifys', 17012), ('efy', 17013), ('alives', 17014), ('exhusband', 17015), ('wayland', 17016), ('fond', 17017), ('repetative', 17018), ('orphanage', 17019), ('friters', 17020), ('firm', 17021), ('donutscomfort', 17022), ('narcotic', 17023), ('moist', 17024), ('wekendquot', 17025), ('slurpes', 17026), ('grenblack', 17027), ('calendarmaking', 17028), ('respondquot', 17029), ('pentecost', 17030), ('uselesly', 17031), ('vacinations', 17032), ('coda', 17033), ('9usd', 17034), ('808', 17035), ('chatanoga', 17036), ('bluf', 17037), ('buckhead', 17038), ('guci', 17039), ('unsetled', 17040), ('dalden', 17041), ('oficials', 17042), ('coldplay', 17043), ('unconference', 17044), ('unreason', 17045), (\"j'adore\", 17046), ('subcribed', 17047), ('2learn', 17048), ('1hour', 17049), ('semiflaky', 17050), ('vrbo', 17051), ('voltera', 17052), ('mediation', 17053), ('dgroup', 17054), ('tsu', 17055), ('quotsubject', 17056), ('linequot', 17057), ('ladyquot', 17058), ('travolta', 17059), ('retirment', 17060), ('tita', 17061), ('rsvping', 17062), ('mchale', 17063), ('puyalup', 17064), ('snugled', 17065), ('gosebery', 17066), ('yata', 17067), ('awkard', 17068), ('bunk', 17069), ('felted', 17070), ('moneyjob', 17071), ('rival', 17072), ('macaron', 17073), ('englisch', 17074), ('retract', 17075), ('francais', 17076), ('photoblog', 17077), ('121908inlove', 17078), ('igbaras', 17079), ('colosus', 17080), ('hawthorne', 17081), (\"fly's\", 17082), ('veranda', 17083), ('algae', 17084), ('phl', 17085), ('charter', 17086), ('bjs', 17087), ('beastie', 17088), ('pew', 17089), ('phasers', 17090), ('actorscharacters', 17091), (\"quen's\", 17092), ('ahahahahahaha', 17093), ('hwy', 17094), ('cwack', 17095), ('condre', 17096), ('munich', 17097), ('postrock', 17098), ('flute', 17099), ('conie', 17100), ('57', 17101), ('brliant', 17102), ('discrepencies', 17103), ('ome', 17104), ('jconsole', 17105), ('lifespan', 17106), ('overplay', 17107), ('welnes', 17108), ('atcha', 17109), ('textedcaled', 17110), ('tarblack', 17111), ('promenade', 17112), ('t8', 17113), ('emalon', 17114), ('interaction', 17115), (\"washer's\", 17116), ('augusten', 17117), (\"burough's\", 17118), ('mispronounce', 17119), ('kto', 17120), ('gandang', 17121), ('sya', 17122), (\"ray's\", 17123), ('asist', 17124), ('middetox', 17125), ('rotfl', 17126), ('soufl', 17127), ('riple', 17128), ('watkins', 17129), ('himamp', 17130), ('entourage', 17131), (\"e's\", 17132), ('dificulty', 17133), ('idmfinal', 17134), ('zum', 17135), ('spohort', 17136), ('mysore', 17137), ('pigsswines', 17138), ('quotwhats', 17139), ('namequot', 17140), ('clubing', 17141), (\"ltemogtlife's\", 17142), ('unfairltemogt', 17143), ('reverse', 17144), ('overdraft', 17145), ('pumpin', 17146), ('crusty', 17147), ('polka', 17148), ('glam', 17149), ('cokoutofthecentury', 17150), ('hopw', 17151), ('twitmama', 17152), ('inflate', 17153), ('49', 17154), ('scriptgirl', 17155), ('tata', 17156), ('parasite', 17157), ('expand', 17158), ('molyneux', 17159), ('texy', 17160), ('1945', 17161), ('whistler', 17162), ('quotmumquot', 17163), ('veritas', 17164), ('aza', 17165), ('ohai', 17166), ('wilkes', 17167), ('barescranton', 17168), ('instrumentals', 17169), ('jasmin', 17170), ('durham', 17171), ('cokouts', 17172), (\"idon'tknowhatdamnbrandcofethisis\", 17173), ('critic', 17174), ('quothelpedquot', 17175), (\"unit's\", 17176), ('iweb', 17177), ('optimize', 17178), ('finito', 17179), ('blurynes', 17180), ('migawd', 17181), (\"mofo'ing\", 17182), ('pretie', 17183), ('espensive', 17184), ('bearfot', 17185), ('rolercoasters', 17186), ('multistorey', 17187), ('endorsed', 17188), ('twindex', 17189), ('welfare', 17190), ('twirp', 17191), ('gafigan', 17192), ('1h3mn', 17193), ('153bpm', 17194), ('monthsso', 17195), ('preped', 17196), ('slepies', 17197), ('porlies', 17198), ('exs', 17199), ('bagin', 17200), ('rivoli', 17201), ('adlounge', 17202), (\"jason's\", 17203), ('andrews', 17204), ('jurybased', 17205), ('embosers', 17206), ('papersource', 17207), ('norwod', 17208), ('carera', 17209), ('tourists', 17210), ('plugs', 17211), ('patent', 17212), ('earplug', 17213), ('subliminal', 17214), ('810', 17215), ('webo', 17216), ('understands', 17217), ('buthole', 17218), ('tchquot', 17219), ('rawks', 17220), ('tatered', 17221), ('daysof', 17222), ('teus', 17223), ('mcmanus', 17224), ('colestbest', 17225), (\"elaine's\", 17226), ('selos', 17227), ('tsokay', 17228), ('diba', 17229), ('faithful', 17230), ('loyal', 17231), ('belgrade', 17232), ('aplesquot', 17233), ('bravo', 17234), ('goers', 17235), ('totem', 17236), ('wealthy', 17237), ('nanay', 17238), ('huged', 17239), ('catchup', 17240), ('spongebobs', 17241), ('distraught', 17242), ('kc910', 17243), ('touchscren', 17244), ('twapy', 17245), ('elora', 17246), ('danan', 17247), ('nsw', 17248), ('melbs', 17249), ('panahra', 17250), ('1313', 17251), ('bordum', 17252), ('intrested', 17253), ('quotthoughtquot', 17254), ('gesh', 17255), ('boynside', 17256), ('quotyumyquot', 17257), ('kapag', 17258), ('magkakasama', 17259), ('nila', 17260), ('mapet', 17261), ('herhis', 17262), ('grain', 17263), ('tada', 17264), ('nothinbg', 17265), ('preform', 17266), ('shiv', 17267), ('filas', 17268), ('definently', 17269), ('gc1qr2r', 17270), ('eurodjangocon', 17271), (\"meowmie's\", 17272), ('ddub', 17273), ('caga', 17274), ('205', 17275), ('bampq', 17276), ('foked', 17277), ('smthng', 17278), ('ptour', 17279), ('bushing', 17280), ('dieu', 17281), ('predictive', 17282), ('omega', 17283), ('movein', 17284), ('unfit', 17285), ('tomorw', 17286), ('unsurprised', 17287), ('analisa', 17288), ('serani', 17289), ('lilmarshmelows', 17290), ('myspaces', 17291), ('diving', 17292), ('marsethey', 17293), ('uverse', 17294), ('25mbps', 17295), ('tabu', 17296), (\"quothe'dquot\", 17297), ('bara', 17298), ('muak', 17299), ('sudah', 17300), ('sedaris', 17301), ('ketchup', 17302), ('waili', 17303), ('3alaik', 17304), ('conk', 17305), ('105al', 17306), ('smb', 17307), ('scanlon', 17308), ('hoarse', 17309), (\"m'of\", 17310), ('satde', 17311), ('obesion', 17312), ('quotxquot', 17313), ('motorcade', 17314), ('sundayshoutout', 17315), ('p4', 17316), ('brantley', 17317), ('odly', 17318), ('frebaling', 17319), ('utison', 17320), ('chroma', 17321), ('cumulus', 17322), ('oriole', 17323), ('suet', 17324), ('bags', 17325), ('meanwhile', 17326), ('bigwekend', 17327), ('landmark', 17328), ('clipsepisodes', 17329), ('c4', 17330), ('frat', 17331), ('hydro', 17332), ('empitome', 17333), ('tsi', 17334), ('160hp', 17335), ('atltwet', 17336), ('virtua', 17337), ('reconecting', 17338), ('wokieman', 17339), ('mals', 17340), ('craigie', 17341), ('ribon', 17342), ('nome', 17343), ('aliyah', 17344), ('nefesh', 17345), ('bnefesh', 17346), ('babylove', 17347), ('homenagem', 17348), ('ao', 17349), ('quotfoundquot', 17350), ('kakabalik', 17351), ('tarlac', 17352), ('aftie', 17353), ('bareiles', 17354), ('rapevile', 17355), ('ashotn', 17356), ('glow', 17357), ('calcutadelhilucknow', 17358), ('quotblowin', 17359), ('jointquot', 17360), ('yir', 17361), (\"ibm's\", 17362), ('interupt', 17363), ('snapier', 17364), ('responsive', 17365), ('tinfoil', 17366), ('beachbal', 17367), ('singleour', 17368), ('baset', 17369), ('hound', 17370), ('robarts', 17371), ('lightweight', 17372), ('toesha', 17373), ('slug', 17374), ('wrox', 17375), ('astroturf', 17376), (\"hal's\", 17377), ('sardonic', 17378), ('cakin', 17379), ('twethug', 17380), ('goingto', 17381), ('remembrd', 17382), ('vair', 17383), ('biglots', 17384), ('agequot', 17385), ('reword', 17386), ('quotgroup', 17387), (\"instead'a\", 17388), ('quotgang', 17389), ('bangingquot', 17390), ('piper', 17391), ('mariel', 17392), ('freways', 17393), ('612', 17394), ('overthetop', 17395), ('voil', 17396), ('maloryweis', 17397), ('gastritis', 17398), ('hydes', 17399), ('chiang', 17400), ('lenys', 17401), ('decsions', 17402), ('pints', 17403), ('stufted', 17404), ('quotknowquot', 17405), ('boksmags', 17406), ('lifting', 17407), ('nauseas', 17408), ('km', 17409), ('zapa', 17410), ('quotdaft', 17411), ('prickquot', 17412), ('grandady', 17413), (\"pc's\", 17414), ('raspberylaced', 17415), ('shivashankar', 17416), ('spelin', 17417), ('palawan', 17418), ('oripei', 17419), ('mushygushy', 17420), ('gushy', 17421), ('pazik', 17422), ('halfdead', 17423), ('mccafe', 17424), ('mcsmothies', 17425), ('biligual', 17426), ('sweatshop', 17427), ('r6', 17428), ('morningmiday', 17429), (\"loiusa's\", 17430), ('kangaro', 17431), ('sightsee', 17432), ('cemetary', 17433), ('writeon', 17434), ('flashlight', 17435), (\"rabit's\", 17436), ('ashleycat', 17437), ('royle', 17438), ('cajun', 17439), ('wowyou', 17440), ('tonights', 17441), ('hignfy', 17442), ('minic', 17443), ('jesi', 17444), ('honet', 17445), ('tang', 17446), ('quotbitesquot', 17447), ('antiitch', 17448), ('regina', 17449), ('deux', 17450), ('shouldhave', 17451), ('morph', 17452), ('yvr', 17453), ('pawn', 17454), ('prerequisite', 17455), ('sape', 17456), ('dijual', 17457), ('slovakian', 17458), ('loservile', 17459), ('lindy', 17460), ('200', 17461), ('olympiou', 17462), ('diamanti', 17463), ('thesaloniki', 17464), ('freude', 17465), ('comercialy', 17466), ('studlife', 17467), ('fost', 17468), ('tiberiu', 17469), ('aflat', 17470), ('sunt', 17471), ('imbecili', 17472), ('peste', 17473), ('shudnt', 17474), ('mowgli', 17475), ('inspite', 17476), ('twitergadget', 17477), ('trailhead', 17478), ('livechat', 17479), ('wekdays', 17480), ('artistic', 17481), ('spageti', 17482), ('deby', 17483), ('therefly', 17484), ('shi', 17485), ('wai', 17486), ('guo', 17487), ('ren', 17488), ('monte', 17489), ('cristo', 17490), ('dilah', 17491), ('smugle', 17492), ('eternity', 17493), ('respite', 17494), ('jolt', 17495), ('quantum', 17496), ('beathrom', 17497), ('reachfind', 17498), ('outsie', 17499), ('stubhub', 17500), ('morming', 17501), ('wepy', 17502), ('starcon', 17503), ('psygnosis', 17504), ('amiga', 17505), ('lidle', 17506), ('beotch', 17507), ('houstatlantavegas', 17508), ('2837', 17509), ('rambly', 17510), ('bonies', 17511), ('joseph', 17512), ('enzyte', 17513), ('deadpol', 17514), ('kameisensei', 17515), ('kuso', 17516), ('margs', 17517), ('chipmunk', 17518), ('cheated', 17519), ('50p', 17520), ('hopefly', 17521), ('guava', 17522), ('handi', 17523), ('smug', 17524), ('whistleblower', 17525), ('fotlong', 17526), ('halal', 17527), ('carying', 17528), ('mi5', 17529), ('colegas', 17530), ('meus', 17531), ('snaping', 17532), ('shakas', 17533), ('wench', 17534), ('950', 17535), ('criple', 17536), ('twizler', 17537), ('rolyn', 17538), ('719', 17539), (\"grifin's\", 17540), ('quotpacmanquot', 17541), ('daya', 17542), ('walang', 17543), ('ginagawa', 17544), ('savequot', 17545), ('suxs', 17546), (\"mvc's\", 17547), ('cad', 17548), ('pilowtalk', 17549), ('618', 17550), ('livenation', 17551), ('3breakupwords', 17552), ('7days', 17553), ('clayton', 17554), ('resturant', 17555), ('huckabe', 17556), ('regional', 17557), ('mondog', 17558), ('chelse', 17559), ('amiera', 17560), ('ltufcgt', 17561), ('gamestop', 17562), ('sumervac', 17563), ('eyestight', 17564), (\"gaiman's\", 17565), ('quotamerican', 17566), (\"murakami's\", 17567), ('quotwindup', 17568), ('chroniclesquot', 17569), ('nvd', 17570), ('quotfriendquot', 17571), ('koxpers', 17572), ('flanel', 17573), ('unf', 17574), ('meaningful', 17575), ('kates', 17576), ('afty', 17577), ('throwin', 17578), (\"rah's\", 17579), ('ili', 17580), (\"shalonda's\", 17581), ('ticon', 17582), ('prose', 17583), ('awayquot', 17584), ('qo', 17585), ('muchdeserved', 17586), ('ecas', 17587), ('quotlame', 17588), ('ltcriesgt', 17589), ('alsort', 17590), ('fxmylife', 17591), ('mkting', 17592), ('chrisete', 17593), (\"michele's\", 17594), ('epiphany', 17595), (\"toronto's\", 17596), ('ubok', 17597), ('t40', 17598), ('roastbef', 17599), ('mostaza', 17600), ('manejamos', 17601), ('jlo', 17602), ('quotquadratic', 17603), ('congruencesquot', 17604), ('elementary', 17605), (\"cobra's\", 17606), ('santi', 17607), ('tortilas', 17608), ('pablo', 17609), ('spek', 17610), ('unbox', 17611), ('cokey', 17612), ('nsure', 17613), ('taiwanese', 17614), ('chun', 17615), ('instrumentalist', 17616), (\"vocalist's\", 17617), ('heshe', 17618), ('veronique', 17619), ('branquinho', 17620), ('corected', 17621), ('1820pm', 17622), ('clubs', 17623), ('earnt', 17624), ('ghd', 17625), ('shiping', 17626), ('darcy', 17627), ('tails', 17628), ('youself', 17629), ('casterbridge', 17630), ('mpumalanga', 17631), ('disposition', 17632), ('acdent', 17633), ('molie', 17634), ('mainframe', 17635), ('unban', 17636), ('twetiful', 17637), ('unknownquot', 17638), ('lesley', 17639), ('cple', 17640), ('86', 17641), ('degr', 17642), ('gpt', 17643), ('finsih', 17644), ('sigo', 17645), ('somervile', 17646), ('hurts', 17647), (\"benjery's\", 17648), ('sundres', 17649), ('whatbouts', 17650), ('chickade', 17651), ('4eva', 17652), ('qt', 17653), ('extends', 17654), ('spineli', 17655), ('godsmack', 17656), ('martina', 17657), ('mcbride', 17658), ('pinkwind', 17659), (\"vanesa's\", 17660), ('harleton', 17661), (\"downloadfestival's\", 17662), ('chiangmai', 17663), ('loy', 17664), ('krathong', 17665), ('mea', 17666), ('stalkerishly', 17667), ('brokie', 17668), ('moraca', 17669), (\"anthony's\", 17670), ('webtop', 17671), ('mozila', 17672), ('indulge', 17673), ('thicke', 17674), ('spirituality', 17675), ('todaythis', 17676), ('afternonnow', 17677), ('8m', 17678), ('maximum', 17679), ('practicum', 17680), ('fotoschol', 17681), ('painter', 17682), ('stokowski', 17683), ('truce', 17684), ('boted', 17685), ('percy', 17686), ('thrower', 17687), ('gardnerinresidence', 17688), ('sufocate', 17689), ('430am', 17690), ('minister', 17691), (\"c'est\", 17692), ('demain', 17693), ('lancement', 17694), ('mercredi', 17695), ('malce', 17696), ('preve', 17697), ('vivela', 17698), ('erajnji', 17699), ('koncert', 17700), ('takem', 17701), ('lineupu', 17702), ('soper', 17703), ('doper', 17704), ('bharia', 17705), ('dhumchik', 17706), ('maty', 17707), ('lingerie', 17708), ('calmer', 17709), ('coperated', 17710), ('froyo', 17711), ('superin', 17712), ('lyke', 17713), ('wandelwekend', 17714), ('gothy', 17715), ('poppunk', 17716), ('canad', 17717), ('jery', 17718), ('dramatic', 17719), ('reimer', 17720), ('bep', 17721), ('proflowers', 17722), ('bogie', 17723), ('hape', 17724), (\"s'acaba\", 17725), ('setmana', 17726), ('amb', 17727), ('milor', 17728), ('repetitive', 17729), ('frist', 17730), ('rememberquot', 17731), ('guarante', 17732), ('inovation', 17733), ('ofstret', 17734), ('330p', 17735), ('wkds', 17736), ('monwolfquot', 17737), ('mystic', 17738), ('bientt', 17739), ('lire', 17740), ('quincy', 17741), ('rosary', 17742), ('ravish', 17743), ('valiantly', 17744), ('businesy', 17745), ('dt', 17746), ('40ish', 17747), ('a12', 17748), ('scameras', 17749), ('60mile', 17750), ('ukrainian', 17751), ('jimys', 17752), ('boskie', 17753), ('reasurance', 17754), ('radioactive', 17755), ('curb', 17756), ('controler', 17757), ('folowilfriday', 17758), ('droling', 17759), ('damp', 17760), ('audiobok', 17761), ('hardcoded', 17762), ('650mb', 17763), ('bwahahaha', 17764), ('halucinating', 17765), ('0909', 17766), ('truelt', 17767), ('1630', 17768), ('quotful', 17769), ('schedulequot', 17770), ('quottraveling', 17771), ('daughterquot', 17772), ('dunhams', 17773), ('smudging', 17774), ('festivus', 17775), ('wrestling', 17776), ('dogsiting', 17777), ('tbs', 17778), ('16lbs', 17779), ('achievement', 17780), ('4day', 17781), ('fantasticaly', 17782), ('thugs', 17783), ('electrik', 17784), ('tempe', 17785), ('marketplace', 17786), ('beautful', 17787), ('moped', 17788), ('ta3aly', 17789), ('ma3aha', 17790), ('e83idy', 17791), ('sa5neha', 17792), ('6ol', 17793), ('6ire8', 17794), ('astahil', 17795), ('wla', 17796), ('kf', 17797), ('idiom', 17798), (\"y'are\", 17799), (\"milan's\", 17800), ('chiclit', 17801), ('euch', 17802), ('ampno', 17803), ('golfbals', 17804), ('grogy', 17805), ('driven', 17806), ('sameway', 17807), ('toz', 17808), ('2say', 17809), ('divider', 17810), ('tmo', 17811), ('sumfink', 17812), ('emulsioning', 17813), ('fanish', 17814), ('inquisition', 17815), ('firepro', 17816), ('everest', 17817), ('ludite', 17818), ('hubytobe', 17819), ('adulthod', 17820), ('drinky', 17821), ('exsplain', 17822), ('ariyan', 17823), ('hamish', 17824), ('drawning', 17825), ('swimin', 17826), ('shoulve', 17827), ('rm', 17828), ('obsesing', 17829), ('redford', 17830), ('sufjan', 17831), ('stevens', 17832), ('sluger', 17833), ('micah', 17834), ('homegirl', 17835), ('remake', 17836), ('holywodjust', 17837), (\"milow's\", 17838), ('paionks', 17839), ('quotobsesedquot', 17840), ('sneakerz', 17841), ('amar', 17842), ('watir', 17843), ('remastering', 17844), ('shardup', 17845), ('admet', 17846), (\"honesty's\", 17847), ('tener', 17848), ('wacha', 17849), ('apaently', 17850), ('morningbrunchish', 17851), ('morisey', 17852), ('lainey', 17853), ('soly', 17854), ('ampmore', 17855), ('gaulers', 17856), ('10dola', 17857), ('foe', 17858), ('swen', 17859), ('chalah', 17860), ('geogektv', 17861), ('fatal', 17862), ('cyclist', 17863), ('ucl', 17864), ('170', 17865), ('trackpad', 17866), ('helacious', 17867), ('mangy', 17868), ('remembered', 17869), ('865', 17870), ('cda', 17871), ('nighters', 17872), ('nemm', 17873), ('zdrojky', 17874), ('mozily', 17875), ('perl', 17876), ('stanu', 17877), ('sv', 17878), ('vry', 17879), ('schopnosti', 17880), ('ohlohu', 17881), ('arizard', 17882), ('bacontaco', 17883), ('slutin', 17884), ('comunications', 17885), ('lunchfast', 17886), ('yack', 17887), ('2amp', 17888), ('aiken', 17889), ('twetilicious', 17890), ('flywithmeobsesive', 17891), ('practicing', 17892), ('romancescomedies', 17893), ('volkswagen', 17894), ('xtravision', 17895), ('02', 17896), ('newsire', 17897), ('twiterfed', 17898), ('paranthas', 17899), ('maxium', 17900), ('ronin', 17901), ('121', 17902), ('recos', 17903), ('scuba', 17904), ('marlito', 17905), ('novaliches', 17906), ('ze', 17907), ('emayal', 17908), ('lops', 17909), ('linoleum', 17910), ('carve', 17911), ('muslim', 17912), ('briyani', 17913), ('quotits', 17914), ('calander', 17915), ('quotcalendar', 17916), ('colander', 17917), ('elope', 17918), ('southkorean', 17919), ('intentando', 17920), ('intentarlo', 17921), ('ltlthave', 17922), ('gor', 17923), ('pseudo', 17924), ('stepmoms', 17925), ('milerz', 17926), ('stayn', 17927), ('headahce', 17928), ('cuzs', 17929), ('sunybank', 17930), ('coatandkay', 17931), ('mochi', 17932), ('valdez', 17933), ('11am', 17934), ('disconects', 17935), ('thea', 17936), ('hmp', 17937), ('rovin', 17938), ('quothealthy', 17939), ('lifestylequot', 17940), ('lopez', 17941), ('sexay', 17942), ('thumping', 17943), ('shope', 17944), ('cramcrackers', 17945), ('muahahaha', 17946), ('10c', 17947), ('olawd', 17948), ('miniapolis', 17949), ('maygray', 17950), ('juneglom', 17951), (\"o'charleys\", 17952), ('twethearts', 17953), ('302', 17954), ('faires', 17955), ('butcking', 17956), ('jebus', 17957), ('representative', 17958), ('afterschol', 17959), ('likin', 17960), ('bluetoth', 17961), ('bathroms', 17962), ('milton', 17963), ('keynes', 17964), ('anonymous', 17965), ('brolights', 17966), ('lolding', 17967), ('believin', 17968), ('meagevs', 17969), ('baybe', 17970), ('getng', 17971), ('htb', 17972), ('workday', 17973), ('ade', 17974), ('shigity', 17975), ('shwa', 17976), ('eastwod', 17977), ('3hours', 17978), ('pofy', 17979), ('stumpy', 17980), ('encoraging', 17981), ('behavior', 17982), ('pee', 17983), ('pregers', 17984), ('43416', 17985), ('mendelsohn', 17986), ('symphony', 17987), ('inocence', 17988), ('tribles', 17989), ('luvd', 17990), ('extent', 17991), ('savour', 17992), ('retrina', 17993), ('masachusets', 17994), ('lager', 17995), ('protofuries', 17996), ('acen', 17997), ('spgridview', 17998), ('finland', 17999), ('tonsilitis', 18000), ('flashcads', 18001), ('bouta', 18002), ('quotfunquot', 18003), ('oging', 18004), ('pmark', 18005), ('i73', 18006), ('yrsampstring', 18007), ('naratives', 18008), ('firepit', 18009), ('oli', 18010), ('untile', 18011), ('1986', 18012), ('heyheyheyheyehyey', 18013), ('friad', 18014), ('tlc', 18015), ('quotmamaquot', 18016), ('balrom', 18017), ('childish', 18018), ('dslr', 18019), ('blindly', 18020), ('gar', 18021), ('relight', 18022), ('quotseductivelyquot', 18023), ('sprawl', 18024), ('bonet', 18025), ('shocker', 18026), ('hundreth', 18027), ('nobitchasnesfriday', 18028), ('mgr', 18029), ('unsanitary', 18030), ('tanghaling', 18031), ('tapat', 18032), ('acara', 18033), ('menarik', 18034), ('lain', 18035), ('ttg', 18036), ('dikasih', 18037), ('tried', 18038), ('vesak', 18039), ('rena', 18040), ('nataliaflewel', 18041), ('screwd', 18042), ('jljf', 18043), ('mediterenean', 18044), ('vidlink', 18045), ('trendy', 18046), ('hairband', 18047), ('extendable', 18048), ('b0ut2get', 18049), ('2start', 18050), ('loses', 18051), ('rygegrej', 18052), ('cuidalo', 18053), ('msla', 18054), ('underapreciated', 18055), ('sophmore', 18056), ('copilot', 18057), ('burnin', 18058), ('d1', 18059), ('godmaking', 18060), (\"ripley's\", 18061), ('eatingbad', 18062), ('personel', 18063), ('consideration', 18064), ('janey', 18065), ('ebter', 18066), ('adn', 18067), ('shortstack', 18068), ('boak', 18069), ('basten', 18070), ('niqhty', 18071), ('niqht', 18072), ('toqether', 18073), ('cancertown', 18074), ('motorsport', 18075), ('montepulciano', 18076), (\"han's\", 18077), ('rideslt', 18078), (\"corespondant's\", 18079), ('groan', 18080), ('soready', 18081), ('gladsad', 18082), ('memy', 18083), ('badoptus', 18084), ('complication', 18085), (\"bucher's\", 18086), ('canalway', 18087), ('cavalcade', 18088), ('krystal', 18089), ('postcrash', 18090), ('indexquot', 18091), ('cpt', 18092), ('marlon', 18093), ('brando', 18094), ('ihate', 18095), ('intensity', 18096), ('spoiled', 18097), ('roton', 18098), ('hyht', 18099), ('savy', 18100), ('varit', 18101), ('privilege', 18102), ('hahahahahahahahahahahahaha', 18103), ('harney', 18104), ('quotinquot', 18105), ('fwends', 18106), ('actorquot', 18107), ('selinittothehighestbider', 18108), ('geze', 18109), ('udnerstand', 18110), (\"y'know\", 18111), ('tasie', 18112), ('naise', 18113), ('arond', 18114), ('bonty', 18115), ('40min', 18116), ('vedanta', 18117), ('quotchit', 18118), ('hapensquot', 18119), ('paws', 18120), ('quottigerquot', 18121), ('mandarin', 18122), ('chord', 18123), ('stomachace', 18124), ('slimy', 18125), ('sanath', 18126), ('jayaho', 18127), ('gotdamn', 18128), ('palace', 18129), ('alkaline', 18130), ('buldogs', 18131), ('hairlos', 18132), ('giniejean', 18133), ('mojo', 18134), ('comunityfirstandtrust', 18135), ('horoscope', 18136), ('315', 18137), ('storyteler', 18138), ('reupload', 18139), ('nescaf', 18140), ('pulease', 18141), ('robe', 18142), (\"presidente's\", 18143), ('okiebud', 18144), ('291km', 18145), ('andswere', 18146), ('930a730p', 18147), ('fowers', 18148), ('atlpics', 18149), (\"camerabag's\", 18150), ('quotloloquot', 18151), (\"g'day\", 18152), ('justify', 18153), ('screnings', 18154), ('antcam', 18155), ('ureo', 18156), ('valentine', 18157), ('profitable', 18158), ('warant', 18159), ('ag', 18160), ('2lmao', 18161), ('jtv', 18162), ('brotherskristi', 18163), ('shortcoming', 18164), ('subtract', 18165), ('rwady', 18166), ('tofurky', 18167), ('14mph', 18168), (\"stepmom's\", 18169), ('felz', 18170), ('quotknowingquot', 18171), ('15min', 18172), ('norton', 18173), ('frenchies', 18174), ('precedent', 18175), ('poisonous', 18176), ('pelets', 18177), ('budapesthungary', 18178), ('psprint', 18179), ('elementquot', 18180), ('quotsuper', 18181), ('grenquot', 18182), ('workwise', 18183), ('wanabe', 18184), ('mir', 18185), ('leid', 18186), ('violation', 18187), ('trademark', 18188), ('waking', 18189), ('sigy', 18190), ('ogbery', 18191), ('godamit', 18192), ('guh', 18193), ('apostro', 18194), ('smite', 18195), ('puled', 18196), (\"morgan's\", 18197), ('shocking', 18198), ('festive', 18199), ('shay', 18200), ('shlda', 18201), ('knwn', 18202), ('ws', 18203), ('crd', 18204), ('upfronts', 18205), ('brandnew', 18206), ('jubey', 18207), ('30day', 18208), ('hahs', 18209), ('vlog', 18210), (\"izard's\", 18211), ('reali', 18212), ('worthwhile', 18213), ('binary', 18214), ('zirconcode', 18215), ('loco', 18216), ('boiled', 18217), ('ltcodygt', 18218), ('fests', 18219), ('macabes', 18220), ('tomtom', 18221), ('restructure', 18222), ('foad', 18223), ('insults', 18224), ('4km', 18225), ('ishi', 18226), ('sharkboy', 18227), ('bcuz', 18228), ('notsoscenic', 18229), ('brandwkshop', 18230), ('bedbury', 18231), ('papi', 18232), ('eyeshadows', 18233), ('boksquot', 18234), ('bayern', 18235), ('stau', 18236), ('profing', 18237), ('alochol', 18238), ('interact', 18239), ('amanzimtoti', 18240), ('fruitcake', 18241), ('poked', 18242), ('functional', 18243), ('rodeo', 18244), ('oxoxoteambrezy', 18245), ('sanx', 18246), ('rirakuma', 18247), ('natale', 18248), ('187', 18249), ('subdivision', 18250), ('breakdown', 18251), ('preservative', 18252), ('quotjustbakedquot', 18253), (\"fjgkfld'sdh\", 18254), ('avatarcamp', 18255), ('shreveport', 18256), ('clot', 18257), ('hilary', 18258), ('opeth', 18259), ('skipton', 18260), ('intertwet', 18261), ('songbird', 18262), ('exists', 18263), ('bashunter', 18264), ('wanted', 18265), ('beardburk', 18266), ('inotia', 18267), ('7ag', 18268), ('ye6le3ni', 18269), ('taqa', 18270), ('3od', 18271), ('518', 18272), ('midsomer', 18273), ('pursue', 18274), ('bryantampamphaile', 18275), ('mwean', 18276), ('wolvarine', 18277), ('wrestlefest', 18278), ('distinct', 18279), ('orbitron', 18280), ('vive', 18281), ('dudetes', 18282), ('10jafa', 18283), ('phaket', 18284), ('aneliese', 18285), ('spelingis', 18286), ('slepdeprived', 18287), ('whatev', 18288), ('roadshow', 18289), ('meghan', 18290), ('basquash', 18291), ('kon', 18292), ('07ghost', 18293), ('sengoku', 18294), ('basara', 18295), ('requiemforthephantom', 18296), ('edenoftheeast', 18297), ('delicacy', 18298), ('pari', 18299), ('neb', 18300), ('thornberys', 18301), ('selfishnes', 18302), ('genious', 18303), ('experimental', 18304), ('hyperactive', 18305), ('depres', 18306), ('motherinlaw', 18307), ('signin', 18308), ('twitwo', 18309), ('quotdavid', 18310), ('archuletaquot', 18311), ('t4p', 18312), ('gramatical', 18313), ('quotmisery', 18314), ('businesquot', 18315), ('quotup', 18316), ('weirdly', 18317), ('thurstag', 18318), ('80x', 18319), ('blackberymesenger', 18320), ('everythin', 18321), ('joburg', 18322), ('lanky', 18323), ('reheadaches', 18324), ('withb', 18325), ('alrer', 18326), ('flatie', 18327), ('boxing', 18328), ('mick', 18329), ('hindu', 18330), ('ragas', 18331), ('sfs', 18332), ('strudlesp', 18333), ('mortify', 18334), ('negotiation', 18335), ('rebeca', 18336), ('symonds', 18337), ('hanahmovie', 18338), ('withmom', 18339), ('creping', 18340), ('pinic', 18341), ('siping', 18342), ('yucaipa', 18343), ('3440', 18344), ('mcarthur', 18345), ('stering', 18346), ('lousier', 18347), ('ughcold', 18348), ('dank', 18349), ('geny', 18350), ('inlaw', 18351), (\"kirsty's\", 18352), ('halibut', 18353), ('jalepenos', 18354), ('sheboygan', 18355), ('tekay', 18356), ('angus', 18357), ('buena', 18358), ('clumsy', 18359), ('tinker', 18360), ('opensource', 18361), ('virtualbox', 18362), ('ampwin', 18363), ('unfourtantly', 18364), (\"ciaran's\", 18365), ('augh', 18366), ('sunbathin', 18367), ('jamesquot', 18368), ('groundwork', 18369), ('warner', 18370), ('refirmware', 18371), ('beignet', 18372), ('blokey', 18373), ('pov', 18374), ('cryed', 18375), ('snugling', 18376), ('kam', 18377), ('lalo', 18378), ('keltin', 18379), ('picies', 18380), ('tisha', 18381), ('acquired', 18382), ('cheseamponions', 18383), ('samanthas', 18384), ('bacor', 18385), ('wahaha', 18386), ('toinks', 18387), ('flashcamp', 18388), ('graduated', 18389), ('godaughters', 18390), ('anchovy', 18391), ('wodburn', 18392), ('oceans', 18393), ('virtualy', 18394), ('twepsland', 18395), ('showe', 18396), ('cockatiel', 18397), ('nyayhahahah', 18398), ('pythonkings', 18399), ('nl', 18400), ('godes', 18401), ('roseane', 18402), ('hazin', 18403), ('honza', 18404), ('oopsie', 18405), ('dinghy', 18406), ('nonintrusive', 18407), ('keygens', 18408), ('wilmy', 18409), ('viendo', 18410), ('relized', 18411), ('inerne', 18412), ('lapa', 18413), ('samba', 18414), ('quotgears', 18415), ('warquot', 18416), ('likelike', 18417), ('promising', 18418), ('disband', 18419), ('binks', 18420), ('anisalovesu', 18421), ('jared', 18422), ('donminican', 18423), ('corpus', 18424), ('leaking', 18425), ('glamorous', 18426), ('frineds', 18427), ('superior', 18428), ('jacqueline', 18429), ('wilson', 18430), ('cbc', 18431), ('dadysize', 18432), ('matilda', 18433), ('doquot', 18434), ('funily', 18435), ('muchachomalo', 18436), ('intezonefotbalcompetition', 18437), ('puertorican', 18438), ('quotwanting', 18439), ('higins', 18440), ('nocturnals', 18441), ('backstagepaz', 18442), ('botox', 18443), ('jolie', 18444), ('esense', 18445), ('pricy', 18446), ('rots', 18447), ('gratification', 18448), ('50th', 18449), ('kik', 18450), ('reminise', 18451), ('dayold', 18452), ('bumbed', 18453), ('overhere', 18454), ('bringtaraback', 18455), ('destrey', 18456), ('antigravity', 18457), ('faz', 18458), ('misoricesushimochi', 18459), ('pcw', 18460), ('quaterfinals', 18461), ('penalty', 18462), ('ax', 18463), ('ombra', 18464), ('largo', 18465), ('hndel', 18466), ('bersal', 18467), ('cofin', 18468), ('subite', 18469), ('yals', 18470), ('dos', 18471), ('gymampamptaning', 18472), ('posibe', 18473), ('gathering', 18474), ('chesebread', 18475), ('bater', 18476), ('bagle', 18477), ('smirky', 18478), ('paranoif', 18479), ('2year', 18480), ('luat', 18481), ('examenul', 18482), ('sps', 18483), ('bobies', 18484), ('suckas', 18485), ('pues', 18486), ('chiquita', 18487), ('pitchfork', 18488), ('togs', 18489), ('chels', 18490), ('0pm', 18491), ('davedays', 18492), ('twimulations', 18493), ('2jobs', 18494), ('ampa', 18495), ('5,0', 18496), ('quottime', 18497), ('hernia', 18498), ('w4m', 18499), ('29yr', 18500), ('hickups', 18501), ('60k', 18502), ('renta', 18503), ('voyage', 18504), ('mcaran', 18505), ('cyah', 18506), ('kaust', 18507), ('echoo', 18508), ('nemecek', 18509), ('ked', 18510), ('muthafuckin', 18511), ('ilycecily', 18512), ('motar', 18513), ('obscure', 18514), ('nai', 18515), ('quotpartnerquot', 18516), ('relationships', 18517), ('jman', 18518), ('tribal', 18519), ('ashleyquots', 18520), ('pretymes', 18521), ('gamemothers', 18522), ('ewl', 18523), ('foa', 18524), ('macies', 18525), (\"shane's\", 18526), ('sits', 18527), ('sumat', 18528), ('fcb', 18529), ('tunapuna', 18530), ('telers', 18531), ('trn', 18532), ('xu', 18533), ('tra', 18534), (\"noboby's\", 18535), ('14,8', 18536), ('hirigana', 18537), ('doki', 18538), ('swetpea', 18539), ('nononline', 18540), ('ida', 18541), ('athlete', 18542), ('joana', 18543), ('bown', 18544), ('wetabix', 18545), ('amazecore', 18546), ('terance', 18547), ('ufc', 18548), ('kitsilano', 18549), ('utiful', 18550), ('wasp', 18551), ('ltr', 18552), ('dundas', 18553), ('duchovny', 18554), ('quoth', 18555), ('1n1quot', 18556), ('interstate', 18557), ('ridiculousnes', 18558), ('suzy', 18559), ('cheryflavored', 18560), ('shant', 18561), ('befriending', 18562), ('yale', 18563), ('darl', 18564), ('formalstretalternate', 18565), (\"rn's\", 18566), ('vocie', 18567), ('mbp', 18568), ('instock', 18569), ('dv20', 18570), ('toser', 18571), (\"facebok's\", 18572), ('quotlikequot', 18573), ('lawnmower', 18574), ('quotjustquot', 18575), ('pomchi', 18576), ('turf', 18577), ('funel', 18578), ('joyride', 18579), ('pai', 18580), ('lader', 18581), ('colapse', 18582), ('backbum', 18583), ('livelovesing', 18584), ('baker', 18585), ('sowey', 18586), (\"lodo's\", 18587), ('eathomeworktvi', 18588), (\"grice's\", 18589), ('whih', 18590), ('atw', 18591), ('psychiatric', 18592), ('dvdquot', 18593), ('divxquot', 18594), ('internetquot', 18595), (\"kitchen's\", 18596), ('romulin', 18597), ('chronic', 18598), ('fentanyl', 18599), ('morphin', 18600), ('hapymothersday', 18601), ('tyson', 18602), ('lanka', 18603), ('hefer', 18604), ('bold', 18605), ('smr', 18606), ('hangz', 18607), ('atachment', 18608), ('kiny', 18609), ('vail', 18610), ('itybitykities', 18611), ('kiana', 18612), (\"masha'alah\", 18613), ('danceatack', 18614), ('atacka', 18615), ('brety', 18616), ('wentz', 18617), ('hez', 18618), ('realz', 18619), ('mrskutcher', 18620), ('aplusk', 18621), ('fuges', 18622), ('melai', 18623), ('badete', 18624), ('unleash', 18625), ('paprika', 18626), ('cofeshop', 18627), ('quiting', 18628), ('hugin', 18629), ('vilains', 18630), ('babi', 18631), ('pangang', 18632), ('wlda', 18633), ('dumyhead', 18634), ('vv', 18635), ('quesadila', 18636), ('quesadias', 18637), ('excruciate', 18638), ('betaread', 18639), ('vnecks', 18640), ('chichi', 18641), ('sumar', 18642), ('frnds', 18643), ('quotmanaselam', 18644), ('kulir', 18645), ('nanbargale', 18646), ('manalapan', 18647), ('marlboro', 18648), ('tritip', 18649), ('privileged', 18650), ('nofair', 18651), ('uhura', 18652), ('lasie', 18653), ('streamin', 18654), ('quotresponsibilityquot', 18655), ('2hours', 18656), ('lova', 18657), ('coldplaylt', 18658), ('carbonate', 18659), ('thimk', 18660), ('charley', 18661), ('bigs', 18662), ('753am', 18663), ('jackes', 18664), ('movieing', 18665), ('anew', 18666), ('husker', 18667), ('moe', 18668), ('stome', 18669), ('bankencrisis', 18670), ('blader', 18671), (\"writer's\", 18672), ('wc', 18673), ('t20', 18674), ('romania', 18675), ('macabre', 18676), ('nuclear', 18677), ('warisfucked', 18678), ('martwo', 18679), ('homewatching', 18680), ('quothealthifiedquot', 18681), ('streusel', 18682), ('superreflective', 18683), ('walmans', 18684), ('glaser', 18685), ('cala', 18686), ('aberden', 18687), ('tkd', 18688), ('instructor', 18689), ('rockpols', 18690), ('octopi', 18691), ('pixabt', 18692), ('ubut', 18693), ('shipwrecked', 18694), ('godtimes', 18695), ('pogue', 18696), ('hyped', 18697), ('mason', 18698), ('gil', 18699), ('sunstroke', 18700), ('bios', 18701), ('tahoe', 18702), ('wzup', 18703), ('skylar', 18704), ('findin', 18705), ('formulate', 18706), ('ohbabay', 18707), ('silverstone', 18708), ('sandown', 18709), ('hiamplow', 18710), ('flygroups', 18711), ('4rom', 18712), ('ashat', 18713), ('shortchanged', 18714), ('ovie', 18715), ('anywayz', 18716), ('koda', 18717), ('aquino', 18718), ('saelina', 18719), ('chity', 18720), ('smartier', 18721), ('alton', 18722), ('10ty', 18723), ('conviction', 18724), (\"you'be\", 18725), ('enw', 18726), ('pht', 18727), ('hush', 18728), ('teasing', 18729), ('1c', 18730), ('elp', 18731), ('colected', 18732), (\"quotthat's\", 18733), ('picturequot', 18734), ('winksy', 18735), ('gizmo', 18736), ('h8s', 18737), ('growls', 18738), ('pruple', 18739), ('fingie', 18740), ('msql', 18741), ('conects', 18742), ('shatranjanpoli', 18743), ('2649845', 18744), ('andheri', 18745), ('2673', 18746), ('kale', 18747), ('liloven', 18748), ('sender', 18749), ('laughlin', 18750), ('esploder', 18751), ('siser', 18752), ('smwhere', 18753), ('plis', 18754), ('whope', 18755), ('oregan', 18756), ('armpit', 18757), ('resturants', 18758), ('photomedia', 18759), ('scratchy', 18760), ('rewatch', 18761), ('seizure', 18762), ('nigling', 18763), ('soc', 18764), ('minutos', 18765), ('splitup', 18766), ('asasinate', 18767), ('t9', 18768), ('architecture', 18769), ('kona', 18770), ('triathlon', 18771), ('chosen', 18772), ('otw', 18773), ('begar', 18774), ('foward', 18775), ('wisely', 18776), ('obtain', 18777), ('elita', 18778), ('lao', 18779), ('spanikopita', 18780), ('dyededed', 18781), ('ridle', 18782), ('poper', 18783), ('joyce', 18784), ('steping', 18785), ('soapbox', 18786), ('diga', 18787), ('peasy', 18788), ('bandwith', 18789), ('exced', 18790), ('filaty', 18791), ('rolf', 18792), ('lokquot', 18793), ('tana', 18794), ('crest', 18795), ('cancuks', 18796), ('dwel', 18797), ('tramp', 18798), ('pfp', 18799), ('moho', 18800), ('backline', 18801), ('snub', 18802), ('ineptnesshynes', 18803), ('firday', 18804), (\"lot's\", 18805), ('pending', 18806), ('undeveloped', 18807), ('boh', 18808), ('leary', 18809), ('parked', 18810), ('latrine', 18811), ('pril', 18812), ('airshow', 18813), ('745', 18814), ('alredy', 18815), ('underpants', 18816), ('courier', 18817), ('smoki', 18818), ('turnaround', 18819), ('muay', 18820), ('frosted', 18821), ('ventolin', 18822), ('guesting', 18823), ('naivety', 18824), ('ltone', 18825), ('mybrute', 18826), ('folkies', 18827), ('landwork', 18828), ('morninughewy', 18829), ('mebut', 18830), (\"ya'lgt\", 18831), ('absoute', 18832), ('pui', 18833), ('ascultat', 18834), ('topul', 18835), ('bogdan', 18836), ('quotbutoanequot', 18837), ('este', 18838), ('frined', 18839), ('proby', 18840), ('cj', 18841), ('238', 18842), ('cao', 18843), ('overdose', 18844), ('fainting', 18845), ('ribons', 18846), ('boulevard', 18847), ('hind', 18848), ('ians', 18849), ('wormie', 18850), ('kandivali', 18851), ('fotc', 18852), ('blackout', 18853), ('2ndary', 18854), ('lofnotc', 18855), ('confiscate', 18856), ('lin', 18857), ('vpl', 18858), ('bridgefront', 18859), ('shiney', 18860), ('sawy', 18861), ('arosh', 18862), ('quotpelzer', 18863), ('presentquot', 18864), ('kidsiting', 18865), ('vacuming', 18866), ('howz', 18867), ('quotmagie', 18868), ('cadet', 18869), ('concentrated', 18870), ('margie', 18871), ('gsn', 18872), ('beneath', 18873), ('cornerstone', 18874), ('goign', 18875), ('britainsgotalent', 18876), ('schade', 18877), ('tvadict', 18878), ('anounces', 18879), ('quotbig', 18880), ('magout', 18881), ('rhcp', 18882), ('cumbersome', 18883), ('trasfusion', 18884), ('disclaimer', 18885), (\"max's\", 18886), ('dte', 18887), ('customized', 18888), ('jover', 18889), ('gedan', 18890), ('begad', 18891), (\"phd's\", 18892), ('iht', 18893), ('ahar', 18894), ('toris', 18895), ('comix', 18896), ('panvel', 18897), ('grahmcracker', 18898), ('intel', 18899), ('gfx', 18900), ('30rc4', 18901), ('mem', 18902), ('ilife', 18903), (\"tafy's\", 18904), ('penji', 18905), ('mcbaby', 18906), ('panini', 18907), ('tshwane', 18908), ('hiphiphoray', 18909), ('quotquirky', 18910), ('qquot', 18911), ('concerto', 18912), (\"raimi's\", 18913), ('amcmain', 18914), ('bahahaha', 18915), ('guysjust', 18916), ('hik', 18917), ('kha', 18918), ('vaneta', 18919), ('678', 18920), ('98212', 18921), ('frecomend', 18922), ('546', 18923), ('csh', 18924), ('howdy', 18925), ('monsterinlaw', 18926), ('beautifuly', 18927), ('japa', 18928), ('ect', 18929), ('ibs', 18930), ('lp', 18931), ('islip', 18932), ('kilme', 18933), ('bitbeter', 18934), ('evp', 18935), ('martabak', 18936), ('tempting', 18937), ('fatening', 18938), ('lockdown', 18939), ('molah', 18940), ('quottbagquot', 18941), ('butons', 18942), ('quotstupid', 18943), ('clickinquot', 18944), (\"stephanie's\", 18945), ('topol', 18946), ('soaked', 18947), ('quotnazi', 18948), ('pundit', 18949), ('quotamazingquot', 18950), ('tudyk', 18951), ('outright', 18952), ('acusations', 18953), ('refs', 18954), ('lovliest', 18955), ('subwayyum', 18956), ('tomorah', 18957), ('newsfire', 18958), ('julius', 18959), ('caesar', 18960), ('grench', 18961), ('galstones', 18962), ('rainbots', 18963), ('anorexic', 18964), ('durango', 18965), ('chaperon', 18966), ('surfing', 18967), ('wodchuck', 18968), ('paperbound', 18969), ('zit', 18970), ('herpes', 18971), ('exhilerating', 18972), ('shockable', 18973), ('pumpkin', 18974), ('hapeh', 18975), ('copier', 18976), ('championing', 18977), ('activex', 18978), ('colins', 18979), ('matangap', 18980), ('40mb', 18981), ('onpeak', 18982), ('domsday', 18983), ('jbum', 18984), ('dami', 18985), ('flamenco', 18986), ('subforms', 18987), ('solea', 18988), ('12beat', 18989), ('skating', 18990), ('hunrgy', 18991), ('xloser', 18992), ('8a', 18993), ('photoshots', 18994), ('drils', 18995), ('aproves', 18996), ('reachable', 18997), ('omigodnes', 18998), ('shipwreck', 18999), ('instalers', 19000), ('shapeshifter', 19001), ('bitercrek', 19002), ('hopnoxious', 19003), ('swetgras', 19004), ('publicist', 19005), (\"papi's\", 19006), ('swizy', 19007), ('tomos', 19008), ('g4tv', 19009), ('heckity', 19010), ('unblocked', 19011), ('envious', 19012), ('longdistance', 19013), ('hurtig', 19014), ('loveya', 19015), ('dow', 19016), ('sampler', 19017), ('roaster', 19018), ('macarenaing', 19019), ('menudo', 19020), ('parmesean', 19021), ('culinary', 19022), ('abomination', 19023), ('ohtays', 19024), ('employer', 19025), ('peyton', 19026), ('roy', 19027), ('disects', 19028), ('certian', 19029), ('congratuations', 19030), ('eraser', 19031), (\"churo's\", 19032), ('simpatia', 19033), ('votem', 19034), ('mim', 19035), ('anand', 19036), ('asemblies', 19037), ('fnh', 19038), ('caliburn', 19039), ('dynamicproxy', 19040), (\"wolfram's\", 19041), ('bangalorean', 19042), ('pablos', 19043), ('warz', 19044), (\"sfo's\", 19045), ('alphabet', 19046), ('godam', 19047), ('organiser', 19048), ('artistdjs', 19049), ('quotfquot', 19050), ('mustache', 19051), ('mustaches', 19052), ('rbi', 19053), ('scholed', 19054), ('quotworkquot', 19055), (\"mustv'e\", 19056), ('thunderstorming', 19057), ('3ware', 19058), ('9650se', 19059), ('3x', 19060), ('x25m', 19061), ('80mhz', 19062), ('iop', 19063), ('hpt', 19064), ('adaptec', 19065), ('5405', 19066), ('gangstar', 19067), ('exgirl', 19068), (\"julia's\", 19069), ('baseship', 19070), (\"wil's\", 19071), ('satisfaction', 19072), ('poverty', 19073), ('dlp', 19074), ('canasta', 19075), ('coukd', 19076), ('flair', 19077), ('krystle', 19078), ('catfights', 19079), ('penywise', 19080), ('quotbacon', 19081), ('maryquot', 19082), ('quotblody', 19083), (\"drew's\", 19084), ('theview', 19085), (\"time's\", 19086), ('subbasement', 19087), ('3asa', 19088), ('propelerheads', 19089), ('repo', 19090), ('nyokap', 19091), ('pernah', 19092), ('berkata', 19093), ('demikian', 19094), ('facesized', 19095), ('keane', 19096), ('underground', 19097), ('shikari', 19098), ('afriad', 19099), ('enchilado', 19100), ('undernourished', 19101), ('hehei', 19102), ('singz', 19103), ('n3d', 19104), ('t0g0', 19105), ('quotoohoh', 19106), ('shinyquot', 19107), ('dmore', 19108), ('awetastic', 19109), ('oldschol', 19110), ('botlegs', 19111), ('boker', 19112), ('favourtie', 19113), ('fma', 19114), ('freako', 19115), ('roidz', 19116), ('minifridge', 19117), ('quotsentimental', 19118), ('watajokeentalquot', 19119), ('fren', 19120), ('beginings', 19121), ('epsom', 19122), ('publicity', 19123), ('vertigo', 19124), ('suferers', 19125), ('ffs', 19126), ('journaling', 19127), ('buisneses', 19128), ('stephs', 19129), ('watchd', 19130), ('bip', 19131), ('sms', 19132), ('streamkeys', 19133), ('migration', 19134), ('awl', 19135), ('suma', 19136), ('kindof', 19137), ('extinction', 19138), ('byshower', 19139), ('quotdarling', 19140), ('herequotquot', 19141), ('twiterererers', 19142), ('improperly', 19143), (\"awthat's\", 19144), ('rooop', 19145), ('hairs', 19146), ('floral', 19147), ('carto', 19148), ('flatworld', 19149), ('moreton', 19150), ('stropy', 19151), ('bwahahahahahahaha', 19152), ('culprit', 19153), ('reporter', 19154), ('flowin', 19155), ('fancys', 19156), ('306,0', 19157), ('cybercriminaloverlords', 19158), (\"lily's\", 19159), ('overexcited', 19160), ('winshit', 19161), ('goeswent', 19162), ('godmorningnight', 19163), ('912', 19164), (\"christa's\", 19165), ('hideampsek', 19166), ('luau', 19167), ('quotorganization', 19168), ('itil', 19169), ('failquot', 19170), ('genghis', 19171), ('khichadi', 19172), ('mhmhmh', 19173), ('seagul', 19174), ('eclectricity', 19175), ('futile', 19176), ('preties', 19177), ('borgelaj', 19178), ('loveyoujonesy', 19179), ('brotherinlaw', 19180), ('storyviva', 19181), ('lakeman', 19182), ('1246am', 19183), ('vouches', 19184), ('cheseburglar', 19185), ('evelyn', 19186), ('postr', 19187), ('701', 19188), ('syncs', 19189), ('witunes', 19190), ('eyeapealing', 19191), ('acomodation', 19192), ('defiance', 19193), ('speach', 19194), ('omaha', 19195), ('skyrocket', 19196), ('monlightflight', 19197), ('dloading', 19198), ('infront', 19199), ('farther', 19200), ('waht', 19201), ('frc', 19202), ('pcola', 19203), ('binstruct', 19204), ('mib', 19205), ('ykyat', 19206), ('pbp', 19207), ('bpd', 19208), ('lq', 19209), ('coty', 19210), ('valium', 19211), ('ets', 19212), ('endoscopic', 19213), ('thoracic', 19214), ('sympathectomy', 19215), ('invaluable', 19216), ('surgical', 19217), ('watup', 19218), ('jv', 19219), ('gog', 19220), ('califur', 19221), ('dolidh', 19222), ('div', 19223), ('gby', 19224), ('leatherman', 19225), ('armada', 19226), ('nandos', 19227), ('quotm', 19228), ('cheshire', 19229), ('flatmate', 19230), ('drunkbowling', 19231), ('dreadzone', 19232), ('liferuin', 19233), ('musictrauma', 19234), ('sti', 19235), (\"prof's\", 19236), ('erasure', 19237), ('chrysler', 19238), ('comunist', 19239), ('acidente', 19240), ('reaper', 19241), ('acidents', 19242), ('depth', 19243), ('ext', 19244), ('filesystem', 19245), ('operability', 19246), ('oftopic', 19247), ('germination', 19248), ('quotfruit', 19249), ('pickingquot', 19250), ('algonquin', 19251), ('emilie', 19252), ('springhil', 19253), ('doa', 19254), ('vm', 19255), ('misalign', 19256), ('fanatic', 19257), ('percocet', 19258), ('wolftrap', 19259), ('236', 19260), ('luckquot', 19261), ('matew', 19262), ('mcconaughey', 19263), ('smexy', 19264), (\"edna's\", 19265), ('jordyn', 19266), ('ceo', 19267), ('thinksm', 19268), ('wowp', 19269), ('pronoun', 19270), ('trentles', 19271), ('stepsister', 19272), ('dino', 19273), ('ilok', 19274), ('lewd', 19275), ('typo', 19276), ('capitan', 19277), ('395', 19278), ('hungary', 19279), ('electronics', 19280), ('gibs', 19281), ('whwha', 19282), ('hacky', 19283), ('frecyclers', 19284), ('cudlez', 19285), ('facebek', 19286), ('somthing', 19287), ('cocoliciousnes', 19288), ('chapman', 19289), ('arogant', 19290), ('yeye', 19291), ('calc', 19292), ('790', 19293), ('pismo', 19294), ('powershot', 19295), ('tish', 19296), ('crv', 19297), ('duckie', 19298), ('manhatan', 19299), ('droping', 19300), ('faketemporary', 19301), ('dmp', 19302), ('sl', 19303), ('giford', 19304), ('walkathon', 19305), ('ohay', 19306), ('redit', 19307), ('butler', 19308), ('hispanic', 19309), ('hendrix', 19310), ('cosmos', 19311), ('elk', 19312), ('anoyingly', 19313), ('4leged', 19314), ('quotkidsquot', 19315), ('quotsounds', 19316), ('clematis', 19317), ('belevue', 19318), ('xs', 19319), ('onther', 19320), ('marketer', 19321), ('socergame', 19322), ('acustomed', 19323), ('wembley', 19324), ('830pm', 19325), ('890', 19326), ('keg', 19327), ('philipa', 19328), ('marying', 19329), ('lovable', 19330), ('baptize', 19331), ('topman', 19332), ('posada', 19333), (\"heating's\", 19334), ('jetseter', 19335), ('spedway', 19336), ('boardgame', 19337), ('bokchase', 19338), ('contradiction', 19339), ('garageband', 19340), ('mtb', 19341), ('unfinished', 19342), ('backupbluray', 19343), ('sandbox', 19344), ('autoreturn', 19345), ('wodland', 19346), ('mathews', 19347), ('quotstay', 19348), ('leavequot', 19349), ('quotcrushquot', 19350), ('lmfa', 19351), ('cafine', 19352), ('quash', 19353), ('nicola', 19354), ('padster', 19355), ('tonighttomorow', 19356), ('ocd', 19357), ('sugesting', 19358), ('deferment', 19359), ('trekie', 19360), ('rulz', 19361), ('polon', 19362), ('bugin', 19363), ('esme', 19364), ('vernae', 19365), ('bambo', 19366), ('quotirisquot', 19367), ('atat', 19368), ('stormtropers', 19369), ('gaiman', 19370), ('joshua', 19371), ('sixth', 19372), ('sners', 19373), ('impostor', 19374), ('mccafetastes', 19375), ('mcskilet', 19376), ('mamo', 19377), ('kickable', 19378), ('folkz', 19379), ('donald', 19380), ('faison', 19381), ('cace', 19382), ('redbuble', 19383), (\"sn's\", 19384), ('roampco', 19385), ('longband', 19386), ('discusing', 19387), ('quoticant', 19388), ('hereditary', 19389), ('cominging', 19390), ('reasoning', 19391), ('4give', 19392), ('asking', 19393), ('situational', 19394), ('visite', 19395), ('zelenka', 19396), ('yoyo', 19397), ('nako', 19398), ('shalownes', 19399), ('idylic', 19400), ('geordiebird', 19401), ('bikini', 19402), ('oxoxo', 19403), ('frenchie', 19404), ('liu', 19405), ('strachino', 19406), ('porch', 19407), (\"coco's\", 19408), ('fiel', 19409), ('proably', 19410), ('trait', 19411), ('julyish', 19412), ('wthr', 19413), ('carina', 19414), ('cesna', 19415), (\"raferty's\", 19416), ('ishra', 19417), ('ventura', 19418), ('70,0', 19419), ('supertramp', 19420), ('marly', 19421), ('tourdeus', 19422), ('soberana', 19423), ('pasiveagresive', 19424), ('resistant', 19425), ('curlymamaw', 19426), ('motorola', 19427), ('moronmonday', 19428), ('dupe', 19429), ('wha', 19430), (\"artist's\", 19431), ('quotcause', 19432), ('kean', 19433), ('cipriano', 19434), ('kiokudb', 19435), ('catalyst', 19436), ('wakeboarding', 19437), ('carleigh', 19438), ('barley', 19439), ('incredily', 19440), ('compile', 19441), ('quotstuningly', 19442), ('beautifulquot', 19443), ('piecequot', 19444), ('portableaps', 19445), ('waldi', 19446), ('phantom', 19447), ('phped', 19448), ('twethampton', 19449), ('bprohibiting', 19450), (\"i'am\", 19451), ('linkit', 19452), ('lohang', 19453), ('inerchild', 19454), ('dias', 19455), ('quotsex', 19456), ('firequot', 19457), ('satish', 19458), ('goldmine', 19459), ('quotwriterquot', 19460), ('corectly', 19461), (\"pln's\", 19462), ('earthday', 19463), (\"congratulation's\", 19464), ('packer', 19465), (\"te's\", 19466), ('scarey', 19467), ('peircings', 19468), ('tae', 19469), ('duster', 19470), ('grenhils', 19471), ('balikbayans', 19472), ('chij', 19473), ('mowj', 19474), ('thims', 19475), ('hoj', 19476), ('hangf', 19477), ('thik', 19478), ('ganf', 19479), ('xa', 19480), ('thong', 19481), ('cuois', 19482), ('intrusive', 19483), ('noite', 19484), ('vespa', 19485), ('mupets', 19486), ('sinse', 19487), (\"retweting's\", 19488), (\"lupo's\", 19489), ('quothapines', 19490), ('polinatorquot', 19491), ('shotdrinksaturday', 19492), ('carlos', 19493), ('potbely', 19494), (\"de's\", 19495), ('jamlegend', 19496), ('nno', 19497), ('frost', 19498), ('belay', 19499), ('tub', 19500), ('extinct', 19501), ('donalds', 19502), ('orgasmic', 19503), ('sanjaya', 19504), ('canabis', 19505), ('redwod', 19506), ('medici', 19507), ('demisterling', 19508), ('jemi', 19509), ('lichfield', 19510), ('lest', 19511), ('greatscores', 19512), ('yeaps', 19513), ('bdays', 19514), ('damali', 19515), ('reminderthx', 19516), ('depite', 19517), ('pakistani', 19518), ('wowo', 19519), ('gt3', 19520), ('wolery', 19521), ('abundantbles', 19522), ('snoker', 19523), ('apush', 19524), ('ure', 19525), ('smushing', 19526), ('playable', 19527), ('exclusivity', 19528), ('jks', 19529), ('oje', 19530), ('wantned', 19531), ('rfided', 19532), ('armani', 19533), ('pantone', 19534), ('nevar', 19535), ('mfk', 19536), ('pothole', 19537), ('forese', 19538), ('quotmonicaquot', 19539), ('hanahs', 19540), ('synopsis', 19541), ('epfangirl', 19542), ('restaraunt', 19543), ('quotgarfieldsquot', 19544), ('malamang', 19545), ('16yo', 19546), ('casablanca', 19547), ('gameresearching', 19548), (\"aracheologist's\", 19549), ('1ofmy', 19550), ('idiotatmilanq', 19551), ('frankwhyte', 19552), ('padawan', 19553), ('coral', 19554), ('spender', 19555), (\"disco's\", 19556), (\"murder's\", 19557), ('ruleaz', 19558), ('zic', 19559), ('antibacterial', 19560), ('phpmyadmin', 19561), ('hostphpmyadmin', 19562), ('xamp', 19563), ('senility', 19564), ('awoke', 19565), ('pav', 19566), ('bhaji', 19567), ('finely', 19568), ('quotbusyquot', 19569), ('masera', 19570), ('michi', 19571), ('uce', 19572), ('pgce', 19573), ('economist', 19574), ('costsavings', 19575), ('crchan', 19576), ('thankgod', 19577), ('3ah', 19578), ('3aref', 19579), ('jetway', 19580), ('wlaughter', 19581), ('outie', 19582), ('realale', 19583), ('deathfic', 19584), ('anerexic', 19585), ('epy', 19586), ('threquarters', 19587), ('natalies', 19588), ('sebastian', 19589), ('digipack', 19590), ('confusin', 19591), ('twitdroid', 19592), ('understant', 19593), ('preaplication', 19594), ('hoepfner', 19595), ('burgfest', 19596), ('karlsruhe', 19597), ('prezie', 19598), ('motivated', 19599), ('television', 19600), ('rny', 19601), ('sugary', 19602), ('vending', 19603), ('bleck', 19604), ('prologue', 19605), ('liberalism', 19606), ('quotchrist', 19607), ('crucifictionquot', 19608), ('abstraction', 19609), ('romo', 19610), ('requoting', 19611), ('gyan', 19612), ('muthu', 19613), ('fishfingers', 19614), ('stamford', 19615), ('mojitos', 19616), ('triplet', 19617), ('whinequot', 19618), ('patetic', 19619), ('budapest', 19620), ('lawrence', 19621), ('penut', 19622), ('tosted', 19623), ('microsize', 19624), ('stakc', 19625), ('choregoraphy', 19626), ('fusterated', 19627), ('urs', 19628), ('fright', 19629), ('alzheimers', 19630), ('reisue', 19631), ('likequot', 19632), ('yen', 19633), ('fledged', 19634), ('nv', 19635), (\"shakti's\", 19636), ('gong', 19637), ('wekebd', 19638), ('pider', 19639), ('pade', 19640), ('lapytop', 19641), ('miscariage', 19642), ('azeroth', 19643), ('ahahahahahahahaha', 19644), ('butnada', 19645), ('progresing', 19646), ('landing', 19647), ('pandi', 19648), ('iamp', 19649), ('inflame', 19650), ('lilestrm', 19651), ('grime', 19652), ('seaport', 19653), ('pang', 19654), ('hook', 19655), ('wind_instrument', 19656), ('outdistance', 19657), ('hindrance', 19658), ('legislate', 19659), ('voltaic_pile', 19660), ('random-access_memory', 19661), ('sarin', 19662), ('malodor', 19663), ('admonisher', 19664), ('stagger', 19665), ('acculturation', 19666), ('resound', 19667), ('pudding_stone', 19668), ('pop_music', 19669), ('first_base', 19670), ('discouragement', 19671), ('fall_through', 19672), ('preceptor', 19673), ('absolved', 19674), ('association', 19675), ('lout', 19676), ('bowel_movement', 19677), ('ice_rink', 19678), ('thirty-nine', 19679), ('manoeuver', 19680), ('associate_degree', 19681), ('circular', 19682), ('sophisticate', 19683), ('embroil', 19684), ('capitulation', 19685), ('atomic_pile', 19686), ('wisecrack', 19687), ('dark-skinned', 19688), ('administration', 19689), ('palingenesis', 19690), ('tie_down', 19691), ('running', 19692), ('bill', 19693), ('malefic', 19694), ('located', 19695), ('storehouse', 19696), ('blunder', 19697), ('diluted', 19698), ('denounce', 19699), ('consociate', 19700), ('mortarboard', 19701), ('break_dance', 19702), ('laborer', 19703), ('surveil', 19704), ('alight', 19705), ('implicated', 19706), ('check_mark', 19707), ('tiptoe', 19708), ('fabricate', 19709), ('oversee', 19710), ('work_force', 19711), ('forge', 19712), ('cathexis', 19713), ('pulley', 19714), ('conceptive', 19715), ('caution', 19716), ('chemise', 19717), ('moderate', 19718), ('jell', 19719), ('course_session', 19720), ('manufacture', 19721), ('flatcar', 19722), ('think_up', 19723), ('bazaar', 19724), ('british_labour_party', 19725), ('gesticulate', 19726), ('preempt', 19727), ('fifty-nine', 19728), ('building_complex', 19729), ('speechless', 19730), ('normality', 19731), ('faithlessly', 19732), ('fecal_matter', 19733), ('approximate', 19734), ('legal_action', 19735), ('inauguration', 19736), ('debase', 19737), ('tract', 19738), ('nutriment', 19739), ('setting', 19740), ('dismember', 19741), ('sudanese_pound', 19742), ('reviewer', 19743), ('b-complex_vitamin', 19744), ('dash_off', 19745), ('asleep', 19746), ('barren', 19747), ('irish_republican_army', 19748), ('bowling_pin', 19749), ('pigeonhole', 19750), ('mesh', 19751), ('gutter', 19752), ('huddle', 19753), ('point_of_view', 19754), ('mission', 19755), ('decrepit', 19756), ('hang_on', 19757), ('pivot', 19758), ('stinger', 19759), ('commodity', 19760), ('drilling', 19761), ('perfective', 19762), ('electrocute', 19763), ('farcical', 19764), ('labor_movement', 19765), ('missouri', 19766), ('apply', 19767), ('kit_out', 19768), ('emblematic', 19769), ('gust', 19770), ('collapse', 19771), ('curium', 19772), ('smasher', 19773), ('new_hampshire', 19774), ('return_on_invested_capital', 19775), ('mottle', 19776), ('drollery', 19777), ('recapitulation', 19778), ('monosodium_glutamate', 19779), ('pique', 19780), ('doubling', 19781), ('personnel_casualty', 19782), ('grind_to_a_halt', 19783), ('bowed_stringed_instrument', 19784), ('duplicate', 19785), ('street_credibility', 19786), ('attire', 19787), ('stand-in', 19788), ('permute', 19789), ('curiosity', 19790), ('pillow', 19791), ('firearm', 19792), ('break_in', 19793), ('appraisal', 19794), ('proceed', 19795), ('offprint', 19796), ('marriage', 19797), ('northwestern', 19798), ('fifty-eight', 19799), ('gradient', 19800), ('reappraisal', 19801), ('cuddle', 19802), ('process', 19803), ('doctor_of_the_church', 19804), ('craw', 19805), ('jackfruit', 19806), ('austere', 19807), ('summit', 19808), ('bloody', 19809), ('bunk_bed', 19810), ('public_opinion', 19811), ('ferment', 19812), ('addition', 19813), ('argumentation', 19814), ('descent', 19815), ('gratuity', 19816), ('ottoman', 19817), ('active_voice', 19818), ('bustle', 19819), ('eastern_hemisphere', 19820), ('confederate', 19821), ('spouse', 19822), ('desirable', 19823), ('luff', 19824), ('iridium', 19825), ('rout', 19826), ('utter', 19827), ('economic_rent', 19828), ('professor', 19829), ('military_action', 19830), ('hoist', 19831), ('mutual_opposition', 19832), ('all-important', 19833), ('church_service', 19834), ('thorium', 19835), ('aggravator', 19836), ('conventionality', 19837), ('glance', 19838), ('subjugate', 19839), ('fitting', 19840), ('akin', 19841), ('excrete', 19842), ('put_up', 19843), ('perpetrate', 19844), ('compass', 19845), ('ratification', 19846), ('syrian_pound', 19847), ('vanguard', 19848), ('prognosis', 19849), ('autonomous', 19850), ('twerp', 19851), ('bejewel', 19852), ('loss', 19853), ('releasing_hormone', 19854), ('fatness', 19855), ('partially', 19856), ('irish_pound', 19857), ('illusion', 19858), ('open_frame', 19859), ('muffle', 19860), ('personal_identification_number', 19861), ('geld', 19862), ('collide', 19863), ('musket_ball', 19864), ('grapeshot', 19865), ('bacon-lettuce-tomato_sandwich', 19866), ('photographic_print', 19867), ('harrow', 19868), ('signboard', 19869), ('department_of_commerce', 19870), ('operating_room', 19871), ('seventy-five', 19872), ('engender', 19873), ('compass_point', 19874), ('desecrate', 19875), ('plummet', 19876), ('assay', 19877), ('ballpark', 19878), ('thematic_apperception_test', 19879), ('deviate', 19880), ('spill', 19881), ('fleshy', 19882), ('lurch', 19883), ('polonium', 19884), ('tremble', 19885), ('bewitchery', 19886), ('envelop', 19887), ('oral_sex', 19888), ('clairvoyance', 19889), ('suction_stop', 19890), ('surpass', 19891), ('guidebook', 19892), ('r-2', 19893), ('gas_constant', 19894), ('comment', 19895), ('misuse', 19896), ('bare-assed', 19897), ('veterinarian', 19898), ('free_rein', 19899), ('take_out', 19900), ('curtsy', 19901), ('progress', 19902), ('protective_covering', 19903), ('get_rid_of', 19904), ('clasp', 19905), ('alcove', 19906), ('titanium', 19907), ('transgress', 19908), ('deoxycytidine_monophosphate', 19909), ('tailor', 19910), ('accumulate', 19911), ('ennoble', 19912), ('abhorrence', 19913), ('enroll', 19914), ('dogged', 19915), ('standard_atmosphere', 19916), ('soman', 19917), ('hectometer', 19918), ('roadblock', 19919), ('backdrop', 19920), ('shuffle', 19921), ('balance_wheel', 19922), ('pin_down', 19923), ('unharmed', 19924), ('decomposition', 19925), ('emergency_room', 19926), ('drawstring', 19927), ('showery', 19928), ('prevention', 19929), ('diaphragm', 19930), ('grocery_store', 19931), ('editor_program', 19932), ('ball', 19933), ('pall', 19934), ('summons', 19935), ('floor', 19936), ('estimable', 19937), ('about', 19938), ('sidetrack', 19939), ('stallion', 19940), ('spiritualty', 19941), ('descend', 19942), ('grok', 19943), ('depression', 19944), ('hand_over', 19945), ('michigander', 19946), ('east_southeast', 19947), ('sallow', 19948), ('ardor', 19949), ('barroom', 19950), ('steer', 19951), ('enlistment', 19952), ('carry_through', 19953), (\"cat-o'-nine-tails\", 19954), ('report_card', 19955), ('method_acting', 19956), ('aberration', 19957), ('toy_dog', 19958), ('old-timer', 19959), ('commiseration', 19960), ('engine_block', 19961), ('exert', 19962), ('inning', 19963), ('alliance', 19964), ('extraordinary', 19965), ('barter', 19966), ('conduct', 19967), ('bargain_rate', 19968), ('nucleotide', 19969), ('beatnik', 19970), ('forefather', 19971), ('savings_bank', 19972), ('sojourn', 19973), ('chute', 19974), ('trigger', 19975), ('mileage', 19976), ('hemipterous_insect', 19977), ('lineage', 19978), ('emit', 19979), ('iniquitous', 19980), ('glooming', 19981), ('freestanding', 19982), ('infectious_mononucleosis', 19983), ('judgment', 19984), ('lug', 19985), ('abstain', 19986), ('supplier', 19987), ('addict', 19988), ('affectionate', 19989), ('looseness', 19990), ('speed_of_light', 19991), ('augury', 19992), ('summation', 19993), ('urine', 19994), ('isotropy', 19995), ('terminus_ad_quem', 19996), ('star_topology', 19997), ('acerb', 19998), ('homo', 19999), ('unconvincing', 20000), ('befit', 20001), ('phonograph_record', 20002), ('drumhead', 20003), ('bulge', 20004), ('authoritative', 20005), ('adipose_tissue', 20006), ('palpate', 20007), ('hurry', 20008), ('exuberance', 20009), ('counterpunch', 20010), ('ecstasy', 20011), ('bereave', 20012), ('sluice', 20013), ('recitation', 20014), ('connect', 20015), ('mumble', 20016), ('compton', 20017), ('dist', 20018), ('pasionate', 20019), ('wigles', 20020), ('scholwork', 20021), ('7day', 20022), ('perfectquot', 20023), ('manyes', 20024), ('timefrench', 20025), ('shure', 20026), ('adams', 20027), ('brewery', 20028), ('darkward', 20029), ('honourary', 20030), ('flufete', 20031), ('lifeline', 20032), ('kudai', 20033), ('10word', 20034), ('newsbites', 20035), ('hairdye', 20036), ('smear', 20037), ('gilmour', 20038), ('sourish', 20039), ('hale', 20040), ('grieco', 20041), ('rendezvous', 20042), ('godamnit', 20043), ('pomona', 20044), ('lupita', 20045), ('jowki', 20046), ('melika', 20047), ('dehydrate', 20048), ('slant', 20049), (\"farmer's\", 20050), ('tuba', 20051), ('elegant', 20052), ('lure', 20053), ('aquarius', 20054), ('214', 20055), ('320', 20056), ('betray', 20057), ('idestroy', 20058), ('ia209', 20059), ('campfire', 20060), ('dificulties', 20061), ('encode', 20062), ('rtheatre', 20063), ('placebo', 20064), ('torus', 20065), ('amos', 20066), ('drunkfda', 20067), ('lone', 20068), ('hobieslt', 20069), ('4real', 20070), ('deadas', 20071), ('xanax', 20072), ('tozer', 20073), ('mymaths', 20074), ('deposited', 20075), ('kawai', 20076), ('whr', 20077), ('nyt', 20078), ('kels', 20079), ('tg', 20080), ('celstorms', 20081), ('gri', 20082), ('improvisation', 20083), ('capone', 20084), ('quottoday', 20085), ('quottodo', 20086), (\"mel's\", 20087), ('moncton', 20088), ('hobastank', 20089), ('jovi', 20090), ('hampa', 20091), ('ulise', 20092), ('eprocurement', 20093), ('blacklist', 20094), ('whitelist', 20095), (\"haji's\", 20096), ('bayou', 20097), ('judgemental', 20098), ('pokernews', 20099), ('dadgum', 20100), ('freight', 20101), ('orthadontist', 20102), ('glyders', 20103), ('glowy', 20104), ('ravey', 20105), ('smokey', 20106), ('pizary', 20107), ('momdukes', 20108), ('mayfield', 20109), ('twil', 20110), ('horseforth', 20111), ('rwiters', 20112), ('laterhopefuly', 20113), ('filout', 20114), ('shivshankar', 20115), ('buren', 20116), ('safer', 20117), ('virge', 20118), ('replete', 20119), ('moes', 20120), (\"draven's\", 20121), ('karine', 20122), ('quotformer', 20123), ('snowboard', 20124), ('babysiters', 20125), ('gtnotlt', 20126), ('saucepan', 20127), ('scrabled', 20128), (\"buhler's\", 20129), ('sotaboys', 20130), ('rawknrol', 20131), ('gmn', 20132), ('punya', 20133), ('sezi', 20134), (\"saying'pleasant\", 20135), (\"pleasure'own\", 20136), ('improvement', 20137), ('quotdezignquot', 20138), ('quotbitchquot', 20139), ('incentive', 20140), ('wakeful', 20141), ('yank', 20142), ('dilingen', 20143), ('ovr', 20144), ('alkie', 20145), ('fodtour', 20146), (\"ampi'l\", 20147), ('clam', 20148), ('2people', 20149), ('abounds', 20150), ('razr', 20151), ('ophelia', 20152), ('s5', 20153), ('mcds', 20154), ('hader', 20155), ('soulful', 20156), ('nonlong', 20157), ('boyfriendgirlfriend', 20158), ('backspace', 20159), ('trilion', 20160), ('quotpot', 20161), ('ketlequot', 20162), ('unfixable', 20163), ('kyneton', 20164), ('melb', 20165), ('daylesford', 20166), ('luc', 20167), ('bourdon', 20168), ('nonw', 20169), ('gerardo', 20170), ('elipital', 20171), ('wazup', 20172), ('qaampv', 20173), ('corpes', 20174), ('rusia', 20175), ('retaking', 20176), ('flavored', 20177), (\"chrome's\", 20178), ('popup', 20179), ('bublies', 20180), ('okami', 20181), ('nakam', 20182), ('wakati', 20183), ('unaenda', 20184), ('fridayfirehazard', 20185), ('exceded', 20186), ('threshold', 20187), ('youstinkatrespondingtotexts', 20188), ('rainsnow', 20189), ('yon', 20190), ('walgrens', 20191), ('jailbreaking', 20192), ('stacie', 20193), ('folishnes', 20194), ('heartbeat', 20195), ('frosties', 20196), ('knackers', 20197), ('nige', 20198), ('goth', 20199), ('momstobe', 20200), ('defiantly', 20201), ('landice', 20202), ('quotuhmazing', 20203), ('uhterly', 20204), ('uhmazing', 20205), ('helenuh', 20206), ('roney', 20207), ('escentuals', 20208), ('wking', 20209), ('walnut', 20210), ('asfuck', 20211), ('soryquot', 20212), ('oher', 20213), ('bolshoi', 20214), ('savines', 20215), ('netgear', 20216), ('802', 20217), ('1n', 20218), ('throughput', 20219), ('15minutes', 20220), ('czerina', 20221), ('probando', 20222), ('wikid', 20223), ('myne', 20224), ('thorpe', 20225), ('stir', 20226), ('hatred', 20227), ('fidel', 20228), ('becomin', 20229), ('refolowed', 20230), ('shadup', 20231), ('divo', 20232), ('redemption', 20233), ('quotexpectingquot', 20234), ('pancakes', 20235), ('wmina', 20236), ('piglet', 20237), ('inav', 20238), ('iblue', 20239), ('renowned', 20240), ('mugy', 20241), ('likable', 20242), ('bytheway', 20243), ('pwned', 20244), ('shotie', 20245), ('roxieravenclaw', 20246), ('becausei', 20247), ('iowe', 20248), ('kuala', 20249), ('lumpur', 20250), ('documentation', 20251), ('puncture', 20252), ('conjunctivitis', 20253), ('adios', 20254), ('anythgin', 20255), ('livinghandy', 20256), ('comision', 20257), ('psyched', 20258), ('gkr', 20259), ('partyand', 20260), ('discusants', 20261), ('ths', 20262), ('buongiorno', 20263), ('friendbrother', 20264), ('flipflops', 20265), ('usf', 20266), ('koret', 20267), ('r2imt', 20268), ('tweet', 20269), ('v0', 20270), ('9pb5', 20271), ('aerobars', 20272), ('alkek', 20273), ('teluride', 20274), ('quotthen', 20275), ('hapenedquot', 20276), ('outagecold', 20277), ('dolies', 20278), ('webcom', 20279), ('yul', 20280), ('shufles', 20281), ('brians', 20282), ('dono', 20283), ('goderich', 20284), ('impersonator', 20285), ('printing', 20286), ('stdin', 20287), ('integral', 20288), ('hysteric', 20289), ('quotpromiscuous', 20290), ('sko', 20291), ('sirs', 20292), ('sheltered', 20293), ('upbringing', 20294), ('ilze', 20295), ('xams', 20296), ('undrstand', 20297), ('busays', 20298), ('waray', 20299), ('josete', 20300), ('arc', 20301), ('8track', 20302), ('adaptor', 20303), (\"must've\", 20304), ('eugenia', 20305), ('lauraa', 20306), ('2is', 20307), ('rygby', 20308), ('beries', 20309), ('malasadas', 20310), ('apropriately', 20311), ('gyming', 20312), ('quotbawas', 20313), ('kaninquot', 20314), ('celibate', 20315), ('ofgthayley', 20316), ('quotfinal', 20317), ('breakquot', 20318), ('credential', 20319), ('prized', 20320), ('magsbokanuals', 20321), ('whitewater', 20322), ('tripics', 20323), ('unto', 20324), ('zilch', 20325), ('westgate', 20326), ('farels', 20327), ('parlor', 20328), ('viejo', 20329), ('atlantiscoldnes', 20330), ('jailbroken', 20331), ('bricked', 20332), ('quotsumertimequot', 20333), ('quothi', 20334), ('lauraquot', 20335), ('arcadia', 20336), ('wotk', 20337), ('sherif', 20338), ('toeat', 20339), ('kahuna', 20340), ('concurency', 20341), ('kodomo', 20342), ('swearing', 20343), (\"daughtry's\", 20344), ('funhouse', 20345), ('mye', 20346), ('oreos', 20347), ('gdit', 20348), ('blender', 20349), ('sitcom', 20350), ('licence', 20351), ('rj', 20352), ('singerguitarist', 20353), (\"ochoa's\", 20354), ('xong', 20355), ('muskoka', 20356), ('ideia', 20357), ('ember', 20358), ('dante', 20359), (\"doesn''t\", 20360), ('neaby', 20361), ('cuzin', 20362), ('filmtv', 20363), ('wmids', 20364), ('107', 20365), ('webconcepting', 20366), ('laineygosip', 20367), ('taylena', 20368), ('eject', 20369), ('discs', 20370), ('cdr', 20371), ('aplecare', 20372), ('spiderweb', 20373), ('poser', 20374), ('mixture', 20375), ('chrisie', 20376), ('hynde', 20377), ('espresos', 20378), (\"king's\", 20379), ('bounty', 20380), ('vampyre', 20381), ('comixes', 20382), ('donloaded', 20383), ('jap', 20384), ('believer', 20385), ('drace', 20386), ('alabang', 20387), ('wormy', 20388), ('labyrinth', 20389), ('pipeline', 20390), (\"li'l\", 20391), ('peoplequoti', 20392), ('quotgodes', 20393), ('levy', 20394), ('britains', 20395), ('nitentdo', 20396), ('rewind', 20397), (\"yo's\", 20398), ('superglued', 20399), ('bulwinkle', 20400), ('chimp', 20401), ('melo', 20402), ('260', 20403), ('momsen', 20404), ('daphne', 20405), ('alfie', 20406), ('fiery', 20407), ('surounding', 20408), ('candamir', 20409), ('quotshe', 20410), ('patronize', 20411), ('elusive', 20412), ('lold', 20413), ('parnoid', 20414), ('quotnanaquot', 20415), ('quotnana', 20416), ('rhinestone', 20417), ('duners', 20418), ('eleay', 20419), ('belo', 20420), ('wodies', 20421), ('hove', 20422), ('coutchcouch', 20423), ('christening', 20424), ('isu', 20425), ('tgiflt', 20426), ('kiera', 20427), ('hazel', 20428), ('cafeineshot', 20429), ('saigon', 20430), ('hanoi', 20431), (\"dh's\", 20432), ('bsod', 20433), ('klinkt', 20434), ('enthousiast', 20435), ('stafers', 20436), ('jdub', 20437), ('chanclas', 20438), ('todaybulgaria', 20439), ('ofensively', 20440), ('overspend', 20441), ('danstorce', 20442), ('imigrant', 20443), ('asd', 20444), ('autism', 20445), ('held', 20446), ('psps', 20447), ('bryn', 20448), ('misconected', 20449), ('445', 20450), ('undies', 20451), ('falconer', 20452), ('overthought', 20453), ('subed', 20454), ('pika', 20455), ('nichi', 20456), ('revamp', 20457), ('outboard', 20458), ('rane', 20459), ('stationary', 20460), ('gh5', 20461), ('pretty', 20462), ('ohquot', 20463), ('timeles', 20464), ('batered', 20465), ('gokarting', 20466), ('suckd', 20467), ('pockeded', 20468), ('exmouth', 20469), ('fk09', 20470), ('enio', 20471), ('lfctv', 20472), ('quotpune', 20473), ('technologyquot', 20474), ('whatat', 20475), ('siera', 20476), ('francebelgium', 20477), ('envision', 20478), ('quotgrace', 20479), ('jokes', 20480), ('meca', 20481), ('milonzi', 20482), ('mangaanime', 20483), ('lea', 20484), ('inspirative', 20485), ('aceptable', 20486), ('lighting', 20487), ('listing', 20488), ('acompany', 20489), ('anais', 20490), ('organise', 20491), ('indulgence', 20492), ('noida', 20493), ('leav', 20494), ('izone', 20495), ('banjo', 20496), ('toie', 20497), ('gabers', 20498), ('smeled', 20499), ('bresaholic', 20500), ('justine', 20501), ('westcon', 20502), ('thorw', 20503), ('quotquestioning', 20504), ('agilequot', 20505), (\"yr's\", 20506), ('eutour', 20507), ('rebound', 20508), ('deceitful', 20509), ('funlike', 20510), ('languageampi', 20511), ('sln', 20512), ('ascari', 20513), ('havs', 20514), ('barets', 20515), ('carelesnes', 20516), ('aproving', 20517), ('twa', 20518), ('packin', 20519), ('karla', 20520), ('mirage', 20521), ('thewockez', 20522), ('supercr', 20523), ('3w', 20524), (\"quother's\", 20525), ('minequot', 20526), ('swepstakes', 20527), ('brotha', 20528), ('bfe', 20529), ('hyperbirdies', 20530), ('terorizing', 20531), ('cynic', 20532), ('imply', 20533), (\"disc's\", 20534), ('beckons', 20535), ('spaming', 20536), ('degens', 20537), ('famousquot', 20538), ('2live', 20539), ('2cut', 20540), ('chocy', 20541), ('prime', 20542), ('flawles', 20543), ('landan', 20544), ('perv', 20545), (\"logan's\", 20546), ('celticslakers', 20547), ('rematch', 20548), ('alms', 20549), ('gatau', 20550), ('mau', 20551), ('pindah', 20552), ('binus', 20553), ('calgon', 20554), ('brazilians', 20555), ('gprof', 20556), ('qoincidencia', 20557), ('serioo', 20558), ('therapuetic', 20559), ('betering', 20560), ('financing', 20561), ('legaly', 20562), ('quotnothing', 20563), ('matersquot', 20564), ('quotcute', 20565), ('sundresquot', 20566), ('wofies', 20567), ('cheri', 20568), ('chiln', 20569), ('babez', 20570), ('anton', 20571), ('chekov', 20572), ('sendin', 20573), ('asasination', 20574), ('vacums', 20575), ('flued', 20576), ('kashoek', 20577), ('unisys', 20578), ('doculabs', 20579), ('squid', 20580), ('jelybeanies', 20581), ('meadowbank', 20582), ('tenenen', 20583), ('tenen', 20584), ('drinkies', 20585), ('wthose', 20586), ('acaban', 20587), ('tocar', 20588), ('flashpoint', 20589), ('segment', 20590), ('chevron', 20591), ('asahan', 20592), ('iyo', 20593), ('quotlayersquot', 20594), ('divs', 20595), ('pupil', 20596), ('ampampthe', 20597), ('mazie', 20598), ('kristina', 20599), ('sadfaced', 20600), ('kniterati', 20601), ('ravelry', 20602), ('12306', 20603), ('krystyn', 20604), ('medal', 20605), ('twitmoms', 20606), ('provence', 20607), ('twinge', 20608), ('bangbang', 20609), ('whatz', 20610), ('pradas', 20611), ('ditzy', 20612), ('beting', 20613), ('aniston', 20614), ('misisipi', 20615), ('bidor', 20616), ('wantan', 20617), ('cham', 20618), ('sampd', 20619), ('bnl', 20620), ('chewy', 20621), ('melol', 20622), ('skyfire', 20623), ('tytn', 20624), ('1414', 20625), ('lyny', 20626), ('performace', 20627), ('herlen', 20628), ('anabele', 20629), ('spawn', 20630), ('holowbabeshere', 20631), ('lti', 20632), ('crystalmariedontluvspiteanymore', 20633), ('agen', 20634), ('inings', 20635), ('yvw', 20636), ('vengeance', 20637), ('selin', 20638), ('militant', 20639), ('modeam', 20640), ('competitonso', 20641), ('chays', 20642), ('censor', 20643), ('disagre', 20644), ('joly', 20645), ('spitin', 20646), ('hardy', 20647), ('thos', 20648), ('comparing', 20649), ('parachute', 20650), ('backhip', 20651), ('carlingford', 20652), ('lough', 20653), ('nigth', 20654), ('sqeaky', 20655), ('mornining', 20656), ('bugered', 20657), ('yehey', 20658), ('balme', 20659), ('aaalcohol', 20660), ('ohlala', 20661), ('kadi', 20662), ('53', 20663), ('hulkquot', 20664), ('majorca', 20665), ('45am', 20666), ('bmfing', 20667), ('spesh', 20668), ('stavros', 20669), ('flatley', 20670), ('rae', 20671), ('hahahahahah', 20672), ('cobles', 20673), (\"had've\", 20674), ('unclaimed', 20675), ('shingle', 20676), ('ironclad', 20677), ('gp', 20678), ('ryder', 20679), ('playgroup', 20680), ('tense', 20681), ('afiliate', 20682), ('caltext', 20683), ('shipuden', 20684), ('campin', 20685), ('timothy', 20686), ('bruh', 20687), ('erection', 20688), ('tys', 20689), ('uncontrolably', 20690), ('alexandra', 20691), ('hsbc', 20692), ('apy', 20693), ('clogin', 20694), ('simplicity', 20695), ('easactive', 20696), ('mnh', 20697), ('coi', 20698), ('tinh', 20699), ('garbo', 20700), ('deathmatch', 20701), ('40pm', 20702), ('sparkler', 20703), ('abouts', 20704), ('scarepoint', 20705), ('dhoni', 20706), ('parthiv', 20707), ('stresd', 20708), ('610', 20709), ('dignation', 20710), ('handbal', 20711), ('suprises', 20712), ('tegan', 20713), ('mothrs', 20714), ('cupy', 20715), ('mandriva', 20716), ('tove', 20717), ('absoulutley', 20718), ('rightreal', 20719), ('spedracher', 20720), ('dicaprio', 20721), ('davison', 20722), ('kiloran', 20723), ('rosa', 20724), ('guadalupequot', 20725), ('freagentap', 20726), ('stub', 20727), ('desribe', 20728), ('stalwart', 20729), ('retirement', 20730), ('kaotic', 20731), ('wakenbake', 20732), ('todayh', 20733), ('osc', 20734), ('kacy', 20735), ('moldy', 20736), ('squishy', 20737), ('xcept', 20738), (\"wmewe'l\", 20739), ('being', 20740), ('karl', 20741), ('quotbonesquot', 20742), ('stresfre', 20743), ('mince', 20744), ('nusdorfer', 20745), ('herenberg', 20746), ('controlers', 20747), ('mifune', 20748), ('fotwear', 20749), ('ketemu', 20750), ('lagi', 20751), ('kita', 20752), ('withdrawls', 20753), ('gehts', 20754), ('abi', 20755), ('viper', 20756), ('rumor', 20757), ('cyndi', 20758), ('paginate', 20759), ('asp', 20760), ('listview', 20761), ('daleks', 20762), ('freakish', 20763), ('havnet', 20764), ('raunchy', 20765), ('farah', 20766), ('lyricalyme', 20767), ('galbladia', 20768), ('bufie', 20769), ('bachelor', 20770), ('kulps', 20771), ('lt3hanah', 20772), ('header', 20773), ('ladybug', 20774), ('602', 20775), ('quotbird', 20776), ('milkquot', 20777), ('biscuit', 20778), ('urgently', 20779), ('quotdigestif', 20780), ('videoke', 20781), ('nyahahaha', 20782), ('cauzinho', 20783), ('sidenote', 20784), ('comuting', 20785), ('serio', 20786), ('baroca', 20787), ('parabens', 20788), (\"l'm\", 20789), ('rif', 20790), ('beaver', 20791), ('pelt', 20792), ('solder', 20793), ('larin', 20794), ('quotmodelquot', 20795), ('sefton', 20796), ('20m', 20797), ('nemore', 20798), ('oder', 20799), ('ghwt', 20800), ('quotgotquot', 20801), ('tjeferson', 20802), ('trosevelt', 20803), ('quotelo', 20804), ('gahaha', 20805), ('bezy', 20806), ('3907', 20807), ('c25k', 20808), ('nishiki', 20809), (\"heart's\", 20810), ('herew', 20811), ('dexter', 20812), ('empowering', 20813), ('lentil', 20814), ('recognisable', 20815), ('talkedabout', 20816), ('todat', 20817), ('g0d', 20818), ('pwnd', 20819), ('liana', 20820), ('corber', 20821), ('moreover', 20822), ('wiaih', 20823), ('humbling', 20824), ('torchwod', 20825), ('rampr', 20826), ('kacie', 20827), ('videoblog', 20828), ('calicut', 20829), ('restrom', 20830), ('limitation', 20831), ('shakespeare', 20832), ('garulous', 20833), ('fourthgrade', 20834), ('scribe', 20835), ('mesgae', 20836), ('saver', 20837), ('douchie', 20838), ('everywhereyou', 20839), ('gbw', 20840), ('kimbeomie', 20841), ('phoenixfm', 20842), ('stufquot', 20843), (\"jobo's\", 20844), ('answerer', 20845), ('poutine', 20846), ('hedburg', 20847), ('stocktwits', 20848), (\"co's\", 20849), ('homepage', 20850), ('howre', 20851), ('ruined', 20852), ('bridesmaid', 20853), ('frolick', 20854), ('sandman', 20855), (\"v's\", 20856), ('observatory', 20857), ('conecticut', 20858), ('warbler', 20859), ('metzger', 20860), ('mage', 20861), ('iknowquot', 20862), ('aaronovitch', 20863), ('lotchecktester', 20864), ('hofentlich', 20865), ('wirds', 20866), ('leaver', 20867), ('jbi', 20868), ('swipe', 20869), ('amj', 20870), (\"folower's\", 20871), ('4hrs', 20872), ('fatas', 20873), ('dans', 20874), ('quef', 20875), ('bopbopbop', 20876), ('twiterfriends', 20877), ('terel', 20878), ('district', 20879), ('wantquot', 20880), ('noticed', 20881), ('snoty', 20882), ('2morows', 20883), ('darth', 20884), ('vaders', 20885), ('belion', 20886), ('orignal', 20887), ('eks', 20888), ('ramona', 20889), ('dearie', 20890), ('britneys', 20891), ('tonked', 20892), ('bigfanfriday', 20893), ('gilf', 20894), ('1987', 20895), ('budi', 20896), ('idp', 20897), ('idprelief', 20898), ('shwasted', 20899), ('pdates', 20900), ('pigls', 20901), (\"holy's\", 20902), ('funfiled', 20903), ('sadsvile', 20904), ('parde', 20905), ('picturs', 20906), ('flourescents', 20907), ('facepely', 20908), ('hideous', 20909), ('lipstick', 20910), ('20andsome60', 20911), ('warmfuzies', 20912), ('cuningham', 20913), ('transcribe', 20914), ('tenth', 20915), ('provoking', 20916), ('flipside', 20917), ('mobiledang', 20918), ('bahrain', 20919), ('diferents', 20920), ('relisting', 20921), ('railsbridge', 20922), ('emirate', 20923), ('richter', 20924), ('botherin', 20925), ('haus', 20926), ('frulein', 20927), ('quotbobfedquot', 20928), ('410', 20929), ('cinemas', 20930), ('yuh', 20931), ('administrative', 20932), ('1984', 20933), ('rainging', 20934), ('jacksonvile', 20935), (\"lt''gt\", 20936), ('tweat', 20937), ('botoms', 20938), ('requotyour', 20939), ('trax', 20940), ('49er', 20941), ('worldlt', 20942), ('kthanks', 20943), ('bafles', 20944), ('compelte', 20945), (\"multiply's\", 20946), ('reichele', 20947), ('ashlie', 20948), ('recked', 20949), ('zoey', 20950), ('quiche', 20951), ('lathargic', 20952), ('fening', 20953), ('walcers', 20954), ('frehley', 20955), ('mightmight', 20956), ('gulb', 20957), ('jewish', 20958), ('cornish', 20959), ('countryside', 20960), ('sloanster', 20961), ('sohcahtoa', 20962), (\"s'okay\", 20963), ('weis', 20964), ('comandments', 20965), ('landquot', 20966), ('chiefs', 20967), ('194', 20968), ('elway', 20969), ('nfl', 20970), ('tm', 20971), ('microphone', 20972), ('selenagomezlast', 20973), ('savvy', 20974), ('guyslt', 20975), ('cathay', 20976), ('clif', 20977), ('hapileter', 20978), ('elin', 20979), ('quottune', 20980), ('digestive', 20981), ('exagerated', 20982), ('helpline', 20983), ('sponge', 20984), ('bobs', 20985), ('quotnative', 20986), ('bestquot', 20987), ('picturisation', 20988), ('cupie', 20989), ('quotwizards', 20990), ('placequot', 20991), ('redmangolol', 20992), ('lovebank', 20993), ('awsum', 20994), ('mashed', 20995), (\"singer's\", 20996), ('tempermental', 20997), ('colections', 20998), ('hyde', 20999), ('canalugh', 21000), ('hapienes', 21001), ('emal', 21002), ('thowing', 21003), ('christen', 21004), ('counselor', 21005), ('quottalk', 21006), ('canadianquot', 21007), (\"mely's\", 21008), ('subponea', 21009), ('liers', 21010), ('1973', 21011), (\"indy's\", 21012), ('haw', 21013), ('1050', 21014), ('larenz', 21015), ('fineas', 21016), ('tate', 21017), ('afterward', 21018), ('roseburg', 21019), (\"jiuliani's\", 21020), ('209205', 21021), ('botega', 21022), ('grh', 21023), ('multiplayer', 21024), ('schwarzeneger', 21025), ('mtml', 21026), (\"meme's\", 21027), ('unoportunte', 21028), ('quotpurposequot', 21029), ('dtown', 21030), ('brokt', 21031), ('renae', 21032), ('abduct', 21033), ('rusians', 21034), (\"flo's\", 21035), ('lelo', 21036), ('wishlist', 21037), ('kirsten', 21038), ('teleconference', 21039), ('deduct', 21040), ('matmcoy', 21041), ('gracias', 21042), ('gtfo', 21043), ('ti89', 21044), ('puquot', 21045), ('duckraces', 21046), ('roundabout', 21047), ('keve', 21048), ('soulmate', 21049), ('werid', 21050), ('garley', 21051), ('outcome', 21052), ('mbs', 21053), ('learnin', 21054), ('dominic', 21055), ('monaghan', 21056), ('stretcred', 21057), ('gracin', 21058), (\"chivalry's\", 21059), ('frankly', 21060), ('fedings', 21061), ('crosby', 21062), ('ohnoyoudidnt', 21063), (\"master's\", 21064), ('obscenely', 21065), ('lateearly', 21066), ('kline', 21067), ('yayscholisout', 21068), ('christie', 21069), ('liberation', 21070), ('realizewhen', 21071), ('comprehendthat', 21072), ('helio', 21073), ('germ', 21074), ('alphonso', 21075), ('lasi', 21076), ('nimbupani', 21077), ('whara', 21078), ('milys', 21079), ('opsie', 21080), (\"piper's\", 21081), ('beaumont', 21082), ('181', 21083), ('cameraphone', 21084), ('10days', 21085), ('cravin', 21086), ('ohsosexy', 21087), ('rahul', 21088), ('btwn', 21089), ('lv', 21090), ('shanie', 21091), ('unhoking', 21092), (\"pt's\", 21093), ('bonaro', 21094), ('dming', 21095), ('macym', 21096), ('oxox', 21097), ('bfa', 21098), ('eo', 21099), ('glau', 21100), ('stringer', 21101), ('dere', 21102), ('japsicans', 21103), ('bred', 21104), ('gasoline', 21105), ('catnap', 21106), ('nasa', 21107), ('decongestant', 21108), ('carolyn', 21109), ('sperm', 21110), ('quotauthenticatingquot', 21111), ('hjaia', 21112), ('covington', 21113), ('buthurt', 21114), ('carey', 21115), ('shitest', 21116), ('yawnn', 21117), ('hawthorn', 21118), ('heartstrings', 21119), ('anwhere', 21120), ('scoreles', 21121), ('ointment', 21122), ('ypu', 21123), ('pridelines', 21124), ('osn', 21125), ('jord', 21126), ('pampered', 21127), ('2448', 21128), ('sightednes', 21129), (\"rolando's\", 21130), ('colegue', 21131), ('carot', 21132), ('salty', 21133), ('pretzel', 21134), ('azongo', 21135), ('smokefest', 21136), (\"china's\", 21137), ('copycars', 21138), ('familiarloking', 21139), ('vector', 21140), ('mariana', 21141), (\"casone's\", 21142), ('intake', 21143), ('bowlful', 21144), (\"joey's\", 21145), ('lizard', 21146), ('numero', 21147), ('unity', 21148), ('detz', 21149), ('bax', 21150), ('adelaide', 21151), ('calum', 21152), ('aplyn', 21153), ('delivrd', 21154), ('ine', 21155), ('sufication', 21156), ('jinx', 21157), ('piston', 21158), ('yaeh', 21159), ('suekd', 21160), ('porsche', 21161), ('rachyl', 21162), ('edea', 21163), ('saya', 21164), ('godmorningamp', 21165), ('hapymothers', 21166), ('cashflow', 21167), ('amigui', 21168), ('alfred', 21169), ('mindblowing', 21170), ('powersquid', 21171), ('dominick', 21172), ('kohls', 21173), ('idgaf', 21174), ('gazing', 21175), ('rearanged', 21176), ('haveto', 21177), ('thaty', 21178), ('heartz', 21179), ('cajon', 21180), ('labtop', 21181), ('posesed', 21182), ('certainty', 21183), ('stray', 21184), ('centos', 21185), ('gloriously', 21186), ('hauntingxealot', 21187), ('goulburn', 21188), ('textd', 21189), ('kp', 21190), ('eq2', 21191), ('gout', 21192), ('htmljava', 21193), ('dabling', 21194), (\"pitman's\", 21195), ('vondt', 21196), ('rygen', 21197), ('stresors', 21198), ('stubornly', 21199), ('truetrue', 21200), ('stacey', 21201), ('jfc', 21202), ('lisbon', 21203), ('veteran', 21204), ('youz', 21205), ('caring', 21206), ('dumbo', 21207), ('goitn', 21208), ('responsabilities', 21209), ('moneyz', 21210), ('aimiloveshawniedur', 21211), ('lauryn', 21212), ('megaman', 21213), ('capcom', 21214), ('squareenix', 21215), ('desist', 21216), (\"ubc's\", 21217), ('slacking', 21218), ('geas', 21219), ('bazilionz', 21220), ('suprtin', 21221), ('imature', 21222), ('hust', 21223), ('lym', 21224), ('shibuya', 21225), ('shinjuku', 21226), ('dustin', 21227), ('travy', 21228), ('vermilion', 21229), ('panhandle', 21230), ('bryant', 21231), ('walinwod', 21232), ('montagues', 21233), ('capulets', 21234), ('volcom', 21235), ('primatech', 21236), (\"handle's\", 21237), ('ofspringprety', 21238), ('jaron', 21239), ('rutledge', 21240), ('elijah', 21241), ('kuantan', 21242), ('nb', 21243), ('scalper', 21244), ('moron', 21245), ('shortcake', 21246), ('shortcakefail', 21247), ('190', 21248), ('barowmanquot', 21249), ('tent', 21250), ('ghibli', 21251), ('ponyo', 21252), ('flordia', 21253), ('shrits', 21254), ('nop', 21255), ('uso', 21256), ('informal', 21257), ('horsies', 21258), ('indo', 21259), ('dormir', 21260), ('5409', 21261), (\"body's\", 21262), ('qfc', 21263), ('broad', 21264), ('twetles', 21265), ('intolerant', 21266), ('tourture', 21267), ('itonlinelol', 21268), ('claritin', 21269), ('chug', 21270), ('weiner', 21271), ('microplaza', 21272), ('smothstreaming', 21273), (\"client's\", 21274), ('fanfrickingtastic', 21275), ('carlsbad', 21276), ('torey', 21277), ('weaknes', 21278), ('yelowishorangeishbrownish', 21279), ('topical', 21280), ('quotsh', 21281), ('shawne', 21282), ('ripin', 21283), ('buwieser', 21284), ('dose', 21285), ('alayelow', 21286), ('quotawayquot', 21287), ('workman', 21288), ('745am', 21289), ('racket', 21290), ('quotpeople', 21291), ('usquotwhat', 21292), ('adoring', 21293), ('biatch', 21294), ('calanques', 21295), ('firewal', 21296), ('gearbox', 21297), ('242am', 21298), ('crikey', 21299), ('cubs', 21300), ('anouncements', 21301), ('kle', 21302), ('frisbe', 21303), ('quotacidentalyquot', 21304), ('heylo', 21305), ('whinge', 21306), ('cordinating', 21307), ('3point', 21308), ('sixer', 21309), ('venesa', 21310), ('twitername', 21311), ('twiterfridge', 21312), ('nonjudgmental', 21313), ('sez', 21314), ('joeman', 21315), ('yeahthose', 21316), ('yeahmy', 21317), ('whufaoke', 21318), ('gilete', 21319), ('dario', 21320), ('tk', 21321), ('neghead', 21322), ('seamles', 21323), ('bushidokan', 21324), ('kb', 21325), ('quince', 21326), ('padle', 21327), ('awestruck', 21328), ('katherine', 21329), ('2k6', 21330), (\"band's\", 21331), ('hospice', 21332), ('gpa', 21333), ('julz', 21334), ('bearer', 21335), ('hyperlink', 21336), ('indentation', 21337), ('jpeg', 21338), ('terminology', 21339), ('hidenfile', 21340), ('lanham', 21341), ('bc2', 21342), ('beasties', 21343), ('thievery', 21344), ('volta', 21345), ('4lashes', 21346), ('bandofhorses', 21347), ('deadset', 21348), ('wahey', 21349), ('bangus', 21350), ('jola', 21351), ('xbl', 21352), ('cofie', 21353), ('frelance', 21354), (\"tom's\", 21355), ('230pm', 21356), ('twater', 21357), ('crackup', 21358), ('linger', 21359), ('elaborate', 21360), (\"resume's\", 21361), ('1017', 21362), ('quadcore', 21363), ('25quot', 21364), ('dualcore', 21365), ('murderous', 21366), ('rampage', 21367), ('itms', 21368), ('softsynthsdaw', 21369), ('netsexor', 21370), ('thrust', 21371), ('comrisound', 21372), ('hapily', 21373), ('radishes', 21374), ('bloms', 21375), ('presh', 21376), ('zd', 21377), ('bp', 21378), ('barbie', 21379), ('cytheria', 21380), ('airbrush', 21381), ('l8ter', 21382), ('antidisestablishmentarianism', 21383), ('aw0910', 21384), (\"atlanta's\", 21385), ('reuters', 21386), ('commobilemanyarticlep', 21387), ('rdt', 21388), ('dreading', 21389), ('sap', 21390), ('parentals', 21391), (\"andrew's\", 21392), ('orderingno', 21393), ('etcamp', 21394), (\"likequotit's\", 21395), ('quotinsert', 21396), ('winkto', 21397), ('ando', 21398), ('pelon', 21399), ('menquot', 21400), ('nigel', 21401), ('inexplicably', 21402), ('montel', 21403), ('amd', 21404), ('quotextra', 21405), ('26th', 21406), ('utility', 21407), ('quotgrabquot', 21408), (\"lena's\", 21409), ('diger', 21410), ('avert', 21411), ('asigned', 21412), (\"bulet's\", 21413), ('250e', 21414), ('nacklacematching', 21415), ('earing', 21416), ('webcast', 21417), ('talcre', 21418), ('kaitlyn', 21419), ('1direction', 21420), ('beblesed', 21421), ('prepre', 21422), ('mesa', 21423), ('metsies', 21424), ('panasonic', 21425), (\"can'wait\", 21426), ('xoxoxoxo', 21427), ('dolphins', 21428), ('tet', 21429), ('marwel', 21430), ('quotcupquot', 21431), ('miniitx', 21432), ('cavite', 21433), ('reenact', 21434), ('salvem', 21435), ('wilkomen', 21436), ('extended', 21437), ('serie', 21438), ('whitier', 21439), ('quotthanksquot', 21440), ('twitip', 21441), ('raping', 21442), ('nok', 21443), ('mindy', 21444), ('rebroadcast', 21445), ('pacquiaohaton', 21446), ('jayel', 21447), ('maricar', 21448), ('avg', 21449), ('mintbublegumcokieflakenerds', 21450), ('floatiez', 21451), ('boya', 21452), ('propel', 21453), ('lt8', 21454), ('hiphop', 21455), ('nursery', 21456), ('jayne', 21457), ('erocka', 21458), ('hag', 21459), ('outvote', 21460), ('contrary', 21461), ('trekies', 21462), ('ultrasound', 21463), ('precaution', 21464), ('lexy', 21465), ('pogs', 21466), ('electronic', 21467), ('keyhole', 21468), ('quotbotsquot', 21469), (\"tesco's\", 21470), ('cuteset', 21471), ('alegra', 21472), ('17again', 21473), ('thud', 21474), ('frenchfrycorndog', 21475), ('afterlife', 21476), ('ecomerce', 21477), ('quotbuy', 21478), ('morongo', 21479), ('hayde', 21480), ('persistent', 21481), ('orb', 21482), ('rels', 21483), ('multitaskin', 21484), ('nightmornin', 21485), ('compiment', 21486), ('kroq', 21487), ('renison', 21488), ('garland', 21489), ('leterman', 21490), ('eink', 21491), ('trnds', 21492), ('3trs', 21493), ('lifebal', 21494), ('melting', 21495), ('apliances', 21496), ('division', 21497), ('mtvawards', 21498), ('cedy', 21499), ('oky', 21500), ('grandperents', 21501), ('granda', 21502), ('hostipal', 21503), ('extremly', 21504), ('shantel', 21505), ('skateparks', 21506), ('clive', 21507), ('invisibleshield', 21508), ('halu', 21509), ('quotmight', 21510), ('interestedquot', 21511), ('wince', 21512), ('flatland', 21513), ('jesiebear', 21514), ('holby', 21515), ('lewington', 21516), ('cliford', 21517), ('aplescript', 21518), ('kniting', 21519), ('bevy', 21520), ('sharpie', 21521), ('dangerously', 21522), ('quotstel', 21523), ('magnoliasquot', 21524), ('invisalign', 21525), ('refit', 21526), ('chores', 21527), ('1620h', 21528), ('securely', 21529), ('jefco', 21530), ('kmf', 21531), ('perfchoreo', 21532), ('cuteampchesey', 21533), ('listeninq', 21534), ('viet', 21535), ('quotwipe', 21536), ('cleanquot', 21537), ('sumaries', 21538), ('slarm', 21539), ('bowls', 21540), (\"redgie's\", 21541), ('splashtown', 21542), ('boeing', 21543), ('huntington', 21544), ('mauren', 21545), ('thorn', 21546), ('mouthy', 21547), ('melancholy', 21548), ('emblem', 21549), ('favorito', 21550), ('asistiu', 21551), ('barcampbk', 21552), ('mp3s', 21553), ('parot', 21554), ('reptile', 21555), (\"liverpol's\", 21556), ('leaving', 21557), ('thomasvanvliet', 21558), ('inherit', 21559), ('yourock', 21560), ('punking', 21561), ('efng', 21562), ('janitor', 21563), ('bulseye', 21564), ('runles', 21565), ('sampson', 21566), ('mgm', 21567), ('opener', 21568), ('darline', 21569), ('quotoutofnowherequot', 21570), ('qlad', 21571), ('cousins', 21572), ('babyfather', 21573), ('gemstar', 21574), ('feud', 21575), ('tokens', 21576), ('congradts', 21577), ('rsvp', 21578), ('definitley', 21579), ('pushin', 21580), ('farolito', 21581), ('4817', 21582), ('emarosa', 21583), ('quotbalistic', 21584), ('autisticsquot', 21585), ('bs', 21586), ('fragile', 21587), ('cancled', 21588), ('ctc', 21589), ('anticipated', 21590), ('tapan', 21591), ('parikh', 21592), ('nairobi', 21593), ('mombasa', 21594), ('parece', 21595), ('persona', 21596), ('estan', 21597), ('acuerdo', 21598), ('kl', 21599), ('wither', 21600), ('jorx', 21601), ('practical', 21602), ('uduhn', 21603), ('lun', 21604), ('malakas', 21605), ('cinder', 21606), ('dantas', 21607), ('porky', 21608), ('beavs', 21609), ('inspiron', 21610), ('2duo', 21611), ('0ghz', 21612), ('dr2', 21613), ('quary', 21614), ('shipley', 21615), ('baildon', 21616), ('invalid', 21617), ('seker', 21618), ('tarte', 21619), ('2for1', 21620), ('dreamland', 21621), ('wowthanks', 21622), ('sexin', 21623), ('claratyne', 21624), ('marg', 21625), ('overwhelming', 21626), ('murk', 21627), ('daylt', 21628), ('acountgt', 21629), ('wimp', 21630), ('rn', 21631), (\"photo's\", 21632), ('venting', 21633), ('moustachio', 21634), ('dadio', 21635), ('celebxvidsyh', 21636), ('aybygw', 21637), ('onof', 21638), ('maybes', 21639), ('chelk', 21640), (\"ranchero's\", 21641), ('birdy', 21642), ('manuels', 21643), ('unicorn', 21644), ('figured', 21645), ('manga', 21646), ('strighters', 21647), ('quotpul', 21648), ('badu', 21649), ('kpoped', 21650), ('reflectively', 21651), ('injoy', 21652), ('thasa', 21653), ('entonces', 21654), ('perdonada', 21655), ('porque', 21656), ('sigues', 21657), ('frolic', 21658), ('consumate', 21659), ('dido', 21660), ('quotus', 21661), ('filquot', 21662), ('shinta', 21663), ('sanjev', 21664), ('teriyaki', 21665), ('poptarts', 21666), ('thks', 21667), ('mckiney', 21668), ('actialy', 21669), ('omedetou', 21670), ('9yr', 21671), ('brandi', 21672), ('carlile', 21673), ('swel', 21674), ('burneded', 21675), ('zy', 21676), ('geographie', 21677), ('abster', 21678), ('bradbury', 21679), ('benington', 21680), ('lobyists', 21681), ('mangosten', 21682), ('cybersecurity', 21683), ('wilblok', 21684), ('domsai', 21685), ('mateo', 21686), ('cibic', 21687), ('ragons', 21688), ('yumb', 21689), ('lele', 21690), ('thatz', 21691), ('tephlt', 21692), ('virtualkis', 21693), ('suner', 21694), ('thngs', 21695), (\"pl's\", 21696), ('quotable', 21697), ('restful', 21698), ('bloat', 21699), ('grecia', 21700), ('fershure', 21701), ('belvoir', 21702), ('pentagon', 21703), ('gmorning', 21704), ('hermana', 21705), ('stunk', 21706), ('kuwait', 21707), ('reentered', 21708), ('orbit', 21709), ('jamaica', 21710), ('lve', 21711), ('525,60', 21712), ('recycled', 21713), ('shoks', 21714), ('overprotective', 21715), ('cybercheatin', 21716), ('jered', 21717), ('boldly', 21718), (\"grany's\", 21719), ('20lbs', 21720), ('rotate', 21721), ('motherfucker', 21722), ('n64', 21723), ('paiseh', 21724), ('gilty', 21725), ('semiswet', 21726), ('helovegies', 21727), ('mobiles', 21728), ('cecilia', 21729), ('milkskake', 21730), ('gameplay', 21731), ('cogan', 21732), ('moran', 21733), ('barcalona', 21734), ('twipics', 21735), (\"rosie's\", 21736), ('babysite', 21737), ('reluctant', 21738), ('afecting', 21739), ('wiat', 21740), ('semigod', 21741), ('intolence', 21742), ('10yearold', 21743), ('takeaway', 21744), ('hangup', 21745), (\"mei'm\", 21746), ('agentmngr', 21747), ('rebonded', 21748), (\"f'in\", 21749), ('5quot', 21750), ('altona', 21751), ('wog', 21752), ('afects', 21753), ('jvm', 21754), ('timeout', 21755), ('poped', 21756), ('timid', 21757), ('osocute', 21758), ('bashfulnes', 21759), ('bigi', 21760), ('neomonia', 21761), (\"musashi's\", 21762), ('kitaro', 21763), ('yearquot', 21764), ('northbound', 21765), ('harump', 21766), ('omginorite', 21767), ('tophated', 21768), ('handlebar', 21769), ('watchingn', 21770), ('yarn', 21771), ('n2', 21772), ('werecounting', 21773), ('5050', 21774), ('4piece', 21775), ('americas', 21776), ('smilelife', 21777), ('oceanup', 21778), ('quotmiley', 21779), ('gaston', 21780), ('declan', 21781), ('manson', 21782), ('habitat', 21783), ('twiteractive', 21784), ('pusycat', 21785), ('sundown', 21786), ('dhelohanah', 21787), ('florence', 21788), ('kyile', 21789), ('hedberg', 21790), ('lancey', 21791), ('clorox', 21792), ('81', 21793), ('hmn', 21794), ('concealer', 21795), ('alens', 21796), ('lalaland', 21797), ('ruineddeath', 21798), ('anway', 21799), ('trop', 21800), ('availble', 21801), ('fhlt', 21802), ('sich', 21803), ('ganz', 21804), ('montezuma', 21805), ('mcglaclan', 21806), ('jpnbak', 21807), ('quotdinero', 21808), ('bilquot', 21809), ('tasteles', 21810), ('portion', 21811), ('crease', 21812), ('quotchescake', 21813), (\"daisy's\", 21814), ('facespacing', 21815), ('ohoh', 21816), (\"tasha's\", 21817), ('fixing', 21818), ('greley', 21819), ('fletcher', 21820), (\"o'brian\", 21821), ('aloted', 21822), ('7846', 21823), ('joing', 21824), ('demonata', 21825), ('climbing', 21826), ('quotfuck', 21827), ('atmben', 21828), ('hru', 21829), ('browsin', 21830), ('multiply', 21831), ('surey', 21832), ('nipy', 21833), ('blob', 21834), ('tentacle', 21835), ('outbid', 21836), ('024', 21837), ('picker', 21838), ('otherway', 21839), ('cabie', 21840), (\"amwasn't\", 21841), ('mayor', 21842), ('brainard', 21843), ('roar', 21844), ('alough', 21845), ('verdict', 21846), ('manana', 21847), ('smtimes', 21848), (\"thr's\", 21849), ('solitude', 21850), ('lk', 21851), ('aerlingus', 21852), ('ryanair', 21853), ('bilund', 21854), ('charlene', 21855), ('pnut', 21856), ('colar', 21857), ('leash', 21858), ('temptingly', 21859), ('plaid', 21860), ('dispointed', 21861), (\"lifehacker's\", 21862), ('jont', 21863), ('warped', 21864), ('nau', 21865), ('ordeal', 21866), ('bmore', 21867), ('headlining', 21868), ('alreadi', 21869), ('quil', 21870), ('joco', 21871), ('pamps', 21872), ('lmaoz', 21873), ('florboards', 21874), ('chemics', 21875), ('aflicted', 21876), ('monkquot', 21877), ('quotmine', 21878), ('birdquot', 21879), ('underdog', 21880), ('belshil', 21881), ('bothwel', 21882), ('tunocks', 21883), ('roxie', 21884), (\"dol's\", 21885), ('stretcar', 21886), ('grilz', 21887), ('plaque', 21888), ('mute', 21889), ('soarin', 21890), ('eunice', 21891), ('kyna', 21892), ('denise', 21893), (\"shok'n\", 21894), ('siento', 21895), ('remodel', 21896), ('anouther', 21897), ('warmup', 21898), ('shanen', 21899), ('biscoti', 21900), ('shar', 21901), (\"lt'ltvegagt'gt\", 21902), ('gils', 21903), ('skydiver', 21904), ('olman', 21905), ('videogtblah', 21906), ('smartcar', 21907), ('hiten', 21908), ('bublewrap', 21909), ('trudat', 21910), ('seinors', 21911), ('fricking', 21912), (\"elisha's\", 21913), ('textn', 21914), ('rblpnqte', 21915), ('quotshesh', 21916), ('lolquot', 21917), ('delux', 21918), ('bps', 21919), ('d30', 21920), ('50m', 21921), ('tyga', 21922), ('deleon', 21923), ('blews', 21924), ('everday', 21925), ('lopjaz', 21926), ('ez', 21927), ('bejn', 21928), ('soo', 21929), ('noneuropers', 21930), ('avoidance', 21931), ('continuous', 21932), ('minstrick', 21933), ('losen', 21934), ('gremlins', 21935), ('331', 21936), (\"quotisn't\", 21937), ('steviewonder', 21938), (\"james's\", 21939), ('zdf', 21940), ('fernsehgarten', 21941), ('ipswitchbest', 21942), ('souvlaki', 21943), ('dimitris', 21944), ('balsamic', 21945), ('leyendo', 21946), ('grengo', 21947), ('foreman', 21948), ('aquatic', 21949), ('westin', 21950), ('niko', 21951), ('vermont', 21952), ('germn', 21953), (\"rodrguez's\", 21954), ('warens', 21955), ('mampm', 21956), ('wlcome', 21957), ('apending', 21958), ('verticalchinese', 21959), ('jaiho', 21960), ('multitasking', 21961), ('uhuru', 21962), ('floloping', 21963), ('macrina', 21964), ('esquire', 21965), ('fantasize', 21966), ('vase', 21967), ('bylaurenluke', 21968), ('friendshahamy', 21969), ('mebfalone', 21970), ('wfm', 21971), ('lexlt', 21972), ('quotmorequot', 21973), ('peril', 21974), ('overpower', 21975), ('religious', 21976), ('gch', 21977), (\"ciara's\", 21978), ('bib', 21979), ('zbrush', 21980), ('boyzone', 21981), ('novelty', 21982), ('shabu', 21983), ('quotground', 21984), ('stopquot', 21985), ('talkingwithtami', 21986), ('tamie', 21987), ('eftelingfun', 21988), ('pythonrolercoasterride', 21989), ('screamer', 21990), ('zongzi', 21991), ('colector', 21992), ('horayayayay', 21993), ('uno', 21994), ('wavin', 21995), ('sig', 21996), ('ahora', 21997), ('ginormous', 21998), ('kidys', 21999), ('roadwarior', 22000), ('recory', 22001), ('kgw', 22002), ('orgasm', 22003), ('testicle', 22004), ('imense', 22005), ('agreable', 22006), ('bait', 22007), ('youregreat', 22008), (\"hobo's\", 22009), (\"taco's\", 22010), ('laseti', 22011), (\"beto's\", 22012), ('pizeria', 22013), ('banksvile', 22014), ('beachview', 22015), ('gerais', 22016), ('proceses', 22017), ('50kb', 22018), ('hapydance', 22019), ('quotcan', 22020), ('quotokquot', 22021), ('shul', 22022), ('burbs', 22023), (\"godbye'z\", 22024), ('snazed', 22025), (\"c'me\", 22026), ('shia', 22027), ('dorfman', 22028), ('gosipy', 22029), ('fightmosh', 22030), ('amel', 22031), ('larieux', 22032), ('erybody', 22033), ('062709', 22034), (\"tim's\", 22035), ('hershey', 22036), ('walmonds', 22037), ('amigo', 22038), ('beatboxing', 22039), ('awesomerer', 22040), ('fluidity', 22041), ('uninvited', 22042), ('deid', 22043), ('dayscuz', 22044), ('otara', 22045), ('chackin', 22046), ('candidnes', 22047), ('nextday', 22048), ('glare', 22049), ('asociate', 22050), ('lynz', 22051), ('screngrab', 22052), ('alexa', 22053), ('mischief', 22054), ('twitascope', 22055), ('thisquot', 22056), ('synday', 22057), ('employment', 22058), ('janete', 22059), ('dynastyquot', 22060), ('wingman', 22061), ('urlm', 22062), ('incnmt', 22063), ('tavern', 22064), ('favie', 22065), ('chucking', 22066), ('playbyplay', 22067), ('whoping', 22068), ('blokeslib', 22069), ('lamo', 22070), ('oneshot', 22071), ('thurther', 22072), ('cruet', 22073), ('registeration', 22074), ('agrement', 22075), ('trixter', 22076), ('roler', 22077), ('tankdps', 22078), ('quotyourbigestfanquot', 22079), ('ryke', 22080), ('putain', 22081), ('quotalternate', 22082), ('acquisitionquot', 22083), ('msning', 22084), ('yumylicious', 22085), ('mmmm', 22086), ('medisoft', 22087), ('etsyseler', 22088), ('encouragementit', 22089), ('loseinthetwetisphere', 22090), ('milisecond', 22091), ('compaired', 22092), ('stare', 22093), ('4g', 22094), ('ulead', 22095), ('malware', 22096), ('dept', 22097), ('privately', 22098), ('wowie', 22099), ('woie', 22100), ('commonicafrancesca', 22101), ('ohmigod', 22102), ('oowe', 22103), ('lipstic', 22104), ('starwarswithadedpants', 22105), (\"aunty's\", 22106), ('engulfed', 22107), ('barbara', 22108), ('gknight', 22109), ('smdh', 22110), ('sonq', 22111), ('fintster', 22112), ('quotsack', 22113), ('whoresquot', 22114), ('speakin', 22115), ('chelmsford', 22116), ('demad', 22117), ('bindz', 22118), ('bulies', 22119), ('fangtasia', 22120), ('quotroads', 22121), ('camol', 22122), ('tinys', 22123), ('stretview', 22124), ('disgruntled', 22125), ('quothoequot', 22126), ('blk', 22127), ('minebron', 22128), ('notoriously', 22129), ('statistic', 22130), ('tethmouth', 22131), ('duncan', 22132), ('gday', 22133), ('nhibernate', 22134), ('interop', 22135), ('vb6', 22136), ('netnhibernate', 22137), ('runway', 22138), ('maze', 22139), ('stratus', 22140), ('tiki', 22141), ('okey', 22142), ('anychance', 22143), ('quotghosts', 22144), ('photofiltre', 22145), ('photoscape', 22146), ('gimp', 22147), ('physique', 22148), ('iming', 22149), ('ghunghte', 22150), ('chanda', 22151), ('phir', 22152), ('phela', 22153), ('charon', 22154), ('aur', 22155), ('ujala', 22156), ('quotbete', 22157), ('quotexperiencequot', 22158), (\"bitit's\", 22159), ('tentside', 22160), ('sesionmosh', 22161), ('blackquot', 22162), ('tcu', 22163), (\"quothe's\", 22164), ('acorn', 22165), ('pudles', 22166), ('nkorea', 22167), ('202', 22168), ('tsx', 22169), ('tl', 22170), ('0w', 22171), ('f0llowers', 22172), ('glitching', 22173), ('alahpundit', 22174), ('pcso', 22175), ('aplause', 22176), ('cantazaro', 22177), ('calabria', 22178), ('corse', 22179), ('theator', 22180), ('hoisin', 22181), ('edmund', 22182), ('frenchiebday', 22183), ('playboy', 22184), ('apko', 22185), ('sehat', 22186), (\"amy's\", 22187), ('todles', 22188), ('ryanseacrest', 22189), ('slows', 22190), ('le2', 22191), ('macaramber', 22192), (\"who'l\", 22193), ('inject', 22194), ('vacine', 22195), ('dumbas', 22196), ('madies', 22197), (\"valeria's\", 22198), ('araving', 22199), ('babtizm', 22200), ('blockage', 22201), ('carvile', 22202), ('whenwhen', 22203), ('kelz', 22204), (\"palahniuk's\", 22205), ('quotpygmyquot', 22206), ('anesthetic', 22207), ('fromy', 22208), ('limey', 22209), ('84', 22210), ('lucia', 22211), ('ox', 22212), ('cse', 22213), ('rfid', 22214), ('bitchin', 22215), ('puf', 22216), ('artsci', 22217), ('quotparadise', 22218), ('bibisita', 22219), ('kina', 22220), ('bukas', 22221), ('sasama', 22222), ('rusher', 22223), ('eb', 22224), ('jumpstart', 22225), ('handwraps', 22226), ('jiped', 22227), ('lecturer', 22228), ('gob', 22229), ('airconditioner', 22230), ('1206am', 22231), ('quothimquot', 22232), ('saltampvinegar', 22233), ('psycology', 22234), ('pushit', 22235), ('brin', 22236), ('comunitychanel', 22237), ('asing', 22238), ('biznes', 22239), ('armin', 22240), ('gwetin', 22241), ('hemorhoids', 22242), ('panicaway', 22243), ('gt90mph', 22244), ('lt1', 22245), ('mph', 22246), ('hourstrying', 22247), ('dilemas', 22248), ('hubie', 22249), ('michels', 22250), ('wtaching', 22251), ('juvely', 22252), ('colegiate', 22253), ('scholar', 22254), ('lasertag', 22255), ('fizy', 22256), ('twheaded', 22257), ('stresiest', 22258), ('baiters', 22259), ('tga', 22260), ('wbw', 22261), ('lux', 22262), ('dlab', 22263), ('courseware', 22264), ('grumpies', 22265), ('soundwave', 22266), ('inr', 22267), ('yalmy', 22268), ('t1', 22269), ('sandpit', 22270), ('thirdchapter', 22271), ('unixodbc', 22272), ('moy', 22273), ('grisham', 22274), ('regal', 22275), ('quotslabquot', 22276), ('4719', 22277), ('pharos', 22278), ('intriguing', 22279), ('dvt', 22280), ('lonix', 22281), ('eastcoast', 22282), ('itsnikitime', 22283), (\"o'brien\", 22284), ('rathbone', 22285), ('furbaby', 22286), ('majorspoilers', 22287), ('scheuring', 22288), ('upbeat', 22289), ('locked', 22290), ('atlast', 22291), ('moderately', 22292), ('lactoseintolerant', 22293), ('zombezi', 22294), ('brownout', 22295), ('howl', 22296), ('gba', 22297), ('pirating', 22298), ('skeptical', 22299), ('vl', 22300), ('huryup', 22301), ('omgimpatient', 22302), ('ladie', 22303), ('jmichele', 22304), ('armhole', 22305), ('460', 22306), ('odour', 22307), ('brera', 22308), ('louse', 22309), ('irlanda', 22310), ('stranthorpe', 22311), ('munchkin', 22312), ('nightfri', 22313), ('ipoding', 22314), ('mutitasking', 22315), ('bgezy', 22316), ('3647', 22317), ('dreamweaver', 22318), ('incapable', 22319), (\"naruto's\", 22320), ('fininsh', 22321), (\"kayle's\", 22322), ('odesey', 22323), ('oversleep', 22324), ('nfty', 22325), ('houseofrock', 22326), ('incomplete', 22327), ('friendfolower', 22328), ('ratio', 22329), ('threday', 22330), ('justa', 22331), ('crisy', 22332), ('sturday', 22333), ('knowledgable', 22334), ('prd', 22335), ('quotever', 22336), ('shante', 22337), ('vaiko', 22338), ('nedumaran', 22339), ('lte', 22340), ('neckache', 22341), ('opse', 22342), ('rugrats', 22343), ('swanage', 22344), ('bourton', 22345), ('thursfri', 22346), ('brita', 22347), ('blahgt', 22348), ('turk', 22349), ('daps', 22350), ('driveby', 22351), ('raper', 22352), ('spiros', 22353), ('snozing', 22354), ('okayokay', 22355), ('cyk', 22356), ('cymk', 22357), (\"alesha's\", 22358), (\"s'en\", 22359), ('fou', 22360), ('ariana', 22361), ('sorce', 22362), ('sincerely', 22363), ('revive', 22364), ('witnesed', 22365), ('brokings', 22366), ('demilynmusic', 22367), ('ampaha', 22368), ('lnger', 22369), ('gatwick', 22370), ('lopatcong', 22371), ('tities', 22372), ('sayid', 22373), ('cosmic', 22374), ('pusrse', 22375), ('holmes', 22376), ('enyone', 22377), ('jayem', 22378), ('b2b', 22379), ('kiran', 22380), (\"land'g\", 22381), ('aztec', 22382), ('rsvped', 22383), (\"qiuqiu's\", 22384), ('quotoperation', 22385), ('anchoragequot', 22386), ('lotwise', 22387), ('gaus', 22388), ('interior', 22389), ('1939', 22390), ('90th', 22391), ('quotmonarchyquot', 22392), ('bled', 22393), ('reconize', 22394), ('regluing', 22395), ('springleaf', 22396), ('ethernet', 22397), ('sumthing', 22398), ('kazim', 22399), (\"al's\", 22400), (\"cryer's\", 22401), ('exwife', 22402), ('logan', 22403), ('quotagainquot', 22404), ('ent', 22405), ('broiler', 22406), ('slober', 22407), ('ambitious', 22408), ('paperboy', 22409), ('console', 22410), ('sacto', 22411), ('menlo', 22412), ('ould', 22413), ('eleg', 22414), ('avea', 22415), ('emisiune', 22416), ('ceva', 22417), ('minits', 22418), ('lef', 22419), ('strut', 22420), ('soninlaws', 22421), ('hypnosis', 22422), ('epc', 22423), ('mcmcbudy', 22424), ('kalebnation', 22425), ('comkalebnation', 22426), ('lonelines', 22427), ('creps', 22428), ('bron', 22429), ('comrcials', 22430), (\"alex's\", 22431), ('dinerbirthday', 22432), ('dinersurprise', 22433), ('whut', 22434), ('unconditonaly', 22435), ('materialistic', 22436), ('memeber', 22437), ('eagerly', 22438), ('dingle', 22439), ('ethnic', 22440), ('novy', 22441), ('0405', 22442), ('arbitrarily', 22443), ('severely', 22444), ('nonstandardized', 22445), ('quotgracequot', 22446), ('shaven', 22447), ('quotofice', 22448), ('spacequot', 22449), ('peps', 22450), ('adm', 22451), ('punching', 22452), ('frap', 22453), ('chuweny', 22454), ('zigy', 22455), ('mumify', 22456), ('quotjake', 22457), ('colognequot', 22458), ('holister', 22459), ('gha', 22460), (\"van's\", 22461), ('transmision', 22462), ('moley', 22463), ('snazified', 22464), ('twinster', 22465), ('heyah', 22466), (\"wern't\", 22467), ('cumin', 22468), ('20x', 22469), ('iyla', 22470), ('wbc', 22471), ('counterprotests', 22472), ('waterfire', 22473), ('spade', 22474), ('partyo', 22475), ('worthacrap', 22476), ('freams', 22477), ('cdcaves', 22478), ('hilariously', 22479), ('cenario', 22480), ('twubing', 22481), (\"geno's\", 22482), ('ruilen', 22483), ('kozies', 22484), ('mindnumbing', 22485), ('blogtalkradio', 22486), ('exahausted', 22487), ('28c', 22488), ('cafein', 22489), ('afair', 22490), ('hypergodnes', 22491), ('rumour', 22492), ('estk', 22493), ('nemonemesis', 22494), ('0630', 22495), ('franklin', 22496), ('richards', 22497), (\"mariachi'nin\", 22498), ('yeni', 22499), ('kampanyasi', 22500), ('beraber', 22501), ('gelistirdigimiz', 22502), ('uygulamasi', 22503), (\"huriyet'e\", 22504), ('haber', 22505), ('olmus', 22506), ('meses', 22507), ('unwind', 22508), ('phat', 22509), ('aplebotoms', 22510), ('fubu', 22511), ('sunray', 22512), ('puged', 22513), ('bombard', 22514), ('fantastical', 22515), ('finalizer', 22516), ('raincheck', 22517), ('trevor', 22518), ('lovies', 22519), ('samich', 22520), ('bongie', 22521), ('izay', 22522), ('beasted', 22523), ('aoe', 22524), ('dlukasrosi', 22525), ('lukas', 22526), ('protected', 22527), ('bojan', 22528), ('garet', 22529), ('scouser', 22530), ('kebab', 22531), ('skinamarinkydinkydink', 22532), ('alongs', 22533), ('anies', 22534), ('codnt', 22535), ('caty', 22536), ('frugal', 22537), ('quotthick', 22538), ('oxfordquot', 22539), (\"helena's\", 22540), ('cantab', 22541), ('coraperates', 22542), (\"j's\", 22543), ('moveable', 22544), ('reutiman', 22545), ('twetbud', 22546), ('flwrs', 22547), (\"fixin's\", 22548), ('gebus', 22549), ('aproveche', 22550), ('cancion', 22551), ('esta', 22552), ('noncompete', 22553), ('octupi', 22554), ('xloveyouto', 22555), ('gmu', 22556), ('sys', 22557), ('eng', 22558), ('250k', 22559), ('suplies', 22560), ('covershots', 22561), ('kelana', 22562), ('jaya', 22563), (\"nicole's\", 22564), ('hernandez', 22565), ('caitlin', 22566), ('bosy', 22567), ('somewherequot', 22568), ('g1freaks', 22569), ('togetha', 22570), ('quotpopup', 22571), ('showersquot', 22572), ('admiration', 22573), ('mankind', 22574), ('1x', 22575), ('defunctlesi', 22576), (\"did't\", 22577), ('embaras', 22578), ('quotscholquot', 22579), ('buckled', 22580), ('acedent', 22581), ('austira', 22582), ('bakersfield', 22583), ('geograhy', 22584), ('revit', 22585), ('autocad', 22586), ('jumy', 22587), ('bouvierbday', 22588), ('bouvier', 22589), ('sasd', 22590), ('seats', 22591), ('stutgart', 22592), ('befahconference', 22593), ('ksn', 22594), ('dangero', 22595), ('naglilihi', 22596), ('int', 22597), ('podunktown', 22598), ('ragy', 22599), ('whb', 22600), ('recite', 22601), ('reprobate', 22602), ('comercialsized', 22603), ('wanty', 22604), ('yn', 22605), ('baptist', 22606), ('misionaries', 22607), ('eine', 22608), ('kleine', 22609), ('nashtmusik', 22610), ('timy', 22611), ('soybean', 22612), ('unsucesful', 22613), ('yesum', 22614), ('yakuza', 22615), ('knocking', 22616), ('tauren', 22617), ('shaman', 22618), ('icewater', 22619), ('braclets', 22620), ('whining', 22621), ('lethargic', 22622), ('lt3penie', 22623), ('yow', 22624), ('atal', 22625), ('alrite', 22626), ('akankah', 22627), ('suatu', 22628), ('mendapatkanya', 22629), ('notloking', 22630), ('ontd', 22631), ('vas', 22632), ('comodity', 22633), ('quotcroscloudquot', 22634), ('burden', 22635), ('quotinternet', 22636), ('thingquot', 22637), ('jtim', 22638), ('cagayan', 22639), ('oro', 22640), ('contagious', 22641), ('acompanies', 22642), ('pesimist', 22643), ('lt3c', 22644), ('ysc', 22645), ('runthrough', 22646), ('mywireles', 22647), ('overslept', 22648), ('havoc', 22649), ('erugh', 22650), ('sunfay', 22651), ('loveu', 22652), ('71528th', 22653), ('bfls', 22654), ('quothelp', 22655), ('whasup', 22656), ('forcast', 22657), ('partly', 22658), ('epg', 22659), ('pinkyponk', 22660), ('mademoisele', 22661), ('ryland', 22662), ('suarez', 22663), ('violent', 22664), ('fightclub', 22665), ('amost', 22666), ('greatgrandmother', 22667), ('phylis', 22668), ('hyman', 22669), ('unsung', 22670), (\"ef'ed\", 22671), ('creper', 22672), ('cyberstalking', 22673), ('enable', 22674), ('growl', 22675), ('duped', 22676), ('5drawer', 22677), ('horizontal', 22678), ('nondigital', 22679), ('finra', 22680), ('largely', 22681), ('ambivalent', 22682), ('kidshow', 22683), ('irked', 22684), ('1mo', 22685), ('microb', 22686), ('twitbacks', 22687), ('sisch', 22688), ('reactin', 22689), ('dolarama', 22690), (\"bailey's\", 22691), ('misinmydgbigtyme', 22692), ('urgent', 22693), ('mozer', 22694), ('mugt', 22695), ('radiator', 22696), (\"bump's\", 22697), ('grentea', 22698), ('manic', 22699), ('omge', 22700), ('sickwhat', 22701), ('somalions', 22702), (\"b's\", 22703), ('programers', 22704), ('scholboks', 22705), ('cabaret', 22706), ('peicing', 22707), ('tvfilmtheatre', 22708), ('hose', 22709), ('floating', 22710), ('lokie', 22711), ('department', 22712), ('carafe', 22713), ('cafiene', 22714), (\"l'd\", 22715), (\"leica's\", 22716), ('ichiban', 22717), ('yultron', 22718), ('yesh', 22719), (\"kawawa's\", 22720), ('slopy', 22721), ('10hour', 22722), ('swetnothings', 22723), ('alevel', 22724), ('wutang', 22725), (\"ac's\", 22726), ('dezy', 22727), ('nevile', 22728), ('enuh', 22729), ('avin', 22730), ('4me', 22731), ('bhr', 22732), ('potassium', 22733), ('assure', 22734), ('giant_star', 22735), ('airfield', 22736), ('snip', 22737), ('take_after', 22738), ('sexual_conquest', 22739), ('foot', 22740), ('collision', 22741), ('reassure', 22742), ('twenty-seven', 22743), ('centralize', 22744), ('ashen', 22745), ('master_of_science', 22746), ('break_dancing', 22747), ('deflect', 22748), ('compendious', 22749), ('take_care', 22750), ('department_of_labor', 22751), ('northeast', 22752), ('garter', 22753), ('tilt', 22754), ('close_call', 22755), ('flinch', 22756), ('deplorably', 22757), ('helium', 22758), ('ghostwriter', 22759), ('passenger_car', 22760), ('initiate', 22761), ('bedroom', 22762), ('ablaze', 22763), ('soundbox', 22764), ('culture_medium', 22765), ('holy_order', 22766), ('natural_language', 22767), ('fall_upon', 22768), ('provoke', 22769), ('confess', 22770), ('walk_of_life', 22771), ('defective', 22772), ('awareness', 22773), ('arithmetic_mean', 22774), ('playpen', 22775), ('ballyhoo', 22776), ('yellow_journalism', 22777), ('probe', 22778), ('fasten', 22779), ('kilobyte', 22780), ('commute', 22781), ('carousel', 22782), ('prediction', 22783), ('soft-shell_clam', 22784), ('terribly', 22785), ('kilobit', 22786), ('patty', 22787), ('overt', 22788), ('multitude', 22789), ('exuberate', 22790), ('basal', 22791), ('read/write_head', 22792), ('get_off', 22793), ('northeasterly', 22794), ('oculus_dexter', 22795), ('permanent_wave', 22796), ('flourish', 22797), ('play_along', 22798), ('passage', 22799), ('follow', 22800), ('adequate_to', 22801), ('tantalum', 22802), ('copulate', 22803), ('frump', 22804), ('alternating_current', 22805), ('beehive', 22806), ('trophy', 22807), ('application', 22808), ('bonny', 22809), ('invigilate', 22810), ('rock_candy', 22811), ('united_states_government', 22812), ('boiling_point', 22813), ('devious', 22814), ('return_key', 22815), ('local_anesthetic', 22816), ('dribble', 22817), ('chancellor', 22818), ('computer-aided_design', 22819), ('strategic_arms_limitation_talks', 22820), ('twenty-sixth', 22821), ('pawl', 22822), ('assistant', 22823), ('air_travel', 22824), ('demonstrable', 22825), ('emergence', 22826), ('fictional_character', 22827), ('antipathetic', 22828), ('becoming', 22829), ('undertaking', 22830), ('actinium', 22831), ('state_of_matter', 22832), ('agony', 22833), ('constipate', 22834), ('inner_light', 22835), ('transplant', 22836), ('visibility', 22837), ('new_englander', 22838), ('abrasion', 22839), ('maestro', 22840), ('dominate', 22841), ('fee-tail', 22842), ('rend', 22843), ('consultation', 22844), ('quotasos', 22845), ('couponsquot', 22846), ('inconvenience', 22847), ('earlyer', 22848), ('andim', 22849), ('asi', 22850), ('inedhelp', 22851), ('fabian', 22852), (\"dave's\", 22853), ('dndn', 22854), ('dwelers', 22855), ('brewcast', 22856), ('huma', 22857), ('smokefre', 22858), ('holyweird', 22859), ('altered', 22860), ('heritage', 22861), ('hiyah', 22862), ('listnin', 22863), ('bestest', 22864), ('sothes', 22865), ('clingy', 22866), ('submarine', 22867), ('fiber', 22868), ('optic', 22869), ('alotment', 22870), (\"suply's\", 22871), ('greastest', 22872), ('webdu', 22873), ('arow', 22874), ('pukey', 22875), ('bourns', 22876), ('grandbaby', 22877), ('bsnl', 22878), ('rotf', 22879), (\"isn'tis\", 22880), ('pixar', 22881), ('doled', 22882), ('humira', 22883), ('enbrel', 22884), ('rheumy', 22885), ('longterm', 22886), ('twiterquotersquot', 22887), ('wham', 22888), ('manyquot', 22889), ('cruisetour', 22890), ('spofcards', 22891), (\"compo's\", 22892), ('dumpster', 22893), ('371', 22894), ('mercure', 22895), ('hadthebestdayever', 22896), ('whathefuck', 22897), ('depends', 22898), ('swears', 22899), ('syn', 22900), ('quottogetherquot', 22901), ('quothisquot', 22902), ('sanitize', 22903), ('compete', 22904), ('750', 22905), ('wold', 22906), ('tantalizingly', 22907), ('comunism', 22908), ('comunistquot', 22909), ('giftcert', 22910), ('hipfabric', 22911), ('internship', 22912), ('mediteranian', 22913), ('backe', 22914), ('ldn', 22915), ('problemfre', 22916), ('4amp5', 22917), ('metaprograming', 22918), ('screncasts', 22919), ('vobys', 22920), ('hyd', 22921), (\"theka's\", 22922), ('facebokdetox', 22923), ('fryend', 22924), ('sensor', 22925), ('narnia', 22926), ('blurb', 22927), ('aslan', 22928), ('skandar', 22929), ('homely', 22930), ('fredie', 22931), ('funpacked', 22932), ('wath', 22933), ('gloves', 22934), ('tacky', 22935), ('interwebs', 22936), ('quebec', 22937), ('lagon', 22938), ('donel', 22939), ('autoreset', 22940), ('plinker', 22941), ('lovah', 22942), ('soby', 22943), ('tailights', 22944), ('dubstep', 22945), ('iat', 22946), ('rivercenter', 22947), ('doingn', 22948), ('40404', 22949), ('3265', 22950), ('ravel', 22951), ('partial', 22952), (\"pink's\", 22953), ('sobre', 22954), ('conecting', 22955), ('a1', 22956), ('grenday', 22957), ('shwet', 22958), ('tailgating', 22959), ('garit', 22960), ('b2k', 22961), (\"fo'sho\", 22962), (\"rem's\", 22963), (\"avi's\", 22964), ('smashspace', 22965), ('shutdown', 22966), ('livestream', 22967), ('jobles', 22968), ('transsiberian', 22969), ('ghia', 22970), ('rung', 22971), ('vacant', 22972), ('dynamic', 22973), (\"imac's\", 22974), ('fm97', 22975), ('tafy', 22976), ('zenrelated', 22977), ('quotgo', 22978), ('senioritis', 22979), ('calculus', 22980), ('slackin', 22981), ('aprox', 22982), ('10msgsecond', 22983), ('6msgsec', 22984), ('fontstruct', 22985), ('dafont', 22986), ('16k', 22987), ('ankit', 22988), ('parlour', 22989), ('hokeypokeybandra', 22990), ('claires', 22991), ('mags', 22992), ('ahte', 22993), ('yehah', 22994), ('husky', 22995), ('atendances', 22996), ('3040', 22997), ('oval', 22998), ('clubin', 22999), ('spar', 23000), ('slider', 23001), ('barjohnys', 23002), ('variation', 23003), ('oof', 23004), ('apetizing', 23005), ('wrkd', 23006), ('graf', 23007), ('quotbigquot', 23008), ('catulus', 23009), ('ovid', 23010), ('extract', 23011), ('aeneid', 23012), ('gosling', 23013), ('yuky', 23014), ('abueltia', 23015), (\"chaz's\", 23016), ('hapenings', 23017), ('231', 23018), (\"g'nimorning\", 23019), ('louisa', 23020), ('rerecordings', 23021), ('scured', 23022), ('slefish', 23023), ('twetioi', 23024), ('schaumburg', 23025), ('discused', 23026), ('lugosi', 23027), ('quotbestquot', 23028), ('tablejukebox', 23029), ('quiter', 23030), ('7265', 23031), ('traficking', 23032), ('daly', 23033), ('chaplaintherapist', 23034), ('648am', 23035), ('cluters', 23036), ('pane', 23037), ('meditation', 23038), ('kbom', 23039), ('ltsighgt', 23040), ('tomrow', 23041), ('dtrain', 23042), ('bestbuy', 23043), ('quotcatch', 23044), ('canquot', 23045), ('everton', 23046), ('favorit', 23047), ('wfd', 23048), ('droids', 23049), ('abnormal', 23050), ('wildflower', 23051), ('backordered', 23052), ('bionomial', 23053), ('quesadilas', 23054), ('masekela', 23055), ('contern', 23056), ('t71', 23057), ('usnlbest', 23058), ('mabrok', 23059), ('inta', 23060), ('3indi', 23061), ('funon', 23062), ('extranauseous', 23063), ('peristalsis', 23064), ('webkinz', 23065), ('colabro', 23066), ('wjphlip', 23067), ('quotcaliforniaquot', 23068), ('glitch', 23069), ('mixup', 23070), (\"piz's\", 23071), ('bdub', 23072), ('freeze', 23073), ('mayn', 23074), ('styl', 23075), ('ybwm', 23076), ('quotcrap', 23077), ('paysite', 23078), ('nephews', 23079), ('lizi', 23080), ('foh', 23081), ('dealt', 23082), ('chale', 23083), ('quotoutquot', 23084), ('colder', 23085), ('paraguay', 23086), ('adin', 23087), ('ngl', 23088), ('wokiepedia', 23089), ('pistake', 23090), ('vigorous', 23091), ('removal', 23092), ('aptitude', 23093), ('trish', 23094), ('enthuse', 23095), ('manics', 23096), ('foxford', 23097), ('ponton', 23098), (\"yes'ma\", 23099), ('gale', 23100), ('toasties', 23101), ('vstudio', 23102), ('boyfriends', 23103), ('sears', 23104), ('minh', 23105), ('saunaampspa', 23106), ('alread', 23107), ('shenanigan', 23108), ('ruxbury', 23109), ('quoturlautoexpandquot', 23110), ('cinerama', 23111), ('carlys', 23112), ('shelton', 23113), ('mancandy', 23114), ('kahit', 23115), ('peso', 23116), ('combonations', 23117), ('sufka', 23118), ('marjorie', 23119), ('jemimah', 23120), ('mths', 23121), ('kegan', 23122), ('iswas', 23123), ('krys', 23124), ('screnshots', 23125), ('casual', 23126), ('coked', 23127), ('fem', 23128), ('bork', 23129), ('calshet', 23130), ('bgtalent', 23131), ('sumerbal', 23132), ('coveri', 23133), ('alist', 23134), ('o0angerwho', 23135), ('raimi', 23136), ('sanz', 23137), ('theraflu', 23138), ('fend', 23139), ('itin', 23140), ('expired', 23141), ('combust', 23142), ('hao', 23143), ('ji', 23144), ('kinduh', 23145), ('bampbws', 23146), ('pizatime', 23147), ('vickyt', 23148), ('19th', 23149), ('thxs', 23150), ('potentialy', 23151), ('leuke', 23152), ('dus', 23153), ('standup', 23154), ('webkit', 23155), ('hamlet', 23156), ('inkheart', 23157), ('sexify', 23158), ('bmw', 23159), ('twoheaded', 23160), ('aural', 23161), ('42nd', 23162), ('persauded', 23163), ('earful', 23164), ('psychopath', 23165), ('homer', 23166), ('simspon', 23167), ('yesi', 23168), ('michelemybele', 23169), ('heyho', 23170), ('heyhey', 23171), ('felit', 23172), ('amazning', 23173), ('slovenia', 23174), (\"cheri's\", 23175), ('lexington', 23176), ('hackday', 23177), ('wealthed', 23178), ('whem', 23179), ('swepy', 23180), ('paradice', 23181), ('ecxept', 23182), ('sharfenberger', 23183), ('ohmygosh', 23184), ('vicki', 23185), ('roush', 23186), ('courgete', 23187), ('finals', 23188), ('badquot', 23189), ('greshamblake', 23190), ('ba15', 23191), ('enlist', 23192), ('labo', 23193), (\"cushing's\", 23194), ('keanu', 23195), ('lovelytrinkets', 23196), ('awk', 23197), ('morcom', 23198), ('aniya', 23199), ('yars', 23200), ('fkin', 23201), ('twi', 23202), ('funday', 23203), ('togling', 23204), ('quotganesh', 23205), ('jajuquot', 23206), ('prowse', 23207), ('balearic', 23208), ('ampampamp', 23209), ('mutering', 23210), ('jkuk', 23211), ('rivet', 23212), ('shepherd', 23213), ('50x', 23214), ('twetcanon', 23215), ('fika', 23216), ('thes', 23217), ('divorcing', 23218), ('pariswhere', 23219), ('traficjam', 23220), ('phuture', 23221), ('src', 23222), (\"youngest's\", 23223), ('17yearold', 23224), ('obnoxiously', 23225), ('mpls', 23226), ('runsexcursions', 23227), ('sondaughter', 23228), ('naia', 23229), ('tetens', 23230), ('motorscoter', 23231), ('confesed', 23232), ('despertando', 23233), ('megadespistado', 23234), ('luego', 23235), ('fin', 23236), ('semana', 23237), ('saldr', 23238), ('dayofservice', 23239), ('celebrates', 23240), ('mumzys', 23241), ('swob', 23242), ('swas', 23243), ('motivates', 23244), ('formerly', 23245), ('quotit', 23246), ('twoquot', 23247), ('akins', 23248), ('mamacita', 23249), ('kisha', 23250), ('flightwas', 23251), ('147pm', 23252), ('jenson', 23253), ('weighting', 23254), ('kristine', 23255), ('quotking', 23256), (\"fastsmalbalbuster'y\", 23257), ('weirdherout', 23258), ('visionboard', 23259), ('floridia', 23260), ('margeritas', 23261), ('hayle', 23262), ('milkshakeshakeshakeshake', 23263), ('punlk', 23264), ('torcon', 23265), (\"amwhat's\", 23266), ('outsidewowwas', 23267), ('sfelt', 23268), ('lokd', 23269), ('loc', 23270), ('g4c09', 23271), ('bluegras', 23272), ('casade', 23273), ('bragin', 23274), ('peolple', 23275), (\"mom'l\", 23276), (\"doesnt't\", 23277), (\"boy's\", 23278), (\"ear's\", 23279), ('twiterchalenged', 23280), ('16c', 23281), ('todayampcold', 23282), ('quotbquot', 23283), ('frak', 23284), ('disection', 23285), ('frogy', 23286), ('quinland', 23287), (\"building's\", 23288), ('whitegloved', 23289), ('operator', 23290), ('yumcha', 23291), ('arcel', 23292), ('egpants', 23293), ('empres', 23294), ('hva', 23295), ('rotr', 23296), ('adelitas', 23297), ('invincible', 23298), ('edelcries', 23299), (\"didn'tgot\", 23300), ('triping', 23301), ('unrelated', 23302), ('storywise', 23303), ('butershots', 23304), ('locie', 23305), ('stimulus', 23306), ('256', 23307), ('253', 23308), ('rage', 23309), ('virtualpc', 23310), ('clueefect', 23311), ('tedychucking', 23312), (\"s'ok\", 23313), ('straighening', 23314), ('l4d', 23315), ('blackets', 23316), ('jaiden', 23317), ('defunct', 23318), ('pufyn', 23319), ('completley', 23320), ('dampier', 23321), ('jdoramas', 23322), (\"se'n\", 23323), ('financialy', 23324), (\"her's\", 23325), ('amaize', 23326), ('tbqh', 23327), ('estimation', 23328), ('teve', 23329), ('guarantes', 23330), ('cade', 23331), (\"herhsey's\", 23332), ('heartquot', 23333), ('pricines', 23334), ('panhandler', 23335), ('papadeux', 23336), ('ltbaby', 23337), ('boygt', 23338), ('wolsery', 23339), ('molton', 23340), ('u16', 23341), ('clinch', 23342), ('blimey', 23343), ('acused', 23344), ('sidedquot', 23345), ('sastch', 23346), ('garos', 23347), ('tehehe', 23348), ('debra', 23349), ('budweiser', 23350), ('wof', 23351), ('westend', 23352), ('contd', 23353), ('vibrant', 23354), ('cpeven', 23355), ('squosh', 23356), ('jodie', 23357), ('quotmarley', 23358), ('seam', 23359), ('scholmate', 23360), ('baly', 23361), ('deze', 23362), ('interesanter', 23363), ('utmost', 23364), ('fotoreportage', 23365), ('surveilance', 23366), ('lalalala', 23367), ('dble', 23368), (\"sdp's\", 23369), ('kashtam', 23370), ('similey', 23371), ('csk', 23372), ('profesors', 23373), ('carwash', 23374), ('snf', 23375), ('rainstorm', 23376), ('shering', 23377), ('relaxful', 23378), ('suficient', 23379), ('tweterz', 23380), ('quottel', 23381), ('squeky', 23382), (\"houston's\", 23383), ('diped', 23384), ('shitshow', 23385), ('optimist', 23386), ('cingular', 23387), ('seja', 23388), ('vindo', 23389), ('anjo', 23390), ('wseven', 23391), ('realitycheck', 23392), (\"rachael's\", 23393), ('quotrole', 23394), ('modelsquot', 23395), ('251', 23396), ('maxi', 23397), ('4quot', 23398), ('04182012154', 23399), ('txtd', 23400), ('musicboth', 23401), ('aesthetic', 23402), ('frestyling', 23403), ('mixtape', 23404), ('sw0p', 23405), ('418', 23406), ('gosebumps', 23407), ('tic', 23408), ('tacs', 23409), ('feastfriday', 23410), ('exato', 23411), ('momento', 23412), ('wokei', 23413), ('sulking', 23414), ('gru', 23415), ('3some', 23416), ('quotfolow', 23417), ('fridayquot', 23418), ('triming', 23419), ('draging', 23420), ('eurgh', 23421), (\"au'au\", 23422), ('blaisdel', 23423), ('chehe', 23424), ('awrite', 23425), ('filion', 23426), ('quotjobquot', 23427), ('cleavage', 23428), ('confesions', 23429), ('shopoholic', 23430), (\"dancy's\", 23431), ('sandiego', 23432), ('parcel', 23433), ('magsupervise', 23434), ('gala', 23435), ('glastonbury', 23436), ('itlog', 23437), ('epenis', 23438), ('2nit', 23439), (\"daon't\", 23440), ('friendlyand', 23441), ('icof', 23442), ('umtil', 23443), ('whateverworks', 23444), ('crashed', 23445), ('softy', 23446), ('quoturbanquot', 23447), ('ittomorow', 23448), ('wei', 23449), ('abalone', 23450), ('fatherinlaw', 23451), ('donot', 23452), ('disorganized', 23453), ('manbobs', 23454), ('retsi', 23455), ('caus', 23456), ('eit', 23457), ('yayay', 23458), ('leisure', 23459), ('blunstone', 23460), ('smudger', 23461), ('chace', 23462), ('birder', 23463), ('carnage', 23464), ('kaelah', 23465), ('deathcab', 23466), ('crept', 23467), ('nob', 23468), ('owi', 23469), ('credo', 23470), ('brighi', 23471), ('fieldwork', 23472), ('databok', 23473), ('awkwardly', 23474), ('dranks', 23475), ('lewish', 23476), ('almothers', 23477), ('celine', 23478), (\"dion's\", 23479), ('tks', 23480), ('oink', 23481), ('adresed', 23482), ('cokiewise', 23483), ('503', 23484), ('idiotatgameszombie', 23485), ('stonedbuz', 23486), ('nonsuny', 23487), ('hasa', 23488), ('caserole', 23489), (\"ol'soak\", 23490), ('cayogial', 23491), ('preserver', 23492), ('icetv', 23493), ('quotpickyquot', 23494), ('sumahkay', 23495), ('dislocation', 23496), (\"lif's\", 23497), ('luk', 23498), ('obvs', 23499), ('hanahisdead', 23500), ('fuckyeah', 23501), ('2daytrip', 23502), ('prescribe', 23503), ('antibiotic', 23504), ('inhaler', 23505), ('afairs', 23506), ('southwestern', 23507), (\"mok's\", 23508), ('pinga', 23509), ('grouling', 23510), ('deficiency', 23511), ('socialise', 23512), ('416', 23513), ('roux', 23514), ('electropop', 23515), ('synth', 23516), ('grsvile', 23517), ('acesing', 23518), ('istore', 23519), ('duong', 23520), ('430845', 23521), ('coldplaying', 23522), ('sftw', 23523), ('invasion', 23524), ('subconscious', 23525), ('remarkably', 23526), ('kanji', 23527), ('2niteampi', 23528), ('crumpin', 23529), ('titbob', 23530), ('quotcrumpin', 23531), ('dubquot', 23532), ('kindergarden', 23533), ('heals', 23534), ('reqs', 23535), ('thundershower', 23536), ('ym', 23537), ('ebudy', 23538), ('fabs', 23539), ('salaried', 23540), ('teritory', 23541), ('jesandnicolemusic', 23542), ('aqo', 23543), ('ashower', 23544), ('tremendous', 23545), ('winterboard', 23546), ('hbu', 23547), ('ragh', 23548), ('henpecking', 23549), ('inboxes', 23550), ('leapord', 23551), ('abundantly', 23552), ('uds', 23553), ('definetly', 23554), ('bananabrain', 23555), ('oepn', 23556), ('lobying', 23557), ('garcia', 23558), ('miniherb', 23559), ('iye', 23560), ('neh', 23561), ('pulang', 23562), ('pagian', 23563), ('langsung', 23564), ('touche', 23565), ('sharn', 23566), ('cushion', 23567), ('barstols', 23568), ('mela', 23569), ('cept', 23570), ('caribean', 23571), ('instaler', 23572), ('diging', 23573), ('folo', 23574), ('nomination', 23575), ('80th', 23576), ('falower', 23577), ('mesi', 23578), ('felers', 23579), ('midleclick', 23580), ('statk', 23581), ('spyed', 23582), ('listented', 23583), ('zindex', 23584), ('kidquot', 23585), ('ruston', 23586), ('fanie', 23587), ('darwin', 23588), (\"stewart's\", 23589), (\"fix'd\", 23590), ('cofies', 23591), ('pleaz', 23592), (\"character's\", 23593), ('spiderwoman', 23594), ('climbs', 23595), ('s4', 23596), ('nightie', 23597), ('quottwitingquot', 23598), ('quottwetingquot', 23599), ('tripod', 23600), ('viewfinder', 23601), ('unfocusing', 23602), ('incarnate', 23603), ('ghalib', 23604), ('unanswered', 23605), ('practise', 23606), (\"jeny's\", 23607), ('chesynes', 23608), ('ltj', 23609), ('yoke', 23610), ('wirequot', 23611), ('quotpantienquot', 23612), ('weirder', 23613), ('23b', 23614), ('rsa', 23615), ('cherfulnes', 23616), ('kilometre', 23617), ('craigslistquebec', 23618), ('anomaly', 23619), ('hawksmor', 23620), ('beover', 23621), ('como', 23622), ('mols', 23623), (\"stub's\", 23624), ('bludgers', 23625), ('beater', 23626), ('quiditch', 23627), ('dim', 23628), ('valejo', 23629), ('macys', 23630), ('wour', 23631), ('mortgage', 23632), ('broker', 23633), ('amara', 23634), ('clasrom', 23635), ('embry', 23636), ('quotsubetha', 23637), ('sensomaticquot', 23638), ('ivealwayswantedtosay', 23639), ('monying', 23640), ('talktalk', 23641), ('dramafest', 23642), ('ch13', 23643), ('virginia', 23644), ('icq', 23645), ('palmdale', 23646), ('fulsized', 23647), ('oters', 23648), ('dogtown', 23649), (\"shepherd's\", 23650), ('d60', 23651), ('errr', 23652), ('huhuh', 23653), ('whahahah', 23654), ('tnite', 23655), ('khaled', 23656), ('dramathon', 23657), ('devistated', 23658), ('wast', 23659), ('6720', 23660), ('qet', 23661), ('drankin', 23662), ('yestarday', 23663), ('artesia', 23664), ('ceritos', 23665), ('haryron', 23666), ('harysnape', 23667), ('otp', 23668), ('siriusremus', 23669), ('semy', 23670), ('guyfreind', 23671), ('misleading', 23672), ('x9', 23673), ('4thquot', 23674), ('ewok', 23675), ('hailthunder', 23676), ('juicy', 23677), ('scots', 23678), ('upgradedone', 23679), ('disable', 23680), ('adons', 23681), (\"sophie's\", 23682), ('padington', 23683), (\"cali's\", 23684), ('unair', 23685), ('horseradish', 23686), ('hbd', 23687), ('quotgrovy', 23688), ('photofolows', 23689), ('fredies', 23690), ('cotch', 23691), ('bajan', 23692), ('sorted', 23693), ('legalisation', 23694), ('dilematic', 23695), ('brainy', 23696), ('visitng', 23697), ('boyet', 23698), ('roughnight', 23699), ('ampdont', 23700), ('overeaction', 23701), ('preweding', 23702), ('sauna', 23703), ('wodchiper', 23704), ('numver', 23705), ('cafene', 23706), ('ldbf', 23707), ('muminlaw', 23708), ('managingonlineforums', 23709), ('amzn', 23710), ('thebeat', 23711), ('mashups', 23712), ('avh', 23713), ('hoks', 23714), ('transgres', 23715), (\"computer's\", 23716), ('chesapeake', 23717), ('jubile', 23718), ('wearin', 23719), ('watchn', 23720), ('madagascar', 23721), ('rihana', 23722), ('opose', 23723), ('makeawish', 23724), ('florin', 23725), ('caucasian', 23726), ('amplearning', 23727), ('toefl', 23728), ('funfunfun', 23729), (\"american's\", 23730), ('backz', 23731), ('kristie', 23732), ('weil', 23733), ('thunderlightning', 23734), ('mast', 23735), ('ladki', 23736), ('patata', 23737), ('jiske', 23738), ('sath', 23739), ('jaye', 23740), ('khush', 23741), ('rehna', 23742), ('sevrl', 23743), ('indies', 23744), ('armour', 23745), ('plywod', 23746), (\"chel's\", 23747), ('whisk', 23748), ('swin', 23749), ('anyonewithbike', 23750), ('homeroasted', 23751), ('enrapture', 23752), ('waityeah', 23753), (\"patrick's\", 23754), ('arto', 23755), ('opf', 23756), ('bl8r', 23757), ('deadliestcatch', 23758), ('tpgquotlove', 23759), ('suspensequot', 23760), ('secretly', 23761), ('spine', 23762), (\"dino's\", 23763), ('wastrat', 23764), ('626', 23765), (\"uou're\", 23766), ('singtel', 23767), ('gogling', 23768), ('comandap', 23769), ('telekinesis', 23770), ('damjust', 23771), ('streching', 23772), ('10m', 23773), ('bombtastic', 23774), ('rained', 23775), ('cus', 23776), ('deinem', 23777), ('admirer', 23778), ('deangeloredman', 23779), ('imna', 23780), (\"coworker's\", 23781), ('spontaneity', 23782), ('corby', 23783), ('gle', 23784), ('wilampgrace', 23785), ('scrambled', 23786), ('fartingloud', 23787), ('hungray', 23788), ('kiteh', 23789), ('eczema', 23790), ('simonidol', 23791), ('21life', 23792), ('metabolism', 23793), ('yolonda', 23794), ('quotwolverinequot', 23795), ('25man', 23796), ('ulduar', 23797), ('yesyesyes', 23798), ('unfort', 23799), ('zipys', 23800), ('bluedart', 23801), ('deliverquot', 23802), ('databases', 23803), ('carnivore', 23804), ('dbuc', 23805), ('piercing', 23806), ('polyvore', 23807), ('dirtines', 23808), ('why', 23809), ('embarisong', 23810), ('picturesnof', 23811), ('nira', 23812), ('quotyayquot', 23813), ('homebuilder', 23814), ('mcstain', 23815), ('louisvile', 23816), ('flue', 23817), ('dreamy', 23818), ('harymcflytosing', 23819), ('inorite', 23820), ('hiking', 23821), ('utorent', 23822), (\"mikey's\", 23823), ('skrg', 23824), ('sempit', 23825), ('coldflu', 23826), ('transaction', 23827), ('365', 23828), ('prefinal', 23829), ('kbangun', 23830), ('gara', 23831), ('mimpi', 23832), (\"mcd's\", 23833), ('benji', 23834), ('gyah', 23835), ('babyclient', 23836), ('hurtle', 23837), ('headlong', 23838), ('fres', 23839), ('yeaterday', 23840), ('itleson', 23841), ('exhausting', 23842), ('peruvian', 23843), ('init', 23844), ('hugers', 23845), ('forexforums', 23846), ('partnership', 23847), ('lsats', 23848), ('quotsomebody', 23849), ('kaleidoscope', 23850), ('knowing', 23851), ('alegre', 23852), ('rey', 23853), ('mysterio', 23854), ('pleaser', 23855), ('gente', 23856), ('trivun', 23857), ('drems', 23858), ('lokse', 23859), ('wearther', 23860), ('normail', 23861), ('whisker', 23862), ('chuby', 23863), ('riah', 23864), ('aprendi', 23865), ('usar', 23866), ('acho', 23867), ('bjus', 23868), ('robikinesque', 23869), ('afence', 23870), ('nandito', 23871), ('playdoh', 23872), ('tastykake', 23873), ('gabie', 23874), ('dobro', 23875), ('81st', 23876), ('preshowquot', 23877), ('trois', 23878), ('saythink', 23879), ('quotracism', 23880), ('anymorequot', 23881), ('voe', 23882), ('brah', 23883), ('krautrock', 23884), ('berto', 23885), ('hue', 23886), ('boredtried', 23887), ('nub', 23888), ('mood', 23889), ('tixs', 23890), ('josey', 23891), ('gerard', 23892), ('pirouete', 23893), ('bruder', 23894), ('pwg', 23895), ('botch', 23896), ('hybrid', 23897), ('xl', 23898), ('reboted', 23899), ('sankq', 23900), ('rib', 23901), ('canae', 23902), ('livi', 23903), ('bender', 23904), ('boming', 23905), ('dubo', 23906), ('rsl', 23907), ('suporter', 23908), ('arou', 23909), ('m0ther', 23910), ('rhix', 23911), ('vend', 23912), ('maching', 23913), ('barels', 23914), ('barel', 23915), ('digestion', 23916), ('giveitonuptojustinvile', 23917), ('heler', 23918), ('tricina', 23919), ('bombed', 23920), ('trackflashback', 23921), ('inconvenient', 23922), ('iloked', 23923), ('titi', 23924), ('sankar', 23925), ('biker', 23926), ('mob', 23927), ('showstoping', 23928), ('dodie', 23929), ('sylvester', 23930), ('requester', 23931), ('nagios', 23932), ('configuration', 23933), ('tongits', 23934), ('competetion', 23935), ('iemoticons', 23936), ('0,79', 23937), ('nup', 23938), ('twoloers', 23939), ('candlelight', 23940), ('peaceout', 23941), ('greycold', 23942), ('ofc', 23943), ('aficionado', 23944), ('macvim', 23945), ('babysiterdirectory', 23946), ('reveal', 23947), ('bandung', 23948), ('baltimoredc', 23949), ('suburbs', 23950), ('greta', 23951), (\"jehovah's\", 23952), ('aldi', 23953), ('fwd', 23954), ('rubys', 23955), ('alzheimer', 23956), ('pu', 23957), ('0n', 23958), ('m3', 23959), ('dgre', 23960), ('ensconce', 23961), ('juhs', 23962), ('kwl', 23963), ('hana', 23964), ('quotsmal', 23965), ('fefe', 23966), ('colister', 23967), ('sculpt', 23968), ('dongle', 23969), ('techy', 23970), (\"network's\", 23971), ('cockermouth', 23972), ('qik', 23973), ('newsrom', 23974), (\"bele's\", 23975), ('tanya', 23976), (\"mike's\", 23977), ('95sx', 23978), ('comipsohot', 23979), ('kthxbai', 23980), ('blackstone', 23981), ('sauted', 23982), ('cystic', 23983), ('fibrosis', 23984), ('twang', 23985), ('photopas', 23986), ('ppl', 23987), ('insulin', 23988), ('helpin', 23989), ('postin', 23990), ('wmiad', 23991), ('intention', 23992), ('fau', 23993), ('stet', 23994), ('slowmotion', 23995), ('ugo', 23996), ('quotinstal', 23997), ('windowsquot', 23998), ('theyu', 23999), ('motherfucking', 24000), ('technolust', 24001), ('tdl', 24002), ('spliting', 24003), ('kitkat', 24004), ('surpisingly', 24005), ('puledrot', 24006), ('wasam', 24007), ('twidget', 24008), ('suitable', 24009), ('continuo', 24010), ('tentando', 24011), ('trocar', 24012), ('zoita', 24013), ('holeintheheart', 24014), ('oprahs', 24015), ('unfried', 24016), ('pope', 24017), ('murdere', 24018), ('acidently', 24019), ('fuckn', 24020), ('painkilers', 24021), ('readysetgo', 24022), ('7827', 24023), ('clearwater', 24024), (\"twetie's\", 24025), ('calibre', 24026), ('phi', 24027), ('formal', 24028), ('springwatch', 24029), ('mended', 24030), ('discog', 24031), ('disbanding', 24032), ('quothelpquot', 24033), ('itz', 24034), ('typhon', 24035), ('okinawa', 24036), ('bawling', 24037), ('pearcy', 24038), ('dunde', 24039), ('refulx', 24040), ('upprobably', 24041), ('rebelion', 24042), ('gaeta', 24043), ('merm', 24044), ('hami', 24045), ('delayscancelations', 24046), ('scanton', 24047), ('cartilage', 24048), ('cracking', 24049), ('nightz', 24050), ('pns', 24051), ('quotpeter', 24052), ('breakfst', 24053), ('fjdskal', 24054), ('catvampes', 24055), ('pes', 24056), ('mandya', 24057), ('opengl', 24058), ('macro', 24059), (\"tila's\", 24060), ('vidoe', 24061), ('recieved', 24062), ('ens', 24063), ('rar', 24064), ('gelopen', 24065), ('horiterible', 24066), ('thatv', 24067), ('mealtime', 24068), ('sheba', 24069), ('friench', 24070), ('mqm', 24071), ('altaf', 24072), ('unveil', 24073), ('karachi', 24074), ('facebokov', 24075), ('aplikace', 24076), ('hovno', 24077), ('overloked', 24078), ('loldog', 24079), ('germane', 24080), ('spaceship', 24081), ('peirced', 24082), ('peircing', 24083), ('hej', 24084), ('malena', 24085), ('lycka', 24086), ('petite', 24087), ('puce', 24088), ('adica', 24089), ('puricel', 24090), ('franceza', 24091), ('maitu', 24092), ('sabido', 24093), ('i95', 24094), ('sr', 24095), ('234', 24096), ('abiding', 24097), ('asisting', 24098), ('figuratively', 24099), ('rhianon', 24100), ('myspacing', 24101), ('bulshiting', 24102), ('rah', 24103), ('skyscraper', 24104), ('rehealy', 24105), ('shorter', 24106), ('buckonelen', 24107), ('textile', 24108), ('epoxy', 24109), ('donathan', 24110), ('danathan', 24111), ('carwarmed', 24112), ('spaceports', 24113), ('taby', 24114), ('diabetes', 24115), ('upland', 24116), ('thorny', 24117), ('dur', 24118), ('prends', 24119), ('cokeu', 24120), ('ridance', 24121), ('quotthanks', 24122), ('emailquot', 24123), ('7pmalmost', 24124), ('delted', 24125), ('atach', 24126), ('mamary', 24127), ('nirvana', 24128), ('munderday', 24129), ('lan', 24130), ('raha', 24131), ('abhi', 24132), ('unfuzy', 24133), ('fuzy', 24134), ('tv21', 24135), ('beroca', 24136), ('nonmomies', 24137), ('juneoct', 24138), ('halve', 24139), ('peaky', 24140), ('grip', 24141), ('quotshowstopersquot', 24142), ('sash', 24143), (\"theory's\", 24144), ('brokey', 24145), ('stastics', 24146), ('padestrian', 24147), ('skanking', 24148), ('sharkez', 24149), ('wachting', 24150), ('aerolas', 24151), ('tryst', 24152), ('beatrice', 24153), (\"nom's\", 24154), ('altanta', 24155), ('geta', 24156), ('nosebled', 24157), ('lyn', 24158), ('viehl', 24159), ('tripoly', 24160), ('shoescirca', 24161), ('20min', 24162), ('eleminis', 24163), ('forreal', 24164), ('hugsbut', 24165), ('hawain', 24166), ('unix', 24167), (\"dev's\", 24168), ('spamspamspam', 24169), ('keiths', 24170), ('chrystina', 24171), ('wr0te', 24172), ('njoying', 24173), ('palmade', 24174), (\"adit'l\", 24175), ('2x', 24176), ('lester', 24177), ('outs', 24178), ('godwil', 24179), ('sisa', 24180), ('waitn', 24181), ('giv', 24182), ('rapn', 24183), ('wokie', 24184), ('household', 24185), ('nemesis', 24186), ('dusk', 24187), ('iono', 24188), ('l8r', 24189), ('packaging', 24190), ('sushine', 24191), ('cask', 24192), ('thanxs', 24193), ('stereos', 24194), ('bestfriends', 24195), ('mitchels', 24196), ('platium', 24197), ('peoplewithgodtasteinmusic', 24198), ('slepfail', 24199), ('78', 24200), ('dampdfail', 24201), ('gourmet', 24202), ('barbacoa', 24203), ('torch', 24204), ('myth', 24205), ('mspacers', 24206), ('236am', 24207), ('decor', 24208), ('mandarinmonday', 24209), ('rmbr', 24210), ('torned', 24211), ('sentosa', 24212), ('factsquot', 24213), ('rapidshare', 24214), ('10gb', 24215), ('quotturning', 24216), ('albuquerquequot', 24217), ('hilcats', 24218), ('detector', 24219), ('brickmans', 24220), ('icing', 24221), ('bandage', 24222), ('cotys', 24223), ('cici', 24224), ('iphonedev', 24225), ('halp', 24226), ('inconsiderate', 24227), ('macdonalds', 24228), ('downhil', 24229), ('mildura', 24230), ('quotwrongquot', 24231), ('blahing', 24232), ('alexia', 24233), ('miri', 24234), ('porno', 24235), ('jitsu', 24236), ('brokenquot', 24237), ('persian', 24238), ('fenway', 24239), ('gitwar', 24240), ('fritz', 24241), ('roderick', 24242), ('von', 24243), ('intersting', 24244), ('dx', 24245), ('quotstoping', 24246), ('luved', 24247), ('leaked', 24248), ('housesound', 24249), (\"ralphie's\", 24250), ('kiskis', 24251), ('moching', 24252), ('endodontist', 24253), ('ceramic', 24254), ('shater', 24255), ('fixquot', 24256), ('lisete', 24257), ('dvdr', 24258), ('iso', 24259), ('lightscribe', 24260), ('dicsc', 24261), (\"alix's\", 24262), ('dug', 24263), ('scamer', 24264), ('cosmo', 24265), ('kamikaze', 24266), (\"vivian's\", 24267), ('robertson', 24268), (\"mercedez's\", 24269), (\"zul'jin\", 24270), ('guadeloupe', 24271), ('lionel', 24272), ('ul', 24273), ('taekwando', 24274), ('staring', 24275), ('neika', 24276), ('laceykevin', 24277), ('devinegrace', 24278), ('omds', 24279), ('025manualblink182', 24280), ('quotbeautifulquot', 24281), ('harasment', 24282), ('vidphoto', 24283), ('tryouts', 24284), ('coworkerfriend', 24285), ('jimay', 24286), ('trib', 24287), ('portia', 24288), ('germaphobenes', 24289), ('significantly', 24290), ('mhs', 24291), ('nesquick', 24292), ('irate', 24293), ('calers', 24294), ('mifed', 24295), (\"soul's\", 24296), ('quotstakes', 24297), ('highquot', 24298), ('itunesamazon', 24299), ('concerned', 24300), (\"obama's\", 24301), ('norra', 24302), ('soichi', 24303), (\"negishi's\", 24304), ('amai', 24305), ('koibito', 24306), (\"ladie's\", 24307), ('starsailor', 24308), ('buch', 24309), ('workdetails', 24310), (\"demi's\", 24311), ('mcdo', 24312), ('bue', 24313), ('againlt', 24314), ('brumie', 24315), ('maths', 24316), ('tampc', 24317), ('tahong', 24318), ('listenersltlt', 24319), ('glacier', 24320), ('undervote', 24321), ('overaled', 24322), ('227', 24323), ('metin', 24324), ('twishers', 24325), ('namerebeca', 24326), ('vincent', 24327), ('enfest', 24328), ('sph', 24329), ('1k', 24330), ('gastos', 24331), ('namen', 24332), ('eweryone', 24333), ('podcasting', 24334), ('bittech', 24335), ('jonathon', 24336), ('alyn', 24337), ('deplyod', 24338), ('falougairaq', 24339), ('nwek', 24340), ('remark', 24341), ('nzquot', 24342), ('ovber', 24343), (\"hungoverdon't\", 24344), ('dontlike', 24345), ('scholday', 24346), ('tuition', 24347), ('newsreader', 24348), (\"pm'ing\", 24349), ('p2', 24350), ('p3', 24351), ('exile', 24352), ('alttabing', 24353), ('clamp', 24354), ('keiron', 24355), ('techmeme', 24356), ('erbody', 24357), ('batled', 24358), ('cs3', 24359), ('nambu', 24360), ('unintuitive', 24361), ('xhausted', 24362), ('dinwhata', 24363), ('finden', 24364), ('hea', 24365), ('vom', 24366), ('tailquot', 24367), ('helish', 24368), ('raven', 24369), ('rioamp', 24370), ('thor', 24371), ('wonderfur', 24372), ('kitykises', 24373), ('2w2v', 24374), ('adidas', 24375), ('denyer', 24376), ('xoxoxoxoxoxo', 24377), ('acelerated', 24378), ('atom', 24379), ('fulscren', 24380), ('plex', 24381), ('sapin', 24382), ('sentry', 24383), (\"selena's\", 24384), ('ideapad', 24385), ('s12', 24386), ('fn', 24387), ('nonstarter', 24388), ('westcot', 24389), ('apolo', 24390), ('unseded', 24391), ('qualifier', 24392), ('revlon', 24393), ('lond', 24394), (\"fhnixon's\", 24395), ('versioning', 24396), ('railsgit', 24397), ('guniea', 24398), ('jeuno', 24399), ('himalayan', 24400), ('introductory', 24401), ('9p', 24402), ('quotbrides', 24403), ('modequot', 24404), ('peopleagencies', 24405), ('maternalhealth', 24406), ('1424', 24407), ('7020', 24408), ('20f2', 24409), ('5085', 24410), ('tweding', 24411), ('underthesink', 24412), ('monetize', 24413), ('diferentiated', 24414), ('paynopay', 24415), ('robina', 24416), ('armyprovided', 24417), ('paloma', 24418), ('blanca', 24419), ('shina', 24420), ('gigi', 24421), ('moviez', 24422), ('sais', 24423), ('excist', 24424), ('sadens', 24425), (\"k's\", 24426), ('aptism', 24427), ('holydays', 24428), ('asembling', 24429), ('unsociable', 24430), ('distort', 24431), ('bagy', 24432), ('wedgie', 24433), ('siargao', 24434), ('nlng', 24435), ('pla', 24436), ('webdesign', 24437), ('yasemin', 24438), ('sehr', 24439), ('kapowski', 24440), ('caveat', 24441), ('diferences', 24442), ('b3', 24443), ('718', 24444), ('4879', 24445), ('eurjpy', 24446), ('execute', 24447), (\"kg's\", 24448), ('pung', 24449), ('rafles', 24450), ('dulce', 24451), ('pocketsquare', 24452), ('malorca', 24453), ('kairos', 24454), ('vegi', 24455), (\"hut's\", 24456), ('crunchy', 24457), ('206amp207', 24458), ('2stop', 24459), ('headles', 24460), ('2field', 24461), ('simcity', 24462), (\"hawk's\", 24463), ('colage', 24464), ('feminism', 24465), ('hardknock', 24466), ('shotout', 24467), ('weken', 24468), ('aki', 24469), ('webmail', 24470), ('otrip', 24471), ('timezone', 24472), ('thereby', 24473), ('sunthings', 24474), ('sicktomystomach', 24475), ('regretin', 24476), ('grayish', 24477), ('sistas', 24478), ('khaki', 24479), ('tedious', 24480), ('hedro', 24481), ('gimi', 24482), ('wehey', 24483), ('midi', 24484), ('recyle', 24485), ('baju', 24486), ('sklh', 24487), ('thn', 24488), ('schl', 24489), ('amusing', 24490), ('tension', 24491), ('groundbreaking', 24492), ('uft', 24493), ('eighth', 24494), ('overrate', 24495), ('fcs', 24496), ('skyguard', 24497), ('tabard', 24498), ('sist', 24499), ('webshots', 24500), ('mannes', 24501), ('weho', 24502), ('2020', 24503), ('hiting', 24504), ('pilage', 24505), ('lifecam', 24506), ('vx30', 24507), ('imovies', 24508), ('dvds', 24509), ('deana', 24510), ('emailing', 24511), ('delcia', 24512), ('ju', 24513), ('harmles', 24514), ('celo', 24515), ('yl', 24516), ('stocking', 24517), ('bankholiday', 24518), ('cracked', 24519), ('mushies', 24520), ('dinero', 24521), ('stef', 24522), ('mazembe', 24523), ('relaxer', 24524), ('60mins', 24525), ('nobigdeal', 24526), ('280lbs', 24527), ('newo', 24528), ('workouts', 24529), ('yog', 24530), ('inflamed', 24531), ('thanksstil', 24532), ('rolups', 24533), ('4yearold', 24534), ('hahahahahahah', 24535), ('efective', 24536), ('hb', 24537), ('snsd', 24538), ('cornynes', 24539), ('madeleines', 24540), ('quotviewers', 24541), ('profiel', 24542), ('jole', 24543), ('erwin', 24544), ('itching', 24545), ('exhibit', 24546), ('grueling', 24547), (\"gordo's\", 24548), ('comunicating', 24549), ('bif', 24550), ('buliding', 24551), ('lh', 24552), ('fop', 24553), ('wbae', 24554), ('myka', 24555), ('stepbystep', 24556), ('depechemode', 24557), ('gahan', 24558), ('afect', 24559), ('bario', 24560), ('cmyk', 24561), ('abreviation', 24562), ('wacko', 24563), ('cdn', 24564), ('geoip', 24565), ('medle', 24566), ('fulon', 24567), ('cankle', 24568), ('lilash', 24569), ('dealz', 24570), ('malfunction', 24571), ('breky', 24572), ('shepard', 24573), ('quotpaintingquot', 24574), (\"evan's\", 24575), ('tosing', 24576), (\"eye's\", 24577), ('harajuku', 24578), ('delonge', 24579), ('atlanits', 24580), ('wnat', 24581), ('2026', 24582), ('2164', 24583), ('6790', 24584), ('9128', 24585), ('persuade', 24586), ('dwts', 24587), ('whre', 24588), ('tipers', 24589), ('holmbury', 24590), ('warmer', 24591), ('chilines', 24592), ('vu', 24593), ('analogy', 24594), ('creche', 24595), ('nikie', 24596), ('payne', 24597), ('tens', 24598), ('finishin', 24599), ('grats', 24600), ('trashy', 24601), ('sensationalist', 24602), ('toter', 24603), ('tlet', 24604), ('neighting', 24605), ('backround', 24606), ('whuahahaha', 24607), ('bram', 24608), ('ladagesaplejackspancakes', 24609), ('jacuzi', 24610), ('cpk', 24611), ('honeycomb', 24612), ('knockof', 24613), ('128', 24614), ('jalapeno', 24615), ('chaparos', 24616), ('umped', 24617), (\"club's\", 24618), ('owm', 24619), ('tryinh', 24620), ('siew', 24621), ('nonexistent', 24622), ('sosososo', 24623), ('eastbay', 24624), ('quible', 24625), ('stoped', 24626), ('briane', 24627), ('hurtful', 24628), ('cherio', 24629), ('drasda', 24630), ('bordom', 24631), ('desperation', 24632), ('kristi', 24633), ('stabilo', 24634), ('remould', 24635), ('reform', 24636), ('instals', 24637), ('gc', 24638), ('screaming', 24639), ('quotwho', 24640), ('infomercial', 24641), ('kenduri', 24642), ('twitpeps', 24643), (\"gaga's\", 24644), ('quotpaparaziquot', 24645), ('whatshapening', 24646), ('murderin', 24647), ('ntah', 24648), ('strugled', 24649), (\"krypton's\", 24650), ('chalk', 24651), ('dokay', 24652), ('superstition', 24653), ('servicesquot', 24654), ('nerdfriends', 24655), ('calpol', 24656), ('oaf', 24657), ('sctrahc', 24658), ('4hour', 24659), ('thinkhope', 24660), ('lovebug', 24661), ('biding', 24662), ('nicklaus', 24663), ('discret', 24664), ('castro', 24665), ('unatractive', 24666), ('cabana', 24667), ('rele', 24668), ('lfpa', 24669), ('uninhabital', 24670), ('swept', 24671), ('128,60', 24672), ('toples', 24673), ('charice', 24674), ('forbid', 24675), ('blogspot', 24676), ('geocaching', 24677), ('harmon', 24678), ('ucky', 24679), ('defense', 24680), ('cohen', 24681), ('xfactor', 24682), ('keswick', 24683), ('myonlysanction', 24684), ('197', 24685), ('3,50', 24686), ('jba', 24687), ('sequence', 24688), ('outgo', 24689), ('adsl', 24690), ('yit', 24691), ('angsty', 24692), ('pegel', 24693), ('keliling', 24694), ('kuil', 24695), ('neighboures', 24696), ('bureaucracy', 24697), ('ahwel', 24698), ('sels', 24699), ('usher', 24700), ('khy', 24701), ('yearling', 24702), ('hypertrophy', 24703), ('vineri', 24704), ('nimic', 24705), ('probabil', 24706), ('pierdut', 24707), ('carbonara', 24708), ('2923848932', 24709), ('paramorequot', 24710), ('wickedquot', 24711), ('flyleaf', 24712), ('recorded', 24713), ('dofus', 24714), ('fack', 24715), ('seriouse', 24716), ('opendns', 24717), (\"comcast's\", 24718), ('12k', 24719), ('pyr', 24720), ('dorknobs', 24721), ('slamer', 24722), ('badas', 24723), (\"mil's\", 24724), ('voracious', 24725), ('stuble', 24726), ('quotcasualquot', 24727), ('reckoner', 24728), ('rumored', 24729), ('hydra', 24730), ('inertial', 24731), ('inocently', 24732), ('deleted', 24733), ('tariq', 24734), ('relevent', 24735), ('preocupied', 24736), ('batcave', 24737), (\"pearlyn's\", 24738), (\"gran's\", 24739), ('svc', 24740), ('loch', 24741), ('lomond', 24742), ('readmit', 24743), ('threnight', 24744), ('forsake', 24745), ('uzbekistan', 24746), ('underated', 24747), ('glopy', 24748), ('omgnes', 24749), ('118', 24750), ('beup', 24751), ('hindustan', 24752), ('dunia', 24753), ('asay', 24754), ('nehi', 24755), ('milegi', 24756), ('disturbance', 24757), ('grener', 24758), ('sidequot', 24759), ('alongside', 24760), ('overconfident', 24761), ('catholic', 24762), ('quotsame', 24763), ('herequot', 24764), ('ambiguous', 24765), ('tgc', 24766), ('quotmystery', 24767), ('30quot', 24768), ('confit', 24769), ('laryonation', 24770), ('memo', 24771), ('quotfightstar', 24772), ('sumerquot', 24773), ('fremusic', 24774), ('wrestle', 24775), ('lieu', 24776), ('lockbox', 24777), ('snowbear', 24778), ('che', 24779), ('easports', 24780), ('morimoto', 24781), ('optician', 24782), ('jagex', 24783), ('amarula', 24784), ('ahugs', 24785), ('neti', 24786), ('skid', 24787), ('mixer', 24788), ('glasez', 24789), ('pokemons', 24790), ('rorschach', 24791), ('agoraphobics', 24792), ('asesment', 24793), ('mostley', 24794), ('tance', 24795), (\"vapid's\", 24796), ('releasd', 24797), ('244', 24798), ('prbly', 24799), ('pickin', 24800), ('cranberies', 24801), ('itexa', 24802), ('escapism', 24803), ('nonfiction', 24804), ('tesy', 24805), ('chocolateflavoured', 24806), ('aplicator', 24807), ('tps', 24808), ('quotboyquot', 24809), ('dragonbal', 24810), ('tty', 24811), ('3mb', 24812), ('quothabitquot', 24813), ('cz', 24814), ('repops', 24815), ('ike', 24816), ('outy', 24817), ('rescuer', 24818), ('dru', 24819), (\"d's\", 24820), ('lunchtime', 24821), ('adled', 24822), ('western', 24823), ('1tb', 24824), ('sata', 24825), ('ncq', 24826), ('32mb', 24827), (\"up's\", 24828), ('canondale', 24829), ('specialize', 24830), ('cervelo', 24831), ('jaged', 24832), ('andi', 24833), ('yh', 24834), (\"know'haha'x\", 24835), ('unshaven', 24836), (\"richard's\", 24837), ('youwe', 24838), ('exploit', 24839), ('ickle', 24840), ('validation', 24841), ('acountant', 24842), ('midleschol', 24843), ('25kyr', 24844), ('amateur', 24845), ('ark', 24846), ('builder', 24847), ('afiliation', 24848), (\"it'sm\", 24849), ('keiligirl', 24850), ('254', 24851), ('sunrash', 24852), ('geje', 24853), ('ie8', 24854), ('amazes', 24855), ('xmenwolverine', 24856), ('4ish', 24857), ('cruches', 24858), (\"casey's\", 24859), ('pidled', 24860), ('parsley', 24861), ('nutmeg', 24862), ('kickit', 24863), ('wrng', 24864), ('ocla', 24865), ('yogawork', 24866), ('7bels', 24867), ('eoi', 24868), ('twiterparty', 24869), ('stephanie', 24870), ('montmel', 24871), ('iloveyoutwo', 24872), ('admiting', 24873), (\"dog's\", 24874), ('lonie', 24875), ('jglam', 24876), ('afterjune', 24877), ('arghguish', 24878), ('asignement', 24879), ('burma', 24880), ('frapachinos', 24881), ('pcvs', 24882), (\"vado's\", 24883), ('hilson', 24884), ('droper', 24885), ('mcfox', 24886), ('rolin', 24887), ('fume', 24888), ('x10', 24889), ('afraidiowe', 24890), ('nesie', 24891), (\"heder's\", 24892), ('flasher', 24893), ('gazilion', 24894), ('cyber', 24895), ('funest', 24896), ('righ', 24897), ('moab', 24898), ('cokers', 24899), ('streams', 24900), ('vita', 24901), ('coaster', 24902), ('1975', 24903), ('14,950', 24904), ('evrytime', 24905), ('mojojojo', 24906), (\"dexter's\", 24907), ('inc', 24908), ('skomer', 24909), (\"fuckin'm\", 24910), ('transtelecom', 24911), ('shah', 24912), ('rukh', 24913), ('khan', 24914), ('lilime', 24915), ('finsh', 24916), ('alowd', 24917), ('computerguest', 24918), (\"rom's\", 24919), ('iusedtobescaredof', 24920), ('ger', 24921), ('shindig', 24922), ('twiterloves', 24923), (\"lover's\", 24924), ('toke', 24925), ('kinf', 24926), ('wayit', 24927), ('laydown', 24928), ('stirfry', 24929), ('aiah', 24930), ('princecharming', 24931), ('musichabits', 24932), ('repect', 24933), ('wampg', 24934), ('linky', 24935), ('destres', 24936), ('avian', 24937), ('sorbet', 24938), ('trapeze', 24939), ('2orw', 24940), ('dc101', 24941), ('individualy', 24942), ('loafing', 24943), ('dentention', 24944), ('jude', 24945), ('jer', 24946), ('strudel', 24947), ('runt', 24948), ('doby', 24949), ('jukebox', 24950), ('concretize', 24951), ('tropers', 24952), ('ststas', 24953), ('recieving', 24954), ('17709', 24955), ('questionsamprevision', 24956), ('litlest', 24957), ('tsutsu', 24958), ('pancras', 24959), ('panicky', 24960), ('jeopardy', 24961), ('lama', 24962), ('chidlom', 24963), ('siam', 24964), ('rene', 24965), ('psycho', 24966), ('2nte', 24967), ('quothairsprayquot', 24968), ('tecas', 24969), ('hoter', 24970), ('scarededededed', 24971), ('recoverable', 24972), ('roidwek', 24973), ('mandingo', 24974), ('backorder', 24975), ('priecing', 24976), ('roflmfao', 24977), (\"swimer's\", 24978), ('upwads', 24979), (\"mariquen's\", 24980), (\"bob's\", 24981), ('jain', 24982), ('symbolism', 24983), ('jumprightintothe', 24984), ('pigtail', 24985), ('vibes', 24986), ('undeniable', 24987), ('srtarting', 24988), ('adiel', 24989), ('saby', 24990), ('firth', 24991), ('quotwholey', 24992), ('evolutionquot', 24993), ('quotwholely', 24994), ('materquot', 24995), ('wendyhouse', 24996), ('mascara', 24997), ('xuxu', 24998), ('anurag', 24999), ('somerset', 25000), ('kimba', 25001), ('diaries', 25002), ('sars', 25003), ('jarita', 25004), ('noo', 25005), ('wary', 25006), ('marshmalows', 25007), ('sumbody', 25008), ('grama', 25009), ('junky', 25010), ('whcd', 25011), ('yogsaron', 25012), ('bensons', 25013), (\"death's\", 25014), ('croquetes', 25015), ('haciendo', 25016), ('primer', 25017), ('safesex', 25018), ('aargh', 25019), ('gauze', 25020), ('cheaptwet', 25021), ('aserej', 25022), ('deje', 25023), ('dejebe', 25024), ('tudejebe', 25025), ('sebiunouva', 25026), ('majabi', 25027), ('bugui', 25028), ('buididip', 25029), ('comedown', 25030), ('spasy', 25031), ('lovage', 25032), ('wilshire', 25033), ('leavn', 25034), ('uniten', 25035), ('aeropuerto', 25036), ('diva', 25037), ('lightsabers', 25038), ('byron', 25039), ('aeroplane', 25040), ('wkp', 25041), ('togethers', 25042), ('converter', 25043), ('wintour', 25044), ('raning', 25045), ('terminate', 25046), ('hayesharlington', 25047), ('lamentablemente', 25048), ('jrztwiterlunch', 25049), ('ejaming', 25050), ('fmla', 25051), ('tbal', 25052), ('handheld', 25053), ('bwahahahaha', 25054), (\"noone's\", 25055), ('obly', 25056), ('aumf', 25057), ('datin', 25058), ('blinkwezer', 25059), ('carls', 25060), ('iloveyouto', 25061), ('silynes', 25062), ('hotdoging', 25063), ('waterguns', 25064), ('recolecting', 25065), ('unkown', 25066), ('bbal', 25067), ('shoter', 25068), ('existes', 25069), ('blanco', 25070), ('rican', 25071), ('ferber', 25072), ('rohan', 25073), ('godbad', 25074), ('loungey', 25075), ('braunig', 25076), ('cleanout', 25077), ('bokshelf', 25078), ('tetotal', 25079), ('4n', 25080), ('rog', 25081), ('esti', 25082), ('acum', 25083), ('mimiz', 25084), ('ferns', 25085), ('petal', 25086), ('fnp', 25087), ('dcd', 25088), ('belief', 25089), ('sederhana', 25090), ('oat', 25091), ('grigio', 25092), (\"austen's\", 25093), ('northanger', 25094), ('angeles', 25095), ('rafi', 25096), ('shami', 25097), ('kapor', 25098), ('jerm', 25099), ('psyilium', 25100), ('husk', 25101), ('gogow', 25102), ('mozconcept', 25103), ('stalin', 25104), ('plagiarism', 25105), ('thegtgt', 25106), ('momasltlt', 25107), ('unzela', 25108), ('hashim', 25109), ('dosnt', 25110), ('citebusines', 25111), ('defited', 25112), ('cornwal', 25113), (\"auntie's\", 25114), ('jb3d', 25115), ('jleno', 25116), ('res', 25117), ('screamo', 25118), (\"kids'l\", 25119), ('edged', 25120), (\"audun's\", 25121), ('twiterize', 25122), ('rim', 25123), ('mkt', 25124), ('teshirt', 25125), ('leacing', 25126), ('decompresion', 25127), ('rigid', 25128), (\"muthath's\", 25129), ('gento', 25130), ('reinstalation', 25131), ('keycard', 25132), ('takeout', 25133), ('dah', 25134), ('potluck', 25135), ('sountrack', 25136), ('juno', 25137), ('deixa', 25138), ('selfvalidation', 25139), ('theological', 25140), ('psychological', 25141), ('sociological', 25142), ('lpi', 25143), ('hahahahahahahahahahahaha', 25144), ('heyheyhey', 25145), ('watcha', 25146), ('gery', 25147), ('contails', 25148), ('mack', 25149), ('visteon', 25150), ('synthetic', 25151), ('sustitute', 25152), ('penguins', 25153), ('dil', 25154), ('lt3linman', 25155), (\"walkeron'er\", 25156), ('sixflags', 25157), ('autoresolve', 25158), ('gektech', 25159), ('realign', 25160), ('sensitivity', 25161), ('cors', 25162), ('easier', 25163), ('didy', 25164), ('wiflebal', 25165), ('16hour', 25166), ('reboks', 25167), ('parenthod', 25168), ('bubletwet', 25169), ('pretending', 25170), ('evr', 25171), ('brngs', 25172), ('starbux', 25173), ('corieography', 25174), ('limbo', 25175), ('upssucks', 25176), ('quottwilightquot', 25177), ('modcloth', 25178), ('betch', 25179), ('alyso', 25180), ('stoner', 25181), ('benton', 25182), ('mesae', 25183), ('dba', 25184), ('nag', 25185), ('1824', 25186), ('musicboat', 25187), ('residential', 25188), ('comitment', 25189), ('meka', 25190), ('quotdude', 25191), ('pq', 25192), ('vc', 25193), ('pediu', 25194), ('6hrs', 25195), ('strung', 25196), ('15gb', 25197), ('avaialble', 25198), ('gory', 25199), ('ahw', 25200), ('quoturgentquot', 25201), (\"im's\", 25202), ('heartedly', 25203), ('departure', 25204), ('pretender', 25205), ('smarter', 25206), ('clasier', 25207), ('sthlm', 25208), ('oks', 25209), ('n0b', 25210), ('garde', 25211), ('vimto', 25212), ('droplet', 25213), ('gilian', 25214), ('sc2', 25215), ('d3', 25216), ('dhq', 25217), ('jobe', 25218), ('switchfot', 25219), ('hsg', 25220), ('flapataco', 25221), ('dueter', 25222), ('ahahahahahahahahah', 25223), (\"b'ham\", 25224), ('warmly', 25225), ('fij', 25226), ('aobut', 25227), ('firstquot', 25228), ('conoly', 25229), ('kari', 25230), ('cayman', 25231), ('iloveyoult', 25232), ('dodles', 25233), ('scholquot', 25234), ('quotupdating', 25235), ('dependenciesquot', 25236), ('quotlegalyquot', 25237), ('litelist', 25238), ('altos', 25239), ('masculine', 25240), ('snowdon', 25241), ('rstats', 25242), ('thematic', 25243), ('enthusiam', 25244), (\"stephani's\", 25245), ('vacavile', 25246), ('yaris', 25247), ('70mpg', 25248), (\"macri's\", 25249), ('vahedh', 25250), ('iloveyopu', 25251), ('lymz', 25252), ('tablespoting', 25253), ('gryfindor', 25254), (\"ryan's\", 25255), ('prek', 25256), ('sahm', 25257), ('ic', 25258), ('hup', 25259), ('dragonforce', 25260), ('fulfiling', 25261), ('cordial', 25262), ('apetizers', 25263), ('vivocity', 25264), ('yupz', 25265), ('airconditioned', 25266), ('blazin', 25267), ('revival', 25268), ('epitomise', 25269), ('keks', 25270), ('151', 25271), ('optimized', 25272), ('jscs', 25273), ('elena', 25274), ('eeyeatho', 25275), ('enrolment', 25276), ('sasabihin', 25277), ('siguro', 25278), ('sayo', 25279), ('andun', 25280), ('64,371', 25281), ('networkingquot', 25282), ('headeache', 25283), ('songoeswrongs', 25284), ('purdy', 25285), ('trauma', 25286), ('kya', 25287), ('goshy', 25288), ('nkairplay', 25289), ('nku', 25290), ('breakthrough', 25291), ('stuvk', 25292), ('stpid', 25293), ('cherylolita', 25294), ('stuart', 25295), ('tonorow', 25296), ('mycs', 25297), ('hacienda', 25298), ('l8a', 25299), ('arlando', 25300), (\"havn'e\", 25301), ('diver', 25302), ('3550', 25303), ('deucie', 25304), ('aasman', 25305), ('shayad', 25306), ('twete', 25307), ('kirsty', 25308), ('libray', 25309), ('existance', 25310), ('renegade', 25311), ('grenock', 25312), ('kilmacolm', 25313), ('irwin', 25314), ('slapton', 25315), ('chf', 25316), ('670', 25317), ('colombia', 25318), ('discing', 25319), ('kozie', 25320), ('conspiracy', 25321), ('ugbots', 25322), ('borgata', 25323), ('strugles', 25324), ('setles', 25325), ('quotlostquot', 25326), ('pedling', 25327), ('dunker', 25328), ('longshot', 25329), ('39th', 25330), ('pate', 25331), (\"yesterday's\", 25332), ('legarmfot', 25333), ('swist', 25334), ('suspicion', 25335), ('hackney', 25336), ('anoyin', 25337), ('dangle', 25338), ('midyr', 25339), ('dubiln', 25340), ('selfportrait', 25341), ('bumper', 25342), ('trops', 25343), ('themquot', 25344), ('wityrude', 25345), ('hrlike', 25346), ('saying', 25347), ('slepytown', 25348), ('nanosecond', 25349), ('quotpopingquot', 25350), ('pedometer', 25351), ('campjiterbug', 25352), ('shem', 25353), (\"abie's\", 25354), ('peple', 25355), ('steadily', 25356), ('biglitle', 25357), ('gonequot', 25358), ('bfgurelgbsr', 25359), ('newsz', 25360), ('editeditedit', 25361), ('trimet', 25362), ('630645ish', 25363), ('homey', 25364), ('3days', 25365), ('placesquot', 25366), ('stance', 25367), ('meltingaway', 25368), ('jobfield', 25369), ('bampa', 25370), ('disdrict', 25371), ('beping', 25372), ('spen', 25373), ('funchal', 25374), ('kayle', 25375), ('alenka', 25376), ('chicky', 25377), ('itsurely', 25378), ('felton', 25379), ('louie', 25380), ('purate', 25381), ('flufodile', 25382), ('teg', 25383), ('frey', 25384), ('gender', 25385), ('bateries', 25386), ('shoutbox', 25387), ('quotshaking', 25388), ('headquot', 25389), ('homeworkquot', 25390), ('dictionary', 25391), ('quotimput', 25392), ('imput', 25393), ('sooo', 25394), ('dlc', 25395), ('maiden', 25396), ('spok', 25397), ('hamletgasm', 25398), ('sisterhod', 25399), ('thatmakes', 25400), ('trudge', 25401), ('anathem', 25402), ('pg340', 25403), ('mady', 25404), ('250g', 25405), ('rotin', 25406), ('castlttgt', 25407), ('symbol', 25408), ('topshopalso', 25409), ('burial', 25410), ('shuters', 25411), ('pah', 25412), ('powerpoints', 25413), ('saget', 25414), ('surfer', 25415), ('evidently', 25416), ('wowowe', 25417), ('peruse', 25418), ('dilfs', 25419), ('thaied', 25420), ('hearsay', 25421), ('asugar', 25422), ('btaste', 25423), (\"boti'slive\", 25424), ('hairstype', 25425), ('mishu', 25426), ('hena', 25427), ('justcause', 25428), ('profy', 25429), ('quotmedia', 25430), ('deadquot', 25431), ('layen', 25432), ('dunt', 25433), ('cluedo', 25434), ('mozy', 25435), ('laughtner', 25436), ('edaust', 25437), ('12seconds', 25438), ('fshionwk', 25439), ('zimerman', 25440), ('ilionare', 25441), ('dhini', 25442), ('soronda', 25443), ('societyloved', 25444), ('ispired', 25445), ('wors', 25446), ('wekenda', 25447), ('artomatic', 25448), ('spidey', 25449), ('toncilitus', 25450), ('jealousmuch', 25451), ('xt', 25452), ('sadie', 25453), ('wyat', 25454), ('yiha', 25455), ('1830', 25456), ('webgraphic', 25457), ('ugs', 25458), ('lemongras', 25459), ('lysol', 25460), ('misfit', 25461), ('tylenol', 25462), ('wdw', 25463), ('tuprwre', 25464), ('lid', 25465), ('ensues', 25466), ('prays', 25467), ('conector', 25468), ('rating', 25469), ('horifying', 25470), ('beachwod', 25471), ('chato', 25472), ('vicia', 25473), ('certificate', 25474), ('rakem', 25475), ('outsiden', 25476), ('sounda', 25477), ('kmrn', 25478), ('bawa', 25479), ('kosong', 25480), ('celgroup', 25481), (\"leader's\", 25482), ('trilin', 25483), ('hobnob', 25484), ('nesbit', 25485), ('oist', 25486), ('sakit', 25487), ('goingquot', 25488), ('somethign', 25489), ('stomatch', 25490), ('mineapolisst', 25491), ('pathra', 25492), ('khandvi', 25493), ('kamane', 25494), ('wate', 25495), ('mrng', 25496), ('orchid', 25497), ('sharonp', 25498), ('quotjonas', 25499), ('brotherquot', 25500), ('lokalike', 25501), ('trenchcoat', 25502), ('mufasa', 25503), ('wariors', 25504), ('musicaly', 25505), ('ybc', 25506), ('presume', 25507), ('fryefect', 25508), ('lonesome', 25509), ('comando', 25510), ('inxs', 25511), ('nep', 25512), ('naptake', 25513), ('songwriter', 25514), ('realyrealy', 25515), ('alreadt', 25516), ('650', 25517), ('idc', 25518), ('imbored', 25519), ('fuckit', 25520), ('smudge', 25521), ('malicious', 25522), ('verey', 25523), ('madry', 25524), ('chasawy', 25525), ('9j', 25526), ('409', 25527), ('soln', 25528), ('165', 25529), ('demonic', 25530), ('nontwetingirlfriend', 25531), ('zotz', 25532), ('frecycle', 25533), ('refolow', 25534), ('tswift', 25535), ('snopy', 25536), ('cousinbf', 25537), ('rogrio', 25538), ('minotouro', 25539), ('abduzedo', 25540), ('preep', 25541), (\"luigi's\", 25542), ('performanceparty', 25543), ('wlcm', 25544), ('sae', 25545), ('mindset', 25546), ('maitreya', 25547), (\"boby's\", 25548), ('knockofs', 25549), ('cheapy', 25550), ('seperation', 25551), ('confsuing', 25552), ('nathanson', 25553), ('alret', 25554), ('quotsometime', 25555), ('midnightquot', 25556), ('airborne', 25557), ('toxic', 25558), ('bwah', 25559), ('2x2924', 25560), ('1x2610', 25561), ('3x250', 25562), ('1841', 25563), ('prisnor', 25564), ('310', 25565), ('neyo', 25566), ('melrose', 25567), ('registrar', 25568), ('unfun', 25569), ('iritating', 25570), ('sixtenth', 25571), ('aspitar', 25572), ('doha', 25573), ('bonzo', 25574), ('bazilions', 25575), ('sutzkever', 25576), ('hayward', 25577), ('nikeplus', 25578), ('quotcamera', 25579), ('misog', 25580), ('gravol', 25581), ('528', 25582), ('ltor', 25583), ('quottryquot', 25584), ('bublin', 25585), ('wilow', 25586), ('tonematrix', 25587), ('diana', 25588), ('spaniel', 25589), ('waler', 25590), ('walers', 25591), ('13,527', 25592), ('burguer', 25593), ('650km', 25594), ('fonz', 25595), ('clwn', 25596), ('pkuers', 25597), ('leukemia', 25598), ('bacn', 25599), ('shortener', 25600), ('refried', 25601), ('ipswitch', 25602), ('precofe', 25603), ('sleveles', 25604), ('bsame', 25605), ('lon', 25606), ('cleand', 25607), ('sambradley', 25608), ('buties', 25609), ('protein', 25610), ('beautey', 25611), ('bastardized', 25612), ('elise', 25613), ('barakiten', 25614), ('kunal', 25615), ('khemu', 25616), ('starer', 25617), ('niche', 25618), ('zensify', 25619), ('twelo', 25620), ('fodie', 25621), ('tyranosaurus', 25622), ('displease', 25623), ('unproductive', 25624), ('daren', 25625), ('51009', 25626), (\"suhana's\", 25627), ('ocu', 25628), ('altnoy', 25629), ('headsup', 25630), ('5o', 25631), ('santino', 25632), ('thirten', 25633), ('technique', 25634), ('ketauan', 25635), ('cabut', 25636), ('sama', 25637), ('pamela', 25638), ('esque', 25639), ('amusingly', 25640), ('amisha', 25641), ('quotafterquot', 25642), ('lory', 25643), ('kosme', 25644), ('gpx', 25645), ('gmapspedometer', 25646), ('ie7', 25647), ('rica', 25648), ('ryt', 25649), ('rubiks', 25650), ('efteling', 25651), ('anwb', 25652), ('linz', 25653), ('1012', 25654), ('virginity', 25655), ('twity', 25656), ('bubletea', 25657), ('stealthy', 25658), ('retch', 25659), ('spurt', 25660), ('jfufnfwucnbqjic', 25661), ('chocies', 25662), (\"at'm\", 25663), ('rblpn', 25664), ('laughin', 25665), ('enlighten', 25666), ('bofy', 25667), ('plum', 25668), ('jaampg', 25669), ('toshers', 25670), ('wondering', 25671), ('quotfuelquot', 25672), ('ministrya', 25673), ('therm', 25674), ('pry', 25675), ('donovan', 25676), ('wolfenstein', 25677), ('stem', 25678), ('cels', 25679), ('evar', 25680), ('awnser', 25681), ('quotluv', 25682), ('yaquot', 25683), ('zuluxhosa', 25684), ('translated', 25685), ('edumedia', 25686), ('macaroni', 25687), ('shitier', 25688), ('boxy', 25689), ('quotpublic', 25690), ('menacequot', 25691), ('arnd', 25692), ('bwaha', 25693), ('oversized', 25694), ('someplease', 25695), ('warier', 25696), ('ausieland', 25697), ('bumf', 25698), ('hifi', 25699), ('cch', 25700), ('banh', 25701), ('vng', 25702), ('trong', 25703), ('3685868', 25704), ('becoz', 25705), ('nta', 25706), ('wrkouts', 25707), ('satrted', 25708), ('yardsale', 25709), ('1095', 25710), ('swensens', 25711), ('totoro', 25712), ('5296345', 25713), ('chandelier', 25714), ('untweps', 25715), ('ide', 25716), ('ngayun', 25717), ('flashing', 25718), ('disgusting', 25719), ('alaskaso', 25720), ('hoilday', 25721), ('selfimposed', 25722), ('hws', 25723), ('stripe', 25724), ('dindins', 25725), ('wingnuts', 25726), ('zapatos', 25727), ('trashcan', 25728), ('160th', 25729), ('640', 25730), ('yesty', 25731), ('tataindicom', 25732), ('tatasky', 25733), ('airtel', 25734), ('wefolow', 25735), ('maternity', 25736), ('ocasional', 25737), ('fotos', 25738), ('showr', 25739), ('hse', 25740), ('spsongs', 25741), ('curlupinabalandread', 25742), ('exbaristas', 25743), ('comonalities', 25744), ('naz', 25745), ('volvichalenge', 25746), ('selalu', 25747), ('ruang', 25748), ('sahabat', 25749), ('forebode', 25750), ('antiboyle', 25751), ('bitchface', 25752), ('pokes', 25753), ('homesan', 25754), ('halom', 25755), ('rationale', 25756), ('eyaser', 25757), ('inshalah', 25758), ('haih', 25759), ('tam', 25760), ('bo0o0o0o0oring', 25761), ('thristy', 25762), ('shreding', 25763), ('mozert', 25764), ('mononoke', 25765), ('fubumvc', 25766), ('reisling', 25767), ('superfly', 25768), ('handedly', 25769), ('hairbrush', 25770), ('countryquot', 25771), ('vic', 25772), ('spamvirus', 25773), ('threat', 25774), ('busier', 25775), ('personalize', 25776), (\"courtney's\", 25777), ('hoking', 25778), ('retort', 25779), (\"ana's\", 25780), (\"carlos's\", 25781), ('udah', 25782), ('hew', 25783), ('breastfeding', 25784), ('exhausing', 25785), ('clint', 25786), ('lambast', 25787), ('banker', 25788), ('insurer', 25789), ('gred', 25790), ('stupidity', 25791), (\"slepover's\", 25792), ('thalia', 25793), ('joewtf', 25794), ('funies', 25795), ('worldnow', 25796), ('bingley', 25797), ('practisetheproposal', 25798), ('endear', 25799), ('stupidstupid', 25800), ('relive', 25801), ('precariously', 25802), ('ricota', 25803), ('186', 25804), ('comunicate', 25805), ('cornbread', 25806), ('dodle', 25807), ('quotkidie', 25808), ('churchquot', 25809), ('topaz', 25810), ('universaly', 25811), ('quotmatquot', 25812), ('intersubjectively', 25813), ('quotgroundquot', 25814), ('quotyo', 25815), ('gaba', 25816), ('gabaquot', 25817), ('abrams', 25818), ('imnot', 25819), ('awesomeily', 25820), (\"megan's\", 25821), ('aright', 25822), ('outies', 25823), (\"famo's\", 25824), ('pughugs', 25825), ('phenomenon', 25826), ('tekenen', 25827), ('fanfic', 25828), ('emailsvoicemailsfacebok', 25829), ('yj', 25830), ('slime', 25831), ('overflow', 25832), ('photobothingisfunforbuny', 25833), ('volumen', 25834), ('eins', 25835), ('crucial', 25836), ('geodefense', 25837), ('exploration', 25838), ('vfactory', 25839), ('quotjackas', 25840), ('3quot', 25841), ('rubz', 25842), ('bigoted', 25843), ('patronise', 25844), ('imperialist', 25845), ('monoculturalist', 25846), ('selfrighteous', 25847), ('ratatat', 25848), ('katrina', 25849), ('downjust', 25850), ('chav', 25851), ('gremlin', 25852), ('gatorade', 25853), ('yumyum', 25854), ('arise', 25855), ('ladyfriend', 25856), ('swansea', 25857), ('iresponsible', 25858), ('ultimately', 25859), ('wondefl', 25860), ('michaelblesings', 25861), ('frazled', 25862), ('girlslt', 25863), ('lighthouse', 25864), ('severly', 25865), ('muchos', 25866), ('shopers', 25867), ('imigrating', 25868), ('ftr', 25869), ('quotjudicial', 25870), ('supervision', 25871), ('executive', 25872), ('comonwealth', 25873), ('caribeanquot', 25874), ('daves', 25875), ('balboa', 25876), ('awhk', 25877), ('keren', 25878), ('botanical', 25879), ('flock', 25880), ('padling', 25881), ('quoton', 25882), ('locationquot', 25883), ('citeh', 25884), ('citipointe', 25885), ('shifter', 25886), ('88', 25887), ('homeboy', 25888), ('studyhal', 25889), ('pun', 25890), ('dogone', 25891), ('ponderosa', 25892), ('talebudgera', 25893), (\"anita's\", 25894), ('profesor', 25895), ('trickery', 25896), ('exasperation', 25897), ('overactive', 25898), ('headbut', 25899), (\"tilie's\", 25900), ('txs', 25901), ('funtastic', 25902), ('umpire', 25903), ('trainging', 25904), ('tory', 25905), ('waty', 25906), ('berwick', 25907), ('halways', 25908), ('advil', 25909), ('9412', 25910), ('meg', 25911), ('ovah', 25912), ('curling', 25913), ('seria', 25914), ('leandro', 25915), ('wotwo', 25916), ('nakakahyper', 25917), ('wx', 25918), ('bwi', 25919), ('cancerfre', 25920), ('quotcrikeyquot', 25921), ('cutlet', 25922), ('150ft', 25923), (\"emc's\", 25924), ('sexiest', 25925), ('ros', 25926), (\"beman's\", 25927), (\"ya'l's\", 25928), ('comentaries', 25929), ('waterley', 25930), ('mistresing', 25931), ('chexquest', 25932), ('aide', 25933), ('cong', 25934), ('karnataka', 25935), ('cauvery', 25936), ('bilie', 25937), ('chm', 25938), ('bla', 25939), ('nifty', 25940), (\"mitchel's\", 25941), ('75th', 25942), ('lolsz', 25943), ('pasy', 25944), ('28mo', 25945), ('decisive', 25946), ('lsu', 25947), ('7spot', 25948), ('b7', 25949), ('comber', 25950), ('bashful', 25951), (\"kick's\", 25952), ('sonia', 25953), ('sheat', 25954), ('alreay', 25955), ('prez', 25956), ('kalahari', 25957), ('tesa', 25958), ('mccravy', 25959), ('weties', 25960), ('haiszt', 25961), ('philosopher', 25962), (\"ali's\", 25963), (\"devon's\", 25964), ('pram', 25965), ('wnlaws', 25966), (\"pun'k\", 25967), ('ronald', 25968), ('fandom', 25969), ('dian', 25970), ('deng', 25971), ('naina', 25972), ('amazingjust', 25973), ('shania', 25974), ('bithday', 25975), ('roni', 25976), ('ar15', 25977), ('skus', 25978), ('jaisey', 25979), ('1minute', 25980), ('ozbargain', 25981), ('optimise', 25982), ('myquothorible', 25983), ('chola', 25984), (\"quotchola's\", 25985), ('trickpieces', 25986), ('snugied', 25987), ('getonu', 25988), ('slaughter', 25989), ('teler', 25990), ('omnomlete', 25991), ('spector', 25992), (\"coulnd't\", 25993), ('landcruiser', 25994), ('196', 25995), ('clicky', 25996), ('papermate', 25997), ('toblerone', 25998), ('rita', 25999), ('chichester', 26000), ('corky', 26001), ('hcore', 26002), ('pom', 26003), ('exicted', 26004), ('onigiri', 26005), ('ofleash', 26006), ('pudle', 26007), ('nsty', 26008), ('cairn', 26009), ('clan', 26010), ('regresion', 26011), (\"purusha's\", 26012), ('androgyne', 26013), ('m12am', 26014), ('ichigo', 26015), ('pingamppoping', 26016), ('yfrog', 26017), ('inclient', 26018), ('widescren', 26019), ('balarat', 26020), ('eos', 26021), ('2k', 26022), ('f3', 26023), ('louder', 26024), ('wsmokey', 26025), ('okok', 26026), ('maxie', 26027), ('anwar', 26028), ('failblog', 26029), ('exercisebudy', 26030), ('longwekend', 26031), ('judo', 26032), ('quotretail', 26033), ('hink', 26034), ('elgin', 26035), ('withn', 26036), ('coney', 26037), ('lovley', 26038), ('kink', 26039), (\"niece's\", 26040), ('pspds', 26041), ('p250', 26042), ('woso', 26043), ('gant', 26044), ('apericiate', 26045), ('suports', 26046), ('selfawarenes', 26047), ('principle', 26048), ('mourner', 26049), ('sanity', 26050), ('partypicnic', 26051), ('canazaro', 26052), ('sulumits', 26053), ('retsambew', 26054), ('comb', 26055), ('whitehal', 26056), ('frethinking', 26057), ('moisturize', 26058), ('rephael', 26059), ('friendfed', 26060), ('facia', 26061), ('clarendon', 26062), ('blogtalk', 26063), ('99', 26064), ('freind', 26065), ('feisty', 26066), ('blagh', 26067), ('somehting', 26068), ('suk', 26069), ('bugiestrailers', 26070), ('evan', 26071), ('longoria', 26072), ('dreamgirls', 26073), ('imisu', 26074), ('lydia', 26075), ('rector', 26076), ('trix', 26077), ('acel', 26078), ('twilighters', 26079), ('psalm', 26080), ('826', 26081), ('quotpuke', 26082), ('mouthquot', 26083), ('swetdreams', 26084), ('alicia', 26085), ('catnip', 26086), ('springboard', 26087), ('tdukes', 26088), ('flwd', 26089), ('dhmptn', 26090), ('1fav', 26091), ('quaver', 26092), ('pasionquot', 26093), ('opi', 26094), ('muhaha', 26095), ('martha', 26096), ('yayayayayay', 26097), ('brendan', 26098), (\"other's\", 26099), ('e4', 26100), ('smithamherst', 26101), ('minireunion', 26102), ('charese', 26103), ('mothersmotherfigure', 26104), ('fightn', 26105), ('giveup', 26106), ('freleson', 26107), ('freistunde', 26108), ('krush', 26109), ('hubies', 26110), ('quotniteoutquot', 26111), ('topify', 26112), ('washed', 26113), ('achan', 26114), ('wroclawpoland', 26115), ('kosmo', 26116), ('airy', 26117), ('keypad', 26118), ('ipl', 26119), ('530p', 26120), ('129', 26121), ('dayswk', 26122), ('pubulation', 26123), ('difering', 26124), ('nagustuhan', 26125), ('nyo', 26126), ('isang', 26127), ('enclose', 26128), ('matutunaw', 26129), ('uli', 26130), ('youamphoping', 26131), ('tadi', 26132), ('failed', 26133), ('wooven', 26134), ('woantitip', 26135), ('woven', 26136), ('knotie', 26137), ('kandice', 26138), ('casey', 26139), ('screwed', 26140), ('yujm', 26141), ('vwl', 26142), ('vwlers', 26143), ('edc', 26144), ('meijer', 26145), ('walmarts', 26146), ('bishopstorford', 26147), (\"aunt's\", 26148), ('cis', 26149), ('aiza', 26150), ('swinishone', 26151), ('gana', 26152), ('bidy', 26153), ('ticketek', 26154), ('rowdy', 26155), ('cms', 26156), ('cuming', 26157), ('mktg', 26158), ('oth', 26159), ('6gb', 26160), ('5tb', 26161), ('handmake', 26162), ('replicants', 26163), ('facility', 26164), ('breakrom', 26165), ('snailmail', 26166), ('unsuspecting', 26167), ('crotch', 26168), ('spatered', 26169), ('colete', 26170), ('heartwhoeva', 26171), ('q13', 26172), ('skwl', 26173), ('wcm', 26174), ('beleive', 26175), (\"rese's\", 26176), ('ean', 26177), ('inteligence', 26178), ('refactor', 26179), ('worshiper', 26180), ('4h', 26181), ('nib', 26182), ('bedford', 26183), ('chirstina', 26184), ('hurtembaras', 26185), ('hmd', 26186), ('ok2', 26187), (\"g'nyt\", 26188), (\"page's\", 26189), ('nocturnal', 26190), ('kashmir', 26191), ('shelby', 26192), ('bermuda', 26193), ('cwazy', 26194), ('platinum', 26195), ('atg', 26196), ('quotjoe', 26197), ('stripquot', 26198), ('zucini', 26199), ('quotfuckerquot', 26200), ('gparents', 26201), (\"phil's\", 26202), ('samesex', 26203), ('rafa', 26204), ('statequot', 26205), ('policeman', 26206), ('rosales', 26207), ('quotbandwidth', 26208), ('excededquot', 26209), ('glutony', 26210), ('mtaby', 26211), ('uniqname', 26212), ('cisbury', 26213), ('ulu', 26214), ('skitles', 26215), (\"yal's\", 26216), ('sweties', 26217), ('itel', 26218), ('earlymid', 26219), ('fuschia', 26220), ('sheath', 26221), ('unsubscribe', 26222), ('scorecard', 26223), ('mentalphysical', 26224), ('scategories', 26225), ('finance', 26226), ('zumba', 26227), ('friken', 26228), ('s2', 26229), ('twiterheads', 26230), ('sizlerquot', 26231), ('benson', 26232), ('scher', 26233), ('krol', 26234), ('frosting', 26235), ('fishys', 26236), ('timestamp', 26237), ('10574', 26238), ('cest', 26239), ('definitly', 26240), (\"chip's\", 26241), (\"shady's\", 26242), ('foundquot', 26243), ('quotbreakfastquot', 26244), ('altop', 26245), (\"mont's\", 26246), ('pairung', 26247), ('corsen', 26248), ('monet', 26249), ('casualy', 26250), ('556', 26251), ('sotomayor', 26252), ('myhouse', 26253), ('beav', 26254), ('transpire', 26255), ('carlesnes', 26256), ('mx', 26257), ('netplayer', 26258), ('publishing', 26259), ('enlgish', 26260), ('7kilos', 26261), ('cimarongirl', 26262), ('51', 26263), ('profoundly', 26264), ('free', 26265), ('flaxandfiberfriday', 26266), ('paedofile', 26267), ('babydol', 26268), ('spaghetistrap', 26269), ('transparency', 26270), ('selective', 26271), ('opacity', 26272), ('prepresale', 26273), ('castingrelated', 26274), ('wank', 26275), ('kelylt', 26276), ('quotstudent', 26277), ('roundup', 26278), ('eventquot', 26279), ('darfur', 26280), ('inspiring', 26281), (\"jackie's\", 26282), ('tare', 26283), ('castile', 26284), ('urechi', 26285), ('drumu', 26286), ('muzichi', 26287), ('asa', 26288), ('vopseaua', 26289), ('afectat', 26290), ('ashington', 26291), ('northumberland', 26292), ('punkrockchick', 26293), ('lmoo', 26294), ('lakas', 26295), ('nalang', 26296), ('bandana', 26297), ('vishal', 26298), ('gtalk', 26299), ('tenaya', 26300), ('hubys', 26301), ('6moredays', 26302), ('tanking', 26303), ('ofspecs', 26304), ('3hour', 26305), ('bosman', 26306), ('lamesauce', 26307), ('6789821', 26308), ('caminker', 26309), ('runday', 26310), ('hxc', 26311), ('peder', 26312), ('feragamo', 26313), ('downturn', 26314), ('groningen', 26315), ('deborah', 26316), ('stepdad', 26317)])"
      ]
     },
     "execution_count": 536,
     "metadata": {},
     "output_type": "execute_result"
    }
   ],
   "source": [
    "tokenizer.word_index.items()"
   ]
  },
  {
   "cell_type": "code",
   "execution_count": 537,
   "metadata": {},
   "outputs": [
    {
     "data": {
      "text/plain": [
       "26318"
      ]
     },
     "execution_count": 537,
     "metadata": {},
     "output_type": "execute_result"
    }
   ],
   "source": [
    "vocab_size = len(tokenizer.word_index)+1\n",
    "vocab_size # so, we have vocab_size unique words in our all combined sequence"
   ]
  },
  {
   "cell_type": "code",
   "execution_count": 539,
   "metadata": {},
   "outputs": [],
   "source": [
    "# after NER and augumentation, the number of unique words reduced from to 26318 , which significantly reduces overfitting of the model\n",
    "# and good scope for generalization"
   ]
  },
  {
   "cell_type": "markdown",
   "metadata": {},
   "source": [
    "### word vectors"
   ]
  },
  {
   "cell_type": "code",
   "execution_count": 540,
   "metadata": {},
   "outputs": [],
   "source": [
    "# we will be using pretrained Glove to create word vectors for our sequences\n",
    "# the file is downloaded locally, and we will find the corressponding word vector by mapping our words with it"
   ]
  },
  {
   "cell_type": "code",
   "execution_count": 541,
   "metadata": {},
   "outputs": [
    {
     "data": {
      "text/plain": [
       "'\\nimport numpy as np\\nembedding_index = {}\\nembedding_dim = 100  # Dimension of the GloVe embeddings, adjust based on the complexity of the task and no.of words,sentences\\n\\nwith open(\\'D:/ds/dl/rnn/archive/glove.6B.100d.txt\\', encoding=\"utf8\") as f:\\n    for line in f:\\n        values = line.split()\\n        word = values[0]\\n        coefs = np.asarray(values[1:], dtype=\\'float32\\')\\n        embedding_index[word] = coefs\\n\\n# Create the embedding matrix\\nembedding_matrix = np.zeros((vocab_size, embedding_dim))\\nfor word, i in tokenizer.word_index.items():\\n    embedding_vector = embedding_index.get(word)\\n    if embedding_vector is not None:\\n        embedding_matrix[i] = embedding_vector\\n\\nprint(\"Embedding matrix shape:\", embedding_matrix.shape) \\n'"
      ]
     },
     "execution_count": 541,
     "metadata": {},
     "output_type": "execute_result"
    }
   ],
   "source": [
    "# Load the GloVe embeddings\n",
    "\"\"\"\n",
    "import numpy as np\n",
    "embedding_index = {}\n",
    "embedding_dim = 100  # Dimension of the GloVe embeddings, adjust based on the complexity of the task and no.of words,sentences\n",
    "\n",
    "with open('D:/ds/dl/rnn/archive/glove.6B.100d.txt', encoding=\"utf8\") as f:\n",
    "    for line in f:\n",
    "        values = line.split()\n",
    "        word = values[0]\n",
    "        coefs = np.asarray(values[1:], dtype='float32')\n",
    "        embedding_index[word] = coefs\n",
    "\n",
    "# Create the embedding matrix\n",
    "embedding_matrix = np.zeros((vocab_size, embedding_dim))\n",
    "for word, i in tokenizer.word_index.items():\n",
    "    embedding_vector = embedding_index.get(word)\n",
    "    if embedding_vector is not None:\n",
    "        embedding_matrix[i] = embedding_vector\n",
    "\n",
    "print(\"Embedding matrix shape:\", embedding_matrix.shape) \n",
    "\"\"\""
   ]
  },
  {
   "cell_type": "code",
   "execution_count": 542,
   "metadata": {},
   "outputs": [],
   "source": [
    "# we will be using word2vec to train on our custom words and generate word vectors\n",
    "# because glove may not containa all the word vectors, where the words will be unique to our data "
   ]
  },
  {
   "cell_type": "code",
   "execution_count": 543,
   "metadata": {},
   "outputs": [
    {
     "name": "stdout",
     "output_type": "stream",
     "text": [
      "['<name>', 'must', 'kid', 'boy', 'definatelyi', 'hope', 'anyway', 'oo', 'girl', 'probably', 'honest', 'must', 'proper', 'ugly', 'noone', 'like', '<null>', '<null>']\n"
     ]
    }
   ],
   "source": [
    "print(z[4])"
   ]
  },
  {
   "cell_type": "code",
   "execution_count": 544,
   "metadata": {},
   "outputs": [],
   "source": [
    "from gensim.models import Word2Vec\n",
    "\n",
    "# Initialize and train the Word2Vec model\n",
    "# Here, `size` is the embedding dimension, and `window` is the context window size\n",
    "model = Word2Vec(sentences=z, vector_size=200, window=5, min_count=1, workers=4)\n",
    "\n",
    "# Save the model for later use\n",
    "model.save(\"word2vec.model\")"
   ]
  },
  {
   "cell_type": "code",
   "execution_count": 545,
   "metadata": {},
   "outputs": [
    {
     "data": {
      "text/plain": [
       "array([ 0.1142609 , -0.08492845, -0.68389577,  0.06920785,  0.93345094,\n",
       "       -0.0444916 , -0.3193617 ,  0.7520978 ,  0.19811074,  0.30674306,\n",
       "       -0.7690584 , -0.31792283,  0.85028714,  0.7698947 ,  0.57430875,\n",
       "       -0.23507023, -0.49071193,  0.86445737,  0.15400785, -1.3825172 ,\n",
       "        0.36593854, -0.44405574,  0.01300038,  0.37478313, -0.0305174 ,\n",
       "       -0.34002638,  0.4391317 , -0.04457642, -0.28075936, -0.21673568,\n",
       "        0.883596  ,  0.4422049 ,  0.28099525,  0.2526725 , -0.01540268,\n",
       "        0.9335946 ,  0.20718502, -0.28937477, -0.65894824, -0.97481143,\n",
       "       -0.05036252, -0.07220489,  0.06671853,  0.5439047 ,  0.9274766 ,\n",
       "       -0.04813344, -0.39073157, -1.0301898 ,  0.5218446 ,  0.03145093,\n",
       "        0.35688403, -0.67618513, -0.3583046 , -0.32506818, -0.07607041,\n",
       "       -0.12527677, -0.24106045, -0.9221639 , -0.47783554, -0.05875571,\n",
       "       -0.5215796 ,  0.41238186,  0.34647673,  0.23887444, -1.2798146 ,\n",
       "        0.604043  , -0.44178298,  0.63305366, -0.63942486,  0.69867516,\n",
       "       -0.04158945, -0.13914397,  0.3383474 ,  0.9659664 ,  0.23741646,\n",
       "        0.21011409,  0.3968786 , -0.93629885, -1.1440138 ,  0.5648563 ,\n",
       "       -0.12974072, -0.06625756, -1.0638465 ,  0.33374688, -0.27820313,\n",
       "       -0.18586642, -0.01634837,  0.59775525,  0.30585846, -0.33653283,\n",
       "        0.2887708 ,  0.42507634,  0.3735227 ,  0.3148535 ,  0.5386247 ,\n",
       "        0.06027308,  0.37145203, -0.05063324,  0.00173995,  0.18498689,\n",
       "        0.05254997,  0.5166407 , -0.10071799, -0.65781134, -1.1206875 ,\n",
       "       -0.38159493,  0.2911721 ,  0.09900419, -0.2682345 , -0.508567  ,\n",
       "       -0.36581457,  0.06152588,  0.13376953, -0.47239912, -0.07066702,\n",
       "       -0.5660803 , -0.2070238 , -1.1902415 ,  0.22019276, -0.43334746,\n",
       "       -0.13591163,  0.88037056, -0.23072115,  0.2279663 , -0.4370293 ,\n",
       "        0.41006845, -0.4774368 , -0.8769721 , -0.16815397, -0.26781636,\n",
       "       -0.31211525,  0.52858067,  0.05322842,  0.07743514, -0.7322198 ,\n",
       "        0.11117455, -0.778085  , -0.33459112, -1.079068  , -0.8672473 ,\n",
       "       -0.17570163,  0.2549036 ,  0.20903462, -0.09397555, -0.05108559,\n",
       "       -1.1596648 , -0.60934335,  0.25242084, -0.12835146, -0.12327449,\n",
       "       -0.15398243,  0.56743735, -0.11021531,  0.13098434, -0.58025396,\n",
       "       -0.12753999, -0.10575987, -0.36990806,  0.11993355, -0.54661167,\n",
       "        0.8981897 ,  0.3255017 ,  0.02337402,  0.6423998 , -0.30857974,\n",
       "        0.13679656, -0.12123439,  0.036888  , -0.88346833, -0.26749188,\n",
       "       -0.12417912,  0.66501725, -0.28578866, -0.35239026,  0.04893328,\n",
       "        0.35706526,  0.06301722,  0.80540675, -0.3160423 ,  0.31828895,\n",
       "        0.34510273, -0.03605757, -0.21672146,  0.5889644 , -0.12122817,\n",
       "        0.46616888,  0.25606808,  1.2735993 ,  0.612283  ,  0.59927005,\n",
       "        0.3897019 ,  0.06582622, -0.75545377, -0.07096659,  0.30440822,\n",
       "        0.30855116,  0.03194659, -0.56164646,  0.36374268, -0.3826382 ],\n",
       "      dtype=float32)"
      ]
     },
     "execution_count": 545,
     "metadata": {},
     "output_type": "execute_result"
    }
   ],
   "source": [
    "#sample\n",
    "model = Word2Vec.load(\"word2vec.model\")\n",
    "word_vector = model.wv[\"sad\"]\n",
    "word_vector"
   ]
  },
  {
   "cell_type": "code",
   "execution_count": 546,
   "metadata": {},
   "outputs": [
    {
     "data": {
      "text/plain": [
       "200"
      ]
     },
     "execution_count": 546,
     "metadata": {},
     "output_type": "execute_result"
    }
   ],
   "source": [
    "len(word_vector)"
   ]
  },
  {
   "cell_type": "code",
   "execution_count": 547,
   "metadata": {},
   "outputs": [
    {
     "data": {
      "text/plain": [
       "array([[ 0.00000000e+00,  0.00000000e+00,  0.00000000e+00, ...,\n",
       "         0.00000000e+00,  0.00000000e+00,  0.00000000e+00],\n",
       "       [ 2.16141060e-01,  1.41166180e-01, -3.30398709e-01, ...,\n",
       "        -1.02397788e+00,  2.18087867e-01, -1.99989051e-01],\n",
       "       [ 3.94605964e-01, -3.15515280e-01, -8.92052054e-01, ...,\n",
       "        -9.49694335e-01,  6.22118473e-01, -6.46514952e-01],\n",
       "       ...,\n",
       "       [ 4.36061615e-04,  8.99123144e-04, -5.27815707e-03, ...,\n",
       "        -5.56576857e-03,  1.00548808e-02, -3.64894513e-03],\n",
       "       [ 2.00771797e-03,  2.19848705e-03, -5.68276225e-03, ...,\n",
       "        -2.14285101e-03, -3.42751184e-04, -4.82804701e-03],\n",
       "       [ 7.32722366e-03, -4.15739277e-03, -1.80855505e-02, ...,\n",
       "        -6.20087655e-03,  2.02584919e-02, -1.92502476e-02]])"
      ]
     },
     "execution_count": 547,
     "metadata": {},
     "output_type": "execute_result"
    }
   ],
   "source": [
    "import random\n",
    "embedding_matrix = np.zeros((vocab_size, 200))\n",
    "model = Word2Vec.load(\"word2vec.model\")\n",
    "for i,ind in tokenizer.word_index.items():\n",
    "    try:\n",
    "        embedding_matrix[ind]=model.wv[i] \n",
    "    except:\n",
    "        random_floats = [random.uniform(-3, 3) for i in range(200)]\n",
    "        embedding_matrix[ind]=random_floats\n",
    "embedding_matrix "
   ]
  },
  {
   "cell_type": "code",
   "execution_count": 548,
   "metadata": {},
   "outputs": [
    {
     "data": {
      "text/plain": [
       "(26318, 200)"
      ]
     },
     "execution_count": 548,
     "metadata": {},
     "output_type": "execute_result"
    }
   ],
   "source": [
    "embedding_matrix.shape"
   ]
  },
  {
   "cell_type": "code",
   "execution_count": 549,
   "metadata": {},
   "outputs": [],
   "source": [
    "# the word vectors in embedded matrix are also stored in the same order as word_index "
   ]
  },
  {
   "cell_type": "code",
   "execution_count": 550,
   "metadata": {},
   "outputs": [
    {
     "data": {
      "text/plain": [
       "36721"
      ]
     },
     "execution_count": 550,
     "metadata": {},
     "output_type": "execute_result"
    }
   ],
   "source": [
    "len(encoded)"
   ]
  },
  {
   "cell_type": "code",
   "execution_count": 551,
   "metadata": {},
   "outputs": [
    {
     "data": {
      "text/plain": [
       "(21620, 7291)"
      ]
     },
     "execution_count": 551,
     "metadata": {},
     "output_type": "execute_result"
    }
   ],
   "source": [
    "l1= len(Xtl)\n",
    "l2 = len(xvl)\n",
    "l1,l2"
   ]
  },
  {
   "cell_type": "code",
   "execution_count": 552,
   "metadata": {},
   "outputs": [
    {
     "data": {
      "text/plain": [
       "28911"
      ]
     },
     "execution_count": 552,
     "metadata": {},
     "output_type": "execute_result"
    }
   ],
   "source": [
    "ll = l1+l2\n",
    "ll"
   ]
  },
  {
   "cell_type": "code",
   "execution_count": 553,
   "metadata": {},
   "outputs": [
    {
     "data": {
      "text/plain": [
       "21620"
      ]
     },
     "execution_count": 553,
     "metadata": {},
     "output_type": "execute_result"
    }
   ],
   "source": [
    "ll-l2 "
   ]
  },
  {
   "cell_type": "code",
   "execution_count": 554,
   "metadata": {},
   "outputs": [
    {
     "data": {
      "text/plain": [
       "7810"
      ]
     },
     "execution_count": 554,
     "metadata": {},
     "output_type": "execute_result"
    }
   ],
   "source": [
    "len(encoded)-ll # y_test length"
   ]
  },
  {
   "cell_type": "code",
   "execution_count": 555,
   "metadata": {},
   "outputs": [],
   "source": [
    "x_train_final = encoded[:l1]\n",
    "x_val_final = encoded[l1:ll]"
   ]
  },
  {
   "cell_type": "code",
   "execution_count": 556,
   "metadata": {},
   "outputs": [],
   "source": [
    "x_train_final = np.array(x_train_final)\n",
    "x_val_final = np.array(x_val_final)"
   ]
  },
  {
   "cell_type": "code",
   "execution_count": 557,
   "metadata": {},
   "outputs": [
    {
     "data": {
      "text/plain": [
       "((21620, 13), (7291, 13), (7810, 13))"
      ]
     },
     "execution_count": 557,
     "metadata": {},
     "output_type": "execute_result"
    }
   ],
   "source": [
    "from tensorflow.keras.utils import to_categorical\n",
    "y_train_hot = to_categorical(y_train_resampled_m,num_classes=13)\n",
    "y_test_hot = to_categorical(y_test,num_classes=13)\n",
    "y_val_hot = to_categorical(y_val_resampled_m,num_classes=13)\n",
    "y_train_hot.shape,y_val_hot.shape ,y_test_hot.shape"
   ]
  },
  {
   "cell_type": "code",
   "execution_count": 558,
   "metadata": {},
   "outputs": [
    {
     "name": "stdout",
     "output_type": "stream",
     "text": [
      "(21620, 18) (21620, 13)\n",
      "(7291, 18) (7291, 13)\n",
      "(7810, 18) (7810, 13)\n"
     ]
    }
   ],
   "source": [
    "print(x_train_final.shape,y_train_hot.shape)\n",
    "print(x_val_final.shape,y_val_hot.shape)\n",
    "print(x_test.shape,y_test_hot.shape)"
   ]
  },
  {
   "cell_type": "code",
   "execution_count": 559,
   "metadata": {},
   "outputs": [
    {
     "data": {
      "text/plain": [
       "array([[    2,  2107, 11309, ...,     1,     1,     1],\n",
       "       [  260,    57,     4, ...,     1,     1,     1],\n",
       "       [  280,  6371,  1810, ...,     1,     1,     1],\n",
       "       ...,\n",
       "       [ 5356,  5357,     1, ...,     1,     1,     1],\n",
       "       [  292,  2986,  1237, ...,     1,     1,     1],\n",
       "       [    2,   267,     1, ...,     1,     1,     1]])"
      ]
     },
     "execution_count": 559,
     "metadata": {},
     "output_type": "execute_result"
    }
   ],
   "source": [
    "x_train_final"
   ]
  },
  {
   "cell_type": "code",
   "execution_count": 560,
   "metadata": {},
   "outputs": [],
   "source": [
    "# shuffle the data\n",
    "from sklearn.utils import shuffle\n",
    "x_train_final,y_train_hot = shuffle(x_train_final,y_train_hot,random_state=42)\n",
    "x_val_final,y_val_hot = shuffle(x_val_final,y_val_hot,random_state=42)"
   ]
  },
  {
   "cell_type": "code",
   "execution_count": 561,
   "metadata": {},
   "outputs": [
    {
     "data": {
      "text/plain": [
       "array([[    2,   224,  6452, ...,     1,     1,     1],\n",
       "       [    2,  3795,  1869, ...,     1,     1,     1],\n",
       "       [   82,   233,   409, ...,     1,     1,     1],\n",
       "       ...,\n",
       "       [  132,  2709,    90, ...,     1,     1,     1],\n",
       "       [    2,    59, 11624, ...,     1,     1,     1],\n",
       "       [    3,  3061,   480, ...,     1,     1,     1]])"
      ]
     },
     "execution_count": 561,
     "metadata": {},
     "output_type": "execute_result"
    }
   ],
   "source": [
    "x_train_final"
   ]
  },
  {
   "cell_type": "code",
   "execution_count": 562,
   "metadata": {},
   "outputs": [],
   "source": [
    "# Now all our data is ready and as well as the embedded matrix which is created by word2vec"
   ]
  },
  {
   "cell_type": "code",
   "execution_count": 563,
   "metadata": {},
   "outputs": [
    {
     "data": {
      "text/plain": [
       "8     3075\n",
       "5     3075\n",
       "12    3075\n",
       "10    2999\n",
       "7     2219\n",
       "11    1308\n",
       "4     1042\n",
       "9      896\n",
       "3      800\n",
       "2      800\n",
       "1      791\n",
       "6      777\n",
       "0      763\n",
       "Name: count, dtype: int64"
      ]
     },
     "execution_count": 563,
     "metadata": {},
     "output_type": "execute_result"
    }
   ],
   "source": [
    "pd.Series(y_train_resampled_m).value_counts()"
   ]
  },
  {
   "cell_type": "code",
   "execution_count": 564,
   "metadata": {},
   "outputs": [
    {
     "data": {
      "text/plain": [
       "\"\\nfrom sklearn.utils.class_weight import compute_class_weight\\nclass_weights = compute_class_weight('balanced',classes= np.unique(y_train_resampled_m), y=y_train_resampled_m) \\nclass_weight_dict = dict(enumerate(class_weights))\\nclass_weight_dict\\n\""
      ]
     },
     "execution_count": 564,
     "metadata": {},
     "output_type": "execute_result"
    }
   ],
   "source": [
    "\"\"\"\n",
    "from sklearn.utils.class_weight import compute_class_weight\n",
    "class_weights = compute_class_weight('balanced',classes= np.unique(y_train_resampled_m), y=y_train_resampled_m) \n",
    "class_weight_dict = dict(enumerate(class_weights))\n",
    "class_weight_dict\n",
    "\"\"\""
   ]
  },
  {
   "cell_type": "markdown",
   "metadata": {},
   "source": [
    "### DL model"
   ]
  },
  {
   "cell_type": "code",
   "execution_count": null,
   "metadata": {},
   "outputs": [],
   "source": [
    "from tensorflow.keras.models import Sequential\n",
    "from tensorflow.keras.layers import Embedding,Dropout,Bidirectional,Dense,LeakyReLU,GRU,GlobalAveragePooling1D,LayerNormalization,LSTM,Flatten, MultiHeadAttention\n",
    "from tensorflow.keras.regularizers import l1,l2\n",
    "\n",
    "model = Sequential()\n",
    "model.add(Embedding(input_dim=vocab_size,output_dim=200, weights=[embedding_matrix],trainable=False))\n",
    "\n",
    "model.add(Bidirectional(GRU(64,return_sequences=True)))\n",
    "\n",
    "model.add(Flatten()) \n",
    "\n",
    "model.add(Dense(128,kernel_regularizer=l2(0.005))) \n",
    "model.add(LeakyReLU(0.2)) # to avoid dead neurons\n",
    "model.add(LayerNormalization()) \n",
    "model.add(Dropout(0.3))\n",
    "\n",
    "\n",
    "model.add(Dense(num_classes,activation='softmax')) "
   ]
  },
  {
   "cell_type": "code",
   "execution_count": 605,
   "metadata": {},
   "outputs": [],
   "source": [
    "from tensorflow.keras.optimizers import Adam,SGD\n",
    "model.compile(optimizer=Adam(learning_rate=0.001),loss='categorical_crossentropy',metrics=['accuracy']) # categorical_crossentropy for one-hot encoded lables"
   ]
  },
  {
   "cell_type": "code",
   "execution_count": 606,
   "metadata": {},
   "outputs": [
    {
     "name": "stdout",
     "output_type": "stream",
     "text": [
      "Epoch 1/20\n",
      "\u001b[1m1352/1352\u001b[0m \u001b[32m━━━━━━━━━━━━━━━━━━━━\u001b[0m\u001b[37m\u001b[0m \u001b[1m41s\u001b[0m 26ms/step - accuracy: 0.1574 - loss: 3.0732 - val_accuracy: 0.2238 - val_loss: 2.3280\n",
      "Epoch 2/20\n",
      "\u001b[1m1352/1352\u001b[0m \u001b[32m━━━━━━━━━━━━━━━━━━━━\u001b[0m\u001b[37m\u001b[0m \u001b[1m34s\u001b[0m 25ms/step - accuracy: 0.2299 - loss: 2.2899 - val_accuracy: 0.2568 - val_loss: 2.2461\n",
      "Epoch 3/20\n",
      "\u001b[1m1352/1352\u001b[0m \u001b[32m━━━━━━━━━━━━━━━━━━━━\u001b[0m\u001b[37m\u001b[0m \u001b[1m33s\u001b[0m 24ms/step - accuracy: 0.2476 - loss: 2.2482 - val_accuracy: 0.2655 - val_loss: 2.2037\n",
      "Epoch 4/20\n",
      "\u001b[1m1352/1352\u001b[0m \u001b[32m━━━━━━━━━━━━━━━━━━━━\u001b[0m\u001b[37m\u001b[0m \u001b[1m36s\u001b[0m 26ms/step - accuracy: 0.2612 - loss: 2.2137 - val_accuracy: 0.2713 - val_loss: 2.2057\n",
      "Epoch 5/20\n",
      "\u001b[1m1352/1352\u001b[0m \u001b[32m━━━━━━━━━━━━━━━━━━━━\u001b[0m\u001b[37m\u001b[0m \u001b[1m33s\u001b[0m 25ms/step - accuracy: 0.2599 - loss: 2.1931 - val_accuracy: 0.2657 - val_loss: 2.1962\n",
      "Epoch 6/20\n",
      "\u001b[1m1352/1352\u001b[0m \u001b[32m━━━━━━━━━━━━━━━━━━━━\u001b[0m\u001b[37m\u001b[0m \u001b[1m34s\u001b[0m 25ms/step - accuracy: 0.2770 - loss: 2.1739 - val_accuracy: 0.2738 - val_loss: 2.2111\n",
      "Epoch 7/20\n",
      "\u001b[1m1352/1352\u001b[0m \u001b[32m━━━━━━━━━━━━━━━━━━━━\u001b[0m\u001b[37m\u001b[0m \u001b[1m32s\u001b[0m 24ms/step - accuracy: 0.2834 - loss: 2.1550 - val_accuracy: 0.2788 - val_loss: 2.1891\n",
      "Epoch 8/20\n",
      "\u001b[1m 727/1352\u001b[0m \u001b[32m━━━━━━━━━━\u001b[0m\u001b[37m━━━━━━━━━━\u001b[0m \u001b[1m13s\u001b[0m 22ms/step - accuracy: 0.2935 - loss: 2.1225"
     ]
    },
    {
     "ename": "KeyboardInterrupt",
     "evalue": "",
     "output_type": "error",
     "traceback": [
      "\u001b[1;31m---------------------------------------------------------------------------\u001b[0m",
      "\u001b[1;31mKeyboardInterrupt\u001b[0m                         Traceback (most recent call last)",
      "Cell \u001b[1;32mIn[606], line 1\u001b[0m\n\u001b[1;32m----> 1\u001b[0m history \u001b[38;5;241m=\u001b[39m \u001b[43mmodel\u001b[49m\u001b[38;5;241;43m.\u001b[39;49m\u001b[43mfit\u001b[49m\u001b[43m(\u001b[49m\u001b[43mx_train_final\u001b[49m\u001b[43m,\u001b[49m\u001b[43my_train_hot\u001b[49m\u001b[43m,\u001b[49m\u001b[43mepochs\u001b[49m\u001b[38;5;241;43m=\u001b[39;49m\u001b[38;5;241;43m20\u001b[39;49m\u001b[43m,\u001b[49m\u001b[43mbatch_size\u001b[49m\u001b[38;5;241;43m=\u001b[39;49m\u001b[38;5;241;43m16\u001b[39;49m\u001b[43m,\u001b[49m\u001b[43mvalidation_data\u001b[49m\u001b[38;5;241;43m=\u001b[39;49m\u001b[43m(\u001b[49m\u001b[43mx_val_final\u001b[49m\u001b[43m,\u001b[49m\u001b[43my_val_hot\u001b[49m\u001b[43m)\u001b[49m\u001b[43m)\u001b[49m \n",
      "File \u001b[1;32mc:\\Users\\vivek\\AppData\\Local\\Programs\\Python\\Python311\\Lib\\site-packages\\keras\\src\\utils\\traceback_utils.py:117\u001b[0m, in \u001b[0;36mfilter_traceback.<locals>.error_handler\u001b[1;34m(*args, **kwargs)\u001b[0m\n\u001b[0;32m    115\u001b[0m filtered_tb \u001b[38;5;241m=\u001b[39m \u001b[38;5;28;01mNone\u001b[39;00m\n\u001b[0;32m    116\u001b[0m \u001b[38;5;28;01mtry\u001b[39;00m:\n\u001b[1;32m--> 117\u001b[0m     \u001b[38;5;28;01mreturn\u001b[39;00m \u001b[43mfn\u001b[49m\u001b[43m(\u001b[49m\u001b[38;5;241;43m*\u001b[39;49m\u001b[43margs\u001b[49m\u001b[43m,\u001b[49m\u001b[43m \u001b[49m\u001b[38;5;241;43m*\u001b[39;49m\u001b[38;5;241;43m*\u001b[39;49m\u001b[43mkwargs\u001b[49m\u001b[43m)\u001b[49m\n\u001b[0;32m    118\u001b[0m \u001b[38;5;28;01mexcept\u001b[39;00m \u001b[38;5;167;01mException\u001b[39;00m \u001b[38;5;28;01mas\u001b[39;00m e:\n\u001b[0;32m    119\u001b[0m     filtered_tb \u001b[38;5;241m=\u001b[39m _process_traceback_frames(e\u001b[38;5;241m.\u001b[39m__traceback__)\n",
      "File \u001b[1;32mc:\\Users\\vivek\\AppData\\Local\\Programs\\Python\\Python311\\Lib\\site-packages\\keras\\src\\backend\\tensorflow\\trainer.py:322\u001b[0m, in \u001b[0;36mTensorFlowTrainer.fit\u001b[1;34m(self, x, y, batch_size, epochs, verbose, callbacks, validation_split, validation_data, shuffle, class_weight, sample_weight, initial_epoch, steps_per_epoch, validation_steps, validation_batch_size, validation_freq)\u001b[0m\n\u001b[0;32m    320\u001b[0m logs \u001b[38;5;241m=\u001b[39m \u001b[38;5;28mself\u001b[39m\u001b[38;5;241m.\u001b[39mtrain_function(iterator)\n\u001b[0;32m    321\u001b[0m logs \u001b[38;5;241m=\u001b[39m \u001b[38;5;28mself\u001b[39m\u001b[38;5;241m.\u001b[39m_pythonify_logs(logs)\n\u001b[1;32m--> 322\u001b[0m \u001b[43mcallbacks\u001b[49m\u001b[38;5;241;43m.\u001b[39;49m\u001b[43mon_train_batch_end\u001b[49m\u001b[43m(\u001b[49m\u001b[43mstep\u001b[49m\u001b[43m,\u001b[49m\u001b[43m \u001b[49m\u001b[43mlogs\u001b[49m\u001b[43m)\u001b[49m\n\u001b[0;32m    323\u001b[0m \u001b[38;5;28;01mif\u001b[39;00m \u001b[38;5;28mself\u001b[39m\u001b[38;5;241m.\u001b[39mstop_training:\n\u001b[0;32m    324\u001b[0m     \u001b[38;5;28;01mbreak\u001b[39;00m\n",
      "File \u001b[1;32mc:\\Users\\vivek\\AppData\\Local\\Programs\\Python\\Python311\\Lib\\site-packages\\keras\\src\\callbacks\\callback_list.py:103\u001b[0m, in \u001b[0;36mCallbackList.on_train_batch_end\u001b[1;34m(self, batch, logs)\u001b[0m\n\u001b[0;32m    100\u001b[0m     \u001b[38;5;28;01mfor\u001b[39;00m callback \u001b[38;5;129;01min\u001b[39;00m \u001b[38;5;28mself\u001b[39m\u001b[38;5;241m.\u001b[39mcallbacks:\n\u001b[0;32m    101\u001b[0m         callback\u001b[38;5;241m.\u001b[39mon_train_batch_begin(batch, logs\u001b[38;5;241m=\u001b[39mlogs)\n\u001b[1;32m--> 103\u001b[0m \u001b[38;5;28;01mdef\u001b[39;00m \u001b[38;5;21mon_train_batch_end\u001b[39m(\u001b[38;5;28mself\u001b[39m, batch, logs\u001b[38;5;241m=\u001b[39m\u001b[38;5;28;01mNone\u001b[39;00m):\n\u001b[0;32m    104\u001b[0m     logs \u001b[38;5;241m=\u001b[39m logs \u001b[38;5;129;01mor\u001b[39;00m {}\n\u001b[0;32m    105\u001b[0m     \u001b[38;5;28;01mfor\u001b[39;00m callback \u001b[38;5;129;01min\u001b[39;00m \u001b[38;5;28mself\u001b[39m\u001b[38;5;241m.\u001b[39mcallbacks:\n",
      "\u001b[1;31mKeyboardInterrupt\u001b[0m: "
     ]
    }
   ],
   "source": [
    "history = model.fit(x_train_final,y_train_hot,epochs=20,batch_size=16,validation_data=(x_val_final,y_val_hot)) "
   ]
  },
  {
   "cell_type": "code",
   "execution_count": null,
   "metadata": {},
   "outputs": [],
   "source": [
    "# Layernormalization - Feautre wise normalization instead of batch wise \n",
    "# Keep values in standard range which increases the speed of computation "
   ]
  },
  {
   "cell_type": "code",
   "execution_count": 632,
   "metadata": {},
   "outputs": [
    {
     "data": {
      "text/plain": [
       "keras.src.callbacks.history.History"
      ]
     },
     "execution_count": 632,
     "metadata": {},
     "output_type": "execute_result"
    }
   ],
   "source": [
    "type(history)"
   ]
  },
  {
   "cell_type": "code",
   "execution_count": 593,
   "metadata": {},
   "outputs": [
    {
     "data": {
      "image/png": "[encoded data removed]",
      "text/plain": [
       "<Figure size 640x480 with 1 Axes>"
      ]
     },
     "metadata": {},
     "output_type": "display_data"
    }
   ],
   "source": [
    "plt.plot([i for i in range(1,21)],history.history['accuracy'])\n",
    "plt.plot([i for i in range(1,21)],history.history['val_accuracy'])\n",
    "plt.show()"
   ]
  },
  {
   "cell_type": "code",
   "execution_count": 581,
   "metadata": {},
   "outputs": [
    {
     "data": {
      "text/html": [
       "<pre style=\"white-space:pre;overflow-x:auto;line-height:normal;font-family:Menlo,'DejaVu Sans Mono',consolas,'Courier New',monospace\"><span style=\"font-weight: bold\">Model: \"sequential_10\"</span>\n",
       "</pre>\n"
      ],
      "text/plain": [
       "\u001b[1mModel: \"sequential_10\"\u001b[0m\n"
      ]
     },
     "metadata": {},
     "output_type": "display_data"
    },
    {
     "data": {
      "text/html": [
       "<pre style=\"white-space:pre;overflow-x:auto;line-height:normal;font-family:Menlo,'DejaVu Sans Mono',consolas,'Courier New',monospace\">┏━━━━━━━━━━━━━━━━━━━━━━━━━━━━━━━━━┳━━━━━━━━━━━━━━━━━━━━━━━━┳━━━━━━━━━━━━━━━┓\n",
       "┃<span style=\"font-weight: bold\"> Layer (type)                    </span>┃<span style=\"font-weight: bold\"> Output Shape           </span>┃<span style=\"font-weight: bold\">       Param # </span>┃\n",
       "┡━━━━━━━━━━━━━━━━━━━━━━━━━━━━━━━━━╇━━━━━━━━━━━━━━━━━━━━━━━━╇━━━━━━━━━━━━━━━┩\n",
       "│ embedding_10 (<span style=\"color: #0087ff; text-decoration-color: #0087ff\">Embedding</span>)        │ (<span style=\"color: #00d7ff; text-decoration-color: #00d7ff\">None</span>, <span style=\"color: #00af00; text-decoration-color: #00af00\">18</span>, <span style=\"color: #00af00; text-decoration-color: #00af00\">200</span>)        │     <span style=\"color: #00af00; text-decoration-color: #00af00\">5,263,600</span> │\n",
       "├─────────────────────────────────┼────────────────────────┼───────────────┤\n",
       "│ bidirectional_21                │ (<span style=\"color: #00d7ff; text-decoration-color: #00d7ff\">None</span>, <span style=\"color: #00af00; text-decoration-color: #00af00\">18</span>, <span style=\"color: #00af00; text-decoration-color: #00af00\">256</span>)        │       <span style=\"color: #00af00; text-decoration-color: #00af00\">253,440</span> │\n",
       "│ (<span style=\"color: #0087ff; text-decoration-color: #0087ff\">Bidirectional</span>)                 │                        │               │\n",
       "├─────────────────────────────────┼────────────────────────┼───────────────┤\n",
       "│ flatten_9 (<span style=\"color: #0087ff; text-decoration-color: #0087ff\">Flatten</span>)             │ (<span style=\"color: #00d7ff; text-decoration-color: #00d7ff\">None</span>, <span style=\"color: #00af00; text-decoration-color: #00af00\">4608</span>)           │             <span style=\"color: #00af00; text-decoration-color: #00af00\">0</span> │\n",
       "├─────────────────────────────────┼────────────────────────┼───────────────┤\n",
       "│ dense_28 (<span style=\"color: #0087ff; text-decoration-color: #0087ff\">Dense</span>)                │ (<span style=\"color: #00d7ff; text-decoration-color: #00d7ff\">None</span>, <span style=\"color: #00af00; text-decoration-color: #00af00\">32</span>)             │       <span style=\"color: #00af00; text-decoration-color: #00af00\">147,488</span> │\n",
       "├─────────────────────────────────┼────────────────────────┼───────────────┤\n",
       "│ leaky_re_lu_17 (<span style=\"color: #0087ff; text-decoration-color: #0087ff\">LeakyReLU</span>)      │ (<span style=\"color: #00d7ff; text-decoration-color: #00d7ff\">None</span>, <span style=\"color: #00af00; text-decoration-color: #00af00\">32</span>)             │             <span style=\"color: #00af00; text-decoration-color: #00af00\">0</span> │\n",
       "├─────────────────────────────────┼────────────────────────┼───────────────┤\n",
       "│ layer_normalization_26          │ (<span style=\"color: #00d7ff; text-decoration-color: #00d7ff\">None</span>, <span style=\"color: #00af00; text-decoration-color: #00af00\">32</span>)             │            <span style=\"color: #00af00; text-decoration-color: #00af00\">64</span> │\n",
       "│ (<span style=\"color: #0087ff; text-decoration-color: #0087ff\">LayerNormalization</span>)            │                        │               │\n",
       "├─────────────────────────────────┼────────────────────────┼───────────────┤\n",
       "│ dropout_19 (<span style=\"color: #0087ff; text-decoration-color: #0087ff\">Dropout</span>)            │ (<span style=\"color: #00d7ff; text-decoration-color: #00d7ff\">None</span>, <span style=\"color: #00af00; text-decoration-color: #00af00\">32</span>)             │             <span style=\"color: #00af00; text-decoration-color: #00af00\">0</span> │\n",
       "├─────────────────────────────────┼────────────────────────┼───────────────┤\n",
       "│ dense_29 (<span style=\"color: #0087ff; text-decoration-color: #0087ff\">Dense</span>)                │ (<span style=\"color: #00d7ff; text-decoration-color: #00d7ff\">None</span>, <span style=\"color: #00af00; text-decoration-color: #00af00\">13</span>)             │           <span style=\"color: #00af00; text-decoration-color: #00af00\">429</span> │\n",
       "└─────────────────────────────────┴────────────────────────┴───────────────┘\n",
       "</pre>\n"
      ],
      "text/plain": [
       "┏━━━━━━━━━━━━━━━━━━━━━━━━━━━━━━━━━┳━━━━━━━━━━━━━━━━━━━━━━━━┳━━━━━━━━━━━━━━━┓\n",
       "┃\u001b[1m \u001b[0m\u001b[1mLayer (type)                   \u001b[0m\u001b[1m \u001b[0m┃\u001b[1m \u001b[0m\u001b[1mOutput Shape          \u001b[0m\u001b[1m \u001b[0m┃\u001b[1m \u001b[0m\u001b[1m      Param #\u001b[0m\u001b[1m \u001b[0m┃\n",
       "┡━━━━━━━━━━━━━━━━━━━━━━━━━━━━━━━━━╇━━━━━━━━━━━━━━━━━━━━━━━━╇━━━━━━━━━━━━━━━┩\n",
       "│ embedding_10 (\u001b[38;5;33mEmbedding\u001b[0m)        │ (\u001b[38;5;45mNone\u001b[0m, \u001b[38;5;34m18\u001b[0m, \u001b[38;5;34m200\u001b[0m)        │     \u001b[38;5;34m5,263,600\u001b[0m │\n",
       "├─────────────────────────────────┼────────────────────────┼───────────────┤\n",
       "│ bidirectional_21                │ (\u001b[38;5;45mNone\u001b[0m, \u001b[38;5;34m18\u001b[0m, \u001b[38;5;34m256\u001b[0m)        │       \u001b[38;5;34m253,440\u001b[0m │\n",
       "│ (\u001b[38;5;33mBidirectional\u001b[0m)                 │                        │               │\n",
       "├─────────────────────────────────┼────────────────────────┼───────────────┤\n",
       "│ flatten_9 (\u001b[38;5;33mFlatten\u001b[0m)             │ (\u001b[38;5;45mNone\u001b[0m, \u001b[38;5;34m4608\u001b[0m)           │             \u001b[38;5;34m0\u001b[0m │\n",
       "├─────────────────────────────────┼────────────────────────┼───────────────┤\n",
       "│ dense_28 (\u001b[38;5;33mDense\u001b[0m)                │ (\u001b[38;5;45mNone\u001b[0m, \u001b[38;5;34m32\u001b[0m)             │       \u001b[38;5;34m147,488\u001b[0m │\n",
       "├─────────────────────────────────┼────────────────────────┼───────────────┤\n",
       "│ leaky_re_lu_17 (\u001b[38;5;33mLeakyReLU\u001b[0m)      │ (\u001b[38;5;45mNone\u001b[0m, \u001b[38;5;34m32\u001b[0m)             │             \u001b[38;5;34m0\u001b[0m │\n",
       "├─────────────────────────────────┼────────────────────────┼───────────────┤\n",
       "│ layer_normalization_26          │ (\u001b[38;5;45mNone\u001b[0m, \u001b[38;5;34m32\u001b[0m)             │            \u001b[38;5;34m64\u001b[0m │\n",
       "│ (\u001b[38;5;33mLayerNormalization\u001b[0m)            │                        │               │\n",
       "├─────────────────────────────────┼────────────────────────┼───────────────┤\n",
       "│ dropout_19 (\u001b[38;5;33mDropout\u001b[0m)            │ (\u001b[38;5;45mNone\u001b[0m, \u001b[38;5;34m32\u001b[0m)             │             \u001b[38;5;34m0\u001b[0m │\n",
       "├─────────────────────────────────┼────────────────────────┼───────────────┤\n",
       "│ dense_29 (\u001b[38;5;33mDense\u001b[0m)                │ (\u001b[38;5;45mNone\u001b[0m, \u001b[38;5;34m13\u001b[0m)             │           \u001b[38;5;34m429\u001b[0m │\n",
       "└─────────────────────────────────┴────────────────────────┴───────────────┘\n"
      ]
     },
     "metadata": {},
     "output_type": "display_data"
    },
    {
     "data": {
      "text/html": [
       "<pre style=\"white-space:pre;overflow-x:auto;line-height:normal;font-family:Menlo,'DejaVu Sans Mono',consolas,'Courier New',monospace\"><span style=\"font-weight: bold\"> Total params: </span><span style=\"color: #00af00; text-decoration-color: #00af00\">6,467,865</span> (24.67 MB)\n",
       "</pre>\n"
      ],
      "text/plain": [
       "\u001b[1m Total params: \u001b[0m\u001b[38;5;34m6,467,865\u001b[0m (24.67 MB)\n"
      ]
     },
     "metadata": {},
     "output_type": "display_data"
    },
    {
     "data": {
      "text/html": [
       "<pre style=\"white-space:pre;overflow-x:auto;line-height:normal;font-family:Menlo,'DejaVu Sans Mono',consolas,'Courier New',monospace\"><span style=\"font-weight: bold\"> Trainable params: </span><span style=\"color: #00af00; text-decoration-color: #00af00\">401,421</span> (1.53 MB)\n",
       "</pre>\n"
      ],
      "text/plain": [
       "\u001b[1m Trainable params: \u001b[0m\u001b[38;5;34m401,421\u001b[0m (1.53 MB)\n"
      ]
     },
     "metadata": {},
     "output_type": "display_data"
    },
    {
     "data": {
      "text/html": [
       "<pre style=\"white-space:pre;overflow-x:auto;line-height:normal;font-family:Menlo,'DejaVu Sans Mono',consolas,'Courier New',monospace\"><span style=\"font-weight: bold\"> Non-trainable params: </span><span style=\"color: #00af00; text-decoration-color: #00af00\">5,263,600</span> (20.08 MB)\n",
       "</pre>\n"
      ],
      "text/plain": [
       "\u001b[1m Non-trainable params: \u001b[0m\u001b[38;5;34m5,263,600\u001b[0m (20.08 MB)\n"
      ]
     },
     "metadata": {},
     "output_type": "display_data"
    },
    {
     "data": {
      "text/html": [
       "<pre style=\"white-space:pre;overflow-x:auto;line-height:normal;font-family:Menlo,'DejaVu Sans Mono',consolas,'Courier New',monospace\"><span style=\"font-weight: bold\"> Optimizer params: </span><span style=\"color: #00af00; text-decoration-color: #00af00\">802,844</span> (3.06 MB)\n",
       "</pre>\n"
      ],
      "text/plain": [
       "\u001b[1m Optimizer params: \u001b[0m\u001b[38;5;34m802,844\u001b[0m (3.06 MB)\n"
      ]
     },
     "metadata": {},
     "output_type": "display_data"
    }
   ],
   "source": [
    "model.summary()"
   ]
  },
  {
   "cell_type": "code",
   "execution_count": null,
   "metadata": {},
   "outputs": [],
   "source": [
    "x_testt = tokenizer.texts_to_sequences(x_test.tolist())\n",
    "x_testt = np.array(x_testt)"
   ]
  },
  {
   "cell_type": "code",
   "execution_count": 341,
   "metadata": {},
   "outputs": [
    {
     "name": "stdout",
     "output_type": "stream",
     "text": [
      "\u001b[1m248/248\u001b[0m \u001b[32m━━━━━━━━━━━━━━━━━━━━\u001b[0m\u001b[37m\u001b[0m \u001b[1m4s\u001b[0m 15ms/step\n"
     ]
    }
   ],
   "source": [
    "# now evaluate on y_test (unseen data) (metrics: accuracy,precision,recall,f1-score)\n",
    "from sklearn.metrics import accuracy_score,precision_score,recall_score,f1_score\n",
    "\n",
    "y_pred = model.predict(x_testt)"
   ]
  },
  {
   "cell_type": "code",
   "execution_count": 357,
   "metadata": {},
   "outputs": [],
   "source": [
    "y_pred = np.argmax(y_pred,axis=1)\n",
    "y_test = np.argmax(y_test_hot,axis=1)"
   ]
  },
  {
   "cell_type": "code",
   "execution_count": 363,
   "metadata": {},
   "outputs": [
    {
     "name": "stderr",
     "output_type": "stream",
     "text": [
      "c:\\Users\\vivek\\AppData\\Local\\Programs\\Python\\Python311\\Lib\\site-packages\\sklearn\\metrics\\_classification.py:1531: UndefinedMetricWarning: Recall is ill-defined and being set to 0.0 in labels with no true samples. Use `zero_division` parameter to control this behavior.\n",
      "  _warn_prf(average, modifier, f\"{metric.capitalize()} is\", len(result))\n"
     ]
    }
   ],
   "source": [
    "acc = accuracy_score(y_pred,y_test)\n",
    "precision = precision_score(y_pred,y_test, average='weighted')\n",
    "recall = recall_score(y_pred,y_test, average='weighted')\n",
    "f1 = f1_score(y_pred,y_test,average='weighted')"
   ]
  },
  {
   "cell_type": "code",
   "execution_count": 364,
   "metadata": {},
   "outputs": [
    {
     "data": {
      "text/plain": [
       "(0.2891748675246026,\n",
       " 0.3933474128762612,\n",
       " 0.2891748675246026,\n",
       " 0.32535759025265915)"
      ]
     },
     "execution_count": 364,
     "metadata": {},
     "output_type": "execute_result"
    }
   ],
   "source": [
    "acc,precision,recall,f1"
   ]
  },
  {
   "cell_type": "code",
   "execution_count": null,
   "metadata": {},
   "outputs": [],
   "source": []
  }
 ],
 "metadata": {
  "kernelspec": {
   "display_name": "Python 3",
   "language": "python",
   "name": "python3"
  },
  "language_info": {
   "codemirror_mode": {
    "name": "ipython",
    "version": 3
   },
   "file_extension": ".py",
   "mimetype": "text/x-python",
   "name": "python",
   "nbconvert_exporter": "python",
   "pygments_lexer": "ipython3",
   "version": "3.11.9"
  }
 },
 "nbformat": 4,
 "nbformat_minor": 2
}
